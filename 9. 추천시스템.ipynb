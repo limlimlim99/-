{
 "cells": [
  {
   "cell_type": "markdown",
   "id": "5b7d7a95-9bcc-497d-917e-181f497b41c4",
   "metadata": {},
   "source": [
    "# 1. 추천 시스템\n",
    "- 콘텐츠 기반 필터링(Content based filtering)\n",
    "- 협업 기반 필터링(Collaborative Filtering): 최급접 이웃필터링, 잠재요인 필터링"
   ]
  },
  {
   "cell_type": "markdown",
   "id": "bfb293d4-5d35-41ea-aaf5-0399571d90a7",
   "metadata": {},
   "source": [
    "# 2. 콘텐츠 기반 필터링(Content based filtering)\n",
    "- 사용자가 특정한 아이템을 매우 선호하는 겨웅, 그 아이템과 비슷한 콘텐츠를 가진 다른 아이템을 추천하는 방식\n",
    "- 사용자 선호 프로파일\n",
    "- 사용자가 선호하는 영화의 장르, 배우, 감독에 맞게 유사한 영화를 추천"
   ]
  },
  {
   "cell_type": "markdown",
   "id": "82004a32-47dd-4e72-9e05-00c4a0a667e2",
   "metadata": {},
   "source": [
    "# 3. 최근접 이웃 협업 필터링(메모리 협업)\n",
    "- 취향이 비슷한 사람들을 기반으로 추천(취향이 비슷한 친구에게 물어보기)\n",
    "- 사용자가 매긴 평점 정보, 상품 구매이력과 같이 사용자 행동양식을 기반으로 추천\n",
    "- 목표: 사용자-아이템 평점 메트릭스와 같은 축적된 사용자 행동 데이터를 기반으로 사용자가 아직 평가하지 않은 아이템을 예측평가 하는 것\n",
    "- 아직 안본 영화를 예측해서 취향에 맞게 추천해주기\n",
    "- 최근접이웃, 잠재요인 두 방식 모두 사용자-아이템 평점 행렬 데이터에만 의지해 추천\n",
    "- 사용자 기반보다는 아이템 기반 협업 필터링이 정확도가 높다."
   ]
  },
  {
   "cell_type": "markdown",
   "id": "eb42de80-ff3d-4466-a3be-e7543915dacf",
   "metadata": {},
   "source": [
    "## 메모리 협업필터링"
   ]
  },
  {
   "cell_type": "markdown",
   "id": "27dca099-dc07-490b-91c3-de9ecb60a7af",
   "metadata": {},
   "source": [
    "### 사용자 기반(User-User)\n",
    "- 당신과 비슷한 고객들이 다음 상품도 구매했습니다.\n",
    "- TOP-N: 사용자가 좋아하는 아이템을 추천\n",
    "- 특정 사용자와 타 사용자간의 유사도(similarity)를 측정한 뒤 가장 유사도가 높은 TOP-N 사용자를 추출해 그들이 선호하는 아이템을 추천"
   ]
  },
  {
   "cell_type": "markdown",
   "id": "4ef58531-ad66-4ec0-928e-91fa5288c6e2",
   "metadata": {},
   "source": [
    "### 아이템 기반(Item-Item)\n",
    "- 이 상품을 선택한 다른 고객들은 다음 상품도 구매했습니다.\n",
    "- 사용자들이 아이템을 좋아하는지/싫어하는지\n",
    "- 사용자 기반보다는 아이템 기반 협업 필터링이 정확도가 높다."
   ]
  },
  {
   "cell_type": "markdown",
   "id": "244dd051-24f8-4d75-b20b-349a0a1aa39e",
   "metadata": {},
   "source": [
    "# 4. 잠재요인 협업 필터링\n",
    "- 사용자-아이템 평점행렬 데이터 속에 숨어있는 '잠재요인'을 추출해 추천 예측\n",
    "\n",
    "- 대규모의 다차원행렬 SVD 같은 차원감소 기법으로 분해하는 과정에서 잠재요인을 추출\n",
    "- P.592-594\\\n",
    "원본-     사용자 - 아이템 평점 행렬: R\\\n",
    "매트릭스- 사용자 - 잠재 요인 행렬: P\\\n",
    "매트릭스- 잠재요인 - 아이템 행렬: Q.T\\\n",
    "내적 결과값 예측 => R = (P * QT)"
   ]
  },
  {
   "cell_type": "markdown",
   "id": "a4f1b97b-d1d5-4f9a-baae-08949e20658c",
   "metadata": {},
   "source": [
    "### 다차원 희소행렬\n",
    "- 1. 사용자-아이템 행렬을 저차원 밀집 행렬의 사용자-잠재요인 행렬\n",
    "- 2. 아이템-잠재요인 행렬의 전치(잠재요인-아이템 행렬)로 분해\n",
    "- 잠재요인 협력 필터링 알고리즘\n",
    "- : 분해한 두 행렬의 내적을 통해 새로운 예측 사용자-아이템 평점 행렬 데이터를 만들어 사용자가 아직 평점을 부여하지 않은 아이템에 대한 예측 평점을 생성\n",
    "- 사용자- 잠재 요인 행렬과 아이템-잠재요인 행렬의 전치행렬(잠재요인-아이템행렬)로 분해한 데이터 세트를 다시 내적의 곱으로 결합하면서 사용자가 예측하지 않은 아이템에 대한 평점을 도출"
   ]
  },
  {
   "cell_type": "markdown",
   "id": "d23453d9-81a9-4fc1-9833-22f9068969b2",
   "metadata": {},
   "source": [
    "### 행렬분해(Matrix Factorization)\n",
    "- 다차원 매트릭스를 저차원 매트릭스로 분해(SVD, NMF)\n",
    "- 사용자-K차원 잠재요인행렬P와 / K차원 잠재 요인-아이템행렬(Q.T)으로 분해\n",
    "- R은 N*M 차원으로 구성\n",
    "- P는 M*k\n",
    "- Q.T는 K*N\n",
    "- Q는 아이템-잠재요인 행렬\n",
    "- Q.T는 Q의 전치 행렬인 잠재요인-아이템 행렬\n",
    "- R = P * Q.T"
   ]
  },
  {
   "cell_type": "markdown",
   "id": "d9bf973b-ae8b-4137-ac4d-b3d5839154ba",
   "metadata": {},
   "source": [
    "### 경사하강법(SGD)을 이용한 행렬분해 "
   ]
  },
  {
   "cell_type": "code",
   "execution_count": 15,
   "id": "ee36b194-f5e1-4402-a60f-cadbe5668d81",
   "metadata": {},
   "outputs": [],
   "source": [
    "# p.599\n",
    "import numpy as np\n",
    "\n",
    "# 원본 행렬 R 생성, 분해 행렬 P와 Q초기화, 잠재 요인 차원 K는 3으로 설정\n",
    "R= np.array([[4, np.NaN, np.NaN, 2, np.NaN],\n",
    "            [np.NaN, 5, np.NaN, 3, 1],\n",
    "            [np.NaN, np.NaN, 3, 4, 4],\n",
    "            [5, 2, 1, 2, np.NaN]])\n",
    "num_users, num_items = R.shape\n",
    "K=3\n",
    "\n",
    "# P와 Q행렬의 크기를 지정하고 정규 분포를 가진 임의의 값으로 입력한다.\n",
    "np.random.seed(1)\n",
    "P = np.random.normal(scale=1./K, size=(num_users, K))\n",
    "Q= np.random.normal(scale=1./K, size=(num_items, K))"
   ]
  },
  {
   "cell_type": "code",
   "execution_count": 35,
   "id": "a6a4285c-6529-435b-9989-648dcd558d75",
   "metadata": {},
   "outputs": [],
   "source": [
    "# get_rmse()함수는 실제 R행렬의 널이 아닌 헹렬 값의 위치 인덱스를 추출해 \n",
    "# 이 인덱스에 있는 실제 R 행렬값과, \n",
    "# 분해된 P,Q를 이용해 다시 조합된 예측 행렬값의 RMSE값을 반환\n",
    "from sklearn.metrics import mean_squared_error\n",
    "\n",
    "def get_rmse(R, P, Q, non_zeros):\n",
    "    error = 0\n",
    "    # 두개의 분해된 행렬과 P, Q.t의 내적으로 예측 R행렬 생성\n",
    "    # np.dot은 행렬의 곱\n",
    "    full_pred_matrix = np.dot(P, Q.T)\n",
    "    \n",
    "   # 실제 R행렬에서 널이 아닌 값의 위치 인덱스 추출해 실제 R 행렬과 예측 행렬의 RMSE 추출\n",
    "    x_non_zero_ind = [non_zero[0] for non_zero in non_zeros]\n",
    "    y_non_zero_ind = [non_zero[1] for non_zero in non_zeros]\n",
    "    R_non_zeros = R[x_non_zero_ind, y_non_zero_ind]\n",
    "    full_pred_matrix_non_zeros = full_pred_matrix[x_non_zero_ind, y_non_zero_ind]\n",
    "      \n",
    "    mse = mean_squared_error(R_non_zeros, full_pred_matrix_non_zeros)\n",
    "    rmse = np.sqrt(mse)\n",
    "    \n",
    "    return rmse"
   ]
  },
  {
   "cell_type": "code",
   "execution_count": 39,
   "id": "77430065-52e3-40f9-b3ed-364446385bef",
   "metadata": {
    "collapsed": true,
    "jupyter": {
     "outputs_hidden": true
    },
    "tags": []
   },
   "outputs": [
    {
     "name": "stdout",
     "output_type": "stream",
     "text": [
      "### iteration step: 0 rmse:  0.03234370977609321\n",
      "### iteration step: 0 rmse:  0.03219884931383537\n",
      "### iteration step: 0 rmse:  0.03230337616581673\n",
      "### iteration step: 0 rmse:  0.03242090285045925\n",
      "### iteration step: 0 rmse:  0.032356736001100735\n",
      "### iteration step: 0 rmse:  0.03245721540968807\n",
      "### iteration step: 0 rmse:  0.032583139226079465\n",
      "### iteration step: 0 rmse:  0.03253308008561175\n",
      "### iteration step: 0 rmse:  0.032688299416348585\n",
      "### iteration step: 0 rmse:  0.03255862108226665\n",
      "### iteration step: 0 rmse:  0.032411791203371634\n",
      "### iteration step: 0 rmse:  0.03233996941538673\n",
      "### iteration step: 50 rmse:  0.032259595784146965\n",
      "### iteration step: 50 rmse:  0.03211545695412944\n",
      "### iteration step: 50 rmse:  0.03221981314584846\n",
      "### iteration step: 50 rmse:  0.032336655708839535\n",
      "### iteration step: 50 rmse:  0.032273145439031654\n",
      "### iteration step: 50 rmse:  0.03237387010452517\n",
      "### iteration step: 50 rmse:  0.03249875221883673\n",
      "### iteration step: 50 rmse:  0.03244806720217455\n",
      "### iteration step: 50 rmse:  0.03260304989290376\n",
      "### iteration step: 50 rmse:  0.03247318488940595\n",
      "### iteration step: 50 rmse:  0.03232651477657938\n",
      "### iteration step: 50 rmse:  0.032255998263065896\n",
      "### iteration step: 100 rmse:  0.03217697194169133\n",
      "### iteration step: 100 rmse:  0.03203354808871095\n",
      "### iteration step: 100 rmse:  0.032137732679012425\n",
      "### iteration step: 100 rmse:  0.0322539042868054\n",
      "### iteration step: 100 rmse:  0.032191047522056454\n",
      "### iteration step: 100 rmse:  0.03229201351836843\n",
      "### iteration step: 100 rmse:  0.032415858896305015\n",
      "### iteration step: 100 rmse:  0.03236455266525689\n",
      "### iteration step: 100 rmse:  0.03251930032539033\n",
      "### iteration step: 100 rmse:  0.03238925191176077\n",
      "### iteration step: 100 rmse:  0.032242744125553995\n",
      "### iteration step: 100 rmse:  0.032173516108205416\n",
      "### iteration step: 150 rmse:  0.032095802171023\n",
      "### iteration step: 150 rmse:  0.031953086620094134\n",
      "### iteration step: 150 rmse:  0.03205709876282029\n",
      "### iteration step: 150 rmse:  0.03217261220264242\n",
      "### iteration step: 150 rmse:  0.03211040588968711\n",
      "### iteration step: 150 rmse:  0.032211609669222895\n",
      "### iteration step: 150 rmse:  0.03233442304214478\n",
      "### iteration step: 150 rmse:  0.03228250019474339\n",
      "### iteration step: 150 rmse:  0.03243701439505927\n",
      "### iteration step: 150 rmse:  0.03230678566930392\n",
      "### iteration step: 150 rmse:  0.0321604424190793\n",
      "### iteration step: 150 rmse:  0.03209248684149193\n",
      "### iteration step: 200 rmse:  0.03201605105169909\n",
      "### iteration step: 200 rmse:  0.031874037186047206\n",
      "### iteration step: 200 rmse:  0.03197787610880943\n",
      "### iteration step: 200 rmse:  0.0320927438579477\n",
      "### iteration step: 200 rmse:  0.032031184930826496\n",
      "### iteration step: 200 rmse:  0.03213262322548542\n",
      "### iteration step: 200 rmse:  0.03225440913217714\n",
      "### iteration step: 200 rmse:  0.03220187424121265\n",
      "### iteration step: 200 rmse:  0.03235615654131135\n",
      "### iteration step: 200 rmse:  0.03222575047382049\n",
      "### iteration step: 200 rmse:  0.03207957371783331\n",
      "### iteration step: 200 rmse:  0.03201287503559145\n",
      "### iteration step: 250 rmse:  0.031937683976791455\n",
      "### iteration step: 250 rmse:  0.03179636528177991\n",
      "### iteration step: 250 rmse:  0.03190003027182755\n",
      "### iteration step: 250 rmse:  0.032014264541910926\n",
      "### iteration step: 250 rmse:  0.031953349902625924\n",
      "### iteration step: 250 rmse:  0.0320550196591715\n",
      "### iteration step: 250 rmse:  0.032175782475296316\n",
      "### iteration step: 250 rmse:  0.03212264011091098\n",
      "### iteration step: 250 rmse:  0.03227669207470738\n",
      "### iteration step: 250 rmse:  0.032146111530514686\n",
      "### iteration step: 250 rmse:  0.032000103040674834\n",
      "### iteration step: 250 rmse:  0.031934646091277975\n",
      "### iteration step: 300 rmse:  0.0318606672390479\n",
      "### iteration step: 300 rmse:  0.031720037325177156\n",
      "### iteration step: 300 rmse:  0.031823527719791474\n",
      "### iteration step: 300 rmse:  0.03193714048527589\n",
      "### iteration step: 300 rmse:  0.03187686699361221\n",
      "### iteration step: 300 rmse:  0.031978765331034\n",
      "### iteration step: 300 rmse:  0.032098509290460535\n",
      "### iteration step: 300 rmse:  0.032044764032686884\n",
      "### iteration step: 300 rmse:  0.032198587236549746\n",
      "### iteration step: 300 rmse:  0.03206783499029711\n",
      "### iteration step: 300 rmse:  0.03192199639440541\n",
      "### iteration step: 300 rmse:  0.031857766317288795\n",
      "### iteration step: 350 rmse:  0.031784968072267786\n",
      "### iteration step: 350 rmse:  0.03164502068551155\n",
      "### iteration step: 350 rmse:  0.03174833586529729\n",
      "### iteration step: 350 rmse:  0.031861338881978035\n",
      "### iteration step: 350 rmse:  0.03180170335104917\n",
      "### iteration step: 350 rmse:  0.03190382753201488\n",
      "### iteration step: 350 rmse:  0.032022556742720025\n",
      "### iteration step: 350 rmse:  0.0319682131877172\n",
      "### iteration step: 350 rmse:  0.03212180922415798\n",
      "### iteration step: 350 rmse:  0.031990887970380015\n",
      "### iteration step: 350 rmse:  0.031845220779994\n",
      "### iteration step: 350 rmse:  0.031782202967807295\n",
      "### iteration step: 400 rmse:  0.03171055466423004\n",
      "### iteration step: 400 rmse:  0.03157128368885284\n",
      "### iteration step: 400 rmse:  0.03167442307289484\n",
      "### iteration step: 400 rmse:  0.031786827890145\n",
      "### iteration step: 400 rmse:  0.03172782708547215\n",
      "### iteration step: 400 rmse:  0.031830174496816875\n",
      "### iteration step: 400 rmse:  0.03194789295314302\n",
      "### iteration step: 400 rmse:  0.031892955715524356\n",
      "### iteration step: 400 rmse:  0.032046326194245744\n",
      "### iteration step: 400 rmse:  0.03191523855464591\n",
      "### iteration step: 400 rmse:  0.031769744183772236\n",
      "### iteration step: 400 rmse:  0.0317079242530279\n",
      "### iteration step: 450 rmse:  0.03163739615178263\n",
      "### iteration step: 450 rmse:  0.03149879560881493\n",
      "### iteration step: 450 rmse:  0.0316017586510409\n",
      "### iteration step: 450 rmse:  0.03171357662011876\n",
      "### iteration step: 450 rmse:  0.03165520726085135\n",
      "### iteration step: 450 rmse:  0.03175777539987724\n",
      "### iteration step: 450 rmse:  0.031874486992307896\n",
      "### iteration step: 450 rmse:  0.031818960705077184\n",
      "### iteration step: 450 rmse:  0.03197210725250173\n",
      "### iteration step: 450 rmse:  0.03184085578128625\n",
      "### iteration step: 450 rmse:  0.03169553555921378\n",
      "### iteration step: 450 rmse:  0.031634899332827635\n",
      "### iteration step: 500 rmse:  0.03156546260492672\n",
      "### iteration step: 500 rmse:  0.03142752664823764\n",
      "### iteration step: 500 rmse:  0.031530312834571673\n",
      "### iteration step: 500 rmse:  0.0316415551144793\n",
      "### iteration step: 500 rmse:  0.031583813875875624\n",
      "### iteration step: 500 rmse:  0.03168660034039467\n",
      "### iteration step: 500 rmse:  0.0318023088636183\n",
      "### iteration step: 500 rmse:  0.03174619817668329\n",
      "### iteration step: 500 rmse:  0.03189912243464677\n",
      "### iteration step: 500 rmse:  0.03176770962259876\n",
      "### iteration step: 500 rmse:  0.03162256480298039\n",
      "### iteration step: 500 rmse:  0.031563098300021686\n",
      "### iteration step: 550 rmse:  0.031494725004339086\n",
      "### iteration step: 550 rmse:  0.03135744791547808\n",
      "### iteration step: 550 rmse:  0.03146005676151737\n",
      "### iteration step: 550 rmse:  0.031570734323354124\n",
      "### iteration step: 550 rmse:  0.031513617839960054\n",
      "### iteration step: 550 rmse:  0.03161662032076353\n",
      "### iteration step: 550 rmse:  0.031731329480541325\n",
      "### iteration step: 550 rmse:  0.03167463905840807\n",
      "### iteration step: 550 rmse:  0.03182734268243344\n",
      "### iteration step: 550 rmse:  0.03169577096016556\n",
      "### iteration step: 550 rmse:  0.031550802727691105\n",
      "### iteration step: 550 rmse:  0.03149249215742409\n",
      "### iteration step: 600 rmse:  0.03142515521517256\n",
      "### iteration step: 600 rmse:  0.0312885313976795\n",
      "### iteration step: 600 rmse:  0.031390962446723604\n",
      "### iteration step: 600 rmse:  0.03150108607711955\n",
      "### iteration step: 600 rmse:  0.03144459094630077\n",
      "### iteration step: 600 rmse:  0.031547807221212996\n",
      "### iteration step: 600 rmse:  0.031661520640387596\n",
      "### iteration step: 600 rmse:  0.03160425515941986\n",
      "### iteration step: 600 rmse:  0.03175673981681972\n",
      "### iteration step: 600 rmse:  0.031625011557483894\n",
      "### iteration step: 600 rmse:  0.031480221032995664\n",
      "### iteration step: 600 rmse:  0.0314230527914053\n",
      "### iteration step: 650 rmse:  0.03135672595898379\n",
      "### iteration step: 650 rmse:  0.03122074993257402\n",
      "### iteration step: 650 rmse:  0.031323002753900604\n",
      "### iteration step: 650 rmse:  0.03143258305790584\n",
      "### iteration step: 650 rmse:  0.031376705843511155\n",
      "### iteration step: 650 rmse:  0.031480133772489614\n",
      "### iteration step: 650 rmse:  0.031592854996362656\n",
      "### iteration step: 650 rmse:  0.031535019141843784\n",
      "### iteration step: 650 rmse:  0.03168728650979544\n",
      "### iteration step: 650 rmse:  0.03155540403142817\n",
      "### iteration step: 650 rmse:  0.03141079227601999\n",
      "### iteration step: 650 rmse:  0.031354752943711234\n",
      "### iteration step: 700 rmse:  0.03128941078491667\n",
      "### iteration step: 700 rmse:  0.03115407717977181\n",
      "### iteration step: 700 rmse:  0.03125615136708789\n",
      "### iteration step: 700 rmse:  0.03136519877074402\n",
      "### iteration step: 700 rmse:  0.031309936006768374\n",
      "### iteration step: 700 rmse:  0.03141357352770997\n",
      "### iteration step: 700 rmse:  0.03152530602893896\n",
      "### iteration step: 700 rmse:  0.03146690449208344\n",
      "### iteration step: 700 rmse:  0.031618956255759015\n",
      "### iteration step: 700 rmse:  0.031486921823377194\n",
      "### iteration step: 700 rmse:  0.03134248984181969\n",
      "### iteration step: 700 rmse:  0.03128756618261778\n",
      "### iteration step: 750 rmse:  0.031223184040897575\n",
      "### iteration step: 750 rmse:  0.031088487592186867\n",
      "### iteration step: 750 rmse:  0.031190382762211147\n",
      "### iteration step: 750 rmse:  0.03129890751495076\n",
      "### iteration step: 750 rmse:  0.031244255709117968\n",
      "### iteration step: 750 rmse:  0.03134810083415084\n",
      "### iteration step: 750 rmse:  0.03145884801726896\n",
      "### iteration step: 750 rmse:  0.03139988549226998\n",
      "### iteration step: 750 rmse:  0.031551723343065594\n",
      "### iteration step: 750 rmse:  0.03141953917058393\n",
      "### iteration step: 750 rmse:  0.03127528791429332\n",
      "### iteration step: 750 rmse:  0.03122146687414127\n",
      "### iteration step: 800 rmse:  0.031158020845268624\n",
      "### iteration step: 800 rmse:  0.031023956387962397\n",
      "### iteration step: 800 rmse:  0.03112567217911126\n",
      "### iteration step: 800 rmse:  0.03123368435606681\n",
      "### iteration step: 800 rmse:  0.031179639993283652\n",
      "### iteration step: 800 rmse:  0.03128369080540821\n",
      "### iteration step: 800 rmse:  0.031393456011034396\n",
      "### iteration step: 800 rmse:  0.03133393719220144\n",
      "### iteration step: 800 rmse:  0.03148556282608618\n",
      "### iteration step: 800 rmse:  0.03135323107810433\n",
      "### iteration step: 800 rmse:  0.03120916144779205\n",
      "### iteration step: 800 rmse:  0.031156430153712233\n",
      "### iteration step: 850 rmse:  0.031093897059134595\n",
      "### iteration step: 850 rmse:  0.030960459523131957\n",
      "### iteration step: 850 rmse:  0.031061995594289453\n",
      "### iteration step: 850 rmse:  0.031169505098567075\n",
      "### iteration step: 850 rmse:  0.03111606464422669\n",
      "### iteration step: 850 rmse:  0.03122031929421318\n",
      "### iteration step: 850 rmse:  0.031329105803002875\n",
      "### iteration step: 850 rmse:  0.03126903538201827\n",
      "### iteration step: 850 rmse:  0.03142045049801087\n",
      "### iteration step: 850 rmse:  0.03128797329149849\n",
      "### iteration step: 850 rmse:  0.031144086139588887\n",
      "### iteration step: 850 rmse:  0.031092431898577286\n",
      "### iteration step: 900 rmse:  0.03103078925956961\n",
      "### iteration step: 900 rmse:  0.03089797366514532\n",
      "### iteration step: 900 rmse:  0.030999329694504377\n",
      "### iteration step: 900 rmse:  0.031106346259449188\n",
      "### iteration step: 900 rmse:  0.031053506162568183\n",
      "### iteration step: 900 rmse:  0.031157962866056464\n",
      "### iteration step: 900 rmse:  0.03126577390242391\n",
      "### iteration step: 900 rmse:  0.031205156565733493\n",
      "### iteration step: 900 rmse:  0.03135636286450671\n",
      "### iteration step: 900 rmse:  0.031223742270406855\n",
      "### iteration step: 900 rmse:  0.03108003840327966\n",
      "### iteration step: 900 rmse:  0.03102944870106542\n",
      "### iteration step: 950 rmse:  0.03096867471377257\n",
      "### iteration step: 950 rmse:  0.030836476167330536\n",
      "### iteration step: 950 rmse:  0.030937651851297366\n",
      "### iteration step: 950 rmse:  0.031044185042764502\n",
      "### iteration step: 950 rmse:  0.030991941738953373\n",
      "### iteration step: 950 rmse:  0.03109659877371445\n",
      "### iteration step: 950 rmse:  0.031203437509355402\n",
      "### iteration step: 950 rmse:  0.031142277935697234\n",
      "### iteration step: 950 rmse:  0.03129327711830541\n",
      "### iteration step: 950 rmse:  0.03116051516306795\n",
      "### iteration step: 950 rmse:  0.03101699534316013\n",
      "### iteration step: 950 rmse:  0.030967457842800653\n"
     ]
    }
   ],
   "source": [
    "# SGD기반의 행렬분해 수행\n",
    "# R>0인 행 위치, 열위치, 값을 non_zeros 리스트에 저장\n",
    "non_zeros= [(i, j, R[i,j]) for i in range(num_users) for j in range(num_items) if R[i, j] >0]\n",
    "\n",
    "steps=1000\n",
    "learning_rate=0.01\n",
    "r_lambda=0.01\n",
    "\n",
    "# SDG기법으로 P와 Q매트릭스를 계속 업데이트\n",
    "for step in range(steps):\n",
    "    for i, j, r in non_zeros:\n",
    "        # 실제 값과 예측값의 차이인 오류 값 구함\n",
    "        eij= r-np.dot(P[i,:], Q[j,:] -r_lambda * P[i,:])\n",
    "        # Regularization을 반영한 SGD업데이트 공식 적용\n",
    "        P[i,:]= P[i,:] + learning_rate * (eij * Q[j, :] - r_lambda * P[i,:])\n",
    "        Q[j,:]= Q[j,:] + learning_rate * (eij * P[i, :] - r_lambda * Q[i,:])\n",
    "        \n",
    "        rmse= get_rmse(R, P, Q, non_zeros)\n",
    "        if (step % 50)==0:\n",
    "            print(\"### iteration step:\", step, \"rmse: \", rmse)"
   ]
  },
  {
   "cell_type": "code",
   "execution_count": 40,
   "id": "6847adab-051f-44b7-889c-be783f365430",
   "metadata": {},
   "outputs": [
    {
     "data": {
      "text/plain": [
       "array([[4.01 , 1.53 , 1.156, 2.014, 1.606],\n",
       "       [5.674, 5.032, 0.882, 3.039, 1.046],\n",
       "       [4.644, 0.471, 3.031, 4.036, 4.045],\n",
       "       [5.005, 2.029, 1.032, 2.019, 1.497]])"
      ]
     },
     "execution_count": 40,
     "metadata": {},
     "output_type": "execute_result"
    }
   ],
   "source": [
    "# 분해된 P와 Q함수를 P*Q.T로 예측행렬 만들어 출력\n",
    "pred_matrix= np.dot(P, Q.T)\n",
    "np.round(pred_matrix,3)"
   ]
  },
  {
   "cell_type": "markdown",
   "id": "4fab2d69-6ffc-4929-9d6f-f4be0915472c",
   "metadata": {},
   "source": [
    "# 5. 콘텐츠 기반의 필터링 실습 - TMDB5000영화데이터세트"
   ]
  },
  {
   "cell_type": "markdown",
   "id": "b6d37674-1020-4f38-823d-323bacd0aaf8",
   "metadata": {},
   "source": [
    "## 장르 속성을 이용한 영화 콘텐츠 기반 필터링"
   ]
  },
  {
   "cell_type": "code",
   "execution_count": 122,
   "id": "4b64f1f7-e8a2-42ae-bc9a-2dba5b25278e",
   "metadata": {
    "tags": []
   },
   "outputs": [
    {
     "name": "stdout",
     "output_type": "stream",
     "text": [
      "(4803, 20)\n"
     ]
    },
    {
     "data": {
      "text/html": [
       "<div>\n",
       "<style scoped>\n",
       "    .dataframe tbody tr th:only-of-type {\n",
       "        vertical-align: middle;\n",
       "    }\n",
       "\n",
       "    .dataframe tbody tr th {\n",
       "        vertical-align: top;\n",
       "    }\n",
       "\n",
       "    .dataframe thead th {\n",
       "        text-align: right;\n",
       "    }\n",
       "</style>\n",
       "<table border=\"1\" class=\"dataframe\">\n",
       "  <thead>\n",
       "    <tr style=\"text-align: right;\">\n",
       "      <th></th>\n",
       "      <th>budget</th>\n",
       "      <th>genres</th>\n",
       "      <th>homepage</th>\n",
       "      <th>id</th>\n",
       "      <th>keywords</th>\n",
       "      <th>original_language</th>\n",
       "      <th>original_title</th>\n",
       "      <th>overview</th>\n",
       "      <th>popularity</th>\n",
       "      <th>production_companies</th>\n",
       "      <th>production_countries</th>\n",
       "      <th>release_date</th>\n",
       "      <th>revenue</th>\n",
       "      <th>runtime</th>\n",
       "      <th>spoken_languages</th>\n",
       "      <th>status</th>\n",
       "      <th>tagline</th>\n",
       "      <th>title</th>\n",
       "      <th>vote_average</th>\n",
       "      <th>vote_count</th>\n",
       "    </tr>\n",
       "  </thead>\n",
       "  <tbody>\n",
       "    <tr>\n",
       "      <th>0</th>\n",
       "      <td>237000000</td>\n",
       "      <td>[{\"id\": 28, \"name\": \"Action\"}, {\"id\": 12, \"name\": \"Adventure\"}, {\"id\": 14, \"name\": \"Fantasy\"}, {...</td>\n",
       "      <td>http://www.avatarmovie.com/</td>\n",
       "      <td>19995</td>\n",
       "      <td>[{\"id\": 1463, \"name\": \"culture clash\"}, {\"id\": 2964, \"name\": \"future\"}, {\"id\": 3386, \"name\": \"sp...</td>\n",
       "      <td>en</td>\n",
       "      <td>Avatar</td>\n",
       "      <td>In the 22nd century, a paraplegic Marine is dispatched to the moon Pandora on a unique mission, ...</td>\n",
       "      <td>150.437577</td>\n",
       "      <td>[{\"name\": \"Ingenious Film Partners\", \"id\": 289}, {\"name\": \"Twentieth Century Fox Film Corporatio...</td>\n",
       "      <td>[{\"iso_3166_1\": \"US\", \"name\": \"United States of America\"}, {\"iso_3166_1\": \"GB\", \"name\": \"United ...</td>\n",
       "      <td>2009-12-10</td>\n",
       "      <td>2787965087</td>\n",
       "      <td>162.0</td>\n",
       "      <td>[{\"iso_639_1\": \"en\", \"name\": \"English\"}, {\"iso_639_1\": \"es\", \"name\": \"Espa\\u00f1ol\"}]</td>\n",
       "      <td>Released</td>\n",
       "      <td>Enter the World of Pandora.</td>\n",
       "      <td>Avatar</td>\n",
       "      <td>7.2</td>\n",
       "      <td>11800</td>\n",
       "    </tr>\n",
       "  </tbody>\n",
       "</table>\n",
       "</div>"
      ],
      "text/plain": [
       "      budget  \\\n",
       "0  237000000   \n",
       "\n",
       "                                                                                                genres  \\\n",
       "0  [{\"id\": 28, \"name\": \"Action\"}, {\"id\": 12, \"name\": \"Adventure\"}, {\"id\": 14, \"name\": \"Fantasy\"}, {...   \n",
       "\n",
       "                      homepage     id  \\\n",
       "0  http://www.avatarmovie.com/  19995   \n",
       "\n",
       "                                                                                              keywords  \\\n",
       "0  [{\"id\": 1463, \"name\": \"culture clash\"}, {\"id\": 2964, \"name\": \"future\"}, {\"id\": 3386, \"name\": \"sp...   \n",
       "\n",
       "  original_language original_title  \\\n",
       "0                en         Avatar   \n",
       "\n",
       "                                                                                              overview  \\\n",
       "0  In the 22nd century, a paraplegic Marine is dispatched to the moon Pandora on a unique mission, ...   \n",
       "\n",
       "   popularity  \\\n",
       "0  150.437577   \n",
       "\n",
       "                                                                                  production_companies  \\\n",
       "0  [{\"name\": \"Ingenious Film Partners\", \"id\": 289}, {\"name\": \"Twentieth Century Fox Film Corporatio...   \n",
       "\n",
       "                                                                                  production_countries  \\\n",
       "0  [{\"iso_3166_1\": \"US\", \"name\": \"United States of America\"}, {\"iso_3166_1\": \"GB\", \"name\": \"United ...   \n",
       "\n",
       "  release_date     revenue  runtime  \\\n",
       "0   2009-12-10  2787965087    162.0   \n",
       "\n",
       "                                                                        spoken_languages  \\\n",
       "0  [{\"iso_639_1\": \"en\", \"name\": \"English\"}, {\"iso_639_1\": \"es\", \"name\": \"Espa\\u00f1ol\"}]   \n",
       "\n",
       "     status                      tagline   title  vote_average  vote_count  \n",
       "0  Released  Enter the World of Pandora.  Avatar           7.2       11800  "
      ]
     },
     "execution_count": 122,
     "metadata": {},
     "output_type": "execute_result"
    }
   ],
   "source": [
    "# p.603\n",
    "import pandas as pd\n",
    "import numpy as np\n",
    "import warnings; warnings.filterwarnings('ignore')\n",
    "\n",
    "movies= pd.read_csv(\"C:/Users/user/머신러닝/data/tmdb_5000_movies.csv\")\n",
    "print(movies.shape)\n",
    "movies.head(1)"
   ]
  },
  {
   "cell_type": "code",
   "execution_count": 123,
   "id": "6704d659-950e-4f2c-8115-d33e14dc0904",
   "metadata": {
    "tags": []
   },
   "outputs": [
    {
     "name": "stdout",
     "output_type": "stream",
     "text": [
      "<class 'pandas.core.frame.DataFrame'>\n",
      "RangeIndex: 4803 entries, 0 to 4802\n",
      "Data columns (total 20 columns):\n",
      " #   Column                Non-Null Count  Dtype  \n",
      "---  ------                --------------  -----  \n",
      " 0   budget                4803 non-null   int64  \n",
      " 1   genres                4803 non-null   object \n",
      " 2   homepage              1712 non-null   object \n",
      " 3   id                    4803 non-null   int64  \n",
      " 4   keywords              4803 non-null   object \n",
      " 5   original_language     4803 non-null   object \n",
      " 6   original_title        4803 non-null   object \n",
      " 7   overview              4800 non-null   object \n",
      " 8   popularity            4803 non-null   float64\n",
      " 9   production_companies  4803 non-null   object \n",
      " 10  production_countries  4803 non-null   object \n",
      " 11  release_date          4802 non-null   object \n",
      " 12  revenue               4803 non-null   int64  \n",
      " 13  runtime               4801 non-null   float64\n",
      " 14  spoken_languages      4803 non-null   object \n",
      " 15  status                4803 non-null   object \n",
      " 16  tagline               3959 non-null   object \n",
      " 17  title                 4803 non-null   object \n",
      " 18  vote_average          4803 non-null   float64\n",
      " 19  vote_count            4803 non-null   int64  \n",
      "dtypes: float64(3), int64(4), object(13)\n",
      "memory usage: 750.6+ KB\n"
     ]
    }
   ],
   "source": [
    "movies.info()"
   ]
  },
  {
   "cell_type": "code",
   "execution_count": 124,
   "id": "2fdbdd13-d38b-4215-8558-321d2b1fcc7f",
   "metadata": {
    "tags": []
   },
   "outputs": [
    {
     "data": {
      "text/html": [
       "<div>\n",
       "<style scoped>\n",
       "    .dataframe tbody tr th:only-of-type {\n",
       "        vertical-align: middle;\n",
       "    }\n",
       "\n",
       "    .dataframe tbody tr th {\n",
       "        vertical-align: top;\n",
       "    }\n",
       "\n",
       "    .dataframe thead th {\n",
       "        text-align: right;\n",
       "    }\n",
       "</style>\n",
       "<table border=\"1\" class=\"dataframe\">\n",
       "  <thead>\n",
       "    <tr style=\"text-align: right;\">\n",
       "      <th></th>\n",
       "      <th>id</th>\n",
       "      <th>title</th>\n",
       "      <th>genres</th>\n",
       "      <th>vote_average</th>\n",
       "      <th>vote_count</th>\n",
       "      <th>popularity</th>\n",
       "      <th>keywords</th>\n",
       "      <th>overview</th>\n",
       "    </tr>\n",
       "  </thead>\n",
       "  <tbody>\n",
       "    <tr>\n",
       "      <th>0</th>\n",
       "      <td>19995</td>\n",
       "      <td>Avatar</td>\n",
       "      <td>[{\"id\": 28, \"name\": \"Action\"}, {\"id\": 12, \"name\": \"Adventure\"}, {\"id\": 14, \"name\": \"Fantasy\"}, {...</td>\n",
       "      <td>7.2</td>\n",
       "      <td>11800</td>\n",
       "      <td>150.437577</td>\n",
       "      <td>[{\"id\": 1463, \"name\": \"culture clash\"}, {\"id\": 2964, \"name\": \"future\"}, {\"id\": 3386, \"name\": \"sp...</td>\n",
       "      <td>In the 22nd century, a paraplegic Marine is dispatched to the moon Pandora on a unique mission, ...</td>\n",
       "    </tr>\n",
       "    <tr>\n",
       "      <th>1</th>\n",
       "      <td>285</td>\n",
       "      <td>Pirates of the Caribbean: At World's End</td>\n",
       "      <td>[{\"id\": 12, \"name\": \"Adventure\"}, {\"id\": 14, \"name\": \"Fantasy\"}, {\"id\": 28, \"name\": \"Action\"}]</td>\n",
       "      <td>6.9</td>\n",
       "      <td>4500</td>\n",
       "      <td>139.082615</td>\n",
       "      <td>[{\"id\": 270, \"name\": \"ocean\"}, {\"id\": 726, \"name\": \"drug abuse\"}, {\"id\": 911, \"name\": \"exotic is...</td>\n",
       "      <td>Captain Barbossa, long believed to be dead, has come back to life and is headed to the edge of t...</td>\n",
       "    </tr>\n",
       "  </tbody>\n",
       "</table>\n",
       "</div>"
      ],
      "text/plain": [
       "      id                                     title  \\\n",
       "0  19995                                    Avatar   \n",
       "1    285  Pirates of the Caribbean: At World's End   \n",
       "\n",
       "                                                                                                genres  \\\n",
       "0  [{\"id\": 28, \"name\": \"Action\"}, {\"id\": 12, \"name\": \"Adventure\"}, {\"id\": 14, \"name\": \"Fantasy\"}, {...   \n",
       "1       [{\"id\": 12, \"name\": \"Adventure\"}, {\"id\": 14, \"name\": \"Fantasy\"}, {\"id\": 28, \"name\": \"Action\"}]   \n",
       "\n",
       "   vote_average  vote_count  popularity  \\\n",
       "0           7.2       11800  150.437577   \n",
       "1           6.9        4500  139.082615   \n",
       "\n",
       "                                                                                              keywords  \\\n",
       "0  [{\"id\": 1463, \"name\": \"culture clash\"}, {\"id\": 2964, \"name\": \"future\"}, {\"id\": 3386, \"name\": \"sp...   \n",
       "1  [{\"id\": 270, \"name\": \"ocean\"}, {\"id\": 726, \"name\": \"drug abuse\"}, {\"id\": 911, \"name\": \"exotic is...   \n",
       "\n",
       "                                                                                              overview  \n",
       "0  In the 22nd century, a paraplegic Marine is dispatched to the moon Pandora on a unique mission, ...  \n",
       "1  Captain Barbossa, long believed to be dead, has come back to life and is headed to the edge of t...  "
      ]
     },
     "execution_count": 124,
     "metadata": {},
     "output_type": "execute_result"
    }
   ],
   "source": [
    "# 주요칼럼을 추출해 데이터프레임으로 변환\n",
    "# 방법1\n",
    "movies_df=movies.iloc[:, [3,17,1,18,19,8,4,7]]\n",
    "movies_df[:2]"
   ]
  },
  {
   "cell_type": "code",
   "execution_count": 125,
   "id": "6bbf0333-b934-48d1-9735-ebbc71d366c9",
   "metadata": {},
   "outputs": [],
   "source": [
    "# 방법2\n",
    "movies_df=movies[['id', 'title','genres', 'vote_average', 'vote_count', 'popularity', 'keywords', 'overview']]"
   ]
  },
  {
   "cell_type": "code",
   "execution_count": 126,
   "id": "be567a80-6720-4e30-91af-9824ce0e33b4",
   "metadata": {},
   "outputs": [
    {
     "data": {
      "text/html": [
       "<div>\n",
       "<style scoped>\n",
       "    .dataframe tbody tr th:only-of-type {\n",
       "        vertical-align: middle;\n",
       "    }\n",
       "\n",
       "    .dataframe tbody tr th {\n",
       "        vertical-align: top;\n",
       "    }\n",
       "\n",
       "    .dataframe thead th {\n",
       "        text-align: right;\n",
       "    }\n",
       "</style>\n",
       "<table border=\"1\" class=\"dataframe\">\n",
       "  <thead>\n",
       "    <tr style=\"text-align: right;\">\n",
       "      <th></th>\n",
       "      <th>genres</th>\n",
       "      <th>keywords</th>\n",
       "    </tr>\n",
       "  </thead>\n",
       "  <tbody>\n",
       "    <tr>\n",
       "      <th>0</th>\n",
       "      <td>[{\"id\": 28, \"name\": \"Action\"}, {\"id\": 12, \"name\": \"Adventure\"}, {\"id\": 14, \"name\": \"Fantasy\"}, {...</td>\n",
       "      <td>[{\"id\": 1463, \"name\": \"culture clash\"}, {\"id\": 2964, \"name\": \"future\"}, {\"id\": 3386, \"name\": \"sp...</td>\n",
       "    </tr>\n",
       "  </tbody>\n",
       "</table>\n",
       "</div>"
      ],
      "text/plain": [
       "                                                                                                genres  \\\n",
       "0  [{\"id\": 28, \"name\": \"Action\"}, {\"id\": 12, \"name\": \"Adventure\"}, {\"id\": 14, \"name\": \"Fantasy\"}, {...   \n",
       "\n",
       "                                                                                              keywords  \n",
       "0  [{\"id\": 1463, \"name\": \"culture clash\"}, {\"id\": 2964, \"name\": \"future\"}, {\"id\": 3386, \"name\": \"sp...  "
      ]
     },
     "execution_count": 126,
     "metadata": {},
     "output_type": "execute_result"
    }
   ],
   "source": [
    "# df으로 만들어 질 떄는 단순히 문자열 형태로 로딩되므로 \n",
    "#이 칼럼은 가공하지 않고는 필요한 정보를 추출할 수가 없다.\n",
    "\n",
    "pd.set_option('max_colwidth', 100)\n",
    "movies_df[['genres', 'keywords']][:1]"
   ]
  },
  {
   "cell_type": "code",
   "execution_count": 127,
   "id": "e593383d-5502-43a8-919c-cd59cdd36f2b",
   "metadata": {},
   "outputs": [
    {
     "data": {
      "text/html": [
       "<div>\n",
       "<style scoped>\n",
       "    .dataframe tbody tr th:only-of-type {\n",
       "        vertical-align: middle;\n",
       "    }\n",
       "\n",
       "    .dataframe tbody tr th {\n",
       "        vertical-align: top;\n",
       "    }\n",
       "\n",
       "    .dataframe thead th {\n",
       "        text-align: right;\n",
       "    }\n",
       "</style>\n",
       "<table border=\"1\" class=\"dataframe\">\n",
       "  <thead>\n",
       "    <tr style=\"text-align: right;\">\n",
       "      <th></th>\n",
       "      <th>genres</th>\n",
       "      <th>keywords</th>\n",
       "    </tr>\n",
       "  </thead>\n",
       "  <tbody>\n",
       "    <tr>\n",
       "      <th>0</th>\n",
       "      <td>[{\"id\": 28, \"name\": \"Action\"}, {\"id\": 12, \"name\": \"Adventure\"}, {\"id\": 14, \"name\": \"Fantasy\"}, {...</td>\n",
       "      <td>[{\"id\": 1463, \"name\": \"culture clash\"}, {\"id\": 2964, \"name\": \"future\"}, {\"id\": 3386, \"name\": \"sp...</td>\n",
       "    </tr>\n",
       "  </tbody>\n",
       "</table>\n",
       "</div>"
      ],
      "text/plain": [
       "                                                                                                genres  \\\n",
       "0  [{\"id\": 28, \"name\": \"Action\"}, {\"id\": 12, \"name\": \"Adventure\"}, {\"id\": 14, \"name\": \"Fantasy\"}, {...   \n",
       "\n",
       "                                                                                              keywords  \n",
       "0  [{\"id\": 1463, \"name\": \"culture clash\"}, {\"id\": 2964, \"name\": \"future\"}, {\"id\": 3386, \"name\": \"sp...  "
      ]
     },
     "execution_count": 127,
     "metadata": {},
     "output_type": "execute_result"
    }
   ],
   "source": [
    "# 개별 장르 명칭은 딕셔너리 key인 'name'으로 추출\n",
    "pd.set_option('max_colwidth',100)\n",
    "movies_df[['genres', 'keywords']][:1]"
   ]
  },
  {
   "cell_type": "code",
   "execution_count": 128,
   "id": "27074985-42a4-4ea9-9105-5f83477c8528",
   "metadata": {
    "tags": []
   },
   "outputs": [],
   "source": [
    "# 문자열을 객체로 변환(리스트)\n",
    "from ast import literal_eval\n",
    "movies_df['genres']= movies_df['genres'].apply(literal_eval)\n",
    "movies_df['keywords']= movies_df['keywords'].apply(literal_eval)\n",
    "# 이제 genres 칼럼은 문자열이 아니라 실제 리스트 내부에 여러 장르 딕셔너리로 구성된 객체를 가진다."
   ]
  },
  {
   "cell_type": "code",
   "execution_count": 129,
   "id": "af067521-6949-4156-ab80-76e0f168d411",
   "metadata": {},
   "outputs": [
    {
     "data": {
      "text/html": [
       "<div>\n",
       "<style scoped>\n",
       "    .dataframe tbody tr th:only-of-type {\n",
       "        vertical-align: middle;\n",
       "    }\n",
       "\n",
       "    .dataframe tbody tr th {\n",
       "        vertical-align: top;\n",
       "    }\n",
       "\n",
       "    .dataframe thead th {\n",
       "        text-align: right;\n",
       "    }\n",
       "</style>\n",
       "<table border=\"1\" class=\"dataframe\">\n",
       "  <thead>\n",
       "    <tr style=\"text-align: right;\">\n",
       "      <th></th>\n",
       "      <th>genres</th>\n",
       "      <th>keywords</th>\n",
       "    </tr>\n",
       "  </thead>\n",
       "  <tbody>\n",
       "    <tr>\n",
       "      <th>0</th>\n",
       "      <td>[Action, Adventure, Fantasy, Science Fiction]</td>\n",
       "      <td>[culture clash, future, space war, space colony, society, space travel, futuristic, romance, spa...</td>\n",
       "    </tr>\n",
       "  </tbody>\n",
       "</table>\n",
       "</div>"
      ],
      "text/plain": [
       "                                          genres  \\\n",
       "0  [Action, Adventure, Fantasy, Science Fiction]   \n",
       "\n",
       "                                                                                              keywords  \n",
       "0  [culture clash, future, space war, space colony, society, space travel, futuristic, romance, spa...  "
      ]
     },
     "execution_count": 129,
     "metadata": {},
     "output_type": "execute_result"
    }
   ],
   "source": [
    "# genres칼럼은 문자열이 아니라 실제 리스트 내부에 여러 장르로 구성된 객체를 가짐\n",
    "movies_df['genres']=movies_df['genres'].apply(lambda x: [y['name'] for y in x])\n",
    "movies_df['keywords']=movies_df['keywords'].apply(lambda x: [y['name'] for y in x])\n",
    "movies_df[['genres', 'keywords']][:1]"
   ]
  },
  {
   "cell_type": "markdown",
   "id": "cb873cb2-98a8-4bb9-9485-b810db1a19b9",
   "metadata": {},
   "source": [
    "### 장르 콘텐츠 유사도 측정 CountVectorizer변환\n",
    "- genres칼럼은 여러개의 개별 장르가 리스트로 구성\n",
    "- 장르가 list로 되어있다면 어떻게 장르별 유사도를 측정할까?\n",
    "- genres를 문자열로 변경 한 뒤 CountVectorizer로 피처 벡터화한 행렬 데이터 값을 코사인 유사도로 비교"
   ]
  },
  {
   "cell_type": "code",
   "execution_count": 131,
   "id": "c1cf4b50-3fd1-4f1a-bb2a-79aae5ccb727",
   "metadata": {},
   "outputs": [
    {
     "data": {
      "text/plain": [
       "(4803, 276)"
      ]
     },
     "execution_count": 131,
     "metadata": {},
     "output_type": "execute_result"
    }
   ],
   "source": [
    "# 문자열로 변환\n",
    "from sklearn.feature_extraction.text import CountVectorizer\n",
    "\n",
    "#CountVectorizer를 적용하기 위해 공백문자로 word단위가 구분되는 문자열 변환\n",
    "movies_df['genres_literal']=movies_df['genres'].apply(lambda x : (' ').join(x))\n",
    "count_vect= CountVectorizer(min_df=0, ngram_range=(1,2))\n",
    "genre_mat=count_vect.fit_transform(movies_df['genres_literal'])\n",
    "genre_mat.shape\n",
    "\n",
    "\n",
    "# CountVectorizer로 변환해 4803개의 레코드, 276개의 개별 단어 피처로 구성된 피처 벡터 행렬이 만들어짐"
   ]
  },
  {
   "cell_type": "markdown",
   "id": "1cb584c9-9072-47d5-bc2d-1203d6dd199e",
   "metadata": {},
   "source": [
    "### 코사인유사도 계산 cosine_similarity"
   ]
  },
  {
   "cell_type": "code",
   "execution_count": 133,
   "id": "42de3075-8dd2-4e77-989c-c2692cd937c5",
   "metadata": {},
   "outputs": [
    {
     "name": "stdout",
     "output_type": "stream",
     "text": [
      "(4803, 4803)\n",
      "[[1.         0.59628479 0.4472136  ... 0.         0.         0.        ]\n",
      " [0.59628479 1.         0.4        ... 0.         0.         0.        ]]\n"
     ]
    }
   ],
   "source": [
    "from sklearn.metrics.pairwise import cosine_similarity\n",
    "\n",
    "genre_sim = cosine_similarity(genre_mat, genre_mat)\n",
    "print(genre_sim.shape)\n",
    "print(genre_sim[:2])"
   ]
  },
  {
   "cell_type": "markdown",
   "id": "8d26afd7-ed9f-4cc8-95c9-af4aef43febd",
   "metadata": {},
   "source": [
    "### genre_sim"
   ]
  },
  {
   "cell_type": "code",
   "execution_count": 173,
   "id": "d93f07da-848b-437d-a0e7-0333602b59e8",
   "metadata": {},
   "outputs": [
    {
     "data": {
      "text/plain": [
       "array([[   0, 3494,  813, ..., 3038, 3037, 2401]], dtype=int64)"
      ]
     },
     "execution_count": 173,
     "metadata": {},
     "output_type": "execute_result"
    }
   ],
   "source": [
    "genre_sim_sorted_ind=genre_sim.argsort()[:,::-1]\n",
    "genre_sim_sorted_ind[:1]"
   ]
  },
  {
   "cell_type": "code",
   "execution_count": 174,
   "id": "e3e4e6bc-d504-40d7-818e-d224b8d5715b",
   "metadata": {},
   "outputs": [
    {
     "data": {
      "text/plain": [
       "array([[   0, 3494,  813, ..., 3038, 3037, 2401],\n",
       "       [ 262,    1,  129, ..., 3069, 3067, 2401],\n",
       "       [   2, 1740, 1542, ..., 3000, 2999, 2401],\n",
       "       ...,\n",
       "       [4800, 3809, 1895, ..., 2229, 2230,    0],\n",
       "       [4802, 1594, 1596, ..., 3204, 3205,    0],\n",
       "       [4802, 4710, 4521, ..., 3140, 3141,    0]], dtype=int64)"
      ]
     },
     "execution_count": 174,
     "metadata": {},
     "output_type": "execute_result"
    }
   ],
   "source": [
    "genre_sim_sorted_ind"
   ]
  },
  {
   "cell_type": "markdown",
   "id": "17d59192-63fb-4c9f-b73d-c90d9b50dfb4",
   "metadata": {},
   "source": [
    "### 장르 콘텐츠 필터링을 이용한 영화 추천"
   ]
  },
  {
   "cell_type": "code",
   "execution_count": 143,
   "id": "66cd2345-97db-41d3-bb22-3f3f03261198",
   "metadata": {},
   "outputs": [],
   "source": [
    "def find_sim_movie(df, sorted_ind, title_name, top_n=10):\n",
    "    \n",
    "    # 인자로 입력된 movies_df DataFrame에서 'title' 컬럼이 입력된 title_name 값인 DataFrame추출\n",
    "    title_movie = df[df['title'] == title_name]\n",
    "    \n",
    "    # title_named을 가진 DataFrame의 index 객체를 ndarray로 반환하고 \n",
    "    # sorted_ind 인자로 입력된 genre_sim_sorted_ind 객체에서 유사도 순으로 top_n 개의 index 추출\n",
    "    title_index = title_movie.index.values\n",
    "    similar_indexes = sorted_ind[title_index, :(top_n)]\n",
    "    \n",
    "    # 추출된 top_n index들 출력. top_n index는 2차원 데이터 임. \n",
    "    #dataframe에서 index로 사용하기 위해서 1차원 array로 변경\n",
    "    print(similar_indexes)\n",
    "    similar_indexes = similar_indexes.reshape(-1)\n",
    "    \n",
    "    return df.iloc[similar_indexes] "
   ]
  },
  {
   "cell_type": "code",
   "execution_count": 144,
   "id": "1d30940b-14e5-419a-a54f-76432847e40b",
   "metadata": {
    "tags": []
   },
   "outputs": [
    {
     "name": "stdout",
     "output_type": "stream",
     "text": [
      "[[2731 1243 3636 1946 2640 4065 1847 4217  883 3866]]\n"
     ]
    },
    {
     "data": {
      "text/html": [
       "<div>\n",
       "<style scoped>\n",
       "    .dataframe tbody tr th:only-of-type {\n",
       "        vertical-align: middle;\n",
       "    }\n",
       "\n",
       "    .dataframe tbody tr th {\n",
       "        vertical-align: top;\n",
       "    }\n",
       "\n",
       "    .dataframe thead th {\n",
       "        text-align: right;\n",
       "    }\n",
       "</style>\n",
       "<table border=\"1\" class=\"dataframe\">\n",
       "  <thead>\n",
       "    <tr style=\"text-align: right;\">\n",
       "      <th></th>\n",
       "      <th>title</th>\n",
       "      <th>vote_average</th>\n",
       "    </tr>\n",
       "  </thead>\n",
       "  <tbody>\n",
       "    <tr>\n",
       "      <th>2731</th>\n",
       "      <td>The Godfather: Part II</td>\n",
       "      <td>8.3</td>\n",
       "    </tr>\n",
       "    <tr>\n",
       "      <th>1243</th>\n",
       "      <td>Mean Streets</td>\n",
       "      <td>7.2</td>\n",
       "    </tr>\n",
       "    <tr>\n",
       "      <th>3636</th>\n",
       "      <td>Light Sleeper</td>\n",
       "      <td>5.7</td>\n",
       "    </tr>\n",
       "    <tr>\n",
       "      <th>1946</th>\n",
       "      <td>The Bad Lieutenant: Port of Call - New Orleans</td>\n",
       "      <td>6.0</td>\n",
       "    </tr>\n",
       "    <tr>\n",
       "      <th>2640</th>\n",
       "      <td>Things to Do in Denver When You're Dead</td>\n",
       "      <td>6.7</td>\n",
       "    </tr>\n",
       "    <tr>\n",
       "      <th>4065</th>\n",
       "      <td>Mi America</td>\n",
       "      <td>0.0</td>\n",
       "    </tr>\n",
       "    <tr>\n",
       "      <th>1847</th>\n",
       "      <td>GoodFellas</td>\n",
       "      <td>8.2</td>\n",
       "    </tr>\n",
       "    <tr>\n",
       "      <th>4217</th>\n",
       "      <td>Kids</td>\n",
       "      <td>6.8</td>\n",
       "    </tr>\n",
       "    <tr>\n",
       "      <th>883</th>\n",
       "      <td>Catch Me If You Can</td>\n",
       "      <td>7.7</td>\n",
       "    </tr>\n",
       "    <tr>\n",
       "      <th>3866</th>\n",
       "      <td>City of God</td>\n",
       "      <td>8.1</td>\n",
       "    </tr>\n",
       "  </tbody>\n",
       "</table>\n",
       "</div>"
      ],
      "text/plain": [
       "                                               title  vote_average\n",
       "2731                          The Godfather: Part II           8.3\n",
       "1243                                    Mean Streets           7.2\n",
       "3636                                   Light Sleeper           5.7\n",
       "1946  The Bad Lieutenant: Port of Call - New Orleans           6.0\n",
       "2640         Things to Do in Denver When You're Dead           6.7\n",
       "4065                                      Mi America           0.0\n",
       "1847                                      GoodFellas           8.2\n",
       "4217                                            Kids           6.8\n",
       "883                              Catch Me If You Can           7.7\n",
       "3866                                     City of God           8.1"
      ]
     },
     "execution_count": 144,
     "metadata": {},
     "output_type": "execute_result"
    }
   ],
   "source": [
    "# 상위 10개 장르별 추천 영화\n",
    "similar_movies= find_sim_movie(movies_df, genre_sim_sorted, 'The Godfather', 10)\n",
    "similar_movies[['title', 'vote_average']]"
   ]
  },
  {
   "cell_type": "markdown",
   "id": "3f1f083c-615c-4a4f-80db-bdc3420d168e",
   "metadata": {},
   "source": [
    "### vote_average\n",
    "- 주의: 0-10점 만점의 점수로 돼 있음\n",
    "- 여러관객이 평가한 평점을 평균한것임\n",
    "- 왜곡이 있을 수 있음"
   ]
  },
  {
   "cell_type": "code",
   "execution_count": 147,
   "id": "522fd593-0e21-4721-a304-e760577cf9c1",
   "metadata": {},
   "outputs": [
    {
     "data": {
      "text/html": [
       "<div>\n",
       "<style scoped>\n",
       "    .dataframe tbody tr th:only-of-type {\n",
       "        vertical-align: middle;\n",
       "    }\n",
       "\n",
       "    .dataframe tbody tr th {\n",
       "        vertical-align: top;\n",
       "    }\n",
       "\n",
       "    .dataframe thead th {\n",
       "        text-align: right;\n",
       "    }\n",
       "</style>\n",
       "<table border=\"1\" class=\"dataframe\">\n",
       "  <thead>\n",
       "    <tr style=\"text-align: right;\">\n",
       "      <th></th>\n",
       "      <th>title</th>\n",
       "      <th>vote_average</th>\n",
       "      <th>vote_count</th>\n",
       "    </tr>\n",
       "  </thead>\n",
       "  <tbody>\n",
       "    <tr>\n",
       "      <th>3519</th>\n",
       "      <td>Stiff Upper Lips</td>\n",
       "      <td>10.0</td>\n",
       "      <td>1</td>\n",
       "    </tr>\n",
       "    <tr>\n",
       "      <th>4247</th>\n",
       "      <td>Me You and Five Bucks</td>\n",
       "      <td>10.0</td>\n",
       "      <td>2</td>\n",
       "    </tr>\n",
       "    <tr>\n",
       "      <th>4045</th>\n",
       "      <td>Dancer, Texas Pop. 81</td>\n",
       "      <td>10.0</td>\n",
       "      <td>1</td>\n",
       "    </tr>\n",
       "    <tr>\n",
       "      <th>4662</th>\n",
       "      <td>Little Big Top</td>\n",
       "      <td>10.0</td>\n",
       "      <td>1</td>\n",
       "    </tr>\n",
       "    <tr>\n",
       "      <th>3992</th>\n",
       "      <td>Sardaarji</td>\n",
       "      <td>9.5</td>\n",
       "      <td>2</td>\n",
       "    </tr>\n",
       "    <tr>\n",
       "      <th>2386</th>\n",
       "      <td>One Man's Hero</td>\n",
       "      <td>9.3</td>\n",
       "      <td>2</td>\n",
       "    </tr>\n",
       "    <tr>\n",
       "      <th>2970</th>\n",
       "      <td>There Goes My Baby</td>\n",
       "      <td>8.5</td>\n",
       "      <td>2</td>\n",
       "    </tr>\n",
       "    <tr>\n",
       "      <th>1881</th>\n",
       "      <td>The Shawshank Redemption</td>\n",
       "      <td>8.5</td>\n",
       "      <td>8205</td>\n",
       "    </tr>\n",
       "    <tr>\n",
       "      <th>2796</th>\n",
       "      <td>The Prisoner of Zenda</td>\n",
       "      <td>8.4</td>\n",
       "      <td>11</td>\n",
       "    </tr>\n",
       "    <tr>\n",
       "      <th>3337</th>\n",
       "      <td>The Godfather</td>\n",
       "      <td>8.4</td>\n",
       "      <td>5893</td>\n",
       "    </tr>\n",
       "  </tbody>\n",
       "</table>\n",
       "</div>"
      ],
      "text/plain": [
       "                         title  vote_average  vote_count\n",
       "3519          Stiff Upper Lips          10.0           1\n",
       "4247     Me You and Five Bucks          10.0           2\n",
       "4045     Dancer, Texas Pop. 81          10.0           1\n",
       "4662            Little Big Top          10.0           1\n",
       "3992                 Sardaarji           9.5           2\n",
       "2386            One Man's Hero           9.3           2\n",
       "2970        There Goes My Baby           8.5           2\n",
       "1881  The Shawshank Redemption           8.5        8205\n",
       "2796     The Prisoner of Zenda           8.4          11\n",
       "3337             The Godfather           8.4        5893"
      ]
     },
     "execution_count": 147,
     "metadata": {},
     "output_type": "execute_result"
    }
   ],
   "source": [
    "# 오름차순으로 movies_df 10개를 를 정렬해 왜곡된 데이터 확인\n",
    "movies_df[['title', 'vote_average', 'vote_count']].sort_values('vote_average', ascending=False)[:10]"
   ]
  },
  {
   "cell_type": "markdown",
   "id": "c360198e-ae46-4fc4-b0aa-c6b9375dd0a2",
   "metadata": {},
   "source": [
    "### 가중치가 부여된 평점\n",
    "- v/(v+m)*0.6  m/(v+m)*0.4"
   ]
  },
  {
   "cell_type": "code",
   "execution_count": 153,
   "id": "34f276a9-8a74-4655-9adf-e47dd8b8d576",
   "metadata": {},
   "outputs": [
    {
     "name": "stdout",
     "output_type": "stream",
     "text": [
      "6.092171559442011\n",
      "370.1999999999998\n"
     ]
    }
   ],
   "source": [
    "# p.610\n",
    "C= movies_df['vote_average'].mean()\n",
    "m= movies_df['vote_count'].quantile(0.6)\n",
    "print(C)\n",
    "print(m)"
   ]
  },
  {
   "cell_type": "code",
   "execution_count": 161,
   "id": "4e6a98ba-d64a-421f-b21e-2bfe4080a5ac",
   "metadata": {},
   "outputs": [
    {
     "data": {
      "text/plain": [
       "0       7.166301\n",
       "1       6.838594\n",
       "2       6.284091\n",
       "3       7.541095\n",
       "4       6.098838\n",
       "          ...   \n",
       "4798    6.290894\n",
       "4799    6.089611\n",
       "4800    6.106650\n",
       "4801    6.084894\n",
       "4802    6.100782\n",
       "Name: weighted_vote, Length: 4803, dtype: float64"
      ]
     },
     "execution_count": 161,
     "metadata": {},
     "output_type": "execute_result"
    }
   ],
   "source": [
    "percentile = 0.6\n",
    "m = movies_df['vote_count'].quantile(percentile)\n",
    "C = movies_df['vote_average'].mean()\n",
    "\n",
    "def weighted_vote_average(record):\n",
    "    v = record['vote_count']\n",
    "    R = record['vote_average']\n",
    "    \n",
    "    return ( (v/(v+m)) * R ) + ( (m/(m+v)) * C )   \n",
    "\n",
    "movies_df['weighted_vote'] = movies_df.apply(weighted_vote_average, axis=1) \n",
    "movies_df['weighted_vote']"
   ]
  },
  {
   "cell_type": "code",
   "execution_count": 162,
   "id": "5a53fca3-c0f6-4981-ad7f-d6efc853ea63",
   "metadata": {},
   "outputs": [
    {
     "data": {
      "text/html": [
       "<div>\n",
       "<style scoped>\n",
       "    .dataframe tbody tr th:only-of-type {\n",
       "        vertical-align: middle;\n",
       "    }\n",
       "\n",
       "    .dataframe tbody tr th {\n",
       "        vertical-align: top;\n",
       "    }\n",
       "\n",
       "    .dataframe thead th {\n",
       "        text-align: right;\n",
       "    }\n",
       "</style>\n",
       "<table border=\"1\" class=\"dataframe\">\n",
       "  <thead>\n",
       "    <tr style=\"text-align: right;\">\n",
       "      <th></th>\n",
       "      <th>title</th>\n",
       "      <th>vote_average</th>\n",
       "      <th>weighted_vote</th>\n",
       "      <th>vote_count</th>\n",
       "    </tr>\n",
       "  </thead>\n",
       "  <tbody>\n",
       "    <tr>\n",
       "      <th>1881</th>\n",
       "      <td>The Shawshank Redemption</td>\n",
       "      <td>8.5</td>\n",
       "      <td>8.396052</td>\n",
       "      <td>8205</td>\n",
       "    </tr>\n",
       "    <tr>\n",
       "      <th>3337</th>\n",
       "      <td>The Godfather</td>\n",
       "      <td>8.4</td>\n",
       "      <td>8.263591</td>\n",
       "      <td>5893</td>\n",
       "    </tr>\n",
       "    <tr>\n",
       "      <th>662</th>\n",
       "      <td>Fight Club</td>\n",
       "      <td>8.3</td>\n",
       "      <td>8.216455</td>\n",
       "      <td>9413</td>\n",
       "    </tr>\n",
       "    <tr>\n",
       "      <th>3232</th>\n",
       "      <td>Pulp Fiction</td>\n",
       "      <td>8.3</td>\n",
       "      <td>8.207102</td>\n",
       "      <td>8428</td>\n",
       "    </tr>\n",
       "    <tr>\n",
       "      <th>65</th>\n",
       "      <td>The Dark Knight</td>\n",
       "      <td>8.2</td>\n",
       "      <td>8.136930</td>\n",
       "      <td>12002</td>\n",
       "    </tr>\n",
       "    <tr>\n",
       "      <th>1818</th>\n",
       "      <td>Schindler's List</td>\n",
       "      <td>8.3</td>\n",
       "      <td>8.126069</td>\n",
       "      <td>4329</td>\n",
       "    </tr>\n",
       "    <tr>\n",
       "      <th>3865</th>\n",
       "      <td>Whiplash</td>\n",
       "      <td>8.3</td>\n",
       "      <td>8.123248</td>\n",
       "      <td>4254</td>\n",
       "    </tr>\n",
       "    <tr>\n",
       "      <th>809</th>\n",
       "      <td>Forrest Gump</td>\n",
       "      <td>8.2</td>\n",
       "      <td>8.105954</td>\n",
       "      <td>7927</td>\n",
       "    </tr>\n",
       "    <tr>\n",
       "      <th>2294</th>\n",
       "      <td>Spirited Away</td>\n",
       "      <td>8.3</td>\n",
       "      <td>8.105867</td>\n",
       "      <td>3840</td>\n",
       "    </tr>\n",
       "    <tr>\n",
       "      <th>2731</th>\n",
       "      <td>The Godfather: Part II</td>\n",
       "      <td>8.3</td>\n",
       "      <td>8.079586</td>\n",
       "      <td>3338</td>\n",
       "    </tr>\n",
       "  </tbody>\n",
       "</table>\n",
       "</div>"
      ],
      "text/plain": [
       "                         title  vote_average  weighted_vote  vote_count\n",
       "1881  The Shawshank Redemption           8.5       8.396052        8205\n",
       "3337             The Godfather           8.4       8.263591        5893\n",
       "662                 Fight Club           8.3       8.216455        9413\n",
       "3232              Pulp Fiction           8.3       8.207102        8428\n",
       "65             The Dark Knight           8.2       8.136930       12002\n",
       "1818          Schindler's List           8.3       8.126069        4329\n",
       "3865                  Whiplash           8.3       8.123248        4254\n",
       "809               Forrest Gump           8.2       8.105954        7927\n",
       "2294             Spirited Away           8.3       8.105867        3840\n",
       "2731    The Godfather: Part II           8.3       8.079586        3338"
      ]
     },
     "execution_count": 162,
     "metadata": {},
     "output_type": "execute_result"
    }
   ],
   "source": [
    "movies_df[['title', 'vote_average','weighted_vote', 'vote_count']].sort_values('weighted_vote', ascending=False)[:10]"
   ]
  },
  {
   "cell_type": "markdown",
   "id": "7cdb326f-36f5-4afb-ba9f-b9beed84a216",
   "metadata": {},
   "source": [
    "### find_sim_movies()"
   ]
  },
  {
   "cell_type": "code",
   "execution_count": 175,
   "id": "88287d48-2c71-4038-a0b7-63033fa88c0b",
   "metadata": {
    "tags": []
   },
   "outputs": [
    {
     "data": {
      "text/html": [
       "<div>\n",
       "<style scoped>\n",
       "    .dataframe tbody tr th:only-of-type {\n",
       "        vertical-align: middle;\n",
       "    }\n",
       "\n",
       "    .dataframe tbody tr th {\n",
       "        vertical-align: top;\n",
       "    }\n",
       "\n",
       "    .dataframe thead th {\n",
       "        text-align: right;\n",
       "    }\n",
       "</style>\n",
       "<table border=\"1\" class=\"dataframe\">\n",
       "  <thead>\n",
       "    <tr style=\"text-align: right;\">\n",
       "      <th></th>\n",
       "      <th>title</th>\n",
       "      <th>vote_average</th>\n",
       "      <th>weighted_vote</th>\n",
       "    </tr>\n",
       "  </thead>\n",
       "  <tbody>\n",
       "    <tr>\n",
       "      <th>2731</th>\n",
       "      <td>The Godfather: Part II</td>\n",
       "      <td>8.3</td>\n",
       "      <td>8.079586</td>\n",
       "    </tr>\n",
       "    <tr>\n",
       "      <th>1847</th>\n",
       "      <td>GoodFellas</td>\n",
       "      <td>8.2</td>\n",
       "      <td>7.976937</td>\n",
       "    </tr>\n",
       "    <tr>\n",
       "      <th>3866</th>\n",
       "      <td>City of God</td>\n",
       "      <td>8.1</td>\n",
       "      <td>7.759693</td>\n",
       "    </tr>\n",
       "    <tr>\n",
       "      <th>1663</th>\n",
       "      <td>Once Upon a Time in America</td>\n",
       "      <td>8.2</td>\n",
       "      <td>7.657811</td>\n",
       "    </tr>\n",
       "    <tr>\n",
       "      <th>883</th>\n",
       "      <td>Catch Me If You Can</td>\n",
       "      <td>7.7</td>\n",
       "      <td>7.557097</td>\n",
       "    </tr>\n",
       "    <tr>\n",
       "      <th>281</th>\n",
       "      <td>American Gangster</td>\n",
       "      <td>7.4</td>\n",
       "      <td>7.141396</td>\n",
       "    </tr>\n",
       "    <tr>\n",
       "      <th>4041</th>\n",
       "      <td>This Is England</td>\n",
       "      <td>7.4</td>\n",
       "      <td>6.739664</td>\n",
       "    </tr>\n",
       "    <tr>\n",
       "      <th>1149</th>\n",
       "      <td>American Hustle</td>\n",
       "      <td>6.8</td>\n",
       "      <td>6.717525</td>\n",
       "    </tr>\n",
       "    <tr>\n",
       "      <th>1243</th>\n",
       "      <td>Mean Streets</td>\n",
       "      <td>7.2</td>\n",
       "      <td>6.626569</td>\n",
       "    </tr>\n",
       "    <tr>\n",
       "      <th>2839</th>\n",
       "      <td>Rounders</td>\n",
       "      <td>6.9</td>\n",
       "      <td>6.530427</td>\n",
       "    </tr>\n",
       "  </tbody>\n",
       "</table>\n",
       "</div>"
      ],
      "text/plain": [
       "                            title  vote_average  weighted_vote\n",
       "2731       The Godfather: Part II           8.3       8.079586\n",
       "1847                   GoodFellas           8.2       7.976937\n",
       "3866                  City of God           8.1       7.759693\n",
       "1663  Once Upon a Time in America           8.2       7.657811\n",
       "883           Catch Me If You Can           7.7       7.557097\n",
       "281             American Gangster           7.4       7.141396\n",
       "4041              This Is England           7.4       6.739664\n",
       "1149              American Hustle           6.8       6.717525\n",
       "1243                 Mean Streets           7.2       6.626569\n",
       "2839                     Rounders           6.9       6.530427"
      ]
     },
     "execution_count": 175,
     "metadata": {},
     "output_type": "execute_result"
    }
   ],
   "source": [
    "def find_sim_movie(df, sorted_ind, title_name, top_n=10):\n",
    "    title_movie = df[df['title'] == title_name]\n",
    "    title_index = title_movie.index.values\n",
    "    \n",
    "    # top_n의 2배에 해당하는 쟝르 유사성이 높은 index 추출 \n",
    "    similar_indexes = sorted_ind[title_index, :(top_n*2)]\n",
    "    similar_indexes = similar_indexes.reshape(-1)\n",
    "    # 기준 영화 index는 제외\n",
    "    similar_indexes = similar_indexes[similar_indexes != title_index]\n",
    "    \n",
    "    # top_n의 2배에 해당하는 후보군에서 weighted_vote 높은 순으로 top_n 만큼 추출 \n",
    "    return df.iloc[similar_indexes].sort_values('weighted_vote', ascending=False)[:top_n]\n",
    "\n",
    "similar_movies = find_sim_movie(movies_df, genre_sim_sorted_ind, 'The Godfather',10)\n",
    "similar_movies[['title', 'vote_average', 'weighted_vote']]"
   ]
  },
  {
   "cell_type": "code",
   "execution_count": null,
   "id": "d5c673f3-ce66-4959-b2cf-b6fd953d8d4e",
   "metadata": {},
   "outputs": [],
   "source": []
  },
  {
   "cell_type": "code",
   "execution_count": null,
   "id": "0eef1704-a8c9-47a1-aab3-dcbfb2b235ed",
   "metadata": {},
   "outputs": [],
   "source": []
  },
  {
   "cell_type": "code",
   "execution_count": null,
   "id": "990621e5-0d6f-40c6-a036-6145314625c4",
   "metadata": {},
   "outputs": [],
   "source": []
  },
  {
   "cell_type": "code",
   "execution_count": null,
   "id": "33d532bc-e03a-4330-abfa-9904cddd9052",
   "metadata": {},
   "outputs": [],
   "source": []
  },
  {
   "cell_type": "code",
   "execution_count": null,
   "id": "081a16d7-b31f-4789-8e8e-e53f220d36e7",
   "metadata": {},
   "outputs": [],
   "source": []
  },
  {
   "cell_type": "code",
   "execution_count": null,
   "id": "722123d7-d22d-4fce-9b9a-4a42d990641c",
   "metadata": {},
   "outputs": [],
   "source": []
  },
  {
   "cell_type": "code",
   "execution_count": null,
   "id": "5a5e0d89-f58a-45d6-afc3-a8deeb17af02",
   "metadata": {},
   "outputs": [],
   "source": []
  },
  {
   "cell_type": "markdown",
   "id": "3cefc06a-199f-43e0-9220-c57808a76d47",
   "metadata": {
    "tags": []
   },
   "source": [
    "## 8. Surpeise"
   ]
  },
  {
   "cell_type": "code",
   "execution_count": 1,
   "id": "b91a5660-2a96-4b3c-8d67-40f877a77df5",
   "metadata": {},
   "outputs": [
    {
     "name": "stdout",
     "output_type": "stream",
     "text": [
      "Requirement already satisfied: surprise in c:\\users\\user\\anaconda3\\lib\\site-packages (0.1)\n",
      "Requirement already satisfied: pip in c:\\users\\user\\anaconda3\\lib\\site-packages (22.3)\n",
      "Requirement already satisfied: scikit-surprise in c:\\users\\user\\anaconda3\\lib\\site-packages (from surprise) (1.1.1)\n",
      "Requirement already satisfied: joblib>=0.11 in c:\\users\\user\\anaconda3\\lib\\site-packages (from scikit-surprise->surprise) (1.1.0)\n",
      "Requirement already satisfied: numpy>=1.11.2 in c:\\users\\user\\anaconda3\\lib\\site-packages (from scikit-surprise->surprise) (1.22.4)\n",
      "Requirement already satisfied: scipy>=1.0.0 in c:\\users\\user\\anaconda3\\lib\\site-packages (from scikit-surprise->surprise) (1.7.3)\n",
      "Requirement already satisfied: six>=1.10.0 in c:\\users\\user\\anaconda3\\lib\\site-packages (from scikit-surprise->surprise) (1.16.0)\n",
      "Note: you may need to restart the kernel to use updated packages.\n"
     ]
    }
   ],
   "source": [
    "pip install surprise --upgrade pip"
   ]
  },
  {
   "cell_type": "code",
   "execution_count": 2,
   "id": "2ed26f66-2f4d-4d83-8612-740ac5d239c7",
   "metadata": {},
   "outputs": [],
   "source": [
    "# 모듈 임포트\n",
    "from surprise import SVD\n",
    "from surprise import Dataset\n",
    "from surprise import accuracy\n",
    "from surprise.model_selection import train_test_split"
   ]
  },
  {
   "cell_type": "code",
   "execution_count": 3,
   "id": "09dac333-3a70-4a3a-a184-433338143b58",
   "metadata": {},
   "outputs": [
    {
     "name": "stdout",
     "output_type": "stream",
     "text": [
      "Dataset ml-100k could not be found. Do you want to download it? [Y/n] "
     ]
    },
    {
     "name": "stdin",
     "output_type": "stream",
     "text": [
      " Y\n"
     ]
    },
    {
     "name": "stdout",
     "output_type": "stream",
     "text": [
      "Trying to download dataset from http://files.grouplens.org/datasets/movielens/ml-100k.zip...\n",
      "Done! Dataset ml-100k has been saved to C:\\Users\\user/.surprise_data/ml-100k\n"
     ]
    }
   ],
   "source": [
    "# 데이터 내려받기\n",
    "data=Dataset.load_builtin('ml-100k')"
   ]
  },
  {
   "cell_type": "code",
   "execution_count": 5,
   "id": "e64b88d1-f064-4ed8-b5cf-c33b0725eb6d",
   "metadata": {},
   "outputs": [],
   "source": [
    "trainset, testset = train_test_split(data, test_size=.25, random_state=0)"
   ]
  },
  {
   "cell_type": "code",
   "execution_count": 6,
   "id": "bc6c361f-b503-427a-bd4f-bb4faae6ebfd",
   "metadata": {},
   "outputs": [
    {
     "data": {
      "text/plain": [
       "<surprise.prediction_algorithms.matrix_factorization.SVD at 0x18da30b5c70>"
      ]
     },
     "execution_count": 6,
     "metadata": {},
     "output_type": "execute_result"
    }
   ],
   "source": [
    "algo= SVD(random_state=0)\n",
    "algo.fit(trainset)"
   ]
  },
  {
   "cell_type": "code",
   "execution_count": 9,
   "id": "36e41680-631f-4e24-9275-4dbc90cd733d",
   "metadata": {},
   "outputs": [
    {
     "name": "stdout",
     "output_type": "stream",
     "text": [
      "<class 'list'> 25000\n"
     ]
    },
    {
     "data": {
      "text/plain": [
       "[Prediction(uid='120', iid='282', r_ui=4.0, est=3.5114147666251547, details={'was_impossible': False}),\n",
       " Prediction(uid='882', iid='291', r_ui=4.0, est=3.573872419581491, details={'was_impossible': False}),\n",
       " Prediction(uid='535', iid='507', r_ui=5.0, est=4.033583485472447, details={'was_impossible': False}),\n",
       " Prediction(uid='697', iid='244', r_ui=5.0, est=3.8463639495936905, details={'was_impossible': False}),\n",
       " Prediction(uid='751', iid='385', r_ui=4.0, est=3.1807542478219157, details={'was_impossible': False})]"
      ]
     },
     "execution_count": 9,
     "metadata": {},
     "output_type": "execute_result"
    }
   ],
   "source": [
    "# 학습된 추천 알고리즘을 기반으로 테스트 데이터 세트에 대해 추천을 수행\n",
    "# test()메서드 수행 \n",
    "# 사용자-아이템 평점 데이터 세트 전체에 대해 추천을 예측\n",
    "predictions= algo.test(testset)\n",
    "print(type(predictions), len(predictions))\n",
    "predictions[:5]"
   ]
  },
  {
   "cell_type": "code",
   "execution_count": 10,
   "id": "02b7ac78-8d70-446a-8e8e-dcfc5efaaaeb",
   "metadata": {},
   "outputs": [
    {
     "data": {
      "text/plain": [
       "[('120', '282', 3.5114147666251547),\n",
       " ('882', '291', 3.573872419581491),\n",
       " ('535', '507', 4.033583485472447)]"
      ]
     },
     "execution_count": 10,
     "metadata": {},
     "output_type": "execute_result"
    }
   ],
   "source": [
    "# prediction 객체의 uid, iid, est속성을 추출\n",
    "[(pred.uid, pred.iid, pred.est) for pred in predictions[:3]]"
   ]
  },
  {
   "cell_type": "code",
   "execution_count": 11,
   "id": "34a409dc-ef5b-46c8-8823-3c636d7a9fcf",
   "metadata": {},
   "outputs": [
    {
     "name": "stdout",
     "output_type": "stream",
     "text": [
      "user: 196        item: 302        r_ui = None   est = 4.49   {'was_impossible': False}\n"
     ]
    }
   ],
   "source": [
    "# predict()메서드 수행 \n",
    "# 개별 사용자의 아이템 추천 평점을 예측\n",
    "# 사용자 아이디, 아이템 아이디는 문자열로 입력해야함\n",
    "uid=str(196)\n",
    "iid=str(302)\n",
    "pred=algo.predict(uid, iid)\n",
    "print(pred)\n",
    "\n",
    "# prediction 객체는 사용자 아이디(uid), 아이템 아이디(iid), 실제 평점(r_ui), 예측 평점(est)를 튜플 형태로 가진다.\n",
    "# prediction 객체의 details속성은 추천 예측을 할 수 없는 경우 True, 아닌 경우 False이다."
   ]
  },
  {
   "cell_type": "code",
   "execution_count": 12,
   "id": "1a3e08d1-5c31-45f7-b297-950fab5b2fcc",
   "metadata": {},
   "outputs": [
    {
     "name": "stdout",
     "output_type": "stream",
     "text": [
      "RMSE: 0.9467\n"
     ]
    },
    {
     "data": {
      "text/plain": [
       "0.9466860806937948"
      ]
     },
     "execution_count": 12,
     "metadata": {},
     "output_type": "execute_result"
    }
   ],
   "source": [
    "# 추천예측평점과 실제예측평점의 차이 평가\n",
    "# accuracy모듈은 RMSE, MSE등 방법으로 추천 시스템의 성능 평가 정보를 제공\n",
    "# RMSE평가 결과 확인\n",
    "accuracy.rmse(predictions)"
   ]
  },
  {
   "cell_type": "code",
   "execution_count": 15,
   "id": "d64b7078-ae22-4320-9dbd-d808c34487ce",
   "metadata": {},
   "outputs": [],
   "source": [
    "# OS파일 데이터를 Surprise데이터 세트로 로딩\n",
    "import pandas as pd\n",
    "\n",
    "ratings= pd.read_csv('C:/Users/user/머신러닝/data/ml-latest-small/ml-latest-small/ratings.csv')\n",
    "# ratings_noh.csv 파일로 언로드시 인덱스와 헤더를 모두 제거한 새로운 파일 생성\n",
    "ratings.to_csv('C:/Users/user/머신러닝/data/ratings_noh.csv', index=False, header=False)"
   ]
  },
  {
   "cell_type": "code",
   "execution_count": 22,
   "id": "dfc81ead-0403-4f70-9ec9-e81bb37fdc5c",
   "metadata": {},
   "outputs": [],
   "source": [
    "# noh파일에서 앞의 3개의 칼럼만 로딩되고 timestamp칼럼은 제외된다\n",
    "from surprise import Reader\n",
    "\n",
    "reader = Reader(line_format='user item rating timestamp', sep=',',rating_scale=(0.5,5))\n",
    "data=Dataset.load_from_file('C:/Users/user/머신러닝/data/ratings_noh.csv', reader=reader)"
   ]
  },
  {
   "cell_type": "code",
   "execution_count": null,
   "id": "964bde65-1ad3-4d49-9b52-a9e83f2ad54f",
   "metadata": {},
   "outputs": [],
   "source": [
    "#Reader클래스의 주요 파라미터\n",
    "# line_format(string): 칼럼의 순서대로 나열. 입력된 문자열을 공백으로 분리해 칼럼으로 인식\n",
    "# sep(char): 칼럼을 분리하는 분리자. 디폴트는 '\\t'이고, 판다스DataFrame에서 입력받을 경우에는 기재할 필요가 없다.\n",
    "# rating_scale(tuple, optional): 평점값의 최소~최대 평점을 설정. 디폴트는(1,5)이지만 ratings.csv파일의 경우 최소 평점이 0.5, 최대 평점이 5이므로(0.5, 5)로 설정"
   ]
  },
  {
   "cell_type": "markdown",
   "id": "4749ecdb-6db0-4555-aa0c-5b8951c7d48d",
   "metadata": {},
   "source": [
    "### SVD행렬분해"
   ]
  },
  {
   "cell_type": "code",
   "execution_count": 24,
   "id": "51ca6839-7a18-4a3a-ab9e-0dd4266dc22c",
   "metadata": {},
   "outputs": [
    {
     "name": "stdout",
     "output_type": "stream",
     "text": [
      "RMSE: 0.8682\n"
     ]
    },
    {
     "data": {
      "text/plain": [
       "0.8681952927143516"
      ]
     },
     "execution_count": 24,
     "metadata": {},
     "output_type": "execute_result"
    }
   ],
   "source": [
    "# 예측평점을 구하고 실제 평점 데이터를 RMSE로 평가\n",
    "trainset, testset= train_test_split(data, test_size=.25, random_state=0)\n",
    "# 수행시마다 동일한 결과를 도출하기 위해 random_state 설정\n",
    "algo= SVD(n_factors=50, random_state=0)\n",
    "\n",
    "# 학습 데이터 세트로 학습하고 테스트 데이터 세트로 평점예측 후 RMSE 평가\n",
    "algo.fit(trainset)\n",
    "predictions= algo.test(testset)\n",
    "accuracy.rmse(predictions)"
   ]
  },
  {
   "cell_type": "markdown",
   "id": "3b0cf2a0-e21d-4486-9fc0-83e89c3383f7",
   "metadata": {},
   "source": [
    "# 판다스 DataFrame에서 Suprise 데이터 세트로 로딩"
   ]
  },
  {
   "cell_type": "markdown",
   "id": "458d5b0d-42a6-4003-a170-351b451cfa8a",
   "metadata": {},
   "source": [
    "### SVD 추천예측코드작성"
   ]
  },
  {
   "cell_type": "code",
   "execution_count": 28,
   "id": "50c2513c-21d6-4ce9-a0fe-9732a8d6fb79",
   "metadata": {},
   "outputs": [
    {
     "name": "stdout",
     "output_type": "stream",
     "text": [
      "RMSE: 0.8682\n"
     ]
    },
    {
     "data": {
      "text/plain": [
       "0.8681952927143516"
      ]
     },
     "execution_count": 28,
     "metadata": {},
     "output_type": "execute_result"
    }
   ],
   "source": [
    "import pandas as pd\n",
    "from surprise import Reader, Dataset\n",
    "\n",
    "ratings=pd.read_csv('C:/Users/user/머신러닝/data/ml-latest-small/ml-latest-small/ratings.csv')\n",
    "reader= Reader(rating_scale=(0.5, 5.0))\n",
    "\n",
    "# ratings DataFrame에서 칼럼은 사용자 아이디, 아이템 아이디, 평점 순서를 지켜야 함\n",
    "data= Dataset.load_from_df(ratings[['userId', 'movieId', 'rating']], reader)\n",
    "trainset, testset = train_test_split(data, test_size=.25, random_state=0)\n",
    "\n",
    "algo= SVD(n_factors=50, random_state=0)\n",
    "algo.fit(trainset)\n",
    "predictions=algo.test(testset)\n",
    "accuracy.rmse(predictions)"
   ]
  },
  {
   "cell_type": "markdown",
   "id": "6a0ae2a8-a3a7-45ca-8bf7-41a5297643b6",
   "metadata": {},
   "source": [
    "### Suprise 추천 알고리즘 클래스\n",
    "- SVD: 행렬분해를 통한 잠재 요인 협업 필터링을 위한 SVD알고리즘\n",
    "- KNNBasic: 최근접 이웃 협업 필터링을 위한 KNN알고리즘\n",
    "- BaselineOnly: 사용자 Bias와 아이템 Bias를 감안한 SGD베이스라인 알고리즘"
   ]
  },
  {
   "cell_type": "code",
   "execution_count": 29,
   "id": "be6fb6ce-8806-41cb-899f-43fc5c96c2cf",
   "metadata": {},
   "outputs": [],
   "source": [
    "# Suprise SVD의 비용함수는 사용자 베이스라인(Baseline) 편향성을 감안한 평점 예측에 Regular-ization을 적용한 것이다."
   ]
  },
  {
   "cell_type": "markdown",
   "id": "4f2466f0-2692-4a37-99b0-598a36e1e062",
   "metadata": {},
   "source": [
    "### SVD클래스의 입력 파라미터\n",
    "- n_factors: 잠재요인 K의 개수. 디폴트는 100, 커질수록 정확도가 높아질 수 있으나 과적합 문제가 발생할 수 있음\n",
    "- n_epochs: SGD(Stochastic Gradient Descent) 수행 시 반복 횟수, 디폴트는 20\n",
    "- biased(bool): 베이스라인 사용자 편행 적용 여부이며, 디폴트는 True"
   ]
  },
  {
   "cell_type": "markdown",
   "id": "1617989d-60dc-48d9-b369-7a4511bc945a",
   "metadata": {},
   "source": [
    "### 베이스라인 평점\n",
    "-  각 개인이 평점을 부여하는 성향을 반영하여 평점을 계산하는 방식\n",
    "-  전체평균 평점 + 사용자 편향 점수 + 아이템 편향 점수\n",
    "- 전체 평균평점= 모든 사용자의 아이템에 대한 평점을 평균한 값\n",
    "- 사용자 편향 점수= 사용자별 아이템 - 전체 평균한 값\n",
    "- 아이템 편향 점수= 아이템별 평점 평균 값 -전체 평균 평점"
   ]
  },
  {
   "cell_type": "markdown",
   "id": "6a865faf-08b2-457e-bbaf-e708e55c7ddb",
   "metadata": {},
   "source": [
    "## 교차검증과 하이퍼파라미터 튜닝"
   ]
  },
  {
   "cell_type": "markdown",
   "id": "0dab86d6-98b0-43ad-9f90-0fb4e93d3bae",
   "metadata": {},
   "source": [
    "### cross_validation()\n",
    "- 함수는 srprise.model_selection 모듈 내에 존재하며, 폴드된 데이터 세트의 개수와 성능 측정 방법을 명시해 교차검증을 수행"
   ]
  },
  {
   "cell_type": "code",
   "execution_count": 31,
   "id": "1d3a4a9e-335f-40e0-91b8-c62166e16d56",
   "metadata": {},
   "outputs": [
    {
     "name": "stdout",
     "output_type": "stream",
     "text": [
      "Evaluating RMSE, MAE of algorithm SVD on 5 split(s).\n",
      "\n",
      "                  Fold 1  Fold 2  Fold 3  Fold 4  Fold 5  Mean    Std     \n",
      "RMSE (testset)    0.8758  0.8696  0.8755  0.8806  0.8708  0.8745  0.0039  \n",
      "MAE (testset)     0.6723  0.6679  0.6696  0.6775  0.6706  0.6716  0.0033  \n",
      "Fit time          3.12    3.15    3.15    3.13    3.16    3.14    0.01    \n",
      "Test time         0.09    0.29    0.08    0.08    0.08    0.13    0.08    \n"
     ]
    },
    {
     "data": {
      "text/plain": [
       "{'test_rmse': array([0.8757737 , 0.86959462, 0.8754576 , 0.88062916, 0.87082095]),\n",
       " 'test_mae': array([0.67234547, 0.66785633, 0.66960976, 0.67748476, 0.67057724]),\n",
       " 'fit_time': (3.1226577758789062,\n",
       "  3.150580883026123,\n",
       "  3.149553060531616,\n",
       "  3.1326282024383545,\n",
       "  3.1605536937713623),\n",
       " 'test_time': (0.08574247360229492,\n",
       "  0.29421329498291016,\n",
       "  0.08477330207824707,\n",
       "  0.08377623558044434,\n",
       "  0.08477354049682617)}"
      ]
     },
     "execution_count": 31,
     "metadata": {},
     "output_type": "execute_result"
    }
   ],
   "source": [
    "#df를 이용해 데이터 학습/검증 폴드 데이터 세트로 분리, 교차검증을 수행,\n",
    "# RMSE, MAE로 성능평가\n",
    "\n",
    "from surprise.model_selection import cross_validate\n",
    "\n",
    "# 판다스 DataFrame에서 Surprise 데이터 세트로 데이터 로딩\n",
    "ratings= pd.read_csv('C:/Users/user/머신러닝/data/ml-latest-small/ml-latest-small/ratings.csv') #rating data in pandas df\n",
    "reader= Reader(rating_scale=(0.5,5.0))\n",
    "data= Dataset.load_from_df(ratings[['userId', 'movieId', 'rating']], reader)\n",
    "\n",
    "algo= SVD(random_state=0)\n",
    "cross_validate(algo, data, measures=['RMSE', 'MAE'], cv=5, verbose=True)"
   ]
  },
  {
   "cell_type": "markdown",
   "id": "db5b07d0-284e-4c40-b7e3-f51ff3612932",
   "metadata": {},
   "source": [
    "### GridSearchCV"
   ]
  },
  {
   "cell_type": "code",
   "execution_count": 32,
   "id": "38bce5d1-4ffa-40ee-b8c9-219651169b5f",
   "metadata": {},
   "outputs": [
    {
     "name": "stdout",
     "output_type": "stream",
     "text": [
      "0.876291928750689\n",
      "{'n_epochs': 20, 'n_factors': 50}\n"
     ]
    }
   ],
   "source": [
    "from surprise.model_selection import GridSearchCV\n",
    "# 최적화할 파라미터를 딕셔너리 형태로 지정\n",
    "param_grid= {'n_epochs':[20,40,60], 'n_factors':[50,100,200]}\n",
    "\n",
    "# cv를 3개의 폴드 세트로 지정, 성능 평가는 rmse,mse로 수행하도록 gridsearchcv구성\n",
    "gs= GridSearchCV(SVD, param_grid, measures=['rmse', 'mae'],cv=3)\n",
    "gs.fit(data)\n",
    "\n",
    "#최고 RMSE Evaluation 점수롸 그떄의 하이퍼 파라미터\n",
    "print(gs.best_score['rmse'])\n",
    "print(gs.best_params['rmse'])"
   ]
  },
  {
   "cell_type": "markdown",
   "id": "b58577d8-01b0-4097-83ae-fdb71395cfe3",
   "metadata": {},
   "source": [
    "## Surprise를 이용한 개인화 영화 추천 시스템 구축\n",
    "- Surprise 패키지로 학습괸 추천 알고리즘을 기반으로 특정 사용자가 아직 평점을 매기지 않은 (관람하지 않은) 영화 중에서 개인 취향에 가장 적절한 영화를 추천"
   ]
  },
  {
   "cell_type": "code",
   "execution_count": 33,
   "id": "8482c04e-4ac8-4b1a-9dff-7310bdc4c8ec",
   "metadata": {},
   "outputs": [
    {
     "ename": "AttributeError",
     "evalue": "'DatasetAutoFolds' object has no attribute 'global_mean'",
     "output_type": "error",
     "traceback": [
      "\u001b[1;31m---------------------------------------------------------------------------\u001b[0m",
      "\u001b[1;31mAttributeError\u001b[0m                            Traceback (most recent call last)",
      "Input \u001b[1;32mIn [33]\u001b[0m, in \u001b[0;36m<cell line: 7>\u001b[1;34m()\u001b[0m\n\u001b[0;32m      5\u001b[0m data\u001b[38;5;241m=\u001b[39m Dataset\u001b[38;5;241m.\u001b[39mload_from_df(ratings[[\u001b[38;5;124m'\u001b[39m\u001b[38;5;124muserId\u001b[39m\u001b[38;5;124m'\u001b[39m, \u001b[38;5;124m'\u001b[39m\u001b[38;5;124mmovieId\u001b[39m\u001b[38;5;124m'\u001b[39m, \u001b[38;5;124m'\u001b[39m\u001b[38;5;124mrating\u001b[39m\u001b[38;5;124m'\u001b[39m]], reader)\n\u001b[0;32m      6\u001b[0m algo\u001b[38;5;241m=\u001b[39m SVD(random_state\u001b[38;5;241m=\u001b[39m\u001b[38;5;241m0\u001b[39m)\n\u001b[1;32m----> 7\u001b[0m \u001b[43malgo\u001b[49m\u001b[38;5;241;43m.\u001b[39;49m\u001b[43mfit\u001b[49m\u001b[43m(\u001b[49m\u001b[43mdata\u001b[49m\u001b[43m)\u001b[49m\n",
      "File \u001b[1;32m~\\anaconda3\\lib\\site-packages\\surprise\\prediction_algorithms\\matrix_factorization.pyx:155\u001b[0m, in \u001b[0;36msurprise.prediction_algorithms.matrix_factorization.SVD.fit\u001b[1;34m()\u001b[0m\n",
      "File \u001b[1;32m~\\anaconda3\\lib\\site-packages\\surprise\\prediction_algorithms\\matrix_factorization.pyx:204\u001b[0m, in \u001b[0;36msurprise.prediction_algorithms.matrix_factorization.SVD.sgd\u001b[1;34m()\u001b[0m\n",
      "\u001b[1;31mAttributeError\u001b[0m: 'DatasetAutoFolds' object has no attribute 'global_mean'"
     ]
    }
   ],
   "source": [
    "# Surprise는 데이터 세트를 train_test_split()을 이용해 내부에서 사용하는 TrainSet클래스 객체로 변환하지 않으면 fit()을 통해 학습할 수 없다\n",
    "# 따라서 데이터 세트를 그대로 fit()에 적용한 다음 코드는 오류를 일으킨다\n",
    "\n",
    "# 오류 발생 코드\n",
    "data= Dataset.load_from_df(ratings[['userId', 'movieId', 'rating']], reader)\n",
    "algo= SVD(random_state=0)\n",
    "algo.fit(data)"
   ]
  },
  {
   "cell_type": "code",
   "execution_count": 35,
   "id": "92cafd3d-d9d1-4334-a341-59b5a63b41d2",
   "metadata": {},
   "outputs": [],
   "source": [
    "# 데이터 세트 전체를 학습 데이터로 사용하려면 DatasetAutoFolds클래스를 이용하면 됨\n",
    "# DatasetAutoFolds 객체를 생성한 뒤 bulid_full_trainset()메서드를 호출하면 전체 데이터를 학습 데이터 세트로 만들 수 있음\n",
    "\n",
    "from surprise.dataset import DatasetAutoFolds\n",
    "\n",
    "reader= Reader(line_format='user item rating timestamp', sep=',', rating_scale=(0.5,5))\n",
    "# DatasetAutoFolds 클래스를 ratings_noh.csv파일 기반으로 생성\n",
    "data_folds= DatasetAutoFolds(ratings_file='C:/Users/user/머신러닝/data/ratings_noh.csv', reader=reader)\n",
    "\n",
    "# 전체 데이터를 학습 데이터로 생성\n",
    "trainset= data_folds.build_full_trainset()"
   ]
  },
  {
   "cell_type": "code",
   "execution_count": 37,
   "id": "45e30a5b-d5c1-44a6-8e2a-013cb7c2fb76",
   "metadata": {},
   "outputs": [
    {
     "data": {
      "text/plain": [
       "<surprise.prediction_algorithms.matrix_factorization.SVD at 0x18db15cec10>"
      ]
     },
     "execution_count": 37,
     "metadata": {},
     "output_type": "execute_result"
    }
   ],
   "source": [
    "# DDatasetAutoFolds의 build_full_trainset() 메서드를 이용해 생성된 학습데이터 기반으로 학습을 수행\n",
    "algo= SVD(n_epochs=20, n_factors=50, random_state=0)\n",
    "algo.fit(trainset)"
   ]
  },
  {
   "cell_type": "code",
   "execution_count": 39,
   "id": "3a9f20d0-21b1-47de-bc82-16d69869b2ea",
   "metadata": {},
   "outputs": [
    {
     "name": "stdout",
     "output_type": "stream",
     "text": [
      "사용자 아이디 9는 영화 아이디 42의 평점 없음\n",
      "    movieId                   title              genres\n",
      "38       42  Dead Presidents (1995)  Action|Crime|Drama\n"
     ]
    }
   ],
   "source": [
    "# user9가 아직 평점을 매기지 않은 영화를 movied 42로 선정한 뒤 예측 평점을 계산\n",
    "# 영화에 대한 상세 속성 정보 DataFrame로딩\n",
    "movies= pd.read_csv('C:/Users/user/머신러닝/data/ml-latest-small/ml-latest-small/movies.csv')\n",
    "\n",
    "#userId=9 의 movieId의 데이터를 추출해 movieId=42 데이터가 있는지 확인\n",
    "movieIds= ratings[ratings['userId']==9]['movieId']\n",
    "if movieIds[movieIds==42].count()==0:\n",
    "    print('사용자 아이디 9는 영화 아이디 42의 평점 없음')\n",
    "\n",
    "print(movies[movies['movieId']==42])"
   ]
  },
  {
   "cell_type": "code",
   "execution_count": 40,
   "id": "15bfb72f-196a-4de6-b332-e55fcf937f1d",
   "metadata": {},
   "outputs": [
    {
     "name": "stdout",
     "output_type": "stream",
     "text": [
      "user: 9          item: 42         r_ui = None   est = 3.13   {'was_impossible': False}\n"
     ]
    }
   ],
   "source": [
    "# userId9 사용자의 추천 예상 평점은 predict() 메서드를 이용하면 알 수 있음\n",
    "uid= str(9)\n",
    "iid= str(42)\n",
    "pred= algo.predict(uid, iid, verbose=True)"
   ]
  },
  {
   "cell_type": "code",
   "execution_count": 54,
   "id": "f13429a7-fb5b-41b1-81fb-f928d25663cb",
   "metadata": {},
   "outputs": [
    {
     "name": "stdout",
     "output_type": "stream",
     "text": [
      "평점 매긴 영화 수: 46 추천 대상 영화 수: 9696 전체 영화 수: 9742\n"
     ]
    }
   ],
   "source": [
    "# 추천 대상이 되는 영화를 추출\n",
    "def get_unseen_surprise(ratings, movies, userId):\n",
    "    # 입력 값으로 들어온 userId에 해당하는 사용자가 평점을 매긴 모든 영화를 리스트로 생성\n",
    "    seen_movies= ratings[ratings['userId']==userId]['movieId'].tolist()\n",
    "    \n",
    "    # 모든 영화의 movieId를 리스트로 생성\n",
    "    total_movies= movies['movieId'].tolist()\n",
    "    \n",
    "    # 모든 영화의 movieId 중 이미 평점을 매긴 영화의 movieId를 제외한 후 리스트로 생성\n",
    "    unseen_movies= [movie for movie in total_movies if movie not in seen_movies]\n",
    "    print('평점 매긴 영화 수:', len(seen_movies), '추천 대상 영화 수:', len(unseen_movies),\n",
    "          '전체 영화 수:', len(total_movies))\n",
    "    return unseen_movies\n",
    "unseen_movies= get_unseen_surprise(ratings, movies,9)"
   ]
  },
  {
   "cell_type": "code",
   "execution_count": 61,
   "id": "6791bad0-da12-480e-9ea3-8bb0f1a56a7a",
   "metadata": {},
   "outputs": [
    {
     "name": "stdout",
     "output_type": "stream",
     "text": [
      "평점 매긴 영화 수: 46 추천 대상 영화 수: 9696 전체 영화 수: 9742\n",
      "### TOP-10 추천 영화 리스트 ###\n",
      "Usual Suspects, The (1995) ; 4.306302135700814\n",
      "Star Wars: Episode IV - A New Hope (1977) ; 4.281663842987387\n",
      "Pulp Fiction (1994) ; 4.278152632122759\n",
      "Silence of the Lambs, The (1991) ; 4.226073566460876\n",
      "Godfather, The (1972) ; 4.1918097904381995\n",
      "Streetcar Named Desire, A (1951) ; 4.154746591122658\n",
      "Star Wars: Episode V - The Empire Strikes Back (1980) ; 4.122016128534504\n",
      "Star Wars: Episode VI - Return of the Jedi (1983) ; 4.108009609093436\n",
      "Goodfellas (1990) ; 4.083464936588478\n",
      "Glory (1989) ; 4.07887165526957\n"
     ]
    }
   ],
   "source": [
    "# 학습된 알고리즘인 SVD를 이용해 높은 예측 평점을 가진 순으로 영화 추천\n",
    "# TOP-N개의 prediction 객체에서 영화 아이디, 영화 제목, 예측평점 정보를 추출해 반환\n",
    "\n",
    "def recommed_movie_by_surprise(algo, userId, unseed_movies, top_n=10):\n",
    "    # 알고리즘 객체의 predict()메서드를 평점이 없는 영화에 반복 수행 한 결과를 list객체로 저장\n",
    "    predictions=[algo.predict(str(userId), str(movieId)) for movieId in unseed_movies]\n",
    "    \n",
    "    #predictions list객체는 surprise의 predictions 객체를 원소로 쓰고 있음\n",
    "    #[prediction(udi='9', iid='1', est=2.69), predprediction(udi='9', iid='2', est=2.98),,,]\n",
    "    \n",
    "    # 이를 est값으로 정렬하기 위해서 아래의 sortkey_est함수를 정의함\n",
    "    #sortkey_est함수는 list객체의 sort()함수의 키 값으로 사용되어 정렬수행\n",
    "    def sortkey_est(pred):\n",
    "        return pred.est\n",
    "    \n",
    "    #sortkey_est()반환값의 내림차순으로 정렬 수행하고 top_n개의 최상의 값 추출\n",
    "    predictions.sort(key=sortkey_est, reverse=True)\n",
    "    top_predictions= predictions[:top_n]\n",
    "    \n",
    "    #top_n으로 추출된 영화의 정보 추출. 영화 아이디, 추천 예상 평점, 제목 추출\n",
    "    top_movie_ids= [int(pred.iid) for pred in top_predictions]\n",
    "    top_movie_rating= [pred.est for pred in top_predictions]\n",
    "    top_movie_titles= movies[movies.movieId.isin(top_movie_ids)]['title']\n",
    "    \n",
    "    top_movie_preds=[(id, title, rating) for id, title, rating in\\\n",
    "                    zip(top_movie_ids, top_movie_titles, top_movie_rating)]\n",
    "    \n",
    "    return top_movie_preds\n",
    "\n",
    "unseen_movies= get_unseen_surprise(ratings, movies,9)\n",
    "top_movie_preds= recommed_movie_by_surprise(algo,9, unseen_movies, top_n=10)\n",
    "\n",
    "print('### TOP-10 추천 영화 리스트 ###')\n",
    "for top_movie in top_movie_preds:\n",
    "    print(top_movie[1], \";\", top_movie[2])"
   ]
  },
  {
   "cell_type": "code",
   "execution_count": null,
   "id": "19ab15a6-7677-4394-9a26-8a45d91f23fa",
   "metadata": {},
   "outputs": [],
   "source": []
  },
  {
   "cell_type": "code",
   "execution_count": null,
   "id": "80f08539-f2eb-4d1e-88ee-40f036a39bb0",
   "metadata": {},
   "outputs": [],
   "source": []
  }
 ],
 "metadata": {
  "kernelspec": {
   "display_name": "Python 3 (ipykernel)",
   "language": "python",
   "name": "python3"
  },
  "language_info": {
   "codemirror_mode": {
    "name": "ipython",
    "version": 3
   },
   "file_extension": ".py",
   "mimetype": "text/x-python",
   "name": "python",
   "nbconvert_exporter": "python",
   "pygments_lexer": "ipython3",
   "version": "3.9.12"
  }
 },
 "nbformat": 4,
 "nbformat_minor": 5
}
