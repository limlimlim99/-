{
  "nbformat": 4,
  "nbformat_minor": 0,
  "metadata": {
    "colab": {
      "provenance": [],
      "mount_file_id": "1Fm3niLjqYy-b64Yz9z99BRMfHJ4Zcv0w",
      "authorship_tag": "ABX9TyMyrHQps0tbFmDdgn8NjJ6h",
      "include_colab_link": true
    },
    "kernelspec": {
      "name": "python3",
      "display_name": "Python 3"
    },
    "language_info": {
      "name": "python"
    },
    "gpuClass": "standard"
  },
  "cells": [
    {
      "cell_type": "markdown",
      "metadata": {
        "id": "view-in-github",
        "colab_type": "text"
      },
      "source": [
        "<a href=\"https://colab.research.google.com/github/limlimlim99/limjihyeonjjang/blob/main/%ED%86%B5%EA%B3%841.ipynb\" target=\"_parent\"><img src=\"https://colab.research.google.com/assets/colab-badge.svg\" alt=\"Open In Colab\"/></a>"
      ]
    },
    {
      "cell_type": "markdown",
      "source": [
        "### 집합과 원소 \n",
        "- 구별 가능한 객체의 모임을 집합이라고 하고 집합에 포함된 구별 가능한 객체를 그 집합의 원소라고 한다.\n",
        "- 파이썬에서 set과 frozenset자료형으로 집합을 나타낸다."
      ],
      "metadata": {
        "id": "r9Ui2gLIDgMR"
      }
    },
    {
      "cell_type": "markdown",
      "source": [
        "확률의 수학적 정의와 의미\n",
        "- 표본공간 과 확률표본\n",
        " * 확률표본 또는 표본은 풀고자 하는 문제에서 발생할 수 있는 하나의 현상 혹은 선택될 수 있는 하나의 경우를 말한다.\n",
        " * 표본공간은 가능한 모든 표본의 집합을 말하며 고려하는 범위에서 어떤 표본(경우, 현상)이 가능하고 어떤 표본이 가능하지 않은가를 정의하는 작업. 표본공간 = {H,T}, (표본 : H(동전의 앞면), T(동전의 뒷면))\n",
        " * 사건은 표본공간의 부분집합, 즉 전체 표본공간 중에서 관심을 가지는 일부 표본의 집합\n",
        " \n",
        "확률\n",
        "- 확률이란 사건(부분집합)을 입력하면 숫자(확률값)가 출력되는 함수  (주사위 1이 나올 확률은 1/6)\n",
        "- 모든 각각의 사건(부분집합)에 어떤 숫자를 할당하는 함수\n",
        "- 확률은 표본이 아닌 사건을 입력으로 가지는 함수(모든 사건의 합은 1)\n",
        "\n",
        "확률의 의미\n",
        "- 빈도수의 관점 : 반복적으로 선택된 표본이 사건(부분집합) A의 원소가 될 경향. 동전을 던져 앞면이 나오는 사건의 확률값은 0.5\n",
        "- 베이지안 관점 : 선택된 표본이 특정한 사건(부분집합)에 속한다는 가설,명제 혹은 주장의 신뢰도로 반복이라는 개념은 사용되지 않음. 새가 날수 있는 가능성은 95%. '앞면이 나왔다'는 주장의 신뢰도가 0.5%\n",
        " * 베이지안 확률론에서 사건이 일어났다 혹은 발생했다하는 말은 그 사건의 원소 중에 정말로 선택된 표본이 있다는 사실을 알게 되었다는 것을 말한다.\n",
        " \n",
        "확률의 성질\n",
        "- 공집합의 확률 : 공집합인 사건의 합은 0이다. P(0) = 0\n",
        "- 여집합의 확률 : 어떤 사건의 여집합인 사건의 확률은 1 - 원래 사건의 확률 과 같다.\n",
        "- 포함-배제 원리 : 두 사건의 합집합의 확률은 각 사건의 확률의 합에서 두 사건의 교집합의 확률을 뺀 것과 같다.\n",
        "- 전체 확률의 법칙 : 생일이 1월인 남자라는 사건의 확률과 생일이 2월인 남자라는 사건의 확률, 이외에도 각각의 월을 생일로 가지는 남자라는 사건들의 확률을 모두 합하면 남자라는 사건의 확률이 된다. 각각의 월에 있는 남자의 생일이 서로 공통 원소가 없음\n",
        "\n",
        "확률분포함수\n",
        "- 확률이 어디에 어느 정도 분포되어 있는지를 수학적으로 명시하고 전달하는 도구\n",
        "- 만약 표본의 개수가 무한하다면 현실적으로 모든 사건을 하나 하나 기술하는 것은 불가능하며 확률분포함수를 이용하여 이 문제를 해결\n",
        " * 확률질량함수 : 유한 개의 사건이 존재하는 경우 각 단수사건에 대한 확률만 정의하는 함수(주사위처럼 딱딱 끊어짐), 이산형 데이터\n",
        " * 누적분포함수 : 시작점을 모두 똑같이 음의 무한대로 통일한 특수한 구간을 사용하는 사건의 확률분포를 묘사하는 함수 (처음부터 계속 누적되어온 것)\n",
        " * 확률밀도함수 : 누적분포함수를 미분하여 구한 도함수를 의미하며 특정한 구간의 확률이 다른 구간에 비해 상대적으로 얼마난 높은가를 나타내는 것이며 그 값 자체가 확률은 아니다.(연속된 것에 대한 확률 대한민국 남성의 몸무게 50~90사이(범위)), 연속형 데이터\n",
        "\n",
        "확률변수\n",
        " - 확률적인 숫자 값을 출력하는 변수\n",
        " - 주사위에서 확률변수 (1,2,3,4,5,6)\n",
        " - 동전던지기 확률변수 (앞, 뒤)\n"
      ],
      "metadata": {
        "id": "t2adxR3JDh2P"
      }
    },
    {
      "cell_type": "markdown",
      "source": [
        "#### 추측통계\n",
        "확률을 사용하여 모집단의 통계적 성질을 추측하는 기법\n",
        "\n",
        "[모집단 분포와 표본분포]  \n",
        "\n",
        "- 모집단: 어떤 통계적 실험의 대상이 되는 모든 대상물. ex. 대한민국 모든 남성의 키 데이터, 2018 수능점수 데이터\n",
        "- 모집단 분포: 모집단은 데이터 집단이므로 어떠한 분포를 이루며 이 데이터가 이루는 확률 분포가 모집단 분포\n",
        "- 모수: 모집단의 특성을 나타내는 수치로 모평균,모분산,모표준편차,모비율,모상관관계 등  \n",
        "  수능점수 전체데이터를 알고 싶은 것이 아니라 전체 수능점수 평균, 표준편차를 알고 싶어한다.\n",
        "  수능점수와 달리 일반적으로 대부분의 모집단 분포는 완전하게 알려진 것이 없으며 전수조사는 경제적, 공간적, 시간적 제약으로 인해 거의 불가능\n",
        "- 표본: 모집단의 모수(특성)을 알기 위하여 표본을 추출해서 모집단의 모수를 추정\n",
        "- 확률표본:  모집단을 구성하는 모든 구성원이 표본으로 뽑힐 확률을 동일하게 하여 추출한 표본. Random이란 무작위라는 의미로, 어떠한 의도를 가지지 않는다는 것을 의미하며, 모든 구성원이 뽑힐 확률이 동일하다는 개념. \n",
        "- 통계량: 확률표본의 특성을 설명하는 값으로 표본평균, 표본분산, 표본표준편차, 표본비율, 표본상관관계 등  \n",
        "  모수는 모집단이 변하지 않기 때문에 그 값이 변하지 않으나 통계량은 표본을 어떻게 추출하느냐에 따라서 그 값이 다르게 나타난다.\n",
        "- 확률변수: 무작위 실험을 했을 때 특정 확률로 발생하는 각각의 결과를 수치값으로 표현한 변수. 동전의 앞과 뒤, 주사위의 숫자\n",
        "\n",
        "- 확률분포: 확률변수 X의 모든 값과 그 에 대응하는 확률값들의 분포. 동전의 앞 0.5, 뒤 0.5 (확률변수: 앞,뒤, 확률값: 0.5. 0.5) \n",
        "- 무작위로 표본 30개씩 반복해서 100번 추출하면 100번 추출한 표본 30개의 평균값들을 100개 구할 수 있다. 추출된 표본들의 각 평균값들에 대한 발생 분포를 그려보면 특정 확률변수에 대응하는 확률을 가진 확률 분포를 그릴 수 있다. 이것을 통계량의 확률분포라고 할 수 있고 이를 표본분포라고 부른다. \n",
        "- 통계량이 확률 변수라는 의미: 확률변수의 확률분포가 수학적으로 설명가능한 분포(예, 정규분포)를 따른다고 하면 특정 확률변수와 확률함수를 알고 있다면 특정 사건이 일어날 확률을 계산할 수 있으며 더 나아가 모수와 통계량의 관계를 알고 있다면 그것을 통해 모수에 대한 통계적인 추정을 할 수 있다. 즉 통계량의 확률 함수 또는 표본 분포를 안다고 가정하면 이를 이용해 모수를 추정할 수 있다. (모집단을 설명할 수 있음)\n",
        "\n"
      ],
      "metadata": {
        "id": "RsRf2vP9JuAQ"
      }
    },
    {
      "cell_type": "markdown",
      "source": [
        "[표본통계량 성질]\n",
        "\n",
        "- 샘플사이즈가 크면 표본평균은 모평균에 가까워진다.\n",
        "- 샘플사이즈가 커질수록 표본평균의 표준편차가 작아짐. 샘플사이즈를 크게 하면 흩어짐이 적은 신뢰할 수 있는 표본평균을 얻을 수 있다.\n",
        "- 표준오차는이론상 표본평균의 표준편차 크기인데 샘플사이즈가 커지면 표준오차는 작아짐\n",
        "- 모분산은 0.64, 표본분산의 평균값은 0.575로 분산이 과소평가되어짐 -> 불편분산을 사용, 편향을 제거(ddof =1)\n",
        "<불편분산은 제곱 편차의 합을 'n-1' 로 나눈 값을 사용>\n",
        "- 샘플사이즈가 커질수록 불편분산은 모분산(0.64)에 가까워짐\n",
        "- 불편성 : 추정량의 기댓값이 진짜 모수(모집단의 파라미터)가 되는 특성. 편향이 없는 추정량\n",
        "- 일치성 : 샘플사이즈가 커지면 추정량이 진짜 모수에 가까워지는 특성\n",
        "- 표본평균과 불편분산은 둘다 불편성을 가지고 있다고 할 수 있다.\n",
        "- 샘플사이즈를 크게 하면 표본평균은 모평균에 가까워지고 불편분산은 모분산에 가까워지므로 일치성을 가짐\n",
        "- 큰수의 법칙 : 표본의 크기가 커지면 표본평균이 모평균에 가까워지는 방법을 표현한 법칙\n",
        "- 중심극한정리 : 모집단분포가 무엇이든지간에 샘플사이즈가 커지면 표본 평균들이 이루는 분포가 모집단의 평균μ, 표준편차σ/sqrt(n)인 정규분포에 가까워진다는 정리  \n",
        "  https://drhongdatanote.tistory.com/57\n",
        "\n"
      ],
      "metadata": {
        "id": "UIvv8n7ZKAkG"
      }
    },
    {
      "cell_type": "markdown",
      "source": [
        "[표본분산이 분산을 과소평가하는 이유]\n",
        "\n",
        "- 분산은 '데이터와 평균값의 간의 거리' 이므로 모평균 간의 거리를 계산 : np.sum((fish_data - mu)**2)/N  \n",
        "호수안에 물고기가 7마리 있다. 몸길이 {1,2,3,4,5,6,7}, 모평균 4,  \n",
        "샘플링 3마리 {1,2,3} 표본평균 2  \n",
        "이때 분산은 모평균을 모르기 때문에 표본평균과의 거리를 계산하며 분산을 과소평가 하게된다.\n",
        "- 표본 분산 보다 조금 더 큰 값이 되도록 보정하기 위하여 N 대신 N-1로 나누어 불편분산을 구할 수 있다.\n",
        "    \n",
        "[통계량 선정시 평가기준]\n",
        "\n",
        "- 불편성: 표본으로부터 구한 통계량의 기대치가 추정하려 하는 모수의 실제 값에 같거나 가까워지는 성질을 의미\n",
        "- 효율성: 모수 추정시 분산이 작을수록 모수를 정확하게 추정할 가능성이 높다.\n",
        "- 일치성: 표본의 크기가 커감에 따라서 표본의 통계량이 모집단의 모수와 일치하는 것을 의미\n",
        "- 충분성: 동일한 표본으로부터 얻은 추정량이 모집단의 모수에 대한 정보를 더 많이 제공하는 것을 의미\n",
        "\n"
      ],
      "metadata": {
        "id": "YtMR4RjkKC-O"
      }
    },
    {
      "cell_type": "markdown",
      "source": [
        "[정규분포]  \n",
        "https://quickdata.tistory.com/26  \n",
        "https://math100.tistory.com/40  \n",
        "정규분포는 연속확률분포로서 가장 자주 쓰이는 확률분포입니다. 모양은 평균을 중심으로 하나의 봉우리형태를 띄며 한 집단의 많은 사람들의 키, 몸무게, 시험성적 등의 데이터에 잘 나타나는 분포\n",
        "\n",
        "- 누적분포함수 : 확률분포에서 얻은 확률변수 3 이하가 되는 확률. Cumulative density function(누적 밀도 함수)- 우상향\n",
        " - stats.norm.cdf(loc = 4, scale = 0.8, x = 3)\n",
        "- 정규분포의 확률밀도 계산\n",
        " - 확률변수 3일때의 확률밀도 N(3|4,0.8**2)\n",
        " - stats.norm.pdf(loc = 4, scale = 0.8, x = 3)  Probability density function(확률 밀도 함수)- 종형\n",
        "- 하측확률 : \"확률변수 x가 N보다 낮을 확률은 M퍼센트다\" 에서 N을 고정하고 M을 구하는 경우\n",
        " - 이때의 M이 하측확률이며 M(확률)을 고정하고 N(변수)을 구하는 경우 이때의 N이 퍼센트포인트 하측확률이 2.5%가 되는 퍼센트포인트\n",
        " - stats.norm.ppf(loc = 4, scale = 0.8, q = 0.025) Percent point function\n",
        "- stats.norm.pdf(x=x)로 하여 loc와 scale을 지정하지 않을 경우 표준정규분포가 됨. probability density function\n",
        "- stats.norm.rvs() 함수는 정규확률분포로부터 난수 생성. Random variates (샘플을 뽑아줌)\n",
        "- t분포의 의미 : 모분산을 모르는 상황에서도 표본평균의 분포에 대해 애기할 수 있으며\n",
        " - t분포를 만들 때 표본에서 계산한 포준오차로 표본평균을 표준화함\n",
        " - 표본에서 계산한 표준오차로 표본평균을 표준화했을 경우의 결과가 t분포를 따른다는 사실을 이용하면 얻어낸 표본평균에 관한 불확실성을 짐작할 수 있음.\n",
        "\n",
        "[t분포의 특성]\n",
        "\n",
        "t분포는 모집단이 정규분포 이더라도 분산 σ²이 알려져 있지 않고 표본의 수가 적은 경우에, 평균 μ에 대한 신뢰구간 추정 및 가설검정에 아주 유용하게 쓰이는 분포\n",
        "1. t분포는 표준정규분포처럼 0을 중심으로 종형의 모습을 가진 대칭 분포이다.\n",
        "2. t분포의 꼬리는 표준정규분포보다 두껍다(fat tail).\n",
        "3. t분포는 자유도 n에 따라 모습이 변하는데, 자유도 n이 커짐에 따라 표준정규분포 N(0,1)에 수렴한다.  \n",
        "N: 샘플의 수(샘플수가 커지면 표본이 커짐) \n",
        "통상 모집단의 분산이 알려져 있지 않은 경우, 표분분포를 결정할 때 표본의 크기가 30 이하이면 t분포를, 그 크기가 30 이상이면 표준정규분포를 이용 => 샘플의 수가 중요함\n"
      ],
      "metadata": {
        "id": "ksdBNvQ0KQYe"
      }
    },
    {
      "cell_type": "code",
      "source": [
        "import numpy as np\n",
        "import pandas as pd\n",
        "fish_data = np.array([2,3,3,4,4,4,4,5,5,6])\n",
        "fish_data"
      ],
      "metadata": {
        "colab": {
          "base_uri": "https://localhost:8080/"
        },
        "id": "bRlf6YSRETbt",
        "outputId": "94d6eb46-c30f-4891-a054-071d210f1a8d"
      },
      "execution_count": null,
      "outputs": [
        {
          "output_type": "execute_result",
          "data": {
            "text/plain": [
              "array([2, 3, 3, 4, 4, 4, 4, 5, 5, 6])"
            ]
          },
          "metadata": {},
          "execution_count": 1
        }
      ]
    },
    {
      "cell_type": "code",
      "source": [
        "np.sum(fish_data)"
      ],
      "metadata": {
        "colab": {
          "base_uri": "https://localhost:8080/"
        },
        "id": "WCc78sDpYpfA",
        "outputId": "343f75b6-7120-4416-89de-1dce29089441"
      },
      "execution_count": null,
      "outputs": [
        {
          "output_type": "execute_result",
          "data": {
            "text/plain": [
              "40"
            ]
          },
          "metadata": {},
          "execution_count": 2
        }
      ]
    },
    {
      "cell_type": "code",
      "source": [
        "len(fish_data)"
      ],
      "metadata": {
        "colab": {
          "base_uri": "https://localhost:8080/"
        },
        "id": "HJ5rkkE6YrJD",
        "outputId": "eeb4ac9f-37f6-4e80-cc9d-593a74048b73"
      },
      "execution_count": null,
      "outputs": [
        {
          "output_type": "execute_result",
          "data": {
            "text/plain": [
              "10"
            ]
          },
          "metadata": {},
          "execution_count": 3
        }
      ]
    },
    {
      "cell_type": "code",
      "source": [
        "# 평균 \n",
        "N = len(fish_data)\n",
        "sum_value = np.sum(fish_data)\n",
        "mu = sum_value/N\n",
        "mu"
      ],
      "metadata": {
        "colab": {
          "base_uri": "https://localhost:8080/"
        },
        "id": "lmAVIBwnYta-",
        "outputId": "400b4c58-fab7-4f80-82b3-be004ad4012b"
      },
      "execution_count": null,
      "outputs": [
        {
          "output_type": "execute_result",
          "data": {
            "text/plain": [
              "4.0"
            ]
          },
          "metadata": {},
          "execution_count": 4
        }
      ]
    },
    {
      "cell_type": "code",
      "source": [
        "np.mean(fish_data)"
      ],
      "metadata": {
        "colab": {
          "base_uri": "https://localhost:8080/"
        },
        "id": "euvRMRKjY18N",
        "outputId": "48d35981-f608-49da-878e-f2ea85aa3800"
      },
      "execution_count": null,
      "outputs": [
        {
          "output_type": "execute_result",
          "data": {
            "text/plain": [
              "4.0"
            ]
          },
          "metadata": {},
          "execution_count": 6
        }
      ]
    },
    {
      "cell_type": "code",
      "source": [
        "# 표본분산\n",
        "sigma_2_sample = np.sum((fish_data-mu)**2)/N\n",
        "sigma_2_sample\n",
        "\n",
        "# 흩어짐에 대한 거리의 합계를 구하고 제곱하고 원소의 개수로 나누면 분산이 됨"
      ],
      "metadata": {
        "colab": {
          "base_uri": "https://localhost:8080/"
        },
        "id": "IcpoOeVuY4IJ",
        "outputId": "a933088c-8247-46c1-e872-2236849018a3"
      },
      "execution_count": null,
      "outputs": [
        {
          "output_type": "execute_result",
          "data": {
            "text/plain": [
              "1.2"
            ]
          },
          "metadata": {},
          "execution_count": 9
        }
      ]
    },
    {
      "cell_type": "code",
      "source": [
        "np.var(fish_data)"
      ],
      "metadata": {
        "colab": {
          "base_uri": "https://localhost:8080/"
        },
        "id": "1UQvOfxfZE92",
        "outputId": "1736d6d9-207a-4417-ceb3-fc70207dbd18"
      },
      "execution_count": null,
      "outputs": [
        {
          "output_type": "execute_result",
          "data": {
            "text/plain": [
              "1.2"
            ]
          },
          "metadata": {},
          "execution_count": 10
        }
      ]
    },
    {
      "cell_type": "code",
      "source": [
        "np.std(fish_data)"
      ],
      "metadata": {
        "colab": {
          "base_uri": "https://localhost:8080/"
        },
        "id": "936UGqIgZRRY",
        "outputId": "bf1ede79-cfe4-49d9-d01a-24d7a0b1460e"
      },
      "execution_count": null,
      "outputs": [
        {
          "output_type": "execute_result",
          "data": {
            "text/plain": [
              "1.0954451150103321"
            ]
          },
          "metadata": {},
          "execution_count": 11
        }
      ]
    },
    {
      "cell_type": "code",
      "source": [
        "np.var(fish_data, ddof=0)"
      ],
      "metadata": {
        "colab": {
          "base_uri": "https://localhost:8080/"
        },
        "id": "kM8EZykLZTvF",
        "outputId": "3138cadb-989b-438e-aec5-5bc743e61526"
      },
      "execution_count": null,
      "outputs": [
        {
          "output_type": "execute_result",
          "data": {
            "text/plain": [
              "1.2"
            ]
          },
          "metadata": {},
          "execution_count": 12
        }
      ]
    },
    {
      "cell_type": "code",
      "source": [
        "# 불편분산\n",
        "np.var(fish_data, ddof=1)"
      ],
      "metadata": {
        "colab": {
          "base_uri": "https://localhost:8080/"
        },
        "id": "Igd7y0veZXzJ",
        "outputId": "a1735563-c210-4d25-882b-5b38abd3ac9a"
      },
      "execution_count": null,
      "outputs": [
        {
          "output_type": "execute_result",
          "data": {
            "text/plain": [
              "1.3333333333333333"
            ]
          },
          "metadata": {},
          "execution_count": 13
        }
      ]
    },
    {
      "cell_type": "code",
      "source": [
        "np.std(fish_data, ddof=1).round(2)\n",
        "std2 = np.std(fish_data, ddof=1)\n",
        "np.round(std2,2)"
      ],
      "metadata": {
        "colab": {
          "base_uri": "https://localhost:8080/"
        },
        "id": "4XWELWe3ZcJS",
        "outputId": "662c57c6-ee2b-4c1c-e39f-fffc65b8647c"
      },
      "execution_count": null,
      "outputs": [
        {
          "output_type": "execute_result",
          "data": {
            "text/plain": [
              "1.15"
            ]
          },
          "metadata": {},
          "execution_count": 14
        }
      ]
    },
    {
      "cell_type": "code",
      "source": [
        "# Q. a의 평균, 분산, 표준편차, 편차의 평균을 구하세요\n",
        "# a = np.arnage(15)\n",
        "# A\n",
        "a = np.arange(15)\n",
        "print(a)\n",
        "m = np.mean(a)\n",
        "v = np.var(a, ddof=1)\n",
        "s = np.std(a, ddof=1)\n",
        "print(m)\n",
        "print(v)\n",
        "print(s)\n",
        "np.mean(a-m)"
      ],
      "metadata": {
        "colab": {
          "base_uri": "https://localhost:8080/"
        },
        "id": "fBS5sy0UZrae",
        "outputId": "ffc59d39-39f1-49ec-9af5-b1db1edf9443"
      },
      "execution_count": null,
      "outputs": [
        {
          "output_type": "stream",
          "name": "stdout",
          "text": [
            "[ 0  1  2  3  4  5  6  7  8  9 10 11 12 13 14]\n",
            "7.0\n",
            "20.0\n",
            "4.47213595499958\n"
          ]
        },
        {
          "output_type": "execute_result",
          "data": {
            "text/plain": [
              "0.0"
            ]
          },
          "metadata": {},
          "execution_count": 20
        }
      ]
    },
    {
      "cell_type": "code",
      "source": [
        "fish_data"
      ],
      "metadata": {
        "colab": {
          "base_uri": "https://localhost:8080/"
        },
        "id": "h9UuV0mfbGJH",
        "outputId": "6b3c85a8-40b0-4617-82f4-1ddff45462a5"
      },
      "execution_count": null,
      "outputs": [
        {
          "output_type": "execute_result",
          "data": {
            "text/plain": [
              "array([2, 3, 3, 4, 4, 4, 4, 5, 5, 6])"
            ]
          },
          "metadata": {},
          "execution_count": 25
        }
      ]
    },
    {
      "cell_type": "code",
      "source": [
        "# 1사분위\n",
        "\n",
        "from scipy import stats\n",
        "stats.scoreatpercentile(fish_data, 25)"
      ],
      "metadata": {
        "colab": {
          "base_uri": "https://localhost:8080/"
        },
        "id": "ZnCxSUdhazFs",
        "outputId": "6cc0ac89-cebd-4a95-bc64-fdbff348e30d"
      },
      "execution_count": null,
      "outputs": [
        {
          "output_type": "execute_result",
          "data": {
            "text/plain": [
              "3.25"
            ]
          },
          "metadata": {},
          "execution_count": 23
        }
      ]
    },
    {
      "cell_type": "code",
      "source": [
        "# 3사분위\n",
        "\n",
        "from scipy import stats\n",
        "stats.scoreatpercentile(fish_data, 50)"
      ],
      "metadata": {
        "colab": {
          "base_uri": "https://localhost:8080/"
        },
        "id": "Te3V8hhNa3qE",
        "outputId": "d2608254-0a62-4d92-edf0-3a571be10e6b"
      },
      "execution_count": null,
      "outputs": [
        {
          "output_type": "execute_result",
          "data": {
            "text/plain": [
              "4.0"
            ]
          },
          "metadata": {},
          "execution_count": 24
        }
      ]
    },
    {
      "cell_type": "code",
      "source": [
        "# 4사분위\n",
        "\n",
        "from scipy import stats\n",
        "stats.scoreatpercentile(fish_data, 75)"
      ],
      "metadata": {
        "colab": {
          "base_uri": "https://localhost:8080/"
        },
        "id": "YrO-LppsZ0cz",
        "outputId": "4a9d6e60-3c4f-4e07-876d-562632d39198"
      },
      "execution_count": null,
      "outputs": [
        {
          "output_type": "execute_result",
          "data": {
            "text/plain": [
              "4.75"
            ]
          },
          "metadata": {},
          "execution_count": 21
        }
      ]
    },
    {
      "cell_type": "code",
      "source": [
        "fish_data2 = np.array([2,3,3,4,4,4,4,5,5,6,100])"
      ],
      "metadata": {
        "id": "DOnk1-rXagzN"
      },
      "execution_count": null,
      "outputs": []
    },
    {
      "cell_type": "code",
      "source": [
        "print(fish_data2)\n",
        "print('평균:', fish_data2.mean().round(2))\n",
        "print('중앙값:', np.median(fish_data2))\n",
        "\n",
        "# 평균과 중앙값이 차이가 많이 남 => 이상치일 가능성이 높다.\n",
        "# 평균값으로 하면 적절하지 않음 중앙값을 사용하는것이 적절(100이 있어서)"
      ],
      "metadata": {
        "colab": {
          "base_uri": "https://localhost:8080/"
        },
        "id": "jI-hVsL3amna",
        "outputId": "a908756f-f0b6-4926-a64a-ef454326da56"
      },
      "execution_count": null,
      "outputs": [
        {
          "output_type": "stream",
          "name": "stdout",
          "text": [
            "[  2   3   3   4   4   4   4   5   5   6 100]\n",
            "평균: 12.73\n",
            "중앙값: 4.0\n"
          ]
        }
      ]
    },
    {
      "cell_type": "markdown",
      "source": [
        "- 그룹별 통계량 : mean(), std(), describe()\n",
        "- 교차분석표: pivot_table()\n",
        "- 깔끔한 데이터 : 행 하나에 1개의 결과가 있도롯 정리. 교차분석표는 행이 변수의 의미를 갖는 경향이 있음\n",
        "- 공분산 :\n",
        "  - 공분산: 2개의 연속형 변수의 관계성을 확인하는 통계량\n",
        "  - 공분산이 0보다 클 때 : 변수 한쪽이 큰 값을 갖게되면 다른 한쪽도 커짐\n",
        "  - 공분산이 0일 때 : 변수 사이에 관계성이 없음\n",
        "  - 공분산은 편리한 지표지만 최대값이나 최소값이 얼마나 될 지 알 수가 없으며\n",
        "  - 단위가 cm에서 m로 변하면 공분산의 값도 변함. 사용이 편하도록 -1~ +1의 범위로 보정\n",
        "\n",
        "- 피어슨 상관계수 : 공분산을 최대값 1, 최소값 -1 사이가 되도록 표준화\n",
        "  - cov/sp.sqrt(sigma_2_x*sigma_2_y)\n",
        "  -상관행렬: 여러 변수의 상관계수들을 행렬 형태로 정리\n",
        "  - 상관계수가 무의미할 때 : 상관계수가 0에 가까운 값을 가질 때는 실제 그래프로 관계를 확인"
      ],
      "metadata": {
        "id": "4YYV1WvecN0l"
      }
    },
    {
      "cell_type": "markdown",
      "source": [
        "공분산과 상관계수는 같은 의미임\n",
        "- 공분산과 상관계수\n",
        ": 공분산을 이용해 상관계수를 구할 수 있음"
      ],
      "metadata": {
        "id": "vCUj5FMz6-g1"
      }
    },
    {
      "cell_type": "code",
      "source": [
        "!pwd"
      ],
      "metadata": {
        "colab": {
          "base_uri": "https://localhost:8080/"
        },
        "id": "yaQk6bVXbhYJ",
        "outputId": "f0bb22af-d522-449c-bc4b-5e25fdd8e049"
      },
      "execution_count": null,
      "outputs": [
        {
          "output_type": "stream",
          "name": "stdout",
          "text": [
            "/content\n"
          ]
        }
      ]
    },
    {
      "cell_type": "code",
      "source": [
        "import pandas as pd\n",
        "fish_multi = pd.read_csv('/content/drive/MyDrive/통계/5_2_fm.csv')\n",
        "fish_multi"
      ],
      "metadata": {
        "colab": {
          "base_uri": "https://localhost:8080/",
          "height": 238
        },
        "id": "-uYVnDuDdsEb",
        "outputId": "b9edf728-49ef-4f25-a491-4d5b1d2b021a"
      },
      "execution_count": null,
      "outputs": [
        {
          "output_type": "execute_result",
          "data": {
            "text/plain": [
              "  species  length\n",
              "0       A       2\n",
              "1       A       3\n",
              "2       A       4\n",
              "3       B       6\n",
              "4       B       8\n",
              "5       B      10"
            ],
            "text/html": [
              "\n",
              "  <div id=\"df-14b12ea5-69b0-44e2-8710-b8178cfabf4f\">\n",
              "    <div class=\"colab-df-container\">\n",
              "      <div>\n",
              "<style scoped>\n",
              "    .dataframe tbody tr th:only-of-type {\n",
              "        vertical-align: middle;\n",
              "    }\n",
              "\n",
              "    .dataframe tbody tr th {\n",
              "        vertical-align: top;\n",
              "    }\n",
              "\n",
              "    .dataframe thead th {\n",
              "        text-align: right;\n",
              "    }\n",
              "</style>\n",
              "<table border=\"1\" class=\"dataframe\">\n",
              "  <thead>\n",
              "    <tr style=\"text-align: right;\">\n",
              "      <th></th>\n",
              "      <th>species</th>\n",
              "      <th>length</th>\n",
              "    </tr>\n",
              "  </thead>\n",
              "  <tbody>\n",
              "    <tr>\n",
              "      <th>0</th>\n",
              "      <td>A</td>\n",
              "      <td>2</td>\n",
              "    </tr>\n",
              "    <tr>\n",
              "      <th>1</th>\n",
              "      <td>A</td>\n",
              "      <td>3</td>\n",
              "    </tr>\n",
              "    <tr>\n",
              "      <th>2</th>\n",
              "      <td>A</td>\n",
              "      <td>4</td>\n",
              "    </tr>\n",
              "    <tr>\n",
              "      <th>3</th>\n",
              "      <td>B</td>\n",
              "      <td>6</td>\n",
              "    </tr>\n",
              "    <tr>\n",
              "      <th>4</th>\n",
              "      <td>B</td>\n",
              "      <td>8</td>\n",
              "    </tr>\n",
              "    <tr>\n",
              "      <th>5</th>\n",
              "      <td>B</td>\n",
              "      <td>10</td>\n",
              "    </tr>\n",
              "  </tbody>\n",
              "</table>\n",
              "</div>\n",
              "      <button class=\"colab-df-convert\" onclick=\"convertToInteractive('df-14b12ea5-69b0-44e2-8710-b8178cfabf4f')\"\n",
              "              title=\"Convert this dataframe to an interactive table.\"\n",
              "              style=\"display:none;\">\n",
              "        \n",
              "  <svg xmlns=\"http://www.w3.org/2000/svg\" height=\"24px\"viewBox=\"0 0 24 24\"\n",
              "       width=\"24px\">\n",
              "    <path d=\"M0 0h24v24H0V0z\" fill=\"none\"/>\n",
              "    <path d=\"M18.56 5.44l.94 2.06.94-2.06 2.06-.94-2.06-.94-.94-2.06-.94 2.06-2.06.94zm-11 1L8.5 8.5l.94-2.06 2.06-.94-2.06-.94L8.5 2.5l-.94 2.06-2.06.94zm10 10l.94 2.06.94-2.06 2.06-.94-2.06-.94-.94-2.06-.94 2.06-2.06.94z\"/><path d=\"M17.41 7.96l-1.37-1.37c-.4-.4-.92-.59-1.43-.59-.52 0-1.04.2-1.43.59L10.3 9.45l-7.72 7.72c-.78.78-.78 2.05 0 2.83L4 21.41c.39.39.9.59 1.41.59.51 0 1.02-.2 1.41-.59l7.78-7.78 2.81-2.81c.8-.78.8-2.07 0-2.86zM5.41 20L4 18.59l7.72-7.72 1.47 1.35L5.41 20z\"/>\n",
              "  </svg>\n",
              "      </button>\n",
              "      \n",
              "  <style>\n",
              "    .colab-df-container {\n",
              "      display:flex;\n",
              "      flex-wrap:wrap;\n",
              "      gap: 12px;\n",
              "    }\n",
              "\n",
              "    .colab-df-convert {\n",
              "      background-color: #E8F0FE;\n",
              "      border: none;\n",
              "      border-radius: 50%;\n",
              "      cursor: pointer;\n",
              "      display: none;\n",
              "      fill: #1967D2;\n",
              "      height: 32px;\n",
              "      padding: 0 0 0 0;\n",
              "      width: 32px;\n",
              "    }\n",
              "\n",
              "    .colab-df-convert:hover {\n",
              "      background-color: #E2EBFA;\n",
              "      box-shadow: 0px 1px 2px rgba(60, 64, 67, 0.3), 0px 1px 3px 1px rgba(60, 64, 67, 0.15);\n",
              "      fill: #174EA6;\n",
              "    }\n",
              "\n",
              "    [theme=dark] .colab-df-convert {\n",
              "      background-color: #3B4455;\n",
              "      fill: #D2E3FC;\n",
              "    }\n",
              "\n",
              "    [theme=dark] .colab-df-convert:hover {\n",
              "      background-color: #434B5C;\n",
              "      box-shadow: 0px 1px 3px 1px rgba(0, 0, 0, 0.15);\n",
              "      filter: drop-shadow(0px 1px 2px rgba(0, 0, 0, 0.3));\n",
              "      fill: #FFFFFF;\n",
              "    }\n",
              "  </style>\n",
              "\n",
              "      <script>\n",
              "        const buttonEl =\n",
              "          document.querySelector('#df-14b12ea5-69b0-44e2-8710-b8178cfabf4f button.colab-df-convert');\n",
              "        buttonEl.style.display =\n",
              "          google.colab.kernel.accessAllowed ? 'block' : 'none';\n",
              "\n",
              "        async function convertToInteractive(key) {\n",
              "          const element = document.querySelector('#df-14b12ea5-69b0-44e2-8710-b8178cfabf4f');\n",
              "          const dataTable =\n",
              "            await google.colab.kernel.invokeFunction('convertToInteractive',\n",
              "                                                     [key], {});\n",
              "          if (!dataTable) return;\n",
              "\n",
              "          const docLinkHtml = 'Like what you see? Visit the ' +\n",
              "            '<a target=\"_blank\" href=https://colab.research.google.com/notebooks/data_table.ipynb>data table notebook</a>'\n",
              "            + ' to learn more about interactive tables.';\n",
              "          element.innerHTML = '';\n",
              "          dataTable['output_type'] = 'display_data';\n",
              "          await google.colab.output.renderOutput(dataTable, element);\n",
              "          const docLink = document.createElement('div');\n",
              "          docLink.innerHTML = docLinkHtml;\n",
              "          element.appendChild(docLink);\n",
              "        }\n",
              "      </script>\n",
              "    </div>\n",
              "  </div>\n",
              "  "
            ]
          },
          "metadata": {},
          "execution_count": 13
        }
      ]
    },
    {
      "cell_type": "code",
      "source": [
        "# 그룹별 통계량 계산\n",
        "group = fish_multi.groupby('species')\n",
        "print(group.mean())\n",
        "print(group.std(ddof=1))\n",
        "group.describe()\n",
        "\n",
        "# 전체적으로 B가 더 크다는 것을 알 수 있음"
      ],
      "metadata": {
        "colab": {
          "base_uri": "https://localhost:8080/",
          "height": 322
        },
        "id": "YKzZu5RleOmO",
        "outputId": "f154ce64-bbac-493c-91f1-250328b1360f"
      },
      "execution_count": null,
      "outputs": [
        {
          "output_type": "stream",
          "name": "stdout",
          "text": [
            "         length\n",
            "species        \n",
            "A           3.0\n",
            "B           8.0\n",
            "         length\n",
            "species        \n",
            "A           1.0\n",
            "B           2.0\n"
          ]
        },
        {
          "output_type": "execute_result",
          "data": {
            "text/plain": [
              "        length                                    \n",
              "         count mean  std  min  25%  50%  75%   max\n",
              "species                                           \n",
              "A          3.0  3.0  1.0  2.0  2.5  3.0  3.5   4.0\n",
              "B          3.0  8.0  2.0  6.0  7.0  8.0  9.0  10.0"
            ],
            "text/html": [
              "\n",
              "  <div id=\"df-a423edde-6ab4-4d41-a414-d188e348315c\">\n",
              "    <div class=\"colab-df-container\">\n",
              "      <div>\n",
              "<style scoped>\n",
              "    .dataframe tbody tr th:only-of-type {\n",
              "        vertical-align: middle;\n",
              "    }\n",
              "\n",
              "    .dataframe tbody tr th {\n",
              "        vertical-align: top;\n",
              "    }\n",
              "\n",
              "    .dataframe thead tr th {\n",
              "        text-align: left;\n",
              "    }\n",
              "\n",
              "    .dataframe thead tr:last-of-type th {\n",
              "        text-align: right;\n",
              "    }\n",
              "</style>\n",
              "<table border=\"1\" class=\"dataframe\">\n",
              "  <thead>\n",
              "    <tr>\n",
              "      <th></th>\n",
              "      <th colspan=\"8\" halign=\"left\">length</th>\n",
              "    </tr>\n",
              "    <tr>\n",
              "      <th></th>\n",
              "      <th>count</th>\n",
              "      <th>mean</th>\n",
              "      <th>std</th>\n",
              "      <th>min</th>\n",
              "      <th>25%</th>\n",
              "      <th>50%</th>\n",
              "      <th>75%</th>\n",
              "      <th>max</th>\n",
              "    </tr>\n",
              "    <tr>\n",
              "      <th>species</th>\n",
              "      <th></th>\n",
              "      <th></th>\n",
              "      <th></th>\n",
              "      <th></th>\n",
              "      <th></th>\n",
              "      <th></th>\n",
              "      <th></th>\n",
              "      <th></th>\n",
              "    </tr>\n",
              "  </thead>\n",
              "  <tbody>\n",
              "    <tr>\n",
              "      <th>A</th>\n",
              "      <td>3.0</td>\n",
              "      <td>3.0</td>\n",
              "      <td>1.0</td>\n",
              "      <td>2.0</td>\n",
              "      <td>2.5</td>\n",
              "      <td>3.0</td>\n",
              "      <td>3.5</td>\n",
              "      <td>4.0</td>\n",
              "    </tr>\n",
              "    <tr>\n",
              "      <th>B</th>\n",
              "      <td>3.0</td>\n",
              "      <td>8.0</td>\n",
              "      <td>2.0</td>\n",
              "      <td>6.0</td>\n",
              "      <td>7.0</td>\n",
              "      <td>8.0</td>\n",
              "      <td>9.0</td>\n",
              "      <td>10.0</td>\n",
              "    </tr>\n",
              "  </tbody>\n",
              "</table>\n",
              "</div>\n",
              "      <button class=\"colab-df-convert\" onclick=\"convertToInteractive('df-a423edde-6ab4-4d41-a414-d188e348315c')\"\n",
              "              title=\"Convert this dataframe to an interactive table.\"\n",
              "              style=\"display:none;\">\n",
              "        \n",
              "  <svg xmlns=\"http://www.w3.org/2000/svg\" height=\"24px\"viewBox=\"0 0 24 24\"\n",
              "       width=\"24px\">\n",
              "    <path d=\"M0 0h24v24H0V0z\" fill=\"none\"/>\n",
              "    <path d=\"M18.56 5.44l.94 2.06.94-2.06 2.06-.94-2.06-.94-.94-2.06-.94 2.06-2.06.94zm-11 1L8.5 8.5l.94-2.06 2.06-.94-2.06-.94L8.5 2.5l-.94 2.06-2.06.94zm10 10l.94 2.06.94-2.06 2.06-.94-2.06-.94-.94-2.06-.94 2.06-2.06.94z\"/><path d=\"M17.41 7.96l-1.37-1.37c-.4-.4-.92-.59-1.43-.59-.52 0-1.04.2-1.43.59L10.3 9.45l-7.72 7.72c-.78.78-.78 2.05 0 2.83L4 21.41c.39.39.9.59 1.41.59.51 0 1.02-.2 1.41-.59l7.78-7.78 2.81-2.81c.8-.78.8-2.07 0-2.86zM5.41 20L4 18.59l7.72-7.72 1.47 1.35L5.41 20z\"/>\n",
              "  </svg>\n",
              "      </button>\n",
              "      \n",
              "  <style>\n",
              "    .colab-df-container {\n",
              "      display:flex;\n",
              "      flex-wrap:wrap;\n",
              "      gap: 12px;\n",
              "    }\n",
              "\n",
              "    .colab-df-convert {\n",
              "      background-color: #E8F0FE;\n",
              "      border: none;\n",
              "      border-radius: 50%;\n",
              "      cursor: pointer;\n",
              "      display: none;\n",
              "      fill: #1967D2;\n",
              "      height: 32px;\n",
              "      padding: 0 0 0 0;\n",
              "      width: 32px;\n",
              "    }\n",
              "\n",
              "    .colab-df-convert:hover {\n",
              "      background-color: #E2EBFA;\n",
              "      box-shadow: 0px 1px 2px rgba(60, 64, 67, 0.3), 0px 1px 3px 1px rgba(60, 64, 67, 0.15);\n",
              "      fill: #174EA6;\n",
              "    }\n",
              "\n",
              "    [theme=dark] .colab-df-convert {\n",
              "      background-color: #3B4455;\n",
              "      fill: #D2E3FC;\n",
              "    }\n",
              "\n",
              "    [theme=dark] .colab-df-convert:hover {\n",
              "      background-color: #434B5C;\n",
              "      box-shadow: 0px 1px 3px 1px rgba(0, 0, 0, 0.15);\n",
              "      filter: drop-shadow(0px 1px 2px rgba(0, 0, 0, 0.3));\n",
              "      fill: #FFFFFF;\n",
              "    }\n",
              "  </style>\n",
              "\n",
              "      <script>\n",
              "        const buttonEl =\n",
              "          document.querySelector('#df-a423edde-6ab4-4d41-a414-d188e348315c button.colab-df-convert');\n",
              "        buttonEl.style.display =\n",
              "          google.colab.kernel.accessAllowed ? 'block' : 'none';\n",
              "\n",
              "        async function convertToInteractive(key) {\n",
              "          const element = document.querySelector('#df-a423edde-6ab4-4d41-a414-d188e348315c');\n",
              "          const dataTable =\n",
              "            await google.colab.kernel.invokeFunction('convertToInteractive',\n",
              "                                                     [key], {});\n",
              "          if (!dataTable) return;\n",
              "\n",
              "          const docLinkHtml = 'Like what you see? Visit the ' +\n",
              "            '<a target=\"_blank\" href=https://colab.research.google.com/notebooks/data_table.ipynb>data table notebook</a>'\n",
              "            + ' to learn more about interactive tables.';\n",
              "          element.innerHTML = '';\n",
              "          dataTable['output_type'] = 'display_data';\n",
              "          await google.colab.output.renderOutput(dataTable, element);\n",
              "          const docLink = document.createElement('div');\n",
              "          docLink.innerHTML = docLinkHtml;\n",
              "          element.appendChild(docLink);\n",
              "        }\n",
              "      </script>\n",
              "    </div>\n",
              "  </div>\n",
              "  "
            ]
          },
          "metadata": {},
          "execution_count": 14
        }
      ]
    },
    {
      "cell_type": "code",
      "source": [
        "cov_data = pd.read_csv('/content/drive/MyDrive/통계/4_cov.csv')\n",
        "cov_data "
      ],
      "metadata": {
        "colab": {
          "base_uri": "https://localhost:8080/",
          "height": 363
        },
        "id": "JzBDDpu8edir",
        "outputId": "9723da3a-a99e-4144-b069-fea564f8afa0"
      },
      "execution_count": null,
      "outputs": [
        {
          "output_type": "execute_result",
          "data": {
            "text/plain": [
              "      x   y\n",
              "0  18.5  34\n",
              "1  18.7  39\n",
              "2  19.1  41\n",
              "3  19.7  38\n",
              "4  21.5  45\n",
              "5  21.7  41\n",
              "6  21.8  52\n",
              "7  22.0  44\n",
              "8  23.4  44\n",
              "9  23.8  49"
            ],
            "text/html": [
              "\n",
              "  <div id=\"df-ae4ccf25-cf7e-4e2e-bf82-8bc731329a95\">\n",
              "    <div class=\"colab-df-container\">\n",
              "      <div>\n",
              "<style scoped>\n",
              "    .dataframe tbody tr th:only-of-type {\n",
              "        vertical-align: middle;\n",
              "    }\n",
              "\n",
              "    .dataframe tbody tr th {\n",
              "        vertical-align: top;\n",
              "    }\n",
              "\n",
              "    .dataframe thead th {\n",
              "        text-align: right;\n",
              "    }\n",
              "</style>\n",
              "<table border=\"1\" class=\"dataframe\">\n",
              "  <thead>\n",
              "    <tr style=\"text-align: right;\">\n",
              "      <th></th>\n",
              "      <th>x</th>\n",
              "      <th>y</th>\n",
              "    </tr>\n",
              "  </thead>\n",
              "  <tbody>\n",
              "    <tr>\n",
              "      <th>0</th>\n",
              "      <td>18.5</td>\n",
              "      <td>34</td>\n",
              "    </tr>\n",
              "    <tr>\n",
              "      <th>1</th>\n",
              "      <td>18.7</td>\n",
              "      <td>39</td>\n",
              "    </tr>\n",
              "    <tr>\n",
              "      <th>2</th>\n",
              "      <td>19.1</td>\n",
              "      <td>41</td>\n",
              "    </tr>\n",
              "    <tr>\n",
              "      <th>3</th>\n",
              "      <td>19.7</td>\n",
              "      <td>38</td>\n",
              "    </tr>\n",
              "    <tr>\n",
              "      <th>4</th>\n",
              "      <td>21.5</td>\n",
              "      <td>45</td>\n",
              "    </tr>\n",
              "    <tr>\n",
              "      <th>5</th>\n",
              "      <td>21.7</td>\n",
              "      <td>41</td>\n",
              "    </tr>\n",
              "    <tr>\n",
              "      <th>6</th>\n",
              "      <td>21.8</td>\n",
              "      <td>52</td>\n",
              "    </tr>\n",
              "    <tr>\n",
              "      <th>7</th>\n",
              "      <td>22.0</td>\n",
              "      <td>44</td>\n",
              "    </tr>\n",
              "    <tr>\n",
              "      <th>8</th>\n",
              "      <td>23.4</td>\n",
              "      <td>44</td>\n",
              "    </tr>\n",
              "    <tr>\n",
              "      <th>9</th>\n",
              "      <td>23.8</td>\n",
              "      <td>49</td>\n",
              "    </tr>\n",
              "  </tbody>\n",
              "</table>\n",
              "</div>\n",
              "      <button class=\"colab-df-convert\" onclick=\"convertToInteractive('df-ae4ccf25-cf7e-4e2e-bf82-8bc731329a95')\"\n",
              "              title=\"Convert this dataframe to an interactive table.\"\n",
              "              style=\"display:none;\">\n",
              "        \n",
              "  <svg xmlns=\"http://www.w3.org/2000/svg\" height=\"24px\"viewBox=\"0 0 24 24\"\n",
              "       width=\"24px\">\n",
              "    <path d=\"M0 0h24v24H0V0z\" fill=\"none\"/>\n",
              "    <path d=\"M18.56 5.44l.94 2.06.94-2.06 2.06-.94-2.06-.94-.94-2.06-.94 2.06-2.06.94zm-11 1L8.5 8.5l.94-2.06 2.06-.94-2.06-.94L8.5 2.5l-.94 2.06-2.06.94zm10 10l.94 2.06.94-2.06 2.06-.94-2.06-.94-.94-2.06-.94 2.06-2.06.94z\"/><path d=\"M17.41 7.96l-1.37-1.37c-.4-.4-.92-.59-1.43-.59-.52 0-1.04.2-1.43.59L10.3 9.45l-7.72 7.72c-.78.78-.78 2.05 0 2.83L4 21.41c.39.39.9.59 1.41.59.51 0 1.02-.2 1.41-.59l7.78-7.78 2.81-2.81c.8-.78.8-2.07 0-2.86zM5.41 20L4 18.59l7.72-7.72 1.47 1.35L5.41 20z\"/>\n",
              "  </svg>\n",
              "      </button>\n",
              "      \n",
              "  <style>\n",
              "    .colab-df-container {\n",
              "      display:flex;\n",
              "      flex-wrap:wrap;\n",
              "      gap: 12px;\n",
              "    }\n",
              "\n",
              "    .colab-df-convert {\n",
              "      background-color: #E8F0FE;\n",
              "      border: none;\n",
              "      border-radius: 50%;\n",
              "      cursor: pointer;\n",
              "      display: none;\n",
              "      fill: #1967D2;\n",
              "      height: 32px;\n",
              "      padding: 0 0 0 0;\n",
              "      width: 32px;\n",
              "    }\n",
              "\n",
              "    .colab-df-convert:hover {\n",
              "      background-color: #E2EBFA;\n",
              "      box-shadow: 0px 1px 2px rgba(60, 64, 67, 0.3), 0px 1px 3px 1px rgba(60, 64, 67, 0.15);\n",
              "      fill: #174EA6;\n",
              "    }\n",
              "\n",
              "    [theme=dark] .colab-df-convert {\n",
              "      background-color: #3B4455;\n",
              "      fill: #D2E3FC;\n",
              "    }\n",
              "\n",
              "    [theme=dark] .colab-df-convert:hover {\n",
              "      background-color: #434B5C;\n",
              "      box-shadow: 0px 1px 3px 1px rgba(0, 0, 0, 0.15);\n",
              "      filter: drop-shadow(0px 1px 2px rgba(0, 0, 0, 0.3));\n",
              "      fill: #FFFFFF;\n",
              "    }\n",
              "  </style>\n",
              "\n",
              "      <script>\n",
              "        const buttonEl =\n",
              "          document.querySelector('#df-ae4ccf25-cf7e-4e2e-bf82-8bc731329a95 button.colab-df-convert');\n",
              "        buttonEl.style.display =\n",
              "          google.colab.kernel.accessAllowed ? 'block' : 'none';\n",
              "\n",
              "        async function convertToInteractive(key) {\n",
              "          const element = document.querySelector('#df-ae4ccf25-cf7e-4e2e-bf82-8bc731329a95');\n",
              "          const dataTable =\n",
              "            await google.colab.kernel.invokeFunction('convertToInteractive',\n",
              "                                                     [key], {});\n",
              "          if (!dataTable) return;\n",
              "\n",
              "          const docLinkHtml = 'Like what you see? Visit the ' +\n",
              "            '<a target=\"_blank\" href=https://colab.research.google.com/notebooks/data_table.ipynb>data table notebook</a>'\n",
              "            + ' to learn more about interactive tables.';\n",
              "          element.innerHTML = '';\n",
              "          dataTable['output_type'] = 'display_data';\n",
              "          await google.colab.output.renderOutput(dataTable, element);\n",
              "          const docLink = document.createElement('div');\n",
              "          docLink.innerHTML = docLinkHtml;\n",
              "          element.appendChild(docLink);\n",
              "        }\n",
              "      </script>\n",
              "    </div>\n",
              "  </div>\n",
              "  "
            ]
          },
          "metadata": {},
          "execution_count": 15
        }
      ]
    },
    {
      "cell_type": "code",
      "source": [
        "# 공분산 행렬\n",
        "import scipy as sp\n",
        "import numpy as np\n",
        "np.cov(cov_data.x, cov_data.y, ddof=1)"
      ],
      "metadata": {
        "colab": {
          "base_uri": "https://localhost:8080/"
        },
        "id": "vLkExprUfAnS",
        "outputId": "e28b48c7-30dc-4b21-cc87-641ceeec368c"
      },
      "execution_count": null,
      "outputs": [
        {
          "output_type": "execute_result",
          "data": {
            "text/plain": [
              "array([[ 3.64622222,  7.67333333],\n",
              "       [ 7.67333333, 28.01111111]])"
            ]
          },
          "metadata": {},
          "execution_count": 16
        }
      ]
    },
    {
      "cell_type": "code",
      "source": [
        "# 상관행렬\n",
        "np.corrcoef(cov_data.x, cov_data.y)"
      ],
      "metadata": {
        "colab": {
          "base_uri": "https://localhost:8080/"
        },
        "id": "5tiMPLcffOhb",
        "outputId": "a44f05c7-0b29-4fd4-9c6e-50a68c031d52"
      },
      "execution_count": null,
      "outputs": [
        {
          "output_type": "execute_result",
          "data": {
            "text/plain": [
              "array([[1.       , 0.7592719],\n",
              "       [0.7592719, 1.       ]])"
            ]
          },
          "metadata": {},
          "execution_count": 17
        }
      ]
    },
    {
      "cell_type": "code",
      "source": [
        "# 상관 계수 : df.corr()\n",
        "cov_data.corr()"
      ],
      "metadata": {
        "colab": {
          "base_uri": "https://localhost:8080/",
          "height": 112
        },
        "id": "bspIIP3-fd3_",
        "outputId": "f24c8b98-1990-4e85-9573-c2a745a966f2"
      },
      "execution_count": null,
      "outputs": [
        {
          "output_type": "execute_result",
          "data": {
            "text/plain": [
              "          x         y\n",
              "x  1.000000  0.759272\n",
              "y  0.759272  1.000000"
            ],
            "text/html": [
              "\n",
              "  <div id=\"df-c2928a30-2340-4a96-b064-3694adceec8f\">\n",
              "    <div class=\"colab-df-container\">\n",
              "      <div>\n",
              "<style scoped>\n",
              "    .dataframe tbody tr th:only-of-type {\n",
              "        vertical-align: middle;\n",
              "    }\n",
              "\n",
              "    .dataframe tbody tr th {\n",
              "        vertical-align: top;\n",
              "    }\n",
              "\n",
              "    .dataframe thead th {\n",
              "        text-align: right;\n",
              "    }\n",
              "</style>\n",
              "<table border=\"1\" class=\"dataframe\">\n",
              "  <thead>\n",
              "    <tr style=\"text-align: right;\">\n",
              "      <th></th>\n",
              "      <th>x</th>\n",
              "      <th>y</th>\n",
              "    </tr>\n",
              "  </thead>\n",
              "  <tbody>\n",
              "    <tr>\n",
              "      <th>x</th>\n",
              "      <td>1.000000</td>\n",
              "      <td>0.759272</td>\n",
              "    </tr>\n",
              "    <tr>\n",
              "      <th>y</th>\n",
              "      <td>0.759272</td>\n",
              "      <td>1.000000</td>\n",
              "    </tr>\n",
              "  </tbody>\n",
              "</table>\n",
              "</div>\n",
              "      <button class=\"colab-df-convert\" onclick=\"convertToInteractive('df-c2928a30-2340-4a96-b064-3694adceec8f')\"\n",
              "              title=\"Convert this dataframe to an interactive table.\"\n",
              "              style=\"display:none;\">\n",
              "        \n",
              "  <svg xmlns=\"http://www.w3.org/2000/svg\" height=\"24px\"viewBox=\"0 0 24 24\"\n",
              "       width=\"24px\">\n",
              "    <path d=\"M0 0h24v24H0V0z\" fill=\"none\"/>\n",
              "    <path d=\"M18.56 5.44l.94 2.06.94-2.06 2.06-.94-2.06-.94-.94-2.06-.94 2.06-2.06.94zm-11 1L8.5 8.5l.94-2.06 2.06-.94-2.06-.94L8.5 2.5l-.94 2.06-2.06.94zm10 10l.94 2.06.94-2.06 2.06-.94-2.06-.94-.94-2.06-.94 2.06-2.06.94z\"/><path d=\"M17.41 7.96l-1.37-1.37c-.4-.4-.92-.59-1.43-.59-.52 0-1.04.2-1.43.59L10.3 9.45l-7.72 7.72c-.78.78-.78 2.05 0 2.83L4 21.41c.39.39.9.59 1.41.59.51 0 1.02-.2 1.41-.59l7.78-7.78 2.81-2.81c.8-.78.8-2.07 0-2.86zM5.41 20L4 18.59l7.72-7.72 1.47 1.35L5.41 20z\"/>\n",
              "  </svg>\n",
              "      </button>\n",
              "      \n",
              "  <style>\n",
              "    .colab-df-container {\n",
              "      display:flex;\n",
              "      flex-wrap:wrap;\n",
              "      gap: 12px;\n",
              "    }\n",
              "\n",
              "    .colab-df-convert {\n",
              "      background-color: #E8F0FE;\n",
              "      border: none;\n",
              "      border-radius: 50%;\n",
              "      cursor: pointer;\n",
              "      display: none;\n",
              "      fill: #1967D2;\n",
              "      height: 32px;\n",
              "      padding: 0 0 0 0;\n",
              "      width: 32px;\n",
              "    }\n",
              "\n",
              "    .colab-df-convert:hover {\n",
              "      background-color: #E2EBFA;\n",
              "      box-shadow: 0px 1px 2px rgba(60, 64, 67, 0.3), 0px 1px 3px 1px rgba(60, 64, 67, 0.15);\n",
              "      fill: #174EA6;\n",
              "    }\n",
              "\n",
              "    [theme=dark] .colab-df-convert {\n",
              "      background-color: #3B4455;\n",
              "      fill: #D2E3FC;\n",
              "    }\n",
              "\n",
              "    [theme=dark] .colab-df-convert:hover {\n",
              "      background-color: #434B5C;\n",
              "      box-shadow: 0px 1px 3px 1px rgba(0, 0, 0, 0.15);\n",
              "      filter: drop-shadow(0px 1px 2px rgba(0, 0, 0, 0.3));\n",
              "      fill: #FFFFFF;\n",
              "    }\n",
              "  </style>\n",
              "\n",
              "      <script>\n",
              "        const buttonEl =\n",
              "          document.querySelector('#df-c2928a30-2340-4a96-b064-3694adceec8f button.colab-df-convert');\n",
              "        buttonEl.style.display =\n",
              "          google.colab.kernel.accessAllowed ? 'block' : 'none';\n",
              "\n",
              "        async function convertToInteractive(key) {\n",
              "          const element = document.querySelector('#df-c2928a30-2340-4a96-b064-3694adceec8f');\n",
              "          const dataTable =\n",
              "            await google.colab.kernel.invokeFunction('convertToInteractive',\n",
              "                                                     [key], {});\n",
              "          if (!dataTable) return;\n",
              "\n",
              "          const docLinkHtml = 'Like what you see? Visit the ' +\n",
              "            '<a target=\"_blank\" href=https://colab.research.google.com/notebooks/data_table.ipynb>data table notebook</a>'\n",
              "            + ' to learn more about interactive tables.';\n",
              "          element.innerHTML = '';\n",
              "          dataTable['output_type'] = 'display_data';\n",
              "          await google.colab.output.renderOutput(dataTable, element);\n",
              "          const docLink = document.createElement('div');\n",
              "          docLink.innerHTML = docLinkHtml;\n",
              "          element.appendChild(docLink);\n",
              "        }\n",
              "      </script>\n",
              "    </div>\n",
              "  </div>\n",
              "  "
            ]
          },
          "metadata": {},
          "execution_count": 18
        }
      ]
    },
    {
      "cell_type": "code",
      "source": [
        "#양의상관계수\n",
        "#음의상관계수\n",
        "#- 한쪽이 올라가면 한쪽이 내려감\n",
        "#- 상관관계가 0이 나오면 상관관계가 없음\n",
        "#- 양, 음 둘 다 상관계수가 크면 의미 있는 상관계수임"
      ],
      "metadata": {
        "id": "3gbnifssfhZZ"
      },
      "execution_count": null,
      "outputs": []
    },
    {
      "cell_type": "code",
      "source": [
        "# 평균4, 표준편차 0.8인 정규분포에서 10개 샘플 추출 (0.8 : 모집단의 표준편차)\n",
        "from scipy import stats\n",
        "population = stats.norm(loc=4, scale=0.8)\n",
        "population.rvs(size=10)"
      ],
      "metadata": {
        "colab": {
          "base_uri": "https://localhost:8080/"
        },
        "id": "rhbqrNjc76S5",
        "outputId": "b379a6db-1d24-4f86-a808-6ea0033f819b"
      },
      "execution_count": null,
      "outputs": [
        {
          "output_type": "execute_result",
          "data": {
            "text/plain": [
              "array([4.55757682, 3.19835646, 4.16222689, 4.31209575, 4.5481755 ,\n",
              "       3.51231188, 3.80781235, 3.8669014 , 3.19297928, 4.13158262])"
            ]
          },
          "metadata": {},
          "execution_count": 3
        }
      ]
    },
    {
      "cell_type": "code",
      "source": [
        "import numpy as np\n",
        "sample_mean_array = np.zeros(10000)\n",
        "sample_mean_array[:10]"
      ],
      "metadata": {
        "colab": {
          "base_uri": "https://localhost:8080/"
        },
        "id": "Fj_n774T8PHF",
        "outputId": "97df1c34-1fa3-4ada-fc94-59d3b8753423"
      },
      "execution_count": null,
      "outputs": [
        {
          "output_type": "execute_result",
          "data": {
            "text/plain": [
              "array([0., 0., 0., 0., 0., 0., 0., 0., 0., 0.])"
            ]
          },
          "metadata": {},
          "execution_count": 5
        }
      ]
    },
    {
      "cell_type": "code",
      "source": [
        "# Q. 배열에 샘플사이즈 10인 표본 10000개의 표본평균을 저장\n",
        "\n",
        "for i in range(10000):\n",
        "  sample_mean_array[i] = population.rvs(size=10).mean()\n",
        "sample_mean_array[:10]\n",
        "\n",
        "# 평균을 구해서 i에 넣어주는 것임\n",
        "# 평균4, 표준편차 0.8인 정규분포에서 10개 샘플 추출에서 뽑아온 것임"
      ],
      "metadata": {
        "colab": {
          "base_uri": "https://localhost:8080/"
        },
        "id": "EmpYMuMC8VPa",
        "outputId": "4f95bf07-63e3-4637-b5e2-54bd92f82dbb"
      },
      "execution_count": null,
      "outputs": [
        {
          "output_type": "execute_result",
          "data": {
            "text/plain": [
              "array([3.63096738, 4.0873601 , 3.67186903, 4.22450424, 3.19625435,\n",
              "       3.69713546, 3.99464614, 4.06716482, 4.02080205, 4.05758882])"
            ]
          },
          "metadata": {},
          "execution_count": 7
        }
      ]
    },
    {
      "cell_type": "code",
      "source": [
        "# 표본평균의 평균\n",
        "sample_mean_array.mean().round(2)"
      ],
      "metadata": {
        "colab": {
          "base_uri": "https://localhost:8080/"
        },
        "id": "5GObVyDR8sDM",
        "outputId": "0bafc03c-025d-4087-f207-0d6595dcc2eb"
      },
      "execution_count": null,
      "outputs": [
        {
          "output_type": "execute_result",
          "data": {
            "text/plain": [
              "4.0"
            ]
          },
          "metadata": {},
          "execution_count": 10
        }
      ]
    },
    {
      "cell_type": "code",
      "source": [
        "# 표본의 표준편차\n",
        "sample_mean_array.std(ddof=1).round(2)"
      ],
      "metadata": {
        "colab": {
          "base_uri": "https://localhost:8080/"
        },
        "id": "_NdeRfBT86Hy",
        "outputId": "17e877fe-a47b-4a20-a629-a0b83bf6bd49"
      },
      "execution_count": null,
      "outputs": [
        {
          "output_type": "execute_result",
          "data": {
            "text/plain": [
              "0.25"
            ]
          },
          "metadata": {},
          "execution_count": 11
        }
      ]
    },
    {
      "cell_type": "code",
      "source": [
        "import seaborn as sns\n",
        "sns.histplot(sample_mean_array,color='black', kde=True)   # 표본평균의 표준편차\n",
        "# 샘플사이즈 10인 표본 10000개의 표본평균을 구한 표본편균의 표준편차"
      ],
      "metadata": {
        "colab": {
          "base_uri": "https://localhost:8080/",
          "height": 283
        },
        "id": "UVnrrvRy9Go0",
        "outputId": "367993ea-4b4d-460e-e411-a05d3dfe698b"
      },
      "execution_count": null,
      "outputs": [
        {
          "output_type": "execute_result",
          "data": {
            "text/plain": [
              "<matplotlib.axes._subplots.AxesSubplot at 0x7fb0c3885820>"
            ]
          },
          "metadata": {},
          "execution_count": 12
        },
        {
          "output_type": "display_data",
          "data": {
            "text/plain": [
              "<Figure size 432x288 with 1 Axes>"
            ],
            "image/png": "[encoded data removed]"
          },
          "metadata": {
            "needs_background": "light"
          }
        }
      ]
    },
    {
      "cell_type": "code",
      "source": [
        "# 샘플 사이즈 변화 (범위, 범위, 간격)\n",
        "size_array = np.arange(10, 100100,100)\n",
        "len(size_array)"
      ],
      "metadata": {
        "colab": {
          "base_uri": "https://localhost:8080/"
        },
        "id": "msL-xSsH9PnJ",
        "outputId": "0186ca4b-1e25-4eb1-badc-b06968bdd925"
      },
      "execution_count": null,
      "outputs": [
        {
          "output_type": "execute_result",
          "data": {
            "text/plain": [
              "1001"
            ]
          },
          "metadata": {},
          "execution_count": 19
        }
      ]
    },
    {
      "cell_type": "code",
      "source": [
        "sample_mean_array_size = np.zeros(len(size_array))"
      ],
      "metadata": {
        "id": "25WGAOsX-PQQ"
      },
      "execution_count": null,
      "outputs": []
    },
    {
      "cell_type": "code",
      "source": [
        "# 샘플 사이즈를 변화시미켠서 표본평균을 도출하는 시뮬레이션\n",
        "np.random.seed(1)\n",
        "for i in range(0, len(size_array)):\n",
        "  sample = population.rvs(size=size_array[i])\n",
        "  sample_mean_array_size[i] = np.mean(sample)\n",
        "sample_mean_array_size[:10]"
      ],
      "metadata": {
        "colab": {
          "base_uri": "https://localhost:8080/"
        },
        "id": "0toeD7wz-5VX",
        "outputId": "3770c387-8b3d-45de-d314-fd6dc476d476"
      },
      "execution_count": null,
      "outputs": [
        {
          "output_type": "execute_result",
          "data": {
            "text/plain": [
              "array([3.92228729, 4.0383612 , 4.09185254, 4.01346562, 4.0047295 ,\n",
              "       4.05765729, 3.98466861, 3.99126955, 3.98909837, 4.03638272])"
            ]
          },
          "metadata": {},
          "execution_count": 21
        }
      ]
    },
    {
      "cell_type": "code",
      "source": [
        "# 샘플사이즈가 커질수록 표본평균이 모평균(4)에 가까워짐\n",
        "import matplotlib.pyplot as plt\n",
        "plt.plot(size_array, sample_mean_array_size,\n",
        "         color='black')\n",
        "plt.xlabel('sample size')\n",
        "plt.ylabel('sample mean')\n",
        "\n",
        "# 평균에 수렴하게 됨"
      ],
      "metadata": {
        "colab": {
          "base_uri": "https://localhost:8080/",
          "height": 301
        },
        "id": "_boH05z1_pBp",
        "outputId": "9ab4a0c1-880d-420a-930f-2edc5c22b2c3"
      },
      "execution_count": null,
      "outputs": [
        {
          "output_type": "execute_result",
          "data": {
            "text/plain": [
              "Text(0, 0.5, 'sample mean')"
            ]
          },
          "metadata": {},
          "execution_count": 23
        },
        {
          "output_type": "display_data",
          "data": {
            "text/plain": [
              "<Figure size 432x288 with 1 Axes>"
            ],
            "image/png": "[encoded data removed]"
          },
          "metadata": {
            "needs_background": "light"
          }
        }
      ]
    },
    {
      "cell_type": "code",
      "source": [
        "# 사용자 함수(표본평균 계산): cal_sample_mean(size, n_trial)\n",
        "\n",
        "def cal_sample_mean(size, n_trial):\n",
        "  sample_mean_array_size = np.zeros(n_trial)\n",
        "  for i in range(n_trial):\n",
        "    sample_mean_array[i] = population.rvs(size=size).mean()\n",
        "  return sample_mean_array\n",
        "\n",
        "np.mean(cal_sample_mean(size=10, n_trial=10000))"
      ],
      "metadata": {
        "colab": {
          "base_uri": "https://localhost:8080/"
        },
        "id": "TNR3nJyt_-XT",
        "outputId": "3b20da3d-af64-4275-d553-8fc4ecfa205f"
      },
      "execution_count": null,
      "outputs": [
        {
          "output_type": "execute_result",
          "data": {
            "text/plain": [
              "4.001728724963021"
            ]
          },
          "metadata": {},
          "execution_count": 24
        }
      ]
    },
    {
      "cell_type": "code",
      "source": [
        "# 샘플사이즈 10\n",
        "import pandas as pd\n",
        "size_10 = cal_sample_mean(size=10, n_trial=10000)\n",
        "size_10_df = pd.DataFrame({'sample_mean': size_10,\n",
        "                           'size':np.tile('size_10', 10000)})\n",
        "# 샘플사이즈, 20\n",
        "size_20 = cal_sample_mean(size=20, n_trial=10000)\n",
        "size_20_df = pd.DataFrame({'sample_mean': size_20,\n",
        "                           'size':np.tile('size_20', 10000)})\n",
        "# 샘플사이즈, 30\n",
        "size_30 = cal_sample_mean(size=30, n_trial=10000)\n",
        "size_30_df = pd.DataFrame({'sample_mean': size_30,\n",
        "                           'size':np.tile('size_30', 10000)})\n",
        "\n",
        "# 종합\n",
        "sim_result  = pd.concat([size_10_df, size_20_df, size_30_df])\n",
        "sim_result"
      ],
      "metadata": {
        "colab": {
          "base_uri": "https://localhost:8080/",
          "height": 424
        },
        "id": "9o0VZ4UYA7X4",
        "outputId": "e7b58d6f-4b62-404b-de5a-a3906d7d2340"
      },
      "execution_count": null,
      "outputs": [
        {
          "output_type": "execute_result",
          "data": {
            "text/plain": [
              "      sample_mean     size\n",
              "0        4.394884  size_10\n",
              "1        4.148566  size_10\n",
              "2        3.883511  size_10\n",
              "3        4.041826  size_10\n",
              "4        4.081926  size_10\n",
              "...           ...      ...\n",
              "9995     4.052875  size_30\n",
              "9996     4.223965  size_30\n",
              "9997     4.035042  size_30\n",
              "9998     4.042268  size_30\n",
              "9999     3.983148  size_30\n",
              "\n",
              "[30000 rows x 2 columns]"
            ],
            "text/html": [
              "\n",
              "  <div id=\"df-0c8a3c10-12d8-4d2e-b996-06e98cd8d415\">\n",
              "    <div class=\"colab-df-container\">\n",
              "      <div>\n",
              "<style scoped>\n",
              "    .dataframe tbody tr th:only-of-type {\n",
              "        vertical-align: middle;\n",
              "    }\n",
              "\n",
              "    .dataframe tbody tr th {\n",
              "        vertical-align: top;\n",
              "    }\n",
              "\n",
              "    .dataframe thead th {\n",
              "        text-align: right;\n",
              "    }\n",
              "</style>\n",
              "<table border=\"1\" class=\"dataframe\">\n",
              "  <thead>\n",
              "    <tr style=\"text-align: right;\">\n",
              "      <th></th>\n",
              "      <th>sample_mean</th>\n",
              "      <th>size</th>\n",
              "    </tr>\n",
              "  </thead>\n",
              "  <tbody>\n",
              "    <tr>\n",
              "      <th>0</th>\n",
              "      <td>4.394884</td>\n",
              "      <td>size_10</td>\n",
              "    </tr>\n",
              "    <tr>\n",
              "      <th>1</th>\n",
              "      <td>4.148566</td>\n",
              "      <td>size_10</td>\n",
              "    </tr>\n",
              "    <tr>\n",
              "      <th>2</th>\n",
              "      <td>3.883511</td>\n",
              "      <td>size_10</td>\n",
              "    </tr>\n",
              "    <tr>\n",
              "      <th>3</th>\n",
              "      <td>4.041826</td>\n",
              "      <td>size_10</td>\n",
              "    </tr>\n",
              "    <tr>\n",
              "      <th>4</th>\n",
              "      <td>4.081926</td>\n",
              "      <td>size_10</td>\n",
              "    </tr>\n",
              "    <tr>\n",
              "      <th>...</th>\n",
              "      <td>...</td>\n",
              "      <td>...</td>\n",
              "    </tr>\n",
              "    <tr>\n",
              "      <th>9995</th>\n",
              "      <td>4.052875</td>\n",
              "      <td>size_30</td>\n",
              "    </tr>\n",
              "    <tr>\n",
              "      <th>9996</th>\n",
              "      <td>4.223965</td>\n",
              "      <td>size_30</td>\n",
              "    </tr>\n",
              "    <tr>\n",
              "      <th>9997</th>\n",
              "      <td>4.035042</td>\n",
              "      <td>size_30</td>\n",
              "    </tr>\n",
              "    <tr>\n",
              "      <th>9998</th>\n",
              "      <td>4.042268</td>\n",
              "      <td>size_30</td>\n",
              "    </tr>\n",
              "    <tr>\n",
              "      <th>9999</th>\n",
              "      <td>3.983148</td>\n",
              "      <td>size_30</td>\n",
              "    </tr>\n",
              "  </tbody>\n",
              "</table>\n",
              "<p>30000 rows × 2 columns</p>\n",
              "</div>\n",
              "      <button class=\"colab-df-convert\" onclick=\"convertToInteractive('df-0c8a3c10-12d8-4d2e-b996-06e98cd8d415')\"\n",
              "              title=\"Convert this dataframe to an interactive table.\"\n",
              "              style=\"display:none;\">\n",
              "        \n",
              "  <svg xmlns=\"http://www.w3.org/2000/svg\" height=\"24px\"viewBox=\"0 0 24 24\"\n",
              "       width=\"24px\">\n",
              "    <path d=\"M0 0h24v24H0V0z\" fill=\"none\"/>\n",
              "    <path d=\"M18.56 5.44l.94 2.06.94-2.06 2.06-.94-2.06-.94-.94-2.06-.94 2.06-2.06.94zm-11 1L8.5 8.5l.94-2.06 2.06-.94-2.06-.94L8.5 2.5l-.94 2.06-2.06.94zm10 10l.94 2.06.94-2.06 2.06-.94-2.06-.94-.94-2.06-.94 2.06-2.06.94z\"/><path d=\"M17.41 7.96l-1.37-1.37c-.4-.4-.92-.59-1.43-.59-.52 0-1.04.2-1.43.59L10.3 9.45l-7.72 7.72c-.78.78-.78 2.05 0 2.83L4 21.41c.39.39.9.59 1.41.59.51 0 1.02-.2 1.41-.59l7.78-7.78 2.81-2.81c.8-.78.8-2.07 0-2.86zM5.41 20L4 18.59l7.72-7.72 1.47 1.35L5.41 20z\"/>\n",
              "  </svg>\n",
              "      </button>\n",
              "      \n",
              "  <style>\n",
              "    .colab-df-container {\n",
              "      display:flex;\n",
              "      flex-wrap:wrap;\n",
              "      gap: 12px;\n",
              "    }\n",
              "\n",
              "    .colab-df-convert {\n",
              "      background-color: #E8F0FE;\n",
              "      border: none;\n",
              "      border-radius: 50%;\n",
              "      cursor: pointer;\n",
              "      display: none;\n",
              "      fill: #1967D2;\n",
              "      height: 32px;\n",
              "      padding: 0 0 0 0;\n",
              "      width: 32px;\n",
              "    }\n",
              "\n",
              "    .colab-df-convert:hover {\n",
              "      background-color: #E2EBFA;\n",
              "      box-shadow: 0px 1px 2px rgba(60, 64, 67, 0.3), 0px 1px 3px 1px rgba(60, 64, 67, 0.15);\n",
              "      fill: #174EA6;\n",
              "    }\n",
              "\n",
              "    [theme=dark] .colab-df-convert {\n",
              "      background-color: #3B4455;\n",
              "      fill: #D2E3FC;\n",
              "    }\n",
              "\n",
              "    [theme=dark] .colab-df-convert:hover {\n",
              "      background-color: #434B5C;\n",
              "      box-shadow: 0px 1px 3px 1px rgba(0, 0, 0, 0.15);\n",
              "      filter: drop-shadow(0px 1px 2px rgba(0, 0, 0, 0.3));\n",
              "      fill: #FFFFFF;\n",
              "    }\n",
              "  </style>\n",
              "\n",
              "      <script>\n",
              "        const buttonEl =\n",
              "          document.querySelector('#df-0c8a3c10-12d8-4d2e-b996-06e98cd8d415 button.colab-df-convert');\n",
              "        buttonEl.style.display =\n",
              "          google.colab.kernel.accessAllowed ? 'block' : 'none';\n",
              "\n",
              "        async function convertToInteractive(key) {\n",
              "          const element = document.querySelector('#df-0c8a3c10-12d8-4d2e-b996-06e98cd8d415');\n",
              "          const dataTable =\n",
              "            await google.colab.kernel.invokeFunction('convertToInteractive',\n",
              "                                                     [key], {});\n",
              "          if (!dataTable) return;\n",
              "\n",
              "          const docLinkHtml = 'Like what you see? Visit the ' +\n",
              "            '<a target=\"_blank\" href=https://colab.research.google.com/notebooks/data_table.ipynb>data table notebook</a>'\n",
              "            + ' to learn more about interactive tables.';\n",
              "          element.innerHTML = '';\n",
              "          dataTable['output_type'] = 'display_data';\n",
              "          await google.colab.output.renderOutput(dataTable, element);\n",
              "          const docLink = document.createElement('div');\n",
              "          docLink.innerHTML = docLinkHtml;\n",
              "          element.appendChild(docLink);\n",
              "        }\n",
              "      </script>\n",
              "    </div>\n",
              "  </div>\n",
              "  "
            ]
          },
          "metadata": {},
          "execution_count": 26
        }
      ]
    },
    {
      "cell_type": "code",
      "source": [
        "# Q. sim_resultㄹ 바이올린 플롯을 그리고 3개 그룹에 대한 인사이트를 기술\n",
        "sns.violinplot(x='size', y='sample_mean',\n",
        "               data=sim_result, color='gray')"
      ],
      "metadata": {
        "colab": {
          "base_uri": "https://localhost:8080/",
          "height": 298
        },
        "id": "mBkI2WJDERFk",
        "outputId": "f4047236-df0f-4c0f-aad9-535cd4d156d5"
      },
      "execution_count": null,
      "outputs": [
        {
          "output_type": "execute_result",
          "data": {
            "text/plain": [
              "<matplotlib.axes._subplots.AxesSubplot at 0x7fb0c1793d00>"
            ]
          },
          "metadata": {},
          "execution_count": 28
        },
        {
          "output_type": "display_data",
          "data": {
            "text/plain": [
              "<Figure size 432x288 with 1 Axes>"
            ],
            "image/png": "[encoded data removed]"
          },
          "metadata": {
            "needs_background": "light"
          }
        }
      ]
    },
    {
      "cell_type": "code",
      "source": [
        "# 세 분포 모두 평균 4.0을 중심으로 종모양의 분포 형태를 갖는다.\n",
        "# size=10일 때는 size=20,30일 때보다 분포가 넓게 퍼져 있고,\n",
        "# 샘플사이즈가 커질수록 분포가 평균 값에 몰려있다는 것을 확인할 수 있다.\n",
        "\n",
        "# 추출 횟수가 같더라도 샘플사이즈가 커질수록 표본평균이 모평균에 근사함\n",
        "# 추출 횟수가 같더라도 샘플사이즈가 커질수록 표준편차가 작아짐"
      ],
      "metadata": {
        "id": "xu3AC9ZSFbgb"
      },
      "execution_count": null,
      "outputs": []
    },
    {
      "cell_type": "code",
      "source": [
        "# 1. 샘플 사이즈가 커질수록 표본평균에 근접한 갑의 밀도가 높아짐.\n",
        "# 2. 즉 샘플 사이즈가 커질수록 표본평균이 모평균에 가까워짐\n",
        "# 3. 샘플 사이즈의 크기가 중요햐진다."
      ],
      "metadata": {
        "id": "Vws8PsUxGAoL"
      },
      "execution_count": null,
      "outputs": []
    },
    {
      "cell_type": "markdown",
      "source": [
        "Q. 전교생의 시험점수이다. 무작위추출로 표본 크기가 20인 표본을 추출하여 표본평균을 계산하는 작업을 10000번 수행해서 그 결과를 히스토그램으로 그려 표본평균이 어떻게 분포되는지 시각화를 수행하세요.\n"
      ],
      "metadata": {
        "id": "dafFy8-XGQKL"
      }
    },
    {
      "cell_type": "code",
      "source": [
        "df = pd.read_csv('/content/drive/MyDrive/통계/ch4_scores400.csv')\n",
        "scores = np.array(df['score'])\n",
        "scores[:10]"
      ],
      "metadata": {
        "colab": {
          "base_uri": "https://localhost:8080/"
        },
        "id": "vHIWid8bGrAE",
        "outputId": "cdee68c1-c0a4-4cb5-f3b9-ac476972cc8e"
      },
      "execution_count": null,
      "outputs": [
        {
          "output_type": "execute_result",
          "data": {
            "text/plain": [
              "array([76, 55, 80, 80, 74, 61, 81, 76, 23, 80])"
            ]
          },
          "metadata": {},
          "execution_count": 113
        }
      ]
    },
    {
      "cell_type": "code",
      "source": [
        "import matplotlib.pyplot as plt\n",
        "sample_means = [np.random.choice(scores, 20).mean() for _ in range(10000)]\n",
        "plt.figure(figsize=(10,6))\n",
        "\n",
        "plt.hist(sample_means, bins=100, range=(0,100), density=True)\n",
        "plt.vlines(np.mean(scores), 0, 1, 'yellow') ## 참고용\n",
        "plt.axis([50, 90, 0, 0.13])\n",
        "plt.xlabel('sore')\n",
        "plt.ylabel('Relative Frequency')"
      ],
      "metadata": {
        "colab": {
          "base_uri": "https://localhost:8080/",
          "height": 406
        },
        "id": "BtwjXRzXI46k",
        "outputId": "b41506ff-cf3a-489c-d13e-b5e55ef84c2b"
      },
      "execution_count": null,
      "outputs": [
        {
          "output_type": "execute_result",
          "data": {
            "text/plain": [
              "Text(0, 0.5, 'Relative Frequency')"
            ]
          },
          "metadata": {},
          "execution_count": 114
        },
        {
          "output_type": "display_data",
          "data": {
            "text/plain": [
              "<Figure size 720x432 with 1 Axes>"
            ],
            "image/png": "[encoded data removed]"
          },
          "metadata": {
            "needs_background": "light"
          }
        }
      ]
    },
    {
      "cell_type": "code",
      "source": [
        "# 표본평균의 표준편차를 저장할 배열\n",
        "size_array = np.arange(2, 102, 2)\n",
        "\n",
        "sample_mean_std_array = np.zeros(len(size_array))"
      ],
      "metadata": {
        "id": "geP1Un7cKL8c"
      },
      "execution_count": null,
      "outputs": []
    },
    {
      "cell_type": "code",
      "source": [
        "# 시뮬레이션 : 샘플사이즈가 커질수록 표본평균의 표준편차가 작아짐\n",
        "np.random.seed(1)\n",
        "for i in range(0, len(size_array)):\n",
        "  sample_mean = cal_sample_mean(size=size_array[i], n_trial=100)\n",
        "  sample_mean_std_array[i] = np.std(sample_mean, ddof=1)\n",
        "\n",
        "plt.plot(size_array, sample_mean_std_array, color='black')\n",
        "plt.ylabel('sample size')\n",
        "plt.xlabel('mean std value')\n"
      ],
      "metadata": {
        "colab": {
          "base_uri": "https://localhost:8080/",
          "height": 297
        },
        "id": "4v80R8O-KSeM",
        "outputId": "3e09f781-55b5-4d27-caa8-660fa750dfd8"
      },
      "execution_count": null,
      "outputs": [
        {
          "output_type": "execute_result",
          "data": {
            "text/plain": [
              "Text(0.5, 0, 'mean std value')"
            ]
          },
          "metadata": {},
          "execution_count": 116
        },
        {
          "output_type": "display_data",
          "data": {
            "text/plain": [
              "<Figure size 432x288 with 1 Axes>"
            ],
            "image/png": "[encoded data removed]"
          },
          "metadata": {
            "needs_background": "light"
          }
        }
      ]
    },
    {
      "cell_type": "code",
      "source": [
        "# 표준오차 : 표본평균과 모평균과의 표준적인 차이\n",
        "# 표준의 추정치에 대한 블확실도를 수치화함\n",
        "# 샘플 사이즈가 커지면 표준오차는 작아짐\n",
        "\n",
        "standard_error = 0.8/np.sqrt(size_array)\n",
        "standard_error"
      ],
      "metadata": {
        "colab": {
          "base_uri": "https://localhost:8080/"
        },
        "id": "xqWl5Q7aK88y",
        "outputId": "ec11baf5-224b-439c-a960-b4769280c331"
      },
      "execution_count": null,
      "outputs": [
        {
          "output_type": "execute_result",
          "data": {
            "text/plain": [
              "array([0.56568542, 0.4       , 0.32659863, 0.28284271, 0.25298221,\n",
              "       0.23094011, 0.21380899, 0.2       , 0.18856181, 0.17888544,\n",
              "       0.17056057, 0.16329932, 0.15689291, 0.15118579, 0.14605935,\n",
              "       0.14142136, 0.13719887, 0.13333333, 0.12977714, 0.12649111,\n",
              "       0.12344268, 0.12060454, 0.11795356, 0.11547005, 0.11313708,\n",
              "       0.11094004, 0.10886621, 0.1069045 , 0.10504515, 0.10327956,\n",
              "       0.1016001 , 0.1       , 0.09847319, 0.09701425, 0.09561829,\n",
              "       0.0942809 , 0.09299811, 0.09176629, 0.09058216, 0.08944272,\n",
              "       0.08834522, 0.08728716, 0.08626622, 0.08528029, 0.0843274 ,\n",
              "       0.08340577, 0.0825137 , 0.08164966, 0.0808122 , 0.08      ])"
            ]
          },
          "metadata": {},
          "execution_count": 117
        }
      ]
    },
    {
      "cell_type": "code",
      "source": [
        "# 시뮬레이션 결과와 표준오차간 비교\n",
        "plt.plot(size_array, sample_mean_std_array, color='black')\n",
        "plt.plot(size_array, standard_error, color='red', linestyle='dotted')\n",
        "plt.xlabel('sample size')\n",
        "plt.ylabel('mean std value')"
      ],
      "metadata": {
        "colab": {
          "base_uri": "https://localhost:8080/",
          "height": 297
        },
        "id": "1CkPPt9RQ-Xr",
        "outputId": "9814178c-5e99-40c7-d8cc-a9ee5518695e"
      },
      "execution_count": null,
      "outputs": [
        {
          "output_type": "execute_result",
          "data": {
            "text/plain": [
              "Text(0, 0.5, 'mean std value')"
            ]
          },
          "metadata": {},
          "execution_count": 118
        },
        {
          "output_type": "display_data",
          "data": {
            "text/plain": [
              "<Figure size 432x288 with 1 Axes>"
            ],
            "image/png": "[encoded data removed]"
          },
          "metadata": {
            "needs_background": "light"
          }
        }
      ]
    },
    {
      "cell_type": "code",
      "source": [
        "# 정규분포의 확률 밀도 계산\n",
        "stats.norm.pdf(loc=4, scale=0.8, x=4)\n",
        "\n",
        "# 평균이 4, 표준편차가 0.8"
      ],
      "metadata": {
        "colab": {
          "base_uri": "https://localhost:8080/"
        },
        "id": "MyEgYM7yLsuN",
        "outputId": "4c401ed8-22f6-4d8a-ac68-4e95ebf94c57"
      },
      "execution_count": null,
      "outputs": [
        {
          "output_type": "execute_result",
          "data": {
            "text/plain": [
              "0.49867785050179086"
            ]
          },
          "metadata": {},
          "execution_count": 119
        }
      ]
    },
    {
      "cell_type": "code",
      "source": [
        "x_plot = np.arange(1, 7.1, 0.1)\n",
        "plt.plot(x_plot, stats.norm.pdf(x=x_plot, loc=4, scale=0.8), color='black')"
      ],
      "metadata": {
        "colab": {
          "base_uri": "https://localhost:8080/",
          "height": 283
        },
        "id": "_mLh0eUwL-eX",
        "outputId": "c3772b8e-d7e1-4003-e0b6-df6e74bb361a"
      },
      "execution_count": null,
      "outputs": [
        {
          "output_type": "execute_result",
          "data": {
            "text/plain": [
              "[<matplotlib.lines.Line2D at 0x7fb0bb6ece50>]"
            ]
          },
          "metadata": {},
          "execution_count": 120
        },
        {
          "output_type": "display_data",
          "data": {
            "text/plain": [
              "<Figure size 432x288 with 1 Axes>"
            ],
            "image/png": "[encoded data removed]"
          },
          "metadata": {
            "needs_background": "light"
          }
        }
      ]
    },
    {
      "cell_type": "code",
      "source": [
        "norm_dist = stats.norm(loc=4, scale=0.8)\n",
        "print(norm_dist.pdf(x=4))\n",
        "norm_dist.pdf(x=3)"
      ],
      "metadata": {
        "colab": {
          "base_uri": "https://localhost:8080/"
        },
        "id": "efkyBLcmMnfL",
        "outputId": "fae1c786-ec92-4e60-823a-7dfc895c6598"
      },
      "execution_count": null,
      "outputs": [
        {
          "output_type": "stream",
          "name": "stdout",
          "text": [
            "0.49867785050179086\n"
          ]
        },
        {
          "output_type": "execute_result",
          "data": {
            "text/plain": [
              "0.2283113567362774"
            ]
          },
          "metadata": {},
          "execution_count": 121
        }
      ]
    },
    {
      "cell_type": "code",
      "source": [
        "# 누적분포함수\n",
        "stats.norm.cdf(loc=4, scale=0.8, x=7)"
      ],
      "metadata": {
        "colab": {
          "base_uri": "https://localhost:8080/"
        },
        "id": "HE67IWP_M8-p",
        "outputId": "cb6ac354-3424-47c1-f350-578d933ee3c9"
      },
      "execution_count": null,
      "outputs": [
        {
          "output_type": "execute_result",
          "data": {
            "text/plain": [
              "0.9999115827147992"
            ]
          },
          "metadata": {},
          "execution_count": 122
        }
      ]
    },
    {
      "cell_type": "code",
      "source": [
        "x_plot = np.arange(1, 7.1, 0.1)\n",
        "plt.plot(x_plot, stats.norm.pdf(x=x_plot, loc=4, scale=0.8), color='black')"
      ],
      "metadata": {
        "colab": {
          "base_uri": "https://localhost:8080/",
          "height": 283
        },
        "id": "dumlDSFPNFK1",
        "outputId": "b4ee490e-b183-4196-c155-51a1c7b59c88"
      },
      "execution_count": null,
      "outputs": [
        {
          "output_type": "execute_result",
          "data": {
            "text/plain": [
              "[<matplotlib.lines.Line2D at 0x7fb0bb54b730>]"
            ]
          },
          "metadata": {},
          "execution_count": 128
        },
        {
          "output_type": "display_data",
          "data": {
            "text/plain": [
              "<Figure size 432x288 with 1 Axes>"
            ],
            "image/png": "[encoded data removed]"
          },
          "metadata": {
            "needs_background": "light"
          }
        }
      ]
    },
    {
      "cell_type": "code",
      "source": [
        "# 퍼센트포인트\n",
        "stats.norm.ppf(loc=4, scale=0.8, q=0.5)"
      ],
      "metadata": {
        "colab": {
          "base_uri": "https://localhost:8080/"
        },
        "id": "Sua0YOinNVW7",
        "outputId": "25e36ada-f006-49ec-c36f-a3570eab87c9"
      },
      "execution_count": null,
      "outputs": [
        {
          "output_type": "execute_result",
          "data": {
            "text/plain": [
              "4.0"
            ]
          },
          "metadata": {},
          "execution_count": 129
        }
      ]
    },
    {
      "cell_type": "code",
      "source": [
        "# 하측확률\n",
        "stats.norm.cdf(loc=4, scale=0.8, x=4)"
      ],
      "metadata": {
        "id": "phkzILY8OOzE",
        "colab": {
          "base_uri": "https://localhost:8080/"
        },
        "outputId": "ab6bde64-7e3c-40db-ec56-f2cce8bbb48e"
      },
      "execution_count": null,
      "outputs": [
        {
          "output_type": "execute_result",
          "data": {
            "text/plain": [
              "0.5"
            ]
          },
          "metadata": {},
          "execution_count": 130
        }
      ]
    },
    {
      "cell_type": "markdown",
      "source": [
        "Q. 평균이 10, 표준편차가 3인 정규분포의 확률밀도함수를 그래프로 표현"
      ],
      "metadata": {
        "id": "BVz0YdU4RXML"
      }
    },
    {
      "cell_type": "code",
      "source": [
        "x_plot = np.arange(0, 20, 0.1)\n",
        "plt.plot(x_plot, stats.norm.pdf(x=x_plot, loc=10, scale=3), color='black')"
      ],
      "metadata": {
        "colab": {
          "base_uri": "https://localhost:8080/",
          "height": 283
        },
        "id": "Btp9FhaGSKcs",
        "outputId": "25e5dcd6-e510-4c89-8e7b-2b203edd4e9f"
      },
      "execution_count": null,
      "outputs": [
        {
          "output_type": "execute_result",
          "data": {
            "text/plain": [
              "[<matplotlib.lines.Line2D at 0x7fb0bb5289a0>]"
            ]
          },
          "metadata": {},
          "execution_count": 131
        },
        {
          "output_type": "display_data",
          "data": {
            "text/plain": [
              "<Figure size 432x288 with 1 Axes>"
            ],
            "image/png": "[encoded data removed]"
          },
          "metadata": {
            "needs_background": "light"
          }
        }
      ]
    },
    {
      "cell_type": "markdown",
      "source": [
        "Q. 평균이 1, 표준편차가 2인 정규분포의 누적분포함수 그래프로 표현"
      ],
      "metadata": {
        "id": "s00DkJF5S10D"
      }
    },
    {
      "cell_type": "code",
      "source": [
        "x_plot = np.arange(-4, 9, 0.1)\n",
        "plt.plot(x_plot, stats.norm.cdf(x=x_plot, loc=1, scale=2), color='black')"
      ],
      "metadata": {
        "colab": {
          "base_uri": "https://localhost:8080/",
          "height": 283
        },
        "id": "akpm3v-GSl87",
        "outputId": "323798dd-1047-46e5-f66d-4213815f6ccc"
      },
      "execution_count": null,
      "outputs": [
        {
          "output_type": "execute_result",
          "data": {
            "text/plain": [
              "[<matplotlib.lines.Line2D at 0x7fb0bb502b20>]"
            ]
          },
          "metadata": {},
          "execution_count": 132
        },
        {
          "output_type": "display_data",
          "data": {
            "text/plain": [
              "<Figure size 432x288 with 1 Axes>"
            ],
            "image/png": "[encoded data removed]"
          },
          "metadata": {
            "needs_background": "light"
          }
        }
      ]
    },
    {
      "cell_type": "markdown",
      "source": [
        "t분포는 모집단이 정규분포라고 하더라고 분산이 시그마제곱이 알려져있지 않고 표본의 수가 적은 경우에, 평"
      ],
      "metadata": {
        "id": "AWNfGyakTFSE"
      }
    },
    {
      "cell_type": "code",
      "source": [
        "# t값의 표본분포\n",
        "from scipy import stats\n",
        "np.random.seed(1)\n",
        "t_value_array = np.zeros(10000)\n",
        "norm_dist = stats.norm(loc=4, scale=0.8)\n",
        "for i in range(0, 10000):\n",
        "  sample = norm_dist.rvs(size=10)\n",
        "  sample_mean = np.mean(sample)\n",
        "  sample_std = np.std(sample, ddof=1)\n",
        "  sample_se = sample_std/np.sqrt(len(sample))\n",
        "  t_value_array[i] = (sample_mean-4) / sample_se"
      ],
      "metadata": {
        "id": "Ns1B8vAnTjdV"
      },
      "execution_count": null,
      "outputs": []
    },
    {
      "cell_type": "code",
      "source": [
        "# t분포\n",
        "import warnings\n",
        "warnings.filterwarnings('ignore')\n",
        "sns.distplot(t_value_array, color='black')\n",
        "\n",
        "# 표준정규분포의 확률밀도\n",
        "x = np.arange(-8, 8.1, 0.1)\n",
        "plt.plot(x, stats.norm.pdf(x=x),\n",
        "         color='black', linestyle='dotted')"
      ],
      "metadata": {
        "colab": {
          "base_uri": "https://localhost:8080/",
          "height": 283
        },
        "id": "jpL4LOwxUT9_",
        "outputId": "a1ad69c6-b40e-4ed8-c766-f3e4259399b9"
      },
      "execution_count": null,
      "outputs": [
        {
          "output_type": "execute_result",
          "data": {
            "text/plain": [
              "[<matplotlib.lines.Line2D at 0x7fb0bb2036a0>]"
            ]
          },
          "metadata": {},
          "execution_count": 142
        },
        {
          "output_type": "display_data",
          "data": {
            "text/plain": [
              "<Figure size 432x288 with 1 Axes>"
            ],
            "image/png": "[encoded data removed]"
          },
          "metadata": {
            "needs_background": "light"
          }
        }
      ]
    },
    {
      "cell_type": "code",
      "source": [
        "# 자유도 n이 커짐에 따라 표준정규분포 N(0,1)에 수렴\n",
        "plt.plot(x, stats.norm.pdf(x=x),\n",
        "         color='black', linestyle='dotted')\n",
        "plt.plot(x, stats.t.pdf(x=x, df=5),\n",
        "         color='blue')\n",
        "plt.plot(x, stats.t.pdf(x=x, df=1),\n",
        "         color='red')"
      ],
      "metadata": {
        "colab": {
          "base_uri": "https://localhost:8080/",
          "height": 283
        },
        "id": "yYZlKd3iUtW1",
        "outputId": "ab3a793c-081b-4c20-b683-853f368c8ff2"
      },
      "execution_count": null,
      "outputs": [
        {
          "output_type": "execute_result",
          "data": {
            "text/plain": [
              "[<matplotlib.lines.Line2D at 0x7fb0bb16a880>]"
            ]
          },
          "metadata": {},
          "execution_count": 143
        },
        {
          "output_type": "display_data",
          "data": {
            "text/plain": [
              "<Figure size 432x288 with 1 Axes>"
            ],
            "image/png": "[encoded data removed]"
          },
          "metadata": {
            "needs_background": "light"
          }
        }
      ]
    },
    {
      "cell_type": "markdown",
      "source": [
        "Q. df에서 mathmatics 점수의 평균값, 중앙값, 최빈값, 분산, 표준편차, 범위, IQR을 구하세요"
      ],
      "metadata": {
        "id": "Ol_X8BruVLMD"
      }
    },
    {
      "cell_type": "code",
      "source": [
        "df = pd.read_csv('/content/drive/MyDrive/통계/ch2_scores_em.csv')\n",
        "df.head()"
      ],
      "metadata": {
        "colab": {
          "base_uri": "https://localhost:8080/",
          "height": 206
        },
        "id": "3hHD_XslWSKg",
        "outputId": "dd5949fc-4311-405c-9213-d6e892f98611"
      },
      "execution_count": null,
      "outputs": [
        {
          "output_type": "execute_result",
          "data": {
            "text/plain": [
              "   student number  english  mathematics\n",
              "0               1       42           65\n",
              "1               2       69           80\n",
              "2               3       56           63\n",
              "3               4       41           63\n",
              "4               5       57           76"
            ],
            "text/html": [
              "\n",
              "  <div id=\"df-00d39749-5ac3-4d5a-83f4-4540f6761522\">\n",
              "    <div class=\"colab-df-container\">\n",
              "      <div>\n",
              "<style scoped>\n",
              "    .dataframe tbody tr th:only-of-type {\n",
              "        vertical-align: middle;\n",
              "    }\n",
              "\n",
              "    .dataframe tbody tr th {\n",
              "        vertical-align: top;\n",
              "    }\n",
              "\n",
              "    .dataframe thead th {\n",
              "        text-align: right;\n",
              "    }\n",
              "</style>\n",
              "<table border=\"1\" class=\"dataframe\">\n",
              "  <thead>\n",
              "    <tr style=\"text-align: right;\">\n",
              "      <th></th>\n",
              "      <th>student number</th>\n",
              "      <th>english</th>\n",
              "      <th>mathematics</th>\n",
              "    </tr>\n",
              "  </thead>\n",
              "  <tbody>\n",
              "    <tr>\n",
              "      <th>0</th>\n",
              "      <td>1</td>\n",
              "      <td>42</td>\n",
              "      <td>65</td>\n",
              "    </tr>\n",
              "    <tr>\n",
              "      <th>1</th>\n",
              "      <td>2</td>\n",
              "      <td>69</td>\n",
              "      <td>80</td>\n",
              "    </tr>\n",
              "    <tr>\n",
              "      <th>2</th>\n",
              "      <td>3</td>\n",
              "      <td>56</td>\n",
              "      <td>63</td>\n",
              "    </tr>\n",
              "    <tr>\n",
              "      <th>3</th>\n",
              "      <td>4</td>\n",
              "      <td>41</td>\n",
              "      <td>63</td>\n",
              "    </tr>\n",
              "    <tr>\n",
              "      <th>4</th>\n",
              "      <td>5</td>\n",
              "      <td>57</td>\n",
              "      <td>76</td>\n",
              "    </tr>\n",
              "  </tbody>\n",
              "</table>\n",
              "</div>\n",
              "      <button class=\"colab-df-convert\" onclick=\"convertToInteractive('df-00d39749-5ac3-4d5a-83f4-4540f6761522')\"\n",
              "              title=\"Convert this dataframe to an interactive table.\"\n",
              "              style=\"display:none;\">\n",
              "        \n",
              "  <svg xmlns=\"http://www.w3.org/2000/svg\" height=\"24px\"viewBox=\"0 0 24 24\"\n",
              "       width=\"24px\">\n",
              "    <path d=\"M0 0h24v24H0V0z\" fill=\"none\"/>\n",
              "    <path d=\"M18.56 5.44l.94 2.06.94-2.06 2.06-.94-2.06-.94-.94-2.06-.94 2.06-2.06.94zm-11 1L8.5 8.5l.94-2.06 2.06-.94-2.06-.94L8.5 2.5l-.94 2.06-2.06.94zm10 10l.94 2.06.94-2.06 2.06-.94-2.06-.94-.94-2.06-.94 2.06-2.06.94z\"/><path d=\"M17.41 7.96l-1.37-1.37c-.4-.4-.92-.59-1.43-.59-.52 0-1.04.2-1.43.59L10.3 9.45l-7.72 7.72c-.78.78-.78 2.05 0 2.83L4 21.41c.39.39.9.59 1.41.59.51 0 1.02-.2 1.41-.59l7.78-7.78 2.81-2.81c.8-.78.8-2.07 0-2.86zM5.41 20L4 18.59l7.72-7.72 1.47 1.35L5.41 20z\"/>\n",
              "  </svg>\n",
              "      </button>\n",
              "      \n",
              "  <style>\n",
              "    .colab-df-container {\n",
              "      display:flex;\n",
              "      flex-wrap:wrap;\n",
              "      gap: 12px;\n",
              "    }\n",
              "\n",
              "    .colab-df-convert {\n",
              "      background-color: #E8F0FE;\n",
              "      border: none;\n",
              "      border-radius: 50%;\n",
              "      cursor: pointer;\n",
              "      display: none;\n",
              "      fill: #1967D2;\n",
              "      height: 32px;\n",
              "      padding: 0 0 0 0;\n",
              "      width: 32px;\n",
              "    }\n",
              "\n",
              "    .colab-df-convert:hover {\n",
              "      background-color: #E2EBFA;\n",
              "      box-shadow: 0px 1px 2px rgba(60, 64, 67, 0.3), 0px 1px 3px 1px rgba(60, 64, 67, 0.15);\n",
              "      fill: #174EA6;\n",
              "    }\n",
              "\n",
              "    [theme=dark] .colab-df-convert {\n",
              "      background-color: #3B4455;\n",
              "      fill: #D2E3FC;\n",
              "    }\n",
              "\n",
              "    [theme=dark] .colab-df-convert:hover {\n",
              "      background-color: #434B5C;\n",
              "      box-shadow: 0px 1px 3px 1px rgba(0, 0, 0, 0.15);\n",
              "      filter: drop-shadow(0px 1px 2px rgba(0, 0, 0, 0.3));\n",
              "      fill: #FFFFFF;\n",
              "    }\n",
              "  </style>\n",
              "\n",
              "      <script>\n",
              "        const buttonEl =\n",
              "          document.querySelector('#df-00d39749-5ac3-4d5a-83f4-4540f6761522 button.colab-df-convert');\n",
              "        buttonEl.style.display =\n",
              "          google.colab.kernel.accessAllowed ? 'block' : 'none';\n",
              "\n",
              "        async function convertToInteractive(key) {\n",
              "          const element = document.querySelector('#df-00d39749-5ac3-4d5a-83f4-4540f6761522');\n",
              "          const dataTable =\n",
              "            await google.colab.kernel.invokeFunction('convertToInteractive',\n",
              "                                                     [key], {});\n",
              "          if (!dataTable) return;\n",
              "\n",
              "          const docLinkHtml = 'Like what you see? Visit the ' +\n",
              "            '<a target=\"_blank\" href=https://colab.research.google.com/notebooks/data_table.ipynb>data table notebook</a>'\n",
              "            + ' to learn more about interactive tables.';\n",
              "          element.innerHTML = '';\n",
              "          dataTable['output_type'] = 'display_data';\n",
              "          await google.colab.output.renderOutput(dataTable, element);\n",
              "          const docLink = document.createElement('div');\n",
              "          docLink.innerHTML = docLinkHtml;\n",
              "          element.appendChild(docLink);\n",
              "        }\n",
              "      </script>\n",
              "    </div>\n",
              "  </div>\n",
              "  "
            ]
          },
          "metadata": {},
          "execution_count": 144
        }
      ]
    },
    {
      "cell_type": "code",
      "source": [
        "import numpy as np"
      ],
      "metadata": {
        "id": "_LtXN5bYXDe8"
      },
      "execution_count": null,
      "outputs": []
    },
    {
      "cell_type": "code",
      "source": [
        "np.min(df['mathematics'])"
      ],
      "metadata": {
        "colab": {
          "base_uri": "https://localhost:8080/"
        },
        "id": "fArYqbGdWtaT",
        "outputId": "1dba5490-92f3-49ef-f47a-3f6a1cad0ce0"
      },
      "execution_count": null,
      "outputs": [
        {
          "output_type": "execute_result",
          "data": {
            "text/plain": [
              "57"
            ]
          },
          "metadata": {},
          "execution_count": 151
        }
      ]
    },
    {
      "cell_type": "code",
      "source": [
        "df['mathematics'].mean()"
      ],
      "metadata": {
        "colab": {
          "base_uri": "https://localhost:8080/"
        },
        "id": "twu7_4tQXHtM",
        "outputId": "c40c997a-3e36-435a-bf5d-6fb4ab3eba12"
      },
      "execution_count": null,
      "outputs": [
        {
          "output_type": "execute_result",
          "data": {
            "text/plain": [
              "78.88"
            ]
          },
          "metadata": {},
          "execution_count": 154
        }
      ]
    },
    {
      "cell_type": "code",
      "source": [
        "np.quantile(df['mathematics'], .25)"
      ],
      "metadata": {
        "colab": {
          "base_uri": "https://localhost:8080/"
        },
        "id": "6fKml47SXNKP",
        "outputId": "b8589517-c861-4ce4-8e25-441036189215"
      },
      "execution_count": null,
      "outputs": [
        {
          "output_type": "execute_result",
          "data": {
            "text/plain": [
              "76.0"
            ]
          },
          "metadata": {},
          "execution_count": 155
        }
      ]
    },
    {
      "cell_type": "code",
      "source": [
        "np.quantile(df['mathematics'], .75)"
      ],
      "metadata": {
        "colab": {
          "base_uri": "https://localhost:8080/"
        },
        "id": "YTwA6r24XNHW",
        "outputId": "76ca2a2a-f7e3-428f-98d0-d5ddba8b07b4"
      },
      "execution_count": null,
      "outputs": [
        {
          "output_type": "execute_result",
          "data": {
            "text/plain": [
              "84.0"
            ]
          },
          "metadata": {},
          "execution_count": 156
        }
      ]
    },
    {
      "cell_type": "code",
      "source": [
        "np.quantile(df['mathematics'], .5)"
      ],
      "metadata": {
        "colab": {
          "base_uri": "https://localhost:8080/"
        },
        "id": "m5EBm4ehXNEk",
        "outputId": "54c2de92-370f-4229-f245-12f74dbcbdd8"
      },
      "execution_count": null,
      "outputs": [
        {
          "output_type": "execute_result",
          "data": {
            "text/plain": [
              "80.0"
            ]
          },
          "metadata": {},
          "execution_count": 158
        }
      ]
    },
    {
      "cell_type": "code",
      "source": [
        "mode(df['mathematics'])"
      ],
      "metadata": {
        "colab": {
          "base_uri": "https://localhost:8080/",
          "height": 174
        },
        "id": "KRNJGltNYpvb",
        "outputId": "809b7ad7-fa14-4e27-a55d-0ed5c8158597"
      },
      "execution_count": null,
      "outputs": [
        {
          "output_type": "error",
          "ename": "NameError",
          "evalue": "ignored",
          "traceback": [
            "\u001b[0;31m---------------------------------------------------------------------------\u001b[0m",
            "\u001b[0;31mNameError\u001b[0m                                 Traceback (most recent call last)",
            "\u001b[0;32m<ipython-input-166-e3f9f348e6bc>\u001b[0m in \u001b[0;36m<module>\u001b[0;34m\u001b[0m\n\u001b[0;32m----> 1\u001b[0;31m \u001b[0mmod\u001b[0m\u001b[0;34m(\u001b[0m\u001b[0mdf\u001b[0m\u001b[0;34m[\u001b[0m\u001b[0;34m'mathematics'\u001b[0m\u001b[0;34m]\u001b[0m\u001b[0;34m)\u001b[0m\u001b[0;34m\u001b[0m\u001b[0;34m\u001b[0m\u001b[0m\n\u001b[0m",
            "\u001b[0;31mNameError\u001b[0m: name 'mod' is not defined"
          ]
        }
      ]
    },
    {
      "cell_type": "markdown",
      "source": [
        "https://mindscale.kr/course/basic-stat-python/4/"
      ],
      "metadata": {
        "id": "l9b17pf3Xn_M"
      }
    },
    {
      "cell_type": "markdown",
      "source": [
        "Q. score에 대하여 다음사항을 수행하세요.\n",
        "- 상자 그림으로 시각화하여 이상치 여부를 탐색\n",
        "- 이상치 값 및 인덱스 출력\n",
        "- 이상치 삭제\n",
        "- 상자그림으로 시각화하여 이상치 제거 여부 재확인"
      ],
      "metadata": {
        "id": "mT8sdhyGXpLT"
      }
    },
    {
      "cell_type": "code",
      "source": [
        "score = df.english\n",
        "type(score)"
      ],
      "metadata": {
        "colab": {
          "base_uri": "https://localhost:8080/"
        },
        "id": "6n4o1lBCXedo",
        "outputId": "9a1797ec-9aa8-4ddf-c06f-841c81118843"
      },
      "execution_count": null,
      "outputs": [
        {
          "output_type": "execute_result",
          "data": {
            "text/plain": [
              "pandas.core.series.Series"
            ]
          },
          "metadata": {},
          "execution_count": 177
        }
      ]
    },
    {
      "cell_type": "code",
      "source": [
        "data = df.mathematics.describe()\n",
        "data"
      ],
      "metadata": {
        "colab": {
          "base_uri": "https://localhost:8080/"
        },
        "id": "mMkVLyuwaNGF",
        "outputId": "2c2336f5-27e1-44d5-f931-5d93791a0a6b"
      },
      "execution_count": null,
      "outputs": [
        {
          "output_type": "execute_result",
          "data": {
            "text/plain": [
              "count    50.000000\n",
              "mean     78.880000\n",
              "std       8.414371\n",
              "min      57.000000\n",
              "25%      76.000000\n",
              "50%      80.000000\n",
              "75%      84.000000\n",
              "max      94.000000\n",
              "Name: mathematics, dtype: float64"
            ]
          },
          "metadata": {},
          "execution_count": 179
        }
      ]
    },
    {
      "cell_type": "code",
      "source": [
        "igr = data['75%']- data['25%']\n",
        "r = data['max'] - data['min']  # r :범위\n",
        "v = data['std']**2 # v:분산\n",
        "f = df.mathematics.mode()  #f:최빈값\n",
        "print(data,'범위:',  r, '최빈값:', f.values, '분산:', v, 'IQR:', iqr)"
      ],
      "metadata": {
        "colab": {
          "base_uri": "https://localhost:8080/"
        },
        "id": "xg6EvpY1ac0L",
        "outputId": "0e9d1ecc-1ae0-4400-872c-16f90a413435"
      },
      "execution_count": null,
      "outputs": [
        {
          "output_type": "stream",
          "name": "stdout",
          "text": [
            "count    50.000000\n",
            "mean     78.880000\n",
            "std       8.414371\n",
            "min      57.000000\n",
            "25%      76.000000\n",
            "50%      80.000000\n",
            "75%      84.000000\n",
            "max      94.000000\n",
            "Name: mathematics, dtype: float64 범위: 37.0 최빈값: [77 82 84] 분산: 70.80163265306125 IQR: 11.0\n"
          ]
        }
      ]
    },
    {
      "cell_type": "code",
      "source": [
        "z = (score - np.mean(score))/np.std(score)\n",
        "z.values[:5]"
      ],
      "metadata": {
        "colab": {
          "base_uri": "https://localhost:8080/"
        },
        "id": "OcHrX0Znblcc",
        "outputId": "b1beff4e-2ab5-43e8-f5f6-ce8172c58ade"
      },
      "execution_count": null,
      "outputs": [
        {
          "output_type": "execute_result",
          "data": {
            "text/plain": [
              "array([-1.68843012,  1.09469645, -0.24532745, -1.79150888, -0.14224869])"
            ]
          },
          "metadata": {},
          "execution_count": 183
        }
      ]
    },
    {
      "cell_type": "code",
      "source": [
        "import matplotlib.pyplot as plt\n",
        "plt.figure(figsize=(5,5))\n",
        "plt.boxplot(score)\n",
        "plt.show()"
      ],
      "metadata": {
        "colab": {
          "base_uri": "https://localhost:8080/",
          "height": 320
        },
        "id": "m0sp4jH7cMWs",
        "outputId": "a49e8c04-2584-4a64-8b5f-c84b900a312d"
      },
      "execution_count": null,
      "outputs": [
        {
          "output_type": "display_data",
          "data": {
            "text/plain": [
              "<Figure size 360x360 with 1 Axes>"
            ],
            "image/png": "[encoded data removed]"
          },
          "metadata": {
            "needs_background": "light"
          }
        }
      ]
    },
    {
      "cell_type": "markdown",
      "source": [
        "https://hong-yp-ml-records.tistory.com/15\n"
      ],
      "metadata": {
        "id": "F8NDaf0Sg188"
      }
    },
    {
      "cell_type": "code",
      "source": [
        "s = score.describe()\n",
        "print(s, '\\n')\n",
        "iqr = s['75%'] - s['25%']\n",
        "print('IQR:', iqr, '\\n')\n",
        "lwhisker_chk = s['25%'] - 1.5*iqr\n",
        "print('lwhisker_chk:', lwhisker_chk,'\\n')\n",
        "lwhisker= score[score > lwhisker_chk].min()\n",
        "print('lwhisker:', lwhisker, '\\n')\n",
        "print('이상치:', score[score < lwhisker].values[0], '\\n')\n",
        "# lwhisker_chk는 안에서의 최솟값\n",
        "# 이것을 벗어난 것이 이상치\n",
        "\n",
        "# 이상치 인덱스 확인~\n",
        "idx = score[score < lwhisker].index\n",
        "print('이상치 인덱스:', idx)"
      ],
      "metadata": {
        "colab": {
          "base_uri": "https://localhost:8080/"
        },
        "id": "2L0HGv7McMT7",
        "outputId": "4f40ff7f-91b9-4aef-d250-455c0b9c4a4d"
      },
      "execution_count": null,
      "outputs": [
        {
          "output_type": "stream",
          "name": "stdout",
          "text": [
            "count    50.000000\n",
            "mean     58.380000\n",
            "std       9.799813\n",
            "min      37.000000\n",
            "25%      54.000000\n",
            "50%      57.500000\n",
            "75%      65.000000\n",
            "max      79.000000\n",
            "Name: english, dtype: float64 \n",
            "\n",
            "IQR: 11.0 \n",
            "\n",
            "lwhisker_chk: 37.5 \n",
            "\n",
            "lwhisker: 41 \n",
            "\n",
            "이상치: 37 \n",
            "\n",
            "이상치 인덱스: Int64Index([19, 34], dtype='int64')\n"
          ]
        }
      ]
    },
    {
      "cell_type": "code",
      "source": [
        "# 이상치 제거\n",
        "rscore = score.drop(idx)\n",
        "rscore.describe()"
      ],
      "metadata": {
        "colab": {
          "base_uri": "https://localhost:8080/"
        },
        "id": "Q9FbsJFDcMFk",
        "outputId": "f360cf9f-c8f3-499b-8f1f-6eb361f9dade"
      },
      "execution_count": null,
      "outputs": [
        {
          "output_type": "execute_result",
          "data": {
            "text/plain": [
              "count    48.000000\n",
              "mean     59.270833\n",
              "std       8.936513\n",
              "min      41.000000\n",
              "25%      54.000000\n",
              "50%      59.500000\n",
              "75%      65.250000\n",
              "max      79.000000\n",
              "Name: english, dtype: float64"
            ]
          },
          "metadata": {},
          "execution_count": 193
        }
      ]
    },
    {
      "cell_type": "code",
      "source": [
        "import matplotlib.pyplot as plt\n",
        "plt.figure(figsize=(5,5))\n",
        "plt.boxplot(rscore)\n",
        "plt.show()"
      ],
      "metadata": {
        "colab": {
          "base_uri": "https://localhost:8080/",
          "height": 320
        },
        "id": "u8UL4uT1hBiC",
        "outputId": "2ff437d0-c6c0-4d69-d614-e930d586509d"
      },
      "execution_count": null,
      "outputs": [
        {
          "output_type": "display_data",
          "data": {
            "text/plain": [
              "<Figure size 360x360 with 1 Axes>"
            ],
            "image/png": "[encoded data removed]"
          },
          "metadata": {
            "needs_background": "light"
          }
        }
      ]
    },
    {
      "cell_type": "markdown",
      "source": [
        "아래 scores_df에 대해서 아래사항을 수행하세요\n",
        "- scores_df.english와 scores_df.mathematics에 대한 공분산을 소수점 2째자리까지 출력\n",
        "- scores_df.english와 scores_df.mathematics에 대한 상관계수를 소수점 2째자리까지 출력\n",
        "- 두개 변수의 상관관계와 회귀직선을 시각화(회귀직선 포함 및 미포함 비교하여 1행 2열로 출력) \n",
        "- 두개 변수의 상관관계를 히트맵으로 시각화(칼러바 포함)\n"
      ],
      "metadata": {
        "id": "wq0NUit3jt_8"
      }
    },
    {
      "cell_type": "code",
      "source": [
        "df = pd.read_csv('/content/drive/MyDrive/통계/ch2_scores_em.csv')\n",
        "en_scores = np.array(df['english'])[:10]\n",
        "ma_scores = np.array(df['mathematics'])[:10]\n",
        "\n",
        "scores_df = pd.DataFrame({'english': en_scores,\n",
        "                          'mathematics': ma_scores},\n",
        "                         index=pd.Index(['A', 'B', 'C', 'D', 'E',\n",
        "                                         'F', 'G', 'H', 'I', 'J'],\n",
        "                                        name='student'))\n",
        "scores_df.head()"
      ],
      "metadata": {
        "colab": {
          "base_uri": "https://localhost:8080/",
          "height": 238
        },
        "id": "jGrj649Xi5Wi",
        "outputId": "335625e5-a11e-4537-8363-f58502a88ddf"
      },
      "execution_count": null,
      "outputs": [
        {
          "output_type": "execute_result",
          "data": {
            "text/plain": [
              "         english  mathematics\n",
              "student                      \n",
              "A             42           65\n",
              "B             69           80\n",
              "C             56           63\n",
              "D             41           63\n",
              "E             57           76"
            ],
            "text/html": [
              "\n",
              "  <div id=\"df-ec052275-bb99-4811-a175-c9ad31a6b474\">\n",
              "    <div class=\"colab-df-container\">\n",
              "      <div>\n",
              "<style scoped>\n",
              "    .dataframe tbody tr th:only-of-type {\n",
              "        vertical-align: middle;\n",
              "    }\n",
              "\n",
              "    .dataframe tbody tr th {\n",
              "        vertical-align: top;\n",
              "    }\n",
              "\n",
              "    .dataframe thead th {\n",
              "        text-align: right;\n",
              "    }\n",
              "</style>\n",
              "<table border=\"1\" class=\"dataframe\">\n",
              "  <thead>\n",
              "    <tr style=\"text-align: right;\">\n",
              "      <th></th>\n",
              "      <th>english</th>\n",
              "      <th>mathematics</th>\n",
              "    </tr>\n",
              "    <tr>\n",
              "      <th>student</th>\n",
              "      <th></th>\n",
              "      <th></th>\n",
              "    </tr>\n",
              "  </thead>\n",
              "  <tbody>\n",
              "    <tr>\n",
              "      <th>A</th>\n",
              "      <td>42</td>\n",
              "      <td>65</td>\n",
              "    </tr>\n",
              "    <tr>\n",
              "      <th>B</th>\n",
              "      <td>69</td>\n",
              "      <td>80</td>\n",
              "    </tr>\n",
              "    <tr>\n",
              "      <th>C</th>\n",
              "      <td>56</td>\n",
              "      <td>63</td>\n",
              "    </tr>\n",
              "    <tr>\n",
              "      <th>D</th>\n",
              "      <td>41</td>\n",
              "      <td>63</td>\n",
              "    </tr>\n",
              "    <tr>\n",
              "      <th>E</th>\n",
              "      <td>57</td>\n",
              "      <td>76</td>\n",
              "    </tr>\n",
              "  </tbody>\n",
              "</table>\n",
              "</div>\n",
              "      <button class=\"colab-df-convert\" onclick=\"convertToInteractive('df-ec052275-bb99-4811-a175-c9ad31a6b474')\"\n",
              "              title=\"Convert this dataframe to an interactive table.\"\n",
              "              style=\"display:none;\">\n",
              "        \n",
              "  <svg xmlns=\"http://www.w3.org/2000/svg\" height=\"24px\"viewBox=\"0 0 24 24\"\n",
              "       width=\"24px\">\n",
              "    <path d=\"M0 0h24v24H0V0z\" fill=\"none\"/>\n",
              "    <path d=\"M18.56 5.44l.94 2.06.94-2.06 2.06-.94-2.06-.94-.94-2.06-.94 2.06-2.06.94zm-11 1L8.5 8.5l.94-2.06 2.06-.94-2.06-.94L8.5 2.5l-.94 2.06-2.06.94zm10 10l.94 2.06.94-2.06 2.06-.94-2.06-.94-.94-2.06-.94 2.06-2.06.94z\"/><path d=\"M17.41 7.96l-1.37-1.37c-.4-.4-.92-.59-1.43-.59-.52 0-1.04.2-1.43.59L10.3 9.45l-7.72 7.72c-.78.78-.78 2.05 0 2.83L4 21.41c.39.39.9.59 1.41.59.51 0 1.02-.2 1.41-.59l7.78-7.78 2.81-2.81c.8-.78.8-2.07 0-2.86zM5.41 20L4 18.59l7.72-7.72 1.47 1.35L5.41 20z\"/>\n",
              "  </svg>\n",
              "      </button>\n",
              "      \n",
              "  <style>\n",
              "    .colab-df-container {\n",
              "      display:flex;\n",
              "      flex-wrap:wrap;\n",
              "      gap: 12px;\n",
              "    }\n",
              "\n",
              "    .colab-df-convert {\n",
              "      background-color: #E8F0FE;\n",
              "      border: none;\n",
              "      border-radius: 50%;\n",
              "      cursor: pointer;\n",
              "      display: none;\n",
              "      fill: #1967D2;\n",
              "      height: 32px;\n",
              "      padding: 0 0 0 0;\n",
              "      width: 32px;\n",
              "    }\n",
              "\n",
              "    .colab-df-convert:hover {\n",
              "      background-color: #E2EBFA;\n",
              "      box-shadow: 0px 1px 2px rgba(60, 64, 67, 0.3), 0px 1px 3px 1px rgba(60, 64, 67, 0.15);\n",
              "      fill: #174EA6;\n",
              "    }\n",
              "\n",
              "    [theme=dark] .colab-df-convert {\n",
              "      background-color: #3B4455;\n",
              "      fill: #D2E3FC;\n",
              "    }\n",
              "\n",
              "    [theme=dark] .colab-df-convert:hover {\n",
              "      background-color: #434B5C;\n",
              "      box-shadow: 0px 1px 3px 1px rgba(0, 0, 0, 0.15);\n",
              "      filter: drop-shadow(0px 1px 2px rgba(0, 0, 0, 0.3));\n",
              "      fill: #FFFFFF;\n",
              "    }\n",
              "  </style>\n",
              "\n",
              "      <script>\n",
              "        const buttonEl =\n",
              "          document.querySelector('#df-ec052275-bb99-4811-a175-c9ad31a6b474 button.colab-df-convert');\n",
              "        buttonEl.style.display =\n",
              "          google.colab.kernel.accessAllowed ? 'block' : 'none';\n",
              "\n",
              "        async function convertToInteractive(key) {\n",
              "          const element = document.querySelector('#df-ec052275-bb99-4811-a175-c9ad31a6b474');\n",
              "          const dataTable =\n",
              "            await google.colab.kernel.invokeFunction('convertToInteractive',\n",
              "                                                     [key], {});\n",
              "          if (!dataTable) return;\n",
              "\n",
              "          const docLinkHtml = 'Like what you see? Visit the ' +\n",
              "            '<a target=\"_blank\" href=https://colab.research.google.com/notebooks/data_table.ipynb>data table notebook</a>'\n",
              "            + ' to learn more about interactive tables.';\n",
              "          element.innerHTML = '';\n",
              "          dataTable['output_type'] = 'display_data';\n",
              "          await google.colab.output.renderOutput(dataTable, element);\n",
              "          const docLink = document.createElement('div');\n",
              "          docLink.innerHTML = docLinkHtml;\n",
              "          element.appendChild(docLink);\n",
              "        }\n",
              "      </script>\n",
              "    </div>\n",
              "  </div>\n",
              "  "
            ]
          },
          "metadata": {},
          "execution_count": 202
        }
      ]
    },
    {
      "cell_type": "code",
      "source": [
        "en_scores = scores_df.english\n",
        "ma_scores = scores_df.mathematics\n",
        "np.cov(en_scores, ma_scores)[0,1].round(2)"
      ],
      "metadata": {
        "colab": {
          "base_uri": "https://localhost:8080/"
        },
        "id": "V_Max1osmzZW",
        "outputId": "91773e29-07ac-48e3-8f0a-8926dd1c0ef3"
      },
      "execution_count": null,
      "outputs": [
        {
          "output_type": "execute_result",
          "data": {
            "text/plain": [
              "69.78"
            ]
          },
          "metadata": {},
          "execution_count": 213
        }
      ]
    },
    {
      "cell_type": "code",
      "source": [
        "import numpy as np\n",
        "np.corrcoef(en_scores, ma_scores)[0,1].round(2)"
      ],
      "metadata": {
        "colab": {
          "base_uri": "https://localhost:8080/"
        },
        "id": "MbFudNt0nPrF",
        "outputId": "9e477932-7189-4a34-b76f-63b8e5cf6a37"
      },
      "execution_count": null,
      "outputs": [
        {
          "output_type": "execute_result",
          "data": {
            "text/plain": [
              "0.82"
            ]
          },
          "metadata": {},
          "execution_count": 216
        }
      ]
    },
    {
      "cell_type": "code",
      "source": [
        "import seaborn as sns\n",
        "fig,axis = plt.subplots(1,2,figsize=(15,6),sharex = True)\n",
        "sns.regplot(ax=axis[0], x=scores_df.english, y = scores_df.mathematics)\n",
        "sns.regplot(ax=axis[1], x=scores_df.english, y = scores_df.mathematics, fit_reg=False)\n",
        "plt.show()"
      ],
      "metadata": {
        "colab": {
          "base_uri": "https://localhost:8080/",
          "height": 408
        },
        "id": "S14aXOBHnPoK",
        "outputId": "6efcaa87-7cad-466e-a139-d6335226004f"
      },
      "execution_count": null,
      "outputs": [
        {
          "output_type": "display_data",
          "data": {
            "text/plain": [
              "<Figure size 1080x432 with 2 Axes>"
            ],
            "image/png": "[encoded data removed]"
          },
          "metadata": {
            "needs_background": "light"
          }
        }
      ]
    },
    {
      "cell_type": "code",
      "source": [
        "sns.heatmap(scores_df[['english', 'mathematics']].corr(), annot=True)"
      ],
      "metadata": {
        "colab": {
          "base_uri": "https://localhost:8080/",
          "height": 287
        },
        "id": "qngiivbPnPlj",
        "outputId": "d72f9e9e-348c-4558-e831-1212f885f0b9"
      },
      "execution_count": null,
      "outputs": [
        {
          "output_type": "execute_result",
          "data": {
            "text/plain": [
              "<matplotlib.axes._subplots.AxesSubplot at 0x7fb0b8649dc0>"
            ]
          },
          "metadata": {},
          "execution_count": 223
        },
        {
          "output_type": "display_data",
          "data": {
            "text/plain": [
              "<Figure size 432x288 with 2 Axes>"
            ],
            "image/png": "[encoded data removed]"
          },
          "metadata": {
            "needs_background": "light"
          }
        }
      ]
    },
    {
      "cell_type": "markdown",
      "source": [
        "모평균과 평균 간의 관계"
      ],
      "metadata": {
        "id": "VfYknqB7Co3a"
      }
    },
    {
      "cell_type": "markdown",
      "source": [
        "#### 통계적 추정 : 모수 즉 모집단의 파라미터를 추정\n",
        "- 모집단 분포가 정규분포임을 가정했을 때 모수를 알면 모집단 분포를 추정할 수 있음\n",
        "- 점추정 : 모수를 어느 1개의 값으로 추정하는 방법\n",
        " - 모평균 추정에 표본평균을 사용하는데 표본평균은 불편성과 일치성을 가지고 있는 통계량이기 때문임\n",
        " - 모분산의 점추정값으로 표본에서 계산된 통계량으로 불편분산을 사용\n",
        "- 구간추정 : 추정값이 폭을 가지게 하는 추정 방법. 추정의 폭 계산에는 확률의 개념을 사용\n",
        " - 폭을 가지므로 추정오차를 가미할 수 있으며 추정오차가 작으면 구간 추정의 폭이 좁아짐.\n",
        " - 샘플사이즈가 커져도 구간 추정의 폭은 좁아짐\n",
        "- 신뢰계수(신뢰수준)와 신뢰구간\n",
        " - 신뢰계수란 구간 추정의 폭에 대한 신뢰 정도를 확률로 표현한 것. 95%, 99%\n",
        " - 신뢰구간이란 특정 신뢰계수를 만족하는 구간\n",
        " - 신뢰계수가 클수록 신뢰구간의 폭이 넓어짐\n",
        "- 신뢰한계 : 신뢰구간의 하한값과 상한값\n",
        "- 신뢰구간 계산 : \"(표본평균 - 모평균) / 표준오차\"로 계산한 t값. 구간추정을 할 때는 t분포의 퍼센트포인트 사용\n",
        " - 신뢰계수를 95%라고 했을 때 t분포를 따른다면 2.5% 지점과 97.5% 지점을 계산. \n",
        " - t분포를 따르는 변수가 이 구간에 들어갈 확률은 95%가 됨\n",
        " - 표본의 분산 크기가 커지면 신뢰구간의 폭이 넓어짐\n",
        " - 샘플사이즈가 커지면 자유도가 커지고 표준오차가 작아짐\n",
        " - 신뢰계수가 커질수록 안전해진다고 볼 수 있으며 신뢰구간의 폭이 넓어짐\n",
        "\n"
      ],
      "metadata": {
        "id": "tUkPTZFcCsIL"
      }
    },
    {
      "cell_type": "markdown",
      "source": [
        "[모평균 μ의 신뢰구간을 추정]  \n",
        "\n",
        "만약 누군가가 점추정를 통해 \"A후보의 지지율은 54.3%입니다\"라고 말한다면, 자신감 있어 보이더라도 틀린 말이 될 수 있다. 실제 지지율이 54.9%라면 말이다. 이와 같은 점추정은 틀릴 가능성이 높다. 반면 구간추정을 통해 \"A후보의 지지율은 신뢰수준 95%로 신뢰구간 51.3%~57.3% 내에 있습니다\"라고 말한다면, 좀 더 안전하다. 물론 구간추정도 틀릴 수 있지만, 점추정에 비하면 틀릴 가능성이 적다.  \n",
        "\n",
        "모수가 신뢰구간 안에 포함되지 않을 확률을 보통 α 로 표현한다. 자연스럽게 모수가 신뢰구간 안에 포함될 확률, 즉 신뢰수준은 1 − α로 표현된다.  \n",
        "만약 신뢰수준 1 − α이 0.95 즉, 95%라면 α = 0.05 이다.\n",
        "\n",
        "\n",
        "예를 들어 그림 6에서처럼 신뢰 수준이 95%이고 표본 오차가 ±3%(즉, 2 x SEM = 3%)인 여론 조사에서 A 후보와 B 후보에 대한 지지율 조사를 했다고 해보자. 이 때, 100명의 사람에게 질문한 결과 A 후보와 B 후보에 대한 지지율이 각각 평균 40%, 36%가 나왔다고 하자. 여기서 우리에게 주어진 정보인 신뢰 수준 95%, 표본오차 ±3%에 따르면 A 후보 지지율의 모비율은 37-43% 사이에 존재할 확률이 95%이고, B 후보 모비율은 33-39% 사이에 존재할 확률이 95%일 것이다.\n",
        "\n",
        "여기서 A 후보와 B 후보에 대한 두 구간 37-43%와 33-39%이 A 후보와 B 후보에 대한 95% 신뢰 구간이다.\n",
        "\n",
        "여기까지 잘 이해했다면 B 후보의 모비율이 더 높을 가능성도 존재한다는 것도 알 수 있다. 왜냐면 A 후보의 지지율에 대한 모비율이 37%, B 후보에 대한 지지율이 39%일 수도 있기 때문이다\n"
      ],
      "metadata": {
        "id": "V0g92U4JDz7r"
      }
    },
    {
      "cell_type": "code",
      "source": [
        "from PIL import Image\n",
        "from IPython.display import Image\n",
        "\n",
        "image1 = Image(filename='/content/drive/MyDrive/통계/자료/신뢰구간.jpg')\n",
        "display(image1)"
      ],
      "metadata": {
        "id": "gIDtFpYInPiy",
        "colab": {
          "base_uri": "https://localhost:8080/",
          "height": 302
        },
        "outputId": "b20e37fd-0e6d-430e-d0d7-71e9d2337595"
      },
      "execution_count": null,
      "outputs": [
        {
          "output_type": "display_data",
          "data": {
            "image/jpeg": "[encoded data removed]",
            "text/plain": [
              "<IPython.core.display.Image object>"
            ]
          },
          "metadata": {}
        }
      ]
    },
    {
      "cell_type": "markdown",
      "source": [
        "- 유의수준 : 모수가 신뢰구간 안에 포함되지 않을 확률 = α \n",
        "- 신뢰수준 : 모수가 신뢰구간 안에 포함될 확률 = 1 − α\n",
        "- 만약 신뢰수준 1 − α이 0.95 즉, 95%라면 α = 0.05 이다.\n",
        "- 신뢰구간 안에 있을 확률이 95%\n",
        "- 점추정은 거의 안씀\n",
        "- 대부분 구간추정을 씀"
      ],
      "metadata": {
        "id": "wLt82eFdHUaS"
      }
    },
    {
      "cell_type": "code",
      "source": [
        "import pandas as pd\n",
        "df = pd.read_csv('/content/drive/MyDrive/통계/자료/5_7_fl.csv')\n",
        "df"
      ],
      "metadata": {
        "colab": {
          "base_uri": "https://localhost:8080/",
          "height": 363
        },
        "id": "9w_GD6_nBQvq",
        "outputId": "214a1f57-2dd7-4dd1-af24-ca8ca1b709c9"
      },
      "execution_count": null,
      "outputs": [
        {
          "output_type": "execute_result",
          "data": {
            "text/plain": [
              "     length\n",
              "0  4.352982\n",
              "1  3.735304\n",
              "2  5.944617\n",
              "3  3.798326\n",
              "4  4.087688\n",
              "5  5.265985\n",
              "6  3.272614\n",
              "7  3.526691\n",
              "8  4.150083\n",
              "9  3.736104"
            ],
            "text/html": [
              "\n",
              "  <div id=\"df-8a0793a3-05d3-4032-9b9a-a23783febcd4\">\n",
              "    <div class=\"colab-df-container\">\n",
              "      <div>\n",
              "<style scoped>\n",
              "    .dataframe tbody tr th:only-of-type {\n",
              "        vertical-align: middle;\n",
              "    }\n",
              "\n",
              "    .dataframe tbody tr th {\n",
              "        vertical-align: top;\n",
              "    }\n",
              "\n",
              "    .dataframe thead th {\n",
              "        text-align: right;\n",
              "    }\n",
              "</style>\n",
              "<table border=\"1\" class=\"dataframe\">\n",
              "  <thead>\n",
              "    <tr style=\"text-align: right;\">\n",
              "      <th></th>\n",
              "      <th>length</th>\n",
              "    </tr>\n",
              "  </thead>\n",
              "  <tbody>\n",
              "    <tr>\n",
              "      <th>0</th>\n",
              "      <td>4.352982</td>\n",
              "    </tr>\n",
              "    <tr>\n",
              "      <th>1</th>\n",
              "      <td>3.735304</td>\n",
              "    </tr>\n",
              "    <tr>\n",
              "      <th>2</th>\n",
              "      <td>5.944617</td>\n",
              "    </tr>\n",
              "    <tr>\n",
              "      <th>3</th>\n",
              "      <td>3.798326</td>\n",
              "    </tr>\n",
              "    <tr>\n",
              "      <th>4</th>\n",
              "      <td>4.087688</td>\n",
              "    </tr>\n",
              "    <tr>\n",
              "      <th>5</th>\n",
              "      <td>5.265985</td>\n",
              "    </tr>\n",
              "    <tr>\n",
              "      <th>6</th>\n",
              "      <td>3.272614</td>\n",
              "    </tr>\n",
              "    <tr>\n",
              "      <th>7</th>\n",
              "      <td>3.526691</td>\n",
              "    </tr>\n",
              "    <tr>\n",
              "      <th>8</th>\n",
              "      <td>4.150083</td>\n",
              "    </tr>\n",
              "    <tr>\n",
              "      <th>9</th>\n",
              "      <td>3.736104</td>\n",
              "    </tr>\n",
              "  </tbody>\n",
              "</table>\n",
              "</div>\n",
              "      <button class=\"colab-df-convert\" onclick=\"convertToInteractive('df-8a0793a3-05d3-4032-9b9a-a23783febcd4')\"\n",
              "              title=\"Convert this dataframe to an interactive table.\"\n",
              "              style=\"display:none;\">\n",
              "        \n",
              "  <svg xmlns=\"http://www.w3.org/2000/svg\" height=\"24px\"viewBox=\"0 0 24 24\"\n",
              "       width=\"24px\">\n",
              "    <path d=\"M0 0h24v24H0V0z\" fill=\"none\"/>\n",
              "    <path d=\"M18.56 5.44l.94 2.06.94-2.06 2.06-.94-2.06-.94-.94-2.06-.94 2.06-2.06.94zm-11 1L8.5 8.5l.94-2.06 2.06-.94-2.06-.94L8.5 2.5l-.94 2.06-2.06.94zm10 10l.94 2.06.94-2.06 2.06-.94-2.06-.94-.94-2.06-.94 2.06-2.06.94z\"/><path d=\"M17.41 7.96l-1.37-1.37c-.4-.4-.92-.59-1.43-.59-.52 0-1.04.2-1.43.59L10.3 9.45l-7.72 7.72c-.78.78-.78 2.05 0 2.83L4 21.41c.39.39.9.59 1.41.59.51 0 1.02-.2 1.41-.59l7.78-7.78 2.81-2.81c.8-.78.8-2.07 0-2.86zM5.41 20L4 18.59l7.72-7.72 1.47 1.35L5.41 20z\"/>\n",
              "  </svg>\n",
              "      </button>\n",
              "      \n",
              "  <style>\n",
              "    .colab-df-container {\n",
              "      display:flex;\n",
              "      flex-wrap:wrap;\n",
              "      gap: 12px;\n",
              "    }\n",
              "\n",
              "    .colab-df-convert {\n",
              "      background-color: #E8F0FE;\n",
              "      border: none;\n",
              "      border-radius: 50%;\n",
              "      cursor: pointer;\n",
              "      display: none;\n",
              "      fill: #1967D2;\n",
              "      height: 32px;\n",
              "      padding: 0 0 0 0;\n",
              "      width: 32px;\n",
              "    }\n",
              "\n",
              "    .colab-df-convert:hover {\n",
              "      background-color: #E2EBFA;\n",
              "      box-shadow: 0px 1px 2px rgba(60, 64, 67, 0.3), 0px 1px 3px 1px rgba(60, 64, 67, 0.15);\n",
              "      fill: #174EA6;\n",
              "    }\n",
              "\n",
              "    [theme=dark] .colab-df-convert {\n",
              "      background-color: #3B4455;\n",
              "      fill: #D2E3FC;\n",
              "    }\n",
              "\n",
              "    [theme=dark] .colab-df-convert:hover {\n",
              "      background-color: #434B5C;\n",
              "      box-shadow: 0px 1px 3px 1px rgba(0, 0, 0, 0.15);\n",
              "      filter: drop-shadow(0px 1px 2px rgba(0, 0, 0, 0.3));\n",
              "      fill: #FFFFFF;\n",
              "    }\n",
              "  </style>\n",
              "\n",
              "      <script>\n",
              "        const buttonEl =\n",
              "          document.querySelector('#df-8a0793a3-05d3-4032-9b9a-a23783febcd4 button.colab-df-convert');\n",
              "        buttonEl.style.display =\n",
              "          google.colab.kernel.accessAllowed ? 'block' : 'none';\n",
              "\n",
              "        async function convertToInteractive(key) {\n",
              "          const element = document.querySelector('#df-8a0793a3-05d3-4032-9b9a-a23783febcd4');\n",
              "          const dataTable =\n",
              "            await google.colab.kernel.invokeFunction('convertToInteractive',\n",
              "                                                     [key], {});\n",
              "          if (!dataTable) return;\n",
              "\n",
              "          const docLinkHtml = 'Like what you see? Visit the ' +\n",
              "            '<a target=\"_blank\" href=https://colab.research.google.com/notebooks/data_table.ipynb>data table notebook</a>'\n",
              "            + ' to learn more about interactive tables.';\n",
              "          element.innerHTML = '';\n",
              "          dataTable['output_type'] = 'display_data';\n",
              "          await google.colab.output.renderOutput(dataTable, element);\n",
              "          const docLink = document.createElement('div');\n",
              "          docLink.innerHTML = docLinkHtml;\n",
              "          element.appendChild(docLink);\n",
              "        }\n",
              "      </script>\n",
              "    </div>\n",
              "  </div>\n",
              "  "
            ]
          },
          "metadata": {},
          "execution_count": 17
        }
      ]
    },
    {
      "cell_type": "code",
      "source": [
        "# length를 series로 바꾸고 fish로 저장\n",
        "fish = df['length']\n",
        "fish"
      ],
      "metadata": {
        "colab": {
          "base_uri": "https://localhost:8080/"
        },
        "id": "dZlAdDzxIOBd",
        "outputId": "cdce9809-3aa2-449a-b097-7fa1115c988b"
      },
      "execution_count": null,
      "outputs": [
        {
          "output_type": "execute_result",
          "data": {
            "text/plain": [
              "0    4.352982\n",
              "1    3.735304\n",
              "2    5.944617\n",
              "3    3.798326\n",
              "4    4.087688\n",
              "5    5.265985\n",
              "6    3.272614\n",
              "7    3.526691\n",
              "8    4.150083\n",
              "9    3.736104\n",
              "Name: length, dtype: float64"
            ]
          },
          "metadata": {},
          "execution_count": 18
        }
      ]
    },
    {
      "cell_type": "code",
      "source": [
        "# 모평균의 점추정\n",
        "import numpy as np\n",
        "mu = np.mean(fish)\n",
        "round(mu, 2)"
      ],
      "metadata": {
        "colab": {
          "base_uri": "https://localhost:8080/"
        },
        "id": "G1caNO2fIVWI",
        "outputId": "70afa725-4bcb-4d9f-fd2d-5106012e540c"
      },
      "execution_count": null,
      "outputs": [
        {
          "output_type": "execute_result",
          "data": {
            "text/plain": [
              "4.19"
            ]
          },
          "metadata": {},
          "execution_count": 19
        }
      ]
    },
    {
      "cell_type": "code",
      "source": [
        "# 모분산의 점추정\n",
        "sigma_2 = np.var(fish,ddof=1)\n",
        "round(sigma_2,2)"
      ],
      "metadata": {
        "colab": {
          "base_uri": "https://localhost:8080/"
        },
        "id": "UJFHun26IgJf",
        "outputId": "3a818bfd-e8ba-4c2a-ac09-0ae18327a4cc"
      },
      "execution_count": null,
      "outputs": [
        {
          "output_type": "execute_result",
          "data": {
            "text/plain": [
              "0.68"
            ]
          },
          "metadata": {},
          "execution_count": 20
        }
      ]
    },
    {
      "cell_type": "code",
      "source": [
        "# 표준오차\n",
        "sigma = np.std(fish,ddof=1)\n",
        "se = sigma/np.sqrt(len(fish))\n",
        "round(se,2)"
      ],
      "metadata": {
        "colab": {
          "base_uri": "https://localhost:8080/"
        },
        "id": "UaFQIr8OIxGW",
        "outputId": "558f1e0d-b823-4496-d7d6-6ab521d0c4cb"
      },
      "execution_count": null,
      "outputs": [
        {
          "output_type": "execute_result",
          "data": {
            "text/plain": [
              "0.26"
            ]
          },
          "metadata": {},
          "execution_count": 21
        }
      ]
    },
    {
      "cell_type": "code",
      "source": [
        "df = len(fish) - 1"
      ],
      "metadata": {
        "id": "ErcsC4s-I6e8"
      },
      "execution_count": null,
      "outputs": []
    },
    {
      "cell_type": "markdown",
      "source": [
        "### 유의수준, 신뢰계수, 신뢰구간\n",
        "https://rfriend.tistory.com/113"
      ],
      "metadata": {
        "id": "Momd4ucNI-ex"
      }
    },
    {
      "cell_type": "code",
      "source": [
        "# 신뢰구간\n",
        "from scipy import stats\n",
        "interval = stats.t.interval(alpha=0.95, df=df, loc=mu, scale=se)\n",
        "interval\n",
        "# 신뢰구간이 3.5~4.7임"
      ],
      "metadata": {
        "colab": {
          "base_uri": "https://localhost:8080/"
        },
        "id": "J7lFtfmuI9o-",
        "outputId": "32a43ec3-ba7b-4d20-f642-7594c7be81d1"
      },
      "execution_count": null,
      "outputs": [
        {
          "output_type": "execute_result",
          "data": {
            "text/plain": [
              "(3.5970100568358245, 4.777068592173221)"
            ]
          },
          "metadata": {},
          "execution_count": 23
        }
      ]
    },
    {
      "cell_type": "code",
      "source": [
        "# 표준편차를 10배로 늘려서 신뢰구간 계산\n",
        "se2 = (sigma*10) / np.sqrt(len(fish))\n",
        "stats.t.interval(alpha=0.95, df=df, loc=mu, scale=se2)"
      ],
      "metadata": {
        "colab": {
          "base_uri": "https://localhost:8080/"
        },
        "id": "iQq-MftsO18D",
        "outputId": "5ca04b12-86fe-4ef0-9742-1152b1cfe7b3"
      },
      "execution_count": null,
      "outputs": [
        {
          "output_type": "execute_result",
          "data": {
            "text/plain": [
              "(-1.7132533521824618, 10.087332001191509)"
            ]
          },
          "metadata": {},
          "execution_count": 24
        }
      ]
    },
    {
      "cell_type": "code",
      "source": [
        "# 샘플 사이즈를 10배로 늘려서 신뢰구간 계산\n",
        "df2 = (len(fish)*10) -1\n",
        "se3 = sigma/np.sqrt(len(fish)*10)\n",
        "stats.t.interval(alpha=0.95, df=df2, loc=mu, scale=se3)"
      ],
      "metadata": {
        "colab": {
          "base_uri": "https://localhost:8080/"
        },
        "id": "DXgSdn71Pm4C",
        "outputId": "1f193123-f8fc-4e95-c7cd-02fd953d08e1"
      },
      "execution_count": null,
      "outputs": [
        {
          "output_type": "execute_result",
          "data": {
            "text/plain": [
              "(4.0233803082774395, 4.350698340731607)"
            ]
          },
          "metadata": {},
          "execution_count": 25
        }
      ]
    },
    {
      "cell_type": "code",
      "source": [
        "# 신뢰계수가 커질수록 안전해진다고 볼 수 있으며 신뢰구간의 폭이 넓어짐\n",
        "stats.t.interval(alpha=0.99, df=df, loc=mu, scale=se)"
      ],
      "metadata": {
        "colab": {
          "base_uri": "https://localhost:8080/"
        },
        "id": "NWsxu3KOQCl-",
        "outputId": "bc18efc4-62b3-4986-d99e-36b119a94c76"
      },
      "execution_count": null,
      "outputs": [
        {
          "output_type": "execute_result",
          "data": {
            "text/plain": [
              "(3.3393979149413973, 5.034680734067649)"
            ]
          },
          "metadata": {},
          "execution_count": 26
        }
      ]
    },
    {
      "cell_type": "markdown",
      "source": [
        "- 통계적 가설검정은 표본을 사용해서 모집단에 대한 통계적인 판단을 내리는 방법\n",
        "- 판단의 기준으로 통계적인 표현을 사용하며 간단히 검정이라고 부름\n",
        "- 평균값의 차이만으로 유의미한 차이를 얻을 수 없으며 샘플사이즈와 데이터의 흩어짐 크기를 가미하는 것이 필요(데이터의 흩어짐 크기: 분산, 표준편차)\n",
        "- 1변량 데이터의 t검정\n",
        " - 샘플사이즈가 크고 데이터의 분산이 작고 평균값의 차이가 크다는 세가지 조건을 만족하는 지표를 t값이라고 함\n",
        " - t값 = (표본평균 - 모평균) / 표준오차\n",
        " - t값이 크면 유의미한 차이가 있다고 판단\n",
        "- 귀무가설 대립가설\n",
        " - 기각 대상이 되는 첫번째 가설을 귀무가설, 귀무가설과 대립되는 가설을 대립가설이라고 함\n",
        " - ex) 남자의 키는 여자의 키보다 크다(귀무가설)\n",
        " - 귀무가설이 기각된다면 즉 귀무가설이 틀렸다고 판단을 하면 유의미한 차이가 있다는 것임\n",
        " - ex) 여자의 키가 남자의 키보다 크다(대립가설)\n",
        "- p값(유의확률) : 표본과 귀무가설 간의 모순을 나타내는 지표\n",
        "- 대립가설이 유의미한 확률이 나오면 유의미한다.\n",
        " - p값이 작을수록 귀무가설과 표본이 모순된다고 판단\n",
        "- 유의수준 : 귀무가설을 기각하는 기준이 되는 값\n",
        " - 유의수준은 위험률이라고 하며 5%를 사용하는 경우가 많음\n",
        "-α값을 기준으로 귀무가설을 채택할지, 기각할지\n"
      ],
      "metadata": {
        "id": "UAZYIWKnR2sp"
      }
    },
    {
      "cell_type": "code",
      "source": [
        "# t검정 : (귀무가설 : 과자의 무게는 50g이다)\n",
        "junk_food = pd.read_csv('/content/drive/MyDrive/통계/자료/5_8_jfw.csv')\n",
        "jfood = junk_food.weight\n",
        "jfood.head()"
      ],
      "metadata": {
        "colab": {
          "base_uri": "https://localhost:8080/"
        },
        "id": "DrNr-1quR7nj",
        "outputId": "506fb8d4-916e-4c9e-ad55-2ae1ccdd8819"
      },
      "execution_count": null,
      "outputs": [
        {
          "output_type": "execute_result",
          "data": {
            "text/plain": [
              "0    58.529820\n",
              "1    52.353039\n",
              "2    74.446169\n",
              "3    52.983263\n",
              "4    55.876879\n",
              "Name: weight, dtype: float64"
            ]
          },
          "metadata": {},
          "execution_count": 29
        }
      ]
    },
    {
      "cell_type": "code",
      "source": [
        "jfood.shape"
      ],
      "metadata": {
        "colab": {
          "base_uri": "https://localhost:8080/"
        },
        "id": "VdcgFlC6T3Et",
        "outputId": "98730e6f-6bbb-40d7-ae20-7ec9291cc983"
      },
      "execution_count": null,
      "outputs": [
        {
          "output_type": "execute_result",
          "data": {
            "text/plain": [
              "(20,)"
            ]
          },
          "metadata": {},
          "execution_count": 30
        }
      ]
    },
    {
      "cell_type": "code",
      "source": [
        "# 표본평균\n",
        "mu = np.mean(jfood)\n",
        "mu"
      ],
      "metadata": {
        "colab": {
          "base_uri": "https://localhost:8080/"
        },
        "id": "3mPBV-mcT5Yr",
        "outputId": "ef120f8f-3f40-47c5-c848-4a360a0b74f2"
      },
      "execution_count": null,
      "outputs": [
        {
          "output_type": "execute_result",
          "data": {
            "text/plain": [
              "55.38496619666667"
            ]
          },
          "metadata": {},
          "execution_count": 31
        }
      ]
    },
    {
      "cell_type": "code",
      "source": [
        "# 자유도\n",
        "df = len(jfood)-1\n",
        "df"
      ],
      "metadata": {
        "colab": {
          "base_uri": "https://localhost:8080/"
        },
        "id": "eW6nz7J0UD5k",
        "outputId": "11da562a-4a1e-4bbb-b152-f7ce88dfabec"
      },
      "execution_count": null,
      "outputs": [
        {
          "output_type": "execute_result",
          "data": {
            "text/plain": [
              "19"
            ]
          },
          "metadata": {},
          "execution_count": 32
        }
      ]
    },
    {
      "cell_type": "code",
      "source": [
        "# 표준오차\n",
        "sigma = np.std(jfood,ddof=1)\n",
        "se = sigma/np.sqrt(len(jfood))\n",
        "se"
      ],
      "metadata": {
        "colab": {
          "base_uri": "https://localhost:8080/"
        },
        "id": "GCYzdMW1UIz6",
        "outputId": "53d5cf24-69cf-46e2-bf8f-54063a55f011"
      },
      "execution_count": null,
      "outputs": [
        {
          "output_type": "execute_result",
          "data": {
            "text/plain": [
              "1.9579276805755885"
            ]
          },
          "metadata": {},
          "execution_count": 33
        }
      ]
    },
    {
      "cell_type": "code",
      "source": [
        "t_value = (mu-50)/se\n",
        "t_value"
      ],
      "metadata": {
        "colab": {
          "base_uri": "https://localhost:8080/"
        },
        "id": "T44F157uUQvI",
        "outputId": "391c8ece-1626-4572-a44e-90db4c2144b7"
      },
      "execution_count": null,
      "outputs": [
        {
          "output_type": "execute_result",
          "data": {
            "text/plain": [
              "2.7503396831713434"
            ]
          },
          "metadata": {},
          "execution_count": 34
        }
      ]
    },
    {
      "cell_type": "code",
      "source": [
        "# p값(유의확률)이 유의수준 0.05보다 작으면 귀무가설 기각\n",
        "from scipy import stats\n",
        "alpha = stats.t.cdf(t_value, df=df)\n",
        "(1-alpha) * 2\n",
        "\n",
        "\n",
        "# p값이 유의수준보다 작으면 귀무가설이 기각\n",
        "# = 대립가설이 유의미하다.\n",
        "# 대립가설 : 과자의 무게가 50g이 아니다(채택)\n",
        "# p값이 0.012725590012524268이므로 귀무가설 기각"
      ],
      "metadata": {
        "colab": {
          "base_uri": "https://localhost:8080/"
        },
        "id": "COVgaFofUUBe",
        "outputId": "7175513c-41fe-4523-967c-c52ae0fdc4b1"
      },
      "execution_count": null,
      "outputs": [
        {
          "output_type": "execute_result",
          "data": {
            "text/plain": [
              "0.012725590012524268"
            ]
          },
          "metadata": {},
          "execution_count": 35
        }
      ]
    },
    {
      "cell_type": "code",
      "source": [
        "# t검정 : t값, p값\n",
        "# p값(유의확률)이 유의수준 0.05보다 작으므로 귀무가설 기각\n",
        "# '과자의 무게는 50g이 아니다'라고 할 수 있다.\n",
        "stats.ttest_1samp(jfood, 50)"
      ],
      "metadata": {
        "colab": {
          "base_uri": "https://localhost:8080/"
        },
        "id": "IGAYSgEkU0cm",
        "outputId": "f28794fb-238f-48f1-b6af-8921ec7e7a9c"
      },
      "execution_count": null,
      "outputs": [
        {
          "output_type": "execute_result",
          "data": {
            "text/plain": [
              "Ttest_1sampResult(statistic=2.750339683171343, pvalue=0.012725590012524182)"
            ]
          },
          "metadata": {},
          "execution_count": 36
        }
      ]
    },
    {
      "cell_type": "markdown",
      "source": [
        "### Q. 아래 df 데이터셋에서 \"무게의 평균이 130g이다.\" 라는 귀무가설에 대한 유의성 검정을 수행(정규분포, 모분산, 9)"
      ],
      "metadata": {
        "id": "8YzjdHgtVe5I"
      }
    },
    {
      "cell_type": "code",
      "source": [
        "import pandas as pd\n",
        "df = pd.read_csv('/content/drive/MyDrive/통계/자료/ch11_potato.csv')\n",
        "df.head()"
      ],
      "metadata": {
        "colab": {
          "base_uri": "https://localhost:8080/",
          "height": 206
        },
        "id": "g3JjtRcEVG1O",
        "outputId": "c7563b97-7dd3-4820-a9b1-54065fbc73a9"
      },
      "execution_count": null,
      "outputs": [
        {
          "output_type": "execute_result",
          "data": {
            "text/plain": [
              "       무게\n",
              "0  122.02\n",
              "1  131.73\n",
              "2  130.60\n",
              "3  131.82\n",
              "4  132.05"
            ],
            "text/html": [
              "\n",
              "  <div id=\"df-3f61584f-d797-48f3-ad76-88659206e76e\">\n",
              "    <div class=\"colab-df-container\">\n",
              "      <div>\n",
              "<style scoped>\n",
              "    .dataframe tbody tr th:only-of-type {\n",
              "        vertical-align: middle;\n",
              "    }\n",
              "\n",
              "    .dataframe tbody tr th {\n",
              "        vertical-align: top;\n",
              "    }\n",
              "\n",
              "    .dataframe thead th {\n",
              "        text-align: right;\n",
              "    }\n",
              "</style>\n",
              "<table border=\"1\" class=\"dataframe\">\n",
              "  <thead>\n",
              "    <tr style=\"text-align: right;\">\n",
              "      <th></th>\n",
              "      <th>무게</th>\n",
              "    </tr>\n",
              "  </thead>\n",
              "  <tbody>\n",
              "    <tr>\n",
              "      <th>0</th>\n",
              "      <td>122.02</td>\n",
              "    </tr>\n",
              "    <tr>\n",
              "      <th>1</th>\n",
              "      <td>131.73</td>\n",
              "    </tr>\n",
              "    <tr>\n",
              "      <th>2</th>\n",
              "      <td>130.60</td>\n",
              "    </tr>\n",
              "    <tr>\n",
              "      <th>3</th>\n",
              "      <td>131.82</td>\n",
              "    </tr>\n",
              "    <tr>\n",
              "      <th>4</th>\n",
              "      <td>132.05</td>\n",
              "    </tr>\n",
              "  </tbody>\n",
              "</table>\n",
              "</div>\n",
              "      <button class=\"colab-df-convert\" onclick=\"convertToInteractive('df-3f61584f-d797-48f3-ad76-88659206e76e')\"\n",
              "              title=\"Convert this dataframe to an interactive table.\"\n",
              "              style=\"display:none;\">\n",
              "        \n",
              "  <svg xmlns=\"http://www.w3.org/2000/svg\" height=\"24px\"viewBox=\"0 0 24 24\"\n",
              "       width=\"24px\">\n",
              "    <path d=\"M0 0h24v24H0V0z\" fill=\"none\"/>\n",
              "    <path d=\"M18.56 5.44l.94 2.06.94-2.06 2.06-.94-2.06-.94-.94-2.06-.94 2.06-2.06.94zm-11 1L8.5 8.5l.94-2.06 2.06-.94-2.06-.94L8.5 2.5l-.94 2.06-2.06.94zm10 10l.94 2.06.94-2.06 2.06-.94-2.06-.94-.94-2.06-.94 2.06-2.06.94z\"/><path d=\"M17.41 7.96l-1.37-1.37c-.4-.4-.92-.59-1.43-.59-.52 0-1.04.2-1.43.59L10.3 9.45l-7.72 7.72c-.78.78-.78 2.05 0 2.83L4 21.41c.39.39.9.59 1.41.59.51 0 1.02-.2 1.41-.59l7.78-7.78 2.81-2.81c.8-.78.8-2.07 0-2.86zM5.41 20L4 18.59l7.72-7.72 1.47 1.35L5.41 20z\"/>\n",
              "  </svg>\n",
              "      </button>\n",
              "      \n",
              "  <style>\n",
              "    .colab-df-container {\n",
              "      display:flex;\n",
              "      flex-wrap:wrap;\n",
              "      gap: 12px;\n",
              "    }\n",
              "\n",
              "    .colab-df-convert {\n",
              "      background-color: #E8F0FE;\n",
              "      border: none;\n",
              "      border-radius: 50%;\n",
              "      cursor: pointer;\n",
              "      display: none;\n",
              "      fill: #1967D2;\n",
              "      height: 32px;\n",
              "      padding: 0 0 0 0;\n",
              "      width: 32px;\n",
              "    }\n",
              "\n",
              "    .colab-df-convert:hover {\n",
              "      background-color: #E2EBFA;\n",
              "      box-shadow: 0px 1px 2px rgba(60, 64, 67, 0.3), 0px 1px 3px 1px rgba(60, 64, 67, 0.15);\n",
              "      fill: #174EA6;\n",
              "    }\n",
              "\n",
              "    [theme=dark] .colab-df-convert {\n",
              "      background-color: #3B4455;\n",
              "      fill: #D2E3FC;\n",
              "    }\n",
              "\n",
              "    [theme=dark] .colab-df-convert:hover {\n",
              "      background-color: #434B5C;\n",
              "      box-shadow: 0px 1px 3px 1px rgba(0, 0, 0, 0.15);\n",
              "      filter: drop-shadow(0px 1px 2px rgba(0, 0, 0, 0.3));\n",
              "      fill: #FFFFFF;\n",
              "    }\n",
              "  </style>\n",
              "\n",
              "      <script>\n",
              "        const buttonEl =\n",
              "          document.querySelector('#df-3f61584f-d797-48f3-ad76-88659206e76e button.colab-df-convert');\n",
              "        buttonEl.style.display =\n",
              "          google.colab.kernel.accessAllowed ? 'block' : 'none';\n",
              "\n",
              "        async function convertToInteractive(key) {\n",
              "          const element = document.querySelector('#df-3f61584f-d797-48f3-ad76-88659206e76e');\n",
              "          const dataTable =\n",
              "            await google.colab.kernel.invokeFunction('convertToInteractive',\n",
              "                                                     [key], {});\n",
              "          if (!dataTable) return;\n",
              "\n",
              "          const docLinkHtml = 'Like what you see? Visit the ' +\n",
              "            '<a target=\"_blank\" href=https://colab.research.google.com/notebooks/data_table.ipynb>data table notebook</a>'\n",
              "            + ' to learn more about interactive tables.';\n",
              "          element.innerHTML = '';\n",
              "          dataTable['output_type'] = 'display_data';\n",
              "          await google.colab.output.renderOutput(dataTable, element);\n",
              "          const docLink = document.createElement('div');\n",
              "          docLink.innerHTML = docLinkHtml;\n",
              "          element.appendChild(docLink);\n",
              "        }\n",
              "      </script>\n",
              "    </div>\n",
              "  </div>\n",
              "  "
            ]
          },
          "metadata": {},
          "execution_count": 37
        }
      ]
    },
    {
      "cell_type": "code",
      "source": [
        "df.shape"
      ],
      "metadata": {
        "colab": {
          "base_uri": "https://localhost:8080/"
        },
        "id": "YHIcoAF2W8Mh",
        "outputId": "178fd7b0-a6a0-4afb-a565-8783bbcea18a"
      },
      "execution_count": null,
      "outputs": [
        {
          "output_type": "execute_result",
          "data": {
            "text/plain": [
              "(14, 1)"
            ]
          },
          "metadata": {},
          "execution_count": 38
        }
      ]
    },
    {
      "cell_type": "code",
      "source": [
        "# z검정 = 표본평균에서 모평균을 뺀 것에서 루트 하면 됨\n",
        "# 표준화 할때 쓰는 방식으로 쓰라\n",
        "# z값을 가지고 검정통계를 구하는 것임"
      ],
      "metadata": {
        "id": "hV8lSeRmXA7Y"
      },
      "execution_count": null,
      "outputs": []
    },
    {
      "cell_type": "code",
      "source": [
        "import numpy as np\n",
        "sample = df.무게\n",
        "s_mean = np.mean(sample)\n",
        "\n",
        "# z검정 통계량\n",
        "z = (s_mean - 130) / np.sqrt(9/14)\n",
        "print(z)\n",
        "\n",
        "# 임곗값\n",
        "rv = stats.norm()\n",
        "rv.isf(0.95)       # 생존함수의 역함수, 생존함수 = 1-누적분포함수\n",
        "print(rv.isf(0.95)) \n",
        "\n",
        "# p값\n",
        "rv.cdf(z)"
      ],
      "metadata": {
        "colab": {
          "base_uri": "https://localhost:8080/"
        },
        "id": "pGMYa1lwXYbA",
        "outputId": "fa9492fb-8591-4cc8-94dd-91b77368e108"
      },
      "execution_count": null,
      "outputs": [
        {
          "output_type": "stream",
          "name": "stdout",
          "text": [
            "-1.932298779026813\n",
            "-1.6448536269514722\n"
          ]
        },
        {
          "output_type": "execute_result",
          "data": {
            "text/plain": [
              "0.026661319523126635"
            ]
          },
          "metadata": {},
          "execution_count": 41
        }
      ]
    },
    {
      "cell_type": "markdown",
      "source": [
        "- 검정통계량이 임계값 보다 작으므로 귀무가설을 기각(대립가설을 채택)\n",
        "- z이 양수인 경우는 임계값 봅다 커야 귀무가설 기각\n",
        "- \"무게의 평균이 130g이다.\"라고 할 수 없다.\n",
        "- z값을 넣어주면 기각을 할 수 있는 기준을 정해줌(기각값)\n",
        "- z: -1.9\n",
        "\n",
        "- https://velog.io/@robin_dev/%ED%86%B5%EA%B3%84%EC%9D%B4%EB%A1%A0-%ED%91%9C%EC%A4%80%ED%99%94%EC%99%80-z-%EB%B6%84%ED%8F%AC\n"
      ],
      "metadata": {
        "id": "xDyxJnGOYFvT"
      }
    },
    {
      "cell_type": "code",
      "source": [],
      "metadata": {
        "id": "Ug9VwTFXw8sS"
      },
      "execution_count": null,
      "outputs": []
    }
  ]
}