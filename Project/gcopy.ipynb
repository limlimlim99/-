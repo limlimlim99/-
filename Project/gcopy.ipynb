{
 "cells": [
  {
   "cell_type": "markdown",
   "id": "87c156cc-68a6-4a22-b7d5-ac144c7f3dcf",
   "metadata": {},
   "source": [
    "# 맛집"
   ]
  },
  {
   "cell_type": "markdown",
   "id": "50e82489-7b0b-4262-8b30-a4a644493d16",
   "metadata": {},
   "source": [
    "## 필요 라이브러리"
   ]
  },
  {
   "cell_type": "code",
   "execution_count": 1,
   "id": "d2cde741-b7c4-4684-afc0-068022656c6f",
   "metadata": {},
   "outputs": [],
   "source": [
    "import requests\n",
    "from bs4 import BeautifulSoup\n",
    "import selenium\n",
    "from selenium import webdriver\n",
    "from urllib.request import urlopen, urlretrieve\n",
    "from urllib.parse import quote_plus\n",
    "from selenium.webdriver.common.by import By\n",
    "from selenium.webdriver.common.keys import Keys"
   ]
  },
  {
   "cell_type": "code",
   "execution_count": 2,
   "id": "ff0840fd-42cf-45f9-af10-357b0129c74a",
   "metadata": {},
   "outputs": [],
   "source": [
    "import os\n",
    "os.getcwd()\n",
    "os.chdir('C:\\\\Users\\\\user')"
   ]
  },
  {
   "cell_type": "code",
   "execution_count": 3,
   "id": "c6d83e18-24cc-46bf-a0da-c0208d43e12d",
   "metadata": {},
   "outputs": [
    {
     "name": "stderr",
     "output_type": "stream",
     "text": [
      "C:\\Users\\user\\AppData\\Local\\Temp\\ipykernel_9088\\530843676.py:1: DeprecationWarning: executable_path has been deprecated, please pass in a Service object\n",
      "  driver = webdriver.Chrome('chromedriver.exe')\n"
     ]
    }
   ],
   "source": [
    "driver = webdriver.Chrome('chromedriver.exe')"
   ]
  },
  {
   "cell_type": "markdown",
   "id": "55a84ecb-ba47-42f3-80ef-7f7bc3654a3a",
   "metadata": {},
   "source": [
    "## 맛집 찾기"
   ]
  },
  {
   "cell_type": "code",
   "execution_count": 4,
   "id": "f3628e70-e5b3-4e76-a07f-de4b098a77eb",
   "metadata": {},
   "outputs": [],
   "source": [
    "url = \"https://www.google.com/maps\"\n",
    "driver.get(url)"
   ]
  },
  {
   "cell_type": "code",
   "execution_count": 5,
   "id": "46f16ce0-0962-4294-90f6-ee90b62a3b40",
   "metadata": {},
   "outputs": [
    {
     "name": "stdin",
     "output_type": "stream",
     "text": [
      "위치를 영어로 입력하세요:  gangnam\n"
     ]
    }
   ],
   "source": [
    "location = input('위치를 영어로 입력하세요: ')\n",
    "xpath = '/html/body/div[3]/div[9]/div[3]/div[1]/div[1]/div[1]/div[2]/form/div[2]/div[3]/div/input[1]'\n",
    "search = driver.find_element(By.XPATH, xpath)\n",
    "search.clear()\n",
    "search.send_keys(f'{location} restaurant')\n",
    "search.send_keys(Keys.ENTER)"
   ]
  },
  {
   "cell_type": "markdown",
   "id": "d5ce3fee-069f-4a70-b4c3-c29642f034cc",
   "metadata": {
    "tags": []
   },
   "source": [
    "## 식당 이름 따기"
   ]
  },
  {
   "cell_type": "code",
   "execution_count": 6,
   "id": "8ed4ec4d-191d-4e5b-b71f-4cc63546f5a0",
   "metadata": {},
   "outputs": [],
   "source": [
    "import datetime\n",
    "import time\n",
    "\n",
    "def doScrollDown(whileSeconds):\n",
    "    start = datetime.datetime.now()\n",
    "    end = start + datetime.timedelta(seconds=whileSeconds)\n",
    "    while True:\n",
    "        scroll = driver.find_element(By.XPATH, '/html/body/div[3]/div[9]/div[9]/div/div/div[1]/div[2]/div/div[1]/div/div/div[2]/div[1]')\n",
    "        driver.execute_script(\"arguments[0].scrollTop = arguments[0].scrollHeight\", scroll)\n",
    "        time.sleep(1)\n",
    "        if datetime.datetime.now() > end:\n",
    "            break"
   ]
  },
  {
   "cell_type": "code",
   "execution_count": 7,
   "id": "58e1fe08-98ed-4ad6-a05e-402db1605107",
   "metadata": {},
   "outputs": [],
   "source": [
    "doScrollDown(15)"
   ]
  },
  {
   "cell_type": "code",
   "execution_count": 8,
   "id": "2035e53d-c5bb-40cd-ac53-d903fb78f079",
   "metadata": {
    "collapsed": true,
    "jupyter": {
     "outputs_hidden": true
    },
    "tags": []
   },
   "outputs": [
    {
     "data": {
      "text/plain": [
       "['강남면옥',\n",
       " '케르반',\n",
       " '강가 역삼점 Ganga',\n",
       " '오스틴(Austin) 강남역점',\n",
       " '브릭오븐 강남점',\n",
       " 'After Work BBQ',\n",
       " '장모님이떴다 본점',\n",
       " '쉐이크쉑 강남점',\n",
       " '강남식당',\n",
       " '전우소고기해장국',\n",
       " 'Gangnam Myun Oak (Galbi Jjim)',\n",
       " '강남 돼지상회 무한리필',\n",
       " '갓덴스시 강남점',\n",
       " '강남교자 본점',\n",
       " '마녀주방 강남점',\n",
       " '밍글스',\n",
       " '노란상 소갈비 강남구청점',\n",
       " '정돈 강남점',\n",
       " '무쏘 강남역점',\n",
       " '바비레드 강남본점',\n",
       " '능라도 강남점',\n",
       " '강남삼겹살',\n",
       " '다정떡볶이 현대백화점 무역센터점',\n",
       " '메이드',\n",
       " '에이스크랩 강남직영점',\n",
       " '리틀넥 청담점',\n",
       " '운봉',\n",
       " '레스토랑 온',\n",
       " '빌즈 강남',\n",
       " '이타닉 가든']"
      ]
     },
     "execution_count": 8,
     "metadata": {},
     "output_type": "execute_result"
    }
   ],
   "source": [
    "rec = driver.find_elements(By.CLASS_NAME, 'NrDZNb')\n",
    "\n",
    "lists = []\n",
    "for i in range(0, 30):\n",
    "    lists.append(rec[i].text)\n",
    "\n",
    "lists"
   ]
  },
  {
   "cell_type": "code",
   "execution_count": 1,
   "id": "4d99efba-5d7c-4f9c-9341-35b633b6d055",
   "metadata": {
    "tags": []
   },
   "outputs": [
    {
     "ename": "NameError",
     "evalue": "name 'lists' is not defined",
     "output_type": "error",
     "traceback": [
      "\u001b[1;31m---------------------------------------------------------------------------\u001b[0m",
      "\u001b[1;31mNameError\u001b[0m                                 Traceback (most recent call last)",
      "Input \u001b[1;32mIn [1]\u001b[0m, in \u001b[0;36m<cell line: 2>\u001b[1;34m()\u001b[0m\n\u001b[0;32m      1\u001b[0m locat_li \u001b[38;5;241m=\u001b[39m []\n\u001b[1;32m----> 2\u001b[0m \u001b[38;5;28;01mfor\u001b[39;00m i \u001b[38;5;129;01min\u001b[39;00m \u001b[38;5;28mrange\u001b[39m(\u001b[38;5;241m0\u001b[39m, \u001b[38;5;28mlen\u001b[39m(\u001b[43mlists\u001b[49m)):\n\u001b[0;32m      3\u001b[0m     locat_li\u001b[38;5;241m.\u001b[39mappend(lists[i]\u001b[38;5;241m+\u001b[39m\u001b[38;5;124m'\u001b[39m\u001b[38;5;124m,\u001b[39m\u001b[38;5;124m'\u001b[39m\u001b[38;5;241m+\u001b[39m\u001b[38;5;124m'\u001b[39m\u001b[38;5;124m \u001b[39m\u001b[38;5;124m'\u001b[39m\u001b[38;5;241m+\u001b[39mlocation)\n\u001b[0;32m      5\u001b[0m locat_li\n",
      "\u001b[1;31mNameError\u001b[0m: name 'lists' is not defined"
     ]
    }
   ],
   "source": [
    "locat_li = []\n",
    "for i in range(0, len(lists)):\n",
    "    locat_li.append(lists[i]+','+' '+location)\n",
    "\n",
    "locat_li"
   ]
  },
  {
   "cell_type": "code",
   "execution_count": 2,
   "id": "7ffe10e3-aae2-49db-b89e-1597dc7a1fa3",
   "metadata": {},
   "outputs": [
    {
     "ename": "NameError",
     "evalue": "name 'lists' is not defined",
     "output_type": "error",
     "traceback": [
      "\u001b[1;31m---------------------------------------------------------------------------\u001b[0m",
      "\u001b[1;31mNameError\u001b[0m                                 Traceback (most recent call last)",
      "Input \u001b[1;32mIn [2]\u001b[0m, in \u001b[0;36m<cell line: 1>\u001b[1;34m()\u001b[0m\n\u001b[1;32m----> 1\u001b[0m \u001b[38;5;28mlen\u001b[39m(\u001b[43mlists\u001b[49m)\n",
      "\u001b[1;31mNameError\u001b[0m: name 'lists' is not defined"
     ]
    }
   ],
   "source": [
    "len(lists)"
   ]
  },
  {
   "cell_type": "markdown",
   "id": "f639fedc-421c-444e-bf31-237d6716b471",
   "metadata": {
    "tags": []
   },
   "source": [
    "## 별점 따기"
   ]
  },
  {
   "cell_type": "code",
   "execution_count": 3,
   "id": "bbc8e2ab-1eed-4258-a543-3b161b367427",
   "metadata": {
    "tags": []
   },
   "outputs": [
    {
     "ename": "NameError",
     "evalue": "name 'driver' is not defined",
     "output_type": "error",
     "traceback": [
      "\u001b[1;31m---------------------------------------------------------------------------\u001b[0m",
      "\u001b[1;31mNameError\u001b[0m                                 Traceback (most recent call last)",
      "Input \u001b[1;32mIn [3]\u001b[0m, in \u001b[0;36m<cell line: 1>\u001b[1;34m()\u001b[0m\n\u001b[1;32m----> 1\u001b[0m rec \u001b[38;5;241m=\u001b[39m \u001b[43mdriver\u001b[49m\u001b[38;5;241m.\u001b[39mfind_elements(By\u001b[38;5;241m.\u001b[39mCLASS_NAME, \u001b[38;5;124m'\u001b[39m\u001b[38;5;124mAJB7ye\u001b[39m\u001b[38;5;124m'\u001b[39m)\n\u001b[0;32m      3\u001b[0m reviews \u001b[38;5;241m=\u001b[39m []\n\u001b[0;32m      4\u001b[0m \u001b[38;5;28;01mfor\u001b[39;00m i \u001b[38;5;129;01min\u001b[39;00m \u001b[38;5;28mrange\u001b[39m(\u001b[38;5;241m0\u001b[39m, \u001b[38;5;241m30\u001b[39m):\n",
      "\u001b[1;31mNameError\u001b[0m: name 'driver' is not defined"
     ]
    }
   ],
   "source": [
    "rec = driver.find_elements(By.CLASS_NAME, 'AJB7ye')\n",
    "\n",
    "reviews = []\n",
    "for i in range(0, 30):\n",
    "    if rec[i] == '리뷰 없음':\n",
    "        rec[i] = 0\n",
    "    else:\n",
    "        reviews.append(rec[i].text)\n",
    "\n",
    "\n",
    "reviews"
   ]
  },
  {
   "cell_type": "code",
   "execution_count": 4,
   "id": "5ca84e14-6eb1-45ef-9416-6dc15c3cfb65",
   "metadata": {
    "tags": []
   },
   "outputs": [
    {
     "ename": "NameError",
     "evalue": "name 'reviews' is not defined",
     "output_type": "error",
     "traceback": [
      "\u001b[1;31m---------------------------------------------------------------------------\u001b[0m",
      "\u001b[1;31mNameError\u001b[0m                                 Traceback (most recent call last)",
      "Input \u001b[1;32mIn [4]\u001b[0m, in \u001b[0;36m<cell line: 2>\u001b[1;34m()\u001b[0m\n\u001b[0;32m      1\u001b[0m rvs \u001b[38;5;241m=\u001b[39m []\n\u001b[1;32m----> 2\u001b[0m \u001b[38;5;28;01mfor\u001b[39;00m i \u001b[38;5;129;01min\u001b[39;00m \u001b[38;5;28mrange\u001b[39m(\u001b[38;5;241m0\u001b[39m, \u001b[38;5;28mlen\u001b[39m(\u001b[43mreviews\u001b[49m)):\n\u001b[0;32m      3\u001b[0m     rvs\u001b[38;5;241m.\u001b[39mappend(reviews[i][:\u001b[38;5;241m3\u001b[39m])\n\u001b[0;32m      5\u001b[0m rvs\n",
      "\u001b[1;31mNameError\u001b[0m: name 'reviews' is not defined"
     ]
    }
   ],
   "source": [
    "rvs = []\n",
    "for i in range(0, len(reviews)):\n",
    "    rvs.append(reviews[i][:3])\n",
    "    \n",
    "rvs"
   ]
  },
  {
   "cell_type": "code",
   "execution_count": 5,
   "id": "5521570d-ba3c-44d4-ad18-6d97cdd4833a",
   "metadata": {},
   "outputs": [
    {
     "data": {
      "text/plain": [
       "0"
      ]
     },
     "execution_count": 5,
     "metadata": {},
     "output_type": "execute_result"
    }
   ],
   "source": [
    "len(rvs)"
   ]
  },
  {
   "cell_type": "markdown",
   "id": "e35eece9-441b-4fc4-890a-442f47d1ec6e",
   "metadata": {},
   "source": [
    "## 음식 종류"
   ]
  },
  {
   "cell_type": "code",
   "execution_count": 6,
   "id": "97351fa3-1bfa-4915-8c25-9bd36a96143a",
   "metadata": {
    "tags": []
   },
   "outputs": [
    {
     "ename": "NameError",
     "evalue": "name 'driver' is not defined",
     "output_type": "error",
     "traceback": [
      "\u001b[1;31m---------------------------------------------------------------------------\u001b[0m",
      "\u001b[1;31mNameError\u001b[0m                                 Traceback (most recent call last)",
      "Input \u001b[1;32mIn [6]\u001b[0m, in \u001b[0;36m<cell line: 1>\u001b[1;34m()\u001b[0m\n\u001b[1;32m----> 1\u001b[0m rec \u001b[38;5;241m=\u001b[39m \u001b[43mdriver\u001b[49m\u001b[38;5;241m.\u001b[39mfind_elements(By\u001b[38;5;241m.\u001b[39mCSS_SELECTOR, \u001b[38;5;124m'\u001b[39m\u001b[38;5;124m#QA0Szd > div > div > div.w6VYqd > div.bJzME.tTVLSc > div > div.e07Vkf.kA9KIf > div > div > div.m6QErb.DxyBCb.kA9KIf.dS8AEf.ecceSd > div.m6QErb.DxyBCb.kA9KIf.dS8AEf.ecceSd.QjC7t > div > div > div.bfdHYd.Ppzolf.OFBs3e > div.lI9IFe > div.y7PRA > div > div > div.UaQhfb.fontBodyMedium > div > div:nth-child(2) > span:nth-child(1) > jsl > span:nth-child(2)\u001b[39m\u001b[38;5;124m'\u001b[39m)\n\u001b[0;32m      3\u001b[0m food \u001b[38;5;241m=\u001b[39m []\n\u001b[0;32m      4\u001b[0m \u001b[38;5;28;01mfor\u001b[39;00m i \u001b[38;5;129;01min\u001b[39;00m \u001b[38;5;28mrange\u001b[39m(\u001b[38;5;241m0\u001b[39m, \u001b[38;5;241m30\u001b[39m):\n",
      "\u001b[1;31mNameError\u001b[0m: name 'driver' is not defined"
     ]
    }
   ],
   "source": [
    "rec = driver.find_elements(By.CSS_SELECTOR, '#QA0Szd > div > div > div.w6VYqd > div.bJzME.tTVLSc > div > div.e07Vkf.kA9KIf > div > div > div.m6QErb.DxyBCb.kA9KIf.dS8AEf.ecceSd > div.m6QErb.DxyBCb.kA9KIf.dS8AEf.ecceSd.QjC7t > div > div > div.bfdHYd.Ppzolf.OFBs3e > div.lI9IFe > div.y7PRA > div > div > div.UaQhfb.fontBodyMedium > div > div:nth-child(2) > span:nth-child(1) > jsl > span:nth-child(2)')\n",
    "\n",
    "food = []\n",
    "for i in range(0, 30):\n",
    "    food.append(rec[i].text)\n",
    "\n",
    "food"
   ]
  },
  {
   "cell_type": "code",
   "execution_count": 15,
   "id": "9925965c-65dd-4d7e-9425-d514374e3caa",
   "metadata": {},
   "outputs": [
    {
     "data": {
      "text/plain": [
       "30"
      ]
     },
     "execution_count": 15,
     "metadata": {},
     "output_type": "execute_result"
    }
   ],
   "source": [
    "len(food)"
   ]
  },
  {
   "cell_type": "markdown",
   "id": "1873c8ba-e50a-479b-bca6-ac50e4351fd3",
   "metadata": {},
   "source": [
    "## 영업 상태"
   ]
  },
  {
   "cell_type": "code",
   "execution_count": 16,
   "id": "ad79deee-fa7c-4cd9-95b4-badb05c6d3c9",
   "metadata": {
    "collapsed": true,
    "jupyter": {
     "outputs_hidden": true
    },
    "tags": []
   },
   "outputs": [
    {
     "data": {
      "text/plain": [
       "['영업 중',\n",
       " '영업 중',\n",
       " '영업 중',\n",
       " '영업 중',\n",
       " '영업 중',\n",
       " '영업 중',\n",
       " '24시간 영업',\n",
       " '영업 중',\n",
       " '영업 중',\n",
       " '영업 중',\n",
       " '영업 중',\n",
       " '영업 중',\n",
       " '영업 중',\n",
       " '영업 중',\n",
       " '영업 중',\n",
       " '영업 중',\n",
       " '영업 중',\n",
       " '영업 중',\n",
       " '24시간 영업',\n",
       " '영업 중',\n",
       " '영업 중',\n",
       " '영업 중',\n",
       " '영업 중',\n",
       " '영업 중',\n",
       " '영업 중',\n",
       " '영업 중',\n",
       " '영업 중',\n",
       " '영업 중',\n",
       " '영업 중',\n",
       " '영업 중']"
      ]
     },
     "execution_count": 16,
     "metadata": {},
     "output_type": "execute_result"
    }
   ],
   "source": [
    "rec = driver.find_elements(By.CSS_SELECTOR, '#QA0Szd > div > div > div.w6VYqd > div.bJzME.tTVLSc > div > div.e07Vkf.kA9KIf > div > div > div.m6QErb.DxyBCb.kA9KIf.dS8AEf.ecceSd > div.m6QErb.DxyBCb.kA9KIf.dS8AEf.ecceSd.QjC7t > div > div > div.bfdHYd.Ppzolf.OFBs3e > div.lI9IFe > div.y7PRA > div > div > div.UaQhfb.fontBodyMedium > div > div > span > jsl > span > span:nth-child(1)')\n",
    "\n",
    "now = []\n",
    "for i in range(0, 30):\n",
    "    now.append(rec[i].text)\n",
    "\n",
    "now "
   ]
  },
  {
   "cell_type": "markdown",
   "id": "f0e1e86b-fedf-4609-aaf2-4367d3b1fff7",
   "metadata": {},
   "source": [
    "## 영업 시간"
   ]
  },
  {
   "cell_type": "code",
   "execution_count": 17,
   "id": "8305eda8-49f7-4b6e-a21c-87354cf2d81d",
   "metadata": {
    "collapsed": true,
    "jupyter": {
     "outputs_hidden": true
    },
    "tags": []
   },
   "outputs": [
    {
     "data": {
      "text/plain": [
       "['⋅ 오후 10:00에 영업 종료',\n",
       " '⋅ 오후 9:00에 영업 종료',\n",
       " '⋅ 오후 2:30에 영업 종료 ⋅ 오후 5:00에 영업 재개',\n",
       " '⋅ 오후 3:00에 영업 종료 ⋅ 오후 5:00에 영업 재개',\n",
       " '⋅ 오후 11:00에 영업 종료',\n",
       " '⋅ 오후 10:30에 영업 종료',\n",
       " '⋅ 오후 11:00에 영업 종료',\n",
       " '⋅ 오후 10:00에 영업 종료',\n",
       " '⋅ 오후 9:00에 영업 종료',\n",
       " '⋅ 오후 10:00에 영업 종료',\n",
       " '⋅ 오전 12:00에 영업 종료',\n",
       " '⋅ 오후 9:30에 영업 종료',\n",
       " '⋅ 오후 10:00에 영업 종료',\n",
       " '⋅ 오후 3:00에 영업 종료 ⋅ 오후 5:00에 영업 재개',\n",
       " '⋅ 오후 3:00에 영업 종료 ⋅ 오후 6:00에 영업 재개',\n",
       " '⋅ 오후 9:00에 영업 종료',\n",
       " '⋅ 오후 2:00에 영업 종료 ⋅ 오후 5:00에 영업 재개',\n",
       " '⋅ 오후 10:00에 영업 종료',\n",
       " '⋅ 오후 9:30에 영업 종료',\n",
       " '⋅ 오후 11:30에 영업 종료',\n",
       " '⋅ 오후 9:30에 영업 종료',\n",
       " '⋅ 오후 9:00에 영업 종료',\n",
       " '⋅ 오후 10:00에 영업 종료',\n",
       " '⋅ 오후 9:00에 영업 종료',\n",
       " '⋅ 오후 9:30에 영업 종료',\n",
       " '⋅ 오후 10:30에 영업 종료',\n",
       " '⋅ 오후 10:00에 영업 종료',\n",
       " '⋅ 오후 9:00에 영업 종료',\n",
       " '⋅ 오후 9:00에 영업 종료',\n",
       " '⋅ 오후 9:00에 영업 종료']"
      ]
     },
     "execution_count": 17,
     "metadata": {},
     "output_type": "execute_result"
    }
   ],
   "source": [
    "rec = driver.find_elements(By.CSS_SELECTOR, '#QA0Szd > div > div > div.w6VYqd > div.bJzME.tTVLSc > div > div.e07Vkf.kA9KIf > div > div > div.m6QErb.DxyBCb.kA9KIf.dS8AEf.ecceSd > div.m6QErb.DxyBCb.kA9KIf.dS8AEf.ecceSd > div > div > div.bfdHYd.Ppzolf.OFBs3e > div.lI9IFe > div.y7PRA > div > div > div.UaQhfb.fontBodyMedium > div > div > span > jsl > span > span:nth-child(2)')\n",
    "\n",
    "opens = []\n",
    "for i in range(0, 30):\n",
    "    opens.append(rec[i].text)\n",
    "\n",
    "opens"
   ]
  },
  {
   "cell_type": "code",
   "execution_count": 18,
   "id": "a069bc32-0497-4b0c-a362-df4f5a332de1",
   "metadata": {},
   "outputs": [
    {
     "data": {
      "text/plain": [
       "30"
      ]
     },
     "execution_count": 18,
     "metadata": {},
     "output_type": "execute_result"
    }
   ],
   "source": [
    "len(opens)"
   ]
  },
  {
   "cell_type": "markdown",
   "id": "17f9f92c-5073-4577-8ab1-4790056ba1da",
   "metadata": {},
   "source": [
    "## 데이터프레임 만들기"
   ]
  },
  {
   "cell_type": "code",
   "execution_count": 19,
   "id": "5edcec1c-144b-429c-8606-0bbca6b16dce",
   "metadata": {
    "collapsed": true,
    "jupyter": {
     "outputs_hidden": true
    },
    "tags": []
   },
   "outputs": [
    {
     "data": {
      "text/html": [
       "<div>\n",
       "<style scoped>\n",
       "    .dataframe tbody tr th:only-of-type {\n",
       "        vertical-align: middle;\n",
       "    }\n",
       "\n",
       "    .dataframe tbody tr th {\n",
       "        vertical-align: top;\n",
       "    }\n",
       "\n",
       "    .dataframe thead th {\n",
       "        text-align: right;\n",
       "    }\n",
       "</style>\n",
       "<table border=\"1\" class=\"dataframe\">\n",
       "  <thead>\n",
       "    <tr style=\"text-align: right;\">\n",
       "      <th></th>\n",
       "      <th>name</th>\n",
       "      <th>reviews</th>\n",
       "      <th>type</th>\n",
       "      <th>now</th>\n",
       "      <th>hours</th>\n",
       "    </tr>\n",
       "  </thead>\n",
       "  <tbody>\n",
       "    <tr>\n",
       "      <th>0</th>\n",
       "      <td>강남면옥</td>\n",
       "      <td>4.1</td>\n",
       "      <td>한식</td>\n",
       "      <td>영업 중</td>\n",
       "      <td>⋅ 오후 10:00에 영업 종료</td>\n",
       "    </tr>\n",
       "    <tr>\n",
       "      <th>1</th>\n",
       "      <td>케르반</td>\n",
       "      <td>3.9</td>\n",
       "      <td>터키 요리</td>\n",
       "      <td>영업 중</td>\n",
       "      <td>⋅ 오후 9:00에 영업 종료</td>\n",
       "    </tr>\n",
       "    <tr>\n",
       "      <th>2</th>\n",
       "      <td>강가 역삼점 Ganga</td>\n",
       "      <td>3.8</td>\n",
       "      <td>인도 요리</td>\n",
       "      <td>영업 중</td>\n",
       "      <td>⋅ 오후 2:30에 영업 종료 ⋅ 오후 5:00에 영업 재개</td>\n",
       "    </tr>\n",
       "    <tr>\n",
       "      <th>3</th>\n",
       "      <td>오스틴(Austin) 강남역점</td>\n",
       "      <td>3.9</td>\n",
       "      <td>미국 요리</td>\n",
       "      <td>영업 중</td>\n",
       "      <td>⋅ 오후 3:00에 영업 종료 ⋅ 오후 5:00에 영업 재개</td>\n",
       "    </tr>\n",
       "    <tr>\n",
       "      <th>4</th>\n",
       "      <td>브릭오븐 강남점</td>\n",
       "      <td>4.1</td>\n",
       "      <td>피자</td>\n",
       "      <td>영업 중</td>\n",
       "      <td>⋅ 오후 11:00에 영업 종료</td>\n",
       "    </tr>\n",
       "    <tr>\n",
       "      <th>5</th>\n",
       "      <td>After Work BBQ</td>\n",
       "      <td>3.7</td>\n",
       "      <td>바베큐</td>\n",
       "      <td>영업 중</td>\n",
       "      <td>⋅ 오후 10:30에 영업 종료</td>\n",
       "    </tr>\n",
       "    <tr>\n",
       "      <th>6</th>\n",
       "      <td>장모님이떴다 본점</td>\n",
       "      <td>3.7</td>\n",
       "      <td>한식</td>\n",
       "      <td>24시간 영업</td>\n",
       "      <td>⋅ 오후 11:00에 영업 종료</td>\n",
       "    </tr>\n",
       "    <tr>\n",
       "      <th>7</th>\n",
       "      <td>쉐이크쉑 강남점</td>\n",
       "      <td>3.9</td>\n",
       "      <td>햄버거</td>\n",
       "      <td>영업 중</td>\n",
       "      <td>⋅ 오후 10:00에 영업 종료</td>\n",
       "    </tr>\n",
       "    <tr>\n",
       "      <th>8</th>\n",
       "      <td>강남식당</td>\n",
       "      <td>리뷰</td>\n",
       "      <td>한식</td>\n",
       "      <td>영업 중</td>\n",
       "      <td>⋅ 오후 9:00에 영업 종료</td>\n",
       "    </tr>\n",
       "    <tr>\n",
       "      <th>9</th>\n",
       "      <td>전우소고기해장국</td>\n",
       "      <td>4.4</td>\n",
       "      <td>한식</td>\n",
       "      <td>영업 중</td>\n",
       "      <td>⋅ 오후 10:00에 영업 종료</td>\n",
       "    </tr>\n",
       "    <tr>\n",
       "      <th>10</th>\n",
       "      <td>Gangnam Myun Oak (Galbi Jjim)</td>\n",
       "      <td>5.0</td>\n",
       "      <td>음식점</td>\n",
       "      <td>영업 중</td>\n",
       "      <td>⋅ 오전 12:00에 영업 종료</td>\n",
       "    </tr>\n",
       "    <tr>\n",
       "      <th>11</th>\n",
       "      <td>강남 돼지상회 무한리필</td>\n",
       "      <td>3.8</td>\n",
       "      <td>한국식 BBQ</td>\n",
       "      <td>영업 중</td>\n",
       "      <td>⋅ 오후 9:30에 영업 종료</td>\n",
       "    </tr>\n",
       "    <tr>\n",
       "      <th>12</th>\n",
       "      <td>갓덴스시 강남점</td>\n",
       "      <td>4.2</td>\n",
       "      <td>초밥</td>\n",
       "      <td>영업 중</td>\n",
       "      <td>⋅ 오후 10:00에 영업 종료</td>\n",
       "    </tr>\n",
       "    <tr>\n",
       "      <th>13</th>\n",
       "      <td>강남교자 본점</td>\n",
       "      <td>3.9</td>\n",
       "      <td>국수 전문점</td>\n",
       "      <td>영업 중</td>\n",
       "      <td>⋅ 오후 3:00에 영업 종료 ⋅ 오후 5:00에 영업 재개</td>\n",
       "    </tr>\n",
       "    <tr>\n",
       "      <th>14</th>\n",
       "      <td>마녀주방 강남점</td>\n",
       "      <td>4.1</td>\n",
       "      <td>이탈리아 요리</td>\n",
       "      <td>영업 중</td>\n",
       "      <td>⋅ 오후 3:00에 영업 종료 ⋅ 오후 6:00에 영업 재개</td>\n",
       "    </tr>\n",
       "    <tr>\n",
       "      <th>15</th>\n",
       "      <td>밍글스</td>\n",
       "      <td>4.5</td>\n",
       "      <td>한식</td>\n",
       "      <td>영업 중</td>\n",
       "      <td>⋅ 오후 9:00에 영업 종료</td>\n",
       "    </tr>\n",
       "    <tr>\n",
       "      <th>16</th>\n",
       "      <td>노란상 소갈비 강남구청점</td>\n",
       "      <td>4.3</td>\n",
       "      <td>한국식 BBQ</td>\n",
       "      <td>영업 중</td>\n",
       "      <td>⋅ 오후 2:00에 영업 종료 ⋅ 오후 5:00에 영업 재개</td>\n",
       "    </tr>\n",
       "    <tr>\n",
       "      <th>17</th>\n",
       "      <td>정돈 강남점</td>\n",
       "      <td>4.5</td>\n",
       "      <td>돈까스 전문식당</td>\n",
       "      <td>영업 중</td>\n",
       "      <td>⋅ 오후 10:00에 영업 종료</td>\n",
       "    </tr>\n",
       "    <tr>\n",
       "      <th>18</th>\n",
       "      <td>무쏘 강남역점</td>\n",
       "      <td>3.3</td>\n",
       "      <td>한국식 BBQ</td>\n",
       "      <td>24시간 영업</td>\n",
       "      <td>⋅ 오후 9:30에 영업 종료</td>\n",
       "    </tr>\n",
       "    <tr>\n",
       "      <th>19</th>\n",
       "      <td>바비레드 강남본점</td>\n",
       "      <td>4.3</td>\n",
       "      <td>퓨전 음식점</td>\n",
       "      <td>영업 중</td>\n",
       "      <td>⋅ 오후 11:30에 영업 종료</td>\n",
       "    </tr>\n",
       "    <tr>\n",
       "      <th>20</th>\n",
       "      <td>능라도 강남점</td>\n",
       "      <td>4.1</td>\n",
       "      <td>냉면 전문점</td>\n",
       "      <td>영업 중</td>\n",
       "      <td>⋅ 오후 9:30에 영업 종료</td>\n",
       "    </tr>\n",
       "    <tr>\n",
       "      <th>21</th>\n",
       "      <td>강남삼겹살</td>\n",
       "      <td>4.0</td>\n",
       "      <td>한국식 BBQ</td>\n",
       "      <td>영업 중</td>\n",
       "      <td>⋅ 오후 9:00에 영업 종료</td>\n",
       "    </tr>\n",
       "    <tr>\n",
       "      <th>22</th>\n",
       "      <td>다정떡볶이 현대백화점 무역센터점</td>\n",
       "      <td>4.0</td>\n",
       "      <td>한식</td>\n",
       "      <td>영업 중</td>\n",
       "      <td>⋅ 오후 10:00에 영업 종료</td>\n",
       "    </tr>\n",
       "    <tr>\n",
       "      <th>23</th>\n",
       "      <td>메이드</td>\n",
       "      <td>3.7</td>\n",
       "      <td>현대식 미국 요리</td>\n",
       "      <td>영업 중</td>\n",
       "      <td>⋅ 오후 9:00에 영업 종료</td>\n",
       "    </tr>\n",
       "    <tr>\n",
       "      <th>24</th>\n",
       "      <td>에이스크랩 강남직영점</td>\n",
       "      <td>4.1</td>\n",
       "      <td>음식점</td>\n",
       "      <td>영업 중</td>\n",
       "      <td>⋅ 오후 9:30에 영업 종료</td>\n",
       "    </tr>\n",
       "    <tr>\n",
       "      <th>25</th>\n",
       "      <td>리틀넥 청담점</td>\n",
       "      <td>4.2</td>\n",
       "      <td>음식점</td>\n",
       "      <td>영업 중</td>\n",
       "      <td>⋅ 오후 10:30에 영업 종료</td>\n",
       "    </tr>\n",
       "    <tr>\n",
       "      <th>26</th>\n",
       "      <td>운봉</td>\n",
       "      <td>3.5</td>\n",
       "      <td>중식</td>\n",
       "      <td>영업 중</td>\n",
       "      <td>⋅ 오후 10:00에 영업 종료</td>\n",
       "    </tr>\n",
       "    <tr>\n",
       "      <th>27</th>\n",
       "      <td>레스토랑 온</td>\n",
       "      <td>4.6</td>\n",
       "      <td>미국 서부 요리</td>\n",
       "      <td>영업 중</td>\n",
       "      <td>⋅ 오후 9:00에 영업 종료</td>\n",
       "    </tr>\n",
       "    <tr>\n",
       "      <th>28</th>\n",
       "      <td>빌즈 강남</td>\n",
       "      <td>4.0</td>\n",
       "      <td>호주 요리</td>\n",
       "      <td>영업 중</td>\n",
       "      <td>⋅ 오후 9:00에 영업 종료</td>\n",
       "    </tr>\n",
       "    <tr>\n",
       "      <th>29</th>\n",
       "      <td>이타닉 가든</td>\n",
       "      <td>4.5</td>\n",
       "      <td>미국 서부 요리</td>\n",
       "      <td>영업 중</td>\n",
       "      <td>⋅ 오후 9:00에 영업 종료</td>\n",
       "    </tr>\n",
       "  </tbody>\n",
       "</table>\n",
       "</div>"
      ],
      "text/plain": [
       "                             name reviews       type      now  \\\n",
       "0                            강남면옥     4.1         한식     영업 중   \n",
       "1                             케르반     3.9      터키 요리     영업 중   \n",
       "2                    강가 역삼점 Ganga     3.8      인도 요리     영업 중   \n",
       "3                오스틴(Austin) 강남역점     3.9      미국 요리     영업 중   \n",
       "4                        브릭오븐 강남점     4.1         피자     영업 중   \n",
       "5                  After Work BBQ     3.7        바베큐     영업 중   \n",
       "6                       장모님이떴다 본점     3.7         한식  24시간 영업   \n",
       "7                        쉐이크쉑 강남점     3.9        햄버거     영업 중   \n",
       "8                            강남식당     리뷰          한식     영업 중   \n",
       "9                        전우소고기해장국     4.4         한식     영업 중   \n",
       "10  Gangnam Myun Oak (Galbi Jjim)     5.0        음식점     영업 중   \n",
       "11                   강남 돼지상회 무한리필     3.8    한국식 BBQ     영업 중   \n",
       "12                       갓덴스시 강남점     4.2         초밥     영업 중   \n",
       "13                        강남교자 본점     3.9     국수 전문점     영업 중   \n",
       "14                       마녀주방 강남점     4.1    이탈리아 요리     영업 중   \n",
       "15                            밍글스     4.5         한식     영업 중   \n",
       "16                  노란상 소갈비 강남구청점     4.3    한국식 BBQ     영업 중   \n",
       "17                         정돈 강남점     4.5   돈까스 전문식당     영업 중   \n",
       "18                        무쏘 강남역점     3.3    한국식 BBQ  24시간 영업   \n",
       "19                      바비레드 강남본점     4.3     퓨전 음식점     영업 중   \n",
       "20                        능라도 강남점     4.1     냉면 전문점     영업 중   \n",
       "21                          강남삼겹살     4.0    한국식 BBQ     영업 중   \n",
       "22              다정떡볶이 현대백화점 무역센터점     4.0         한식     영업 중   \n",
       "23                            메이드     3.7  현대식 미국 요리     영업 중   \n",
       "24                    에이스크랩 강남직영점     4.1        음식점     영업 중   \n",
       "25                        리틀넥 청담점     4.2        음식점     영업 중   \n",
       "26                             운봉     3.5         중식     영업 중   \n",
       "27                         레스토랑 온     4.6   미국 서부 요리     영업 중   \n",
       "28                          빌즈 강남     4.0      호주 요리     영업 중   \n",
       "29                         이타닉 가든     4.5   미국 서부 요리     영업 중   \n",
       "\n",
       "                                hours  \n",
       "0                   ⋅ 오후 10:00에 영업 종료  \n",
       "1                    ⋅ 오후 9:00에 영업 종료  \n",
       "2   ⋅ 오후 2:30에 영업 종료 ⋅ 오후 5:00에 영업 재개  \n",
       "3   ⋅ 오후 3:00에 영업 종료 ⋅ 오후 5:00에 영업 재개  \n",
       "4                   ⋅ 오후 11:00에 영업 종료  \n",
       "5                   ⋅ 오후 10:30에 영업 종료  \n",
       "6                   ⋅ 오후 11:00에 영업 종료  \n",
       "7                   ⋅ 오후 10:00에 영업 종료  \n",
       "8                    ⋅ 오후 9:00에 영업 종료  \n",
       "9                   ⋅ 오후 10:00에 영업 종료  \n",
       "10                  ⋅ 오전 12:00에 영업 종료  \n",
       "11                   ⋅ 오후 9:30에 영업 종료  \n",
       "12                  ⋅ 오후 10:00에 영업 종료  \n",
       "13  ⋅ 오후 3:00에 영업 종료 ⋅ 오후 5:00에 영업 재개  \n",
       "14  ⋅ 오후 3:00에 영업 종료 ⋅ 오후 6:00에 영업 재개  \n",
       "15                   ⋅ 오후 9:00에 영업 종료  \n",
       "16  ⋅ 오후 2:00에 영업 종료 ⋅ 오후 5:00에 영업 재개  \n",
       "17                  ⋅ 오후 10:00에 영업 종료  \n",
       "18                   ⋅ 오후 9:30에 영업 종료  \n",
       "19                  ⋅ 오후 11:30에 영업 종료  \n",
       "20                   ⋅ 오후 9:30에 영업 종료  \n",
       "21                   ⋅ 오후 9:00에 영업 종료  \n",
       "22                  ⋅ 오후 10:00에 영업 종료  \n",
       "23                   ⋅ 오후 9:00에 영업 종료  \n",
       "24                   ⋅ 오후 9:30에 영업 종료  \n",
       "25                  ⋅ 오후 10:30에 영업 종료  \n",
       "26                  ⋅ 오후 10:00에 영업 종료  \n",
       "27                   ⋅ 오후 9:00에 영업 종료  \n",
       "28                   ⋅ 오후 9:00에 영업 종료  \n",
       "29                   ⋅ 오후 9:00에 영업 종료  "
      ]
     },
     "execution_count": 19,
     "metadata": {},
     "output_type": "execute_result"
    }
   ],
   "source": [
    "import pandas as pd\n",
    "\n",
    "df = pd.DataFrame(zip(lists, rvs, food, now, opens), columns=['name', 'reviews', 'type', 'now', 'hours'])\n",
    "df"
   ]
  },
  {
   "cell_type": "markdown",
   "id": "2e4fb853-455e-4333-aadd-8dbde230ceae",
   "metadata": {},
   "source": [
    "# 링크 따기"
   ]
  },
  {
   "cell_type": "code",
   "execution_count": 20,
   "id": "a564a407-e2a9-461d-92c9-9401d1891ad0",
   "metadata": {},
   "outputs": [],
   "source": [
    "url = \"https://www.google.com/maps\"\n",
    "driver.get(url)"
   ]
  },
  {
   "cell_type": "code",
   "execution_count": 21,
   "id": "76394324-99c8-4d07-a36a-9b45ff2b026b",
   "metadata": {},
   "outputs": [],
   "source": [
    "xpath = '/html/body/div[3]/div[9]/div[3]/div[1]/div[1]/div[1]/div[2]/form/div[2]/div[3]/div/input[1]'\n",
    "search = driver.find_element(By.XPATH, xpath)\n",
    "search.clear()\n",
    "search.send_keys(f'{location} restaurant')\n",
    "search.send_keys(Keys.ENTER)"
   ]
  },
  {
   "cell_type": "code",
   "execution_count": 22,
   "id": "c45a33af-71c7-4913-8b43-ac877c669d1a",
   "metadata": {},
   "outputs": [],
   "source": [
    "doScrollDown(15)"
   ]
  },
  {
   "cell_type": "code",
   "execution_count": 23,
   "id": "e4041a0c-8988-46e4-9ab4-f46a2a005fa7",
   "metadata": {},
   "outputs": [],
   "source": [
    "says:url = driver.current_url\n",
    "resp = requests.get(url)\n",
    "\n",
    "e = driver.find_elements(By.CLASS_NAME, 'hfpxzc')\n",
    "\n",
    "c = []\n",
    "for i in range(0, 30):\n",
    "    e[i].send_keys(Keys.RETURN)\n",
    "    url = driver.current_url\n",
    "    c.append(url) "
   ]
  },
  {
   "cell_type": "code",
   "execution_count": 24,
   "id": "1d583291-be2a-4ac8-88ee-d33c78c6309c",
   "metadata": {
    "collapsed": true,
    "jupyter": {
     "outputs_hidden": true
    },
    "tags": []
   },
   "outputs": [
    {
     "data": {
      "text/plain": [
       "['https://www.google.com/maps/search/gangnam+restaurant/data=!4m2!2m1!6e5',\n",
       " 'https://www.google.com/maps/place/%EA%B0%95%EB%82%A8%EB%A9%B4%EC%98%A5/data=!4m7!1m3!2m2!1sgangnam+restaurant!6e5!3m2!1s0x357ca38d6d671777:0x906f8dda8a3506b4!15sChJnYW5nbmFtIHJlc3RhdXJhbnRaFCISZ2FuZ25hbSByZXN0YXVyYW50kgERa29yZWFuX3Jlc3RhdXJhbnTgAQA',\n",
       " 'https://www.google.com/maps/place/%EA%B0%95%EB%82%A8%EB%A9%B4%EC%98%A5/data=!4m10!1m3!2m2!1sgangnam+restaurant!6e5!3m5!1s0x357ca38d6d671777:0x906f8dda8a3506b4!8m2!3d37.5213898!4d127.0309314!15sChJnYW5nbmFtIHJlc3RhdXJhbnRaFCISZ2FuZ25hbSByZXN0YXVyYW50kgERa29yZWFuX3Jlc3RhdXJhbnTgAQA',\n",
       " 'https://www.google.com/maps/place/%EA%B0%95%EB%82%A8%EB%A9%B4%EC%98%A5/data=!4m10!1m3!2m2!1sgangnam+restaurant!6e5!3m5!1s0x357ca38d6d671777:0x906f8dda8a3506b4!8m2!3d37.5213898!4d127.0309314!15sChJnYW5nbmFtIHJlc3RhdXJhbnRaFCISZ2FuZ25hbSByZXN0YXVyYW50kgERa29yZWFuX3Jlc3RhdXJhbnTgAQA',\n",
       " 'https://www.google.com/maps/place/%EA%B0%95%EB%82%A8%EB%A9%B4%EC%98%A5/data=!4m10!1m3!2m2!1sgangnam+restaurant!6e5!3m5!1s0x357ca38d6d671777:0x906f8dda8a3506b4!8m2!3d37.5213898!4d127.0309314!15sChJnYW5nbmFtIHJlc3RhdXJhbnRaFCISZ2FuZ25hbSByZXN0YXVyYW50kgERa29yZWFuX3Jlc3RhdXJhbnTgAQA',\n",
       " 'https://www.google.com/maps/place/%EA%B0%95%EB%82%A8%EB%A9%B4%EC%98%A5/data=!4m10!1m3!2m2!1sgangnam+restaurant!6e5!3m5!1s0x357ca38d6d671777:0x906f8dda8a3506b4!8m2!3d37.5213898!4d127.0309314!15sChJnYW5nbmFtIHJlc3RhdXJhbnRaFCISZ2FuZ25hbSByZXN0YXVyYW50kgERa29yZWFuX3Jlc3RhdXJhbnTgAQA',\n",
       " 'https://www.google.com/maps/place/%EA%B0%95%EB%82%A8%EB%A9%B4%EC%98%A5/data=!4m10!1m3!2m2!1sgangnam+restaurant!6e5!3m5!1s0x357ca38d6d671777:0x906f8dda8a3506b4!8m2!3d37.5213898!4d127.0309314!15sChJnYW5nbmFtIHJlc3RhdXJhbnRaFCISZ2FuZ25hbSByZXN0YXVyYW50kgERa29yZWFuX3Jlc3RhdXJhbnTgAQA',\n",
       " 'https://www.google.com/maps/place/After+Work+BBQ/data=!4m10!1m3!2m2!1sgangnam+restaurant!6e5!3m5!1s0x357ca11c9f54d31b:0xc3b569a93b8523f2!8m2!3d37.4962612!4d127.0301445!15sChJnYW5nbmFtIHJlc3RhdXJhbnRaFCISZ2FuZ25hbSByZXN0YXVyYW50kgETYmFyYmVjdWVfcmVzdGF1cmFudOABAA',\n",
       " 'https://www.google.com/maps/place/After+Work+BBQ/data=!4m10!1m3!2m2!1sgangnam+restaurant!6e5!3m5!1s0x357ca11c9f54d31b:0xc3b569a93b8523f2!8m2!3d37.4962612!4d127.0301445!15sChJnYW5nbmFtIHJlc3RhdXJhbnRaFCISZ2FuZ25hbSByZXN0YXVyYW50kgETYmFyYmVjdWVfcmVzdGF1cmFudOABAA',\n",
       " 'https://www.google.com/maps/place/After+Work+BBQ/data=!4m10!1m3!2m2!1sgangnam+restaurant!6e5!3m5!1s0x357ca11c9f54d31b:0xc3b569a93b8523f2!8m2!3d37.4962612!4d127.0301445!15sChJnYW5nbmFtIHJlc3RhdXJhbnRaFCISZ2FuZ25hbSByZXN0YXVyYW50kgETYmFyYmVjdWVfcmVzdGF1cmFudOABAA',\n",
       " 'https://www.google.com/maps/place/After+Work+BBQ/data=!4m10!1m3!2m2!1sgangnam+restaurant!6e5!3m5!1s0x357ca11c9f54d31b:0xc3b569a93b8523f2!8m2!3d37.4962612!4d127.0301445!15sChJnYW5nbmFtIHJlc3RhdXJhbnRaFCISZ2FuZ25hbSByZXN0YXVyYW50kgETYmFyYmVjdWVfcmVzdGF1cmFudOABAA',\n",
       " 'https://www.google.com/maps/place/After+Work+BBQ/data=!4m10!1m3!2m2!1sgangnam+restaurant!6e5!3m5!1s0x357ca11c9f54d31b:0xc3b569a93b8523f2!8m2!3d37.4962612!4d127.0301445!15sChJnYW5nbmFtIHJlc3RhdXJhbnRaFCISZ2FuZ25hbSByZXN0YXVyYW50kgETYmFyYmVjdWVfcmVzdGF1cmFudOABAA',\n",
       " 'https://www.google.com/maps/place/After+Work+BBQ/data=!4m10!1m3!2m2!1sgangnam+restaurant!6e5!3m5!1s0x357ca11c9f54d31b:0xc3b569a93b8523f2!8m2!3d37.4962612!4d127.0301445!15sChJnYW5nbmFtIHJlc3RhdXJhbnRaFCISZ2FuZ25hbSByZXN0YXVyYW50kgETYmFyYmVjdWVfcmVzdGF1cmFudOABAA',\n",
       " 'https://www.google.com/maps/place/After+Work+BBQ/data=!4m10!1m3!2m2!1sgangnam+restaurant!6e5!3m5!1s0x357ca11c9f54d31b:0xc3b569a93b8523f2!8m2!3d37.4962612!4d127.0301445!15sChJnYW5nbmFtIHJlc3RhdXJhbnRaFCISZ2FuZ25hbSByZXN0YXVyYW50kgETYmFyYmVjdWVfcmVzdGF1cmFudOABAA',\n",
       " 'https://www.google.com/maps/place/After+Work+BBQ/data=!4m10!1m3!2m2!1sgangnam+restaurant!6e5!3m5!1s0x357ca11c9f54d31b:0xc3b569a93b8523f2!8m2!3d37.4962612!4d127.0301445!15sChJnYW5nbmFtIHJlc3RhdXJhbnRaFCISZ2FuZ25hbSByZXN0YXVyYW50kgETYmFyYmVjdWVfcmVzdGF1cmFudOABAA',\n",
       " 'https://www.google.com/maps/place/After+Work+BBQ/data=!4m10!1m3!2m2!1sgangnam+restaurant!6e5!3m5!1s0x357ca11c9f54d31b:0xc3b569a93b8523f2!8m2!3d37.4962612!4d127.0301445!15sChJnYW5nbmFtIHJlc3RhdXJhbnRaFCISZ2FuZ25hbSByZXN0YXVyYW50kgETYmFyYmVjdWVfcmVzdGF1cmFudOABAA',\n",
       " 'https://www.google.com/maps/place/%EB%85%B8%EB%9E%80%EC%83%81+%EC%86%8C%EA%B0%88%EB%B9%84+%EA%B0%95%EB%82%A8%EA%B5%AC%EC%B2%AD%EC%A0%90/data=!4m7!1m3!2m2!1sgangnam+restaurant!6e5!3m2!1s0x357ca380f4a73cff:0x1eb95ceae0a56daa!15sChJnYW5nbmFtIHJlc3RhdXJhbnRaFCISZ2FuZ25hbSByZXN0YXVyYW50kgEaa29yZWFuX2JhcmJlY3VlX3Jlc3RhdXJhbnTgAQA',\n",
       " 'https://www.google.com/maps/place/%EB%85%B8%EB%9E%80%EC%83%81+%EC%86%8C%EA%B0%88%EB%B9%84+%EA%B0%95%EB%82%A8%EA%B5%AC%EC%B2%AD%EC%A0%90/data=!4m10!1m3!2m2!1sgangnam+restaurant!6e5!3m5!1s0x357ca380f4a73cff:0x1eb95ceae0a56daa!8m2!3d37.5174781!4d127.0391663!15sChJnYW5nbmFtIHJlc3RhdXJhbnRaFCISZ2FuZ25hbSByZXN0YXVyYW50kgEaa29yZWFuX2JhcmJlY3VlX3Jlc3RhdXJhbnTgAQA',\n",
       " 'https://www.google.com/maps/place/%EB%85%B8%EB%9E%80%EC%83%81+%EC%86%8C%EA%B0%88%EB%B9%84+%EA%B0%95%EB%82%A8%EA%B5%AC%EC%B2%AD%EC%A0%90/data=!4m10!1m3!2m2!1sgangnam+restaurant!6e5!3m5!1s0x357ca380f4a73cff:0x1eb95ceae0a56daa!8m2!3d37.5174781!4d127.0391663!15sChJnYW5nbmFtIHJlc3RhdXJhbnRaFCISZ2FuZ25hbSByZXN0YXVyYW50kgEaa29yZWFuX2JhcmJlY3VlX3Jlc3RhdXJhbnTgAQA',\n",
       " 'https://www.google.com/maps/place/%EB%85%B8%EB%9E%80%EC%83%81+%EC%86%8C%EA%B0%88%EB%B9%84+%EA%B0%95%EB%82%A8%EA%B5%AC%EC%B2%AD%EC%A0%90/data=!4m10!1m3!2m2!1sgangnam+restaurant!6e5!3m5!1s0x357ca380f4a73cff:0x1eb95ceae0a56daa!8m2!3d37.5174781!4d127.0391663!15sChJnYW5nbmFtIHJlc3RhdXJhbnRaFCISZ2FuZ25hbSByZXN0YXVyYW50kgEaa29yZWFuX2JhcmJlY3VlX3Jlc3RhdXJhbnTgAQA',\n",
       " 'https://www.google.com/maps/place/%EB%85%B8%EB%9E%80%EC%83%81+%EC%86%8C%EA%B0%88%EB%B9%84+%EA%B0%95%EB%82%A8%EA%B5%AC%EC%B2%AD%EC%A0%90/data=!4m10!1m3!2m2!1sgangnam+restaurant!6e5!3m5!1s0x357ca380f4a73cff:0x1eb95ceae0a56daa!8m2!3d37.5174781!4d127.0391663!15sChJnYW5nbmFtIHJlc3RhdXJhbnRaFCISZ2FuZ25hbSByZXN0YXVyYW50kgEaa29yZWFuX2JhcmJlY3VlX3Jlc3RhdXJhbnTgAQA',\n",
       " 'https://www.google.com/maps/place/%EB%85%B8%EB%9E%80%EC%83%81+%EC%86%8C%EA%B0%88%EB%B9%84+%EA%B0%95%EB%82%A8%EA%B5%AC%EC%B2%AD%EC%A0%90/data=!4m10!1m3!2m2!1sgangnam+restaurant!6e5!3m5!1s0x357ca380f4a73cff:0x1eb95ceae0a56daa!8m2!3d37.5174781!4d127.0391663!15sChJnYW5nbmFtIHJlc3RhdXJhbnRaFCISZ2FuZ25hbSByZXN0YXVyYW50kgEaa29yZWFuX2JhcmJlY3VlX3Jlc3RhdXJhbnTgAQA',\n",
       " 'https://www.google.com/maps/place/%EB%85%B8%EB%9E%80%EC%83%81+%EC%86%8C%EA%B0%88%EB%B9%84+%EA%B0%95%EB%82%A8%EA%B5%AC%EC%B2%AD%EC%A0%90/data=!4m10!1m3!2m2!1sgangnam+restaurant!6e5!3m5!1s0x357ca380f4a73cff:0x1eb95ceae0a56daa!8m2!3d37.5174781!4d127.0391663!15sChJnYW5nbmFtIHJlc3RhdXJhbnRaFCISZ2FuZ25hbSByZXN0YXVyYW50kgEaa29yZWFuX2JhcmJlY3VlX3Jlc3RhdXJhbnTgAQA',\n",
       " 'https://www.google.com/maps/place/%EB%85%B8%EB%9E%80%EC%83%81+%EC%86%8C%EA%B0%88%EB%B9%84+%EA%B0%95%EB%82%A8%EA%B5%AC%EC%B2%AD%EC%A0%90/data=!4m10!1m3!2m2!1sgangnam+restaurant!6e5!3m5!1s0x357ca380f4a73cff:0x1eb95ceae0a56daa!8m2!3d37.5174781!4d127.0391663!15sChJnYW5nbmFtIHJlc3RhdXJhbnRaFCISZ2FuZ25hbSByZXN0YXVyYW50kgEaa29yZWFuX2JhcmJlY3VlX3Jlc3RhdXJhbnTgAQA',\n",
       " 'https://www.google.com/maps/place/%EB%85%B8%EB%9E%80%EC%83%81+%EC%86%8C%EA%B0%88%EB%B9%84+%EA%B0%95%EB%82%A8%EA%B5%AC%EC%B2%AD%EC%A0%90/data=!4m10!1m3!2m2!1sgangnam+restaurant!6e5!3m5!1s0x357ca380f4a73cff:0x1eb95ceae0a56daa!8m2!3d37.5174781!4d127.0391663!15sChJnYW5nbmFtIHJlc3RhdXJhbnRaFCISZ2FuZ25hbSByZXN0YXVyYW50kgEaa29yZWFuX2JhcmJlY3VlX3Jlc3RhdXJhbnTgAQA',\n",
       " 'https://www.google.com/maps/place/%EC%9A%B4%EB%B4%89/data=!4m10!1m3!2m2!1sgangnam+restaurant!6e5!3m5!1s0x357ca5ad2c8c6591:0x8b650d40a18b7d02!8m2!3d37.5026641!4d127.059119!15sChJnYW5nbmFtIHJlc3RhdXJhbnRaFCISZ2FuZ25hbSByZXN0YXVyYW50kgESY2hpbmVzZV9yZXN0YXVyYW504AEA',\n",
       " 'https://www.google.com/maps/place/%EC%9A%B4%EB%B4%89/data=!4m10!1m3!2m2!1sgangnam+restaurant!6e5!3m5!1s0x357ca5ad2c8c6591:0x8b650d40a18b7d02!8m2!3d37.5026641!4d127.059119!15sChJnYW5nbmFtIHJlc3RhdXJhbnRaFCISZ2FuZ25hbSByZXN0YXVyYW50kgESY2hpbmVzZV9yZXN0YXVyYW504AEA',\n",
       " 'https://www.google.com/maps/place/%EC%9A%B4%EB%B4%89/data=!4m10!1m3!2m2!1sgangnam+restaurant!6e5!3m5!1s0x357ca5ad2c8c6591:0x8b650d40a18b7d02!8m2!3d37.5026641!4d127.059119!15sChJnYW5nbmFtIHJlc3RhdXJhbnRaFCISZ2FuZ25hbSByZXN0YXVyYW50kgESY2hpbmVzZV9yZXN0YXVyYW504AEA',\n",
       " 'https://www.google.com/maps/place/%EC%9A%B4%EB%B4%89/data=!4m10!1m3!2m2!1sgangnam+restaurant!6e5!3m5!1s0x357ca5ad2c8c6591:0x8b650d40a18b7d02!8m2!3d37.5026641!4d127.059119!15sChJnYW5nbmFtIHJlc3RhdXJhbnRaFCISZ2FuZ25hbSByZXN0YXVyYW50kgESY2hpbmVzZV9yZXN0YXVyYW504AEA',\n",
       " 'https://www.google.com/maps/place/%EC%9A%B4%EB%B4%89/data=!4m10!1m3!2m2!1sgangnam+restaurant!6e5!3m5!1s0x357ca5ad2c8c6591:0x8b650d40a18b7d02!8m2!3d37.5026641!4d127.059119!15sChJnYW5nbmFtIHJlc3RhdXJhbnRaFCISZ2FuZ25hbSByZXN0YXVyYW50kgESY2hpbmVzZV9yZXN0YXVyYW504AEA']"
      ]
     },
     "execution_count": 24,
     "metadata": {},
     "output_type": "execute_result"
    }
   ],
   "source": [
    "c"
   ]
  },
  {
   "cell_type": "code",
   "execution_count": 25,
   "id": "48693ad1-12de-47a8-8c37-8edc901e2de6",
   "metadata": {},
   "outputs": [
    {
     "data": {
      "text/plain": [
       "30"
      ]
     },
     "execution_count": 25,
     "metadata": {},
     "output_type": "execute_result"
    }
   ],
   "source": [
    "len(c)"
   ]
  },
  {
   "cell_type": "code",
   "execution_count": 26,
   "id": "93b13f62-cc97-4be9-a4b4-ae6bda208aaa",
   "metadata": {},
   "outputs": [],
   "source": [
    "df['link'] = c"
   ]
  },
  {
   "cell_type": "code",
   "execution_count": 28,
   "id": "d4ba2405-3329-4928-ba16-3cc5c9d87a8d",
   "metadata": {
    "tags": []
   },
   "outputs": [
    {
     "data": {
      "text/html": [
       "<div>\n",
       "<style scoped>\n",
       "    .dataframe tbody tr th:only-of-type {\n",
       "        vertical-align: middle;\n",
       "    }\n",
       "\n",
       "    .dataframe tbody tr th {\n",
       "        vertical-align: top;\n",
       "    }\n",
       "\n",
       "    .dataframe thead th {\n",
       "        text-align: right;\n",
       "    }\n",
       "</style>\n",
       "<table border=\"1\" class=\"dataframe\">\n",
       "  <thead>\n",
       "    <tr style=\"text-align: right;\">\n",
       "      <th></th>\n",
       "      <th>name</th>\n",
       "      <th>reviews</th>\n",
       "      <th>type</th>\n",
       "      <th>now</th>\n",
       "      <th>hours</th>\n",
       "      <th>link</th>\n",
       "    </tr>\n",
       "  </thead>\n",
       "  <tbody>\n",
       "    <tr>\n",
       "      <th>0</th>\n",
       "      <td>강남면옥</td>\n",
       "      <td>4.1</td>\n",
       "      <td>한식</td>\n",
       "      <td>영업 중</td>\n",
       "      <td>⋅ 오후 10:00에 영업 종료</td>\n",
       "      <td>https://www.google.com/maps/search/gangnam+res...</td>\n",
       "    </tr>\n",
       "    <tr>\n",
       "      <th>1</th>\n",
       "      <td>케르반</td>\n",
       "      <td>3.9</td>\n",
       "      <td>터키 요리</td>\n",
       "      <td>영업 중</td>\n",
       "      <td>⋅ 오후 9:00에 영업 종료</td>\n",
       "      <td>https://www.google.com/maps/place/%EA%B0%95%EB...</td>\n",
       "    </tr>\n",
       "    <tr>\n",
       "      <th>2</th>\n",
       "      <td>강가 역삼점 Ganga</td>\n",
       "      <td>3.8</td>\n",
       "      <td>인도 요리</td>\n",
       "      <td>영업 중</td>\n",
       "      <td>⋅ 오후 2:30에 영업 종료 ⋅ 오후 5:00에 영업 재개</td>\n",
       "      <td>https://www.google.com/maps/place/%EA%B0%95%EB...</td>\n",
       "    </tr>\n",
       "  </tbody>\n",
       "</table>\n",
       "</div>"
      ],
      "text/plain": [
       "           name reviews   type   now                              hours  \\\n",
       "0          강남면옥     4.1     한식  영업 중                  ⋅ 오후 10:00에 영업 종료   \n",
       "1           케르반     3.9  터키 요리  영업 중                   ⋅ 오후 9:00에 영업 종료   \n",
       "2  강가 역삼점 Ganga     3.8  인도 요리  영업 중  ⋅ 오후 2:30에 영업 종료 ⋅ 오후 5:00에 영업 재개   \n",
       "\n",
       "                                                link  \n",
       "0  https://www.google.com/maps/search/gangnam+res...  \n",
       "1  https://www.google.com/maps/place/%EA%B0%95%EB...  \n",
       "2  https://www.google.com/maps/place/%EA%B0%95%EB...  "
      ]
     },
     "execution_count": 28,
     "metadata": {},
     "output_type": "execute_result"
    }
   ],
   "source": [
    "df[:3]"
   ]
  },
  {
   "cell_type": "markdown",
   "id": "cd162bd3-280b-4719-96e3-5e5f2158f514",
   "metadata": {
    "tags": []
   },
   "source": [
    "## 위치 포함한 탑10"
   ]
  },
  {
   "cell_type": "code",
   "execution_count": 29,
   "id": "0741ed23-032d-4178-8095-dbde713480fb",
   "metadata": {
    "tags": []
   },
   "outputs": [
    {
     "data": {
      "text/html": [
       "<div>\n",
       "<style scoped>\n",
       "    .dataframe tbody tr th:only-of-type {\n",
       "        vertical-align: middle;\n",
       "    }\n",
       "\n",
       "    .dataframe tbody tr th {\n",
       "        vertical-align: top;\n",
       "    }\n",
       "\n",
       "    .dataframe thead th {\n",
       "        text-align: right;\n",
       "    }\n",
       "</style>\n",
       "<table border=\"1\" class=\"dataframe\">\n",
       "  <thead>\n",
       "    <tr style=\"text-align: right;\">\n",
       "      <th></th>\n",
       "      <th>name</th>\n",
       "      <th>reviews</th>\n",
       "      <th>type</th>\n",
       "      <th>now</th>\n",
       "      <th>hours</th>\n",
       "      <th>link</th>\n",
       "    </tr>\n",
       "  </thead>\n",
       "  <tbody>\n",
       "    <tr>\n",
       "      <th>0</th>\n",
       "      <td>강남식당</td>\n",
       "      <td>리뷰</td>\n",
       "      <td>한식</td>\n",
       "      <td>영업 중</td>\n",
       "      <td>⋅ 오후 9:00에 영업 종료</td>\n",
       "      <td>https://www.google.com/maps/place/After+Work+B...</td>\n",
       "    </tr>\n",
       "    <tr>\n",
       "      <th>1</th>\n",
       "      <td>Gangnam Myun Oak (Galbi Jjim)</td>\n",
       "      <td>5.0</td>\n",
       "      <td>음식점</td>\n",
       "      <td>영업 중</td>\n",
       "      <td>⋅ 오전 12:00에 영업 종료</td>\n",
       "      <td>https://www.google.com/maps/place/After+Work+B...</td>\n",
       "    </tr>\n",
       "    <tr>\n",
       "      <th>2</th>\n",
       "      <td>레스토랑 온</td>\n",
       "      <td>4.6</td>\n",
       "      <td>미국 서부 요리</td>\n",
       "      <td>영업 중</td>\n",
       "      <td>⋅ 오후 9:00에 영업 종료</td>\n",
       "      <td>https://www.google.com/maps/place/%EC%9A%B4%EB...</td>\n",
       "    </tr>\n",
       "  </tbody>\n",
       "</table>\n",
       "</div>"
      ],
      "text/plain": [
       "                            name reviews      type   now              hours  \\\n",
       "0                           강남식당     리뷰         한식  영업 중   ⋅ 오후 9:00에 영업 종료   \n",
       "1  Gangnam Myun Oak (Galbi Jjim)     5.0       음식점  영업 중  ⋅ 오전 12:00에 영업 종료   \n",
       "2                         레스토랑 온     4.6  미국 서부 요리  영업 중   ⋅ 오후 9:00에 영업 종료   \n",
       "\n",
       "                                                link  \n",
       "0  https://www.google.com/maps/place/After+Work+B...  \n",
       "1  https://www.google.com/maps/place/After+Work+B...  \n",
       "2  https://www.google.com/maps/place/%EC%9A%B4%EB...  "
      ]
     },
     "execution_count": 29,
     "metadata": {},
     "output_type": "execute_result"
    }
   ],
   "source": [
    "df.sort_values(by=['reviews'], ascending=False, inplace=True)\n",
    "df.reset_index(drop=True, inplace=True)\n",
    "df[:3]"
   ]
  },
  {
   "cell_type": "code",
   "execution_count": 30,
   "id": "97e65133-d259-491b-84c7-c67febe4691a",
   "metadata": {
    "tags": []
   },
   "outputs": [
    {
     "data": {
      "text/html": [
       "<div>\n",
       "<style scoped>\n",
       "    .dataframe tbody tr th:only-of-type {\n",
       "        vertical-align: middle;\n",
       "    }\n",
       "\n",
       "    .dataframe tbody tr th {\n",
       "        vertical-align: top;\n",
       "    }\n",
       "\n",
       "    .dataframe thead th {\n",
       "        text-align: right;\n",
       "    }\n",
       "</style>\n",
       "<table border=\"1\" class=\"dataframe\">\n",
       "  <thead>\n",
       "    <tr style=\"text-align: right;\">\n",
       "      <th></th>\n",
       "      <th>name</th>\n",
       "      <th>reviews</th>\n",
       "      <th>type</th>\n",
       "      <th>now</th>\n",
       "      <th>hours</th>\n",
       "      <th>link</th>\n",
       "    </tr>\n",
       "  </thead>\n",
       "  <tbody>\n",
       "    <tr>\n",
       "      <th>0</th>\n",
       "      <td>강남식당</td>\n",
       "      <td>리뷰</td>\n",
       "      <td>한식</td>\n",
       "      <td>영업 중</td>\n",
       "      <td>⋅ 오후 9:00에 영업 종료</td>\n",
       "      <td>https://www.google.com/maps/place/After+Work+B...</td>\n",
       "    </tr>\n",
       "    <tr>\n",
       "      <th>1</th>\n",
       "      <td>Gangnam Myun Oak (Galbi Jjim)</td>\n",
       "      <td>5.0</td>\n",
       "      <td>음식점</td>\n",
       "      <td>영업 중</td>\n",
       "      <td>⋅ 오전 12:00에 영업 종료</td>\n",
       "      <td>https://www.google.com/maps/place/After+Work+B...</td>\n",
       "    </tr>\n",
       "    <tr>\n",
       "      <th>2</th>\n",
       "      <td>레스토랑 온</td>\n",
       "      <td>4.6</td>\n",
       "      <td>미국 서부 요리</td>\n",
       "      <td>영업 중</td>\n",
       "      <td>⋅ 오후 9:00에 영업 종료</td>\n",
       "      <td>https://www.google.com/maps/place/%EC%9A%B4%EB...</td>\n",
       "    </tr>\n",
       "    <tr>\n",
       "      <th>3</th>\n",
       "      <td>밍글스</td>\n",
       "      <td>4.5</td>\n",
       "      <td>한식</td>\n",
       "      <td>영업 중</td>\n",
       "      <td>⋅ 오후 9:00에 영업 종료</td>\n",
       "      <td>https://www.google.com/maps/place/After+Work+B...</td>\n",
       "    </tr>\n",
       "    <tr>\n",
       "      <th>4</th>\n",
       "      <td>정돈 강남점</td>\n",
       "      <td>4.5</td>\n",
       "      <td>돈까스 전문식당</td>\n",
       "      <td>영업 중</td>\n",
       "      <td>⋅ 오후 10:00에 영업 종료</td>\n",
       "      <td>https://www.google.com/maps/place/%EB%85%B8%EB...</td>\n",
       "    </tr>\n",
       "    <tr>\n",
       "      <th>5</th>\n",
       "      <td>이타닉 가든</td>\n",
       "      <td>4.5</td>\n",
       "      <td>미국 서부 요리</td>\n",
       "      <td>영업 중</td>\n",
       "      <td>⋅ 오후 9:00에 영업 종료</td>\n",
       "      <td>https://www.google.com/maps/place/%EC%9A%B4%EB...</td>\n",
       "    </tr>\n",
       "    <tr>\n",
       "      <th>6</th>\n",
       "      <td>전우소고기해장국</td>\n",
       "      <td>4.4</td>\n",
       "      <td>한식</td>\n",
       "      <td>영업 중</td>\n",
       "      <td>⋅ 오후 10:00에 영업 종료</td>\n",
       "      <td>https://www.google.com/maps/place/After+Work+B...</td>\n",
       "    </tr>\n",
       "    <tr>\n",
       "      <th>7</th>\n",
       "      <td>바비레드 강남본점</td>\n",
       "      <td>4.3</td>\n",
       "      <td>퓨전 음식점</td>\n",
       "      <td>영업 중</td>\n",
       "      <td>⋅ 오후 11:30에 영업 종료</td>\n",
       "      <td>https://www.google.com/maps/place/%EB%85%B8%EB...</td>\n",
       "    </tr>\n",
       "    <tr>\n",
       "      <th>8</th>\n",
       "      <td>노란상 소갈비 강남구청점</td>\n",
       "      <td>4.3</td>\n",
       "      <td>한국식 BBQ</td>\n",
       "      <td>영업 중</td>\n",
       "      <td>⋅ 오후 2:00에 영업 종료 ⋅ 오후 5:00에 영업 재개</td>\n",
       "      <td>https://www.google.com/maps/place/%EB%85%B8%EB...</td>\n",
       "    </tr>\n",
       "    <tr>\n",
       "      <th>9</th>\n",
       "      <td>갓덴스시 강남점</td>\n",
       "      <td>4.2</td>\n",
       "      <td>초밥</td>\n",
       "      <td>영업 중</td>\n",
       "      <td>⋅ 오후 10:00에 영업 종료</td>\n",
       "      <td>https://www.google.com/maps/place/After+Work+B...</td>\n",
       "    </tr>\n",
       "  </tbody>\n",
       "</table>\n",
       "</div>"
      ],
      "text/plain": [
       "                            name reviews      type   now  \\\n",
       "0                           강남식당     리뷰         한식  영업 중   \n",
       "1  Gangnam Myun Oak (Galbi Jjim)     5.0       음식점  영업 중   \n",
       "2                         레스토랑 온     4.6  미국 서부 요리  영업 중   \n",
       "3                            밍글스     4.5        한식  영업 중   \n",
       "4                         정돈 강남점     4.5  돈까스 전문식당  영업 중   \n",
       "5                         이타닉 가든     4.5  미국 서부 요리  영업 중   \n",
       "6                       전우소고기해장국     4.4        한식  영업 중   \n",
       "7                      바비레드 강남본점     4.3    퓨전 음식점  영업 중   \n",
       "8                  노란상 소갈비 강남구청점     4.3   한국식 BBQ  영업 중   \n",
       "9                       갓덴스시 강남점     4.2        초밥  영업 중   \n",
       "\n",
       "                               hours  \\\n",
       "0                   ⋅ 오후 9:00에 영업 종료   \n",
       "1                  ⋅ 오전 12:00에 영업 종료   \n",
       "2                   ⋅ 오후 9:00에 영업 종료   \n",
       "3                   ⋅ 오후 9:00에 영업 종료   \n",
       "4                  ⋅ 오후 10:00에 영업 종료   \n",
       "5                   ⋅ 오후 9:00에 영업 종료   \n",
       "6                  ⋅ 오후 10:00에 영업 종료   \n",
       "7                  ⋅ 오후 11:30에 영업 종료   \n",
       "8  ⋅ 오후 2:00에 영업 종료 ⋅ 오후 5:00에 영업 재개   \n",
       "9                  ⋅ 오후 10:00에 영업 종료   \n",
       "\n",
       "                                                link  \n",
       "0  https://www.google.com/maps/place/After+Work+B...  \n",
       "1  https://www.google.com/maps/place/After+Work+B...  \n",
       "2  https://www.google.com/maps/place/%EC%9A%B4%EB...  \n",
       "3  https://www.google.com/maps/place/After+Work+B...  \n",
       "4  https://www.google.com/maps/place/%EB%85%B8%EB...  \n",
       "5  https://www.google.com/maps/place/%EC%9A%B4%EB...  \n",
       "6  https://www.google.com/maps/place/After+Work+B...  \n",
       "7  https://www.google.com/maps/place/%EB%85%B8%EB...  \n",
       "8  https://www.google.com/maps/place/%EB%85%B8%EB...  \n",
       "9  https://www.google.com/maps/place/After+Work+B...  "
      ]
     },
     "execution_count": 30,
     "metadata": {},
     "output_type": "execute_result"
    }
   ],
   "source": [
    "df10 = df.iloc[:10, :]\n",
    "df10"
   ]
  },
  {
   "cell_type": "markdown",
   "id": "216fbc94-a764-40b4-8d25-2f25b93044dc",
   "metadata": {
    "tags": []
   },
   "source": [
    "# 지도"
   ]
  },
  {
   "cell_type": "markdown",
   "id": "e54b766a-2b98-4288-9e4b-b521805a18fb",
   "metadata": {},
   "source": [
    "### from website"
   ]
  },
  {
   "cell_type": "code",
   "execution_count": 33,
   "id": "6aa57369-5a75-4f20-8dc7-dee52e5ad20a",
   "metadata": {
    "collapsed": true,
    "jupyter": {
     "outputs_hidden": true
    },
    "tags": []
   },
   "outputs": [
    {
     "name": "stdout",
     "output_type": "stream",
     "text": [
      "Collecting folium\n",
      "  Downloading folium-0.13.0-py2.py3-none-any.whl (96 kB)\n",
      "Requirement already satisfied: numpy in c:\\users\\user\\anaconda3\\lib\\site-packages (from folium) (1.21.5)\n",
      "Requirement already satisfied: requests in c:\\users\\user\\anaconda3\\lib\\site-packages (from folium) (2.27.1)\n",
      "Requirement already satisfied: jinja2>=2.9 in c:\\users\\user\\anaconda3\\lib\\site-packages (from folium) (2.11.3)\n",
      "Collecting branca>=0.3.0\n",
      "  Downloading branca-0.5.0-py3-none-any.whl (24 kB)\n",
      "Requirement already satisfied: MarkupSafe>=0.23 in c:\\users\\user\\anaconda3\\lib\\site-packages (from jinja2>=2.9->folium) (2.0.1)\n",
      "Requirement already satisfied: certifi>=2017.4.17 in c:\\users\\user\\anaconda3\\lib\\site-packages (from requests->folium) (2021.10.8)\n",
      "Requirement already satisfied: urllib3<1.27,>=1.21.1 in c:\\users\\user\\anaconda3\\lib\\site-packages (from requests->folium) (1.26.9)\n",
      "Requirement already satisfied: charset-normalizer~=2.0.0 in c:\\users\\user\\anaconda3\\lib\\site-packages (from requests->folium) (2.0.4)\n",
      "Requirement already satisfied: idna<4,>=2.5 in c:\\users\\user\\anaconda3\\lib\\site-packages (from requests->folium) (3.3)\n",
      "Installing collected packages: branca, folium\n",
      "Successfully installed branca-0.5.0 folium-0.13.0\n",
      "Note: you may need to restart the kernel to use updated packages.\n"
     ]
    }
   ],
   "source": [
    "#pip install folium"
   ]
  },
  {
   "cell_type": "code",
   "execution_count": 60,
   "id": "4aa495ae-90ae-4d14-bedb-bc725dbe5d8b",
   "metadata": {},
   "outputs": [],
   "source": [
    "import folium as g"
   ]
  },
  {
   "cell_type": "code",
   "execution_count": 61,
   "id": "1056c53d-b765-4eca-a0c0-88c7d14e628f",
   "metadata": {},
   "outputs": [],
   "source": [
    "import requests\n",
    "import pandas as pd\n",
    "import numpy as np\n",
    "import folium\n",
    "from folium.plugins import MiniMap"
   ]
  },
  {
   "cell_type": "code",
   "execution_count": 62,
   "id": "4c29e0bb-af48-42d0-b11d-86fc5058e58c",
   "metadata": {},
   "outputs": [
    {
     "data": {
      "text/html": [
       "<div>\n",
       "<style scoped>\n",
       "    .dataframe tbody tr th:only-of-type {\n",
       "        vertical-align: middle;\n",
       "    }\n",
       "\n",
       "    .dataframe tbody tr th {\n",
       "        vertical-align: top;\n",
       "    }\n",
       "\n",
       "    .dataframe thead th {\n",
       "        text-align: right;\n",
       "    }\n",
       "</style>\n",
       "<table border=\"1\" class=\"dataframe\">\n",
       "  <thead>\n",
       "    <tr style=\"text-align: right;\">\n",
       "      <th></th>\n",
       "      <th>restaurants</th>\n",
       "      <th>Latitude</th>\n",
       "      <th>Longitude</th>\n",
       "    </tr>\n",
       "  </thead>\n",
       "  <tbody>\n",
       "    <tr>\n",
       "      <th>0</th>\n",
       "      <td>Dame, New York',</td>\n",
       "      <td>40.728946</td>\n",
       "      <td>-74.001506</td>\n",
       "    </tr>\n",
       "    <tr>\n",
       "      <th>1</th>\n",
       "      <td>The Modern, New York',</td>\n",
       "      <td>40.761081</td>\n",
       "      <td>-73.976753</td>\n",
       "    </tr>\n",
       "    <tr>\n",
       "      <th>2</th>\n",
       "      <td>Crown Shy, New York',</td>\n",
       "      <td>40.706505</td>\n",
       "      <td>-74.007772</td>\n",
       "    </tr>\n",
       "    <tr>\n",
       "      <th>3</th>\n",
       "      <td>Per Se, New York',</td>\n",
       "      <td>40.768218</td>\n",
       "      <td>-73.982899</td>\n",
       "    </tr>\n",
       "    <tr>\n",
       "      <th>4</th>\n",
       "      <td>Boucherie Union Square, New York',</td>\n",
       "      <td>40.737255</td>\n",
       "      <td>-73.988225</td>\n",
       "    </tr>\n",
       "    <tr>\n",
       "      <th>5</th>\n",
       "      <td>COTE Korean Steakhouse, New York',</td>\n",
       "      <td>40.741046</td>\n",
       "      <td>-73.991421</td>\n",
       "    </tr>\n",
       "    <tr>\n",
       "      <th>6</th>\n",
       "      <td>THE GRILL, New York',</td>\n",
       "      <td>40.758318</td>\n",
       "      <td>-73.971868</td>\n",
       "    </tr>\n",
       "    <tr>\n",
       "      <th>7</th>\n",
       "      <td>블루 힐, New York',</td>\n",
       "      <td>40.732047</td>\n",
       "      <td>-73.999668</td>\n",
       "    </tr>\n",
       "    <tr>\n",
       "      <th>8</th>\n",
       "      <td>Keens Steakhouse, New York',</td>\n",
       "      <td>40.750786</td>\n",
       "      <td>-73.986461</td>\n",
       "    </tr>\n",
       "    <tr>\n",
       "      <th>9</th>\n",
       "      <td>Jean-Georges, New York'</td>\n",
       "      <td>40.769025</td>\n",
       "      <td>-73.981626</td>\n",
       "    </tr>\n",
       "  </tbody>\n",
       "</table>\n",
       "</div>"
      ],
      "text/plain": [
       "                          restaurants   Latitude  Longitude\n",
       "0                    Dame, New York',  40.728946 -74.001506\n",
       "1              The Modern, New York',  40.761081 -73.976753\n",
       "2               Crown Shy, New York',  40.706505 -74.007772\n",
       "3                  Per Se, New York',  40.768218 -73.982899\n",
       "4  Boucherie Union Square, New York',  40.737255 -73.988225\n",
       "5  COTE Korean Steakhouse, New York',  40.741046 -73.991421\n",
       "6               THE GRILL, New York',  40.758318 -73.971868\n",
       "7                    블루 힐, New York',  40.732047 -73.999668\n",
       "8        Keens Steakhouse, New York',  40.750786 -73.986461\n",
       "9             Jean-Georges, New York'  40.769025 -73.981626"
      ]
     },
     "execution_count": 62,
     "metadata": {},
     "output_type": "execute_result"
    }
   ],
   "source": [
    "locations = pd.read_csv('C:/Users/user/머신러닝/location coords - Sheet1.csv')\n",
    "locations"
   ]
  },
  {
   "cell_type": "code",
   "execution_count": 63,
   "id": "92d4c06b-91eb-48a6-9708-ed96c3dc70d1",
   "metadata": {},
   "outputs": [],
   "source": [
    "def elec_location(region,page_num):\n",
    "    url = 'https://dapi.kakao.com/v2/local/search/keyword.json'\n",
    "    params = {'query': region,'page': page_num}\n",
    "    headers = {\"Authorization\": \"KakaoAK de2ab0f4e5f24304ac7898b7de2cacd8\"}\n",
    "\n",
    "    places = requests.get(url, params=params, headers=headers).json()['documents']\n",
    "    total = requests.get(url, params=params, headers=headers).json()['meta']['total_count']\n",
    "    return places"
   ]
  },
  {
   "cell_type": "code",
   "execution_count": 64,
   "id": "87d03139-9271-4b8b-b74c-f2bc01ba87a6",
   "metadata": {
    "tags": []
   },
   "outputs": [],
   "source": [
    "def elec_info(places):\n",
    "    X = []\n",
    "    Y = []\n",
    "    stores = []\n",
    "    road_address = []\n",
    "    place_url = []\n",
    "    ID = []\n",
    "    for place in places:\n",
    "        X.append(float(place['x']))\n",
    "        Y.append(float(place['y']))\n",
    "        stores.append(place['place_name'])\n",
    "        road_address.append(place['road_address_name'])\n",
    "        place_url.append(place['place_url'])\n",
    "        ID.append(place['id'])\n",
    "\n",
    "    ar = np.array([ID,stores, X, Y, road_address,place_url]).T\n",
    "    df = pd.DataFrame(ar, columns = ['ID','stores', 'X', 'Y','road_address','place_url'])\n",
    "    return df"
   ]
  },
  {
   "cell_type": "code",
   "execution_count": 65,
   "id": "0607c4c2-f778-4b4c-80d8-f5237de5cfef",
   "metadata": {
    "tags": []
   },
   "outputs": [],
   "source": [
    "def keywords(location_name):\n",
    "    df = None\n",
    "    for loca in location:\n",
    "        for page in range(1,4):\n",
    "            local_name = elec_location(loca, page)\n",
    "            local_elec_info = elec_info(local_name)\n",
    "\n",
    "            if df is None:\n",
    "                df = local_elec_info\n",
    "            elif local_elec_info is None:\n",
    "                continue\n",
    "            else:\n",
    "                df = pd.concat([df, local_elec_info],join='outer', ignore_index = True)\n",
    "    return df"
   ]
  },
  {
   "cell_type": "code",
   "execution_count": 66,
   "id": "21ff3312-e878-44ef-a8e8-563f8fb18675",
   "metadata": {},
   "outputs": [],
   "source": [
    "def make_map(dfs):\n",
    "    # 지도 생성하기\n",
    "    m = folium.Map(location=locations.iloc[0][1:],   # 기준좌표: 서울시청\n",
    "                   zoom_start=15)\n",
    "\n",
    "    # 미니맵 추가하기\n",
    "    minimap = MiniMap() \n",
    "    m.add_child(minimap)\n",
    "\n",
    "    # 마커 추가하기\n",
    "    for i in range(len(dfs)):\n",
    "        # popup_text = f'''<a href={upper.iloc[i].link} target='_blank'>\n",
    "        #             {upper.iloc[i]['식당이름']}</a> 별점: {upper.iloc[i]['별점']}<br>\n",
    "        #             리뷰: {upper.iloc[i]['리뷰']}<br>'''\n",
    "\n",
    "        #팝업 크기 조절\n",
    "        # popup = folium.Popup(popup_text, min_width=100, max_width=300)\n",
    "    \n",
    "        # 마커 생성\n",
    "        folium.Marker([locations['Latitude'][i],locations['Longitude'][i]],\n",
    "                  tooltip=locations['resturants'][i],\n",
    "                  # popup=popup, \n",
    "                      icon=folium.Icon(color='red', icon='info-sign')).add_to(m)\n",
    "    return m"
   ]
  },
  {
   "cell_type": "code",
   "execution_count": 67,
   "id": "6084835b-9d4c-40bd-8eca-8c08a6814f5d",
   "metadata": {
    "collapsed": true,
    "jupyter": {
     "outputs_hidden": true
    },
    "tags": []
   },
   "outputs": [
    {
     "ename": "KeyError",
     "evalue": "'resturants'",
     "output_type": "error",
     "traceback": [
      "\u001b[1;31m---------------------------------------------------------------------------\u001b[0m",
      "\u001b[1;31mKeyError\u001b[0m                                  Traceback (most recent call last)",
      "File \u001b[1;32m~\\anaconda3\\lib\\site-packages\\pandas\\core\\indexes\\base.py:3621\u001b[0m, in \u001b[0;36mIndex.get_loc\u001b[1;34m(self, key, method, tolerance)\u001b[0m\n\u001b[0;32m   3620\u001b[0m \u001b[38;5;28;01mtry\u001b[39;00m:\n\u001b[1;32m-> 3621\u001b[0m     \u001b[38;5;28;01mreturn\u001b[39;00m \u001b[38;5;28;43mself\u001b[39;49m\u001b[38;5;241;43m.\u001b[39;49m\u001b[43m_engine\u001b[49m\u001b[38;5;241;43m.\u001b[39;49m\u001b[43mget_loc\u001b[49m\u001b[43m(\u001b[49m\u001b[43mcasted_key\u001b[49m\u001b[43m)\u001b[49m\n\u001b[0;32m   3622\u001b[0m \u001b[38;5;28;01mexcept\u001b[39;00m \u001b[38;5;167;01mKeyError\u001b[39;00m \u001b[38;5;28;01mas\u001b[39;00m err:\n",
      "File \u001b[1;32m~\\anaconda3\\lib\\site-packages\\pandas\\_libs\\index.pyx:136\u001b[0m, in \u001b[0;36mpandas._libs.index.IndexEngine.get_loc\u001b[1;34m()\u001b[0m\n",
      "File \u001b[1;32m~\\anaconda3\\lib\\site-packages\\pandas\\_libs\\index.pyx:163\u001b[0m, in \u001b[0;36mpandas._libs.index.IndexEngine.get_loc\u001b[1;34m()\u001b[0m\n",
      "File \u001b[1;32mpandas\\_libs\\hashtable_class_helper.pxi:5198\u001b[0m, in \u001b[0;36mpandas._libs.hashtable.PyObjectHashTable.get_item\u001b[1;34m()\u001b[0m\n",
      "File \u001b[1;32mpandas\\_libs\\hashtable_class_helper.pxi:5206\u001b[0m, in \u001b[0;36mpandas._libs.hashtable.PyObjectHashTable.get_item\u001b[1;34m()\u001b[0m\n",
      "\u001b[1;31mKeyError\u001b[0m: 'resturants'",
      "\nThe above exception was the direct cause of the following exception:\n",
      "\u001b[1;31mKeyError\u001b[0m                                  Traceback (most recent call last)",
      "Input \u001b[1;32mIn [67]\u001b[0m, in \u001b[0;36m<cell line: 1>\u001b[1;34m()\u001b[0m\n\u001b[1;32m----> 1\u001b[0m df \u001b[38;5;241m=\u001b[39m keywords(\u001b[43mlocations\u001b[49m\u001b[43m[\u001b[49m\u001b[38;5;124;43m'\u001b[39;49m\u001b[38;5;124;43mresturants\u001b[39;49m\u001b[38;5;124;43m'\u001b[39;49m\u001b[43m]\u001b[49m)\n\u001b[0;32m      2\u001b[0m df \u001b[38;5;241m=\u001b[39m df\u001b[38;5;241m.\u001b[39mdrop_duplicates([\u001b[38;5;124m'\u001b[39m\u001b[38;5;124mID\u001b[39m\u001b[38;5;124m'\u001b[39m])\n\u001b[0;32m      3\u001b[0m df \u001b[38;5;241m=\u001b[39m df\u001b[38;5;241m.\u001b[39mreset_index()\n",
      "File \u001b[1;32m~\\anaconda3\\lib\\site-packages\\pandas\\core\\frame.py:3505\u001b[0m, in \u001b[0;36mDataFrame.__getitem__\u001b[1;34m(self, key)\u001b[0m\n\u001b[0;32m   3503\u001b[0m \u001b[38;5;28;01mif\u001b[39;00m \u001b[38;5;28mself\u001b[39m\u001b[38;5;241m.\u001b[39mcolumns\u001b[38;5;241m.\u001b[39mnlevels \u001b[38;5;241m>\u001b[39m \u001b[38;5;241m1\u001b[39m:\n\u001b[0;32m   3504\u001b[0m     \u001b[38;5;28;01mreturn\u001b[39;00m \u001b[38;5;28mself\u001b[39m\u001b[38;5;241m.\u001b[39m_getitem_multilevel(key)\n\u001b[1;32m-> 3505\u001b[0m indexer \u001b[38;5;241m=\u001b[39m \u001b[38;5;28;43mself\u001b[39;49m\u001b[38;5;241;43m.\u001b[39;49m\u001b[43mcolumns\u001b[49m\u001b[38;5;241;43m.\u001b[39;49m\u001b[43mget_loc\u001b[49m\u001b[43m(\u001b[49m\u001b[43mkey\u001b[49m\u001b[43m)\u001b[49m\n\u001b[0;32m   3506\u001b[0m \u001b[38;5;28;01mif\u001b[39;00m is_integer(indexer):\n\u001b[0;32m   3507\u001b[0m     indexer \u001b[38;5;241m=\u001b[39m [indexer]\n",
      "File \u001b[1;32m~\\anaconda3\\lib\\site-packages\\pandas\\core\\indexes\\base.py:3623\u001b[0m, in \u001b[0;36mIndex.get_loc\u001b[1;34m(self, key, method, tolerance)\u001b[0m\n\u001b[0;32m   3621\u001b[0m     \u001b[38;5;28;01mreturn\u001b[39;00m \u001b[38;5;28mself\u001b[39m\u001b[38;5;241m.\u001b[39m_engine\u001b[38;5;241m.\u001b[39mget_loc(casted_key)\n\u001b[0;32m   3622\u001b[0m \u001b[38;5;28;01mexcept\u001b[39;00m \u001b[38;5;167;01mKeyError\u001b[39;00m \u001b[38;5;28;01mas\u001b[39;00m err:\n\u001b[1;32m-> 3623\u001b[0m     \u001b[38;5;28;01mraise\u001b[39;00m \u001b[38;5;167;01mKeyError\u001b[39;00m(key) \u001b[38;5;28;01mfrom\u001b[39;00m \u001b[38;5;21;01merr\u001b[39;00m\n\u001b[0;32m   3624\u001b[0m \u001b[38;5;28;01mexcept\u001b[39;00m \u001b[38;5;167;01mTypeError\u001b[39;00m:\n\u001b[0;32m   3625\u001b[0m     \u001b[38;5;66;03m# If we have a listlike key, _check_indexing_error will raise\u001b[39;00m\n\u001b[0;32m   3626\u001b[0m     \u001b[38;5;66;03m#  InvalidIndexError. Otherwise we fall through and re-raise\u001b[39;00m\n\u001b[0;32m   3627\u001b[0m     \u001b[38;5;66;03m#  the TypeError.\u001b[39;00m\n\u001b[0;32m   3628\u001b[0m     \u001b[38;5;28mself\u001b[39m\u001b[38;5;241m.\u001b[39m_check_indexing_error(key)\n",
      "\u001b[1;31mKeyError\u001b[0m: 'resturants'"
     ]
    }
   ],
   "source": [
    "df = keywords(locations['resturants'])\n",
    "df = df.drop_duplicates(['ID'])\n",
    "df = df.reset_index()\n",
    "\n",
    "make_map(locations)"
   ]
  },
  {
   "cell_type": "code",
   "execution_count": 68,
   "id": "6ef048d9-32f1-4cab-aa92-3c5f59eedbf7",
   "metadata": {
    "tags": []
   },
   "outputs": [
    {
     "data": {
      "text/plain": [
       "0                      Dame, New York',\n",
       "1                The Modern, New York',\n",
       "2                 Crown Shy, New York',\n",
       "3                    Per Se, New York',\n",
       "4    Boucherie Union Square, New York',\n",
       "5    COTE Korean Steakhouse, New York',\n",
       "6                 THE GRILL, New York',\n",
       "7                      블루 힐, New York',\n",
       "8          Keens Steakhouse, New York',\n",
       "9               Jean-Georges, New York'\n",
       "Name: restaurants, dtype: object"
      ]
     },
     "execution_count": 68,
     "metadata": {},
     "output_type": "execute_result"
    }
   ],
   "source": [
    "locations['restaurants']"
   ]
  },
  {
   "cell_type": "code",
   "execution_count": 69,
   "id": "8c6fad4e-46e0-428c-9060-6d2cb8a8c044",
   "metadata": {
    "collapsed": true,
    "jupyter": {
     "outputs_hidden": true
    },
    "tags": []
   },
   "outputs": [
    {
     "ename": "NameError",
     "evalue": "name 'make' is not defined",
     "output_type": "error",
     "traceback": [
      "\u001b[1;31m---------------------------------------------------------------------------\u001b[0m",
      "\u001b[1;31mNameError\u001b[0m                                 Traceback (most recent call last)",
      "Input \u001b[1;32mIn [69]\u001b[0m, in \u001b[0;36m<cell line: 1>\u001b[1;34m()\u001b[0m\n\u001b[1;32m----> 1\u001b[0m \u001b[43mmake\u001b[49m\n",
      "\u001b[1;31mNameError\u001b[0m: name 'make' is not defined"
     ]
    }
   ],
   "source": [
    "make"
   ]
  },
  {
   "cell_type": "code",
   "execution_count": null,
   "id": "e5e12da7-27cf-4bcc-b536-d49606da31c5",
   "metadata": {},
   "outputs": [],
   "source": []
  },
  {
   "cell_type": "code",
   "execution_count": null,
   "id": "30ed0b79-d63c-4660-b2b2-14a1067dec70",
   "metadata": {},
   "outputs": [],
   "source": []
  },
  {
   "cell_type": "code",
   "execution_count": null,
   "id": "84018d77-1281-4815-a05c-f6e4394bad59",
   "metadata": {},
   "outputs": [],
   "source": []
  },
  {
   "cell_type": "code",
   "execution_count": 92,
   "id": "32a6f9b1-fad9-4fb3-be3f-6471374f9a5e",
   "metadata": {},
   "outputs": [
    {
     "name": "stdout",
     "output_type": "stream",
     "text": [
      "[-74.0015062, -73.976753, -74.0077715, -73.9828988, -73.9882246, -73.991421, -73.9718681, -73.9996685, -73.9864611]\n",
      "[-74.0015062, -73.976753, -74.0077715, -73.9828988, -73.9882246, -73.991421, -73.9718681, -73.9996685, -73.9864611]\n"
     ]
    }
   ],
   "source": [
    "import pandas as pd\n",
    "import folium\n",
    "\n",
    "locations = pd.read_csv('C:/Users/user/머신러닝/location coords - Sheet1.csv')\n",
    "locations\n",
    "Latitude = []\n",
    "Longitude = []\n",
    "\n",
    "for i in range(9):\n",
    "    Latitude.append(locations.iloc[i, 2]) #위도\n",
    "    Longitude.append(locations.iloc[i, 2]) #경도    \n",
    "\n",
    "print(Latitude)\n",
    "print(Longitude)"
   ]
  },
  {
   "cell_type": "code",
   "execution_count": 98,
   "id": "9e1a70b9-7e30-4c51-a2c9-df64cb6f6cc6",
   "metadata": {},
   "outputs": [
    {
     "data": {
      "text/html": [
       "<div style=\"width:100%;\"><div style=\"position:relative;width:100%;height:0;padding-bottom:60%;\"><span style=\"color:#565656\">Make this Notebook Trusted to load map: File -> Trust Notebook</span><iframe srcdoc=\"&lt;!DOCTYPE html&gt;\n",
       "&lt;head&gt;    \n",
       "    &lt;meta http-equiv=&quot;content-type&quot; content=&quot;text/html; charset=UTF-8&quot; /&gt;\n",
       "    \n",
       "        &lt;script&gt;\n",
       "            L_NO_TOUCH = false;\n",
       "            L_DISABLE_3D = false;\n",
       "        &lt;/script&gt;\n",
       "    \n",
       "    &lt;style&gt;html, body {width: 100%;height: 100%;margin: 0;padding: 0;}&lt;/style&gt;\n",
       "    &lt;style&gt;#map {position:absolute;top:0;bottom:0;right:0;left:0;}&lt;/style&gt;\n",
       "    &lt;script src=&quot;https://cdn.jsdelivr.net/npm/leaflet@1.6.0/dist/leaflet.js&quot;&gt;&lt;/script&gt;\n",
       "    &lt;script src=&quot;https://code.jquery.com/jquery-1.12.4.min.js&quot;&gt;&lt;/script&gt;\n",
       "    &lt;script src=&quot;https://maxcdn.bootstrapcdn.com/bootstrap/3.2.0/js/bootstrap.min.js&quot;&gt;&lt;/script&gt;\n",
       "    &lt;script src=&quot;https://cdnjs.cloudflare.com/ajax/libs/Leaflet.awesome-markers/2.0.2/leaflet.awesome-markers.js&quot;&gt;&lt;/script&gt;\n",
       "    &lt;link rel=&quot;stylesheet&quot; href=&quot;https://cdn.jsdelivr.net/npm/leaflet@1.6.0/dist/leaflet.css&quot;/&gt;\n",
       "    &lt;link rel=&quot;stylesheet&quot; href=&quot;https://maxcdn.bootstrapcdn.com/bootstrap/3.2.0/css/bootstrap.min.css&quot;/&gt;\n",
       "    &lt;link rel=&quot;stylesheet&quot; href=&quot;https://maxcdn.bootstrapcdn.com/bootstrap/3.2.0/css/bootstrap-theme.min.css&quot;/&gt;\n",
       "    &lt;link rel=&quot;stylesheet&quot; href=&quot;https://maxcdn.bootstrapcdn.com/font-awesome/4.6.3/css/font-awesome.min.css&quot;/&gt;\n",
       "    &lt;link rel=&quot;stylesheet&quot; href=&quot;https://cdnjs.cloudflare.com/ajax/libs/Leaflet.awesome-markers/2.0.2/leaflet.awesome-markers.css&quot;/&gt;\n",
       "    &lt;link rel=&quot;stylesheet&quot; href=&quot;https://cdn.jsdelivr.net/gh/python-visualization/folium/folium/templates/leaflet.awesome.rotate.min.css&quot;/&gt;\n",
       "    \n",
       "            &lt;meta name=&quot;viewport&quot; content=&quot;width=device-width,\n",
       "                initial-scale=1.0, maximum-scale=1.0, user-scalable=no&quot; /&gt;\n",
       "            &lt;style&gt;\n",
       "                #map_ae66030ea5ad2defd4df901cb5a19829 {\n",
       "                    position: relative;\n",
       "                    width: 100.0%;\n",
       "                    height: 100.0%;\n",
       "                    left: 0.0%;\n",
       "                    top: 0.0%;\n",
       "                }\n",
       "            &lt;/style&gt;\n",
       "        \n",
       "&lt;/head&gt;\n",
       "&lt;body&gt;    \n",
       "    \n",
       "            &lt;div class=&quot;folium-map&quot; id=&quot;map_ae66030ea5ad2defd4df901cb5a19829&quot; &gt;&lt;/div&gt;\n",
       "        \n",
       "&lt;/body&gt;\n",
       "&lt;script&gt;    \n",
       "    \n",
       "            var map_ae66030ea5ad2defd4df901cb5a19829 = L.map(\n",
       "                &quot;map_ae66030ea5ad2defd4df901cb5a19829&quot;,\n",
       "                {\n",
       "                    center: [1.0, 1.0],\n",
       "                    crs: L.CRS.EPSG3857,\n",
       "                    zoom: 10,\n",
       "                    zoomControl: true,\n",
       "                    preferCanvas: false,\n",
       "                }\n",
       "            );\n",
       "\n",
       "            \n",
       "\n",
       "        \n",
       "    \n",
       "            var tile_layer_a99e311644b0f81e8bb569b709371e6e = L.tileLayer(\n",
       "                &quot;https://cartodb-basemaps-{s}.global.ssl.fastly.net/light_all/{z}/{x}/{y}.png&quot;,\n",
       "                {&quot;attribution&quot;: &quot;\\u0026copy; \\u003ca href=\\&quot;http://www.openstreetmap.org/copyright\\&quot;\\u003eOpenStreetMap\\u003c/a\\u003e contributors \\u0026copy; \\u003ca href=\\&quot;http://cartodb.com/attributions\\&quot;\\u003eCartoDB\\u003c/a\\u003e, CartoDB \\u003ca href =\\&quot;http://cartodb.com/attributions\\&quot;\\u003eattributions\\u003c/a\\u003e&quot;, &quot;detectRetina&quot;: false, &quot;maxNativeZoom&quot;: 18, &quot;maxZoom&quot;: 18, &quot;minZoom&quot;: 0, &quot;noWrap&quot;: false, &quot;opacity&quot;: 1, &quot;subdomains&quot;: &quot;abc&quot;, &quot;tms&quot;: false}\n",
       "            ).addTo(map_ae66030ea5ad2defd4df901cb5a19829);\n",
       "        \n",
       "&lt;/script&gt;\" style=\"position:absolute;width:100%;height:100%;left:0;top:0;border:none !important;\" allowfullscreen webkitallowfullscreen mozallowfullscreen></iframe></div></div>"
      ],
      "text/plain": [
       "<folium.folium.Map at 0x294498f7d00>"
      ]
     },
     "execution_count": 98,
     "metadata": {},
     "output_type": "execute_result"
    }
   ],
   "source": [
    "#m = folium.Map(\n",
    "#    location = (len(['Latitude']), len(['Longitude'])),\n",
    "#    tiles = 'cartodbpositron')\n",
    "#m"
   ]
  },
  {
   "cell_type": "code",
   "execution_count": 93,
   "id": "14a983b8-8903-4374-aa8e-c20e1a959e1b",
   "metadata": {},
   "outputs": [
    {
     "data": {
      "text/html": [
       "<div style=\"width:100%;\"><div style=\"position:relative;width:100%;height:0;padding-bottom:60%;\"><span style=\"color:#565656\">Make this Notebook Trusted to load map: File -> Trust Notebook</span><iframe srcdoc=\"&lt;!DOCTYPE html&gt;\n",
       "&lt;head&gt;    \n",
       "    &lt;meta http-equiv=&quot;content-type&quot; content=&quot;text/html; charset=UTF-8&quot; /&gt;\n",
       "    \n",
       "        &lt;script&gt;\n",
       "            L_NO_TOUCH = false;\n",
       "            L_DISABLE_3D = false;\n",
       "        &lt;/script&gt;\n",
       "    \n",
       "    &lt;style&gt;html, body {width: 100%;height: 100%;margin: 0;padding: 0;}&lt;/style&gt;\n",
       "    &lt;style&gt;#map {position:absolute;top:0;bottom:0;right:0;left:0;}&lt;/style&gt;\n",
       "    &lt;script src=&quot;https://cdn.jsdelivr.net/npm/leaflet@1.6.0/dist/leaflet.js&quot;&gt;&lt;/script&gt;\n",
       "    &lt;script src=&quot;https://code.jquery.com/jquery-1.12.4.min.js&quot;&gt;&lt;/script&gt;\n",
       "    &lt;script src=&quot;https://maxcdn.bootstrapcdn.com/bootstrap/3.2.0/js/bootstrap.min.js&quot;&gt;&lt;/script&gt;\n",
       "    &lt;script src=&quot;https://cdnjs.cloudflare.com/ajax/libs/Leaflet.awesome-markers/2.0.2/leaflet.awesome-markers.js&quot;&gt;&lt;/script&gt;\n",
       "    &lt;link rel=&quot;stylesheet&quot; href=&quot;https://cdn.jsdelivr.net/npm/leaflet@1.6.0/dist/leaflet.css&quot;/&gt;\n",
       "    &lt;link rel=&quot;stylesheet&quot; href=&quot;https://maxcdn.bootstrapcdn.com/bootstrap/3.2.0/css/bootstrap.min.css&quot;/&gt;\n",
       "    &lt;link rel=&quot;stylesheet&quot; href=&quot;https://maxcdn.bootstrapcdn.com/bootstrap/3.2.0/css/bootstrap-theme.min.css&quot;/&gt;\n",
       "    &lt;link rel=&quot;stylesheet&quot; href=&quot;https://maxcdn.bootstrapcdn.com/font-awesome/4.6.3/css/font-awesome.min.css&quot;/&gt;\n",
       "    &lt;link rel=&quot;stylesheet&quot; href=&quot;https://cdnjs.cloudflare.com/ajax/libs/Leaflet.awesome-markers/2.0.2/leaflet.awesome-markers.css&quot;/&gt;\n",
       "    &lt;link rel=&quot;stylesheet&quot; href=&quot;https://cdn.jsdelivr.net/gh/python-visualization/folium/folium/templates/leaflet.awesome.rotate.min.css&quot;/&gt;\n",
       "    \n",
       "            &lt;meta name=&quot;viewport&quot; content=&quot;width=device-width,\n",
       "                initial-scale=1.0, maximum-scale=1.0, user-scalable=no&quot; /&gt;\n",
       "            &lt;style&gt;\n",
       "                #map_f35e83ef3f783caf6a61039a359fc2fa {\n",
       "                    position: relative;\n",
       "                    width: 100.0%;\n",
       "                    height: 100.0%;\n",
       "                    left: 0.0%;\n",
       "                    top: 0.0%;\n",
       "                }\n",
       "            &lt;/style&gt;\n",
       "        \n",
       "&lt;/head&gt;\n",
       "&lt;body&gt;    \n",
       "    \n",
       "            &lt;div class=&quot;folium-map&quot; id=&quot;map_f35e83ef3f783caf6a61039a359fc2fa&quot; &gt;&lt;/div&gt;\n",
       "        \n",
       "&lt;/body&gt;\n",
       "&lt;script&gt;    \n",
       "    \n",
       "            var map_f35e83ef3f783caf6a61039a359fc2fa = L.map(\n",
       "                &quot;map_f35e83ef3f783caf6a61039a359fc2fa&quot;,\n",
       "                {\n",
       "                    center: [40.728946, -74.001506],\n",
       "                    crs: L.CRS.EPSG3857,\n",
       "                    zoom: 10,\n",
       "                    zoomControl: true,\n",
       "                    preferCanvas: false,\n",
       "                }\n",
       "            );\n",
       "\n",
       "            \n",
       "\n",
       "        \n",
       "    \n",
       "            var tile_layer_75a235d46d594a44fe1688d6a8bdf6c0 = L.tileLayer(\n",
       "                &quot;https://cartodb-basemaps-{s}.global.ssl.fastly.net/light_all/{z}/{x}/{y}.png&quot;,\n",
       "                {&quot;attribution&quot;: &quot;\\u0026copy; \\u003ca href=\\&quot;http://www.openstreetmap.org/copyright\\&quot;\\u003eOpenStreetMap\\u003c/a\\u003e contributors \\u0026copy; \\u003ca href=\\&quot;http://cartodb.com/attributions\\&quot;\\u003eCartoDB\\u003c/a\\u003e, CartoDB \\u003ca href =\\&quot;http://cartodb.com/attributions\\&quot;\\u003eattributions\\u003c/a\\u003e&quot;, &quot;detectRetina&quot;: false, &quot;maxNativeZoom&quot;: 18, &quot;maxZoom&quot;: 18, &quot;minZoom&quot;: 0, &quot;noWrap&quot;: false, &quot;opacity&quot;: 1, &quot;subdomains&quot;: &quot;abc&quot;, &quot;tms&quot;: false}\n",
       "            ).addTo(map_f35e83ef3f783caf6a61039a359fc2fa);\n",
       "        \n",
       "&lt;/script&gt;\" style=\"position:absolute;width:100%;height:100%;left:0;top:0;border:none !important;\" allowfullscreen webkitallowfullscreen mozallowfullscreen></iframe></div></div>"
      ],
      "text/plain": [
       "<folium.folium.Map at 0x29449c3b670>"
      ]
     },
     "execution_count": 93,
     "metadata": {},
     "output_type": "execute_result"
    }
   ],
   "source": [
    "m = folium.Map(\n",
    "    location = (40.728946, -74.001506),\n",
    "    tiles = 'cartodbpositron')\n",
    "m"
   ]
  },
  {
   "cell_type": "code",
   "execution_count": 94,
   "id": "1d58b75a-0f23-42d0-ba2e-425d6407e452",
   "metadata": {},
   "outputs": [
    {
     "data": {
      "text/plain": [
       "<folium.map.Marker at 0x29449ca2d30>"
      ]
     },
     "execution_count": 94,
     "metadata": {},
     "output_type": "execute_result"
    }
   ],
   "source": [
    "for i in range(9):\n",
    "    c = Latitude[i],Longitude[i]\n",
    "\n",
    "folium.Marker(c, popup = c).add_to(m)"
   ]
  },
  {
   "cell_type": "code",
   "execution_count": 90,
   "id": "971f6628-c7cf-484d-a13d-cf99fe199275",
   "metadata": {},
   "outputs": [],
   "source": [
    "m.save('test.html')"
   ]
  },
  {
   "cell_type": "code",
   "execution_count": 95,
   "id": "f8d250e7-0cf9-4910-b1e4-827e33c00e35",
   "metadata": {},
   "outputs": [
    {
     "ename": "NameError",
     "evalue": "name 'upper' is not defined",
     "output_type": "error",
     "traceback": [
      "\u001b[1;31m---------------------------------------------------------------------------\u001b[0m",
      "\u001b[1;31mNameError\u001b[0m                                 Traceback (most recent call last)",
      "Input \u001b[1;32mIn [95]\u001b[0m, in \u001b[0;36m<cell line: 3>\u001b[1;34m()\u001b[0m\n\u001b[0;32m      1\u001b[0m lat \u001b[38;5;241m=\u001b[39m []\n\u001b[0;32m      2\u001b[0m long \u001b[38;5;241m=\u001b[39m []\n\u001b[1;32m----> 3\u001b[0m \u001b[38;5;28;01mfor\u001b[39;00m i \u001b[38;5;129;01min\u001b[39;00m \u001b[38;5;28mrange\u001b[39m(\u001b[38;5;241m0\u001b[39m, \u001b[38;5;28mlen\u001b[39m(\u001b[43mupper\u001b[49m[\u001b[38;5;124m'\u001b[39m\u001b[38;5;124mlink\u001b[39m\u001b[38;5;124m'\u001b[39m])):\n\u001b[0;32m      4\u001b[0m     p \u001b[38;5;241m=\u001b[39m re\u001b[38;5;241m.\u001b[39mcompile(\u001b[38;5;124m'\u001b[39m\u001b[38;5;124m[^3d]\u001b[39m\u001b[38;5;124m\\\u001b[39m\u001b[38;5;124md+\u001b[39m\u001b[38;5;124m\\\u001b[39m\u001b[38;5;124m.\u001b[39m\u001b[38;5;124m\\\u001b[39m\u001b[38;5;124md+\u001b[39m\u001b[38;5;124m'\u001b[39m)\n\u001b[0;32m      5\u001b[0m     coord \u001b[38;5;241m=\u001b[39m p\u001b[38;5;241m.\u001b[39mfindall(upper[\u001b[38;5;124m'\u001b[39m\u001b[38;5;124mlink\u001b[39m\u001b[38;5;124m'\u001b[39m][i])\n",
      "\u001b[1;31mNameError\u001b[0m: name 'upper' is not defined"
     ]
    }
   ],
   "source": [
    "lat = []\n",
    "long = []\n",
    "for i in range(0, len(upper['link'])):\n",
    "    p = re.compile('[^3d]\\d+\\.\\d+')\n",
    "    coord = p.findall(upper['link'][i])\n",
    "    lat.append(coord[0])\n",
    "    long.append(coord[1])\n",
    "\n",
    "upper['latitude'] = lat\n",
    "upper['longitude'] = long\n",
    "upper"
   ]
  },
  {
   "cell_type": "code",
   "execution_count": 96,
   "id": "b5a09c5b-2bff-4085-8947-c508a960538b",
   "metadata": {},
   "outputs": [],
   "source": [
    "def make_map(dfs):\n",
    "    # 지도 생성하기\n",
    "    m = folium.Map(location=[upper['latitude'][0],upper['longitude'][0]],   # 기준좌표: 서울시청\n",
    "                   zoom_start=15)\n",
    "\n",
    "    # 미니맵 추가하기\n",
    "    minimap = MiniMap() \n",
    "    m.add_child(minimap)\n",
    "\n",
    "    # 마커 추가하기\n",
    "    for i in range(len(dfs)):\n",
    "        # popup_text = f'''<a href={upper.iloc[i].link} target='_blank'>\n",
    "        #             {upper.iloc[i]['식당이름']}</a> 별점: {upper.iloc[i]['별점']}<br>\n",
    "        #             리뷰: {upper.iloc[i]['리뷰']}<br>'''\n",
    "\n",
    "        #팝업 크기 조절\n",
    "        # popup = folium.Popup(popup_text, min_width=100, max_width=300)\n",
    "    \n",
    "        # 마커 생성\n",
    "        folium.Marker([upper['latitude'][i],upper['longitude'][i]],\n",
    "                  tooltip=upper['name'][i],\n",
    "                  # popup=popup, \n",
    "                      icon=folium.Icon(color='red', icon='info-sign')).add_to(m)\n",
    "    return m"
   ]
  },
  {
   "cell_type": "code",
   "execution_count": 97,
   "id": "e332d279-8d01-45d0-8c61-91b9a1c3ee55",
   "metadata": {},
   "outputs": [
    {
     "data": {
      "text/html": [
       "<div style=\"width:100%;\"><div style=\"position:relative;width:100%;height:0;padding-bottom:60%;\"><span style=\"color:#565656\">Make this Notebook Trusted to load map: File -> Trust Notebook</span><iframe srcdoc=\"&lt;!DOCTYPE html&gt;\n",
       "&lt;head&gt;    \n",
       "    &lt;meta http-equiv=&quot;content-type&quot; content=&quot;text/html; charset=UTF-8&quot; /&gt;\n",
       "    \n",
       "        &lt;script&gt;\n",
       "            L_NO_TOUCH = false;\n",
       "            L_DISABLE_3D = false;\n",
       "        &lt;/script&gt;\n",
       "    \n",
       "    &lt;style&gt;html, body {width: 100%;height: 100%;margin: 0;padding: 0;}&lt;/style&gt;\n",
       "    &lt;style&gt;#map {position:absolute;top:0;bottom:0;right:0;left:0;}&lt;/style&gt;\n",
       "    &lt;script src=&quot;https://cdn.jsdelivr.net/npm/leaflet@1.6.0/dist/leaflet.js&quot;&gt;&lt;/script&gt;\n",
       "    &lt;script src=&quot;https://code.jquery.com/jquery-1.12.4.min.js&quot;&gt;&lt;/script&gt;\n",
       "    &lt;script src=&quot;https://maxcdn.bootstrapcdn.com/bootstrap/3.2.0/js/bootstrap.min.js&quot;&gt;&lt;/script&gt;\n",
       "    &lt;script src=&quot;https://cdnjs.cloudflare.com/ajax/libs/Leaflet.awesome-markers/2.0.2/leaflet.awesome-markers.js&quot;&gt;&lt;/script&gt;\n",
       "    &lt;link rel=&quot;stylesheet&quot; href=&quot;https://cdn.jsdelivr.net/npm/leaflet@1.6.0/dist/leaflet.css&quot;/&gt;\n",
       "    &lt;link rel=&quot;stylesheet&quot; href=&quot;https://maxcdn.bootstrapcdn.com/bootstrap/3.2.0/css/bootstrap.min.css&quot;/&gt;\n",
       "    &lt;link rel=&quot;stylesheet&quot; href=&quot;https://maxcdn.bootstrapcdn.com/bootstrap/3.2.0/css/bootstrap-theme.min.css&quot;/&gt;\n",
       "    &lt;link rel=&quot;stylesheet&quot; href=&quot;https://maxcdn.bootstrapcdn.com/font-awesome/4.6.3/css/font-awesome.min.css&quot;/&gt;\n",
       "    &lt;link rel=&quot;stylesheet&quot; href=&quot;https://cdnjs.cloudflare.com/ajax/libs/Leaflet.awesome-markers/2.0.2/leaflet.awesome-markers.css&quot;/&gt;\n",
       "    &lt;link rel=&quot;stylesheet&quot; href=&quot;https://cdn.jsdelivr.net/gh/python-visualization/folium/folium/templates/leaflet.awesome.rotate.min.css&quot;/&gt;\n",
       "    \n",
       "            &lt;meta name=&quot;viewport&quot; content=&quot;width=device-width,\n",
       "                initial-scale=1.0, maximum-scale=1.0, user-scalable=no&quot; /&gt;\n",
       "            &lt;style&gt;\n",
       "                #map_f35e83ef3f783caf6a61039a359fc2fa {\n",
       "                    position: relative;\n",
       "                    width: 100.0%;\n",
       "                    height: 100.0%;\n",
       "                    left: 0.0%;\n",
       "                    top: 0.0%;\n",
       "                }\n",
       "            &lt;/style&gt;\n",
       "        \n",
       "&lt;/head&gt;\n",
       "&lt;body&gt;    \n",
       "    \n",
       "            &lt;div class=&quot;folium-map&quot; id=&quot;map_f35e83ef3f783caf6a61039a359fc2fa&quot; &gt;&lt;/div&gt;\n",
       "        \n",
       "&lt;/body&gt;\n",
       "&lt;script&gt;    \n",
       "    \n",
       "            var map_f35e83ef3f783caf6a61039a359fc2fa = L.map(\n",
       "                &quot;map_f35e83ef3f783caf6a61039a359fc2fa&quot;,\n",
       "                {\n",
       "                    center: [40.728946, -74.001506],\n",
       "                    crs: L.CRS.EPSG3857,\n",
       "                    zoom: 10,\n",
       "                    zoomControl: true,\n",
       "                    preferCanvas: false,\n",
       "                }\n",
       "            );\n",
       "\n",
       "            \n",
       "\n",
       "        \n",
       "    \n",
       "            var tile_layer_75a235d46d594a44fe1688d6a8bdf6c0 = L.tileLayer(\n",
       "                &quot;https://cartodb-basemaps-{s}.global.ssl.fastly.net/light_all/{z}/{x}/{y}.png&quot;,\n",
       "                {&quot;attribution&quot;: &quot;\\u0026copy; \\u003ca href=\\&quot;http://www.openstreetmap.org/copyright\\&quot;\\u003eOpenStreetMap\\u003c/a\\u003e contributors \\u0026copy; \\u003ca href=\\&quot;http://cartodb.com/attributions\\&quot;\\u003eCartoDB\\u003c/a\\u003e, CartoDB \\u003ca href =\\&quot;http://cartodb.com/attributions\\&quot;\\u003eattributions\\u003c/a\\u003e&quot;, &quot;detectRetina&quot;: false, &quot;maxNativeZoom&quot;: 18, &quot;maxZoom&quot;: 18, &quot;minZoom&quot;: 0, &quot;noWrap&quot;: false, &quot;opacity&quot;: 1, &quot;subdomains&quot;: &quot;abc&quot;, &quot;tms&quot;: false}\n",
       "            ).addTo(map_f35e83ef3f783caf6a61039a359fc2fa);\n",
       "        \n",
       "    \n",
       "            var marker_d97f27a4857c75b46c6efa97bd8d2e42 = L.marker(\n",
       "                [-73.9864611, -73.9864611],\n",
       "                {}\n",
       "            ).addTo(map_f35e83ef3f783caf6a61039a359fc2fa);\n",
       "        \n",
       "    \n",
       "        var popup_dc6ea009008c9d54f1d7205e76d7b448 = L.popup({&quot;maxWidth&quot;: &quot;100%&quot;});\n",
       "\n",
       "        \n",
       "            \n",
       "                var html_64039d66276976b142b6c7d865e6fe1c = $(`&lt;div id=&quot;html_64039d66276976b142b6c7d865e6fe1c&quot; style=&quot;width: 100.0%; height: 100.0%;&quot;&gt;(-73.9864611, -73.9864611)&lt;/div&gt;`)[0];\n",
       "                popup_dc6ea009008c9d54f1d7205e76d7b448.setContent(html_64039d66276976b142b6c7d865e6fe1c);\n",
       "            \n",
       "        \n",
       "\n",
       "        marker_d97f27a4857c75b46c6efa97bd8d2e42.bindPopup(popup_dc6ea009008c9d54f1d7205e76d7b448)\n",
       "        ;\n",
       "\n",
       "        \n",
       "    \n",
       "&lt;/script&gt;\" style=\"position:absolute;width:100%;height:100%;left:0;top:0;border:none !important;\" allowfullscreen webkitallowfullscreen mozallowfullscreen></iframe></div></div>"
      ],
      "text/plain": [
       "<folium.folium.Map at 0x29449c3b670>"
      ]
     },
     "execution_count": 97,
     "metadata": {},
     "output_type": "execute_result"
    }
   ],
   "source": [
    "m"
   ]
  },
  {
   "cell_type": "code",
   "execution_count": null,
   "id": "f883125d-03d5-4386-8f2e-589753fbd724",
   "metadata": {},
   "outputs": [],
   "source": []
  }
 ],
 "metadata": {
  "kernelspec": {
   "display_name": "Python 3 (ipykernel)",
   "language": "python",
   "name": "python3"
  },
  "language_info": {
   "codemirror_mode": {
    "name": "ipython",
    "version": 3
   },
   "file_extension": ".py",
   "mimetype": "text/x-python",
   "name": "python",
   "nbconvert_exporter": "python",
   "pygments_lexer": "ipython3",
   "version": "3.9.12"
  }
 },
 "nbformat": 4,
 "nbformat_minor": 5
}
