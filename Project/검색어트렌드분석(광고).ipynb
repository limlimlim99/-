{
 "cells": [
  {
   "cell_type": "markdown",
   "id": "98fb57ed-cbc1-4905-a4bc-0337b189fc1d",
   "metadata": {},
   "source": [
    "# 최근 한달 일일 검색량"
   ]
  },
  {
   "cell_type": "code",
   "execution_count": 26,
   "id": "1dd98786-f277-4d78-867d-58eca90c6510",
   "metadata": {},
   "outputs": [],
   "source": [
    "import pandas as pd \n",
    "import collections\n",
    "from datetime import timedelta\n",
    "from dateutil.relativedelta import relativedelta\n",
    "import numpy as np\n",
    "\n",
    "import math\n",
    "from datetime import datetime \n",
    "from datetime import datetime, timedelta\n",
    "\n",
    "\n",
    "from powernad.API.Campaign import *\n",
    "from powernad.API.RelKwdStat import *\n",
    "from powernad.API.AdGroup import *\n",
    "\n",
    "import time\n",
    "\n",
    "from time import sleep\n",
    "from urllib.error import HTTPError\n",
    "\n",
    "import urllib.request\n",
    "from datetime import datetime, timedelta\n",
    "import json\n",
    "\n",
    "from tqdm.notebook import tqdm"
   ]
  },
  {
   "cell_type": "code",
   "execution_count": 27,
   "id": "ed5e639a-71e9-4629-ae58-b799b9cb0857",
   "metadata": {},
   "outputs": [],
   "source": [
    "#pip install jsonpickle"
   ]
  },
  {
   "cell_type": "code",
   "execution_count": 28,
   "id": "915645fc-23e6-41ad-a707-5f652a56886f",
   "metadata": {},
   "outputs": [],
   "source": [
    "#pip install powernad --update"
   ]
  },
  {
   "cell_type": "code",
   "execution_count": 29,
   "id": "0b617adf-4fb6-49f5-89ae-7bfa684157d2",
   "metadata": {},
   "outputs": [],
   "source": [
    "toda = datetime.now()\n",
    "time_month = toda - relativedelta(months=1)\n",
    "time_month = time_month.strftime('%Y-%m-%d')\n",
    "time_month= str(time_month)\n",
    "\n",
    "\n",
    "yesterday = toda - relativedelta(days=1)\n",
    "yesterday = yesterday.strftime('%Y-%m-%d')\n",
    "yesterday = str(yesterday)\n",
    "\n",
    "\n",
    "\n",
    "today = str(datetime.now().date())"
   ]
  },
  {
   "cell_type": "code",
   "execution_count": 30,
   "id": "7c2f8d56-0114-44a7-80bc-bcde3c2e6ff2",
   "metadata": {},
   "outputs": [],
   "source": [
    "dt_index = pd.date_range(start=time_month, end = yesterday)\n",
    "\n",
    "\n",
    "date = pd.DataFrame(data=dt_index, columns=['날짜'])"
   ]
  },
  {
   "cell_type": "code",
   "execution_count": 31,
   "id": "d7cdae79-d9ec-4e4f-986f-9458931dbd35",
   "metadata": {},
   "outputs": [],
   "source": [
    "# 네이버 디벨러퍼 API / 네이버 광고 API"
   ]
  },
  {
   "cell_type": "code",
   "execution_count": 32,
   "id": "b844208d-4d9e-44a2-a1b3-5b628ceea323",
   "metadata": {},
   "outputs": [],
   "source": [
    "BASE_URL = 'https://api.naver.com'\n",
    "API_KEY = '*****'\n",
    "SECRET_KEY = '*****'\n",
    "CUSTOMER_ID = '****'"
   ]
  },
  {
   "cell_type": "code",
   "execution_count": 33,
   "id": "f2f84e22-a67a-46b5-9b72-84d3f2d82e52",
   "metadata": {},
   "outputs": [],
   "source": [
    "rel = RelKwdStat(BASE_URL, API_KEY, SECRET_KEY, CUSTOMER_ID)\n",
    "\n",
    "def search_keyword(searchword):\n",
    "    \n",
    "\n",
    "    kwdDataList = rel.get_rel_kwd_stat_list(siteId=None, biztpId=None, hintKeywords=searchword, event=None, month=None, showDetail='1')\n",
    "\n",
    "\n",
    "    kwd_result = (kwdDataList[0].relKeyword, #키워드\n",
    "                 kwdDataList[0].monthlyPcQcCnt, #월간 검색수 (PC)\n",
    "                 kwdDataList[0].monthlyMobileQcCnt, # 월간 검색수 (Mobile)\n",
    "                 kwdDataList[0].monthlyPcQcCnt+kwdDataList[0].monthlyMobileQcCnt) # 월간 total \n",
    "\n",
    "    return(kwd_result[3])\n",
    "\n",
    "client_id = \"****\" \n",
    "client_secret = \"****\"\n",
    "\n",
    "dictionary_yester={}\n",
    "dictionary_now={}"
   ]
  },
  {
   "cell_type": "code",
   "execution_count": 34,
   "id": "92acd927-fbb3-4629-ae6b-ffc3d24dd53b",
   "metadata": {},
   "outputs": [],
   "source": [
    "# lis = ['검색하고자 하는 키워드 입력']\n",
    "lis = ['이대맛집']"
   ]
  },
  {
   "cell_type": "code",
   "execution_count": 35,
   "id": "f2affb30-1e3d-4be1-a88c-ca8ec54f9911",
   "metadata": {},
   "outputs": [
    {
     "data": {
      "application/vnd.jupyter.widget-view+json": {
       "model_id": "7ff6fb8e1d9d4244a2281fde64edd778",
       "version_major": 2,
       "version_minor": 0
      },
      "text/plain": [
       "  0%|          | 0/1 [00:00<?, ?it/s]"
      ]
     },
     "metadata": {},
     "output_type": "display_data"
    },
    {
     "name": "stdout",
     "output_type": "stream",
     "text": [
      "Http status: 403\n",
      "failed to request\n",
      " 타입 or 인덱스 에러,Value 에러: 이대맛집\n",
      "Http status: 403\n",
      "failed to request\n",
      "Http status: 403\n",
      "failed to request\n"
     ]
    }
   ],
   "source": [
    "error=[]\n",
    "for i in tqdm(lis):  \n",
    "    sleep(1)\n",
    "    try:\n",
    "        if type(search_keyword(i)) !=str : \n",
    "            searchword = i.replace(\" \",\"\")\n",
    "            a = search_keyword(searchword)\n",
    "\n",
    "\n",
    "            url = \"https://openapi.naver.com/v1/datalab/search\"\n",
    "            body = \"{\\\"startDate\\\":\\\"\"+time_month+\"\\\",\\\"endDate\\\":\\\"\"+today+\"\\\",\\\"timeUnit\\\":\\\"date\\\",\\\"keywordGroups\\\":[{\\\"groupName\\\":\\\"\"+i+\"\\\",\\\"keywords\\\":[\\\"\"+i+\"\\\"]}]}\";\n",
    "            requested = urllib.request.Request(url)\n",
    "            requested.add_header(\"X-Naver-Client-Id\", client_id)\n",
    "            requested.add_header(\"X-Naver-Client-Secret\", client_secret)\n",
    "            requested.add_header(\"Content-Type\", \"application/json\")\n",
    "            response = urllib.request.urlopen(requested, data=body.encode(\"utf-8\"))\n",
    "            rescode = response.getcode()\n",
    "\n",
    "            if(rescode==200):\n",
    "                response_body = response.read()\n",
    "                output_data = response_body.decode('utf-8')\n",
    "            else:\n",
    "                print('Error code:'+ rescode)\n",
    "                pass\n",
    "\n",
    "            result = json.loads(output_data)\n",
    "\n",
    "\n",
    "            date = [a['period'] for a in result['results'][0]['data']]\n",
    "\n",
    "\n",
    "            aa = pd.DataFrame({'date':date, \n",
    "                          i:[a['ratio'] for a in result['results'][0]['data']],\n",
    "                          })\n",
    "\n",
    "            # 일일 데이터 계산 \n",
    "\n",
    "\n",
    "            sleep(0.5)\n",
    "            total = aa[i].sum()\n",
    "\n",
    "\n",
    "            aa[i] = aa[i].apply(lambda x :((x / total)*float(a)))\n",
    "\n",
    "        else : \n",
    "            pass\n",
    "\n",
    "    except (TypeError, IndexError,KeyError,ValueError):\n",
    "        print(\" 타입 or 인덱스 에러,Value 에러:\",i)\n",
    "        error.append(i)\n",
    "        pass\n",
    "\n",
    "\n",
    "    except HTTPError:\n",
    "        print('http 에러:', i )\n",
    "        error.append(i)\n",
    "        pass\n",
    "\n",
    "        #여기부터 새로코딩함 \n",
    "    try: \n",
    "        if type(search_keyword(i)) !=str : \n",
    "            searchword = i.replace(\" \",\"\")\n",
    "            a = search_keyword(searchword)        \n",
    "\n",
    "            dt_index = pd.date_range(start=time_month, end= yesterday)\n",
    "            dt_list = dt_index.strftime(\"%Y-%m-%d\").tolist()\n",
    "\n",
    "            date = pd.DataFrame(data=dt_list, columns=['날짜'])\n",
    "\n",
    "            spred = pd.merge(date,aa,left_on='날짜',right_on='date',how='outer')\n",
    "            spred.drop(['date'],inplace=True, axis=1)\n",
    "\n",
    "            spred.replace(np.nan,0,inplace=True)\n",
    "\n",
    "\n",
    "            a=[] \n",
    "\n",
    "            for j in range(len(spred)) : \n",
    "                a.append(today)\n",
    "\n",
    "\n",
    "            spred['수집날짜'] = a\n",
    "\n",
    "            spred = spred[['날짜','수집날짜',i]]\n",
    "\n",
    "            if i in dictionary_yester:\n",
    "\n",
    "                pass\n",
    "\n",
    "            else : \n",
    "                dictionary_yester[i]=[]\n",
    "\n",
    "\n",
    "\n",
    "            dictionary_now[i]=spred\n",
    "\n",
    "        else:\n",
    "            pass\n",
    "\n",
    "    except (TypeError, IndexError,KeyError,ValueError):\n",
    "\n",
    "        pass\n",
    "\n",
    "    sleep(0.5)\n",
    "    try :\n",
    "        if type(search_keyword(i)) !=str : \n",
    "            searchword = i.replace(\" \",\"\")\n",
    "            a = search_keyword(searchword)        \n",
    "\n",
    "            if dictionary_yester[i]==[]:\n",
    "                dictionary_yester[i] = dictionary_now[i]\n",
    "               # for k in range(3):\n",
    "                #    sleep(1)\n",
    "                 #   gc2.append_row(dictionary_now[i].iloc[-1-k,:].values.tolist()+[i])\n",
    "\n",
    "\n",
    "            else : \n",
    "                pass \n",
    "        else:\n",
    "            pass\n",
    "\n",
    "\n",
    "    except (TypeError, IndexError,KeyError):\n",
    "          pass\n",
    "\n",
    "\n",
    "    except ValueError:\n",
    "\n",
    "\n",
    "            yester_df= dictionary_yester[i]\n",
    "            today_df = dictionary_now[i]\n",
    "\n",
    "\n",
    "            yester_df.set_index('날짜',inplace=True)\n",
    "\n",
    "            today_df.set_index('날짜',inplace=True)\n",
    "\n",
    "            yester_df.update(today_df)\n",
    "\n",
    "\n",
    "            tmpt = today_df.iloc[-1,:]\n",
    "\n",
    "            yester_df = yester_df.append(tmpt)\n",
    "\n",
    "            yester_df.reset_index(inplace=True)\n",
    "            today_df.reset_index(inplace=True)\n",
    "\n",
    "            #dictionary_yester[i] = yester_df\n",
    "\n",
    "        ## 구글 API로 데이터 올리기\n",
    "            # 2주간의 데이터만 구글 스프레드 시트에 올리겠다.\n",
    "\n",
    "          #  for k in range(3):\n",
    "           #     sleep(1)\n",
    "            #    gc2.append_row(yester_df.iloc[-1-k,:].values.tolist()+[i])\n",
    "\n",
    "\n",
    "\n",
    "\n",
    "            dictionary_yester[i] = yester_df\n",
    "\n",
    "\n",
    "    except :\n",
    "        print('API 에러',i)\n",
    "        error.append(i)\n",
    "\n",
    "\n",
    "\n",
    "\n",
    "    sleep(3)\n"
   ]
  },
  {
   "cell_type": "code",
   "execution_count": 37,
   "id": "e0034bc9-a8cb-450e-bb36-e4f2d6a97bbd",
   "metadata": {},
   "outputs": [
    {
     "ename": "KeyError",
     "evalue": "'이대맛집'",
     "output_type": "error",
     "traceback": [
      "\u001b[1;31m---------------------------------------------------------------------------\u001b[0m",
      "\u001b[1;31mKeyError\u001b[0m                                  Traceback (most recent call last)",
      "Input \u001b[1;32mIn [37]\u001b[0m, in \u001b[0;36m<cell line: 2>\u001b[1;34m()\u001b[0m\n\u001b[0;32m      1\u001b[0m \u001b[38;5;66;03m# dictionary_now['lis에서 정의했던 키워드 입력']\u001b[39;00m\n\u001b[1;32m----> 2\u001b[0m \u001b[43mdictionary_now\u001b[49m\u001b[43m[\u001b[49m\u001b[38;5;124;43m'\u001b[39;49m\u001b[38;5;124;43m이대맛집\u001b[39;49m\u001b[38;5;124;43m'\u001b[39;49m\u001b[43m]\u001b[49m\n",
      "\u001b[1;31mKeyError\u001b[0m: '이대맛집'"
     ]
    }
   ],
   "source": [
    "# dictionary_now['lis에서 정의했던 키워드 입력']\n",
    "dictionary_now['이대맛집']"
   ]
  },
  {
   "cell_type": "code",
   "execution_count": 38,
   "id": "a4e94d2f-6bbe-4f29-9a79-a99d554c39bd",
   "metadata": {},
   "outputs": [
    {
     "ename": "KeyError",
     "evalue": "'이대맛집'",
     "output_type": "error",
     "traceback": [
      "\u001b[1;31m---------------------------------------------------------------------------\u001b[0m",
      "\u001b[1;31mKeyError\u001b[0m                                  Traceback (most recent call last)",
      "Input \u001b[1;32mIn [38]\u001b[0m, in \u001b[0;36m<cell line: 1>\u001b[1;34m()\u001b[0m\n\u001b[1;32m----> 1\u001b[0m \u001b[43mdictionary_yester\u001b[49m\u001b[43m[\u001b[49m\u001b[38;5;124;43m'\u001b[39;49m\u001b[38;5;124;43m이대맛집\u001b[39;49m\u001b[38;5;124;43m'\u001b[39;49m\u001b[43m]\u001b[49m\n",
      "\u001b[1;31mKeyError\u001b[0m: '이대맛집'"
     ]
    }
   ],
   "source": [
    "dictionary_yester['이대맛집']"
   ]
  },
  {
   "cell_type": "code",
   "execution_count": null,
   "id": "65f651d5-14dd-4a48-9760-3b84f2a765c5",
   "metadata": {},
   "outputs": [],
   "source": []
  }
 ],
 "metadata": {
  "kernelspec": {
   "display_name": "Python 3 (ipykernel)",
   "language": "python",
   "name": "python3"
  },
  "language_info": {
   "codemirror_mode": {
    "name": "ipython",
    "version": 3
   },
   "file_extension": ".py",
   "mimetype": "text/x-python",
   "name": "python",
   "nbconvert_exporter": "python",
   "pygments_lexer": "ipython3",
   "version": "3.9.12"
  }
 },
 "nbformat": 4,
 "nbformat_minor": 5
}
