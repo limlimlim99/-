{
 "cells": [
  {
   "cell_type": "markdown",
   "id": "87c156cc-68a6-4a22-b7d5-ac144c7f3dcf",
   "metadata": {},
   "source": [
    "# 맛집"
   ]
  },
  {
   "cell_type": "markdown",
   "id": "50e82489-7b0b-4262-8b30-a4a644493d16",
   "metadata": {},
   "source": [
    "## 필요 라이브러리"
   ]
  },
  {
   "cell_type": "code",
   "execution_count": 53,
   "id": "d2cde741-b7c4-4684-afc0-068022656c6f",
   "metadata": {},
   "outputs": [],
   "source": [
    "import requests\n",
    "from bs4 import BeautifulSoup\n",
    "import selenium\n",
    "from selenium import webdriver\n",
    "from urllib.request import urlopen, urlretrieve\n",
    "from urllib.parse import quote_plus\n",
    "from selenium.webdriver.common.by import By\n",
    "from selenium.webdriver.common.keys import Keys"
   ]
  },
  {
   "cell_type": "code",
   "execution_count": 54,
   "id": "ff0840fd-42cf-45f9-af10-357b0129c74a",
   "metadata": {},
   "outputs": [],
   "source": [
    "import os\n",
    "os.getcwd()\n",
    "os.chdir('C://Users/user/')"
   ]
  },
  {
   "cell_type": "code",
   "execution_count": 55,
   "id": "c6d83e18-24cc-46bf-a0da-c0208d43e12d",
   "metadata": {},
   "outputs": [],
   "source": [
    "driver = webdriver.Chrome('chromedriver.exe')"
   ]
  },
  {
   "cell_type": "markdown",
   "id": "55a84ecb-ba47-42f3-80ef-7f7bc3654a3a",
   "metadata": {},
   "source": [
    "## 맛집 찾기"
   ]
  },
  {
   "cell_type": "code",
   "execution_count": 56,
   "id": "f3628e70-e5b3-4e76-a07f-de4b098a77eb",
   "metadata": {},
   "outputs": [],
   "source": [
    "url = \"https://www.google.com/maps\"\n",
    "driver.get(url)"
   ]
  },
  {
   "cell_type": "code",
   "execution_count": 57,
   "id": "a4c019f3-2b84-4b2c-bae8-7b5141eff95c",
   "metadata": {},
   "outputs": [
    {
     "name": "stdin",
     "output_type": "stream",
     "text": [
      "위치를 영어로 입력하세요:  italy\n"
     ]
    }
   ],
   "source": [
    "location = input('위치를 영어로 입력하세요: ')\n",
    "xpath = '/html/body/div[3]/div[9]/div[3]/div[1]/div[1]/div[1]/div[2]/form/div[2]/div[3]/div/input[1]'\n",
    "search = driver.find_element(By.XPATH, xpath)\n",
    "search.clear()\n",
    "search.send_keys(f'{location}')\n",
    "search.send_keys(Keys.ENTER)"
   ]
  },
  {
   "cell_type": "code",
   "execution_count": 58,
   "id": "30504a11-a32a-45f5-9f56-55cd50d83dfc",
   "metadata": {},
   "outputs": [],
   "source": [
    "url = driver.current_url"
   ]
  },
  {
   "cell_type": "code",
   "execution_count": 59,
   "id": "667d554b-0d5f-4564-aba1-394dbf2f30d4",
   "metadata": {},
   "outputs": [
    {
     "data": {
      "text/plain": [
       "'https://www.google.com/maps/place/%EC%9D%B4%ED%83%88%EB%A6%AC%EC%95%84/@40.9388263,3.707161,5z/data=!3m1!4b1!4m5!3m4!1s0x12d4fe82448dd203:0xe22cf55c24635e6f!8m2!3d41.87194!4d12.56738'"
      ]
     },
     "execution_count": 59,
     "metadata": {},
     "output_type": "execute_result"
    }
   ],
   "source": [
    "url"
   ]
  },
  {
   "cell_type": "code",
   "execution_count": 60,
   "id": "ef695849-80f1-48ea-b9a6-f489226acd03",
   "metadata": {},
   "outputs": [],
   "source": [
    "import re\n",
    "p = re.compile('.*(@\\d+[.]\\d+)[,](.*\\d+[.]\\d+)[,](\\d{1}[a-zA-Z])')\n",
    "x = p.search(url).group(1)\n",
    "y = p.search(url).group(2)\n",
    "z = p.search(url).group(3)"
   ]
  },
  {
   "cell_type": "code",
   "execution_count": 61,
   "id": "53c09b45-67e0-4f05-9707-447829157b74",
   "metadata": {},
   "outputs": [],
   "source": [
    "url = f'https://www.google.com/maps/search/{location}+restaurants/@{x},{y},{z}'\n",
    "driver.get(url)"
   ]
  },
  {
   "cell_type": "code",
   "execution_count": 63,
   "id": "2c65ea2a-f256-4059-a791-e514c94b170f",
   "metadata": {
    "tags": []
   },
   "outputs": [],
   "source": [
    "xpath ='/html/body/div[3]/div[9]/div[9]/div/div/div[1]/div[2]/div/div[1]/div/div/div[2]/div[1]/div[1]/div[2]/div/div[1]/div[2]/span[2]/span[1]/button'\n",
    "#xpath = '/html/body/div[3]/div[9]/div[4]/div/div/div/button/span'\n",
    "driver.find_element(By.XPATH, xpath).click()"
   ]
  },
  {
   "cell_type": "markdown",
   "id": "d5ce3fee-069f-4a70-b4c3-c29642f034cc",
   "metadata": {
    "tags": []
   },
   "source": [
    "## 식당 이름 따기"
   ]
  },
  {
   "cell_type": "code",
   "execution_count": 64,
   "id": "8ed4ec4d-191d-4e5b-b71f-4cc63546f5a0",
   "metadata": {},
   "outputs": [],
   "source": [
    "import datetime\n",
    "import time\n",
    "\n",
    "def doScrollDown(whileSeconds):\n",
    "    start = datetime.datetime.now()\n",
    "    end = start + datetime.timedelta(seconds=whileSeconds)\n",
    "    while True:\n",
    "        scroll = driver.find_element(By.XPATH, '/html/body/div[3]/div[9]/div[9]/div/div/div[1]/div[2]/div/div[1]/div/div/div[2]/div[1]')\n",
    "        driver.execute_script(\"arguments[0].scrollTop = arguments[0].scrollHeight\", scroll)\n",
    "        time.sleep(1)\n",
    "        if datetime.datetime.now() > end:\n",
    "            break"
   ]
  },
  {
   "cell_type": "code",
   "execution_count": 65,
   "id": "58e1fe08-98ed-4ad6-a05e-402db1605107",
   "metadata": {},
   "outputs": [],
   "source": [
    "doScrollDown(15)"
   ]
  },
  {
   "cell_type": "code",
   "execution_count": 66,
   "id": "2035e53d-c5bb-40cd-ac53-d903fb78f079",
   "metadata": {
    "tags": []
   },
   "outputs": [
    {
     "ename": "IndexError",
     "evalue": "list index out of range",
     "output_type": "error",
     "traceback": [
      "\u001b[1;31m---------------------------------------------------------------------------\u001b[0m",
      "\u001b[1;31mIndexError\u001b[0m                                Traceback (most recent call last)",
      "Input \u001b[1;32mIn [66]\u001b[0m, in \u001b[0;36m<cell line: 4>\u001b[1;34m()\u001b[0m\n\u001b[0;32m      3\u001b[0m lists \u001b[38;5;241m=\u001b[39m []\n\u001b[0;32m      4\u001b[0m \u001b[38;5;28;01mfor\u001b[39;00m i \u001b[38;5;129;01min\u001b[39;00m \u001b[38;5;28mrange\u001b[39m(\u001b[38;5;241m0\u001b[39m, \u001b[38;5;241m30\u001b[39m):\n\u001b[1;32m----> 5\u001b[0m     lists\u001b[38;5;241m.\u001b[39mappend(\u001b[43mrec\u001b[49m\u001b[43m[\u001b[49m\u001b[43mi\u001b[49m\u001b[43m]\u001b[49m\u001b[38;5;241m.\u001b[39mtext)\n\u001b[0;32m      7\u001b[0m lists\n",
      "\u001b[1;31mIndexError\u001b[0m: list index out of range"
     ]
    }
   ],
   "source": [
    "rec = driver.find_elements(By.CLASS_NAME, 'NrDZNb')\n",
    "\n",
    "lists = []\n",
    "for i in range(0, 30):\n",
    "    lists.append(rec[i].text)\n",
    "\n",
    "lists"
   ]
  },
  {
   "cell_type": "code",
   "execution_count": 17,
   "id": "0c6929e0-cce6-4cec-a9d4-f2986508f8ea",
   "metadata": {},
   "outputs": [
    {
     "data": {
      "text/plain": [
       "30"
      ]
     },
     "execution_count": 17,
     "metadata": {},
     "output_type": "execute_result"
    }
   ],
   "source": [
    "len(lists)"
   ]
  },
  {
   "cell_type": "markdown",
   "id": "f639fedc-421c-444e-bf31-237d6716b471",
   "metadata": {
    "tags": []
   },
   "source": [
    "## 별점 따기"
   ]
  },
  {
   "cell_type": "code",
   "execution_count": 18,
   "id": "bbc8e2ab-1eed-4258-a543-3b161b367427",
   "metadata": {
    "tags": []
   },
   "outputs": [
    {
     "data": {
      "text/plain": [
       "['5.0(2)',\n",
       " '4.2(572)',\n",
       " '4.3(92)',\n",
       " '5.0(3)',\n",
       " '4.2(211)',\n",
       " '4.4(261) · ₩₩',\n",
       " '5.0(2)',\n",
       " '4.2(75) · ₩₩',\n",
       " '0',\n",
       " '4.4(166)',\n",
       " '0',\n",
       " '4.3(1,948) · ₩₩',\n",
       " '4.7(580) · ₩₩',\n",
       " '3.6(768) · ₩₩',\n",
       " '4.3(1,131) · ₩',\n",
       " '4.2(1,127) · ₩₩',\n",
       " '4.6(3,248) · ₩',\n",
       " '4.5(289)',\n",
       " '4.5(1,224) · ₩₩',\n",
       " '4.6(515) · ₩₩',\n",
       " '4.5(289)',\n",
       " '4.5(1,224) · ₩₩',\n",
       " '4.6(515) · ₩₩',\n",
       " '4.4(248) · ₩₩₩',\n",
       " '4.5(524) · ₩₩₩',\n",
       " '3.7(208)',\n",
       " '4.3(1,915) · ₩₩',\n",
       " '4.5(849) · ₩₩',\n",
       " '4.7(1,651) · ₩₩',\n",
       " '4.7(1,882) · ₩₩']"
      ]
     },
     "execution_count": 18,
     "metadata": {},
     "output_type": "execute_result"
    }
   ],
   "source": [
    "rec = driver.find_elements(By.CLASS_NAME, 'AJB7ye')\n",
    "\n",
    "reviews = []\n",
    "for i in range(0, 30):\n",
    "    reviews.append(rec[i].text)\n",
    "    for i in range(0, len(reviews)):\n",
    "        if reviews[i] == '리뷰 없음':\n",
    "            reviews[i] = '0'\n",
    "reviews"
   ]
  },
  {
   "cell_type": "code",
   "execution_count": 19,
   "id": "5ca84e14-6eb1-45ef-9416-6dc15c3cfb65",
   "metadata": {},
   "outputs": [
    {
     "data": {
      "text/plain": [
       "['5.0',\n",
       " '4.2',\n",
       " '4.3',\n",
       " '5.0',\n",
       " '4.2',\n",
       " '4.4',\n",
       " '5.0',\n",
       " '4.2',\n",
       " '0',\n",
       " '4.4',\n",
       " '0',\n",
       " '4.3',\n",
       " '4.7',\n",
       " '3.6',\n",
       " '4.3',\n",
       " '4.2',\n",
       " '4.6',\n",
       " '4.5',\n",
       " '4.5',\n",
       " '4.6',\n",
       " '4.5',\n",
       " '4.5',\n",
       " '4.6',\n",
       " '4.4',\n",
       " '4.5',\n",
       " '3.7',\n",
       " '4.3',\n",
       " '4.5',\n",
       " '4.7',\n",
       " '4.7']"
      ]
     },
     "execution_count": 19,
     "metadata": {},
     "output_type": "execute_result"
    }
   ],
   "source": [
    "rvs = []\n",
    "for i in range(0, len(reviews)):\n",
    "    rvs.append(reviews[i][:3])\n",
    "    \n",
    "rvs"
   ]
  },
  {
   "cell_type": "code",
   "execution_count": 20,
   "id": "5521570d-ba3c-44d4-ad18-6d97cdd4833a",
   "metadata": {},
   "outputs": [
    {
     "data": {
      "text/plain": [
       "30"
      ]
     },
     "execution_count": 20,
     "metadata": {},
     "output_type": "execute_result"
    }
   ],
   "source": [
    "len(rvs)"
   ]
  },
  {
   "cell_type": "markdown",
   "id": "e35eece9-441b-4fc4-890a-442f47d1ec6e",
   "metadata": {},
   "source": [
    "## 음식 종류"
   ]
  },
  {
   "cell_type": "code",
   "execution_count": 21,
   "id": "97351fa3-1bfa-4915-8c25-9bd36a96143a",
   "metadata": {
    "tags": []
   },
   "outputs": [
    {
     "data": {
      "text/plain": [
       "['이탈리아 요리',\n",
       " '이탈리아 요리',\n",
       " '이탈리아 요리',\n",
       " '이탈리아 요리',\n",
       " '이탈리아 요리',\n",
       " '이탈리아 요리',\n",
       " '이탈리아 요리',\n",
       " '이탈리아 요리',\n",
       " '이탈리아 요리',\n",
       " '이탈리아 요리',\n",
       " '이탈리아 요리',\n",
       " '이탈리아 요리',\n",
       " '이탈리아 요리',\n",
       " '이탈리아 요리',\n",
       " '이탈리아 요리',\n",
       " '이탈리아 요리',\n",
       " '이탈리아 요리',\n",
       " '이탈리아 요리',\n",
       " '이탈리아 요리',\n",
       " '이탈리아 요리',\n",
       " '이탈리아 요리',\n",
       " '이탈리아 요리',\n",
       " '이탈리아 요리',\n",
       " '이탈리아 요리',\n",
       " '이탈리아 요리',\n",
       " '이탈리아 요리',\n",
       " '이탈리아 요리',\n",
       " '음식점',\n",
       " '음식점',\n",
       " '음식점']"
      ]
     },
     "execution_count": 21,
     "metadata": {},
     "output_type": "execute_result"
    }
   ],
   "source": [
    "rec = driver.find_elements(By.CSS_SELECTOR, '#QA0Szd > div > div > div.w6VYqd > div.bJzME.tTVLSc > div > div.e07Vkf.kA9KIf > div > div > div.m6QErb.DxyBCb.kA9KIf.dS8AEf.ecceSd > div.m6QErb.DxyBCb.kA9KIf.dS8AEf.ecceSd.QjC7t > div > div > div.bfdHYd.Ppzolf.OFBs3e > div.lI9IFe > div.y7PRA > div > div > div.UaQhfb.fontBodyMedium > div > div:nth-child(2) > span:nth-child(1) > jsl > span:nth-child(2)')\n",
    "\n",
    "food = []\n",
    "for i in range(0, 30):\n",
    "    food.append(rec[i].text)\n",
    "\n",
    "food"
   ]
  },
  {
   "cell_type": "code",
   "execution_count": 22,
   "id": "9925965c-65dd-4d7e-9425-d514374e3caa",
   "metadata": {},
   "outputs": [
    {
     "data": {
      "text/plain": [
       "30"
      ]
     },
     "execution_count": 22,
     "metadata": {},
     "output_type": "execute_result"
    }
   ],
   "source": [
    "len(food)"
   ]
  },
  {
   "cell_type": "markdown",
   "id": "f0e1e86b-fedf-4609-aaf2-4367d3b1fff7",
   "metadata": {},
   "source": [
    "## 영업 시간"
   ]
  },
  {
   "cell_type": "code",
   "execution_count": 23,
   "id": "8305eda8-49f7-4b6e-a21c-87354cf2d81d",
   "metadata": {
    "tags": []
   },
   "outputs": [
    {
     "data": {
      "text/plain": [
       "['오전 12:00에 영업 종료',\n",
       " '오후 2:30에 영업 종료 ⋅ 오후 5:30에 영업 재개',\n",
       " '오후 4:00에 영업 종료 ⋅ 오후 5:00에 영업 재개',\n",
       " '오후 9:00에 영업 종료',\n",
       " '오후 3:00에 영업 종료 ⋅ 오후 5:00에 영업 재개',\n",
       " '화 오후 6:00에 영업 시작',\n",
       " '오후 10:00에 영업 종료',\n",
       " '오후 8:00에 영업 종료',\n",
       " '화 오전 11:00에 영업 시작',\n",
       " '오후 6:00에 영업 시작',\n",
       " '오후 12:00에 영업 시작',\n",
       " '오후 12:00에 영업 시작',\n",
       " '오전 11:00에 영업 시작',\n",
       " '오전 10:30에 영업 시작',\n",
       " '오전 11:30에 영업 시작',\n",
       " '오후 12:30에 영업 시작',\n",
       " '오후 6:30에 영업 시작',\n",
       " '오후 12:00에 영업 시작',\n",
       " '오후 7:00에 영업 시작',\n",
       " '오후 6:30에 영업 시작',\n",
       " '오후 12:00에 영업 시작',\n",
       " '오후 7:00에 영업 시작',\n",
       " '오후 10:00에 영업 종료',\n",
       " '화 오후 12:00에 영업 시작',\n",
       " '오전 9:00에 영업 시작',\n",
       " '오후 12:00에 영업 시작',\n",
       " '오전 11:00에 영업 시작',\n",
       " '오후 4:30에 영업 시작',\n",
       " '오전 11:45에 영업 시작',\n",
       " '오후 12:30에 영업 시작']"
      ]
     },
     "execution_count": 23,
     "metadata": {},
     "output_type": "execute_result"
    }
   ],
   "source": [
    "rec = driver.find_elements(By.CSS_SELECTOR, '#QA0Szd > div > div > div.w6VYqd > div.bJzME.tTVLSc > div > div.e07Vkf.kA9KIf > div > div > div.m6QErb.DxyBCb.kA9KIf.dS8AEf.ecceSd > div.m6QErb.DxyBCb.kA9KIf.dS8AEf.ecceSd > div > div > div.bfdHYd.Ppzolf.OFBs3e > div.lI9IFe > div.y7PRA > div > div > div.UaQhfb.fontBodyMedium > div > div > span > jsl > span > span:nth-child(2)')\n",
    "\n",
    "opens = []\n",
    "for i in range(0, 30):\n",
    "    opens.append(rec[i].text)\n",
    "\n",
    "for i in range(0, len(opens)):\n",
    "    opens[i] = opens[i][2:]\n",
    "    \n",
    "opens"
   ]
  },
  {
   "cell_type": "code",
   "execution_count": 24,
   "id": "a069bc32-0497-4b0c-a362-df4f5a332de1",
   "metadata": {},
   "outputs": [
    {
     "data": {
      "text/plain": [
       "30"
      ]
     },
     "execution_count": 24,
     "metadata": {},
     "output_type": "execute_result"
    }
   ],
   "source": [
    "len(opens)"
   ]
  },
  {
   "cell_type": "markdown",
   "id": "5dd062d5-1f25-445c-81c1-5ee52a9bb5af",
   "metadata": {},
   "source": [
    "## 영업 여부"
   ]
  },
  {
   "cell_type": "code",
   "execution_count": 25,
   "id": "aade26d5-8596-448e-a19c-f02c2f58928f",
   "metadata": {},
   "outputs": [
    {
     "data": {
      "text/plain": [
       "['영업 중',\n",
       " '영업 중',\n",
       " '영업 중',\n",
       " '영업 중',\n",
       " '영업 중',\n",
       " '영업 종료',\n",
       " '영업 중',\n",
       " '영업 중',\n",
       " '영업 종료',\n",
       " '영업 종료',\n",
       " '영업 종료',\n",
       " '영업 종료',\n",
       " '영업 종료',\n",
       " '영업 종료',\n",
       " '영업 종료',\n",
       " '영업 종료',\n",
       " '영업 종료',\n",
       " '영업 종료',\n",
       " '영업 종료',\n",
       " '영업 종료',\n",
       " '영업 종료',\n",
       " '영업 종료',\n",
       " '영업 중',\n",
       " '영업 종료',\n",
       " '영업 종료',\n",
       " '영업 종료',\n",
       " '영업 종료',\n",
       " '영업 종료',\n",
       " '영업 종료',\n",
       " '영업 종료']"
      ]
     },
     "execution_count": 25,
     "metadata": {},
     "output_type": "execute_result"
    }
   ],
   "source": [
    "rec = driver.find_elements(By.CSS_SELECTOR, '#QA0Szd > div > div > div.w6VYqd > div.bJzME.tTVLSc > div > div.e07Vkf.kA9KIf > div > div > div.m6QErb.DxyBCb.kA9KIf.dS8AEf.ecceSd > div.m6QErb.DxyBCb.kA9KIf.dS8AEf.ecceSd.QjC7t > div > div > div.bfdHYd.Ppzolf.OFBs3e > div.lI9IFe > div.y7PRA > div > div > div.UaQhfb.fontBodyMedium > div > div > span > jsl > span > span:nth-child(1)')\n",
    "\n",
    "now = []\n",
    "for i in range(0, 30):\n",
    "    now.append(rec[i].text)\n",
    "\n",
    "now"
   ]
  },
  {
   "cell_type": "code",
   "execution_count": 26,
   "id": "9fae8693-a302-46ec-a7c6-d6c84f48e9f7",
   "metadata": {},
   "outputs": [
    {
     "data": {
      "text/plain": [
       "30"
      ]
     },
     "execution_count": 26,
     "metadata": {},
     "output_type": "execute_result"
    }
   ],
   "source": [
    "len(now)"
   ]
  },
  {
   "cell_type": "markdown",
   "id": "17f9f92c-5073-4577-8ab1-4790056ba1da",
   "metadata": {},
   "source": [
    "## 데이터프레임 만들기"
   ]
  },
  {
   "cell_type": "code",
   "execution_count": 27,
   "id": "960e57f1-4cfd-45fa-a37d-aa2b78f76f1a",
   "metadata": {},
   "outputs": [],
   "source": [
    "import pandas as pd"
   ]
  },
  {
   "cell_type": "code",
   "execution_count": 28,
   "id": "5edcec1c-144b-429c-8606-0bbca6b16dce",
   "metadata": {
    "tags": []
   },
   "outputs": [
    {
     "data": {
      "text/html": [
       "<div>\n",
       "<style scoped>\n",
       "    .dataframe tbody tr th:only-of-type {\n",
       "        vertical-align: middle;\n",
       "    }\n",
       "\n",
       "    .dataframe tbody tr th {\n",
       "        vertical-align: top;\n",
       "    }\n",
       "\n",
       "    .dataframe thead th {\n",
       "        text-align: right;\n",
       "    }\n",
       "</style>\n",
       "<table border=\"1\" class=\"dataframe\">\n",
       "  <thead>\n",
       "    <tr style=\"text-align: right;\">\n",
       "      <th></th>\n",
       "      <th>name</th>\n",
       "      <th>reviews</th>\n",
       "      <th>type</th>\n",
       "      <th>now</th>\n",
       "      <th>hours</th>\n",
       "    </tr>\n",
       "  </thead>\n",
       "  <tbody>\n",
       "    <tr>\n",
       "      <th>0</th>\n",
       "      <td>궁파스타</td>\n",
       "      <td>5.0</td>\n",
       "      <td>이탈리아 요리</td>\n",
       "      <td>영업 중</td>\n",
       "      <td>오전 12:00에 영업 종료</td>\n",
       "    </tr>\n",
       "    <tr>\n",
       "      <th>1</th>\n",
       "      <td>보칼리노</td>\n",
       "      <td>4.2</td>\n",
       "      <td>이탈리아 요리</td>\n",
       "      <td>영업 중</td>\n",
       "      <td>오후 2:30에 영업 종료 ⋅ 오후 5:30에 영업 재개</td>\n",
       "    </tr>\n",
       "    <tr>\n",
       "      <th>2</th>\n",
       "      <td>이태리식당</td>\n",
       "      <td>4.3</td>\n",
       "      <td>이탈리아 요리</td>\n",
       "      <td>영업 중</td>\n",
       "      <td>오후 4:00에 영업 종료 ⋅ 오후 5:00에 영업 재개</td>\n",
       "    </tr>\n",
       "    <tr>\n",
       "      <th>3</th>\n",
       "      <td>은테이블</td>\n",
       "      <td>5.0</td>\n",
       "      <td>이탈리아 요리</td>\n",
       "      <td>영업 중</td>\n",
       "      <td>오후 9:00에 영업 종료</td>\n",
       "    </tr>\n",
       "    <tr>\n",
       "      <th>4</th>\n",
       "      <td>피셔맨스키친 파주운정점</td>\n",
       "      <td>4.2</td>\n",
       "      <td>이탈리아 요리</td>\n",
       "      <td>영업 중</td>\n",
       "      <td>오후 3:00에 영업 종료 ⋅ 오후 5:00에 영업 재개</td>\n",
       "    </tr>\n",
       "    <tr>\n",
       "      <th>5</th>\n",
       "      <td>츄리츄리 시칠리안 식당</td>\n",
       "      <td>4.4</td>\n",
       "      <td>이탈리아 요리</td>\n",
       "      <td>영업 종료</td>\n",
       "      <td>화 오후 6:00에 영업 시작</td>\n",
       "    </tr>\n",
       "    <tr>\n",
       "      <th>6</th>\n",
       "      <td>다이너 야당역점</td>\n",
       "      <td>5.0</td>\n",
       "      <td>이탈리아 요리</td>\n",
       "      <td>영업 중</td>\n",
       "      <td>오후 10:00에 영업 종료</td>\n",
       "    </tr>\n",
       "    <tr>\n",
       "      <th>7</th>\n",
       "      <td>베르힐 이탈리안 레스토랑&amp;카페</td>\n",
       "      <td>4.2</td>\n",
       "      <td>이탈리아 요리</td>\n",
       "      <td>영업 중</td>\n",
       "      <td>오후 8:00에 영업 종료</td>\n",
       "    </tr>\n",
       "    <tr>\n",
       "      <th>8</th>\n",
       "      <td>까페컴온파주출판도시점</td>\n",
       "      <td>0</td>\n",
       "      <td>이탈리아 요리</td>\n",
       "      <td>영업 종료</td>\n",
       "      <td>화 오전 11:00에 영업 시작</td>\n",
       "    </tr>\n",
       "    <tr>\n",
       "      <th>9</th>\n",
       "      <td>Brot(브롯)</td>\n",
       "      <td>4.4</td>\n",
       "      <td>이탈리아 요리</td>\n",
       "      <td>영업 종료</td>\n",
       "      <td>오후 6:00에 영업 시작</td>\n",
       "    </tr>\n",
       "    <tr>\n",
       "      <th>10</th>\n",
       "      <td>셈플리체</td>\n",
       "      <td>0</td>\n",
       "      <td>이탈리아 요리</td>\n",
       "      <td>영업 종료</td>\n",
       "      <td>오후 12:00에 영업 시작</td>\n",
       "    </tr>\n",
       "    <tr>\n",
       "      <th>11</th>\n",
       "      <td>Ristorante Amedeo</td>\n",
       "      <td>4.3</td>\n",
       "      <td>이탈리아 요리</td>\n",
       "      <td>영업 종료</td>\n",
       "      <td>오후 12:00에 영업 시작</td>\n",
       "    </tr>\n",
       "    <tr>\n",
       "      <th>12</th>\n",
       "      <td>Made in Italy</td>\n",
       "      <td>4.7</td>\n",
       "      <td>이탈리아 요리</td>\n",
       "      <td>영업 종료</td>\n",
       "      <td>오전 11:00에 영업 시작</td>\n",
       "    </tr>\n",
       "    <tr>\n",
       "      <th>13</th>\n",
       "      <td>La Bruschetta</td>\n",
       "      <td>3.6</td>\n",
       "      <td>이탈리아 요리</td>\n",
       "      <td>영업 종료</td>\n",
       "      <td>오전 10:30에 영업 시작</td>\n",
       "    </tr>\n",
       "    <tr>\n",
       "      <th>14</th>\n",
       "      <td>Ristorante Julie's</td>\n",
       "      <td>4.3</td>\n",
       "      <td>이탈리아 요리</td>\n",
       "      <td>영업 종료</td>\n",
       "      <td>오전 11:30에 영업 시작</td>\n",
       "    </tr>\n",
       "    <tr>\n",
       "      <th>15</th>\n",
       "      <td>Cotto Restaurant</td>\n",
       "      <td>4.2</td>\n",
       "      <td>이탈리아 요리</td>\n",
       "      <td>영업 종료</td>\n",
       "      <td>오후 12:30에 영업 시작</td>\n",
       "    </tr>\n",
       "    <tr>\n",
       "      <th>16</th>\n",
       "      <td>al42 by Pasta Chef rione Monti</td>\n",
       "      <td>4.6</td>\n",
       "      <td>이탈리아 요리</td>\n",
       "      <td>영업 종료</td>\n",
       "      <td>오후 6:30에 영업 시작</td>\n",
       "    </tr>\n",
       "    <tr>\n",
       "      <th>17</th>\n",
       "      <td>La Vecchia Locanda</td>\n",
       "      <td>4.5</td>\n",
       "      <td>이탈리아 요리</td>\n",
       "      <td>영업 종료</td>\n",
       "      <td>오후 12:00에 영업 시작</td>\n",
       "    </tr>\n",
       "    <tr>\n",
       "      <th>18</th>\n",
       "      <td>LIVIN'Italy</td>\n",
       "      <td>4.5</td>\n",
       "      <td>이탈리아 요리</td>\n",
       "      <td>영업 종료</td>\n",
       "      <td>오후 7:00에 영업 시작</td>\n",
       "    </tr>\n",
       "    <tr>\n",
       "      <th>19</th>\n",
       "      <td>Il Gabriello</td>\n",
       "      <td>4.6</td>\n",
       "      <td>이탈리아 요리</td>\n",
       "      <td>영업 종료</td>\n",
       "      <td>오후 6:30에 영업 시작</td>\n",
       "    </tr>\n",
       "    <tr>\n",
       "      <th>20</th>\n",
       "      <td>La Vecchia Locanda</td>\n",
       "      <td>4.5</td>\n",
       "      <td>이탈리아 요리</td>\n",
       "      <td>영업 종료</td>\n",
       "      <td>오후 12:00에 영업 시작</td>\n",
       "    </tr>\n",
       "    <tr>\n",
       "      <th>21</th>\n",
       "      <td>LIVIN'Italy</td>\n",
       "      <td>4.5</td>\n",
       "      <td>이탈리아 요리</td>\n",
       "      <td>영업 종료</td>\n",
       "      <td>오후 7:00에 영업 시작</td>\n",
       "    </tr>\n",
       "    <tr>\n",
       "      <th>22</th>\n",
       "      <td>Il Gabriello</td>\n",
       "      <td>4.6</td>\n",
       "      <td>이탈리아 요리</td>\n",
       "      <td>영업 중</td>\n",
       "      <td>오후 10:00에 영업 종료</td>\n",
       "    </tr>\n",
       "    <tr>\n",
       "      <th>23</th>\n",
       "      <td>Italy 1 Camberwell</td>\n",
       "      <td>4.4</td>\n",
       "      <td>이탈리아 요리</td>\n",
       "      <td>영업 종료</td>\n",
       "      <td>화 오후 12:00에 영업 시작</td>\n",
       "    </tr>\n",
       "    <tr>\n",
       "      <th>24</th>\n",
       "      <td>The Restaurant Pendolino</td>\n",
       "      <td>4.5</td>\n",
       "      <td>이탈리아 요리</td>\n",
       "      <td>영업 종료</td>\n",
       "      <td>오전 9:00에 영업 시작</td>\n",
       "    </tr>\n",
       "    <tr>\n",
       "      <th>25</th>\n",
       "      <td>Scampo</td>\n",
       "      <td>3.7</td>\n",
       "      <td>이탈리아 요리</td>\n",
       "      <td>영업 종료</td>\n",
       "      <td>오후 12:00에 영업 시작</td>\n",
       "    </tr>\n",
       "    <tr>\n",
       "      <th>26</th>\n",
       "      <td>Alessio</td>\n",
       "      <td>4.3</td>\n",
       "      <td>이탈리아 요리</td>\n",
       "      <td>영업 종료</td>\n",
       "      <td>오전 11:00에 영업 시작</td>\n",
       "    </tr>\n",
       "    <tr>\n",
       "      <th>27</th>\n",
       "      <td>Ristorante Trattoria Antonio al Pantheon</td>\n",
       "      <td>4.5</td>\n",
       "      <td>음식점</td>\n",
       "      <td>영업 종료</td>\n",
       "      <td>오후 4:30에 영업 시작</td>\n",
       "    </tr>\n",
       "    <tr>\n",
       "      <th>28</th>\n",
       "      <td>Nerone</td>\n",
       "      <td>4.7</td>\n",
       "      <td>음식점</td>\n",
       "      <td>영업 종료</td>\n",
       "      <td>오전 11:45에 영업 시작</td>\n",
       "    </tr>\n",
       "    <tr>\n",
       "      <th>29</th>\n",
       "      <td>Borghiciana Pastificio Artigianale</td>\n",
       "      <td>4.7</td>\n",
       "      <td>음식점</td>\n",
       "      <td>영업 종료</td>\n",
       "      <td>오후 12:30에 영업 시작</td>\n",
       "    </tr>\n",
       "  </tbody>\n",
       "</table>\n",
       "</div>"
      ],
      "text/plain": [
       "                                        name reviews     type    now  \\\n",
       "0                                       궁파스타     5.0  이탈리아 요리   영업 중   \n",
       "1                                       보칼리노     4.2  이탈리아 요리   영업 중   \n",
       "2                                      이태리식당     4.3  이탈리아 요리   영업 중   \n",
       "3                                       은테이블     5.0  이탈리아 요리   영업 중   \n",
       "4                               피셔맨스키친 파주운정점     4.2  이탈리아 요리   영업 중   \n",
       "5                               츄리츄리 시칠리안 식당     4.4  이탈리아 요리  영업 종료   \n",
       "6                                   다이너 야당역점     5.0  이탈리아 요리   영업 중   \n",
       "7                           베르힐 이탈리안 레스토랑&카페     4.2  이탈리아 요리   영업 중   \n",
       "8                                까페컴온파주출판도시점       0  이탈리아 요리  영업 종료   \n",
       "9                                   Brot(브롯)     4.4  이탈리아 요리  영업 종료   \n",
       "10                                      셈플리체       0  이탈리아 요리  영업 종료   \n",
       "11                         Ristorante Amedeo     4.3  이탈리아 요리  영업 종료   \n",
       "12                             Made in Italy     4.7  이탈리아 요리  영업 종료   \n",
       "13                             La Bruschetta     3.6  이탈리아 요리  영업 종료   \n",
       "14                        Ristorante Julie's     4.3  이탈리아 요리  영업 종료   \n",
       "15                          Cotto Restaurant     4.2  이탈리아 요리  영업 종료   \n",
       "16            al42 by Pasta Chef rione Monti     4.6  이탈리아 요리  영업 종료   \n",
       "17                        La Vecchia Locanda     4.5  이탈리아 요리  영업 종료   \n",
       "18                               LIVIN'Italy     4.5  이탈리아 요리  영업 종료   \n",
       "19                              Il Gabriello     4.6  이탈리아 요리  영업 종료   \n",
       "20                        La Vecchia Locanda     4.5  이탈리아 요리  영업 종료   \n",
       "21                               LIVIN'Italy     4.5  이탈리아 요리  영업 종료   \n",
       "22                              Il Gabriello     4.6  이탈리아 요리   영업 중   \n",
       "23                        Italy 1 Camberwell     4.4  이탈리아 요리  영업 종료   \n",
       "24                  The Restaurant Pendolino     4.5  이탈리아 요리  영업 종료   \n",
       "25                                    Scampo     3.7  이탈리아 요리  영업 종료   \n",
       "26                                   Alessio     4.3  이탈리아 요리  영업 종료   \n",
       "27  Ristorante Trattoria Antonio al Pantheon     4.5      음식점  영업 종료   \n",
       "28                                    Nerone     4.7      음식점  영업 종료   \n",
       "29        Borghiciana Pastificio Artigianale     4.7      음식점  영업 종료   \n",
       "\n",
       "                              hours  \n",
       "0                   오전 12:00에 영업 종료  \n",
       "1   오후 2:30에 영업 종료 ⋅ 오후 5:30에 영업 재개  \n",
       "2   오후 4:00에 영업 종료 ⋅ 오후 5:00에 영업 재개  \n",
       "3                    오후 9:00에 영업 종료  \n",
       "4   오후 3:00에 영업 종료 ⋅ 오후 5:00에 영업 재개  \n",
       "5                  화 오후 6:00에 영업 시작  \n",
       "6                   오후 10:00에 영업 종료  \n",
       "7                    오후 8:00에 영업 종료  \n",
       "8                 화 오전 11:00에 영업 시작  \n",
       "9                    오후 6:00에 영업 시작  \n",
       "10                  오후 12:00에 영업 시작  \n",
       "11                  오후 12:00에 영업 시작  \n",
       "12                  오전 11:00에 영업 시작  \n",
       "13                  오전 10:30에 영업 시작  \n",
       "14                  오전 11:30에 영업 시작  \n",
       "15                  오후 12:30에 영업 시작  \n",
       "16                   오후 6:30에 영업 시작  \n",
       "17                  오후 12:00에 영업 시작  \n",
       "18                   오후 7:00에 영업 시작  \n",
       "19                   오후 6:30에 영업 시작  \n",
       "20                  오후 12:00에 영업 시작  \n",
       "21                   오후 7:00에 영업 시작  \n",
       "22                  오후 10:00에 영업 종료  \n",
       "23                화 오후 12:00에 영업 시작  \n",
       "24                   오전 9:00에 영업 시작  \n",
       "25                  오후 12:00에 영업 시작  \n",
       "26                  오전 11:00에 영업 시작  \n",
       "27                   오후 4:30에 영업 시작  \n",
       "28                  오전 11:45에 영업 시작  \n",
       "29                  오후 12:30에 영업 시작  "
      ]
     },
     "execution_count": 28,
     "metadata": {},
     "output_type": "execute_result"
    }
   ],
   "source": [
    "df = pd.DataFrame(zip(lists, rvs, food, now, opens), columns=['name', 'reviews', 'type', 'now', 'hours'])\n",
    "df"
   ]
  },
  {
   "cell_type": "markdown",
   "id": "2e4fb853-455e-4333-aadd-8dbde230ceae",
   "metadata": {},
   "source": [
    "# 링크 따기"
   ]
  },
  {
   "cell_type": "code",
   "execution_count": 29,
   "id": "4e6409e4-1f97-4429-b7cb-cea515ca3559",
   "metadata": {
    "tags": []
   },
   "outputs": [],
   "source": [
    "url = driver.current_url\n",
    "resp = requests.get(url)\n",
    "\n",
    "e = driver.find_elements(By.CLASS_NAME, 'hfpxzc')\n",
    "\n",
    "c = []\n",
    "for i in range(0, 30):\n",
    "    url = e[i].get_attribute('href')\n",
    "    c.append(url)"
   ]
  },
  {
   "cell_type": "code",
   "execution_count": 30,
   "id": "a73bb286-a0cd-4867-a930-78588bd09f3b",
   "metadata": {
    "collapsed": true,
    "jupyter": {
     "outputs_hidden": true
    },
    "tags": []
   },
   "outputs": [
    {
     "data": {
      "text/plain": [
       "['https://www.google.com/maps/place/%EA%B6%81%ED%8C%8C%EC%8A%A4%ED%83%80/data=!4m7!3m6!1s0x357c8de8b22b83d9:0x21c28536f8a2eb50!8m2!3d37.7583791!4d126.7727505!16s%2Fg%2F11t54txtl_!19sChIJ2YMrsuiNfDURUOui-DaFwiE?authuser=0&hl=ko&rclk=1',\n",
       " 'https://www.google.com/maps/place/%EB%B3%B4%EC%B9%BC%EB%A6%AC%EB%85%B8/data=!4m7!3m6!1s0x357ca29331a6b3d5:0xe6b889c485ee13cf!8m2!3d37.5704638!4d126.9755713!16s%2Fg%2F11gbxblpn0!19sChIJ1bOmMZOifDURzxPuhcSJuOY?authuser=0&hl=ko&rclk=1',\n",
       " 'https://www.google.com/maps/place/%EC%9D%B4%ED%83%9C%EB%A6%AC%EC%8B%9D%EB%8B%B9/data=!4m7!3m6!1s0x357c8fd2c54f9f09:0xea353c6c30a86a54!8m2!3d37.7362304!4d126.751657!16s%2Fg%2F11ft0rbqyh!19sChIJCZ9PxdKPfDURVGqoMGw8Neo?authuser=0&hl=ko&rclk=1',\n",
       " 'https://www.google.com/maps/place/%EC%9D%80%ED%85%8C%EC%9D%B4%EB%B8%94/data=!4m7!3m6!1s0x357c8d43ed760f25:0x32ce630bab7f0189!8m2!3d37.7518345!4d126.7797964!16s%2Fg%2F11qnfkjhbq!19sChIJJQ927UONfDURiQF_qwtjzjI?authuser=0&hl=ko&rclk=1',\n",
       " 'https://www.google.com/maps/place/%ED%94%BC%EC%85%94%EB%A7%A8%EC%8A%A4%ED%82%A4%EC%B9%9C+%ED%8C%8C%EC%A3%BC%EC%9A%B4%EC%A0%95%EC%A0%90/data=!4m7!3m6!1s0x357c8f16e9f4f6e1:0x62390fb4b904b3a!8m2!3d37.7197275!4d126.7387192!16s%2Fg%2F11h1m544bz!19sChIJ4fb06RaPfDUROkuQS_uQIwY?authuser=0&hl=ko&rclk=1',\n",
       " 'https://www.google.com/maps/place/%EC%B8%84%EB%A6%AC%EC%B8%84%EB%A6%AC+%EC%8B%9C%EC%B9%A0%EB%A6%AC%EC%95%88+%EC%8B%9D%EB%8B%B9/data=!4m7!3m6!1s0x357c98d02f89ac27:0x71441f9d0d688e3f!8m2!3d37.5484006!4d126.9213894!16s%2Fg%2F11c11w0n0c!19sChIJJ6yJL9CYfDURP45oDZ0fRHE?authuser=0&hl=ko&rclk=1',\n",
       " 'https://www.google.com/maps/place/%EB%8B%A4%EC%9D%B4%EB%84%88+%EC%95%BC%EB%8B%B9%EC%97%AD%EC%A0%90/data=!4m7!3m6!1s0x357c8f52dcf5eb41:0x140d6c38a8cab8cb!8m2!3d37.7188961!4d126.7614408!16s%2Fg%2F11t4z10fhh!19sChIJQev13FKPfDURy7jKqDhsDRQ?authuser=0&hl=ko&rclk=1',\n",
       " 'https://www.google.com/maps/place/%EB%B2%A0%EB%A5%B4%ED%9E%90+%EC%9D%B4%ED%83%88%EB%A6%AC%EC%95%88+%EB%A0%88%EC%8A%A4%ED%86%A0%EB%9E%91%26%EC%B9%B4%ED%8E%98/data=!4m7!3m6!1s0x357cbfc61ee1e103:0x1641a249c4e9f275!8m2!3d37.7154385!4d126.9819465!16s%2Fg%2F12hm0y7q7!19sChIJA-HhHsa_fDURdfLpxEmiQRY?authuser=0&hl=ko&rclk=1',\n",
       " 'https://www.google.com/maps/place/%EA%B9%8C%ED%8E%98%EC%BB%B4%EC%98%A8%ED%8C%8C%EC%A3%BC%EC%B6%9C%ED%8C%90%EB%8F%84%EC%8B%9C%EC%A0%90/data=!4m7!3m6!1s0x357c88af9d06b341:0x87c69e5b2bc1c297!8m2!3d37.7598688!4d126.7801781!16s%2Fg%2F1wc2_51w!19sChIJQbMGna-IfDURl8LBK1uexoc?authuser=0&hl=ko&rclk=1',\n",
       " 'https://www.google.com/maps/place/Brot(%EB%B8%8C%EB%A1%AF)/data=!4m7!3m6!1s0x357c8efeab265da7:0x195eab957f0b2b1f!8m2!3d37.7274288!4d126.7368429!16s%2Fg%2F11fxdtvkdg!19sChIJp10mq_6OfDURHysLf5WrXhk?authuser=0&hl=ko&rclk=1',\n",
       " 'https://www.google.com/maps/place/%EC%85%88%ED%94%8C%EB%A6%AC%EC%B2%B4/data=!4m7!3m6!1s0x357c8f759d5aa5fd:0x4cc38669a961c8cc!8m2!3d37.7319264!4d126.7508809!16s%2Fg%2F11t31vzb95!19sChIJ_aVanXWPfDURzMhhqWmGw0w?authuser=0&hl=ko&rclk=1',\n",
       " 'https://www.google.com/maps/place/Ristorante+Amedeo/data=!4m7!3m6!1s0x132f61a446c91b91:0x23e84a1859b89b4e!8m2!3d41.9000484!4d12.4984768!16s%2Fg%2F11b64l13m5!19sChIJkRvJRqRhLxMRTpu4WRhK6CM?authuser=0&hl=ko&rclk=1',\n",
       " 'https://www.google.com/maps/place/Made+in+Italy/data=!4m7!3m6!1s0x487add5bfe3dd113:0x11ffb2f16d9e2fe!8m2!3d53.1993392!4d-2.8764366!16s%2Fg%2F11hbvb3nrp!19sChIJE9E9_lvdekgR_uLZFi_7HwE?authuser=0&hl=ko&rclk=1',\n",
       " 'https://www.google.com/maps/place/La+Bruschetta/data=!4m7!3m6!1s0x132f61072d87b8e9:0xb39b455b2fc8c6eb!8m2!3d41.9090069!4d12.4899428!16s%2Fg%2F1td0jyyv!19sChIJ6biHLQdhLxMR68bIL1tFm7M?authuser=0&hl=ko&rclk=1',\n",
       " \"https://www.google.com/maps/place/Ristorante+Julie's/data=!4m7!3m6!1s0x132f61a0422a04c3:0x7cdabb03f9bfec92!8m2!3d41.9041686!4d12.5049988!16s%2Fg%2F1td1xlkm!19sChIJwwQqQqBhLxMRkuy_-QO72nw?authuser=0&hl=ko&rclk=1\",\n",
       " 'https://www.google.com/maps/place/Cotto+Restaurant/data=!4m7!3m6!1s0x132f61a5fe5f40ef:0x244a1f48146ccec1!8m2!3d41.9016013!4d12.4956017!16s%2Fg%2F1jljzj509!19sChIJ70Bf_qVhLxMRwc5sFEgfSiQ?authuser=0&hl=ko&rclk=1',\n",
       " 'https://www.google.com/maps/place/al42+by+Pasta+Chef+rione+Monti/data=!4m7!3m6!1s0x132f61b17e6e8489:0x33db5bf87e8493b6!8m2!3d41.894807!4d12.4897611!16s%2Fg%2F11bwqbv3f8!19sChIJiYRufrFhLxMRtpOEfvhb2zM?authuser=0&hl=ko&rclk=1',\n",
       " 'https://www.google.com/maps/place/La+Vecchia+Locanda/data=!4m7!3m6!1s0x132f604e572af4e1:0x31b5ba95a76c3ba3!8m2!3d41.8968393!4d12.4762499!16s%2Fg%2F1tv6t241!19sChIJ4fQqV05gLxMRoztsp5W6tTE?authuser=0&hl=ko&rclk=1',\n",
       " \"https://www.google.com/maps/place/LIVIN'Italy/data=!4m7!3m6!1s0x48795c1fbb7e1f4b:0x493d6686026c0fea!8m2!3d53.7936817!4d-1.5490509!16s%2Fg%2F1s048_3wl!19sChIJSx9-ux9ceUgR6g9sAoZmPUk?authuser=0&hl=ko&rclk=1\",\n",
       " 'https://www.google.com/maps/place/Il+Gabriello/data=!4m7!3m6!1s0x132f6055b92dcbcf:0x8bdfe470e4662981!8m2!3d41.9068527!4d12.4799166!16s%2Fg%2F1ttrtz76!19sChIJz8stuVVgLxMRgSlm5HDk34s?authuser=0&hl=ko&rclk=1',\n",
       " 'https://www.google.com/maps/place/La+Vecchia+Locanda/data=!4m7!3m6!1s0x132f604e572af4e1:0x31b5ba95a76c3ba3!8m2!3d41.8968393!4d12.4762499!16s%2Fg%2F1tv6t241!19sChIJ4fQqV05gLxMRoztsp5W6tTE?authuser=0&hl=ko&rclk=1',\n",
       " \"https://www.google.com/maps/place/LIVIN'Italy/data=!4m7!3m6!1s0x48795c1fbb7e1f4b:0x493d6686026c0fea!8m2!3d53.7936817!4d-1.5490509!16s%2Fg%2F1s048_3wl!19sChIJSx9-ux9ceUgR6g9sAoZmPUk?authuser=0&hl=ko&rclk=1\",\n",
       " 'https://www.google.com/maps/place/Il+Gabriello/data=!4m7!3m6!1s0x132f6055b92dcbcf:0x8bdfe470e4662981!8m2!3d41.9068527!4d12.4799166!16s%2Fg%2F1ttrtz76!19sChIJz8stuVVgLxMRgSlm5HDk34s?authuser=0&hl=ko&rclk=1',\n",
       " 'https://www.google.com/maps/place/Italy+1+Camberwell/data=!4m7!3m6!1s0x6ad64183af003b47:0x61fad04109d47067!8m2!3d-37.828532!4d145.057047!16s%2Fg%2F1w1129xv!19sChIJRzsAr4NB1moRZ3DUCUHQ-mE?authuser=0&hl=ko&rclk=1',\n",
       " 'https://www.google.com/maps/place/The+Restaurant+Pendolino/data=!4m7!3m6!1s0x6b12ae3f74e15c2f:0x252775ec28d73380!8m2!3d-33.8694151!4d151.2071166!16s%2Fg%2F1v6p4fsw!19sChIJL1zhdD-uEmsRgDPXKOx1JyU?authuser=0&hl=ko&rclk=1',\n",
       " 'https://www.google.com/maps/place/Scampo/data=!4m7!3m6!1s0x132f60458dbd8897:0x9a91406ff02d078f!8m2!3d41.896009!4d12.4717137!16s%2Fg%2F11gb409q55!19sChIJl4i9jUVgLxMRjwct8G9AkZo?authuser=0&hl=ko&rclk=1',\n",
       " 'https://www.google.com/maps/place/Alessio/data=!4m7!3m6!1s0x132f61a5c2bb3b19:0xde3e96e975ff01c8!8m2!3d41.9009265!4d12.4970464!16s%2Fg%2F1tx17hs4!19sChIJGTu7wqVhLxMRyAH_demWPt4?authuser=0&hl=ko&rclk=1',\n",
       " 'https://www.google.com/maps/place/Ristorante+Trattoria+Antonio+al+Pantheon/data=!4m7!3m6!1s0x132f60521db60dc9:0xa8e8b52be700087f!8m2!3d41.8994482!4d12.4775991!16s%2Fg%2F1td3c8lb!19sChIJyQ22HVJgLxMRfwgA5yu16Kg?authuser=0&hl=ko&rclk=1',\n",
       " 'https://www.google.com/maps/place/Nerone/data=!4m7!3m6!1s0x132f61a5dd6d121b:0xe1cec88c833f72f8!8m2!3d41.9010851!4d12.4968924!16s%2Fg%2F11c6cd09s7!19sChIJGxJt3aVhLxMR-HI_g4zIzuE?authuser=0&hl=ko&rclk=1',\n",
       " 'https://www.google.com/maps/place/Borghiciana+Pastificio+Artigianale/data=!4m7!3m6!1s0x132f60562a1309bd:0x4a833fb9a81d817f!8m2!3d41.9037358!4d12.4621894!16s%2Fg%2F11gczz6_ny!19sChIJvQkTKlZgLxMRf4EdqLk_g0o?authuser=0&hl=ko&rclk=1']"
      ]
     },
     "execution_count": 30,
     "metadata": {},
     "output_type": "execute_result"
    }
   ],
   "source": [
    "c"
   ]
  },
  {
   "cell_type": "code",
   "execution_count": 31,
   "id": "48693ad1-12de-47a8-8c37-8edc901e2de6",
   "metadata": {},
   "outputs": [
    {
     "data": {
      "text/plain": [
       "30"
      ]
     },
     "execution_count": 31,
     "metadata": {},
     "output_type": "execute_result"
    }
   ],
   "source": [
    "len(c)"
   ]
  },
  {
   "cell_type": "code",
   "execution_count": 32,
   "id": "93b13f62-cc97-4be9-a4b4-ae6bda208aaa",
   "metadata": {},
   "outputs": [],
   "source": [
    "df['link'] = c"
   ]
  },
  {
   "cell_type": "code",
   "execution_count": 33,
   "id": "d4ba2405-3329-4928-ba16-3cc5c9d87a8d",
   "metadata": {
    "tags": []
   },
   "outputs": [
    {
     "data": {
      "text/html": [
       "<div>\n",
       "<style scoped>\n",
       "    .dataframe tbody tr th:only-of-type {\n",
       "        vertical-align: middle;\n",
       "    }\n",
       "\n",
       "    .dataframe tbody tr th {\n",
       "        vertical-align: top;\n",
       "    }\n",
       "\n",
       "    .dataframe thead th {\n",
       "        text-align: right;\n",
       "    }\n",
       "</style>\n",
       "<table border=\"1\" class=\"dataframe\">\n",
       "  <thead>\n",
       "    <tr style=\"text-align: right;\">\n",
       "      <th></th>\n",
       "      <th>name</th>\n",
       "      <th>reviews</th>\n",
       "      <th>type</th>\n",
       "      <th>now</th>\n",
       "      <th>hours</th>\n",
       "      <th>link</th>\n",
       "    </tr>\n",
       "  </thead>\n",
       "  <tbody>\n",
       "    <tr>\n",
       "      <th>0</th>\n",
       "      <td>궁파스타</td>\n",
       "      <td>5.0</td>\n",
       "      <td>이탈리아 요리</td>\n",
       "      <td>영업 중</td>\n",
       "      <td>오전 12:00에 영업 종료</td>\n",
       "      <td>https://www.google.com/maps/place/%EA%B6%81%ED...</td>\n",
       "    </tr>\n",
       "    <tr>\n",
       "      <th>1</th>\n",
       "      <td>보칼리노</td>\n",
       "      <td>4.2</td>\n",
       "      <td>이탈리아 요리</td>\n",
       "      <td>영업 중</td>\n",
       "      <td>오후 2:30에 영업 종료 ⋅ 오후 5:30에 영업 재개</td>\n",
       "      <td>https://www.google.com/maps/place/%EB%B3%B4%EC...</td>\n",
       "    </tr>\n",
       "    <tr>\n",
       "      <th>2</th>\n",
       "      <td>이태리식당</td>\n",
       "      <td>4.3</td>\n",
       "      <td>이탈리아 요리</td>\n",
       "      <td>영업 중</td>\n",
       "      <td>오후 4:00에 영업 종료 ⋅ 오후 5:00에 영업 재개</td>\n",
       "      <td>https://www.google.com/maps/place/%EC%9D%B4%ED...</td>\n",
       "    </tr>\n",
       "  </tbody>\n",
       "</table>\n",
       "</div>"
      ],
      "text/plain": [
       "    name reviews     type   now                            hours  \\\n",
       "0   궁파스타     5.0  이탈리아 요리  영업 중                  오전 12:00에 영업 종료   \n",
       "1   보칼리노     4.2  이탈리아 요리  영업 중  오후 2:30에 영업 종료 ⋅ 오후 5:30에 영업 재개   \n",
       "2  이태리식당     4.3  이탈리아 요리  영업 중  오후 4:00에 영업 종료 ⋅ 오후 5:00에 영업 재개   \n",
       "\n",
       "                                                link  \n",
       "0  https://www.google.com/maps/place/%EA%B6%81%ED...  \n",
       "1  https://www.google.com/maps/place/%EB%B3%B4%EC...  \n",
       "2  https://www.google.com/maps/place/%EC%9D%B4%ED...  "
      ]
     },
     "execution_count": 33,
     "metadata": {},
     "output_type": "execute_result"
    }
   ],
   "source": [
    "df[:3]"
   ]
  },
  {
   "cell_type": "markdown",
   "id": "cd162bd3-280b-4719-96e3-5e5f2158f514",
   "metadata": {
    "tags": []
   },
   "source": [
    "## 위치 포함한 탑10"
   ]
  },
  {
   "cell_type": "code",
   "execution_count": 34,
   "id": "0741ed23-032d-4178-8095-dbde713480fb",
   "metadata": {
    "tags": []
   },
   "outputs": [
    {
     "data": {
      "text/html": [
       "<div>\n",
       "<style scoped>\n",
       "    .dataframe tbody tr th:only-of-type {\n",
       "        vertical-align: middle;\n",
       "    }\n",
       "\n",
       "    .dataframe tbody tr th {\n",
       "        vertical-align: top;\n",
       "    }\n",
       "\n",
       "    .dataframe thead th {\n",
       "        text-align: right;\n",
       "    }\n",
       "</style>\n",
       "<table border=\"1\" class=\"dataframe\">\n",
       "  <thead>\n",
       "    <tr style=\"text-align: right;\">\n",
       "      <th></th>\n",
       "      <th>name</th>\n",
       "      <th>reviews</th>\n",
       "      <th>type</th>\n",
       "      <th>now</th>\n",
       "      <th>hours</th>\n",
       "      <th>link</th>\n",
       "    </tr>\n",
       "  </thead>\n",
       "  <tbody>\n",
       "    <tr>\n",
       "      <th>0</th>\n",
       "      <td>궁파스타</td>\n",
       "      <td>5.0</td>\n",
       "      <td>이탈리아 요리</td>\n",
       "      <td>영업 중</td>\n",
       "      <td>오전 12:00에 영업 종료</td>\n",
       "      <td>https://www.google.com/maps/place/%EA%B6%81%ED...</td>\n",
       "    </tr>\n",
       "    <tr>\n",
       "      <th>1</th>\n",
       "      <td>다이너 야당역점</td>\n",
       "      <td>5.0</td>\n",
       "      <td>이탈리아 요리</td>\n",
       "      <td>영업 중</td>\n",
       "      <td>오후 10:00에 영업 종료</td>\n",
       "      <td>https://www.google.com/maps/place/%EB%8B%A4%EC...</td>\n",
       "    </tr>\n",
       "    <tr>\n",
       "      <th>2</th>\n",
       "      <td>은테이블</td>\n",
       "      <td>5.0</td>\n",
       "      <td>이탈리아 요리</td>\n",
       "      <td>영업 중</td>\n",
       "      <td>오후 9:00에 영업 종료</td>\n",
       "      <td>https://www.google.com/maps/place/%EC%9D%80%ED...</td>\n",
       "    </tr>\n",
       "  </tbody>\n",
       "</table>\n",
       "</div>"
      ],
      "text/plain": [
       "       name reviews     type   now            hours  \\\n",
       "0      궁파스타     5.0  이탈리아 요리  영업 중  오전 12:00에 영업 종료   \n",
       "1  다이너 야당역점     5.0  이탈리아 요리  영업 중  오후 10:00에 영업 종료   \n",
       "2      은테이블     5.0  이탈리아 요리  영업 중   오후 9:00에 영업 종료   \n",
       "\n",
       "                                                link  \n",
       "0  https://www.google.com/maps/place/%EA%B6%81%ED...  \n",
       "1  https://www.google.com/maps/place/%EB%8B%A4%EC...  \n",
       "2  https://www.google.com/maps/place/%EC%9D%80%ED...  "
      ]
     },
     "execution_count": 34,
     "metadata": {},
     "output_type": "execute_result"
    }
   ],
   "source": [
    "df.sort_values(by=['reviews'], ascending=False, inplace=True)\n",
    "df.reset_index(drop=True, inplace=True)\n",
    "df[:3]"
   ]
  },
  {
   "cell_type": "code",
   "execution_count": 35,
   "id": "97e65133-d259-491b-84c7-c67febe4691a",
   "metadata": {
    "tags": []
   },
   "outputs": [
    {
     "data": {
      "text/html": [
       "<div>\n",
       "<style scoped>\n",
       "    .dataframe tbody tr th:only-of-type {\n",
       "        vertical-align: middle;\n",
       "    }\n",
       "\n",
       "    .dataframe tbody tr th {\n",
       "        vertical-align: top;\n",
       "    }\n",
       "\n",
       "    .dataframe thead th {\n",
       "        text-align: right;\n",
       "    }\n",
       "</style>\n",
       "<table border=\"1\" class=\"dataframe\">\n",
       "  <thead>\n",
       "    <tr style=\"text-align: right;\">\n",
       "      <th></th>\n",
       "      <th>name</th>\n",
       "      <th>reviews</th>\n",
       "      <th>type</th>\n",
       "      <th>now</th>\n",
       "      <th>hours</th>\n",
       "      <th>link</th>\n",
       "    </tr>\n",
       "  </thead>\n",
       "  <tbody>\n",
       "    <tr>\n",
       "      <th>0</th>\n",
       "      <td>궁파스타</td>\n",
       "      <td>5.0</td>\n",
       "      <td>이탈리아 요리</td>\n",
       "      <td>영업 중</td>\n",
       "      <td>오전 12:00에 영업 종료</td>\n",
       "      <td>https://www.google.com/maps/place/%EA%B6%81%ED...</td>\n",
       "    </tr>\n",
       "    <tr>\n",
       "      <th>1</th>\n",
       "      <td>다이너 야당역점</td>\n",
       "      <td>5.0</td>\n",
       "      <td>이탈리아 요리</td>\n",
       "      <td>영업 중</td>\n",
       "      <td>오후 10:00에 영업 종료</td>\n",
       "      <td>https://www.google.com/maps/place/%EB%8B%A4%EC...</td>\n",
       "    </tr>\n",
       "    <tr>\n",
       "      <th>2</th>\n",
       "      <td>은테이블</td>\n",
       "      <td>5.0</td>\n",
       "      <td>이탈리아 요리</td>\n",
       "      <td>영업 중</td>\n",
       "      <td>오후 9:00에 영업 종료</td>\n",
       "      <td>https://www.google.com/maps/place/%EC%9D%80%ED...</td>\n",
       "    </tr>\n",
       "    <tr>\n",
       "      <th>3</th>\n",
       "      <td>Nerone</td>\n",
       "      <td>4.7</td>\n",
       "      <td>음식점</td>\n",
       "      <td>영업 종료</td>\n",
       "      <td>오전 11:45에 영업 시작</td>\n",
       "      <td>https://www.google.com/maps/place/Nerone/data=...</td>\n",
       "    </tr>\n",
       "    <tr>\n",
       "      <th>4</th>\n",
       "      <td>Made in Italy</td>\n",
       "      <td>4.7</td>\n",
       "      <td>이탈리아 요리</td>\n",
       "      <td>영업 종료</td>\n",
       "      <td>오전 11:00에 영업 시작</td>\n",
       "      <td>https://www.google.com/maps/place/Made+in+Ital...</td>\n",
       "    </tr>\n",
       "    <tr>\n",
       "      <th>5</th>\n",
       "      <td>Borghiciana Pastificio Artigianale</td>\n",
       "      <td>4.7</td>\n",
       "      <td>음식점</td>\n",
       "      <td>영업 종료</td>\n",
       "      <td>오후 12:30에 영업 시작</td>\n",
       "      <td>https://www.google.com/maps/place/Borghiciana+...</td>\n",
       "    </tr>\n",
       "    <tr>\n",
       "      <th>6</th>\n",
       "      <td>al42 by Pasta Chef rione Monti</td>\n",
       "      <td>4.6</td>\n",
       "      <td>이탈리아 요리</td>\n",
       "      <td>영업 종료</td>\n",
       "      <td>오후 6:30에 영업 시작</td>\n",
       "      <td>https://www.google.com/maps/place/al42+by+Past...</td>\n",
       "    </tr>\n",
       "    <tr>\n",
       "      <th>7</th>\n",
       "      <td>Il Gabriello</td>\n",
       "      <td>4.6</td>\n",
       "      <td>이탈리아 요리</td>\n",
       "      <td>영업 중</td>\n",
       "      <td>오후 10:00에 영업 종료</td>\n",
       "      <td>https://www.google.com/maps/place/Il+Gabriello...</td>\n",
       "    </tr>\n",
       "    <tr>\n",
       "      <th>8</th>\n",
       "      <td>Il Gabriello</td>\n",
       "      <td>4.6</td>\n",
       "      <td>이탈리아 요리</td>\n",
       "      <td>영업 종료</td>\n",
       "      <td>오후 6:30에 영업 시작</td>\n",
       "      <td>https://www.google.com/maps/place/Il+Gabriello...</td>\n",
       "    </tr>\n",
       "    <tr>\n",
       "      <th>9</th>\n",
       "      <td>LIVIN'Italy</td>\n",
       "      <td>4.5</td>\n",
       "      <td>이탈리아 요리</td>\n",
       "      <td>영업 종료</td>\n",
       "      <td>오후 7:00에 영업 시작</td>\n",
       "      <td>https://www.google.com/maps/place/LIVIN'Italy/...</td>\n",
       "    </tr>\n",
       "  </tbody>\n",
       "</table>\n",
       "</div>"
      ],
      "text/plain": [
       "                                 name reviews     type    now  \\\n",
       "0                                궁파스타     5.0  이탈리아 요리   영업 중   \n",
       "1                            다이너 야당역점     5.0  이탈리아 요리   영업 중   \n",
       "2                                은테이블     5.0  이탈리아 요리   영업 중   \n",
       "3                              Nerone     4.7      음식점  영업 종료   \n",
       "4                       Made in Italy     4.7  이탈리아 요리  영업 종료   \n",
       "5  Borghiciana Pastificio Artigianale     4.7      음식점  영업 종료   \n",
       "6      al42 by Pasta Chef rione Monti     4.6  이탈리아 요리  영업 종료   \n",
       "7                        Il Gabriello     4.6  이탈리아 요리   영업 중   \n",
       "8                        Il Gabriello     4.6  이탈리아 요리  영업 종료   \n",
       "9                         LIVIN'Italy     4.5  이탈리아 요리  영업 종료   \n",
       "\n",
       "             hours                                               link  \n",
       "0  오전 12:00에 영업 종료  https://www.google.com/maps/place/%EA%B6%81%ED...  \n",
       "1  오후 10:00에 영업 종료  https://www.google.com/maps/place/%EB%8B%A4%EC...  \n",
       "2   오후 9:00에 영업 종료  https://www.google.com/maps/place/%EC%9D%80%ED...  \n",
       "3  오전 11:45에 영업 시작  https://www.google.com/maps/place/Nerone/data=...  \n",
       "4  오전 11:00에 영업 시작  https://www.google.com/maps/place/Made+in+Ital...  \n",
       "5  오후 12:30에 영업 시작  https://www.google.com/maps/place/Borghiciana+...  \n",
       "6   오후 6:30에 영업 시작  https://www.google.com/maps/place/al42+by+Past...  \n",
       "7  오후 10:00에 영업 종료  https://www.google.com/maps/place/Il+Gabriello...  \n",
       "8   오후 6:30에 영업 시작  https://www.google.com/maps/place/Il+Gabriello...  \n",
       "9   오후 7:00에 영업 시작  https://www.google.com/maps/place/LIVIN'Italy/...  "
      ]
     },
     "execution_count": 35,
     "metadata": {},
     "output_type": "execute_result"
    }
   ],
   "source": [
    "upper = df.iloc[:10, :]\n",
    "upper"
   ]
  },
  {
   "cell_type": "markdown",
   "id": "216fbc94-a764-40b4-8d25-2f25b93044dc",
   "metadata": {
    "tags": []
   },
   "source": [
    "# 지도"
   ]
  },
  {
   "cell_type": "code",
   "execution_count": 36,
   "id": "4d99efba-5d7c-4f9c-9341-35b633b6d055",
   "metadata": {
    "tags": []
   },
   "outputs": [
    {
     "data": {
      "text/plain": [
       "['궁파스타, italy',\n",
       " '다이너 야당역점, italy',\n",
       " '은테이블, italy',\n",
       " 'Nerone, italy',\n",
       " 'Made in Italy, italy',\n",
       " 'Borghiciana Pastificio Artigianale, italy',\n",
       " 'al42 by Pasta Chef rione Monti, italy',\n",
       " 'Il Gabriello, italy',\n",
       " 'Il Gabriello, italy',\n",
       " \"LIVIN'Italy, italy\"]"
      ]
     },
     "execution_count": 36,
     "metadata": {},
     "output_type": "execute_result"
    }
   ],
   "source": [
    "locat_li = []\n",
    "for i in range(0, len(upper)):\n",
    "    locat_li.append(upper['name'][i]+','+' '+location)\n",
    "\n",
    "locat_li"
   ]
  },
  {
   "cell_type": "code",
   "execution_count": 37,
   "id": "7ffe10e3-aae2-49db-b89e-1597dc7a1fa3",
   "metadata": {},
   "outputs": [
    {
     "data": {
      "text/plain": [
       "10"
      ]
     },
     "execution_count": 37,
     "metadata": {},
     "output_type": "execute_result"
    }
   ],
   "source": [
    "len(locat_li)"
   ]
  },
  {
   "cell_type": "markdown",
   "id": "77682af0-2095-4773-a41e-d94151254c3a",
   "metadata": {},
   "source": [
    "## 위도 경도 찾기"
   ]
  },
  {
   "cell_type": "code",
   "execution_count": 38,
   "id": "f2dab096-151f-4e4b-87fa-a798d6867cb7",
   "metadata": {},
   "outputs": [],
   "source": [
    "import re"
   ]
  },
  {
   "cell_type": "code",
   "execution_count": 39,
   "id": "04dacf3d-b6a1-4c7f-9681-c48a5917b81b",
   "metadata": {
    "jupyter": {
     "source_hidden": true
    },
    "tags": []
   },
   "outputs": [
    {
     "data": {
      "text/plain": [
       "['37.7583791', '126.7727505']"
      ]
     },
     "execution_count": 39,
     "metadata": {},
     "output_type": "execute_result"
    }
   ],
   "source": [
    "p = re.compile('[^d]\\d+\\.\\d+')\n",
    "p.findall(upper['link'][0])"
   ]
  },
  {
   "cell_type": "code",
   "execution_count": 40,
   "id": "7f31d4cd-3082-4b31-825b-e3fa3d0c8a63",
   "metadata": {},
   "outputs": [
    {
     "ename": "AttributeError",
     "evalue": "'NoneType' object has no attribute 'group'",
     "output_type": "error",
     "traceback": [
      "\u001b[1;31m---------------------------------------------------------------------------\u001b[0m",
      "\u001b[1;31mAttributeError\u001b[0m                            Traceback (most recent call last)",
      "Input \u001b[1;32mIn [40]\u001b[0m, in \u001b[0;36m<cell line: 3>\u001b[1;34m()\u001b[0m\n\u001b[0;32m      4\u001b[0m     p \u001b[38;5;241m=\u001b[39m re\u001b[38;5;241m.\u001b[39mcompile(\u001b[38;5;124m'\u001b[39m\u001b[38;5;124m(\u001b[39m\u001b[38;5;124m\\\u001b[39m\u001b[38;5;124md+\u001b[39m\u001b[38;5;124m\\\u001b[39m\u001b[38;5;124m.\u001b[39m\u001b[38;5;124m\\\u001b[39m\u001b[38;5;124md+)[!]\u001b[39m\u001b[38;5;124m\\\u001b[39m\u001b[38;5;124md\u001b[39m\u001b[38;5;132;01m{1}\u001b[39;00m\u001b[38;5;124m[d](\u001b[39m\u001b[38;5;124m\\\u001b[39m\u001b[38;5;124md+\u001b[39m\u001b[38;5;124m\\\u001b[39m\u001b[38;5;124m.\u001b[39m\u001b[38;5;124m\\\u001b[39m\u001b[38;5;124md+)\u001b[39m\u001b[38;5;124m'\u001b[39m)\n\u001b[0;32m      5\u001b[0m     coord \u001b[38;5;241m=\u001b[39m p\u001b[38;5;241m.\u001b[39mfindall(upper[\u001b[38;5;124m'\u001b[39m\u001b[38;5;124mlink\u001b[39m\u001b[38;5;124m'\u001b[39m][i])\n\u001b[1;32m----> 6\u001b[0m     lat\u001b[38;5;241m.\u001b[39mappend(\u001b[43mp\u001b[49m\u001b[38;5;241;43m.\u001b[39;49m\u001b[43msearch\u001b[49m\u001b[43m(\u001b[49m\u001b[43mupper\u001b[49m\u001b[43m[\u001b[49m\u001b[38;5;124;43m'\u001b[39;49m\u001b[38;5;124;43mlink\u001b[39;49m\u001b[38;5;124;43m'\u001b[39;49m\u001b[43m]\u001b[49m\u001b[43m[\u001b[49m\u001b[43mi\u001b[49m\u001b[43m]\u001b[49m\u001b[43m)\u001b[49m\u001b[38;5;241;43m.\u001b[39;49m\u001b[43mgroup\u001b[49m(\u001b[38;5;241m1\u001b[39m))\n\u001b[0;32m      7\u001b[0m     long\u001b[38;5;241m.\u001b[39mappend(p\u001b[38;5;241m.\u001b[39msearch(upper[\u001b[38;5;124m'\u001b[39m\u001b[38;5;124mlink\u001b[39m\u001b[38;5;124m'\u001b[39m][i])\u001b[38;5;241m.\u001b[39mgroup(\u001b[38;5;241m2\u001b[39m))\n\u001b[0;32m      9\u001b[0m upper[\u001b[38;5;124m'\u001b[39m\u001b[38;5;124mlatitude\u001b[39m\u001b[38;5;124m'\u001b[39m] \u001b[38;5;241m=\u001b[39m lat\n",
      "\u001b[1;31mAttributeError\u001b[0m: 'NoneType' object has no attribute 'group'"
     ]
    }
   ],
   "source": [
    "lat = []\n",
    "long = []\n",
    "for i in range(0, len(upper['link'])):\n",
    "    p = re.compile('(\\d+\\.\\d+)[!]\\d{1}[d](\\d+\\.\\d+)')\n",
    "    coord = p.findall(upper['link'][i])\n",
    "    lat.append(p.search(upper['link'][i]).group(1))\n",
    "    long.append(p.search(upper['link'][i]).group(2))\n",
    "\n",
    "upper['latitude'] = lat\n",
    "upper['longitude'] = long\n",
    "upper"
   ]
  },
  {
   "cell_type": "code",
   "execution_count": 41,
   "id": "1056c53d-b765-4eca-a0c0-88c7d14e628f",
   "metadata": {},
   "outputs": [],
   "source": [
    "import requests\n",
    "import pandas as pd\n",
    "import numpy as np\n",
    "import folium\n",
    "from folium.plugins import MiniMap"
   ]
  },
  {
   "cell_type": "code",
   "execution_count": 42,
   "id": "21ff3312-e878-44ef-a8e8-563f8fb18675",
   "metadata": {
    "tags": []
   },
   "outputs": [],
   "source": [
    "def make_map(dfs):\n",
    "    # 지도 생성하기\n",
    "    m = folium.Map(location=[upper['latitude'][0],upper['longitude'][0]],   # 기준좌표: 서울시청\n",
    "                   zoom_start=12)\n",
    "\n",
    "    # 미니맵 추가하기\n",
    "    minimap = MiniMap() \n",
    "    m.add_child(minimap)\n",
    "\n",
    "    # 마커 추가하기\n",
    "    for i in range(len(dfs)):\n",
    "        popup_text = f'''<a href={upper.iloc[i].link} target='_blank'>\n",
    "                    {upper.iloc[i]['name']}</a> 별점: {upper.iloc[i]['reviews']}<br>\n",
    "                    영업중: {upper.iloc[i]['now']}<br>\n",
    "                    영업시간: {upper.iloc[i]['hours']}<br>'''\n",
    "\n",
    "        #팝업 크기 조절\n",
    "        popup = folium.Popup(popup_text, min_width=100, max_width=300)\n",
    "    \n",
    "        # 마커 생성\n",
    "        folium.Marker([upper['latitude'][i],upper['longitude'][i]],\n",
    "                  tooltip=upper['name'][i],\n",
    "                  popup=popup, \n",
    "                      icon=folium.Icon(color='red', icon='info-sign')).add_to(m)\n",
    "    return m"
   ]
  },
  {
   "cell_type": "code",
   "execution_count": 43,
   "id": "6084835b-9d4c-40bd-8eca-8c08a6814f5d",
   "metadata": {
    "tags": []
   },
   "outputs": [
    {
     "ename": "KeyError",
     "evalue": "'latitude'",
     "output_type": "error",
     "traceback": [
      "\u001b[1;31m---------------------------------------------------------------------------\u001b[0m",
      "\u001b[1;31mKeyError\u001b[0m                                  Traceback (most recent call last)",
      "File \u001b[1;32m~\\anaconda3\\lib\\site-packages\\pandas\\core\\indexes\\base.py:3621\u001b[0m, in \u001b[0;36mIndex.get_loc\u001b[1;34m(self, key, method, tolerance)\u001b[0m\n\u001b[0;32m   3620\u001b[0m \u001b[38;5;28;01mtry\u001b[39;00m:\n\u001b[1;32m-> 3621\u001b[0m     \u001b[38;5;28;01mreturn\u001b[39;00m \u001b[38;5;28;43mself\u001b[39;49m\u001b[38;5;241;43m.\u001b[39;49m\u001b[43m_engine\u001b[49m\u001b[38;5;241;43m.\u001b[39;49m\u001b[43mget_loc\u001b[49m\u001b[43m(\u001b[49m\u001b[43mcasted_key\u001b[49m\u001b[43m)\u001b[49m\n\u001b[0;32m   3622\u001b[0m \u001b[38;5;28;01mexcept\u001b[39;00m \u001b[38;5;167;01mKeyError\u001b[39;00m \u001b[38;5;28;01mas\u001b[39;00m err:\n",
      "File \u001b[1;32m~\\anaconda3\\lib\\site-packages\\pandas\\_libs\\index.pyx:136\u001b[0m, in \u001b[0;36mpandas._libs.index.IndexEngine.get_loc\u001b[1;34m()\u001b[0m\n",
      "File \u001b[1;32m~\\anaconda3\\lib\\site-packages\\pandas\\_libs\\index.pyx:163\u001b[0m, in \u001b[0;36mpandas._libs.index.IndexEngine.get_loc\u001b[1;34m()\u001b[0m\n",
      "File \u001b[1;32mpandas\\_libs\\hashtable_class_helper.pxi:5198\u001b[0m, in \u001b[0;36mpandas._libs.hashtable.PyObjectHashTable.get_item\u001b[1;34m()\u001b[0m\n",
      "File \u001b[1;32mpandas\\_libs\\hashtable_class_helper.pxi:5206\u001b[0m, in \u001b[0;36mpandas._libs.hashtable.PyObjectHashTable.get_item\u001b[1;34m()\u001b[0m\n",
      "\u001b[1;31mKeyError\u001b[0m: 'latitude'",
      "\nThe above exception was the direct cause of the following exception:\n",
      "\u001b[1;31mKeyError\u001b[0m                                  Traceback (most recent call last)",
      "Input \u001b[1;32mIn [43]\u001b[0m, in \u001b[0;36m<cell line: 1>\u001b[1;34m()\u001b[0m\n\u001b[1;32m----> 1\u001b[0m \u001b[43mmake_map\u001b[49m\u001b[43m(\u001b[49m\u001b[43mupper\u001b[49m\u001b[43m)\u001b[49m\n",
      "Input \u001b[1;32mIn [42]\u001b[0m, in \u001b[0;36mmake_map\u001b[1;34m(dfs)\u001b[0m\n\u001b[0;32m      1\u001b[0m \u001b[38;5;28;01mdef\u001b[39;00m \u001b[38;5;21mmake_map\u001b[39m(dfs):\n\u001b[0;32m      2\u001b[0m     \u001b[38;5;66;03m# 지도 생성하기\u001b[39;00m\n\u001b[1;32m----> 3\u001b[0m     m \u001b[38;5;241m=\u001b[39m folium\u001b[38;5;241m.\u001b[39mMap(location\u001b[38;5;241m=\u001b[39m[\u001b[43mupper\u001b[49m\u001b[43m[\u001b[49m\u001b[38;5;124;43m'\u001b[39;49m\u001b[38;5;124;43mlatitude\u001b[39;49m\u001b[38;5;124;43m'\u001b[39;49m\u001b[43m]\u001b[49m[\u001b[38;5;241m0\u001b[39m],upper[\u001b[38;5;124m'\u001b[39m\u001b[38;5;124mlongitude\u001b[39m\u001b[38;5;124m'\u001b[39m][\u001b[38;5;241m0\u001b[39m]],   \u001b[38;5;66;03m# 기준좌표: 서울시청\u001b[39;00m\n\u001b[0;32m      4\u001b[0m                    zoom_start\u001b[38;5;241m=\u001b[39m\u001b[38;5;241m12\u001b[39m)\n\u001b[0;32m      6\u001b[0m     \u001b[38;5;66;03m# 미니맵 추가하기\u001b[39;00m\n\u001b[0;32m      7\u001b[0m     minimap \u001b[38;5;241m=\u001b[39m MiniMap() \n",
      "File \u001b[1;32m~\\anaconda3\\lib\\site-packages\\pandas\\core\\frame.py:3505\u001b[0m, in \u001b[0;36mDataFrame.__getitem__\u001b[1;34m(self, key)\u001b[0m\n\u001b[0;32m   3503\u001b[0m \u001b[38;5;28;01mif\u001b[39;00m \u001b[38;5;28mself\u001b[39m\u001b[38;5;241m.\u001b[39mcolumns\u001b[38;5;241m.\u001b[39mnlevels \u001b[38;5;241m>\u001b[39m \u001b[38;5;241m1\u001b[39m:\n\u001b[0;32m   3504\u001b[0m     \u001b[38;5;28;01mreturn\u001b[39;00m \u001b[38;5;28mself\u001b[39m\u001b[38;5;241m.\u001b[39m_getitem_multilevel(key)\n\u001b[1;32m-> 3505\u001b[0m indexer \u001b[38;5;241m=\u001b[39m \u001b[38;5;28;43mself\u001b[39;49m\u001b[38;5;241;43m.\u001b[39;49m\u001b[43mcolumns\u001b[49m\u001b[38;5;241;43m.\u001b[39;49m\u001b[43mget_loc\u001b[49m\u001b[43m(\u001b[49m\u001b[43mkey\u001b[49m\u001b[43m)\u001b[49m\n\u001b[0;32m   3506\u001b[0m \u001b[38;5;28;01mif\u001b[39;00m is_integer(indexer):\n\u001b[0;32m   3507\u001b[0m     indexer \u001b[38;5;241m=\u001b[39m [indexer]\n",
      "File \u001b[1;32m~\\anaconda3\\lib\\site-packages\\pandas\\core\\indexes\\base.py:3623\u001b[0m, in \u001b[0;36mIndex.get_loc\u001b[1;34m(self, key, method, tolerance)\u001b[0m\n\u001b[0;32m   3621\u001b[0m     \u001b[38;5;28;01mreturn\u001b[39;00m \u001b[38;5;28mself\u001b[39m\u001b[38;5;241m.\u001b[39m_engine\u001b[38;5;241m.\u001b[39mget_loc(casted_key)\n\u001b[0;32m   3622\u001b[0m \u001b[38;5;28;01mexcept\u001b[39;00m \u001b[38;5;167;01mKeyError\u001b[39;00m \u001b[38;5;28;01mas\u001b[39;00m err:\n\u001b[1;32m-> 3623\u001b[0m     \u001b[38;5;28;01mraise\u001b[39;00m \u001b[38;5;167;01mKeyError\u001b[39;00m(key) \u001b[38;5;28;01mfrom\u001b[39;00m \u001b[38;5;21;01merr\u001b[39;00m\n\u001b[0;32m   3624\u001b[0m \u001b[38;5;28;01mexcept\u001b[39;00m \u001b[38;5;167;01mTypeError\u001b[39;00m:\n\u001b[0;32m   3625\u001b[0m     \u001b[38;5;66;03m# If we have a listlike key, _check_indexing_error will raise\u001b[39;00m\n\u001b[0;32m   3626\u001b[0m     \u001b[38;5;66;03m#  InvalidIndexError. Otherwise we fall through and re-raise\u001b[39;00m\n\u001b[0;32m   3627\u001b[0m     \u001b[38;5;66;03m#  the TypeError.\u001b[39;00m\n\u001b[0;32m   3628\u001b[0m     \u001b[38;5;28mself\u001b[39m\u001b[38;5;241m.\u001b[39m_check_indexing_error(key)\n",
      "\u001b[1;31mKeyError\u001b[0m: 'latitude'"
     ]
    }
   ],
   "source": [
    "make_map(upper)"
   ]
  },
  {
   "cell_type": "code",
   "execution_count": null,
   "id": "6ef048d9-32f1-4cab-aa92-3c5f59eedbf7",
   "metadata": {},
   "outputs": [],
   "source": []
  },
  {
   "cell_type": "code",
   "execution_count": null,
   "id": "2084fb45-2416-4da1-933a-41a96fee6aaf",
   "metadata": {},
   "outputs": [],
   "source": [
    "-------------------------------------"
   ]
  },
  {
   "cell_type": "code",
   "execution_count": 52,
   "id": "971f6628-c7cf-484d-a13d-cf99fe199275",
   "metadata": {},
   "outputs": [
    {
     "ename": "NoSuchWindowException",
     "evalue": "Message: no such window: target window already closed\nfrom unknown error: web view not found\n  (Session info: chrome=107.0.5304.88)\nStacktrace:\nBacktrace:\n\tOrdinal0 [0x0058ACD3+2075859]\n\tOrdinal0 [0x0051EE61+1633889]\n\tOrdinal0 [0x0041B7BD+571325]\n\tOrdinal0 [0x00402E1A+470554]\n\tOrdinal0 [0x0046AA0B+895499]\n\tOrdinal0 [0x0047AC96+961686]\n\tOrdinal0 [0x00467136+880950]\n\tOrdinal0 [0x0043FEFD+720637]\n\tOrdinal0 [0x00440F3F+724799]\n\tGetHandleVerifier [0x0083EED2+2769538]\n\tGetHandleVerifier [0x00830D95+2711877]\n\tGetHandleVerifier [0x0061A03A+521194]\n\tGetHandleVerifier [0x00618DA0+516432]\n\tOrdinal0 [0x0052682C+1665068]\n\tOrdinal0 [0x0052B128+1683752]\n\tOrdinal0 [0x0052B215+1683989]\n\tOrdinal0 [0x00536484+1729668]\n\tBaseThreadInitThunk [0x75E8FA29+25]\n\tRtlGetAppContainerNamedObjectPath [0x76F47A7E+286]\n\tRtlGetAppContainerNamedObjectPath [0x76F47A4E+238]\n",
     "output_type": "error",
     "traceback": [
      "\u001b[1;31m---------------------------------------------------------------------------\u001b[0m",
      "\u001b[1;31mNoSuchWindowException\u001b[0m                     Traceback (most recent call last)",
      "Input \u001b[1;32mIn [52]\u001b[0m, in \u001b[0;36m<cell line: 1>\u001b[1;34m()\u001b[0m\n\u001b[1;32m----> 1\u001b[0m url \u001b[38;5;241m=\u001b[39m \u001b[43mdriver\u001b[49m\u001b[38;5;241;43m.\u001b[39;49m\u001b[43mcurrent_url\u001b[49m\n\u001b[0;32m      2\u001b[0m resp \u001b[38;5;241m=\u001b[39m requests\u001b[38;5;241m.\u001b[39mget(url)\n\u001b[0;32m      4\u001b[0m e \u001b[38;5;241m=\u001b[39m driver\u001b[38;5;241m.\u001b[39mfind_elements(By\u001b[38;5;241m.\u001b[39mCLASS_NAME, \u001b[38;5;124m'\u001b[39m\u001b[38;5;124mplace_bluelink.TYaxT\u001b[39m\u001b[38;5;124m'\u001b[39m)\n",
      "File \u001b[1;32m~\\anaconda3\\lib\\site-packages\\selenium\\webdriver\\remote\\webdriver.py:528\u001b[0m, in \u001b[0;36mWebDriver.current_url\u001b[1;34m(self)\u001b[0m\n\u001b[0;32m    518\u001b[0m \u001b[38;5;129m@property\u001b[39m\n\u001b[0;32m    519\u001b[0m \u001b[38;5;28;01mdef\u001b[39;00m \u001b[38;5;21mcurrent_url\u001b[39m(\u001b[38;5;28mself\u001b[39m) \u001b[38;5;241m-\u001b[39m\u001b[38;5;241m>\u001b[39m \u001b[38;5;28mstr\u001b[39m:\n\u001b[0;32m    520\u001b[0m     \u001b[38;5;124;03m\"\"\"\u001b[39;00m\n\u001b[0;32m    521\u001b[0m \u001b[38;5;124;03m    Gets the URL of the current page.\u001b[39;00m\n\u001b[0;32m    522\u001b[0m \n\u001b[1;32m   (...)\u001b[0m\n\u001b[0;32m    526\u001b[0m \u001b[38;5;124;03m            driver.current_url\u001b[39;00m\n\u001b[0;32m    527\u001b[0m \u001b[38;5;124;03m    \"\"\"\u001b[39;00m\n\u001b[1;32m--> 528\u001b[0m     \u001b[38;5;28;01mreturn\u001b[39;00m \u001b[38;5;28;43mself\u001b[39;49m\u001b[38;5;241;43m.\u001b[39;49m\u001b[43mexecute\u001b[49m\u001b[43m(\u001b[49m\u001b[43mCommand\u001b[49m\u001b[38;5;241;43m.\u001b[39;49m\u001b[43mGET_CURRENT_URL\u001b[49m\u001b[43m)\u001b[49m[\u001b[38;5;124m'\u001b[39m\u001b[38;5;124mvalue\u001b[39m\u001b[38;5;124m'\u001b[39m]\n",
      "File \u001b[1;32m~\\anaconda3\\lib\\site-packages\\selenium\\webdriver\\remote\\webdriver.py:429\u001b[0m, in \u001b[0;36mWebDriver.execute\u001b[1;34m(self, driver_command, params)\u001b[0m\n\u001b[0;32m    427\u001b[0m response \u001b[38;5;241m=\u001b[39m \u001b[38;5;28mself\u001b[39m\u001b[38;5;241m.\u001b[39mcommand_executor\u001b[38;5;241m.\u001b[39mexecute(driver_command, params)\n\u001b[0;32m    428\u001b[0m \u001b[38;5;28;01mif\u001b[39;00m response:\n\u001b[1;32m--> 429\u001b[0m     \u001b[38;5;28;43mself\u001b[39;49m\u001b[38;5;241;43m.\u001b[39;49m\u001b[43merror_handler\u001b[49m\u001b[38;5;241;43m.\u001b[39;49m\u001b[43mcheck_response\u001b[49m\u001b[43m(\u001b[49m\u001b[43mresponse\u001b[49m\u001b[43m)\u001b[49m\n\u001b[0;32m    430\u001b[0m     response[\u001b[38;5;124m'\u001b[39m\u001b[38;5;124mvalue\u001b[39m\u001b[38;5;124m'\u001b[39m] \u001b[38;5;241m=\u001b[39m \u001b[38;5;28mself\u001b[39m\u001b[38;5;241m.\u001b[39m_unwrap_value(\n\u001b[0;32m    431\u001b[0m         response\u001b[38;5;241m.\u001b[39mget(\u001b[38;5;124m'\u001b[39m\u001b[38;5;124mvalue\u001b[39m\u001b[38;5;124m'\u001b[39m, \u001b[38;5;28;01mNone\u001b[39;00m))\n\u001b[0;32m    432\u001b[0m     \u001b[38;5;28;01mreturn\u001b[39;00m response\n",
      "File \u001b[1;32m~\\anaconda3\\lib\\site-packages\\selenium\\webdriver\\remote\\errorhandler.py:243\u001b[0m, in \u001b[0;36mErrorHandler.check_response\u001b[1;34m(self, response)\u001b[0m\n\u001b[0;32m    241\u001b[0m         alert_text \u001b[38;5;241m=\u001b[39m value[\u001b[38;5;124m'\u001b[39m\u001b[38;5;124malert\u001b[39m\u001b[38;5;124m'\u001b[39m]\u001b[38;5;241m.\u001b[39mget(\u001b[38;5;124m'\u001b[39m\u001b[38;5;124mtext\u001b[39m\u001b[38;5;124m'\u001b[39m)\n\u001b[0;32m    242\u001b[0m     \u001b[38;5;28;01mraise\u001b[39;00m exception_class(message, screen, stacktrace, alert_text)  \u001b[38;5;66;03m# type: ignore[call-arg]  # mypy is not smart enough here\u001b[39;00m\n\u001b[1;32m--> 243\u001b[0m \u001b[38;5;28;01mraise\u001b[39;00m exception_class(message, screen, stacktrace)\n",
      "\u001b[1;31mNoSuchWindowException\u001b[0m: Message: no such window: target window already closed\nfrom unknown error: web view not found\n  (Session info: chrome=107.0.5304.88)\nStacktrace:\nBacktrace:\n\tOrdinal0 [0x0058ACD3+2075859]\n\tOrdinal0 [0x0051EE61+1633889]\n\tOrdinal0 [0x0041B7BD+571325]\n\tOrdinal0 [0x00402E1A+470554]\n\tOrdinal0 [0x0046AA0B+895499]\n\tOrdinal0 [0x0047AC96+961686]\n\tOrdinal0 [0x00467136+880950]\n\tOrdinal0 [0x0043FEFD+720637]\n\tOrdinal0 [0x00440F3F+724799]\n\tGetHandleVerifier [0x0083EED2+2769538]\n\tGetHandleVerifier [0x00830D95+2711877]\n\tGetHandleVerifier [0x0061A03A+521194]\n\tGetHandleVerifier [0x00618DA0+516432]\n\tOrdinal0 [0x0052682C+1665068]\n\tOrdinal0 [0x0052B128+1683752]\n\tOrdinal0 [0x0052B215+1683989]\n\tOrdinal0 [0x00536484+1729668]\n\tBaseThreadInitThunk [0x75E8FA29+25]\n\tRtlGetAppContainerNamedObjectPath [0x76F47A7E+286]\n\tRtlGetAppContainerNamedObjectPath [0x76F47A4E+238]\n"
     ]
    }
   ],
   "source": [
    "url = driver.current_url\n",
    "resp = requests.get(url)\n",
    "\n",
    "e = driver.find_elements(By.CLASS_NAME, 'place_bluelink.TYaxT')\n",
    "\n",
    "l = []\n",
    "for i in range(2, 22):\n",
    "    e[i].click()\n",
    "    driver.switch_to.parent_frame()\n",
    "    driver.switch_to.frame('entryIframe')    \n",
    "    ScrollDown(3)\n",
    "    com = driver.find_elements(By.CLASS_NAME, 'nWiXa')\n",
    "    if len(com) == 0:\n",
    "        l.append('x')\n",
    "        l.append('x')\n",
    "        l.append('x')\n",
    "        l.append('x')\n",
    "        l.append('x')\n",
    "    else:\n",
    "        for j in range(0, len(com)):\n",
    "            l.append(com[j].text)\n",
    "    driver.switch_to.parent_frame()\n",
    "    driver.switch_to.frame('searchIframe')\n"
   ]
  },
  {
   "cell_type": "code",
   "execution_count": null,
   "id": "1cb10fb1-bd0a-4aa6-8b95-0f965d275be7",
   "metadata": {},
   "outputs": [],
   "source": []
  }
 ],
 "metadata": {
  "kernelspec": {
   "display_name": "Python 3 (ipykernel)",
   "language": "python",
   "name": "python3"
  },
  "language_info": {
   "codemirror_mode": {
    "name": "ipython",
    "version": 3
   },
   "file_extension": ".py",
   "mimetype": "text/x-python",
   "name": "python",
   "nbconvert_exporter": "python",
   "pygments_lexer": "ipython3",
   "version": "3.9.12"
  }
 },
 "nbformat": 4,
 "nbformat_minor": 5
}
