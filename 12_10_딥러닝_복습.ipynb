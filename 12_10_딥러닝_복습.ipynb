{
  "nbformat": 4,
  "nbformat_minor": 0,
  "metadata": {
    "colab": {
      "provenance": [],
      "authorship_tag": "ABX9TyMWwdMRilQfDJy+5mTLNfuj",
      "include_colab_link": true
    },
    "kernelspec": {
      "name": "python3",
      "display_name": "Python 3"
    },
    "language_info": {
      "name": "python"
    }
  },
  "cells": [
    {
      "cell_type": "markdown",
      "metadata": {
        "id": "view-in-github",
        "colab_type": "text"
      },
      "source": [
        "<a href=\"https://colab.research.google.com/github/limlimlim99/limjihyeonjjang/blob/main/12_10_%EB%94%A5%EB%9F%AC%EB%8B%9D_%EB%B3%B5%EC%8A%B5.ipynb\" target=\"_parent\"><img src=\"https://colab.research.google.com/assets/colab-badge.svg\" alt=\"Open In Colab\"/></a>"
      ]
    },
    {
      "cell_type": "code",
      "execution_count": 6,
      "metadata": {
        "id": "H8gFlEyOHioi"
      },
      "outputs": [],
      "source": [
        "# mnist샘플 불러오기\n",
        "from tensorflow.keras.datasets import mnist\n",
        "(train_images, train_labels), (test_images, test_labels)=mnist.load_data()"
      ]
    },
    {
      "cell_type": "code",
      "source": [
        "train_images.shape"
      ],
      "metadata": {
        "colab": {
          "base_uri": "https://localhost:8080/"
        },
        "id": "q-x8KoWbItzt",
        "outputId": "17ebae6a-b549-42fc-8093-33317c44fa40"
      },
      "execution_count": 2,
      "outputs": [
        {
          "output_type": "execute_result",
          "data": {
            "text/plain": [
              "(60000, 28, 28)"
            ]
          },
          "metadata": {},
          "execution_count": 2
        }
      ]
    },
    {
      "cell_type": "code",
      "source": [
        "len(train_labels)"
      ],
      "metadata": {
        "colab": {
          "base_uri": "https://localhost:8080/"
        },
        "id": "gRqoPmIPIxVt",
        "outputId": "2d54bcb8-8e2c-4c08-8ea4-08d296d98621"
      },
      "execution_count": 3,
      "outputs": [
        {
          "output_type": "execute_result",
          "data": {
            "text/plain": [
              "60000"
            ]
          },
          "metadata": {},
          "execution_count": 3
        }
      ]
    },
    {
      "cell_type": "code",
      "source": [
        "test_images.shape"
      ],
      "metadata": {
        "colab": {
          "base_uri": "https://localhost:8080/"
        },
        "id": "vzoywTgkI0sZ",
        "outputId": "70856fcb-ae4a-40f3-d814-88d70929e329"
      },
      "execution_count": 4,
      "outputs": [
        {
          "output_type": "execute_result",
          "data": {
            "text/plain": [
              "(10000, 28, 28)"
            ]
          },
          "metadata": {},
          "execution_count": 4
        }
      ]
    },
    {
      "cell_type": "code",
      "source": [
        "len(test_images)"
      ],
      "metadata": {
        "colab": {
          "base_uri": "https://localhost:8080/"
        },
        "id": "nG0p2T02I4oO",
        "outputId": "3bc1e326-321b-4ee8-eaef-b6b36d02c523"
      },
      "execution_count": 5,
      "outputs": [
        {
          "output_type": "execute_result",
          "data": {
            "text/plain": [
              "10000"
            ]
          },
          "metadata": {},
          "execution_count": 5
        }
      ]
    },
    {
      "cell_type": "code",
      "source": [
        "#Sequential 모델은 순차적으로 레이어 층을 더해주기 때문에 순차모델이라 불리고 만들기도 쉽다."
      ],
      "metadata": {
        "id": "AZHfZM89MO9i"
      },
      "execution_count": null,
      "outputs": []
    },
    {
      "cell_type": "code",
      "source": [
        "# 신경망 만들기\n",
        "from tensorflow import keras\n",
        "from tensorflow.keras import layers\n",
        "model = keras.Sequential([\n",
        "    layers.Dense(512, activation=\"relu\"),\n",
        "    layers.Dense(10, activation=\"softmax\")\n",
        "])\n",
        "\n",
        "# 신경망의 핵심 구성 요소는 층이다. 층= 데이터를 위한 필터.\n",
        "# fully connected(완전연결, 조밀하게 연결된 신경망층)Dense 층 2개\n",
        "# 마지막 층은 10개의 확률 점수가 들어가 있는 배열을 반환하는 소프트맥스 분류층(배열을 모두 더하면 1임)"
      ],
      "metadata": {
        "id": "Ef3XQJt3I7FG"
      },
      "execution_count": 8,
      "outputs": []
    },
    {
      "cell_type": "code",
      "source": [
        "from tensorflow.python import metrics\n",
        "# 컴파일 단계\n",
        "model.compile(optimizer=\"rmsprop\",\n",
        "              loss=\"sparse_categorical_crossentropy\",\n",
        "              metrics=[\"accuracy\"])"
      ],
      "metadata": {
        "id": "Fos6t3iSJY1A"
      },
      "execution_count": 9,
      "outputs": []
    },
    {
      "cell_type": "code",
      "source": [
        "# 훈련을 시작하기 전에 데이터를 모델에 맞는 크기로 바꾸고 모든 값을 0과1사이로 스케일을 조정\n",
        "# [0,255] 사이의 값인 uint8 타입의 (60000, 28, 28)크기를 가진 배열로 저장되어있는 것을 0과1사이의 값을 가지는 flaot32타입으로 변경해줘야함"
      ],
      "metadata": {
        "id": "ai-gKkSXKxiZ"
      },
      "execution_count": null,
      "outputs": []
    },
    {
      "cell_type": "code",
      "source": [
        "# 이미지 데이터 준비하기\n",
        "train_images = train_images.reshape((60000, 28*28))\n",
        "train_images = train_images.astype(\"float32\") / 255\n",
        "test_images = test_images.reshape((10000, 28*28))\n",
        "test_images = test_images.astype(\"float32\") / 255"
      ],
      "metadata": {
        "id": "zirPo7L-LWtM"
      },
      "execution_count": 10,
      "outputs": []
    },
    {
      "cell_type": "code",
      "source": [
        "# fit()메서드를 호출하여 훈련 모델에 학습시키기\n",
        "model.fit(train_images, train_labels, epochs=5, batch_size=128)"
      ],
      "metadata": {
        "colab": {
          "base_uri": "https://localhost:8080/"
        },
        "id": "b9UWqY7pLwZO",
        "outputId": "f55e2938-e1a5-4567-ba0f-b265378005f7"
      },
      "execution_count": 11,
      "outputs": [
        {
          "output_type": "stream",
          "name": "stdout",
          "text": [
            "Epoch 1/5\n",
            "469/469 [==============================] - 3s 5ms/step - loss: 0.2539 - accuracy: 0.9268\n",
            "Epoch 2/5\n",
            "469/469 [==============================] - 3s 5ms/step - loss: 0.1028 - accuracy: 0.9692\n",
            "Epoch 3/5\n",
            "469/469 [==============================] - 3s 5ms/step - loss: 0.0680 - accuracy: 0.9796\n",
            "Epoch 4/5\n",
            "469/469 [==============================] - 3s 5ms/step - loss: 0.0506 - accuracy: 0.9848\n",
            "Epoch 5/5\n",
            "469/469 [==============================] - 3s 5ms/step - loss: 0.0372 - accuracy: 0.9888\n"
          ]
        },
        {
          "output_type": "execute_result",
          "data": {
            "text/plain": [
              "<keras.callbacks.History at 0x7f14a98c8940>"
            ]
          },
          "metadata": {},
          "execution_count": 11
        }
      ]
    },
    {
      "cell_type": "code",
      "source": [
        "# 모델을 사용하여 예측 만들기\n",
        "test_digits = test_images[0:10]\n",
        "predictions = model.predict(test_digits)\n",
        "predictions[0]\n",
        "\n",
        "# 출력된 배열의 인덱스 i에 있는 숫자 이미지는 test_digits[0]이 클래스i에 속할 확률에 해당함"
      ],
      "metadata": {
        "colab": {
          "base_uri": "https://localhost:8080/"
        },
        "id": "_zN_vP92L_KY",
        "outputId": "a568db91-48da-4b1f-9430-267a5fcbf596"
      },
      "execution_count": 12,
      "outputs": [
        {
          "output_type": "stream",
          "name": "stdout",
          "text": [
            "1/1 [==============================] - 0s 48ms/step\n"
          ]
        },
        {
          "output_type": "execute_result",
          "data": {
            "text/plain": [
              "array([1.3758698e-09, 1.6049991e-10, 3.1312447e-06, 4.0327865e-04,\n",
              "       3.8273756e-11, 1.5918818e-08, 1.8722723e-14, 9.9959081e-01,\n",
              "       1.2575283e-07, 2.7403612e-06], dtype=float32)"
            ]
          },
          "metadata": {},
          "execution_count": 12
        }
      ]
    },
    {
      "cell_type": "code",
      "source": [
        "predictions[0].argmax()\n",
        "# 출력값의 7이 가장 큰 확률을 가짐"
      ],
      "metadata": {
        "colab": {
          "base_uri": "https://localhost:8080/"
        },
        "id": "3JsPLvn4Mk33",
        "outputId": "688ecff5-73d1-4106-e524-491186995431"
      },
      "execution_count": 13,
      "outputs": [
        {
          "output_type": "execute_result",
          "data": {
            "text/plain": [
              "7"
            ]
          },
          "metadata": {},
          "execution_count": 13
        }
      ]
    },
    {
      "cell_type": "code",
      "source": [
        "predictions[0][7]\n",
        "# 7의 값"
      ],
      "metadata": {
        "colab": {
          "base_uri": "https://localhost:8080/"
        },
        "id": "ULOvIkBCNCQB",
        "outputId": "203b9f8d-f91a-438d-d986-187e323e40a3"
      },
      "execution_count": 16,
      "outputs": [
        {
          "output_type": "execute_result",
          "data": {
            "text/plain": [
              "0.9995908"
            ]
          },
          "metadata": {},
          "execution_count": 16
        }
      ]
    },
    {
      "cell_type": "code",
      "source": [
        "# 전체 테스트 세트에 대해 평균적인 정확도 계산\n",
        "# 새로운 데이터에 모델 평가하기\n",
        "test_loss, test_acc = model.evaluate(test_images, test_labels)\n",
        "print(f\"테스트 정확도:{test_acc}\")"
      ],
      "metadata": {
        "colab": {
          "base_uri": "https://localhost:8080/"
        },
        "id": "Hga-8OPwNFx3",
        "outputId": "8f889a42-4d47-4936-a16f-e4a42fcf373b"
      },
      "execution_count": 18,
      "outputs": [
        {
          "output_type": "stream",
          "name": "stdout",
          "text": [
            "313/313 [==============================] - 1s 2ms/step - loss: 0.0694 - accuracy: 0.9786\n",
            "테스트 정확도:0.978600025177002\n"
          ]
        }
      ]
    },
    {
      "cell_type": "code",
      "source": [
        "# 테스트 정확도는 훈련세트정확도보다 약간 낮음\n",
        "# 훈련 정확도와 테스트 정확도 사이의 차이는 과대적합 때문임"
      ],
      "metadata": {
        "id": "VgTvwOUAN3i8"
      },
      "execution_count": null,
      "outputs": []
    },
    {
      "cell_type": "code",
      "source": [
        "------------------------------------------------------"
      ],
      "metadata": {
        "id": "X_Omyc-kOqWS"
      },
      "execution_count": null,
      "outputs": []
    },
    {
      "cell_type": "code",
      "source": [
        "# 텐서: 데이터를 위한 컨테이너(담아두는 공간)\n",
        "# 일반적으로 수치형 데이터를 다루므로 숫자를 위한 컨테이너임\n",
        "# 텐서는 임의의 차원 개수를 가지는 행렬의 일반화된 모습(텐서에서는 차원을 종종 축(axis)라고 부름)"
      ],
      "metadata": {
        "id": "2bWIcmnvOuxm"
      },
      "execution_count": 19,
      "outputs": []
    },
    {
      "cell_type": "code",
      "source": [
        "# 텐서: 다차원 배열\n",
        "# 배열: np.array\n",
        "# 벡터: 1차원 배열\n",
        "# 행렬: 2차원 배열\n",
        "# 텐서: 3차원 이상 배열"
      ],
      "metadata": {
        "id": "VbqyyLTbO163"
      },
      "execution_count": 20,
      "outputs": []
    },
    {
      "cell_type": "code",
      "source": [
        "# mnist데이터 불러오기\n",
        "from tensorflow.keras.datasets import mnist\n",
        "(train_images, train_labels), (test_images, test_labels) =mnist.load_data()"
      ],
      "metadata": {
        "id": "uiMc5zzbPwZa"
      },
      "execution_count": 24,
      "outputs": []
    },
    {
      "cell_type": "code",
      "source": [
        "# 텐서를 이용해 다섯번째 이미지 출력하기\n",
        "import matplotlib.pyplot as plt\n",
        "\n",
        "digit = train_images[4]\n",
        "plt.imshow(digit, cmap=plt.cm.binary)\n",
        "plt.show()"
      ],
      "metadata": {
        "colab": {
          "base_uri": "https://localhost:8080/",
          "height": 265
        },
        "id": "16fyR88oPT8l",
        "outputId": "4dc65d13-65cd-45c3-b16d-29745338f9e2"
      },
      "execution_count": 26,
      "outputs": [
        {
          "output_type": "display_data",
          "data": {
            "text/plain": [
              "<Figure size 432x288 with 1 Axes>"
            ],
            "image/png": "[encoded data removed]"
          },
          "metadata": {
            "needs_background": "light"
          }
        }
      ]
    },
    {
      "cell_type": "code",
      "source": [
        "# 텐서의 실제 사례\n",
        "\n",
        "# 벡터 데이터(samples, features): 크기의 랭크-2 텐서, 각 샘플은 수치 속성(특성)으로 구성된 벡터\n",
        "# 시계열 데이터 또는 시퀀스 데이터: (samples, timesteps, features)크기의 랭크-3텐서, 각 샘플은 특성 벡터의 길이가 timesteps인 시퀀스\n",
        "# 이미지: (samples, height, width, channels) 또는 (samples, channels, height, width)크기의 랭크-4텐서. 각 샘플은 픽셀의 2D격자고 각 픽셀은 수치값(채널channel)의 벡터임\n",
        "# 동영상: (samples, frames, height, width, channels) 또는 (samples, frames, channels, height, width)크기의 랭크-5텐서. 각 샘플은 이미지의 길이가frames인 시퀀스"
      ],
      "metadata": {
        "id": "mki7tNlIPtO8"
      },
      "execution_count": null,
      "outputs": []
    },
    {
      "cell_type": "code",
      "source": [
        "---------------------------"
      ],
      "metadata": {
        "id": "SigMw6UwRoES"
      },
      "execution_count": null,
      "outputs": []
    },
    {
      "cell_type": "code",
      "source": [
        "# 텐서 연산"
      ],
      "metadata": {
        "id": "L-llav-CUwWR"
      },
      "execution_count": null,
      "outputs": []
    },
    {
      "cell_type": "code",
      "source": [
        "# 원소별 연산\n",
        "\n",
        "#for문\n",
        "def naive_relu(x):\n",
        "    assert len(x.shape) == 2\n",
        "    x = x.copy()\n",
        "    for i in range(x.shape[0]):\n",
        "        for j in range(x.shape[1]):\n",
        "            x[i, j] = max(x[i, j], 0)\n",
        "    return x"
      ],
      "metadata": {
        "id": "3dPY-70nUycR"
      },
      "execution_count": 52,
      "outputs": []
    },
    {
      "cell_type": "code",
      "source": [
        "# 덧셈\n",
        "def naive_add(x, y):\n",
        "    assert len(x.shape) == 2\n",
        "    assert x.shape == y.shape\n",
        "    x = x.copy()\n",
        "    for i in range(x.shape[0]):\n",
        "        for j in range(x.shape[1]):\n",
        "            x[i, j] += y[i, j]\n",
        "    return x"
      ],
      "metadata": {
        "id": "sLWeAB6pVNB6"
      },
      "execution_count": 53,
      "outputs": []
    },
    {
      "cell_type": "code",
      "source": [
        "# 넘파이의 원소별 연산\n",
        "import numpy as np\n",
        "\n",
        "z = x + y\n",
        "z = np.maximum(z, 0.)"
      ],
      "metadata": {
        "id": "hkrCIz_AVoXA"
      },
      "execution_count": 49,
      "outputs": []
    },
    {
      "cell_type": "code",
      "source": [
        "# 실제 시간 차이 재어보기\n",
        "import time\n",
        "\n",
        "x = np.random.random((20, 100))\n",
        "y = np.random.random((20, 100))\n",
        "\n",
        "t0 = time.time()\n",
        "for _ in range(1000):\n",
        "    z = x + y\n",
        "    z = np.maximum(z, 0.)\n",
        "print(\"Took: {0:.2f} s\".format(time.time() - t0))"
      ],
      "metadata": {
        "colab": {
          "base_uri": "https://localhost:8080/"
        },
        "id": "d9GX1NP9VyPG",
        "outputId": "d7fbab35-a2cb-4e67-d919-1c1a2b770f0f"
      },
      "execution_count": 54,
      "outputs": [
        {
          "output_type": "stream",
          "name": "stdout",
          "text": [
            "Took: 0.01 s\n"
          ]
        }
      ]
    },
    {
      "cell_type": "code",
      "source": [
        "# 단순한 방법\n",
        "t0 = time.time()\n",
        "for _ in range(1000):\n",
        "    z = naive_add(x, y)\n",
        "    z = naive_relu(z)\n",
        "print(\"Took: {0:.2f} s\".format(time.time() - t0))"
      ],
      "metadata": {
        "colab": {
          "base_uri": "https://localhost:8080/"
        },
        "id": "91JkwOVNWIOx",
        "outputId": "bd98e4b0-9e47-4965-9d94-f4f1f52e566e"
      },
      "execution_count": 55,
      "outputs": [
        {
          "output_type": "stream",
          "name": "stdout",
          "text": [
            "Took: 1.67 s\n"
          ]
        }
      ]
    },
    {
      "cell_type": "code",
      "source": [
        "------------------------"
      ],
      "metadata": {
        "id": "eGVzzdMmW0qq"
      },
      "execution_count": null,
      "outputs": []
    },
    {
      "cell_type": "code",
      "source": [
        "# 브로드캐스팅"
      ],
      "metadata": {
        "id": "7GcPV_l7YQLp"
      },
      "execution_count": 56,
      "outputs": []
    },
    {
      "cell_type": "code",
      "source": [
        "# 1. 큰 텐서의 ndim에 맞도록 작은 텐서에(브로드캐스팅 축)축이 추가됨\n",
        "# 2. 작은 텐서기 새 축을 따라서 큰 텐서의 크기에 맞도록 반복됨"
      ],
      "metadata": {
        "id": "Jy9ZTTlWYTCM"
      },
      "execution_count": null,
      "outputs": []
    },
    {
      "cell_type": "code",
      "source": [
        "# x의 크기: (32,10), y의 크기: (10,)\n",
        "import numpy as np\n",
        "\n",
        "x = np.random.random((32, 10))\n",
        "y = np.random.random((10,))"
      ],
      "metadata": {
        "id": "SUrrhZTfYknt"
      },
      "execution_count": 57,
      "outputs": []
    },
    {
      "cell_type": "code",
      "source": [
        "# y에 비어있는 첫번째 축을 추가하여 크기를 (1, 10)으로 만든다\n",
        "y = np.expand_dims(y, axis=0)\n",
        "y"
      ],
      "metadata": {
        "colab": {
          "base_uri": "https://localhost:8080/"
        },
        "id": "EsxlxslgY04D",
        "outputId": "146a3620-4171-4b12-9715-06e92b132c9b"
      },
      "execution_count": 64,
      "outputs": [
        {
          "output_type": "execute_result",
          "data": {
            "text/plain": [
              "array([[[[[[[[0.9068548 , 0.46274307, 0.75220673, 0.32575976,\n",
              "              0.18063442, 0.21344633, 0.83451963, 0.56200589,\n",
              "              0.92205473, 0.64098575]]]]]]]])"
            ]
          },
          "metadata": {},
          "execution_count": 64
        }
      ]
    },
    {
      "cell_type": "code",
      "source": [
        "# y를 이 축에 32번 반복하면서 텐서 y의 크기는 (32,10)이 됨\n",
        "# Y[i, :] == y for i in range(0,32)\n",
        "Y = np.concatenate([y] * 32, axis=0)"
      ],
      "metadata": {
        "id": "grdBem0tY_ZG"
      },
      "execution_count": 67,
      "outputs": []
    },
    {
      "cell_type": "code",
      "source": [
        "# 이제 x와 y의 크기가 같으므로 더할 수 있음\n",
        "def navie_add_matrix_and_vector(x,y):\n",
        "  assert len(x.shape) == 2\n",
        "  assert len(y.shape) ==1\n",
        "  assert x.shape[1] == y.shape[0]\n",
        "  x = x.copy()\n",
        "  for i in range(x.shape[0]):\n",
        "    for j in rnage(x.shape[1]):\n",
        "      x[i,j] += y[i]\n",
        "    return x"
      ],
      "metadata": {
        "id": "NkUpCfvoZfGC"
      },
      "execution_count": 68,
      "outputs": []
    },
    {
      "cell_type": "code",
      "source": [
        "# 크기가 다른 두 텐서에 브로드 캐스팅으로 원소별 maxium연산을 적용\n",
        "import numpy as np\n",
        "\n",
        "x = np.random.random((64, 3, 32, 10))\n",
        "y = np.random.random((32,10))\n",
        "z = np.maximum(x, y)"
      ],
      "metadata": {
        "id": "ut5KAoiGaLbm"
      },
      "execution_count": 69,
      "outputs": []
    },
    {
      "cell_type": "code",
      "source": [],
      "metadata": {
        "id": "LnocChFRafv9"
      },
      "execution_count": 70,
      "outputs": []
    },
    {
      "cell_type": "code",
      "source": [
        "-------------------------"
      ],
      "metadata": {
        "id": "dOo6V3zHagx2"
      },
      "execution_count": null,
      "outputs": []
    }
  ]
}