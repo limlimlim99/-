{
  "nbformat": 4,
  "nbformat_minor": 0,
  "metadata": {
    "colab": {
      "provenance": [],
      "toc_visible": true,
      "authorship_tag": "ABX9TyMsyBGkZViSFV61R5C1y4r1",
      "include_colab_link": true
    },
    "kernelspec": {
      "name": "python3",
      "display_name": "Python 3"
    },
    "language_info": {
      "name": "python"
    },
    "accelerator": "GPU",
    "gpuClass": "standard"
  },
  "cells": [
    {
      "cell_type": "markdown",
      "metadata": {
        "id": "view-in-github",
        "colab_type": "text"
      },
      "source": [
        "<a href=\"https://colab.research.google.com/github/limlimlim99/limjihyeonjjang/blob/main/neural_network%EA%B8%B0%EC%B4%88.ipynb\" target=\"_parent\"><img src=\"https://colab.research.google.com/assets/colab-badge.svg\" alt=\"Open In Colab\"/></a>"
      ]
    },
    {
      "cell_type": "markdown",
      "source": [],
      "metadata": {
        "id": "Ka4ZQ_frui8f"
      }
    },
    {
      "cell_type": "code",
      "source": [
        "# 딥러닝 구축\n",
        "딥러닝: 이미지연산, 자연어처리\n",
        "그 이외의 사회과학: 머신러닝으로 하는 것이 더 효율적임"
      ],
      "metadata": {
        "id": "h8xVViYp_LhX"
      },
      "execution_count": null,
      "outputs": []
    },
    {
      "cell_type": "code",
      "execution_count": null,
      "metadata": {
        "id": "BZtgUSltqwsW"
      },
      "outputs": [],
      "source": [
        "import tensorflow as tf"
      ]
    },
    {
      "cell_type": "code",
      "source": [
        "# train_test_split()으로 학습용 데이터, testdata를 나눔\n",
        "# tensorflow에서는 위에처럼 나눔"
      ],
      "metadata": {
        "id": "vPOsdODitSzz"
      },
      "execution_count": null,
      "outputs": []
    },
    {
      "cell_type": "code",
      "source": [
        "mnist = tf.keras.datasets.mnist\n",
        "(x_train, y_train), (x_test, y_test) = mnist.load_data()\n",
        "x_train, x_test = x_train/ 255.0, x_test /255.0   # 0~1 사이로 스케일 조정\n"
      ],
      "metadata": {
        "id": "UL9YsMl8s8gB"
      },
      "execution_count": null,
      "outputs": []
    },
    {
      "cell_type": "code",
      "source": [
        "x_train[0]\n",
        "print(x_train.shape, x_test.shape)"
      ],
      "metadata": {
        "colab": {
          "base_uri": "https://localhost:8080/"
        },
        "id": "8DhVlBJxuJny",
        "outputId": "128a2cc0-c5f6-4f25-d7f2-968d799b506b"
      },
      "execution_count": null,
      "outputs": [
        {
          "output_type": "stream",
          "name": "stdout",
          "text": [
            "(60000, 28, 28) (10000, 28, 28)\n"
          ]
        }
      ]
    },
    {
      "cell_type": "code",
      "source": [
        "from keras.models import Sequential\n",
        "from keras.layers import Dense, Activation\n",
        "\n",
        "model = Sequential([\n",
        "    Dense(32, input_shape=(784,)),\n",
        "    Activation('relu'),\n",
        "    Dense(10),\n",
        "    Activation('softmax'),\n",
        "])"
      ],
      "metadata": {
        "id": "8aEMTzN9u-8D"
      },
      "execution_count": null,
      "outputs": []
    },
    {
      "cell_type": "code",
      "source": [
        "model = Sequential()\n",
        "model.add(Dense(32, input_dim=784))\n",
        "model.add(Activation('relu'))"
      ],
      "metadata": {
        "id": "LvH5G39HvioG"
      },
      "execution_count": null,
      "outputs": []
    },
    {
      "cell_type": "code",
      "source": [
        "model.compile(optimizer='rmsprop',\n",
        "              loss = 'sparse_categorical_crossentropy',\n",
        "              metrics=['accuracy'])"
      ],
      "metadata": {
        "id": "9_I-EKSUvj-G"
      },
      "execution_count": null,
      "outputs": []
    },
    {
      "cell_type": "code",
      "source": [
        "----------------------------------------------------------"
      ],
      "metadata": {
        "id": "sZ2sIDcfxlQ4"
      },
      "execution_count": null,
      "outputs": []
    },
    {
      "cell_type": "code",
      "source": [
        "from tensorflow.keras.datasets import mnist\n",
        "(train_images, train_labels), (test_images, test_labels) = mnist.load_data()"
      ],
      "metadata": {
        "id": "OTzEf3say3sg"
      },
      "execution_count": null,
      "outputs": []
    },
    {
      "cell_type": "code",
      "source": [
        "train_images = train_images.reshape((60000, 28*28))\n",
        "train_images = train_images.astype('float32') / 255\n",
        "test_images = test_images.reshape((10000, 28*28))\n",
        "test_images = test_images.astype('float32') / 255"
      ],
      "metadata": {
        "id": "DaligODix-ys"
      },
      "execution_count": null,
      "outputs": []
    },
    {
      "cell_type": "code",
      "source": [
        "network.compile(optimizer = 'rmsprop',\n",
        "                loss = 'categorical_crossentropy',   #멀티분류 할 때 사용, #이진분류 할때는 binaryentropy\n",
        "                metrics =['accuracy'])              # 평가지표 = 정확도"
      ],
      "metadata": {
        "id": "T_Qxw1GqylWS"
      },
      "execution_count": null,
      "outputs": []
    },
    {
      "cell_type": "code",
      "source": [
        "train_images[0]"
      ],
      "metadata": {
        "id": "wb6n9wVozLyt"
      },
      "execution_count": null,
      "outputs": []
    },
    {
      "cell_type": "code",
      "source": [
        "-------------------------------------"
      ],
      "metadata": {
        "id": "3Lb65eUE2O0A"
      },
      "execution_count": null,
      "outputs": []
    },
    {
      "cell_type": "code",
      "source": [
        "(x_train, y_train), (x_test, y_test) =mnist.load_data() \n",
        "\n",
        "x_train, x_test = x_train/255.0, x_test/255.0 # 유의점은 실수로 만들어주어야함 0~1사이로 만듬\n",
        "\n",
        "x_train = x_train.reshape((60000, 28*28))\n",
        "x_test = x_test.reshape((10000, 28*28))\n",
        "\n",
        "model =Sequential([\n",
        "    layers.Dense(512, activation='relu'), # 512는 아웃풋이다. \n",
        "    layers.Dense(10, activation='softmax')\n",
        "])\n",
        "\n",
        "model.compile(optimizer=\"rmsprop\", loss=\"sparse_categorical_crossentropy\", metrics='acc')\n",
        "model.fit(x_train, y_train, epochs=5, batch_size=128)\n"
      ],
      "metadata": {
        "colab": {
          "base_uri": "https://localhost:8080/"
        },
        "id": "dZ1xkfpM4Edv",
        "outputId": "837b2844-95f8-4cbb-d889-946938de7714"
      },
      "execution_count": null,
      "outputs": [
        {
          "output_type": "stream",
          "name": "stdout",
          "text": [
            "Epoch 1/5\n",
            "469/469 [==============================] - 2s 3ms/step - loss: 0.2573 - acc: 0.9259\n",
            "Epoch 2/5\n",
            "469/469 [==============================] - 1s 3ms/step - loss: 0.1038 - acc: 0.9699\n",
            "Epoch 3/5\n",
            "469/469 [==============================] - 1s 3ms/step - loss: 0.0681 - acc: 0.9798\n",
            "Epoch 4/5\n",
            "469/469 [==============================] - 1s 3ms/step - loss: 0.0499 - acc: 0.9853\n",
            "Epoch 5/5\n",
            "469/469 [==============================] - 1s 3ms/step - loss: 0.0370 - acc: 0.9885\n"
          ]
        },
        {
          "output_type": "execute_result",
          "data": {
            "text/plain": [
              "<keras.callbacks.History at 0x7f489c2eb550>"
            ]
          },
          "metadata": {},
          "execution_count": 46
        }
      ]
    },
    {
      "cell_type": "code",
      "source": [
        "from keras.datasets import mnist\n",
        "(train_images, train_labels), (test_images, test_labels) = mnist.load_data()\n",
        "\n",
        "train_images = train_images.reshape((60000, 28*28))\n",
        "train_images= train_images.astype('float32')/255\n",
        "\n",
        "test_images = test_images.reshape((10000, 28*28))\n",
        "test_images= test_images.astype('float32')/255\n",
        "\n",
        "\n",
        "network = models.Sequential()\n",
        "network.add(layers.Dense(512, activation='relu', input_shape=(28*28,)))\n",
        "network.add(layers.Dense(10, activation='softmax'))\n",
        "network.compile(optimizer=\"rmsprop\", loss=\"sparse_categorical_crossentropy\", metrics='acc')\n",
        "\n",
        "\n",
        "network.fit(train_images, train_labels, epochs=5, batch_size=128) # 에포크 5번 반복하겠다.\n"
      ],
      "metadata": {
        "colab": {
          "base_uri": "https://localhost:8080/"
        },
        "id": "HQ27z4zv4-J3",
        "outputId": "cdbbd7a3-c30d-438f-c199-cdef51c21ad9"
      },
      "execution_count": null,
      "outputs": [
        {
          "output_type": "stream",
          "name": "stdout",
          "text": [
            "Epoch 1/5\n",
            "469/469 [==============================] - 2s 3ms/step - loss: 0.2566 - acc: 0.9248\n",
            "Epoch 2/5\n",
            "469/469 [==============================] - 1s 3ms/step - loss: 0.1039 - acc: 0.9697\n",
            "Epoch 3/5\n",
            "469/469 [==============================] - 1s 3ms/step - loss: 0.0689 - acc: 0.9794\n",
            "Epoch 4/5\n",
            "469/469 [==============================] - 3s 5ms/step - loss: 0.0499 - acc: 0.9847\n",
            "Epoch 5/5\n",
            "469/469 [==============================] - 2s 4ms/step - loss: 0.0374 - acc: 0.9890\n"
          ]
        },
        {
          "output_type": "execute_result",
          "data": {
            "text/plain": [
              "<keras.callbacks.History at 0x7f489c1b6160>"
            ]
          },
          "metadata": {},
          "execution_count": 47
        }
      ]
    },
    {
      "cell_type": "code",
      "source": [
        "test_loss, test_acc = network.evaluate(test_images, test_labels)"
      ],
      "metadata": {
        "colab": {
          "base_uri": "https://localhost:8080/"
        },
        "id": "rNx1Y8T44-1e",
        "outputId": "bcbeacd9-46a8-4cad-f111-39adc20b4028"
      },
      "execution_count": null,
      "outputs": [
        {
          "output_type": "stream",
          "name": "stdout",
          "text": [
            "313/313 [==============================] - 1s 2ms/step - loss: 0.0729 - acc: 0.9780\n"
          ]
        }
      ]
    },
    {
      "cell_type": "code",
      "source": [
        "test_acc"
      ],
      "metadata": {
        "colab": {
          "base_uri": "https://localhost:8080/"
        },
        "id": "0ca-rits58Ql",
        "outputId": "b5d23c8d-6f36-4a60-ca33-e80418feed8a"
      },
      "execution_count": null,
      "outputs": [
        {
          "output_type": "execute_result",
          "data": {
            "text/plain": [
              "0.9779999852180481"
            ]
          },
          "metadata": {},
          "execution_count": 54
        }
      ]
    },
    {
      "cell_type": "code",
      "source": [
        "# 은닉층\n",
        "- 활성화 함수를 넣어 줘야 함\n",
        "- relu: 음수:0이 되게 함\n",
        "선형변환만 계속 하고 계속 쌓기만 하면 선형변환 1개 있는 것과 큰 차이 없음\n",
        "비선형변환 하나 있는 것이 선형변화 여러개 보다 나음\n",
        "선형변환 + 비선형변환 네트워크가 쌓이면 쌓일 수록 \n",
        "softmax함수: 멀티 분류를 할 수 있게 함 => 확률이 나오게 해야 함\n",
        "확률이 가장 높게.\n",
        "sigmoid=> logisticregression \n",
        "로지스틱 리그레션을 만드는 알고리즘의 기본 구조\n",
        "- 확률이 높은 것\n",
        "- 두개로 나누기 위해서 오즈의 비(승산비)를 구해서 시그모이드 함수를 만든다.\n",
        "자연어처리\n",
        "-데이터의 양이 가장 중요.......어쩌고.....저쩌고........\n",
        "구글에서 multifreetrainmodel을 가져다 써\n",
        "기본적인 어쩌고가 나와~\n",
        "우라가 하려는 과제거 스타벅스 댓글분석이야\n",
        "법률분석을 해야해\n",
        "그리고\n",
        "크롤링 해야해 \n",
        "버트에서 있는걸로 해도되는데~\n",
        "애트리에서~ 한국어를 더 모아가지고 freetrain된 모델이 코버트야\n",
        "한국에서 할때는 코버트를 가져다씁니다.\n",
        "실습을 할때 애트리를 써도되고 sk를 써도되고\n",
        "애트리- 가입해야함\n",
        "sk- 깃허브에서 받아오면 됨\n",
        "\n",
        "한단계 더 공부를 해야 함\n",
        "버트는 분류, 추론, 개체명인식(챗봇), QNA(질문응답)\n",
        "말을 생성, 요약 할 때는 다른게 필요함\n",
        "글의 요약, 말을 생성- 이티파이브, 바트, gpt2, gpt3를 프로젝트 할때 추가적으로 공부해야함 논문도 보고~\n",
        "\n"
      ],
      "metadata": {
        "id": "IGEa3KRi6BcJ"
      },
      "execution_count": null,
      "outputs": []
    },
    {
      "cell_type": "code",
      "source": [
        "# 컴퓨터 비전"
      ],
      "metadata": {
        "id": "ritRhL_P_JHw"
      },
      "execution_count": null,
      "outputs": []
    },
    {
      "cell_type": "code",
      "source": [],
      "metadata": {
        "id": "Sk9nHPGu_eH4"
      },
      "execution_count": null,
      "outputs": []
    }
  ]
}