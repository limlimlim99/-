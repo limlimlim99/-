{
 "cells": [
  {
   "cell_type": "code",
   "execution_count": null,
   "id": "bf67fa08-7cdd-43ed-93d2-8385ca1b442e",
   "metadata": {},
   "outputs": [],
   "source": []
  },
  {
   "cell_type": "markdown",
   "id": "54c98dc4-3496-4406-a46c-8434ab420410",
   "metadata": {},
   "source": [
    "# 예외처리"
   ]
  },
  {
   "cell_type": "code",
   "execution_count": 1,
   "id": "62031320-40e8-4f90-a529-7b72df5750d0",
   "metadata": {},
   "outputs": [
    {
     "name": "stdout",
     "output_type": "stream",
     "text": [
      "Hello\n",
      "Good\n"
     ]
    },
    {
     "ename": "IndexError",
     "evalue": "list index out of range",
     "output_type": "error",
     "traceback": [
      "\u001b[1;31m---------------------------------------------------------------------------\u001b[0m",
      "\u001b[1;31mIndexError\u001b[0m                                Traceback (most recent call last)",
      "Input \u001b[1;32mIn [1]\u001b[0m, in \u001b[0;36m<cell line: 2>\u001b[1;34m()\u001b[0m\n\u001b[0;32m      1\u001b[0m a\u001b[38;5;241m=\u001b[39m[\u001b[38;5;124m\"\u001b[39m\u001b[38;5;124mHello\u001b[39m\u001b[38;5;124m\"\u001b[39m,\u001b[38;5;124m\"\u001b[39m\u001b[38;5;124mGood\u001b[39m\u001b[38;5;124m\"\u001b[39m]\n\u001b[0;32m      2\u001b[0m \u001b[38;5;28;01mfor\u001b[39;00m i \u001b[38;5;129;01min\u001b[39;00m \u001b[38;5;28mrange\u001b[39m(\u001b[38;5;241m3\u001b[39m):\n\u001b[1;32m----> 3\u001b[0m     \u001b[38;5;28mprint\u001b[39m(\u001b[43ma\u001b[49m\u001b[43m[\u001b[49m\u001b[43mi\u001b[49m\u001b[43m]\u001b[49m)\n",
      "\u001b[1;31mIndexError\u001b[0m: list index out of range"
     ]
    }
   ],
   "source": [
    "a=[\"Hello\",\"Good\"]   #오류 발생\n",
    "for i in range(3):\n",
    "    print(a[i])"
   ]
  },
  {
   "cell_type": "code",
   "execution_count": 14,
   "id": "a9619052-31cc-49f4-a9db-33d5cfc5ddf3",
   "metadata": {},
   "outputs": [
    {
     "name": "stdout",
     "output_type": "stream",
     "text": [
      "Hello\n",
      "Good\n",
      "에러입니다\n"
     ]
    }
   ],
   "source": [
    "try:\n",
    "    for i in range(3):\n",
    "        print(a[i])\n",
    "except:\n",
    "    print(\"에러입니다\")"
   ]
  },
  {
   "cell_type": "code",
   "execution_count": 20,
   "id": "9f3c17ef-2d15-41ce-9fbb-756e1e47a002",
   "metadata": {},
   "outputs": [
    {
     "name": "stdout",
     "output_type": "stream",
     "text": [
      "2.0\n",
      "division by zero\n",
      "에러입니다\n"
     ]
    }
   ],
   "source": [
    "try:\n",
    "    print(4/2)\n",
    "    print(4/0)\n",
    "except ZeroDivisionError as e:        \n",
    "    print(e)\n",
    "    print(\"에러입니다\")"
   ]
  },
  {
   "cell_type": "code",
   "execution_count": null,
   "id": "7df1a6ea-26aa-4695-8520-3c42f2551fcf",
   "metadata": {},
   "outputs": [],
   "source": [
    "1. 일반적인 에러처리\n",
    "2. 에러의 종류에 맞는 에러처리"
   ]
  },
  {
   "cell_type": "code",
   "execution_count": 21,
   "id": "f4969c3c-5075-4728-b0dd-538e0542b219",
   "metadata": {},
   "outputs": [
    {
     "name": "stdout",
     "output_type": "stream",
     "text": [
      "Hello\n",
      "Good\n",
      "에러입니다\n"
     ]
    }
   ],
   "source": [
    "a = ['Hello','Good']\n",
    "try:\n",
    "    for i in range(3):\n",
    "        print(a[i])\n",
    "except:\n",
    "    print(\"에러입니다\")\n"
   ]
  },
  {
   "cell_type": "code",
   "execution_count": 22,
   "id": "cb4c21b7-e2aa-4da7-b698-f16eb4e4bd1b",
   "metadata": {},
   "outputs": [
    {
     "name": "stdout",
     "output_type": "stream",
     "text": [
      "Hello\n",
      "Good\n",
      "list index out of range\n"
     ]
    }
   ],
   "source": [
    "a = ['Hello','Good']\n",
    "try:\n",
    "    for i in range(3):\n",
    "        print(a[i])\n",
    "except IndexError as e:\n",
    "    print(e) "
   ]
  },
  {
   "cell_type": "code",
   "execution_count": 23,
   "id": "513a7ea8-eed3-4a4a-a506-db5d15edd0e7",
   "metadata": {},
   "outputs": [],
   "source": [
    "a=\"Hello\""
   ]
  },
  {
   "cell_type": "code",
   "execution_count": 24,
   "id": "d30eb68f-90de-426b-92c5-b8172779c03b",
   "metadata": {},
   "outputs": [
    {
     "data": {
      "text/plain": [
       "['__add__',\n",
       " '__class__',\n",
       " '__contains__',\n",
       " '__delattr__',\n",
       " '__dir__',\n",
       " '__doc__',\n",
       " '__eq__',\n",
       " '__format__',\n",
       " '__ge__',\n",
       " '__getattribute__',\n",
       " '__getitem__',\n",
       " '__getnewargs__',\n",
       " '__gt__',\n",
       " '__hash__',\n",
       " '__init__',\n",
       " '__init_subclass__',\n",
       " '__iter__',\n",
       " '__le__',\n",
       " '__len__',\n",
       " '__lt__',\n",
       " '__mod__',\n",
       " '__mul__',\n",
       " '__ne__',\n",
       " '__new__',\n",
       " '__reduce__',\n",
       " '__reduce_ex__',\n",
       " '__repr__',\n",
       " '__rmod__',\n",
       " '__rmul__',\n",
       " '__setattr__',\n",
       " '__sizeof__',\n",
       " '__str__',\n",
       " '__subclasshook__',\n",
       " 'capitalize',\n",
       " 'casefold',\n",
       " 'center',\n",
       " 'count',\n",
       " 'encode',\n",
       " 'endswith',\n",
       " 'expandtabs',\n",
       " 'find',\n",
       " 'format',\n",
       " 'format_map',\n",
       " 'index',\n",
       " 'isalnum',\n",
       " 'isalpha',\n",
       " 'isascii',\n",
       " 'isdecimal',\n",
       " 'isdigit',\n",
       " 'isidentifier',\n",
       " 'islower',\n",
       " 'isnumeric',\n",
       " 'isprintable',\n",
       " 'isspace',\n",
       " 'istitle',\n",
       " 'isupper',\n",
       " 'join',\n",
       " 'ljust',\n",
       " 'lower',\n",
       " 'lstrip',\n",
       " 'maketrans',\n",
       " 'partition',\n",
       " 'removeprefix',\n",
       " 'removesuffix',\n",
       " 'replace',\n",
       " 'rfind',\n",
       " 'rindex',\n",
       " 'rjust',\n",
       " 'rpartition',\n",
       " 'rsplit',\n",
       " 'rstrip',\n",
       " 'split',\n",
       " 'splitlines',\n",
       " 'startswith',\n",
       " 'strip',\n",
       " 'swapcase',\n",
       " 'title',\n",
       " 'translate',\n",
       " 'upper',\n",
       " 'zfill']"
      ]
     },
     "execution_count": 24,
     "metadata": {},
     "output_type": "execute_result"
    }
   ],
   "source": [
    "dir(a)"
   ]
  },
  {
   "cell_type": "code",
   "execution_count": 25,
   "id": "0c920dd1-1fcc-489d-9213-452cc9c6ceb4",
   "metadata": {},
   "outputs": [
    {
     "data": {
      "text/plain": [
       "5"
      ]
     },
     "execution_count": 25,
     "metadata": {},
     "output_type": "execute_result"
    }
   ],
   "source": [
    "len(a)"
   ]
  },
  {
   "cell_type": "code",
   "execution_count": 27,
   "id": "f0d08a9a-6e31-48c0-bd81-3bec3a231e8a",
   "metadata": {},
   "outputs": [
    {
     "name": "stdout",
     "output_type": "stream",
     "text": [
      "a\n",
      "b\n",
      "c\n"
     ]
    }
   ],
   "source": [
    "a=[\"a\",\"b\",\"c\"]\n",
    "for i in a:\n",
    "    print(i)"
   ]
  },
  {
   "cell_type": "code",
   "execution_count": 29,
   "id": "85f0e6db-dbd5-4c6b-b06a-979688bab093",
   "metadata": {},
   "outputs": [
    {
     "name": "stdout",
     "output_type": "stream",
     "text": [
      "0 a\n",
      "1 b\n",
      "2 c\n"
     ]
    }
   ],
   "source": [
    "for i,j in enumerate(a):\n",
    "    print(i,j)"
   ]
  },
  {
   "cell_type": "code",
   "execution_count": 30,
   "id": "3033b0d0-a811-469c-a605-b43685892c1c",
   "metadata": {},
   "outputs": [
    {
     "data": {
      "text/plain": [
       "{'a': 0, 'b': 1, 'c': 2}"
      ]
     },
     "execution_count": 30,
     "metadata": {},
     "output_type": "execute_result"
    }
   ],
   "source": [
    "{\"a\":0,\"b\":1,\"c\":2}"
   ]
  },
  {
   "cell_type": "markdown",
   "id": "316fa519-7689-4048-8312-98aea581da91",
   "metadata": {},
   "source": [
    "a=[\"a\",\"b\",\"c\"]일때\n",
    "위의 d와 같은 딕셔너리 c를 만들어라.(enumerate를 사용)"
   ]
  },
  {
   "cell_type": "code",
   "execution_count": 35,
   "id": "88e6316c-2632-458f-8282-3901ebd54a9c",
   "metadata": {},
   "outputs": [],
   "source": [
    "a=[\"a\",\"b\",\"c\"]"
   ]
  },
  {
   "cell_type": "code",
   "execution_count": 36,
   "id": "ca547b62-9557-4212-b719-ae5f9edd63d0",
   "metadata": {},
   "outputs": [
    {
     "name": "stdout",
     "output_type": "stream",
     "text": [
      "{'a': 0}\n",
      "{'a': 0, 'b': 1}\n",
      "{'a': 0, 'b': 1, 'c': 2}\n"
     ]
    }
   ],
   "source": [
    "c={}\n",
    "for i,j in enumerate(a):\n",
    "    c[j]=i\n",
    "    print(c)"
   ]
  },
  {
   "cell_type": "markdown",
   "id": "d579405f-44ea-4e81-b267-42b782521a75",
   "metadata": {},
   "source": [
    "- filter\n",
    "\n",
    "```\n",
    "- filter(함수이름,자료)\n",
    "- 들어가는 함수는 return값이 참 거짓(아웃풋으로 내야함)\n",
    "-자료 안의 원소 하나 하나에 대하여 함수를 적용시켜주는 함수=map과 같음\n",
    "(0보다 크냐 안크냐)\n",
    "\n",
    "```"
   ]
  },
  {
   "cell_type": "code",
   "execution_count": 39,
   "id": "9a4e3574-1dc1-4ce8-8b9c-5c47c420f058",
   "metadata": {},
   "outputs": [
    {
     "data": {
      "text/plain": [
       "False"
      ]
     },
     "execution_count": 39,
     "metadata": {},
     "output_type": "execute_result"
    }
   ],
   "source": [
    "def positive(a):\n",
    "    return a>0\n",
    "positive(-3)"
   ]
  },
  {
   "cell_type": "code",
   "execution_count": 42,
   "id": "4e48816a-f879-4016-9a42-8b6c99738809",
   "metadata": {},
   "outputs": [
    {
     "data": {
      "text/plain": [
       "[1, 2, 6]"
      ]
     },
     "execution_count": 42,
     "metadata": {},
     "output_type": "execute_result"
    }
   ],
   "source": [
    "a=[1,-3,2,0,-5,6]\n",
    "list(filter(positive,a))"
   ]
  },
  {
   "cell_type": "code",
   "execution_count": 43,
   "id": "f4e918f0-e593-4065-b6f3-38ded104d4c3",
   "metadata": {},
   "outputs": [
    {
     "ename": "TypeError",
     "evalue": "'>' not supported between instances of 'list' and 'int'",
     "output_type": "error",
     "traceback": [
      "\u001b[1;31m---------------------------------------------------------------------------\u001b[0m",
      "\u001b[1;31mTypeError\u001b[0m                                 Traceback (most recent call last)",
      "Input \u001b[1;32mIn [43]\u001b[0m, in \u001b[0;36m<cell line: 2>\u001b[1;34m()\u001b[0m\n\u001b[0;32m      1\u001b[0m a\u001b[38;5;241m=\u001b[39m[\u001b[38;5;241m1\u001b[39m,\u001b[38;5;241m-\u001b[39m\u001b[38;5;241m3\u001b[39m,\u001b[38;5;241m2\u001b[39m,\u001b[38;5;241m0\u001b[39m,\u001b[38;5;241m-\u001b[39m\u001b[38;5;241m5\u001b[39m,\u001b[38;5;241m6\u001b[39m]\n\u001b[1;32m----> 2\u001b[0m \u001b[38;5;28mprint\u001b[39m(\u001b[43ma\u001b[49m\u001b[38;5;241;43m>\u001b[39;49m\u001b[38;5;241;43m0\u001b[39;49m)\n",
      "\u001b[1;31mTypeError\u001b[0m: '>' not supported between instances of 'list' and 'int'"
     ]
    }
   ],
   "source": [
    "a=[1,-3,2,0,-5,6]      #안나옴\n",
    "print(a>0)"
   ]
  },
  {
   "cell_type": "code",
   "execution_count": 44,
   "id": "5cea883a-2e8a-42a7-b961-6b03540086a5",
   "metadata": {},
   "outputs": [
    {
     "data": {
      "text/plain": [
       "[1, 2, 6]"
      ]
     },
     "execution_count": 44,
     "metadata": {},
     "output_type": "execute_result"
    }
   ],
   "source": [
    "#lambda함수 사용\n",
    "\n",
    "a=[1,-3,2,0,-5,6]\n",
    "list(filter(lambda a:a>0,a))"
   ]
  },
  {
   "cell_type": "code",
   "execution_count": 49,
   "id": "7fe05f78-42b1-4304-8bb7-d6a5b6f3ddfe",
   "metadata": {},
   "outputs": [
    {
     "data": {
      "text/plain": [
       "array([ 1, -3,  2,  0, -5,  6])"
      ]
     },
     "execution_count": 49,
     "metadata": {},
     "output_type": "execute_result"
    }
   ],
   "source": [
    "#a=[1,-3,2,0,-5,6]    #나오게 하는 방법\n",
    "#print(a>0)\n",
    "\n",
    "import numpy as np\n",
    "a=np.array([1,-3,2,0,-5,6])\n",
    "a"
   ]
  },
  {
   "cell_type": "code",
   "execution_count": 52,
   "id": "69462b85-b270-48b6-9b6c-b61f2089c904",
   "metadata": {},
   "outputs": [
    {
     "data": {
      "text/plain": [
       "array([ True, False,  True, False, False,  True])"
      ]
     },
     "execution_count": 52,
     "metadata": {},
     "output_type": "execute_result"
    }
   ],
   "source": [
    "a>0     "
   ]
  },
  {
   "cell_type": "code",
   "execution_count": 53,
   "id": "c4d5d5f1-f7bb-4a83-a815-3050136f4302",
   "metadata": {},
   "outputs": [
    {
     "data": {
      "text/plain": [
       "array([1, 2, 6])"
      ]
     },
     "execution_count": 53,
     "metadata": {},
     "output_type": "execute_result"
    }
   ],
   "source": [
    "a[a>0]"
   ]
  },
  {
   "cell_type": "code",
   "execution_count": null,
   "id": "38ccc5ca-6cbc-4a9c-8227-2c8dcbc42da0",
   "metadata": {},
   "outputs": [],
   "source": []
  }
 ],
 "metadata": {
  "kernelspec": {
   "display_name": "Python 3 (ipykernel)",
   "language": "python",
   "name": "python3"
  },
  "language_info": {
   "codemirror_mode": {
    "name": "ipython",
    "version": 3
   },
   "file_extension": ".py",
   "mimetype": "text/x-python",
   "name": "python",
   "nbconvert_exporter": "python",
   "pygments_lexer": "ipython3",
   "version": "3.9.12"
  }
 },
 "nbformat": 4,
 "nbformat_minor": 5
}
