{
 "cells": [
  {
   "cell_type": "code",
   "execution_count": null,
   "id": "a8aa5c4e-c5f1-4411-bcb8-ab0666f6c99d",
   "metadata": {},
   "outputs": [],
   "source": [
    "match: 문자열 처음\n",
    "srarch: 문자열 중간\n",
    "findall: 리스트로 리턴 \n",
    "finditer: 반복가능한 객체iterator를 출력"
   ]
  },
  {
   "cell_type": "code",
   "execution_count": null,
   "id": "d5468688-bb8a-4cbe-9dae-6bc586bd48a7",
   "metadata": {},
   "outputs": [],
   "source": [
    ".start()\n",
    ".span()\n",
    ".group()\n",
    ".end()"
   ]
  },
  {
   "cell_type": "code",
   "execution_count": 2,
   "id": "de2a8632-adbd-41a8-a42d-7f3676a3de6a",
   "metadata": {},
   "outputs": [
    {
     "data": {
      "text/plain": [
       "['life', 'is', 'too', 'short']"
      ]
     },
     "execution_count": 2,
     "metadata": {},
     "output_type": "execute_result"
    }
   ],
   "source": [
    "import re\n",
    "a=\"life is too short\"\n",
    "re.findall(\"[A-z]+\",a)"
   ]
  },
  {
   "cell_type": "code",
   "execution_count": null,
   "id": "8e6aff90-3940-481a-b495-8c565c38186a",
   "metadata": {},
   "outputs": [],
   "source": [
    "\\d [0-9]\n",
    "[^a-zA-Z0-9_]와 동일한 표현식"
   ]
  },
  {
   "cell_type": "code",
   "execution_count": 4,
   "id": "879a640d-0533-4f35-8c10-f9c3c07341e1",
   "metadata": {},
   "outputs": [],
   "source": [
    "data=\"\"\" 이름: 김철수 전화번호: 010-1234-1234 나이: 30 성별: 남\"\"\""
   ]
  },
  {
   "cell_type": "code",
   "execution_count": 5,
   "id": "06f824d0-c244-4dfe-843c-be3aff097783",
   "metadata": {},
   "outputs": [
    {
     "name": "stdout",
     "output_type": "stream",
     "text": [
      "['010', '1234', '1234', '30']\n"
     ]
    }
   ],
   "source": [
    "p=re.compile(\"\\d+\")\n",
    "print(re.findall(p,data))"
   ]
  },
  {
   "cell_type": "code",
   "execution_count": 8,
   "id": "7cbf80b8-5737-4f54-bf76-02fc2bcb8e8e",
   "metadata": {},
   "outputs": [
    {
     "name": "stdout",
     "output_type": "stream",
     "text": [
      "['010-1234-1234']\n"
     ]
    }
   ],
   "source": [
    "p = re.compile(r'\\d+[-]\\d+[-]\\d+')\n",
    "print(p.findall(data))"
   ]
  },
  {
   "cell_type": "code",
   "execution_count": 9,
   "id": "892193cd-e523-49dc-9ff0-ff6fb9d0301b",
   "metadata": {},
   "outputs": [],
   "source": [
    "s=\"black,blue and brown\""
   ]
  },
  {
   "cell_type": "code",
   "execution_count": 13,
   "id": "e27b1287-2ba5-45b5-88fb-8f1d0d32e8be",
   "metadata": {},
   "outputs": [
    {
     "data": {
      "text/plain": [
       "['black', 'blue']"
      ]
     },
     "execution_count": 13,
     "metadata": {},
     "output_type": "execute_result"
    }
   ],
   "source": [
    "data = \"black, blue and brown\"\n",
    "p = re.compile('bl\\w+')\n",
    "p.findall(data) "
   ]
  },
  {
   "cell_type": "code",
   "execution_count": 14,
   "id": "9778c9d9-8afb-48e2-b85f-7e255cdf5fc0",
   "metadata": {},
   "outputs": [
    {
     "name": "stdout",
     "output_type": "stream",
     "text": [
      "['black', 'blue']\n"
     ]
    }
   ],
   "source": [
    "s = 'black, blue and brown'\n",
    "print(re.findall(\"bl\\w*\", s))"
   ]
  },
  {
   "cell_type": "code",
   "execution_count": null,
   "id": "7d9ab890-805e-4b08-b585-60d27b70e37d",
   "metadata": {},
   "outputs": [],
   "source": [
    "s= 'http://naver.com http://google.com ftp://daum.net' "
   ]
  },
  {
   "cell_type": "code",
   "execution_count": 28,
   "id": "ce9560e4-ead8-47c1-baae-f361aec9da49",
   "metadata": {},
   "outputs": [
    {
     "data": {
      "text/plain": [
       "['http://naver.com http://google.com ftp']"
      ]
     },
     "execution_count": 28,
     "metadata": {},
     "output_type": "execute_result"
    }
   ],
   "source": [
    "p=re.compile(\".+(?=:)\")\n",
    "p.findall(s)"
   ]
  },
  {
   "cell_type": "code",
   "execution_count": 22,
   "id": "8eaac44d-ba54-40b8-8dac-a6a71550a704",
   "metadata": {},
   "outputs": [
    {
     "data": {
      "text/plain": [
       "['http://naver.com http://google.com ftp']"
      ]
     },
     "execution_count": 22,
     "metadata": {},
     "output_type": "execute_result"
    }
   ],
   "source": [
    "s= 'http://naver.com http://google.com ftp://daum.net' \n",
    "p = re.compile(\".+(?=://)\")\n",
    "p.findall(s) "
   ]
  },
  {
   "cell_type": "code",
   "execution_count": 39,
   "id": "fcc1cdda-eee2-428b-8c7a-8413f7b18e6a",
   "metadata": {},
   "outputs": [
    {
     "name": "stdout",
     "output_type": "stream",
     "text": [
      "['naver.com http://google.com ftp://daum.net']\n"
     ]
    }
   ],
   "source": [
    "s= \"http://naver.com http://google.com ftp://daum.net\"\n",
    "p=re.compile('(?<=://).+')\n",
    "print(p.findall(s))"
   ]
  },
  {
   "cell_type": "code",
   "execution_count": 43,
   "id": "49554b32-1fe4-4b36-883f-90e888fbb6ce",
   "metadata": {},
   "outputs": [
    {
     "data": {
      "text/plain": [
       "[]"
      ]
     },
     "execution_count": 43,
     "metadata": {},
     "output_type": "execute_result"
    }
   ],
   "source": [
    "s= \"http://naver.com http://google.com ftp://daum.net\"\n",
    "p = re.compile(\"\\w+(?<=//).+\")\n",
    "p.findall(s) "
   ]
  },
  {
   "cell_type": "code",
   "execution_count": 52,
   "id": "b38bc395-27de-447f-ac4a-16f929b2be13",
   "metadata": {},
   "outputs": [
    {
     "data": {
      "text/plain": [
       "['naver.com', 'google.com', 'daum.net']"
      ]
     },
     "execution_count": 52,
     "metadata": {},
     "output_type": "execute_result"
    }
   ],
   "source": [
    "s= \"http://naver.com http://google.com ftp://daum.net\"\n",
    "p = re.compile('(?<=://)\\S+')\n",
    "p.findall(s) "
   ]
  },
  {
   "cell_type": "code",
   "execution_count": 56,
   "id": "65bb4ff3-5a4e-4ee4-84f0-490a1e8d25e3",
   "metadata": {},
   "outputs": [
    {
     "data": {
      "text/plain": [
       "[]"
      ]
     },
     "execution_count": 56,
     "metadata": {},
     "output_type": "execute_result"
    }
   ],
   "source": [
    "s= \"http://naver.com http://google.com ftp://daum.net\"\n",
    "p= re.compile(r\"f\\w+[.]\\w{3}\")\n",
    "p.findall(s)"
   ]
  },
  {
   "cell_type": "code",
   "execution_count": 79,
   "id": "023fd49d-6df8-476c-902a-69f363bf7a75",
   "metadata": {},
   "outputs": [],
   "source": [
    "data = '''\n",
    "안녕하세요 그리고 그리고\n",
    "안녕하세요 또 또\n",
    "안녕하세요 그런데 그런데 \n",
    "안녕하세요 끝 끝\n",
    "''' \n",
    "\n"
   ]
  },
  {
   "cell_type": "code",
   "execution_count": 80,
   "id": "0d39c024-0de7-4adc-a5de-65665d6c6dbe",
   "metadata": {},
   "outputs": [
    {
     "name": "stdout",
     "output_type": "stream",
     "text": [
      "<re.Match object; span=(7, 14), match='그리고 그리고'>\n",
      "<re.Match object; span=(21, 24), match='또 또'>\n",
      "<re.Match object; span=(31, 38), match='그런데 그런데'>\n",
      "<re.Match object; span=(46, 49), match='끝 끝'>\n"
     ]
    }
   ],
   "source": [
    "p = re.compile(r\"(?P<repeat>\\w+)\\s+(?P=repeat)\")\n",
    "\n",
    "for i in p.finditer(data):\n",
    "    print(i) "
   ]
  },
  {
   "cell_type": "code",
   "execution_count": 92,
   "id": "489e16c0-bcba-473e-a8cf-c370aff80c3d",
   "metadata": {},
   "outputs": [
    {
     "name": "stdout",
     "output_type": "stream",
     "text": [
      "<re.Match object; span=(7, 14), match='그리고 그리고'>\n",
      "<re.Match object; span=(21, 24), match='또 또'>\n",
      "<re.Match object; span=(31, 38), match='그런데 그런데'>\n",
      "<re.Match object; span=(46, 49), match='끝 끝'>\n"
     ]
    }
   ],
   "source": [
    "data = '''\n",
    "안녕하세요 그리고 그리고\n",
    "안녕하세요 또 또\n",
    "안녕하세요 그런데 그런데 \n",
    "안녕하세요 끝 끝\n",
    "''' \n",
    "\n",
    "p = re.compile(r\"(?P<repeat>\\w+)\\s+(?P=repeat)\")\n",
    "for i in p.finditer(data):\n",
    "    print(i)"
   ]
  },
  {
   "cell_type": "code",
   "execution_count": 85,
   "id": "b60f1f79-861b-4bca-9901-188f3f883567",
   "metadata": {},
   "outputs": [
    {
     "data": {
      "text/plain": [
       "{'그런데', '그리고', '안녕하세요'}"
      ]
     },
     "execution_count": 85,
     "metadata": {},
     "output_type": "execute_result"
    }
   ],
   "source": [
    "data = '''\n",
    "안녕하세요 그리고 그리고\n",
    "안녕하세요 또 또\n",
    "안녕하세요 그런데 그런데 \n",
    "안녕하세요 끝 끝\n",
    "''' \n",
    "data = re.findall(\"\\w+\\S\", data)\n",
    "set(data)"
   ]
  },
  {
   "cell_type": "code",
   "execution_count": 88,
   "id": "53e2a79d-a254-4da7-a0a4-d90054c09ad5",
   "metadata": {},
   "outputs": [
    {
     "data": {
      "text/plain": [
       "{'그런데', '그리고', '끝', '또', '안녕하세요'}"
      ]
     },
     "execution_count": 88,
     "metadata": {},
     "output_type": "execute_result"
    }
   ],
   "source": [
    "data = '''\n",
    "안녕하세요 그리고 그리고\n",
    "안녕하세요 또 또\n",
    "안녕하세요 그런데 그런데 \n",
    "안녕하세요 끝 끝\n",
    "''' \n",
    "set(re.findall(\"\\w+\", data))"
   ]
  },
  {
   "cell_type": "code",
   "execution_count": 89,
   "id": "108480ff-d11f-4125-8ea1-6d64e59561c3",
   "metadata": {},
   "outputs": [
    {
     "data": {
      "text/plain": [
       "{'그런데', '그리고', '끝', '또', '안녕하세요'}"
      ]
     },
     "execution_count": 89,
     "metadata": {},
     "output_type": "execute_result"
    }
   ],
   "source": [
    "data = re.findall(\"\\w+\\S|\\w\", data)\n",
    "set(data) "
   ]
  },
  {
   "cell_type": "code",
   "execution_count": 91,
   "id": "2fdfe42d-1eb9-46dc-873e-4b1c4749dc36",
   "metadata": {},
   "outputs": [
    {
     "data": {
      "text/plain": [
       "{'그런데', '그리고', '끝', '또', '안녕하세요'}"
      ]
     },
     "execution_count": 91,
     "metadata": {},
     "output_type": "execute_result"
    }
   ],
   "source": [
    "data = '''\n",
    "안녕하세요 그리고 그리고\n",
    "안녕하세요 또 또\n",
    "안녕하세요 그런데 그런데 \n",
    "안녕하세요 끝 끝\n",
    "''' \n",
    "data = re.findall(\"\\w*\\S\", data)\n",
    "set(data) "
   ]
  },
  {
   "cell_type": "code",
   "execution_count": 95,
   "id": "103569d5-7adf-4f8a-a9a6-10d225ad9522",
   "metadata": {},
   "outputs": [
    {
     "name": "stdout",
     "output_type": "stream",
     "text": [
      "A A AA AAA AAAA AAAAA AaAbAcA AAaA "
     ]
    }
   ],
   "source": [
    "li=[\" \",\"1\",\"12\",\"123\",\"1234\",\"abc\",\"1a\"]\n",
    "for string in li:\n",
    "    print(re.sub(\"[0-9]?\",\"A\",string),end=\" \")"
   ]
  },
  {
   "cell_type": "code",
   "execution_count": null,
   "id": "8ed02381-0374-452d-8db8-06602c52735e",
   "metadata": {},
   "outputs": [],
   "source": []
  }
 ],
 "metadata": {
  "kernelspec": {
   "display_name": "Python 3 (ipykernel)",
   "language": "python",
   "name": "python3"
  },
  "language_info": {
   "codemirror_mode": {
    "name": "ipython",
    "version": 3
   },
   "file_extension": ".py",
   "mimetype": "text/x-python",
   "name": "python",
   "nbconvert_exporter": "python",
   "pygments_lexer": "ipython3",
   "version": "3.9.12"
  }
 },
 "nbformat": 4,
 "nbformat_minor": 5
}
