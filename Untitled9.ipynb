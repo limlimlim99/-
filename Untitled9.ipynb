{
 "cells": [
  {
   "cell_type": "code",
   "execution_count": 1,
   "id": "84c7d61f-fc3a-4832-940b-29c12dc434e1",
   "metadata": {},
   "outputs": [],
   "source": [
    "sentence=\"bkue socks and red socks\""
   ]
  },
  {
   "cell_type": "code",
   "execution_count": 2,
   "id": "cf52c5ae-5674-482e-9085-f11f20009cfe",
   "metadata": {},
   "outputs": [],
   "source": [
    "import re"
   ]
  },
  {
   "cell_type": "code",
   "execution_count": 3,
   "id": "f47a1d09-9ab0-4baa-83e3-1bedc392b7ad",
   "metadata": {},
   "outputs": [
    {
     "data": {
      "text/plain": [
       "'AAA socks and red socks'"
      ]
     },
     "execution_count": 3,
     "metadata": {},
     "output_type": "execute_result"
    }
   ],
   "source": [
    "re.sub(\"blue\",\"AAA\" ,\"blue socks and red socks\")"
   ]
  },
  {
   "cell_type": "code",
   "execution_count": 6,
   "id": "c4ffbef3-29d2-48b5-97ec-af645da62b0a",
   "metadata": {},
   "outputs": [
    {
     "data": {
      "text/plain": [
       "'AAA socks and AAA socks'"
      ]
     },
     "execution_count": 6,
     "metadata": {},
     "output_type": "execute_result"
    }
   ],
   "source": [
    "result=re.sub(\"blue\",\"AAA\" ,\"blue socks and red socks\")\n",
    "result=re.sub(\"red\",\"AAA\" ,result)\n",
    "result"
   ]
  },
  {
   "cell_type": "code",
   "execution_count": 7,
   "id": "0589f8cb-e9b2-4368-85ea-745cd4b8d8de",
   "metadata": {},
   "outputs": [
    {
     "data": {
      "text/plain": [
       "'AAA socks and AAA socks'"
      ]
     },
     "execution_count": 7,
     "metadata": {},
     "output_type": "execute_result"
    }
   ],
   "source": [
    "re.sub(\"blue|red\",\"AAA\" ,\"blue socks and red socks\")"
   ]
  },
  {
   "cell_type": "code",
   "execution_count": 8,
   "id": "200fa6aa-3931-4538-b265-351ca329b8d3",
   "metadata": {},
   "outputs": [
    {
     "data": {
      "text/plain": [
       "'AAA socks and red socks'"
      ]
     },
     "execution_count": 8,
     "metadata": {},
     "output_type": "execute_result"
    }
   ],
   "source": [
    "re.sub(\"b.{3}\",\"AAA\" ,\"blue socks and red socks\")"
   ]
  },
  {
   "cell_type": "code",
   "execution_count": 33,
   "id": "df2c1bf0-126a-49e8-8337-1347cb3ef628",
   "metadata": {},
   "outputs": [
    {
     "name": "stdout",
     "output_type": "stream",
     "text": [
      ", A, AA, AAA, AAAA, abc, Aa, "
     ]
    }
   ],
   "source": [
    "li=[\"\",\"1\",\"12\",\"123\",\"1234\",\"abc\",'1a']\n",
    "for string in li:\n",
    "    print(re.sub(\"[0-9]\",\"A\", string),end=\", \")"
   ]
  },
  {
   "cell_type": "code",
   "execution_count": 34,
   "id": "07f0d827-f6ed-441e-9b4e-cfc2956fc17b",
   "metadata": {},
   "outputs": [
    {
     "name": "stdout",
     "output_type": "stream",
     "text": [
      "\n",
      "A\n",
      "AA\n",
      "AAA\n",
      "AAAA\n",
      "abc\n",
      "Aa\n"
     ]
    }
   ],
   "source": [
    "li=[\"\",\"1\",\"12\",\"123\",\"1234\",\"abc\",'1a']\n",
    "for string in li:\n",
    "    print(re.sub(\"[0-9]\",\"A\", string))"
   ]
  },
  {
   "cell_type": "code",
   "execution_count": 43,
   "id": "0df221f5-8a61-4b95-939d-aa3e1450857e",
   "metadata": {},
   "outputs": [
    {
     "name": "stdout",
     "output_type": "stream",
     "text": [
      ", A, 1A, 12A, 123A, abc, 1a, "
     ]
    }
   ],
   "source": [
    "li=[\"\",\"1\",\"12\",\"123\",\"1234\",\"abc\",'1a']\n",
    "for string in li:\n",
    "    print(re.sub(\"[0-9]$\",\"A\", string),end=\", \")"
   ]
  },
  {
   "cell_type": "code",
   "execution_count": 66,
   "id": "c83b4e14-fd16-42cb-8aa8-48e2a730ee22",
   "metadata": {},
   "outputs": [
    {
     "name": "stdout",
     "output_type": "stream",
     "text": [
      "#a#1#2#o#, #a#b#c#o#, #a#B#o#, #a#1#2#3#o#, "
     ]
    }
   ],
   "source": [
    "#a로 시작하고 o로 끝나는 사이의 2개의 문자가 있는 경우 :\"a..o\", \"a{2}o\" , \"^[a].{2}[o]$\"\n",
    "# 알파벳 대문자로 시작하고 숫자로 끝나는 경우: ^[A-Z].+[0-9]$,^[A-Z]\\[0-9]$,\n",
    "# 123을 찾아서 바꾸기: \"123\", \"#\"\n",
    "# 문자들 중간에 123을 찾아서 바꾸기: \".+123.+\", \"\\S123\\S+\",\\D123\\D\n",
    "li=[\"a12o\",\"abco\",\"aBo\",'a123o']\n",
    "for string in li:\n",
    "    print(re.sub(\"\", \"#\",string),end=\", \")"
   ]
  },
  {
   "cell_type": "code",
   "execution_count": 58,
   "id": "9fab1e50-58f0-403a-997a-c5aea6eb7ece",
   "metadata": {},
   "outputs": [
    {
     "name": "stdout",
     "output_type": "stream",
     "text": [
      "#, #, aBo, a123o, kbs, 123kbs, kb3, abcKBS123, "
     ]
    }
   ],
   "source": [
    "li=[\"a12o\",\"abco\",\"aBo\",'a123o','kbs','123kbs',\"kb3\",\"abcKBS123\"]\n",
    "for string in li:\n",
    "    print(re.sub(\"^[a].{2}[o]$\", \"#\",string),end=\", \")"
   ]
  },
  {
   "cell_type": "code",
   "execution_count": 81,
   "id": "e8f35326-d31a-485a-acc6-0494407907b0",
   "metadata": {},
   "outputs": [
    {
     "name": "stdout",
     "output_type": "stream",
     "text": [
      "a12o, abco, aBo, a123o, kbs, 123kbs, kb3, abcKBS123, "
     ]
    }
   ],
   "source": [
    "li=[\"a12o\",\"abco\",\"aBo\",'a123o','kbs','123kbs',\"kb3\",\"abcKBS123\"]\n",
    "for string in li:\n",
    "    print(re.sub(\"^[A-Z]\\[0-9]$\", \"#\",string),end=\", \")"
   ]
  },
  {
   "cell_type": "code",
   "execution_count": 76,
   "id": "3db1aa21-18fc-4e44-8383-e8369eec32f3",
   "metadata": {},
   "outputs": [
    {
     "name": "stdout",
     "output_type": "stream",
     "text": [
      "park 800905-******* Kim 700905-*******\n"
     ]
    }
   ],
   "source": [
    "string = \"park 800905-1049118 Kim 700905-1059119\" \n",
    "print(re.sub(r\"\\d{7}\",\"*******\",string))"
   ]
  },
  {
   "cell_type": "code",
   "execution_count": 78,
   "id": "514ae931-8c00-40bc-bd84-d5c729a10e68",
   "metadata": {},
   "outputs": [
    {
     "name": "stdout",
     "output_type": "stream",
     "text": [
      "park 800905-******* Kim 700905-*******\n"
     ]
    }
   ],
   "source": [
    "string = \"park 800905-1049118 Kim 700905-1059119\" \n",
    "print(re.sub(\"-\\d{7}\",\"-*******\",string))"
   ]
  },
  {
   "cell_type": "code",
   "execution_count": null,
   "id": "1a17942e-3641-47e1-badc-1174aa402065",
   "metadata": {},
   "outputs": [],
   "source": []
  }
 ],
 "metadata": {
  "kernelspec": {
   "display_name": "Python 3 (ipykernel)",
   "language": "python",
   "name": "python3"
  },
  "language_info": {
   "codemirror_mode": {
    "name": "ipython",
    "version": 3
   },
   "file_extension": ".py",
   "mimetype": "text/x-python",
   "name": "python",
   "nbconvert_exporter": "python",
   "pygments_lexer": "ipython3",
   "version": "3.9.12"
  }
 },
 "nbformat": 4,
 "nbformat_minor": 5
}
