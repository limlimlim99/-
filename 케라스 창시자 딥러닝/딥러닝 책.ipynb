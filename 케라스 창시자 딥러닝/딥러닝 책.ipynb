{
 "cells": [
  {
   "cell_type": "code",
   "execution_count": 1,
   "id": "d9ce465f-b2f5-4dca-af01-88fb189d1b9b",
   "metadata": {},
   "outputs": [],
   "source": [
    "import numpy as np\n",
    "import pandas as pd\n",
    "import matplotlib.pyplot as plt\n",
    "\n",
    "from keras import Sequential\n",
    "from keras import optimizers\n",
    "from keras.layers import Input, Dense\n",
    "\n",
    "from tensorflow import keras\n",
    "import keras"
   ]
  },
  {
   "cell_type": "code",
   "execution_count": 2,
   "id": "3a12e847-2fe0-4844-bbdb-6b802117d0db",
   "metadata": {},
   "outputs": [],
   "source": [
    "# 케라스에서 mnist 데이터셋 적재하기\n",
    "from tensorflow. keras.datasets import mnist\n",
    "(train_images, train_labels), (test_images, test_labels)= mnist.load_data()"
   ]
  },
  {
   "cell_type": "code",
   "execution_count": 3,
   "id": "a7e829aa-1ace-4d45-8d4f-e8b25ce62817",
   "metadata": {},
   "outputs": [
    {
     "data": {
      "text/plain": [
       "(60000, 28, 28)"
      ]
     },
     "execution_count": 3,
     "metadata": {},
     "output_type": "execute_result"
    }
   ],
   "source": [
    "# 훈련데이터 살펴보기\n",
    "train_images.shape"
   ]
  },
  {
   "cell_type": "code",
   "execution_count": 4,
   "id": "38c00f6f-40e9-4512-a139-599f7649f357",
   "metadata": {},
   "outputs": [
    {
     "data": {
      "text/plain": [
       "60000"
      ]
     },
     "execution_count": 4,
     "metadata": {},
     "output_type": "execute_result"
    }
   ],
   "source": [
    "len(train_labels)"
   ]
  },
  {
   "cell_type": "code",
   "execution_count": 5,
   "id": "df3dda59-e1ce-4044-9a1e-2151610895fb",
   "metadata": {},
   "outputs": [
    {
     "data": {
      "text/plain": [
       "array([5, 0, 4, ..., 5, 6, 8], dtype=uint8)"
      ]
     },
     "execution_count": 5,
     "metadata": {},
     "output_type": "execute_result"
    }
   ],
   "source": [
    "train_labels"
   ]
  },
  {
   "cell_type": "code",
   "execution_count": 6,
   "id": "a4c7c9b0-f98c-498a-b02f-ab464a70d485",
   "metadata": {},
   "outputs": [
    {
     "data": {
      "text/plain": [
       "(10000, 28, 28)"
      ]
     },
     "execution_count": 6,
     "metadata": {},
     "output_type": "execute_result"
    }
   ],
   "source": [
    "test_images.shape"
   ]
  },
  {
   "cell_type": "code",
   "execution_count": 7,
   "id": "3aae62d1-734e-42c5-80b1-b48257cc9ffb",
   "metadata": {},
   "outputs": [
    {
     "data": {
      "text/plain": [
       "array([7, 2, 1, ..., 4, 5, 6], dtype=uint8)"
      ]
     },
     "execution_count": 7,
     "metadata": {},
     "output_type": "execute_result"
    }
   ],
   "source": [
    "test_labels"
   ]
  },
  {
   "cell_type": "code",
   "execution_count": 8,
   "id": "4578fcf1-b8f1-446a-8a5e-b3028e2b46ef",
   "metadata": {},
   "outputs": [],
   "source": [
    "# 신경망 구조 2-2\n",
    "from tensorflow import keras\n",
    "from tensorflow.keras import layers\n",
    "\n",
    "model=keras.Sequential([\n",
    "    layers.Dense(512, activation= \"relu\"),\n",
    "    layers.Dense(10, activation= \"softmax\")\n",
    "])"
   ]
  },
  {
   "cell_type": "code",
   "execution_count": 9,
   "id": "1cb4b894-9d7b-404f-a11c-96c445abacc2",
   "metadata": {},
   "outputs": [],
   "source": [
    "# 컴파일 단계\n",
    "model.compile(optimizer = \"rmsprop\",\n",
    "             loss =\"sparse_categorical_crossentropy\",\n",
    "             metrics = [\"accuracy\"])"
   ]
  },
  {
   "cell_type": "code",
   "execution_count": 10,
   "id": "012fd209-9433-404c-b58e-f4b77e939f77",
   "metadata": {},
   "outputs": [],
   "source": [
    "# 훈련을 시작하기 전에 데이트를 모델에 맞는 크기로 바꾸고 모든 값을 0과 1사이로 스케일을 조정\n",
    "# 이미지 데이터 준비하기\n",
    "train_images = train_images.reshape(60000, 28 * 28)\n",
    "train_images = train_images.astype(\"float32\") / 255"
   ]
  },
  {
   "cell_type": "code",
   "execution_count": 11,
   "id": "b1531e72-e3ed-4685-b245-a0365515f253",
   "metadata": {},
   "outputs": [],
   "source": [
    "test_images = test_images.reshape(10000, 28 * 28)\n",
    "test_images = test_images.astype(\"float32\") / 255"
   ]
  },
  {
   "cell_type": "code",
   "execution_count": 12,
   "id": "67ae104d-332f-4ceb-ba4e-9c13380998b1",
   "metadata": {},
   "outputs": [
    {
     "name": "stdout",
     "output_type": "stream",
     "text": [
      "Epoch 1/5\n",
      "469/469 [==============================] - 3s 4ms/step - loss: 0.2532 - accuracy: 0.9259\n",
      "Epoch 2/5\n",
      "469/469 [==============================] - 2s 4ms/step - loss: 0.1045 - accuracy: 0.9694\n",
      "Epoch 3/5\n",
      "469/469 [==============================] - 2s 4ms/step - loss: 0.0690 - accuracy: 0.9797\n",
      "Epoch 4/5\n",
      "469/469 [==============================] - 2s 4ms/step - loss: 0.0496 - accuracy: 0.9852\n",
      "Epoch 5/5\n",
      "469/469 [==============================] - 2s 4ms/step - loss: 0.0380 - accuracy: 0.9887\n"
     ]
    },
    {
     "data": {
      "text/plain": [
       "<keras.callbacks.History at 0x2388f05e760>"
      ]
     },
     "execution_count": 12,
     "metadata": {},
     "output_type": "execute_result"
    }
   ],
   "source": [
    "# fit()메서드를 호출하여 훈련 데이터에 모델을 학습\n",
    "model.fit(train_images, train_labels, epochs=5, batch_size=128)"
   ]
  },
  {
   "cell_type": "code",
   "execution_count": 13,
   "id": "edbd7c3b-4320-4025-ae13-3b965afa0fbe",
   "metadata": {
    "tags": []
   },
   "outputs": [
    {
     "name": "stdout",
     "output_type": "stream",
     "text": [
      "1/1 [==============================] - 0s 68ms/step\n"
     ]
    },
    {
     "data": {
      "text/plain": [
       "array([8.7486995e-09, 1.3319362e-10, 7.8102715e-07, 3.4398596e-05,\n",
       "       3.6592111e-11, 7.4310911e-08, 5.5942528e-14, 9.9996424e-01,\n",
       "       7.9660893e-08, 2.1863011e-07], dtype=float32)"
      ]
     },
     "execution_count": 13,
     "metadata": {},
     "output_type": "execute_result"
    }
   ],
   "source": [
    "# 모델을 사용하여 예측 만들기\n",
    "test_digits = test_images[0:10]\n",
    "predictions = model.predict(test_digits)\n",
    "predictions[0]"
   ]
  },
  {
   "cell_type": "code",
   "execution_count": 14,
   "id": "cc109cd2-cb7d-4cf2-b9f1-60a100534390",
   "metadata": {},
   "outputs": [
    {
     "data": {
      "text/plain": [
       "7"
      ]
     },
     "execution_count": 14,
     "metadata": {},
     "output_type": "execute_result"
    }
   ],
   "source": [
    "predictions[0].argmax()"
   ]
  },
  {
   "cell_type": "code",
   "execution_count": 15,
   "id": "e2350fde-1d51-4b5b-9103-3510ddcc2708",
   "metadata": {},
   "outputs": [
    {
     "data": {
      "text/plain": [
       "0.99996424"
      ]
     },
     "execution_count": 15,
     "metadata": {},
     "output_type": "execute_result"
    }
   ],
   "source": [
    "predictions[0][7]"
   ]
  },
  {
   "cell_type": "code",
   "execution_count": 16,
   "id": "bae858cc-b0cb-45db-8ddc-c56a42f5e86f",
   "metadata": {},
   "outputs": [
    {
     "name": "stdout",
     "output_type": "stream",
     "text": [
      "313/313 [==============================] - 0s 1ms/step - loss: 0.0711 - accuracy: 0.9792\n",
      "테스트 정확도: 0.979200005531311\n"
     ]
    }
   ],
   "source": [
    "# 새로운 데이터에서 모델 평가하기\n",
    "test_loss, test_acc = model.evaluate(test_images, test_labels)\n",
    "print(f\"테스트 정확도: {test_acc}\")"
   ]
  },
  {
   "cell_type": "markdown",
   "id": "8c94952e-4e06-4125-aba0-9a4d9a72f0aa",
   "metadata": {},
   "source": [
    "## 신경망을 위한 데이터 표현"
   ]
  },
  {
   "cell_type": "markdown",
   "id": "78ff3f9f-7a21-46c6-8504-204db19aee06",
   "metadata": {},
   "source": [
    "텐서(tensor): 다차원 넘파이 배열에 데이터를 저장하는 것-이전\n",
    "- 데이터를 위한 컨테이너(데이터를 담아둠)\n",
    "- 수치형 데이터를 많이 다룸(숫자)\n",
    "- 텐서는 임의의 차원 개수를 가지는 행렬의 일반호된 모습\n",
    "- 텐서에서는 차원(dimension)을 축(axis)라고 부름\n",
    "\n",
    "- rank = 차원 = 축\n",
    "\n",
    "--텐서: 다차원 배열/\n",
    "--배열: np.array\n",
    "- 1차원 배열: 벡터\n",
    "- 2차원 배열: 행렬\n",
    "- 3차원 배열: 텐서\n",
    "-- 일반적으로 tensor는 np.array를 통해 다룬다"
   ]
  },
  {
   "cell_type": "markdown",
   "id": "30c01ee1-735f-49a6-8b06-125c367aa98c",
   "metadata": {},
   "source": [
    "### 2.2.1 스칼라(랭크-0 텐서)\n",
    "- 스칼라: 하나의 숫자만 담고 있는 텐서(스칼라텐서, 랭크-0텐서, 0D텐서)\n",
    "- 넘파이에서 float32나 float64 타입의 숫자는 스칼라 텐서(배열 텐서)라고 함\n",
    "- ndim 속성을 사용하면 넘파이 배열의 축 개수를 알 수 있음\n",
    "- 스칼라 텐서의 축 개수는 0개\n",
    "- 텐서의 축 개수를 랭크라고 부름"
   ]
  },
  {
   "cell_type": "code",
   "execution_count": 22,
   "id": "0c8c5e28-b991-4378-89e0-fe63e5415b7f",
   "metadata": {},
   "outputs": [
    {
     "name": "stdout",
     "output_type": "stream",
     "text": [
      "12\n",
      "0\n"
     ]
    }
   ],
   "source": [
    "import numpy as np\n",
    "x= np.array(12)\n",
    "print(x)\n",
    "print(x.ndim)"
   ]
  },
  {
   "cell_type": "markdown",
   "id": "7eda8c23-b851-4b30-a3e2-784077d0ea4a",
   "metadata": {},
   "source": [
    "## 2.2.2벡터(랭크-1텐서)\n",
    "- 숫자의 배열을 벡터(vector), 랭크-1텐서, 1D텐서, 1차원 텐서\n",
    "- 랭크-1텐서는 딱 하나의 축을 가짐"
   ]
  },
  {
   "cell_type": "code",
   "execution_count": 41,
   "id": "f10be49a-89e4-4a46-b747-fcdb337f1eec",
   "metadata": {},
   "outputs": [
    {
     "name": "stdout",
     "output_type": "stream",
     "text": [
      "[12  3  6 14  7]\n",
      "1\n"
     ]
    }
   ],
   "source": [
    "x = np.array([12,3,6,14,7])\n",
    "print(x)\n",
    "print(x.ndim)"
   ]
  },
  {
   "cell_type": "code",
   "execution_count": 42,
   "id": "8b771e6b-9bf1-491a-a1b0-f10754ca6319",
   "metadata": {},
   "outputs": [],
   "source": [
    "# 벡터는 5개의 원소를 가지고 있으므로 5차원 벡터라고 부름\n",
    "# 주의 \n",
    "# 5D 벡터: 하나의 축을 따라 5개의 차원을 가진 것\n",
    "# 5D텐서: 5개의 축을 가진 것"
   ]
  },
  {
   "cell_type": "markdown",
   "id": "c65d85ad-f7f0-401f-9349-e54fd55f5ece",
   "metadata": {},
   "source": [
    "## 2.2.3 행렬(랭크-2텐서)\n",
    "- 벡터의 배열은 행렬, 랭크-2텐서, 2D텐서, 2차원 텐서\n",
    "- 행렬에는 2개의 축이 있다. 행(row), 열(column)\n",
    "- 행렬은 숫자가 채워진 사각 격자\n",
    "- 첫번째 축: 행 [5, 78, 2, 34, 0]\n",
    "- 두번째 축: 열 [5,6,7]"
   ]
  },
  {
   "cell_type": "code",
   "execution_count": 61,
   "id": "fa07ce40-d56c-46cf-92f7-dcca91aee007",
   "metadata": {},
   "outputs": [],
   "source": [
    "x = np.array([[5, 78, 2, 34, 0],\n",
    "               [6, 79, 3, 35, 1],\n",
    "               [7, 80, 4, 36, 2]])"
   ]
  },
  {
   "cell_type": "code",
   "execution_count": 62,
   "id": "5958bf2d-9c5c-402f-967f-2fac15fb77e3",
   "metadata": {},
   "outputs": [
    {
     "data": {
      "text/plain": [
       "2"
      ]
     },
     "execution_count": 62,
     "metadata": {},
     "output_type": "execute_result"
    }
   ],
   "source": [
    "x.ndim"
   ]
  },
  {
   "cell_type": "markdown",
   "id": "c3dbbdcc-a919-4957-89d4-a90c62ea2d67",
   "metadata": {},
   "source": [
    "## 2.2.4 랭크-3 텐서와 더 높은 랭크의 텐서\n",
    "- 이런 행렬을 하나의 새로운 배열로 합치면 숫자가 채워진 직육면체 형태로 해석 가능\n",
    "- 랭크-3텐서, 3D텐서, 3차원 텐서"
   ]
  },
  {
   "cell_type": "code",
   "execution_count": 59,
   "id": "1ba35a2d-e878-44cc-8481-98c4c4e4c778",
   "metadata": {},
   "outputs": [],
   "source": [
    "x = np.array([[[5, 78, 2, 34, 0],\n",
    "             [6, 79, 3, 35, 1],\n",
    "             [7, 80, 4, 36, 2]],\n",
    "              \n",
    "             [[5, 78, 2, 34, 0],\n",
    "             [6, 79, 3, 35, 1],\n",
    "             [7, 80, 4, 36, 2]],\n",
    "              \n",
    "             [[5, 78, 2, 34, 0],\n",
    "             [6, 79, 3, 35, 1],\n",
    "             [7, 80, 4, 36, 2]]])"
   ]
  },
  {
   "cell_type": "code",
   "execution_count": 60,
   "id": "b73f69d0-c9ea-4c3b-bfdb-a90e5c06c425",
   "metadata": {},
   "outputs": [
    {
     "data": {
      "text/plain": [
       "3"
      ]
     },
     "execution_count": 60,
     "metadata": {},
     "output_type": "execute_result"
    }
   ],
   "source": [
    "x.ndim"
   ]
  },
  {
   "cell_type": "markdown",
   "id": "42f6ad16-d35e-4d01-ab0f-982d31589445",
   "metadata": {},
   "source": [
    "## 2.2.5 핵심속성\n",
    "- 축의 개수(랭크): ndim속성에 저장됨\n",
    "- 크기(shape) : 텐서의 각 축을 따라 얼마나 많은 차원이 있는지를 나타낸 튜플\n",
    "- 데이터 타입(dtype): float16, float32, float64,unit8, 텐서플로: string도 사용함"
   ]
  },
  {
   "cell_type": "code",
   "execution_count": 64,
   "id": "90717ac7-4a35-400f-9d6d-a87a1a7961c0",
   "metadata": {},
   "outputs": [],
   "source": [
    "# MNIST예제\n",
    "from tensorflow.keras.datasets import mnist\n",
    "(train_images, train_labels), (test_images, test_images) = mnist.load_data()"
   ]
  },
  {
   "cell_type": "code",
   "execution_count": 65,
   "id": "8db69e61-b059-43b0-a687-f332965680b0",
   "metadata": {},
   "outputs": [
    {
     "data": {
      "text/plain": [
       "3"
      ]
     },
     "execution_count": 65,
     "metadata": {},
     "output_type": "execute_result"
    }
   ],
   "source": [
    "# ndim속성으로 축의 개수 확인\n",
    "train_images.ndim"
   ]
  },
  {
   "cell_type": "code",
   "execution_count": 66,
   "id": "bbc8a6df-ab21-4311-b8dd-d4d8a8006683",
   "metadata": {},
   "outputs": [
    {
     "data": {
      "text/plain": [
       "(60000, 28, 28)"
      ]
     },
     "execution_count": 66,
     "metadata": {},
     "output_type": "execute_result"
    }
   ],
   "source": [
    "# 배열의 크기\n",
    "train_images.shape"
   ]
  },
  {
   "cell_type": "code",
   "execution_count": 67,
   "id": "6d383a2c-d0a8-46d9-8b7c-3fb5c29c5455",
   "metadata": {},
   "outputs": [
    {
     "data": {
      "text/plain": [
       "dtype('uint8')"
      ]
     },
     "execution_count": 67,
     "metadata": {},
     "output_type": "execute_result"
    }
   ],
   "source": [
    "# dtype으로 데이터타입 확인\n",
    "train_images.dtype"
   ]
  },
  {
   "cell_type": "code",
   "execution_count": 68,
   "id": "a72e4cfa-09a3-4b2f-86f9-f6a47acca47a",
   "metadata": {},
   "outputs": [],
   "source": [
    "# => 배열은 8비트 정수형, 랭크-텐서, 28*28크기의 정수행렬이 6만개가 있는 배열임\n",
    "# 각 행렬은 하나의 흑백 이미지, 행렬의 각 원소는 0~255사이의 값을 가짐"
   ]
  },
  {
   "cell_type": "code",
   "execution_count": 69,
   "id": "89f1ff5e-3ade-4a09-a0f6-a3639a11dd93",
   "metadata": {},
   "outputs": [
    {
     "data": {
      "image/png": "[encoded data removed]",
      "text/plain": [
       "<Figure size 432x288 with 1 Axes>"
      ]
     },
     "metadata": {
      "needs_background": "light"
     },
     "output_type": "display_data"
    }
   ],
   "source": [
    "# 다섯번째 이미지 출력하기 2-8\n",
    "import matplotlib.pyplot as plt\n",
    "\n",
    "digit = train_images[4]\n",
    "plt.imshow(digit, cmap = plt.cm.binary)\n",
    "plt.show()"
   ]
  },
  {
   "cell_type": "code",
   "execution_count": 71,
   "id": "6df2b976-4a3d-4568-8ad0-0a2fb5699795",
   "metadata": {},
   "outputs": [
    {
     "data": {
      "text/plain": [
       "9"
      ]
     },
     "execution_count": 71,
     "metadata": {},
     "output_type": "execute_result"
    }
   ],
   "source": [
    "train_labels[4]\n",
    "# 레이블 정수는 9"
   ]
  },
  {
   "cell_type": "markdown",
   "id": "32720e8b-f9f6-42e2-9217-6f6f6f7c308f",
   "metadata": {},
   "source": [
    "## 2.2.6 넘파이로 텐서 조작하기\n",
    "- 슬라이싱: 배열에 있는 특정 원소들을 선택"
   ]
  },
  {
   "cell_type": "code",
   "execution_count": 72,
   "id": "59580bf0-404a-4953-ab70-097fb13bfe36",
   "metadata": {},
   "outputs": [
    {
     "data": {
      "text/plain": [
       "(90, 28, 28)"
      ]
     },
     "execution_count": 72,
     "metadata": {},
     "output_type": "execute_result"
    }
   ],
   "source": [
    "# 11번째에서 101번쨰까지(101번쨰는 포함X) 숫자를 선택하여(90,28,28)크기의 배열을 만든다\n",
    "my_slice = train_images[10:100]\n",
    "my_slice.shape"
   ]
  },
  {
   "cell_type": "code",
   "execution_count": 74,
   "id": "bbdd4478-3837-4b6f-bf02-d7625529b0c5",
   "metadata": {},
   "outputs": [
    {
     "name": "stdout",
     "output_type": "stream",
     "text": [
      "(90, 28, 28)\n",
      "(90, 28, 28)\n"
     ]
    }
   ],
   "source": [
    "# 배열의 축읗 따라 슬라이싱의 시작 인덱스와 마지막 인덱스를 지정\n",
    "my_slice = train_images[10:100, :, :]\n",
    "print(my_slice.shape)\n",
    "my_slice= train_images[10:100,0:28,0:28]\n",
    "print(my_slice.shape)"
   ]
  },
  {
   "cell_type": "code",
   "execution_count": 76,
   "id": "15577cb7-0a64-4bd0-9f9f-6bb90483c854",
   "metadata": {
    "collapsed": true,
    "jupyter": {
     "outputs_hidden": true
    },
    "tags": []
   },
   "outputs": [
    {
     "data": {
      "text/plain": [
       "array([[[240, 253, 253, ...,   0,   0,   0],\n",
       "        [ 45, 186, 253, ...,   0,   0,   0],\n",
       "        [  0,  16,  93, ...,   0,   0,   0],\n",
       "        ...,\n",
       "        [  0,   0,   0, ...,   0,   0,   0],\n",
       "        [  0,   0,   0, ...,   0,   0,   0],\n",
       "        [  0,   0,   0, ...,   0,   0,   0]],\n",
       "\n",
       "       [[  0,   0,   0, ...,   0,   0,   0],\n",
       "        [  0,   0,   0, ...,   0,   0,   0],\n",
       "        [  0,   0,   0, ...,   0,   0,   0],\n",
       "        ...,\n",
       "        [  0,   0,   0, ...,   0,   0,   0],\n",
       "        [  0,   0,   0, ...,   0,   0,   0],\n",
       "        [  0,   0,   0, ...,   0,   0,   0]],\n",
       "\n",
       "       [[241, 243, 234, ...,   0,   0,   0],\n",
       "        [143,  91,  28, ...,   0,   0,   0],\n",
       "        [  0,   0,   0, ...,   0,   0,   0],\n",
       "        ...,\n",
       "        [  0,   0,   0, ...,   0,   0,   0],\n",
       "        [  0,   0,   0, ...,   0,   0,   0],\n",
       "        [  0,   0,   0, ...,   0,   0,   0]],\n",
       "\n",
       "       ...,\n",
       "\n",
       "       [[253, 254, 253, ...,   0,   0,   0],\n",
       "        [ 72, 192, 254, ...,   0,   0,   0],\n",
       "        [  0,   6, 242, ...,   0,   0,   0],\n",
       "        ...,\n",
       "        [  0,   0,   0, ...,   0,   0,   0],\n",
       "        [  0,   0,   0, ...,   0,   0,   0],\n",
       "        [  0,   0,   0, ...,   0,   0,   0]],\n",
       "\n",
       "       [[  0,  31, 127, ...,   0,   0,   0],\n",
       "        [ 27, 218, 252, ...,   0,   0,   0],\n",
       "        [194, 253, 217, ...,   0,   0,   0],\n",
       "        ...,\n",
       "        [  0,   0,   0, ...,   0,   0,   0],\n",
       "        [  0,   0,   0, ...,   0,   0,   0],\n",
       "        [  0,   0,   0, ...,   0,   0,   0]],\n",
       "\n",
       "       [[ 97, 254, 252, ...,   0,   0,   0],\n",
       "        [232, 181,  60, ...,   0,   0,   0],\n",
       "        [ 46,   0,   0, ...,   0,   0,   0],\n",
       "        ...,\n",
       "        [  0,   0,   0, ...,   0,   0,   0],\n",
       "        [  0,   0,   0, ...,   0,   0,   0],\n",
       "        [  0,   0,   0, ...,   0,   0,   0]]], dtype=uint8)"
      ]
     },
     "execution_count": 76,
     "metadata": {},
     "output_type": "execute_result"
    }
   ],
   "source": [
    "my_slice= train_images[:, 14:, 14:]\n",
    "my_slice"
   ]
  },
  {
   "cell_type": "code",
   "execution_count": 78,
   "id": "3b6c8c41-4bd8-4faf-8873-f18cf6cdb32a",
   "metadata": {
    "collapsed": true,
    "jupyter": {
     "outputs_hidden": true
    },
    "tags": []
   },
   "outputs": [
    {
     "data": {
      "text/plain": [
       "array([[[ 49, 238, 253, ...,  93,  82,  82],\n",
       "        [ 18, 219, 253, ...,   0,   0,   0],\n",
       "        [  0,  80, 156, ...,   0,   0,   0],\n",
       "        ...,\n",
       "        [  0,   0,   0, ..., 253, 207,   2],\n",
       "        [  0,   0,   0, ..., 250, 182,   0],\n",
       "        [  0,   0,   0, ...,  78,   0,   0]],\n",
       "\n",
       "       [[  0,   0,   0, ...,  84, 252, 253],\n",
       "        [  0,   0,   0, ...,  96, 189, 253],\n",
       "        [  0,   0,   0, ...,  47,  79, 255],\n",
       "        ...,\n",
       "        [252, 145,   0, ..., 252, 173,   0],\n",
       "        [253, 225,   0, ..., 162,   0,   0],\n",
       "        [252, 249, 146, ...,  56,   0,   0]],\n",
       "\n",
       "       [[  0,   0,   0, ...,   0,   2, 153],\n",
       "        [  0,   0,   0, ...,   0,  27, 254],\n",
       "        [  0,   0,   0, ...,   0, 183, 254],\n",
       "        ...,\n",
       "        [  0,   0,   0, ..., 254,  57,   0],\n",
       "        [  0,   0,   0, ..., 254,  57,   0],\n",
       "        [  0,   0,   0, ..., 255,  94,   0]],\n",
       "\n",
       "       ...,\n",
       "\n",
       "       [[  0,   0,   0, ..., 223, 159, 131],\n",
       "        [  0,   0,   0, ...,  27,   0,   0],\n",
       "        [  0,   0,  54, ...,   0,   0,   0],\n",
       "        ...,\n",
       "        [  0,   0,   0, ..., 173,   0,   0],\n",
       "        [  0,   0,   0, ..., 173,   0,   0],\n",
       "        [  0,   0,   0, ...,  74,   0,   0]],\n",
       "\n",
       "       [[  0,   0,   0, ...,   0,   0,   0],\n",
       "        [  0,   0,   0, ...,   0,   0,   0],\n",
       "        [  0,   0,   0, ...,   0,   0,   0],\n",
       "        ...,\n",
       "        [247, 110,   0, ..., 146, 163,  63],\n",
       "        [236, 128,   0, ..., 178,  12,   0],\n",
       "        [239, 196, 169, ...,   0,   0,   0]],\n",
       "\n",
       "       [[  0,   0,   0, ..., 254, 212,  27],\n",
       "        [  0,   0,   0, ..., 218, 237, 248],\n",
       "        [  0,   0,   0, ...,   0,  92, 231],\n",
       "        ...,\n",
       "        [  0, 110, 254, ...,   0,   0,   0],\n",
       "        [131, 254, 154, ...,   0,   0,   0],\n",
       "        [209, 153,  19, ...,   0,   0,   0]]], dtype=uint8)"
      ]
     },
     "execution_count": 78,
     "metadata": {},
     "output_type": "execute_result"
    }
   ],
   "source": [
    "my_slice = train_images[:, 7:-7, 7:-7]\n",
    "my_slice"
   ]
  },
  {
   "cell_type": "markdown",
   "id": "0ed777cf-8243-4af9-b43a-00322b0c222c",
   "metadata": {},
   "source": [
    "## 2.2.7 배치 데이터\n",
    "- 일반적으로 딥러닝에서 사용하는 모든 데이터 텐서의 첫번째 축(인덱스가 0부터 시작하므로 0번째 축)은 샘플축(sample axis), 샘플차원(sample dimension)\n",
    "- 딥러닝 모델은 한번에 전체 데이터셋을 처리하지 않음\n",
    "- 대신 데이터를 작은 배치(batch)로 나눔\n",
    "- 첫번째 축(0번축)을 배치축 또는 배치차원"
   ]
  },
  {
   "cell_type": "code",
   "execution_count": 84,
   "id": "5a58ffb9-ad78-46dd-9a70-73b108c66c16",
   "metadata": {},
   "outputs": [],
   "source": [
    "batch = train_images[:128]\n",
    "batch= train_images[128:256]\n",
    "n=3\n",
    "batch = train_images[128 * n:128 *(n+1)]"
   ]
  },
  {
   "cell_type": "markdown",
   "id": "cf83a334-1b7c-41a9-9863-cfa12d3c9694",
   "metadata": {},
   "source": [
    "## 2.2.8 텐서의 실제 사례\n",
    "- 벡터 데이터(sample, features): 크기의 랭크-2텐서, 각 샘플은 수치 속성(특징(feature))으로 구성된 벡터\n",
    "- 시계열 데이터 또는 시퀀스(sequence)데이터: (samples, timesteps, features)크기의 랭크-3텐서. 각 샘플은 특성 벡터의 (길이가 timesteps인)시퀀스\n",
    "- 이미지: (sample, height, width, channel) 또는 (sample, channel, height, width) 크기의 랭크-4텐서. 각 샘플은 픽셀의 2D격자고, 각 픽셀은 수치값(채널(chanel))의 벡터\n",
    "- 동영상: (sample, frame, height, width, channel) 또는 (sample, frame, channel, height, width) 크기의 랭크-5텐서. 각 샘플의 이미지의 (길이가 frames인)시퀀스"
   ]
  },
  {
   "cell_type": "markdown",
   "id": "2011732a-1aed-4602-abd4-06160d33187b",
   "metadata": {},
   "source": [
    "## 2.2.9 벡터 데이터\n",
    "- 하나의 데이터 포인트가 벡터로 인코딩될 수 있으므로 배치데이터는 랭크-2텐서로서 인코딩될 것이다.(즉 벡터의 배열)\n",
    "- 첫번째 축: 샘플축\n",
    "- 두번째 축: 특성축(feature axis)"
   ]
  },
  {
   "cell_type": "markdown",
   "id": "c1151129-565a-4e2b-9fe4-fa2db6444a4a",
   "metadata": {},
   "source": [
    "## 2.2.10 시계열 데이터 또는 시퀀스 데이터\n",
    "- 데이터에서 시간이(또는 연속된 순서가) 중요할 때는 시간 축을 포함하여 랭크-3텐서로 저장됨\n",
    "- 각 샘플은 벡터(랭크-2텐서)의 시퀀스로 인코딩되므로 배치 데이터는 랭크-3텐서로 인코딩 됨\n",
    "- 주식가격 데이터셋, 트윗 데이터셋"
   ]
  },
  {
   "cell_type": "markdown",
   "id": "fca3fccd-a48f-4686-a8f8-86c0cbc75cec",
   "metadata": {},
   "source": [
    "## 2.2.11 이미지 데이터\n",
    "- 이미지: 높이, 너비, 컬러 3차원\n",
    "- 흑백 이미지: (장수, 높이, 너비, 1)=> 랭크-2텐서\n",
    "- 컬러 이미지: (장수, 높이, 너비, 3)=> 랭크-3텐서\n",
    "\n",
    "- 이미지 텐서를 지정하는 방식\n",
    "- 채널 마지막방식: sample, height, width, color_depth 콜로 채널의 깊이를 끝에 놓는다.\n",
    "- 채널 우선방식: sample, color_depth, height, width 컬러채널의 깊이를 배치 축 바로 뒤에"
   ]
  },
  {
   "cell_type": "markdown",
   "id": "27c55fdb-be0f-477b-9bb0-75460c74aabb",
   "metadata": {},
   "source": [
    "## 2.2.12 비디오 데이터\n",
    "- 랭크-5텐서가 필요한 데이터\n",
    "- 하나의 비디오는 프레임의 연속, 각 프레임은 하나의 컬러 이미지\n",
    "- 프레임(height, width, color_depth)의 랭크-3텐서로 저장될 수 있기 때문에 \n",
    "- 프레임의 연속은 (frames, height, width, color_depth)의 랭크-4텐서로 저장될 수 있다.\n",
    "- 여러 비디오의 배치는(sample, frames, height, width, color_depth)의 랭크-5텐서로 저장될 수 있다.\n",
    "- (s,f,h,w,c)"
   ]
  },
  {
   "cell_type": "markdown",
   "id": "43685bed-4d7e-4de3-b8c4-296d6673b622",
   "metadata": {},
   "source": [
    "# 2.3 신경망의 톱니바퀴: 텐서연산\n",
    "- 컴퓨터 프로그램을 이진수로 입력처리하는 몇개의 이항연산(AND OR, NOR등)\n",
    "- 심층 신경망이 학습한 모든 변환을 수치 데이터 텐서에 적용하는 몇 종류의 텐서연산(텐서함수)으로 나타낼 수 있음"
   ]
  },
  {
   "cell_type": "code",
   "execution_count": 92,
   "id": "0aeaeff3-9a72-4f50-a475-f14db12316f6",
   "metadata": {},
   "outputs": [
    {
     "data": {
      "text/plain": [
       "<keras.layers.core.dense.Dense at 0x2388f70ad30>"
      ]
     },
     "execution_count": 92,
     "metadata": {},
     "output_type": "execute_result"
    }
   ],
   "source": [
    "keras.layers.Dense(512, activation=\"relu\")\n",
    "# Dense 층을 쌓아 모델을 만듬\n",
    "# 이 층은 행렬을 입력 받고 입력 텐서의 새로운 표현인 또 다른 행렬을 반환하는 함수\n",
    "# w: 행렬, b: 벡터"
   ]
  },
  {
   "cell_type": "markdown",
   "id": "53a62851-be66-43c4-a741-6cf0e3f8d24d",
   "metadata": {},
   "source": [
    "### output = relu(dot(W, input)+b)\n",
    "- W는 행렬이고, b는 벡터\n",
    "- 둘 모두 층의 속성"
   ]
  },
  {
   "cell_type": "markdown",
   "id": "cd835333-5595-47af-bfab-3db671fbef0b",
   "metadata": {},
   "source": [
    "### 3개의 텐서연산\n",
    "- 입력 텐서와 텐서 W사이의 점곱(dot)\n",
    "- 점곱으로 만들어진 행렬과 벡터 b사이의 덧셈(+)\n",
    "- relus(렐루)연산, relu(x)는 max(x,0)"
   ]
  },
  {
   "cell_type": "markdown",
   "id": "1f365613-20ed-4363-94b4-578c00d133cb",
   "metadata": {},
   "source": [
    "- int(1, x1, x2, x3,,)를 (Σ에 넣고, 시그모이드를 거쳐) 렐루함수를 거쳐서 out\n",
    "- 1은 b(편향), x1(가중치), x2(가중치) -> (Σ | 시그모이드)=> 활성함수(렐루함수)\n",
    "- 렐루함수: p. 152그림"
   ]
  },
  {
   "cell_type": "markdown",
   "id": "3d00e755-b2a0-4973-87b4-7c00002151f6",
   "metadata": {},
   "source": [
    "## 2.3.1 원소별 연산\n",
    "- relu함수와 덧셈: 원소별 덧셈(element-wise operation)\n",
    "- 텐서에 있는 각 원소에 독립적으로 적용됨"
   ]
  },
  {
   "cell_type": "code",
   "execution_count": 23,
   "id": "07bd750c-d0df-49fe-900c-ab2140e1d3c4",
   "metadata": {},
   "outputs": [],
   "source": [
    "# for 반복문\n",
    "def naive_relu(x):\n",
    "    assert len(x.shape) ==2\n",
    "    x= x.copy()\n",
    "    for i in range(x.shape[0]):\n",
    "        x[i,j]=max(x[i,j],0)\n",
    "    return x"
   ]
  },
  {
   "cell_type": "code",
   "execution_count": 24,
   "id": "2e029090-bb9b-448e-ba40-80ec79414f15",
   "metadata": {},
   "outputs": [],
   "source": [
    "# 덧셈\n",
    "def navie_add(x,y):\n",
    "    assert len(x.shape) ==2 \n",
    "    assert s.shape == y.shape\n",
    "    x = x.copy()\n",
    "    for i in range(x.shape[0]):\n",
    "        x[i,j]+=y[i,j]\n",
    "    return x"
   ]
  },
  {
   "cell_type": "code",
   "execution_count": 25,
   "id": "389fb3c0-a719-449c-953b-73ef917c2bc1",
   "metadata": {},
   "outputs": [],
   "source": [
    "# 넘파이는 BLAS구현에 복잡한 일들을 위임함\n",
    "#BLAS는 고도로 병렬화되고 효율적인 저수준의 텐서조작 루틴, 전형적으로 포트란(Fortran)이나 C언어로 구현"
   ]
  },
  {
   "cell_type": "code",
   "execution_count": 26,
   "id": "03646f4e-eb11-4608-bbe2-10c31f252304",
   "metadata": {
    "tags": []
   },
   "outputs": [],
   "source": [
    "# 원소별 연산\n",
    "import numpy as np\n",
    "\n",
    "# 원소별 덧셈\n",
    "z = x+y\n",
    "#원소별 렐루\n",
    "z = np.maximum(z,0.)"
   ]
  },
  {
   "cell_type": "code",
   "execution_count": 27,
   "id": "7cf799ee-1f69-47a0-aa40-5debd3d073fc",
   "metadata": {
    "tags": []
   },
   "outputs": [
    {
     "name": "stdout",
     "output_type": "stream",
     "text": [
      "걸린시간: 0.00 s\n"
     ]
    }
   ],
   "source": [
    "# 시간차이 재보기\n",
    "import time\n",
    "x= np.random.random((20,100))\n",
    "y= np.random.random((20,100))\n",
    "\n",
    "t0 = time.time()\n",
    "for _ in range(1000):\n",
    "    z = x+y\n",
    "    z = np.maximum(z,0.)\n",
    "print(\"걸린시간: {0:.2f} s\". format(time.time() - t0))"
   ]
  },
  {
   "cell_type": "code",
   "execution_count": 28,
   "id": "1bb12ac7-bd03-4b3e-976c-741f703f12ae",
   "metadata": {
    "collapsed": true,
    "jupyter": {
     "outputs_hidden": true
    },
    "tags": []
   },
   "outputs": [
    {
     "ename": "NameError",
     "evalue": "name 'naive_add' is not defined",
     "output_type": "error",
     "traceback": [
      "\u001b[1;31m---------------------------------------------------------------------------\u001b[0m",
      "\u001b[1;31mNameError\u001b[0m                                 Traceback (most recent call last)",
      "Input \u001b[1;32mIn [28]\u001b[0m, in \u001b[0;36m<cell line: 3>\u001b[1;34m()\u001b[0m\n\u001b[0;32m      2\u001b[0m t0 \u001b[38;5;241m=\u001b[39m time\u001b[38;5;241m.\u001b[39mtime()\n\u001b[0;32m      3\u001b[0m \u001b[38;5;28;01mfor\u001b[39;00m _ \u001b[38;5;129;01min\u001b[39;00m \u001b[38;5;28mrange\u001b[39m(\u001b[38;5;241m1000\u001b[39m):\n\u001b[1;32m----> 4\u001b[0m     z \u001b[38;5;241m=\u001b[39m \u001b[43mnaive_add\u001b[49m(x,y)\n\u001b[0;32m      5\u001b[0m     z \u001b[38;5;241m=\u001b[39m navie_relu(z)\n\u001b[0;32m      6\u001b[0m \u001b[38;5;28mprint\u001b[39m(\u001b[38;5;124m\"\u001b[39m\u001b[38;5;124m걸린시간:\u001b[39m\u001b[38;5;132;01m{0:.2f}\u001b[39;00m\u001b[38;5;124m s\u001b[39m\u001b[38;5;124m\"\u001b[39m\u001b[38;5;241m.\u001b[39mformat(time\u001b[38;5;241m.\u001b[39mtime() \u001b[38;5;241m-\u001b[39m t0))\n",
      "\u001b[1;31mNameError\u001b[0m: name 'naive_add' is not defined"
     ]
    }
   ],
   "source": [
    "# 단순한 방법\n",
    "t0 = time.time()\n",
    "for _ in range(1000):\n",
    "    z = naive_add(x,y)\n",
    "    z = navie_relu(z)\n",
    "print(\"걸린시간:{0:.2f} s\".format(time.time() - t0))"
   ]
  },
  {
   "cell_type": "markdown",
   "id": "932e6484-7c46-47e5-a864-5f7c2fbba567",
   "metadata": {},
   "source": [
    "# 2.3.2 브로드 캐스팅\n",
    "- naive_add는 동일한 크기의 랭크-2텐서만 지원함\n",
    "- 브로드캐스팅: 2단계\n",
    "- 1. 큰 텐서의 ndim에 맞도록 작은 텐서에(브로드캐스팅 축이라고 부르는) 축이 추가됨\n",
    "- 2. 작은 텐서가 새 축을 따라서 큰 텐서의 크기에 맞도록 반복"
   ]
  },
  {
   "cell_type": "code",
   "execution_count": 29,
   "id": "289c6a6d-c540-4f44-a94c-5ec82d1617c8",
   "metadata": {},
   "outputs": [],
   "source": [
    "import numpy as np"
   ]
  },
  {
   "cell_type": "code",
   "execution_count": 35,
   "id": "9394e85a-c173-4e57-b2c7-64cd7aa6857a",
   "metadata": {},
   "outputs": [],
   "source": [
    "x=np.random.random((32,10))\n",
    "y=np.random.random((10,))"
   ]
  },
  {
   "cell_type": "code",
   "execution_count": 40,
   "id": "7a3ed8a1-6820-4c5b-b914-31dfcea847a4",
   "metadata": {},
   "outputs": [],
   "source": [
    "# y에 비어있는 첫번쨰 축을 추가하여 크기를 (1, 10)으로 만듦\n",
    "y = np.expand_dims(y,axis=0)\n",
    "# y축을 32번 반복하면서 텐서 y의 크기는(32,10)이 됨\n",
    "Y = np.concatenate([y] * 32, axis=0)\n",
    "\n",
    "# 이렇게 하면 x,Y의 크기가 같아져서 더할 수 있게 됨"
   ]
  },
  {
   "cell_type": "code",
   "execution_count": 41,
   "id": "26e45061-c602-4267-9a59-67d800654a2e",
   "metadata": {},
   "outputs": [],
   "source": [
    "# 단순구현\n",
    "def navie_add_matrix_and_vector(x,y):\n",
    "    assert len(x.shape) == 2\n",
    "    assert len(y.shape) == 1\n",
    "    assert x.shape[1] == y.shape[0]\n",
    "    x = x.copy()\n",
    "    for i in range(x.shape[0]):\n",
    "        x[i,j]+=y[j]\n",
    "    return x"
   ]
  },
  {
   "cell_type": "code",
   "execution_count": 44,
   "id": "694cc211-a817-4e91-a2fe-17e95688f3c9",
   "metadata": {},
   "outputs": [],
   "source": [
    "# 크기가 다른 두 텐서에 브로드캐스팅으로 원소별 maximum연산을 적용\n",
    "import numpy as np\n",
    "\n",
    "x= np.random.random((64, 3, 32, 10))\n",
    "y= np.random.random((32, 10))\n",
    "z= np.maximum(x,y)"
   ]
  },
  {
   "cell_type": "markdown",
   "id": "d72dbe6e-ec73-45fc-8cf6-c4b3106728f9",
   "metadata": {},
   "source": [
    "## 2.3.3 텐서 곱셈\n",
    "- 텐서곱셈(tensor product), 점곱(dot product)\n",
    "- 넘파이에서 텐서 곱셈은 np.dot함수를 사용하여 수행"
   ]
  },
  {
   "cell_type": "code",
   "execution_count": 50,
   "id": "8c8d61c2-dcc7-4929-8ab4-9897cd836138",
   "metadata": {},
   "outputs": [],
   "source": [
    "x= np.random.random((32,))\n",
    "y= np.random.random((32,))\n",
    "z= np.dot(x,y)\n",
    "\n",
    "z= x*y"
   ]
  },
  {
   "cell_type": "code",
   "execution_count": 53,
   "id": "f00a4e66-f60b-4632-9ee5-fc5021e6a611",
   "metadata": {},
   "outputs": [],
   "source": [
    "# 2개의 벡터x와 y의 접곱\n",
    "def navie_vector_dot(x,y):\n",
    "    assert len(x.shape) == 1\n",
    "    assert len(y.shape) == 1\n",
    "    assert x.shape[0] == y.shape[0]\n",
    "    z=0.\n",
    "    for i in range(x.shape[0]):\n",
    "        z+=x[i]*y[i]\n",
    "    return z\n",
    "\n",
    "# 두 벡터의 점곱은 스칼라가 되므로 원소 개수가 같은 벡터끼리 점곱이 가능"
   ]
  },
  {
   "cell_type": "code",
   "execution_count": 55,
   "id": "b10d5264-b0e5-483c-a5d1-0a99ac4533c8",
   "metadata": {},
   "outputs": [],
   "source": [
    "# 행렬 x와 벡터 y사이에서도 점곱이 가능\n",
    "def navie_matrix_vector_dot(x,y):\n",
    "    assert len(x.shape) == 2\n",
    "    assert len(y.shape) == 1\n",
    "    assert x.shape[1] == y.shape[0]\n",
    "    z = np.zeros(x.shape[0])\n",
    "    for i in range(x.shape[1]):\n",
    "        z[i] += x[i,j] * y[j]\n",
    "    return z"
   ]
  },
  {
   "cell_type": "code",
   "execution_count": 59,
   "id": "b1e2ffe0-1868-45f7-98d5-22be38e0e9b5",
   "metadata": {},
   "outputs": [],
   "source": [
    "def navie_matrix_vector_dot(x,y):\n",
    "    z= np.zeros(x.shape[0])\n",
    "    for i in range(x.shape[0]):\n",
    "        z[i] = navie_vector_dot(x[i, :], y)\n",
    "    return z\n",
    "\n",
    "# 두 텐사 증 하나라도 ndim이 1보다 크면 dot연산에 교환법칙이 성립되지 않음\n",
    "# dot(x,y)와 dot(y,x)가 같지 않다.\n",
    "# x.shape[1]==y.shape[0]일 때 두 행렬 x와 y의 점곱(dot(x,y))이 성립됨\n",
    "# x의 행과 y열 사이 벡터 점곱으로 인해 (x.shape[0], y.shape[1])크기의 행렬이 됨"
   ]
  },
  {
   "cell_type": "code",
   "execution_count": 60,
   "id": "bd5500db-4436-4eb6-9ceb-539c5fcbc084",
   "metadata": {},
   "outputs": [],
   "source": [
    "def navie_matrix_vector_dot(x,y):\n",
    "    assert len(x.shape) == 2\n",
    "    assert len(y.shape) == 2\n",
    "    assert x.shape[1] == y.shape[0]\n",
    "    z = np.zeros(x.shape[0], y.shape[1])\n",
    "    for i in range(x.shape[1]):\n",
    "        row_x = x[i, :]\n",
    "        column_y = y[:, j]\n",
    "        z[i,j] = naive_vector_dot(row_x, column_y)\n",
    "    return z"
   ]
  },
  {
   "cell_type": "code",
   "execution_count": null,
   "id": "8ee0e4d1-425f-4997-aa43-f4ad642bda76",
   "metadata": {},
   "outputs": [],
   "source": [
    "- 행렬의 접곱\n",
    "# 크기를 맞추는 동일한 규칙을 따르면 고차원 텐서 간의 접곱을 할 수 있다\n",
    "(a, b, c, d) · (d,) -> (a, b, c)\n",
    "(a, b, c, d) · (d, e) -> (a, b, c, e)"
   ]
  },
  {
   "cell_type": "markdown",
   "id": "8934b0ad-8190-4a9d-80d1-531a03102676",
   "metadata": {},
   "source": [
    "# 2.3.4 텐서 크기 변환(tensor reshape)\n",
    "- 모델에 주입할 숫자 데이터를 전처리할 때 사용\n",
    "- train_images = train_images.reshape((60000, 28*28))\n",
    "- 텐서의 크기를 변환하다는 것은 특정 크기에 맞게 열과 행을 재배열.\n",
    "- 크기가 변환된 텐서는 원래 텐서와 원소 개수가 동일하다."
   ]
  },
  {
   "cell_type": "code",
   "execution_count": 67,
   "id": "d6e7862e-dbab-4e6f-bf9f-538e001557be",
   "metadata": {},
   "outputs": [],
   "source": [
    "x= np.array(([0.,1.,],\n",
    "             [2.,3.,],\n",
    "             [4.,5.]))"
   ]
  },
  {
   "cell_type": "code",
   "execution_count": 69,
   "id": "83fec956-9442-4180-ab46-971afdc79dcb",
   "metadata": {},
   "outputs": [
    {
     "data": {
      "text/plain": [
       "(3, 2)"
      ]
     },
     "execution_count": 69,
     "metadata": {},
     "output_type": "execute_result"
    }
   ],
   "source": [
    "x.shape"
   ]
  },
  {
   "cell_type": "code",
   "execution_count": 72,
   "id": "2f9e4cf5-a641-452c-9d47-b4186555dc52",
   "metadata": {},
   "outputs": [
    {
     "data": {
      "text/plain": [
       "array([[0.],\n",
       "       [1.],\n",
       "       [2.],\n",
       "       [3.],\n",
       "       [4.],\n",
       "       [5.]])"
      ]
     },
     "execution_count": 72,
     "metadata": {},
     "output_type": "execute_result"
    }
   ],
   "source": [
    "x= x.reshape((6,1))\n",
    "x"
   ]
  },
  {
   "cell_type": "code",
   "execution_count": 75,
   "id": "6a7ec44f-dc8b-4306-b91b-e408e270078c",
   "metadata": {},
   "outputs": [
    {
     "data": {
      "text/plain": [
       "array([[0., 1., 2.],\n",
       "       [3., 4., 5.]])"
      ]
     },
     "execution_count": 75,
     "metadata": {},
     "output_type": "execute_result"
    }
   ],
   "source": [
    "x = x.reshape((2,3))\n",
    "x"
   ]
  },
  {
   "cell_type": "code",
   "execution_count": 77,
   "id": "90e6d103-a778-4da8-ac1d-f3bdea540f9b",
   "metadata": {},
   "outputs": [
    {
     "data": {
      "text/plain": [
       "(20, 300)"
      ]
     },
     "execution_count": 77,
     "metadata": {},
     "output_type": "execute_result"
    }
   ],
   "source": [
    "# 전치(transposition): 행렬의 전치는 행과 열을 바꾸는 것\n",
    "# x[i, :] -> x[:,i]\n",
    "x= np.zeros((300,20))\n",
    "x= np.transpose(x)\n",
    "x.shape"
   ]
  },
  {
   "cell_type": "markdown",
   "id": "f9698ddc-c9a3-489f-a03d-e1839db4cf02",
   "metadata": {},
   "source": [
    "# 2.3.5 텐서 연산의 기하학적 해석(analysis)\n",
    "- 좌표 그림"
   ]
  },
  {
   "cell_type": "code",
   "execution_count": 79,
   "id": "21dbd08b-bdc6-4939-b8fd-71a103dffca5",
   "metadata": {},
   "outputs": [],
   "source": [
    "A = [0.5, 1]\n",
    "B = [1, 0.5]\n",
    "두 벡터의 덧셈에 대한 기하학적 해석\n",
    "텐서의 덧셈은 객체를 특정 방향으로 특정 양만큼(객체를 왜곡시키지 않고)이동\n",
    "- 원래 A점에서 새로운 위치까지 거리와 방향은 벡터 B에 의해 결정됨"
   ]
  },
  {
   "cell_type": "code",
   "execution_count": null,
   "id": "3b7bf5d0-f131-412f-acea-036f943ef7a5",
   "metadata": {},
   "outputs": [],
   "source": [
    "기하학적 연산은 텐서로 표현할 수 있다.\n",
    "- 이동(translation): (x,y)만큼 (수직,수평)이동\n",
    "- 회전(rotaion): R= [cos(t)-sin(t)][sin(t) cos(t)] 。[x,y] 각도t만큼 2D벡터를 반시계방향 회전\n",
    "- 크키변경(scaling): S= [[horizontal_factor, 0], [0, vectical_factor]]와 점곱하여 수직, 수평 방향으로 크기를 변경 = 대각행렬(diagona matrix) \n",
    "- 기울이기(skeing)\n",
    "- 선형변환(linear transform):  크기변경, 회전\n",
    "- 아핀변환(affine transform): 어떤 행렬과 점곱하여 얻는 선형변환과 (벡터를 더해 얻는) 이동조합 y=w*x+b, relu(W*x+b)\n",
    "- relu활상화 함수를 사용하는 Dense층: 아핀 변환의 중요한 성질은 여러 아핀변환을 반복래서 적용해도 결국 하나의 아핀 변환이 됨"
   ]
  },
  {
   "cell_type": "code",
   "execution_count": null,
   "id": "5ca6332b-493b-42fd-aec1-12e6a0829095",
   "metadata": {},
   "outputs": [],
   "source": [
    "## 2.3.6 딥러닝의 기하학적 해석\n",
    "- 심층 신경망의 각 층은 데이터를 조금씩 풀어주는 변환을 적용하므로, 이런 층을 깊게 쌓으면 아주 복잡한 분해과정을 처리할 수 있음\n",
    "- 15차원 문제를 1차원으로 하나하나 풀기(훨씬 정확)"
   ]
  },
  {
   "cell_type": "markdown",
   "id": "33f928ec-b127-4232-b146-d8e5e847d42e",
   "metadata": {},
   "source": [
    "# 2.4 신경망의 엔진: 그레이디언트 기반 최적화"
   ]
  },
  {
   "cell_type": "code",
   "execution_count": null,
   "id": "6acd3b47-de8b-4323-80ad-0b805b7d0c8e",
   "metadata": {},
   "outputs": [],
   "source": [
    "output = relu(dot(W, input)+b)\n",
    "- 초기: 무작위 초기화\n",
    "- 가중치가 점진적으로 조정\n",
    "- 훈련"
   ]
  },
  {
   "cell_type": "code",
   "execution_count": null,
   "id": "132dae34-9006-4f81-9acf-d34a2d331257",
   "metadata": {},
   "outputs": [],
   "source": [
    "1. 훈련 샘플 x와 이에 상응하는 타깃 y_true의 배치를 추출\n",
    "2. x를 사용하여 모델을 실행하고(정방향 패스(forward pass)단계), 예측 y_pred를 구한다\n",
    "3. y_pred와 y_true의 차이를 측정하여 이 배치에 대한 모델의 손실을 구한다\n",
    "4. 배체애 대한 손실이 조금 감소되도록 모델의 모든 가중치를 업데이트 한다\n",
    "- 훈련 데이터에서 모델의 손실(예측 y_pred, 타깃 y_true)의 오차가 매우 작아질 것이다."
   ]
  },
  {
   "cell_type": "markdown",
   "id": "e311dfdf-03e4-4a5e-a793-154a640f6aa6",
   "metadata": {},
   "source": [
    "## 2.4.1 도함수란?"
   ]
  },
  {
   "cell_type": "code",
   "execution_count": null,
   "id": "6e688c74-145e-4cf9-8cd3-5d9d4d92292a",
   "metadata": {},
   "outputs": [],
   "source": [
    "- 연속적이고 매끄러운 함수 \n",
    "f(x) = y\n",
    "- 연속적인 함수에서는 x를 조금 바꾸면 y가 조금만 변경된다.\n",
    "f(x + epsilon_x) = y + a * epsilon_x"
   ]
  },
  {
   "cell_type": "markdown",
   "id": "65399a35-08cc-4c32-8a8c-79eec0fc1190",
   "metadata": {},
   "source": [
    "## 2.4.2 텐서 연산의 도함수: 그레이디언트"
   ]
  },
  {
   "cell_type": "code",
   "execution_count": null,
   "id": "43ae1222-ed21-4803-857e-9382e6817307",
   "metadata": {},
   "outputs": [],
   "source": [
    "- 머신러닝 기반의 예\n",
    "- 입력 벡터, x(데이터 셋에 있는 샘플)\n",
    "- 행렬, w(모델 가중치)\n",
    "- 타깃, y_true(모델이 x에 연관시키기 위해 학습해야 할 값)\n",
    "- 손실함수, loss(현재의 예측과 y_true 간의 차이를 측정하기 위해 사용)"
   ]
  },
  {
   "cell_type": "code",
   "execution_count": null,
   "id": "a2f19e2d-4c2c-4de6-b1ff-384b838c2cb9",
   "metadata": {},
   "outputs": [],
   "source": [
    "# w를 사용하여 예측 y_pred를 계산하고 그 다음 예측 y_pred와 타깃 y_true사이의 손실 또는 차이를 계산함\n",
    "y_prepd = dot(w,x)   # 모델 가중치 w를 사용하여 x에 대한 예측을 만든다\n",
    "loss_value = loss(y_pred, y_true) # 예측이 얼마나 벗어났는지를 추정"
   ]
  },
  {
   "cell_type": "code",
   "execution_count": null,
   "id": "e9b6fc07-1382-41e4-a442-f44695045561",
   "metadata": {},
   "outputs": [],
   "source": [
    "# 그레디언트를 사용하여 loss_value가 작아지도록 w를 업데이트 하는 방법\n",
    "# 고정된 입력 x와 y_true가 있을 때 앞의 연산은 (모델 가중치) w값을 손실 값에 매핑하는 함수로 해석\n",
    "loss_value =f(w)  # f는 w가 변화할 때 손실 값이 형성하는 곡선(또는 다차원 표면)을 설명"
   ]
  },
  {
   "cell_type": "code",
   "execution_count": null,
   "id": "5f4bc437-3a22-4afc-8b4e-fbe2c7fe8dfe",
   "metadata": {},
   "outputs": [],
   "source": []
  },
  {
   "cell_type": "code",
   "execution_count": null,
   "id": "60f97f49-ccfd-4fcb-a8bd-ac31cf98d530",
   "metadata": {},
   "outputs": [],
   "source": []
  },
  {
   "cell_type": "markdown",
   "id": "87f1fd9f-662d-4fdc-a80a-9f051619baa0",
   "metadata": {},
   "source": [
    "# 4장 신경망 시작하기: 분류와 회귀"
   ]
  },
  {
   "cell_type": "markdown",
   "id": "570816f2-51d9-4ab5-976c-a05f7857474d",
   "metadata": {},
   "source": [
    "## 4.1 영화 리뷰 분류: 이진 분류 문제"
   ]
  },
  {
   "cell_type": "markdown",
   "id": "80fcad04-b511-4327-b4e2-6e9aecb0afa8",
   "metadata": {},
   "source": [
    "## 4.1.4 IMDB 데이터셋"
   ]
  },
  {
   "cell_type": "code",
   "execution_count": 1,
   "id": "da088c59-ca9d-454a-9e1b-762415663df9",
   "metadata": {},
   "outputs": [],
   "source": [
    "# 4-1 IMDB데이터셋 로드\n",
    "from tensorflow.keras.datasets import imdb\n",
    "(train_data, train_labels), (test_data, test_labels) = imdb.load_data(num_words = 10000)"
   ]
  },
  {
   "cell_type": "code",
   "execution_count": 2,
   "id": "1e467fd0-8b0a-4a3f-b46f-1555e3a9be86",
   "metadata": {},
   "outputs": [],
   "source": [
    "# num_words=1000 매개변수는 훈련 데이터에서 가장 자주 나타나는 단어 1만개 사용하겠다.\n",
    "# 드물게 나타나는 단어는 무시\n",
    "# 부정:0, 긍정:1"
   ]
  },
  {
   "cell_type": "code",
   "execution_count": 3,
   "id": "5251a622-598e-48a3-981e-af5901f1fbca",
   "metadata": {
    "collapsed": true,
    "jupyter": {
     "outputs_hidden": true
    },
    "tags": []
   },
   "outputs": [
    {
     "data": {
      "text/plain": [
       "[1,\n",
       " 14,\n",
       " 22,\n",
       " 16,\n",
       " 43,\n",
       " 530,\n",
       " 973,\n",
       " 1622,\n",
       " 1385,\n",
       " 65,\n",
       " 458,\n",
       " 4468,\n",
       " 66,\n",
       " 3941,\n",
       " 4,\n",
       " 173,\n",
       " 36,\n",
       " 256,\n",
       " 5,\n",
       " 25,\n",
       " 100,\n",
       " 43,\n",
       " 838,\n",
       " 112,\n",
       " 50,\n",
       " 670,\n",
       " 2,\n",
       " 9,\n",
       " 35,\n",
       " 480,\n",
       " 284,\n",
       " 5,\n",
       " 150,\n",
       " 4,\n",
       " 172,\n",
       " 112,\n",
       " 167,\n",
       " 2,\n",
       " 336,\n",
       " 385,\n",
       " 39,\n",
       " 4,\n",
       " 172,\n",
       " 4536,\n",
       " 1111,\n",
       " 17,\n",
       " 546,\n",
       " 38,\n",
       " 13,\n",
       " 447,\n",
       " 4,\n",
       " 192,\n",
       " 50,\n",
       " 16,\n",
       " 6,\n",
       " 147,\n",
       " 2025,\n",
       " 19,\n",
       " 14,\n",
       " 22,\n",
       " 4,\n",
       " 1920,\n",
       " 4613,\n",
       " 469,\n",
       " 4,\n",
       " 22,\n",
       " 71,\n",
       " 87,\n",
       " 12,\n",
       " 16,\n",
       " 43,\n",
       " 530,\n",
       " 38,\n",
       " 76,\n",
       " 15,\n",
       " 13,\n",
       " 1247,\n",
       " 4,\n",
       " 22,\n",
       " 17,\n",
       " 515,\n",
       " 17,\n",
       " 12,\n",
       " 16,\n",
       " 626,\n",
       " 18,\n",
       " 2,\n",
       " 5,\n",
       " 62,\n",
       " 386,\n",
       " 12,\n",
       " 8,\n",
       " 316,\n",
       " 8,\n",
       " 106,\n",
       " 5,\n",
       " 4,\n",
       " 2223,\n",
       " 5244,\n",
       " 16,\n",
       " 480,\n",
       " 66,\n",
       " 3785,\n",
       " 33,\n",
       " 4,\n",
       " 130,\n",
       " 12,\n",
       " 16,\n",
       " 38,\n",
       " 619,\n",
       " 5,\n",
       " 25,\n",
       " 124,\n",
       " 51,\n",
       " 36,\n",
       " 135,\n",
       " 48,\n",
       " 25,\n",
       " 1415,\n",
       " 33,\n",
       " 6,\n",
       " 22,\n",
       " 12,\n",
       " 215,\n",
       " 28,\n",
       " 77,\n",
       " 52,\n",
       " 5,\n",
       " 14,\n",
       " 407,\n",
       " 16,\n",
       " 82,\n",
       " 2,\n",
       " 8,\n",
       " 4,\n",
       " 107,\n",
       " 117,\n",
       " 5952,\n",
       " 15,\n",
       " 256,\n",
       " 4,\n",
       " 2,\n",
       " 7,\n",
       " 3766,\n",
       " 5,\n",
       " 723,\n",
       " 36,\n",
       " 71,\n",
       " 43,\n",
       " 530,\n",
       " 476,\n",
       " 26,\n",
       " 400,\n",
       " 317,\n",
       " 46,\n",
       " 7,\n",
       " 4,\n",
       " 2,\n",
       " 1029,\n",
       " 13,\n",
       " 104,\n",
       " 88,\n",
       " 4,\n",
       " 381,\n",
       " 15,\n",
       " 297,\n",
       " 98,\n",
       " 32,\n",
       " 2071,\n",
       " 56,\n",
       " 26,\n",
       " 141,\n",
       " 6,\n",
       " 194,\n",
       " 7486,\n",
       " 18,\n",
       " 4,\n",
       " 226,\n",
       " 22,\n",
       " 21,\n",
       " 134,\n",
       " 476,\n",
       " 26,\n",
       " 480,\n",
       " 5,\n",
       " 144,\n",
       " 30,\n",
       " 5535,\n",
       " 18,\n",
       " 51,\n",
       " 36,\n",
       " 28,\n",
       " 224,\n",
       " 92,\n",
       " 25,\n",
       " 104,\n",
       " 4,\n",
       " 226,\n",
       " 65,\n",
       " 16,\n",
       " 38,\n",
       " 1334,\n",
       " 88,\n",
       " 12,\n",
       " 16,\n",
       " 283,\n",
       " 5,\n",
       " 16,\n",
       " 4472,\n",
       " 113,\n",
       " 103,\n",
       " 32,\n",
       " 15,\n",
       " 16,\n",
       " 5345,\n",
       " 19,\n",
       " 178,\n",
       " 32]"
      ]
     },
     "execution_count": 3,
     "metadata": {},
     "output_type": "execute_result"
    }
   ],
   "source": [
    "train_data[0]"
   ]
  },
  {
   "cell_type": "code",
   "execution_count": 4,
   "id": "f58ab797-e4f0-433f-a77f-0a16d4306b62",
   "metadata": {},
   "outputs": [
    {
     "data": {
      "text/plain": [
       "1"
      ]
     },
     "execution_count": 4,
     "metadata": {},
     "output_type": "execute_result"
    }
   ],
   "source": [
    "train_labels[0]"
   ]
  },
  {
   "cell_type": "code",
   "execution_count": 5,
   "id": "6d3f0a69-be6d-4114-ac6f-b8200c4a3aa2",
   "metadata": {},
   "outputs": [
    {
     "data": {
      "text/plain": [
       "9999"
      ]
     },
     "execution_count": 5,
     "metadata": {},
     "output_type": "execute_result"
    }
   ],
   "source": [
    "# 가장 자주 등장하는 단어 1만개로 제한했기 때문에 단어인덱스는 9,999개를 넘지 않음\n",
    "max([max(sequence) for sequence in train_data])"
   ]
  },
  {
   "cell_type": "code",
   "execution_count": 6,
   "id": "dd02253d-0ad0-4610-acd7-6b33ca47d36c",
   "metadata": {},
   "outputs": [],
   "source": [
    "# 4-2 리뷰를 다시 텍스트로 디코딩\n",
    "word_index = imdb.get_word_index()\n",
    "reverse_word_indx = dict(\n",
    "    [(value, key) for (key, value) in word_index.items()])\n",
    "decorded_review=  \" \".join(\n",
    "    [reverse_word_indx.get(i -3, \"?\") for i in train_data[0]])\n",
    "# 0,1,2는 '패딩', '문서시작', '사전에 없음'"
   ]
  },
  {
   "cell_type": "markdown",
   "id": "703422e9-eeb1-40ad-a2e5-5ded7fbc0c92",
   "metadata": {},
   "source": [
    "## 4.1.2 데이터 준비\n",
    "- 신결망에 숫자를 바로 주입할 수 없음 숫자 리스트는 모두 길이가 다르지만 신경망은 동일한 크기의 배치를 기대하기 때문\n",
    "- 리스트를 텐서로 바꾸는 두가지 방법\n",
    "- 1. 같은 길이가 되도록 리스트 패딩을 추가, 크기의 정수 텐서로 변환, 그 다음 이 정수 텐서를 다룰 수 있는 층으로 신경망을 시작\n",
    "- 2. 리스트를 멀티-핫인코딩 하여 0과1의 벡터로 변환."
   ]
  },
  {
   "cell_type": "code",
   "execution_count": 7,
   "id": "02a67bf1-f543-41c8-85c8-bb3be0dfa6cd",
   "metadata": {},
   "outputs": [],
   "source": [
    "## 4-3 정수 시퀀스를 멀티-핫 인코딩으로 인코딩\n",
    "import numpy as np\n",
    "\n",
    "def vectorize_sequences(sequences, dimension=10000):\n",
    "    results = np.zeros((len(sequences), dimension))\n",
    "    for i, sequence in enumerate(sequences):\n",
    "        for j in sequence:\n",
    "            results[i,j] = 1.\n",
    "    return results\n",
    "x_train = vectorize_sequences(train_data)\n",
    "x_test = vectorize_sequences(test_data)"
   ]
  },
  {
   "cell_type": "code",
   "execution_count": 8,
   "id": "fe2729cd-fac9-4707-9c9e-b26f8d39e87b",
   "metadata": {},
   "outputs": [
    {
     "data": {
      "text/plain": [
       "array([0., 1., 1., ..., 0., 0., 0.])"
      ]
     },
     "execution_count": 8,
     "metadata": {},
     "output_type": "execute_result"
    }
   ],
   "source": [
    "x_train[0]"
   ]
  },
  {
   "cell_type": "code",
   "execution_count": 9,
   "id": "db467c2e-f30a-45fb-8b3b-6b192e89a95e",
   "metadata": {},
   "outputs": [],
   "source": [
    "# 레이블을 벡터로 바꾸기\n",
    "y_train = np.asarray(train_labels).astype(\"float32\")\n",
    "y_test = np.asarray(test_labels).astype(\"float32\")"
   ]
  },
  {
   "cell_type": "markdown",
   "id": "41d4a19d-dd3d-492d-b48b-92889c636467",
   "metadata": {},
   "source": [
    "## 4.1.3 신경망 모델 만들기\n",
    "- 입력 데이터가 벡터고 레이블은 스칼라(1 또는 0)\n",
    "- 문제에 잘 작동하는 모델은 relu활성화 함수를 사용한 밀집 연결 층을 잘 쌓은 것임\n",
    "- Dense 층 쌓을 때 중요한 두가지 \n",
    "- 1. 얼마나 많은 층을 사용할 것인가?\n",
    "- 2. 각 층에 얼마나 많은 유닛을 둘 것인가?"
   ]
  },
  {
   "cell_type": "markdown",
   "id": "3abf35c6-d87f-45d8-a342-9dfca69e8e3f",
   "metadata": {},
   "source": [
    "- 문제\n",
    "- 16개의 유닛을 가진 2개의 중간 층\n",
    "- 현재 리뷰의 감정을 스칼라 값의 예측으로 출력하는 세번째 층"
   ]
  },
  {
   "cell_type": "code",
   "execution_count": 10,
   "id": "fceaaf1f-5454-440b-b6a7-6bd4581afa06",
   "metadata": {},
   "outputs": [],
   "source": [
    "# 4-4 모델 정의하기\n",
    "from tensorflow import keras\n",
    "from tensorflow.keras import layers\n",
    "model = keras.Sequential([\n",
    "    layers.Dense(units = 16, activation = \"relu\"),\n",
    "    layers.Dense(units = 16, activation = \"relu\"),\n",
    "    layers.Dense(units = 1, activation = \"sigmoid\"),\n",
    "])\n",
    "\n",
    "# Dense층에 전달한 첫번째 매개변수는 층의 유닛개수이며, 층이 가진 표현 공간의 차원이다."
   ]
  },
  {
   "cell_type": "markdown",
   "id": "97a6fbba-ab68-4d85-8197-88792b84b72d",
   "metadata": {},
   "source": [
    "# 렐루함수 f(x)=h(x)\n",
    "f(x) = x (x > 0)\n",
    "     = x (x <= 0)\n",
    "    \n",
    "# 시그모이드 함수 \n",
    "sigmoid(x) =1/(1+e)-x\n",
    "e=2.7"
   ]
  },
  {
   "cell_type": "markdown",
   "id": "31aa6bc8-9503-4a05-8b7e-65a84c864f60",
   "metadata": {},
   "source": [
    "# 활성화 함숙가 필요한 이유\n",
    "relu와 같은 활성화 함수(비선형(non-linearity)함수)가 없다면 Dense층은 선형적안 연산인 점곱과 덧셈 2개로 구성\n",
    "# output= relu(dot(w,input)+b)\n",
    "그러므로 이 층은 입력에 대한 아핀만 학습할 수 있음"
   ]
  },
  {
   "cell_type": "code",
   "execution_count": 11,
   "id": "ef29d421-68c6-4162-aabd-1d699749855a",
   "metadata": {},
   "outputs": [],
   "source": [
    "## 4-5모델 컴파일 하기\n",
    "# rmsprop옵티마이저와 binary_crossentropy손실 함수로 모델을 설정\n",
    "model.compile(optimizer=\"rmsprop\",\n",
    "             loss= \"binary_crossentropy\",\n",
    "             metrics=[\"accuracy\"])"
   ]
  },
  {
   "cell_type": "code",
   "execution_count": 12,
   "id": "587e68ca-212c-4ed5-bff4-a2dd8894ab55",
   "metadata": {},
   "outputs": [],
   "source": [
    "## 4.1.4 훈련 검증"
   ]
  },
  {
   "cell_type": "code",
   "execution_count": 13,
   "id": "9cdd0968-13a5-43cd-8894-c8386f92ec7a",
   "metadata": {},
   "outputs": [],
   "source": [
    "# 512개의 샘플씩 미니 배치를 만들어 20번의 에포크 동안 모델을 훈련시킴(훈련 데이터에 있는 모든 샘플에 대해 20번 반복)"
   ]
  },
  {
   "cell_type": "code",
   "execution_count": 14,
   "id": "75816711-891a-4008-9641-2488aa2daf90",
   "metadata": {},
   "outputs": [],
   "source": [
    "# 훈련검증 4-6\n",
    "x_val = x_train[:10000]\n",
    "partial_x_train = x_train[10000:]\n",
    "y_val= y_train[:10000]\n",
    "partial_y_train = y_train[10000:]"
   ]
  },
  {
   "cell_type": "code",
   "execution_count": 15,
   "id": "26f4aa22-e5c8-42ab-98d4-8af2def5b27c",
   "metadata": {
    "collapsed": true,
    "jupyter": {
     "outputs_hidden": true
    },
    "tags": []
   },
   "outputs": [
    {
     "name": "stdout",
     "output_type": "stream",
     "text": [
      "Epoch 1/20\n",
      "30/30 [==============================] - 2s 24ms/step - loss: 0.5416 - accuracy: 0.7723 - val_loss: 0.4058 - val_accuracy: 0.8624\n",
      "Epoch 2/20\n",
      "30/30 [==============================] - 0s 13ms/step - loss: 0.3242 - accuracy: 0.9004 - val_loss: 0.3322 - val_accuracy: 0.8736\n",
      "Epoch 3/20\n",
      "30/30 [==============================] - 0s 12ms/step - loss: 0.2367 - accuracy: 0.9263 - val_loss: 0.2844 - val_accuracy: 0.8889\n",
      "Epoch 4/20\n",
      "30/30 [==============================] - 0s 12ms/step - loss: 0.1860 - accuracy: 0.9404 - val_loss: 0.2778 - val_accuracy: 0.8888\n",
      "Epoch 5/20\n",
      "30/30 [==============================] - 0s 12ms/step - loss: 0.1488 - accuracy: 0.9540 - val_loss: 0.2869 - val_accuracy: 0.8835\n",
      "Epoch 6/20\n",
      "30/30 [==============================] - 0s 12ms/step - loss: 0.1212 - accuracy: 0.9613 - val_loss: 0.2996 - val_accuracy: 0.8859\n",
      "Epoch 7/20\n",
      "30/30 [==============================] - 0s 12ms/step - loss: 0.0978 - accuracy: 0.9697 - val_loss: 0.3159 - val_accuracy: 0.8806\n",
      "Epoch 8/20\n",
      "30/30 [==============================] - 0s 12ms/step - loss: 0.0791 - accuracy: 0.9779 - val_loss: 0.3603 - val_accuracy: 0.8793\n",
      "Epoch 9/20\n",
      "30/30 [==============================] - 0s 13ms/step - loss: 0.0673 - accuracy: 0.9819 - val_loss: 0.3601 - val_accuracy: 0.8767\n",
      "Epoch 10/20\n",
      "30/30 [==============================] - 0s 12ms/step - loss: 0.0559 - accuracy: 0.9860 - val_loss: 0.4011 - val_accuracy: 0.8692\n",
      "Epoch 11/20\n",
      "30/30 [==============================] - 0s 12ms/step - loss: 0.0449 - accuracy: 0.9905 - val_loss: 0.4116 - val_accuracy: 0.8764\n",
      "Epoch 12/20\n",
      "30/30 [==============================] - 0s 12ms/step - loss: 0.0384 - accuracy: 0.9917 - val_loss: 0.4360 - val_accuracy: 0.8742\n",
      "Epoch 13/20\n",
      "30/30 [==============================] - 0s 12ms/step - loss: 0.0293 - accuracy: 0.9943 - val_loss: 0.4668 - val_accuracy: 0.8747\n",
      "Epoch 14/20\n",
      "30/30 [==============================] - 0s 12ms/step - loss: 0.0236 - accuracy: 0.9958 - val_loss: 0.4965 - val_accuracy: 0.8689\n",
      "Epoch 15/20\n",
      "30/30 [==============================] - 0s 12ms/step - loss: 0.0159 - accuracy: 0.9984 - val_loss: 0.5430 - val_accuracy: 0.8650\n",
      "Epoch 16/20\n",
      "30/30 [==============================] - 0s 12ms/step - loss: 0.0166 - accuracy: 0.9966 - val_loss: 0.5624 - val_accuracy: 0.8674\n",
      "Epoch 17/20\n",
      "30/30 [==============================] - 0s 12ms/step - loss: 0.0137 - accuracy: 0.9972 - val_loss: 0.5966 - val_accuracy: 0.8686\n",
      "Epoch 18/20\n",
      "30/30 [==============================] - 0s 12ms/step - loss: 0.0082 - accuracy: 0.9989 - val_loss: 0.6360 - val_accuracy: 0.8606\n",
      "Epoch 19/20\n",
      "30/30 [==============================] - 0s 13ms/step - loss: 0.0079 - accuracy: 0.9992 - val_loss: 0.6897 - val_accuracy: 0.8665\n",
      "Epoch 20/20\n",
      "30/30 [==============================] - 0s 11ms/step - loss: 0.0041 - accuracy: 0.9999 - val_loss: 0.7069 - val_accuracy: 0.8678\n"
     ]
    }
   ],
   "source": [
    "# 4-7 모델 훈련하기\n",
    "history = model.fit(partial_x_train,\n",
    "                   partial_y_train,\n",
    "                   epochs=20,\n",
    "                   batch_size=512,\n",
    "                   validation_data=(x_val, y_val))"
   ]
  },
  {
   "cell_type": "code",
   "execution_count": 16,
   "id": "daed9385-8482-4443-b64f-3b4a44a47397",
   "metadata": {},
   "outputs": [
    {
     "data": {
      "image/png": "[encoded data removed]",
      "text/plain": [
       "<Figure size 432x288 with 1 Axes>"
      ]
     },
     "metadata": {
      "needs_background": "light"
     },
     "output_type": "display_data"
    }
   ],
   "source": [
    "# 4-8 훈련과 검증 손실 그리기\n",
    "import matplotlib.pyplot as plt\n",
    "\n",
    "history_dict = history.history\n",
    "loss_values = history_dict[\"loss\"]\n",
    "val_loss_values = history_dict[\"val_loss\"]\n",
    "epochs = range(1, len(loss_values) + 1)\n",
    "plt.plot(epochs, loss_values, \"bo\", label=\"Training loss\")\n",
    "plt.plot(epochs, val_loss_values, \"b\", label=\"Validation loss\")\n",
    "plt.title(\"Training and validation loss\")\n",
    "plt.xlabel(\"Epochs\")\n",
    "plt.ylabel(\"Loss\")\n",
    "plt.legend()\n",
    "plt.show() "
   ]
  },
  {
   "cell_type": "code",
   "execution_count": 17,
   "id": "39142e23-be85-4f05-9707-1c0b717f8dea",
   "metadata": {},
   "outputs": [
    {
     "data": {
      "image/png": "[encoded data removed]",
      "text/plain": [
       "<Figure size 432x288 with 1 Axes>"
      ]
     },
     "metadata": {
      "needs_background": "light"
     },
     "output_type": "display_data"
    }
   ],
   "source": [
    "# 4-9 훈련과 검증 정확도 그리기\n",
    "plt.clf()  #그래프 초기화하기\n",
    "acc = history_dict[\"accuracy\"]\n",
    "val_acc = history_dict[\"val_accuracy\"]\n",
    "plt.plot(epochs, acc, \"bo\", label=\"Training acc\")\n",
    "plt.plot(epochs, val_acc, \"b\", label=\"Validation acc\")\n",
    "plt.title(\"Training and validation accuracy\")\n",
    "plt.xlabel(\"Epochs\")\n",
    "plt.ylabel(\"Accuracy\")\n",
    "plt.legend()\n",
    "plt.show() "
   ]
  },
  {
   "cell_type": "code",
   "execution_count": 18,
   "id": "d09b0ad0-be46-498d-96b4-d7f122e9c879",
   "metadata": {},
   "outputs": [
    {
     "name": "stdout",
     "output_type": "stream",
     "text": [
      "Epoch 1/4\n",
      "49/49 [==============================] - 1s 8ms/step - loss: 0.4331 - accuracy: 0.8237\n",
      "Epoch 2/4\n",
      "49/49 [==============================] - 0s 7ms/step - loss: 0.2506 - accuracy: 0.9112\n",
      "Epoch 3/4\n",
      "49/49 [==============================] - 0s 7ms/step - loss: 0.1979 - accuracy: 0.9292\n",
      "Epoch 4/4\n",
      "49/49 [==============================] - 0s 7ms/step - loss: 0.1668 - accuracy: 0.9408\n",
      "782/782 [==============================] - 1s 1ms/step - loss: 0.2958 - accuracy: 0.8826\n"
     ]
    }
   ],
   "source": [
    "# 4-10 모델 처음부터 다시 훈련하기\n",
    "model = keras.Sequential([\n",
    "    layers.Dense(16, activation=\"relu\"),\n",
    "    layers.Dense(16, activation=\"relu\"),\n",
    "    layers.Dense(1, activation=\"sigmoid\")\n",
    "])\n",
    "model.compile(optimizer=\"rmsprop\",\n",
    "             loss= \"binary_crossentropy\",\n",
    "             metrics=[\"accuracy\"])\n",
    "model.fit(x_train, y_train, epochs=4, batch_size=512)\n",
    "results= model.evaluate(x_test, y_test)"
   ]
  },
  {
   "cell_type": "code",
   "execution_count": 19,
   "id": "15c33fd7-4cad-4f14-83ad-32f4ef8036a6",
   "metadata": {},
   "outputs": [
    {
     "data": {
      "text/plain": [
       "[0.29584598541259766, 0.8825600147247314]"
      ]
     },
     "execution_count": 19,
     "metadata": {},
     "output_type": "execute_result"
    }
   ],
   "source": [
    "results"
   ]
  },
  {
   "cell_type": "code",
   "execution_count": 20,
   "id": "be0cab8c-36cd-48f1-a385-86d9747c7bf4",
   "metadata": {},
   "outputs": [
    {
     "name": "stdout",
     "output_type": "stream",
     "text": [
      "782/782 [==============================] - 1s 1000us/step\n"
     ]
    },
    {
     "data": {
      "text/plain": [
       "array([[0.20196867],\n",
       "       [0.9994243 ],\n",
       "       [0.8910722 ],\n",
       "       ...,\n",
       "       [0.21816762],\n",
       "       [0.07179138],\n",
       "       [0.5320976 ]], dtype=float32)"
      ]
     },
     "execution_count": 20,
     "metadata": {},
     "output_type": "execute_result"
    }
   ],
   "source": [
    "## 4.1.5 훈련괸 모델로 새로운 모델 데이터에 대해 예측하기\n",
    "model.predict(x_test)"
   ]
  },
  {
   "cell_type": "code",
   "execution_count": 24,
   "id": "f82a7f1d-4576-4948-931a-78a828d4ebe6",
   "metadata": {},
   "outputs": [
    {
     "name": "stdout",
     "output_type": "stream",
     "text": [
      "Epoch 1/4\n",
      "49/49 [==============================] - 16s 10ms/step - loss: 0.6431 - accuracy: 0.6452\n",
      "Epoch 2/4\n",
      "49/49 [==============================] - 0s 8ms/step - loss: 0.4160 - accuracy: 0.8829\n",
      "Epoch 3/4\n",
      "49/49 [==============================] - 0s 8ms/step - loss: 0.2919 - accuracy: 0.9152\n",
      "Epoch 4/4\n",
      "49/49 [==============================] - 0s 8ms/step - loss: 0.2257 - accuracy: 0.9327\n",
      "782/782 [==============================] - 1s 1ms/step - loss: 0.2880 - accuracy: 0.8886\n"
     ]
    }
   ],
   "source": [
    "# 4.1.6 추가 실험\n",
    "model = keras.Sequential([\n",
    "    layers.Dense(16, activation=\"relu\"),\n",
    "    layers.Dense(16, activation=\"relu\"),\n",
    "    layers.Dense(16, activation=\"sigmoid\"),\n",
    "    layers.Dense(1, activation=\"sigmoid\")\n",
    "])\n",
    "model.compile(optimizer=\"rmsprop\",\n",
    "             loss= \"binary_crossentropy\",\n",
    "             metrics=[\"accuracy\"])\n",
    "model.fit(x_train, y_train, epochs=4, batch_size=512)\n",
    "results= model.evaluate(x_test, y_test)"
   ]
  },
  {
   "cell_type": "code",
   "execution_count": 25,
   "id": "9135d382-cee8-4532-902c-4be7ffa30b40",
   "metadata": {},
   "outputs": [
    {
     "name": "stdout",
     "output_type": "stream",
     "text": [
      "782/782 [==============================] - 1s 1ms/step\n"
     ]
    },
    {
     "data": {
      "text/plain": [
       "array([[0.19266908],\n",
       "       [0.96382725],\n",
       "       [0.93334514],\n",
       "       ...,\n",
       "       [0.14233485],\n",
       "       [0.12644468],\n",
       "       [0.43455926]], dtype=float32)"
      ]
     },
     "execution_count": 25,
     "metadata": {},
     "output_type": "execute_result"
    }
   ],
   "source": [
    "model.predict(x_test)"
   ]
  },
  {
   "cell_type": "code",
   "execution_count": null,
   "id": "230867f7-e649-4704-84d2-84a0e483407c",
   "metadata": {},
   "outputs": [],
   "source": [
    "--------------------------------------------------------------------"
   ]
  },
  {
   "cell_type": "code",
   "execution_count": 26,
   "id": "c7a6b307-9c4b-4225-9dd1-d1ee0717c9f9",
   "metadata": {},
   "outputs": [
    {
     "name": "stdout",
     "output_type": "stream",
     "text": [
      "Epoch 1/4\n",
      "49/49 [==============================] - 1s 9ms/step - loss: 0.2084 - accuracy: 0.0033\n",
      "Epoch 2/4\n",
      "49/49 [==============================] - 0s 8ms/step - loss: 0.1372 - accuracy: 0.0040\n",
      "Epoch 3/4\n",
      "49/49 [==============================] - 0s 8ms/step - loss: 0.0899 - accuracy: 0.0226\n",
      "Epoch 4/4\n",
      "49/49 [==============================] - 0s 8ms/step - loss: 0.0615 - accuracy: 0.0402\n",
      "782/782 [==============================] - 1s 1ms/step - loss: 0.0869 - accuracy: 0.0534\n"
     ]
    }
   ],
   "source": [
    "# 추가 실험\n",
    "model = keras.Sequential([\n",
    "    layers.Dense(16, activation=\"relu\"),\n",
    "    layers.Dense(16, activation=\"relu\"),\n",
    "    layers.Dense(16, activation=\"sigmoid\")\n",
    "])\n",
    "model.compile(optimizer=\"rmsprop\",\n",
    "             loss= \"mse\",\n",
    "             metrics=[\"accuracy\"])\n",
    "model.fit(x_train, y_train, epochs=4, batch_size=512)\n",
    "results= model.evaluate(x_test, y_test)"
   ]
  },
  {
   "cell_type": "code",
   "execution_count": 27,
   "id": "8896abed-d6b5-4380-9c4c-020c814f53ef",
   "metadata": {},
   "outputs": [
    {
     "name": "stdout",
     "output_type": "stream",
     "text": [
      "782/782 [==============================] - 2s 1ms/step\n"
     ]
    },
    {
     "data": {
      "text/plain": [
       "array([[0.22478239, 0.14848131, 0.08719953, ..., 0.14023608, 0.06072513,\n",
       "        0.17325895],\n",
       "       [0.9116101 , 0.99360913, 0.99857485, ..., 0.990042  , 0.99932617,\n",
       "        0.99649036],\n",
       "       [0.758169  , 0.8832995 , 0.93231785, ..., 0.8549452 , 0.9698972 ,\n",
       "        0.93586284],\n",
       "       ...,\n",
       "       [0.22255367, 0.16054395, 0.09698723, ..., 0.1482987 , 0.05990888,\n",
       "        0.16157305],\n",
       "       [0.15589958, 0.08325098, 0.04398393, ..., 0.08272775, 0.02826785,\n",
       "        0.1128445 ],\n",
       "       [0.47498542, 0.52096033, 0.46370107, ..., 0.4603784 , 0.5183181 ,\n",
       "        0.590542  ]], dtype=float32)"
      ]
     },
     "execution_count": 27,
     "metadata": {},
     "output_type": "execute_result"
    }
   ],
   "source": [
    "model.predict(x_test)"
   ]
  },
  {
   "cell_type": "code",
   "execution_count": 28,
   "id": "ca5408dc-af73-4b8e-96fe-70907f39e42d",
   "metadata": {},
   "outputs": [
    {
     "name": "stdout",
     "output_type": "stream",
     "text": [
      "Epoch 1/4\n",
      "49/49 [==============================] - 5s 8ms/step - loss: 0.4221 - accuracy: 0.8304\n",
      "Epoch 2/4\n",
      "49/49 [==============================] - 0s 9ms/step - loss: 0.2403 - accuracy: 0.9136\n",
      "Epoch 3/4\n",
      "49/49 [==============================] - 0s 8ms/step - loss: 0.1798 - accuracy: 0.9349\n",
      "Epoch 4/4\n",
      "49/49 [==============================] - 0s 8ms/step - loss: 0.1470 - accuracy: 0.9472\n",
      "782/782 [==============================] - 1s 1ms/step - loss: 0.3170 - accuracy: 0.8788\n"
     ]
    }
   ],
   "source": [
    "# 추가 실험\n",
    "model = keras.Sequential([\n",
    "    layers.Dense(16, activation=\"tanh\"),\n",
    "    layers.Dense(16, activation=\"tanh\"),\n",
    "    layers.Dense(1, activation=\"sigmoid\")\n",
    "])\n",
    "model.compile(optimizer=\"rmsprop\",\n",
    "             loss= \"binary_crossentropy\",\n",
    "             metrics=[\"accuracy\"])\n",
    "model.fit(x_train, y_train, epochs=4, batch_size=512)\n",
    "results= model.evaluate(x_test, y_test)"
   ]
  },
  {
   "cell_type": "code",
   "execution_count": 29,
   "id": "29cb494d-9d13-440b-bafb-b52d08a7e409",
   "metadata": {},
   "outputs": [
    {
     "name": "stdout",
     "output_type": "stream",
     "text": [
      "782/782 [==============================] - 1s 2ms/step\n"
     ]
    },
    {
     "data": {
      "text/plain": [
       "array([[0.09335426],\n",
       "       [0.9971033 ],\n",
       "       [0.85677177],\n",
       "       ...,\n",
       "       [0.21504785],\n",
       "       [0.03518954],\n",
       "       [0.67698246]], dtype=float32)"
      ]
     },
     "execution_count": 29,
     "metadata": {},
     "output_type": "execute_result"
    }
   ],
   "source": [
    "model.predict(x_test)"
   ]
  },
  {
   "cell_type": "markdown",
   "id": "85f52da9-91b6-4e83-a84f-28a9bce8f434",
   "metadata": {},
   "source": [
    "# 4.2 뉴스기사분류: 다중 분류 문제\n",
    "- 다중 분류(multiclass classification)\n",
    "- 단일 레이블 다중 분류(single-label, multiclass classification)\n",
    "- 다중 레이블 다중 분류(multi-label, multiclass classification)"
   ]
  },
  {
   "cell_type": "code",
   "execution_count": 30,
   "id": "256c6b48-5866-4e1d-af59-98334a574d46",
   "metadata": {},
   "outputs": [],
   "source": [
    "##  4.2.1 로이터 데이터셋\n",
    "# 코드 4-11 로이터 데이터셋 로드하기\n",
    "from tensorflow.keras.datasets import reuters\n",
    "\n",
    "(train_data, train_labels), (test_data, test_labels) = reuters.load_data(num_words=10000)\n",
    "# 매개변수 데이터는 자주 등장하는 10000개로 제한"
   ]
  },
  {
   "cell_type": "code",
   "execution_count": 31,
   "id": "52af42d2-263b-42ed-afbb-f31c48afd927",
   "metadata": {},
   "outputs": [
    {
     "data": {
      "text/plain": [
       "8982"
      ]
     },
     "execution_count": 31,
     "metadata": {},
     "output_type": "execute_result"
    }
   ],
   "source": [
    "len(train_data)"
   ]
  },
  {
   "cell_type": "code",
   "execution_count": 32,
   "id": "ccbdceb3-6923-42ec-9773-675c210bb374",
   "metadata": {},
   "outputs": [
    {
     "data": {
      "text/plain": [
       "2246"
      ]
     },
     "execution_count": 32,
     "metadata": {},
     "output_type": "execute_result"
    }
   ],
   "source": [
    "len(test_data)"
   ]
  },
  {
   "cell_type": "code",
   "execution_count": 33,
   "id": "cb977116-b0ca-4e2b-af64-c5938237bfd2",
   "metadata": {
    "tags": []
   },
   "outputs": [
    {
     "data": {
      "text/plain": [
       "[1,\n",
       " 245,\n",
       " 273,\n",
       " 207,\n",
       " 156,\n",
       " 53,\n",
       " 74,\n",
       " 160,\n",
       " 26,\n",
       " 14,\n",
       " 46,\n",
       " 296,\n",
       " 26,\n",
       " 39,\n",
       " 74,\n",
       " 2979,\n",
       " 3554,\n",
       " 14,\n",
       " 46,\n",
       " 4689,\n",
       " 4329,\n",
       " 86,\n",
       " 61,\n",
       " 3499,\n",
       " 4795,\n",
       " 14,\n",
       " 61,\n",
       " 451,\n",
       " 4329,\n",
       " 17,\n",
       " 12]"
      ]
     },
     "execution_count": 33,
     "metadata": {},
     "output_type": "execute_result"
    }
   ],
   "source": [
    "# 정수 리스트(단어 인덱스)\n",
    "train_data[10]"
   ]
  },
  {
   "cell_type": "code",
   "execution_count": 34,
   "id": "751379e4-3900-48df-9659-ab5165c99d4e",
   "metadata": {},
   "outputs": [],
   "source": [
    "# 코드 4-12 로이터 데이터 셋을 텍스트로 디코딩\n",
    "word_index = reuters.get_word_index()\n",
    "reverse_word_index = dict(\n",
    "    [(value, key) for (key, value) in word_index.items()])\n",
    "decoded_newswire = \" \".join(\n",
    "    [reverse_word_index.get(i-3, \"?\") for i in train_data[0]])"
   ]
  },
  {
   "cell_type": "code",
   "execution_count": 35,
   "id": "974d3900-9bcc-4c18-85e3-2c5adc3cf6d4",
   "metadata": {},
   "outputs": [
    {
     "data": {
      "text/plain": [
       "3"
      ]
     },
     "execution_count": 35,
     "metadata": {},
     "output_type": "execute_result"
    }
   ],
   "source": [
    "train_labels[0]"
   ]
  },
  {
   "cell_type": "code",
   "execution_count": 36,
   "id": "ea5267a2-857d-47f4-b7eb-67c230193d7a",
   "metadata": {},
   "outputs": [],
   "source": [
    "## 4.2.2 데이터 준비\n",
    "# 데이터를 벡터로 변환\n",
    "# 코드 4-13 데이터 인코딩하기\n",
    "x_train =vectorize_sequences(train_data)\n",
    "x_test =vectorize_sequences(test_data)"
   ]
  },
  {
   "cell_type": "code",
   "execution_count": null,
   "id": "1b5c0dbb-d2dc-4372-ba48-f316c73dafd9",
   "metadata": {},
   "outputs": [],
   "source": [
    "# 레이블을 벡터로 바꾸는 방법2\n",
    "- 1. 레이블 리스트를 정수 텐서로 변환\n",
    "- 2. 원-핫 인코딩\n",
    "- 원-핫인코딩은 각 레이블의 인덱스 자리는 1이고 나머지는 모두 0인 벡터"
   ]
  },
  {
   "cell_type": "code",
   "execution_count": 38,
   "id": "29c72a94-0dbb-4f26-83cc-e324e6bf22b4",
   "metadata": {},
   "outputs": [],
   "source": [
    "# 코드 4-14 레이블 인코딩하기\n",
    "def to_one_hot(labels, dimension=46):\n",
    "    results = np.zeros((len(labels), dimension))\n",
    "    for i, label in enumerate(labels):\n",
    "        results[i, label] = 1.\n",
    "    return results\n",
    "y_train = to_one_hot(train_labels)\n",
    "y_test = to_one_hot(test_labels) "
   ]
  },
  {
   "cell_type": "code",
   "execution_count": 39,
   "id": "ba96a234-89de-452f-9eb4-7c5bcb65e5d9",
   "metadata": {},
   "outputs": [],
   "source": [
    "# 케라스 내장함수\n",
    "from keras.utils.np_utils import to_categorical\n",
    "\n",
    "y_train = to_categorical(train_labels)\n",
    "y_test = to_categorical(test_labels)"
   ]
  },
  {
   "cell_type": "code",
   "execution_count": 40,
   "id": "d233b4e0-b65f-415c-a44b-1a6327aebfe3",
   "metadata": {},
   "outputs": [],
   "source": [
    "## 4.2.3 모델 구성\n",
    "# 코드 4-15 모델 정의\n",
    "model= keras.Sequential([\n",
    "    layers.Dense(64, activation=\"relu\"),\n",
    "    layers.Dense(64, activation=\"relu\"),\n",
    "    layers.Dense(46, activation=\"softmax\"),\n",
    "])"
   ]
  },
  {
   "cell_type": "code",
   "execution_count": null,
   "id": "40934857-7228-44d0-9934-ce93aa30ae9c",
   "metadata": {},
   "outputs": [],
   "source": [
    "# 주의\n",
    "- 마지막 Dense층의 크기가 46: 각 입력 샘플에 대해 46차원의 벡터를 출력한다. 이 벡터의 각 원소(각 차원)는 각기 다른 출력 클래스가 인코딩 된 것\n",
    "- 마지막 층에 softmax활성화 함수가 사용. 46차원의 출력 벡터를 만들며 output[i]는 어떤 샘플이 클래스 i에 속할 확률. 46개의 값을 모두 더하면 1이 됨"
   ]
  },
  {
   "cell_type": "code",
   "execution_count": null,
   "id": "3dde828b-0fc5-400a-a75a-e09715af0878",
   "metadata": {},
   "outputs": [],
   "source": [
    "# categorical_crossentropy(손실함수)는 두 확률 분포 사이의 거리를 측정한다.\n",
    "모델이 출력한 확률 분포와 진짜 레이블의 분포 사이의 거리\n",
    "두 분포 사시의 거리를 최소화 함으로써 진짜 레이블에 가까운 출력물을 내도록 훈련한다."
   ]
  },
  {
   "cell_type": "code",
   "execution_count": 41,
   "id": "53325bf5-41df-4937-90db-cf7db236770e",
   "metadata": {},
   "outputs": [],
   "source": [
    "# 코드 4-16 모델 컴파일 하기\n",
    "model.compile(optimizer = \"rmsprop\",\n",
    "             loss =\"categorical_crossentropy\",\n",
    "             metrics=[\"accuracy\"])"
   ]
  },
  {
   "cell_type": "markdown",
   "id": "70d2f78a-44d6-4e7b-adc8-3783ceee916a",
   "metadata": {},
   "source": [
    "## 4.2.4 훈련 검증"
   ]
  },
  {
   "cell_type": "code",
   "execution_count": 42,
   "id": "32426c1a-a41d-4480-886e-dd58ca9cd59b",
   "metadata": {},
   "outputs": [],
   "source": [
    "## 코드 4-17 검증 세트 준비하기"
   ]
  },
  {
   "cell_type": "code",
   "execution_count": 43,
   "id": "59648b15-ec95-4aae-be9a-30ff7ce39f11",
   "metadata": {},
   "outputs": [],
   "source": [
    "x_val = x_train[:1000]\n",
    "partial_x_train = x_train[1000:]\n",
    "y_val = y_train[:1000]\n",
    "partial_y_train = y_train[1000:]"
   ]
  },
  {
   "cell_type": "code",
   "execution_count": 44,
   "id": "08108d40-63db-407d-b3c1-81286e0cbc7f",
   "metadata": {
    "tags": []
   },
   "outputs": [
    {
     "name": "stdout",
     "output_type": "stream",
     "text": [
      "Epoch 1/20\n",
      "16/16 [==============================] - 7s 27ms/step - loss: 2.4799 - accuracy: 0.5362 - val_loss: 1.6487 - val_accuracy: 0.6560\n",
      "Epoch 2/20\n",
      "16/16 [==============================] - 0s 17ms/step - loss: 1.3743 - accuracy: 0.7061 - val_loss: 1.2951 - val_accuracy: 0.7080\n",
      "Epoch 3/20\n",
      "16/16 [==============================] - 0s 16ms/step - loss: 1.0357 - accuracy: 0.7774 - val_loss: 1.1209 - val_accuracy: 0.7560\n",
      "Epoch 4/20\n",
      "16/16 [==============================] - 0s 16ms/step - loss: 0.8167 - accuracy: 0.8240 - val_loss: 1.0246 - val_accuracy: 0.7790\n",
      "Epoch 5/20\n",
      "16/16 [==============================] - 0s 15ms/step - loss: 0.6441 - accuracy: 0.8682 - val_loss: 0.9642 - val_accuracy: 0.8030\n",
      "Epoch 6/20\n",
      "16/16 [==============================] - 0s 15ms/step - loss: 0.5124 - accuracy: 0.8961 - val_loss: 0.9504 - val_accuracy: 0.8050\n",
      "Epoch 7/20\n",
      "16/16 [==============================] - 0s 15ms/step - loss: 0.4112 - accuracy: 0.9187 - val_loss: 0.9036 - val_accuracy: 0.8180\n",
      "Epoch 8/20\n",
      "16/16 [==============================] - 0s 15ms/step - loss: 0.3328 - accuracy: 0.9330 - val_loss: 0.9185 - val_accuracy: 0.8110\n",
      "Epoch 9/20\n",
      "16/16 [==============================] - 0s 15ms/step - loss: 0.2776 - accuracy: 0.9404 - val_loss: 0.9298 - val_accuracy: 0.8110\n",
      "Epoch 10/20\n",
      "16/16 [==============================] - 0s 16ms/step - loss: 0.2328 - accuracy: 0.9469 - val_loss: 0.9176 - val_accuracy: 0.8320\n",
      "Epoch 11/20\n",
      "16/16 [==============================] - 0s 15ms/step - loss: 0.2028 - accuracy: 0.9509 - val_loss: 0.9590 - val_accuracy: 0.8090\n",
      "Epoch 12/20\n",
      "16/16 [==============================] - 0s 15ms/step - loss: 0.1759 - accuracy: 0.9523 - val_loss: 0.9817 - val_accuracy: 0.8130\n",
      "Epoch 13/20\n",
      "16/16 [==============================] - 0s 15ms/step - loss: 0.1617 - accuracy: 0.9525 - val_loss: 0.9789 - val_accuracy: 0.8150\n",
      "Epoch 14/20\n",
      "16/16 [==============================] - 0s 15ms/step - loss: 0.1513 - accuracy: 0.9550 - val_loss: 0.9792 - val_accuracy: 0.8240\n",
      "Epoch 15/20\n",
      "16/16 [==============================] - 0s 15ms/step - loss: 0.1346 - accuracy: 0.9562 - val_loss: 1.0411 - val_accuracy: 0.8070\n",
      "Epoch 16/20\n",
      "16/16 [==============================] - 0s 15ms/step - loss: 0.1299 - accuracy: 0.9568 - val_loss: 1.0188 - val_accuracy: 0.8110\n",
      "Epoch 17/20\n",
      "16/16 [==============================] - 0s 15ms/step - loss: 0.1217 - accuracy: 0.9563 - val_loss: 1.0945 - val_accuracy: 0.7920\n",
      "Epoch 18/20\n",
      "16/16 [==============================] - 0s 15ms/step - loss: 0.1198 - accuracy: 0.9589 - val_loss: 1.0306 - val_accuracy: 0.8210\n",
      "Epoch 19/20\n",
      "16/16 [==============================] - 0s 15ms/step - loss: 0.1171 - accuracy: 0.9565 - val_loss: 1.1196 - val_accuracy: 0.7980\n",
      "Epoch 20/20\n",
      "16/16 [==============================] - 0s 14ms/step - loss: 0.1117 - accuracy: 0.9564 - val_loss: 1.0915 - val_accuracy: 0.8120\n"
     ]
    }
   ],
   "source": [
    "# 코드 4-18 모델 훈련\n",
    "history = model.fit(partial_x_train,\n",
    "                    partial_y_train,\n",
    "                    epochs=20,\n",
    "                    batch_size = 512,\n",
    "                    validation_data=(x_val, y_val))"
   ]
  },
  {
   "cell_type": "markdown",
   "id": "7cf89b61-4a8e-473d-b049-5ae85f1296d5",
   "metadata": {},
   "source": [
    "## 코드 4-19 훈련 검증 손실 그리기"
   ]
  },
  {
   "cell_type": "code",
   "execution_count": 45,
   "id": "d5a7fec7-ecfe-4d82-9908-b356472461b7",
   "metadata": {},
   "outputs": [
    {
     "data": {
      "image/png": "[encoded data removed]",
      "text/plain": [
       "<Figure size 432x288 with 1 Axes>"
      ]
     },
     "metadata": {
      "needs_background": "light"
     },
     "output_type": "display_data"
    }
   ],
   "source": [
    "loss = history.history[\"loss\"]\n",
    "val_loss = history.history[\"val_loss\"]\n",
    "epochs = range(1, len(loss)+1)\n",
    "plt.plot(epochs, loss, \"bo\", label = \"Training loss\")\n",
    "plt.plot(epochs, val_loss, \"b\", label= \"Validation loss\")\n",
    "plt.title(\"Training and Validation loss\")\n",
    "plt.xlabel(\"Epochs\")\n",
    "plt.ylabel(\"Loss\")\n",
    "plt.legend()\n",
    "plt.show()"
   ]
  },
  {
   "cell_type": "markdown",
   "id": "fc78c368-3e5a-4c51-9a67-79961fe2239f",
   "metadata": {},
   "source": [
    "## 코드 4-20 훈련과 검증 정확도 그리기"
   ]
  },
  {
   "cell_type": "code",
   "execution_count": 46,
   "id": "24bf46bc-b043-4054-8d82-023dbd646abd",
   "metadata": {},
   "outputs": [
    {
     "data": {
      "image/png": "[encoded data removed]",
      "text/plain": [
       "<Figure size 432x288 with 1 Axes>"
      ]
     },
     "metadata": {
      "needs_background": "light"
     },
     "output_type": "display_data"
    }
   ],
   "source": [
    "plt.clf()# 그래프 초기화\n",
    "acc = history.history[\"accuracy\"]\n",
    "val_acc= history.history[\"val_accuracy\"]\n",
    "plt.plot(epochs, acc, \"bo\", label = \"Training accuracy\")\n",
    "plt.plot(epochs, val_acc, \"b\", label = \"Validation accuracy\")\n",
    "plt.title(\"Training and Validation loss\")\n",
    "plt.xlabel(\"Epochs\")\n",
    "plt.ylabel(\"Loss\")\n",
    "plt.legend()\n",
    "plt.show()"
   ]
  },
  {
   "cell_type": "markdown",
   "id": "0721df4b-5ed3-4be5-924d-5afb73e7e20d",
   "metadata": {
    "tags": []
   },
   "source": [
    "## 4-21 모델을 처음부터 다시 훈련"
   ]
  },
  {
   "cell_type": "code",
   "execution_count": 47,
   "id": "bca3f506-6aa2-4674-8db1-e6bb9f780a79",
   "metadata": {
    "tags": []
   },
   "outputs": [
    {
     "name": "stdout",
     "output_type": "stream",
     "text": [
      "Epoch 1/9\n",
      "18/18 [==============================] - 1s 16ms/step - loss: 2.5560 - accuracy: 0.5194\n",
      "Epoch 2/9\n",
      "18/18 [==============================] - 0s 17ms/step - loss: 1.3885 - accuracy: 0.7112\n",
      "Epoch 3/9\n",
      "18/18 [==============================] - 0s 13ms/step - loss: 1.0203 - accuracy: 0.7832\n",
      "Epoch 4/9\n",
      "18/18 [==============================] - 0s 12ms/step - loss: 0.7871 - accuracy: 0.8372\n",
      "Epoch 5/9\n",
      "18/18 [==============================] - 0s 13ms/step - loss: 0.6167 - accuracy: 0.8747\n",
      "Epoch 6/9\n",
      "18/18 [==============================] - 0s 14ms/step - loss: 0.4873 - accuracy: 0.8975\n",
      "Epoch 7/9\n",
      "18/18 [==============================] - 0s 13ms/step - loss: 0.3906 - accuracy: 0.9179\n",
      "Epoch 8/9\n",
      "18/18 [==============================] - 0s 14ms/step - loss: 0.3206 - accuracy: 0.9293\n",
      "Epoch 9/9\n",
      "18/18 [==============================] - 0s 12ms/step - loss: 0.2695 - accuracy: 0.9371\n",
      "71/71 [==============================] - 0s 2ms/step - loss: 0.9573 - accuracy: 0.7961\n"
     ]
    }
   ],
   "source": [
    "model= keras.Sequential([\n",
    "    layers.Dense(64, activation=\"relu\"),\n",
    "    layers.Dense(64, activation=\"relu\"),\n",
    "    layers.Dense(46, activation=\"softmax\"),\n",
    "])\n",
    "\n",
    "model.compile(optimizer = \"rmsprop\",\n",
    "             loss =\"categorical_crossentropy\",\n",
    "             metrics=[\"accuracy\"])\n",
    "\n",
    "model.fit(x_train,\n",
    "          y_train,\n",
    "          epochs=9,\n",
    "          batch_size = 512)\n",
    "results = model.evaluate(x_test, y_test)"
   ]
  },
  {
   "cell_type": "code",
   "execution_count": 48,
   "id": "8609d312-b7f9-49f7-b742-9b444480cea6",
   "metadata": {},
   "outputs": [
    {
     "data": {
      "text/plain": [
       "[0.9573230147361755, 0.7960819005966187]"
      ]
     },
     "execution_count": 48,
     "metadata": {},
     "output_type": "execute_result"
    }
   ],
   "source": [
    "results "
   ]
  },
  {
   "cell_type": "code",
   "execution_count": 49,
   "id": "86b276ca-cc2b-4faa-bf51-2d7c23445ff8",
   "metadata": {},
   "outputs": [
    {
     "data": {
      "text/plain": [
       "0.188780053428317"
      ]
     },
     "execution_count": 49,
     "metadata": {},
     "output_type": "execute_result"
    }
   ],
   "source": [
    "# 랜덤한 분류기를 사용해 예측\n",
    "import copy \n",
    "test_labels_copy = copy.copy(test_labels)\n",
    "np.random.shuffle(test_labels_copy)\n",
    "hits_array = np.array(test_labels) == np.array(test_labels_copy)\n",
    "hits_array.mean()"
   ]
  },
  {
   "cell_type": "code",
   "execution_count": 50,
   "id": "9fa45afd-c9d1-4755-98a5-4689e55fee62",
   "metadata": {},
   "outputs": [
    {
     "name": "stdout",
     "output_type": "stream",
     "text": [
      "71/71 [==============================] - 0s 1ms/step\n"
     ]
    },
    {
     "data": {
      "text/plain": [
       "(46,)"
      ]
     },
     "execution_count": 50,
     "metadata": {},
     "output_type": "execute_result"
    }
   ],
   "source": [
    "## 4.2.5 새로운 데이터에 대해 예측\n",
    "predictions = model.predict(x_test)\n",
    "predictions[0].shape"
   ]
  },
  {
   "cell_type": "code",
   "execution_count": 51,
   "id": "49107fa8-5358-48fb-846d-da1318162d2f",
   "metadata": {},
   "outputs": [
    {
     "data": {
      "text/plain": [
       "1.0"
      ]
     },
     "execution_count": 51,
     "metadata": {},
     "output_type": "execute_result"
    }
   ],
   "source": [
    "np.sum(predictions[0])"
   ]
  },
  {
   "cell_type": "code",
   "execution_count": 52,
   "id": "7321828f-1482-4e89-89fd-b42378609e2b",
   "metadata": {},
   "outputs": [
    {
     "data": {
      "text/plain": [
       "3"
      ]
     },
     "execution_count": 52,
     "metadata": {},
     "output_type": "execute_result"
    }
   ],
   "source": [
    "np.argmax(predictions[0])"
   ]
  },
  {
   "cell_type": "markdown",
   "id": "8d6bc9c7-ad5b-4314-ac33-6a464beb7018",
   "metadata": {},
   "source": [
    "## 4.2.6 레이블과 손실을 다루는 다른 방법"
   ]
  },
  {
   "cell_type": "code",
   "execution_count": 53,
   "id": "3f5994f6-9226-44c6-9255-09f403b48976",
   "metadata": {},
   "outputs": [],
   "source": [
    "# 정수 텐서로 변환\n",
    "y_train= np.array(train_labels)\n",
    "y_test = np.array(test_labels)\n",
    "\n",
    "model.compile(optimizer=\"rmsprop\",\n",
    "             loss= \"sparse_categorical_crossentropy\",\n",
    "             metrics=[\"accuracy\"])"
   ]
  },
  {
   "cell_type": "markdown",
   "id": "98544452-45aa-458a-9923-8a01e81381d2",
   "metadata": {
    "jupyter": {
     "outputs_hidden": true
    },
    "tags": []
   },
   "source": [
    "## 4.2.7 충분히 큰 중간층을 두어야 하는 이유"
   ]
  },
  {
   "cell_type": "code",
   "execution_count": 54,
   "id": "07c51cb4-1c32-406b-aef2-cc288ae013d0",
   "metadata": {
    "tags": []
   },
   "outputs": [
    {
     "name": "stdout",
     "output_type": "stream",
     "text": [
      "Epoch 1/20\n",
      "63/63 [==============================] - 1s 11ms/step - loss: 2.7640 - accuracy: 0.4245 - val_loss: 2.0304 - val_accuracy: 0.5580\n",
      "Epoch 2/20\n",
      "63/63 [==============================] - 0s 8ms/step - loss: 1.7282 - accuracy: 0.5896 - val_loss: 1.5903 - val_accuracy: 0.6080\n",
      "Epoch 3/20\n",
      "63/63 [==============================] - 0s 8ms/step - loss: 1.3700 - accuracy: 0.6569 - val_loss: 1.4278 - val_accuracy: 0.6530\n",
      "Epoch 4/20\n",
      "63/63 [==============================] - 0s 8ms/step - loss: 1.1625 - accuracy: 0.7040 - val_loss: 1.3553 - val_accuracy: 0.6680\n",
      "Epoch 5/20\n",
      "63/63 [==============================] - 1s 8ms/step - loss: 1.0093 - accuracy: 0.7331 - val_loss: 1.3115 - val_accuracy: 0.6770\n",
      "Epoch 6/20\n",
      "63/63 [==============================] - 0s 8ms/step - loss: 0.8897 - accuracy: 0.7825 - val_loss: 1.2868 - val_accuracy: 0.7060\n",
      "Epoch 7/20\n",
      "63/63 [==============================] - 0s 8ms/step - loss: 0.8024 - accuracy: 0.8058 - val_loss: 1.2941 - val_accuracy: 0.7180\n",
      "Epoch 8/20\n",
      "63/63 [==============================] - 1s 9ms/step - loss: 0.7346 - accuracy: 0.8140 - val_loss: 1.3036 - val_accuracy: 0.7190\n",
      "Epoch 9/20\n",
      "63/63 [==============================] - 1s 8ms/step - loss: 0.6794 - accuracy: 0.8221 - val_loss: 1.3353 - val_accuracy: 0.7180\n",
      "Epoch 10/20\n",
      "63/63 [==============================] - 0s 8ms/step - loss: 0.6336 - accuracy: 0.8326 - val_loss: 1.3433 - val_accuracy: 0.7310\n",
      "Epoch 11/20\n",
      "63/63 [==============================] - 1s 9ms/step - loss: 0.5941 - accuracy: 0.8369 - val_loss: 1.3962 - val_accuracy: 0.7240\n",
      "Epoch 12/20\n",
      "63/63 [==============================] - 0s 8ms/step - loss: 0.5585 - accuracy: 0.8418 - val_loss: 1.4372 - val_accuracy: 0.7250\n",
      "Epoch 13/20\n",
      "63/63 [==============================] - 1s 8ms/step - loss: 0.5271 - accuracy: 0.8453 - val_loss: 1.5081 - val_accuracy: 0.7130\n",
      "Epoch 14/20\n",
      "63/63 [==============================] - 0s 8ms/step - loss: 0.5003 - accuracy: 0.8533 - val_loss: 1.5475 - val_accuracy: 0.7140\n",
      "Epoch 15/20\n",
      "63/63 [==============================] - 1s 8ms/step - loss: 0.4752 - accuracy: 0.8573 - val_loss: 1.6128 - val_accuracy: 0.7130\n",
      "Epoch 16/20\n",
      "63/63 [==============================] - 0s 7ms/step - loss: 0.4573 - accuracy: 0.8676 - val_loss: 1.5959 - val_accuracy: 0.7160\n",
      "Epoch 17/20\n",
      "63/63 [==============================] - 0s 8ms/step - loss: 0.4368 - accuracy: 0.8746 - val_loss: 1.6572 - val_accuracy: 0.7140\n",
      "Epoch 18/20\n",
      "63/63 [==============================] - 0s 8ms/step - loss: 0.4222 - accuracy: 0.8806 - val_loss: 1.6943 - val_accuracy: 0.7190\n",
      "Epoch 19/20\n",
      "63/63 [==============================] - 0s 8ms/step - loss: 0.4039 - accuracy: 0.8854 - val_loss: 1.7497 - val_accuracy: 0.7040\n",
      "Epoch 20/20\n",
      "63/63 [==============================] - 0s 8ms/step - loss: 0.3923 - accuracy: 0.8881 - val_loss: 1.8406 - val_accuracy: 0.7130\n"
     ]
    }
   ],
   "source": [
    "# 병목이 나타남\n",
    "model = keras.Sequential([\n",
    "    layers.Dense(units=64, activation='relu'),\n",
    "    layers.Dense(units=4, activation='relu'),\n",
    "    layers.Dense(units=46, activation='softmax'),\n",
    "])\n",
    "# 모델 컴파일 4-16\n",
    "model.compile(optimizer = 'rmsprop',\n",
    "             loss = 'categorical_crossentropy',\n",
    "             metrics='accuracy')\n",
    "\n",
    "history = model.fit(partial_x_train, partial_y_train,\n",
    "          epochs=20, batch_size =128,\n",
    "          validation_data=(x_val, y_val))"
   ]
  },
  {
   "cell_type": "markdown",
   "id": "48cdbf3c-26e8-40b1-b196-0cd3eeca2fe3",
   "metadata": {},
   "source": [
    "# 4.3 주택 가격 예측: 회귀 문제"
   ]
  },
  {
   "cell_type": "markdown",
   "id": "8f98d85c-838c-42bf-a965-aa307011493d",
   "metadata": {},
   "source": [
    "## 4.3.1 보스턴 주택 가격 데이터 셋"
   ]
  },
  {
   "cell_type": "code",
   "execution_count": 55,
   "id": "d99d3bdd-3aab-4299-be7d-a6008c761038",
   "metadata": {},
   "outputs": [],
   "source": [
    "# 4-23 보스턴 주택 데이터 셋 로드\n",
    "# 1. 데이터 준비\n",
    "from keras.datasets import boston_housing\n",
    "(train_data, train_targets), (test_data, test_targets) = (boston_housing.load_data())"
   ]
  },
  {
   "cell_type": "code",
   "execution_count": 56,
   "id": "6520ee71-e450-4d32-80cf-80a8d7ecdee4",
   "metadata": {},
   "outputs": [
    {
     "name": "stdout",
     "output_type": "stream",
     "text": [
      "(404, 13)\n"
     ]
    },
    {
     "data": {
      "text/plain": [
       "(102, 13)"
      ]
     },
     "execution_count": 56,
     "metadata": {},
     "output_type": "execute_result"
    }
   ],
   "source": [
    "# 데이터 살펴보기\n",
    "print(train_data.shape)\n",
    "test_data.shape"
   ]
  },
  {
   "cell_type": "code",
   "execution_count": 57,
   "id": "a4f6434f-0f57-44b2-9b3a-1c30b172ac61",
   "metadata": {
    "tags": []
   },
   "outputs": [
    {
     "data": {
      "text/plain": [
       "array([15.2, 42.3, 50. , 21.1, 17.7, 18.5, 11.3, 15.6, 15.6, 14.4, 12.1,\n",
       "       17.9, 23.1, 19.9, 15.7,  8.8, 50. , 22.5, 24.1, 27.5, 10.9, 30.8,\n",
       "       32.9, 24. , 18.5, 13.3, 22.9, 34.7, 16.6, 17.5, 22.3, 16.1, 14.9,\n",
       "       23.1, 34.9, 25. , 13.9, 13.1, 20.4, 20. , 15.2, 24.7, 22.2, 16.7,\n",
       "       12.7, 15.6, 18.4, 21. , 30.1, 15.1, 18.7,  9.6, 31.5, 24.8, 19.1,\n",
       "       22. , 14.5, 11. , 32. , 29.4, 20.3, 24.4, 14.6, 19.5, 14.1, 14.3,\n",
       "       15.6, 10.5,  6.3, 19.3, 19.3, 13.4, 36.4, 17.8, 13.5, 16.5,  8.3,\n",
       "       14.3, 16. , 13.4, 28.6, 43.5, 20.2, 22. , 23. , 20.7, 12.5, 48.5,\n",
       "       14.6, 13.4, 23.7, 50. , 21.7, 39.8, 38.7, 22.2, 34.9, 22.5, 31.1,\n",
       "       28.7, 46. , 41.7, 21. , 26.6, 15. , 24.4, 13.3, 21.2, 11.7, 21.7,\n",
       "       19.4, 50. , 22.8, 19.7, 24.7, 36.2, 14.2, 18.9, 18.3, 20.6, 24.6,\n",
       "       18.2,  8.7, 44. , 10.4, 13.2, 21.2, 37. , 30.7, 22.9, 20. , 19.3,\n",
       "       31.7, 32. , 23.1, 18.8, 10.9, 50. , 19.6,  5. , 14.4, 19.8, 13.8,\n",
       "       19.6, 23.9, 24.5, 25. , 19.9, 17.2, 24.6, 13.5, 26.6, 21.4, 11.9,\n",
       "       22.6, 19.6,  8.5, 23.7, 23.1, 22.4, 20.5, 23.6, 18.4, 35.2, 23.1,\n",
       "       27.9, 20.6, 23.7, 28. , 13.6, 27.1, 23.6, 20.6, 18.2, 21.7, 17.1,\n",
       "        8.4, 25.3, 13.8, 22.2, 18.4, 20.7, 31.6, 30.5, 20.3,  8.8, 19.2,\n",
       "       19.4, 23.1, 23. , 14.8, 48.8, 22.6, 33.4, 21.1, 13.6, 32.2, 13.1,\n",
       "       23.4, 18.9, 23.9, 11.8, 23.3, 22.8, 19.6, 16.7, 13.4, 22.2, 20.4,\n",
       "       21.8, 26.4, 14.9, 24.1, 23.8, 12.3, 29.1, 21. , 19.5, 23.3, 23.8,\n",
       "       17.8, 11.5, 21.7, 19.9, 25. , 33.4, 28.5, 21.4, 24.3, 27.5, 33.1,\n",
       "       16.2, 23.3, 48.3, 22.9, 22.8, 13.1, 12.7, 22.6, 15. , 15.3, 10.5,\n",
       "       24. , 18.5, 21.7, 19.5, 33.2, 23.2,  5. , 19.1, 12.7, 22.3, 10.2,\n",
       "       13.9, 16.3, 17. , 20.1, 29.9, 17.2, 37.3, 45.4, 17.8, 23.2, 29. ,\n",
       "       22. , 18. , 17.4, 34.6, 20.1, 25. , 15.6, 24.8, 28.2, 21.2, 21.4,\n",
       "       23.8, 31. , 26.2, 17.4, 37.9, 17.5, 20. ,  8.3, 23.9,  8.4, 13.8,\n",
       "        7.2, 11.7, 17.1, 21.6, 50. , 16.1, 20.4, 20.6, 21.4, 20.6, 36.5,\n",
       "        8.5, 24.8, 10.8, 21.9, 17.3, 18.9, 36.2, 14.9, 18.2, 33.3, 21.8,\n",
       "       19.7, 31.6, 24.8, 19.4, 22.8,  7.5, 44.8, 16.8, 18.7, 50. , 50. ,\n",
       "       19.5, 20.1, 50. , 17.2, 20.8, 19.3, 41.3, 20.4, 20.5, 13.8, 16.5,\n",
       "       23.9, 20.6, 31.5, 23.3, 16.8, 14. , 33.8, 36.1, 12.8, 18.3, 18.7,\n",
       "       19.1, 29. , 30.1, 50. , 50. , 22. , 11.9, 37.6, 50. , 22.7, 20.8,\n",
       "       23.5, 27.9, 50. , 19.3, 23.9, 22.6, 15.2, 21.7, 19.2, 43.8, 20.3,\n",
       "       33.2, 19.9, 22.5, 32.7, 22. , 17.1, 19. , 15. , 16.1, 25.1, 23.7,\n",
       "       28.7, 37.2, 22.6, 16.4, 25. , 29.8, 22.1, 17.4, 18.1, 30.3, 17.5,\n",
       "       24.7, 12.6, 26.5, 28.7, 13.3, 10.4, 24.4, 23. , 20. , 17.8,  7. ,\n",
       "       11.8, 24.4, 13.8, 19.4, 25.2, 19.4, 19.4, 29.1])"
      ]
     },
     "execution_count": 57,
     "metadata": {},
     "output_type": "execute_result"
    }
   ],
   "source": [
    "# 402개의 훈련 샘플, 102개의 테스트 샘플이 있고, 13개의 수치 특성이 있다.\n",
    "# 타깃은 주택의 중간 가격으로 천달러 단위임\n",
    "train_targets"
   ]
  },
  {
   "cell_type": "markdown",
   "id": "4b91e91c-6c17-4787-8d45-60d55ede7c37",
   "metadata": {},
   "source": [
    "# 4.3.2 데이터 준비"
   ]
  },
  {
   "cell_type": "code",
   "execution_count": 58,
   "id": "5668adf7-71a2-4652-9658-dee592e42e1c",
   "metadata": {},
   "outputs": [],
   "source": [
    "# 특성별로 정규화 하는 것\n",
    "# 입력 데이터에 있는 각 특성(입력 데이터 행렬의 열)에 대해 특성의 평균을 빼고 표준편차로 나눈다.\n",
    "# 특성의 중앙이 0근처에 맞추어지고 표준편차가 1이 됨"
   ]
  },
  {
   "cell_type": "code",
   "execution_count": 59,
   "id": "834a0bc1-6630-4d81-8d96-18a55ede3b2a",
   "metadata": {},
   "outputs": [],
   "source": [
    "# 4-2 데이터 정규화 하기\n",
    "# 2. 데이터 처리(전처리)\n",
    "mean= train_data.mean(axis=0)\n",
    "train_data -= mean\n",
    "std = train_data.std(axis=0)\n",
    "train_data /= std\n",
    "test_data -=mean\n",
    "test_data /= std"
   ]
  },
  {
   "cell_type": "code",
   "execution_count": 60,
   "id": "bfc455e8-ed3c-420c-9ca8-e67cd76326b8",
   "metadata": {},
   "outputs": [],
   "source": [
    "# 주의\n",
    "# 절대로 테스트 데이터에 계산한 어떠한 값도 사용해서 안됨"
   ]
  },
  {
   "cell_type": "markdown",
   "id": "2f51815a-2203-44b0-a37d-46c22323dfff",
   "metadata": {},
   "source": [
    "## 4.3.3 모델 구성"
   ]
  },
  {
   "cell_type": "code",
   "execution_count": 61,
   "id": "7e1073af-6038-4486-b9a3-462bad081fcf",
   "metadata": {},
   "outputs": [],
   "source": [
    "# 3. 모델만들기(정의하기) \n",
    "import keras\n",
    "\n",
    "def build_model():\n",
    "    model = keras.Sequential([\n",
    "        layers.Dense(64, activation = \"relu\"),\n",
    "        layers.Dense(64, activation = \"relu\"),\n",
    "        layers.Dense(1)\n",
    "    ])\n",
    "    model.compile(optimizer = \"rmsprop\", loss= \"mse\", metrics=[\"mae\"])\n",
    "    return model"
   ]
  },
  {
   "cell_type": "markdown",
   "id": "315e1ab2-7dc7-4e0e-ad50-79bf8776b2a9",
   "metadata": {},
   "source": [
    "## 4.3.4 K-겹 검증을 사용한 훈련 검증"
   ]
  },
  {
   "cell_type": "code",
   "execution_count": 62,
   "id": "ba417f57-1c0c-4b1b-a703-d1dc9bf8cebd",
   "metadata": {},
   "outputs": [
    {
     "name": "stdout",
     "output_type": "stream",
     "text": [
      "#0번째 폴드 처리중\n",
      "#1번째 폴드 처리중\n",
      "#2번째 폴드 처리중\n",
      "#3번째 폴드 처리중\n"
     ]
    }
   ],
   "source": [
    "# 4-26 K-겹 검증하기\n",
    "import numpy as np\n",
    "import keras\n",
    "\n",
    "\n",
    "k= 4\n",
    "num_val_samples =len(train_data)//k\n",
    "num_epochs = 100\n",
    "all_scores=[]\n",
    "for i in range(k):\n",
    "    print(f\"#{i}번째 폴드 처리중\")\n",
    "    val_data = train_data[i * num_val_samples: (i+1)* num_val_samples]\n",
    "    val_targets = train_targets[i * num_val_samples: (i+1)* num_val_samples]\n",
    "    partia_train_data = np.concatenate(\n",
    "    [train_data[:i* num_val_samples],\n",
    "     train_data[(i + 1)*num_val_samples:]],\n",
    "        axis=0)\n",
    "    partia_train_targets = np.concatenate(\n",
    "    [train_targets[:i * num_val_samples],\n",
    "    train_targets[(i + 1) * num_val_samples:]],\n",
    "    axis=0)\n",
    "model = build_model()\n",
    "model.fit(partia_train_data, partia_train_targets,\n",
    "         epochs = num_epochs, batch_size=16, verbose=0)\n",
    "val_mse, val_mae = model.evaluate(val_data, val_targets, verbose=0)\n",
    "all_scores.append(val_mae)"
   ]
  },
  {
   "cell_type": "code",
   "execution_count": 63,
   "id": "09a3bdbe-9016-4258-b71f-ae2b53c7fd2b",
   "metadata": {},
   "outputs": [
    {
     "data": {
      "text/plain": [
       "[2.3470988273620605]"
      ]
     },
     "execution_count": 63,
     "metadata": {},
     "output_type": "execute_result"
    }
   ],
   "source": [
    "# num_epochs=100으로 실행\n",
    "all_scores"
   ]
  },
  {
   "cell_type": "code",
   "execution_count": 64,
   "id": "49b1cf7a-4264-4e1c-9d11-8cb001986ef4",
   "metadata": {},
   "outputs": [
    {
     "data": {
      "text/plain": [
       "2.3470988273620605"
      ]
     },
     "execution_count": 64,
     "metadata": {},
     "output_type": "execute_result"
    }
   ],
   "source": [
    "np.mean(all_scores)"
   ]
  },
  {
   "cell_type": "code",
   "execution_count": 65,
   "id": "3bd9e1cf-dfe3-41fe-bca7-d3c1bfafeedf",
   "metadata": {},
   "outputs": [
    {
     "name": "stdout",
     "output_type": "stream",
     "text": [
      "#0번째 폴드 처리중\n",
      "#1번째 폴드 처리중\n",
      "#2번째 폴드 처리중\n",
      "#3번째 폴드 처리중\n"
     ]
    }
   ],
   "source": [
    "# 4-27 각 폴드의 검중 점수 저장하기\n",
    "num_epochs =500\n",
    "all_mae_histories = []\n",
    "for i in range(k):\n",
    "    print(f\"#{i}번째 폴드 처리중\")\n",
    "    val_data = train_data[i * num_val_samples: (i+1) * num_val_samples]\n",
    "    val_targets = train_targets[i* num_val_samples: (i+1)*num_val_samples]\n",
    "    partia_train_data= np.concatenate(\n",
    "    [train_data[:i * num_val_samples],\n",
    "    train_data[(i+1)*num_val_samples:]],\n",
    "    axis=0)\n",
    "partia_train_targets = np.concatenate(\n",
    "    [train_targets[:i * num_val_samples],\n",
    "    train_targets[(i + 1) * num_val_samples:]],\n",
    "    axis=0)\n",
    "model = build_model()\n",
    "history = model.fit(partia_train_data, partia_train_targets,\n",
    "                   validation_data=(val_data, val_targets),\n",
    "                   epochs=num_epochs, batch_size=16, verbose=0)\n",
    "mae_histoy = history.history['val_mae']\n",
    "all_mae_histories.append(mae_histoy)"
   ]
  },
  {
   "cell_type": "code",
   "execution_count": 187,
   "id": "b379c582-46b4-4d92-90b7-71438b19f8ec",
   "metadata": {
    "collapsed": true,
    "jupyter": {
     "outputs_hidden": true
    },
    "tags": []
   },
   "outputs": [
    {
     "name": "stdout",
     "output_type": "stream",
     "text": [
      "[21.251785278320312, 17.952741622924805, 13.450610160827637, 8.934240341186523, 6.457298278808594, 5.276968955993652, 4.506893634796143, 4.197632789611816, 3.8989779949188232, 3.681535005569458]\n",
      "[[17.208391189575195, 13.68774700164795, 9.505520820617676, 5.863607883453369, 4.744641304016113, 4.156180381774902, 3.705875873565674, 3.360576629638672, 3.250675916671753, 2.9229626655578613, 2.9160819053649902, 2.902553081512451, 2.802931308746338, 2.6277859210968018, 2.514071226119995, 2.505136489868164, 2.33263897895813, 2.305694818496704, 2.1962380409240723, 2.2477657794952393, 2.15116024017334, 2.458343505859375, 2.065349578857422, 2.011779308319092, 2.1303935050964355, 1.9415124654769897, 1.9363327026367188, 1.9260127544403076, 1.884361982345581, 1.986196517944336, 1.9698623418807983, 1.9495885372161865, 1.8983482122421265, 1.8757059574127197, 2.0055971145629883, 2.026499032974243, 1.8379371166229248, 1.8265125751495361, 1.8375465869903564, 1.847381830215454, 1.8221992254257202, 1.7992496490478516, 1.8189058303833008, 1.9299461841583252, 1.903123140335083, 1.8427789211273193, 1.7633907794952393, 1.8015438318252563, 1.836901068687439, 2.1004886627197266, 1.7940483093261719, 1.8266141414642334, 1.8544032573699951, 1.758695363998413, 1.923775315284729, 1.780242919921875, 1.8077545166015625, 1.9156907796859741, 1.771927833557129, 1.8061742782592773, 1.839029312133789, 1.8931167125701904, 2.018122911453247, 1.7837154865264893, 1.7303779125213623, 1.7693898677825928, 1.767093300819397, 1.7524826526641846, 1.7560495138168335, 1.7503677606582642, 1.8704020977020264, 1.7820236682891846, 1.9497178792953491, 1.866105318069458, 1.7321208715438843, 1.7641851902008057, 1.9363186359405518, 1.797231912612915, 1.9214591979980469, 1.7767760753631592, 1.8152824640274048, 1.6877495050430298, 1.8101890087127686, 1.7408126592636108, 1.7480360269546509, 1.8625099658966064, 1.9148082733154297, 1.7810825109481812, 1.7338192462921143, 1.8371254205703735, 1.7648454904556274, 1.7630027532577515, 1.7380597591400146, 1.802533745765686, 2.136218786239624, 1.840884804725647, 2.0249316692352295, 2.134566068649292, 1.7047659158706665, 1.743168830871582], [20.92072105407715, 17.07221794128418, 12.23686408996582, 8.238418579101562, 5.986262798309326, 4.938127517700195, 4.483839988708496, 3.9760003089904785, 3.881664276123047, 3.6494553089141846, 3.59788179397583, 3.5576062202453613, 3.4400742053985596, 3.3577053546905518, 3.303330898284912, 3.3046317100524902, 3.2755298614501953, 3.0913338661193848, 3.1169371604919434, 3.023015260696411, 2.953077793121338, 2.9625744819641113, 3.0837888717651367, 2.961839199066162, 2.928778648376465, 3.024881362915039, 2.769320487976074, 2.9698262214660645, 3.0106844902038574, 2.7821474075317383, 2.873885154724121, 2.9677274227142334, 2.79463267326355, 2.7883198261260986, 2.823359966278076, 2.992130756378174, 2.8938393592834473, 2.8409998416900635, 2.8733086585998535, 2.7832486629486084, 2.766270875930786, 2.7901415824890137, 2.952436923980713, 2.8408172130584717, 2.8235833644866943, 2.7063934803009033, 2.930295467376709, 2.868293046951294, 2.755361795425415, 2.785369634628296, 2.6827759742736816, 2.6435792446136475, 2.967848300933838, 2.714970350265503, 2.688175916671753, 2.7943458557128906, 2.7386879920959473, 2.7460503578186035, 2.6736111640930176, 2.7289862632751465, 2.6803207397460938, 2.6491634845733643, 2.6677603721618652, 2.650393009185791, 2.7187068462371826, 2.873940944671631, 2.679027795791626, 2.6883912086486816, 2.8859050273895264, 2.6674551963806152, 2.621030807495117, 2.653116226196289, 2.785351514816284, 2.9684088230133057, 2.595247745513916, 2.6134307384490967, 2.887044906616211, 2.8486011028289795, 2.657146453857422, 2.5893099308013916, 2.7350032329559326, 2.8166050910949707, 2.708292007446289, 2.536750316619873, 2.620060682296753, 2.700965166091919, 2.613046169281006, 2.6218676567077637, 2.9864914417266846, 2.658956527709961, 2.962920665740967, 3.027881622314453, 2.8889896869659424, 2.486258029937744, 2.6191258430480957, 3.162126064300537, 2.6520156860351562, 2.6911516189575195, 2.672006130218506, 2.5428619384765625], [19.360095977783203, 15.988276481628418, 11.548440933227539, 7.525996208190918, 5.50496768951416, 4.246429443359375, 3.5427780151367188, 3.2186503410339355, 3.059584856033325, 2.9463775157928467, 2.8235325813293457, 2.6993837356567383, 2.6728005409240723, 2.7234928607940674, 2.5805153846740723, 2.7418370246887207, 2.659991502761841, 2.4436264038085938, 2.5595040321350098, 2.4859161376953125, 2.3659660816192627, 2.3356375694274902, 2.5338950157165527, 2.4326138496398926, 2.5868682861328125, 2.567673444747925, 2.501993417739868, 2.6440558433532715, 2.8782310485839844, 2.409575939178467, 2.5821361541748047, 2.5317981243133545, 2.3361921310424805, 2.669140577316284, 2.373961925506592, 2.500847578048706, 2.4301609992980957, 2.374314069747925, 2.5443851947784424, 2.4296317100524902, 2.407367467880249, 2.538160800933838, 2.4721081256866455, 2.3734405040740967, 2.4257442951202393, 2.289867639541626, 2.651254177093506, 2.5443296432495117, 2.371809244155884, 2.3644371032714844, 2.423945426940918, 2.3942790031433105, 2.4688913822174072, 2.3719656467437744, 2.511430025100708, 2.292156219482422, 2.3523738384246826, 2.231519937515259, 2.401520013809204, 2.3387279510498047, 2.3443715572357178, 2.2914938926696777, 2.4227042198181152, 2.411344289779663, 2.5795814990997314, 2.3223609924316406, 2.4513142108917236, 2.2786755561828613, 2.330286979675293, 2.4117074012756348, 2.5343048572540283, 2.622077465057373, 2.30853533744812, 2.3609538078308105, 2.259615421295166, 2.320197105407715, 2.209517002105713, 2.2979865074157715, 2.5746185779571533, 2.17423677444458, 2.3607988357543945, 2.268763303756714, 2.3469736576080322, 2.3832459449768066, 2.212768077850342, 2.3221402168273926, 2.2419075965881348, 2.4294273853302, 2.207401752471924, 2.1945559978485107, 2.1721160411834717, 2.1219305992126465, 2.1144747734069824, 2.289715051651001, 2.269930124282837, 2.2064976692199707, 2.1086361408233643, 2.310770034790039, 2.1430606842041016, 2.1178672313690186]]\n"
     ]
    }
   ],
   "source": [
    "mae_history = history.history['val_mae']\n",
    "print(mae_history[:10])\n",
    "    \n",
    "all_mae_histories.append(mae_history)\n",
    "print(all_mae_histories[:3])"
   ]
  },
  {
   "cell_type": "code",
   "execution_count": 66,
   "id": "5c7203d7-2283-4628-a832-e9a4eab583df",
   "metadata": {},
   "outputs": [],
   "source": [
    "# 4-28 k-겹 검증 점수 평균 기록\n",
    "average_mae_history=[\n",
    "        np.mean([x[i] for x in all_mae_histories]) for i in range(num_epochs)]"
   ]
  },
  {
   "cell_type": "code",
   "execution_count": 67,
   "id": "e3b2f461-e3d1-499b-96fe-35f54dbc0093",
   "metadata": {},
   "outputs": [
    {
     "data": {
      "image/png": "[encoded data removed]",
      "text/plain": [
       "<Figure size 432x288 with 1 Axes>"
      ]
     },
     "metadata": {
      "needs_background": "light"
     },
     "output_type": "display_data"
    }
   ],
   "source": [
    "# 4-29 검증 점수 그래프 그리기\n",
    "plt.plot(range(1, len(average_mae_history)+1), average_mae_history)\n",
    "plt.xlabel(\"Epochs\")\n",
    "plt.ylabel(\"Validation MAE\")\n",
    "plt.show()"
   ]
  },
  {
   "cell_type": "code",
   "execution_count": 68,
   "id": "1daba8fc-99fb-4cae-b876-1b3c51d92f1d",
   "metadata": {},
   "outputs": [
    {
     "data": {
      "image/png": "[encoded data removed]",
      "text/plain": [
       "<Figure size 432x288 with 1 Axes>"
      ]
     },
     "metadata": {
      "needs_background": "light"
     },
     "output_type": "display_data"
    }
   ],
   "source": [
    "# 나머지 곡선 부분과 스케일이 크게 다른 처음 10개의 데이터 포인트 제외 시키기\n",
    "# 4-30 처음 10개의 데이터 포인트를 제외한 검증 점수 그래프 그리기\n",
    "truncated_mae_history = average_mae_history[10:]\n",
    "plt.plot(range(1, len(truncated_mae_history)+1), truncated_mae_history)\n",
    "plt.xlabel(\"Epochs\")\n",
    "plt.ylabel(\"Validation MAE\")\n",
    "plt.show()"
   ]
  },
  {
   "cell_type": "code",
   "execution_count": 69,
   "id": "2d3c184b-ceb9-4ae2-8bd7-8cac48dc667a",
   "metadata": {},
   "outputs": [],
   "source": [
    "# 140번째 에포크 이후에 줄어드는 것이 멈춤. 이 지점 이후로는 과대적합이 시작됨"
   ]
  },
  {
   "cell_type": "code",
   "execution_count": 70,
   "id": "26f5ef22-debb-425f-bae7-529f7cda478b",
   "metadata": {},
   "outputs": [
    {
     "name": "stdout",
     "output_type": "stream",
     "text": [
      "4/4 [==============================] - 0s 1ms/step - loss: 13.4363 - mae: 2.5128\n"
     ]
    }
   ],
   "source": [
    "# 4-31 최종 모델 훈련하기\n",
    "model = build_model()\n",
    "model.fit(train_data, train_targets,\n",
    "         epochs= 130, batch_size=16, verbose=0)\n",
    "test_mse_score, test_mae_score = model.evaluate(test_data, test_targets)"
   ]
  },
  {
   "cell_type": "code",
   "execution_count": 71,
   "id": "4b4f5017-145b-4314-890f-cb8cdbb2213c",
   "metadata": {},
   "outputs": [
    {
     "data": {
      "text/plain": [
       "2.5128090381622314"
      ]
     },
     "execution_count": 71,
     "metadata": {},
     "output_type": "execute_result"
    }
   ],
   "source": [
    "test_mae_score"
   ]
  },
  {
   "cell_type": "markdown",
   "id": "47959f7f-cadd-4a08-87c9-979de168dd50",
   "metadata": {},
   "source": [
    "# 11.24 p.172~178"
   ]
  },
  {
   "cell_type": "markdown",
   "id": "e7dc961c-8e47-4766-9f13-e89852fb4b99",
   "metadata": {},
   "source": [
    "all_mae_histories[0][0]\n",
    "all_mae_histories[1][0]\n",
    "all_mae_histories[2][0]\n",
    "all_mae_histories[3][0]\n",
    "all_mae_histories[4][0]\n",
    "\n",
    "all_mae_histories[0][1]\n",
    "all_mae_histories[1][1]\n",
    "all_mae_histories[2][1]\n",
    "all_mae_histories[3][1]\n",
    "all_mae_histories[4][1]\n",
    "\n",
    "all_mae_histories[0][2]\n",
    "all_mae_histories[1][2]\n",
    "all_mae_histories[2][2]\n",
    "all_mae_histories[3][2]\n",
    "all_mae_histories[4][2]"
   ]
  },
  {
   "cell_type": "code",
   "execution_count": 170,
   "id": "9a814cc5-d304-47ec-afe8-41b97839f13f",
   "metadata": {
    "collapsed": true,
    "jupyter": {
     "outputs_hidden": true
    },
    "tags": []
   },
   "outputs": [
    {
     "name": "stdout",
     "output_type": "stream",
     "text": [
      "[21.251785278320312, 17.952741622924805, 13.450610160827637, 8.934240341186523, 6.457298278808594, 5.276968955993652, 4.506893634796143, 4.197632789611816, 3.8989779949188232, 3.681535005569458, 3.5456976890563965, 3.384284257888794, 3.2831192016601562, 3.1660523414611816, 3.1767077445983887, 3.147764205932617, 2.9752626419067383, 2.942695140838623, 2.8524012565612793, 2.8611092567443848, 2.9858574867248535, 2.8838586807250977, 2.7284018993377686, 2.795139789581299, 2.7944087982177734, 2.839743137359619, 2.698698043823242, 2.7022316455841064, 2.6903305053710938, 2.755497455596924, 2.7379870414733887, 2.8805737495422363, 2.7204298973083496, 2.623520612716675, 2.7626218795776367, 2.8740596771240234, 2.6781322956085205, 2.72151517868042, 2.7244038581848145, 2.744626998901367, 2.6313834190368652, 2.6625304222106934, 2.7194926738739014, 2.6594223976135254, 2.6553401947021484, 2.6415421962738037, 2.660891056060791, 2.8110060691833496, 2.7115135192871094, 2.728978157043457, 2.716287612915039, 2.564815044403076, 2.6805405616760254, 2.6229262351989746, 2.704794406890869, 2.5511250495910645, 2.695392608642578, 2.7204127311706543, 2.626530408859253, 2.5772454738616943, 2.6666321754455566, 2.5663700103759766, 2.745192527770996, 2.608095169067383, 2.6600780487060547, 2.635077714920044, 2.5920348167419434, 2.664191722869873, 2.7324182987213135, 2.603712797164917, 2.545375347137451, 2.6405482292175293, 2.573014736175537, 2.5797641277313232, 2.6416757106781006, 2.6421186923980713, 2.6954288482666016, 2.559879779815674, 2.7356934547424316, 2.532519817352295, 2.508366346359253, 2.6900827884674072, 2.5654850006103516, 2.5375266075134277, 2.81536602973938, 2.5222461223602295, 2.566006660461426, 2.5297515392303467, 2.5515239238739014, 2.596221446990967, 2.587953805923462, 2.6362226009368896, 2.5123648643493652, 2.620936155319214, 2.624067544937134, 2.6300878524780273, 2.496525526046753, 2.628063917160034, 2.717794418334961, 2.5091891288757324]\n"
     ]
    }
   ],
   "source": [
    "# 방법1\n",
    "a_m_h = []\n",
    "for i in range(num_epochs):\n",
    "    each_epoch = []\n",
    "    for x in all_mae_histories:\n",
    "        each_epoch.append(x[i])\n",
    "    a_m_h.append(np.mean(each_epoch)) \n",
    "print(mae_history)"
   ]
  },
  {
   "cell_type": "code",
   "execution_count": 171,
   "id": "24a9d310-7f06-4efc-a259-33abc9b6d555",
   "metadata": {
    "collapsed": true,
    "jupyter": {
     "outputs_hidden": true
    },
    "tags": []
   },
   "outputs": [
    {
     "name": "stdout",
     "output_type": "stream",
     "text": [
      "17.208391189575195\n",
      "20.92072105407715\n",
      "19.360095977783203\n",
      "19.283939361572266\n",
      "21.251785278320312\n",
      "13.68774700164795\n",
      "17.07221794128418\n",
      "15.988276481628418\n",
      "15.728100776672363\n",
      "17.952741622924805\n",
      "9.505520820617676\n",
      "12.23686408996582\n",
      "11.548440933227539\n",
      "11.411537170410156\n",
      "13.450610160827637\n",
      "5.863607883453369\n",
      "8.238418579101562\n",
      "7.525996208190918\n",
      "7.214821815490723\n",
      "8.934240341186523\n",
      "4.744641304016113\n",
      "5.986262798309326\n",
      "5.50496768951416\n",
      "5.417281150817871\n",
      "6.457298278808594\n",
      "4.156180381774902\n",
      "4.938127517700195\n",
      "4.246429443359375\n",
      "4.543072700500488\n",
      "5.276968955993652\n",
      "3.705875873565674\n",
      "4.483839988708496\n",
      "3.5427780151367188\n",
      "3.9631569385528564\n",
      "4.506893634796143\n",
      "3.360576629638672\n",
      "3.9760003089904785\n",
      "3.2186503410339355\n",
      "3.648258686065674\n",
      "4.197632789611816\n",
      "3.250675916671753\n",
      "3.881664276123047\n",
      "3.059584856033325\n",
      "3.470313310623169\n",
      "3.8989779949188232\n",
      "2.9229626655578613\n",
      "3.6494553089141846\n",
      "2.9463775157928467\n",
      "3.3942089080810547\n",
      "3.681535005569458\n",
      "2.9160819053649902\n",
      "3.59788179397583\n",
      "2.8235325813293457\n",
      "3.1797385215759277\n",
      "3.5456976890563965\n",
      "2.902553081512451\n",
      "3.5576062202453613\n",
      "2.6993837356567383\n",
      "3.3262734413146973\n",
      "3.384284257888794\n",
      "2.802931308746338\n",
      "3.4400742053985596\n",
      "2.6728005409240723\n",
      "3.1820671558380127\n",
      "3.2831192016601562\n",
      "2.6277859210968018\n",
      "3.3577053546905518\n",
      "2.7234928607940674\n",
      "2.9803977012634277\n",
      "3.1660523414611816\n",
      "2.514071226119995\n",
      "3.303330898284912\n",
      "2.5805153846740723\n",
      "2.9519858360290527\n",
      "3.1767077445983887\n",
      "2.505136489868164\n",
      "3.3046317100524902\n",
      "2.7418370246887207\n",
      "2.9394383430480957\n",
      "3.147764205932617\n",
      "2.33263897895813\n",
      "3.2755298614501953\n",
      "2.659991502761841\n",
      "2.8554129600524902\n",
      "2.9752626419067383\n",
      "2.305694818496704\n",
      "3.0913338661193848\n",
      "2.4436264038085938\n",
      "2.838315963745117\n",
      "2.942695140838623\n",
      "2.1962380409240723\n",
      "3.1169371604919434\n",
      "2.5595040321350098\n",
      "2.853605031967163\n",
      "2.8524012565612793\n",
      "2.2477657794952393\n",
      "3.023015260696411\n",
      "2.4859161376953125\n",
      "2.9265663623809814\n",
      "2.8611092567443848\n",
      "2.15116024017334\n",
      "2.953077793121338\n",
      "2.3659660816192627\n",
      "2.80401349067688\n",
      "2.9858574867248535\n",
      "2.458343505859375\n",
      "2.9625744819641113\n",
      "2.3356375694274902\n",
      "2.7162973880767822\n",
      "2.8838586807250977\n",
      "2.065349578857422\n",
      "3.0837888717651367\n",
      "2.5338950157165527\n",
      "2.901643991470337\n",
      "2.7284018993377686\n",
      "2.011779308319092\n",
      "2.961839199066162\n",
      "2.4326138496398926\n",
      "2.7645487785339355\n",
      "2.795139789581299\n",
      "2.1303935050964355\n",
      "2.928778648376465\n",
      "2.5868682861328125\n",
      "2.7648355960845947\n",
      "2.7944087982177734\n",
      "1.9415124654769897\n",
      "3.024881362915039\n",
      "2.567673444747925\n",
      "2.6804025173187256\n",
      "2.839743137359619\n",
      "1.9363327026367188\n",
      "2.769320487976074\n",
      "2.501993417739868\n",
      "2.7509262561798096\n",
      "2.698698043823242\n",
      "1.9260127544403076\n",
      "2.9698262214660645\n",
      "2.6440558433532715\n",
      "2.8410441875457764\n",
      "2.7022316455841064\n",
      "1.884361982345581\n",
      "3.0106844902038574\n",
      "2.8782310485839844\n",
      "2.8892037868499756\n",
      "2.6903305053710938\n",
      "1.986196517944336\n",
      "2.7821474075317383\n",
      "2.409575939178467\n",
      "2.818617820739746\n",
      "2.755497455596924\n",
      "1.9698623418807983\n",
      "2.873885154724121\n",
      "2.5821361541748047\n",
      "2.628932476043701\n",
      "2.7379870414733887\n",
      "1.9495885372161865\n",
      "2.9677274227142334\n",
      "2.5317981243133545\n",
      "2.780071496963501\n",
      "2.8805737495422363\n",
      "1.8983482122421265\n",
      "2.79463267326355\n",
      "2.3361921310424805\n",
      "2.5930662155151367\n",
      "2.7204298973083496\n",
      "1.8757059574127197\n",
      "2.7883198261260986\n",
      "2.669140577316284\n",
      "2.758417844772339\n",
      "2.623520612716675\n",
      "2.0055971145629883\n",
      "2.823359966278076\n",
      "2.373961925506592\n",
      "2.654242992401123\n",
      "2.7626218795776367\n",
      "2.026499032974243\n",
      "2.992130756378174\n",
      "2.500847578048706\n",
      "2.6513867378234863\n",
      "2.8740596771240234\n",
      "1.8379371166229248\n",
      "2.8938393592834473\n",
      "2.4301609992980957\n",
      "2.584843873977661\n",
      "2.6781322956085205\n",
      "1.8265125751495361\n",
      "2.8409998416900635\n",
      "2.374314069747925\n",
      "2.651541233062744\n",
      "2.72151517868042\n",
      "1.8375465869903564\n",
      "2.8733086585998535\n",
      "2.5443851947784424\n",
      "2.6368796825408936\n",
      "2.7244038581848145\n",
      "1.847381830215454\n",
      "2.7832486629486084\n",
      "2.4296317100524902\n",
      "2.723700523376465\n",
      "2.744626998901367\n",
      "1.8221992254257202\n",
      "2.766270875930786\n",
      "2.407367467880249\n",
      "2.5833773612976074\n",
      "2.6313834190368652\n",
      "1.7992496490478516\n",
      "2.7901415824890137\n",
      "2.538160800933838\n",
      "2.633366346359253\n",
      "2.6625304222106934\n",
      "1.8189058303833008\n",
      "2.952436923980713\n",
      "2.4721081256866455\n",
      "2.5385947227478027\n",
      "2.7194926738739014\n",
      "1.9299461841583252\n",
      "2.8408172130584717\n",
      "2.3734405040740967\n",
      "2.5543105602264404\n",
      "2.6594223976135254\n",
      "1.903123140335083\n",
      "2.8235833644866943\n",
      "2.4257442951202393\n",
      "2.510446071624756\n",
      "2.6553401947021484\n",
      "1.8427789211273193\n",
      "2.7063934803009033\n",
      "2.289867639541626\n",
      "2.6002674102783203\n",
      "2.6415421962738037\n",
      "1.7633907794952393\n",
      "2.930295467376709\n",
      "2.651254177093506\n",
      "2.6874544620513916\n",
      "2.660891056060791\n",
      "1.8015438318252563\n",
      "2.868293046951294\n",
      "2.5443296432495117\n",
      "2.5519137382507324\n",
      "2.8110060691833496\n",
      "1.836901068687439\n",
      "2.755361795425415\n",
      "2.371809244155884\n",
      "2.495558023452759\n",
      "2.7115135192871094\n",
      "2.1004886627197266\n",
      "2.785369634628296\n",
      "2.3644371032714844\n",
      "2.5354855060577393\n",
      "2.728978157043457\n",
      "1.7940483093261719\n",
      "2.6827759742736816\n",
      "2.423945426940918\n",
      "2.462794303894043\n",
      "2.716287612915039\n",
      "1.8266141414642334\n",
      "2.6435792446136475\n",
      "2.3942790031433105\n",
      "2.4425694942474365\n",
      "2.564815044403076\n",
      "1.8544032573699951\n",
      "2.967848300933838\n",
      "2.4688913822174072\n",
      "2.5250954627990723\n",
      "2.6805405616760254\n",
      "1.758695363998413\n",
      "2.714970350265503\n",
      "2.3719656467437744\n",
      "2.6210243701934814\n",
      "2.6229262351989746\n",
      "1.923775315284729\n",
      "2.688175916671753\n",
      "2.511430025100708\n",
      "2.5767104625701904\n",
      "2.704794406890869\n",
      "1.780242919921875\n",
      "2.7943458557128906\n",
      "2.292156219482422\n",
      "2.4973855018615723\n",
      "2.5511250495910645\n",
      "1.8077545166015625\n",
      "2.7386879920959473\n",
      "2.3523738384246826\n",
      "2.5858917236328125\n",
      "2.695392608642578\n",
      "1.9156907796859741\n",
      "2.7460503578186035\n",
      "2.231519937515259\n",
      "2.4616806507110596\n",
      "2.7204127311706543\n",
      "1.771927833557129\n",
      "2.6736111640930176\n",
      "2.401520013809204\n",
      "2.6163227558135986\n",
      "2.626530408859253\n",
      "1.8061742782592773\n",
      "2.7289862632751465\n",
      "2.3387279510498047\n",
      "2.73181414604187\n",
      "2.5772454738616943\n",
      "1.839029312133789\n",
      "2.6803207397460938\n",
      "2.3443715572357178\n",
      "2.5083565711975098\n",
      "2.6666321754455566\n",
      "1.8931167125701904\n",
      "2.6491634845733643\n",
      "2.2914938926696777\n",
      "2.4711740016937256\n",
      "2.5663700103759766\n",
      "2.018122911453247\n",
      "2.6677603721618652\n",
      "2.4227042198181152\n",
      "2.5545706748962402\n",
      "2.745192527770996\n",
      "1.7837154865264893\n",
      "2.650393009185791\n",
      "2.411344289779663\n",
      "2.494171142578125\n",
      "2.608095169067383\n",
      "1.7303779125213623\n",
      "2.7187068462371826\n",
      "2.5795814990997314\n",
      "2.565275192260742\n",
      "2.6600780487060547\n",
      "1.7693898677825928\n",
      "2.873940944671631\n",
      "2.3223609924316406\n",
      "2.555016040802002\n",
      "2.635077714920044\n",
      "1.767093300819397\n",
      "2.679027795791626\n",
      "2.4513142108917236\n",
      "2.453397274017334\n",
      "2.5920348167419434\n",
      "1.7524826526641846\n",
      "2.6883912086486816\n",
      "2.2786755561828613\n",
      "2.4512059688568115\n",
      "2.664191722869873\n",
      "1.7560495138168335\n",
      "2.8859050273895264\n",
      "2.330286979675293\n",
      "2.4916529655456543\n",
      "2.7324182987213135\n",
      "1.7503677606582642\n",
      "2.6674551963806152\n",
      "2.4117074012756348\n",
      "2.478600263595581\n",
      "2.603712797164917\n",
      "1.8704020977020264\n",
      "2.621030807495117\n",
      "2.5343048572540283\n",
      "2.4922280311584473\n",
      "2.545375347137451\n",
      "1.7820236682891846\n",
      "2.653116226196289\n",
      "2.622077465057373\n",
      "2.5991950035095215\n",
      "2.6405482292175293\n",
      "1.9497178792953491\n",
      "2.785351514816284\n",
      "2.30853533744812\n",
      "2.4389781951904297\n",
      "2.573014736175537\n",
      "1.866105318069458\n",
      "2.9684088230133057\n",
      "2.3609538078308105\n",
      "2.4311842918395996\n",
      "2.5797641277313232\n",
      "1.7321208715438843\n",
      "2.595247745513916\n",
      "2.259615421295166\n",
      "2.4764511585235596\n",
      "2.6416757106781006\n",
      "1.7641851902008057\n",
      "2.6134307384490967\n",
      "2.320197105407715\n",
      "2.4252121448516846\n",
      "2.6421186923980713\n",
      "1.9363186359405518\n",
      "2.887044906616211\n",
      "2.209517002105713\n",
      "2.545839786529541\n",
      "2.6954288482666016\n",
      "1.797231912612915\n",
      "2.8486011028289795\n",
      "2.2979865074157715\n",
      "2.457216739654541\n",
      "2.559879779815674\n",
      "1.9214591979980469\n",
      "2.657146453857422\n",
      "2.5746185779571533\n",
      "2.4532434940338135\n",
      "2.7356934547424316\n",
      "1.7767760753631592\n",
      "2.5893099308013916\n",
      "2.17423677444458\n",
      "2.4888243675231934\n",
      "2.532519817352295\n",
      "1.8152824640274048\n",
      "2.7350032329559326\n",
      "2.3607988357543945\n",
      "2.438680648803711\n",
      "2.508366346359253\n",
      "1.6877495050430298\n",
      "2.8166050910949707\n",
      "2.268763303756714\n",
      "2.4571146965026855\n",
      "2.6900827884674072\n",
      "1.8101890087127686\n",
      "2.708292007446289\n",
      "2.3469736576080322\n",
      "2.545948028564453\n",
      "2.5654850006103516\n",
      "1.7408126592636108\n",
      "2.536750316619873\n",
      "2.3832459449768066\n",
      "2.514495611190796\n",
      "2.5375266075134277\n",
      "1.7480360269546509\n",
      "2.620060682296753\n",
      "2.212768077850342\n",
      "2.4403445720672607\n",
      "2.81536602973938\n",
      "1.8625099658966064\n",
      "2.700965166091919\n",
      "2.3221402168273926\n",
      "2.53403639793396\n",
      "2.5222461223602295\n",
      "1.9148082733154297\n",
      "2.613046169281006\n",
      "2.2419075965881348\n",
      "2.576488494873047\n",
      "2.566006660461426\n",
      "1.7810825109481812\n",
      "2.6218676567077637\n",
      "2.4294273853302\n",
      "2.463960647583008\n",
      "2.5297515392303467\n",
      "1.7338192462921143\n",
      "2.9864914417266846\n",
      "2.207401752471924\n",
      "2.5157487392425537\n",
      "2.5515239238739014\n",
      "1.8371254205703735\n",
      "2.658956527709961\n",
      "2.1945559978485107\n",
      "2.5368800163269043\n",
      "2.596221446990967\n",
      "1.7648454904556274\n",
      "2.962920665740967\n",
      "2.1721160411834717\n",
      "2.5978918075561523\n",
      "2.587953805923462\n",
      "1.7630027532577515\n",
      "3.027881622314453\n",
      "2.1219305992126465\n",
      "2.633838176727295\n",
      "2.6362226009368896\n",
      "1.7380597591400146\n",
      "2.8889896869659424\n",
      "2.1144747734069824\n",
      "2.5651817321777344\n",
      "2.5123648643493652\n",
      "1.802533745765686\n",
      "2.486258029937744\n",
      "2.289715051651001\n",
      "2.4726474285125732\n",
      "2.620936155319214\n",
      "2.136218786239624\n",
      "2.6191258430480957\n",
      "2.269930124282837\n",
      "2.6564457416534424\n",
      "2.624067544937134\n",
      "1.840884804725647\n",
      "3.162126064300537\n",
      "2.2064976692199707\n",
      "2.4458322525024414\n",
      "2.6300878524780273\n",
      "2.0249316692352295\n",
      "2.6520156860351562\n",
      "2.1086361408233643\n",
      "2.6125354766845703\n",
      "2.496525526046753\n",
      "2.134566068649292\n",
      "2.6911516189575195\n",
      "2.310770034790039\n",
      "2.4709441661834717\n",
      "2.628063917160034\n",
      "1.7047659158706665\n",
      "2.672006130218506\n",
      "2.1430606842041016\n",
      "2.6453206539154053\n",
      "2.717794418334961\n",
      "1.743168830871582\n",
      "2.5428619384765625\n",
      "2.1178672313690186\n",
      "2.420698642730713\n",
      "2.5091891288757324\n"
     ]
    }
   ],
   "source": [
    "# 방법2\n",
    "all_avg_mae=[]\n",
    "for i in range(100):\n",
    "    for mae_history in all_mae_histories:\n",
    "        all_mae = []\n",
    "        all_mae = mae_history[i]\n",
    "        all_avg_mae.append(np.mean(all_mae))\n",
    "        print(all_mae)"
   ]
  },
  {
   "cell_type": "code",
   "execution_count": 178,
   "id": "9caa1323-b2da-4941-b91b-0f225acd0a4a",
   "metadata": {},
   "outputs": [
    {
     "data": {
      "text/plain": [
       "<matplotlib.collections.PathCollection at 0x28995513f10>"
      ]
     },
     "execution_count": 178,
     "metadata": {},
     "output_type": "execute_result"
    },
    {
     "data": {
      "image/png": "[encoded data removed]",
      "text/plain": [
       "<Figure size 432x288 with 1 Axes>"
      ]
     },
     "metadata": {
      "needs_background": "light"
     },
     "output_type": "display_data"
    }
   ],
   "source": [
    "plt.scatter(range(1,501),all_avg_mae)"
   ]
  },
  {
   "cell_type": "code",
   "execution_count": 179,
   "id": "e6ba4fb5-8583-422e-87a2-acca2ef98c43",
   "metadata": {},
   "outputs": [
    {
     "name": "stdout",
     "output_type": "stream",
     "text": [
      "4/4 [==============================] - 0s 998us/step - loss: 17.0552 - mae: 2.8920\n"
     ]
    },
    {
     "data": {
      "text/plain": [
       "2.8919928073883057"
      ]
     },
     "execution_count": 179,
     "metadata": {},
     "output_type": "execute_result"
    }
   ],
   "source": [
    "model = build_model()\n",
    "model.fit(train_data, train_targets,\n",
    "         epochs = 130,  batch_size=16, verbose=0)\n",
    "test_mse_score, test_mae_score =model.evaluate(test_data, test_targets)\n",
    "\n",
    "test_mae_score\n",
    "# 값이 적을수록 좋은 것임"
   ]
  },
  {
   "cell_type": "markdown",
   "id": "6f3acb4b-930c-46d7-8aca-4bf96fca8638",
   "metadata": {},
   "source": [
    "train_x: data: 13개의 변수\n",
    "test_y: target: 집값"
   ]
  },
  {
   "cell_type": "code",
   "execution_count": 181,
   "id": "5fc03cc1-37a8-41f4-80c0-3510cefa3c19",
   "metadata": {
    "tags": []
   },
   "outputs": [
    {
     "name": "stdout",
     "output_type": "stream",
     "text": [
      "4/4 [==============================] - 0s 811us/step\n"
     ]
    },
    {
     "data": {
      "text/plain": [
       "array([9.963131], dtype=float32)"
      ]
     },
     "execution_count": 181,
     "metadata": {},
     "output_type": "execute_result"
    }
   ],
   "source": [
    "model.predict(test_data)[0]"
   ]
  },
  {
   "cell_type": "code",
   "execution_count": null,
   "id": "86928417-3dd4-410a-a3ce-e4cf4b06dae1",
   "metadata": {},
   "outputs": [],
   "source": [
    "--------------------------------------------------"
   ]
  },
  {
   "cell_type": "markdown",
   "id": "061f2ad8-4a5d-4b5c-85a7-b9e9def8bf80",
   "metadata": {},
   "source": [
    "# 5. 머신러닝의 기본요소"
   ]
  },
  {
   "cell_type": "code",
   "execution_count": 204,
   "id": "181257c3-ef2a-4513-8450-f7d11c6d2c8f",
   "metadata": {},
   "outputs": [],
   "source": [
    "# 5-1 mnist에 백색 잡음 픽셀과 0픽셀 추가하기\n",
    "from tensorflow.keras.datasets import mnist\n",
    "import numpy as np\n",
    "\n",
    "(train_images, train_labels), _ =mnist.load_data()\n",
    "train_images = train_images.reshape((60000,28*28))\n",
    "train_images = train_images.astype(\"float32\")/255\n",
    "train_images_with_noise_channels = np.concatenate(\n",
    "    [train_images, np.zeros((len(train_images), 784))], axis=1)"
   ]
  },
  {
   "cell_type": "code",
   "execution_count": 208,
   "id": "b7b6dd6b-a6cc-4c09-b10c-ed66f1f75039",
   "metadata": {},
   "outputs": [
    {
     "name": "stdout",
     "output_type": "stream",
     "text": [
      "Epoch 1/10\n",
      "375/375 [==============================] - 4s 8ms/step - loss: 0.2892 - accuracy: 0.9160 - val_loss: 0.1479 - val_accuracy: 0.9571\n",
      "Epoch 2/10\n",
      "375/375 [==============================] - 3s 8ms/step - loss: 0.1172 - accuracy: 0.9655 - val_loss: 0.1036 - val_accuracy: 0.9679\n",
      "Epoch 3/10\n",
      "375/375 [==============================] - 3s 8ms/step - loss: 0.0759 - accuracy: 0.9774 - val_loss: 0.0852 - val_accuracy: 0.9749\n",
      "Epoch 4/10\n",
      "375/375 [==============================] - 3s 8ms/step - loss: 0.0551 - accuracy: 0.9845 - val_loss: 0.0946 - val_accuracy: 0.9733\n",
      "Epoch 5/10\n",
      "375/375 [==============================] - 3s 8ms/step - loss: 0.0407 - accuracy: 0.9878 - val_loss: 0.0823 - val_accuracy: 0.9760\n",
      "Epoch 6/10\n",
      "375/375 [==============================] - 3s 7ms/step - loss: 0.0312 - accuracy: 0.9906 - val_loss: 0.0783 - val_accuracy: 0.9789\n",
      "Epoch 7/10\n",
      "375/375 [==============================] - 3s 7ms/step - loss: 0.0235 - accuracy: 0.9934 - val_loss: 0.0825 - val_accuracy: 0.9797\n",
      "Epoch 8/10\n",
      "375/375 [==============================] - 3s 8ms/step - loss: 0.0177 - accuracy: 0.9952 - val_loss: 0.0872 - val_accuracy: 0.9771\n",
      "Epoch 9/10\n",
      "375/375 [==============================] - 3s 8ms/step - loss: 0.0137 - accuracy: 0.9960 - val_loss: 0.0846 - val_accuracy: 0.9800\n",
      "Epoch 10/10\n",
      "375/375 [==============================] - 3s 8ms/step - loss: 0.0107 - accuracy: 0.9970 - val_loss: 0.0896 - val_accuracy: 0.9782\n"
     ]
    },
    {
     "ename": "NameError",
     "evalue": "name 'train_images_with_zeros_channels' is not defined",
     "output_type": "error",
     "traceback": [
      "\u001b[1;31m---------------------------------------------------------------------------\u001b[0m",
      "\u001b[1;31mNameError\u001b[0m                                 Traceback (most recent call last)",
      "Input \u001b[1;32mIn [208]\u001b[0m, in \u001b[0;36m<cell line: 23>\u001b[1;34m()\u001b[0m\n\u001b[0;32m     16\u001b[0m history_noise \u001b[38;5;241m=\u001b[39m model\u001b[38;5;241m.\u001b[39mfit(\n\u001b[0;32m     17\u001b[0m     train_images_with_noise_channels, train_labels,\n\u001b[0;32m     18\u001b[0m     epochs\u001b[38;5;241m=\u001b[39m\u001b[38;5;241m10\u001b[39m,\n\u001b[0;32m     19\u001b[0m     batch_size\u001b[38;5;241m=\u001b[39m\u001b[38;5;241m128\u001b[39m,\n\u001b[0;32m     20\u001b[0m     validation_split\u001b[38;5;241m=\u001b[39m\u001b[38;5;241m0.2\u001b[39m)\n\u001b[0;32m     22\u001b[0m model\u001b[38;5;241m=\u001b[39mget_model()\n\u001b[0;32m     23\u001b[0m history_zeros \u001b[38;5;241m=\u001b[39m model\u001b[38;5;241m.\u001b[39mfit(\n\u001b[1;32m---> 24\u001b[0m     \u001b[43mtrain_images_with_zeros_channels\u001b[49m, train_labels,\n\u001b[0;32m     25\u001b[0m     epochs\u001b[38;5;241m=\u001b[39m\u001b[38;5;241m10\u001b[39m,\n\u001b[0;32m     26\u001b[0m     batch_size\u001b[38;5;241m=\u001b[39m\u001b[38;5;241m128\u001b[39m,\n\u001b[0;32m     27\u001b[0m     validation_split\u001b[38;5;241m=\u001b[39m\u001b[38;5;241m0.2\u001b[39m)\n",
      "\u001b[1;31mNameError\u001b[0m: name 'train_images_with_zeros_channels' is not defined"
     ]
    }
   ],
   "source": [
    "# 5-2 백색 잡음과 0을추가한 mnist데이터에서 모델 훈련하기\n",
    "from tensorflow import keras\n",
    "from tensorflow.keras import layers\n",
    "\n",
    "def get_model():\n",
    "    model=keras.Sequential([\n",
    "        layers.Dense(512, activation=\"relu\"),\n",
    "        layers.Dense(10, activation=\"softmax\")\n",
    "    ])\n",
    "    model.compile(optimizer=\"rmsprop\",\n",
    "                 loss=\"sparse_categorical_crossentropy\",\n",
    "                 metrics=[\"accuracy\"])\n",
    "    return model\n",
    "\n",
    "model=get_model()\n",
    "history_noise = model.fit(\n",
    "    train_images_with_noise_channels, train_labels,\n",
    "    epochs=10,\n",
    "    batch_size=128,\n",
    "    validation_split=0.2)\n",
    "\n",
    "model=get_model()\n",
    "history_zeros = model.fit(\n",
    "    train_images_with_zeros_channels, train_labels,\n",
    "    epochs=10,\n",
    "    batch_size=128,\n",
    "    validation_split=0.2)\n"
   ]
  },
  {
   "cell_type": "code",
   "execution_count": null,
   "id": "98e6034f-6630-42b8-a458-36a9a5e5bad4",
   "metadata": {},
   "outputs": [],
   "source": [
    "# 5-3 검증 정확도 비교 그래프 그리기\n",
    "import matplotlib.pyplot as plt\n",
    "\n",
    "val_acc_noise = history_noise.history[\"val_accuracy\"]\n",
    "val_acc_zeros = history_zeros.history[\"val_accuracy\"]\n",
    "epochs= range(1,11)\n",
    "plt.plot(epochs, val_acc_noise, \"b-\",\n",
    "        label=\"Validation accuracy with noise channels\")\n",
    "plt.plot(epochs, val_acc_zeros, \"b--\",\n",
    "        label=\"Validation accuracy with zeros channels\")\n",
    "plt.title(\"Effect of noise channels on validation accuracy\")\n",
    "plt.xlabel(\"Epochs\")\n",
    "plt.ylabel(\"Accuracy\")\n",
    "plt.legend()\n",
    "plt.show()"
   ]
  },
  {
   "cell_type": "code",
   "execution_count": null,
   "id": "be8a7c1e-698c-494c-a9eb-57c657b11515",
   "metadata": {},
   "outputs": [],
   "source": []
  }
 ],
 "metadata": {
  "kernelspec": {
   "display_name": "Python 3 (ipykernel)",
   "language": "python",
   "name": "python3"
  },
  "language_info": {
   "codemirror_mode": {
    "name": "ipython",
    "version": 3
   },
   "file_extension": ".py",
   "mimetype": "text/x-python",
   "name": "python",
   "nbconvert_exporter": "python",
   "pygments_lexer": "ipython3",
   "version": "3.9.12"
  }
 },
 "nbformat": 4,
 "nbformat_minor": 5
}
