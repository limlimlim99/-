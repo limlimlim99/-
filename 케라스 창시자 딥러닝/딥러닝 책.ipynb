{
 "cells": [
  {
   "cell_type": "code",
   "execution_count": 1,
   "id": "d9ce465f-b2f5-4dca-af01-88fb189d1b9b",
   "metadata": {},
   "outputs": [],
   "source": [
    "import numpy as np\n",
    "import pandas as pd\n",
    "import matplotlib.pyplot as plt\n",
    "\n",
    "from keras import Sequential\n",
    "from keras import optimizers\n",
    "from keras.layers import Input, Dense\n",
    "\n",
    "from tensorflow import keras\n",
    "import keras"
   ]
  },
  {
   "cell_type": "code",
   "execution_count": 2,
   "id": "3a12e847-2fe0-4844-bbdb-6b802117d0db",
   "metadata": {},
   "outputs": [],
   "source": [
    "# 케라스에서 mnist 데이터셋 적재하기\n",
    "from tensorflow. keras.datasets import mnist\n",
    "(train_images, train_labels), (test_images, test_labels)= mnist.load_data()"
   ]
  },
  {
   "cell_type": "code",
   "execution_count": 3,
   "id": "a7e829aa-1ace-4d45-8d4f-e8b25ce62817",
   "metadata": {},
   "outputs": [
    {
     "data": {
      "text/plain": [
       "(60000, 28, 28)"
      ]
     },
     "execution_count": 3,
     "metadata": {},
     "output_type": "execute_result"
    }
   ],
   "source": [
    "# 훈련데이터 살펴보기\n",
    "train_images.shape"
   ]
  },
  {
   "cell_type": "code",
   "execution_count": 4,
   "id": "38c00f6f-40e9-4512-a139-599f7649f357",
   "metadata": {},
   "outputs": [
    {
     "data": {
      "text/plain": [
       "60000"
      ]
     },
     "execution_count": 4,
     "metadata": {},
     "output_type": "execute_result"
    }
   ],
   "source": [
    "len(train_labels)"
   ]
  },
  {
   "cell_type": "code",
   "execution_count": 5,
   "id": "df3dda59-e1ce-4044-9a1e-2151610895fb",
   "metadata": {},
   "outputs": [
    {
     "data": {
      "text/plain": [
       "array([5, 0, 4, ..., 5, 6, 8], dtype=uint8)"
      ]
     },
     "execution_count": 5,
     "metadata": {},
     "output_type": "execute_result"
    }
   ],
   "source": [
    "train_labels"
   ]
  },
  {
   "cell_type": "code",
   "execution_count": 6,
   "id": "a4c7c9b0-f98c-498a-b02f-ab464a70d485",
   "metadata": {},
   "outputs": [
    {
     "data": {
      "text/plain": [
       "(10000, 28, 28)"
      ]
     },
     "execution_count": 6,
     "metadata": {},
     "output_type": "execute_result"
    }
   ],
   "source": [
    "test_images.shape"
   ]
  },
  {
   "cell_type": "code",
   "execution_count": 7,
   "id": "3aae62d1-734e-42c5-80b1-b48257cc9ffb",
   "metadata": {},
   "outputs": [
    {
     "data": {
      "text/plain": [
       "array([7, 2, 1, ..., 4, 5, 6], dtype=uint8)"
      ]
     },
     "execution_count": 7,
     "metadata": {},
     "output_type": "execute_result"
    }
   ],
   "source": [
    "test_labels"
   ]
  },
  {
   "cell_type": "code",
   "execution_count": 8,
   "id": "4578fcf1-b8f1-446a-8a5e-b3028e2b46ef",
   "metadata": {},
   "outputs": [],
   "source": [
    "# 신경망 구조 2-2\n",
    "from tensorflow import keras\n",
    "from tensorflow.keras import layers\n",
    "\n",
    "model=keras.Sequential([\n",
    "    layers.Dense(512, activation= \"relu\"),\n",
    "    layers.Dense(10, activation= \"softmax\")\n",
    "])"
   ]
  },
  {
   "cell_type": "code",
   "execution_count": 9,
   "id": "1cb4b894-9d7b-404f-a11c-96c445abacc2",
   "metadata": {},
   "outputs": [],
   "source": [
    "# 컴파일 단계\n",
    "model.compile(optimizer = \"rmsprop\",\n",
    "             loss =\"sparse_categorical_crossentropy\",\n",
    "             metrics = [\"accuracy\"])"
   ]
  },
  {
   "cell_type": "code",
   "execution_count": 10,
   "id": "012fd209-9433-404c-b58e-f4b77e939f77",
   "metadata": {},
   "outputs": [],
   "source": [
    "# 훈련을 시작하기 전에 데이트를 모델에 맞는 크기로 바꾸고 모든 값을 0과 1사이로 스케일을 조정\n",
    "# 이미지 데이터 준비하기\n",
    "train_images = train_images.reshape(60000, 28 * 28)\n",
    "train_images = train_images.astype(\"float32\") / 255"
   ]
  },
  {
   "cell_type": "code",
   "execution_count": 11,
   "id": "b1531e72-e3ed-4685-b245-a0365515f253",
   "metadata": {},
   "outputs": [],
   "source": [
    "test_images = test_images.reshape(10000, 28 * 28)\n",
    "test_images = test_images.astype(\"float32\") / 255"
   ]
  },
  {
   "cell_type": "code",
   "execution_count": 12,
   "id": "67ae104d-332f-4ceb-ba4e-9c13380998b1",
   "metadata": {},
   "outputs": [
    {
     "name": "stdout",
     "output_type": "stream",
     "text": [
      "Epoch 1/5\n",
      "469/469 [==============================] - 3s 4ms/step - loss: 0.2532 - accuracy: 0.9259\n",
      "Epoch 2/5\n",
      "469/469 [==============================] - 2s 4ms/step - loss: 0.1045 - accuracy: 0.9694\n",
      "Epoch 3/5\n",
      "469/469 [==============================] - 2s 4ms/step - loss: 0.0690 - accuracy: 0.9797\n",
      "Epoch 4/5\n",
      "469/469 [==============================] - 2s 4ms/step - loss: 0.0496 - accuracy: 0.9852\n",
      "Epoch 5/5\n",
      "469/469 [==============================] - 2s 4ms/step - loss: 0.0380 - accuracy: 0.9887\n"
     ]
    },
    {
     "data": {
      "text/plain": [
       "<keras.callbacks.History at 0x2388f05e760>"
      ]
     },
     "execution_count": 12,
     "metadata": {},
     "output_type": "execute_result"
    }
   ],
   "source": [
    "# fit()메서드를 호출하여 훈련 데이터에 모델을 학습\n",
    "model.fit(train_images, train_labels, epochs=5, batch_size=128)"
   ]
  },
  {
   "cell_type": "code",
   "execution_count": 13,
   "id": "edbd7c3b-4320-4025-ae13-3b965afa0fbe",
   "metadata": {
    "tags": []
   },
   "outputs": [
    {
     "name": "stdout",
     "output_type": "stream",
     "text": [
      "1/1 [==============================] - 0s 68ms/step\n"
     ]
    },
    {
     "data": {
      "text/plain": [
       "array([8.7486995e-09, 1.3319362e-10, 7.8102715e-07, 3.4398596e-05,\n",
       "       3.6592111e-11, 7.4310911e-08, 5.5942528e-14, 9.9996424e-01,\n",
       "       7.9660893e-08, 2.1863011e-07], dtype=float32)"
      ]
     },
     "execution_count": 13,
     "metadata": {},
     "output_type": "execute_result"
    }
   ],
   "source": [
    "# 모델을 사용하여 예측 만들기\n",
    "test_digits = test_images[0:10]\n",
    "predictions = model.predict(test_digits)\n",
    "predictions[0]"
   ]
  },
  {
   "cell_type": "code",
   "execution_count": 14,
   "id": "cc109cd2-cb7d-4cf2-b9f1-60a100534390",
   "metadata": {},
   "outputs": [
    {
     "data": {
      "text/plain": [
       "7"
      ]
     },
     "execution_count": 14,
     "metadata": {},
     "output_type": "execute_result"
    }
   ],
   "source": [
    "predictions[0].argmax()"
   ]
  },
  {
   "cell_type": "code",
   "execution_count": 15,
   "id": "e2350fde-1d51-4b5b-9103-3510ddcc2708",
   "metadata": {},
   "outputs": [
    {
     "data": {
      "text/plain": [
       "0.99996424"
      ]
     },
     "execution_count": 15,
     "metadata": {},
     "output_type": "execute_result"
    }
   ],
   "source": [
    "predictions[0][7]"
   ]
  },
  {
   "cell_type": "code",
   "execution_count": 16,
   "id": "bae858cc-b0cb-45db-8ddc-c56a42f5e86f",
   "metadata": {},
   "outputs": [
    {
     "name": "stdout",
     "output_type": "stream",
     "text": [
      "313/313 [==============================] - 0s 1ms/step - loss: 0.0711 - accuracy: 0.9792\n",
      "테스트 정확도: 0.979200005531311\n"
     ]
    }
   ],
   "source": [
    "# 새로운 데이터에서 모델 평가하기\n",
    "test_loss, test_acc = model.evaluate(test_images, test_labels)\n",
    "print(f\"테스트 정확도: {test_acc}\")"
   ]
  },
  {
   "cell_type": "markdown",
   "id": "8c94952e-4e06-4125-aba0-9a4d9a72f0aa",
   "metadata": {},
   "source": [
    "## 신경망을 위한 데이터 표현"
   ]
  },
  {
   "cell_type": "markdown",
   "id": "78ff3f9f-7a21-46c6-8504-204db19aee06",
   "metadata": {},
   "source": [
    "텐서(tensor): 다차원 넘파이 배열에 데이터를 저장하는 것-이전\n",
    "- 데이터를 위한 컨테이너(데이터를 담아둠)\n",
    "- 수치형 데이터를 많이 다룸(숫자)\n",
    "- 텐서는 임의의 차원 개수를 가지는 행렬의 일반호된 모습\n",
    "- 텐서에서는 차원(dimension)을 축(axis)라고 부름\n",
    "\n",
    "- rank = 차원 = 축\n",
    "\n",
    "--텐서: 다차원 배열/\n",
    "--배열: np.array\n",
    "- 1차원 배열: 벡터\n",
    "- 2차원 배열: 행렬\n",
    "- 3차원 배열: 텐서\n",
    "-- 일반적으로 tensor는 np.array를 통해 다룬다"
   ]
  },
  {
   "cell_type": "markdown",
   "id": "30c01ee1-735f-49a6-8b06-125c367aa98c",
   "metadata": {},
   "source": [
    "### 2.2.1 스칼라(랭크-0 텐서)\n",
    "- 스칼라: 하나의 숫자만 담고 있는 텐서(스칼라텐서, 랭크-0텐서, 0D텐서)\n",
    "- 넘파이에서 float32나 float64 타입의 숫자는 스칼라 텐서(배열 텐서)라고 함\n",
    "- ndim 속성을 사용하면 넘파이 배열의 축 개수를 알 수 있음\n",
    "- 스칼라 텐서의 축 개수는 0개\n",
    "- 텐서의 축 개수를 랭크라고 부름"
   ]
  },
  {
   "cell_type": "code",
   "execution_count": 22,
   "id": "0c8c5e28-b991-4378-89e0-fe63e5415b7f",
   "metadata": {},
   "outputs": [
    {
     "name": "stdout",
     "output_type": "stream",
     "text": [
      "12\n",
      "0\n"
     ]
    }
   ],
   "source": [
    "import numpy as np\n",
    "x= np.array(12)\n",
    "print(x)\n",
    "print(x.ndim)"
   ]
  },
  {
   "cell_type": "markdown",
   "id": "7eda8c23-b851-4b30-a3e2-784077d0ea4a",
   "metadata": {},
   "source": [
    "## 2.2.2벡터(랭크-1텐서)\n",
    "- 숫자의 배열을 벡터(vector), 랭크-1텐서, 1D텐서, 1차원 텐서\n",
    "- 랭크-1텐서는 딱 하나의 축을 가짐"
   ]
  },
  {
   "cell_type": "code",
   "execution_count": 41,
   "id": "f10be49a-89e4-4a46-b747-fcdb337f1eec",
   "metadata": {},
   "outputs": [
    {
     "name": "stdout",
     "output_type": "stream",
     "text": [
      "[12  3  6 14  7]\n",
      "1\n"
     ]
    }
   ],
   "source": [
    "x = np.array([12,3,6,14,7])\n",
    "print(x)\n",
    "print(x.ndim)"
   ]
  },
  {
   "cell_type": "code",
   "execution_count": 42,
   "id": "8b771e6b-9bf1-491a-a1b0-f10754ca6319",
   "metadata": {},
   "outputs": [],
   "source": [
    "# 벡터는 5개의 원소를 가지고 있으므로 5차원 벡터라고 부름\n",
    "# 주의 \n",
    "# 5D 벡터: 하나의 축을 따라 5개의 차원을 가진 것\n",
    "# 5D텐서: 5개의 축을 가진 것"
   ]
  },
  {
   "cell_type": "markdown",
   "id": "c65d85ad-f7f0-401f-9349-e54fd55f5ece",
   "metadata": {},
   "source": [
    "## 2.2.3 행렬(랭크-2텐서)\n",
    "- 벡터의 배열은 행렬, 랭크-2텐서, 2D텐서, 2차원 텐서\n",
    "- 행렬에는 2개의 축이 있다. 행(row), 열(column)\n",
    "- 행렬은 숫자가 채워진 사각 격자\n",
    "- 첫번째 축: 행 [5, 78, 2, 34, 0]\n",
    "- 두번째 축: 열 [5,6,7]"
   ]
  },
  {
   "cell_type": "code",
   "execution_count": 61,
   "id": "fa07ce40-d56c-46cf-92f7-dcca91aee007",
   "metadata": {},
   "outputs": [],
   "source": [
    "x = np.array([[5, 78, 2, 34, 0],\n",
    "               [6, 79, 3, 35, 1],\n",
    "               [7, 80, 4, 36, 2]])"
   ]
  },
  {
   "cell_type": "code",
   "execution_count": 62,
   "id": "5958bf2d-9c5c-402f-967f-2fac15fb77e3",
   "metadata": {},
   "outputs": [
    {
     "data": {
      "text/plain": [
       "2"
      ]
     },
     "execution_count": 62,
     "metadata": {},
     "output_type": "execute_result"
    }
   ],
   "source": [
    "x.ndim"
   ]
  },
  {
   "cell_type": "markdown",
   "id": "c3dbbdcc-a919-4957-89d4-a90c62ea2d67",
   "metadata": {},
   "source": [
    "## 2.2.4 랭크-3 텐서와 더 높은 랭크의 텐서\n",
    "- 이런 행렬을 하나의 새로운 배열로 합치면 숫자가 채워진 직육면체 형태로 해석 가능\n",
    "- 랭크-3텐서, 3D텐서, 3차원 텐서"
   ]
  },
  {
   "cell_type": "code",
   "execution_count": 59,
   "id": "1ba35a2d-e878-44cc-8481-98c4c4e4c778",
   "metadata": {},
   "outputs": [],
   "source": [
    "x = np.array([[[5, 78, 2, 34, 0],\n",
    "             [6, 79, 3, 35, 1],\n",
    "             [7, 80, 4, 36, 2]],\n",
    "              \n",
    "             [[5, 78, 2, 34, 0],\n",
    "             [6, 79, 3, 35, 1],\n",
    "             [7, 80, 4, 36, 2]],\n",
    "              \n",
    "             [[5, 78, 2, 34, 0],\n",
    "             [6, 79, 3, 35, 1],\n",
    "             [7, 80, 4, 36, 2]]])"
   ]
  },
  {
   "cell_type": "code",
   "execution_count": 60,
   "id": "b73f69d0-c9ea-4c3b-bfdb-a90e5c06c425",
   "metadata": {},
   "outputs": [
    {
     "data": {
      "text/plain": [
       "3"
      ]
     },
     "execution_count": 60,
     "metadata": {},
     "output_type": "execute_result"
    }
   ],
   "source": [
    "x.ndim"
   ]
  },
  {
   "cell_type": "markdown",
   "id": "42f6ad16-d35e-4d01-ab0f-982d31589445",
   "metadata": {},
   "source": [
    "## 2.2.5 핵심속성\n",
    "- 축의 개수(랭크): ndim속성에 저장됨\n",
    "- 크기(shape) : 텐서의 각 축을 따라 얼마나 많은 차원이 있는지를 나타낸 튜플\n",
    "- 데이터 타입(dtype): float16, float32, float64,unit8, 텐서플로: string도 사용함"
   ]
  },
  {
   "cell_type": "code",
   "execution_count": 64,
   "id": "90717ac7-4a35-400f-9d6d-a87a1a7961c0",
   "metadata": {},
   "outputs": [],
   "source": [
    "# MNIST예제\n",
    "from tensorflow.keras.datasets import mnist\n",
    "(train_images, train_labels), (test_images, test_images) = mnist.load_data()"
   ]
  },
  {
   "cell_type": "code",
   "execution_count": 65,
   "id": "8db69e61-b059-43b0-a687-f332965680b0",
   "metadata": {},
   "outputs": [
    {
     "data": {
      "text/plain": [
       "3"
      ]
     },
     "execution_count": 65,
     "metadata": {},
     "output_type": "execute_result"
    }
   ],
   "source": [
    "# ndim속성으로 축의 개수 확인\n",
    "train_images.ndim"
   ]
  },
  {
   "cell_type": "code",
   "execution_count": 66,
   "id": "bbc8a6df-ab21-4311-b8dd-d4d8a8006683",
   "metadata": {},
   "outputs": [
    {
     "data": {
      "text/plain": [
       "(60000, 28, 28)"
      ]
     },
     "execution_count": 66,
     "metadata": {},
     "output_type": "execute_result"
    }
   ],
   "source": [
    "# 배열의 크기\n",
    "train_images.shape"
   ]
  },
  {
   "cell_type": "code",
   "execution_count": 67,
   "id": "6d383a2c-d0a8-46d9-8b7c-3fb5c29c5455",
   "metadata": {},
   "outputs": [
    {
     "data": {
      "text/plain": [
       "dtype('uint8')"
      ]
     },
     "execution_count": 67,
     "metadata": {},
     "output_type": "execute_result"
    }
   ],
   "source": [
    "# dtype으로 데이터타입 확인\n",
    "train_images.dtype"
   ]
  },
  {
   "cell_type": "code",
   "execution_count": 68,
   "id": "a72e4cfa-09a3-4b2f-86f9-f6a47acca47a",
   "metadata": {},
   "outputs": [],
   "source": [
    "# => 배열은 8비트 정수형, 랭크-텐서, 28*28크기의 정수행렬이 6만개가 있는 배열임\n",
    "# 각 행렬은 하나의 흑백 이미지, 행렬의 각 원소는 0~255사이의 값을 가짐"
   ]
  },
  {
   "cell_type": "code",
   "execution_count": 69,
   "id": "89f1ff5e-3ade-4a09-a0f6-a3639a11dd93",
   "metadata": {},
   "outputs": [
    {
     "data": {
      "image/png": "[encoded data removed]",
      "text/plain": [
       "<Figure size 432x288 with 1 Axes>"
      ]
     },
     "metadata": {
      "needs_background": "light"
     },
     "output_type": "display_data"
    }
   ],
   "source": [
    "# 다섯번째 이미지 출력하기 2-8\n",
    "import matplotlib.pyplot as plt\n",
    "\n",
    "digit = train_images[4]\n",
    "plt.imshow(digit, cmap = plt.cm.binary)\n",
    "plt.show()"
   ]
  },
  {
   "cell_type": "code",
   "execution_count": 71,
   "id": "6df2b976-4a3d-4568-8ad0-0a2fb5699795",
   "metadata": {},
   "outputs": [
    {
     "data": {
      "text/plain": [
       "9"
      ]
     },
     "execution_count": 71,
     "metadata": {},
     "output_type": "execute_result"
    }
   ],
   "source": [
    "train_labels[4]\n",
    "# 레이블 정수는 9"
   ]
  },
  {
   "cell_type": "markdown",
   "id": "32720e8b-f9f6-42e2-9217-6f6f6f7c308f",
   "metadata": {},
   "source": [
    "## 2.2.6 넘파이로 텐서 조작하기\n",
    "- 슬라이싱: 배열에 있는 특정 원소들을 선택"
   ]
  },
  {
   "cell_type": "code",
   "execution_count": 72,
   "id": "59580bf0-404a-4953-ab70-097fb13bfe36",
   "metadata": {},
   "outputs": [
    {
     "data": {
      "text/plain": [
       "(90, 28, 28)"
      ]
     },
     "execution_count": 72,
     "metadata": {},
     "output_type": "execute_result"
    }
   ],
   "source": [
    "# 11번째에서 101번쨰까지(101번쨰는 포함X) 숫자를 선택하여(90,28,28)크기의 배열을 만든다\n",
    "my_slice = train_images[10:100]\n",
    "my_slice.shape"
   ]
  },
  {
   "cell_type": "code",
   "execution_count": 74,
   "id": "bbdd4478-3837-4b6f-bf02-d7625529b0c5",
   "metadata": {},
   "outputs": [
    {
     "name": "stdout",
     "output_type": "stream",
     "text": [
      "(90, 28, 28)\n",
      "(90, 28, 28)\n"
     ]
    }
   ],
   "source": [
    "# 배열의 축읗 따라 슬라이싱의 시작 인덱스와 마지막 인덱스를 지정\n",
    "my_slice = train_images[10:100, :, :]\n",
    "print(my_slice.shape)\n",
    "my_slice= train_images[10:100,0:28,0:28]\n",
    "print(my_slice.shape)"
   ]
  },
  {
   "cell_type": "code",
   "execution_count": 76,
   "id": "15577cb7-0a64-4bd0-9f9f-6bb90483c854",
   "metadata": {
    "collapsed": true,
    "jupyter": {
     "outputs_hidden": true
    },
    "tags": []
   },
   "outputs": [
    {
     "data": {
      "text/plain": [
       "array([[[240, 253, 253, ...,   0,   0,   0],\n",
       "        [ 45, 186, 253, ...,   0,   0,   0],\n",
       "        [  0,  16,  93, ...,   0,   0,   0],\n",
       "        ...,\n",
       "        [  0,   0,   0, ...,   0,   0,   0],\n",
       "        [  0,   0,   0, ...,   0,   0,   0],\n",
       "        [  0,   0,   0, ...,   0,   0,   0]],\n",
       "\n",
       "       [[  0,   0,   0, ...,   0,   0,   0],\n",
       "        [  0,   0,   0, ...,   0,   0,   0],\n",
       "        [  0,   0,   0, ...,   0,   0,   0],\n",
       "        ...,\n",
       "        [  0,   0,   0, ...,   0,   0,   0],\n",
       "        [  0,   0,   0, ...,   0,   0,   0],\n",
       "        [  0,   0,   0, ...,   0,   0,   0]],\n",
       "\n",
       "       [[241, 243, 234, ...,   0,   0,   0],\n",
       "        [143,  91,  28, ...,   0,   0,   0],\n",
       "        [  0,   0,   0, ...,   0,   0,   0],\n",
       "        ...,\n",
       "        [  0,   0,   0, ...,   0,   0,   0],\n",
       "        [  0,   0,   0, ...,   0,   0,   0],\n",
       "        [  0,   0,   0, ...,   0,   0,   0]],\n",
       "\n",
       "       ...,\n",
       "\n",
       "       [[253, 254, 253, ...,   0,   0,   0],\n",
       "        [ 72, 192, 254, ...,   0,   0,   0],\n",
       "        [  0,   6, 242, ...,   0,   0,   0],\n",
       "        ...,\n",
       "        [  0,   0,   0, ...,   0,   0,   0],\n",
       "        [  0,   0,   0, ...,   0,   0,   0],\n",
       "        [  0,   0,   0, ...,   0,   0,   0]],\n",
       "\n",
       "       [[  0,  31, 127, ...,   0,   0,   0],\n",
       "        [ 27, 218, 252, ...,   0,   0,   0],\n",
       "        [194, 253, 217, ...,   0,   0,   0],\n",
       "        ...,\n",
       "        [  0,   0,   0, ...,   0,   0,   0],\n",
       "        [  0,   0,   0, ...,   0,   0,   0],\n",
       "        [  0,   0,   0, ...,   0,   0,   0]],\n",
       "\n",
       "       [[ 97, 254, 252, ...,   0,   0,   0],\n",
       "        [232, 181,  60, ...,   0,   0,   0],\n",
       "        [ 46,   0,   0, ...,   0,   0,   0],\n",
       "        ...,\n",
       "        [  0,   0,   0, ...,   0,   0,   0],\n",
       "        [  0,   0,   0, ...,   0,   0,   0],\n",
       "        [  0,   0,   0, ...,   0,   0,   0]]], dtype=uint8)"
      ]
     },
     "execution_count": 76,
     "metadata": {},
     "output_type": "execute_result"
    }
   ],
   "source": [
    "my_slice= train_images[:, 14:, 14:]\n",
    "my_slice"
   ]
  },
  {
   "cell_type": "code",
   "execution_count": 78,
   "id": "3b6c8c41-4bd8-4faf-8873-f18cf6cdb32a",
   "metadata": {
    "collapsed": true,
    "jupyter": {
     "outputs_hidden": true
    },
    "tags": []
   },
   "outputs": [
    {
     "data": {
      "text/plain": [
       "array([[[ 49, 238, 253, ...,  93,  82,  82],\n",
       "        [ 18, 219, 253, ...,   0,   0,   0],\n",
       "        [  0,  80, 156, ...,   0,   0,   0],\n",
       "        ...,\n",
       "        [  0,   0,   0, ..., 253, 207,   2],\n",
       "        [  0,   0,   0, ..., 250, 182,   0],\n",
       "        [  0,   0,   0, ...,  78,   0,   0]],\n",
       "\n",
       "       [[  0,   0,   0, ...,  84, 252, 253],\n",
       "        [  0,   0,   0, ...,  96, 189, 253],\n",
       "        [  0,   0,   0, ...,  47,  79, 255],\n",
       "        ...,\n",
       "        [252, 145,   0, ..., 252, 173,   0],\n",
       "        [253, 225,   0, ..., 162,   0,   0],\n",
       "        [252, 249, 146, ...,  56,   0,   0]],\n",
       "\n",
       "       [[  0,   0,   0, ...,   0,   2, 153],\n",
       "        [  0,   0,   0, ...,   0,  27, 254],\n",
       "        [  0,   0,   0, ...,   0, 183, 254],\n",
       "        ...,\n",
       "        [  0,   0,   0, ..., 254,  57,   0],\n",
       "        [  0,   0,   0, ..., 254,  57,   0],\n",
       "        [  0,   0,   0, ..., 255,  94,   0]],\n",
       "\n",
       "       ...,\n",
       "\n",
       "       [[  0,   0,   0, ..., 223, 159, 131],\n",
       "        [  0,   0,   0, ...,  27,   0,   0],\n",
       "        [  0,   0,  54, ...,   0,   0,   0],\n",
       "        ...,\n",
       "        [  0,   0,   0, ..., 173,   0,   0],\n",
       "        [  0,   0,   0, ..., 173,   0,   0],\n",
       "        [  0,   0,   0, ...,  74,   0,   0]],\n",
       "\n",
       "       [[  0,   0,   0, ...,   0,   0,   0],\n",
       "        [  0,   0,   0, ...,   0,   0,   0],\n",
       "        [  0,   0,   0, ...,   0,   0,   0],\n",
       "        ...,\n",
       "        [247, 110,   0, ..., 146, 163,  63],\n",
       "        [236, 128,   0, ..., 178,  12,   0],\n",
       "        [239, 196, 169, ...,   0,   0,   0]],\n",
       "\n",
       "       [[  0,   0,   0, ..., 254, 212,  27],\n",
       "        [  0,   0,   0, ..., 218, 237, 248],\n",
       "        [  0,   0,   0, ...,   0,  92, 231],\n",
       "        ...,\n",
       "        [  0, 110, 254, ...,   0,   0,   0],\n",
       "        [131, 254, 154, ...,   0,   0,   0],\n",
       "        [209, 153,  19, ...,   0,   0,   0]]], dtype=uint8)"
      ]
     },
     "execution_count": 78,
     "metadata": {},
     "output_type": "execute_result"
    }
   ],
   "source": [
    "my_slice = train_images[:, 7:-7, 7:-7]\n",
    "my_slice"
   ]
  },
  {
   "cell_type": "markdown",
   "id": "0ed777cf-8243-4af9-b43a-00322b0c222c",
   "metadata": {},
   "source": [
    "## 2.2.7 배치 데이터\n",
    "- 일반적으로 딥러닝에서 사용하는 모든 데이터 텐서의 첫번째 축(인덱스가 0부터 시작하므로 0번째 축)은 샘플축(sample axis), 샘플차원(sample dimension)\n",
    "- 딥러닝 모델은 한번에 전체 데이터셋을 처리하지 않음\n",
    "- 대신 데이터를 작은 배치(batch)로 나눔\n",
    "- 첫번째 축(0번축)을 배치축 또는 배치차원"
   ]
  },
  {
   "cell_type": "code",
   "execution_count": 84,
   "id": "5a58ffb9-ad78-46dd-9a70-73b108c66c16",
   "metadata": {},
   "outputs": [],
   "source": [
    "batch = train_images[:128]\n",
    "batch= train_images[128:256]\n",
    "n=3\n",
    "batch = train_images[128 * n:128 *(n+1)]"
   ]
  },
  {
   "cell_type": "markdown",
   "id": "cf83a334-1b7c-41a9-9863-cfa12d3c9694",
   "metadata": {},
   "source": [
    "## 2.2.8 텐서의 실제 사례\n",
    "- 벡터 데이터(sample, features): 크기의 랭크-2텐서, 각 샘플은 수치 속성(특징(feature))으로 구성된 벡터\n",
    "- 시계열 데이터 또는 시퀀스(sequence)데이터: (samples, timesteps, features)크기의 랭크-3텐서. 각 샘플은 특성 벡터의 (길이가 timesteps인)시퀀스\n",
    "- 이미지: (sample, height, width, channel) 또는 (sample, channel, height, width) 크기의 랭크-4텐서. 각 샘플은 픽셀의 2D격자고, 각 픽셀은 수치값(채널(chanel))의 벡터\n",
    "- 동영상: (sample, frame, height, width, channel) 또는 (sample, frame, channel, height, width) 크기의 랭크-5텐서. 각 샘플의 이미지의 (길이가 frames인)시퀀스"
   ]
  },
  {
   "cell_type": "markdown",
   "id": "2011732a-1aed-4602-abd4-06160d33187b",
   "metadata": {},
   "source": [
    "## 2.2.9 벡터 데이터\n",
    "- 하나의 데이터 포인트가 벡터로 인코딩될 수 있으므로 배치데이터는 랭크-2텐서로서 인코딩될 것이다.(즉 벡터의 배열)\n",
    "- 첫번째 축: 샘플축\n",
    "- 두번째 축: 특성축(feature axis)"
   ]
  },
  {
   "cell_type": "markdown",
   "id": "c1151129-565a-4e2b-9fe4-fa2db6444a4a",
   "metadata": {},
   "source": [
    "## 2.2.10 시계열 데이터 또는 시퀀스 데이터\n",
    "- 데이터에서 시간이(또는 연속된 순서가) 중요할 때는 시간 축을 포함하여 랭크-3텐서로 저장됨\n",
    "- 각 샘플은 벡터(랭크-2텐서)의 시퀀스로 인코딩되므로 배치 데이터는 랭크-3텐서로 인코딩 됨\n",
    "- 주식가격 데이터셋, 트윗 데이터셋"
   ]
  },
  {
   "cell_type": "markdown",
   "id": "fca3fccd-a48f-4686-a8f8-86c0cbc75cec",
   "metadata": {},
   "source": [
    "## 2.2.11 이미지 데이터\n",
    "- 이미지: 높이, 너비, 컬러 3차원\n",
    "- 흑백 이미지: (장수, 높이, 너비, 1)=> 랭크-2텐서\n",
    "- 컬러 이미지: (장수, 높이, 너비, 3)=> 랭크-3텐서\n",
    "\n",
    "- 이미지 텐서를 지정하는 방식\n",
    "- 채널 마지막방식: sample, height, width, color_depth 콜로 채널의 깊이를 끝에 놓는다.\n",
    "- 채널 우선방식: sample, color_depth, height, width 컬러채널의 깊이를 배치 축 바로 뒤에"
   ]
  },
  {
   "cell_type": "markdown",
   "id": "27c55fdb-be0f-477b-9bb0-75460c74aabb",
   "metadata": {},
   "source": [
    "## 2.2.12 비디오 데이터\n",
    "- 랭크-5텐서가 필요한 데이터\n",
    "- 하나의 비디오는 프레임의 연속, 각 프레임은 하나의 컬러 이미지\n",
    "- 프레임(height, width, color_depth)의 랭크-3텐서로 저장될 수 있기 때문에 \n",
    "- 프레임의 연속은 (frames, height, width, color_depth)의 랭크-4텐서로 저장될 수 있다.\n",
    "- 여러 비디오의 배치는(sample, frames, height, width, color_depth)의 랭크-5텐서로 저장될 수 있다.\n",
    "- (s,f,h,w,c)"
   ]
  },
  {
   "cell_type": "markdown",
   "id": "43685bed-4d7e-4de3-b8c4-296d6673b622",
   "metadata": {},
   "source": [
    "# 2.3 신경망의 톱니바퀴: 텐서연산\n",
    "- 컴퓨터 프로그램을 이진수로 입력처리하는 몇개의 이항연산(AND OR, NOR등)\n",
    "- 심층 신경망이 학습한 모든 변환을 수치 데이터 텐서에 적용하는 몇 종류의 텐서연산(텐서함수)으로 나타낼 수 있음"
   ]
  },
  {
   "cell_type": "code",
   "execution_count": 92,
   "id": "0aeaeff3-9a72-4f50-a475-f14db12316f6",
   "metadata": {},
   "outputs": [
    {
     "data": {
      "text/plain": [
       "<keras.layers.core.dense.Dense at 0x2388f70ad30>"
      ]
     },
     "execution_count": 92,
     "metadata": {},
     "output_type": "execute_result"
    }
   ],
   "source": [
    "keras.layers.Dense(512, activation=\"relu\")\n",
    "# Dense 층을 쌓아 모델을 만듬\n",
    "# 이 층은 행렬을 입력 받고 입력 텐서의 새로운 표현인 또 다른 행렬을 반환하는 함수\n",
    "# w: 행렬, b: 벡터"
   ]
  },
  {
   "cell_type": "markdown",
   "id": "53a62851-be66-43c4-a741-6cf0e3f8d24d",
   "metadata": {},
   "source": [
    "### output = relu(dot(W, input)+b)\n",
    "- W는 행렬이고, b는 벡터\n",
    "- 둘 모두 층의 속성"
   ]
  },
  {
   "cell_type": "markdown",
   "id": "cd835333-5595-47af-bfab-3db671fbef0b",
   "metadata": {},
   "source": [
    "### 3개의 텐서연산\n",
    "- 입력 텐서와 텐서 W사이의 점곱(dot)\n",
    "- 점곱으로 만들어진 행렬과 벡터 b사이의 덧셈(+)\n",
    "- relus(렐루)연산, relu(x)는 max(x,0)"
   ]
  },
  {
   "cell_type": "markdown",
   "id": "1f365613-20ed-4363-94b4-578c00d133cb",
   "metadata": {},
   "source": [
    "- int(1, x1, x2, x3,,)를 (Σ에 넣고, 시그모이드를 거쳐) 렐루함수를 거쳐서 out\n",
    "- 1은 b(편향), x1(가중치), x2(가중치) -> (Σ | 시그모이드)=> 활성함수(렐루함수)\n",
    "- 렐루함수: p. 152그림"
   ]
  },
  {
   "cell_type": "markdown",
   "id": "3d00e755-b2a0-4973-87b4-7c00002151f6",
   "metadata": {},
   "source": [
    "## 2.3.1 원소별 연산\n",
    "- relu함수와 덧셈: 원소별 덧셈(element-wise operation)\n",
    "- 텐서에 있는 각 원소에 독립적으로 적용됨"
   ]
  },
  {
   "cell_type": "code",
   "execution_count": 23,
   "id": "07bd750c-d0df-49fe-900c-ab2140e1d3c4",
   "metadata": {},
   "outputs": [],
   "source": [
    "# for 반복문\n",
    "def naive_relu(x):\n",
    "    assert len(x.shape) ==2\n",
    "    x= x.copy()\n",
    "    for i in range(x.shape[0]):\n",
    "        x[i,j]=max(x[i,j],0)\n",
    "    return x"
   ]
  },
  {
   "cell_type": "code",
   "execution_count": 24,
   "id": "2e029090-bb9b-448e-ba40-80ec79414f15",
   "metadata": {},
   "outputs": [],
   "source": [
    "# 덧셈\n",
    "def navie_add(x,y):\n",
    "    assert len(x.shape) ==2 \n",
    "    assert s.shape == y.shape\n",
    "    x = x.copy()\n",
    "    for i in range(x.shape[0]):\n",
    "        x[i,j]+=y[i,j]\n",
    "    return x"
   ]
  },
  {
   "cell_type": "code",
   "execution_count": 25,
   "id": "389fb3c0-a719-449c-953b-73ef917c2bc1",
   "metadata": {},
   "outputs": [],
   "source": [
    "# 넘파이는 BLAS구현에 복잡한 일들을 위임함\n",
    "#BLAS는 고도로 병렬화되고 효율적인 저수준의 텐서조작 루틴, 전형적으로 포트란(Fortran)이나 C언어로 구현"
   ]
  },
  {
   "cell_type": "code",
   "execution_count": 26,
   "id": "03646f4e-eb11-4608-bbe2-10c31f252304",
   "metadata": {
    "tags": []
   },
   "outputs": [],
   "source": [
    "# 원소별 연산\n",
    "import numpy as np\n",
    "\n",
    "# 원소별 덧셈\n",
    "z = x+y\n",
    "#원소별 렐루\n",
    "z = np.maximum(z,0.)"
   ]
  },
  {
   "cell_type": "code",
   "execution_count": 27,
   "id": "7cf799ee-1f69-47a0-aa40-5debd3d073fc",
   "metadata": {
    "tags": []
   },
   "outputs": [
    {
     "name": "stdout",
     "output_type": "stream",
     "text": [
      "걸린시간: 0.00 s\n"
     ]
    }
   ],
   "source": [
    "# 시간차이 재보기\n",
    "import time\n",
    "x= np.random.random((20,100))\n",
    "y= np.random.random((20,100))\n",
    "\n",
    "t0 = time.time()\n",
    "for _ in range(1000):\n",
    "    z = x+y\n",
    "    z = np.maximum(z,0.)\n",
    "print(\"걸린시간: {0:.2f} s\". format(time.time() - t0))"
   ]
  },
  {
   "cell_type": "code",
   "execution_count": 28,
   "id": "1bb12ac7-bd03-4b3e-976c-741f703f12ae",
   "metadata": {
    "collapsed": true,
    "jupyter": {
     "outputs_hidden": true
    },
    "tags": []
   },
   "outputs": [
    {
     "ename": "NameError",
     "evalue": "name 'naive_add' is not defined",
     "output_type": "error",
     "traceback": [
      "\u001b[1;31m---------------------------------------------------------------------------\u001b[0m",
      "\u001b[1;31mNameError\u001b[0m                                 Traceback (most recent call last)",
      "Input \u001b[1;32mIn [28]\u001b[0m, in \u001b[0;36m<cell line: 3>\u001b[1;34m()\u001b[0m\n\u001b[0;32m      2\u001b[0m t0 \u001b[38;5;241m=\u001b[39m time\u001b[38;5;241m.\u001b[39mtime()\n\u001b[0;32m      3\u001b[0m \u001b[38;5;28;01mfor\u001b[39;00m _ \u001b[38;5;129;01min\u001b[39;00m \u001b[38;5;28mrange\u001b[39m(\u001b[38;5;241m1000\u001b[39m):\n\u001b[1;32m----> 4\u001b[0m     z \u001b[38;5;241m=\u001b[39m \u001b[43mnaive_add\u001b[49m(x,y)\n\u001b[0;32m      5\u001b[0m     z \u001b[38;5;241m=\u001b[39m navie_relu(z)\n\u001b[0;32m      6\u001b[0m \u001b[38;5;28mprint\u001b[39m(\u001b[38;5;124m\"\u001b[39m\u001b[38;5;124m걸린시간:\u001b[39m\u001b[38;5;132;01m{0:.2f}\u001b[39;00m\u001b[38;5;124m s\u001b[39m\u001b[38;5;124m\"\u001b[39m\u001b[38;5;241m.\u001b[39mformat(time\u001b[38;5;241m.\u001b[39mtime() \u001b[38;5;241m-\u001b[39m t0))\n",
      "\u001b[1;31mNameError\u001b[0m: name 'naive_add' is not defined"
     ]
    }
   ],
   "source": [
    "# 단순한 방법\n",
    "t0 = time.time()\n",
    "for _ in range(1000):\n",
    "    z = naive_add(x,y)\n",
    "    z = navie_relu(z)\n",
    "print(\"걸린시간:{0:.2f} s\".format(time.time() - t0))"
   ]
  },
  {
   "cell_type": "markdown",
   "id": "932e6484-7c46-47e5-a864-5f7c2fbba567",
   "metadata": {},
   "source": [
    "# 2.3.2 브로드 캐스팅\n",
    "- naive_add는 동일한 크기의 랭크-2텐서만 지원함\n",
    "- 브로드캐스팅: 2단계\n",
    "- 1. 큰 텐서의 ndim에 맞도록 작은 텐서에(브로드캐스팅 축이라고 부르는) 축이 추가됨\n",
    "- 2. 작은 텐서가 새 축을 따라서 큰 텐서의 크기에 맞도록 반복"
   ]
  },
  {
   "cell_type": "code",
   "execution_count": 29,
   "id": "289c6a6d-c540-4f44-a94c-5ec82d1617c8",
   "metadata": {},
   "outputs": [],
   "source": [
    "import numpy as np"
   ]
  },
  {
   "cell_type": "code",
   "execution_count": 35,
   "id": "9394e85a-c173-4e57-b2c7-64cd7aa6857a",
   "metadata": {},
   "outputs": [],
   "source": [
    "x=np.random.random((32,10))\n",
    "y=np.random.random((10,))"
   ]
  },
  {
   "cell_type": "code",
   "execution_count": 40,
   "id": "7a3ed8a1-6820-4c5b-b914-31dfcea847a4",
   "metadata": {},
   "outputs": [],
   "source": [
    "# y에 비어있는 첫번쨰 축을 추가하여 크기를 (1, 10)으로 만듦\n",
    "y = np.expand_dims(y,axis=0)\n",
    "# y축을 32번 반복하면서 텐서 y의 크기는(32,10)이 됨\n",
    "Y = np.concatenate([y] * 32, axis=0)\n",
    "\n",
    "# 이렇게 하면 x,Y의 크기가 같아져서 더할 수 있게 됨"
   ]
  },
  {
   "cell_type": "code",
   "execution_count": 41,
   "id": "26e45061-c602-4267-9a59-67d800654a2e",
   "metadata": {},
   "outputs": [],
   "source": [
    "# 단순구현\n",
    "def navie_add_matrix_and_vector(x,y):\n",
    "    assert len(x.shape) == 2\n",
    "    assert len(y.shape) == 1\n",
    "    assert x.shape[1] == y.shape[0]\n",
    "    x = x.copy()\n",
    "    for i in range(x.shape[0]):\n",
    "        x[i,j]+=y[j]\n",
    "    return x"
   ]
  },
  {
   "cell_type": "code",
   "execution_count": 44,
   "id": "694cc211-a817-4e91-a2fe-17e95688f3c9",
   "metadata": {},
   "outputs": [],
   "source": [
    "# 크기가 다른 두 텐서에 브로드캐스팅으로 원소별 maximum연산을 적용\n",
    "import numpy as np\n",
    "\n",
    "x= np.random.random((64, 3, 32, 10))\n",
    "y= np.random.random((32, 10))\n",
    "z= np.maximum(x,y)"
   ]
  },
  {
   "cell_type": "markdown",
   "id": "d72dbe6e-ec73-45fc-8cf6-c4b3106728f9",
   "metadata": {},
   "source": [
    "## 2.3.3 텐서 곱셈\n",
    "- 텐서곱셈(tensor product), 점곱(dot product)\n",
    "- 넘파이에서 텐서 곱셈은 np.dot함수를 사용하여 수행"
   ]
  },
  {
   "cell_type": "code",
   "execution_count": 50,
   "id": "8c8d61c2-dcc7-4929-8ab4-9897cd836138",
   "metadata": {},
   "outputs": [],
   "source": [
    "x= np.random.random((32,))\n",
    "y= np.random.random((32,))\n",
    "z= np.dot(x,y)\n",
    "\n",
    "z= x*y"
   ]
  },
  {
   "cell_type": "code",
   "execution_count": 53,
   "id": "f00a4e66-f60b-4632-9ee5-fc5021e6a611",
   "metadata": {},
   "outputs": [],
   "source": [
    "# 2개의 벡터x와 y의 접곱\n",
    "def navie_vector_dot(x,y):\n",
    "    assert len(x.shape) == 1\n",
    "    assert len(y.shape) == 1\n",
    "    assert x.shape[0] == y.shape[0]\n",
    "    z=0.\n",
    "    for i in range(x.shape[0]):\n",
    "        z+=x[i]*y[i]\n",
    "    return z\n",
    "\n",
    "# 두 벡터의 점곱은 스칼라가 되므로 원소 개수가 같은 벡터끼리 점곱이 가능"
   ]
  },
  {
   "cell_type": "code",
   "execution_count": 55,
   "id": "b10d5264-b0e5-483c-a5d1-0a99ac4533c8",
   "metadata": {},
   "outputs": [],
   "source": [
    "# 행렬 x와 벡터 y사이에서도 점곱이 가능\n",
    "def navie_matrix_vector_dot(x,y):\n",
    "    assert len(x.shape) == 2\n",
    "    assert len(y.shape) == 1\n",
    "    assert x.shape[1] == y.shape[0]\n",
    "    z = np.zeros(x.shape[0])\n",
    "    for i in range(x.shape[1]):\n",
    "        z[i] += x[i,j] * y[j]\n",
    "    return z"
   ]
  },
  {
   "cell_type": "code",
   "execution_count": 59,
   "id": "b1e2ffe0-1868-45f7-98d5-22be38e0e9b5",
   "metadata": {},
   "outputs": [],
   "source": [
    "def navie_matrix_vector_dot(x,y):\n",
    "    z= np.zeros(x.shape[0])\n",
    "    for i in range(x.shape[0]):\n",
    "        z[i] = navie_vector_dot(x[i, :], y)\n",
    "    return z\n",
    "\n",
    "# 두 텐사 증 하나라도 ndim이 1보다 크면 dot연산에 교환법칙이 성립되지 않음\n",
    "# dot(x,y)와 dot(y,x)가 같지 않다.\n",
    "# x.shape[1]==y.shape[0]일 때 두 행렬 x와 y의 점곱(dot(x,y))이 성립됨\n",
    "# x의 행과 y열 사이 벡터 점곱으로 인해 (x.shape[0], y.shape[1])크기의 행렬이 됨"
   ]
  },
  {
   "cell_type": "code",
   "execution_count": 60,
   "id": "bd5500db-4436-4eb6-9ceb-539c5fcbc084",
   "metadata": {},
   "outputs": [],
   "source": [
    "def navie_matrix_vector_dot(x,y):\n",
    "    assert len(x.shape) == 2\n",
    "    assert len(y.shape) == 2\n",
    "    assert x.shape[1] == y.shape[0]\n",
    "    z = np.zeros(x.shape[0], y.shape[1])\n",
    "    for i in range(x.shape[1]):\n",
    "        row_x = x[i, :]\n",
    "        column_y = y[:, j]\n",
    "        z[i,j] = naive_vector_dot(row_x, column_y)\n",
    "    return z"
   ]
  },
  {
   "cell_type": "code",
   "execution_count": null,
   "id": "8ee0e4d1-425f-4997-aa43-f4ad642bda76",
   "metadata": {},
   "outputs": [],
   "source": [
    "- 행렬의 접곱\n",
    "# 크기를 맞추는 동일한 규칙을 따르면 고차원 텐서 간의 접곱을 할 수 있다\n",
    "(a, b, c, d) · (d,) -> (a, b, c)\n",
    "(a, b, c, d) · (d, e) -> (a, b, c, e)"
   ]
  },
  {
   "cell_type": "markdown",
   "id": "8934b0ad-8190-4a9d-80d1-531a03102676",
   "metadata": {},
   "source": [
    "# 2.3.4 텐서 크기 변환(tensor reshape)\n",
    "- 모델에 주입할 숫자 데이터를 전처리할 때 사용\n",
    "- train_images = train_images.reshape((60000, 28*28))\n",
    "- 텐서의 크기를 변환하다는 것은 특정 크기에 맞게 열과 행을 재배열.\n",
    "- 크기가 변환된 텐서는 원래 텐서와 원소 개수가 동일하다."
   ]
  },
  {
   "cell_type": "code",
   "execution_count": 67,
   "id": "d6e7862e-dbab-4e6f-bf9f-538e001557be",
   "metadata": {},
   "outputs": [],
   "source": [
    "x= np.array(([0.,1.,],\n",
    "             [2.,3.,],\n",
    "             [4.,5.]))"
   ]
  },
  {
   "cell_type": "code",
   "execution_count": 69,
   "id": "83fec956-9442-4180-ab46-971afdc79dcb",
   "metadata": {},
   "outputs": [
    {
     "data": {
      "text/plain": [
       "(3, 2)"
      ]
     },
     "execution_count": 69,
     "metadata": {},
     "output_type": "execute_result"
    }
   ],
   "source": [
    "x.shape"
   ]
  },
  {
   "cell_type": "code",
   "execution_count": 72,
   "id": "2f9e4cf5-a641-452c-9d47-b4186555dc52",
   "metadata": {},
   "outputs": [
    {
     "data": {
      "text/plain": [
       "array([[0.],\n",
       "       [1.],\n",
       "       [2.],\n",
       "       [3.],\n",
       "       [4.],\n",
       "       [5.]])"
      ]
     },
     "execution_count": 72,
     "metadata": {},
     "output_type": "execute_result"
    }
   ],
   "source": [
    "x= x.reshape((6,1))\n",
    "x"
   ]
  },
  {
   "cell_type": "code",
   "execution_count": 75,
   "id": "6a7ec44f-dc8b-4306-b91b-e408e270078c",
   "metadata": {},
   "outputs": [
    {
     "data": {
      "text/plain": [
       "array([[0., 1., 2.],\n",
       "       [3., 4., 5.]])"
      ]
     },
     "execution_count": 75,
     "metadata": {},
     "output_type": "execute_result"
    }
   ],
   "source": [
    "x = x.reshape((2,3))\n",
    "x"
   ]
  },
  {
   "cell_type": "code",
   "execution_count": 77,
   "id": "90e6d103-a778-4da8-ac1d-f3bdea540f9b",
   "metadata": {},
   "outputs": [
    {
     "data": {
      "text/plain": [
       "(20, 300)"
      ]
     },
     "execution_count": 77,
     "metadata": {},
     "output_type": "execute_result"
    }
   ],
   "source": [
    "# 전치(transposition): 행렬의 전치는 행과 열을 바꾸는 것\n",
    "# x[i, :] -> x[:,i]\n",
    "x= np.zeros((300,20))\n",
    "x= np.transpose(x)\n",
    "x.shape"
   ]
  },
  {
   "cell_type": "markdown",
   "id": "f9698ddc-c9a3-489f-a03d-e1839db4cf02",
   "metadata": {},
   "source": [
    "# 2.3.5 텐서 연산의 기하학적 해석(analysis)\n",
    "- 좌표 그림"
   ]
  },
  {
   "cell_type": "code",
   "execution_count": 79,
   "id": "21dbd08b-bdc6-4939-b8fd-71a103dffca5",
   "metadata": {},
   "outputs": [],
   "source": [
    "A = [0.5, 1]\n",
    "B = [1, 0.5]\n",
    "두 벡터의 덧셈에 대한 기하학적 해석\n",
    "텐서의 덧셈은 객체를 특정 방향으로 특정 양만큼(객체를 왜곡시키지 않고)이동\n",
    "- 원래 A점에서 새로운 위치까지 거리와 방향은 벡터 B에 의해 결정됨"
   ]
  },
  {
   "cell_type": "code",
   "execution_count": null,
   "id": "3b7bf5d0-f131-412f-acea-036f943ef7a5",
   "metadata": {},
   "outputs": [],
   "source": [
    "기하학적 연산은 텐서로 표현할 수 있다.\n",
    "- 이동(translation): (x,y)만큼 (수직,수평)이동\n",
    "- 회전(rotaion): R= [cos(t)-sin(t)][sin(t) cos(t)] 。[x,y] 각도t만큼 2D벡터를 반시계방향 회전\n",
    "- 크키변경(scaling): S= [[horizontal_factor, 0], [0, vectical_factor]]와 점곱하여 수직, 수평 방향으로 크기를 변경 = 대각행렬(diagona matrix) \n",
    "- 기울이기(skeing)\n",
    "- 선형변환(linear transform):  크기변경, 회전\n",
    "- 아핀변환(affine transform): 어떤 행렬과 점곱하여 얻는 선형변환과 (벡터를 더해 얻는) 이동조합 y=w*x+b, relu(W*x+b)\n",
    "- relu활상화 함수를 사용하는 Dense층: 아핀 변환의 중요한 성질은 여러 아핀변환을 반복래서 적용해도 결국 하나의 아핀 변환이 됨"
   ]
  },
  {
   "cell_type": "code",
   "execution_count": null,
   "id": "5ca6332b-493b-42fd-aec1-12e6a0829095",
   "metadata": {},
   "outputs": [],
   "source": [
    "## 2.3.6 딥러닝의 기하학적 해석\n",
    "- 심층 신경망의 각 층은 데이터를 조금씩 풀어주는 변환을 적용하므로, 이런 층을 깊게 쌓으면 아주 복잡한 분해과정을 처리할 수 있음\n",
    "- 15차원 문제를 1차원으로 하나하나 풀기(훨씬 정확)"
   ]
  },
  {
   "cell_type": "markdown",
   "id": "33f928ec-b127-4232-b146-d8e5e847d42e",
   "metadata": {},
   "source": [
    "# 2.4 신경망의 엔진: 그레이디언트 기반 최적화"
   ]
  },
  {
   "cell_type": "code",
   "execution_count": null,
   "id": "6acd3b47-de8b-4323-80ad-0b805b7d0c8e",
   "metadata": {},
   "outputs": [],
   "source": [
    "output = relu(dot(W, input)+b)\n",
    "- 초기: 무작위 초기화\n",
    "- 가중치가 점진적으로 조정\n",
    "- 훈련"
   ]
  },
  {
   "cell_type": "code",
   "execution_count": null,
   "id": "132dae34-9006-4f81-9acf-d34a2d331257",
   "metadata": {},
   "outputs": [],
   "source": [
    "1. 훈련 샘플 x와 이에 상응하는 타깃 y_true의 배치를 추출\n",
    "2. x를 사용하여 모델을 실행하고(정방향 패스(forward pass)단계), 예측 y_pred를 구한다\n",
    "3. y_pred와 y_true의 차이를 측정하여 이 배치에 대한 모델의 손실을 구한다\n",
    "4. 배체애 대한 손실이 조금 감소되도록 모델의 모든 가중치를 업데이트 한다\n",
    "- 훈련 데이터에서 모델의 손실(예측 y_pred, 타깃 y_true)의 오차가 매우 작아질 것이다."
   ]
  },
  {
   "cell_type": "markdown",
   "id": "e311dfdf-03e4-4a5e-a793-154a640f6aa6",
   "metadata": {},
   "source": [
    "## 2.4.1 도함수란?"
   ]
  },
  {
   "cell_type": "code",
   "execution_count": null,
   "id": "6e688c74-145e-4cf9-8cd3-5d9d4d92292a",
   "metadata": {},
   "outputs": [],
   "source": [
    "- 연속적이고 매끄러운 함수 \n",
    "f(x) = y\n",
    "- 연속적인 함수에서는 x를 조금 바꾸면 y가 조금만 변경된다.\n",
    "f(x + epsilon_x) = y + a * epsilon_x\n",
    "\n",
    "\n",
    "미분 = 도함수 = 기울기 = (미분계수) = Gradient(grad)"
   ]
  },
  {
   "cell_type": "markdown",
   "id": "65399a35-08cc-4c32-8a8c-79eec0fc1190",
   "metadata": {},
   "source": [
    "## 2.4.2 텐서 연산의 도함수: 그레이디언트"
   ]
  },
  {
   "cell_type": "markdown",
   "id": "26c80726-6e43-4e6b-a949-276dc9db7604",
   "metadata": {},
   "source": [
    "- 머신러닝 기반의 예\n",
    "-- 입력 벡터, x(데이터 셋에 있는 샘플)\n",
    "-- 행렬, w(모델 가중치)\n",
    "-- 타깃, y_true(모델이 x에 연관시키기 위해 학습해야 할 값)\n",
    "-- 손실함수, loss(현재의 예측과 y_true 간의 차이를 측정하기 위해 사용)"
   ]
  },
  {
   "cell_type": "markdown",
   "id": "6b75d0ca-16c3-45ba-b6b2-59c16786d47a",
   "metadata": {},
   "source": [
    "-  w를 사용하여 예측 y_pred를 계산하고 그 다음 예측 y_pred와 타깃 y_true사이의 손실 또는 차이를 계산함\n",
    "y_prepd = dot(w,x)   # 모델 가중치 w를 사용하여 x에 대한 예측을 만든다\n",
    "loss_value = loss(y_pred, y_true) # 예측이 얼마나 벗어났는지를 추정"
   ]
  },
  {
   "cell_type": "markdown",
   "id": "36b7c1f6-64ca-4670-a988-1c4f1bfd83d2",
   "metadata": {},
   "source": [
    "- 그레디언트를 사용하여 loss_value가 작아지도록 w를 업데이트 하는 방법\n",
    "- 고정된 입력 x와 y_true가 있을 때 앞의 연산은 (모델 가중치) w값을 손실 값에 매핑하는 함수로 해석\n",
    "loss_value =f(w)  # f는 w가 변화할 때 손실 값이 형성하는 곡선(또는 다차원 표면)을 설명\n",
    "\n",
    "- 현재의 W값을 W0라고 하면 점 W0에서 F의 도함수는 W와 크기가 같은 텐서 grad(loss_value, W0)이다.\n",
    "- 이 텐서의 각 원소 grad(loss_value, W0)[i,j]가 W0에서 함수 f(W)=loss_value의 그레디언트이다.\n",
    "- 또는 W0 근처에서 W에 대한 loss_value의 그레디언트이다."
   ]
  },
  {
   "cell_type": "markdown",
   "id": "da319bfa-3f07-4646-afcb-8d1147cc50c0",
   "metadata": {},
   "source": [
    "- 편도함수\n",
    "(입력으로 행렬W를 받는)텐서 연산 grad(f(w),w)는 스카라 함수 grad_ij(f(x), w_ij)의 조합으로 표현할 수 있다\n",
    "이 스칼라 함수는 W의 다른 모든 가중치가 일정하다고 가정할 때 가중치W[i,j]에 대한 loss_value=f(x)의 도함수를 반환한다.\n",
    "이때 grad_ij를 W[i,j]에 대한 f의 편도함수(partial derivative)라고 한다."
   ]
  },
  {
   "cell_type": "markdown",
   "id": "450dc41a-9266-45ed-9771-35057594ec76",
   "metadata": {},
   "source": [
    "grad(loss_value, W0)는\n",
    "가중치를 가진 함수 f(x)의 도함수는 곡선 f의 기울기\n",
    "\n",
    "grad(loss_value, W0)는 W0에서 loss_value = f(x)가 가장 가파르게 상승하는 바향고 이 방향의 기울기를 나타내는 텐서\n",
    "편도함수는 f의 특정 방향 기울기를 나타낸다.\n",
    "\n",
    "따라서 함수 f(x)에 대해서는 도함수의 반대방향으로 x를 조금 움직이면 f(x)의 값을 감소시킬 수 있기 때문이다.\n",
    "동일한 방식을 적용하면 텐서의 함수 f(x)의 입장에서는 그레디언트의 반대방향으로 W를 움직이면 loss_value=f(x)의 값을 줄일 수 있다.\n",
    "\n",
    "ex) w1 = w0-step * grad(f(w0), w0)\n",
    "=> f가 가장 가파르게 상승하는 방향의 반대 방향으로 움직이면 곡선의 낮은위치로 이동하게 된다.\n",
    "grad(loss_value, w0)는 w0에 아주 가까이 있을 때 기울기를 근사한 것이므로 w0에서 너무 크게 벗어나지 않기 위해 스케일링 비율 step이 필요함. \n",
    "\n",
    "Stochastic: 확률적인\n",
    "robust: 강건한, 어떤 변화에 쉽게 안흔들린다.\n",
    ": 평균에 새로운 값이 들어와도 값의 큰 변화가 없다.\n",
    "\n",
    "w1= w0-step*grad(f(wo),w0)\n",
    "\n",
    "w-=lr*grad\n",
    "\n",
    "batch=미니배치 \n",
    ":100개: 20개씩,배치5\n",
    "배치: 100개 중에 100개를 한꺼번에 다 가져가는 것\n",
    "\n",
    "1epoch: 한번 수정할때마다 100개씩(w0->w1)\n",
    "2epochs: 두번째 수정 100개씩 (w1->w2)\n",
    "w0->w1->w2\n",
    "\n",
    "100개 다 하지 않고 20개씩 1epoch\n",
    "첫번째 20개, 두번째 20개씩,,,,5번 반복(업데이트)\n",
    "epoch 100번 돈다 하면  100*5=500번"
   ]
  },
  {
   "cell_type": "markdown",
   "id": "5614e21b-7935-4780-a094-1e6224e618a9",
   "metadata": {},
   "source": [
    "## 2.4.3 확률적 경사하강법"
   ]
  },
  {
   "cell_type": "code",
   "execution_count": null,
   "id": "20568060-3b08-43de-b777-a20bd38b01b4",
   "metadata": {},
   "outputs": [],
   "source": [
    "목표\n",
    "미분 가능한 함수가 주어지면 이론적으로 이 함수의 최솟값을 해석으로 구할 수 있다.\n",
    "함수의 최솟값은 도함수가 0인 지점.\n",
    "따라서 도함수가 0 이 되는 지점을 모두 찾고 이중에서 어떤 포인트의 함수값이 가장 작은지 확인"
   ]
  },
  {
   "cell_type": "code",
   "execution_count": null,
   "id": "b54ad7fe-eb18-408b-ac1d-c17c5097379e",
   "metadata": {},
   "outputs": [],
   "source": [
    "해결\n",
    "신경망에 적용: 가장 작은 손실 함수의 값을 만드는 가중치의 조합을 해석으로 찾는 것\n",
    "=> w0에 대한 식 grad(d(w), w)=0을 풀면 됨\n",
    "이 식은 N개의 변수로 이루어진 다항식\n",
    "여기에서의 N은 모델의 가중치 개수\n",
    "N=2나 N=3인 식을 푸는 것은 가능하지만 신경망에서는 파라미터가 수천 수만개임. 따라서 해결이 어려움."
   ]
  },
  {
   "cell_type": "code",
   "execution_count": null,
   "id": "c93de17c-2908-4807-827c-db4726af9b0e",
   "metadata": {},
   "outputs": [],
   "source": [
    "이를 해결하기 위해 알고리즘 4단계를 이용\n",
    "1. 훈련 샘플 배치 x와 이에 상응하는 타깃 y_true를 추출\n",
    "2. x로 모델을 실행하고 예측 y_pred를 구함 (정방향패스)\n",
    "3. 이 배치에서 y_pred와 y_true사이의 오차를 측정하여 모델의 손실을 계산\n",
    "4. 모델 파라미터에 대한 손실 함수의 그레디언트를 계산(역방향 패스)\n",
    "5. 그레디언트의 반대방향으로 파라미터를 조금씩 이동\n",
    "ex)  w -= learnig_rate * gradient처럼 하면 배치에 대한 손실이 조금 감소.\n",
    "(학습률은 경사하갈법 과정의 속도를 조절하는 스칼라 값임)"
   ]
  },
  {
   "cell_type": "code",
   "execution_count": null,
   "id": "8ccb3cb3-ed5c-4863-922f-05cd73367b9e",
   "metadata": {},
   "outputs": [],
   "source": [
    "미니 배치 확률적 경사하강법(mini-batch stochastic gradient, 미니배치 SGD)\n",
    "확률적: 각 배치 데이터가 무작위로 선택된다.\n",
    "한꺼번에 하는 것이 아니라 조각조각내서 한다. (통째로 X)"
   ]
  },
  {
   "cell_type": "code",
   "execution_count": null,
   "id": "d1a9440b-ec3e-41c4-8dff-0f382961d0ff",
   "metadata": {},
   "outputs": [],
   "source": [
    "learnig_rate 값을 적절히 고르는 것이 중요\n",
    "이 값이 너무 작으면 곡선을 따라 내려가는데 너무 많은 반복이 필요, 지역최솟값에 갇힐 수도 있음\n",
    "이 값이 너무 크면 손실 함수 곡선에서 완전히 임의의 위치로 이동시킬 수 있다.\n",
    "\n",
    "미니배치 sgd알고라즘의 한가지 변종은 반복마다 하나의 샘플과 하나의 타깃을 뽑는 것\n",
    "\n",
    "극단적인 반대의 경우\n",
    "가용한 모든 데이터를 사용하여 반복을 실핼할 수 있음 = 배치 경사 하강법\n",
    "=>  더 정확하게 업데이트 되지만 더 많은 비용이 든다.\n",
    "\n",
    "절충안: 적절한 미니 배치 사용"
   ]
  },
  {
   "cell_type": "code",
   "execution_count": null,
   "id": "f31e893d-54e4-484a-98d3-cd6e7815989a",
   "metadata": {},
   "outputs": [],
   "source": [
    "모멘텀(momentum)\n",
    "sgd에 있는 2개의 문제점인 수렴 속도와 지역 최솟값을 해결"
   ]
  },
  {
   "cell_type": "code",
   "execution_count": null,
   "id": "42d95e05-09ed-4850-a012-1d5f37b064dd",
   "metadata": {},
   "outputs": [],
   "source": [
    "경사하강법의 목적\n",
    "손실함수에서 랜덤하게 선택한 가중치를 미분하여 나온 결과를 힌트로 해서 최적해를 찾아가는 것\n",
    "p.95 그림 2-20같은 그래프처럼 랜덤하게 선택된 가중치가 지역 최솟값에 가까이 있고 지역최솟값에 수렴하면 실제 목표인 전역최솟값을 찾지 못하게 됨"
   ]
  },
  {
   "cell_type": "code",
   "execution_count": null,
   "id": "e87484aa-eefa-4541-a0fe-e4c8f8c41859",
   "metadata": {},
   "outputs": [],
   "source": [
    "모멘텀를 사용하여 문제를 피할 수 있음\n",
    "최적화 과정을 손실 곡선 위로 작은 공을 굴리는 것이라고 생각.\n",
    "모멘텀이 충분하면 공이 골짜기에 갇히지 않고 전역최솟값에 도달 가능\n",
    "모멘텀은 현재 기울기 값(현재 속도)뿐만 아니라 (과거의 가속도로 인한) 현재 속도를 함께 고려하여 각 단계애서 공을 움직인다.\n",
    "\n",
    "실전에 적용할 때에는 현재 그레디언트 값, 이전에 업데이트 한 파라미터에 기초하여 파라미트 w를 업데이트 함"
   ]
  },
  {
   "cell_type": "markdown",
   "id": "e6a55d87-6349-4eb4-aaf2-3cd6ef95c62e",
   "metadata": {},
   "source": [
    "# 2.4.4 도함수 연결: 역전파 알고리즘\n",
    "- 이전 알고리즘에서 함수가 미분 가능하기 때문에 그레디언트를 쉽게 계산할 수 있다고 가정\n",
    "- 2개의 층을 가진 모델의 경우 가중치에 대한 손실의 그레디언트를 구현할 방법: 역전파 알고리즘"
   ]
  },
  {
   "cell_type": "markdown",
   "id": "f663d707-26da-49b1-aaac-23801e138ac7",
   "metadata": {},
   "source": [
    "# 연쇄법칙\n",
    "- 역전파는 (덧셈, 렐루, 텐서곱셈 같은) 간단한 연산의 도함수를 사용해서 이런 기초적인 연산을 조합한 연산의 그레디언트를 쉽게 계산하는 방법\n",
    "- 결정적으로 신경망은 서로 연결된 많은 텐서 연산으로 구성\n",
    "loss_value = loss(y_true, softmax(dot(relu(dot(inputs, w1)+b1), w2)+b2))\n",
    "\n",
    "\n",
    "loss_value: 1단계~2단계\n",
    "\n",
    "\n",
    "\n",
    "미적분의 연쇄법칙을 사용하면 이렇게 연결된함수의 도함수를 구할 수 있음\n",
    "두 함수 f와 g가 있고, 두 함수를 연결한 fg가 있다고 가정\n",
    "def fg(x):\n",
    "    x1=g(x)\n",
    "    y=f(x1)\n",
    "    return y\n",
    "\n",
    "연쇄법칙을 사용하면 grad(y,x) == grad(y,x1)* grad(x1,x)가 됨\n",
    "따라서 f와 g의 도함수를 알고있다면 fg의 도함수를 계산할 수 있음\n",
    "중간에 함수를 더 추가하면 사슬(chain)처럼 보이기 때문에 연쇄법칙(chain rule)이라 부름\n",
    "def fghj(x):\n",
    "    x1=j(x)\n",
    "    x2=h(x1)\n",
    "    x3=g(x2)\n",
    "    y=f(x3)\n",
    "    return y\n",
    "\n",
    "grad(y,x) == (grad(y,x3) * grad(x3, x2) *\n",
    "              grad(x2,x1) * grad(x1, x))\n",
    "\n",
    "신경망의 그레이디언트 값을 계산하는 데 이연쇄 법칙을 적용하는 것이 역전파 알고리즘이다.\n",
    "\n",
    "\n",
    "미분을 해보면\n",
    "f(x)=x**2   x**2 -> 2x => 2(x**2)\n",
    "g(x)=2x     fg=g(f(x))\n",
    "2x**2->4x= 4*3 = 12\n",
    "\n",
    "x=3일때\n",
    "f(x)=2x  기울기:6\n",
    "g(x)=2   기울기:2\n",
    "\n",
    "\n",
    "f(x)=x**2   x**2 -> 2x => 2(x**2)여기서\n",
    "\n",
    "x**2=t라고 잡으면 2t가 됨\n",
    "\n",
    "x가 조금 변할때 y가 얼마나 변하는지가 궁금.\n",
    "d(z)/dx를 미분"
   ]
  },
  {
   "cell_type": "markdown",
   "id": "d00ba25d-c34e-46f1-84dc-751c05e9694f",
   "metadata": {},
   "source": [
    "- 계산 그래프를 활용한 자동 미분\n",
    "- 그림2-21 2개의 층으로 구성된 모델의 계산 그래프 표현\n",
    "loss_val=loss(y_true, softmax(dot(relu(dot(x,w1)+b1)w2)+b2)\n",
    "\n",
    "- 그림 2-22 간단한 계산 그래프 예(역전파 설명)\n",
    "loss_val=loss(y_true, (x*w)+b)\n",
    "              \n",
    "- 2-23 정방향 패스 실행\n",
    "- 입력 노드에 구체적인 값 설정, loss_val에 도달할 때 까지 위에서 아래로 그래프의 모든 노드에 전파\n",
    "loss_val=loss(y_true, (x*w)+b)\n",
    "x=2, w=3, b=1, y_true=4, loss_val=3\n",
    "3=loss(4, (2*3)+1)\n",
    "              \n",
    "- 그림 2-24 역방향 패스 실행\n",
    "loss_val= loss(y_true,(x*w) +b)             \n",
    "grad(x1,w)=2\n",
    "grad(x2,b)=1\n",
    "grad(x2, x1)=1\n",
    "grad(loss_val, x2)=1\n",
    "\n",
    "- grad(loss_val, x2)=1 x2가 조금 변할 때 loss_val = abs(4-x2) 만큼 변한다   loss_val/x2=1, abs(4-x2)/x2=1\n",
    "- grad(x2, x1)=1 x1이 조금 변할 때 x2 = x1+b = x1+1 ==x2/x1=1\n",
    "- grad(x2, b)=1 b가 조금 변할 때 x2= x1+b = 6+b     ==x2/b=1\n",
    "- grad(x1, w)=2 w가 조금 변할 때 x1= x*w = 2*w      ==x1/w=2\n",
    "\n",
    "\n",
    "- 그림 2-25 역방향 그래프에서 loss_value부터 W까지의 경로\n",
    "loss_val= abs_diff(y_true, (w,x))+b\n",
    "y_true= 4, b=1,w=3, x=2\n",
    "grad(loss_val, x2)=1\n",
    "grad(x2, x1)=1\n",
    "grad(x2, b)=1\n",
    "grad(x1, w)=2\n",
    "\n",
    "w가 조금 변할 때의 loss_val의 변화량\n",
    "w에 대한 손실함수의 변화량\n",
    "=> loss_val/w\n",
    "\n",
    "-역방향 그래프에서 관심 대상인 두 노드 a와 b를 연결하는 경로가 여러개라면 모든 경로의 도함수를 더해서 grad(a,b)를 얻을 수 있음\n",
    "-역전파는 최종 손실 값에서 시작하여 아래층에서 맨 위층까지 거꾸로 거슬러 올라가 각 파라미터가 손실 값에 기여한 정도를 계산한다.\n",
    "-계산그래프에서 각 노드의 손실 기여도를 역전파 한다."
   ]
  },
  {
   "cell_type": "markdown",
   "id": "5342013e-2b8f-4f35-ae0f-07437e6954e5",
   "metadata": {},
   "source": [
    "## 텐서플로의 그레이디언트 테이프\n",
    "- 텐서플로의 강력한 자동 미분 기능을 활용할 수 있음\n",
    "- 파이썬의 with문과 함께 사용하여 해당 코드 블록 안의 모든 텐서 연산을 계산 그래프 형태로 기록\n",
    "- 그래프를 사용해 변수 또는 변수 집합에 대한 어떤 출력의 그레이디언트도 계산 가능"
   ]
  },
  {
   "cell_type": "code",
   "execution_count": 221,
   "id": "6f675383-2bf0-4f1d-94f6-87b39ecdc322",
   "metadata": {},
   "outputs": [],
   "source": [
    "import tensorflow as tf\n",
    "from keras import layers"
   ]
  },
  {
   "cell_type": "code",
   "execution_count": 222,
   "id": "f4440e08-1fa7-4644-9089-0c88cc6054ef",
   "metadata": {},
   "outputs": [
    {
     "data": {
      "text/plain": [
       "<tf.Tensor: shape=(), dtype=float32, numpy=2.0>"
      ]
     },
     "execution_count": 222,
     "metadata": {},
     "output_type": "execute_result"
    }
   ],
   "source": [
    "x = tf.Variable(0.)\n",
    "with tf.GradientTape() as tape:\n",
    "    y = 2*x + 3\n",
    "\n",
    "grad_of_y_wrt_x = tape.gradient(y, x)\n",
    "grad_of_y_wrt_x"
   ]
  },
  {
   "cell_type": "code",
   "execution_count": 223,
   "id": "0894824b-b098-453b-ae3e-a82168bbe2e5",
   "metadata": {},
   "outputs": [
    {
     "data": {
      "text/plain": [
       "<tf.Tensor: shape=(2, 2), dtype=float32, numpy=\n",
       "array([[2., 2.],\n",
       "       [2., 2.]], dtype=float32)>"
      ]
     },
     "execution_count": 223,
     "metadata": {},
     "output_type": "execute_result"
    }
   ],
   "source": [
    "# 다차원의 텐서와 함께 사용하기\n",
    "x = tf.Variable(tf.zeros((2, 2)))\n",
    "with tf.GradientTape() as tape:\n",
    "    y = 2*x + 3\n",
    "\n",
    "grad_of_y_wrt_x = tape.gradient(y, x)\n",
    "grad_of_y_wrt_x"
   ]
  },
  {
   "cell_type": "code",
   "execution_count": 224,
   "id": "568a0705-4058-4c36-8035-c59c06e376a8",
   "metadata": {},
   "outputs": [
    {
     "data": {
      "text/plain": [
       "[<tf.Tensor: shape=(2, 2), dtype=float32, numpy=\n",
       " array([[0.5930512, 0.5930512],\n",
       "        [0.7708831, 0.7708831]], dtype=float32)>,\n",
       " <tf.Tensor: shape=(2,), dtype=float32, numpy=array([2., 2.], dtype=float32)>]"
      ]
     },
     "execution_count": 224,
     "metadata": {},
     "output_type": "execute_result"
    }
   ],
   "source": [
    "# 변수 리스트의 그레이디언트 계산하기\n",
    "w = tf.Variable(tf.random.uniform((2, 2)))\n",
    "b = tf.Variable(tf.random.uniform((2,)))\n",
    "x = tf.random.uniform((2,2))\n",
    "with tf.GradientTape() as tape:\n",
    "    y = tf.matmul(x, w) + b\n",
    "\n",
    "grad_of_y_wrt_x = tape.gradient(y, [w, b])\n",
    "grad_of_y_wrt_x"
   ]
  },
  {
   "cell_type": "code",
   "execution_count": null,
   "id": "6e6e709f-1eb4-456d-8aed-05caf8a30aa4",
   "metadata": {},
   "outputs": [],
   "source": []
  },
  {
   "cell_type": "code",
   "execution_count": 225,
   "id": "3b4ecaef-aa46-415d-985b-3eb29a474ec0",
   "metadata": {},
   "outputs": [],
   "source": [
    "# Dense층 만들기\n",
    "import tensorflow as tf\n",
    "\n",
    "class NaiveDense:\n",
    "    def __init__(self, input_size, output_size, activation):\n",
    "        self.activation = activation\n",
    "        \n",
    "        w_shape = (input_size, output_size)\n",
    "        w_initial_value = tf.random.uniform(w_shape, minval=0, maxval=0.1)\n",
    "        self.w = tf.Variable(w_initial_value)\n",
    "        \n",
    "        b_shape = (output_size, )\n",
    "        b_initial_value = tf.zeros(b_shape)\n",
    "        self.b = tf.Variable(b_initial_value)\n",
    "    \n",
    "    def __call__(self, inputs):\n",
    "        return self.activation(tf.matmul(inputs, self.w) + self.b)\n",
    "    \n",
    "    @property\n",
    "    def weights(self):\n",
    "        return [self.w, self.b]  # 리스트를 묶어서 리턴\n",
    "    # @는 일종의 예약어 취급하기. 이건 특별한 약속을 하고 있다. \n",
    "    # 파이썬에서는 decoration이라고 하고 원래 함수는 weights( ) 이렇게 불렀는데\n",
    "    # 이건 함수가 아니라 속성을 말하며 weights는 괄호를 안붙이고 부른다."
   ]
  },
  {
   "cell_type": "code",
   "execution_count": 226,
   "id": "7323ddf6-d0a4-45f1-bccf-da3cb722e02a",
   "metadata": {},
   "outputs": [],
   "source": [
    "# Sequential 만들기\n",
    "class NavieSequential:\n",
    "    def __init__(self, layers):\n",
    "        self.layers = layers  # 왼쪽은 새로 만들어지는 변수이다. layers를 받아서 새로운 변수에 넣어줌\n",
    "    \n",
    "    def __call__(self, inputs):\n",
    "        x = inputs\n",
    "        for layer in self.layers:\n",
    "            x = layer(x)\n",
    "        return x\n",
    "    \n",
    "    @property\n",
    "    def weights(self):\n",
    "        weights = []\n",
    "        for layer in self.layers:\n",
    "            weights += layer.weights  # layers들을 순환하면서 가중치를 업데이트 시켜준다.\n",
    "        return weights"
   ]
  },
  {
   "cell_type": "code",
   "execution_count": 227,
   "id": "4fc61c3b-b24c-4ba3-aa30-b9f6ec278c05",
   "metadata": {},
   "outputs": [],
   "source": [
    "# 모델 구성하기\n",
    "model = NavieSequential([\n",
    "    NaiveDense(input_size=28*28, output_size=512, activation=tf.nn.relu),\n",
    "    NaiveDense(input_size=512, output_size=10, activation=tf.nn.softmax)\n",
    "])\n",
    "# 512이 인 이유는 위에 512를 받아서 하는거여서."
   ]
  },
  {
   "cell_type": "code",
   "execution_count": 228,
   "id": "1df33999-8958-40e2-a346-420e3b6b0f61",
   "metadata": {},
   "outputs": [],
   "source": [
    "assert len(model.weights) == 4\n",
    "# assert는 중간중간에 확인을 하라는 건데 4면 계속 진행하고 아니면 멈춰라 라는것."
   ]
  },
  {
   "cell_type": "code",
   "execution_count": null,
   "id": "77ef5b66-8190-4b45-81ae-3fe407eb5583",
   "metadata": {},
   "outputs": [],
   "source": [
    "----------------------------------------------------"
   ]
  },
  {
   "cell_type": "code",
   "execution_count": null,
   "id": "cee1ee50-b432-437e-8f2e-e1ec72c234d9",
   "metadata": {},
   "outputs": [],
   "source": [
    "# 여기서부터"
   ]
  },
  {
   "cell_type": "markdown",
   "id": "6c060fd1-0d81-4798-94e0-7652cb668ff5",
   "metadata": {
    "tags": []
   },
   "source": [
    "# 2.5 첫번째 예제 다시 살펴보기\n",
    "- 층이 서로 연결되어 모델을 구성하고, 모델은 입력 데이터를 예측으로 매핑한다.\n",
    "- 그다음 손실 함수가 이 예측과 타깃을 비교하여 손실 값을 만든다.\n",
    "- 즉, 모델의 예측이 기대한 것에 얼마나 잘 맞는지 측정한다.\n",
    "- 옵티마이저는 이 손실값을 사용하여 모델의 가중치를 업데이트 한다."
   ]
  },
  {
   "cell_type": "code",
   "execution_count": 169,
   "id": "dc2e3792-edb6-455e-ae9a-61d478d4e343",
   "metadata": {
    "jupyter": {
     "source_hidden": true
    },
    "tags": []
   },
   "outputs": [],
   "source": [
    "# 입력데이터\n",
    "import tensorflow as tf\n",
    "# MLP=DNN\n",
    "import keras\n",
    "from keras.datasets import mnist\n",
    "from keras.layers import Dense, Input, Conv2D, MaxPooling2D, Flatten\n",
    "from keras.utils import to_categorical\n",
    "from tensorflow.keras import layers\n",
    "from tensorflow.keras.datasets import mnist"
   ]
  },
  {
   "cell_type": "code",
   "execution_count": 170,
   "id": "67b4fd1c-32ae-4b74-8c18-eb105cb42361",
   "metadata": {
    "jupyter": {
     "source_hidden": true
    },
    "tags": []
   },
   "outputs": [],
   "source": [
    "(train_images, train_labels), (test_images, test_labels)=mnist.load_data()\n",
    "train_images= train_images.reshape((60000, 28*28))\n",
    "train_images= train_images.astype(\"float\")/255\n",
    "test_images= test_images.reshape((10000,28*28))\n",
    "test_images= test_images.astype(\"float32\")/255\n",
    "\n",
    "# 입력 이미지의 데이터 타입은 float32로, 훈련 데이터는 (60000,784)크기, 테스트 데이터는 (10000,784)크기의 넘파이 배열로 저장됨"
   ]
  },
  {
   "cell_type": "code",
   "execution_count": 171,
   "id": "6d09a8c3-452e-4ffe-8748-6c9d5e60d11c",
   "metadata": {
    "jupyter": {
     "source_hidden": true
    },
    "tags": []
   },
   "outputs": [],
   "source": [
    "model= keras.Sequential([\n",
    "    layers.Dense(512, activation=\"relu\"),\n",
    "    layers.Dense(10, activation=\"softmax\")\n",
    "])\n",
    "\n",
    "# 이 모델은 2개의 Dense층이 연결되어 있고 각 층은 가중치 텐서를 포함하여 입력 데이터에 대한 몇 개의 간단한 텐서 연산을 적용.\n",
    "# 층의 속성인 가중치 텐서는 모델이 정보를 저장하는 곳이다."
   ]
  },
  {
   "cell_type": "code",
   "execution_count": 172,
   "id": "4a06370d-693e-4798-9afa-2eebea82c922",
   "metadata": {
    "jupyter": {
     "source_hidden": true
    },
    "tags": []
   },
   "outputs": [],
   "source": [
    "# 모델 컴파일 단계\n",
    "model.compile(optimizer=\"rmsprop\",\n",
    "             loss=\"sparse_categorical_crossentropy\",\n",
    "             metrics=[\"accuracy\"])\n",
    "\n",
    "# sparse_categorical_crossentropy는 손실함수이다. \n",
    "# 가중치 텐서를 학습하기 위한 치드백 신호로 사용되며 훈련하는 동안 최소화 된다.\n",
    "# 미니 배치 확률적 경사하강법을 통해 손실이 감소된다.\n",
    "# 경사하강법을 적용하는 구체적인 방식은 첫번째 매개변수로 전달된 rmsprop옵티마이저에 의해 결정된다."
   ]
  },
  {
   "cell_type": "code",
   "execution_count": 173,
   "id": "e1d22667-8418-4fe5-943a-78a54704c238",
   "metadata": {
    "collapsed": true,
    "jupyter": {
     "outputs_hidden": true,
     "source_hidden": true
    },
    "tags": []
   },
   "outputs": [
    {
     "name": "stdout",
     "output_type": "stream",
     "text": [
      "Epoch 1/5\n",
      "469/469 [==============================] - 2s 4ms/step - loss: 0.2545 - accuracy: 0.9258\n",
      "Epoch 2/5\n",
      "469/469 [==============================] - 2s 4ms/step - loss: 0.1036 - accuracy: 0.9693\n",
      "Epoch 3/5\n",
      "469/469 [==============================] - 2s 4ms/step - loss: 0.0680 - accuracy: 0.9797\n",
      "Epoch 4/5\n",
      "469/469 [==============================] - 2s 4ms/step - loss: 0.0502 - accuracy: 0.9846\n",
      "Epoch 5/5\n",
      "469/469 [==============================] - 2s 4ms/step - loss: 0.0371 - accuracy: 0.9888\n"
     ]
    },
    {
     "data": {
      "text/plain": [
       "<keras.callbacks.History at 0x1b803afad90>"
      ]
     },
     "execution_count": 173,
     "metadata": {},
     "output_type": "execute_result"
    }
   ],
   "source": [
    "# 반복훈련\n",
    "model.fit(train_images, train_labels, epochs=5, batch_size=128)\n",
    "\n",
    "# fit메서드를 호출 했을 때 모델이 128개 샘플의 미니 배치로 훈련 데이터를 5번 반복.\n",
    "# 전체 훈련 데이터에 수행되는 각 반복을 에포크(epochs)라고 함\n",
    "# 각 배치에서 모델이 가중치에 대한 손실의 그레이디언트를 계산함\n",
    "# 이 배테에서 손실 값을 감소시키는 방향으로 가중치를 이동시킴(업데이트 시킴)\n",
    "\n",
    "#60000/128=469(올림 함)\n",
    "#1번 배치할 때마다 469번 바꿔준다.\n",
    "# 총 epochs가 5번 이므로 5*469= 2345번 =총 가중치가 업데이트 되는 횟수\n",
    "\n",
    "# 이렇게 여러번 반복하면 모델 손실이 충분하게 낮아져서 정확도로 손글씨를 구분할 수 있다."
   ]
  },
  {
   "cell_type": "markdown",
   "id": "25f87552-df84-45af-a676-c03362487577",
   "metadata": {},
   "source": [
    "## 2.5.1 텐서플로를 사용하여 첫번째 예제를 밑바닥부터 다시 구현하기"
   ]
  },
  {
   "cell_type": "markdown",
   "id": "3545a78f-99eb-4b3c-9297-1dc8b6337045",
   "metadata": {},
   "source": [
    "import tensorflow as tf### 단순한 Dense클래스\n",
    "-output= activation(dot(W,input)+b)"
   ]
  },
  {
   "cell_type": "code",
   "execution_count": null,
   "id": "dd473412-6475-4578-ae88-bf240ca8c31c",
   "metadata": {},
   "outputs": [],
   "source": []
  },
  {
   "cell_type": "code",
   "execution_count": 174,
   "id": "354af2a0-77cc-4a29-adb1-c28209a2f06b",
   "metadata": {
    "jupyter": {
     "source_hidden": true
    },
    "tags": []
   },
   "outputs": [
    {
     "data": {
      "text/plain": [
       "(3,)"
      ]
     },
     "execution_count": 174,
     "metadata": {},
     "output_type": "execute_result"
    }
   ],
   "source": [
    "import numpy as np\n",
    "a = np.array([1,2,3])\n",
    "a.shape"
   ]
  },
  {
   "cell_type": "code",
   "execution_count": 175,
   "id": "9120eb8d-251b-4031-97b0-7de02fd007dd",
   "metadata": {
    "jupyter": {
     "source_hidden": true
    },
    "tags": []
   },
   "outputs": [],
   "source": [
    "# 간단한 파이썬 클래스 NavieDense를 구현하여 2개의 텐서플로 변수와 W와 b를 만들고 __call__()메서드에서 앞서 언급한 변환을 적용\n",
    "\n",
    "import tensorflow as tf\n",
    "\n",
    "class NaiveDense:\n",
    "    def __init__(self, input_size, output_size, activation):\n",
    "        self.activation = activation\n",
    "        \n",
    "        w_shape = (input_size, output_size)    # 랜덤한 값으로 초기화 된 (input_size, output_size) 크기의 행렬 W를 만든다.\n",
    "        w_initial_value = tf.random.uniform(w_shape, minval=0, maxval=0.1)\n",
    "        self.W =tf.Variable(w_initial_value)\n",
    "        \n",
    "        b_shape = (output_size, )  #0으로 초기화된 (output_size,)크기의 벡터 b를 만든다.   (output_size,)는 1차원 함수임.\n",
    "        b_initial_value= tf.zeros(b_shape)\n",
    "        self.b = tf.Variable(b_initial_value)\n",
    "        \n",
    "    def __call__(self, inputs):        #정방향 패스 수행\n",
    "        return self.activation(tf.matmul(inputs, self.W)+self.b)\n",
    "    \n",
    "    @property\n",
    "    def weights(self):              # 층의 가중치를 추출하기 위한 메서드\n",
    "        return[self.W, self.b]"
   ]
  },
  {
   "cell_type": "markdown",
   "id": "431f8965-6182-4dd6-ab0b-fb79dfa17f8d",
   "metadata": {
    "jupyter": {
     "source_hidden": true
    },
    "tags": []
   },
   "source": [
    "### 간단한 Sequential 클래스\n",
    "- NaiveSequential클래스를 만들어 층을 연결\n",
    "- 층의 리스트를 받고 __call__()메서드에 입력을 사용하여 층을 순서대로 호출\n",
    "- 층의 파라미터를 쉽게 구할 수 있도록 weights 속성을 제공"
   ]
  },
  {
   "cell_type": "code",
   "execution_count": 176,
   "id": "d8853f11-fac7-4c95-a598-4629c050c3fb",
   "metadata": {
    "jupyter": {
     "source_hidden": true
    },
    "tags": []
   },
   "outputs": [],
   "source": [
    "class NaiveSequential:\n",
    "    def __init__(self, layers):\n",
    "        self.layers =layers\n",
    "    \n",
    "    def __call__(self, inputs):\n",
    "        x= inputs\n",
    "        for layers in self.layers:\n",
    "            x = layer(x)\n",
    "        return x\n",
    "    \n",
    "    @property\n",
    "    def weights(self):\n",
    "        weights= []\n",
    "        for layer in self.layers:\n",
    "            weights += layer.weights\n",
    "        return weights"
   ]
  },
  {
   "cell_type": "code",
   "execution_count": 177,
   "id": "266bcc1e-d1ca-46ec-b9d5-4e2d944f0e8e",
   "metadata": {
    "jupyter": {
     "source_hidden": true
    },
    "tags": []
   },
   "outputs": [],
   "source": [
    "# NaiveDense클래스와 NaiveSequential 클래스를 사용해 케라스와 유사한 모델을 만들 수 있음\n",
    "model= NaiveSequential([\n",
    "    NaiveDene(input_size=28*28, output_size=512, activation=tf.nn.relu),\n",
    "    NaiveDene(input_size=512, output_size=10, activation=tf.nn.softmax)\n",
    "])\n",
    "assert len(model.weights)==4"
   ]
  },
  {
   "cell_type": "code",
   "execution_count": null,
   "id": "8683181f-1764-4e70-80e7-15f7ffc31ef0",
   "metadata": {},
   "outputs": [],
   "source": [
    "----------------------------------------------------------"
   ]
  },
  {
   "cell_type": "code",
   "execution_count": null,
   "id": "bad0297e-846c-4bf7-b587-5186724f3c62",
   "metadata": {},
   "outputs": [],
   "source": [
    "#여기까지 다시 해보깅ㅋ"
   ]
  },
  {
   "cell_type": "markdown",
   "id": "64554475-fd99-457e-ab05-fa2d38be0b13",
   "metadata": {},
   "source": [
    "## 배치 제너레이터"
   ]
  },
  {
   "cell_type": "code",
   "execution_count": 229,
   "id": "fe10be5c-3295-4ef1-92bc-0aa3ae3e1a58",
   "metadata": {},
   "outputs": [],
   "source": [
    "# mnist데이터를 미니 배치로 순회할 방법이 필요\n",
    "# 배치 제너레이터\n",
    "import math\n",
    "\n",
    "class BatchGenerator:\n",
    "    def __init__(self, images, labels, batch_size=128):\n",
    "        assert len(images) == len(labels)\n",
    "        self.index = 0\n",
    "        self.images = images\n",
    "        self.labels = labels\n",
    "        self.batch_size = batch_size\n",
    "        self.num_batches = math.ceil(len(images) / batch_size)\n",
    "        \n",
    "    def next(self):\n",
    "        images = self.images[self.index : self.index + self.batch_size]\n",
    "        labels = self.labels[self.index : self.index + self.batch_size]\n",
    "        self.index += self.batch_size\n",
    "        return images, labels"
   ]
  },
  {
   "cell_type": "markdown",
   "id": "803c187c-2d00-482f-a758-f601d22545de",
   "metadata": {},
   "source": [
    "### 2.5.2 훈련스텝 실행하기\n",
    "- 1. 배치에 있는 이미지에 대해 모델의 예측을 계산합니다.\n",
    "- 2. 실제 레이블을 사용하여 이 예측의 손실 값을 계산합니다.\n",
    "- 3. 모델 가중치에 대한 손실의 그레이디언트를 계산합니다.\n",
    "- 4. 이 그레이디언트의 반대 방향으로 가중치를 조금 이동합니다."
   ]
  },
  {
   "cell_type": "code",
   "execution_count": 230,
   "id": "080d42e2-179f-4db1-99b8-9146111f93cc",
   "metadata": {},
   "outputs": [],
   "source": [
    "# 텐서플로의 GradientTape객체를 사용\n",
    "# 정방향 패스 실행\n",
    "# 훈련 스텝 실행하기\n",
    "def one_training_step(model, images_batch, labels_batch):\n",
    "    with tf.GradientTape() as tape:\n",
    "        predictions = model(images_batch)\n",
    "        per_sample_losses = tf.keras.losses.sparse_categorical_crossentropy(labels_batch, predictions)\n",
    "        average_loss = tf.reduce_mean(per_sample_losses)\n",
    "    gradients = tape.gradient(average_loss, model.weights)\n",
    "    update_weights(gradients, model.weights)\n",
    "    return average_loss\n",
    "#  update_weights(gradients, model.weights)  가중치 업데이트 단계의 목적은 배치의 손실을 감소시키기 위한 방향으로 가중치를 조금 이동하는 것\n",
    "# 이동의 크기는 학습률에 의해 결정됨\n",
    "# 학습률은 작은값임\n",
    "\n",
    "# update_weights함수 구현하는 가장 간단한 방법은 각 가중치에서 gradient * learning_rate를 빼는 것임"
   ]
  },
  {
   "cell_type": "code",
   "execution_count": 231,
   "id": "19564212-e887-4d72-9975-653ae62bbc8a",
   "metadata": {},
   "outputs": [],
   "source": [
    "learning_rate = 0.001\n",
    "def update_weights(gradients, weights):\n",
    "    for g, w in zip(gradients, weights):\n",
    "        w.assign_sub(g * learning_rate)   # w = w - learning_rate*g 와 같다.\n",
    "# 실제로는 이런 방법보단 optimizer 인스턴스를 주로 사용한다.\n",
    "\n",
    "# 실제로는 이런 가중치 업데이트 단계를 수동으로 구현하는 경우가 거의 없음"
   ]
  },
  {
   "cell_type": "code",
   "execution_count": 232,
   "id": "40c66fb0-1cfe-4d60-84ae-fab1cbeaf0d4",
   "metadata": {},
   "outputs": [],
   "source": [
    "# Optimizer 인스턴스 사용하기\n",
    "from tensorflow.keras import optimizers\n",
    "\n",
    "optimizers = optimizers.SGD(learning_rate=1e-3)\n",
    "\n",
    "def update_weights(gradients, weights):\n",
    "    optimizers.apply_gradients(zip(gradients, weights))\n",
    "# 이제 배치 훈련 스텝이 준비되었다."
   ]
  },
  {
   "cell_type": "code",
   "execution_count": 233,
   "id": "79543205-e379-47a1-a310-6f28bbae2d35",
   "metadata": {},
   "outputs": [],
   "source": [
    "# 배치 훈련 스텝 준비 끄읕-! 훈련 에포크 전체 구현 가능"
   ]
  },
  {
   "cell_type": "markdown",
   "id": "358f1b90-4a38-4fe0-8a9e-fecd4480af74",
   "metadata": {},
   "source": [
    "## 2.5.3 전체 훈련 루프\n",
    "- 훈련 에포크 하나는 단순히 훈련 데이터의 각 배치에 대한 훈련 스텝을 반복하는 것이다.\n",
    "- 전체 훈련 루프는 단순히 에포크의 반복이다."
   ]
  },
  {
   "cell_type": "code",
   "execution_count": 234,
   "id": "21498450-e6d1-4d8f-8a57-857bbad39892",
   "metadata": {},
   "outputs": [],
   "source": [
    "# 전체 훈련 루프\n",
    "\n",
    "def fit(model, images, labels, epochs, batch_size=128):\n",
    "    for epoch_counter in range(epochs):\n",
    "        print(f'에포크 {epoch_counter}')\n",
    "        batch_generator = BatchGenerator(images, labels)\n",
    "        for batch_counter in range(batch_generator.num_batches):\n",
    "            images_batch, labels_batch = batch_generator.next()\n",
    "            loss = one_training_step(model, images_batch, labels_batch)\n",
    "            if batch_counter % 100 == 0:\n",
    "                print(f'{batch_counter}번째 배치 손실: {loss:.2f}')"
   ]
  },
  {
   "cell_type": "code",
   "execution_count": 235,
   "id": "4e9b8778-db6f-4eee-8898-7787af430a93",
   "metadata": {
    "tags": []
   },
   "outputs": [
    {
     "name": "stdout",
     "output_type": "stream",
     "text": [
      "에포크 0\n",
      "0번째 배치 손실: 4.96\n",
      "100번째 배치 손실: 2.25\n",
      "200번째 배치 손실: 2.22\n",
      "300번째 배치 손실: 2.11\n",
      "400번째 배치 손실: 2.23\n",
      "에포크 1\n",
      "0번째 배치 손실: 1.91\n",
      "100번째 배치 손실: 1.89\n",
      "200번째 배치 손실: 1.83\n",
      "300번째 배치 손실: 1.73\n",
      "400번째 배치 손실: 1.85\n",
      "에포크 2\n",
      "0번째 배치 손실: 1.58\n",
      "100번째 배치 손실: 1.59\n",
      "200번째 배치 손실: 1.51\n",
      "300번째 배치 손실: 1.43\n",
      "400번째 배치 손실: 1.54\n",
      "에포크 3\n",
      "0번째 배치 손실: 1.32\n",
      "100번째 배치 손실: 1.35\n",
      "200번째 배치 손실: 1.24\n",
      "300번째 배치 손실: 1.21\n",
      "400번째 배치 손실: 1.30\n",
      "에포크 4\n",
      "0번째 배치 손실: 1.12\n",
      "100번째 배치 손실: 1.17\n",
      "200번째 배치 손실: 1.04\n",
      "300번째 배치 손실: 1.05\n",
      "400번째 배치 손실: 1.13\n",
      "에포크 5\n",
      "0번째 배치 손실: 0.97\n",
      "100번째 배치 손실: 1.03\n",
      "200번째 배치 손실: 0.90\n",
      "300번째 배치 손실: 0.93\n",
      "400번째 배치 손실: 1.01\n",
      "에포크 6\n",
      "0번째 배치 손실: 0.86\n",
      "100번째 배치 손실: 0.92\n",
      "200번째 배치 손실: 0.80\n",
      "300번째 배치 손실: 0.84\n",
      "400번째 배치 손실: 0.92\n",
      "에포크 7\n",
      "0번째 배치 손실: 0.78\n",
      "100번째 배치 손실: 0.83\n",
      "200번째 배치 손실: 0.72\n",
      "300번째 배치 손실: 0.77\n",
      "400번째 배치 손실: 0.85\n",
      "에포크 8\n",
      "0번째 배치 손실: 0.71\n",
      "100번째 배치 손실: 0.76\n",
      "200번째 배치 손실: 0.65\n",
      "300번째 배치 손실: 0.71\n",
      "400번째 배치 손실: 0.79\n",
      "에포크 9\n",
      "0번째 배치 손실: 0.66\n",
      "100번째 배치 손실: 0.71\n",
      "200번째 배치 손실: 0.60\n",
      "300번째 배치 손실: 0.66\n",
      "400번째 배치 손실: 0.75\n"
     ]
    }
   ],
   "source": [
    "# 위의 함수 테스트 해보기\n",
    "\n",
    "from keras import layers\n",
    "\n",
    "from tensorflow.keras.datasets import mnist\n",
    "(train_images, train_labels), (test_images, test_labels) = mnist.load_data()\n",
    "\n",
    "train_images = train_images.reshape((60000, 28*28))\n",
    "train_images = train_images.astype('float32') / 255\n",
    "test_images = test_images.reshape((10000, 28*28))\n",
    "test_images = test_images.astype('float32') / 255\n",
    "\n",
    "fit(model, train_images, train_labels, epochs=10, batch_size=128)"
   ]
  },
  {
   "cell_type": "markdown",
   "id": "fd276104-9995-4e33-9a3f-76e9a37e0400",
   "metadata": {},
   "source": [
    "## 2.5.4 모델 평가하기\n",
    " - 테스트 이미지에 대한 예측에 armax함수를 적용하고, 예상 레이블과 비교하여 모델을 평가할 수 있다."
   ]
  },
  {
   "cell_type": "code",
   "execution_count": 237,
   "id": "3351461b-9c37-480a-8217-61e9d425c3db",
   "metadata": {},
   "outputs": [
    {
     "name": "stdout",
     "output_type": "stream",
     "text": [
      "정확도: 0.82\n"
     ]
    }
   ],
   "source": [
    "# 모델 평가하기\n",
    "\n",
    "import numpy as np\n",
    "\n",
    "predictions = model(test_images)\n",
    "predictions = predictions.numpy()\n",
    "predicted_labels = np.argmax(predictions, axis=1)\n",
    "matches = predicted_labels == test_labels\n",
    "print(f'정확도: {matches.mean():.2f}')"
   ]
  },
  {
   "cell_type": "code",
   "execution_count": null,
   "id": "e22bbfb1-72ec-4338-b130-0aebd4302d1f",
   "metadata": {},
   "outputs": [],
   "source": []
  },
  {
   "cell_type": "markdown",
   "id": "da55aeb7-fb9e-4a30-9ac5-708001fa487c",
   "metadata": {},
   "source": [
    "# 2.6 요약\n",
    "텐서: 현대 머시러닝 시스템의 기초, 텐서는 dtype, ndim, shape속성을 제공\n",
    "텐서연산: (덧셈, 텐서 곱셈, 원소별 곱셈)을 통해 수치 텐서를 조작할 수 있음. 이런 연산은 기하학적 변형을 적용하는 것으로 이해할 수 있음.\n",
    "            일반적으로 딥러닝의 모든 것은 기하학적으로 해석할 수 있음\n",
    "딥러닝 모델은 가중치 텐서를 매개변수로 받는 간단한 텐서 연산을 연결하여 구성. 모델의 가중치 값을 찾는것을 의미.\n",
    "학습: 훈련 데이터 샘플과 그에 상응하는 타깃이 주어졌을 때 손실 함수를 최소화 하는 모델의 가중치 값을 찾는것을 의미\n",
    "데이터 샘플과 타깃의 배치를 랜덤하게 뽑고 이 배치에서 모델 파라미터에 대한 손실의 그레디언트를 계산함으로써 학습이 진행된다.\n",
    "모델파라미터는 그레디언트의 반대 방향으로 조금씩(학습률에 의해 정의된 크기만큼) 움직인다. 이를 미니배치 경사 하강법이라함\n",
    "전체 학습과정은 신경망에 있는 모든 텐서 연산이 미분 가능하기 때문에 가능하다.\n",
    "따라서 현대 파라미터와 배체 데이터를 그레이디언트 값에 매핑해주는 그레이디언트 함수를 구성하기 위해 미분의 연쇄법칙을 사용할 수 있다. 이를 역전파라 함"
   ]
  },
  {
   "cell_type": "code",
   "execution_count": null,
   "id": "ccf14886-0b6c-4b41-bef7-a3c51c9fa609",
   "metadata": {},
   "outputs": [],
   "source": []
  },
  {
   "cell_type": "markdown",
   "id": "bcc333ff-37a2-408a-8394-676b8106cec2",
   "metadata": {},
   "source": [
    "# 3.5 텐서 플로 시작하기"
   ]
  },
  {
   "cell_type": "markdown",
   "id": "504ee818-c3ab-4f74-883f-ff0e1504428d",
   "metadata": {},
   "source": [
    "## 3.5.1 상수 텐서와 변수\n",
    "- 텐서플루에서 어떤 작업을 하려면 텐서가 필요함.\n",
    "- 텐서를 만드려면 초깃값이 필요함\n",
    "- ex) 모두 1이거나 0인 텐서를 만들거나, 랜덤한 분포에서 뽑은 값으로 텐서를 만들 수 있음"
   ]
  },
  {
   "cell_type": "code",
   "execution_count": 8,
   "id": "333e5690-399e-457f-9a2c-c748b8b75632",
   "metadata": {},
   "outputs": [
    {
     "name": "stdout",
     "output_type": "stream",
     "text": [
      "tf.Tensor(\n",
      "[[1.]\n",
      " [1.]], shape=(2, 1), dtype=float32)\n",
      "\n",
      "tf.Tensor(\n",
      "[[0.]\n",
      " [0.]], shape=(2, 1), dtype=float32)\n"
     ]
    }
   ],
   "source": [
    "# 3-1 모두 1 또는 0인 텐서\n",
    "import tensorflow as tf\n",
    "x = tf.ones(shape=(2,1))     # 모두 1로 채운다\n",
    "print(x)\n",
    "print()\n",
    "x = tf.zeros(shape=(2,1))    # 모두 0으로 채운다\n",
    "print(x)"
   ]
  },
  {
   "cell_type": "code",
   "execution_count": 18,
   "id": "8491f73b-32df-4276-8bd5-55c1e53389da",
   "metadata": {},
   "outputs": [
    {
     "name": "stdout",
     "output_type": "stream",
     "text": [
      "tf.Tensor(\n",
      "[[ 0.1035866]\n",
      " [ 0.9386085]\n",
      " [-1.6206743]], shape=(3, 1), dtype=float32)\n",
      "\n",
      "tf.Tensor(\n",
      "[[0.20826745]\n",
      " [0.22377706]\n",
      " [0.03635454]], shape=(3, 1), dtype=float32)\n"
     ]
    },
    {
     "data": {
      "text/plain": [
       "array([[0.34632755],\n",
       "       [0.82932956],\n",
       "       [0.70793396]])"
      ]
     },
     "execution_count": 18,
     "metadata": {},
     "output_type": "execute_result"
    }
   ],
   "source": [
    "# 3-2 랜덤텐서\n",
    "x = tf.random.normal(shape=(3,1), mean=0., stddev=1.)   # 평균이 0이고, 표준편차가 1인 정규분포에서 랜덤하게 뽑음\n",
    "print(x)\n",
    "print()\n",
    "\n",
    "x = tf.random.uniform(shape=(3,1), minval=0., maxval=1.)  # 0과 1사이의 균등분포에서 뽑은 랜덤한 값으로 만든 텐서\n",
    "print(x)\n",
    "\n",
    "import numpy as np\n",
    "np.random.uniform(size=(3,1), low=0., high=1.) # 0과 1사이의 균등분포에서 뽑은 랜덤한 값으로 만든 텐서와 같다."
   ]
  },
  {
   "cell_type": "code",
   "execution_count": 23,
   "id": "81b226b9-b5ec-45f1-b22a-c4e2e92a34f2",
   "metadata": {},
   "outputs": [
    {
     "data": {
      "text/plain": [
       "array([[0., 1.],\n",
       "       [1., 1.]])"
      ]
     },
     "execution_count": 23,
     "metadata": {},
     "output_type": "execute_result"
    }
   ],
   "source": [
    "# 3-3 넘파이 배열에 값 할당하기 \n",
    "import numpy as np\n",
    "x = np.ones(shape=(2,2))\n",
    "x[0,0]=0.\n",
    "x"
   ]
  },
  {
   "cell_type": "code",
   "execution_count": 25,
   "id": "1737a9d8-117b-4b46-bb74-78fb80e0410e",
   "metadata": {},
   "outputs": [
    {
     "ename": "TypeError",
     "evalue": "'tensorflow.python.framework.ops.EagerTensor' object does not support item assignment",
     "output_type": "error",
     "traceback": [
      "\u001b[1;31m---------------------------------------------------------------------------\u001b[0m",
      "\u001b[1;31mTypeError\u001b[0m                                 Traceback (most recent call last)",
      "Input \u001b[1;32mIn [25]\u001b[0m, in \u001b[0;36m<cell line: 3>\u001b[1;34m()\u001b[0m\n\u001b[0;32m      1\u001b[0m \u001b[38;5;66;03m# 3-4 텐서플로 텐서에 값을 할당하지 못함\u001b[39;00m\n\u001b[0;32m      2\u001b[0m x \u001b[38;5;241m=\u001b[39m tf\u001b[38;5;241m.\u001b[39mones(shape\u001b[38;5;241m=\u001b[39m(\u001b[38;5;241m2\u001b[39m,\u001b[38;5;241m2\u001b[39m))\n\u001b[1;32m----> 3\u001b[0m x[\u001b[38;5;241m0\u001b[39m,\u001b[38;5;241m0\u001b[39m]\u001b[38;5;241m=\u001b[39m\u001b[38;5;241m0.\u001b[39m\n",
      "\u001b[1;31mTypeError\u001b[0m: 'tensorflow.python.framework.ops.EagerTensor' object does not support item assignment"
     ]
    }
   ],
   "source": [
    "# 3-4 텐서플로 텐서에 값을 할당하지 못함\n",
    "x = tf.ones(shape=(2,2))\n",
    "x[0,0]=0.\n",
    "\n",
    "\n",
    "# 텐서에는 값을 할당할 수 없기 때문에 에러가 발생"
   ]
  },
  {
   "cell_type": "markdown",
   "id": "25313bcc-7555-4ab1-9a9f-3aeb544e5da5",
   "metadata": {},
   "source": [
    "넘파이 배열과 텐서플로 텐서 사이의 차이점/\n",
    "텐서플로 텐서에는 값을 할당할 수 없다./\n",
    "한번 값이 정해지면 수정할 수 없다 (튜플처럼)"
   ]
  },
  {
   "cell_type": "code",
   "execution_count": 28,
   "id": "b9a9de42-5f51-4fa6-98c5-21e729172dbd",
   "metadata": {},
   "outputs": [
    {
     "data": {
      "text/plain": [
       "<tf.Variable 'Variable:0' shape=(3, 1) dtype=float32, numpy=\n",
       "array([[-0.52321833],\n",
       "       [ 0.5378268 ],\n",
       "       [-1.069336  ]], dtype=float32)>"
      ]
     },
     "execution_count": 28,
     "metadata": {},
     "output_type": "execute_result"
    }
   ],
   "source": [
    "# 3-5 텐서플로 변수 만들기 \n",
    "# 수정 가능한 객체로 바뀌게 해주는 것: tf.Variable(업데이트, 할당 가능하게 해줌)\n",
    "v =tf.Variable(initial_value=tf.random.normal(shape=(3,1)))  # 만들어둔 객체에 v를 집어 넣음 => 객체가 바뀜\n",
    "v"
   ]
  },
  {
   "cell_type": "code",
   "execution_count": 30,
   "id": "27fa4f3d-e976-4ba9-8464-69b23549e3a6",
   "metadata": {},
   "outputs": [
    {
     "data": {
      "text/plain": [
       "<tf.Variable 'UnreadVariable' shape=(3, 1) dtype=float32, numpy=\n",
       "array([[1.],\n",
       "       [1.],\n",
       "       [1.]], dtype=float32)>"
      ]
     },
     "execution_count": 30,
     "metadata": {},
     "output_type": "execute_result"
    }
   ],
   "source": [
    "# 3-6 텐서플로 변수에 값 할당하기\n",
    "v.assign(tf.ones((3,1)))   # 변수의 상태는 assign메서드로 수정할 수 있음"
   ]
  },
  {
   "cell_type": "code",
   "execution_count": 32,
   "id": "6d958da2-0fa1-4d5f-9018-016dc583a1fa",
   "metadata": {},
   "outputs": [
    {
     "data": {
      "text/plain": [
       "<tf.Variable 'UnreadVariable' shape=(3, 1) dtype=float32, numpy=\n",
       "array([[3.],\n",
       "       [1.],\n",
       "       [1.]], dtype=float32)>"
      ]
     },
     "execution_count": 32,
     "metadata": {},
     "output_type": "execute_result"
    }
   ],
   "source": [
    "# 3-7 변수 일부에 값 할당하기\n",
    "v[0,0].assign(3.)    # 변수의 일부 원소에만 적용 가능"
   ]
  },
  {
   "cell_type": "code",
   "execution_count": 38,
   "id": "b8330df9-e2ad-4c50-a3f0-46e7869c2e45",
   "metadata": {},
   "outputs": [
    {
     "data": {
      "text/plain": [
       "<tf.Variable 'UnreadVariable' shape=(3, 1) dtype=float32, numpy=\n",
       "array([[4.],\n",
       "       [2.],\n",
       "       [2.]], dtype=float32)>"
      ]
     },
     "execution_count": 38,
     "metadata": {},
     "output_type": "execute_result"
    }
   ],
   "source": [
    "# 3-8 assign_add()사용하기\n",
    "v.assign_add(tf.ones((3,1)))\n",
    "\n",
    "# 비슷하게 assign_add()와 assign_sub()은 각 각 +=, -=과 동일하다."
   ]
  },
  {
   "cell_type": "code",
   "execution_count": 39,
   "id": "eda05b0e-6982-4693-8791-f2f88fb9b02a",
   "metadata": {},
   "outputs": [
    {
     "data": {
      "text/plain": [
       "<tf.Variable 'UnreadVariable' shape=(3, 1) dtype=float32, numpy=\n",
       "array([[3.],\n",
       "       [1.],\n",
       "       [1.]], dtype=float32)>"
      ]
     },
     "execution_count": 39,
     "metadata": {},
     "output_type": "execute_result"
    }
   ],
   "source": [
    "v.assign_sub(tf.ones((3,1)))"
   ]
  },
  {
   "cell_type": "markdown",
   "id": "ed6987c7-ba1c-4468-944e-174baca52147",
   "metadata": {},
   "source": [
    "## 3.5.2 텐서 연산: 텐서 플로에서 수학 계산하기"
   ]
  },
  {
   "cell_type": "code",
   "execution_count": 41,
   "id": "4e8dea8f-3698-434a-bca0-e1f77a5250d5",
   "metadata": {},
   "outputs": [],
   "source": [
    "# 3-9 기본적인 수학 연산\n",
    "a = tf.ones((2,2))\n",
    "b = tf.square(a)\n",
    "c = tf.sqrt(a)\n",
    "d = b+c\n",
    "e = tf.matmul(a,b)\n",
    "e*=d"
   ]
  },
  {
   "cell_type": "markdown",
   "id": "1c8782b6-0297-400c-b50e-85ab067e3572",
   "metadata": {},
   "source": [
    "## 3.5.3 GradientTape API 다시 살펴보기\n",
    "- 미분 가능한 표현이라면 어떤 입력에 대해서도 그레이디언트를 계산할 수 있다."
   ]
  },
  {
   "cell_type": "code",
   "execution_count": 64,
   "id": "d679d324-f8b1-4b64-a74f-58a4449c3f37",
   "metadata": {},
   "outputs": [
    {
     "data": {
      "text/plain": [
       "<tf.Tensor: shape=(), dtype=float32, numpy=3.0>"
      ]
     },
     "execution_count": 64,
     "metadata": {},
     "output_type": "execute_result"
    }
   ],
   "source": [
    "input_const = tf.constant(3.)\n",
    "input_const"
   ]
  },
  {
   "cell_type": "code",
   "execution_count": 73,
   "id": "dca20611-fb80-4efa-b271-129fba6602fc",
   "metadata": {},
   "outputs": [
    {
     "data": {
      "text/plain": [
       "<tf.Tensor: shape=(), dtype=float32, numpy=6.0>"
      ]
     },
     "execution_count": 73,
     "metadata": {},
     "output_type": "execute_result"
    }
   ],
   "source": [
    "# 3-10 GradientTape사용하기\n",
    "# tape.gradient()의 입력텐서가 텐서플로 변수인 경우\n",
    "input_var = tf.Variable(initial_value=3.)\n",
    "with tf.GradientTape() as tape:\n",
    "    result = tf.square(input_var)\n",
    "gradient = tape.gradient(result, input_var)   #가중치에 대한 모델 손실의 그레이디언트를 계산하는 방법\n",
    "gradient"
   ]
  },
  {
   "cell_type": "code",
   "execution_count": 66,
   "id": "f78e278b-d399-4363-b1a7-94486378447c",
   "metadata": {},
   "outputs": [
    {
     "data": {
      "text/plain": [
       "<tf.Tensor: shape=(), dtype=float32, numpy=6.0>"
      ]
     },
     "execution_count": 66,
     "metadata": {},
     "output_type": "execute_result"
    }
   ],
   "source": [
    "# 3-11 상수 텐서 입력과 함께 GradientTape 사용하기\n",
    "input_const = tf.constant(3.)\n",
    "with tf.GradientTape() as tape:\n",
    "    tape.watch(input_const)\n",
    "    result = tf.square(input_const)\n",
    "gradient = tape.gradient(result, input_const)\n",
    "gradient"
   ]
  },
  {
   "cell_type": "code",
   "execution_count": 71,
   "id": "41b25d24-5e65-4446-9cc7-740a5eb18640",
   "metadata": {},
   "outputs": [
    {
     "data": {
      "text/plain": [
       "<tf.Tensor: shape=(2, 2), dtype=float32, numpy=\n",
       "array([[9.8, 9.8],\n",
       "       [9.8, 9.8]], dtype=float32)>"
      ]
     },
     "execution_count": 71,
     "metadata": {},
     "output_type": "execute_result"
    }
   ],
   "source": [
    "# 3-12 그레이디언트 테이프를 중첩라여 이계도 그레이디언트 계산하기\n",
    "time = tf.Variable()    # (0.)자리를 10, a로 바꾸면 달라짐 해보기\n",
    "with tf.GradientTape() as outer_tape:\n",
    "    with tf.GradientTape() as inner_tape:\n",
    "        position = 4.9 * time ** 2\n",
    "    speed = inner_tape.gradient(position, time)\n",
    "acceleration = outer_tape.gradient(speed, time)\n",
    "acceleration"
   ]
  },
  {
   "cell_type": "markdown",
   "id": "4c3c015c-0907-4d4a-87e2-9637eaa911f2",
   "metadata": {},
   "source": [
    "## 3.5.4 엔드-투-엔드 예제: 텐서플로 선형 분류기\n",
    "- 선형적으로 잘 구분되는 합성 데이터 만들기\n",
    "- 2D 평면 포인트로 2개의 클래스를 가짐\n",
    "- 특정한 평균과 공분산 행렬을 가진 분포에서 좌표 값을 뽑아 각 클래스의 포인트를 생성\n",
    "- 직관적으로 생각하면 공분산 행렬은 포인트 클라우드의 형태를 결정\n",
    "- 평균은 평면에서의 위치를 나타낸다.\n",
    "- 두 포인트 클라우드는 같은 모양을 띠지만 다른 위치에 있을 것이다."
   ]
  },
  {
   "cell_type": "code",
   "execution_count": 79,
   "id": "6fe55965-521d-4929-b042-55a9ae0bb548",
   "metadata": {},
   "outputs": [],
   "source": [
    "# 3-13 2D평면에 두 클래스의 랜덤한 포인트 생성하기\n",
    "num_samples_per_class =1000\n",
    "negative_samples = np.random.multivariate_normal(\n",
    "    mean=[0, 3],\n",
    "    cov=[[1,0.5], [0.5, 1]],\n",
    "    size=num_samples_per_class)\n",
    "positive_samples =np.random.multivariate_normal(\n",
    "    mean=[3,0],\n",
    "    cov=[[1,0.5], [0.5,1]],\n",
    "    size=num_samples_per_class)"
   ]
  },
  {
   "cell_type": "code",
   "execution_count": 80,
   "id": "6287f95a-8110-43d6-9942-b4e00fec4022",
   "metadata": {},
   "outputs": [
    {
     "data": {
      "text/plain": [
       "array([[ 1.391724  ,  4.5681868 ],\n",
       "       [-1.7668972 ,  2.0883968 ],\n",
       "       [-1.1303006 ,  1.5667733 ],\n",
       "       ...,\n",
       "       [ 3.72993   ,  0.12964529],\n",
       "       [ 2.287796  ,  1.8365082 ],\n",
       "       [ 2.2010436 ,  0.24846551]], dtype=float32)"
      ]
     },
     "execution_count": 80,
     "metadata": {},
     "output_type": "execute_result"
    }
   ],
   "source": [
    "# 3-14 두 클래스를 (2000, 2)크기의 한 배열로 쌓기\n",
    "inputs = np.vstack((negative_samples, positive_samples)).astype(np.float32)\n",
    "inputs"
   ]
  },
  {
   "cell_type": "code",
   "execution_count": 84,
   "id": "dcab1323-4853-454e-99ef-5e98199277ae",
   "metadata": {},
   "outputs": [
    {
     "data": {
      "text/plain": [
       "array([[0.],\n",
       "       [0.],\n",
       "       [0.],\n",
       "       ...,\n",
       "       [1.],\n",
       "       [1.],\n",
       "       [1.]], dtype=float32)"
      ]
     },
     "execution_count": 84,
     "metadata": {},
     "output_type": "execute_result"
    }
   ],
   "source": [
    "# 3-15 (0과 1로 구성된) 타깃 생성하기\n",
    "targets = np.vstack((np.zeros((num_samples_per_class, 1), dtype=\"float32\"),\n",
    "                    np.ones((num_samples_per_class, 1), dtype=\"float32\")))\n",
    "targets"
   ]
  },
  {
   "cell_type": "code",
   "execution_count": 85,
   "id": "5a586132-beca-498e-81d0-d4c4130782af",
   "metadata": {},
   "outputs": [
    {
     "data": {
      "image/png": "[encoded data removed]",
      "text/plain": [
       "<Figure size 432x288 with 1 Axes>"
      ]
     },
     "metadata": {
      "needs_background": "light"
     },
     "output_type": "display_data"
    }
   ],
   "source": [
    "# 3-16 두 클래스의 포인트를 그래프로 그리기\n",
    "import matplotlib.pyplot as plt\n",
    "\n",
    "plt.scatter(inputs[:,0], inputs[:,1], c=targets[:, 0])\n",
    "plt.show()"
   ]
  },
  {
   "cell_type": "code",
   "execution_count": 87,
   "id": "56db6975-cf26-4e28-9382-707d11d4027a",
   "metadata": {},
   "outputs": [],
   "source": [
    "# 3-17 선형 분류기의 변수 만들기\n",
    "input_dim =2\n",
    "output_dim =1\n",
    "W = tf.Variable(initial_value = tf.random.uniform(shape=(input_dim, output_dim)))\n",
    "b = tf.Variable(initial_value= tf.zeros(shape=(output_dim,)))"
   ]
  },
  {
   "cell_type": "code",
   "execution_count": 88,
   "id": "0f9985c3-9c5d-490a-8e35-d596c56bda6d",
   "metadata": {},
   "outputs": [],
   "source": [
    "# 3-18 정방향 패스 함수\n",
    "def model(inputs):\n",
    "    return tf.matmul(inputs, W)+b"
   ]
  },
  {
   "cell_type": "code",
   "execution_count": 89,
   "id": "c0d075ce-e9f7-4843-8768-ef698f86b31f",
   "metadata": {},
   "outputs": [],
   "source": [
    "# 3-19 평균 제곱 오차 손실 함수\n",
    "def square_loss(targets, predictions):\n",
    "    per_sample_losses = tf.square(targets - predictions)\n",
    "    return tf.reduce_mean(per_sample_losses)"
   ]
  },
  {
   "cell_type": "code",
   "execution_count": 90,
   "id": "6c95a0a9-0554-4690-8fe7-075a1e63c145",
   "metadata": {},
   "outputs": [],
   "source": [
    "# 3-20 훈련 스텝 함수\n",
    "learning_rate = 0.1\n",
    "def trainging_step(inputs, targets):\n",
    "    with tf.GradientTape() as tape:\n",
    "        predictions = model(inputs)\n",
    "        loss = square_loss(targets, predictions)\n",
    "    grad_loss_wrt_W, grad_loss_wrt_b = tape.gradient(loss, [W,b])\n",
    "    W.assign_sub(grad_loss_wrt_W * learning_rate)\n",
    "    b.assign_sub(grad_loss_wrt_b * learning_rate)\n",
    "    return loss"
   ]
  },
  {
   "cell_type": "code",
   "execution_count": 92,
   "id": "56996308-ef32-464f-9b6c-074ce1b949af",
   "metadata": {},
   "outputs": [
    {
     "name": "stdout",
     "output_type": "stream",
     "text": [
      "0번째 스텝의 손실: 1.0513\n",
      "1번째 스텝의 손실: 0.1036\n",
      "2번째 스텝의 손실: 0.0884\n",
      "3번째 스텝의 손실: 0.0819\n",
      "4번째 스텝의 손실: 0.0768\n",
      "5번째 스텝의 손실: 0.0723\n",
      "6번째 스텝의 손실: 0.0682\n",
      "7번째 스텝의 손실: 0.0644\n",
      "8번째 스텝의 손실: 0.0609\n",
      "9번째 스텝의 손실: 0.0578\n",
      "10번째 스텝의 손실: 0.0549\n",
      "11번째 스텝의 손실: 0.0523\n",
      "12번째 스텝의 손실: 0.0499\n",
      "13번째 스텝의 손실: 0.0477\n",
      "14번째 스텝의 손실: 0.0457\n",
      "15번째 스텝의 손실: 0.0438\n",
      "16번째 스텝의 손실: 0.0422\n",
      "17번째 스텝의 손실: 0.0406\n",
      "18번째 스텝의 손실: 0.0392\n",
      "19번째 스텝의 손실: 0.0380\n",
      "20번째 스텝의 손실: 0.0368\n",
      "21번째 스텝의 손실: 0.0358\n",
      "22번째 스텝의 손실: 0.0348\n",
      "23번째 스텝의 손실: 0.0339\n",
      "24번째 스텝의 손실: 0.0331\n",
      "25번째 스텝의 손실: 0.0324\n",
      "26번째 스텝의 손실: 0.0317\n",
      "27번째 스텝의 손실: 0.0311\n",
      "28번째 스텝의 손실: 0.0305\n",
      "29번째 스텝의 손실: 0.0300\n",
      "30번째 스텝의 손실: 0.0295\n",
      "31번째 스텝의 손실: 0.0291\n",
      "32번째 스텝의 손실: 0.0287\n",
      "33번째 스텝의 손실: 0.0283\n",
      "34번째 스텝의 손실: 0.0280\n",
      "35번째 스텝의 손실: 0.0277\n",
      "36번째 스텝의 손실: 0.0275\n",
      "37번째 스텝의 손실: 0.0272\n",
      "38번째 스텝의 손실: 0.0270\n",
      "39번째 스텝의 손실: 0.0268\n"
     ]
    }
   ],
   "source": [
    "# 3-21 배치 훈련 루프\n",
    "for step in range(40):\n",
    "    loss = trainging_step(inputs, targets)\n",
    "    print(f\"{step}번째 스텝의 손실: {loss:.4f}\")"
   ]
  },
  {
   "cell_type": "code",
   "execution_count": 93,
   "id": "f8a8f142-0a07-4562-b6de-f4e267f8b229",
   "metadata": {},
   "outputs": [
    {
     "data": {
      "text/plain": [
       "<function matplotlib.pyplot.show(close=None, block=None)>"
      ]
     },
     "execution_count": 93,
     "metadata": {},
     "output_type": "execute_result"
    },
    {
     "data": {
      "image/png": "[encoded data removed]",
      "text/plain": [
       "<Figure size 432x288 with 1 Axes>"
      ]
     },
     "metadata": {
      "needs_background": "light"
     },
     "output_type": "display_data"
    }
   ],
   "source": [
    "predictions = model(inputs)\n",
    "plt.scatter(inputs[:, 0], inputs[:, 1], c=predictions[:, 0] > 0.5)\n",
    "plt.show"
   ]
  },
  {
   "cell_type": "code",
   "execution_count": 94,
   "id": "1b6fd9bf-fbb6-4adf-8a50-0193971d3bff",
   "metadata": {},
   "outputs": [
    {
     "data": {
      "text/plain": [
       "<function matplotlib.pyplot.show(close=None, block=None)>"
      ]
     },
     "execution_count": 94,
     "metadata": {},
     "output_type": "execute_result"
    },
    {
     "data": {
      "image/png": "[encoded data removed]",
      "text/plain": [
       "<Figure size 432x288 with 1 Axes>"
      ]
     },
     "metadata": {
      "needs_background": "light"
     },
     "output_type": "display_data"
    }
   ],
   "source": [
    "# 직선 그리기\n",
    "x = np.linspace(-1, 4, 100) # 직선을 그리기 위해 -1~4 사이에 일정한 간격을 가진 100개의 숫자를 생성\n",
    "y = -W[0] / W[1] * x + (0.5 -b) / W[1]\n",
    "plt.plot(x, y, \"-r\")  #\"-r\"은 빨간색 \n",
    "plt.scatter(inputs[:, 0], inputs[:, 1], c= predictions[:, 0] > 0.5)\n",
    "plt.show"
   ]
  },
  {
   "cell_type": "markdown",
   "id": "ce1e8581-5d07-4cbb-9e2a-9d577bdc1fb6",
   "metadata": {},
   "source": [
    "# 3.6 신경망의 구조: 핵심 Keras API 이해하기"
   ]
  },
  {
   "cell_type": "markdown",
   "id": "e3d3f215-aaef-4858-97da-62dd1f0b4082",
   "metadata": {},
   "source": [
    "## 3.6.1 층 : 딥러닝의 구성요소\n",
    "- 층은 하나 이상의 텐서를 입력으로 받고 하나 이상의 텐서를 출력하는 데이터 처리 모듈\n",
    "- 가중치, 밀집연결층, 완전연결층, 밀집층, 순환층, 합성곱층\n",
    "- 케라스에서 딥러닝 모델을 만드는 것은 호환되는 층을 서로 연결하여 유용한 데이터 변환 파이프라인을 구성하는 것"
   ]
  },
  {
   "cell_type": "code",
   "execution_count": 95,
   "id": "6013df75-d699-4221-9ace-1dd56333a3db",
   "metadata": {},
   "outputs": [],
   "source": [
    "### 케라스의 Layer 클래스"
   ]
  },
  {
   "cell_type": "code",
   "execution_count": 101,
   "id": "f6f7b0cd-ac93-4318-bb59-d8d40ef876a6",
   "metadata": {},
   "outputs": [],
   "source": [
    "# 3-22 Layer의 서브 클래스로 구현한 Dense층\n",
    "from tensorflow import keras\n",
    "\n",
    "class SimpleDense(keras.layers.Layer):   # 모든 케라스는 Layer클래스를 상속\n",
    "    def __init__(self, units, activations=None):\n",
    "        super().__init__()\n",
    "        self.units =units\n",
    "        self.activations = activations\n",
    "        \n",
    "    def build(self, input_shape):\n",
    "        input_dim = input_shape[-1]\n",
    "        self.W = self.add_weight(shape=(input_dim, self.units),\n",
    "                                initializer=\"random_normal\")\n",
    "        self.b = self.add_weight(shape=(self.units,),\n",
    "                                initializer=\"zeros\")\n",
    "        \n",
    "    def call(self, inputs):\n",
    "        y= tf.matmul(inputs, self.W)+self.b\n",
    "        if self.activations is not None:\n",
    "            y = self.activations(y)\n",
    "        return y"
   ]
  },
  {
   "cell_type": "code",
   "execution_count": 102,
   "id": "0ad5c8bb-3ed5-4571-ae82-53030c204b57",
   "metadata": {},
   "outputs": [
    {
     "name": "stdout",
     "output_type": "stream",
     "text": [
      "(2, 32)\n"
     ]
    }
   ],
   "source": [
    "# 클래스의 인스턴스를 생성하면 텐서플로 텐서를 입력으로 받는 함수처럼 사용할 수 있음\n",
    "my_dense = SimpleDense(units=32, activations= tf.nn.relu)\n",
    "input_tensor = tf.ones(shape=(2, 784))\n",
    "output_tensor = my_dense(input_tensor)\n",
    "print(output_tensor.shape)"
   ]
  },
  {
   "cell_type": "code",
   "execution_count": null,
   "id": "1471bee9-46f1-437e-ae3f-9cee39f403d6",
   "metadata": {},
   "outputs": [],
   "source": [
    "이 층을 있는 그대로 호출 했기 때문에, 다시 말해서 __call__()메서드를 사용해 호출했기 때문에\n",
    "call()과 build()메서드를 왜 구현해야 하는지 궁금?\n",
    "이유: 때에 맞추어 가중치를 생성해야 하기 때문."
   ]
  },
  {
   "cell_type": "markdown",
   "id": "e17a4347-c936-4be8-8ee4-a8cbda994c3e",
   "metadata": {},
   "source": [
    "### 자동 크기 추론: 동적으로 층 만들기"
   ]
  },
  {
   "cell_type": "code",
   "execution_count": 103,
   "id": "311bcca1-dcf3-4fed-83b8-6af8e069984d",
   "metadata": {},
   "outputs": [],
   "source": [
    "from tensorflow.keras import layers\n",
    "layer = layers.Dense(32, activation =\"relu\")"
   ]
  },
  {
   "cell_type": "code",
   "execution_count": 104,
   "id": "f232bc50-1671-46ca-a00d-912448873235",
   "metadata": {},
   "outputs": [],
   "source": [
    "from tensorflow.keras import models\n",
    "from tensorflow.keras import layers\n",
    "\n",
    "model = models.Sequential([\n",
    "    layers.Dense(32, activation=\"relu\"),\n",
    "    layers.Dense(32)\n",
    "])"
   ]
  },
  {
   "cell_type": "code",
   "execution_count": 106,
   "id": "08a99b23-2670-4f2a-ab34-9674c59e6119",
   "metadata": {},
   "outputs": [
    {
     "ename": "NameError",
     "evalue": "name 'NaiveSequential' is not defined",
     "output_type": "error",
     "traceback": [
      "\u001b[1;31m---------------------------------------------------------------------------\u001b[0m",
      "\u001b[1;31mNameError\u001b[0m                                 Traceback (most recent call last)",
      "Input \u001b[1;32mIn [106]\u001b[0m, in \u001b[0;36m<cell line: 1>\u001b[1;34m()\u001b[0m\n\u001b[1;32m----> 1\u001b[0m model\u001b[38;5;241m=\u001b[39m \u001b[43mNaiveSequential\u001b[49m([\n\u001b[0;32m      2\u001b[0m     NaiveDense(input_size \u001b[38;5;241m=\u001b[39m \u001b[38;5;241m784\u001b[39m, output_size \u001b[38;5;241m=\u001b[39m \u001b[38;5;241m32\u001b[39m, activation \u001b[38;5;241m=\u001b[39m \u001b[38;5;124m\"\u001b[39m\u001b[38;5;124mrelu\u001b[39m\u001b[38;5;124m\"\u001b[39m),\n\u001b[0;32m      3\u001b[0m     NaiveDense(input_size \u001b[38;5;241m=\u001b[39m \u001b[38;5;241m32\u001b[39m, output_size \u001b[38;5;241m=\u001b[39m \u001b[38;5;241m64\u001b[39m, activation \u001b[38;5;241m=\u001b[39m \u001b[38;5;124m\"\u001b[39m\u001b[38;5;124mrelu\u001b[39m\u001b[38;5;124m\"\u001b[39m),\n\u001b[0;32m      4\u001b[0m     NaiveDense(input_size \u001b[38;5;241m=\u001b[39m \u001b[38;5;241m64\u001b[39m, output_size \u001b[38;5;241m=\u001b[39m \u001b[38;5;241m32\u001b[39m, activation \u001b[38;5;241m=\u001b[39m \u001b[38;5;124m\"\u001b[39m\u001b[38;5;124mrelu\u001b[39m\u001b[38;5;124m\"\u001b[39m),\n\u001b[0;32m      5\u001b[0m     NaiveDense(input_size \u001b[38;5;241m=\u001b[39m \u001b[38;5;241m32\u001b[39m, output_size \u001b[38;5;241m=\u001b[39m \u001b[38;5;241m10\u001b[39m, activation \u001b[38;5;241m=\u001b[39m \u001b[38;5;124m\"\u001b[39m\u001b[38;5;124msoftmax\u001b[39m\u001b[38;5;124m\"\u001b[39m),\n\u001b[0;32m      6\u001b[0m ])\n",
      "\u001b[1;31mNameError\u001b[0m: name 'NaiveSequential' is not defined"
     ]
    }
   ],
   "source": [
    "model= NaiveSequential([\n",
    "    NaiveDense(input_size = 784, output_size = 32, activation = \"relu\"),\n",
    "    NaiveDense(input_size = 32, output_size = 64, activation = \"relu\"),\n",
    "    NaiveDense(input_size = 64, output_size = 32, activation = \"relu\"),\n",
    "    NaiveDense(input_size = 32, output_size = 10, activation = \"softmax\"),\n",
    "])"
   ]
  },
  {
   "cell_type": "code",
   "execution_count": null,
   "id": "cedbe7cc-e118-4521-b5f8-363801e1082e",
   "metadata": {},
   "outputs": [],
   "source": []
  },
  {
   "cell_type": "code",
   "execution_count": null,
   "id": "b0e5a4f7-1f6d-44f3-bb24-6e3dabc8808c",
   "metadata": {},
   "outputs": [],
   "source": []
  },
  {
   "cell_type": "markdown",
   "id": "87f1fd9f-662d-4fdc-a80a-9f051619baa0",
   "metadata": {},
   "source": [
    "# 4장 신경망 시작하기: 분류와 회귀"
   ]
  },
  {
   "cell_type": "markdown",
   "id": "570816f2-51d9-4ab5-976c-a05f7857474d",
   "metadata": {},
   "source": [
    "## 4.1 영화 리뷰 분류: 이진 분류 문제"
   ]
  },
  {
   "cell_type": "markdown",
   "id": "80fcad04-b511-4327-b4e2-6e9aecb0afa8",
   "metadata": {},
   "source": [
    "## 4.1.4 IMDB 데이터셋"
   ]
  },
  {
   "cell_type": "code",
   "execution_count": 1,
   "id": "da088c59-ca9d-454a-9e1b-762415663df9",
   "metadata": {},
   "outputs": [],
   "source": [
    "# 4-1 IMDB데이터셋 로드\n",
    "from tensorflow.keras.datasets import imdb\n",
    "(train_data, train_labels), (test_data, test_labels) = imdb.load_data(num_words = 10000)"
   ]
  },
  {
   "cell_type": "code",
   "execution_count": 2,
   "id": "1e467fd0-8b0a-4a3f-b46f-1555e3a9be86",
   "metadata": {},
   "outputs": [],
   "source": [
    "# num_words=1000 매개변수는 훈련 데이터에서 가장 자주 나타나는 단어 1만개 사용하겠다.\n",
    "# 드물게 나타나는 단어는 무시\n",
    "# 부정:0, 긍정:1"
   ]
  },
  {
   "cell_type": "code",
   "execution_count": 3,
   "id": "5251a622-598e-48a3-981e-af5901f1fbca",
   "metadata": {
    "collapsed": true,
    "jupyter": {
     "outputs_hidden": true
    },
    "tags": []
   },
   "outputs": [
    {
     "data": {
      "text/plain": [
       "[1,\n",
       " 14,\n",
       " 22,\n",
       " 16,\n",
       " 43,\n",
       " 530,\n",
       " 973,\n",
       " 1622,\n",
       " 1385,\n",
       " 65,\n",
       " 458,\n",
       " 4468,\n",
       " 66,\n",
       " 3941,\n",
       " 4,\n",
       " 173,\n",
       " 36,\n",
       " 256,\n",
       " 5,\n",
       " 25,\n",
       " 100,\n",
       " 43,\n",
       " 838,\n",
       " 112,\n",
       " 50,\n",
       " 670,\n",
       " 2,\n",
       " 9,\n",
       " 35,\n",
       " 480,\n",
       " 284,\n",
       " 5,\n",
       " 150,\n",
       " 4,\n",
       " 172,\n",
       " 112,\n",
       " 167,\n",
       " 2,\n",
       " 336,\n",
       " 385,\n",
       " 39,\n",
       " 4,\n",
       " 172,\n",
       " 4536,\n",
       " 1111,\n",
       " 17,\n",
       " 546,\n",
       " 38,\n",
       " 13,\n",
       " 447,\n",
       " 4,\n",
       " 192,\n",
       " 50,\n",
       " 16,\n",
       " 6,\n",
       " 147,\n",
       " 2025,\n",
       " 19,\n",
       " 14,\n",
       " 22,\n",
       " 4,\n",
       " 1920,\n",
       " 4613,\n",
       " 469,\n",
       " 4,\n",
       " 22,\n",
       " 71,\n",
       " 87,\n",
       " 12,\n",
       " 16,\n",
       " 43,\n",
       " 530,\n",
       " 38,\n",
       " 76,\n",
       " 15,\n",
       " 13,\n",
       " 1247,\n",
       " 4,\n",
       " 22,\n",
       " 17,\n",
       " 515,\n",
       " 17,\n",
       " 12,\n",
       " 16,\n",
       " 626,\n",
       " 18,\n",
       " 2,\n",
       " 5,\n",
       " 62,\n",
       " 386,\n",
       " 12,\n",
       " 8,\n",
       " 316,\n",
       " 8,\n",
       " 106,\n",
       " 5,\n",
       " 4,\n",
       " 2223,\n",
       " 5244,\n",
       " 16,\n",
       " 480,\n",
       " 66,\n",
       " 3785,\n",
       " 33,\n",
       " 4,\n",
       " 130,\n",
       " 12,\n",
       " 16,\n",
       " 38,\n",
       " 619,\n",
       " 5,\n",
       " 25,\n",
       " 124,\n",
       " 51,\n",
       " 36,\n",
       " 135,\n",
       " 48,\n",
       " 25,\n",
       " 1415,\n",
       " 33,\n",
       " 6,\n",
       " 22,\n",
       " 12,\n",
       " 215,\n",
       " 28,\n",
       " 77,\n",
       " 52,\n",
       " 5,\n",
       " 14,\n",
       " 407,\n",
       " 16,\n",
       " 82,\n",
       " 2,\n",
       " 8,\n",
       " 4,\n",
       " 107,\n",
       " 117,\n",
       " 5952,\n",
       " 15,\n",
       " 256,\n",
       " 4,\n",
       " 2,\n",
       " 7,\n",
       " 3766,\n",
       " 5,\n",
       " 723,\n",
       " 36,\n",
       " 71,\n",
       " 43,\n",
       " 530,\n",
       " 476,\n",
       " 26,\n",
       " 400,\n",
       " 317,\n",
       " 46,\n",
       " 7,\n",
       " 4,\n",
       " 2,\n",
       " 1029,\n",
       " 13,\n",
       " 104,\n",
       " 88,\n",
       " 4,\n",
       " 381,\n",
       " 15,\n",
       " 297,\n",
       " 98,\n",
       " 32,\n",
       " 2071,\n",
       " 56,\n",
       " 26,\n",
       " 141,\n",
       " 6,\n",
       " 194,\n",
       " 7486,\n",
       " 18,\n",
       " 4,\n",
       " 226,\n",
       " 22,\n",
       " 21,\n",
       " 134,\n",
       " 476,\n",
       " 26,\n",
       " 480,\n",
       " 5,\n",
       " 144,\n",
       " 30,\n",
       " 5535,\n",
       " 18,\n",
       " 51,\n",
       " 36,\n",
       " 28,\n",
       " 224,\n",
       " 92,\n",
       " 25,\n",
       " 104,\n",
       " 4,\n",
       " 226,\n",
       " 65,\n",
       " 16,\n",
       " 38,\n",
       " 1334,\n",
       " 88,\n",
       " 12,\n",
       " 16,\n",
       " 283,\n",
       " 5,\n",
       " 16,\n",
       " 4472,\n",
       " 113,\n",
       " 103,\n",
       " 32,\n",
       " 15,\n",
       " 16,\n",
       " 5345,\n",
       " 19,\n",
       " 178,\n",
       " 32]"
      ]
     },
     "execution_count": 3,
     "metadata": {},
     "output_type": "execute_result"
    }
   ],
   "source": [
    "train_data[0]"
   ]
  },
  {
   "cell_type": "code",
   "execution_count": 4,
   "id": "f58ab797-e4f0-433f-a77f-0a16d4306b62",
   "metadata": {},
   "outputs": [
    {
     "data": {
      "text/plain": [
       "1"
      ]
     },
     "execution_count": 4,
     "metadata": {},
     "output_type": "execute_result"
    }
   ],
   "source": [
    "train_labels[0]"
   ]
  },
  {
   "cell_type": "code",
   "execution_count": 5,
   "id": "6d3f0a69-be6d-4114-ac6f-b8200c4a3aa2",
   "metadata": {},
   "outputs": [
    {
     "data": {
      "text/plain": [
       "9999"
      ]
     },
     "execution_count": 5,
     "metadata": {},
     "output_type": "execute_result"
    }
   ],
   "source": [
    "# 가장 자주 등장하는 단어 1만개로 제한했기 때문에 단어인덱스는 9,999개를 넘지 않음\n",
    "max([max(sequence) for sequence in train_data])"
   ]
  },
  {
   "cell_type": "code",
   "execution_count": 6,
   "id": "dd02253d-0ad0-4610-acd7-6b33ca47d36c",
   "metadata": {},
   "outputs": [],
   "source": [
    "# 4-2 리뷰를 다시 텍스트로 디코딩\n",
    "word_index = imdb.get_word_index()\n",
    "reverse_word_indx = dict(\n",
    "    [(value, key) for (key, value) in word_index.items()])\n",
    "decorded_review=  \" \".join(\n",
    "    [reverse_word_indx.get(i -3, \"?\") for i in train_data[0]])\n",
    "# 0,1,2는 '패딩', '문서시작', '사전에 없음'"
   ]
  },
  {
   "cell_type": "markdown",
   "id": "703422e9-eeb1-40ad-a2e5-5ded7fbc0c92",
   "metadata": {},
   "source": [
    "## 4.1.2 데이터 준비\n",
    "- 신결망에 숫자를 바로 주입할 수 없음 숫자 리스트는 모두 길이가 다르지만 신경망은 동일한 크기의 배치를 기대하기 때문\n",
    "- 리스트를 텐서로 바꾸는 두가지 방법\n",
    "- 1. 같은 길이가 되도록 리스트 패딩을 추가, 크기의 정수 텐서로 변환, 그 다음 이 정수 텐서를 다룰 수 있는 층으로 신경망을 시작\n",
    "- 2. 리스트를 멀티-핫인코딩 하여 0과1의 벡터로 변환."
   ]
  },
  {
   "cell_type": "code",
   "execution_count": 7,
   "id": "02a67bf1-f543-41c8-85c8-bb3be0dfa6cd",
   "metadata": {},
   "outputs": [],
   "source": [
    "## 4-3 정수 시퀀스를 멀티-핫 인코딩으로 인코딩\n",
    "import numpy as np\n",
    "\n",
    "def vectorize_sequences(sequences, dimension=10000):\n",
    "    results = np.zeros((len(sequences), dimension))\n",
    "    for i, sequence in enumerate(sequences):\n",
    "        for j in sequence:\n",
    "            results[i,j] = 1.\n",
    "    return results\n",
    "x_train = vectorize_sequences(train_data)\n",
    "x_test = vectorize_sequences(test_data)"
   ]
  },
  {
   "cell_type": "code",
   "execution_count": 8,
   "id": "fe2729cd-fac9-4707-9c9e-b26f8d39e87b",
   "metadata": {},
   "outputs": [
    {
     "data": {
      "text/plain": [
       "array([0., 1., 1., ..., 0., 0., 0.])"
      ]
     },
     "execution_count": 8,
     "metadata": {},
     "output_type": "execute_result"
    }
   ],
   "source": [
    "x_train[0]"
   ]
  },
  {
   "cell_type": "code",
   "execution_count": 9,
   "id": "db467c2e-f30a-45fb-8b3b-6b192e89a95e",
   "metadata": {},
   "outputs": [],
   "source": [
    "# 레이블을 벡터로 바꾸기\n",
    "y_train = np.asarray(train_labels).astype(\"float32\")\n",
    "y_test = np.asarray(test_labels).astype(\"float32\")"
   ]
  },
  {
   "cell_type": "markdown",
   "id": "41d4a19d-dd3d-492d-b48b-92889c636467",
   "metadata": {},
   "source": [
    "## 4.1.3 신경망 모델 만들기\n",
    "- 입력 데이터가 벡터고 레이블은 스칼라(1 또는 0)\n",
    "- 문제에 잘 작동하는 모델은 relu활성화 함수를 사용한 밀집 연결 층을 잘 쌓은 것임\n",
    "- Dense 층 쌓을 때 중요한 두가지 \n",
    "- 1. 얼마나 많은 층을 사용할 것인가?\n",
    "- 2. 각 층에 얼마나 많은 유닛을 둘 것인가?"
   ]
  },
  {
   "cell_type": "markdown",
   "id": "3abf35c6-d87f-45d8-a342-9dfca69e8e3f",
   "metadata": {},
   "source": [
    "- 문제\n",
    "- 16개의 유닛을 가진 2개의 중간 층\n",
    "- 현재 리뷰의 감정을 스칼라 값의 예측으로 출력하는 세번째 층"
   ]
  },
  {
   "cell_type": "code",
   "execution_count": 10,
   "id": "fceaaf1f-5454-440b-b6a7-6bd4581afa06",
   "metadata": {},
   "outputs": [],
   "source": [
    "# 4-4 모델 정의하기\n",
    "from tensorflow import keras\n",
    "from tensorflow.keras import layers\n",
    "model = keras.Sequential([\n",
    "    layers.Dense(units = 16, activation = \"relu\"),\n",
    "    layers.Dense(units = 16, activation = \"relu\"),\n",
    "    layers.Dense(units = 1, activation = \"sigmoid\"),\n",
    "])\n",
    "\n",
    "# Dense층에 전달한 첫번째 매개변수는 층의 유닛개수이며, 층이 가진 표현 공간의 차원이다."
   ]
  },
  {
   "cell_type": "markdown",
   "id": "97a6fbba-ab68-4d85-8197-88792b84b72d",
   "metadata": {},
   "source": [
    "# 렐루함수 f(x)=h(x)\n",
    "f(x) = x (x > 0)\n",
    "     = x (x <= 0)\n",
    "    \n",
    "# 시그모이드 함수 \n",
    "sigmoid(x) =1/(1+e)-x\n",
    "e=2.7"
   ]
  },
  {
   "cell_type": "markdown",
   "id": "31aa6bc8-9503-4a05-8b7e-65a84c864f60",
   "metadata": {},
   "source": [
    "# 활성화 함숙가 필요한 이유\n",
    "relu와 같은 활성화 함수(비선형(non-linearity)함수)가 없다면 Dense층은 선형적안 연산인 점곱과 덧셈 2개로 구성\n",
    "# output= relu(dot(w,input)+b)\n",
    "그러므로 이 층은 입력에 대한 아핀만 학습할 수 있음"
   ]
  },
  {
   "cell_type": "code",
   "execution_count": 11,
   "id": "ef29d421-68c6-4162-aabd-1d699749855a",
   "metadata": {},
   "outputs": [],
   "source": [
    "## 4-5모델 컴파일 하기\n",
    "# rmsprop옵티마이저와 binary_crossentropy손실 함수로 모델을 설정\n",
    "model.compile(optimizer=\"rmsprop\",\n",
    "             loss= \"binary_crossentropy\",\n",
    "             metrics=[\"accuracy\"])"
   ]
  },
  {
   "cell_type": "code",
   "execution_count": 12,
   "id": "587e68ca-212c-4ed5-bff4-a2dd8894ab55",
   "metadata": {},
   "outputs": [],
   "source": [
    "## 4.1.4 훈련 검증"
   ]
  },
  {
   "cell_type": "code",
   "execution_count": 13,
   "id": "9cdd0968-13a5-43cd-8894-c8386f92ec7a",
   "metadata": {},
   "outputs": [],
   "source": [
    "# 512개의 샘플씩 미니 배치를 만들어 20번의 에포크 동안 모델을 훈련시킴(훈련 데이터에 있는 모든 샘플에 대해 20번 반복)"
   ]
  },
  {
   "cell_type": "code",
   "execution_count": 14,
   "id": "75816711-891a-4008-9641-2488aa2daf90",
   "metadata": {},
   "outputs": [],
   "source": [
    "# 훈련검증 4-6\n",
    "x_val = x_train[:10000]\n",
    "partial_x_train = x_train[10000:]\n",
    "y_val= y_train[:10000]\n",
    "partial_y_train = y_train[10000:]"
   ]
  },
  {
   "cell_type": "code",
   "execution_count": 15,
   "id": "26f4aa22-e5c8-42ab-98d4-8af2def5b27c",
   "metadata": {
    "collapsed": true,
    "jupyter": {
     "outputs_hidden": true
    },
    "tags": []
   },
   "outputs": [
    {
     "name": "stdout",
     "output_type": "stream",
     "text": [
      "Epoch 1/20\n",
      "30/30 [==============================] - 2s 24ms/step - loss: 0.5416 - accuracy: 0.7723 - val_loss: 0.4058 - val_accuracy: 0.8624\n",
      "Epoch 2/20\n",
      "30/30 [==============================] - 0s 13ms/step - loss: 0.3242 - accuracy: 0.9004 - val_loss: 0.3322 - val_accuracy: 0.8736\n",
      "Epoch 3/20\n",
      "30/30 [==============================] - 0s 12ms/step - loss: 0.2367 - accuracy: 0.9263 - val_loss: 0.2844 - val_accuracy: 0.8889\n",
      "Epoch 4/20\n",
      "30/30 [==============================] - 0s 12ms/step - loss: 0.1860 - accuracy: 0.9404 - val_loss: 0.2778 - val_accuracy: 0.8888\n",
      "Epoch 5/20\n",
      "30/30 [==============================] - 0s 12ms/step - loss: 0.1488 - accuracy: 0.9540 - val_loss: 0.2869 - val_accuracy: 0.8835\n",
      "Epoch 6/20\n",
      "30/30 [==============================] - 0s 12ms/step - loss: 0.1212 - accuracy: 0.9613 - val_loss: 0.2996 - val_accuracy: 0.8859\n",
      "Epoch 7/20\n",
      "30/30 [==============================] - 0s 12ms/step - loss: 0.0978 - accuracy: 0.9697 - val_loss: 0.3159 - val_accuracy: 0.8806\n",
      "Epoch 8/20\n",
      "30/30 [==============================] - 0s 12ms/step - loss: 0.0791 - accuracy: 0.9779 - val_loss: 0.3603 - val_accuracy: 0.8793\n",
      "Epoch 9/20\n",
      "30/30 [==============================] - 0s 13ms/step - loss: 0.0673 - accuracy: 0.9819 - val_loss: 0.3601 - val_accuracy: 0.8767\n",
      "Epoch 10/20\n",
      "30/30 [==============================] - 0s 12ms/step - loss: 0.0559 - accuracy: 0.9860 - val_loss: 0.4011 - val_accuracy: 0.8692\n",
      "Epoch 11/20\n",
      "30/30 [==============================] - 0s 12ms/step - loss: 0.0449 - accuracy: 0.9905 - val_loss: 0.4116 - val_accuracy: 0.8764\n",
      "Epoch 12/20\n",
      "30/30 [==============================] - 0s 12ms/step - loss: 0.0384 - accuracy: 0.9917 - val_loss: 0.4360 - val_accuracy: 0.8742\n",
      "Epoch 13/20\n",
      "30/30 [==============================] - 0s 12ms/step - loss: 0.0293 - accuracy: 0.9943 - val_loss: 0.4668 - val_accuracy: 0.8747\n",
      "Epoch 14/20\n",
      "30/30 [==============================] - 0s 12ms/step - loss: 0.0236 - accuracy: 0.9958 - val_loss: 0.4965 - val_accuracy: 0.8689\n",
      "Epoch 15/20\n",
      "30/30 [==============================] - 0s 12ms/step - loss: 0.0159 - accuracy: 0.9984 - val_loss: 0.5430 - val_accuracy: 0.8650\n",
      "Epoch 16/20\n",
      "30/30 [==============================] - 0s 12ms/step - loss: 0.0166 - accuracy: 0.9966 - val_loss: 0.5624 - val_accuracy: 0.8674\n",
      "Epoch 17/20\n",
      "30/30 [==============================] - 0s 12ms/step - loss: 0.0137 - accuracy: 0.9972 - val_loss: 0.5966 - val_accuracy: 0.8686\n",
      "Epoch 18/20\n",
      "30/30 [==============================] - 0s 12ms/step - loss: 0.0082 - accuracy: 0.9989 - val_loss: 0.6360 - val_accuracy: 0.8606\n",
      "Epoch 19/20\n",
      "30/30 [==============================] - 0s 13ms/step - loss: 0.0079 - accuracy: 0.9992 - val_loss: 0.6897 - val_accuracy: 0.8665\n",
      "Epoch 20/20\n",
      "30/30 [==============================] - 0s 11ms/step - loss: 0.0041 - accuracy: 0.9999 - val_loss: 0.7069 - val_accuracy: 0.8678\n"
     ]
    }
   ],
   "source": [
    "# 4-7 모델 훈련하기\n",
    "history = model.fit(partial_x_train,\n",
    "                   partial_y_train,\n",
    "                   epochs=20,\n",
    "                   batch_size=512,\n",
    "                   validation_data=(x_val, y_val))"
   ]
  },
  {
   "cell_type": "code",
   "execution_count": 16,
   "id": "daed9385-8482-4443-b64f-3b4a44a47397",
   "metadata": {},
   "outputs": [
    {
     "data": {
      "image/png": "[encoded data removed]",
      "text/plain": [
       "<Figure size 432x288 with 1 Axes>"
      ]
     },
     "metadata": {
      "needs_background": "light"
     },
     "output_type": "display_data"
    }
   ],
   "source": [
    "# 4-8 훈련과 검증 손실 그리기\n",
    "import matplotlib.pyplot as plt\n",
    "\n",
    "history_dict = history.history\n",
    "loss_values = history_dict[\"loss\"]\n",
    "val_loss_values = history_dict[\"val_loss\"]\n",
    "epochs = range(1, len(loss_values) + 1)\n",
    "plt.plot(epochs, loss_values, \"bo\", label=\"Training loss\")\n",
    "plt.plot(epochs, val_loss_values, \"b\", label=\"Validation loss\")\n",
    "plt.title(\"Training and validation loss\")\n",
    "plt.xlabel(\"Epochs\")\n",
    "plt.ylabel(\"Loss\")\n",
    "plt.legend()\n",
    "plt.show() "
   ]
  },
  {
   "cell_type": "code",
   "execution_count": 17,
   "id": "39142e23-be85-4f05-9707-1c0b717f8dea",
   "metadata": {},
   "outputs": [
    {
     "data": {
      "image/png": "[encoded data removed]",
      "text/plain": [
       "<Figure size 432x288 with 1 Axes>"
      ]
     },
     "metadata": {
      "needs_background": "light"
     },
     "output_type": "display_data"
    }
   ],
   "source": [
    "# 4-9 훈련과 검증 정확도 그리기\n",
    "plt.clf()  #그래프 초기화하기\n",
    "acc = history_dict[\"accuracy\"]\n",
    "val_acc = history_dict[\"val_accuracy\"]\n",
    "plt.plot(epochs, acc, \"bo\", label=\"Training acc\")\n",
    "plt.plot(epochs, val_acc, \"b\", label=\"Validation acc\")\n",
    "plt.title(\"Training and validation accuracy\")\n",
    "plt.xlabel(\"Epochs\")\n",
    "plt.ylabel(\"Accuracy\")\n",
    "plt.legend()\n",
    "plt.show() "
   ]
  },
  {
   "cell_type": "code",
   "execution_count": 18,
   "id": "d09b0ad0-be46-498d-96b4-d7f122e9c879",
   "metadata": {},
   "outputs": [
    {
     "name": "stdout",
     "output_type": "stream",
     "text": [
      "Epoch 1/4\n",
      "49/49 [==============================] - 1s 8ms/step - loss: 0.4331 - accuracy: 0.8237\n",
      "Epoch 2/4\n",
      "49/49 [==============================] - 0s 7ms/step - loss: 0.2506 - accuracy: 0.9112\n",
      "Epoch 3/4\n",
      "49/49 [==============================] - 0s 7ms/step - loss: 0.1979 - accuracy: 0.9292\n",
      "Epoch 4/4\n",
      "49/49 [==============================] - 0s 7ms/step - loss: 0.1668 - accuracy: 0.9408\n",
      "782/782 [==============================] - 1s 1ms/step - loss: 0.2958 - accuracy: 0.8826\n"
     ]
    }
   ],
   "source": [
    "# 4-10 모델 처음부터 다시 훈련하기\n",
    "model = keras.Sequential([\n",
    "    layers.Dense(16, activation=\"relu\"),\n",
    "    layers.Dense(16, activation=\"relu\"),\n",
    "    layers.Dense(1, activation=\"sigmoid\")\n",
    "])\n",
    "model.compile(optimizer=\"rmsprop\",\n",
    "             loss= \"binary_crossentropy\",\n",
    "             metrics=[\"accuracy\"])\n",
    "model.fit(x_train, y_train, epochs=4, batch_size=512)\n",
    "results= model.evaluate(x_test, y_test)"
   ]
  },
  {
   "cell_type": "code",
   "execution_count": 19,
   "id": "15c33fd7-4cad-4f14-83ad-32f4ef8036a6",
   "metadata": {},
   "outputs": [
    {
     "data": {
      "text/plain": [
       "[0.29584598541259766, 0.8825600147247314]"
      ]
     },
     "execution_count": 19,
     "metadata": {},
     "output_type": "execute_result"
    }
   ],
   "source": [
    "results"
   ]
  },
  {
   "cell_type": "code",
   "execution_count": 20,
   "id": "be0cab8c-36cd-48f1-a385-86d9747c7bf4",
   "metadata": {},
   "outputs": [
    {
     "name": "stdout",
     "output_type": "stream",
     "text": [
      "782/782 [==============================] - 1s 1000us/step\n"
     ]
    },
    {
     "data": {
      "text/plain": [
       "array([[0.20196867],\n",
       "       [0.9994243 ],\n",
       "       [0.8910722 ],\n",
       "       ...,\n",
       "       [0.21816762],\n",
       "       [0.07179138],\n",
       "       [0.5320976 ]], dtype=float32)"
      ]
     },
     "execution_count": 20,
     "metadata": {},
     "output_type": "execute_result"
    }
   ],
   "source": [
    "## 4.1.5 훈련괸 모델로 새로운 모델 데이터에 대해 예측하기\n",
    "model.predict(x_test)"
   ]
  },
  {
   "cell_type": "code",
   "execution_count": 24,
   "id": "f82a7f1d-4576-4948-931a-78a828d4ebe6",
   "metadata": {},
   "outputs": [
    {
     "name": "stdout",
     "output_type": "stream",
     "text": [
      "Epoch 1/4\n",
      "49/49 [==============================] - 16s 10ms/step - loss: 0.6431 - accuracy: 0.6452\n",
      "Epoch 2/4\n",
      "49/49 [==============================] - 0s 8ms/step - loss: 0.4160 - accuracy: 0.8829\n",
      "Epoch 3/4\n",
      "49/49 [==============================] - 0s 8ms/step - loss: 0.2919 - accuracy: 0.9152\n",
      "Epoch 4/4\n",
      "49/49 [==============================] - 0s 8ms/step - loss: 0.2257 - accuracy: 0.9327\n",
      "782/782 [==============================] - 1s 1ms/step - loss: 0.2880 - accuracy: 0.8886\n"
     ]
    }
   ],
   "source": [
    "# 4.1.6 추가 실험\n",
    "model = keras.Sequential([\n",
    "    layers.Dense(16, activation=\"relu\"),\n",
    "    layers.Dense(16, activation=\"relu\"),\n",
    "    layers.Dense(16, activation=\"sigmoid\"),\n",
    "    layers.Dense(1, activation=\"sigmoid\")\n",
    "])\n",
    "model.compile(optimizer=\"rmsprop\",\n",
    "             loss= \"binary_crossentropy\",\n",
    "             metrics=[\"accuracy\"])\n",
    "model.fit(x_train, y_train, epochs=4, batch_size=512)\n",
    "results= model.evaluate(x_test, y_test)"
   ]
  },
  {
   "cell_type": "code",
   "execution_count": 25,
   "id": "9135d382-cee8-4532-902c-4be7ffa30b40",
   "metadata": {},
   "outputs": [
    {
     "name": "stdout",
     "output_type": "stream",
     "text": [
      "782/782 [==============================] - 1s 1ms/step\n"
     ]
    },
    {
     "data": {
      "text/plain": [
       "array([[0.19266908],\n",
       "       [0.96382725],\n",
       "       [0.93334514],\n",
       "       ...,\n",
       "       [0.14233485],\n",
       "       [0.12644468],\n",
       "       [0.43455926]], dtype=float32)"
      ]
     },
     "execution_count": 25,
     "metadata": {},
     "output_type": "execute_result"
    }
   ],
   "source": [
    "model.predict(x_test)"
   ]
  },
  {
   "cell_type": "code",
   "execution_count": null,
   "id": "230867f7-e649-4704-84d2-84a0e483407c",
   "metadata": {},
   "outputs": [],
   "source": [
    "--------------------------------------------------------------------"
   ]
  },
  {
   "cell_type": "code",
   "execution_count": 26,
   "id": "c7a6b307-9c4b-4225-9dd1-d1ee0717c9f9",
   "metadata": {},
   "outputs": [
    {
     "name": "stdout",
     "output_type": "stream",
     "text": [
      "Epoch 1/4\n",
      "49/49 [==============================] - 1s 9ms/step - loss: 0.2084 - accuracy: 0.0033\n",
      "Epoch 2/4\n",
      "49/49 [==============================] - 0s 8ms/step - loss: 0.1372 - accuracy: 0.0040\n",
      "Epoch 3/4\n",
      "49/49 [==============================] - 0s 8ms/step - loss: 0.0899 - accuracy: 0.0226\n",
      "Epoch 4/4\n",
      "49/49 [==============================] - 0s 8ms/step - loss: 0.0615 - accuracy: 0.0402\n",
      "782/782 [==============================] - 1s 1ms/step - loss: 0.0869 - accuracy: 0.0534\n"
     ]
    }
   ],
   "source": [
    "# 추가 실험\n",
    "model = keras.Sequential([\n",
    "    layers.Dense(16, activation=\"relu\"),\n",
    "    layers.Dense(16, activation=\"relu\"),\n",
    "    layers.Dense(16, activation=\"sigmoid\")\n",
    "])\n",
    "model.compile(optimizer=\"rmsprop\",\n",
    "             loss= \"mse\",\n",
    "             metrics=[\"accuracy\"])\n",
    "model.fit(x_train, y_train, epochs=4, batch_size=512)\n",
    "results= model.evaluate(x_test, y_test)"
   ]
  },
  {
   "cell_type": "code",
   "execution_count": 27,
   "id": "8896abed-d6b5-4380-9c4c-020c814f53ef",
   "metadata": {},
   "outputs": [
    {
     "name": "stdout",
     "output_type": "stream",
     "text": [
      "782/782 [==============================] - 2s 1ms/step\n"
     ]
    },
    {
     "data": {
      "text/plain": [
       "array([[0.22478239, 0.14848131, 0.08719953, ..., 0.14023608, 0.06072513,\n",
       "        0.17325895],\n",
       "       [0.9116101 , 0.99360913, 0.99857485, ..., 0.990042  , 0.99932617,\n",
       "        0.99649036],\n",
       "       [0.758169  , 0.8832995 , 0.93231785, ..., 0.8549452 , 0.9698972 ,\n",
       "        0.93586284],\n",
       "       ...,\n",
       "       [0.22255367, 0.16054395, 0.09698723, ..., 0.1482987 , 0.05990888,\n",
       "        0.16157305],\n",
       "       [0.15589958, 0.08325098, 0.04398393, ..., 0.08272775, 0.02826785,\n",
       "        0.1128445 ],\n",
       "       [0.47498542, 0.52096033, 0.46370107, ..., 0.4603784 , 0.5183181 ,\n",
       "        0.590542  ]], dtype=float32)"
      ]
     },
     "execution_count": 27,
     "metadata": {},
     "output_type": "execute_result"
    }
   ],
   "source": [
    "model.predict(x_test)"
   ]
  },
  {
   "cell_type": "code",
   "execution_count": 28,
   "id": "ca5408dc-af73-4b8e-96fe-70907f39e42d",
   "metadata": {},
   "outputs": [
    {
     "name": "stdout",
     "output_type": "stream",
     "text": [
      "Epoch 1/4\n",
      "49/49 [==============================] - 5s 8ms/step - loss: 0.4221 - accuracy: 0.8304\n",
      "Epoch 2/4\n",
      "49/49 [==============================] - 0s 9ms/step - loss: 0.2403 - accuracy: 0.9136\n",
      "Epoch 3/4\n",
      "49/49 [==============================] - 0s 8ms/step - loss: 0.1798 - accuracy: 0.9349\n",
      "Epoch 4/4\n",
      "49/49 [==============================] - 0s 8ms/step - loss: 0.1470 - accuracy: 0.9472\n",
      "782/782 [==============================] - 1s 1ms/step - loss: 0.3170 - accuracy: 0.8788\n"
     ]
    }
   ],
   "source": [
    "# 추가 실험\n",
    "model = keras.Sequential([\n",
    "    layers.Dense(16, activation=\"tanh\"),\n",
    "    layers.Dense(16, activation=\"tanh\"),\n",
    "    layers.Dense(1, activation=\"sigmoid\")\n",
    "])\n",
    "model.compile(optimizer=\"rmsprop\",\n",
    "             loss= \"binary_crossentropy\",\n",
    "             metrics=[\"accuracy\"])\n",
    "model.fit(x_train, y_train, epochs=4, batch_size=512)\n",
    "results= model.evaluate(x_test, y_test)"
   ]
  },
  {
   "cell_type": "code",
   "execution_count": 29,
   "id": "29cb494d-9d13-440b-bafb-b52d08a7e409",
   "metadata": {},
   "outputs": [
    {
     "name": "stdout",
     "output_type": "stream",
     "text": [
      "782/782 [==============================] - 1s 2ms/step\n"
     ]
    },
    {
     "data": {
      "text/plain": [
       "array([[0.09335426],\n",
       "       [0.9971033 ],\n",
       "       [0.85677177],\n",
       "       ...,\n",
       "       [0.21504785],\n",
       "       [0.03518954],\n",
       "       [0.67698246]], dtype=float32)"
      ]
     },
     "execution_count": 29,
     "metadata": {},
     "output_type": "execute_result"
    }
   ],
   "source": [
    "model.predict(x_test)"
   ]
  },
  {
   "cell_type": "markdown",
   "id": "85f52da9-91b6-4e83-a84f-28a9bce8f434",
   "metadata": {},
   "source": [
    "# 4.2 뉴스기사분류: 다중 분류 문제\n",
    "- 다중 분류(multiclass classification)\n",
    "- 단일 레이블 다중 분류(single-label, multiclass classification)\n",
    "- 다중 레이블 다중 분류(multi-label, multiclass classification)"
   ]
  },
  {
   "cell_type": "code",
   "execution_count": 30,
   "id": "256c6b48-5866-4e1d-af59-98334a574d46",
   "metadata": {},
   "outputs": [],
   "source": [
    "##  4.2.1 로이터 데이터셋\n",
    "# 코드 4-11 로이터 데이터셋 로드하기\n",
    "from tensorflow.keras.datasets import reuters\n",
    "\n",
    "(train_data, train_labels), (test_data, test_labels) = reuters.load_data(num_words=10000)\n",
    "# 매개변수 데이터는 자주 등장하는 10000개로 제한"
   ]
  },
  {
   "cell_type": "code",
   "execution_count": 31,
   "id": "52af42d2-263b-42ed-afbb-f31c48afd927",
   "metadata": {},
   "outputs": [
    {
     "data": {
      "text/plain": [
       "8982"
      ]
     },
     "execution_count": 31,
     "metadata": {},
     "output_type": "execute_result"
    }
   ],
   "source": [
    "len(train_data)"
   ]
  },
  {
   "cell_type": "code",
   "execution_count": 32,
   "id": "ccbdceb3-6923-42ec-9773-675c210bb374",
   "metadata": {},
   "outputs": [
    {
     "data": {
      "text/plain": [
       "2246"
      ]
     },
     "execution_count": 32,
     "metadata": {},
     "output_type": "execute_result"
    }
   ],
   "source": [
    "len(test_data)"
   ]
  },
  {
   "cell_type": "code",
   "execution_count": 33,
   "id": "cb977116-b0ca-4e2b-af64-c5938237bfd2",
   "metadata": {
    "tags": []
   },
   "outputs": [
    {
     "data": {
      "text/plain": [
       "[1,\n",
       " 245,\n",
       " 273,\n",
       " 207,\n",
       " 156,\n",
       " 53,\n",
       " 74,\n",
       " 160,\n",
       " 26,\n",
       " 14,\n",
       " 46,\n",
       " 296,\n",
       " 26,\n",
       " 39,\n",
       " 74,\n",
       " 2979,\n",
       " 3554,\n",
       " 14,\n",
       " 46,\n",
       " 4689,\n",
       " 4329,\n",
       " 86,\n",
       " 61,\n",
       " 3499,\n",
       " 4795,\n",
       " 14,\n",
       " 61,\n",
       " 451,\n",
       " 4329,\n",
       " 17,\n",
       " 12]"
      ]
     },
     "execution_count": 33,
     "metadata": {},
     "output_type": "execute_result"
    }
   ],
   "source": [
    "# 정수 리스트(단어 인덱스)\n",
    "train_data[10]"
   ]
  },
  {
   "cell_type": "code",
   "execution_count": 34,
   "id": "751379e4-3900-48df-9659-ab5165c99d4e",
   "metadata": {},
   "outputs": [],
   "source": [
    "# 코드 4-12 로이터 데이터 셋을 텍스트로 디코딩\n",
    "word_index = reuters.get_word_index()\n",
    "reverse_word_index = dict(\n",
    "    [(value, key) for (key, value) in word_index.items()])\n",
    "decoded_newswire = \" \".join(\n",
    "    [reverse_word_index.get(i-3, \"?\") for i in train_data[0]])"
   ]
  },
  {
   "cell_type": "code",
   "execution_count": 35,
   "id": "974d3900-9bcc-4c18-85e3-2c5adc3cf6d4",
   "metadata": {},
   "outputs": [
    {
     "data": {
      "text/plain": [
       "3"
      ]
     },
     "execution_count": 35,
     "metadata": {},
     "output_type": "execute_result"
    }
   ],
   "source": [
    "train_labels[0]"
   ]
  },
  {
   "cell_type": "code",
   "execution_count": 36,
   "id": "ea5267a2-857d-47f4-b7eb-67c230193d7a",
   "metadata": {},
   "outputs": [],
   "source": [
    "## 4.2.2 데이터 준비\n",
    "# 데이터를 벡터로 변환\n",
    "# 코드 4-13 데이터 인코딩하기\n",
    "x_train =vectorize_sequences(train_data)\n",
    "x_test =vectorize_sequences(test_data)"
   ]
  },
  {
   "cell_type": "code",
   "execution_count": null,
   "id": "1b5c0dbb-d2dc-4372-ba48-f316c73dafd9",
   "metadata": {},
   "outputs": [],
   "source": [
    "# 레이블을 벡터로 바꾸는 방법2\n",
    "- 1. 레이블 리스트를 정수 텐서로 변환\n",
    "- 2. 원-핫 인코딩\n",
    "- 원-핫인코딩은 각 레이블의 인덱스 자리는 1이고 나머지는 모두 0인 벡터"
   ]
  },
  {
   "cell_type": "code",
   "execution_count": 38,
   "id": "29c72a94-0dbb-4f26-83cc-e324e6bf22b4",
   "metadata": {},
   "outputs": [],
   "source": [
    "# 코드 4-14 레이블 인코딩하기\n",
    "def to_one_hot(labels, dimension=46):\n",
    "    results = np.zeros((len(labels), dimension))\n",
    "    for i, label in enumerate(labels):\n",
    "        results[i, label] = 1.\n",
    "    return results\n",
    "y_train = to_one_hot(train_labels)\n",
    "y_test = to_one_hot(test_labels) "
   ]
  },
  {
   "cell_type": "code",
   "execution_count": 39,
   "id": "ba96a234-89de-452f-9eb4-7c5bcb65e5d9",
   "metadata": {},
   "outputs": [],
   "source": [
    "# 케라스 내장함수\n",
    "from keras.utils.np_utils import to_categorical\n",
    "\n",
    "y_train = to_categorical(train_labels)\n",
    "y_test = to_categorical(test_labels)"
   ]
  },
  {
   "cell_type": "code",
   "execution_count": 40,
   "id": "d233b4e0-b65f-415c-a44b-1a6327aebfe3",
   "metadata": {},
   "outputs": [],
   "source": [
    "## 4.2.3 모델 구성\n",
    "# 코드 4-15 모델 정의\n",
    "model= keras.Sequential([\n",
    "    layers.Dense(64, activation=\"relu\"),\n",
    "    layers.Dense(64, activation=\"relu\"),\n",
    "    layers.Dense(46, activation=\"softmax\"),\n",
    "])"
   ]
  },
  {
   "cell_type": "code",
   "execution_count": null,
   "id": "40934857-7228-44d0-9934-ce93aa30ae9c",
   "metadata": {},
   "outputs": [],
   "source": [
    "# 주의\n",
    "- 마지막 Dense층의 크기가 46: 각 입력 샘플에 대해 46차원의 벡터를 출력한다. 이 벡터의 각 원소(각 차원)는 각기 다른 출력 클래스가 인코딩 된 것\n",
    "- 마지막 층에 softmax활성화 함수가 사용. 46차원의 출력 벡터를 만들며 output[i]는 어떤 샘플이 클래스 i에 속할 확률. 46개의 값을 모두 더하면 1이 됨"
   ]
  },
  {
   "cell_type": "code",
   "execution_count": null,
   "id": "3dde828b-0fc5-400a-a75a-e09715af0878",
   "metadata": {},
   "outputs": [],
   "source": [
    "# categorical_crossentropy(손실함수)는 두 확률 분포 사이의 거리를 측정한다.\n",
    "모델이 출력한 확률 분포와 진짜 레이블의 분포 사이의 거리\n",
    "두 분포 사시의 거리를 최소화 함으로써 진짜 레이블에 가까운 출력물을 내도록 훈련한다."
   ]
  },
  {
   "cell_type": "code",
   "execution_count": 41,
   "id": "53325bf5-41df-4937-90db-cf7db236770e",
   "metadata": {},
   "outputs": [],
   "source": [
    "# 코드 4-16 모델 컴파일 하기\n",
    "model.compile(optimizer = \"rmsprop\",\n",
    "             loss =\"categorical_crossentropy\",\n",
    "             metrics=[\"accuracy\"])"
   ]
  },
  {
   "cell_type": "markdown",
   "id": "70d2f78a-44d6-4e7b-adc8-3783ceee916a",
   "metadata": {},
   "source": [
    "## 4.2.4 훈련 검증"
   ]
  },
  {
   "cell_type": "code",
   "execution_count": 42,
   "id": "32426c1a-a41d-4480-886e-dd58ca9cd59b",
   "metadata": {},
   "outputs": [],
   "source": [
    "## 코드 4-17 검증 세트 준비하기"
   ]
  },
  {
   "cell_type": "code",
   "execution_count": 43,
   "id": "59648b15-ec95-4aae-be9a-30ff7ce39f11",
   "metadata": {},
   "outputs": [],
   "source": [
    "x_val = x_train[:1000]\n",
    "partial_x_train = x_train[1000:]\n",
    "y_val = y_train[:1000]\n",
    "partial_y_train = y_train[1000:]"
   ]
  },
  {
   "cell_type": "code",
   "execution_count": 44,
   "id": "08108d40-63db-407d-b3c1-81286e0cbc7f",
   "metadata": {
    "tags": []
   },
   "outputs": [
    {
     "name": "stdout",
     "output_type": "stream",
     "text": [
      "Epoch 1/20\n",
      "16/16 [==============================] - 7s 27ms/step - loss: 2.4799 - accuracy: 0.5362 - val_loss: 1.6487 - val_accuracy: 0.6560\n",
      "Epoch 2/20\n",
      "16/16 [==============================] - 0s 17ms/step - loss: 1.3743 - accuracy: 0.7061 - val_loss: 1.2951 - val_accuracy: 0.7080\n",
      "Epoch 3/20\n",
      "16/16 [==============================] - 0s 16ms/step - loss: 1.0357 - accuracy: 0.7774 - val_loss: 1.1209 - val_accuracy: 0.7560\n",
      "Epoch 4/20\n",
      "16/16 [==============================] - 0s 16ms/step - loss: 0.8167 - accuracy: 0.8240 - val_loss: 1.0246 - val_accuracy: 0.7790\n",
      "Epoch 5/20\n",
      "16/16 [==============================] - 0s 15ms/step - loss: 0.6441 - accuracy: 0.8682 - val_loss: 0.9642 - val_accuracy: 0.8030\n",
      "Epoch 6/20\n",
      "16/16 [==============================] - 0s 15ms/step - loss: 0.5124 - accuracy: 0.8961 - val_loss: 0.9504 - val_accuracy: 0.8050\n",
      "Epoch 7/20\n",
      "16/16 [==============================] - 0s 15ms/step - loss: 0.4112 - accuracy: 0.9187 - val_loss: 0.9036 - val_accuracy: 0.8180\n",
      "Epoch 8/20\n",
      "16/16 [==============================] - 0s 15ms/step - loss: 0.3328 - accuracy: 0.9330 - val_loss: 0.9185 - val_accuracy: 0.8110\n",
      "Epoch 9/20\n",
      "16/16 [==============================] - 0s 15ms/step - loss: 0.2776 - accuracy: 0.9404 - val_loss: 0.9298 - val_accuracy: 0.8110\n",
      "Epoch 10/20\n",
      "16/16 [==============================] - 0s 16ms/step - loss: 0.2328 - accuracy: 0.9469 - val_loss: 0.9176 - val_accuracy: 0.8320\n",
      "Epoch 11/20\n",
      "16/16 [==============================] - 0s 15ms/step - loss: 0.2028 - accuracy: 0.9509 - val_loss: 0.9590 - val_accuracy: 0.8090\n",
      "Epoch 12/20\n",
      "16/16 [==============================] - 0s 15ms/step - loss: 0.1759 - accuracy: 0.9523 - val_loss: 0.9817 - val_accuracy: 0.8130\n",
      "Epoch 13/20\n",
      "16/16 [==============================] - 0s 15ms/step - loss: 0.1617 - accuracy: 0.9525 - val_loss: 0.9789 - val_accuracy: 0.8150\n",
      "Epoch 14/20\n",
      "16/16 [==============================] - 0s 15ms/step - loss: 0.1513 - accuracy: 0.9550 - val_loss: 0.9792 - val_accuracy: 0.8240\n",
      "Epoch 15/20\n",
      "16/16 [==============================] - 0s 15ms/step - loss: 0.1346 - accuracy: 0.9562 - val_loss: 1.0411 - val_accuracy: 0.8070\n",
      "Epoch 16/20\n",
      "16/16 [==============================] - 0s 15ms/step - loss: 0.1299 - accuracy: 0.9568 - val_loss: 1.0188 - val_accuracy: 0.8110\n",
      "Epoch 17/20\n",
      "16/16 [==============================] - 0s 15ms/step - loss: 0.1217 - accuracy: 0.9563 - val_loss: 1.0945 - val_accuracy: 0.7920\n",
      "Epoch 18/20\n",
      "16/16 [==============================] - 0s 15ms/step - loss: 0.1198 - accuracy: 0.9589 - val_loss: 1.0306 - val_accuracy: 0.8210\n",
      "Epoch 19/20\n",
      "16/16 [==============================] - 0s 15ms/step - loss: 0.1171 - accuracy: 0.9565 - val_loss: 1.1196 - val_accuracy: 0.7980\n",
      "Epoch 20/20\n",
      "16/16 [==============================] - 0s 14ms/step - loss: 0.1117 - accuracy: 0.9564 - val_loss: 1.0915 - val_accuracy: 0.8120\n"
     ]
    }
   ],
   "source": [
    "# 코드 4-18 모델 훈련\n",
    "history = model.fit(partial_x_train,\n",
    "                    partial_y_train,\n",
    "                    epochs=20,\n",
    "                    batch_size = 512,\n",
    "                    validation_data=(x_val, y_val))"
   ]
  },
  {
   "cell_type": "markdown",
   "id": "7cf89b61-4a8e-473d-b049-5ae85f1296d5",
   "metadata": {},
   "source": [
    "## 코드 4-19 훈련 검증 손실 그리기"
   ]
  },
  {
   "cell_type": "code",
   "execution_count": 45,
   "id": "d5a7fec7-ecfe-4d82-9908-b356472461b7",
   "metadata": {},
   "outputs": [
    {
     "data": {
      "image/png": "[encoded data removed]",
      "text/plain": [
       "<Figure size 432x288 with 1 Axes>"
      ]
     },
     "metadata": {
      "needs_background": "light"
     },
     "output_type": "display_data"
    }
   ],
   "source": [
    "loss = history.history[\"loss\"]\n",
    "val_loss = history.history[\"val_loss\"]\n",
    "epochs = range(1, len(loss)+1)\n",
    "plt.plot(epochs, loss, \"bo\", label = \"Training loss\")\n",
    "plt.plot(epochs, val_loss, \"b\", label= \"Validation loss\")\n",
    "plt.title(\"Training and Validation loss\")\n",
    "plt.xlabel(\"Epochs\")\n",
    "plt.ylabel(\"Loss\")\n",
    "plt.legend()\n",
    "plt.show()"
   ]
  },
  {
   "cell_type": "markdown",
   "id": "fc78c368-3e5a-4c51-9a67-79961fe2239f",
   "metadata": {},
   "source": [
    "## 코드 4-20 훈련과 검증 정확도 그리기"
   ]
  },
  {
   "cell_type": "code",
   "execution_count": 46,
   "id": "24bf46bc-b043-4054-8d82-023dbd646abd",
   "metadata": {},
   "outputs": [
    {
     "data": {
      "image/png": "[encoded data removed]",
      "text/plain": [
       "<Figure size 432x288 with 1 Axes>"
      ]
     },
     "metadata": {
      "needs_background": "light"
     },
     "output_type": "display_data"
    }
   ],
   "source": [
    "plt.clf()# 그래프 초기화\n",
    "acc = history.history[\"accuracy\"]\n",
    "val_acc= history.history[\"val_accuracy\"]\n",
    "plt.plot(epochs, acc, \"bo\", label = \"Training accuracy\")\n",
    "plt.plot(epochs, val_acc, \"b\", label = \"Validation accuracy\")\n",
    "plt.title(\"Training and Validation loss\")\n",
    "plt.xlabel(\"Epochs\")\n",
    "plt.ylabel(\"Loss\")\n",
    "plt.legend()\n",
    "plt.show()"
   ]
  },
  {
   "cell_type": "markdown",
   "id": "0721df4b-5ed3-4be5-924d-5afb73e7e20d",
   "metadata": {
    "tags": []
   },
   "source": [
    "## 4-21 모델을 처음부터 다시 훈련"
   ]
  },
  {
   "cell_type": "code",
   "execution_count": 47,
   "id": "bca3f506-6aa2-4674-8db1-e6bb9f780a79",
   "metadata": {
    "tags": []
   },
   "outputs": [
    {
     "name": "stdout",
     "output_type": "stream",
     "text": [
      "Epoch 1/9\n",
      "18/18 [==============================] - 1s 16ms/step - loss: 2.5560 - accuracy: 0.5194\n",
      "Epoch 2/9\n",
      "18/18 [==============================] - 0s 17ms/step - loss: 1.3885 - accuracy: 0.7112\n",
      "Epoch 3/9\n",
      "18/18 [==============================] - 0s 13ms/step - loss: 1.0203 - accuracy: 0.7832\n",
      "Epoch 4/9\n",
      "18/18 [==============================] - 0s 12ms/step - loss: 0.7871 - accuracy: 0.8372\n",
      "Epoch 5/9\n",
      "18/18 [==============================] - 0s 13ms/step - loss: 0.6167 - accuracy: 0.8747\n",
      "Epoch 6/9\n",
      "18/18 [==============================] - 0s 14ms/step - loss: 0.4873 - accuracy: 0.8975\n",
      "Epoch 7/9\n",
      "18/18 [==============================] - 0s 13ms/step - loss: 0.3906 - accuracy: 0.9179\n",
      "Epoch 8/9\n",
      "18/18 [==============================] - 0s 14ms/step - loss: 0.3206 - accuracy: 0.9293\n",
      "Epoch 9/9\n",
      "18/18 [==============================] - 0s 12ms/step - loss: 0.2695 - accuracy: 0.9371\n",
      "71/71 [==============================] - 0s 2ms/step - loss: 0.9573 - accuracy: 0.7961\n"
     ]
    }
   ],
   "source": [
    "model= keras.Sequential([\n",
    "    layers.Dense(64, activation=\"relu\"),\n",
    "    layers.Dense(64, activation=\"relu\"),\n",
    "    layers.Dense(46, activation=\"softmax\"),\n",
    "])\n",
    "\n",
    "model.compile(optimizer = \"rmsprop\",\n",
    "             loss =\"categorical_crossentropy\",\n",
    "             metrics=[\"accuracy\"])\n",
    "\n",
    "model.fit(x_train,\n",
    "          y_train,\n",
    "          epochs=9,\n",
    "          batch_size = 512)\n",
    "results = model.evaluate(x_test, y_test)"
   ]
  },
  {
   "cell_type": "code",
   "execution_count": 48,
   "id": "8609d312-b7f9-49f7-b742-9b444480cea6",
   "metadata": {},
   "outputs": [
    {
     "data": {
      "text/plain": [
       "[0.9573230147361755, 0.7960819005966187]"
      ]
     },
     "execution_count": 48,
     "metadata": {},
     "output_type": "execute_result"
    }
   ],
   "source": [
    "results "
   ]
  },
  {
   "cell_type": "code",
   "execution_count": 49,
   "id": "86b276ca-cc2b-4faa-bf51-2d7c23445ff8",
   "metadata": {},
   "outputs": [
    {
     "data": {
      "text/plain": [
       "0.188780053428317"
      ]
     },
     "execution_count": 49,
     "metadata": {},
     "output_type": "execute_result"
    }
   ],
   "source": [
    "# 랜덤한 분류기를 사용해 예측\n",
    "import copy \n",
    "test_labels_copy = copy.copy(test_labels)\n",
    "np.random.shuffle(test_labels_copy)\n",
    "hits_array = np.array(test_labels) == np.array(test_labels_copy)\n",
    "hits_array.mean()"
   ]
  },
  {
   "cell_type": "code",
   "execution_count": 50,
   "id": "9fa45afd-c9d1-4755-98a5-4689e55fee62",
   "metadata": {},
   "outputs": [
    {
     "name": "stdout",
     "output_type": "stream",
     "text": [
      "71/71 [==============================] - 0s 1ms/step\n"
     ]
    },
    {
     "data": {
      "text/plain": [
       "(46,)"
      ]
     },
     "execution_count": 50,
     "metadata": {},
     "output_type": "execute_result"
    }
   ],
   "source": [
    "## 4.2.5 새로운 데이터에 대해 예측\n",
    "predictions = model.predict(x_test)\n",
    "predictions[0].shape"
   ]
  },
  {
   "cell_type": "code",
   "execution_count": 51,
   "id": "49107fa8-5358-48fb-846d-da1318162d2f",
   "metadata": {},
   "outputs": [
    {
     "data": {
      "text/plain": [
       "1.0"
      ]
     },
     "execution_count": 51,
     "metadata": {},
     "output_type": "execute_result"
    }
   ],
   "source": [
    "np.sum(predictions[0])"
   ]
  },
  {
   "cell_type": "code",
   "execution_count": 52,
   "id": "7321828f-1482-4e89-89fd-b42378609e2b",
   "metadata": {},
   "outputs": [
    {
     "data": {
      "text/plain": [
       "3"
      ]
     },
     "execution_count": 52,
     "metadata": {},
     "output_type": "execute_result"
    }
   ],
   "source": [
    "np.argmax(predictions[0])"
   ]
  },
  {
   "cell_type": "markdown",
   "id": "8d6bc9c7-ad5b-4314-ac33-6a464beb7018",
   "metadata": {},
   "source": [
    "## 4.2.6 레이블과 손실을 다루는 다른 방법"
   ]
  },
  {
   "cell_type": "code",
   "execution_count": 53,
   "id": "3f5994f6-9226-44c6-9255-09f403b48976",
   "metadata": {},
   "outputs": [],
   "source": [
    "# 정수 텐서로 변환\n",
    "y_train= np.array(train_labels)\n",
    "y_test = np.array(test_labels)\n",
    "\n",
    "model.compile(optimizer=\"rmsprop\",\n",
    "             loss= \"sparse_categorical_crossentropy\",\n",
    "             metrics=[\"accuracy\"])"
   ]
  },
  {
   "cell_type": "markdown",
   "id": "98544452-45aa-458a-9923-8a01e81381d2",
   "metadata": {
    "jupyter": {
     "outputs_hidden": true
    },
    "tags": []
   },
   "source": [
    "## 4.2.7 충분히 큰 중간층을 두어야 하는 이유"
   ]
  },
  {
   "cell_type": "code",
   "execution_count": 54,
   "id": "07c51cb4-1c32-406b-aef2-cc288ae013d0",
   "metadata": {
    "tags": []
   },
   "outputs": [
    {
     "name": "stdout",
     "output_type": "stream",
     "text": [
      "Epoch 1/20\n",
      "63/63 [==============================] - 1s 11ms/step - loss: 2.7640 - accuracy: 0.4245 - val_loss: 2.0304 - val_accuracy: 0.5580\n",
      "Epoch 2/20\n",
      "63/63 [==============================] - 0s 8ms/step - loss: 1.7282 - accuracy: 0.5896 - val_loss: 1.5903 - val_accuracy: 0.6080\n",
      "Epoch 3/20\n",
      "63/63 [==============================] - 0s 8ms/step - loss: 1.3700 - accuracy: 0.6569 - val_loss: 1.4278 - val_accuracy: 0.6530\n",
      "Epoch 4/20\n",
      "63/63 [==============================] - 0s 8ms/step - loss: 1.1625 - accuracy: 0.7040 - val_loss: 1.3553 - val_accuracy: 0.6680\n",
      "Epoch 5/20\n",
      "63/63 [==============================] - 1s 8ms/step - loss: 1.0093 - accuracy: 0.7331 - val_loss: 1.3115 - val_accuracy: 0.6770\n",
      "Epoch 6/20\n",
      "63/63 [==============================] - 0s 8ms/step - loss: 0.8897 - accuracy: 0.7825 - val_loss: 1.2868 - val_accuracy: 0.7060\n",
      "Epoch 7/20\n",
      "63/63 [==============================] - 0s 8ms/step - loss: 0.8024 - accuracy: 0.8058 - val_loss: 1.2941 - val_accuracy: 0.7180\n",
      "Epoch 8/20\n",
      "63/63 [==============================] - 1s 9ms/step - loss: 0.7346 - accuracy: 0.8140 - val_loss: 1.3036 - val_accuracy: 0.7190\n",
      "Epoch 9/20\n",
      "63/63 [==============================] - 1s 8ms/step - loss: 0.6794 - accuracy: 0.8221 - val_loss: 1.3353 - val_accuracy: 0.7180\n",
      "Epoch 10/20\n",
      "63/63 [==============================] - 0s 8ms/step - loss: 0.6336 - accuracy: 0.8326 - val_loss: 1.3433 - val_accuracy: 0.7310\n",
      "Epoch 11/20\n",
      "63/63 [==============================] - 1s 9ms/step - loss: 0.5941 - accuracy: 0.8369 - val_loss: 1.3962 - val_accuracy: 0.7240\n",
      "Epoch 12/20\n",
      "63/63 [==============================] - 0s 8ms/step - loss: 0.5585 - accuracy: 0.8418 - val_loss: 1.4372 - val_accuracy: 0.7250\n",
      "Epoch 13/20\n",
      "63/63 [==============================] - 1s 8ms/step - loss: 0.5271 - accuracy: 0.8453 - val_loss: 1.5081 - val_accuracy: 0.7130\n",
      "Epoch 14/20\n",
      "63/63 [==============================] - 0s 8ms/step - loss: 0.5003 - accuracy: 0.8533 - val_loss: 1.5475 - val_accuracy: 0.7140\n",
      "Epoch 15/20\n",
      "63/63 [==============================] - 1s 8ms/step - loss: 0.4752 - accuracy: 0.8573 - val_loss: 1.6128 - val_accuracy: 0.7130\n",
      "Epoch 16/20\n",
      "63/63 [==============================] - 0s 7ms/step - loss: 0.4573 - accuracy: 0.8676 - val_loss: 1.5959 - val_accuracy: 0.7160\n",
      "Epoch 17/20\n",
      "63/63 [==============================] - 0s 8ms/step - loss: 0.4368 - accuracy: 0.8746 - val_loss: 1.6572 - val_accuracy: 0.7140\n",
      "Epoch 18/20\n",
      "63/63 [==============================] - 0s 8ms/step - loss: 0.4222 - accuracy: 0.8806 - val_loss: 1.6943 - val_accuracy: 0.7190\n",
      "Epoch 19/20\n",
      "63/63 [==============================] - 0s 8ms/step - loss: 0.4039 - accuracy: 0.8854 - val_loss: 1.7497 - val_accuracy: 0.7040\n",
      "Epoch 20/20\n",
      "63/63 [==============================] - 0s 8ms/step - loss: 0.3923 - accuracy: 0.8881 - val_loss: 1.8406 - val_accuracy: 0.7130\n"
     ]
    }
   ],
   "source": [
    "# 병목이 나타남\n",
    "model = keras.Sequential([\n",
    "    layers.Dense(units=64, activation='relu'),\n",
    "    layers.Dense(units=4, activation='relu'),\n",
    "    layers.Dense(units=46, activation='softmax'),\n",
    "])\n",
    "# 모델 컴파일 4-16\n",
    "model.compile(optimizer = 'rmsprop',\n",
    "             loss = 'categorical_crossentropy',\n",
    "             metrics='accuracy')\n",
    "\n",
    "history = model.fit(partial_x_train, partial_y_train,\n",
    "          epochs=20, batch_size =128,\n",
    "          validation_data=(x_val, y_val))"
   ]
  },
  {
   "cell_type": "markdown",
   "id": "48cdbf3c-26e8-40b1-b196-0cd3eeca2fe3",
   "metadata": {},
   "source": [
    "# 4.3 주택 가격 예측: 회귀 문제"
   ]
  },
  {
   "cell_type": "markdown",
   "id": "8f98d85c-838c-42bf-a965-aa307011493d",
   "metadata": {},
   "source": [
    "## 4.3.1 보스턴 주택 가격 데이터 셋"
   ]
  },
  {
   "cell_type": "code",
   "execution_count": 55,
   "id": "d99d3bdd-3aab-4299-be7d-a6008c761038",
   "metadata": {},
   "outputs": [],
   "source": [
    "# 4-23 보스턴 주택 데이터 셋 로드\n",
    "# 1. 데이터 준비\n",
    "from keras.datasets import boston_housing\n",
    "(train_data, train_targets), (test_data, test_targets) = (boston_housing.load_data())"
   ]
  },
  {
   "cell_type": "code",
   "execution_count": 56,
   "id": "6520ee71-e450-4d32-80cf-80a8d7ecdee4",
   "metadata": {},
   "outputs": [
    {
     "name": "stdout",
     "output_type": "stream",
     "text": [
      "(404, 13)\n"
     ]
    },
    {
     "data": {
      "text/plain": [
       "(102, 13)"
      ]
     },
     "execution_count": 56,
     "metadata": {},
     "output_type": "execute_result"
    }
   ],
   "source": [
    "# 데이터 살펴보기\n",
    "print(train_data.shape)\n",
    "test_data.shape"
   ]
  },
  {
   "cell_type": "code",
   "execution_count": 57,
   "id": "a4f6434f-0f57-44b2-9b3a-1c30b172ac61",
   "metadata": {
    "tags": []
   },
   "outputs": [
    {
     "data": {
      "text/plain": [
       "array([15.2, 42.3, 50. , 21.1, 17.7, 18.5, 11.3, 15.6, 15.6, 14.4, 12.1,\n",
       "       17.9, 23.1, 19.9, 15.7,  8.8, 50. , 22.5, 24.1, 27.5, 10.9, 30.8,\n",
       "       32.9, 24. , 18.5, 13.3, 22.9, 34.7, 16.6, 17.5, 22.3, 16.1, 14.9,\n",
       "       23.1, 34.9, 25. , 13.9, 13.1, 20.4, 20. , 15.2, 24.7, 22.2, 16.7,\n",
       "       12.7, 15.6, 18.4, 21. , 30.1, 15.1, 18.7,  9.6, 31.5, 24.8, 19.1,\n",
       "       22. , 14.5, 11. , 32. , 29.4, 20.3, 24.4, 14.6, 19.5, 14.1, 14.3,\n",
       "       15.6, 10.5,  6.3, 19.3, 19.3, 13.4, 36.4, 17.8, 13.5, 16.5,  8.3,\n",
       "       14.3, 16. , 13.4, 28.6, 43.5, 20.2, 22. , 23. , 20.7, 12.5, 48.5,\n",
       "       14.6, 13.4, 23.7, 50. , 21.7, 39.8, 38.7, 22.2, 34.9, 22.5, 31.1,\n",
       "       28.7, 46. , 41.7, 21. , 26.6, 15. , 24.4, 13.3, 21.2, 11.7, 21.7,\n",
       "       19.4, 50. , 22.8, 19.7, 24.7, 36.2, 14.2, 18.9, 18.3, 20.6, 24.6,\n",
       "       18.2,  8.7, 44. , 10.4, 13.2, 21.2, 37. , 30.7, 22.9, 20. , 19.3,\n",
       "       31.7, 32. , 23.1, 18.8, 10.9, 50. , 19.6,  5. , 14.4, 19.8, 13.8,\n",
       "       19.6, 23.9, 24.5, 25. , 19.9, 17.2, 24.6, 13.5, 26.6, 21.4, 11.9,\n",
       "       22.6, 19.6,  8.5, 23.7, 23.1, 22.4, 20.5, 23.6, 18.4, 35.2, 23.1,\n",
       "       27.9, 20.6, 23.7, 28. , 13.6, 27.1, 23.6, 20.6, 18.2, 21.7, 17.1,\n",
       "        8.4, 25.3, 13.8, 22.2, 18.4, 20.7, 31.6, 30.5, 20.3,  8.8, 19.2,\n",
       "       19.4, 23.1, 23. , 14.8, 48.8, 22.6, 33.4, 21.1, 13.6, 32.2, 13.1,\n",
       "       23.4, 18.9, 23.9, 11.8, 23.3, 22.8, 19.6, 16.7, 13.4, 22.2, 20.4,\n",
       "       21.8, 26.4, 14.9, 24.1, 23.8, 12.3, 29.1, 21. , 19.5, 23.3, 23.8,\n",
       "       17.8, 11.5, 21.7, 19.9, 25. , 33.4, 28.5, 21.4, 24.3, 27.5, 33.1,\n",
       "       16.2, 23.3, 48.3, 22.9, 22.8, 13.1, 12.7, 22.6, 15. , 15.3, 10.5,\n",
       "       24. , 18.5, 21.7, 19.5, 33.2, 23.2,  5. , 19.1, 12.7, 22.3, 10.2,\n",
       "       13.9, 16.3, 17. , 20.1, 29.9, 17.2, 37.3, 45.4, 17.8, 23.2, 29. ,\n",
       "       22. , 18. , 17.4, 34.6, 20.1, 25. , 15.6, 24.8, 28.2, 21.2, 21.4,\n",
       "       23.8, 31. , 26.2, 17.4, 37.9, 17.5, 20. ,  8.3, 23.9,  8.4, 13.8,\n",
       "        7.2, 11.7, 17.1, 21.6, 50. , 16.1, 20.4, 20.6, 21.4, 20.6, 36.5,\n",
       "        8.5, 24.8, 10.8, 21.9, 17.3, 18.9, 36.2, 14.9, 18.2, 33.3, 21.8,\n",
       "       19.7, 31.6, 24.8, 19.4, 22.8,  7.5, 44.8, 16.8, 18.7, 50. , 50. ,\n",
       "       19.5, 20.1, 50. , 17.2, 20.8, 19.3, 41.3, 20.4, 20.5, 13.8, 16.5,\n",
       "       23.9, 20.6, 31.5, 23.3, 16.8, 14. , 33.8, 36.1, 12.8, 18.3, 18.7,\n",
       "       19.1, 29. , 30.1, 50. , 50. , 22. , 11.9, 37.6, 50. , 22.7, 20.8,\n",
       "       23.5, 27.9, 50. , 19.3, 23.9, 22.6, 15.2, 21.7, 19.2, 43.8, 20.3,\n",
       "       33.2, 19.9, 22.5, 32.7, 22. , 17.1, 19. , 15. , 16.1, 25.1, 23.7,\n",
       "       28.7, 37.2, 22.6, 16.4, 25. , 29.8, 22.1, 17.4, 18.1, 30.3, 17.5,\n",
       "       24.7, 12.6, 26.5, 28.7, 13.3, 10.4, 24.4, 23. , 20. , 17.8,  7. ,\n",
       "       11.8, 24.4, 13.8, 19.4, 25.2, 19.4, 19.4, 29.1])"
      ]
     },
     "execution_count": 57,
     "metadata": {},
     "output_type": "execute_result"
    }
   ],
   "source": [
    "# 402개의 훈련 샘플, 102개의 테스트 샘플이 있고, 13개의 수치 특성이 있다.\n",
    "# 타깃은 주택의 중간 가격으로 천달러 단위임\n",
    "train_targets"
   ]
  },
  {
   "cell_type": "markdown",
   "id": "4b91e91c-6c17-4787-8d45-60d55ede7c37",
   "metadata": {},
   "source": [
    "# 4.3.2 데이터 준비"
   ]
  },
  {
   "cell_type": "code",
   "execution_count": 58,
   "id": "5668adf7-71a2-4652-9658-dee592e42e1c",
   "metadata": {},
   "outputs": [],
   "source": [
    "# 특성별로 정규화 하는 것\n",
    "# 입력 데이터에 있는 각 특성(입력 데이터 행렬의 열)에 대해 특성의 평균을 빼고 표준편차로 나눈다.\n",
    "# 특성의 중앙이 0근처에 맞추어지고 표준편차가 1이 됨"
   ]
  },
  {
   "cell_type": "code",
   "execution_count": 59,
   "id": "834a0bc1-6630-4d81-8d96-18a55ede3b2a",
   "metadata": {},
   "outputs": [],
   "source": [
    "# 4-2 데이터 정규화 하기\n",
    "# 2. 데이터 처리(전처리)\n",
    "mean= train_data.mean(axis=0)\n",
    "train_data -= mean\n",
    "std = train_data.std(axis=0)\n",
    "train_data /= std\n",
    "test_data -=mean\n",
    "test_data /= std"
   ]
  },
  {
   "cell_type": "code",
   "execution_count": 60,
   "id": "bfc455e8-ed3c-420c-9ca8-e67cd76326b8",
   "metadata": {},
   "outputs": [],
   "source": [
    "# 주의\n",
    "# 절대로 테스트 데이터에 계산한 어떠한 값도 사용해서 안됨"
   ]
  },
  {
   "cell_type": "markdown",
   "id": "2f51815a-2203-44b0-a37d-46c22323dfff",
   "metadata": {},
   "source": [
    "## 4.3.3 모델 구성"
   ]
  },
  {
   "cell_type": "code",
   "execution_count": 61,
   "id": "7e1073af-6038-4486-b9a3-462bad081fcf",
   "metadata": {},
   "outputs": [],
   "source": [
    "# 3. 모델만들기(정의하기) \n",
    "import keras\n",
    "\n",
    "def build_model():\n",
    "    model = keras.Sequential([\n",
    "        layers.Dense(64, activation = \"relu\"),\n",
    "        layers.Dense(64, activation = \"relu\"),\n",
    "        layers.Dense(1)\n",
    "    ])\n",
    "    model.compile(optimizer = \"rmsprop\", loss= \"mse\", metrics=[\"mae\"])\n",
    "    return model"
   ]
  },
  {
   "cell_type": "markdown",
   "id": "315e1ab2-7dc7-4e0e-ad50-79bf8776b2a9",
   "metadata": {},
   "source": [
    "## 4.3.4 K-겹 검증을 사용한 훈련 검증"
   ]
  },
  {
   "cell_type": "code",
   "execution_count": 62,
   "id": "ba417f57-1c0c-4b1b-a703-d1dc9bf8cebd",
   "metadata": {},
   "outputs": [
    {
     "name": "stdout",
     "output_type": "stream",
     "text": [
      "#0번째 폴드 처리중\n",
      "#1번째 폴드 처리중\n",
      "#2번째 폴드 처리중\n",
      "#3번째 폴드 처리중\n"
     ]
    }
   ],
   "source": [
    "# 4-26 K-겹 검증하기\n",
    "import numpy as np\n",
    "import keras\n",
    "\n",
    "\n",
    "k= 4\n",
    "num_val_samples =len(train_data)//k\n",
    "num_epochs = 100\n",
    "all_scores=[]\n",
    "for i in range(k):\n",
    "    print(f\"#{i}번째 폴드 처리중\")\n",
    "    val_data = train_data[i * num_val_samples: (i+1)* num_val_samples]\n",
    "    val_targets = train_targets[i * num_val_samples: (i+1)* num_val_samples]\n",
    "    partia_train_data = np.concatenate(\n",
    "    [train_data[:i* num_val_samples],\n",
    "     train_data[(i + 1)*num_val_samples:]],\n",
    "        axis=0)\n",
    "    partia_train_targets = np.concatenate(\n",
    "    [train_targets[:i * num_val_samples],\n",
    "    train_targets[(i + 1) * num_val_samples:]],\n",
    "    axis=0)\n",
    "model = build_model()\n",
    "model.fit(partia_train_data, partia_train_targets,\n",
    "         epochs = num_epochs, batch_size=16, verbose=0)\n",
    "val_mse, val_mae = model.evaluate(val_data, val_targets, verbose=0)\n",
    "all_scores.append(val_mae)"
   ]
  },
  {
   "cell_type": "code",
   "execution_count": 63,
   "id": "09a3bdbe-9016-4258-b71f-ae2b53c7fd2b",
   "metadata": {},
   "outputs": [
    {
     "data": {
      "text/plain": [
       "[2.3470988273620605]"
      ]
     },
     "execution_count": 63,
     "metadata": {},
     "output_type": "execute_result"
    }
   ],
   "source": [
    "# num_epochs=100으로 실행\n",
    "all_scores"
   ]
  },
  {
   "cell_type": "code",
   "execution_count": 64,
   "id": "49b1cf7a-4264-4e1c-9d11-8cb001986ef4",
   "metadata": {},
   "outputs": [
    {
     "data": {
      "text/plain": [
       "2.3470988273620605"
      ]
     },
     "execution_count": 64,
     "metadata": {},
     "output_type": "execute_result"
    }
   ],
   "source": [
    "np.mean(all_scores)"
   ]
  },
  {
   "cell_type": "code",
   "execution_count": 65,
   "id": "3bd9e1cf-dfe3-41fe-bca7-d3c1bfafeedf",
   "metadata": {},
   "outputs": [
    {
     "name": "stdout",
     "output_type": "stream",
     "text": [
      "#0번째 폴드 처리중\n",
      "#1번째 폴드 처리중\n",
      "#2번째 폴드 처리중\n",
      "#3번째 폴드 처리중\n"
     ]
    }
   ],
   "source": [
    "# 4-27 각 폴드의 검중 점수 저장하기\n",
    "num_epochs =500\n",
    "all_mae_histories = []\n",
    "for i in range(k):\n",
    "    print(f\"#{i}번째 폴드 처리중\")\n",
    "    val_data = train_data[i * num_val_samples: (i+1) * num_val_samples]\n",
    "    val_targets = train_targets[i* num_val_samples: (i+1)*num_val_samples]\n",
    "    partia_train_data= np.concatenate(\n",
    "    [train_data[:i * num_val_samples],\n",
    "    train_data[(i+1)*num_val_samples:]],\n",
    "    axis=0)\n",
    "partia_train_targets = np.concatenate(\n",
    "    [train_targets[:i * num_val_samples],\n",
    "    train_targets[(i + 1) * num_val_samples:]],\n",
    "    axis=0)\n",
    "model = build_model()\n",
    "history = model.fit(partia_train_data, partia_train_targets,\n",
    "                   validation_data=(val_data, val_targets),\n",
    "                   epochs=num_epochs, batch_size=16, verbose=0)\n",
    "mae_histoy = history.history['val_mae']\n",
    "all_mae_histories.append(mae_histoy)"
   ]
  },
  {
   "cell_type": "code",
   "execution_count": 187,
   "id": "b379c582-46b4-4d92-90b7-71438b19f8ec",
   "metadata": {
    "collapsed": true,
    "jupyter": {
     "outputs_hidden": true
    },
    "tags": []
   },
   "outputs": [
    {
     "name": "stdout",
     "output_type": "stream",
     "text": [
      "[21.251785278320312, 17.952741622924805, 13.450610160827637, 8.934240341186523, 6.457298278808594, 5.276968955993652, 4.506893634796143, 4.197632789611816, 3.8989779949188232, 3.681535005569458]\n",
      "[[17.208391189575195, 13.68774700164795, 9.505520820617676, 5.863607883453369, 4.744641304016113, 4.156180381774902, 3.705875873565674, 3.360576629638672, 3.250675916671753, 2.9229626655578613, 2.9160819053649902, 2.902553081512451, 2.802931308746338, 2.6277859210968018, 2.514071226119995, 2.505136489868164, 2.33263897895813, 2.305694818496704, 2.1962380409240723, 2.2477657794952393, 2.15116024017334, 2.458343505859375, 2.065349578857422, 2.011779308319092, 2.1303935050964355, 1.9415124654769897, 1.9363327026367188, 1.9260127544403076, 1.884361982345581, 1.986196517944336, 1.9698623418807983, 1.9495885372161865, 1.8983482122421265, 1.8757059574127197, 2.0055971145629883, 2.026499032974243, 1.8379371166229248, 1.8265125751495361, 1.8375465869903564, 1.847381830215454, 1.8221992254257202, 1.7992496490478516, 1.8189058303833008, 1.9299461841583252, 1.903123140335083, 1.8427789211273193, 1.7633907794952393, 1.8015438318252563, 1.836901068687439, 2.1004886627197266, 1.7940483093261719, 1.8266141414642334, 1.8544032573699951, 1.758695363998413, 1.923775315284729, 1.780242919921875, 1.8077545166015625, 1.9156907796859741, 1.771927833557129, 1.8061742782592773, 1.839029312133789, 1.8931167125701904, 2.018122911453247, 1.7837154865264893, 1.7303779125213623, 1.7693898677825928, 1.767093300819397, 1.7524826526641846, 1.7560495138168335, 1.7503677606582642, 1.8704020977020264, 1.7820236682891846, 1.9497178792953491, 1.866105318069458, 1.7321208715438843, 1.7641851902008057, 1.9363186359405518, 1.797231912612915, 1.9214591979980469, 1.7767760753631592, 1.8152824640274048, 1.6877495050430298, 1.8101890087127686, 1.7408126592636108, 1.7480360269546509, 1.8625099658966064, 1.9148082733154297, 1.7810825109481812, 1.7338192462921143, 1.8371254205703735, 1.7648454904556274, 1.7630027532577515, 1.7380597591400146, 1.802533745765686, 2.136218786239624, 1.840884804725647, 2.0249316692352295, 2.134566068649292, 1.7047659158706665, 1.743168830871582], [20.92072105407715, 17.07221794128418, 12.23686408996582, 8.238418579101562, 5.986262798309326, 4.938127517700195, 4.483839988708496, 3.9760003089904785, 3.881664276123047, 3.6494553089141846, 3.59788179397583, 3.5576062202453613, 3.4400742053985596, 3.3577053546905518, 3.303330898284912, 3.3046317100524902, 3.2755298614501953, 3.0913338661193848, 3.1169371604919434, 3.023015260696411, 2.953077793121338, 2.9625744819641113, 3.0837888717651367, 2.961839199066162, 2.928778648376465, 3.024881362915039, 2.769320487976074, 2.9698262214660645, 3.0106844902038574, 2.7821474075317383, 2.873885154724121, 2.9677274227142334, 2.79463267326355, 2.7883198261260986, 2.823359966278076, 2.992130756378174, 2.8938393592834473, 2.8409998416900635, 2.8733086585998535, 2.7832486629486084, 2.766270875930786, 2.7901415824890137, 2.952436923980713, 2.8408172130584717, 2.8235833644866943, 2.7063934803009033, 2.930295467376709, 2.868293046951294, 2.755361795425415, 2.785369634628296, 2.6827759742736816, 2.6435792446136475, 2.967848300933838, 2.714970350265503, 2.688175916671753, 2.7943458557128906, 2.7386879920959473, 2.7460503578186035, 2.6736111640930176, 2.7289862632751465, 2.6803207397460938, 2.6491634845733643, 2.6677603721618652, 2.650393009185791, 2.7187068462371826, 2.873940944671631, 2.679027795791626, 2.6883912086486816, 2.8859050273895264, 2.6674551963806152, 2.621030807495117, 2.653116226196289, 2.785351514816284, 2.9684088230133057, 2.595247745513916, 2.6134307384490967, 2.887044906616211, 2.8486011028289795, 2.657146453857422, 2.5893099308013916, 2.7350032329559326, 2.8166050910949707, 2.708292007446289, 2.536750316619873, 2.620060682296753, 2.700965166091919, 2.613046169281006, 2.6218676567077637, 2.9864914417266846, 2.658956527709961, 2.962920665740967, 3.027881622314453, 2.8889896869659424, 2.486258029937744, 2.6191258430480957, 3.162126064300537, 2.6520156860351562, 2.6911516189575195, 2.672006130218506, 2.5428619384765625], [19.360095977783203, 15.988276481628418, 11.548440933227539, 7.525996208190918, 5.50496768951416, 4.246429443359375, 3.5427780151367188, 3.2186503410339355, 3.059584856033325, 2.9463775157928467, 2.8235325813293457, 2.6993837356567383, 2.6728005409240723, 2.7234928607940674, 2.5805153846740723, 2.7418370246887207, 2.659991502761841, 2.4436264038085938, 2.5595040321350098, 2.4859161376953125, 2.3659660816192627, 2.3356375694274902, 2.5338950157165527, 2.4326138496398926, 2.5868682861328125, 2.567673444747925, 2.501993417739868, 2.6440558433532715, 2.8782310485839844, 2.409575939178467, 2.5821361541748047, 2.5317981243133545, 2.3361921310424805, 2.669140577316284, 2.373961925506592, 2.500847578048706, 2.4301609992980957, 2.374314069747925, 2.5443851947784424, 2.4296317100524902, 2.407367467880249, 2.538160800933838, 2.4721081256866455, 2.3734405040740967, 2.4257442951202393, 2.289867639541626, 2.651254177093506, 2.5443296432495117, 2.371809244155884, 2.3644371032714844, 2.423945426940918, 2.3942790031433105, 2.4688913822174072, 2.3719656467437744, 2.511430025100708, 2.292156219482422, 2.3523738384246826, 2.231519937515259, 2.401520013809204, 2.3387279510498047, 2.3443715572357178, 2.2914938926696777, 2.4227042198181152, 2.411344289779663, 2.5795814990997314, 2.3223609924316406, 2.4513142108917236, 2.2786755561828613, 2.330286979675293, 2.4117074012756348, 2.5343048572540283, 2.622077465057373, 2.30853533744812, 2.3609538078308105, 2.259615421295166, 2.320197105407715, 2.209517002105713, 2.2979865074157715, 2.5746185779571533, 2.17423677444458, 2.3607988357543945, 2.268763303756714, 2.3469736576080322, 2.3832459449768066, 2.212768077850342, 2.3221402168273926, 2.2419075965881348, 2.4294273853302, 2.207401752471924, 2.1945559978485107, 2.1721160411834717, 2.1219305992126465, 2.1144747734069824, 2.289715051651001, 2.269930124282837, 2.2064976692199707, 2.1086361408233643, 2.310770034790039, 2.1430606842041016, 2.1178672313690186]]\n"
     ]
    }
   ],
   "source": [
    "mae_history = history.history['val_mae']\n",
    "print(mae_history[:10])\n",
    "    \n",
    "all_mae_histories.append(mae_history)\n",
    "print(all_mae_histories[:3])"
   ]
  },
  {
   "cell_type": "code",
   "execution_count": 66,
   "id": "5c7203d7-2283-4628-a832-e9a4eab583df",
   "metadata": {},
   "outputs": [],
   "source": [
    "# 4-28 k-겹 검증 점수 평균 기록\n",
    "average_mae_history=[\n",
    "        np.mean([x[i] for x in all_mae_histories]) for i in range(num_epochs)]"
   ]
  },
  {
   "cell_type": "code",
   "execution_count": 67,
   "id": "e3b2f461-e3d1-499b-96fe-35f54dbc0093",
   "metadata": {},
   "outputs": [
    {
     "data": {
      "image/png": "[encoded data removed]",
      "text/plain": [
       "<Figure size 432x288 with 1 Axes>"
      ]
     },
     "metadata": {
      "needs_background": "light"
     },
     "output_type": "display_data"
    }
   ],
   "source": [
    "# 4-29 검증 점수 그래프 그리기\n",
    "plt.plot(range(1, len(average_mae_history)+1), average_mae_history)\n",
    "plt.xlabel(\"Epochs\")\n",
    "plt.ylabel(\"Validation MAE\")\n",
    "plt.show()"
   ]
  },
  {
   "cell_type": "code",
   "execution_count": 68,
   "id": "1daba8fc-99fb-4cae-b876-1b3c51d92f1d",
   "metadata": {},
   "outputs": [
    {
     "data": {
      "image/png": "[encoded data removed]",
      "text/plain": [
       "<Figure size 432x288 with 1 Axes>"
      ]
     },
     "metadata": {
      "needs_background": "light"
     },
     "output_type": "display_data"
    }
   ],
   "source": [
    "# 나머지 곡선 부분과 스케일이 크게 다른 처음 10개의 데이터 포인트 제외 시키기\n",
    "# 4-30 처음 10개의 데이터 포인트를 제외한 검증 점수 그래프 그리기\n",
    "truncated_mae_history = average_mae_history[10:]\n",
    "plt.plot(range(1, len(truncated_mae_history)+1), truncated_mae_history)\n",
    "plt.xlabel(\"Epochs\")\n",
    "plt.ylabel(\"Validation MAE\")\n",
    "plt.show()"
   ]
  },
  {
   "cell_type": "code",
   "execution_count": 69,
   "id": "2d3c184b-ceb9-4ae2-8bd7-8cac48dc667a",
   "metadata": {},
   "outputs": [],
   "source": [
    "# 140번째 에포크 이후에 줄어드는 것이 멈춤. 이 지점 이후로는 과대적합이 시작됨"
   ]
  },
  {
   "cell_type": "code",
   "execution_count": 70,
   "id": "26f5ef22-debb-425f-bae7-529f7cda478b",
   "metadata": {},
   "outputs": [
    {
     "name": "stdout",
     "output_type": "stream",
     "text": [
      "4/4 [==============================] - 0s 1ms/step - loss: 13.4363 - mae: 2.5128\n"
     ]
    }
   ],
   "source": [
    "# 4-31 최종 모델 훈련하기\n",
    "model = build_model()\n",
    "model.fit(train_data, train_targets,\n",
    "         epochs= 130, batch_size=16, verbose=0)\n",
    "test_mse_score, test_mae_score = model.evaluate(test_data, test_targets)"
   ]
  },
  {
   "cell_type": "code",
   "execution_count": 71,
   "id": "4b4f5017-145b-4314-890f-cb8cdbb2213c",
   "metadata": {},
   "outputs": [
    {
     "data": {
      "text/plain": [
       "2.5128090381622314"
      ]
     },
     "execution_count": 71,
     "metadata": {},
     "output_type": "execute_result"
    }
   ],
   "source": [
    "test_mae_score"
   ]
  },
  {
   "cell_type": "markdown",
   "id": "37fa6572-3b0e-41bb-8348-47380db36ceb",
   "metadata": {},
   "source": [
    "## 4.3.5 새로운 데이터에 대해 예측하기\n",
    "- 이진분류 모델에서 predict() 메서드를 호출할 때 각 샘플에 대해 0과 1사이의 스칼라 점수가 반환되었다. \n",
    "- 다중분류 모델이므로 각 샘플마다 클래스에 대한 확률 분포릉 얻었다.\n",
    "- 이제 스칼라 회귀 모델의 predict()메서드를 사용하여 새로운 샘플의 가격을 1,000달러 단위로 예측할 수 있다."
   ]
  },
  {
   "cell_type": "code",
   "execution_count": null,
   "id": "672dd8f9-4144-4e34-bad6-25805eea4b5c",
   "metadata": {},
   "outputs": [],
   "source": [
    "predictions = model.predict(test_data)\n",
    "prediction[0]\n",
    "\n",
    "# 답은 array([9.990133], dtype = float32)\n",
    "# 테스트 세트에 있는 첫번째 주택의 가격은 약 1만 달러로 예상됨"
   ]
  },
  {
   "cell_type": "code",
   "execution_count": null,
   "id": "1d52e808-b05d-44a0-9d88-bc675d791b2c",
   "metadata": {},
   "outputs": [],
   "source": [
    "## 4.3.6 정리\n",
    "- 회귀는 분류에서 사용했던 것과는 다른 손실 함수를 사용한다. 평균 제곱오차(mse)는 회귀에서 자주 사용되는 손실함수이다\n",
    "- 비슷하게 회귀에서 사용되는 평가지표는 분류와 다르다. 당연히 정확도 개념은 회귀에 적용되지 않는다. 일반적인 회귀지표는 평균절대오차(mae)이다.\n",
    "- 입력 데이터의 특성이 서로 다른 범위를 가지면 전처리 단계에서 각 특성을 개별적으로 스케일 조정 해야한다.\n",
    "- 가용한 데이터가 적다면 k-겹 검증을 사용하는 것이 신뢰할 수 있는 모델 평가 방법이다.\n",
    "- 가용한 훈련데이터가 적다면 과대적합을 피하기 위해 중간층의 수를 줄인 작은 모델을 사용하는 것이 좋다. (일반적으로 1개, 2개)"
   ]
  },
  {
   "cell_type": "code",
   "execution_count": null,
   "id": "caea3cd2-22fa-43ab-9342-978ad1239da0",
   "metadata": {},
   "outputs": [],
   "source": [
    "## 4.4 요약\n",
    "- 벡터 데이터를 사용하는 가장 일반적인 머시러닝 작업은 이진분류, 다중분류, 스칼라 회귀이다.\n",
    "- 보통 원본 데이터를 신경망에 주입하기 전에 전처리 해야 함\n",
    "- 데이터에 범위가 다른 특성이 있다면 전처리 단계에서 각 특성을 독립적으로 스케일 조정해야 함\n",
    "- 훈련이 진행됨에 따라 신경망의 과대적합이 시작되고 새로운 데이터에 대해 나쁜 결과를 얻게 됨\n",
    "- 훈련 데이터가 많지 않으면 과대적합을 피하기 위해 1개, 2개의 중간층을 가진 모델을 사용\n",
    "- 데이터가 많은 범주로 나뉘어 있을 때 중간층이 너무 작으면 정보의 병목이 생길 수 있다.\n",
    "- 데이터 양이 적을 때는 k-겹 검증이 신뢰할 수 있는 모델 평가를 도와준다."
   ]
  },
  {
   "cell_type": "markdown",
   "id": "47959f7f-cadd-4a08-87c9-979de168dd50",
   "metadata": {},
   "source": [
    "# 11.24 p.172~178"
   ]
  },
  {
   "cell_type": "markdown",
   "id": "e7dc961c-8e47-4766-9f13-e89852fb4b99",
   "metadata": {},
   "source": [
    "all_mae_histories[0][0]\n",
    "all_mae_histories[1][0]\n",
    "all_mae_histories[2][0]\n",
    "all_mae_histories[3][0]\n",
    "all_mae_histories[4][0]\n",
    "\n",
    "all_mae_histories[0][1]\n",
    "all_mae_histories[1][1]\n",
    "all_mae_histories[2][1]\n",
    "all_mae_histories[3][1]\n",
    "all_mae_histories[4][1]\n",
    "\n",
    "all_mae_histories[0][2]\n",
    "all_mae_histories[1][2]\n",
    "all_mae_histories[2][2]\n",
    "all_mae_histories[3][2]\n",
    "all_mae_histories[4][2]"
   ]
  },
  {
   "cell_type": "code",
   "execution_count": 170,
   "id": "9a814cc5-d304-47ec-afe8-41b97839f13f",
   "metadata": {
    "collapsed": true,
    "jupyter": {
     "outputs_hidden": true
    },
    "tags": []
   },
   "outputs": [
    {
     "name": "stdout",
     "output_type": "stream",
     "text": [
      "[21.251785278320312, 17.952741622924805, 13.450610160827637, 8.934240341186523, 6.457298278808594, 5.276968955993652, 4.506893634796143, 4.197632789611816, 3.8989779949188232, 3.681535005569458, 3.5456976890563965, 3.384284257888794, 3.2831192016601562, 3.1660523414611816, 3.1767077445983887, 3.147764205932617, 2.9752626419067383, 2.942695140838623, 2.8524012565612793, 2.8611092567443848, 2.9858574867248535, 2.8838586807250977, 2.7284018993377686, 2.795139789581299, 2.7944087982177734, 2.839743137359619, 2.698698043823242, 2.7022316455841064, 2.6903305053710938, 2.755497455596924, 2.7379870414733887, 2.8805737495422363, 2.7204298973083496, 2.623520612716675, 2.7626218795776367, 2.8740596771240234, 2.6781322956085205, 2.72151517868042, 2.7244038581848145, 2.744626998901367, 2.6313834190368652, 2.6625304222106934, 2.7194926738739014, 2.6594223976135254, 2.6553401947021484, 2.6415421962738037, 2.660891056060791, 2.8110060691833496, 2.7115135192871094, 2.728978157043457, 2.716287612915039, 2.564815044403076, 2.6805405616760254, 2.6229262351989746, 2.704794406890869, 2.5511250495910645, 2.695392608642578, 2.7204127311706543, 2.626530408859253, 2.5772454738616943, 2.6666321754455566, 2.5663700103759766, 2.745192527770996, 2.608095169067383, 2.6600780487060547, 2.635077714920044, 2.5920348167419434, 2.664191722869873, 2.7324182987213135, 2.603712797164917, 2.545375347137451, 2.6405482292175293, 2.573014736175537, 2.5797641277313232, 2.6416757106781006, 2.6421186923980713, 2.6954288482666016, 2.559879779815674, 2.7356934547424316, 2.532519817352295, 2.508366346359253, 2.6900827884674072, 2.5654850006103516, 2.5375266075134277, 2.81536602973938, 2.5222461223602295, 2.566006660461426, 2.5297515392303467, 2.5515239238739014, 2.596221446990967, 2.587953805923462, 2.6362226009368896, 2.5123648643493652, 2.620936155319214, 2.624067544937134, 2.6300878524780273, 2.496525526046753, 2.628063917160034, 2.717794418334961, 2.5091891288757324]\n"
     ]
    }
   ],
   "source": [
    "# 방법1\n",
    "a_m_h = []\n",
    "for i in range(num_epochs):\n",
    "    each_epoch = []\n",
    "    for x in all_mae_histories:\n",
    "        each_epoch.append(x[i])\n",
    "    a_m_h.append(np.mean(each_epoch)) \n",
    "print(mae_history)"
   ]
  },
  {
   "cell_type": "code",
   "execution_count": 171,
   "id": "24a9d310-7f06-4efc-a259-33abc9b6d555",
   "metadata": {
    "collapsed": true,
    "jupyter": {
     "outputs_hidden": true
    },
    "tags": []
   },
   "outputs": [
    {
     "name": "stdout",
     "output_type": "stream",
     "text": [
      "17.208391189575195\n",
      "20.92072105407715\n",
      "19.360095977783203\n",
      "19.283939361572266\n",
      "21.251785278320312\n",
      "13.68774700164795\n",
      "17.07221794128418\n",
      "15.988276481628418\n",
      "15.728100776672363\n",
      "17.952741622924805\n",
      "9.505520820617676\n",
      "12.23686408996582\n",
      "11.548440933227539\n",
      "11.411537170410156\n",
      "13.450610160827637\n",
      "5.863607883453369\n",
      "8.238418579101562\n",
      "7.525996208190918\n",
      "7.214821815490723\n",
      "8.934240341186523\n",
      "4.744641304016113\n",
      "5.986262798309326\n",
      "5.50496768951416\n",
      "5.417281150817871\n",
      "6.457298278808594\n",
      "4.156180381774902\n",
      "4.938127517700195\n",
      "4.246429443359375\n",
      "4.543072700500488\n",
      "5.276968955993652\n",
      "3.705875873565674\n",
      "4.483839988708496\n",
      "3.5427780151367188\n",
      "3.9631569385528564\n",
      "4.506893634796143\n",
      "3.360576629638672\n",
      "3.9760003089904785\n",
      "3.2186503410339355\n",
      "3.648258686065674\n",
      "4.197632789611816\n",
      "3.250675916671753\n",
      "3.881664276123047\n",
      "3.059584856033325\n",
      "3.470313310623169\n",
      "3.8989779949188232\n",
      "2.9229626655578613\n",
      "3.6494553089141846\n",
      "2.9463775157928467\n",
      "3.3942089080810547\n",
      "3.681535005569458\n",
      "2.9160819053649902\n",
      "3.59788179397583\n",
      "2.8235325813293457\n",
      "3.1797385215759277\n",
      "3.5456976890563965\n",
      "2.902553081512451\n",
      "3.5576062202453613\n",
      "2.6993837356567383\n",
      "3.3262734413146973\n",
      "3.384284257888794\n",
      "2.802931308746338\n",
      "3.4400742053985596\n",
      "2.6728005409240723\n",
      "3.1820671558380127\n",
      "3.2831192016601562\n",
      "2.6277859210968018\n",
      "3.3577053546905518\n",
      "2.7234928607940674\n",
      "2.9803977012634277\n",
      "3.1660523414611816\n",
      "2.514071226119995\n",
      "3.303330898284912\n",
      "2.5805153846740723\n",
      "2.9519858360290527\n",
      "3.1767077445983887\n",
      "2.505136489868164\n",
      "3.3046317100524902\n",
      "2.7418370246887207\n",
      "2.9394383430480957\n",
      "3.147764205932617\n",
      "2.33263897895813\n",
      "3.2755298614501953\n",
      "2.659991502761841\n",
      "2.8554129600524902\n",
      "2.9752626419067383\n",
      "2.305694818496704\n",
      "3.0913338661193848\n",
      "2.4436264038085938\n",
      "2.838315963745117\n",
      "2.942695140838623\n",
      "2.1962380409240723\n",
      "3.1169371604919434\n",
      "2.5595040321350098\n",
      "2.853605031967163\n",
      "2.8524012565612793\n",
      "2.2477657794952393\n",
      "3.023015260696411\n",
      "2.4859161376953125\n",
      "2.9265663623809814\n",
      "2.8611092567443848\n",
      "2.15116024017334\n",
      "2.953077793121338\n",
      "2.3659660816192627\n",
      "2.80401349067688\n",
      "2.9858574867248535\n",
      "2.458343505859375\n",
      "2.9625744819641113\n",
      "2.3356375694274902\n",
      "2.7162973880767822\n",
      "2.8838586807250977\n",
      "2.065349578857422\n",
      "3.0837888717651367\n",
      "2.5338950157165527\n",
      "2.901643991470337\n",
      "2.7284018993377686\n",
      "2.011779308319092\n",
      "2.961839199066162\n",
      "2.4326138496398926\n",
      "2.7645487785339355\n",
      "2.795139789581299\n",
      "2.1303935050964355\n",
      "2.928778648376465\n",
      "2.5868682861328125\n",
      "2.7648355960845947\n",
      "2.7944087982177734\n",
      "1.9415124654769897\n",
      "3.024881362915039\n",
      "2.567673444747925\n",
      "2.6804025173187256\n",
      "2.839743137359619\n",
      "1.9363327026367188\n",
      "2.769320487976074\n",
      "2.501993417739868\n",
      "2.7509262561798096\n",
      "2.698698043823242\n",
      "1.9260127544403076\n",
      "2.9698262214660645\n",
      "2.6440558433532715\n",
      "2.8410441875457764\n",
      "2.7022316455841064\n",
      "1.884361982345581\n",
      "3.0106844902038574\n",
      "2.8782310485839844\n",
      "2.8892037868499756\n",
      "2.6903305053710938\n",
      "1.986196517944336\n",
      "2.7821474075317383\n",
      "2.409575939178467\n",
      "2.818617820739746\n",
      "2.755497455596924\n",
      "1.9698623418807983\n",
      "2.873885154724121\n",
      "2.5821361541748047\n",
      "2.628932476043701\n",
      "2.7379870414733887\n",
      "1.9495885372161865\n",
      "2.9677274227142334\n",
      "2.5317981243133545\n",
      "2.780071496963501\n",
      "2.8805737495422363\n",
      "1.8983482122421265\n",
      "2.79463267326355\n",
      "2.3361921310424805\n",
      "2.5930662155151367\n",
      "2.7204298973083496\n",
      "1.8757059574127197\n",
      "2.7883198261260986\n",
      "2.669140577316284\n",
      "2.758417844772339\n",
      "2.623520612716675\n",
      "2.0055971145629883\n",
      "2.823359966278076\n",
      "2.373961925506592\n",
      "2.654242992401123\n",
      "2.7626218795776367\n",
      "2.026499032974243\n",
      "2.992130756378174\n",
      "2.500847578048706\n",
      "2.6513867378234863\n",
      "2.8740596771240234\n",
      "1.8379371166229248\n",
      "2.8938393592834473\n",
      "2.4301609992980957\n",
      "2.584843873977661\n",
      "2.6781322956085205\n",
      "1.8265125751495361\n",
      "2.8409998416900635\n",
      "2.374314069747925\n",
      "2.651541233062744\n",
      "2.72151517868042\n",
      "1.8375465869903564\n",
      "2.8733086585998535\n",
      "2.5443851947784424\n",
      "2.6368796825408936\n",
      "2.7244038581848145\n",
      "1.847381830215454\n",
      "2.7832486629486084\n",
      "2.4296317100524902\n",
      "2.723700523376465\n",
      "2.744626998901367\n",
      "1.8221992254257202\n",
      "2.766270875930786\n",
      "2.407367467880249\n",
      "2.5833773612976074\n",
      "2.6313834190368652\n",
      "1.7992496490478516\n",
      "2.7901415824890137\n",
      "2.538160800933838\n",
      "2.633366346359253\n",
      "2.6625304222106934\n",
      "1.8189058303833008\n",
      "2.952436923980713\n",
      "2.4721081256866455\n",
      "2.5385947227478027\n",
      "2.7194926738739014\n",
      "1.9299461841583252\n",
      "2.8408172130584717\n",
      "2.3734405040740967\n",
      "2.5543105602264404\n",
      "2.6594223976135254\n",
      "1.903123140335083\n",
      "2.8235833644866943\n",
      "2.4257442951202393\n",
      "2.510446071624756\n",
      "2.6553401947021484\n",
      "1.8427789211273193\n",
      "2.7063934803009033\n",
      "2.289867639541626\n",
      "2.6002674102783203\n",
      "2.6415421962738037\n",
      "1.7633907794952393\n",
      "2.930295467376709\n",
      "2.651254177093506\n",
      "2.6874544620513916\n",
      "2.660891056060791\n",
      "1.8015438318252563\n",
      "2.868293046951294\n",
      "2.5443296432495117\n",
      "2.5519137382507324\n",
      "2.8110060691833496\n",
      "1.836901068687439\n",
      "2.755361795425415\n",
      "2.371809244155884\n",
      "2.495558023452759\n",
      "2.7115135192871094\n",
      "2.1004886627197266\n",
      "2.785369634628296\n",
      "2.3644371032714844\n",
      "2.5354855060577393\n",
      "2.728978157043457\n",
      "1.7940483093261719\n",
      "2.6827759742736816\n",
      "2.423945426940918\n",
      "2.462794303894043\n",
      "2.716287612915039\n",
      "1.8266141414642334\n",
      "2.6435792446136475\n",
      "2.3942790031433105\n",
      "2.4425694942474365\n",
      "2.564815044403076\n",
      "1.8544032573699951\n",
      "2.967848300933838\n",
      "2.4688913822174072\n",
      "2.5250954627990723\n",
      "2.6805405616760254\n",
      "1.758695363998413\n",
      "2.714970350265503\n",
      "2.3719656467437744\n",
      "2.6210243701934814\n",
      "2.6229262351989746\n",
      "1.923775315284729\n",
      "2.688175916671753\n",
      "2.511430025100708\n",
      "2.5767104625701904\n",
      "2.704794406890869\n",
      "1.780242919921875\n",
      "2.7943458557128906\n",
      "2.292156219482422\n",
      "2.4973855018615723\n",
      "2.5511250495910645\n",
      "1.8077545166015625\n",
      "2.7386879920959473\n",
      "2.3523738384246826\n",
      "2.5858917236328125\n",
      "2.695392608642578\n",
      "1.9156907796859741\n",
      "2.7460503578186035\n",
      "2.231519937515259\n",
      "2.4616806507110596\n",
      "2.7204127311706543\n",
      "1.771927833557129\n",
      "2.6736111640930176\n",
      "2.401520013809204\n",
      "2.6163227558135986\n",
      "2.626530408859253\n",
      "1.8061742782592773\n",
      "2.7289862632751465\n",
      "2.3387279510498047\n",
      "2.73181414604187\n",
      "2.5772454738616943\n",
      "1.839029312133789\n",
      "2.6803207397460938\n",
      "2.3443715572357178\n",
      "2.5083565711975098\n",
      "2.6666321754455566\n",
      "1.8931167125701904\n",
      "2.6491634845733643\n",
      "2.2914938926696777\n",
      "2.4711740016937256\n",
      "2.5663700103759766\n",
      "2.018122911453247\n",
      "2.6677603721618652\n",
      "2.4227042198181152\n",
      "2.5545706748962402\n",
      "2.745192527770996\n",
      "1.7837154865264893\n",
      "2.650393009185791\n",
      "2.411344289779663\n",
      "2.494171142578125\n",
      "2.608095169067383\n",
      "1.7303779125213623\n",
      "2.7187068462371826\n",
      "2.5795814990997314\n",
      "2.565275192260742\n",
      "2.6600780487060547\n",
      "1.7693898677825928\n",
      "2.873940944671631\n",
      "2.3223609924316406\n",
      "2.555016040802002\n",
      "2.635077714920044\n",
      "1.767093300819397\n",
      "2.679027795791626\n",
      "2.4513142108917236\n",
      "2.453397274017334\n",
      "2.5920348167419434\n",
      "1.7524826526641846\n",
      "2.6883912086486816\n",
      "2.2786755561828613\n",
      "2.4512059688568115\n",
      "2.664191722869873\n",
      "1.7560495138168335\n",
      "2.8859050273895264\n",
      "2.330286979675293\n",
      "2.4916529655456543\n",
      "2.7324182987213135\n",
      "1.7503677606582642\n",
      "2.6674551963806152\n",
      "2.4117074012756348\n",
      "2.478600263595581\n",
      "2.603712797164917\n",
      "1.8704020977020264\n",
      "2.621030807495117\n",
      "2.5343048572540283\n",
      "2.4922280311584473\n",
      "2.545375347137451\n",
      "1.7820236682891846\n",
      "2.653116226196289\n",
      "2.622077465057373\n",
      "2.5991950035095215\n",
      "2.6405482292175293\n",
      "1.9497178792953491\n",
      "2.785351514816284\n",
      "2.30853533744812\n",
      "2.4389781951904297\n",
      "2.573014736175537\n",
      "1.866105318069458\n",
      "2.9684088230133057\n",
      "2.3609538078308105\n",
      "2.4311842918395996\n",
      "2.5797641277313232\n",
      "1.7321208715438843\n",
      "2.595247745513916\n",
      "2.259615421295166\n",
      "2.4764511585235596\n",
      "2.6416757106781006\n",
      "1.7641851902008057\n",
      "2.6134307384490967\n",
      "2.320197105407715\n",
      "2.4252121448516846\n",
      "2.6421186923980713\n",
      "1.9363186359405518\n",
      "2.887044906616211\n",
      "2.209517002105713\n",
      "2.545839786529541\n",
      "2.6954288482666016\n",
      "1.797231912612915\n",
      "2.8486011028289795\n",
      "2.2979865074157715\n",
      "2.457216739654541\n",
      "2.559879779815674\n",
      "1.9214591979980469\n",
      "2.657146453857422\n",
      "2.5746185779571533\n",
      "2.4532434940338135\n",
      "2.7356934547424316\n",
      "1.7767760753631592\n",
      "2.5893099308013916\n",
      "2.17423677444458\n",
      "2.4888243675231934\n",
      "2.532519817352295\n",
      "1.8152824640274048\n",
      "2.7350032329559326\n",
      "2.3607988357543945\n",
      "2.438680648803711\n",
      "2.508366346359253\n",
      "1.6877495050430298\n",
      "2.8166050910949707\n",
      "2.268763303756714\n",
      "2.4571146965026855\n",
      "2.6900827884674072\n",
      "1.8101890087127686\n",
      "2.708292007446289\n",
      "2.3469736576080322\n",
      "2.545948028564453\n",
      "2.5654850006103516\n",
      "1.7408126592636108\n",
      "2.536750316619873\n",
      "2.3832459449768066\n",
      "2.514495611190796\n",
      "2.5375266075134277\n",
      "1.7480360269546509\n",
      "2.620060682296753\n",
      "2.212768077850342\n",
      "2.4403445720672607\n",
      "2.81536602973938\n",
      "1.8625099658966064\n",
      "2.700965166091919\n",
      "2.3221402168273926\n",
      "2.53403639793396\n",
      "2.5222461223602295\n",
      "1.9148082733154297\n",
      "2.613046169281006\n",
      "2.2419075965881348\n",
      "2.576488494873047\n",
      "2.566006660461426\n",
      "1.7810825109481812\n",
      "2.6218676567077637\n",
      "2.4294273853302\n",
      "2.463960647583008\n",
      "2.5297515392303467\n",
      "1.7338192462921143\n",
      "2.9864914417266846\n",
      "2.207401752471924\n",
      "2.5157487392425537\n",
      "2.5515239238739014\n",
      "1.8371254205703735\n",
      "2.658956527709961\n",
      "2.1945559978485107\n",
      "2.5368800163269043\n",
      "2.596221446990967\n",
      "1.7648454904556274\n",
      "2.962920665740967\n",
      "2.1721160411834717\n",
      "2.5978918075561523\n",
      "2.587953805923462\n",
      "1.7630027532577515\n",
      "3.027881622314453\n",
      "2.1219305992126465\n",
      "2.633838176727295\n",
      "2.6362226009368896\n",
      "1.7380597591400146\n",
      "2.8889896869659424\n",
      "2.1144747734069824\n",
      "2.5651817321777344\n",
      "2.5123648643493652\n",
      "1.802533745765686\n",
      "2.486258029937744\n",
      "2.289715051651001\n",
      "2.4726474285125732\n",
      "2.620936155319214\n",
      "2.136218786239624\n",
      "2.6191258430480957\n",
      "2.269930124282837\n",
      "2.6564457416534424\n",
      "2.624067544937134\n",
      "1.840884804725647\n",
      "3.162126064300537\n",
      "2.2064976692199707\n",
      "2.4458322525024414\n",
      "2.6300878524780273\n",
      "2.0249316692352295\n",
      "2.6520156860351562\n",
      "2.1086361408233643\n",
      "2.6125354766845703\n",
      "2.496525526046753\n",
      "2.134566068649292\n",
      "2.6911516189575195\n",
      "2.310770034790039\n",
      "2.4709441661834717\n",
      "2.628063917160034\n",
      "1.7047659158706665\n",
      "2.672006130218506\n",
      "2.1430606842041016\n",
      "2.6453206539154053\n",
      "2.717794418334961\n",
      "1.743168830871582\n",
      "2.5428619384765625\n",
      "2.1178672313690186\n",
      "2.420698642730713\n",
      "2.5091891288757324\n"
     ]
    }
   ],
   "source": [
    "# 방법2\n",
    "all_avg_mae=[]\n",
    "for i in range(100):\n",
    "    for mae_history in all_mae_histories:\n",
    "        all_mae = []\n",
    "        all_mae = mae_history[i]\n",
    "        all_avg_mae.append(np.mean(all_mae))\n",
    "        print(all_mae)"
   ]
  },
  {
   "cell_type": "code",
   "execution_count": 178,
   "id": "9caa1323-b2da-4941-b91b-0f225acd0a4a",
   "metadata": {},
   "outputs": [
    {
     "data": {
      "text/plain": [
       "<matplotlib.collections.PathCollection at 0x28995513f10>"
      ]
     },
     "execution_count": 178,
     "metadata": {},
     "output_type": "execute_result"
    },
    {
     "data": {
      "image/png": "[encoded data removed]",
      "text/plain": [
       "<Figure size 432x288 with 1 Axes>"
      ]
     },
     "metadata": {
      "needs_background": "light"
     },
     "output_type": "display_data"
    }
   ],
   "source": [
    "plt.scatter(range(1,501),all_avg_mae)"
   ]
  },
  {
   "cell_type": "code",
   "execution_count": 179,
   "id": "e6ba4fb5-8583-422e-87a2-acca2ef98c43",
   "metadata": {},
   "outputs": [
    {
     "name": "stdout",
     "output_type": "stream",
     "text": [
      "4/4 [==============================] - 0s 998us/step - loss: 17.0552 - mae: 2.8920\n"
     ]
    },
    {
     "data": {
      "text/plain": [
       "2.8919928073883057"
      ]
     },
     "execution_count": 179,
     "metadata": {},
     "output_type": "execute_result"
    }
   ],
   "source": [
    "model = build_model()\n",
    "model.fit(train_data, train_targets,\n",
    "         epochs = 130,  batch_size=16, verbose=0)\n",
    "test_mse_score, test_mae_score =model.evaluate(test_data, test_targets)\n",
    "\n",
    "test_mae_score\n",
    "# 값이 적을수록 좋은 것임"
   ]
  },
  {
   "cell_type": "markdown",
   "id": "6f3acb4b-930c-46d7-8aca-4bf96fca8638",
   "metadata": {},
   "source": [
    "train_x: data: 13개의 변수\n",
    "test_y: target: 집값"
   ]
  },
  {
   "cell_type": "code",
   "execution_count": 181,
   "id": "5fc03cc1-37a8-41f4-80c0-3510cefa3c19",
   "metadata": {
    "tags": []
   },
   "outputs": [
    {
     "name": "stdout",
     "output_type": "stream",
     "text": [
      "4/4 [==============================] - 0s 811us/step\n"
     ]
    },
    {
     "data": {
      "text/plain": [
       "array([9.963131], dtype=float32)"
      ]
     },
     "execution_count": 181,
     "metadata": {},
     "output_type": "execute_result"
    }
   ],
   "source": [
    "model.predict(test_data)[0]"
   ]
  },
  {
   "cell_type": "code",
   "execution_count": null,
   "id": "86928417-3dd4-410a-a3ce-e4cf4b06dae1",
   "metadata": {},
   "outputs": [],
   "source": [
    "--------------------------------------------------"
   ]
  },
  {
   "cell_type": "markdown",
   "id": "061f2ad8-4a5d-4b5c-85a7-b9e9def8bf80",
   "metadata": {},
   "source": [
    "# 5. 머신러닝의 기본요소"
   ]
  },
  {
   "cell_type": "code",
   "execution_count": 19,
   "id": "181257c3-ef2a-4513-8450-f7d11c6d2c8f",
   "metadata": {},
   "outputs": [],
   "source": [
    "# 5-1 mnist에 백색 잡음 픽셀과 0픽셀 추가하기\n",
    "from tensorflow.keras.datasets import mnist\n",
    "import numpy as np\n",
    "\n",
    "(train_images, train_labels), _ = mnist.load_data()\n",
    "train_images = train_images.reshape((60000, 28*28))\n",
    "train_images = train_images.astype(\"float32\") / 255\n",
    "train_images_with_noise_channels = np.concatenate(\n",
    "    [train_images, np.random.random((len(train_images), 784))], axis=1)\n",
    "train_images_with_zeros_channels = np.concatenate(\n",
    "    [train_images, np.zeros((len(train_images), 784))], axis=1)"
   ]
  },
  {
   "cell_type": "code",
   "execution_count": 20,
   "id": "b7b6dd6b-a6cc-4c09-b10c-ed66f1f75039",
   "metadata": {},
   "outputs": [
    {
     "name": "stdout",
     "output_type": "stream",
     "text": [
      "Epoch 1/10\n",
      "375/375 [==============================] - 3s 7ms/step - loss: 0.6452 - accuracy: 0.8106 - val_loss: 0.3376 - val_accuracy: 0.8920\n",
      "Epoch 2/10\n",
      "375/375 [==============================] - 3s 7ms/step - loss: 0.2526 - accuracy: 0.9212 - val_loss: 0.2931 - val_accuracy: 0.9053\n",
      "Epoch 3/10\n",
      "375/375 [==============================] - 3s 7ms/step - loss: 0.1635 - accuracy: 0.9484 - val_loss: 0.1765 - val_accuracy: 0.9441\n",
      "Epoch 4/10\n",
      "375/375 [==============================] - 3s 7ms/step - loss: 0.1146 - accuracy: 0.9652 - val_loss: 0.1470 - val_accuracy: 0.9539\n",
      "Epoch 5/10\n",
      "375/375 [==============================] - 3s 7ms/step - loss: 0.0849 - accuracy: 0.9735 - val_loss: 0.1245 - val_accuracy: 0.9633\n",
      "Epoch 6/10\n",
      "375/375 [==============================] - 3s 7ms/step - loss: 0.0628 - accuracy: 0.9803 - val_loss: 0.1321 - val_accuracy: 0.9619\n",
      "Epoch 7/10\n",
      "375/375 [==============================] - 3s 7ms/step - loss: 0.0480 - accuracy: 0.9848 - val_loss: 0.1824 - val_accuracy: 0.9457\n",
      "Epoch 8/10\n",
      "375/375 [==============================] - 3s 7ms/step - loss: 0.0342 - accuracy: 0.9890 - val_loss: 0.1155 - val_accuracy: 0.9681\n",
      "Epoch 9/10\n",
      "375/375 [==============================] - 3s 7ms/step - loss: 0.0269 - accuracy: 0.9912 - val_loss: 0.1543 - val_accuracy: 0.9616\n",
      "Epoch 10/10\n",
      "375/375 [==============================] - 3s 7ms/step - loss: 0.0213 - accuracy: 0.9929 - val_loss: 0.1349 - val_accuracy: 0.9660\n",
      "Epoch 1/10\n",
      "375/375 [==============================] - 3s 7ms/step - loss: 0.2890 - accuracy: 0.9159 - val_loss: 0.1505 - val_accuracy: 0.9574\n",
      "Epoch 2/10\n",
      "375/375 [==============================] - 2s 7ms/step - loss: 0.1182 - accuracy: 0.9647 - val_loss: 0.1026 - val_accuracy: 0.9704\n",
      "Epoch 3/10\n",
      "375/375 [==============================] - 2s 7ms/step - loss: 0.0766 - accuracy: 0.9769 - val_loss: 0.0922 - val_accuracy: 0.9732\n",
      "Epoch 4/10\n",
      "375/375 [==============================] - 3s 7ms/step - loss: 0.0560 - accuracy: 0.9835 - val_loss: 0.0799 - val_accuracy: 0.9762\n",
      "Epoch 5/10\n",
      "375/375 [==============================] - 2s 6ms/step - loss: 0.0414 - accuracy: 0.9881 - val_loss: 0.0811 - val_accuracy: 0.9768\n",
      "Epoch 6/10\n",
      "375/375 [==============================] - 2s 6ms/step - loss: 0.0313 - accuracy: 0.9907 - val_loss: 0.0811 - val_accuracy: 0.9759\n",
      "Epoch 7/10\n",
      "375/375 [==============================] - 2s 6ms/step - loss: 0.0237 - accuracy: 0.9930 - val_loss: 0.0798 - val_accuracy: 0.9778\n",
      "Epoch 8/10\n",
      "375/375 [==============================] - 2s 6ms/step - loss: 0.0174 - accuracy: 0.9952 - val_loss: 0.0840 - val_accuracy: 0.9793\n",
      "Epoch 9/10\n",
      "375/375 [==============================] - 2s 6ms/step - loss: 0.0136 - accuracy: 0.9964 - val_loss: 0.0852 - val_accuracy: 0.9797\n",
      "Epoch 10/10\n",
      "375/375 [==============================] - 2s 7ms/step - loss: 0.0099 - accuracy: 0.9972 - val_loss: 0.0889 - val_accuracy: 0.9778\n"
     ]
    }
   ],
   "source": [
    "# 5-2 백색 잡음과 0을추가한 mnist데이터에서 모델 훈련하기\n",
    "from tensorflow import keras\n",
    "from tensorflow.keras import layers\n",
    "\n",
    "def get_model():\n",
    "    model=keras.Sequential([\n",
    "        layers.Dense(512, activation=\"relu\"),\n",
    "        layers.Dense(10, activation=\"softmax\")\n",
    "    ])\n",
    "    model.compile(optimizer=\"rmsprop\",\n",
    "                 loss=\"sparse_categorical_crossentropy\",\n",
    "                 metrics=[\"accuracy\"])\n",
    "    return model\n",
    "\n",
    "model=get_model()\n",
    "history_noise = model.fit(\n",
    "    train_images_with_noise_channels, train_labels,\n",
    "    epochs=10,\n",
    "    batch_size=128,\n",
    "    validation_split=0.2)\n",
    "\n",
    "model=get_model()\n",
    "history_zeros = model.fit(\n",
    "    train_images_with_zeros_channels, train_labels,\n",
    "    epochs=10,\n",
    "    batch_size=128,\n",
    "    validation_split=0.2)\n"
   ]
  },
  {
   "cell_type": "code",
   "execution_count": 21,
   "id": "98e6034f-6630-42b8-a458-36a9a5e5bad4",
   "metadata": {},
   "outputs": [
    {
     "data": {
      "image/png": "[encoded data removed]",
      "text/plain": [
       "<Figure size 432x288 with 1 Axes>"
      ]
     },
     "metadata": {
      "needs_background": "light"
     },
     "output_type": "display_data"
    }
   ],
   "source": [
    "# 5-3 검증 정확도 비교 그래프 그리기\n",
    "import matplotlib.pyplot as plt\n",
    "\n",
    "val_acc_noise = history_noise.history[\"val_accuracy\"]\n",
    "val_acc_zeros = history_zeros.history[\"val_accuracy\"]\n",
    "epochs= range(1,11)\n",
    "plt.plot(epochs, val_acc_noise, \"b-\",\n",
    "        label=\"Validation accuracy with noise channels\")\n",
    "plt.plot(epochs, val_acc_zeros, \"b--\",\n",
    "        label=\"Validation accuracy with zeros channels\")\n",
    "plt.title(\"Effect of noise channels on validation accuracy\")\n",
    "plt.xlabel(\"Epochs\")\n",
    "plt.ylabel(\"Accuracy\")\n",
    "plt.legend()\n",
    "plt.show()"
   ]
  },
  {
   "cell_type": "code",
   "execution_count": null,
   "id": "f3ae33c2-7cdb-4c2e-8ed9-dbbe325f44a6",
   "metadata": {},
   "outputs": [],
   "source": [
    "두 경우 모두 동일한 정보를 가진 데이터지만 잡음이 섞인 데이터에서 훈련된 모델의 검증 정확도가 1퍼센트 포인트 정도 낮다.\n",
    "이는 가짜 상관관계의 영향 때문이다.\n",
    "잡음을 더 많이 섞을수록 정확도는 더 감소될 것이다.\n",
    "\n",
    "상관이 없는 것은 넣지 말아야한다. 가짜가 많아지면 정확도는 떨어진다.\n",
    "원본데이터에 상관관계가 없는 데이터를 넣은 것은 유익하지 않다.\n",
    "상관관계가 있는 데이터를 넣어야 정확도가 높아진다\n",
    "- 질 좋은 데이터 조금 > 상관관계 없는 데이터 많이\n"
   ]
  },
  {
   "cell_type": "markdown",
   "id": "1104244f-cdc6-4ea2-b350-c20973ab0d00",
   "metadata": {},
   "source": [
    "## 5.1.2 딥러닝에서 일반화의 본질\n",
    "- 표현 능력이 충분하다면 어떤 것에도 맞추도록 훈련할 수 있다.\n",
    "- 입력과 뒤섞은 레이블 사이에 아무런 관계가 없지만 비교적 작은 모델에서도 훈련손실이 잘 감소됨\n",
    "- 일반화가 없기 때문에 검증 손실은 시간이 지남에 따라 향상되지 않음\n",
    "\n",
    "- accuracy를 올리는 방법\n",
    "- 1. 데이터의 개수가 충분한가\n",
    "- 2. 오분류 된 것이 있는가 등을 살펴보아야 한다."
   ]
  },
  {
   "cell_type": "code",
   "execution_count": 22,
   "id": "db4785f8-9d2e-4b94-82bd-ab066bed3eae",
   "metadata": {
    "collapsed": true,
    "jupyter": {
     "outputs_hidden": true
    },
    "tags": []
   },
   "outputs": [
    {
     "name": "stdout",
     "output_type": "stream",
     "text": [
      "Epoch 1/100\n",
      "375/375 [==============================] - 2s 5ms/step - loss: 2.3181 - accuracy: 0.1032 - val_loss: 2.3068 - val_accuracy: 0.1042\n",
      "Epoch 2/100\n",
      "375/375 [==============================] - 2s 4ms/step - loss: 2.2999 - accuracy: 0.1191 - val_loss: 2.3151 - val_accuracy: 0.1084\n",
      "Epoch 3/100\n",
      "375/375 [==============================] - 2s 4ms/step - loss: 2.2899 - accuracy: 0.1283 - val_loss: 2.3157 - val_accuracy: 0.1042\n",
      "Epoch 4/100\n",
      "375/375 [==============================] - 2s 5ms/step - loss: 2.2757 - accuracy: 0.1430 - val_loss: 2.3261 - val_accuracy: 0.1072\n",
      "Epoch 5/100\n",
      "375/375 [==============================] - 2s 5ms/step - loss: 2.2590 - accuracy: 0.1549 - val_loss: 2.3353 - val_accuracy: 0.1086\n",
      "Epoch 6/100\n",
      "375/375 [==============================] - 2s 5ms/step - loss: 2.2377 - accuracy: 0.1702 - val_loss: 2.3511 - val_accuracy: 0.1082\n",
      "Epoch 7/100\n",
      "375/375 [==============================] - 2s 4ms/step - loss: 2.2141 - accuracy: 0.1851 - val_loss: 2.3655 - val_accuracy: 0.1032\n",
      "Epoch 8/100\n",
      "375/375 [==============================] - 2s 4ms/step - loss: 2.1872 - accuracy: 0.1994 - val_loss: 2.3769 - val_accuracy: 0.1016\n",
      "Epoch 9/100\n",
      "375/375 [==============================] - 2s 4ms/step - loss: 2.1579 - accuracy: 0.2165 - val_loss: 2.4020 - val_accuracy: 0.1046\n",
      "Epoch 10/100\n",
      "375/375 [==============================] - 2s 5ms/step - loss: 2.1265 - accuracy: 0.2305 - val_loss: 2.4222 - val_accuracy: 0.1042\n",
      "Epoch 11/100\n",
      "375/375 [==============================] - 2s 4ms/step - loss: 2.0932 - accuracy: 0.2441 - val_loss: 2.4473 - val_accuracy: 0.1018\n",
      "Epoch 12/100\n",
      "375/375 [==============================] - 2s 5ms/step - loss: 2.0609 - accuracy: 0.2629 - val_loss: 2.4748 - val_accuracy: 0.1001\n",
      "Epoch 13/100\n",
      "375/375 [==============================] - 2s 4ms/step - loss: 2.0262 - accuracy: 0.2776 - val_loss: 2.4985 - val_accuracy: 0.1027\n",
      "Epoch 14/100\n",
      "375/375 [==============================] - 2s 5ms/step - loss: 1.9929 - accuracy: 0.2909 - val_loss: 2.5329 - val_accuracy: 0.1003\n",
      "Epoch 15/100\n",
      "375/375 [==============================] - 2s 4ms/step - loss: 1.9571 - accuracy: 0.3064 - val_loss: 2.5555 - val_accuracy: 0.1007\n",
      "Epoch 16/100\n",
      "375/375 [==============================] - 2s 5ms/step - loss: 1.9229 - accuracy: 0.3203 - val_loss: 2.5963 - val_accuracy: 0.1022\n",
      "Epoch 17/100\n",
      "375/375 [==============================] - 2s 4ms/step - loss: 1.8878 - accuracy: 0.3364 - val_loss: 2.6401 - val_accuracy: 0.1024\n",
      "Epoch 18/100\n",
      "375/375 [==============================] - 2s 5ms/step - loss: 1.8556 - accuracy: 0.3471 - val_loss: 2.6677 - val_accuracy: 0.0986\n",
      "Epoch 19/100\n",
      "375/375 [==============================] - 2s 5ms/step - loss: 1.8228 - accuracy: 0.3625 - val_loss: 2.7014 - val_accuracy: 0.0983\n",
      "Epoch 20/100\n",
      "375/375 [==============================] - 2s 4ms/step - loss: 1.7903 - accuracy: 0.3739 - val_loss: 2.7512 - val_accuracy: 0.1007\n",
      "Epoch 21/100\n",
      "375/375 [==============================] - 2s 4ms/step - loss: 1.7601 - accuracy: 0.3872 - val_loss: 2.7604 - val_accuracy: 0.1028\n",
      "Epoch 22/100\n",
      "375/375 [==============================] - 2s 5ms/step - loss: 1.7290 - accuracy: 0.3986 - val_loss: 2.7982 - val_accuracy: 0.0985\n",
      "Epoch 23/100\n",
      "375/375 [==============================] - 2s 5ms/step - loss: 1.6965 - accuracy: 0.4095 - val_loss: 2.8376 - val_accuracy: 0.1027\n",
      "Epoch 24/100\n",
      "375/375 [==============================] - 2s 5ms/step - loss: 1.6663 - accuracy: 0.4231 - val_loss: 2.8869 - val_accuracy: 0.1000\n",
      "Epoch 25/100\n",
      "375/375 [==============================] - 2s 5ms/step - loss: 1.6384 - accuracy: 0.4329 - val_loss: 2.9218 - val_accuracy: 0.0964\n",
      "Epoch 26/100\n",
      "375/375 [==============================] - 2s 5ms/step - loss: 1.6103 - accuracy: 0.4449 - val_loss: 2.9816 - val_accuracy: 0.0981\n",
      "Epoch 27/100\n",
      "375/375 [==============================] - 2s 5ms/step - loss: 1.5827 - accuracy: 0.4541 - val_loss: 3.0179 - val_accuracy: 0.0996\n",
      "Epoch 28/100\n",
      "375/375 [==============================] - 2s 5ms/step - loss: 1.5542 - accuracy: 0.4644 - val_loss: 3.0700 - val_accuracy: 0.0983\n",
      "Epoch 29/100\n",
      "375/375 [==============================] - 2s 5ms/step - loss: 1.5275 - accuracy: 0.4754 - val_loss: 3.1035 - val_accuracy: 0.1008\n",
      "Epoch 30/100\n",
      "375/375 [==============================] - 2s 5ms/step - loss: 1.5014 - accuracy: 0.4842 - val_loss: 3.1307 - val_accuracy: 0.0993\n",
      "Epoch 31/100\n",
      "375/375 [==============================] - 2s 5ms/step - loss: 1.4777 - accuracy: 0.4920 - val_loss: 3.1979 - val_accuracy: 0.1017\n",
      "Epoch 32/100\n",
      "375/375 [==============================] - 2s 5ms/step - loss: 1.4518 - accuracy: 0.5023 - val_loss: 3.2347 - val_accuracy: 0.0978\n",
      "Epoch 33/100\n",
      "375/375 [==============================] - 2s 4ms/step - loss: 1.4250 - accuracy: 0.5119 - val_loss: 3.2960 - val_accuracy: 0.0989\n",
      "Epoch 34/100\n",
      "375/375 [==============================] - 2s 4ms/step - loss: 1.4053 - accuracy: 0.5189 - val_loss: 3.3582 - val_accuracy: 0.0997\n",
      "Epoch 35/100\n",
      "375/375 [==============================] - 2s 4ms/step - loss: 1.3802 - accuracy: 0.5282 - val_loss: 3.3826 - val_accuracy: 0.1006\n",
      "Epoch 36/100\n",
      "375/375 [==============================] - 2s 4ms/step - loss: 1.3578 - accuracy: 0.5360 - val_loss: 3.4291 - val_accuracy: 0.0964\n",
      "Epoch 37/100\n",
      "375/375 [==============================] - 2s 4ms/step - loss: 1.3376 - accuracy: 0.5454 - val_loss: 3.4608 - val_accuracy: 0.0979\n",
      "Epoch 38/100\n",
      "375/375 [==============================] - 2s 4ms/step - loss: 1.3137 - accuracy: 0.5534 - val_loss: 3.5191 - val_accuracy: 0.1013\n",
      "Epoch 39/100\n",
      "375/375 [==============================] - 2s 5ms/step - loss: 1.2934 - accuracy: 0.5599 - val_loss: 3.5847 - val_accuracy: 0.0987\n",
      "Epoch 40/100\n",
      "375/375 [==============================] - 2s 5ms/step - loss: 1.2736 - accuracy: 0.5680 - val_loss: 3.6356 - val_accuracy: 0.0958\n",
      "Epoch 41/100\n",
      "375/375 [==============================] - 2s 5ms/step - loss: 1.2530 - accuracy: 0.5750 - val_loss: 3.6801 - val_accuracy: 0.1021\n",
      "Epoch 42/100\n",
      "375/375 [==============================] - 2s 4ms/step - loss: 1.2324 - accuracy: 0.5828 - val_loss: 3.7410 - val_accuracy: 0.0983\n",
      "Epoch 43/100\n",
      "375/375 [==============================] - 2s 5ms/step - loss: 1.2122 - accuracy: 0.5898 - val_loss: 3.8089 - val_accuracy: 0.0948\n",
      "Epoch 44/100\n",
      "375/375 [==============================] - 2s 4ms/step - loss: 1.1934 - accuracy: 0.5976 - val_loss: 3.8504 - val_accuracy: 0.0951\n",
      "Epoch 45/100\n",
      "375/375 [==============================] - 2s 4ms/step - loss: 1.1755 - accuracy: 0.6005 - val_loss: 3.8883 - val_accuracy: 0.1000\n",
      "Epoch 46/100\n",
      "375/375 [==============================] - 2s 4ms/step - loss: 1.1574 - accuracy: 0.6112 - val_loss: 3.9185 - val_accuracy: 0.0965\n",
      "Epoch 47/100\n",
      "375/375 [==============================] - 2s 4ms/step - loss: 1.1387 - accuracy: 0.6154 - val_loss: 4.0045 - val_accuracy: 0.0989\n",
      "Epoch 48/100\n",
      "375/375 [==============================] - 2s 4ms/step - loss: 1.1216 - accuracy: 0.6225 - val_loss: 4.0256 - val_accuracy: 0.0938\n",
      "Epoch 49/100\n",
      "375/375 [==============================] - 2s 4ms/step - loss: 1.1046 - accuracy: 0.6277 - val_loss: 4.1505 - val_accuracy: 0.0997\n",
      "Epoch 50/100\n",
      "375/375 [==============================] - 2s 4ms/step - loss: 1.0871 - accuracy: 0.6349 - val_loss: 4.1857 - val_accuracy: 0.0963\n",
      "Epoch 51/100\n",
      "375/375 [==============================] - 2s 4ms/step - loss: 1.0715 - accuracy: 0.6388 - val_loss: 4.1719 - val_accuracy: 0.0973\n",
      "Epoch 52/100\n",
      "375/375 [==============================] - 2s 5ms/step - loss: 1.0548 - accuracy: 0.6463 - val_loss: 4.2582 - val_accuracy: 0.0982\n",
      "Epoch 53/100\n",
      "375/375 [==============================] - 2s 5ms/step - loss: 1.0396 - accuracy: 0.6517 - val_loss: 4.3397 - val_accuracy: 0.0974\n",
      "Epoch 54/100\n",
      "375/375 [==============================] - 2s 6ms/step - loss: 1.0206 - accuracy: 0.6577 - val_loss: 4.4068 - val_accuracy: 0.0988\n",
      "Epoch 55/100\n",
      "375/375 [==============================] - 2s 6ms/step - loss: 1.0069 - accuracy: 0.6649 - val_loss: 4.4355 - val_accuracy: 0.0978\n",
      "Epoch 56/100\n",
      "375/375 [==============================] - 2s 6ms/step - loss: 0.9934 - accuracy: 0.6686 - val_loss: 4.5212 - val_accuracy: 0.0967\n",
      "Epoch 57/100\n",
      "375/375 [==============================] - 2s 5ms/step - loss: 0.9790 - accuracy: 0.6736 - val_loss: 4.5302 - val_accuracy: 0.0964\n",
      "Epoch 58/100\n",
      "375/375 [==============================] - 2s 5ms/step - loss: 0.9646 - accuracy: 0.6775 - val_loss: 4.6244 - val_accuracy: 0.0943\n",
      "Epoch 59/100\n",
      "375/375 [==============================] - 2s 4ms/step - loss: 0.9480 - accuracy: 0.6851 - val_loss: 4.6901 - val_accuracy: 0.0965\n",
      "Epoch 60/100\n",
      "375/375 [==============================] - 2s 4ms/step - loss: 0.9354 - accuracy: 0.6883 - val_loss: 4.7289 - val_accuracy: 0.0968\n",
      "Epoch 61/100\n",
      "375/375 [==============================] - 2s 5ms/step - loss: 0.9206 - accuracy: 0.6914 - val_loss: 4.8024 - val_accuracy: 0.0931\n",
      "Epoch 62/100\n",
      "375/375 [==============================] - 2s 5ms/step - loss: 0.9070 - accuracy: 0.6992 - val_loss: 4.8576 - val_accuracy: 0.0981\n",
      "Epoch 63/100\n",
      "375/375 [==============================] - 2s 6ms/step - loss: 0.8946 - accuracy: 0.7026 - val_loss: 4.9210 - val_accuracy: 0.0963\n",
      "Epoch 64/100\n",
      "375/375 [==============================] - 2s 6ms/step - loss: 0.8814 - accuracy: 0.7084 - val_loss: 4.9763 - val_accuracy: 0.0957\n",
      "Epoch 65/100\n",
      "375/375 [==============================] - 2s 6ms/step - loss: 0.8665 - accuracy: 0.7122 - val_loss: 5.0535 - val_accuracy: 0.0974\n",
      "Epoch 66/100\n",
      "375/375 [==============================] - 2s 5ms/step - loss: 0.8557 - accuracy: 0.7162 - val_loss: 5.0901 - val_accuracy: 0.0931\n",
      "Epoch 67/100\n",
      "375/375 [==============================] - 2s 5ms/step - loss: 0.8427 - accuracy: 0.7207 - val_loss: 5.1574 - val_accuracy: 0.0951\n",
      "Epoch 68/100\n",
      "375/375 [==============================] - 2s 5ms/step - loss: 0.8308 - accuracy: 0.7248 - val_loss: 5.2153 - val_accuracy: 0.0981\n",
      "Epoch 69/100\n",
      "375/375 [==============================] - 2s 5ms/step - loss: 0.8194 - accuracy: 0.7302 - val_loss: 5.2805 - val_accuracy: 0.0973\n",
      "Epoch 70/100\n",
      "375/375 [==============================] - 2s 5ms/step - loss: 0.8062 - accuracy: 0.7332 - val_loss: 5.3693 - val_accuracy: 0.1003\n",
      "Epoch 71/100\n",
      "375/375 [==============================] - 2s 5ms/step - loss: 0.7949 - accuracy: 0.7385 - val_loss: 5.4075 - val_accuracy: 0.0968\n",
      "Epoch 72/100\n",
      "375/375 [==============================] - 2s 6ms/step - loss: 0.7847 - accuracy: 0.7414 - val_loss: 5.4816 - val_accuracy: 0.0957\n",
      "Epoch 73/100\n",
      "375/375 [==============================] - 2s 5ms/step - loss: 0.7701 - accuracy: 0.7448 - val_loss: 5.5635 - val_accuracy: 0.0985\n",
      "Epoch 74/100\n",
      "375/375 [==============================] - 2s 5ms/step - loss: 0.7617 - accuracy: 0.7487 - val_loss: 5.5873 - val_accuracy: 0.0983\n",
      "Epoch 75/100\n",
      "375/375 [==============================] - 2s 6ms/step - loss: 0.7501 - accuracy: 0.7520 - val_loss: 5.6338 - val_accuracy: 0.0957\n",
      "Epoch 76/100\n",
      "375/375 [==============================] - 2s 4ms/step - loss: 0.7370 - accuracy: 0.7572 - val_loss: 5.6772 - val_accuracy: 0.0985\n",
      "Epoch 77/100\n",
      "375/375 [==============================] - 2s 4ms/step - loss: 0.7286 - accuracy: 0.7596 - val_loss: 5.7876 - val_accuracy: 0.0957\n",
      "Epoch 78/100\n",
      "375/375 [==============================] - 2s 4ms/step - loss: 0.7187 - accuracy: 0.7649 - val_loss: 5.8731 - val_accuracy: 0.0978\n",
      "Epoch 79/100\n",
      "375/375 [==============================] - 2s 4ms/step - loss: 0.7077 - accuracy: 0.7694 - val_loss: 5.9235 - val_accuracy: 0.0983\n",
      "Epoch 80/100\n",
      "375/375 [==============================] - 2s 4ms/step - loss: 0.6994 - accuracy: 0.7709 - val_loss: 5.9961 - val_accuracy: 0.0974\n",
      "Epoch 81/100\n",
      "375/375 [==============================] - 2s 5ms/step - loss: 0.6888 - accuracy: 0.7740 - val_loss: 6.0629 - val_accuracy: 0.0980\n",
      "Epoch 82/100\n",
      "375/375 [==============================] - 2s 6ms/step - loss: 0.6785 - accuracy: 0.7790 - val_loss: 6.1278 - val_accuracy: 0.0966\n",
      "Epoch 83/100\n",
      "375/375 [==============================] - 2s 6ms/step - loss: 0.6693 - accuracy: 0.7818 - val_loss: 6.1521 - val_accuracy: 0.0953\n",
      "Epoch 84/100\n",
      "375/375 [==============================] - 2s 6ms/step - loss: 0.6604 - accuracy: 0.7826 - val_loss: 6.2284 - val_accuracy: 0.0966\n",
      "Epoch 85/100\n",
      "375/375 [==============================] - 2s 5ms/step - loss: 0.6510 - accuracy: 0.7870 - val_loss: 6.3450 - val_accuracy: 0.0942\n",
      "Epoch 86/100\n",
      "375/375 [==============================] - 2s 4ms/step - loss: 0.6400 - accuracy: 0.7904 - val_loss: 6.3847 - val_accuracy: 0.0955\n",
      "Epoch 87/100\n",
      "375/375 [==============================] - 2s 4ms/step - loss: 0.6324 - accuracy: 0.7937 - val_loss: 6.4796 - val_accuracy: 0.0971\n",
      "Epoch 88/100\n",
      "375/375 [==============================] - 2s 4ms/step - loss: 0.6233 - accuracy: 0.7973 - val_loss: 6.5255 - val_accuracy: 0.0936\n",
      "Epoch 89/100\n",
      "375/375 [==============================] - 2s 4ms/step - loss: 0.6155 - accuracy: 0.7995 - val_loss: 6.6194 - val_accuracy: 0.0927\n",
      "Epoch 90/100\n",
      "375/375 [==============================] - 2s 5ms/step - loss: 0.6085 - accuracy: 0.8005 - val_loss: 6.6773 - val_accuracy: 0.0953\n",
      "Epoch 91/100\n",
      "375/375 [==============================] - 2s 5ms/step - loss: 0.5977 - accuracy: 0.8051 - val_loss: 6.7364 - val_accuracy: 0.0983\n",
      "Epoch 92/100\n",
      "375/375 [==============================] - 2s 6ms/step - loss: 0.5908 - accuracy: 0.8069 - val_loss: 6.7990 - val_accuracy: 0.0960\n",
      "Epoch 93/100\n",
      "375/375 [==============================] - 2s 6ms/step - loss: 0.5798 - accuracy: 0.8125 - val_loss: 6.8240 - val_accuracy: 0.0968\n",
      "Epoch 94/100\n",
      "375/375 [==============================] - 2s 6ms/step - loss: 0.5723 - accuracy: 0.8135 - val_loss: 6.9178 - val_accuracy: 0.0959\n",
      "Epoch 95/100\n",
      "375/375 [==============================] - 2s 5ms/step - loss: 0.5655 - accuracy: 0.8165 - val_loss: 6.9915 - val_accuracy: 0.0930\n",
      "Epoch 96/100\n",
      "375/375 [==============================] - 2s 5ms/step - loss: 0.5586 - accuracy: 0.8191 - val_loss: 7.0668 - val_accuracy: 0.0954\n",
      "Epoch 97/100\n",
      "375/375 [==============================] - 2s 4ms/step - loss: 0.5487 - accuracy: 0.8232 - val_loss: 7.1234 - val_accuracy: 0.0950\n",
      "Epoch 98/100\n",
      "375/375 [==============================] - 2s 4ms/step - loss: 0.5440 - accuracy: 0.8243 - val_loss: 7.2510 - val_accuracy: 0.0977\n",
      "Epoch 99/100\n",
      "375/375 [==============================] - 2s 5ms/step - loss: 0.5329 - accuracy: 0.8260 - val_loss: 7.2932 - val_accuracy: 0.0962\n",
      "Epoch 100/100\n",
      "375/375 [==============================] - 2s 5ms/step - loss: 0.5288 - accuracy: 0.8288 - val_loss: 7.3619 - val_accuracy: 0.0962\n"
     ]
    },
    {
     "data": {
      "text/plain": [
       "<keras.callbacks.History at 0x17544faea90>"
      ]
     },
     "execution_count": 22,
     "metadata": {},
     "output_type": "execute_result"
    }
   ],
   "source": [
    "# 5-4 랜덤하게 섞은 레이블로 MNIST모델 훈련하기\n",
    "(train_images, train_labels), _ = mnist.load_data()\n",
    "train_images = train_images.reshape((60000, 28*28))\n",
    "train_images = train_images.astype(\"float32\") /255\n",
    "\n",
    "random_train_labels = train_labels[:]\n",
    "np.random.shuffle(random_train_labels)\n",
    "\n",
    "model = keras.Sequential([\n",
    "    layers.Dense(512, activation=\"relu\"),\n",
    "    layers.Dense(10, activation=\"softmax\")\n",
    "])\n",
    "\n",
    "model.compile(optimizer=\"rmsprop\",\n",
    "             loss=\"sparse_categorical_crossentropy\",\n",
    "             metrics=[\"accuracy\"])\n",
    "model.fit(train_images, random_train_labels,\n",
    "         epochs =100,\n",
    "         batch_size=128,\n",
    "         validation_split=0.2)"
   ]
  },
  {
   "cell_type": "code",
   "execution_count": null,
   "id": "140ff2a7-e178-4f18-9a73-2da7688c3aae",
   "metadata": {},
   "outputs": [],
   "source": [
    "## 일반화의 원천인 보간\n",
    "- 공간 안의 샘플만 사용해서 공간 전체를 이해할 수 있다. 보간을 사용해서 빈곳을 채울 수 있기 때문"
   ]
  },
  {
   "cell_type": "code",
   "execution_count": null,
   "id": "c050d76b-26d7-4dc7-957b-aa83ac95a0c5",
   "metadata": {},
   "outputs": [],
   "source": [
    "선형보간과 잠재매니폴드 보간 사이의 차이\n",
    "숫자의 잠재매니폴드에서 모든 포인트는 유효한 숫자가 되지만 일반적으로 두 숫자를 평균하면 유효한 숫자가 됨"
   ]
  },
  {
   "cell_type": "code",
   "execution_count": null,
   "id": "32816904-2090-4784-b102-b24191f01c5c",
   "metadata": {},
   "outputs": [],
   "source": [
    "지역일반화: 보간은 이전에 본 것과 매우 가까운 것을 이해하는 데 도움을 줄 수 있을 뿐이다.\n",
    "사람은 보간 이외의 이니 메커니즘으로 궁극일반화를 할 수 있다.\n",
    "인지 메커니즘은 추상화, 세상에 대한 상징적 모델, 추론, 논리, 상식, 일반적으로 이성이라고 부르는 세상에 대한 선천적 능력 등을 말하며\n",
    "직관이나 패턴인식과는 다르다."
   ]
  },
  {
   "cell_type": "code",
   "execution_count": null,
   "id": "542776c2-744f-4d94-a8e6-cc2863d93d3a",
   "metadata": {},
   "outputs": [],
   "source": [
    "### 딥라닝이 작동하는 이유\n",
    "딥러닝 모델은 근본적으로 매우 고차원의 곡선이다.\n",
    "미분할 수 있어야 하기 때문에 매끄럽고 연속적인 곡선이다.\n",
    "경사하강법을 통해 이 곡선을 부드럽고 점진적으로 데이터 포인트에 맞춘다.\n",
    "\n",
    "-모델이 훈련 입력 사이를 보간하여 이전에 본 적 없는 입력을 이해할 수 있다.\n",
    "- 잠재 매니폴드를 학습하는 데 잘 맞는 속성\n",
    "-- 딥러닝 모델은 입력에서부터 출력으로 매끄럽고 연속적인 매핑을 구현함\n",
    "    필수적으로 미분이 가능해야 하기 때문에 매끄업고 연속적이어야한다.\n",
    "    그렇지 않으면 경사하강법을 사용할 수 없음.\n",
    "    이런 매끄러움은 동일한 속성을 가진 잠재 매니폴드를 근사하는 데 도움이 된다."
   ]
  },
  {
   "cell_type": "code",
   "execution_count": null,
   "id": "9829ffe2-224f-4be2-b2d1-39f4df9cb5bb",
   "metadata": {},
   "outputs": [],
   "source": [
    "### 가장 중요한 훈련데이터\n",
    "딥러닝이 실제로 매니폴드 학습에 잘 맞지만 일반화 능력은 모델의 어떤 속성 때문이라기 보다 데이터의 자연적인 구조로 인한 결과이다.\n",
    "데이터가 보간할 수 있는 매니폴드를 형성하는 경우에만 일반화할 수 있다.\n",
    "특성이 유익하고 잡음이 적을 수록 입력 공간이 더 간단하고 구조적이기 때문에 더 잘 일반화 할 수 있다.\n",
    "데이터 큐레이션, 특성공학은 일반화에 필수적이다.\n",
    "\n",
    "딥러닝 곡선을 잘 맞추기 위해 입력공간을 조밀히게 샘플링 하여 훈련해야함(조밀한 샘플링)\n",
    "충분히 조밀하게 샘플링 하면 상식, 요약, 추론 또는 세상에 대한 외부 지식을 사용하지 않아도 훈련 입력 사이를 보간하여 새로운 입력을 이해할 수 있다.\n",
    "\n",
    "따라서 딥러닝 모델을 향상시키는 가장 좋은 방법은 더 좋고, 더 많은 데이터를 훈련하는 것."
   ]
  },
  {
   "cell_type": "code",
   "execution_count": null,
   "id": "2391d355-2627-47be-b91d-6d9dfafa0b10",
   "metadata": {},
   "outputs": [],
   "source": [
    "# 5.2 머신러닝 모델 평가"
   ]
  },
  {
   "cell_type": "code",
   "execution_count": null,
   "id": "8a53aa38-246c-4a39-95c8-ee6d83005af1",
   "metadata": {},
   "outputs": [],
   "source": [
    "## 5.2.1 훈련, 검증, 테스트 세트\n",
    "모델 평가의 핵심은 가용한 데이터를 항상 훈련, 검증, 테스트 3개의 세트로 나누는 것이다.\n",
    "훈련: 모델을 훈련\n",
    "검증: 검증 세트에서 모델을 평가\n",
    "모델을 출시할 준비가 되면 테스트 세트에서 최종적으로 딱 한번 모델을 테스트 한다.\n",
    "테스트 데이터는 가능한 제품 환경의 데이터와 비슷해야 한다. 그 다음 모델을 제품환경에 배포.\n",
    "\n",
    "검증세트의 성능을 기반으로 모델의 설정을 튜닝하면 검증 세트로 모델의 직접 훈련하지 않더라도 빠르게 검증 세트에 과대적합이 될 수 있다.\n",
    "정보누설\n",
    "검증세트의 모델 성능에 기반하여 모델의 하이퍼파라미터를 조정할 때마다 검증 데이터에 관한 정보가 모델로 새는 것\n",
    "하나의 파라미터에 대해 단 한번만 튜닝한다면 아주 적은 정보가 누설될 것이다.\n",
    "모델을 조정하는과정을 여러번 반복하면 검증세트에 관한 정보를 모델에 많이 노출시키게 됨\n",
    "\n",
    "데이터가 적을때 도움이 되는 것\n",
    "단순 홀드아웃 검증, k-겹 교차검증, 셔플링을 사용한 반복k-겹 교차검증"
   ]
  },
  {
   "cell_type": "code",
   "execution_count": null,
   "id": "3fea63e4-b53a-4625-83ca-2c5cff3237c6",
   "metadata": {},
   "outputs": [],
   "source": [
    "### 단순홀드아웃 검증\n",
    "# 5-5 홀드아웃 검증 구현 예시\n",
    "num_validation_samples =10000\n",
    "np.random.shuffle(data)\n",
    "validation_data = data[:num_validation_samples]\n",
    "training_data = data[num_validation_samples:]\n",
    "\n",
    "modle= get_model()\n",
    "model.fit(training_data,...)\n",
    "validation_score = model.evaluate(validation_data, ...)\n",
    "\n",
    "model= get_model()\n",
    "model.fit(np.concatenate([training_data, validation_data]),...)\n",
    "test_score = model.evaluate(test_data,...)"
   ]
  },
  {
   "cell_type": "code",
   "execution_count": null,
   "id": "6994ec06-6f0e-4468-902d-4bb1eb4a1276",
   "metadata": {},
   "outputs": [],
   "source": [
    "이 방법의 단점\n",
    "데이터가 적을 때는 검증 세트와 테스트 세트의 샘플이 너무 적어 주어진 전체 데이터를 통계적으로 대표하지 못할 수 있음"
   ]
  },
  {
   "cell_type": "code",
   "execution_count": null,
   "id": "c229aae9-602d-4b57-bf18-fc8eecfd5272",
   "metadata": {},
   "outputs": [],
   "source": [
    "### k-겹 교차 검증\n",
    "데이터를 동일한 크기를 가진 k개의 분할로 나누어줌\n",
    "각분할 i에 대해 남은 k 1개의 분할로 모델을 훈련하고 분할 i에서 모델을 평가\n",
    "최종 점수는 이렇게 얻은 k개의 점수를 평균한다.\n",
    "이 방법은 모델의 성능이 데이터 분할에 따라 편차가 클 때 도움이 된다."
   ]
  },
  {
   "cell_type": "code",
   "execution_count": null,
   "id": "6181dabc-840f-4a7d-8cc5-9c08b1bf5b9e",
   "metadata": {},
   "outputs": [],
   "source": [
    "# 5-6 k-겹 교차 검증  구현 예\n",
    "k=3\n",
    "num_validation_samples= len(data)//k\n",
    "np.random.shuffle(data)\n",
    "validation_scores=[]\n",
    "for fold in range(k):\n",
    "    validation_data = data[num_validation_samples * fold:\n",
    "                          num_validation_samples * (fold+1)]\n",
    "    training_data = np.concatenate(\n",
    "        data[:num_validation_samples * fold],\n",
    "        data[num_validation_samples * (fold + 1):])\n",
    "    model = get_model()\n",
    "    model.fit(training_data,...)\n",
    "    validation_score = model.evaluate(validation_data,...)\n",
    "    validation_scores.append(validation_score)\n",
    "    validation_score= np.average(validation_scores)\n",
    "model= get_model()\n",
    "model.fit(data, ...)\n",
    "test_score = model.evaluate(test_data,...)"
   ]
  },
  {
   "cell_type": "code",
   "execution_count": null,
   "id": "b18c57ac-8e6d-4cb9-aa31-429c12a8e211",
   "metadata": {},
   "outputs": [],
   "source": [
    "### 셔플링을 사용한 반복 k-겹 교차 검증\n",
    "비교적 가용 데이터가 적고 가능한 정확학 모델을 평가하고자 할 때 사용\n",
    "k-겹 교차 검증을 여러번 적용하되 k개의 분할로 나누기 전에 매번 데이터를 무작위로 섞는다.\n",
    "최종 점수는 모든 k-겹 교차 검증을 실행해서 얻은 점수의 평균이 됨\n",
    "결국 p*K개(p는 반복 횟수)의 모델을 훈련하고 평가하므로 비용이 매우 많이 든다."
   ]
  },
  {
   "cell_type": "code",
   "execution_count": null,
   "id": "c2b7fcf2-703f-429b-931b-2c30ddfc3188",
   "metadata": {},
   "outputs": [],
   "source": [
    "## 5.2.2 상식 수준의 기준점 넘기\n",
    "평행 세계에 있는 로켓을 발사하는 버튼을 누르는 것과 비슷\n",
    "이 기준점은 랜덤한 분류기의 성능이거나 머신러닝을 사용하지 않고 생각할 수 있는 가장 간단한 방법\n",
    "상식 수준의 기준점을 가지는 것이 필수적이다."
   ]
  },
  {
   "cell_type": "code",
   "execution_count": null,
   "id": "1624c992-0ae6-4a0d-8d01-da977504f1a3",
   "metadata": {},
   "outputs": [],
   "source": [
    "## 5.2.3 모델 평가에 대해 유념해야할 점\n",
    "대표성 있는 데이터: 훈련 세트와 테스트 세트로 나누기 전에 데이터를 무작위로 섞는 것이 일반적이다.\n",
    "시간의 방향\n",
    "데이터 중복"
   ]
  },
  {
   "cell_type": "markdown",
   "id": "4e0eba2c-a905-40f3-994b-495cb29ce507",
   "metadata": {},
   "source": [
    "# 5.3 훈련성능 향상하기"
   ]
  },
  {
   "cell_type": "code",
   "execution_count": 19,
   "id": "88681ff6-00c3-4f45-a77b-317cf0ba300f",
   "metadata": {},
   "outputs": [],
   "source": [
    "# 5-7\n",
    "import keras\n",
    "from keras import layers\n",
    "from keras.datasets import mnist\n",
    "import numpy as np "
   ]
  },
  {
   "cell_type": "code",
   "execution_count": 25,
   "id": "97aea966-0a41-4dc4-9b1f-eea3197f2dca",
   "metadata": {},
   "outputs": [
    {
     "name": "stdout",
     "output_type": "stream",
     "text": [
      "Epoch 1/10\n",
      "375/375 [==============================] - 2s 5ms/step - loss: 1044.6927 - accuracy: 0.3988 - val_loss: 2.8790 - val_accuracy: 0.2743\n",
      "Epoch 2/10\n",
      "375/375 [==============================] - 2s 5ms/step - loss: 4.0614 - accuracy: 0.2835 - val_loss: 2.0361 - val_accuracy: 0.2899\n",
      "Epoch 3/10\n",
      "375/375 [==============================] - 2s 5ms/step - loss: 5.0273 - accuracy: 0.2869 - val_loss: 4.3639 - val_accuracy: 0.3255\n",
      "Epoch 4/10\n",
      "375/375 [==============================] - 2s 5ms/step - loss: 3.3336 - accuracy: 0.3073 - val_loss: 2.3936 - val_accuracy: 0.3264\n",
      "Epoch 5/10\n",
      "375/375 [==============================] - 2s 4ms/step - loss: 2.9346 - accuracy: 0.3226 - val_loss: 7.4372 - val_accuracy: 0.2979\n",
      "Epoch 6/10\n",
      "375/375 [==============================] - 2s 5ms/step - loss: 2.6131 - accuracy: 0.3030 - val_loss: 2.1731 - val_accuracy: 0.3007\n",
      "Epoch 7/10\n",
      "375/375 [==============================] - 2s 5ms/step - loss: 2.7926 - accuracy: 0.3047 - val_loss: 3.1756 - val_accuracy: 0.2803\n",
      "Epoch 8/10\n",
      "375/375 [==============================] - 2s 5ms/step - loss: 2.5301 - accuracy: 0.2672 - val_loss: 2.4247 - val_accuracy: 0.2987\n",
      "Epoch 9/10\n",
      "375/375 [==============================] - 2s 5ms/step - loss: 2.5835 - accuracy: 0.2943 - val_loss: 2.3444 - val_accuracy: 0.3148\n",
      "Epoch 10/10\n",
      "375/375 [==============================] - 2s 5ms/step - loss: 2.7582 - accuracy: 0.3274 - val_loss: 2.1148 - val_accuracy: 0.3022\n"
     ]
    },
    {
     "data": {
      "text/plain": [
       "<keras.callbacks.History at 0x175465c7a60>"
      ]
     },
     "execution_count": 25,
     "metadata": {},
     "output_type": "execute_result"
    }
   ],
   "source": [
    "# 5-7 잘못된 높은 학습률로 MNIST모델 훈련하기\n",
    "(train_images, train_labels), _ = mnist.load_data()\n",
    "train_images = train_images.reshape((60000, 28 * 28))\n",
    "train_images = train_images.astype(\"float32\") / 255\n",
    "\n",
    "model = keras.Sequential([\n",
    "    layers.Dense(512, activation=\"relu\"),\n",
    "    layers.Dense(10, activation=\"softmax\")\n",
    "])\n",
    "model.compile(optimizer=keras.optimizers.RMSprop(1.),\n",
    "              loss=\"sparse_categorical_crossentropy\",\n",
    "              metrics=[\"accuracy\"])\n",
    "model.fit(train_images, train_labels,\n",
    "          epochs=10,\n",
    "          batch_size=128,\n",
    "          validation_split=0.2) "
   ]
  },
  {
   "cell_type": "code",
   "execution_count": 26,
   "id": "362d64b9-b012-4dac-bb5a-5ee8934aa767",
   "metadata": {
    "collapsed": true,
    "jupyter": {
     "outputs_hidden": true
    },
    "tags": []
   },
   "outputs": [
    {
     "name": "stdout",
     "output_type": "stream",
     "text": [
      "Epoch 1/10\n",
      "375/375 [==============================] - 2s 5ms/step - loss: 0.3963 - accuracy: 0.9084 - val_loss: 0.1405 - val_accuracy: 0.9630\n",
      "Epoch 2/10\n",
      "375/375 [==============================] - 2s 5ms/step - loss: 0.1454 - accuracy: 0.9638 - val_loss: 0.1555 - val_accuracy: 0.9656\n",
      "Epoch 3/10\n",
      "375/375 [==============================] - 2s 5ms/step - loss: 0.1177 - accuracy: 0.9727 - val_loss: 0.1768 - val_accuracy: 0.9691\n",
      "Epoch 4/10\n",
      "375/375 [==============================] - 2s 5ms/step - loss: 0.0982 - accuracy: 0.9784 - val_loss: 0.2047 - val_accuracy: 0.9691\n",
      "Epoch 5/10\n",
      "375/375 [==============================] - 2s 5ms/step - loss: 0.0917 - accuracy: 0.9812 - val_loss: 0.2588 - val_accuracy: 0.9668\n",
      "Epoch 6/10\n",
      "375/375 [==============================] - 2s 5ms/step - loss: 0.0803 - accuracy: 0.9840 - val_loss: 0.2128 - val_accuracy: 0.9742\n",
      "Epoch 7/10\n",
      "375/375 [==============================] - 2s 5ms/step - loss: 0.0689 - accuracy: 0.9865 - val_loss: 0.2301 - val_accuracy: 0.9724\n",
      "Epoch 8/10\n",
      "375/375 [==============================] - 2s 5ms/step - loss: 0.0719 - accuracy: 0.9870 - val_loss: 0.3151 - val_accuracy: 0.9721\n",
      "Epoch 9/10\n",
      "375/375 [==============================] - 2s 5ms/step - loss: 0.0622 - accuracy: 0.9889 - val_loss: 0.3299 - val_accuracy: 0.9709\n",
      "Epoch 10/10\n",
      "375/375 [==============================] - 2s 5ms/step - loss: 0.0628 - accuracy: 0.9894 - val_loss: 0.3471 - val_accuracy: 0.9726\n"
     ]
    },
    {
     "data": {
      "text/plain": [
       "<keras.callbacks.History at 0x1754671c850>"
      ]
     },
     "execution_count": 26,
     "metadata": {},
     "output_type": "execute_result"
    }
   ],
   "source": [
    "# 5-8 같은 모델을 적절한 학습률로 훈련\n",
    "# 학습률 바꿔주기\n",
    "(train_images, train_labels), _ = mnist.load_data()\n",
    "train_images = train_images.reshape((60000, 28 * 28))\n",
    "train_images = train_images.astype(\"float32\") / 255\n",
    "\n",
    "model = keras.Sequential([\n",
    "    layers.Dense(512, activation=\"relu\"),\n",
    "    layers.Dense(10, activation=\"softmax\")\n",
    "])\n",
    "model.compile(optimizer=keras.optimizers.RMSprop(0.01),\n",
    "              loss=\"sparse_categorical_crossentropy\",\n",
    "              metrics=[\"accuracy\"])\n",
    "model.fit(train_images, train_labels,\n",
    "          epochs=10,\n",
    "          batch_size=128,\n",
    "          validation_split=0.2) "
   ]
  },
  {
   "cell_type": "code",
   "execution_count": 14,
   "id": "c1b8bfea-eac8-4d5c-a737-3355a026f61c",
   "metadata": {
    "collapsed": true,
    "jupyter": {
     "outputs_hidden": true
    },
    "tags": []
   },
   "outputs": [
    {
     "name": "stdout",
     "output_type": "stream",
     "text": [
      "Epoch 1/10\n",
      "1500/1500 [==============================] - 7s 4ms/step - loss: 0.3425 - accuracy: 0.9218 - val_loss: 0.2384 - val_accuracy: 0.9563\n",
      "Epoch 2/10\n",
      "1500/1500 [==============================] - 6s 4ms/step - loss: 0.2482 - accuracy: 0.9598 - val_loss: 0.2576 - val_accuracy: 0.9645\n",
      "Epoch 3/10\n",
      "1500/1500 [==============================] - 6s 4ms/step - loss: 0.2076 - accuracy: 0.9694 - val_loss: 0.2753 - val_accuracy: 0.9668\n",
      "Epoch 4/10\n",
      "1500/1500 [==============================] - 6s 4ms/step - loss: 0.2065 - accuracy: 0.9745 - val_loss: 0.3383 - val_accuracy: 0.9670\n",
      "Epoch 5/10\n",
      "1500/1500 [==============================] - 6s 4ms/step - loss: 0.2063 - accuracy: 0.9760 - val_loss: 0.3640 - val_accuracy: 0.9672\n",
      "Epoch 6/10\n",
      "1500/1500 [==============================] - 6s 4ms/step - loss: 0.1720 - accuracy: 0.9804 - val_loss: 0.4065 - val_accuracy: 0.9699\n",
      "Epoch 7/10\n",
      "1500/1500 [==============================] - 6s 4ms/step - loss: 0.1549 - accuracy: 0.9829 - val_loss: 0.4577 - val_accuracy: 0.9681\n",
      "Epoch 8/10\n",
      "1500/1500 [==============================] - 6s 4ms/step - loss: 0.1526 - accuracy: 0.9839 - val_loss: 0.4892 - val_accuracy: 0.9715\n",
      "Epoch 9/10\n",
      "1500/1500 [==============================] - 6s 4ms/step - loss: 0.1426 - accuracy: 0.9853 - val_loss: 0.6016 - val_accuracy: 0.9653\n",
      "Epoch 10/10\n",
      "1500/1500 [==============================] - 6s 4ms/step - loss: 0.1298 - accuracy: 0.9871 - val_loss: 0.5541 - val_accuracy: 0.9707\n"
     ]
    },
    {
     "data": {
      "text/plain": [
       "<keras.callbacks.History at 0x1753aa9c880>"
      ]
     },
     "execution_count": 14,
     "metadata": {},
     "output_type": "execute_result"
    }
   ],
   "source": [
    "# batch_size바꿨을 때\n",
    "(train_images, train_labels), _ = mnist.load_data()\n",
    "train_images = train_images.reshape((60000, 28 * 28))\n",
    "train_images = train_images.astype(\"float32\") / 255\n",
    "\n",
    "model = keras.Sequential([\n",
    "    layers.Dense(512, activation=\"relu\"),\n",
    "    layers.Dense(10, activation=\"softmax\")\n",
    "])\n",
    "model.compile(optimizer=keras.optimizers.RMSprop(0.01),\n",
    "              loss=\"sparse_categorical_crossentropy\",\n",
    "              metrics=[\"accuracy\"])\n",
    "model.fit(train_images, train_labels,\n",
    "          epochs=10,\n",
    "          batch_size=32,\n",
    "          validation_split=0.2) "
   ]
  },
  {
   "cell_type": "code",
   "execution_count": null,
   "id": "0a600853-fc5a-4dab-bd92-74969fe61dd2",
   "metadata": {},
   "outputs": [],
   "source": [
    "## 5.3.2 구조에 대해 더 나은 가정하기\n",
    "- 단순하게 입력 데이터에 타깃 예측을 위한 정부가 충분하지 않을 수 있다.\n",
    "즉 현재 방식으로는 문제를 풀 수 없다. \n",
    "- 현재 사용하는 모델의 종류가 문제에 적합하지 않을 수 있다. \n",
    "즉 구조에 대한 올바른 가정을 내려야 함"
   ]
  },
  {
   "cell_type": "code",
   "execution_count": 27,
   "id": "3806a477-763e-412a-af95-f4437ccfcac4",
   "metadata": {
    "collapsed": true,
    "jupyter": {
     "outputs_hidden": true
    },
    "tags": []
   },
   "outputs": [
    {
     "name": "stdout",
     "output_type": "stream",
     "text": [
      "Epoch 1/20\n",
      "375/375 [==============================] - 1s 2ms/step - loss: 0.6717 - accuracy: 0.8363 - val_loss: 0.3591 - val_accuracy: 0.9045\n",
      "Epoch 2/20\n",
      "375/375 [==============================] - 0s 1ms/step - loss: 0.3514 - accuracy: 0.9037 - val_loss: 0.3075 - val_accuracy: 0.9152\n",
      "Epoch 3/20\n",
      "375/375 [==============================] - 0s 1ms/step - loss: 0.3156 - accuracy: 0.9122 - val_loss: 0.2892 - val_accuracy: 0.9195\n",
      "Epoch 4/20\n",
      "375/375 [==============================] - 0s 1ms/step - loss: 0.2996 - accuracy: 0.9164 - val_loss: 0.2816 - val_accuracy: 0.9206\n",
      "Epoch 5/20\n",
      "375/375 [==============================] - 0s 1ms/step - loss: 0.2897 - accuracy: 0.9190 - val_loss: 0.2754 - val_accuracy: 0.9239\n",
      "Epoch 6/20\n",
      "375/375 [==============================] - 0s 1ms/step - loss: 0.2833 - accuracy: 0.9205 - val_loss: 0.2730 - val_accuracy: 0.9235\n",
      "Epoch 7/20\n",
      "375/375 [==============================] - 0s 1ms/step - loss: 0.2784 - accuracy: 0.9219 - val_loss: 0.2691 - val_accuracy: 0.9271\n",
      "Epoch 8/20\n",
      "375/375 [==============================] - 0s 1ms/step - loss: 0.2744 - accuracy: 0.9237 - val_loss: 0.2686 - val_accuracy: 0.9262\n",
      "Epoch 9/20\n",
      "375/375 [==============================] - 0s 1ms/step - loss: 0.2717 - accuracy: 0.9245 - val_loss: 0.2666 - val_accuracy: 0.9278\n",
      "Epoch 10/20\n",
      "375/375 [==============================] - 0s 1ms/step - loss: 0.2691 - accuracy: 0.9246 - val_loss: 0.2638 - val_accuracy: 0.9284\n",
      "Epoch 11/20\n",
      "375/375 [==============================] - 0s 1ms/step - loss: 0.2667 - accuracy: 0.9260 - val_loss: 0.2641 - val_accuracy: 0.9276\n",
      "Epoch 12/20\n",
      "375/375 [==============================] - 0s 1ms/step - loss: 0.2651 - accuracy: 0.9265 - val_loss: 0.2640 - val_accuracy: 0.9276\n",
      "Epoch 13/20\n",
      "375/375 [==============================] - 0s 1ms/step - loss: 0.2632 - accuracy: 0.9275 - val_loss: 0.2624 - val_accuracy: 0.9298\n",
      "Epoch 14/20\n",
      "375/375 [==============================] - 0s 1ms/step - loss: 0.2617 - accuracy: 0.9279 - val_loss: 0.2617 - val_accuracy: 0.9291\n",
      "Epoch 15/20\n",
      "375/375 [==============================] - 0s 1ms/step - loss: 0.2608 - accuracy: 0.9285 - val_loss: 0.2622 - val_accuracy: 0.9300\n",
      "Epoch 16/20\n",
      "375/375 [==============================] - 0s 1ms/step - loss: 0.2594 - accuracy: 0.9284 - val_loss: 0.2609 - val_accuracy: 0.9306\n",
      "Epoch 17/20\n",
      "375/375 [==============================] - 0s 1ms/step - loss: 0.2584 - accuracy: 0.9293 - val_loss: 0.2611 - val_accuracy: 0.9308\n",
      "Epoch 18/20\n",
      "375/375 [==============================] - 0s 1ms/step - loss: 0.2574 - accuracy: 0.9298 - val_loss: 0.2602 - val_accuracy: 0.9310\n",
      "Epoch 19/20\n",
      "375/375 [==============================] - 0s 1ms/step - loss: 0.2562 - accuracy: 0.9300 - val_loss: 0.2628 - val_accuracy: 0.9311\n",
      "Epoch 20/20\n",
      "375/375 [==============================] - 0s 1ms/step - loss: 0.2558 - accuracy: 0.9304 - val_loss: 0.2630 - val_accuracy: 0.9294\n"
     ]
    }
   ],
   "source": [
    "## 5.3.3 모델 용량 늘리기\n",
    "# 5-9 MNIST 데이터를 사용한 간단한 로지스틱 회귀 모델\n",
    "model = keras.Sequential([layers.Dense(10, activation=\"softmax\")])\n",
    "model.compile(optimizer=\"rmsprop\",\n",
    "             loss= \"sparse_categorical_crossentropy\",\n",
    "             metrics=[\"accuracy\"])\n",
    "history_small_model = model.fit(\n",
    "    train_images, train_labels,\n",
    "    epochs=20,\n",
    "    batch_size=128,\n",
    "    validation_split=0.2)"
   ]
  },
  {
   "cell_type": "code",
   "execution_count": 28,
   "id": "dda8aa55-f3b7-4139-8303-ef7696cad179",
   "metadata": {},
   "outputs": [
    {
     "data": {
      "image/png": "[encoded data removed]",
      "text/plain": [
       "<Figure size 432x288 with 1 Axes>"
      ]
     },
     "metadata": {
      "needs_background": "light"
     },
     "output_type": "display_data"
    }
   ],
   "source": [
    "# 손실곡선\n",
    "import matplotlib.pyplot as plt\n",
    "\n",
    "val_loss=history_small_model.history[\"val_loss\"]\n",
    "epochs = range(1,21)\n",
    "plt.plot(epochs, val_loss, \"b--\",\n",
    "        label=\"Validation loss\")\n",
    "plt.title(\"Effect of insufficient model capacity on validation loss\")\n",
    "plt.xlabel(\"Epochs\")\n",
    "plt.ylabel(\"Loss\")\n",
    "plt.legend()\n",
    "plt.show()"
   ]
  },
  {
   "cell_type": "code",
   "execution_count": 31,
   "id": "94f80251-f7e5-4da9-bf38-f80d82f4a755",
   "metadata": {
    "collapsed": true,
    "jupyter": {
     "outputs_hidden": true
    },
    "tags": []
   },
   "outputs": [
    {
     "name": "stdout",
     "output_type": "stream",
     "text": [
      "Epoch 1/20\n",
      "375/375 [==============================] - 1s 2ms/step - loss: 0.3522 - accuracy: 0.9005 - val_loss: 0.1983 - val_accuracy: 0.9426\n",
      "Epoch 2/20\n",
      "375/375 [==============================] - 1s 2ms/step - loss: 0.1579 - accuracy: 0.9535 - val_loss: 0.1315 - val_accuracy: 0.9617\n",
      "Epoch 3/20\n",
      "375/375 [==============================] - 1s 2ms/step - loss: 0.1119 - accuracy: 0.9669 - val_loss: 0.1198 - val_accuracy: 0.9629\n",
      "Epoch 4/20\n",
      "375/375 [==============================] - 1s 2ms/step - loss: 0.0852 - accuracy: 0.9736 - val_loss: 0.1003 - val_accuracy: 0.9699\n",
      "Epoch 5/20\n",
      "375/375 [==============================] - 1s 2ms/step - loss: 0.0683 - accuracy: 0.9790 - val_loss: 0.1013 - val_accuracy: 0.9687\n",
      "Epoch 6/20\n",
      "375/375 [==============================] - 1s 2ms/step - loss: 0.0565 - accuracy: 0.9831 - val_loss: 0.0964 - val_accuracy: 0.9728\n",
      "Epoch 7/20\n",
      "375/375 [==============================] - 1s 2ms/step - loss: 0.0462 - accuracy: 0.9857 - val_loss: 0.0952 - val_accuracy: 0.9741\n",
      "Epoch 8/20\n",
      "375/375 [==============================] - 1s 2ms/step - loss: 0.0387 - accuracy: 0.9886 - val_loss: 0.0980 - val_accuracy: 0.9737\n",
      "Epoch 9/20\n",
      "375/375 [==============================] - 1s 2ms/step - loss: 0.0334 - accuracy: 0.9896 - val_loss: 0.0892 - val_accuracy: 0.9758\n",
      "Epoch 10/20\n",
      "375/375 [==============================] - 1s 2ms/step - loss: 0.0273 - accuracy: 0.9914 - val_loss: 0.1005 - val_accuracy: 0.9739\n",
      "Epoch 11/20\n",
      "375/375 [==============================] - 1s 2ms/step - loss: 0.0236 - accuracy: 0.9923 - val_loss: 0.1047 - val_accuracy: 0.9747\n",
      "Epoch 12/20\n",
      "375/375 [==============================] - 1s 2ms/step - loss: 0.0194 - accuracy: 0.9943 - val_loss: 0.1016 - val_accuracy: 0.9753\n",
      "Epoch 13/20\n",
      "375/375 [==============================] - 1s 2ms/step - loss: 0.0159 - accuracy: 0.9953 - val_loss: 0.1082 - val_accuracy: 0.9752\n",
      "Epoch 14/20\n",
      "375/375 [==============================] - 1s 2ms/step - loss: 0.0136 - accuracy: 0.9958 - val_loss: 0.1205 - val_accuracy: 0.9737\n",
      "Epoch 15/20\n",
      "375/375 [==============================] - 1s 2ms/step - loss: 0.0114 - accuracy: 0.9967 - val_loss: 0.1130 - val_accuracy: 0.9776\n",
      "Epoch 16/20\n",
      "375/375 [==============================] - 1s 2ms/step - loss: 0.0110 - accuracy: 0.9966 - val_loss: 0.1157 - val_accuracy: 0.9775\n",
      "Epoch 17/20\n",
      "375/375 [==============================] - 1s 2ms/step - loss: 0.0087 - accuracy: 0.9973 - val_loss: 0.1191 - val_accuracy: 0.9778\n",
      "Epoch 18/20\n",
      "375/375 [==============================] - 1s 2ms/step - loss: 0.0078 - accuracy: 0.9977 - val_loss: 0.1336 - val_accuracy: 0.9756\n",
      "Epoch 19/20\n",
      "375/375 [==============================] - 1s 2ms/step - loss: 0.0066 - accuracy: 0.9981 - val_loss: 0.1319 - val_accuracy: 0.9758\n",
      "Epoch 20/20\n",
      "375/375 [==============================] - 1s 2ms/step - loss: 0.0064 - accuracy: 0.9977 - val_loss: 0.1371 - val_accuracy: 0.9761\n"
     ]
    }
   ],
   "source": [
    "# 96개의 유닛을 가진 2개의 중간층으로 구성되어 용량이 더 큰 모델을 훈련\n",
    "model= keras.Sequential([\n",
    "    layers.Dense(96, activation=\"relu\"),\n",
    "    layers.Dense(96, activation=\"relu\"),\n",
    "    layers.Dense(10, activation=\"softmax\"),\n",
    "])\n",
    "model.compile(optimizer=\"rmsprop\",\n",
    "             loss=\"sparse_categorical_crossentropy\",\n",
    "             metrics=[\"accuracy\"])\n",
    "history_large_model= model.fit(\n",
    "    train_images, train_labels,\n",
    "    epochs=20, \n",
    "    batch_size=128,\n",
    "    validation_split=0.2)"
   ]
  },
  {
   "cell_type": "code",
   "execution_count": 32,
   "id": "540936aa-60cb-43fa-845d-f7db4301a1c5",
   "metadata": {},
   "outputs": [
    {
     "data": {
      "image/png": "[encoded data removed]",
      "text/plain": [
       "<Figure size 432x288 with 1 Axes>"
      ]
     },
     "metadata": {
      "needs_background": "light"
     },
     "output_type": "display_data"
    }
   ],
   "source": [
    "# 손실곡선\n",
    "import matplotlib.pyplot as plt\n",
    "\n",
    "val_loss=history_large_model.history[\"val_loss\"]\n",
    "epochs = range(1,21)\n",
    "plt.plot(epochs, val_loss, \"b--\",\n",
    "        label=\"Validation loss\")\n",
    "plt.title(\"Effect of insufficient model capacity on validation loss\")\n",
    "plt.xlabel(\"Epochs\")\n",
    "plt.ylabel(\"Loss\")\n",
    "plt.legend()\n",
    "plt.show()"
   ]
  },
  {
   "cell_type": "markdown",
   "id": "11958756-5287-4ee3-a186-a4d6f41feedb",
   "metadata": {},
   "source": [
    "# 5.4 일반화 성능 향상하기\n",
    "- 데이터가 충분한지 확인, 입력에서 출력을 매치아는 공간을 조밀하게 샘플링해야 함. 데이터가 많을수록 좋은 모델이 만들어짐\n",
    "- 레이블 할당 에러를 최소화. 입력을 시각화 하여 이상치를 확인하고 레이블을 교정.\n",
    "- 데이터를 정제하고 누력된 값을 처리\n",
    "- 특성중에 어떤 것이 유용한지 확실하지 않으면 특성 선택을 수행"
   ]
  },
  {
   "cell_type": "markdown",
   "id": "5cdf77d6-93e3-4485-82bf-bf205224af2a",
   "metadata": {},
   "source": [
    "## 5.4.2 특성공학\n",
    "- 모델에 데이터를 주입하기 전에(학습이 아닌)하드코딩 된 변환을 적용하여 알고리즘이 더 잘 수행되도록 만들어줌"
   ]
  },
  {
   "cell_type": "markdown",
   "id": "03945547-b3f9-437b-9c3c-8bd91ad09c6e",
   "metadata": {},
   "source": [
    "## 5.4.3 조기종료 사용하기(early stopping)\n",
    "- 훈련 중 일반화 성능이 가장 높은 정확한 최적적합의 지점(과소적합과 과대적합 사이의 정확한 경계)을 찾는 것은 일반화 성능을 향상시킬 수 있는 가장 효과적인 방법 중 하나다."
   ]
  },
  {
   "cell_type": "markdown",
   "id": "8f2b17c5-2c08-48d3-8562-30a43ba48f0a",
   "metadata": {},
   "source": [
    "## 5.4.4 모델 규제하기\n",
    "목적: 모델의 검증 점수를 향상시키는 것\n",
    "- 과대적합을 완화시키는 가장 간단한 방법은 모델 크기(층의 수와 층에 있는 유닛 개수로 결정되는 학습 가능한 파라미터 개수)를 줄이는 것.\n",
    "- 너무 많은 용량과 충분하지 않은 용량 사이의 절충점을 찾아야 한다."
   ]
  },
  {
   "cell_type": "code",
   "execution_count": 20,
   "id": "3918f918-973f-40a0-a8e6-16d47a724895",
   "metadata": {
    "collapsed": true,
    "jupyter": {
     "outputs_hidden": true
    },
    "tags": []
   },
   "outputs": [
    {
     "name": "stdout",
     "output_type": "stream",
     "text": [
      "Epoch 1/20\n",
      "30/30 [==============================] - 1s 20ms/step - loss: 0.5336 - accuracy: 0.7891 - val_loss: 0.4022 - val_accuracy: 0.8680\n",
      "Epoch 2/20\n",
      "30/30 [==============================] - 0s 11ms/step - loss: 0.3228 - accuracy: 0.9017 - val_loss: 0.3134 - val_accuracy: 0.8846\n",
      "Epoch 3/20\n",
      "30/30 [==============================] - 0s 10ms/step - loss: 0.2326 - accuracy: 0.9251 - val_loss: 0.2915 - val_accuracy: 0.8858\n",
      "Epoch 4/20\n",
      "30/30 [==============================] - 0s 10ms/step - loss: 0.1841 - accuracy: 0.9405 - val_loss: 0.2724 - val_accuracy: 0.8917\n",
      "Epoch 5/20\n",
      "30/30 [==============================] - 0s 11ms/step - loss: 0.1505 - accuracy: 0.9519 - val_loss: 0.2769 - val_accuracy: 0.8905\n",
      "Epoch 6/20\n",
      "30/30 [==============================] - 0s 11ms/step - loss: 0.1243 - accuracy: 0.9615 - val_loss: 0.2896 - val_accuracy: 0.8876\n",
      "Epoch 7/20\n",
      "30/30 [==============================] - 0s 10ms/step - loss: 0.1044 - accuracy: 0.9682 - val_loss: 0.3042 - val_accuracy: 0.8858\n",
      "Epoch 8/20\n",
      "30/30 [==============================] - 0s 11ms/step - loss: 0.0856 - accuracy: 0.9741 - val_loss: 0.3317 - val_accuracy: 0.8809\n",
      "Epoch 9/20\n",
      "30/30 [==============================] - 0s 11ms/step - loss: 0.0728 - accuracy: 0.9794 - val_loss: 0.3495 - val_accuracy: 0.8807\n",
      "Epoch 10/20\n",
      "30/30 [==============================] - 0s 10ms/step - loss: 0.0590 - accuracy: 0.9849 - val_loss: 0.4170 - val_accuracy: 0.8670\n",
      "Epoch 11/20\n",
      "30/30 [==============================] - 0s 10ms/step - loss: 0.0504 - accuracy: 0.9878 - val_loss: 0.4017 - val_accuracy: 0.8743\n",
      "Epoch 12/20\n",
      "30/30 [==============================] - 0s 11ms/step - loss: 0.0414 - accuracy: 0.9897 - val_loss: 0.4248 - val_accuracy: 0.8754\n",
      "Epoch 13/20\n",
      "30/30 [==============================] - 0s 10ms/step - loss: 0.0337 - accuracy: 0.9929 - val_loss: 0.4559 - val_accuracy: 0.8745\n",
      "Epoch 14/20\n",
      "30/30 [==============================] - 0s 10ms/step - loss: 0.0271 - accuracy: 0.9945 - val_loss: 0.4903 - val_accuracy: 0.8719\n",
      "Epoch 15/20\n",
      "30/30 [==============================] - 0s 10ms/step - loss: 0.0200 - accuracy: 0.9967 - val_loss: 0.5389 - val_accuracy: 0.8677\n",
      "Epoch 16/20\n",
      "30/30 [==============================] - 0s 10ms/step - loss: 0.0190 - accuracy: 0.9955 - val_loss: 0.5602 - val_accuracy: 0.8697\n",
      "Epoch 17/20\n",
      "30/30 [==============================] - 0s 11ms/step - loss: 0.0137 - accuracy: 0.9976 - val_loss: 0.5910 - val_accuracy: 0.8678\n",
      "Epoch 18/20\n",
      "30/30 [==============================] - 0s 10ms/step - loss: 0.0090 - accuracy: 0.9991 - val_loss: 0.6437 - val_accuracy: 0.8651\n",
      "Epoch 19/20\n",
      "30/30 [==============================] - 0s 10ms/step - loss: 0.0099 - accuracy: 0.9984 - val_loss: 0.6837 - val_accuracy: 0.8627\n",
      "Epoch 20/20\n",
      "30/30 [==============================] - 0s 9ms/step - loss: 0.0052 - accuracy: 0.9995 - val_loss: 0.7441 - val_accuracy: 0.8588\n"
     ]
    }
   ],
   "source": [
    "# 5-10 원본 모델\n",
    "import numpy as np\n",
    "import keras\n",
    "\n",
    "from tensorflow.keras.datasets import imdb\n",
    "(train_data, train_labels), _ = imdb.load_data(num_words=10000)\n",
    "\n",
    "def vectorize_sequences(sequences, dimension=10000):\n",
    "    results = np.zeros((len(sequences), dimension))\n",
    "    for i, sequence in enumerate(sequences):\n",
    "        results[i, sequence] = 1.\n",
    "    return results\n",
    "train_data = vectorize_sequences(train_data)\n",
    "\n",
    "model = keras.Sequential([\n",
    "  layers.Dense(16, activation='relu'),\n",
    "  layers.Dense(16, activation='relu'),\n",
    "  layers.Dense(1, activation='sigmoid')\n",
    "])\n",
    "model.compile(optimizer='rmsprop',\n",
    "              loss='binary_crossentropy',\n",
    "              metrics=['accuracy'])\n",
    "hist_original = model.fit(train_data, train_labels,\n",
    "                          epochs=20, batch_size=512, validation_split=0.4)"
   ]
  },
  {
   "cell_type": "code",
   "execution_count": 26,
   "id": "09d5dcc2-1e6e-47be-ac25-83e6a16ef1b2",
   "metadata": {},
   "outputs": [
    {
     "data": {
      "image/png": "[encoded data removed]",
      "text/plain": [
       "<Figure size 432x288 with 1 Axes>"
      ]
     },
     "metadata": {
      "needs_background": "light"
     },
     "output_type": "display_data"
    }
   ],
   "source": [
    "# hist_original plt\n",
    "\n",
    "import matplotlib.pyplot as plt\n",
    "\n",
    "val_loss=hist_original.history[\"val_loss\"]\n",
    "epochs = range(1,21)\n",
    "plt.plot(epochs, val_loss, \"b--\",\n",
    "        label=\"Validation loss\")\n",
    "plt.title(\"Effect of insufficient model capacity on validation loss\")\n",
    "plt.xlabel(\"Epochs\")\n",
    "plt.ylabel(\"Loss\")\n",
    "plt.legend()\n",
    "plt.show()"
   ]
  },
  {
   "cell_type": "code",
   "execution_count": 32,
   "id": "eb72cebb-271b-46bf-ac39-57da93e4ab89",
   "metadata": {
    "collapsed": true,
    "jupyter": {
     "outputs_hidden": true
    },
    "tags": []
   },
   "outputs": [
    {
     "name": "stdout",
     "output_type": "stream",
     "text": [
      "Epoch 1/20\n",
      "30/30 [==============================] - 1s 21ms/step - loss: 0.6682 - accuracy: 0.6319 - val_loss: 0.6286 - val_accuracy: 0.8290\n",
      "Epoch 2/20\n",
      "30/30 [==============================] - 0s 11ms/step - loss: 0.5876 - accuracy: 0.7781 - val_loss: 0.5795 - val_accuracy: 0.6924\n",
      "Epoch 3/20\n",
      "30/30 [==============================] - 0s 11ms/step - loss: 0.5351 - accuracy: 0.8156 - val_loss: 0.5351 - val_accuracy: 0.8138\n",
      "Epoch 4/20\n",
      "30/30 [==============================] - 0s 11ms/step - loss: 0.4938 - accuracy: 0.8579 - val_loss: 0.5052 - val_accuracy: 0.8499\n",
      "Epoch 5/20\n",
      "30/30 [==============================] - 0s 11ms/step - loss: 0.4554 - accuracy: 0.8899 - val_loss: 0.4724 - val_accuracy: 0.8689\n",
      "Epoch 6/20\n",
      "30/30 [==============================] - 0s 11ms/step - loss: 0.4131 - accuracy: 0.9139 - val_loss: 0.4380 - val_accuracy: 0.8706\n",
      "Epoch 7/20\n",
      "30/30 [==============================] - 0s 12ms/step - loss: 0.3661 - accuracy: 0.9308 - val_loss: 0.3958 - val_accuracy: 0.8873\n",
      "Epoch 8/20\n",
      "30/30 [==============================] - 0s 11ms/step - loss: 0.3166 - accuracy: 0.9414 - val_loss: 0.3589 - val_accuracy: 0.8886\n",
      "Epoch 9/20\n",
      "30/30 [==============================] - 0s 11ms/step - loss: 0.2676 - accuracy: 0.9483 - val_loss: 0.3272 - val_accuracy: 0.8890\n",
      "Epoch 10/20\n",
      "30/30 [==============================] - 0s 11ms/step - loss: 0.2249 - accuracy: 0.9530 - val_loss: 0.3057 - val_accuracy: 0.8886\n",
      "Epoch 11/20\n",
      "30/30 [==============================] - 0s 12ms/step - loss: 0.1910 - accuracy: 0.9581 - val_loss: 0.2903 - val_accuracy: 0.8897\n",
      "Epoch 12/20\n",
      "30/30 [==============================] - 0s 12ms/step - loss: 0.1649 - accuracy: 0.9622 - val_loss: 0.2851 - val_accuracy: 0.8882\n",
      "Epoch 13/20\n",
      "30/30 [==============================] - 0s 11ms/step - loss: 0.1446 - accuracy: 0.9656 - val_loss: 0.2817 - val_accuracy: 0.8896\n",
      "Epoch 14/20\n",
      "30/30 [==============================] - 0s 11ms/step - loss: 0.1283 - accuracy: 0.9697 - val_loss: 0.2908 - val_accuracy: 0.8879\n",
      "Epoch 15/20\n",
      "30/30 [==============================] - 0s 11ms/step - loss: 0.1162 - accuracy: 0.9717 - val_loss: 0.2888 - val_accuracy: 0.8881\n",
      "Epoch 16/20\n",
      "30/30 [==============================] - 0s 12ms/step - loss: 0.1054 - accuracy: 0.9750 - val_loss: 0.2975 - val_accuracy: 0.8880\n",
      "Epoch 17/20\n",
      "30/30 [==============================] - 0s 11ms/step - loss: 0.0963 - accuracy: 0.9763 - val_loss: 0.3048 - val_accuracy: 0.8866\n",
      "Epoch 18/20\n",
      "30/30 [==============================] - 0s 11ms/step - loss: 0.0881 - accuracy: 0.9787 - val_loss: 0.3112 - val_accuracy: 0.8857\n",
      "Epoch 19/20\n",
      "30/30 [==============================] - 0s 12ms/step - loss: 0.0804 - accuracy: 0.9812 - val_loss: 0.3232 - val_accuracy: 0.8849\n",
      "Epoch 20/20\n",
      "30/30 [==============================] - 0s 11ms/step - loss: 0.0735 - accuracy: 0.9830 - val_loss: 0.3341 - val_accuracy: 0.8839\n"
     ]
    }
   ],
   "source": [
    "# 5-11 작은 용량의 모델 # 더 작은 모델\n",
    "model= keras.Sequential([\n",
    "    layers.Dense(4, activation=\"relu\"),\n",
    "    layers.Dense(4, activation=\"relu\"),\n",
    "    layers.Dense(1, activation=\"sigmoid\")\n",
    "])\n",
    "\n",
    "model.compile(optimizer=\"rmsprop\",\n",
    "             loss=\"binary_crossentropy\",\n",
    "             metrics=[\"accuracy\"])\n",
    "hist_smaller_model= model.fit(\n",
    "    train_data, train_labels,\n",
    "    epochs=20, batch_size=512, validation_split=0.4)"
   ]
  },
  {
   "cell_type": "code",
   "execution_count": 33,
   "id": "8e11dbdc-388d-42fc-8976-2734df5fa3ae",
   "metadata": {},
   "outputs": [
    {
     "data": {
      "image/png": "[encoded data removed]",
      "text/plain": [
       "<Figure size 432x288 with 1 Axes>"
      ]
     },
     "metadata": {
      "needs_background": "light"
     },
     "output_type": "display_data"
    }
   ],
   "source": [
    "#hist_smaller_model plt\n",
    "import matplotlib.pyplot as plt\n",
    "\n",
    "val_loss=hist_smaller_model.history[\"val_loss\"]\n",
    "epochs = range(1,21)\n",
    "plt.plot(epochs, val_loss, \"b--\",\n",
    "        label=\"Validation loss\")\n",
    "plt.title(\"Effect of insufficient model capacity on validation loss\")\n",
    "plt.xlabel(\"Epochs\")\n",
    "plt.ylabel(\"Loss\")\n",
    "plt.legend()\n",
    "plt.show()"
   ]
  },
  {
   "cell_type": "code",
   "execution_count": 36,
   "id": "987f030c-9ca6-4e27-9ef0-69fbc79ee258",
   "metadata": {
    "collapsed": true,
    "jupyter": {
     "outputs_hidden": true
    },
    "tags": []
   },
   "outputs": [
    {
     "name": "stdout",
     "output_type": "stream",
     "text": [
      "Epoch 1/20\n",
      "30/30 [==============================] - 3s 76ms/step - loss: 0.5414 - accuracy: 0.7571 - val_loss: 0.2943 - val_accuracy: 0.8856\n",
      "Epoch 2/20\n",
      "30/30 [==============================] - 2s 66ms/step - loss: 0.2411 - accuracy: 0.9060 - val_loss: 0.3669 - val_accuracy: 0.8425\n",
      "Epoch 3/20\n",
      "30/30 [==============================] - 2s 66ms/step - loss: 0.1550 - accuracy: 0.9390 - val_loss: 0.2898 - val_accuracy: 0.8888\n",
      "Epoch 4/20\n",
      "30/30 [==============================] - 2s 66ms/step - loss: 0.0743 - accuracy: 0.9748 - val_loss: 0.3523 - val_accuracy: 0.8896\n",
      "Epoch 5/20\n",
      "30/30 [==============================] - 2s 66ms/step - loss: 0.0117 - accuracy: 0.9972 - val_loss: 1.0808 - val_accuracy: 0.7777\n",
      "Epoch 6/20\n",
      "30/30 [==============================] - 2s 66ms/step - loss: 0.0677 - accuracy: 0.9802 - val_loss: 0.5130 - val_accuracy: 0.8875\n",
      "Epoch 7/20\n",
      "30/30 [==============================] - 2s 66ms/step - loss: 6.5698e-04 - accuracy: 1.0000 - val_loss: 0.6331 - val_accuracy: 0.8879\n",
      "Epoch 8/20\n",
      "30/30 [==============================] - 2s 65ms/step - loss: 1.1886e-04 - accuracy: 1.0000 - val_loss: 0.7413 - val_accuracy: 0.8861\n",
      "Epoch 9/20\n",
      "30/30 [==============================] - 2s 74ms/step - loss: 2.2616e-05 - accuracy: 1.0000 - val_loss: 0.8521 - val_accuracy: 0.8855\n",
      "Epoch 10/20\n",
      "30/30 [==============================] - 2s 81ms/step - loss: 4.8547e-06 - accuracy: 1.0000 - val_loss: 0.9736 - val_accuracy: 0.8857\n",
      "Epoch 11/20\n",
      "30/30 [==============================] - 3s 86ms/step - loss: 1.2376e-06 - accuracy: 1.0000 - val_loss: 1.0378 - val_accuracy: 0.8859\n",
      "Epoch 12/20\n",
      "30/30 [==============================] - 3s 87ms/step - loss: 3.7763e-07 - accuracy: 1.0000 - val_loss: 1.1390 - val_accuracy: 0.8848\n",
      "Epoch 13/20\n",
      "30/30 [==============================] - 3s 89ms/step - loss: 1.2382e-07 - accuracy: 1.0000 - val_loss: 1.2015 - val_accuracy: 0.8842\n",
      "Epoch 14/20\n",
      "30/30 [==============================] - 3s 114ms/step - loss: 5.4384e-08 - accuracy: 1.0000 - val_loss: 1.2545 - val_accuracy: 0.8844\n",
      "Epoch 15/20\n",
      "30/30 [==============================] - 3s 117ms/step - loss: 3.0079e-08 - accuracy: 1.0000 - val_loss: 1.2901 - val_accuracy: 0.8839\n",
      "Epoch 16/20\n",
      "30/30 [==============================] - 4s 118ms/step - loss: 1.9970e-08 - accuracy: 1.0000 - val_loss: 1.3153 - val_accuracy: 0.8845\n",
      "Epoch 17/20\n",
      "30/30 [==============================] - 2s 81ms/step - loss: 1.4967e-08 - accuracy: 1.0000 - val_loss: 1.3338 - val_accuracy: 0.8840\n",
      "Epoch 18/20\n",
      "30/30 [==============================] - 3s 86ms/step - loss: 1.1893e-08 - accuracy: 1.0000 - val_loss: 1.3492 - val_accuracy: 0.8842\n",
      "Epoch 19/20\n",
      "30/30 [==============================] - 3s 105ms/step - loss: 9.9084e-09 - accuracy: 1.0000 - val_loss: 1.3605 - val_accuracy: 0.8845\n",
      "Epoch 20/20\n",
      "30/30 [==============================] - 3s 112ms/step - loss: 8.4801e-09 - accuracy: 1.0000 - val_loss: 1.3691 - val_accuracy: 0.8841\n"
     ]
    }
   ],
   "source": [
    "# 5-12 큰 용량의 모델\n",
    "model = keras.Sequential([\n",
    "  layers.Dense(512, activation='relu'),\n",
    "  layers.Dense(512, activation='relu'),\n",
    "  layers.Dense(1, activation='sigmoid')\n",
    "])\n",
    "model.compile(optimizer='rmsprop',\n",
    "              loss='binary_crossentropy',\n",
    "              metrics=['accuracy'])\n",
    "hist_larger_model = model.fit(\n",
    "    train_data, train_labels,\n",
    "    epochs=20, batch_size=512, validation_split=0.4)"
   ]
  },
  {
   "cell_type": "code",
   "execution_count": 39,
   "id": "f210f748-771f-4022-b2d2-a7c126551730",
   "metadata": {},
   "outputs": [
    {
     "data": {
      "image/png": "[encoded data removed]",
      "text/plain": [
       "<Figure size 432x288 with 1 Axes>"
      ]
     },
     "metadata": {
      "needs_background": "light"
     },
     "output_type": "display_data"
    }
   ],
   "source": [
    "#hist_larger_model plt\n",
    "import matplotlib.pyplot as plt\n",
    "\n",
    "val_loss=hist_larger_model.history[\"val_loss\"]\n",
    "epochs = range(1,21)\n",
    "plt.plot(epochs, val_loss, \"b--\",\n",
    "        label=\"Validation loss\")\n",
    "plt.title(\"Effect of insufficient model capacity on validation loss\")\n",
    "plt.xlabel(\"Epochs\")\n",
    "plt.ylabel(\"Loss\")\n",
    "plt.legend()\n",
    "plt.show()"
   ]
  },
  {
   "cell_type": "code",
   "execution_count": 38,
   "id": "cf70d5de-135a-44e4-98d1-85ea692b2605",
   "metadata": {
    "collapsed": true,
    "jupyter": {
     "outputs_hidden": true
    },
    "tags": []
   },
   "outputs": [
    {
     "name": "stdout",
     "output_type": "stream",
     "text": [
      "Epoch 1/20\n",
      "30/30 [==============================] - 1s 20ms/step - loss: 0.5937 - accuracy: 0.7799 - val_loss: 0.4639 - val_accuracy: 0.8753\n",
      "Epoch 2/20\n",
      "30/30 [==============================] - 0s 11ms/step - loss: 0.4037 - accuracy: 0.8950 - val_loss: 0.3927 - val_accuracy: 0.8856\n",
      "Epoch 3/20\n",
      "30/30 [==============================] - 0s 11ms/step - loss: 0.3385 - accuracy: 0.9132 - val_loss: 0.3653 - val_accuracy: 0.8908\n",
      "Epoch 4/20\n",
      "30/30 [==============================] - 0s 11ms/step - loss: 0.3039 - accuracy: 0.9250 - val_loss: 0.3683 - val_accuracy: 0.8821\n",
      "Epoch 5/20\n",
      "30/30 [==============================] - 0s 11ms/step - loss: 0.2831 - accuracy: 0.9314 - val_loss: 0.3548 - val_accuracy: 0.8880\n",
      "Epoch 6/20\n",
      "30/30 [==============================] - 0s 11ms/step - loss: 0.2686 - accuracy: 0.9369 - val_loss: 0.3563 - val_accuracy: 0.8863\n",
      "Epoch 7/20\n",
      "30/30 [==============================] - 0s 11ms/step - loss: 0.2587 - accuracy: 0.9399 - val_loss: 0.3943 - val_accuracy: 0.8703\n",
      "Epoch 8/20\n",
      "30/30 [==============================] - 0s 11ms/step - loss: 0.2485 - accuracy: 0.9427 - val_loss: 0.3602 - val_accuracy: 0.8833\n",
      "Epoch 9/20\n",
      "30/30 [==============================] - 0s 11ms/step - loss: 0.2418 - accuracy: 0.9453 - val_loss: 0.3636 - val_accuracy: 0.8830\n",
      "Epoch 10/20\n",
      "30/30 [==============================] - 0s 11ms/step - loss: 0.2369 - accuracy: 0.9450 - val_loss: 0.3867 - val_accuracy: 0.8752\n",
      "Epoch 11/20\n",
      "30/30 [==============================] - 0s 11ms/step - loss: 0.2285 - accuracy: 0.9503 - val_loss: 0.3757 - val_accuracy: 0.8814\n",
      "Epoch 12/20\n",
      "30/30 [==============================] - 0s 11ms/step - loss: 0.2296 - accuracy: 0.9499 - val_loss: 0.3736 - val_accuracy: 0.8812\n",
      "Epoch 13/20\n",
      "30/30 [==============================] - 0s 11ms/step - loss: 0.2242 - accuracy: 0.9501 - val_loss: 0.3778 - val_accuracy: 0.8810\n",
      "Epoch 14/20\n",
      "30/30 [==============================] - 0s 11ms/step - loss: 0.2189 - accuracy: 0.9535 - val_loss: 0.3822 - val_accuracy: 0.8795\n",
      "Epoch 15/20\n",
      "30/30 [==============================] - 0s 11ms/step - loss: 0.2166 - accuracy: 0.9550 - val_loss: 0.4162 - val_accuracy: 0.8693\n",
      "Epoch 16/20\n",
      "30/30 [==============================] - 0s 11ms/step - loss: 0.2123 - accuracy: 0.9561 - val_loss: 0.3960 - val_accuracy: 0.8752\n",
      "Epoch 17/20\n",
      "30/30 [==============================] - 0s 11ms/step - loss: 0.2075 - accuracy: 0.9578 - val_loss: 0.4197 - val_accuracy: 0.8700\n",
      "Epoch 18/20\n",
      "30/30 [==============================] - 0s 11ms/step - loss: 0.2098 - accuracy: 0.9553 - val_loss: 0.3954 - val_accuracy: 0.8767\n",
      "Epoch 19/20\n",
      "30/30 [==============================] - 0s 11ms/step - loss: 0.2026 - accuracy: 0.9592 - val_loss: 0.4287 - val_accuracy: 0.8690\n",
      "Epoch 20/20\n",
      "30/30 [==============================] - 0s 10ms/step - loss: 0.2079 - accuracy: 0.9565 - val_loss: 0.4135 - val_accuracy: 0.8748\n"
     ]
    }
   ],
   "source": [
    "# 5-13 모델에 l2가중치 추가하기\n",
    "\n",
    "# l2(0.002)는 가중치 행렬의 모든 원소를 제곱하고 0.002를 곱해 모델 전체 손실에 더해진다는 의미.\n",
    "\n",
    "from tensorflow.keras import regularizers\n",
    "model = keras.Sequential([\n",
    "  layers.Dense(16,\n",
    "               kernel_regularizer=regularizers.l2(0.002),\n",
    "               activation='relu'),\n",
    "  layers.Dense(16,\n",
    "               kernel_regularizer=regularizers.l2(0.002),\n",
    "               activation='relu'),\n",
    "  layers.Dense(1, activation='sigmoid')\n",
    "])\n",
    "model.compile(optimizer='rmsprop',\n",
    "              loss='binary_crossentropy',\n",
    "              metrics=['accuracy'])\n",
    "hist_l2_reg = model.fit(\n",
    "    train_data, train_labels,\n",
    "    epochs=20, batch_size=512, validation_split=0.4)"
   ]
  },
  {
   "cell_type": "code",
   "execution_count": 41,
   "id": "efe0e363-3914-49ee-80bc-798f61bf250d",
   "metadata": {},
   "outputs": [
    {
     "data": {
      "image/png": "[encoded data removed]",
      "text/plain": [
       "<Figure size 432x288 with 1 Axes>"
      ]
     },
     "metadata": {
      "needs_background": "light"
     },
     "output_type": "display_data"
    }
   ],
   "source": [
    "#hist_l2_reg  plt\n",
    "import matplotlib.pyplot as plt\n",
    "\n",
    "val_loss=hist_l2_reg .history[\"val_loss\"]\n",
    "epochs = range(1,21)\n",
    "plt.plot(epochs, val_loss, \"b--\",\n",
    "        label=\"Validation loss\")\n",
    "plt.title(\"Effect of insufficient model capacity on validation loss\")\n",
    "plt.xlabel(\"Epochs\")\n",
    "plt.ylabel(\"Loss\")\n",
    "plt.legend()\n",
    "plt.show()"
   ]
  },
  {
   "cell_type": "code",
   "execution_count": 48,
   "id": "d360f5de-c285-4f64-a2cd-418759676b72",
   "metadata": {},
   "outputs": [
    {
     "data": {
      "text/plain": [
       "<keras.regularizers.L1L2 at 0x1e3ec59b940>"
      ]
     },
     "execution_count": 48,
     "metadata": {},
     "output_type": "execute_result"
    }
   ],
   "source": [
    "#5-14 케라스에서 사용할 수 있는 가중치 규제\n",
    "from keras import regularizers\n",
    "regularizers.l1(0.001) #l1규제\n",
    "regularizers.l1_l2(l1=0.001, l2=0.001) #l1, l2규제=> 엘라스틴넷"
   ]
  },
  {
   "cell_type": "code",
   "execution_count": 49,
   "id": "3ab9ac31-a1df-4c91-95c6-5ec28f199a0f",
   "metadata": {},
   "outputs": [],
   "source": [
    "### 드롭아웃 추가- 과적합 규제 방법(빼낸다, 탈락시킨다)\n",
    "- 모델에 드롭아웃을 적용하면 훈련하는 동안 무작위로 층의 출력 특성을 일부 제외시킵니다.(0으로 만듭니다.)"
   ]
  },
  {
   "cell_type": "code",
   "execution_count": null,
   "id": "5c436333-2583-456b-b4d5-b3a4874a336b",
   "metadata": {},
   "outputs": [],
   "source": [
    "# 훈련할 때 유닛의 출력 중 50%를 버린다.\n",
    "layer_ouptput *=np.random.randint(0, high=2, size=layer_ouptput.shape)"
   ]
  },
  {
   "cell_type": "code",
   "execution_count": null,
   "id": "171f5376-dbb8-44f8-905a-97362b684043",
   "metadata": {},
   "outputs": [],
   "source": [
    "# 테스트 단계\n",
    "layer_ouput*=0.5"
   ]
  },
  {
   "cell_type": "code",
   "execution_count": null,
   "id": "9378258d-7409-4731-899b-baa9be6a2e87",
   "metadata": {},
   "outputs": [],
   "source": [
    "# 훈련단계\n",
    "layer_output*=np.random.randint(0,high=2, size=layer_output.shape)\n",
    "layer_output/=0.5  #여기서 스케일을 낮추는 대신 높인다."
   ]
  },
  {
   "cell_type": "code",
   "execution_count": 52,
   "id": "e01a047f-386d-4d76-b09c-7f40032845cd",
   "metadata": {
    "collapsed": true,
    "jupyter": {
     "outputs_hidden": true
    },
    "tags": []
   },
   "outputs": [
    {
     "name": "stdout",
     "output_type": "stream",
     "text": [
      "Epoch 1/20\n",
      "30/30 [==============================] - 1s 21ms/step - loss: 0.6414 - accuracy: 0.6295 - val_loss: 0.5331 - val_accuracy: 0.8417\n",
      "Epoch 2/20\n",
      "30/30 [==============================] - 0s 12ms/step - loss: 0.5318 - accuracy: 0.7543 - val_loss: 0.4399 - val_accuracy: 0.8720\n",
      "Epoch 3/20\n",
      "30/30 [==============================] - 0s 11ms/step - loss: 0.4552 - accuracy: 0.8195 - val_loss: 0.3866 - val_accuracy: 0.8743\n",
      "Epoch 4/20\n",
      "30/30 [==============================] - 0s 13ms/step - loss: 0.3935 - accuracy: 0.8584 - val_loss: 0.3358 - val_accuracy: 0.8813\n",
      "Epoch 5/20\n",
      "30/30 [==============================] - 0s 12ms/step - loss: 0.3403 - accuracy: 0.8823 - val_loss: 0.3016 - val_accuracy: 0.8896\n",
      "Epoch 6/20\n",
      "30/30 [==============================] - 0s 11ms/step - loss: 0.3014 - accuracy: 0.9018 - val_loss: 0.2859 - val_accuracy: 0.8902\n",
      "Epoch 7/20\n",
      "30/30 [==============================] - 0s 12ms/step - loss: 0.2659 - accuracy: 0.9159 - val_loss: 0.2812 - val_accuracy: 0.8913\n",
      "Epoch 8/20\n",
      "30/30 [==============================] - 0s 11ms/step - loss: 0.2359 - accuracy: 0.9256 - val_loss: 0.2831 - val_accuracy: 0.8924\n",
      "Epoch 9/20\n",
      "30/30 [==============================] - 0s 12ms/step - loss: 0.2136 - accuracy: 0.9363 - val_loss: 0.2880 - val_accuracy: 0.8906\n",
      "Epoch 10/20\n",
      "30/30 [==============================] - 0s 12ms/step - loss: 0.1945 - accuracy: 0.9430 - val_loss: 0.3100 - val_accuracy: 0.8906\n",
      "Epoch 11/20\n",
      "30/30 [==============================] - 0s 12ms/step - loss: 0.1742 - accuracy: 0.9472 - val_loss: 0.3405 - val_accuracy: 0.8879\n",
      "Epoch 12/20\n",
      "30/30 [==============================] - 0s 12ms/step - loss: 0.1587 - accuracy: 0.9506 - val_loss: 0.3724 - val_accuracy: 0.8881\n",
      "Epoch 13/20\n",
      "30/30 [==============================] - 0s 11ms/step - loss: 0.1417 - accuracy: 0.9592 - val_loss: 0.3405 - val_accuracy: 0.8874\n",
      "Epoch 14/20\n",
      "30/30 [==============================] - 0s 11ms/step - loss: 0.1421 - accuracy: 0.9562 - val_loss: 0.3679 - val_accuracy: 0.8870\n",
      "Epoch 15/20\n",
      "30/30 [==============================] - 0s 13ms/step - loss: 0.1230 - accuracy: 0.9621 - val_loss: 0.4099 - val_accuracy: 0.8862\n",
      "Epoch 16/20\n",
      "30/30 [==============================] - 0s 12ms/step - loss: 0.1184 - accuracy: 0.9625 - val_loss: 0.4328 - val_accuracy: 0.8877\n",
      "Epoch 17/20\n",
      "30/30 [==============================] - 0s 11ms/step - loss: 0.1089 - accuracy: 0.9677 - val_loss: 0.4645 - val_accuracy: 0.8867\n",
      "Epoch 18/20\n",
      "30/30 [==============================] - 0s 12ms/step - loss: 0.1063 - accuracy: 0.9679 - val_loss: 0.5134 - val_accuracy: 0.8849\n",
      "Epoch 19/20\n",
      "30/30 [==============================] - 0s 12ms/step - loss: 0.0990 - accuracy: 0.9691 - val_loss: 0.5151 - val_accuracy: 0.8875\n",
      "Epoch 20/20\n",
      "30/30 [==============================] - 0s 11ms/step - loss: 0.0974 - accuracy: 0.9695 - val_loss: 0.5360 - val_accuracy: 0.8870\n"
     ]
    }
   ],
   "source": [
    "# 5-15 IMDB모델에 드롭아웃 추가하기\n",
    "model= keras.Sequential([\n",
    "    layers.Dense(16, activation=\"relu\"),\n",
    "    layers.Dropout(0.5),\n",
    "    layers.Dense(16, activation=\"relu\"),\n",
    "    layers.Dropout(0.5),\n",
    "    layers.Dense(1, activation=\"sigmoid\")\n",
    "])\n",
    "model.compile(optimizer=\"rmsprop\",\n",
    "             loss=\"binary_crossentropy\",\n",
    "             metrics=[\"accuracy\"])\n",
    "history_dropout=model.fit(\n",
    "    train_data, train_labels,\n",
    "    epochs=20, batch_size=512, validation_split=0.4)"
   ]
  },
  {
   "cell_type": "code",
   "execution_count": null,
   "id": "8e84bf4e-8c9e-4d28-9d54-d78b33433a37",
   "metadata": {},
   "outputs": [],
   "source": []
  },
  {
   "cell_type": "markdown",
   "id": "4c290dba-5d90-47cc-b9b5-0a5eddd33446",
   "metadata": {},
   "source": [
    "# 7. 케라스 완전 정복"
   ]
  },
  {
   "cell_type": "markdown",
   "id": "24cb76bd-fc2e-4d4c-a6d9-97bf7a83845a",
   "metadata": {},
   "source": [
    "## 7.1 다양한 워크플로\n",
    "- 케라스 API 설계는 복잡성의 단계적공개 원칙을 따른다.\n",
    "- 단계마다 점진적으로 학습하여 아주 복잡한 경우를 처리 가능"
   ]
  },
  {
   "cell_type": "markdown",
   "id": "d40f4a7a-95b9-4e79-96c2-898b7d4b3197",
   "metadata": {},
   "source": [
    "## 7.2 케라스 모델을 만드는 여러 방법\n",
    "# 케라스 모델을 만드는 API 3가지\n",
    "- Sequential모델: 가장 시작하기 쉬운 api. 기본적으로 하나의 파이썬 리스트. 단순히 층을 쌓을 수만 있음 \n",
    "- 함수형 API(Function API): 그래프 같은 모델 구조. api는 사용성과 유연성 사이의 적절한 중간 지점에 해당. 가장 널리 사용되는 모델 구축 api임\n",
    "- Model 서브클래싱(subclassing)은 모든 것을 밑바닥부터 직접 만들 수 있는 저수준 방법. 모든 상세 내용을 완전히 제어하고 싶은 경우에 적합.\n",
    "    하지만 여러 케라스 내장 기능을 사용하지 못하기 때문에 실수 발생 위험이 많음"
   ]
  },
  {
   "cell_type": "code",
   "execution_count": 1,
   "id": "4b869a97-2298-478a-af1a-c3dce2072649",
   "metadata": {},
   "outputs": [],
   "source": [
    "##7.2.1 Sequential모델\n",
    "# 7-1 Sequential클래스\n",
    "from tensorflow import keras\n",
    "from tensorflow.keras import layers\n",
    "\n",
    "model= keras.Sequential([\n",
    "    layers.Dense(64, activation=\"relu\"),\n",
    "    layers.Dense(10, activation=\"softmax\")\n",
    "])"
   ]
  },
  {
   "cell_type": "code",
   "execution_count": 2,
   "id": "31a2f40b-9f57-4396-a3cc-5c13afac778b",
   "metadata": {},
   "outputs": [],
   "source": [
    "# 7-2 점진적으로 Sequential모델 만들기\n",
    "model = keras.Sequential()\n",
    "model.add(layers.Dense(64, activation=\"relu\"))\n",
    "model.add(layers.Dense(10, activation=\"softmax\"))"
   ]
  },
  {
   "cell_type": "code",
   "execution_count": 3,
   "id": "1b7dd90d-6818-4744-8d3b-d7ab6d1e7535",
   "metadata": {
    "collapsed": true,
    "jupyter": {
     "outputs_hidden": true
    },
    "tags": []
   },
   "outputs": [
    {
     "ename": "ValueError",
     "evalue": "Weights for model sequential_1 have not yet been created. Weights are created when the Model is first called on inputs or `build()` is called with an `input_shape`.",
     "output_type": "error",
     "traceback": [
      "\u001b[1;31m---------------------------------------------------------------------------\u001b[0m",
      "\u001b[1;31mValueError\u001b[0m                                Traceback (most recent call last)",
      "Input \u001b[1;32mIn [3]\u001b[0m, in \u001b[0;36m<cell line: 6>\u001b[1;34m()\u001b[0m\n\u001b[0;32m      1\u001b[0m \u001b[38;5;66;03m# 입력 크기를 알기 전까지 가중치를 만들 수 없다.\u001b[39;00m\n\u001b[0;32m      2\u001b[0m \u001b[38;5;66;03m# 따라서 앞의 Sequential 모델은 어떤 가중치도 갖고 있지 않다.\u001b[39;00m\n\u001b[0;32m      3\u001b[0m \u001b[38;5;66;03m# 가중치를 생성하려면 어떤 데이터로 호출 하거나 입력 크기를 지정하여 build()메서드를 호출 해야 함\u001b[39;00m\n\u001b[0;32m      4\u001b[0m \n\u001b[0;32m      5\u001b[0m \u001b[38;5;66;03m# 7-3 build()메서드가 호출 전의 모델은 가중치가 없다.\u001b[39;00m\n\u001b[1;32m----> 6\u001b[0m \u001b[43mmodel\u001b[49m\u001b[38;5;241;43m.\u001b[39;49m\u001b[43mweights\u001b[49m\n",
      "File \u001b[1;32m~\\anaconda3\\lib\\site-packages\\keras\\engine\\training.py:3163\u001b[0m, in \u001b[0;36mModel.weights\u001b[1;34m(self)\u001b[0m\n\u001b[0;32m   3153\u001b[0m \u001b[38;5;129m@property\u001b[39m\n\u001b[0;32m   3154\u001b[0m \u001b[38;5;28;01mdef\u001b[39;00m \u001b[38;5;21mweights\u001b[39m(\u001b[38;5;28mself\u001b[39m):\n\u001b[0;32m   3155\u001b[0m     \u001b[38;5;124;03m\"\"\"Returns the list of all layer variables/weights.\u001b[39;00m\n\u001b[0;32m   3156\u001b[0m \n\u001b[0;32m   3157\u001b[0m \u001b[38;5;124;03m    Note: This will not track the weights of nested `tf.Modules` that are\u001b[39;00m\n\u001b[1;32m   (...)\u001b[0m\n\u001b[0;32m   3161\u001b[0m \u001b[38;5;124;03m      A list of variables.\u001b[39;00m\n\u001b[0;32m   3162\u001b[0m \u001b[38;5;124;03m    \"\"\"\u001b[39;00m\n\u001b[1;32m-> 3163\u001b[0m     \u001b[38;5;28;01mreturn\u001b[39;00m \u001b[38;5;28mself\u001b[39m\u001b[38;5;241m.\u001b[39m_dedup_weights(\u001b[38;5;28;43mself\u001b[39;49m\u001b[38;5;241;43m.\u001b[39;49m\u001b[43m_undeduplicated_weights\u001b[49m)\n",
      "File \u001b[1;32m~\\anaconda3\\lib\\site-packages\\keras\\engine\\training.py:3168\u001b[0m, in \u001b[0;36mModel._undeduplicated_weights\u001b[1;34m(self)\u001b[0m\n\u001b[0;32m   3165\u001b[0m \u001b[38;5;129m@property\u001b[39m\n\u001b[0;32m   3166\u001b[0m \u001b[38;5;28;01mdef\u001b[39;00m \u001b[38;5;21m_undeduplicated_weights\u001b[39m(\u001b[38;5;28mself\u001b[39m):\n\u001b[0;32m   3167\u001b[0m     \u001b[38;5;124;03m\"\"\"Returns the undeduplicated list of all layer variables/weights.\"\"\"\u001b[39;00m\n\u001b[1;32m-> 3168\u001b[0m     \u001b[38;5;28;43mself\u001b[39;49m\u001b[38;5;241;43m.\u001b[39;49m\u001b[43m_assert_weights_created\u001b[49m\u001b[43m(\u001b[49m\u001b[43m)\u001b[49m\n\u001b[0;32m   3169\u001b[0m     weights \u001b[38;5;241m=\u001b[39m []\n\u001b[0;32m   3170\u001b[0m     \u001b[38;5;28;01mfor\u001b[39;00m layer \u001b[38;5;129;01min\u001b[39;00m \u001b[38;5;28mself\u001b[39m\u001b[38;5;241m.\u001b[39m_self_tracked_trackables:\n",
      "File \u001b[1;32m~\\anaconda3\\lib\\site-packages\\keras\\engine\\sequential.py:511\u001b[0m, in \u001b[0;36mSequential._assert_weights_created\u001b[1;34m(self)\u001b[0m\n\u001b[0;32m    508\u001b[0m     \u001b[38;5;28;01mreturn\u001b[39;00m\n\u001b[0;32m    509\u001b[0m \u001b[38;5;66;03m# When the graph has not been initialized, use the Model's\u001b[39;00m\n\u001b[0;32m    510\u001b[0m \u001b[38;5;66;03m# implementation to to check if the weights has been created.\u001b[39;00m\n\u001b[1;32m--> 511\u001b[0m \u001b[38;5;28;43msuper\u001b[39;49m\u001b[43m(\u001b[49m\u001b[43mfunctional\u001b[49m\u001b[38;5;241;43m.\u001b[39;49m\u001b[43mFunctional\u001b[49m\u001b[43m,\u001b[49m\u001b[43m \u001b[49m\u001b[38;5;28;43mself\u001b[39;49m\u001b[43m)\u001b[49m\u001b[38;5;241;43m.\u001b[39;49m\u001b[43m_assert_weights_created\u001b[49m\u001b[43m(\u001b[49m\u001b[43m)\u001b[49m\n",
      "File \u001b[1;32m~\\anaconda3\\lib\\site-packages\\keras\\engine\\training.py:3467\u001b[0m, in \u001b[0;36mModel._assert_weights_created\u001b[1;34m(self)\u001b[0m\n\u001b[0;32m   3456\u001b[0m     \u001b[38;5;28;01mreturn\u001b[39;00m\n\u001b[0;32m   3458\u001b[0m \u001b[38;5;28;01mif\u001b[39;00m (\n\u001b[0;32m   3459\u001b[0m     \u001b[38;5;124m\"\u001b[39m\u001b[38;5;124mbuild\u001b[39m\u001b[38;5;124m\"\u001b[39m \u001b[38;5;129;01min\u001b[39;00m \u001b[38;5;28mself\u001b[39m\u001b[38;5;241m.\u001b[39m\u001b[38;5;18m__class__\u001b[39m\u001b[38;5;241m.\u001b[39m\u001b[38;5;18m__dict__\u001b[39m\n\u001b[0;32m   3460\u001b[0m     \u001b[38;5;129;01mand\u001b[39;00m \u001b[38;5;28mself\u001b[39m\u001b[38;5;241m.\u001b[39m\u001b[38;5;18m__class__\u001b[39m \u001b[38;5;241m!=\u001b[39m Model\n\u001b[1;32m   (...)\u001b[0m\n\u001b[0;32m   3465\u001b[0m     \u001b[38;5;66;03m# Also make sure to exclude Model class itself which has build()\u001b[39;00m\n\u001b[0;32m   3466\u001b[0m     \u001b[38;5;66;03m# defined.\u001b[39;00m\n\u001b[1;32m-> 3467\u001b[0m     \u001b[38;5;28;01mraise\u001b[39;00m \u001b[38;5;167;01mValueError\u001b[39;00m(\n\u001b[0;32m   3468\u001b[0m         \u001b[38;5;124mf\u001b[39m\u001b[38;5;124m\"\u001b[39m\u001b[38;5;124mWeights for model \u001b[39m\u001b[38;5;132;01m{\u001b[39;00m\u001b[38;5;28mself\u001b[39m\u001b[38;5;241m.\u001b[39mname\u001b[38;5;132;01m}\u001b[39;00m\u001b[38;5;124m have not yet been \u001b[39m\u001b[38;5;124m\"\u001b[39m\n\u001b[0;32m   3469\u001b[0m         \u001b[38;5;124m\"\u001b[39m\u001b[38;5;124mcreated. \u001b[39m\u001b[38;5;124m\"\u001b[39m\n\u001b[0;32m   3470\u001b[0m         \u001b[38;5;124m\"\u001b[39m\u001b[38;5;124mWeights are created when the Model is first called on \u001b[39m\u001b[38;5;124m\"\u001b[39m\n\u001b[0;32m   3471\u001b[0m         \u001b[38;5;124m\"\u001b[39m\u001b[38;5;124minputs or `build()` is called with an `input_shape`.\u001b[39m\u001b[38;5;124m\"\u001b[39m\n\u001b[0;32m   3472\u001b[0m     )\n",
      "\u001b[1;31mValueError\u001b[0m: Weights for model sequential_1 have not yet been created. Weights are created when the Model is first called on inputs or `build()` is called with an `input_shape`."
     ]
    }
   ],
   "source": [
    "# 입력 크기를 알기 전까지 가중치를 만들 수 없다.\n",
    "# 따라서 앞의 Sequential 모델은 어떤 가중치도 갖고 있지 않다.\n",
    "# 가중치를 생성하려면 어떤 데이터로 호출 하거나 입력 크기를 지정하여 build()메서드를 호출 해야 함\n",
    "\n",
    "# 7-3 build()메서드가 호출 전의 모델은 가중치가 없다.\n",
    "model.weights"
   ]
  },
  {
   "cell_type": "code",
   "execution_count": 4,
   "id": "8267e4b6-dc9b-4f38-9ad9-25c8e99d6c4a",
   "metadata": {
    "collapsed": true,
    "jupyter": {
     "outputs_hidden": true
    },
    "tags": []
   },
   "outputs": [
    {
     "data": {
      "text/plain": [
       "[<tf.Variable 'dense_2/kernel:0' shape=(3, 64) dtype=float32, numpy=\n",
       " array([[ 5.54013550e-02, -1.63440764e-01,  2.92796791e-01,\n",
       "          6.10870123e-03,  2.07082331e-01,  2.21437037e-01,\n",
       "         -2.81252146e-01,  7.50323832e-02,  1.67769641e-01,\n",
       "          1.22062534e-01, -3.08485627e-02, -4.25025225e-02,\n",
       "          6.13416731e-02, -1.62874758e-02,  2.19540775e-01,\n",
       "         -1.24314189e-01, -1.11127898e-01, -3.07611525e-02,\n",
       "         -1.14691213e-01, -2.68762618e-01, -1.77366495e-01,\n",
       "          1.32235318e-01, -2.84326434e-01, -2.11428702e-02,\n",
       "          1.04939312e-01,  5.05891144e-02, -1.26881778e-01,\n",
       "         -8.92292410e-02, -2.01236904e-02, -2.23405138e-01,\n",
       "         -2.82045454e-01, -1.48974925e-01, -1.01473033e-02,\n",
       "          4.40212190e-02,  2.90680289e-01,  1.12232924e-01,\n",
       "         -2.49901012e-01, -2.45012045e-02, -2.25866914e-01,\n",
       "         -2.15792447e-01,  2.82935679e-01,  1.54017687e-01,\n",
       "         -2.83726901e-01,  6.13123477e-02, -1.79123998e-01,\n",
       "          1.76679850e-01, -1.14475802e-01,  2.63703227e-01,\n",
       "          2.97374606e-01,  1.97433323e-01,  5.84214032e-02,\n",
       "          2.24055171e-01, -2.19332576e-02, -8.82061124e-02,\n",
       "         -5.78587651e-02,  2.28593647e-02, -1.22106776e-01,\n",
       "         -2.72972494e-01, -5.68026900e-02, -2.25725859e-01,\n",
       "         -4.08962369e-03,  1.17150396e-01, -1.39845386e-01,\n",
       "         -1.41532972e-01],\n",
       "        [-5.15043586e-02, -1.76637113e-01,  1.66197121e-01,\n",
       "          2.31542289e-02,  1.15363955e-01,  2.14752674e-01,\n",
       "          2.01732337e-01,  2.92007267e-01,  2.13398218e-01,\n",
       "         -5.10865450e-02, -1.48338661e-01,  2.57735550e-01,\n",
       "         -2.81178087e-01,  8.54785144e-02,  2.54697144e-01,\n",
       "         -1.39636904e-01, -2.41300792e-01, -2.60124087e-01,\n",
       "         -1.34151578e-01,  1.28263533e-02, -1.31577000e-01,\n",
       "         -1.79072559e-01, -2.52525508e-01,  1.59008890e-01,\n",
       "         -1.48049593e-02, -1.58123076e-02, -3.88280451e-02,\n",
       "         -2.29658812e-01,  1.07288361e-06,  5.84560335e-02,\n",
       "         -2.70266771e-01,  2.47651696e-01,  2.09634244e-01,\n",
       "          2.85977840e-01,  6.14047945e-02, -2.02408731e-01,\n",
       "         -8.51960331e-02,  3.74748707e-02,  4.10865545e-02,\n",
       "          1.92635417e-01, -8.10299218e-02,  2.30592668e-01,\n",
       "          1.11055493e-01,  4.71777022e-02,  2.28342891e-01,\n",
       "          2.72856951e-02,  5.43106496e-02,  4.02145386e-02,\n",
       "          1.48022592e-01,  1.67337894e-01, -2.92802274e-01,\n",
       "          1.32035613e-02,  1.47709429e-01,  1.33198082e-01,\n",
       "          9.61656272e-02,  2.50850201e-01,  2.11226583e-01,\n",
       "         -2.89660782e-01,  6.37172461e-02, -4.56842482e-02,\n",
       "          1.74092054e-02,  1.80675447e-01,  1.63543224e-03,\n",
       "         -7.91075379e-02],\n",
       "        [ 7.30169713e-02, -1.16677597e-01, -2.39461020e-01,\n",
       "         -1.34904012e-01,  6.62634969e-02, -1.88461453e-01,\n",
       "          2.64000237e-01,  1.57163441e-02, -1.05535090e-02,\n",
       "          1.39523029e-01,  1.87129974e-01, -1.27572551e-01,\n",
       "         -1.82950586e-01,  1.13580912e-01, -2.92064041e-01,\n",
       "          2.57136047e-01, -1.85388327e-02, -6.98537678e-02,\n",
       "          8.12405944e-02,  2.84961760e-01,  2.62709796e-01,\n",
       "         -2.89407998e-01, -2.20460415e-01, -1.44149065e-02,\n",
       "         -2.16213033e-01,  1.43205792e-01, -1.01720884e-01,\n",
       "          5.15842736e-02, -1.24791577e-01,  1.88816547e-01,\n",
       "          2.22595632e-01, -1.11698389e-01, -1.53832331e-01,\n",
       "          2.30163217e-01, -1.54027686e-01, -1.55557662e-01,\n",
       "         -1.07660487e-01,  1.85306966e-02, -1.59758523e-01,\n",
       "          1.96564108e-01, -3.61708701e-02, -1.14695564e-01,\n",
       "          1.25756204e-01, -1.46783888e-02,  2.84929514e-01,\n",
       "          1.03899270e-01,  2.89848149e-02, -2.10454226e-01,\n",
       "         -6.63499683e-02,  2.69438624e-02,  2.55060494e-02,\n",
       "          6.53929114e-02, -7.53147006e-02, -1.96768433e-01,\n",
       "         -7.77592808e-02,  4.31159735e-02,  2.60164320e-01,\n",
       "         -1.95234820e-01, -8.43876749e-02,  1.63004696e-02,\n",
       "         -6.40069246e-02,  3.38691175e-02, -2.76667356e-01,\n",
       "          1.96990758e-01]], dtype=float32)>,\n",
       " <tf.Variable 'dense_2/bias:0' shape=(64,) dtype=float32, numpy=\n",
       " array([0., 0., 0., 0., 0., 0., 0., 0., 0., 0., 0., 0., 0., 0., 0., 0., 0.,\n",
       "        0., 0., 0., 0., 0., 0., 0., 0., 0., 0., 0., 0., 0., 0., 0., 0., 0.,\n",
       "        0., 0., 0., 0., 0., 0., 0., 0., 0., 0., 0., 0., 0., 0., 0., 0., 0.,\n",
       "        0., 0., 0., 0., 0., 0., 0., 0., 0., 0., 0., 0., 0.], dtype=float32)>,\n",
       " <tf.Variable 'dense_3/kernel:0' shape=(64, 10) dtype=float32, numpy=\n",
       " array([[-5.69528341e-03,  1.08183205e-01, -1.41336083e-01,\n",
       "         -1.40282780e-01,  1.05769545e-01,  7.53358901e-02,\n",
       "         -1.01400137e-01,  2.03340262e-01, -1.46113232e-01,\n",
       "         -8.33449662e-02],\n",
       "        [-1.66947246e-02,  7.43071735e-02,  5.10203242e-02,\n",
       "         -1.83722377e-03, -1.40869677e-01,  2.75649041e-01,\n",
       "         -4.27452028e-02, -1.48838907e-01,  5.10618687e-02,\n",
       "          2.82109886e-01],\n",
       "        [ 5.82598150e-02, -4.01256979e-02,  1.09531581e-02,\n",
       "         -1.64778039e-01,  9.11630690e-02, -2.56613404e-01,\n",
       "          1.28916919e-01, -1.87198132e-01,  3.10112536e-02,\n",
       "         -2.64662623e-01],\n",
       "        [ 4.01312113e-02,  8.77856016e-02,  1.83534086e-01,\n",
       "         -2.20238522e-01, -1.68681934e-01,  1.63313746e-03,\n",
       "          2.11844593e-01,  6.34583533e-02, -2.07149103e-01,\n",
       "         -2.09308714e-01],\n",
       "        [-1.31990671e-01, -2.65150338e-01, -2.57549524e-01,\n",
       "          2.29296595e-01, -6.74966723e-02,  5.37415445e-02,\n",
       "          4.87470031e-02, -1.64071858e-01, -1.77115530e-01,\n",
       "         -1.93424106e-01],\n",
       "        [-1.48268342e-02,  2.17830926e-01,  2.25517839e-01,\n",
       "          1.03672653e-01, -1.67987704e-01, -1.78270370e-01,\n",
       "         -7.77488649e-02, -2.28879437e-01, -6.38143718e-02,\n",
       "         -6.88219070e-03],\n",
       "        [-2.54926920e-01,  2.40831763e-01,  2.03473866e-02,\n",
       "         -1.47957236e-01,  1.13490492e-01,  2.83336908e-01,\n",
       "          1.98416591e-01, -1.80143028e-01,  5.10147512e-02,\n",
       "         -1.33259386e-01],\n",
       "        [ 2.34652132e-01,  6.15873933e-02,  2.09484965e-01,\n",
       "          1.61784261e-01, -1.49220854e-01, -1.95596814e-01,\n",
       "         -2.35182598e-01, -2.72472024e-01, -1.07811302e-01,\n",
       "         -1.63524538e-01],\n",
       "        [ 1.63259983e-01, -2.17845634e-01,  1.30412579e-01,\n",
       "         -1.23916492e-01,  1.72187030e-01,  1.21151030e-01,\n",
       "         -2.31920600e-01, -1.15200877e-02, -2.27439046e-01,\n",
       "         -1.95935994e-01],\n",
       "        [ 1.01621598e-01,  6.72640800e-02,  2.15381891e-01,\n",
       "         -9.48947966e-02, -1.40540957e-01,  2.72440165e-01,\n",
       "          1.08701259e-01, -1.71095937e-01, -1.96081072e-01,\n",
       "         -1.63633764e-01],\n",
       "        [ 7.59015381e-02,  4.16426063e-02, -1.09133720e-01,\n",
       "         -1.52668357e-03,  6.18389249e-03, -1.82091981e-01,\n",
       "          2.61073798e-01,  2.66889066e-01,  1.73813105e-02,\n",
       "         -1.50063157e-01],\n",
       "        [ 1.49288774e-02, -2.31632143e-01,  1.02149069e-01,\n",
       "         -1.12466529e-01, -2.60748059e-01, -3.89288068e-02,\n",
       "          2.64215499e-01,  8.63272548e-02, -5.33589721e-02,\n",
       "         -2.51052678e-01],\n",
       "        [-1.81435645e-01,  6.34322166e-02, -2.09995687e-01,\n",
       "          1.35293305e-02,  7.06427991e-02,  8.19939673e-02,\n",
       "          3.57907116e-02,  2.09365547e-01, -2.60054588e-01,\n",
       "          7.96979070e-02],\n",
       "        [ 5.81689179e-02, -1.21994615e-01, -2.76644886e-01,\n",
       "          4.83894348e-02, -7.15730637e-02,  2.80723244e-01,\n",
       "          9.65892971e-02,  2.06850797e-01,  1.92334682e-01,\n",
       "          1.64434999e-01],\n",
       "        [-2.56990671e-01, -7.28759915e-02, -2.81984448e-01,\n",
       "         -1.00802436e-01,  2.65388101e-01, -2.49861240e-01,\n",
       "         -1.97264180e-01, -2.61819005e-01, -2.02187702e-01,\n",
       "         -1.35561094e-01],\n",
       "        [-1.97855622e-01, -1.44205138e-01, -1.30670965e-02,\n",
       "         -3.38872969e-02, -1.94955409e-01,  2.25838423e-02,\n",
       "          2.20663518e-01,  1.70314461e-01, -2.24962860e-01,\n",
       "          2.79983610e-01],\n",
       "        [ 2.49510705e-02,  2.10933924e-01, -2.28437692e-01,\n",
       "          1.75715923e-01, -1.99532762e-01,  2.33941585e-01,\n",
       "         -7.37740397e-02, -1.36911139e-01,  2.59637326e-01,\n",
       "          1.39077336e-01],\n",
       "        [ 7.20403492e-02,  1.43271655e-01,  1.60965055e-01,\n",
       "          8.32838118e-02, -5.44151962e-02, -2.44413555e-01,\n",
       "         -2.67656654e-01, -1.66751295e-01, -1.41684279e-01,\n",
       "          6.97733164e-02],\n",
       "        [ 2.57151395e-01, -2.79985100e-01, -1.36128992e-01,\n",
       "          2.23009616e-01, -5.07599711e-02, -1.96504891e-02,\n",
       "          3.14054191e-02, -2.63161242e-01, -2.07102388e-01,\n",
       "          2.44246215e-01],\n",
       "        [-2.67818868e-02, -2.45686129e-01,  2.28654414e-01,\n",
       "         -9.02833641e-02, -1.26501918e-02,  2.56616324e-01,\n",
       "         -1.90556064e-01, -4.59934175e-02, -6.06619418e-02,\n",
       "          2.01507032e-01],\n",
       "        [-2.42738515e-01,  4.62798476e-02, -2.42030770e-01,\n",
       "         -2.34736234e-01, -2.76811689e-01,  1.48719966e-01,\n",
       "          1.88339204e-01,  2.36304015e-01, -2.65953928e-01,\n",
       "         -1.25048131e-01],\n",
       "        [-1.37778550e-01, -5.35058230e-02,  3.37013006e-02,\n",
       "         -2.79131532e-03,  1.26554668e-01,  1.37248486e-01,\n",
       "         -1.38392821e-01, -1.52615309e-02,  2.76095599e-01,\n",
       "         -2.01758146e-02],\n",
       "        [ 1.04837716e-02,  2.50159174e-01,  7.71747231e-02,\n",
       "          9.84990299e-02, -9.82402414e-02,  2.71154791e-01,\n",
       "          1.27504706e-01, -9.42937136e-02, -2.56929576e-01,\n",
       "         -2.33653262e-01],\n",
       "        [ 1.39748693e-01, -1.67266577e-01, -1.30692363e-01,\n",
       "          2.82984704e-01,  5.28775156e-02, -1.65972546e-01,\n",
       "         -7.24685937e-02, -1.43735483e-01, -3.17363739e-02,\n",
       "         -1.54516399e-01],\n",
       "        [-2.69785255e-01,  2.43854791e-01,  1.16043597e-01,\n",
       "         -1.87241435e-01, -2.43349388e-01,  1.77990407e-01,\n",
       "          2.28925556e-01,  2.32007116e-01,  2.32727796e-01,\n",
       "          3.79030704e-02],\n",
       "        [ 8.65523815e-02, -2.00172812e-01,  8.09368193e-02,\n",
       "          1.98079854e-01,  1.75969422e-01, -8.90765041e-02,\n",
       "          4.20920253e-02, -2.76976526e-02, -2.33824551e-01,\n",
       "         -1.02524653e-01],\n",
       "        [ 3.40884924e-03,  1.99689656e-01,  1.56685114e-02,\n",
       "          3.62841189e-02, -1.60307407e-01,  2.45232314e-01,\n",
       "         -2.36899719e-01,  5.34161925e-02,  1.76144987e-01,\n",
       "         -2.75056511e-01],\n",
       "        [ 2.53666431e-01,  7.27438033e-02, -2.61550575e-01,\n",
       "         -6.11709654e-02, -6.59352541e-03, -1.07207164e-01,\n",
       "         -2.24363118e-01, -1.17225945e-02, -1.15147054e-01,\n",
       "         -7.24450350e-02],\n",
       "        [-2.36142889e-01,  1.42366350e-01, -1.01843923e-01,\n",
       "          2.27706045e-01,  1.44157559e-01,  1.03210270e-01,\n",
       "         -4.44694459e-02, -5.86479455e-02, -1.05466545e-01,\n",
       "          8.36867988e-02],\n",
       "        [ 9.79780555e-02, -1.27787724e-01, -8.84923786e-02,\n",
       "          1.31055713e-01,  1.15482360e-01, -2.02763796e-01,\n",
       "          2.52202779e-01,  9.51758027e-03,  2.33534187e-01,\n",
       "         -2.80642062e-01],\n",
       "        [-2.63799280e-01, -1.65567383e-01, -2.07118750e-01,\n",
       "          2.70396501e-01, -6.87449425e-02,  8.51770937e-02,\n",
       "          2.78356761e-01,  2.15405971e-01,  1.67210430e-01,\n",
       "          1.45709485e-01],\n",
       "        [-1.67906493e-01,  2.25959033e-01, -1.68275818e-01,\n",
       "         -1.63903415e-01,  2.00723618e-01, -8.44421238e-02,\n",
       "          1.10565424e-02,  2.26908296e-01,  3.06016207e-02,\n",
       "          2.39465922e-01],\n",
       "        [ 5.52418232e-02,  8.33470821e-02, -1.83919162e-01,\n",
       "         -3.58338803e-02, -1.77161336e-01, -5.44885099e-02,\n",
       "         -2.62897760e-01, -1.55528486e-02,  1.90011859e-01,\n",
       "          9.32372212e-02],\n",
       "        [ 1.35547310e-01, -1.35479897e-01,  2.76386827e-01,\n",
       "          3.57438624e-02,  8.34104717e-02,  3.62788439e-02,\n",
       "         -1.59388795e-01, -1.40174299e-01,  1.74635530e-01,\n",
       "         -2.56553590e-01],\n",
       "        [ 4.16728854e-03, -2.56601930e-01, -2.47796863e-01,\n",
       "         -1.93924576e-01, -2.33432829e-01, -1.23975143e-01,\n",
       "          1.01982743e-01,  2.32245058e-01,  9.90744531e-02,\n",
       "          5.68449497e-04],\n",
       "        [-2.23398685e-01,  1.80333853e-03, -2.87333131e-02,\n",
       "          1.41929150e-01, -3.77121121e-02, -1.44682258e-01,\n",
       "          2.16246277e-01, -1.28710747e-01,  1.43324196e-01,\n",
       "         -2.78409332e-01],\n",
       "        [ 2.11424559e-01,  7.51965940e-02,  1.21618986e-01,\n",
       "         -2.71863937e-01, -1.58261701e-01, -6.30239993e-02,\n",
       "          8.89223814e-02,  2.00628638e-02,  8.38907361e-02,\n",
       "         -7.40613341e-02],\n",
       "        [-2.88813710e-02,  1.92318588e-01,  9.00865495e-02,\n",
       "         -1.26156837e-01, -6.75536990e-02,  1.91303104e-01,\n",
       "         -7.47578740e-02,  8.56941938e-03,  1.06030583e-01,\n",
       "          4.79070842e-02],\n",
       "        [-2.52485275e-04,  1.41469687e-01, -1.36456013e-01,\n",
       "         -4.96285409e-02, -1.69655383e-02, -1.33328900e-01,\n",
       "          2.03682542e-01, -1.56027481e-01, -1.38685957e-01,\n",
       "          6.73021674e-02],\n",
       "        [ 2.25403517e-01,  1.64477021e-01,  1.63440973e-01,\n",
       "         -1.89547837e-01,  4.58010137e-02,  6.15943372e-02,\n",
       "          8.84889066e-02,  1.94800228e-01, -1.92606449e-01,\n",
       "          1.59329206e-01],\n",
       "        [ 1.22184426e-01,  2.10328549e-01, -2.11738646e-02,\n",
       "          2.76633292e-01,  1.36582613e-01, -2.83944190e-01,\n",
       "         -5.09643555e-03,  1.06871784e-01, -2.00599581e-01,\n",
       "          2.80348390e-01],\n",
       "        [ 2.63847739e-01,  1.78104043e-01, -6.26963675e-02,\n",
       "          1.66006684e-01, -1.33983150e-01,  1.05500489e-01,\n",
       "         -2.44571045e-01, -2.37926945e-01, -3.99281383e-02,\n",
       "         -1.86037362e-01],\n",
       "        [-2.12175474e-01,  1.10005409e-01, -6.10666275e-02,\n",
       "         -7.16650486e-03, -2.14699388e-01, -1.71529889e-01,\n",
       "         -1.81551933e-01, -2.72293806e-01, -9.09930468e-03,\n",
       "         -1.15598321e-01],\n",
       "        [-4.34020162e-03,  8.71982276e-02, -2.11830050e-01,\n",
       "          2.05114394e-01,  1.26667976e-01, -9.02501643e-02,\n",
       "         -3.10534835e-02,  2.16135710e-01,  5.87072074e-02,\n",
       "          2.32905120e-01],\n",
       "        [ 4.42273617e-02, -1.35375887e-01,  1.95717514e-02,\n",
       "          7.81319141e-02, -1.89394951e-02,  1.00639641e-01,\n",
       "         -8.66624713e-03, -2.33027458e-01, -4.16411161e-02,\n",
       "          8.90645385e-02],\n",
       "        [ 2.48848110e-01, -1.20373964e-01, -5.68080097e-02,\n",
       "          2.33059436e-01, -4.04504091e-02,  5.53059578e-03,\n",
       "         -2.15518594e-01,  7.49238133e-02,  4.29820716e-02,\n",
       "         -2.35332102e-01],\n",
       "        [ 2.39068717e-01, -2.12311178e-01, -1.90330803e-01,\n",
       "          2.94631720e-03, -1.43461555e-01, -2.10450947e-01,\n",
       "          2.09494829e-02,  1.57528162e-01, -5.43439835e-02,\n",
       "         -1.68119341e-01],\n",
       "        [ 6.47541583e-02,  5.07706404e-02,  5.98061085e-03,\n",
       "         -1.74865678e-01, -2.32973218e-01, -1.04653105e-01,\n",
       "          2.69096702e-01,  2.16942042e-01,  1.28491074e-01,\n",
       "         -4.59640920e-02],\n",
       "        [ 3.35617661e-02,  8.77440274e-02, -1.19914085e-01,\n",
       "          2.55508870e-01, -1.15774214e-01,  1.98154002e-01,\n",
       "         -2.27132171e-01, -2.53892004e-01, -1.03504956e-02,\n",
       "          1.38619363e-01],\n",
       "        [-2.21190333e-01, -2.16737896e-01, -1.16165936e-01,\n",
       "          3.05247009e-02,  8.53712559e-02, -1.16009593e-01,\n",
       "         -2.75607020e-01, -4.77981865e-02,  2.35482782e-01,\n",
       "          1.37180656e-01],\n",
       "        [ 9.54255462e-02, -1.54366985e-01,  1.23084247e-01,\n",
       "         -1.56098902e-01,  8.35401416e-02,  1.34022266e-01,\n",
       "         -2.02155650e-01,  1.65180147e-01,  2.36647397e-01,\n",
       "         -2.01577097e-01],\n",
       "        [-1.98482037e-01, -1.71143860e-01,  2.56377757e-02,\n",
       "         -3.53016406e-02,  2.63869554e-01, -4.24687564e-02,\n",
       "          1.01886898e-01,  1.58061236e-01,  1.63199216e-01,\n",
       "          7.40686059e-02],\n",
       "        [-2.66926885e-02, -2.23051906e-01, -1.13759607e-01,\n",
       "         -1.17599890e-01, -2.04827368e-01, -1.49025917e-02,\n",
       "         -1.59566134e-01,  5.52726388e-02, -1.00597888e-01,\n",
       "         -1.33217424e-01],\n",
       "        [-1.41873822e-01, -1.06631055e-01, -5.14157861e-02,\n",
       "         -8.78987610e-02,  1.72597647e-01, -9.93027687e-02,\n",
       "          3.32107246e-02,  1.51520878e-01, -1.06607899e-01,\n",
       "          1.12431765e-01],\n",
       "        [ 2.54172415e-01,  2.14072496e-01, -1.65329367e-01,\n",
       "         -8.82934034e-02, -1.04345769e-01, -2.23937631e-03,\n",
       "         -2.97514200e-02, -7.67566711e-02, -1.52472675e-01,\n",
       "          2.75123447e-01],\n",
       "        [ 2.22257704e-01,  1.49745017e-01,  1.12984031e-01,\n",
       "          6.43919110e-02,  1.20579123e-01, -1.81164414e-01,\n",
       "         -1.86779052e-01,  4.79138792e-02,  2.16200352e-02,\n",
       "          2.89381146e-02],\n",
       "        [ 3.29035223e-02, -1.12168625e-01, -2.49749765e-01,\n",
       "          8.30569267e-02, -1.82727575e-01, -1.61743402e-01,\n",
       "         -1.88595772e-01,  2.38728732e-01,  2.00081587e-01,\n",
       "         -1.13851666e-01],\n",
       "        [-2.69531488e-01,  1.32085443e-01,  8.43539238e-02,\n",
       "         -1.82348207e-01,  1.10185444e-01,  2.48106211e-01,\n",
       "          3.87643874e-02, -1.59988061e-01, -8.78539681e-03,\n",
       "          2.00293243e-01],\n",
       "        [ 2.57147104e-01,  2.81128496e-01, -3.43630016e-02,\n",
       "         -8.69775116e-02, -3.94777656e-02, -1.99880764e-01,\n",
       "         -1.76011175e-01, -1.80575490e-01,  2.57709295e-01,\n",
       "         -1.19248509e-01],\n",
       "        [-1.41733915e-01,  8.00482035e-02, -2.45773166e-01,\n",
       "          2.54144996e-01,  1.75577998e-02,  9.28677619e-02,\n",
       "         -1.53030038e-01, -5.98748326e-02, -5.13300449e-02,\n",
       "         -2.76716650e-01],\n",
       "        [-5.09334356e-02, -2.04099178e-01, -1.28952637e-01,\n",
       "         -9.28478092e-02, -9.45637077e-02,  1.90174669e-01,\n",
       "         -2.16601089e-01,  5.33283651e-02, -1.58452392e-02,\n",
       "          1.13260955e-01],\n",
       "        [ 5.25474548e-03, -4.92461920e-02,  6.55594468e-02,\n",
       "         -1.69367194e-01,  2.62678355e-01,  6.53219223e-02,\n",
       "         -2.54176319e-01, -2.69204319e-01, -1.03387535e-02,\n",
       "          7.60517120e-02],\n",
       "        [-2.60264546e-01,  1.25893950e-03, -5.54904193e-02,\n",
       "          2.74138153e-02, -6.03003651e-02, -2.25386351e-01,\n",
       "          1.80335015e-01,  4.47276831e-02,  6.15904033e-02,\n",
       "          1.13587379e-02],\n",
       "        [ 6.75208271e-02,  1.76109612e-01, -1.94558665e-01,\n",
       "         -1.37465522e-01,  6.89561367e-02, -1.69444799e-01,\n",
       "          1.95908844e-02,  2.11513340e-01,  1.70955658e-02,\n",
       "         -1.12683833e-01]], dtype=float32)>,\n",
       " <tf.Variable 'dense_3/bias:0' shape=(10,) dtype=float32, numpy=array([0., 0., 0., 0., 0., 0., 0., 0., 0., 0.], dtype=float32)>]"
      ]
     },
     "execution_count": 4,
     "metadata": {},
     "output_type": "execute_result"
    }
   ],
   "source": [
    "# 7-4 가중치를 만들기 위해 모델을 호출한다\n",
    "model.build(input_shape=(None, 3))\n",
    "model.weights"
   ]
  },
  {
   "cell_type": "code",
   "execution_count": 5,
   "id": "75f08354-edbd-41b5-bc62-18b5a36614f8",
   "metadata": {},
   "outputs": [
    {
     "name": "stdout",
     "output_type": "stream",
     "text": [
      "Model: \"sequential_1\"\n",
      "_________________________________________________________________\n",
      " Layer (type)                Output Shape              Param #   \n",
      "=================================================================\n",
      " dense_2 (Dense)             (None, 64)                256       \n",
      "                                                                 \n",
      " dense_3 (Dense)             (None, 10)                650       \n",
      "                                                                 \n",
      "=================================================================\n",
      "Total params: 906\n",
      "Trainable params: 906\n",
      "Non-trainable params: 0\n",
      "_________________________________________________________________\n"
     ]
    }
   ],
   "source": [
    "# 7-5 Summary()메서드\n",
    "model.summary()\n",
    "\n",
    "\n",
    "# 256개가 나온 이유는: (3+1)*64를 했기 때문. 1개가 더해진 것은 : bias(편향)\n",
    "# 650개가 나온 이유는: (64+1)*10   1개가 더해진 것은 : bias(편향)"
   ]
  },
  {
   "cell_type": "code",
   "execution_count": 7,
   "id": "8f054a84-5b59-4cb4-9e03-cbb44c27babc",
   "metadata": {},
   "outputs": [
    {
     "name": "stdout",
     "output_type": "stream",
     "text": [
      "Model: \"my_example_model\"\n",
      "_________________________________________________________________\n",
      " Layer (type)                Output Shape              Param #   \n",
      "=================================================================\n",
      " my_first_layer (Dense)      (None, 64)                256       \n",
      "                                                                 \n",
      " my_last_layer (Dense)       (None, 10)                650       \n",
      "                                                                 \n",
      "=================================================================\n",
      "Total params: 906\n",
      "Trainable params: 906\n",
      "Non-trainable params: 0\n",
      "_________________________________________________________________\n"
     ]
    }
   ],
   "source": [
    "# 7-6 name매개변수로 모델과 층에 이름 지정하기\n",
    "model= keras.Sequential(name=\"my_example_model\")\n",
    "model.add(layers.Dense(64, activation=\"relu\", name=\"my_first_layer\"))\n",
    "model.add(layers.Dense(10, activation=\"softmax\", name=\"my_last_layer\"))\n",
    "model.build((None, 3))\n",
    "model.summary()"
   ]
  },
  {
   "cell_type": "code",
   "execution_count": 8,
   "id": "d3d1abbb-3dec-484c-9e66-f4669817c73f",
   "metadata": {},
   "outputs": [],
   "source": [
    "#Sequntial모델을 점진적으로 만들 때 층을 추가하고 난 후 Summary()메서드를 호출하여 현재 모델을 확인할 수 있으면 유용.\n",
    "# 하지만 모델의 build()메서드를 호출하기 전 까지는 summary() 메서드를 호출할수 없음\n",
    "# Sequntial모델의 가중치를 바로 생성하즌 방법이 모델의 입력 크기를 미리 지정하면 됨=> Input메서드 사용"
   ]
  },
  {
   "cell_type": "code",
   "execution_count": 10,
   "id": "97737269-d7ea-4b7e-ba29-55af06f65614",
   "metadata": {},
   "outputs": [],
   "source": [
    "# 7-7 모델의 입력 크기를 미리 지정하기\n",
    "model= keras.Sequential()\n",
    "model.add(keras.Input(shape=(3,)))\n",
    "model.add(layers.Dense(64, activation=\"relu\"))"
   ]
  },
  {
   "cell_type": "code",
   "execution_count": 12,
   "id": "422feb79-2090-4e26-87f8-c08f12c5a761",
   "metadata": {},
   "outputs": [
    {
     "name": "stdout",
     "output_type": "stream",
     "text": [
      "Model: \"sequential_3\"\n",
      "_________________________________________________________________\n",
      " Layer (type)                Output Shape              Param #   \n",
      "=================================================================\n",
      " dense_4 (Dense)             (None, 64)                256       \n",
      "                                                                 \n",
      "=================================================================\n",
      "Total params: 256\n",
      "Trainable params: 256\n",
      "Non-trainable params: 0\n",
      "_________________________________________________________________\n"
     ]
    }
   ],
   "source": [
    "model.summary()\n",
    "\n",
    "# summary()메서드를 사용하여 층을 추가함에 따라 모델의 출력 크기 변화를 확인할 수 있음"
   ]
  },
  {
   "cell_type": "code",
   "execution_count": 14,
   "id": "bbeee305-11b7-4f90-84ac-8911c90f9534",
   "metadata": {},
   "outputs": [
    {
     "name": "stdout",
     "output_type": "stream",
     "text": [
      "Model: \"sequential_3\"\n",
      "_________________________________________________________________\n",
      " Layer (type)                Output Shape              Param #   \n",
      "=================================================================\n",
      " dense_4 (Dense)             (None, 64)                256       \n",
      "                                                                 \n",
      " dense_5 (Dense)             (None, 10)                650       \n",
      "                                                                 \n",
      " dense_6 (Dense)             (None, 10)                110       \n",
      "                                                                 \n",
      "=================================================================\n",
      "Total params: 1,016\n",
      "Trainable params: 1,016\n",
      "Non-trainable params: 0\n",
      "_________________________________________________________________\n"
     ]
    }
   ],
   "source": [
    "model.add(layers.Dense(10, activation=\"softmax\"))\n",
    "model.summary()"
   ]
  },
  {
   "cell_type": "markdown",
   "id": "d7477934-1169-4cdf-ad62-3bc79adc6d21",
   "metadata": {},
   "source": [
    "## 7.2.2 함수형 API\n",
    "- Sequntial모델은 사용하기 쉽지만 적용이 제한적이다.\n",
    "- 하나의 입력과 하나의 출력만 가지며 순서대로 층을 쌓는 모델에만 표현 가능"
   ]
  },
  {
   "cell_type": "code",
   "execution_count": 15,
   "id": "e779975a-7f96-4773-ae5a-bf3678eddd36",
   "metadata": {},
   "outputs": [],
   "source": [
    "# 7-8 2개의 Dense층을 가진 간단한 함수형 모델\n",
    "inputs= keras.Input(shape=(3,), name=\"my_input\")  # Input클래스를 정의, 이름 지정\n",
    "features = layers.Dense(64, activation=\"relu\")(inputs) \n",
    "outputs= layers.Dense(10, activation= \"softmax\")(features)\n",
    "model = keras.Model(inputs= inputs, outputs= outputs)"
   ]
  },
  {
   "cell_type": "code",
   "execution_count": 20,
   "id": "4f99b090-0b0c-434c-b6f3-e13829b0e7e2",
   "metadata": {},
   "outputs": [
    {
     "name": "stdout",
     "output_type": "stream",
     "text": [
      "(None, 3)\n",
      "<dtype: 'float32'>\n"
     ]
    }
   ],
   "source": [
    "inputs= keras.Input(shape=(3,), name=\"my_input\")\n",
    "print(inputs.shape)   # 이 모델은 각 샘플의 크기가 (3,)인 배치를 처리. 배치당 샘플의 갸수는 가변적이다. 배치의 크기가 None으로 지정됨\n",
    "print(inputs.dtype)  # 이 배치는 dtype이 float32이다.\n",
    "\n",
    "\n",
    "# 이런 객체를 심볼릭 텐서 라고 부른다.\n",
    "# 실제 데이터를 가지고 있지 않지만 사용할 때 모델이 보게 될 데이터 텐서의 사양이 인코딩되었다.\n",
    "# 즉 미래의 데이터 텐서를 나타냄"
   ]
  },
  {
   "cell_type": "code",
   "execution_count": 22,
   "id": "5c59ab7d-5f5c-4f00-a876-9b19cc7a620a",
   "metadata": {},
   "outputs": [],
   "source": [
    "features = layers.Dense(64, activation=\"relu\")(inputs)\n",
    "\n",
    "# 층을 만들고 입력을 호출"
   ]
  },
  {
   "cell_type": "code",
   "execution_count": 23,
   "id": "5554ad6f-8815-491f-a115-47e2154e771d",
   "metadata": {},
   "outputs": [
    {
     "data": {
      "text/plain": [
       "TensorShape([None, 64])"
      ]
     },
     "execution_count": 23,
     "metadata": {},
     "output_type": "execute_result"
    }
   ],
   "source": [
    "# 모든 케라스 층은 실제 데이터 텐서나 심볼릭 텐서로 호출할 수 있다.\n",
    "features.shape"
   ]
  },
  {
   "cell_type": "code",
   "execution_count": 25,
   "id": "e735ed6b-069f-4a78-8aba-2a42bf1dcb27",
   "metadata": {},
   "outputs": [],
   "source": [
    "# 최종 출력을 얻은 후 입력과 출력 Model클래스에 전달하여 모델 객체를 생성.\n",
    "outputs= layers.Dense(10, activation=\"softmax\")(features)\n",
    "model= keras.Model(inputs= inputs, outputs=outputs)"
   ]
  },
  {
   "cell_type": "code",
   "execution_count": 26,
   "id": "2d6c407c-c297-4ac2-a8ac-5c0452fbba8f",
   "metadata": {},
   "outputs": [
    {
     "name": "stdout",
     "output_type": "stream",
     "text": [
      "Model: \"model_1\"\n",
      "_________________________________________________________________\n",
      " Layer (type)                Output Shape              Param #   \n",
      "=================================================================\n",
      " my_input (InputLayer)       [(None, 3)]               0         \n",
      "                                                                 \n",
      " dense_10 (Dense)            (None, 64)                256       \n",
      "                                                                 \n",
      " dense_12 (Dense)            (None, 10)                650       \n",
      "                                                                 \n",
      "=================================================================\n",
      "Total params: 906\n",
      "Trainable params: 906\n",
      "Non-trainable params: 0\n",
      "_________________________________________________________________\n"
     ]
    }
   ],
   "source": [
    "# summary()메서드 호출 결과\n",
    "model.summary()"
   ]
  },
  {
   "cell_type": "markdown",
   "id": "693b0192-1016-4604-a62f-2067134a251b",
   "metadata": {},
   "source": [
    "## 다중 입력, 다중 호출\n",
    "- 입력이 여러개이거나 출력이 여러개"
   ]
  },
  {
   "cell_type": "markdown",
   "id": "d8141817-55a7-40f3-a4f3-ae96f2080e12",
   "metadata": {},
   "source": [
    "-- 고객 이슈 티켓에 우선순위를 지정하고 적절한 부서로 전달하는 시스템을 만들기\n",
    "- 이슈 티켓의 제목(텍스트 입력)\n",
    "- 이슈 티켓의 텍스트 본문(텍스트 입력)\n",
    "- 사용자가 추가한 태그(범주형 입력으로 여기에서는 원-핫 인코딩)"
   ]
  },
  {
   "cell_type": "markdown",
   "id": "dfc527fb-6285-4103-96f3-cac37cd1be44",
   "metadata": {},
   "source": [
    "-- 텍스트 입력을 크기가 vocabulary_size인 0과 1로 이루어진 배열로 인코딩 할 수 있다.\n",
    "- 이 모델은 출력도 2개 이다.\n",
    "- 이슈 티켓의 우선순위 점수로 0과 1사이의 스칼라(시그모이드 출력)\n",
    "- 이슈 티켓을 처리해야 할 부서(전체 부서 집합에 대한 소프트맥스 출력)"
   ]
  },
  {
   "cell_type": "code",
   "execution_count": 53,
   "id": "85473867-9be3-4199-8c8b-e22ce9a11b8a",
   "metadata": {},
   "outputs": [],
   "source": [
    "# 7-9 다중입력, 다중출력 함수형 모델\n",
    "vocabulary_size = 10000\n",
    "num_tags = 100\n",
    "num_departments = 4\n",
    "\n",
    "title = keras.Input(shape=(vocabulary_size,), name=\"title\")\n",
    "text_body = keras.Input(shape=(vocabulary_size,), name=\"text_body\")\n",
    "tags = keras.Input(shape=(num_tags,), name=\"tags\")  #입력이 3개임\n",
    "\n",
    "features = layers.Concatenate()([title, text_body, tags]) # 3개의 입력을 하나로 묶음\n",
    "features = layers.Dense(64, activation=\"relu\")(features)# 중간 층을 적용하여 입력 특성을 더 풍부한 표현으로 재결합시킴\n",
    "\n",
    "priority = layers.Dense(1, activation=\"sigmoid\", name=\"priority\")(features)#모델의 출력을 정의1\n",
    "department = layers.Dense(\n",
    "    num_departments, activation=\"softmax\", name=\"department\")(features) #모델의 출력을 정의2\n",
    "\n",
    "model = keras.Model(inputs=[title, text_body, tags], outputs=[priority, department])   #입력과 호출을 지정하여 모델을 만듦"
   ]
  },
  {
   "cell_type": "markdown",
   "id": "1e022532-5768-4c03-96a2-b69e2d5465ae",
   "metadata": {},
   "source": [
    "### 다중 입력, 다중 출력 모델 훈련하기\n",
    "- 입력과 출력 데이터의 리스트로 fit()메서드를 호출하면 됨\n",
    "- 데이터의 리스트는 Model클래스에 전달한 순서와 같아야함"
   ]
  },
  {
   "cell_type": "code",
   "execution_count": 54,
   "id": "dc936a9f-e1e0-4822-92eb-3148f5c307b9",
   "metadata": {},
   "outputs": [
    {
     "name": "stdout",
     "output_type": "stream",
     "text": [
      "40/40 [==============================] - 1s 10ms/step - loss: 41.1557 - priority_loss: 0.3195 - department_loss: 40.8362 - priority_mean_absolute_error: 0.4887 - department_accuracy: 0.3195\n",
      "40/40 [==============================] - 0s 3ms/step\n"
     ]
    }
   ],
   "source": [
    "# 7-10 입력과 타깃 배열 리스트를 전달하여 모델 훈련하기\n",
    "import numpy as np\n",
    "\n",
    "num_samples= 1280\n",
    "\n",
    "# 더미(dummy)입력 데이터  input\n",
    "title_data= np.random.randint(0,2, size=(num_samples, vocabulary_size))\n",
    "text_body_data = np.random.randint(0,2,size=(num_samples, vocabulary_size))\n",
    "tags_data= np.random.randint(0,2, size=(num_samples, num_tags))\n",
    "\n",
    "# 더미 타깃 데이터   y\n",
    "priority_data= np.random.random(size=(num_samples, 1))\n",
    "department_data= np.random.randint(0,2, size=(num_samples, num_departments))\n",
    "\n",
    "model.compile(optimizer=\"rmsprop\",\n",
    "             loss=[\"mean_squared_error\", \"categorical_crossentropy\"],   #input함수가 2개 들어가서 loss(손실함수)도 2개 들어가야 함\n",
    "             metrics=[[\"mean_absolute_error\"], [\"accuracy\"]])    #평가지표\n",
    "\n",
    "model.fit([title_data, text_body_data, tags_data],     # x값\n",
    "         [priority_data, department_data], epochs=1)   # y값\n",
    "\n",
    "model_preds, department_preds = model.predict(\n",
    "    [title_data, text_body_data, tags_data])  #예측값에 x를 넣고 예측을 하면 y값이 나옴, 비교를 함"
   ]
  },
  {
   "cell_type": "code",
   "execution_count": 55,
   "id": "84778450-fa00-4d0a-b4f5-0860e9436876",
   "metadata": {
    "tags": []
   },
   "outputs": [
    {
     "name": "stdout",
     "output_type": "stream",
     "text": [
      "40/40 [==============================] - 1s 10ms/step - loss: 52.5583 - priority_loss: 0.3249 - department_loss: 52.2333 - priority_mean_absolute_error: 0.4944 - department_accuracy: 0.2734\n",
      "40/40 [==============================] - 0s 3ms/step - loss: 14.1178 - priority_loss: 0.3249 - department_loss: 13.7928 - priority_mean_absolute_error: 0.4944 - department_accuracy: 0.1656\n",
      "40/40 [==============================] - 0s 3ms/step\n"
     ]
    }
   ],
   "source": [
    "# 1:1 대응으로 이름 지정해주기=> 순서를 안지켜도 됨\n",
    "# 7-11 입력과 타깃 배열을 딕셔너리로 전달하여 모델 훈력하기\n",
    "model.compile(optimizer=\"rmsprop\",\n",
    "              loss={\"priority\": \"mean_squared_error\", \"department\": \"categorical_crossentropy\"},\n",
    "              metrics={\"priority\": [\"mean_absolute_error\"], \"department\": [\"accuracy\"]})\n",
    "\n",
    "model.fit({\"title\": title_data, \"text_body\": text_body_data, \"tags\": tags_data},\n",
    "          {\"priority\": priority_data, \"department\": department_data},\n",
    "          epochs=1)\n",
    "\n",
    "model.evaluate({\"title\": title_data, \"text_body\": text_body_data, \"tags\": tags_data},\n",
    "               {\"priority\": priority_data, \"department\": department_data})\n",
    "\n",
    "priority_preds, department_preds = model.predict(\n",
    "    {\"title\": title_data, \"text_body\": text_body_data, \"tags\": tags_data})"
   ]
  },
  {
   "cell_type": "markdown",
   "id": "effa3dbe-01bc-40eb-b0e9-c25e44853cac",
   "metadata": {},
   "source": [
    "###함수형 api의 장점: 층 연결 구조 활용하기\n",
    "- 함수형 모델은 명시적인 그래츠 구조인다.\n",
    "- 층이 어떻게 연결되어있는지 조사하고 이전 그래프 노드(층의 출력)를 새 모델의 일부로 재사용할 수 있다."
   ]
  },
  {
   "cell_type": "code",
   "execution_count": 57,
   "id": "53b3d277-abc2-4f90-b909-2feaf41f2986",
   "metadata": {},
   "outputs": [
    {
     "data": {
      "image/png": "[encoded data removed]",
      "text/plain": [
       "<IPython.core.display.Image object>"
      ]
     },
     "execution_count": 57,
     "metadata": {},
     "output_type": "execute_result"
    }
   ],
   "source": [
    "# 시각화 해보기\n",
    "keras.utils.plot_model(model, \"ticket_classifier.png\")\n",
    "\n",
    "\n",
    "# input이 3개\n",
    "# 2번째, 3째는 layer\n",
    "# 마지막은 output"
   ]
  },
  {
   "cell_type": "code",
   "execution_count": 61,
   "id": "3c61c6d8-b957-45e8-b51b-e39c7a4b0605",
   "metadata": {},
   "outputs": [
    {
     "data": {
      "image/png": "[encoded data removed]",
      "text/plain": [
       "<IPython.core.display.Image object>"
      ]
     },
     "execution_count": 61,
     "metadata": {},
     "output_type": "execute_result"
    }
   ],
   "source": [
    "# 모델에 있는 각 층의 입출력 크기를  그림에 추가하면 디버깅에 도움이 될 수 있다.\n",
    "# 크기 정보가 출력된 모델 그림\n",
    "keras.utils.plot_model(model, \"ticket_classifier_with_shape_info.png\", show_shapes= True)"
   ]
  },
  {
   "cell_type": "code",
   "execution_count": 63,
   "id": "22d2d45e-b472-4a63-bc75-91426c479d99",
   "metadata": {},
   "outputs": [
    {
     "data": {
      "text/plain": [
       "[<keras.engine.input_layer.InputLayer at 0x2215a2e1610>,\n",
       " <keras.engine.input_layer.InputLayer at 0x2215a2e10a0>,\n",
       " <keras.engine.input_layer.InputLayer at 0x2215a2e12e0>,\n",
       " <keras.layers.merging.concatenate.Concatenate at 0x2215a2e1760>,\n",
       " <keras.layers.core.dense.Dense at 0x2215a2e1460>,\n",
       " <keras.layers.core.dense.Dense at 0x2215a2e1250>,\n",
       " <keras.layers.core.dense.Dense at 0x221564e2fd0>]"
      ]
     },
     "execution_count": 63,
     "metadata": {},
     "output_type": "execute_result"
    }
   ],
   "source": [
    "# 7-12 함수형 모델에 있는 층의 입력과 출력을 출력하기\n",
    "model.layers"
   ]
  },
  {
   "cell_type": "code",
   "execution_count": 64,
   "id": "dd6f8b07-fb03-480e-a4d2-27bfff61e0f8",
   "metadata": {},
   "outputs": [],
   "source": [
    "# 이를 통해 특성 추출을 수행하여 다른 모델에서 중간 특성을 재사용하는 모델을 만들 수 있다."
   ]
  },
  {
   "cell_type": "code",
   "execution_count": 68,
   "id": "a3ff9db0-6365-4e87-9009-f76fe15638b1",
   "metadata": {},
   "outputs": [],
   "source": [
    "# 7-13 중간 층의 출력을 재사용해서 새로운 모델 만들기\n",
    "features= model.layers[4].output  #layers[4]는 중간 Dense층임\n",
    "difficulty= layers.Dense(3, activation=\"softmax\", name= \"difficulty\")(features)\n",
    "new_model= keras.Model(\n",
    "    inputs=[title, text_body, tags],\n",
    "    outputs= [priority, department, difficulty])"
   ]
  },
  {
   "cell_type": "code",
   "execution_count": 69,
   "id": "15823d9c-1241-4917-9a42-287887813690",
   "metadata": {},
   "outputs": [
    {
     "data": {
      "image/png": "[encoded data removed]",
      "text/plain": [
       "<IPython.core.display.Image object>"
      ]
     },
     "execution_count": 69,
     "metadata": {},
     "output_type": "execute_result"
    }
   ],
   "source": [
    "# 새로운 모델을 그래프로 출력\n",
    "keras.utils.plot_model(\n",
    "    new_model, \"update_ticket_classifier.png\", show_shapes=True)"
   ]
  },
  {
   "cell_type": "code",
   "execution_count": null,
   "id": "7e9f1b0f-dc95-4ac5-89b7-7711ed9ad4cc",
   "metadata": {},
   "outputs": [],
   "source": []
  },
  {
   "cell_type": "markdown",
   "id": "d8ffa0ac-2011-4b1b-b42e-c68a71ca4cbd",
   "metadata": {},
   "source": [
    "# 8. 컴퓨터 비전을 위한 딥러닝"
   ]
  },
  {
   "cell_type": "markdown",
   "id": "bc01d028-20bb-4aad-82bc-2aef7f3b4638",
   "metadata": {},
   "source": [
    "## 8.1 합성곱 신경망"
   ]
  },
  {
   "cell_type": "code",
   "execution_count": 47,
   "id": "82969fa2-197a-4780-a274-c2a0f9bc591f",
   "metadata": {},
   "outputs": [],
   "source": [
    "# 8-1 간단한 커브넷 만들기\n",
    "from tensorflow import keras\n",
    "from tensorflow.keras import layers"
   ]
  },
  {
   "cell_type": "code",
   "execution_count": 55,
   "id": "ddd70481-b769-4e3e-8c51-c57caabdbc4d",
   "metadata": {
    "tags": []
   },
   "outputs": [],
   "source": [
    "inputs= keras.Input(shape=(28,28,1))\n",
    "x= layers.Conv2D(filters=32, kernel_size=3, activation=\"relu\")(inputs)\n",
    "x= layers.MaxPooling2D(pool_size=2)(x)\n",
    "x= layers.Conv2D(filters=32, kernel_size=3, activation=\"relu\")(x)\n",
    "x= layers.MaxPooling2D(pool_size=2)(x)\n",
    "x= layers.Conv2D(filters=32, kernel_size=3, activation=\"relu\")(x)\n",
    "x= layers.Flatten()(x)\n",
    "outputs= layers.Dense(10, activation=\"softmax\")(x)\n",
    "model=keras.Model(inputs=inputs, outputs=outputs)"
   ]
  },
  {
   "cell_type": "code",
   "execution_count": null,
   "id": "27198b91-8011-491a-bb3c-570bd4125c9c",
   "metadata": {},
   "outputs": [],
   "source": [
    "# 컨브넷이 배치차원을 제외하고 (image_height, image_width, image_channels)크기의 입력 텐서를 사용한다는 점이 중요.\n",
    "# 이 예제는 mnist이미지 포맷인 (28,28,1)크기의 입력을 처리하도록 컨브넷을 설정해야 함"
   ]
  },
  {
   "cell_type": "code",
   "execution_count": 56,
   "id": "5bdee413-1fa9-4a82-a4cc-ceb99d15ef0b",
   "metadata": {},
   "outputs": [
    {
     "name": "stdout",
     "output_type": "stream",
     "text": [
      "Model: \"model_1\"\n",
      "_________________________________________________________________\n",
      " Layer (type)                Output Shape              Param #   \n",
      "=================================================================\n",
      " input_5 (InputLayer)        [(None, 28, 28, 1)]       0         \n",
      "                                                                 \n",
      " conv2d_6 (Conv2D)           (None, 26, 26, 32)        320       \n",
      "                                                                 \n",
      " max_pooling2d_2 (MaxPooling  (None, 13, 13, 32)       0         \n",
      " 2D)                                                             \n",
      "                                                                 \n",
      " conv2d_7 (Conv2D)           (None, 11, 11, 32)        9248      \n",
      "                                                                 \n",
      " max_pooling2d_3 (MaxPooling  (None, 5, 5, 32)         0         \n",
      " 2D)                                                             \n",
      "                                                                 \n",
      " conv2d_8 (Conv2D)           (None, 3, 3, 32)          9248      \n",
      "                                                                 \n",
      " flatten_1 (Flatten)         (None, 288)               0         \n",
      "                                                                 \n",
      " dense_4 (Dense)             (None, 10)                2890      \n",
      "                                                                 \n",
      "=================================================================\n",
      "Total params: 21,706\n",
      "Trainable params: 21,706\n",
      "Non-trainable params: 0\n",
      "_________________________________________________________________\n"
     ]
    }
   ],
   "source": [
    "# 컨브넷의 구조를 출력\n",
    "model.summary()"
   ]
  },
  {
   "cell_type": "code",
   "execution_count": 57,
   "id": "464ced40-620d-4329-9d4a-3e2fe5302b5a",
   "metadata": {},
   "outputs": [],
   "source": [
    "# 높이와 너비 차원은 모델이 깊어질수록 작아지는 경향이 있다.\n",
    "# 채널의 수는 Conv2D 층에 전달 된 첫번째 매개변수에 의해 조절됨"
   ]
  },
  {
   "cell_type": "code",
   "execution_count": 58,
   "id": "8a5458c2-ad94-4e99-83d1-393b71c3558b",
   "metadata": {},
   "outputs": [
    {
     "name": "stdout",
     "output_type": "stream",
     "text": [
      "Epoch 1/5\n",
      "938/938 [==============================] - 12s 12ms/step - loss: 0.2262 - accuracy: 0.9311\n",
      "Epoch 2/5\n",
      "938/938 [==============================] - 10s 11ms/step - loss: 0.0687 - accuracy: 0.9787\n",
      "Epoch 3/5\n",
      "938/938 [==============================] - 10s 11ms/step - loss: 0.0488 - accuracy: 0.9849\n",
      "Epoch 4/5\n",
      "938/938 [==============================] - 11s 11ms/step - loss: 0.0385 - accuracy: 0.9883\n",
      "Epoch 5/5\n",
      "938/938 [==============================] - 11s 12ms/step - loss: 0.0329 - accuracy: 0.9898\n"
     ]
    },
    {
     "data": {
      "text/plain": [
       "<keras.callbacks.History at 0x18e94187ac0>"
      ]
     },
     "execution_count": 58,
     "metadata": {},
     "output_type": "execute_result"
    }
   ],
   "source": [
    "# 8-3 MNIST이미지에서 컨브넷 훈련하기\n",
    "from tensorflow.keras.datasets import mnist\n",
    "\n",
    "(train_images, train_labels), (test_images, test_labels) = mnist.load_data()\n",
    "train_images = train_images.reshape((60000,28,28,1))\n",
    "train_images = train_images.astype(\"float32\")/255\n",
    "test_images = test_images.reshape((10000, 28,28,1))\n",
    "test_images= test_images.astype(\"float32\")/255\n",
    "model.compile(optimizer=\"rmsprop\",\n",
    "             loss= \"sparse_categorical_crossentropy\",\n",
    "             metrics=[\"accuracy\"])\n",
    "model.fit(train_images, train_labels, epochs=5, batch_size=64)"
   ]
  },
  {
   "cell_type": "code",
   "execution_count": 59,
   "id": "59050d7c-7ce6-4b61-8a3b-0affb53de692",
   "metadata": {},
   "outputs": [
    {
     "name": "stdout",
     "output_type": "stream",
     "text": [
      "313/313 [==============================] - 1s 2ms/step - loss: 0.0346 - accuracy: 0.9886\n",
      "테스트 정확도:0.989\n"
     ]
    }
   ],
   "source": [
    "# 8-4 컨브넷 평가하기\n",
    "test_loss, test_acc = model.evaluate(test_images, test_labels)\n",
    "print(f\"테스트 정확도:{test_acc:.3f}\")"
   ]
  },
  {
   "cell_type": "code",
   "execution_count": null,
   "id": "c7182790-ea0d-4d77-b12f-1e4f7bf1fc06",
   "metadata": {},
   "outputs": [],
   "source": [
    "## 8.1.1 합성곱 연산\n",
    "핵심 특징은 컨브넷에 두가지 흥미로운 성질을 제공\n",
    "- 학습된 패턴은 평행이동 불변성을 가진다.\n",
    "    컨브넷이 이미지의 오른쪽 아래 모서리에서 어떤 패턴을 학습했다면 다른곳에서도 이 패턴을 인식할 수 있다.\n",
    "    완전 연결 네트워크는 새로운 위치에 나타난 것은 새로운 패턴으로 학습해야 한다. 이런 성질은 컨브넷이 이미지를 효율적으로 처리하게 만들어 준다.\n",
    "    적은 수의 훈련 샘플을 사용해서 일반화 능력을 가진 표현을 학습할 수 있다.\n",
    "    = 근본적으로 우리가 보는 세상은 평행이동으로 인해 다르게 인식되지 않습니다.\n",
    "- 컨브넷은 패턴의 공간적 계층 구조를 학습할 수 있다.\n",
    "    1. 합성곱 층이 에비 같은 작은 지역 패턴을 학습한다.\n",
    "    2. 합성곱 층은 첫번째 층의 특성으로 구성된 더 큰 패턴을 학습하는 식이다.\n",
    "    이런 방식을 사용하여 컨브넷은 매우 복잡, 추상적인 시각적 개념을 효과적으로 학습할 수 있다.\n",
    "    =근본적으로 우리가 보는 세상은 공간적 계층구조를 가지고 있기 때문\n",
    "- 합성곱연산은 특성맵이라고 부르는 랭크-3텐서에 적용된다."
   ]
  },
  {
   "cell_type": "code",
   "execution_count": null,
   "id": "113da5fa-e433-4dc8-afdc-e22e5b1d049b",
   "metadata": {},
   "outputs": [],
   "source": [
    "특성맵이란 말이 의미하는 것은 깊이 축에 있는 각 차원은 하나의 특성(또는 필터)이고, 랭크-2 텐서인 output[:,:,n]은 입력에 대한 이 필터 응답을 나타내는 2D공간상의 맵이다."
   ]
  },
  {
   "cell_type": "code",
   "execution_count": null,
   "id": "31366b3a-fcf0-496e-a0ca-139423fff2d3",
   "metadata": {},
   "outputs": [],
   "source": [
    "합성곱은 핵심적으로 2개의 파라미터로 정의됨\n",
    "- 입력으로부터 뽑아낼 패치의 크기: 전형적으로 3x3 또는 5x5크기를 사용\n",
    "- 특성 맵의 출력 깊이: 합성곱으로 계산할 필터 개수. ex)32~128"
   ]
  },
  {
   "cell_type": "code",
   "execution_count": null,
   "id": "d8546ba6-b40e-4f21-bfbd-83c290c1d1b6",
   "metadata": {},
   "outputs": [],
   "source": [
    "케라스의 Con2D 층에서 이 파라미터는 Con2D(output_depth, (window_height, window_width))처럼 첫번째와 두번째 매개변수로 전달됨.\n",
    "\n",
    "-합성곱 커널(convolution kernel)\n",
    "3D입력 특성 맵 위를 3x3 또는 5x5크기의 윈도우가 슬라이딩 하면 모든 위치에서 3D특성 패치를 추출하는 방식으로 합성곱이 작동함.\n",
    "하나의 학습된 가중치 행렬과 텐서 곱셈을 통해 크기의 1D벡터로 변환됨.\n",
    "동일한 커널이 모든 패치에 걸쳐 재사용됨\n"
   ]
  },
  {
   "cell_type": "code",
   "execution_count": null,
   "id": "7fd31c43-9df6-48c1-8463-5aeef82e31fd",
   "metadata": {},
   "outputs": [],
   "source": [
    "패딩: 입력과 동일한 높이와 너비를 가진 출력 특성 맵을 얻고싶을 때 사용\n",
    "패딩은 입력 특성 맵의 가장자리에 적절한 개수의 행과 열을 추가함.\n",
    "그래서 모든 입력 타일에 합성곱 윈도우의 중앙을 위치시킬 수 있음\n",
    "3x3 윈도우라면 위아래에 하나의 행을 추가하고 오른쪽, 왼쪽에 하나의 열을 추가한다.\n",
    "5x5윈도우라면 2개의 행과 열을 추가한다."
   ]
  },
  {
   "cell_type": "code",
   "execution_count": null,
   "id": "ef572ed1-438c-4883-b1fc-dee47c07c14e",
   "metadata": {},
   "outputs": [],
   "source": [
    "이미지 -> 숫자배열....784>>>1\n",
    "이미지 -> 이미지 숫자(28,28,1)>>>숫자배열>>>>1\n",
    "(가로28, 세로28, 흑백1)\n",
    "\n",
    "dnn: 숫자를 보고 숫자를 맞추는 것 (숫자->1)\n",
    "cnn: 이미지를 보고 dnn의 논리를 거치는 것(이미지->숫자->1)(이미지->dnn)"
   ]
  },
  {
   "cell_type": "code",
   "execution_count": null,
   "id": "5e3f8307-be76-4a15-8cf8-5b58a1a0135e",
   "metadata": {},
   "outputs": [],
   "source": [
    "element-wise: 곱해서 더한다\n",
    "\n",
    "5x5를 훑고 가면 3x3이 나옴.\n",
    "\n",
    "아홉가지의 숫자를 나타내는 숫자=9\n",
    "한칸 이동한 숫자를 나타내는 숫자=101\n",
    "2   0   5    0                   9    101   0      \n",
    "1   2   100  0              =>   0     0    0\n",
    "2   1   5    0                   0     0    0\n",
    "\n",
    "\n",
    "\n",
    "0 0 1\n",
    "0 1 0\n",
    "1 0 0\n",
    "\n",
    "convolution계산\n",
    "컨블르션 연산=> 바깥을 0000으로 둘러싸서 2개의 row, 2개의 칼럼이 더 생기게 됨 = =패딩(Padding)\n",
    "(마진: 바깥 여백, 패딩: 안쪽 여백)인데\n",
    "패딩: 바깥쪽 여백을 둘러싸는 것임.\n",
    "\n",
    "패딩이 뭔지 설명할 줄 알아야함\n",
    "\n",
    "위의 아홉가지의 숫자를 나타내는 숫자=9\n",
    "5+2+2=9\n",
    "\n",
    "한칸 이동하면 \n",
    "100+1=101\n",
    "\n",
    "\n",
    "Conv2D레이어를 한번 통과하면 5x5가 3x3으로 바뀜\n",
    "또 통과시키면 3x3이 1x1으로 줄어듬\n",
    "\n",
    "\n"
   ]
  },
  {
   "cell_type": "code",
   "execution_count": null,
   "id": "d0ec426f-d711-4cb4-8593-b955ca870a47",
   "metadata": {},
   "outputs": [],
   "source": []
  },
  {
   "cell_type": "code",
   "execution_count": null,
   "id": "189a2786-0fce-4b9a-8e99-cd1aa2ad32a8",
   "metadata": {},
   "outputs": [],
   "source": []
  },
  {
   "cell_type": "code",
   "execution_count": null,
   "id": "250eecb6-44b4-4106-b9cd-be68be66ab3d",
   "metadata": {},
   "outputs": [],
   "source": []
  },
  {
   "cell_type": "code",
   "execution_count": null,
   "id": "0332db74-300d-465b-a460-2748d1de5366",
   "metadata": {},
   "outputs": [],
   "source": []
  },
  {
   "cell_type": "code",
   "execution_count": null,
   "id": "da2035f0-52ad-48d6-882a-33a86a2d4b9d",
   "metadata": {},
   "outputs": [],
   "source": []
  },
  {
   "cell_type": "code",
   "execution_count": null,
   "id": "68c7c1ed-bad9-46cf-b0ff-741a6cbcfeb0",
   "metadata": {},
   "outputs": [],
   "source": []
  },
  {
   "cell_type": "code",
   "execution_count": null,
   "id": "0b34c92e-73c7-49d6-a186-8881268e423c",
   "metadata": {},
   "outputs": [],
   "source": []
  }
 ],
 "metadata": {
  "kernelspec": {
   "display_name": "Python 3 (ipykernel)",
   "language": "python",
   "name": "python3"
  },
  "language_info": {
   "codemirror_mode": {
    "name": "ipython",
    "version": 3
   },
   "file_extension": ".py",
   "mimetype": "text/x-python",
   "name": "python",
   "nbconvert_exporter": "python",
   "pygments_lexer": "ipython3",
   "version": "3.9.12"
  }
 },
 "nbformat": 4,
 "nbformat_minor": 5
}
