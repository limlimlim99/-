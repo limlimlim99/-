{
 "cells": [
  {
   "cell_type": "code",
   "execution_count": 8,
   "id": "61a7b43f-45ed-42a1-a636-b0ae15bd12d5",
   "metadata": {},
   "outputs": [],
   "source": [
    "#framework: django(웹서비스를 위한 프로세스)"
   ]
  },
  {
   "cell_type": "code",
   "execution_count": 13,
   "id": "26704757-70a6-4855-a3df-18d9a4f54c92",
   "metadata": {},
   "outputs": [],
   "source": [
    "#pip install keras\n",
    "#pip install tensorflow"
   ]
  },
  {
   "cell_type": "code",
   "execution_count": 57,
   "id": "20dae23f-dc39-4b9f-a6ba-f814c6689e6e",
   "metadata": {},
   "outputs": [],
   "source": [
    "import numpy as np\n",
    "import pandas as pd\n",
    "import matplotlib.pyplot as plt\n",
    "\n",
    "from keras import Sequential\n",
    "from keras import optimizers\n",
    "from keras.layers import Input, Dense"
   ]
  },
  {
   "cell_type": "code",
   "execution_count": 58,
   "id": "b1f58af0-da3d-4d18-bba8-6672d1a61d22",
   "metadata": {},
   "outputs": [],
   "source": [
    "from tensorflow import keras\n",
    "import keras"
   ]
  },
  {
   "cell_type": "code",
   "execution_count": 59,
   "id": "251b15e0-65b1-412d-9d97-5d55a0bcd61b",
   "metadata": {},
   "outputs": [],
   "source": [
    "#sparse matrix: 희소행렬\n",
    "#dense matrix: 밀집행렬"
   ]
  },
  {
   "cell_type": "code",
   "execution_count": 86,
   "id": "bfc54e38-bd11-487e-b8f7-832465f9268f",
   "metadata": {
    "collapsed": true,
    "jupyter": {
     "outputs_hidden": true
    },
    "tags": []
   },
   "outputs": [
    {
     "data": {
      "text/plain": [
       "array([-1.0000000e+00, -9.9000000e-01, -9.8000000e-01, -9.7000000e-01,\n",
       "       -9.6000000e-01, -9.5000000e-01, -9.4000000e-01, -9.3000000e-01,\n",
       "       -9.2000000e-01, -9.1000000e-01, -9.0000000e-01, -8.9000000e-01,\n",
       "       -8.8000000e-01, -8.7000000e-01, -8.6000000e-01, -8.5000000e-01,\n",
       "       -8.4000000e-01, -8.3000000e-01, -8.2000000e-01, -8.1000000e-01,\n",
       "       -8.0000000e-01, -7.9000000e-01, -7.8000000e-01, -7.7000000e-01,\n",
       "       -7.6000000e-01, -7.5000000e-01, -7.4000000e-01, -7.3000000e-01,\n",
       "       -7.2000000e-01, -7.1000000e-01, -7.0000000e-01, -6.9000000e-01,\n",
       "       -6.8000000e-01, -6.7000000e-01, -6.6000000e-01, -6.5000000e-01,\n",
       "       -6.4000000e-01, -6.3000000e-01, -6.2000000e-01, -6.1000000e-01,\n",
       "       -6.0000000e-01, -5.9000000e-01, -5.8000000e-01, -5.7000000e-01,\n",
       "       -5.6000000e-01, -5.5000000e-01, -5.4000000e-01, -5.3000000e-01,\n",
       "       -5.2000000e-01, -5.1000000e-01, -5.0000000e-01, -4.9000000e-01,\n",
       "       -4.8000000e-01, -4.7000000e-01, -4.6000000e-01, -4.5000000e-01,\n",
       "       -4.4000000e-01, -4.3000000e-01, -4.2000000e-01, -4.1000000e-01,\n",
       "       -4.0000000e-01, -3.9000000e-01, -3.8000000e-01, -3.7000000e-01,\n",
       "       -3.6000000e-01, -3.5000000e-01, -3.4000000e-01, -3.3000000e-01,\n",
       "       -3.2000000e-01, -3.1000000e-01, -3.0000000e-01, -2.9000000e-01,\n",
       "       -2.8000000e-01, -2.7000000e-01, -2.6000000e-01, -2.5000000e-01,\n",
       "       -2.4000000e-01, -2.3000000e-01, -2.2000000e-01, -2.1000000e-01,\n",
       "       -2.0000000e-01, -1.9000000e-01, -1.8000000e-01, -1.7000000e-01,\n",
       "       -1.6000000e-01, -1.5000000e-01, -1.4000000e-01, -1.3000000e-01,\n",
       "       -1.2000000e-01, -1.1000000e-01, -1.0000000e-01, -9.0000000e-02,\n",
       "       -8.0000000e-02, -7.0000000e-02, -6.0000000e-02, -5.0000000e-02,\n",
       "       -4.0000000e-02, -3.0000000e-02, -2.0000000e-02, -1.0000000e-02,\n",
       "        8.8817842e-16,  1.0000000e-02,  2.0000000e-02,  3.0000000e-02,\n",
       "        4.0000000e-02,  5.0000000e-02,  6.0000000e-02,  7.0000000e-02,\n",
       "        8.0000000e-02,  9.0000000e-02,  1.0000000e-01,  1.1000000e-01,\n",
       "        1.2000000e-01,  1.3000000e-01,  1.4000000e-01,  1.5000000e-01,\n",
       "        1.6000000e-01,  1.7000000e-01,  1.8000000e-01,  1.9000000e-01,\n",
       "        2.0000000e-01,  2.1000000e-01,  2.2000000e-01,  2.3000000e-01,\n",
       "        2.4000000e-01,  2.5000000e-01,  2.6000000e-01,  2.7000000e-01,\n",
       "        2.8000000e-01,  2.9000000e-01,  3.0000000e-01,  3.1000000e-01,\n",
       "        3.2000000e-01,  3.3000000e-01,  3.4000000e-01,  3.5000000e-01,\n",
       "        3.6000000e-01,  3.7000000e-01,  3.8000000e-01,  3.9000000e-01,\n",
       "        4.0000000e-01,  4.1000000e-01,  4.2000000e-01,  4.3000000e-01,\n",
       "        4.4000000e-01,  4.5000000e-01,  4.6000000e-01,  4.7000000e-01,\n",
       "        4.8000000e-01,  4.9000000e-01,  5.0000000e-01,  5.1000000e-01,\n",
       "        5.2000000e-01,  5.3000000e-01,  5.4000000e-01,  5.5000000e-01,\n",
       "        5.6000000e-01,  5.7000000e-01,  5.8000000e-01,  5.9000000e-01,\n",
       "        6.0000000e-01,  6.1000000e-01,  6.2000000e-01,  6.3000000e-01,\n",
       "        6.4000000e-01,  6.5000000e-01,  6.6000000e-01,  6.7000000e-01,\n",
       "        6.8000000e-01,  6.9000000e-01,  7.0000000e-01,  7.1000000e-01,\n",
       "        7.2000000e-01,  7.3000000e-01,  7.4000000e-01,  7.5000000e-01,\n",
       "        7.6000000e-01,  7.7000000e-01,  7.8000000e-01,  7.9000000e-01,\n",
       "        8.0000000e-01,  8.1000000e-01,  8.2000000e-01,  8.3000000e-01,\n",
       "        8.4000000e-01,  8.5000000e-01,  8.6000000e-01,  8.7000000e-01,\n",
       "        8.8000000e-01,  8.9000000e-01,  9.0000000e-01,  9.1000000e-01,\n",
       "        9.2000000e-01,  9.3000000e-01,  9.4000000e-01,  9.5000000e-01,\n",
       "        9.6000000e-01,  9.7000000e-01,  9.8000000e-01,  9.9000000e-01])"
      ]
     },
     "execution_count": 86,
     "metadata": {},
     "output_type": "execute_result"
    }
   ],
   "source": [
    "# 변수- x : 1개, y : 1개\n",
    "# -1부터 1까지 100조각 내기\n",
    "np.arange(-1,1, 0.01)"
   ]
  },
  {
   "cell_type": "code",
   "execution_count": 87,
   "id": "be2d1ec5-6efc-4fbd-9565-cd315c4e9158",
   "metadata": {
    "tags": []
   },
   "outputs": [
    {
     "data": {
      "text/plain": [
       "array([-1.        , -0.97979798, -0.95959596, -0.93939394, -0.91919192,\n",
       "       -0.8989899 , -0.87878788, -0.85858586, -0.83838384, -0.81818182,\n",
       "       -0.7979798 , -0.77777778, -0.75757576, -0.73737374, -0.71717172,\n",
       "       -0.6969697 , -0.67676768, -0.65656566, -0.63636364, -0.61616162,\n",
       "       -0.5959596 , -0.57575758, -0.55555556, -0.53535354, -0.51515152,\n",
       "       -0.49494949, -0.47474747, -0.45454545, -0.43434343, -0.41414141,\n",
       "       -0.39393939, -0.37373737, -0.35353535, -0.33333333, -0.31313131,\n",
       "       -0.29292929, -0.27272727, -0.25252525, -0.23232323, -0.21212121,\n",
       "       -0.19191919, -0.17171717, -0.15151515, -0.13131313, -0.11111111,\n",
       "       -0.09090909, -0.07070707, -0.05050505, -0.03030303, -0.01010101,\n",
       "        0.01010101,  0.03030303,  0.05050505,  0.07070707,  0.09090909,\n",
       "        0.11111111,  0.13131313,  0.15151515,  0.17171717,  0.19191919,\n",
       "        0.21212121,  0.23232323,  0.25252525,  0.27272727,  0.29292929,\n",
       "        0.31313131,  0.33333333,  0.35353535,  0.37373737,  0.39393939,\n",
       "        0.41414141,  0.43434343,  0.45454545,  0.47474747,  0.49494949,\n",
       "        0.51515152,  0.53535354,  0.55555556,  0.57575758,  0.5959596 ,\n",
       "        0.61616162,  0.63636364,  0.65656566,  0.67676768,  0.6969697 ,\n",
       "        0.71717172,  0.73737374,  0.75757576,  0.77777778,  0.7979798 ,\n",
       "        0.81818182,  0.83838384,  0.85858586,  0.87878788,  0.8989899 ,\n",
       "        0.91919192,  0.93939394,  0.95959596,  0.97979798,  1.        ])"
      ]
     },
     "execution_count": 87,
     "metadata": {},
     "output_type": "execute_result"
    }
   ],
   "source": [
    "np.linspace(-1,1,100)"
   ]
  },
  {
   "cell_type": "code",
   "execution_count": 88,
   "id": "897b4adc-4936-40c9-a7df-79d3dc25242f",
   "metadata": {},
   "outputs": [
    {
     "data": {
      "text/plain": [
       "array([ 1.        ,  1.47368421,  1.94736842,  2.42105263,  2.89473684,\n",
       "        3.36842105,  3.84210526,  4.31578947,  4.78947368,  5.26315789,\n",
       "        5.73684211,  6.21052632,  6.68421053,  7.15789474,  7.63157895,\n",
       "        8.10526316,  8.57894737,  9.05263158,  9.52631579, 10.        ])"
      ]
     },
     "execution_count": 88,
     "metadata": {},
     "output_type": "execute_result"
    }
   ],
   "source": [
    "#1부터 10까지의 숫지를 균등하게 20개로 쪼개준다\n",
    "np.linspace(1,10,20)"
   ]
  },
  {
   "cell_type": "code",
   "execution_count": 89,
   "id": "e03f53ae-751c-42cb-9856-2dbf81e442ce",
   "metadata": {},
   "outputs": [],
   "source": [
    "x = np.linspace(-1, 1, 100)\n",
    "y = x**2"
   ]
  },
  {
   "cell_type": "code",
   "execution_count": 90,
   "id": "33c09b3b-85f5-4e20-926f-cddeea5e6f10",
   "metadata": {},
   "outputs": [
    {
     "data": {
      "text/plain": [
       "<matplotlib.collections.PathCollection at 0x1a3b8aef040>"
      ]
     },
     "execution_count": 90,
     "metadata": {},
     "output_type": "execute_result"
    },
    {
     "data": {
      "image/png": "[encoded data removed]",
      "text/plain": [
       "<Figure size 360x288 with 1 Axes>"
      ]
     },
     "metadata": {
      "needs_background": "light"
     },
     "output_type": "display_data"
    }
   ],
   "source": [
    "plt.scatter(x,x**2)"
   ]
  },
  {
   "cell_type": "code",
   "execution_count": null,
   "id": "6ec97cc3-aa29-4ce5-a4a5-0426ebef9a58",
   "metadata": {},
   "outputs": [],
   "source": []
  },
  {
   "cell_type": "code",
   "execution_count": 91,
   "id": "a61698e8-8c18-4067-acf8-c50c478beb8d",
   "metadata": {},
   "outputs": [
    {
     "name": "stdout",
     "output_type": "stream",
     "text": [
      "[1 2 3 4 5 6 7 8 9]\n"
     ]
    },
    {
     "data": {
      "text/plain": [
       "array([2, 7, 4, 6, 5, 9, 1, 3, 8])"
      ]
     },
     "execution_count": 91,
     "metadata": {},
     "output_type": "execute_result"
    }
   ],
   "source": [
    "a= np.arange(1,10)\n",
    "print(a)\n",
    "np.random.shuffle(a)\n",
    "a"
   ]
  },
  {
   "cell_type": "code",
   "execution_count": 92,
   "id": "39a8489c-4d5e-488f-bbe8-3aa209f574c1",
   "metadata": {},
   "outputs": [],
   "source": [
    "np.random.shuffle(x)"
   ]
  },
  {
   "cell_type": "code",
   "execution_count": 93,
   "id": "d5da7fe2-301a-4a46-b661-f3dd3b67947e",
   "metadata": {},
   "outputs": [
    {
     "data": {
      "text/plain": [
       "<matplotlib.collections.PathCollection at 0x1a3b8b4bd30>"
      ]
     },
     "execution_count": 93,
     "metadata": {},
     "output_type": "execute_result"
    },
    {
     "data": {
      "image/png": "[encoded data removed]",
      "text/plain": [
       "<Figure size 360x288 with 1 Axes>"
      ]
     },
     "metadata": {
      "needs_background": "light"
     },
     "output_type": "display_data"
    }
   ],
   "source": [
    "plt.rcParams[\"figure.figsize\"] = (5,4) \n",
    "plt.scatter(x[:70], x[:70]**2)"
   ]
  },
  {
   "cell_type": "code",
   "execution_count": 94,
   "id": "87ef13b0-9e92-4b76-b57c-1a721ff8a31a",
   "metadata": {},
   "outputs": [
    {
     "data": {
      "text/plain": [
       "<matplotlib.collections.PathCollection at 0x1a3b8bd0400>"
      ]
     },
     "execution_count": 94,
     "metadata": {},
     "output_type": "execute_result"
    },
    {
     "data": {
      "image/png": "[encoded data removed]",
      "text/plain": [
       "<Figure size 360x288 with 1 Axes>"
      ]
     },
     "metadata": {
      "needs_background": "light"
     },
     "output_type": "display_data"
    }
   ],
   "source": [
    "plt.scatter(x[:70],x[:70]**2)\n",
    "plt.scatter(x[70:],x[70:]**2)"
   ]
  },
  {
   "cell_type": "markdown",
   "id": "9fd4c350-70b9-4e02-9091-642175356f2e",
   "metadata": {},
   "source": [
    "#학습\n",
    "class Caculator: \n",
    "    def__init__(self)\n",
    "    \n",
    "    def add(self, );\n",
    "    \n",
    "    \n",
    "pos = Calculator()"
   ]
  },
  {
   "cell_type": "code",
   "execution_count": null,
   "id": "6585913b-c903-46b5-881d-aa76aec033f5",
   "metadata": {},
   "outputs": [],
   "source": []
  },
  {
   "cell_type": "code",
   "execution_count": 95,
   "id": "529edda8-eb94-4868-a486-714e7c0fcb46",
   "metadata": {
    "tags": []
   },
   "outputs": [],
   "source": [
    "model = Sequential()\n",
    "model.add(Input(1))  #들어가는 것 1개\n",
    "model.add(Dense(units=10, activation='sigmoid')) #unit=10는 10개짜리 층을 만든다\n",
    "model.add(Dense(units=10, activation='sigmoid'))\n",
    "model.add(Dense(units=1))   #아웃풋이 나오는 층 아웃풋이 1개가 나옴 아웃풋은 unit의 0.1이 나옴\n",
    "\n",
    "model.compile(optimizer='SGD', loss= 'mse', metrics='mse')"
   ]
  },
  {
   "cell_type": "code",
   "execution_count": 96,
   "id": "5d796c06-57de-4be6-8043-388e5d35b33c",
   "metadata": {},
   "outputs": [],
   "source": [
    "#새로 학습시킴"
   ]
  },
  {
   "cell_type": "code",
   "execution_count": 97,
   "id": "2cfdbef8-cd34-4197-8784-c812a152e8a5",
   "metadata": {},
   "outputs": [],
   "source": [
    "x = np.linspace(-1, 1, 100)\n",
    "y = x**2"
   ]
  },
  {
   "cell_type": "code",
   "execution_count": 98,
   "id": "a42c0091-f528-4cd2-bb9c-2d3433823231",
   "metadata": {},
   "outputs": [],
   "source": [
    "np.random.shuffle(x)"
   ]
  },
  {
   "cell_type": "code",
   "execution_count": 99,
   "id": "f7e58c5c-9bba-40cb-86c3-2dcce7f75a3b",
   "metadata": {},
   "outputs": [],
   "source": [
    "model = Sequential()\n",
    "model.add(Input(1))\n",
    "model.add(Dense(units=10, activation='tanh')) #unit=10는 10개짜리 층을 만든다\n",
    "model.add(Dense(units=10, activation='tanh'))\n",
    "model.add(Dense(units=1))   #아웃풋이 나오는 층 아웃풋이 1개가 나옴 아웃풋은 unit의 0.1이 나옴\n",
    "\n",
    "model.compile(optimizer='SGD', loss= 'mse', metrics='mse')"
   ]
  },
  {
   "cell_type": "code",
   "execution_count": 100,
   "id": "af5c2ac8-2a9f-4a0b-8a95-92bfee68bcd2",
   "metadata": {
    "collapsed": true,
    "jupyter": {
     "outputs_hidden": true
    },
    "tags": []
   },
   "outputs": [
    {
     "name": "stdout",
     "output_type": "stream",
     "text": [
      "Epoch 1/100\n",
      "5/5 [==============================] - 0s 1ms/step - loss: 0.1648 - mse: 0.1648\n",
      "Epoch 2/100\n",
      "5/5 [==============================] - 0s 748us/step - loss: 0.1350 - mse: 0.1350\n",
      "Epoch 3/100\n",
      "5/5 [==============================] - 0s 997us/step - loss: 0.1163 - mse: 0.1163\n",
      "Epoch 4/100\n",
      "5/5 [==============================] - 0s 997us/step - loss: 0.1059 - mse: 0.1059\n",
      "Epoch 5/100\n",
      "5/5 [==============================] - 0s 746us/step - loss: 0.0985 - mse: 0.0985\n",
      "Epoch 6/100\n",
      "5/5 [==============================] - 0s 748us/step - loss: 0.0952 - mse: 0.0952\n",
      "Epoch 7/100\n",
      "5/5 [==============================] - 0s 997us/step - loss: 0.0929 - mse: 0.0929\n",
      "Epoch 8/100\n",
      "5/5 [==============================] - 0s 998us/step - loss: 0.0911 - mse: 0.0911\n",
      "Epoch 9/100\n",
      "5/5 [==============================] - 0s 998us/step - loss: 0.0897 - mse: 0.0897\n",
      "Epoch 10/100\n",
      "5/5 [==============================] - 0s 748us/step - loss: 0.0886 - mse: 0.0886\n",
      "Epoch 11/100\n",
      "5/5 [==============================] - 0s 748us/step - loss: 0.0885 - mse: 0.0885\n",
      "Epoch 12/100\n",
      "5/5 [==============================] - 0s 997us/step - loss: 0.0878 - mse: 0.0878\n",
      "Epoch 13/100\n",
      "5/5 [==============================] - 0s 748us/step - loss: 0.0878 - mse: 0.0878\n",
      "Epoch 14/100\n",
      "5/5 [==============================] - 0s 997us/step - loss: 0.0870 - mse: 0.0870\n",
      "Epoch 15/100\n",
      "5/5 [==============================] - 0s 997us/step - loss: 0.0869 - mse: 0.0869\n",
      "Epoch 16/100\n",
      "5/5 [==============================] - 0s 748us/step - loss: 0.0866 - mse: 0.0866\n",
      "Epoch 17/100\n",
      "5/5 [==============================] - 0s 1ms/step - loss: 0.0863 - mse: 0.0863\n",
      "Epoch 18/100\n",
      "5/5 [==============================] - 0s 997us/step - loss: 0.0861 - mse: 0.0861\n",
      "Epoch 19/100\n",
      "5/5 [==============================] - 0s 994us/step - loss: 0.0859 - mse: 0.0859\n",
      "Epoch 20/100\n",
      "5/5 [==============================] - 0s 1ms/step - loss: 0.0858 - mse: 0.0858\n",
      "Epoch 21/100\n",
      "5/5 [==============================] - 0s 749us/step - loss: 0.0863 - mse: 0.0863\n",
      "Epoch 22/100\n",
      "5/5 [==============================] - 0s 998us/step - loss: 0.0853 - mse: 0.0853\n",
      "Epoch 23/100\n",
      "5/5 [==============================] - 0s 998us/step - loss: 0.0850 - mse: 0.0850\n",
      "Epoch 24/100\n",
      "5/5 [==============================] - 0s 1ms/step - loss: 0.0852 - mse: 0.0852\n",
      "Epoch 25/100\n",
      "5/5 [==============================] - 0s 997us/step - loss: 0.0848 - mse: 0.0848\n",
      "Epoch 26/100\n",
      "5/5 [==============================] - 0s 748us/step - loss: 0.0844 - mse: 0.0844\n",
      "Epoch 27/100\n",
      "5/5 [==============================] - 0s 998us/step - loss: 0.0840 - mse: 0.0840\n",
      "Epoch 28/100\n",
      "5/5 [==============================] - 0s 997us/step - loss: 0.0840 - mse: 0.0840\n",
      "Epoch 29/100\n",
      "5/5 [==============================] - 0s 997us/step - loss: 0.0839 - mse: 0.0839\n",
      "Epoch 30/100\n",
      "5/5 [==============================] - 0s 748us/step - loss: 0.0835 - mse: 0.0835\n",
      "Epoch 31/100\n",
      "5/5 [==============================] - 0s 748us/step - loss: 0.0837 - mse: 0.0837\n",
      "Epoch 32/100\n",
      "5/5 [==============================] - 0s 748us/step - loss: 0.0833 - mse: 0.0833\n",
      "Epoch 33/100\n",
      "5/5 [==============================] - 0s 996us/step - loss: 0.0829 - mse: 0.0829\n",
      "Epoch 34/100\n",
      "5/5 [==============================] - 0s 748us/step - loss: 0.0828 - mse: 0.0828\n",
      "Epoch 35/100\n",
      "5/5 [==============================] - 0s 748us/step - loss: 0.0826 - mse: 0.0826\n",
      "Epoch 36/100\n",
      "5/5 [==============================] - 0s 748us/step - loss: 0.0824 - mse: 0.0824\n",
      "Epoch 37/100\n",
      "5/5 [==============================] - 0s 997us/step - loss: 0.0821 - mse: 0.0821\n",
      "Epoch 38/100\n",
      "5/5 [==============================] - 0s 748us/step - loss: 0.0819 - mse: 0.0819\n",
      "Epoch 39/100\n",
      "5/5 [==============================] - 0s 748us/step - loss: 0.0817 - mse: 0.0817\n",
      "Epoch 40/100\n",
      "5/5 [==============================] - 0s 748us/step - loss: 0.0816 - mse: 0.0816\n",
      "Epoch 41/100\n",
      "5/5 [==============================] - 0s 748us/step - loss: 0.0814 - mse: 0.0814\n",
      "Epoch 42/100\n",
      "5/5 [==============================] - 0s 997us/step - loss: 0.0817 - mse: 0.0817\n",
      "Epoch 43/100\n",
      "5/5 [==============================] - 0s 997us/step - loss: 0.0809 - mse: 0.0809\n",
      "Epoch 44/100\n",
      "5/5 [==============================] - 0s 748us/step - loss: 0.0807 - mse: 0.0807\n",
      "Epoch 45/100\n",
      "5/5 [==============================] - 0s 748us/step - loss: 0.0807 - mse: 0.0807\n",
      "Epoch 46/100\n",
      "5/5 [==============================] - 0s 997us/step - loss: 0.0804 - mse: 0.0804\n",
      "Epoch 47/100\n",
      "5/5 [==============================] - 0s 748us/step - loss: 0.0802 - mse: 0.0802\n",
      "Epoch 48/100\n",
      "5/5 [==============================] - 0s 744us/step - loss: 0.0799 - mse: 0.0799\n",
      "Epoch 49/100\n",
      "5/5 [==============================] - 0s 997us/step - loss: 0.0797 - mse: 0.0797\n",
      "Epoch 50/100\n",
      "5/5 [==============================] - 0s 997us/step - loss: 0.0797 - mse: 0.0797\n",
      "Epoch 51/100\n",
      "5/5 [==============================] - 0s 748us/step - loss: 0.0794 - mse: 0.0794\n",
      "Epoch 52/100\n",
      "5/5 [==============================] - 0s 748us/step - loss: 0.0790 - mse: 0.0790\n",
      "Epoch 53/100\n",
      "5/5 [==============================] - 0s 750us/step - loss: 0.0788 - mse: 0.0788\n",
      "Epoch 54/100\n",
      "5/5 [==============================] - 0s 748us/step - loss: 0.0787 - mse: 0.0787\n",
      "Epoch 55/100\n",
      "5/5 [==============================] - 0s 748us/step - loss: 0.0783 - mse: 0.0783\n",
      "Epoch 56/100\n",
      "5/5 [==============================] - 0s 997us/step - loss: 0.0782 - mse: 0.0782\n",
      "Epoch 57/100\n",
      "5/5 [==============================] - 0s 997us/step - loss: 0.0780 - mse: 0.0780\n",
      "Epoch 58/100\n",
      "5/5 [==============================] - 0s 748us/step - loss: 0.0777 - mse: 0.0777\n",
      "Epoch 59/100\n",
      "5/5 [==============================] - 0s 748us/step - loss: 0.0777 - mse: 0.0777\n",
      "Epoch 60/100\n",
      "5/5 [==============================] - 0s 748us/step - loss: 0.0772 - mse: 0.0772\n",
      "Epoch 61/100\n",
      "5/5 [==============================] - 0s 998us/step - loss: 0.0773 - mse: 0.0773\n",
      "Epoch 62/100\n",
      "5/5 [==============================] - 0s 998us/step - loss: 0.0772 - mse: 0.0772\n",
      "Epoch 63/100\n",
      "5/5 [==============================] - 0s 748us/step - loss: 0.0768 - mse: 0.0768\n",
      "Epoch 64/100\n",
      "5/5 [==============================] - 0s 997us/step - loss: 0.0766 - mse: 0.0766\n",
      "Epoch 65/100\n",
      "5/5 [==============================] - 0s 998us/step - loss: 0.0764 - mse: 0.0764\n",
      "Epoch 66/100\n",
      "5/5 [==============================] - 0s 748us/step - loss: 0.0762 - mse: 0.0762\n",
      "Epoch 67/100\n",
      "5/5 [==============================] - 0s 997us/step - loss: 0.0760 - mse: 0.0760\n",
      "Epoch 68/100\n",
      "5/5 [==============================] - 0s 744us/step - loss: 0.0757 - mse: 0.0757\n",
      "Epoch 69/100\n",
      "5/5 [==============================] - 0s 997us/step - loss: 0.0756 - mse: 0.0756\n",
      "Epoch 70/100\n",
      "5/5 [==============================] - 0s 998us/step - loss: 0.0752 - mse: 0.0752\n",
      "Epoch 71/100\n",
      "5/5 [==============================] - 0s 997us/step - loss: 0.0751 - mse: 0.0751\n",
      "Epoch 72/100\n",
      "5/5 [==============================] - 0s 748us/step - loss: 0.0748 - mse: 0.0748\n",
      "Epoch 73/100\n",
      "5/5 [==============================] - 0s 748us/step - loss: 0.0746 - mse: 0.0746\n",
      "Epoch 74/100\n",
      "5/5 [==============================] - 0s 748us/step - loss: 0.0741 - mse: 0.0741\n",
      "Epoch 75/100\n",
      "5/5 [==============================] - 0s 997us/step - loss: 0.0740 - mse: 0.0740\n",
      "Epoch 76/100\n",
      "5/5 [==============================] - 0s 1ms/step - loss: 0.0737 - mse: 0.0737\n",
      "Epoch 77/100\n",
      "5/5 [==============================] - 0s 999us/step - loss: 0.0737 - mse: 0.0737\n",
      "Epoch 78/100\n",
      "5/5 [==============================] - 0s 997us/step - loss: 0.0738 - mse: 0.0738\n",
      "Epoch 79/100\n",
      "5/5 [==============================] - 0s 997us/step - loss: 0.0734 - mse: 0.0734\n",
      "Epoch 80/100\n",
      "5/5 [==============================] - 0s 748us/step - loss: 0.0733 - mse: 0.0733\n",
      "Epoch 81/100\n",
      "5/5 [==============================] - 0s 997us/step - loss: 0.0729 - mse: 0.0729\n",
      "Epoch 82/100\n",
      "5/5 [==============================] - 0s 997us/step - loss: 0.0723 - mse: 0.0723\n",
      "Epoch 83/100\n",
      "5/5 [==============================] - 0s 748us/step - loss: 0.0724 - mse: 0.0724\n",
      "Epoch 84/100\n",
      "5/5 [==============================] - 0s 997us/step - loss: 0.0720 - mse: 0.0720\n",
      "Epoch 85/100\n",
      "5/5 [==============================] - 0s 748us/step - loss: 0.0722 - mse: 0.0722\n",
      "Epoch 86/100\n",
      "5/5 [==============================] - 0s 748us/step - loss: 0.0714 - mse: 0.0714\n",
      "Epoch 87/100\n",
      "5/5 [==============================] - 0s 997us/step - loss: 0.0713 - mse: 0.0713\n",
      "Epoch 88/100\n",
      "5/5 [==============================] - 0s 997us/step - loss: 0.0713 - mse: 0.0713\n",
      "Epoch 89/100\n",
      "5/5 [==============================] - 0s 998us/step - loss: 0.0716 - mse: 0.0716\n",
      "Epoch 90/100\n",
      "5/5 [==============================] - 0s 748us/step - loss: 0.0708 - mse: 0.0708\n",
      "Epoch 91/100\n",
      "5/5 [==============================] - 0s 748us/step - loss: 0.0705 - mse: 0.0705\n",
      "Epoch 92/100\n",
      "5/5 [==============================] - 0s 997us/step - loss: 0.0707 - mse: 0.0707\n",
      "Epoch 93/100\n",
      "5/5 [==============================] - 0s 997us/step - loss: 0.0699 - mse: 0.0699\n",
      "Epoch 94/100\n",
      "5/5 [==============================] - 0s 748us/step - loss: 0.0698 - mse: 0.0698\n",
      "Epoch 95/100\n",
      "5/5 [==============================] - 0s 997us/step - loss: 0.0694 - mse: 0.0694\n",
      "Epoch 96/100\n",
      "5/5 [==============================] - 0s 748us/step - loss: 0.0698 - mse: 0.0698\n",
      "Epoch 97/100\n",
      "5/5 [==============================] - 0s 742us/step - loss: 0.0689 - mse: 0.0689\n",
      "Epoch 98/100\n",
      "5/5 [==============================] - 0s 748us/step - loss: 0.0686 - mse: 0.0686\n",
      "Epoch 99/100\n",
      "5/5 [==============================] - 0s 748us/step - loss: 0.0686 - mse: 0.0686\n",
      "Epoch 100/100\n",
      "5/5 [==============================] - 0s 744us/step - loss: 0.0682 - mse: 0.0682\n"
     ]
    },
    {
     "data": {
      "text/plain": [
       "<keras.callbacks.History at 0x1a3b8c84520>"
      ]
     },
     "execution_count": 100,
     "metadata": {},
     "output_type": "execute_result"
    }
   ],
   "source": [
    "# 학습\n",
    "model.fit(x[:70],x[:70]**2, epochs=100, verbose=1, batch_size=16)\n",
    "#model.fit(x[:70],x[:70]**2, epochs=100, verbose=0, batch_size=16)"
   ]
  },
  {
   "cell_type": "code",
   "execution_count": 101,
   "id": "96e64ad2-08c7-4395-b7d3-b5929e8dbef1",
   "metadata": {
    "collapsed": true,
    "jupyter": {
     "outputs_hidden": true
    },
    "tags": []
   },
   "outputs": [
    {
     "name": "stdout",
     "output_type": "stream",
     "text": [
      "1/1 [==============================] - 0s 42ms/step\n"
     ]
    },
    {
     "data": {
      "text/plain": [
       "array([[0.33953   ],\n",
       "       [0.28703484],\n",
       "       [0.34429315],\n",
       "       [0.2517339 ],\n",
       "       [0.27725533],\n",
       "       [0.27294824],\n",
       "       [0.2904681 ],\n",
       "       [0.32098198],\n",
       "       [0.3220976 ],\n",
       "       [0.28343165],\n",
       "       [0.3114984 ],\n",
       "       [0.25855798],\n",
       "       [0.24865304],\n",
       "       [0.29343486],\n",
       "       [0.27969262],\n",
       "       [0.32546678],\n",
       "       [0.301736  ],\n",
       "       [0.27624083],\n",
       "       [0.32279375],\n",
       "       [0.24881609],\n",
       "       [0.32241458],\n",
       "       [0.3225972 ],\n",
       "       [0.3075043 ],\n",
       "       [0.29907656],\n",
       "       [0.2865475 ],\n",
       "       [0.37324923],\n",
       "       [0.32294893],\n",
       "       [0.38774616],\n",
       "       [0.31309557],\n",
       "       [0.3829241 ]], dtype=float32)"
      ]
     },
     "execution_count": 101,
     "metadata": {},
     "output_type": "execute_result"
    }
   ],
   "source": [
    "# 예측값\n",
    "preds = model.predict(x[70:])\n",
    "preds"
   ]
  },
  {
   "cell_type": "code",
   "execution_count": 102,
   "id": "1b4bae01-77aa-4c85-a1a6-74661d2cb41b",
   "metadata": {
    "tags": []
   },
   "outputs": [
    {
     "data": {
      "text/plain": [
       "array([5.73921028e-01, 2.65381084e-01, 6.04938272e-01, 2.55076013e-03,\n",
       "       2.94867871e-02, 1.88654219e-01, 1.00000000e+00, 2.86603408e-01,\n",
       "       4.58014488e-01, 4.49954086e-02, 1.71513111e-01, 9.18273646e-04,\n",
       "       2.29568411e-02, 9.60004081e-01, 2.25385165e-01, 4.85766758e-01,\n",
       "       8.44913784e-01, 2.06611570e-01, 3.55167840e-01, 2.94867871e-02,\n",
       "       3.31496786e-01, 4.31078461e-01, 3.79655137e-01, 8.82460973e-01,\n",
       "       5.39740843e-02, 8.08182838e-01, 3.79655137e-01, 9.20824406e-01,\n",
       "       6.69421488e-01, 8.82460973e-01])"
      ]
     },
     "execution_count": 102,
     "metadata": {},
     "output_type": "execute_result"
    }
   ],
   "source": [
    "# 실제값\n",
    "x[70:]**2"
   ]
  },
  {
   "cell_type": "code",
   "execution_count": 103,
   "id": "88fb5308-131c-4ca5-b873-42c44db47841",
   "metadata": {},
   "outputs": [
    {
     "data": {
      "text/plain": [
       "247.49890143854162"
      ]
     },
     "execution_count": 103,
     "metadata": {},
     "output_type": "execute_result"
    }
   ],
   "source": [
    "#예측값과 실제값이 잘 맞았는지 판단 (예측-실제)를 절대값으로 바꾼 후 더해줌\n",
    "np.sum(np.abs(preds - x[70:]**2))"
   ]
  },
  {
   "cell_type": "code",
   "execution_count": 104,
   "id": "99713aed-3735-41bc-b9bd-150768b1fee3",
   "metadata": {
    "tags": []
   },
   "outputs": [
    {
     "data": {
      "text/plain": [
       "<matplotlib.collections.PathCollection at 0x1a3b8d2d6a0>"
      ]
     },
     "execution_count": 104,
     "metadata": {},
     "output_type": "execute_result"
    },
    {
     "data": {
      "image/png": "[encoded data removed]",
      "text/plain": [
       "<Figure size 360x288 with 1 Axes>"
      ]
     },
     "metadata": {
      "needs_background": "light"
     },
     "output_type": "display_data"
    }
   ],
   "source": [
    "#preds를 그리기\n",
    "plt.scatter(x[70:], x[70:]**2)\n",
    "plt.scatter(x[70:], preds)"
   ]
  },
  {
   "cell_type": "code",
   "execution_count": 105,
   "id": "bed07023-8a03-4df4-8ad7-61eb7bd659ab",
   "metadata": {},
   "outputs": [
    {
     "data": {
      "text/plain": [
       "<matplotlib.collections.PathCollection at 0x1a3b9e5dac0>"
      ]
     },
     "execution_count": 105,
     "metadata": {},
     "output_type": "execute_result"
    },
    {
     "data": {
      "image/png": "[encoded data removed]",
      "text/plain": [
       "<Figure size 360x288 with 1 Axes>"
      ]
     },
     "metadata": {
      "needs_background": "light"
     },
     "output_type": "display_data"
    }
   ],
   "source": [
    "plt.scatter(x[70:], preds)"
   ]
  },
  {
   "cell_type": "code",
   "execution_count": null,
   "id": "f9208732-4e5d-4c12-ba01-c694f4754490",
   "metadata": {},
   "outputs": [],
   "source": [
    "------------------------------------------------"
   ]
  },
  {
   "cell_type": "code",
   "execution_count": null,
   "id": "d263ecf8-c684-4789-8d0e-b8dec16576ea",
   "metadata": {},
   "outputs": [],
   "source": []
  },
  {
   "cell_type": "markdown",
   "id": "e1e0aa20-7381-444d-9504-f985c0cc5567",
   "metadata": {},
   "source": [
    "# 다시 해보기"
   ]
  },
  {
   "cell_type": "code",
   "execution_count": 161,
   "id": "cbe14987-a084-4d6d-9c45-0f2f370b1086",
   "metadata": {},
   "outputs": [
    {
     "name": "stdout",
     "output_type": "stream",
     "text": [
      "7/7 [==============================] - 0s 835us/step\n"
     ]
    },
    {
     "data": {
      "text/plain": [
       "<matplotlib.collections.PathCollection at 0x1a3d904b610>"
      ]
     },
     "execution_count": 161,
     "metadata": {},
     "output_type": "execute_result"
    },
    {
     "data": {
      "image/png": "[encoded data removed]",
      "text/plain": [
       "<Figure size 360x288 with 1 Axes>"
      ]
     },
     "metadata": {
      "needs_background": "light"
     },
     "output_type": "display_data"
    }
   ],
   "source": [
    "# 최소코드\n",
    "x= np.linspace(-1, 1, 1000)\n",
    "\n",
    "np.random.shuffle(x)\n",
    "\n",
    "model = Sequential([\n",
    "                    Dense(units=10, activation='tanh', input_dim=1),\n",
    "                    Dense(units=10, activation='tanh'),\n",
    "                    Dense(units=1) ] )\n",
    "\n",
    "model.compile(optimizer='SGD', loss ='mse', metrics = 'mse')\n",
    "\n",
    "n=800\n",
    "model.fit(x[:n], x[:n]**2, epochs=100, verbose=0, batch_size=32)\n",
    "\n",
    "preds = model.predict(x[n:])\n",
    "\n",
    "plt.scatter(x[n:], x[n:]**2)\n",
    "plt.scatter(x[n:], preds)"
   ]
  },
  {
   "cell_type": "code",
   "execution_count": 166,
   "id": "dc63d1b8-5a76-48a5-b256-ec7f648ba482",
   "metadata": {},
   "outputs": [],
   "source": [
    "x= np.linspace(-1, 1, 1000)\n",
    "\n",
    "np.random.shuffle(x) "
   ]
  },
  {
   "cell_type": "code",
   "execution_count": 167,
   "id": "b6d66996-da67-44ca-a2dd-c965b1020b5d",
   "metadata": {},
   "outputs": [],
   "source": [
    "y1= x**2+ x*3+1\n",
    "y2 = x*2+3"
   ]
  },
  {
   "cell_type": "code",
   "execution_count": 175,
   "id": "e110eac6-794e-4ab0-86f1-36ddd215a43c",
   "metadata": {},
   "outputs": [],
   "source": [
    "y1= y1.reshape(1000,1)\n",
    "y2= y2.reshape(1000,1)"
   ]
  },
  {
   "cell_type": "code",
   "execution_count": 178,
   "id": "56562063-d434-49aa-a49a-07d3af3a8c6b",
   "metadata": {},
   "outputs": [
    {
     "data": {
      "text/plain": [
       "array([[ 4.03907912,  4.5995996 ],\n",
       "       [-0.35423912,  1.89289289],\n",
       "       [ 4.46157369,  4.77977978],\n",
       "       ...,\n",
       "       [-0.49940932,  1.73273273],\n",
       "       [ 1.64408553,  3.4024024 ],\n",
       "       [ 2.71603836,  3.98298298]])"
      ]
     },
     "execution_count": 178,
     "metadata": {},
     "output_type": "execute_result"
    }
   ],
   "source": [
    "np.concatenate((y1, y2), axis=1)"
   ]
  },
  {
   "cell_type": "code",
   "execution_count": 185,
   "id": "0b5c70bc-ca7c-4ac7-9316-945b5299b2d3",
   "metadata": {},
   "outputs": [
    {
     "data": {
      "text/plain": [
       "array([[0., 0.],\n",
       "       [0., 0.],\n",
       "       [0., 0.]])"
      ]
     },
     "execution_count": 185,
     "metadata": {},
     "output_type": "execute_result"
    }
   ],
   "source": [
    "# 또는 \n",
    "y = np.zeros(shape= (1000,2))\n",
    "y[:3]"
   ]
  },
  {
   "cell_type": "code",
   "execution_count": 189,
   "id": "d74e2f07-8d3a-4a0d-a19e-2b1e7f15eff2",
   "metadata": {},
   "outputs": [
    {
     "data": {
      "text/plain": [
       "array([[ 4.03907912,  4.5995996 ],\n",
       "       [-0.35423912,  1.89289289],\n",
       "       [ 4.46157369,  4.77977978]])"
      ]
     },
     "execution_count": 189,
     "metadata": {},
     "output_type": "execute_result"
    }
   ],
   "source": [
    "y[:, 0] = x**2+ x*3+1\n",
    "y[:, 1] = x*2+3\n",
    "y[:3]"
   ]
  },
  {
   "cell_type": "code",
   "execution_count": 191,
   "id": "d41fa364-d777-4754-b8ee-a3d7035abcbf",
   "metadata": {},
   "outputs": [
    {
     "data": {
      "text/plain": [
       "array([[ 4.03907912,  4.5995996 ],\n",
       "       [-0.35423912,  1.89289289],\n",
       "       [ 4.46157369,  4.77977978],\n",
       "       ...,\n",
       "       [-0.49940932,  1.73273273],\n",
       "       [ 1.64408553,  3.4024024 ],\n",
       "       [ 2.71603836,  3.98298298]])"
      ]
     },
     "execution_count": 191,
     "metadata": {},
     "output_type": "execute_result"
    }
   ],
   "source": [
    "y"
   ]
  },
  {
   "cell_type": "code",
   "execution_count": null,
   "id": "6e271408-23ee-48bf-b627-e8f336e02d57",
   "metadata": {},
   "outputs": [],
   "source": [
    "---------------------"
   ]
  },
  {
   "cell_type": "code",
   "execution_count": 231,
   "id": "877f6166-e6d4-44db-acd8-054ad8945850",
   "metadata": {},
   "outputs": [],
   "source": [
    "x1 = np.linspace(-1, 1, 100)\n",
    "x2 = np.linspace(-1, 1, 100)\n",
    "np.random.shuffle(x1)\n",
    "np.random.shuffle(x2)"
   ]
  },
  {
   "cell_type": "code",
   "execution_count": 232,
   "id": "9faefc0e-0bc4-4bd7-8d2f-b732b3d4f4af",
   "metadata": {},
   "outputs": [
    {
     "data": {
      "text/plain": [
       "array([-0.12121212,  0.90909091,  0.66666667])"
      ]
     },
     "execution_count": 232,
     "metadata": {},
     "output_type": "execute_result"
    }
   ],
   "source": [
    "y= x1 + x2\n",
    "y[:3]"
   ]
  },
  {
   "cell_type": "code",
   "execution_count": 233,
   "id": "849bd44a-099b-4292-b79e-3d4e5d4878a3",
   "metadata": {},
   "outputs": [
    {
     "data": {
      "text/plain": [
       "(100,)"
      ]
     },
     "execution_count": 233,
     "metadata": {},
     "output_type": "execute_result"
    }
   ],
   "source": [
    "x1.shape"
   ]
  },
  {
   "cell_type": "code",
   "execution_count": 241,
   "id": "6db6e728-70b6-4c3b-a06e-fc39293ca160",
   "metadata": {
    "collapsed": true,
    "jupyter": {
     "outputs_hidden": true
    },
    "tags": []
   },
   "outputs": [
    {
     "data": {
      "text/plain": [
       "array([[[[[[ 0.29292929]]]]],\n",
       "\n",
       "\n",
       "\n",
       "\n",
       "       [[[[[ 0.8989899 ]]]]],\n",
       "\n",
       "\n",
       "\n",
       "\n",
       "       [[[[[ 0.13131313]]]]],\n",
       "\n",
       "\n",
       "\n",
       "\n",
       "       [[[[[ 1.        ]]]]],\n",
       "\n",
       "\n",
       "\n",
       "\n",
       "       [[[[[ 0.33333333]]]]],\n",
       "\n",
       "\n",
       "\n",
       "\n",
       "       [[[[[ 0.5959596 ]]]]],\n",
       "\n",
       "\n",
       "\n",
       "\n",
       "       [[[[[-0.23232323]]]]],\n",
       "\n",
       "\n",
       "\n",
       "\n",
       "       [[[[[-0.47474747]]]]],\n",
       "\n",
       "\n",
       "\n",
       "\n",
       "       [[[[[-0.85858586]]]]],\n",
       "\n",
       "\n",
       "\n",
       "\n",
       "       [[[[[ 0.95959596]]]]],\n",
       "\n",
       "\n",
       "\n",
       "\n",
       "       [[[[[ 0.41414141]]]]],\n",
       "\n",
       "\n",
       "\n",
       "\n",
       "       [[[[[ 0.85858586]]]]],\n",
       "\n",
       "\n",
       "\n",
       "\n",
       "       [[[[[-0.81818182]]]]],\n",
       "\n",
       "\n",
       "\n",
       "\n",
       "       [[[[[ 0.87878788]]]]],\n",
       "\n",
       "\n",
       "\n",
       "\n",
       "       [[[[[-0.17171717]]]]],\n",
       "\n",
       "\n",
       "\n",
       "\n",
       "       [[[[[-0.53535354]]]]],\n",
       "\n",
       "\n",
       "\n",
       "\n",
       "       [[[[[-0.27272727]]]]],\n",
       "\n",
       "\n",
       "\n",
       "\n",
       "       [[[[[ 0.91919192]]]]],\n",
       "\n",
       "\n",
       "\n",
       "\n",
       "       [[[[[ 0.63636364]]]]],\n",
       "\n",
       "\n",
       "\n",
       "\n",
       "       [[[[[ 0.27272727]]]]],\n",
       "\n",
       "\n",
       "\n",
       "\n",
       "       [[[[[ 0.83838384]]]]],\n",
       "\n",
       "\n",
       "\n",
       "\n",
       "       [[[[[-0.93939394]]]]],\n",
       "\n",
       "\n",
       "\n",
       "\n",
       "       [[[[[ 0.6969697 ]]]]],\n",
       "\n",
       "\n",
       "\n",
       "\n",
       "       [[[[[-0.01010101]]]]],\n",
       "\n",
       "\n",
       "\n",
       "\n",
       "       [[[[[-0.13131313]]]]],\n",
       "\n",
       "\n",
       "\n",
       "\n",
       "       [[[[[-0.19191919]]]]],\n",
       "\n",
       "\n",
       "\n",
       "\n",
       "       [[[[[-0.5959596 ]]]]],\n",
       "\n",
       "\n",
       "\n",
       "\n",
       "       [[[[[ 0.25252525]]]]],\n",
       "\n",
       "\n",
       "\n",
       "\n",
       "       [[[[[ 0.47474747]]]]],\n",
       "\n",
       "\n",
       "\n",
       "\n",
       "       [[[[[-0.11111111]]]]],\n",
       "\n",
       "\n",
       "\n",
       "\n",
       "       [[[[[-0.29292929]]]]],\n",
       "\n",
       "\n",
       "\n",
       "\n",
       "       [[[[[-0.35353535]]]]],\n",
       "\n",
       "\n",
       "\n",
       "\n",
       "       [[[[[-0.77777778]]]]],\n",
       "\n",
       "\n",
       "\n",
       "\n",
       "       [[[[[ 0.21212121]]]]],\n",
       "\n",
       "\n",
       "\n",
       "\n",
       "       [[[[[ 0.75757576]]]]],\n",
       "\n",
       "\n",
       "\n",
       "\n",
       "       [[[[[ 0.53535354]]]]],\n",
       "\n",
       "\n",
       "\n",
       "\n",
       "       [[[[[-0.07070707]]]]],\n",
       "\n",
       "\n",
       "\n",
       "\n",
       "       [[[[[ 0.77777778]]]]],\n",
       "\n",
       "\n",
       "\n",
       "\n",
       "       [[[[[-0.09090909]]]]],\n",
       "\n",
       "\n",
       "\n",
       "\n",
       "       [[[[[ 0.19191919]]]]],\n",
       "\n",
       "\n",
       "\n",
       "\n",
       "       [[[[[-0.63636364]]]]],\n",
       "\n",
       "\n",
       "\n",
       "\n",
       "       [[[[[-0.67676768]]]]],\n",
       "\n",
       "\n",
       "\n",
       "\n",
       "       [[[[[ 0.97979798]]]]],\n",
       "\n",
       "\n",
       "\n",
       "\n",
       "       [[[[[-0.39393939]]]]],\n",
       "\n",
       "\n",
       "\n",
       "\n",
       "       [[[[[-0.71717172]]]]],\n",
       "\n",
       "\n",
       "\n",
       "\n",
       "       [[[[[ 0.03030303]]]]],\n",
       "\n",
       "\n",
       "\n",
       "\n",
       "       [[[[[ 0.73737374]]]]],\n",
       "\n",
       "\n",
       "\n",
       "\n",
       "       [[[[[ 0.37373737]]]]],\n",
       "\n",
       "\n",
       "\n",
       "\n",
       "       [[[[[-0.43434343]]]]],\n",
       "\n",
       "\n",
       "\n",
       "\n",
       "       [[[[[ 0.07070707]]]]],\n",
       "\n",
       "\n",
       "\n",
       "\n",
       "       [[[[[ 0.71717172]]]]],\n",
       "\n",
       "\n",
       "\n",
       "\n",
       "       [[[[[ 0.61616162]]]]],\n",
       "\n",
       "\n",
       "\n",
       "\n",
       "       [[[[[ 0.35353535]]]]],\n",
       "\n",
       "\n",
       "\n",
       "\n",
       "       [[[[[ 0.51515152]]]]],\n",
       "\n",
       "\n",
       "\n",
       "\n",
       "       [[[[[-0.97979798]]]]],\n",
       "\n",
       "\n",
       "\n",
       "\n",
       "       [[[[[-0.49494949]]]]],\n",
       "\n",
       "\n",
       "\n",
       "\n",
       "       [[[[[-0.03030303]]]]],\n",
       "\n",
       "\n",
       "\n",
       "\n",
       "       [[[[[-0.75757576]]]]],\n",
       "\n",
       "\n",
       "\n",
       "\n",
       "       [[[[[-0.91919192]]]]],\n",
       "\n",
       "\n",
       "\n",
       "\n",
       "       [[[[[ 0.49494949]]]]],\n",
       "\n",
       "\n",
       "\n",
       "\n",
       "       [[[[[-0.31313131]]]]],\n",
       "\n",
       "\n",
       "\n",
       "\n",
       "       [[[[[-0.45454545]]]]],\n",
       "\n",
       "\n",
       "\n",
       "\n",
       "       [[[[[ 0.81818182]]]]],\n",
       "\n",
       "\n",
       "\n",
       "\n",
       "       [[[[[ 0.11111111]]]]],\n",
       "\n",
       "\n",
       "\n",
       "\n",
       "       [[[[[-0.15151515]]]]],\n",
       "\n",
       "\n",
       "\n",
       "\n",
       "       [[[[[-0.33333333]]]]],\n",
       "\n",
       "\n",
       "\n",
       "\n",
       "       [[[[[-0.57575758]]]]],\n",
       "\n",
       "\n",
       "\n",
       "\n",
       "       [[[[[ 0.05050505]]]]],\n",
       "\n",
       "\n",
       "\n",
       "\n",
       "       [[[[[ 0.7979798 ]]]]],\n",
       "\n",
       "\n",
       "\n",
       "\n",
       "       [[[[[ 0.43434343]]]]],\n",
       "\n",
       "\n",
       "\n",
       "\n",
       "       [[[[[-1.        ]]]]],\n",
       "\n",
       "\n",
       "\n",
       "\n",
       "       [[[[[ 0.23232323]]]]],\n",
       "\n",
       "\n",
       "\n",
       "\n",
       "       [[[[[ 0.67676768]]]]],\n",
       "\n",
       "\n",
       "\n",
       "\n",
       "       [[[[[ 0.17171717]]]]],\n",
       "\n",
       "\n",
       "\n",
       "\n",
       "       [[[[[-0.21212121]]]]],\n",
       "\n",
       "\n",
       "\n",
       "\n",
       "       [[[[[ 0.15151515]]]]],\n",
       "\n",
       "\n",
       "\n",
       "\n",
       "       [[[[[-0.61616162]]]]],\n",
       "\n",
       "\n",
       "\n",
       "\n",
       "       [[[[[-0.37373737]]]]],\n",
       "\n",
       "\n",
       "\n",
       "\n",
       "       [[[[[ 0.39393939]]]]],\n",
       "\n",
       "\n",
       "\n",
       "\n",
       "       [[[[[-0.55555556]]]]],\n",
       "\n",
       "\n",
       "\n",
       "\n",
       "       [[[[[ 0.31313131]]]]],\n",
       "\n",
       "\n",
       "\n",
       "\n",
       "       [[[[[-0.7979798 ]]]]],\n",
       "\n",
       "\n",
       "\n",
       "\n",
       "       [[[[[-0.73737374]]]]],\n",
       "\n",
       "\n",
       "\n",
       "\n",
       "       [[[[[ 0.57575758]]]]],\n",
       "\n",
       "\n",
       "\n",
       "\n",
       "       [[[[[-0.51515152]]]]],\n",
       "\n",
       "\n",
       "\n",
       "\n",
       "       [[[[[ 0.65656566]]]]],\n",
       "\n",
       "\n",
       "\n",
       "\n",
       "       [[[[[-0.65656566]]]]],\n",
       "\n",
       "\n",
       "\n",
       "\n",
       "       [[[[[ 0.55555556]]]]],\n",
       "\n",
       "\n",
       "\n",
       "\n",
       "       [[[[[-0.95959596]]]]],\n",
       "\n",
       "\n",
       "\n",
       "\n",
       "       [[[[[ 0.93939394]]]]],\n",
       "\n",
       "\n",
       "\n",
       "\n",
       "       [[[[[-0.25252525]]]]],\n",
       "\n",
       "\n",
       "\n",
       "\n",
       "       [[[[[-0.83838384]]]]],\n",
       "\n",
       "\n",
       "\n",
       "\n",
       "       [[[[[-0.05050505]]]]],\n",
       "\n",
       "\n",
       "\n",
       "\n",
       "       [[[[[-0.6969697 ]]]]],\n",
       "\n",
       "\n",
       "\n",
       "\n",
       "       [[[[[-0.87878788]]]]],\n",
       "\n",
       "\n",
       "\n",
       "\n",
       "       [[[[[-0.41414141]]]]],\n",
       "\n",
       "\n",
       "\n",
       "\n",
       "       [[[[[ 0.45454545]]]]],\n",
       "\n",
       "\n",
       "\n",
       "\n",
       "       [[[[[ 0.01010101]]]]],\n",
       "\n",
       "\n",
       "\n",
       "\n",
       "       [[[[[ 0.09090909]]]]],\n",
       "\n",
       "\n",
       "\n",
       "\n",
       "       [[[[[-0.8989899 ]]]]]])"
      ]
     },
     "execution_count": 241,
     "metadata": {},
     "output_type": "execute_result"
    }
   ],
   "source": [
    "x1 = x1[:, np.newaxis]\n",
    "x1"
   ]
  },
  {
   "cell_type": "code",
   "execution_count": 242,
   "id": "3ba3ec92-2d35-46fd-81f8-0d85c513f6cf",
   "metadata": {
    "collapsed": true,
    "jupyter": {
     "outputs_hidden": true
    },
    "tags": []
   },
   "outputs": [
    {
     "data": {
      "text/plain": [
       "array([[[-0.41414141]],\n",
       "\n",
       "       [[ 0.01010101]],\n",
       "\n",
       "       [[ 0.53535354]],\n",
       "\n",
       "       [[-0.73737374]],\n",
       "\n",
       "       [[ 0.41414141]],\n",
       "\n",
       "       [[ 0.19191919]],\n",
       "\n",
       "       [[-0.47474747]],\n",
       "\n",
       "       [[-0.87878788]],\n",
       "\n",
       "       [[-0.97979798]],\n",
       "\n",
       "       [[ 0.33333333]],\n",
       "\n",
       "       [[-0.19191919]],\n",
       "\n",
       "       [[-0.75757576]],\n",
       "\n",
       "       [[ 0.15151515]],\n",
       "\n",
       "       [[ 0.39393939]],\n",
       "\n",
       "       [[-0.03030303]],\n",
       "\n",
       "       [[-0.45454545]],\n",
       "\n",
       "       [[-0.15151515]],\n",
       "\n",
       "       [[ 0.77777778]],\n",
       "\n",
       "       [[-0.7979798 ]],\n",
       "\n",
       "       [[-0.35353535]],\n",
       "\n",
       "       [[ 0.09090909]],\n",
       "\n",
       "       [[ 0.57575758]],\n",
       "\n",
       "       [[ 0.51515152]],\n",
       "\n",
       "       [[-1.        ]],\n",
       "\n",
       "       [[-0.53535354]],\n",
       "\n",
       "       [[-0.33333333]],\n",
       "\n",
       "       [[-0.5959596 ]],\n",
       "\n",
       "       [[-0.27272727]],\n",
       "\n",
       "       [[ 0.63636364]],\n",
       "\n",
       "       [[-0.71717172]],\n",
       "\n",
       "       [[ 0.11111111]],\n",
       "\n",
       "       [[-0.21212121]],\n",
       "\n",
       "       [[-0.61616162]],\n",
       "\n",
       "       [[ 0.67676768]],\n",
       "\n",
       "       [[ 0.73737374]],\n",
       "\n",
       "       [[ 0.75757576]],\n",
       "\n",
       "       [[-0.39393939]],\n",
       "\n",
       "       [[ 0.23232323]],\n",
       "\n",
       "       [[-0.6969697 ]],\n",
       "\n",
       "       [[-0.49494949]],\n",
       "\n",
       "       [[-0.8989899 ]],\n",
       "\n",
       "       [[-0.77777778]],\n",
       "\n",
       "       [[-0.83838384]],\n",
       "\n",
       "       [[ 0.07070707]],\n",
       "\n",
       "       [[ 0.13131313]],\n",
       "\n",
       "       [[-0.65656566]],\n",
       "\n",
       "       [[-0.85858586]],\n",
       "\n",
       "       [[-0.57575758]],\n",
       "\n",
       "       [[-0.29292929]],\n",
       "\n",
       "       [[ 0.35353535]],\n",
       "\n",
       "       [[ 0.65656566]],\n",
       "\n",
       "       [[ 0.97979798]],\n",
       "\n",
       "       [[-0.81818182]],\n",
       "\n",
       "       [[ 0.47474747]],\n",
       "\n",
       "       [[-0.51515152]],\n",
       "\n",
       "       [[ 0.7979798 ]],\n",
       "\n",
       "       [[-0.05050505]],\n",
       "\n",
       "       [[-0.95959596]],\n",
       "\n",
       "       [[ 0.8989899 ]],\n",
       "\n",
       "       [[ 0.43434343]],\n",
       "\n",
       "       [[-0.01010101]],\n",
       "\n",
       "       [[ 0.21212121]],\n",
       "\n",
       "       [[ 0.17171717]],\n",
       "\n",
       "       [[-0.37373737]],\n",
       "\n",
       "       [[ 0.93939394]],\n",
       "\n",
       "       [[ 0.45454545]],\n",
       "\n",
       "       [[-0.31313131]],\n",
       "\n",
       "       [[ 0.49494949]],\n",
       "\n",
       "       [[-0.93939394]],\n",
       "\n",
       "       [[-0.13131313]],\n",
       "\n",
       "       [[ 0.05050505]],\n",
       "\n",
       "       [[ 0.61616162]],\n",
       "\n",
       "       [[ 1.        ]],\n",
       "\n",
       "       [[-0.11111111]],\n",
       "\n",
       "       [[ 0.87878788]],\n",
       "\n",
       "       [[ 0.27272727]],\n",
       "\n",
       "       [[-0.55555556]],\n",
       "\n",
       "       [[ 0.81818182]],\n",
       "\n",
       "       [[ 0.71717172]],\n",
       "\n",
       "       [[-0.25252525]],\n",
       "\n",
       "       [[-0.23232323]],\n",
       "\n",
       "       [[ 0.29292929]],\n",
       "\n",
       "       [[ 0.5959596 ]],\n",
       "\n",
       "       [[-0.91919192]],\n",
       "\n",
       "       [[ 0.25252525]],\n",
       "\n",
       "       [[-0.67676768]],\n",
       "\n",
       "       [[-0.07070707]],\n",
       "\n",
       "       [[ 0.37373737]],\n",
       "\n",
       "       [[-0.17171717]],\n",
       "\n",
       "       [[ 0.6969697 ]],\n",
       "\n",
       "       [[ 0.03030303]],\n",
       "\n",
       "       [[ 0.55555556]],\n",
       "\n",
       "       [[-0.09090909]],\n",
       "\n",
       "       [[ 0.91919192]],\n",
       "\n",
       "       [[ 0.83838384]],\n",
       "\n",
       "       [[ 0.95959596]],\n",
       "\n",
       "       [[ 0.31313131]],\n",
       "\n",
       "       [[ 0.85858586]],\n",
       "\n",
       "       [[-0.43434343]],\n",
       "\n",
       "       [[-0.63636364]]])"
      ]
     },
     "execution_count": 242,
     "metadata": {},
     "output_type": "execute_result"
    }
   ],
   "source": [
    "x2 = x2[:, np.newaxis]\n",
    "x2"
   ]
  },
  {
   "cell_type": "code",
   "execution_count": 247,
   "id": "56af5b0a-9318-4745-bd32-73b86149488e",
   "metadata": {},
   "outputs": [
    {
     "ename": "ValueError",
     "evalue": "all the input arrays must have same number of dimensions, but the array at index 0 has 6 dimension(s) and the array at index 1 has 3 dimension(s)",
     "output_type": "error",
     "traceback": [
      "\u001b[1;31m---------------------------------------------------------------------------\u001b[0m",
      "\u001b[1;31mValueError\u001b[0m                                Traceback (most recent call last)",
      "Input \u001b[1;32mIn [247]\u001b[0m, in \u001b[0;36m<cell line: 1>\u001b[1;34m()\u001b[0m\n\u001b[1;32m----> 1\u001b[0m x\u001b[38;5;241m=\u001b[39m \u001b[43mnp\u001b[49m\u001b[38;5;241;43m.\u001b[39;49m\u001b[43mconcatenate\u001b[49m\u001b[43m(\u001b[49m\u001b[43m(\u001b[49m\u001b[43mx1\u001b[49m\u001b[43m,\u001b[49m\u001b[43m \u001b[49m\u001b[43mx2\u001b[49m\u001b[43m)\u001b[49m\u001b[43m,\u001b[49m\u001b[43m \u001b[49m\u001b[43maxis\u001b[49m\u001b[38;5;241;43m=\u001b[39;49m\u001b[38;5;241;43m1\u001b[39;49m\u001b[43m)\u001b[49m\n\u001b[0;32m      2\u001b[0m x[:\u001b[38;5;241m3\u001b[39m]\n",
      "File \u001b[1;32m<__array_function__ internals>:180\u001b[0m, in \u001b[0;36mconcatenate\u001b[1;34m(*args, **kwargs)\u001b[0m\n",
      "\u001b[1;31mValueError\u001b[0m: all the input arrays must have same number of dimensions, but the array at index 0 has 6 dimension(s) and the array at index 1 has 3 dimension(s)"
     ]
    }
   ],
   "source": [
    "x= np.concatenate((x1, x2), axis=1)\n",
    "x[:3]"
   ]
  },
  {
   "cell_type": "code",
   "execution_count": 248,
   "id": "7de206d4-e5dd-470e-838e-539df30bdb23",
   "metadata": {},
   "outputs": [
    {
     "name": "stdout",
     "output_type": "stream",
     "text": [
      "29/29 [==============================] - 0s 606us/step\n"
     ]
    }
   ],
   "source": [
    "model = Sequential()\n",
    "model.add(Input(1))\n",
    "model.add(Dense(units=10, activation='tanh', input_dim=1)),\n",
    "model.add(Dense(units=10, activation='tanh')),\n",
    "model.add(Dense(units=2))\n",
    "\n",
    "model.compile(optimizer='SGD', loss ='mse', metrics = 'mse')\n",
    "\n",
    "n=80\n",
    "model.fit(x[:n], x[:n]**2, epochs=100, verbose=0, batch_size=32)\n",
    "\n",
    "preds = model.predict(x[n:])"
   ]
  },
  {
   "cell_type": "code",
   "execution_count": 249,
   "id": "62695aa7-8908-47f5-8eef-e377aab983ec",
   "metadata": {},
   "outputs": [
    {
     "data": {
      "text/plain": [
       "array([[0.329364  , 0.33146757],\n",
       "       [0.30948138, 0.2948166 ],\n",
       "       [0.35380065, 0.35383433],\n",
       "       [0.344558  , 0.34466434],\n",
       "       [0.3461333 , 0.3460895 ]], dtype=float32)"
      ]
     },
     "execution_count": 249,
     "metadata": {},
     "output_type": "execute_result"
    }
   ],
   "source": [
    "preds[:5]"
   ]
  },
  {
   "cell_type": "code",
   "execution_count": 250,
   "id": "e933f961-c152-4b88-aa64-841ec0be5c81",
   "metadata": {},
   "outputs": [
    {
     "data": {
      "text/plain": [
       "array([ 0.08080808, -0.50505051, -0.14141414, -0.34343434, -0.26262626])"
      ]
     },
     "execution_count": 250,
     "metadata": {},
     "output_type": "execute_result"
    }
   ],
   "source": [
    "y[80:85]"
   ]
  },
  {
   "cell_type": "code",
   "execution_count": 251,
   "id": "5121b738-5248-4205-93d8-d010e2329df0",
   "metadata": {
    "collapsed": true,
    "jupyter": {
     "outputs_hidden": true
    },
    "tags": []
   },
   "outputs": [
    {
     "ename": "ValueError",
     "evalue": "x and y must be the same size",
     "output_type": "error",
     "traceback": [
      "\u001b[1;31m---------------------------------------------------------------------------\u001b[0m",
      "\u001b[1;31mValueError\u001b[0m                                Traceback (most recent call last)",
      "Input \u001b[1;32mIn [251]\u001b[0m, in \u001b[0;36m<cell line: 2>\u001b[1;34m()\u001b[0m\n\u001b[0;32m      1\u001b[0m plt\u001b[38;5;241m.\u001b[39mscatter(\u001b[38;5;28mrange\u001b[39m(\u001b[38;5;241m20\u001b[39m), y[\u001b[38;5;241m80\u001b[39m:])\n\u001b[1;32m----> 2\u001b[0m \u001b[43mplt\u001b[49m\u001b[38;5;241;43m.\u001b[39;49m\u001b[43mscatter\u001b[49m\u001b[43m(\u001b[49m\u001b[38;5;28;43mrange\u001b[39;49m\u001b[43m(\u001b[49m\u001b[38;5;241;43m20\u001b[39;49m\u001b[43m)\u001b[49m\u001b[43m,\u001b[49m\u001b[43m \u001b[49m\u001b[43mpreds\u001b[49m\u001b[43m)\u001b[49m\n",
      "File \u001b[1;32m~\\anaconda3\\lib\\site-packages\\matplotlib\\pyplot.py:2807\u001b[0m, in \u001b[0;36mscatter\u001b[1;34m(x, y, s, c, marker, cmap, norm, vmin, vmax, alpha, linewidths, edgecolors, plotnonfinite, data, **kwargs)\u001b[0m\n\u001b[0;32m   2802\u001b[0m \u001b[38;5;129m@_copy_docstring_and_deprecators\u001b[39m(Axes\u001b[38;5;241m.\u001b[39mscatter)\n\u001b[0;32m   2803\u001b[0m \u001b[38;5;28;01mdef\u001b[39;00m \u001b[38;5;21mscatter\u001b[39m(\n\u001b[0;32m   2804\u001b[0m         x, y, s\u001b[38;5;241m=\u001b[39m\u001b[38;5;28;01mNone\u001b[39;00m, c\u001b[38;5;241m=\u001b[39m\u001b[38;5;28;01mNone\u001b[39;00m, marker\u001b[38;5;241m=\u001b[39m\u001b[38;5;28;01mNone\u001b[39;00m, cmap\u001b[38;5;241m=\u001b[39m\u001b[38;5;28;01mNone\u001b[39;00m, norm\u001b[38;5;241m=\u001b[39m\u001b[38;5;28;01mNone\u001b[39;00m,\n\u001b[0;32m   2805\u001b[0m         vmin\u001b[38;5;241m=\u001b[39m\u001b[38;5;28;01mNone\u001b[39;00m, vmax\u001b[38;5;241m=\u001b[39m\u001b[38;5;28;01mNone\u001b[39;00m, alpha\u001b[38;5;241m=\u001b[39m\u001b[38;5;28;01mNone\u001b[39;00m, linewidths\u001b[38;5;241m=\u001b[39m\u001b[38;5;28;01mNone\u001b[39;00m, \u001b[38;5;241m*\u001b[39m,\n\u001b[0;32m   2806\u001b[0m         edgecolors\u001b[38;5;241m=\u001b[39m\u001b[38;5;28;01mNone\u001b[39;00m, plotnonfinite\u001b[38;5;241m=\u001b[39m\u001b[38;5;28;01mFalse\u001b[39;00m, data\u001b[38;5;241m=\u001b[39m\u001b[38;5;28;01mNone\u001b[39;00m, \u001b[38;5;241m*\u001b[39m\u001b[38;5;241m*\u001b[39mkwargs):\n\u001b[1;32m-> 2807\u001b[0m     __ret \u001b[38;5;241m=\u001b[39m gca()\u001b[38;5;241m.\u001b[39mscatter(\n\u001b[0;32m   2808\u001b[0m         x, y, s\u001b[38;5;241m=\u001b[39ms, c\u001b[38;5;241m=\u001b[39mc, marker\u001b[38;5;241m=\u001b[39mmarker, cmap\u001b[38;5;241m=\u001b[39mcmap, norm\u001b[38;5;241m=\u001b[39mnorm,\n\u001b[0;32m   2809\u001b[0m         vmin\u001b[38;5;241m=\u001b[39mvmin, vmax\u001b[38;5;241m=\u001b[39mvmax, alpha\u001b[38;5;241m=\u001b[39malpha, linewidths\u001b[38;5;241m=\u001b[39mlinewidths,\n\u001b[0;32m   2810\u001b[0m         edgecolors\u001b[38;5;241m=\u001b[39medgecolors, plotnonfinite\u001b[38;5;241m=\u001b[39mplotnonfinite,\n\u001b[0;32m   2811\u001b[0m         \u001b[38;5;241m*\u001b[39m\u001b[38;5;241m*\u001b[39m({\u001b[38;5;124m\"\u001b[39m\u001b[38;5;124mdata\u001b[39m\u001b[38;5;124m\"\u001b[39m: data} \u001b[38;5;28;01mif\u001b[39;00m data \u001b[38;5;129;01mis\u001b[39;00m \u001b[38;5;129;01mnot\u001b[39;00m \u001b[38;5;28;01mNone\u001b[39;00m \u001b[38;5;28;01melse\u001b[39;00m {}), \u001b[38;5;241m*\u001b[39m\u001b[38;5;241m*\u001b[39mkwargs)\n\u001b[0;32m   2812\u001b[0m     sci(__ret)\n\u001b[0;32m   2813\u001b[0m     \u001b[38;5;28;01mreturn\u001b[39;00m __ret\n",
      "File \u001b[1;32m~\\anaconda3\\lib\\site-packages\\matplotlib\\__init__.py:1412\u001b[0m, in \u001b[0;36m_preprocess_data.<locals>.inner\u001b[1;34m(ax, data, *args, **kwargs)\u001b[0m\n\u001b[0;32m   1409\u001b[0m \u001b[38;5;129m@functools\u001b[39m\u001b[38;5;241m.\u001b[39mwraps(func)\n\u001b[0;32m   1410\u001b[0m \u001b[38;5;28;01mdef\u001b[39;00m \u001b[38;5;21minner\u001b[39m(ax, \u001b[38;5;241m*\u001b[39margs, data\u001b[38;5;241m=\u001b[39m\u001b[38;5;28;01mNone\u001b[39;00m, \u001b[38;5;241m*\u001b[39m\u001b[38;5;241m*\u001b[39mkwargs):\n\u001b[0;32m   1411\u001b[0m     \u001b[38;5;28;01mif\u001b[39;00m data \u001b[38;5;129;01mis\u001b[39;00m \u001b[38;5;28;01mNone\u001b[39;00m:\n\u001b[1;32m-> 1412\u001b[0m         \u001b[38;5;28;01mreturn\u001b[39;00m func(ax, \u001b[38;5;241m*\u001b[39m\u001b[38;5;28mmap\u001b[39m(sanitize_sequence, args), \u001b[38;5;241m*\u001b[39m\u001b[38;5;241m*\u001b[39mkwargs)\n\u001b[0;32m   1414\u001b[0m     bound \u001b[38;5;241m=\u001b[39m new_sig\u001b[38;5;241m.\u001b[39mbind(ax, \u001b[38;5;241m*\u001b[39margs, \u001b[38;5;241m*\u001b[39m\u001b[38;5;241m*\u001b[39mkwargs)\n\u001b[0;32m   1415\u001b[0m     auto_label \u001b[38;5;241m=\u001b[39m (bound\u001b[38;5;241m.\u001b[39marguments\u001b[38;5;241m.\u001b[39mget(label_namer)\n\u001b[0;32m   1416\u001b[0m                   \u001b[38;5;129;01mor\u001b[39;00m bound\u001b[38;5;241m.\u001b[39mkwargs\u001b[38;5;241m.\u001b[39mget(label_namer))\n",
      "File \u001b[1;32m~\\anaconda3\\lib\\site-packages\\matplotlib\\axes\\_axes.py:4369\u001b[0m, in \u001b[0;36mAxes.scatter\u001b[1;34m(self, x, y, s, c, marker, cmap, norm, vmin, vmax, alpha, linewidths, edgecolors, plotnonfinite, **kwargs)\u001b[0m\n\u001b[0;32m   4367\u001b[0m y \u001b[38;5;241m=\u001b[39m np\u001b[38;5;241m.\u001b[39mma\u001b[38;5;241m.\u001b[39mravel(y)\n\u001b[0;32m   4368\u001b[0m \u001b[38;5;28;01mif\u001b[39;00m x\u001b[38;5;241m.\u001b[39msize \u001b[38;5;241m!=\u001b[39m y\u001b[38;5;241m.\u001b[39msize:\n\u001b[1;32m-> 4369\u001b[0m     \u001b[38;5;28;01mraise\u001b[39;00m \u001b[38;5;167;01mValueError\u001b[39;00m(\u001b[38;5;124m\"\u001b[39m\u001b[38;5;124mx and y must be the same size\u001b[39m\u001b[38;5;124m\"\u001b[39m)\n\u001b[0;32m   4371\u001b[0m \u001b[38;5;28;01mif\u001b[39;00m s \u001b[38;5;129;01mis\u001b[39;00m \u001b[38;5;28;01mNone\u001b[39;00m:\n\u001b[0;32m   4372\u001b[0m     s \u001b[38;5;241m=\u001b[39m (\u001b[38;5;241m20\u001b[39m \u001b[38;5;28;01mif\u001b[39;00m rcParams[\u001b[38;5;124m'\u001b[39m\u001b[38;5;124m_internal.classic_mode\u001b[39m\u001b[38;5;124m'\u001b[39m] \u001b[38;5;28;01melse\u001b[39;00m\n\u001b[0;32m   4373\u001b[0m          rcParams[\u001b[38;5;124m'\u001b[39m\u001b[38;5;124mlines.markersize\u001b[39m\u001b[38;5;124m'\u001b[39m] \u001b[38;5;241m*\u001b[39m\u001b[38;5;241m*\u001b[39m \u001b[38;5;241m2.0\u001b[39m)\n",
      "\u001b[1;31mValueError\u001b[0m: x and y must be the same size"
     ]
    },
    {
     "data": {
      "image/png": "[encoded data removed]",
      "text/plain": [
       "<Figure size 360x288 with 1 Axes>"
      ]
     },
     "metadata": {
      "needs_background": "light"
     },
     "output_type": "display_data"
    }
   ],
   "source": [
    "plt.scatter(range(20), y[80:])\n",
    "plt.scatter(range(20), preds)"
   ]
  },
  {
   "cell_type": "code",
   "execution_count": null,
   "id": "f812fefb-0938-4825-8e01-2f36ad8b9f42",
   "metadata": {},
   "outputs": [],
   "source": []
  },
  {
   "cell_type": "code",
   "execution_count": null,
   "id": "2bcf2cd1-1453-4555-ad84-6b2a1bb8b261",
   "metadata": {},
   "outputs": [],
   "source": []
  },
  {
   "cell_type": "code",
   "execution_count": null,
   "id": "3468b2d0-e89b-4a6e-a92f-fc981ef3beea",
   "metadata": {},
   "outputs": [],
   "source": []
  },
  {
   "cell_type": "code",
   "execution_count": null,
   "id": "6bcc1836-f423-4899-9197-9d8050008054",
   "metadata": {},
   "outputs": [],
   "source": []
  },
  {
   "cell_type": "code",
   "execution_count": null,
   "id": "d9f87198-12e9-4044-8494-7d7fad5c6981",
   "metadata": {},
   "outputs": [],
   "source": [
    "--------------------------"
   ]
  },
  {
   "cell_type": "code",
   "execution_count": 211,
   "id": "e4be1225-706b-4bd4-b639-6fc9c59c65d9",
   "metadata": {},
   "outputs": [
    {
     "name": "stdout",
     "output_type": "stream",
     "text": [
      "29/29 [==============================] - 0s 570us/step\n"
     ]
    }
   ],
   "source": [
    "model = Sequential()\n",
    "model.add(Input(1))\n",
    "model.add(Dense(units=10, activation='tanh', input_dim=1)),\n",
    "model.add(Dense(units=10, activation='tanh')),\n",
    "model.add(Dense(units=2))\n",
    "\n",
    "model.compile(optimizer='SGD', loss ='mse', metrics = 'mse')\n",
    "\n",
    "n=80\n",
    "model.fit(x[:n], x[:n]**2, epochs=100, verbose=0, batch_size=32)\n",
    "\n",
    "preds = model.predict(x[n:])"
   ]
  },
  {
   "cell_type": "code",
   "execution_count": 212,
   "id": "313b5a04-8203-48f1-a2eb-b9e47243016a",
   "metadata": {},
   "outputs": [
    {
     "data": {
      "text/plain": [
       "array([[0.34874904, 0.33501416],\n",
       "       [0.27916378, 0.29647616],\n",
       "       [0.3471234 , 0.34818012],\n",
       "       [0.35154545, 0.34448606],\n",
       "       [0.35102347, 0.3452081 ]], dtype=float32)"
      ]
     },
     "execution_count": 212,
     "metadata": {},
     "output_type": "execute_result"
    }
   ],
   "source": [
    "preds[:5]"
   ]
  },
  {
   "cell_type": "code",
   "execution_count": 213,
   "id": "118f439e-e1fc-477d-8306-71d56a07eb92",
   "metadata": {},
   "outputs": [
    {
     "data": {
      "text/plain": [
       "array([[2.66041717, 3.95495495],\n",
       "       [0.07860814, 2.30530531],\n",
       "       [4.77189001, 4.90790791],\n",
       "       [4.00230962, 4.58358358],\n",
       "       [4.131564  , 4.63963964]])"
      ]
     },
     "execution_count": 213,
     "metadata": {},
     "output_type": "execute_result"
    }
   ],
   "source": [
    "y[80:85]"
   ]
  },
  {
   "cell_type": "code",
   "execution_count": 214,
   "id": "4ab824bd-0be0-4200-a404-e278dbbd8ca6",
   "metadata": {},
   "outputs": [
    {
     "data": {
      "text/plain": [
       "<matplotlib.collections.PathCollection at 0x1a3d9fd4ac0>"
      ]
     },
     "execution_count": 214,
     "metadata": {},
     "output_type": "execute_result"
    },
    {
     "data": {
      "image/png": "[encoded data removed]",
      "text/plain": [
       "<Figure size 360x288 with 1 Axes>"
      ]
     },
     "metadata": {
      "needs_background": "light"
     },
     "output_type": "display_data"
    }
   ],
   "source": [
    "plt.scatter(y[80:, 0], y[80:,1])\n",
    "plt.scatter(preds[:, 0], preds[:, 1])"
   ]
  },
  {
   "cell_type": "code",
   "execution_count": 215,
   "id": "8977a533-24c0-4b0d-b065-70d41b8f9e34",
   "metadata": {},
   "outputs": [
    {
     "name": "stdout",
     "output_type": "stream",
     "text": [
      "1/1 [==============================] - 0s 16ms/step\n"
     ]
    },
    {
     "data": {
      "text/plain": [
       "array([[0.31379724, 0.3177095 ]], dtype=float32)"
      ]
     },
     "execution_count": 215,
     "metadata": {},
     "output_type": "execute_result"
    }
   ],
   "source": [
    "model.predict(np.array([0.005]))"
   ]
  },
  {
   "cell_type": "code",
   "execution_count": null,
   "id": "4684ddc7-9f01-4043-86cd-876a559b81d7",
   "metadata": {},
   "outputs": [],
   "source": [
    " > x: 2개, y:1개"
   ]
  },
  {
   "cell_type": "code",
   "execution_count": 217,
   "id": "1c1a30a8-792e-4ba4-9c35-be00bbb6c476",
   "metadata": {},
   "outputs": [
    {
     "name": "stdout",
     "output_type": "stream",
     "text": [
      "7/7 [==============================] - 0s 826us/step\n"
     ]
    }
   ],
   "source": [
    "model = Sequential()\n",
    "model.add(Input(1))\n",
    "model.add(Dense(units=10, activation='tanh', input_dim=1)),\n",
    "model.add(Dense(units=10, activation='tanh')),\n",
    "model.add(Dense(units=2))\n",
    "\n",
    "model.compile(optimizer='SGD', loss ='mse', metrics = 'mse')\n",
    "\n",
    "n=800\n",
    "model.fit(x[:n], x[:n]**2, epochs=100, verbose=0, batch_size=32)\n",
    "\n",
    "preds = model.predict(x[n:])"
   ]
  },
  {
   "cell_type": "code",
   "execution_count": 218,
   "id": "8c0291b2-7a45-4d45-8175-dc5c59ad2f67",
   "metadata": {},
   "outputs": [
    {
     "data": {
      "text/plain": [
       "array([[0.3191053 , 0.33532932],\n",
       "       [0.32370713, 0.32237658]], dtype=float32)"
      ]
     },
     "execution_count": 218,
     "metadata": {},
     "output_type": "execute_result"
    }
   ],
   "source": [
    "preds[:2]"
   ]
  },
  {
   "cell_type": "code",
   "execution_count": 220,
   "id": "7ee91579-01cf-4f2e-a1d4-e5e3ada97ff2",
   "metadata": {},
   "outputs": [
    {
     "data": {
      "text/plain": [
       "array([[2.66041717, 3.95495495],\n",
       "       [0.07860814, 2.30530531]])"
      ]
     },
     "execution_count": 220,
     "metadata": {},
     "output_type": "execute_result"
    }
   ],
   "source": [
    "y[80:82]"
   ]
  },
  {
   "cell_type": "code",
   "execution_count": 229,
   "id": "f3d898a2-b065-4ecd-beec-bdda04f2d37e",
   "metadata": {},
   "outputs": [
    {
     "data": {
      "text/plain": [
       "<matplotlib.collections.PathCollection at 0x1a3d970ea60>"
      ]
     },
     "execution_count": 229,
     "metadata": {},
     "output_type": "execute_result"
    },
    {
     "data": {
      "image/png": "[encoded data removed]",
      "text/plain": [
       "<Figure size 360x288 with 1 Axes>"
      ]
     },
     "metadata": {
      "needs_background": "light"
     },
     "output_type": "display_data"
    }
   ],
   "source": [
    "plt.scatter(y[80:, 0], y[80:,1])\n",
    "plt.scatter(preds[:, 1], preds[:, 1])"
   ]
  },
  {
   "cell_type": "code",
   "execution_count": 222,
   "id": "e713c964-eaa1-4ec6-9c1e-2377d3595ff5",
   "metadata": {},
   "outputs": [
    {
     "name": "stdout",
     "output_type": "stream",
     "text": [
      "1/1 [==============================] - 0s 14ms/step\n"
     ]
    },
    {
     "data": {
      "text/plain": [
       "array([[0.31072724, 0.33194908]], dtype=float32)"
      ]
     },
     "execution_count": 222,
     "metadata": {},
     "output_type": "execute_result"
    }
   ],
   "source": [
    "model.predict(np.array([0.002]))"
   ]
  },
  {
   "cell_type": "markdown",
   "id": "5a8b2ab8-d8b4-43b9-9d6a-0aa6437a0440",
   "metadata": {},
   "source": [
    "# 여기까지 다시 해보기"
   ]
  },
  {
   "cell_type": "code",
   "execution_count": null,
   "id": "e650738a-0aba-4601-9c60-76a0e542ad8c",
   "metadata": {},
   "outputs": [],
   "source": []
  },
  {
   "cell_type": "code",
   "execution_count": null,
   "id": "3b952cf1-0873-4c42-ae4a-7b2527b59c31",
   "metadata": {},
   "outputs": [],
   "source": []
  },
  {
   "cell_type": "code",
   "execution_count": null,
   "id": "96009d63-2add-47a4-9dd1-748f5676334b",
   "metadata": {},
   "outputs": [],
   "source": []
  },
  {
   "cell_type": "code",
   "execution_count": null,
   "id": "3b8bde99-1490-4dbb-9978-0955e3e4ba2f",
   "metadata": {},
   "outputs": [],
   "source": []
  },
  {
   "cell_type": "code",
   "execution_count": null,
   "id": "fe7cf771-9bf7-4957-9d0c-8486fa970349",
   "metadata": {},
   "outputs": [],
   "source": [
    "-----------------------------------------"
   ]
  },
  {
   "cell_type": "code",
   "execution_count": 106,
   "id": "0aecdb6f-a975-4742-b8d9-dc3803c317dd",
   "metadata": {},
   "outputs": [],
   "source": [
    "# 다시 새로 학습 시킴-->성능이 더 좋아짐(얼추 예측이 맞아짐)"
   ]
  },
  {
   "cell_type": "code",
   "execution_count": 107,
   "id": "b3705b02-d5f1-4577-9ab8-00ed1a54b112",
   "metadata": {},
   "outputs": [],
   "source": [
    "x = np.linspace(-1, 1, 1000)\n",
    "y = x**2"
   ]
  },
  {
   "cell_type": "code",
   "execution_count": 108,
   "id": "b20748da-f25b-4c4f-ab35-37267470769c",
   "metadata": {},
   "outputs": [],
   "source": [
    "np.random.shuffle(x)"
   ]
  },
  {
   "cell_type": "code",
   "execution_count": 109,
   "id": "2af65c5f-d6a4-444d-9251-342f0b4bc88f",
   "metadata": {},
   "outputs": [],
   "source": [
    "model = Sequential()\n",
    "model.add(Input(1))\n",
    "model.add(Dense(units=10, activation='tanh')) #unit=10는 10개짜리 층을 만든다\n",
    "model.add(Dense(units=10, activation='tanh'))\n",
    "model.add(Dense(units=1))   #아웃풋이 나오는 층 아웃풋이 1개가 나옴 아웃풋은 unit의 0.1이 나옴\n",
    "\n",
    "model.compile(optimizer='SGD', loss= 'mse', metrics='mse')"
   ]
  },
  {
   "cell_type": "code",
   "execution_count": 110,
   "id": "d71dda22-77e8-4d7d-84b0-bb52144f33d0",
   "metadata": {},
   "outputs": [
    {
     "data": {
      "text/plain": [
       "<keras.callbacks.History at 0x1a3b9ee6580>"
      ]
     },
     "execution_count": 110,
     "metadata": {},
     "output_type": "execute_result"
    }
   ],
   "source": [
    "n = 800\n",
    "model.fit(x[:n],x[:n]**2, epochs=100, verbose=0, batch_size=32)"
   ]
  },
  {
   "cell_type": "code",
   "execution_count": 111,
   "id": "22d47c12-7d8f-4531-b515-a44f722ca21e",
   "metadata": {},
   "outputs": [
    {
     "name": "stdout",
     "output_type": "stream",
     "text": [
      "WARNING:tensorflow:5 out of the last 41 calls to <function Model.make_predict_function.<locals>.predict_function at 0x000001A3B9F75040> triggered tf.function retracing. Tracing is expensive and the excessive number of tracings could be due to (1) creating @tf.function repeatedly in a loop, (2) passing tensors with different shapes, (3) passing Python objects instead of tensors. For (1), please define your @tf.function outside of the loop. For (2), @tf.function has reduce_retracing=True option that can avoid unnecessary retracing. For (3), please refer to https://www.tensorflow.org/guide/function#controlling_retracing and https://www.tensorflow.org/api_docs/python/tf/function for  more details.\n",
      "7/7 [==============================] - 0s 1ms/step\n"
     ]
    }
   ],
   "source": [
    "preds = model.predict(x[n:])"
   ]
  },
  {
   "cell_type": "code",
   "execution_count": 112,
   "id": "504f3f16-095b-442a-a9c6-a4eb7a787528",
   "metadata": {},
   "outputs": [
    {
     "data": {
      "text/plain": [
       "<matplotlib.collections.PathCollection at 0x1a3ba126d60>"
      ]
     },
     "execution_count": 112,
     "metadata": {},
     "output_type": "execute_result"
    },
    {
     "data": {
      "image/png": "[encoded data removed]",
      "text/plain": [
       "<Figure size 360x288 with 1 Axes>"
      ]
     },
     "metadata": {
      "needs_background": "light"
     },
     "output_type": "display_data"
    }
   ],
   "source": [
    "plt.scatter(x[n:], x[n:]**2)\n",
    "plt.scatter(x[n:], preds)"
   ]
  },
  {
   "cell_type": "code",
   "execution_count": null,
   "id": "9e192b05-97a9-4188-a1d5-3554fc5db98b",
   "metadata": {},
   "outputs": [],
   "source": []
  },
  {
   "cell_type": "code",
   "execution_count": null,
   "id": "e4bb7137-5ece-4f8b-9026-50fff30e0771",
   "metadata": {},
   "outputs": [],
   "source": []
  },
  {
   "cell_type": "code",
   "execution_count": 113,
   "id": "d293b1bf-7c86-4097-a32b-a62aff224cf7",
   "metadata": {},
   "outputs": [],
   "source": [
    "import keras"
   ]
  },
  {
   "cell_type": "code",
   "execution_count": 114,
   "id": "1cb87086-ccb8-4bd9-8547-16fb08c5b18e",
   "metadata": {},
   "outputs": [],
   "source": [
    "from keras.datasets import mnist\n",
    "(train_images, train_labels), (test_images, test_labels)= mnist.load_data()"
   ]
  },
  {
   "cell_type": "code",
   "execution_count": 115,
   "id": "e159a339-c325-4ef6-b639-a2299e6d77af",
   "metadata": {},
   "outputs": [
    {
     "data": {
      "text/plain": [
       "array([5, 0, 4, ..., 5, 6, 8], dtype=uint8)"
      ]
     },
     "execution_count": 115,
     "metadata": {},
     "output_type": "execute_result"
    }
   ],
   "source": [
    "train_labels"
   ]
  },
  {
   "cell_type": "code",
   "execution_count": 116,
   "id": "345d3fe7-eea9-4fbd-97a0-5dedc536afbd",
   "metadata": {
    "collapsed": true,
    "jupyter": {
     "outputs_hidden": true
    },
    "tags": []
   },
   "outputs": [
    {
     "data": {
      "text/plain": [
       "array([[  0,   0,   0,   0,   0,   0,   0,   0,   0,   0,   0,   0,   0,\n",
       "          0,   0,   0,   0,   0,   0,   0,   0,   0,   0,   0,   0,   0,\n",
       "          0,   0],\n",
       "       [  0,   0,   0,   0,   0,   0,   0,   0,   0,   0,   0,   0,   0,\n",
       "          0,   0,   0,   0,   0,   0,   0,   0,   0,   0,   0,   0,   0,\n",
       "          0,   0],\n",
       "       [  0,   0,   0,   0,   0,   0,   0,   0,   0,   0,   0,   0,   0,\n",
       "          0,   0,   0,   0,   0,   0,   0,   0,   0,   0,   0,   0,   0,\n",
       "          0,   0],\n",
       "       [  0,   0,   0,   0,   0,   0,   0,   0,   0,   0,   0,   0,   0,\n",
       "          0,   0,   0,   0,   0,   0,   0,   0,   0,   0,   0,   0,   0,\n",
       "          0,   0],\n",
       "       [  0,   0,   0,   0,   0,   0,   0,   0,   0,   0,   0,   0,   0,\n",
       "          0,   0,   0,   0,   0,   0,   0,   0,   0,   0,   0,   0,   0,\n",
       "          0,   0],\n",
       "       [  0,   0,   0,   0,   0,   0,   0,   0,   0,   0,   0,   0,   3,\n",
       "         18,  18,  18, 126, 136, 175,  26, 166, 255, 247, 127,   0,   0,\n",
       "          0,   0],\n",
       "       [  0,   0,   0,   0,   0,   0,   0,   0,  30,  36,  94, 154, 170,\n",
       "        253, 253, 253, 253, 253, 225, 172, 253, 242, 195,  64,   0,   0,\n",
       "          0,   0],\n",
       "       [  0,   0,   0,   0,   0,   0,   0,  49, 238, 253, 253, 253, 253,\n",
       "        253, 253, 253, 253, 251,  93,  82,  82,  56,  39,   0,   0,   0,\n",
       "          0,   0],\n",
       "       [  0,   0,   0,   0,   0,   0,   0,  18, 219, 253, 253, 253, 253,\n",
       "        253, 198, 182, 247, 241,   0,   0,   0,   0,   0,   0,   0,   0,\n",
       "          0,   0],\n",
       "       [  0,   0,   0,   0,   0,   0,   0,   0,  80, 156, 107, 253, 253,\n",
       "        205,  11,   0,  43, 154,   0,   0,   0,   0,   0,   0,   0,   0,\n",
       "          0,   0],\n",
       "       [  0,   0,   0,   0,   0,   0,   0,   0,   0,  14,   1, 154, 253,\n",
       "         90,   0,   0,   0,   0,   0,   0,   0,   0,   0,   0,   0,   0,\n",
       "          0,   0],\n",
       "       [  0,   0,   0,   0,   0,   0,   0,   0,   0,   0,   0, 139, 253,\n",
       "        190,   2,   0,   0,   0,   0,   0,   0,   0,   0,   0,   0,   0,\n",
       "          0,   0],\n",
       "       [  0,   0,   0,   0,   0,   0,   0,   0,   0,   0,   0,  11, 190,\n",
       "        253,  70,   0,   0,   0,   0,   0,   0,   0,   0,   0,   0,   0,\n",
       "          0,   0],\n",
       "       [  0,   0,   0,   0,   0,   0,   0,   0,   0,   0,   0,   0,  35,\n",
       "        241, 225, 160, 108,   1,   0,   0,   0,   0,   0,   0,   0,   0,\n",
       "          0,   0],\n",
       "       [  0,   0,   0,   0,   0,   0,   0,   0,   0,   0,   0,   0,   0,\n",
       "         81, 240, 253, 253, 119,  25,   0,   0,   0,   0,   0,   0,   0,\n",
       "          0,   0],\n",
       "       [  0,   0,   0,   0,   0,   0,   0,   0,   0,   0,   0,   0,   0,\n",
       "          0,  45, 186, 253, 253, 150,  27,   0,   0,   0,   0,   0,   0,\n",
       "          0,   0],\n",
       "       [  0,   0,   0,   0,   0,   0,   0,   0,   0,   0,   0,   0,   0,\n",
       "          0,   0,  16,  93, 252, 253, 187,   0,   0,   0,   0,   0,   0,\n",
       "          0,   0],\n",
       "       [  0,   0,   0,   0,   0,   0,   0,   0,   0,   0,   0,   0,   0,\n",
       "          0,   0,   0,   0, 249, 253, 249,  64,   0,   0,   0,   0,   0,\n",
       "          0,   0],\n",
       "       [  0,   0,   0,   0,   0,   0,   0,   0,   0,   0,   0,   0,   0,\n",
       "          0,  46, 130, 183, 253, 253, 207,   2,   0,   0,   0,   0,   0,\n",
       "          0,   0],\n",
       "       [  0,   0,   0,   0,   0,   0,   0,   0,   0,   0,   0,   0,  39,\n",
       "        148, 229, 253, 253, 253, 250, 182,   0,   0,   0,   0,   0,   0,\n",
       "          0,   0],\n",
       "       [  0,   0,   0,   0,   0,   0,   0,   0,   0,   0,  24, 114, 221,\n",
       "        253, 253, 253, 253, 201,  78,   0,   0,   0,   0,   0,   0,   0,\n",
       "          0,   0],\n",
       "       [  0,   0,   0,   0,   0,   0,   0,   0,  23,  66, 213, 253, 253,\n",
       "        253, 253, 198,  81,   2,   0,   0,   0,   0,   0,   0,   0,   0,\n",
       "          0,   0],\n",
       "       [  0,   0,   0,   0,   0,   0,  18, 171, 219, 253, 253, 253, 253,\n",
       "        195,  80,   9,   0,   0,   0,   0,   0,   0,   0,   0,   0,   0,\n",
       "          0,   0],\n",
       "       [  0,   0,   0,   0,  55, 172, 226, 253, 253, 253, 253, 244, 133,\n",
       "         11,   0,   0,   0,   0,   0,   0,   0,   0,   0,   0,   0,   0,\n",
       "          0,   0],\n",
       "       [  0,   0,   0,   0, 136, 253, 253, 253, 212, 135, 132,  16,   0,\n",
       "          0,   0,   0,   0,   0,   0,   0,   0,   0,   0,   0,   0,   0,\n",
       "          0,   0],\n",
       "       [  0,   0,   0,   0,   0,   0,   0,   0,   0,   0,   0,   0,   0,\n",
       "          0,   0,   0,   0,   0,   0,   0,   0,   0,   0,   0,   0,   0,\n",
       "          0,   0],\n",
       "       [  0,   0,   0,   0,   0,   0,   0,   0,   0,   0,   0,   0,   0,\n",
       "          0,   0,   0,   0,   0,   0,   0,   0,   0,   0,   0,   0,   0,\n",
       "          0,   0],\n",
       "       [  0,   0,   0,   0,   0,   0,   0,   0,   0,   0,   0,   0,   0,\n",
       "          0,   0,   0,   0,   0,   0,   0,   0,   0,   0,   0,   0,   0,\n",
       "          0,   0]], dtype=uint8)"
      ]
     },
     "execution_count": 116,
     "metadata": {},
     "output_type": "execute_result"
    }
   ],
   "source": [
    "# 첫번째 숫자 5를 아래와같이 표현함\n",
    "train_images[0]"
   ]
  },
  {
   "cell_type": "code",
   "execution_count": 117,
   "id": "1b2d3db3-ba50-4844-87ef-58a52e49ef0a",
   "metadata": {
    "collapsed": true,
    "jupyter": {
     "outputs_hidden": true
    },
    "tags": []
   },
   "outputs": [
    {
     "data": {
      "text/plain": [
       "array([[  0,   0,   0,   0,   0,   0,   0,   0,   0,   0,   0,   0,   0,\n",
       "          0,   0,   0,   0,   0,   0,   0,   0,   0,   0,   0,   0,   0,\n",
       "          0,   0],\n",
       "       [  0,   0,   0,   0,   0,   0,   0,   0,   0,   0,   0,   0,   0,\n",
       "          0,   0,   0,   0,   0,   0,   0,   0,   0,   0,   0,   0,   0,\n",
       "          0,   0],\n",
       "       [  0,   0,   0,   0,   0,   0,   0,   0,   0,   0,   0,   0,   0,\n",
       "          0,   0,   0,   0,   0,   0,   0,   0,   0,   0,   0,   0,   0,\n",
       "          0,   0],\n",
       "       [  0,   0,   0,   0,   0,   0,   0,   0,   0,   0,   0,   0,   0,\n",
       "          0,   0,   0,   0,   0,   0,   0,   0,   0,   0,   0,   0,   0,\n",
       "          0,   0],\n",
       "       [  0,   0,   0,   0,   0,   0,   0,   0,   0,   0,   0,   0,   0,\n",
       "          0,   0,   0,   0,   0,   0,   0,   0,   0,   0,   0,   0,   0,\n",
       "          0,   0],\n",
       "       [  0,   0,   0,   0,   0,   0,   0,   0,   0,   0,   0,   0,   0,\n",
       "          0,   0,   0,   0,   0,   0,   0,   0,   0,   0,   0,   0,   0,\n",
       "          0,   0],\n",
       "       [  0,   0,   0,   0,   0,   0,   0,   0,   0,   0,   0,   0,   0,\n",
       "          0,   0,   0,  38,  48,  48,  22,   0,   0,   0,   0,   0,   0,\n",
       "          0,   0],\n",
       "       [  0,   0,   0,   0,   0,   0,   0,   0,   0,   0,   0,   0,   0,\n",
       "         62,  97, 198, 243, 254, 254, 212,  27,   0,   0,   0,   0,   0,\n",
       "          0,   0],\n",
       "       [  0,   0,   0,   0,   0,   0,   0,   0,   0,   0,   0,   0,  67,\n",
       "        172, 254, 254, 225, 218, 218, 237, 248,  40,   0,  21, 164, 187,\n",
       "          0,   0],\n",
       "       [  0,   0,   0,   0,   0,   0,   0,   0,   0,   0,   0,  89, 219,\n",
       "        254,  97,  67,  14,   0,   0,  92, 231, 122,  23, 203, 236,  59,\n",
       "          0,   0],\n",
       "       [  0,   0,   0,   0,   0,   0,   0,   0,   0,   0,  25, 217, 242,\n",
       "         92,   4,   0,   0,   0,   0,   4, 147, 253, 240, 232,  92,   0,\n",
       "          0,   0],\n",
       "       [  0,   0,   0,   0,   0,   0,   0,   0,   0,   0, 101, 255,  92,\n",
       "          0,   0,   0,   0,   0,   0, 105, 254, 254, 177,  11,   0,   0,\n",
       "          0,   0],\n",
       "       [  0,   0,   0,   0,   0,   0,   0,   0,   0,   0, 167, 244,  41,\n",
       "          0,   0,   0,   7,  76, 199, 238, 239,  94,  10,   0,   0,   0,\n",
       "          0,   0],\n",
       "       [  0,   0,   0,   0,   0,   0,   0,   0,   0,   0, 192, 121,   0,\n",
       "          0,   2,  63, 180, 254, 233, 126,   0,   0,   0,   0,   0,   0,\n",
       "          0,   0],\n",
       "       [  0,   0,   0,   0,   0,   0,   0,   0,   0,   0, 190, 196,  14,\n",
       "          2,  97, 254, 252, 146,  52,   0,   0,   0,   0,   0,   0,   0,\n",
       "          0,   0],\n",
       "       [  0,   0,   0,   0,   0,   0,   0,   0,   0,   0, 130, 225,  71,\n",
       "        180, 232, 181,  60,   0,   0,   0,   0,   0,   0,   0,   0,   0,\n",
       "          0,   0],\n",
       "       [  0,   0,   0,   0,   0,   0,   0,   0,   0,   0, 130, 254, 254,\n",
       "        230,  46,   0,   0,   0,   0,   0,   0,   0,   0,   0,   0,   0,\n",
       "          0,   0],\n",
       "       [  0,   0,   0,   0,   0,   0,   0,   0,   6,  77, 244, 254, 162,\n",
       "          4,   0,   0,   0,   0,   0,   0,   0,   0,   0,   0,   0,   0,\n",
       "          0,   0],\n",
       "       [  0,   0,   0,   0,   0,   0,   0,   0, 110, 254, 218, 254, 116,\n",
       "          0,   0,   0,   0,   0,   0,   0,   0,   0,   0,   0,   0,   0,\n",
       "          0,   0],\n",
       "       [  0,   0,   0,   0,   0,   0,   0, 131, 254, 154,  28, 213,  86,\n",
       "          0,   0,   0,   0,   0,   0,   0,   0,   0,   0,   0,   0,   0,\n",
       "          0,   0],\n",
       "       [  0,   0,   0,   0,   0,   0,  66, 209, 153,  19,  19, 233,  60,\n",
       "          0,   0,   0,   0,   0,   0,   0,   0,   0,   0,   0,   0,   0,\n",
       "          0,   0],\n",
       "       [  0,   0,   0,   0,   0,   0, 142, 254, 165,   0,  14, 216, 167,\n",
       "          0,   0,   0,   0,   0,   0,   0,   0,   0,   0,   0,   0,   0,\n",
       "          0,   0],\n",
       "       [  0,   0,   0,   0,   0,   0,  90, 254, 175,   0,  18, 229,  92,\n",
       "          0,   0,   0,   0,   0,   0,   0,   0,   0,   0,   0,   0,   0,\n",
       "          0,   0],\n",
       "       [  0,   0,   0,   0,   0,   0,  26, 229, 249, 176, 222, 244,  44,\n",
       "          0,   0,   0,   0,   0,   0,   0,   0,   0,   0,   0,   0,   0,\n",
       "          0,   0],\n",
       "       [  0,   0,   0,   0,   0,   0,   0,  73, 193, 197, 134,   0,   0,\n",
       "          0,   0,   0,   0,   0,   0,   0,   0,   0,   0,   0,   0,   0,\n",
       "          0,   0],\n",
       "       [  0,   0,   0,   0,   0,   0,   0,   0,   0,   0,   0,   0,   0,\n",
       "          0,   0,   0,   0,   0,   0,   0,   0,   0,   0,   0,   0,   0,\n",
       "          0,   0],\n",
       "       [  0,   0,   0,   0,   0,   0,   0,   0,   0,   0,   0,   0,   0,\n",
       "          0,   0,   0,   0,   0,   0,   0,   0,   0,   0,   0,   0,   0,\n",
       "          0,   0],\n",
       "       [  0,   0,   0,   0,   0,   0,   0,   0,   0,   0,   0,   0,   0,\n",
       "          0,   0,   0,   0,   0,   0,   0,   0,   0,   0,   0,   0,   0,\n",
       "          0,   0]], dtype=uint8)"
      ]
     },
     "execution_count": 117,
     "metadata": {},
     "output_type": "execute_result"
    }
   ],
   "source": [
    "# 마지막의 숫자를 표현함\n",
    "train_images[59999]"
   ]
  },
  {
   "cell_type": "code",
   "execution_count": 118,
   "id": "b19ea573-a559-446d-a8ff-6e98d48e8d0b",
   "metadata": {},
   "outputs": [
    {
     "data": {
      "text/plain": [
       "(60000, 28, 28)"
      ]
     },
     "execution_count": 118,
     "metadata": {},
     "output_type": "execute_result"
    }
   ],
   "source": [
    "train_images.shape"
   ]
  },
  {
   "cell_type": "code",
   "execution_count": 119,
   "id": "d70b074c-9170-4346-88f2-b4d180236064",
   "metadata": {},
   "outputs": [],
   "source": [
    "np.set_printoptions(linewidth=28*28)"
   ]
  },
  {
   "cell_type": "code",
   "execution_count": 120,
   "id": "56022e2d-21f4-4cee-b5c6-3029f23055fb",
   "metadata": {
    "collapsed": true,
    "jupyter": {
     "outputs_hidden": true
    },
    "tags": []
   },
   "outputs": [
    {
     "name": "stdout",
     "output_type": "stream",
     "text": [
      "[[  0   0   0   0   0   0   0   0   0   0   0   0   0   0   0   0   0   0   0   0   0   0   0   0   0   0   0   0]\n",
      " [  0   0   0   0   0   0   0   0   0   0   0   0   0   0   0   0   0   0   0   0   0   0   0   0   0   0   0   0]\n",
      " [  0   0   0   0   0   0   0   0   0   0   0   0   0   0   0   0   0   0   0   0   0   0   0   0   0   0   0   0]\n",
      " [  0   0   0   0   0   0   0   0   0   0   0   0   0   0   0   0   0   0   0   0   0   0   0   0   0   0   0   0]\n",
      " [  0   0   0   0   0   0   0   0   0   0   0   0   0   0   0  51 159 253 159  50   0   0   0   0   0   0   0   0]\n",
      " [  0   0   0   0   0   0   0   0   0   0   0   0   0   0  48 238 252 252 252 237   0   0   0   0   0   0   0   0]\n",
      " [  0   0   0   0   0   0   0   0   0   0   0   0   0  54 227 253 252 239 233 252  57   6   0   0   0   0   0   0]\n",
      " [  0   0   0   0   0   0   0   0   0   0   0  10  60 224 252 253 252 202  84 252 253 122   0   0   0   0   0   0]\n",
      " [  0   0   0   0   0   0   0   0   0   0   0 163 252 252 252 253 252 252  96 189 253 167   0   0   0   0   0   0]\n",
      " [  0   0   0   0   0   0   0   0   0   0  51 238 253 253 190 114 253 228  47  79 255 168   0   0   0   0   0   0]\n",
      " [  0   0   0   0   0   0   0   0   0  48 238 252 252 179  12  75 121  21   0   0 253 243  50   0   0   0   0   0]\n",
      " [  0   0   0   0   0   0   0   0  38 165 253 233 208  84   0   0   0   0   0   0 253 252 165   0   0   0   0   0]\n",
      " [  0   0   0   0   0   0   0   7 178 252 240  71  19  28   0   0   0   0   0   0 253 252 195   0   0   0   0   0]\n",
      " [  0   0   0   0   0   0   0  57 252 252  63   0   0   0   0   0   0   0   0   0 253 252 195   0   0   0   0   0]\n",
      " [  0   0   0   0   0   0   0 198 253 190   0   0   0   0   0   0   0   0   0   0 255 253 196   0   0   0   0   0]\n",
      " [  0   0   0   0   0   0  76 246 252 112   0   0   0   0   0   0   0   0   0   0 253 252 148   0   0   0   0   0]\n",
      " [  0   0   0   0   0   0  85 252 230  25   0   0   0   0   0   0   0   0   7 135 253 186  12   0   0   0   0   0]\n",
      " [  0   0   0   0   0   0  85 252 223   0   0   0   0   0   0   0   0   7 131 252 225  71   0   0   0   0   0   0]\n",
      " [  0   0   0   0   0   0  85 252 145   0   0   0   0   0   0   0  48 165 252 173   0   0   0   0   0   0   0   0]\n",
      " [  0   0   0   0   0   0  86 253 225   0   0   0   0   0   0 114 238 253 162   0   0   0   0   0   0   0   0   0]\n",
      " [  0   0   0   0   0   0  85 252 249 146  48  29  85 178 225 253 223 167  56   0   0   0   0   0   0   0   0   0]\n",
      " [  0   0   0   0   0   0  85 252 252 252 229 215 252 252 252 196 130   0   0   0   0   0   0   0   0   0   0   0]\n",
      " [  0   0   0   0   0   0  28 199 252 252 253 252 252 233 145   0   0   0   0   0   0   0   0   0   0   0   0   0]\n",
      " [  0   0   0   0   0   0   0  25 128 252 253 252 141  37   0   0   0   0   0   0   0   0   0   0   0   0   0   0]\n",
      " [  0   0   0   0   0   0   0   0   0   0   0   0   0   0   0   0   0   0   0   0   0   0   0   0   0   0   0   0]\n",
      " [  0   0   0   0   0   0   0   0   0   0   0   0   0   0   0   0   0   0   0   0   0   0   0   0   0   0   0   0]\n",
      " [  0   0   0   0   0   0   0   0   0   0   0   0   0   0   0   0   0   0   0   0   0   0   0   0   0   0   0   0]\n",
      " [  0   0   0   0   0   0   0   0   0   0   0   0   0   0   0   0   0   0   0   0   0   0   0   0   0   0   0   0]]\n"
     ]
    }
   ],
   "source": [
    "print(train_images[1])"
   ]
  },
  {
   "cell_type": "code",
   "execution_count": 121,
   "id": "51d4fd53-2caf-4020-ad58-ce7d87d2936b",
   "metadata": {
    "tags": []
   },
   "outputs": [
    {
     "data": {
      "image/png": "[encoded data removed]",
      "text/plain": [
       "<Figure size 360x288 with 1 Axes>"
      ]
     },
     "metadata": {
      "needs_background": "light"
     },
     "output_type": "display_data"
    }
   ],
   "source": [
    "plt.imshow(train_images[1], cmap=\"gray\"); "
   ]
  },
  {
   "cell_type": "code",
   "execution_count": 122,
   "id": "b704f5c7-fae8-4bfc-b2b3-e2fd5b29b71c",
   "metadata": {},
   "outputs": [
    {
     "data": {
      "text/plain": [
       "0"
      ]
     },
     "execution_count": 122,
     "metadata": {},
     "output_type": "execute_result"
    }
   ],
   "source": [
    "train_labels[1]"
   ]
  },
  {
   "cell_type": "code",
   "execution_count": 123,
   "id": "2add7a08-5f89-4eec-b4b0-c8bf02abd1c2",
   "metadata": {},
   "outputs": [],
   "source": [
    "from keras.layers import Dense"
   ]
  },
  {
   "cell_type": "code",
   "execution_count": 124,
   "id": "cf54b9d0-29e0-41c0-8932-37fe6da522e3",
   "metadata": {},
   "outputs": [],
   "source": [
    "model = Sequential()\n",
    "model.add(Dense(512, activation = \"relu\"))\n",
    "model.add(Dense(10, activation = \"softmax\"))"
   ]
  },
  {
   "cell_type": "code",
   "execution_count": 125,
   "id": "6ff31b5c-e9c0-4699-ac3c-d4a265a4ece3",
   "metadata": {},
   "outputs": [],
   "source": [
    "model.compile(optimizer='rmsprop',\n",
    "             loss = 'sparse_categorical_crossentopy',\n",
    "             metrics='acc')"
   ]
  },
  {
   "cell_type": "code",
   "execution_count": null,
   "id": "69312c41-7f92-46f8-8bb8-6bd0acb56ac4",
   "metadata": {},
   "outputs": [],
   "source": []
  },
  {
   "cell_type": "code",
   "execution_count": 126,
   "id": "237eb030-64dd-45ca-a516-167ecd7c6e60",
   "metadata": {
    "tags": []
   },
   "outputs": [],
   "source": [
    "train_images = train_images.reshape(60000, 28*28)\n",
    "train_images = train_images/255.0"
   ]
  },
  {
   "cell_type": "code",
   "execution_count": 127,
   "id": "ac875285-d630-4c87-b3e7-60a0821d2d92",
   "metadata": {},
   "outputs": [],
   "source": [
    "test_images = test_images.reshape(10000, 28*28)\n",
    "test_images = test_images /255.0"
   ]
  },
  {
   "cell_type": "code",
   "execution_count": 128,
   "id": "65d043b9-3271-49ca-ba05-cfd554ee1d28",
   "metadata": {},
   "outputs": [],
   "source": [
    "model.compile(optimizer='rmsprop',\n",
    "             loss = 'sparse_categorical_crossentropy',\n",
    "             metrics='acc')"
   ]
  },
  {
   "cell_type": "code",
   "execution_count": 129,
   "id": "b27d0c4c-7f2a-43f0-a894-1c81532b3359",
   "metadata": {},
   "outputs": [
    {
     "name": "stdout",
     "output_type": "stream",
     "text": [
      "Epoch 1/5\n",
      "469/469 [==============================] - 2s 4ms/step - loss: 0.2555 - acc: 0.9268\n",
      "Epoch 2/5\n",
      "469/469 [==============================] - 2s 4ms/step - loss: 0.1037 - acc: 0.9693\n",
      "Epoch 3/5\n",
      "469/469 [==============================] - 2s 4ms/step - loss: 0.0680 - acc: 0.9790\n",
      "Epoch 4/5\n",
      "469/469 [==============================] - 2s 4ms/step - loss: 0.0501 - acc: 0.9851\n",
      "Epoch 5/5\n",
      "469/469 [==============================] - 2s 4ms/step - loss: 0.0369 - acc: 0.9890\n"
     ]
    },
    {
     "data": {
      "text/plain": [
       "<keras.callbacks.History at 0x1a3b1e21e80>"
      ]
     },
     "execution_count": 129,
     "metadata": {},
     "output_type": "execute_result"
    }
   ],
   "source": [
    "model.fit(train_images, train_labels, epochs=5, batch_size=128)\n",
    "# batcj:128개를 한 묶음으로"
   ]
  },
  {
   "cell_type": "code",
   "execution_count": 130,
   "id": "b9339537-675e-4d05-98ad-dc4ec1838264",
   "metadata": {},
   "outputs": [
    {
     "name": "stdout",
     "output_type": "stream",
     "text": [
      "WARNING:tensorflow:5 out of the last 17 calls to <function Model.make_predict_function.<locals>.predict_function at 0x000001A3B216BE50> triggered tf.function retracing. Tracing is expensive and the excessive number of tracings could be due to (1) creating @tf.function repeatedly in a loop, (2) passing tensors with different shapes, (3) passing Python objects instead of tensors. For (1), please define your @tf.function outside of the loop. For (2), @tf.function has reduce_retracing=True option that can avoid unnecessary retracing. For (3), please refer to https://www.tensorflow.org/guide/function#controlling_retracing and https://www.tensorflow.org/api_docs/python/tf/function for  more details.\n",
      "313/313 [==============================] - 0s 979us/step\n"
     ]
    }
   ],
   "source": [
    "predictions = model.predict(test_images)"
   ]
  },
  {
   "cell_type": "code",
   "execution_count": 131,
   "id": "fb2fe08c-21de-451a-ac84-0b32b9b9fbb5",
   "metadata": {},
   "outputs": [
    {
     "data": {
      "text/plain": [
       "468.75"
      ]
     },
     "execution_count": 131,
     "metadata": {},
     "output_type": "execute_result"
    }
   ],
   "source": [
    "60000/128\n",
    "#468묶음이 있고 0.75(약 1/4이 남음)\n",
    "# 남은 것을 하나로 묶으면 469개의 묶음이 나옴"
   ]
  },
  {
   "cell_type": "code",
   "execution_count": 132,
   "id": "2b4832f2-6129-4126-8812-e06b65031380",
   "metadata": {},
   "outputs": [
    {
     "data": {
      "text/plain": [
       "array([2.7811196e-09, 5.1012289e-10, 1.2885290e-06, 1.5709102e-05, 7.2330354e-12, 1.2090598e-07, 1.3130732e-14, 9.9998140e-01, 2.1132819e-07, 1.2089197e-06], dtype=float32)"
      ]
     },
     "execution_count": 132,
     "metadata": {},
     "output_type": "execute_result"
    }
   ],
   "source": [
    "predictions[0]"
   ]
  },
  {
   "cell_type": "code",
   "execution_count": 133,
   "id": "014010a5-fdbe-412e-ac80-9d2b4fd0e46e",
   "metadata": {},
   "outputs": [
    {
     "data": {
      "text/plain": [
       "10"
      ]
     },
     "execution_count": 133,
     "metadata": {},
     "output_type": "execute_result"
    }
   ],
   "source": [
    "len(predictions[0])\n",
    "#0-9까지 9개"
   ]
  },
  {
   "cell_type": "code",
   "execution_count": 134,
   "id": "fdf20ceb-e076-4e7a-9d10-2f42abf3e038",
   "metadata": {},
   "outputs": [
    {
     "data": {
      "text/plain": [
       "array([0., 0., 0., 0., 0., 0., 0., 1., 0., 0.], dtype=float32)"
      ]
     },
     "execution_count": 134,
     "metadata": {},
     "output_type": "execute_result"
    }
   ],
   "source": [
    "#소수점 1째자리까지 표현-원핫인코딩의 꼬라지\n",
    "predictions[0].round(1)"
   ]
  },
  {
   "cell_type": "code",
   "execution_count": 135,
   "id": "36e6a32f-c113-4906-973b-ecad2866f700",
   "metadata": {},
   "outputs": [
    {
     "data": {
      "text/plain": [
       "7"
      ]
     },
     "execution_count": 135,
     "metadata": {},
     "output_type": "execute_result"
    }
   ],
   "source": [
    "test_labels[0]\n",
    "#predictions[0].round(1)의 1이 7에 나와서 7이 나온 것임\n",
    "#원핫인코딩을 꺼꾸로 돌리면 7이 나옴"
   ]
  },
  {
   "cell_type": "code",
   "execution_count": 136,
   "id": "a0184baf-9cd1-4eb5-a48e-887999cf1ab8",
   "metadata": {},
   "outputs": [
    {
     "name": "stdout",
     "output_type": "stream",
     "text": [
      "313/313 [==============================] - 0s 1ms/step - loss: 0.0667 - acc: 0.9787\n"
     ]
    },
    {
     "data": {
      "text/plain": [
       "[0.06665883213281631, 0.9786999821662903]"
      ]
     },
     "execution_count": 136,
     "metadata": {},
     "output_type": "execute_result"
    }
   ],
   "source": [
    "model.evaluate(test_images,test_labels)\n",
    "# loss, acc가 나옴"
   ]
  },
  {
   "cell_type": "code",
   "execution_count": 137,
   "id": "250b5e4c-8e7f-4da8-98ff-833cbcaf0469",
   "metadata": {},
   "outputs": [
    {
     "name": "stdout",
     "output_type": "stream",
     "text": [
      "Epoch 1/5\n",
      "469/469 [==============================] - 2s 4ms/step - loss: 0.0278 - acc: 0.9917\n",
      "Epoch 2/5\n",
      "469/469 [==============================] - 2s 4ms/step - loss: 0.0224 - acc: 0.9931\n",
      "Epoch 3/5\n",
      "469/469 [==============================] - 2s 4ms/step - loss: 0.0170 - acc: 0.9952\n",
      "Epoch 4/5\n",
      "469/469 [==============================] - 2s 4ms/step - loss: 0.0126 - acc: 0.9964\n",
      "Epoch 5/5\n",
      "469/469 [==============================] - 2s 4ms/step - loss: 0.0103 - acc: 0.9971\n",
      "313/313 [==============================] - 0s 1ms/step - loss: 0.0693 - acc: 0.9807\n",
      "손실은0.06925129890441895이고 정확도는 0.9807000160217285입니다.\n"
     ]
    }
   ],
   "source": [
    "model.fit(train_images, train_labels, epochs=5, batch_size=128)\n",
    "loss, acc = model.evaluate(test_images, test_labels)\n",
    "print(f\"손실은{loss}이고 정확도는 {acc}입니다.\")"
   ]
  },
  {
   "cell_type": "code",
   "execution_count": 138,
   "id": "3c1a7626-2b0e-4b33-b905-4f4b047f620e",
   "metadata": {
    "collapsed": true,
    "jupyter": {
     "outputs_hidden": true
    },
    "tags": []
   },
   "outputs": [
    {
     "ename": "SyntaxError",
     "evalue": "invalid syntax (4057555809.py, line 1)",
     "output_type": "error",
     "traceback": [
      "\u001b[1;36m  Input \u001b[1;32mIn [138]\u001b[1;36m\u001b[0m\n\u001b[1;33m    ------------------------------------------\u001b[0m\n\u001b[1;37m                                              ^\u001b[0m\n\u001b[1;31mSyntaxError\u001b[0m\u001b[1;31m:\u001b[0m invalid syntax\n"
     ]
    }
   ],
   "source": [
    "------------------------------------------"
   ]
  },
  {
   "cell_type": "markdown",
   "id": "20af835e-eb2c-4bd4-93b7-541249908d63",
   "metadata": {},
   "source": [
    "# 11.23"
   ]
  },
  {
   "cell_type": "code",
   "execution_count": null,
   "id": "0b5f40ce-c836-4a47-95ce-12a38b77ef64",
   "metadata": {},
   "outputs": [],
   "source": [
    "클래스:\n",
    "레이블:\n",
    "    \n",
    "손싱함수와 같은 말은?\n",
    "손실함수란?\n",
    "- '머신러닝은 타깃과 예측값( 모델에 입력값을 넣었을 때 나오는 값, 즉 출력값)의 오차를 최소화하는 방향으로 모델의 파라미터들을 조정하여 가장 알맞은 모델을 찾아내는 것'\n",
    "\n",
    "손실함수의 종류는?\n",
    "- MSE(Mean Squared Error), RMSE(Root Mean Squared Error), Binary Crossentropy, Categorical Crossentropy, \n",
    "회귀, 분류문제에 따라 쓰이는 손실함수는 다르다.\n",
    "\n",
    "옵티마이저란?\n",
    "RMSprop, Batch Gradient Descent, Stochastic Gradient Descent, \n",
    "옵티마이저의 종류?\n",
    "\n",
    "배열의 최대값을 갖는 인덱스를 알려면?\n",
    "-인덱스 변환\n",
    "변환해야할 데이터 타입은?\n",
    "- .astype\n",
    "\n",
    "과적합이란?\n",
    "overfitting은 학습데이터를 과하게 잘 학습하는 것을 뜻한다. 일반적으로 학습 데이터는 실제 데이터의 부분집합인 경우가 대부분이다. 따라서, 아래의 그래프처럼 학습 데이터에 대해서는 오차가 감소하지만, 실제 데이터에 대해서는 오차가 증가하는 지점이 존재할 수 있다.\n",
    "\n",
    "텐서란?\n",
    "데이터의 배열, 몇차원인가\n",
    "\n",
    "np.arange(12)\n",
    "1) 3행 4열의 2차원으로 바꾸기\n",
    "2) a.shape =(3,4) 를 (3,4,1)로 바꾸기\n",
    "\n",
    "컬러사진 100장은 (100, 28,28,3)으로 표기할 때\n",
    "(samples,   ,  channels)\n",
    "\n",
    "\n",
    "활성화 함수란?\n",
    "활성화 함수의 종류?\n",
    "\n",
    "Relu(rectified linear unit)의 그래프는?\n",
    "np로 구현하는 식은?\n",
    "\n",
    "sigmoid의 그래프는?\n",
    "그래프의 식은?\n",
    "np로 그래프의 식은? 1/(1+np.exp(-x))\n",
    "\n",
    "tanh의 그래프는? sinh/cosh\n",
    "그래프의 식은?\n",
    "np로 그래프의 식은? \n",
    "e는?\n",
    "\n",
    "\n",
    "변환의 종류는?\n",
    "- 이동, 확대, 축소, 회전변환, 선형변환, 아핀변환\n",
    "\n",
    "\n"
   ]
  },
  {
   "cell_type": "code",
   "execution_count": null,
   "id": "8877688a-6117-426d-91d7-71c3a96c956e",
   "metadata": {},
   "outputs": [],
   "source": [
    "---------------------------------------------"
   ]
  },
  {
   "cell_type": "markdown",
   "id": "d9877c1c-3a44-4475-b6af-594f8a94b3a1",
   "metadata": {},
   "source": [
    "# 4.3 주택가격 예측 : 회귀문제"
   ]
  },
  {
   "cell_type": "code",
   "execution_count": 253,
   "id": "7f19b014-b200-4f17-83ae-d27381647bb5",
   "metadata": {},
   "outputs": [
    {
     "name": "stdout",
     "output_type": "stream",
     "text": [
      "Downloading data from https://storage.googleapis.com/tensorflow/tf-keras-datasets/boston_housing.npz\n",
      "57026/57026 [==============================] - 0s 0us/step\n"
     ]
    }
   ],
   "source": [
    "# 1. 데이터 준비\n",
    "from keras.datasets import boston_housing\n",
    "(train_x, train_y), (test_x, test_y) = (boston_housing.load_data())"
   ]
  },
  {
   "cell_type": "code",
   "execution_count": 255,
   "id": "dd0055b0-4b09-4e4a-be88-68427aae6320",
   "metadata": {},
   "outputs": [
    {
     "data": {
      "text/plain": [
       "(404, 13)"
      ]
     },
     "execution_count": 255,
     "metadata": {},
     "output_type": "execute_result"
    }
   ],
   "source": [
    "train_x.shape"
   ]
  },
  {
   "cell_type": "code",
   "execution_count": 256,
   "id": "c1eaa99d-1c65-4d2a-9ce4-3fc3accd53a4",
   "metadata": {},
   "outputs": [
    {
     "data": {
      "text/plain": [
       "(102, 13)"
      ]
     },
     "execution_count": 256,
     "metadata": {},
     "output_type": "execute_result"
    }
   ],
   "source": [
    "test_x.shape"
   ]
  },
  {
   "cell_type": "code",
   "execution_count": 257,
   "id": "d5e7a710-8b80-420b-b7fe-923283146e10",
   "metadata": {},
   "outputs": [
    {
     "data": {
      "text/plain": [
       "(404,)"
      ]
     },
     "execution_count": 257,
     "metadata": {},
     "output_type": "execute_result"
    }
   ],
   "source": [
    "train_y.shape"
   ]
  },
  {
   "cell_type": "code",
   "execution_count": 258,
   "id": "3fa7f218-c4fe-44f9-a8d0-cccd30e53494",
   "metadata": {},
   "outputs": [
    {
     "data": {
      "text/plain": [
       "array([15.2, 42.3, 50. , 21.1])"
      ]
     },
     "execution_count": 258,
     "metadata": {},
     "output_type": "execute_result"
    }
   ],
   "source": [
    "train_y[:4]"
   ]
  },
  {
   "cell_type": "code",
   "execution_count": 259,
   "id": "5dec290b-84a1-4b40-8e88-bd658baea1ca",
   "metadata": {},
   "outputs": [
    {
     "data": {
      "text/plain": [
       "array([[1.2325e+00, 0.0000e+00, 8.1400e+00, 0.0000e+00, 5.3800e-01, 6.1420e+00, 9.1700e+01, 3.9769e+00, 4.0000e+00, 3.0700e+02, 2.1000e+01, 3.9690e+02, 1.8720e+01],\n",
       "       [2.1800e-02, 8.2500e+01, 2.0300e+00, 0.0000e+00, 4.1500e-01, 7.6100e+00, 1.5700e+01, 6.2700e+00, 2.0000e+00, 3.4800e+02, 1.4700e+01, 3.9538e+02, 3.1100e+00],\n",
       "       [4.8982e+00, 0.0000e+00, 1.8100e+01, 0.0000e+00, 6.3100e-01, 4.9700e+00, 1.0000e+02, 1.3325e+00, 2.4000e+01, 6.6600e+02, 2.0200e+01, 3.7552e+02, 3.2600e+00]])"
      ]
     },
     "execution_count": 259,
     "metadata": {},
     "output_type": "execute_result"
    }
   ],
   "source": [
    "train_x[:3].round(4)"
   ]
  },
  {
   "cell_type": "code",
   "execution_count": null,
   "id": "7a2131de-dab5-47e6-851c-66e0ab653391",
   "metadata": {},
   "outputs": [],
   "source": [
    "# 2. 데이터 처리(전처리)\n",
    "정규화(normalizatio): 0과 1사이의 값으로 만들어주는 것\n",
    "표준화(standardization): 평균을 구하고 표준편차를 구하기??? 0을 기준으로 가르는 것????"
   ]
  },
  {
   "cell_type": "code",
   "execution_count": 260,
   "id": "8fb41d99-4086-4b7c-b092-89c31be0bc74",
   "metadata": {},
   "outputs": [
    {
     "data": {
      "text/plain": [
       "array([  1.23247,   0.     ,   8.14   ,   0.     ,   0.538  ,   6.142  ,  91.7    ,   3.9769 ,   4.     , 307.     ,  21.     , 396.9    ,  18.72   ])"
      ]
     },
     "execution_count": 260,
     "metadata": {},
     "output_type": "execute_result"
    }
   ],
   "source": [
    "train_x[0]"
   ]
  },
  {
   "cell_type": "code",
   "execution_count": 262,
   "id": "ebd9e290-b6f5-40c1-b5b9-80725c59cfd7",
   "metadata": {},
   "outputs": [
    {
     "data": {
      "text/plain": [
       "(404, 13)"
      ]
     },
     "execution_count": 262,
     "metadata": {},
     "output_type": "execute_result"
    }
   ],
   "source": [
    "train_x.shape"
   ]
  },
  {
   "cell_type": "code",
   "execution_count": 263,
   "id": "5675bc78-d4f5-4bbf-9c5c-8b6329499068",
   "metadata": {
    "collapsed": true,
    "jupyter": {
     "outputs_hidden": true
    },
    "tags": []
   },
   "outputs": [
    {
     "data": {
      "text/plain": [
       "array([  0. ,  82.5,   0. ,   0. ,   0. ,   0. ,   0. ,   0. ,   0. ,   0. ,   0. ,   0. ,   0. ,   0. ,   0. ,   0. ,   0. ,  70. ,  82.5,   0. ,   0. ,  75. ,  95. ,  18. ,   0. ,   0. ,  12.5,   0. ,   0. ,   0. ,  52.5,   0. ,   0. ,   0. ,  75. ,   0. ,   0. ,   0. ,   0. ,   0. ,   0. ,   0. ,   0. ,   0. ,   0. ,   0. ,   0. ,   0. ,  20. ,   0. ,   0. ,   0. ,   0. ,  52.5,   0. ,   0. ,   0. ,   0. ,  40. ,   0. ,   0. ,  20. ,   0. ,   0. ,   0. ,   0. ,   0. ,   0. ,   0. ,   0. ,   0. ,   0. ,  45. ,   0. ,   0. ,  12.5,   0. ,   0. ,  25. ,   0. ,   0. ,  20. ,   0. ,  55. ,   0. ,   0. ,   0. ,  95. ,   0. ,   0. ,   0. ,  95. ,   0. ,   0. ,   0. ,  30. ,  95. ,   0. ,  60. ,   0. ,  20. ,   0. ,   0. ,   0. ,   0. ,  22. ,   0. ,   0. ,   0. ,   0. ,   0. ,\n",
       "         0. ,   0. ,   0. ,  85. ,   0. ,   0. ,  12.5,   0. ,  80. ,   0. ,   0. ,   0. ,  90. ,   0. ,   0. ,   0. ,  45. ,  20. ,  40. ,   0. ,   0. ,   0. ,  45. ,   0. ,   0. ,   0. ,  20. ,  25. ,   0. ,   0. ,   0. ,   0. ,   0. ,   0. ,  22. ,  25. ,   0. ,   0. ,   0. ,   0. ,  40. ,   0. ,   0. ,   0. ,   0. ,   0. ,  30. ,   0. ,   0. ,  22. ,   0. ,   0. ,  20. ,  85. ,   0. ,   0. ,  30. ,  25. ,   0. ,   0. ,   0. ,   0. ,  80. ,  12.5,   0. ,   0. ,   0. ,   0. ,  25. ,   0. ,  20. ,   0. ,  45. ,   0. ,   0. ,   0. ,   0. ,   0. ,   0. ,   0. ,  20. ,   0. ,  33. ,  20. ,   0. ,  90. ,   0. ,  21. ,   0. ,  25. ,   0. ,  30. ,  20. ,   0. ,   0. ,   0. ,   0. ,   0. ,   0. ,   0. ,   0. ,  60. ,   0. ,   0. ,  40. ,   0. ,   0. ,   0. ,   0. ,   0. ,   0. ,\n",
       "         0. ,   0. ,   0. ,   0. ,  80. ,   0. ,   0. ,   0. ,  34. ,   0. ,   0. ,   0. ,  28. ,   0. ,   0. ,   0. ,   0. ,   0. ,   0. ,   0. ,   0. ,   0. ,   0. ,   0. ,  40. ,   0. ,   0. ,   0. ,   0. ,   0. ,   0. ,   0. ,   0. ,   0. ,  30. ,   0. ,   0. ,  80. ,  20. ,   0. ,   0. ,  70. ,   0. ,   0. ,   0. ,  80. ,  80. ,  28. ,   0. ,  25. ,  33. ,   0. ,   0. ,   0. ,  20. ,  22. ,  12.5,   0. ,   0. ,   0. ,   0. ,  55. ,   0. ,   0. ,   0. ,   0. ,   0. ,   0. ,   0. ,   0. ,   0. ,   0. ,   0. ,  28. ,  20. ,   0. ,  70. ,   0. ,   0. ,   0. ,  75. ,   0. ,   0. ,   0. ,  80. ,   0. ,  21. , 100. ,  22. ,  80. ,   0. ,   0. ,   0. ,   0. ,   0. ,   0. ,  80. ,   0. ,   0. ,   0. ,   0. ,   0. ,   0. ,   0. ,   0. ,  21. ,   0. ,   0. ,   0. ,   0. ,   0. ,\n",
       "        25. ,   0. ,   0. ,  20. ,  33. ,   0. ,   0. ,  25. ,   0. ,   0. ,   0. ,   0. ,   0. ,  34. ,   0. ,   0. ,  90. ,   0. ,   0. ,  80. ,  80. ,   0. ,   0. ,   0. ,   0. ,   0. ,   0. ,   0. ,   0. ,   0. ,   0. ,   0. ,   0. ,  35. ,   0. ,  35. ,   0. ,  12.5,   0. ,   0. ,   0. ,   0. ,   0. ,   0. ,   0. ,  21. ,  45. ,   0. ,   0. ,   0. ,  80. ,   0. ,   0. ,   0. ,   0. ,   0. ,   0. ,   0. ,   0. ,   0. ,   0. ,   0. ,   0. ,   0. ,   0. ,   0. ,   0. ,  20. ,  35. ,   0. ,  60. ])"
      ]
     },
     "execution_count": 263,
     "metadata": {},
     "output_type": "execute_result"
    }
   ],
   "source": [
    "train_x[:,1]"
   ]
  },
  {
   "cell_type": "code",
   "execution_count": 267,
   "id": "bb2a2778-5580-4d07-9f68-290ff69b057b",
   "metadata": {},
   "outputs": [],
   "source": [
    "mean = train_x.mean(axis=0)\n",
    "std = train_x.std(axis =0)"
   ]
  },
  {
   "cell_type": "code",
   "execution_count": 270,
   "id": "b7d1bbcf-b65c-445a-b413-eaf0d7aeb5b6",
   "metadata": {},
   "outputs": [
    {
     "data": {
      "text/plain": [
       "array([[ -0.43528338,  -0.50398828,  -1.6963705 ,  -1.32279581,  -6.16812483,  -9.08935798,  -2.44382666,  -1.78703536,  -1.15876151,  -2.44627393,  -7.88452909,  -3.76973875,  -1.64453751],\n",
       "       [ -0.44949685,  -0.3575834 ,  -1.82839562,  -1.32279581, -15.13077592,  -6.16826398,  -2.54141915,  -1.22931644,  -1.18526063,  -2.44478907,  -9.18895907,  -3.76991079,  -1.94188131],\n",
       "       [ -0.39224795,  -0.50398828,  -1.48115445,  -1.32279581,   0.60851381, -11.42145755,  -2.43316853,  -2.43019611,  -0.89377027,  -2.43327233,  -8.05017099,  -3.77215867,  -1.93902407]])"
      ]
     },
     "execution_count": 270,
     "metadata": {},
     "output_type": "execute_result"
    }
   ],
   "source": [
    "# train_x에 변형을 주기\n",
    "train_x = (train_x - mean) / std\n",
    "train_x[:3]"
   ]
  },
  {
   "cell_type": "code",
   "execution_count": 274,
   "id": "2b48928d-b419-4b26-9f79-22d87dac7354",
   "metadata": {},
   "outputs": [
    {
     "data": {
      "text/plain": [
       "array([[ -0.45253996,  -0.50488266,  -1.90426477, ..., -13.89943606,  -3.81509384,  -2.02869901],\n",
       "       [ -0.45501547,  -0.50488266,  -1.90804205, ..., -14.00232571,  -3.81508913,  -2.03335784],\n",
       "       [ -0.45502488,  -0.50488266,  -1.91029255, ..., -13.89943606,  -3.81508911,  -2.0357054 ],\n",
       "       ...,\n",
       "       [ -0.45477972,  -0.50488266,  -1.90357375, ..., -14.13522484,  -3.8150892 ,  -2.03854279],\n",
       "       [ -0.45498311,  -0.50488266,  -1.90982097, ..., -14.01947399,  -3.81508917,  -2.03571629],\n",
       "       [ -0.45462946,  -0.50488266,  -1.90357375, ..., -14.13522484,  -3.81509111,  -2.03568   ]])"
      ]
     },
     "execution_count": 274,
     "metadata": {},
     "output_type": "execute_result"
    }
   ],
   "source": [
    "test_x = (test_x - mean) / std\n",
    "test_x"
   ]
  },
  {
   "cell_type": "code",
   "execution_count": 279,
   "id": "6f79b3d9-bfcc-47dc-9c78-59bca81dc3c9",
   "metadata": {},
   "outputs": [],
   "source": [
    "# 3. 모델만들기(정의하기) \n",
    "model = Sequential([\n",
    "    Dense(64, activation=\"relu\"),\n",
    "    Dense(64, activation=\"relu\"),\n",
    "    Dense(1)\n",
    "])\n",
    "\n",
    "model.compile(optimizer = \"rmsprop\",\n",
    "              loss = \"mse\",\n",
    "              metrics=\"mae\")"
   ]
  },
  {
   "cell_type": "code",
   "execution_count": 284,
   "id": "1b919c30-63f0-4a3f-a9ec-51167976801b",
   "metadata": {},
   "outputs": [],
   "source": [
    "history = model.fit(train_x, train_y,\n",
    "         epochs=100, verbose=0, batch_size=16)"
   ]
  },
  {
   "cell_type": "code",
   "execution_count": 286,
   "id": "cf1cce29-0a8e-46c9-aad1-be412caf8ef9",
   "metadata": {
    "collapsed": true,
    "jupyter": {
     "outputs_hidden": true
    },
    "tags": []
   },
   "outputs": [
    {
     "data": {
      "text/plain": [
       "[2.540355682373047,\n",
       " 2.42220401763916,\n",
       " 2.6295790672302246,\n",
       " 2.326859951019287,\n",
       " 2.4585788249969482,\n",
       " 2.5641696453094482,\n",
       " 2.4559028148651123,\n",
       " 2.4403436183929443,\n",
       " 2.5333454608917236,\n",
       " 2.4578611850738525,\n",
       " 2.4135236740112305,\n",
       " 2.4722869396209717,\n",
       " 2.3910434246063232,\n",
       " 2.480563163757324,\n",
       " 2.438351631164551,\n",
       " 2.3950276374816895,\n",
       " 2.480914354324341,\n",
       " 2.3631069660186768,\n",
       " 2.5282840728759766,\n",
       " 2.4087204933166504,\n",
       " 2.485910654067993,\n",
       " 2.440065622329712,\n",
       " 2.4938888549804688,\n",
       " 2.4366087913513184,\n",
       " 2.452949285507202,\n",
       " 2.484762668609619,\n",
       " 2.4594082832336426,\n",
       " 2.3376710414886475,\n",
       " 2.4047393798828125,\n",
       " 2.417611837387085,\n",
       " 2.44022798538208,\n",
       " 2.363081932067871,\n",
       " 2.3724050521850586,\n",
       " 2.389408588409424,\n",
       " 2.5318291187286377,\n",
       " 2.491245985031128,\n",
       " 2.4544618129730225,\n",
       " 2.392468214035034,\n",
       " 2.4648165702819824,\n",
       " 2.4047892093658447,\n",
       " 2.289639711380005,\n",
       " 2.497663736343384,\n",
       " 2.344161033630371,\n",
       " 2.425292491912842,\n",
       " 2.3706021308898926,\n",
       " 2.3469619750976562,\n",
       " 2.3512415885925293,\n",
       " 2.4177730083465576,\n",
       " 2.310274124145508,\n",
       " 2.408853530883789,\n",
       " 2.3013951778411865,\n",
       " 2.5085089206695557,\n",
       " 2.4309353828430176,\n",
       " 2.286616802215576,\n",
       " 2.5023269653320312,\n",
       " 2.3934736251831055,\n",
       " 2.3563175201416016,\n",
       " 2.3016607761383057,\n",
       " 2.4172656536102295,\n",
       " 2.243537425994873,\n",
       " 2.3775196075439453,\n",
       " 2.2961089611053467,\n",
       " 2.290747880935669,\n",
       " 2.35701060295105,\n",
       " 2.38470458984375,\n",
       " 2.268573522567749,\n",
       " 2.4292209148406982,\n",
       " 2.352090835571289,\n",
       " 2.311189889907837,\n",
       " 2.352872371673584,\n",
       " 2.252561330795288,\n",
       " 2.2515382766723633,\n",
       " 2.354339361190796,\n",
       " 2.305819034576416,\n",
       " 2.3475441932678223,\n",
       " 2.3423001766204834,\n",
       " 2.3524093627929688,\n",
       " 2.3921165466308594,\n",
       " 2.4022128582000732,\n",
       " 2.3047988414764404,\n",
       " 2.3456010818481445,\n",
       " 2.292585611343384,\n",
       " 2.4791178703308105,\n",
       " 2.3766753673553467,\n",
       " 2.321272850036621,\n",
       " 2.317760705947876,\n",
       " 2.3088855743408203,\n",
       " 2.363173484802246,\n",
       " 2.322053909301758,\n",
       " 2.262131452560425,\n",
       " 2.3361284732818604,\n",
       " 2.319930076599121,\n",
       " 2.2409756183624268,\n",
       " 2.2756927013397217,\n",
       " 2.420713424682617,\n",
       " 2.4647748470306396,\n",
       " 2.2840914726257324,\n",
       " 2.3998053073883057,\n",
       " 2.23246693611145,\n",
       " 2.299224853515625]"
      ]
     },
     "execution_count": 286,
     "metadata": {},
     "output_type": "execute_result"
    }
   ],
   "source": [
    "history.history['mae']"
   ]
  },
  {
   "cell_type": "code",
   "execution_count": 288,
   "id": "1fb95810-d96b-452e-a894-4647c22033a2",
   "metadata": {},
   "outputs": [
    {
     "data": {
      "text/plain": [
       "[<matplotlib.lines.Line2D at 0x1a3dcfce430>]"
      ]
     },
     "execution_count": 288,
     "metadata": {},
     "output_type": "execute_result"
    },
    {
     "data": {
      "image/png": "[encoded data removed]",
      "text/plain": [
       "<Figure size 360x288 with 1 Axes>"
      ]
     },
     "metadata": {
      "needs_background": "light"
     },
     "output_type": "display_data"
    }
   ],
   "source": [
    "plt.plot(history.history['mae'])"
   ]
  },
  {
   "cell_type": "code",
   "execution_count": 291,
   "id": "295f9e05-892d-4ed4-a17c-a2cdc5c40da6",
   "metadata": {
    "tags": []
   },
   "outputs": [
    {
     "name": "stdout",
     "output_type": "stream",
     "text": [
      "4/4 [==============================] - 0s 1ms/step\n"
     ]
    }
   ],
   "source": [
    "preds = model.predict(test_x)"
   ]
  },
  {
   "cell_type": "code",
   "execution_count": 292,
   "id": "dc899841-07e3-4302-be9d-aab1b6c1b68c",
   "metadata": {},
   "outputs": [
    {
     "name": "stdout",
     "output_type": "stream",
     "text": [
      "4/4 [==============================] - 0s 1ms/step - loss: 2182406.5000 - mae: 1146.2706\n"
     ]
    },
    {
     "data": {
      "text/plain": [
       "[2182406.5, 1146.2706298828125]"
      ]
     },
     "execution_count": 292,
     "metadata": {},
     "output_type": "execute_result"
    }
   ],
   "source": [
    "model.evaluate(test_x, test_y)"
   ]
  },
  {
   "cell_type": "code",
   "execution_count": null,
   "id": "4ea4924d-909a-4050-bd83-397c03c64184",
   "metadata": {},
   "outputs": [],
   "source": [
    "# k-fold cross validation\n",
    "cv = 5(5조각을 낸다)"
   ]
  },
  {
   "cell_type": "code",
   "execution_count": 297,
   "id": "55f3e461-654b-4f51-a3c9-4729d985c41d",
   "metadata": {},
   "outputs": [],
   "source": [
    "k=4\n",
    "num_val_samples =len(train_x)//k\n",
    "num_epochs =100\n",
    "all_scores =[]\n",
    "\n",
    "for i in range(k):\n",
    "    val_x = train_x[i *num_val_samples: (i + 1) * num_val_samples ]\n",
    "    partial_train_data = \n",
    "    "
   ]
  },
  {
   "cell_type": "code",
   "execution_count": null,
   "id": "1f0dee29-9085-4b0f-b10f-e7e763a0f0af",
   "metadata": {},
   "outputs": [],
   "source": [
    "100개를 5조각으로 냄\n",
    "1:20, 21:100\n"
   ]
  },
  {
   "cell_type": "markdown",
   "id": "dc7a9f21-250b-4c2e-bb27-709bef361aa9",
   "metadata": {},
   "source": [
    "# 11.24"
   ]
  },
  {
   "cell_type": "code",
   "execution_count": null,
   "id": "fb5e0427-732c-43b8-ae24-aeaa37f14838",
   "metadata": {},
   "outputs": [],
   "source": [
    "# PPT"
   ]
  },
  {
   "cell_type": "code",
   "execution_count": null,
   "id": "93db47c5-5bc4-48fb-961e-1046ecb9c2d5",
   "metadata": {},
   "outputs": [],
   "source": [
    "활성화함수의 종류: sigmoid, tanh, relu, leaky relu, softmax\n",
    "손실함수의 종류: 비용함수, 오차함수, 손실함수\n",
    "최적화 옵티마이저의 종류: RMSprop, Batch Gradient Descent, Stochastic Gradient Descent"
   ]
  },
  {
   "cell_type": "code",
   "execution_count": null,
   "id": "dd917481-a0f9-4bf6-a778-eb94205e41d2",
   "metadata": {},
   "outputs": [],
   "source": [
    "# 케라스 홈페이지 keras.io\n",
    "# https://keras.io/\n",
    "# https://keras.io/ko/"
   ]
  },
  {
   "cell_type": "code",
   "execution_count": null,
   "id": "995da564-c38c-443b-81f7-85e849af0fa9",
   "metadata": {},
   "outputs": [],
   "source": [
    "# 용어\n",
    "최소한의 그림\n",
    "퍼셉트론(유닛, 뉴런), 레이어(층)\n",
    "가중치(텐서)\n",
    "활성화함수\n",
    "오차함수\n",
    "옵티마이저\n",
    "역전파\n",
    "경사하강법"
   ]
  },
  {
   "cell_type": "code",
   "execution_count": null,
   "id": "09a78cab-9ff6-4a5a-a953-87ac3264399c",
   "metadata": {},
   "outputs": [],
   "source": [
    "# 딥러닝 간단 구조\n",
    "it is not complicated. it is just a lot of it\n",
    "여러개의 가중치(W) layer(층)마다 가중치가 부여됨\n",
    "편향이 필요한 이유: 가중치와 무관한 것을 넣어 좀 더 값을 그럴듯하게 만들기 위함임\n",
    "x1, x2: input 사람은 한명이고 관측치는 1개이고 칼럼은 4개(=피처가4개)\n",
    "목적: W 숫자 찾기"
   ]
  },
  {
   "cell_type": "code",
   "execution_count": null,
   "id": "df9e9a92-3d09-454c-b834-5107e2c3b31f",
   "metadata": {},
   "outputs": [],
   "source": [
    "# 신경망 학습과정\n",
    "1. 가중치를 적당한 값: 랜덤하게\n",
    "2. 곱하고 더하고 손실함수 정의\n",
    "3. 오차계산\n",
    "4. 가중치조절(가중치 바꾸기)키우거나 줄이거나\n",
    "5. 반복"
   ]
  },
  {
   "cell_type": "code",
   "execution_count": null,
   "id": "5fbb0658-a1ce-4f3d-8eb9-9e0ea20dd075",
   "metadata": {},
   "outputs": [],
   "source": [
    "# 활성화함수 activation함수"
   ]
  },
  {
   "cell_type": "code",
   "execution_count": null,
   "id": "1257f98c-7835-404a-8d71-43a9f9d451a3",
   "metadata": {},
   "outputs": [],
   "source": [
    "# 활성화함수 종류: sigmoid, tanh, relu, leaky relu"
   ]
  },
  {
   "cell_type": "code",
   "execution_count": null,
   "id": "3ab50cdd-2f1a-49a6-816e-01123e7442d5",
   "metadata": {},
   "outputs": [],
   "source": [
    "# softmax함수\n",
    "1,2,3,4\n",
    "=>\n",
    "1,100,1000,10000\n",
    "# 쉽게 구별하기 위해서 숫자를 바꾼다\n",
    "=>\n",
    "e1,e2,e3,e4(제곱)\n",
    "# 숫자가차지하고있는 만큼, a,b,c,d가 될 수 있는 확률\n",
    "1: 1/10 0.1  e1/(e1+e2+e3+e4) => e의k승/(시그마e의 k승)\n",
    "2: 2/10 0.2\n",
    "3: 3/10 0.3\n",
    "4: 4/10 0.4\n",
    "\n",
    "마지막층이 0.75가 나오면 얘는 개에요?\n",
    "-분류를할때 씀\n",
    "\n",
    "-보스턴집값: 회귀 문제, 마지막층이 없음"
   ]
  },
  {
   "cell_type": "code",
   "execution_count": null,
   "id": "6dda667f-7659-49c4-8b37-311240f7bd1a",
   "metadata": {},
   "outputs": [],
   "source": [
    "sigmoid함수를 쓰면 합이1이 아니지만\n",
    "sioftmax함수를 쓰면 합이 1이 된다."
   ]
  },
  {
   "cell_type": "code",
   "execution_count": null,
   "id": "897cebcb-f806-4701-928a-46b16a2111ee",
   "metadata": {},
   "outputs": [],
   "source": [
    "# 손실함수 loss function p.167"
   ]
  },
  {
   "cell_type": "code",
   "execution_count": null,
   "id": "85ec7e89-d6ea-4303-a8bd-53f1f8c314d0",
   "metadata": {},
   "outputs": [],
   "source": [
    "손실이 가장 작아졌을 때의 w를 찾는 것이 목표\n",
    "loss=f(x)\n",
    "손실함수= 손실을 다 더했을 때\n",
    "-mse: 차이(오차)를 구하고 제곱을 한후 평균을 구함\n",
    "pred-실제=오차\n",
    "각 타겟값, 계산값의 차이를 최소로 한다\n",
    "전국민을 조사하지 않고 1000명정도만 한다\n",
    "-cross-entropy을 구하는 수식 yloga + (1-y)log(1-a): 분류를 구할때 사용\n",
    ": 전체 집합간의 분포의 차이를 볼 때 사용(분포를 본다) 경우에 따라서 cost function을 정함\n",
    "cost function에 따라 달라진다. 잘 넣어야함"
   ]
  },
  {
   "cell_type": "code",
   "execution_count": null,
   "id": "82714009-35ae-4beb-a2f0-4643b8e16c09",
   "metadata": {},
   "outputs": [],
   "source": [
    "# 옵티마이저\n",
    "3개정도 기억하기 (rmsprp, adam, sgd)\n",
    "\n",
    "gd: 전체에 대한 것을 다 함\n",
    "momentum:관성\n",
    "그냥 3개만 알기"
   ]
  },
  {
   "cell_type": "code",
   "execution_count": null,
   "id": "a74d4e0d-1e30-45d5-b9d1-5d30e1a31097",
   "metadata": {},
   "outputs": [],
   "source": [
    "# 경사하강법\n",
    "-늘일지 줄일지 결정\n",
    "gradient desent 기울기를 구하기\n",
    "경사하강법 알고리즘: 최적화속도가 가장 빠른 것을 골라줌 :노란색이 가장 빠름"
   ]
  },
  {
   "cell_type": "code",
   "execution_count": null,
   "id": "8ffad028-c338-49c3-97a6-8990ce7a4e53",
   "metadata": {},
   "outputs": [],
   "source": [
    "# 오차역전파\n",
    "-늘릴지 줄일지의 크기를 결정"
   ]
  },
  {
   "cell_type": "code",
   "execution_count": null,
   "id": "f22ef086-8759-4694-885e-b565716175a8",
   "metadata": {},
   "outputs": [],
   "source": [
    "backpropagation: 뒤에서부터 바꾼다 (오차역전파, 역방향)\n",
    "w값을 변경할 때 오른쪽에서 왼쪽 방향으로 값을 보낸다 <-\n",
    "오차의 값이 전파된다\n",
    "연쇄법칙: dy/dx\n",
    "경사하강법: 기울기 구하는 것, 미분하는 것"
   ]
  },
  {
   "cell_type": "code",
   "execution_count": null,
   "id": "83ac2b77-87e9-42b7-8e27-e871f5f3170a",
   "metadata": {},
   "outputs": [],
   "source": [
    "학습율: w n+1 = w n -기울기(w의 수정할 값의 크기)---> 핑크노트에 씀"
   ]
  },
  {
   "cell_type": "code",
   "execution_count": null,
   "id": "8de71aba-70c6-446e-8142-a0ef3f0b17bb",
   "metadata": {},
   "outputs": [],
   "source": [
    "# overfitting: 오버피팅 과적합\n",
    "잔디깍기 기계 매니아\n",
    "파란쪽에 있는 빨간색을 무시하면됨\n",
    "- train은 0으로 가까워지지만(줄어든다)\n",
    "- 하지만 0으로 가지 않고 상승하는 그래프가 나오면 그게 overfitting임\n",
    "- 과적합 방지 종류: 마지막이 가장 중요 3가지 정도는 알고있기"
   ]
  },
  {
   "cell_type": "code",
   "execution_count": null,
   "id": "56267855-17c7-4492-8190-af24498f135d",
   "metadata": {},
   "outputs": [],
   "source": [
    "# P.173"
   ]
  },
  {
   "cell_type": "code",
   "execution_count": 6,
   "id": "a6f6ddfe-564e-4cd3-8a9d-c00401da80d8",
   "metadata": {},
   "outputs": [],
   "source": [
    "# 4-23 모델 정의하기\n",
    "def build_model():\n",
    "    model = keras.Sequential([\n",
    "        layers.Dense(64,activation =\"relu\"),\n",
    "        layers.Dense(64, activation=\"relu\"),\n",
    "        layers.Dense(1)\n",
    "    ])\n",
    "    model.compile(optimizer=\"rmsprop\", loss=\"mse\", metrics=[\"mae\"])\n",
    "    return model"
   ]
  },
  {
   "cell_type": "code",
   "execution_count": null,
   "id": "73d3eba6-9a29-4b0c-8a8c-930aad394400",
   "metadata": {},
   "outputs": [],
   "source": [
    "# 이 모델의 마지막 층은 하나의 유닛을 가지고 있으므로 활성화 함수가 없다. =선형층\n",
    "# 전형적인 스칼라 회귀(하나의 연속적인 값을 예측하는 회귀)\n",
    "# 활성화 함수를 적용하면 출력 값의 범위를 제한하게 됨"
   ]
  },
  {
   "cell_type": "code",
   "execution_count": null,
   "id": "d00f30e1-8ecc-47a5-8ab6-380499b79dcf",
   "metadata": {},
   "outputs": [],
   "source": [
    "# sigmoid 활성화 함수를 적용하면 모델이 0과1 사이의 값을 예측하도록 학습될 것임\n",
    "# 여기서 마지막 층이 순수한 선형이므로 모델이 어떤 범위의 값이라도 예측하도록 자유롭게 학습됨"
   ]
  },
  {
   "cell_type": "code",
   "execution_count": null,
   "id": "0308b24d-d89b-4246-a7ce-154a4b063355",
   "metadata": {},
   "outputs": [],
   "source": [
    "# 모델을 평가하기 위해 이전 예제에서 했던 것 처럼 데이터를 훈련 세트와 검증세트로 나눔\n",
    "# 약 100개의 샘플\n",
    "# 검증세트와 훈련세트로 어떤 데이터 포인트가 선택되었는지에 따라 검증 점수가 크게 달라짐\n",
    "# 검증 세트의 분할에 대한 검증 점수의 분산이 높음=> 신뢰할 수 없는 모델이 됨"
   ]
  },
  {
   "cell_type": "code",
   "execution_count": 8,
   "id": "2a7127e8-6ffd-404d-83c6-a91921ffbf09",
   "metadata": {},
   "outputs": [
    {
     "ename": "NameError",
     "evalue": "name 'train_data' is not defined",
     "output_type": "error",
     "traceback": [
      "\u001b[1;31m---------------------------------------------------------------------------\u001b[0m",
      "\u001b[1;31mNameError\u001b[0m                                 Traceback (most recent call last)",
      "Input \u001b[1;32mIn [8]\u001b[0m, in \u001b[0;36m<cell line: 3>\u001b[1;34m()\u001b[0m\n\u001b[0;32m      1\u001b[0m \u001b[38;5;66;03m# 4-26 k-겹 검증하기\u001b[39;00m\n\u001b[0;32m      2\u001b[0m k\u001b[38;5;241m=\u001b[39m \u001b[38;5;241m4\u001b[39m\n\u001b[1;32m----> 3\u001b[0m num_val_samples \u001b[38;5;241m=\u001b[39m\u001b[38;5;28mlen\u001b[39m(\u001b[43mtrain_data\u001b[49m)\u001b[38;5;241m/\u001b[39m\u001b[38;5;241m/\u001b[39mk\n\u001b[0;32m      4\u001b[0m num_epochs \u001b[38;5;241m=\u001b[39m\u001b[38;5;241m100\u001b[39m\n\u001b[0;32m      5\u001b[0m all_scores\u001b[38;5;241m=\u001b[39m[]\n",
      "\u001b[1;31mNameError\u001b[0m: name 'train_data' is not defined"
     ]
    }
   ],
   "source": [
    "# 4-26 k-겹 검증하기\n",
    "\n",
    "k=4   #500개짜리가 5번 나와야함 # 5조각내기 \n",
    "num_epochs=100   #100번동안 계속 떨어지게하기\n",
    "all_mae_histories=[]\n",
    "\n",
    "\n",
    "for i in range(k):\n",
    "    print(f\"#{i}번째 폴드 처리중\")\n",
    "    val_data = train_data[i * num_val_samples: (i + 1) * num_val_samples]\n",
    "    val_targets = train_targets[i * num_val_samples: (i + 1) * num_val_samples]\n",
    "    partial_train_data = np.concatenate(\n",
    "        [train_data[:i * num_val_samples],\n",
    "         train_data[(i + 1) * num_val_samples:]],\n",
    "        axis=0)\n",
    "    partial_train_targets = np.concatenate(\n",
    "        [train_targets[:i * num_val_samples],\n",
    "         train_targets[(i + 1) * num_val_samples:]],\n",
    "        axis=0)\n",
    "    model = build_model()\n",
    "    history = model.fit(partial_train_data, partial_train_targets,\n",
    "                        validation_data=(val_data, val_targets),\n",
    "                        epochs=num_epochs, batch_size=16, verbose=0)\n",
    "    mae_history = history.history[\"val_mae\"]\n",
    "    print(mae_history[:10])\n",
    "    \n",
    "    all_mae_histories.append(mae_history)\n",
    "    print(all_mae_histories[:3])"
   ]
  },
  {
   "cell_type": "code",
   "execution_count": 9,
   "id": "51ebc519-2f37-4060-a6fd-b73edcf0baea",
   "metadata": {},
   "outputs": [
    {
     "name": "stdout",
     "output_type": "stream",
     "text": [
      "#0번째 폴드 처리중\n"
     ]
    },
    {
     "ename": "NameError",
     "evalue": "name 'train_data' is not defined",
     "output_type": "error",
     "traceback": [
      "\u001b[1;31m---------------------------------------------------------------------------\u001b[0m",
      "\u001b[1;31mNameError\u001b[0m                                 Traceback (most recent call last)",
      "Input \u001b[1;32mIn [9]\u001b[0m, in \u001b[0;36m<cell line: 4>\u001b[1;34m()\u001b[0m\n\u001b[0;32m      4\u001b[0m \u001b[38;5;28;01mfor\u001b[39;00m i \u001b[38;5;129;01min\u001b[39;00m \u001b[38;5;28mrange\u001b[39m(k):\n\u001b[0;32m      5\u001b[0m     \u001b[38;5;28mprint\u001b[39m(\u001b[38;5;124mf\u001b[39m\u001b[38;5;124m\"\u001b[39m\u001b[38;5;124m#\u001b[39m\u001b[38;5;132;01m{\u001b[39;00mi\u001b[38;5;132;01m}\u001b[39;00m\u001b[38;5;124m번째 폴드 처리중\u001b[39m\u001b[38;5;124m\"\u001b[39m)\n\u001b[1;32m----> 6\u001b[0m     val_data \u001b[38;5;241m=\u001b[39m \u001b[43mtrain_data\u001b[49m[i \u001b[38;5;241m*\u001b[39mnum_val_samples: (i\u001b[38;5;241m+\u001b[39m\u001b[38;5;241m1\u001b[39m)\u001b[38;5;241m*\u001b[39mnum_val_samples]\n\u001b[0;32m      7\u001b[0m     val_targets\u001b[38;5;241m=\u001b[39m train_targets[i \u001b[38;5;241m*\u001b[39mnum_val_samples: (i\u001b[38;5;241m+\u001b[39m\u001b[38;5;241m1\u001b[39m) \u001b[38;5;241m*\u001b[39mnum_val_samples]\n\u001b[0;32m      8\u001b[0m     partial_train_data\u001b[38;5;241m=\u001b[39m np\u001b[38;5;241m.\u001b[39mconcatenate(\n\u001b[0;32m      9\u001b[0m         [train_data[:i \u001b[38;5;241m*\u001b[39m num_val_samples],\n\u001b[0;32m     10\u001b[0m         train_data[(i\u001b[38;5;241m+\u001b[39m\u001b[38;5;241m1\u001b[39m)\u001b[38;5;241m*\u001b[39mnum_val_samples:]],\n\u001b[0;32m     11\u001b[0m         axis\u001b[38;5;241m=\u001b[39m\u001b[38;5;241m0\u001b[39m)\n",
      "\u001b[1;31mNameError\u001b[0m: name 'train_data' is not defined"
     ]
    }
   ],
   "source": [
    "# 4-7 각 폴드의 검증 점수 저장하기\n",
    "num_epochs=500\n",
    "num_mae_histories=[]\n",
    "for i in range(k):\n",
    "    print(f\"#{i}번째 폴드 처리중\")\n",
    "    val_data = train_data[i *num_val_samples: (i+1)*num_val_samples]\n",
    "    val_targets= train_targets[i *num_val_samples: (i+1) *num_val_samples]\n",
    "    partial_train_data= np.concatenate(\n",
    "        [train_data[:i * num_val_samples],\n",
    "        train_data[(i+1)*num_val_samples:]],\n",
    "        axis=0)\n",
    "    partial_train_targets = np.concatenate(\n",
    "        [train_targets[:i *num_val_samples],\n",
    "        train_targets[(i+1) * num_val_samples:]],\n",
    "        axis=0)\n",
    "    model = build_model()\n",
    "    history = model.fit(partial_train_data, partial_train_targets,\n",
    "                       validation_data =(val_data, val_targets),\n",
    "                        epochs=num_epochs, batch_size=16, verbose=0)\n",
    "    mae_history= history.history['val_mae']\n",
    "    all_mae_histories.append(mae_history)"
   ]
  },
  {
   "cell_type": "markdown",
   "id": "379a0c17-b39e-4821-8bbd-e1f0353190c6",
   "metadata": {},
   "source": [
    "# 11.25 p.90"
   ]
  },
  {
   "cell_type": "code",
   "execution_count": null,
   "id": "63d0690c-3d4d-4d8b-9f3b-0d6acda46ed2",
   "metadata": {},
   "outputs": [],
   "source": [
    "미분 = 도함수 = 기울기 = (미분계수) = Gradient(GRAD)"
   ]
  },
  {
   "cell_type": "code",
   "execution_count": null,
   "id": "b30e3751-6850-4b4e-82fc-baa07dd03df0",
   "metadata": {},
   "outputs": [],
   "source": [
    "아이스크림 판매예상\n",
    "Z = X+2Y\n",
    "Z= 판매량\n",
    "X=가격\n",
    "Y=온도\n",
    "\n",
    "가격을 동결해놓고 온도만 올라간다면 판매량이 어떻게 변화하는지 미분을 해보면 됨\n",
    "dz/d = (dx/dx) + (d2y/dy)"
   ]
  },
  {
   "cell_type": "code",
   "execution_count": null,
   "id": "397acc1f-6f3b-4ba2-91c8-d406e13a0c10",
   "metadata": {},
   "outputs": [],
   "source": []
  },
  {
   "cell_type": "markdown",
   "id": "7e57ad3d-8dc1-4f6b-84d3-347704ecdb5f",
   "metadata": {},
   "source": [
    "# 11.28"
   ]
  },
  {
   "cell_type": "markdown",
   "id": "e81bfbde-555c-4edd-b88e-58511186edfc",
   "metadata": {},
   "source": [
    "# p.87"
   ]
  },
  {
   "cell_type": "code",
   "execution_count": 1,
   "id": "dbe55032-2934-41e2-a0c1-81430827fbbb",
   "metadata": {},
   "outputs": [],
   "source": [
    "# p.244"
   ]
  },
  {
   "cell_type": "markdown",
   "id": "a456f404-7100-402d-bf67-1b0cfa2f873c",
   "metadata": {},
   "source": [
    "# 7. 케라스 완전정복"
   ]
  },
  {
   "cell_type": "markdown",
   "id": "db0b6b83-869c-47b0-a984-dad221f6aa5d",
   "metadata": {},
   "source": [
    "## 7.1 다양한 워크플로\n",
    "- 케라스 API 설계는 복잡성의 단계적 공계 원칙을 따른다."
   ]
  },
  {
   "cell_type": "code",
   "execution_count": 14,
   "id": "d31b031b-c3e0-4ea2-95e9-49499f27a765",
   "metadata": {},
   "outputs": [],
   "source": [
    "## 7.2.1 Sequential모델\n",
    "\n",
    "# 7-1 Sequantial클래스\n",
    "from tensorflow import keras\n",
    "from tensorflow.keras import layers\n",
    "\n",
    "model= keras.Sequential([\n",
    "    layers.Dense(64, activation=\"relu\"),\n",
    "    layers.Dense(10, activation=\"softmax\")\n",
    "])"
   ]
  },
  {
   "cell_type": "code",
   "execution_count": 12,
   "id": "c553ecd2-f7cb-42b2-be92-fdbd2bc37996",
   "metadata": {},
   "outputs": [],
   "source": [
    "# 7-2 점진적으로 Sequential모델 만들기\n",
    "model= keras.Sequential()\n",
    "model.add(layers.Dense(64, activation=\"relu\"))\n",
    "model.add(layers.Dense(10, activation=\"softmax\"))"
   ]
  },
  {
   "cell_type": "code",
   "execution_count": 15,
   "id": "654d6ae6-0725-41ad-bed6-dced50c95c0b",
   "metadata": {
    "collapsed": true,
    "jupyter": {
     "outputs_hidden": true
    },
    "tags": []
   },
   "outputs": [
    {
     "data": {
      "text/plain": [
       "[<tf.Variable 'dense_10/kernel:0' shape=(3, 64) dtype=float32, numpy=\n",
       " array([[-0.18709794,  0.18510982, -0.08462505,  0.15945265, -0.2489919 ,\n",
       "         -0.19047415, -0.04288957,  0.08256987,  0.0404039 , -0.20743509,\n",
       "          0.28062862,  0.13471472,  0.22461402, -0.1632188 , -0.11128865,\n",
       "          0.00570965, -0.06824774,  0.2006732 ,  0.16247958,  0.22432154,\n",
       "          0.04697749, -0.15738122, -0.11348437,  0.16983998,  0.24940449,\n",
       "         -0.10879683, -0.09874256, -0.2643659 , -0.03896439, -0.12276118,\n",
       "         -0.2535286 , -0.10894282, -0.06252803, -0.11026409, -0.06503397,\n",
       "         -0.00875312, -0.02383938, -0.2924439 ,  0.26906407, -0.23215768,\n",
       "         -0.15043056,  0.1667167 , -0.21981609,  0.15767911, -0.19369043,\n",
       "         -0.01049405, -0.17223783, -0.08055125,  0.21358395, -0.2974761 ,\n",
       "         -0.11619143,  0.1266003 , -0.12508175, -0.04117852, -0.062176  ,\n",
       "         -0.24450114,  0.11064354, -0.22617027, -0.2872613 , -0.08030018,\n",
       "         -0.08466849,  0.2694993 , -0.12801805, -0.03259578],\n",
       "        [ 0.12420517, -0.27838612, -0.05008125,  0.15625978, -0.2702745 ,\n",
       "          0.00936377, -0.01197982, -0.02313361, -0.01855803, -0.10423988,\n",
       "         -0.16661844, -0.12303922,  0.07034379,  0.10469723, -0.13549554,\n",
       "          0.28231645, -0.00539181,  0.24815786,  0.11584619, -0.09729749,\n",
       "          0.24154842,  0.1772241 , -0.29378545, -0.05251527, -0.05163677,\n",
       "          0.03581619, -0.11508276, -0.26354343,  0.14252785,  0.030384  ,\n",
       "          0.13771945,  0.2910726 ,  0.25635415,  0.26422852,  0.14994946,\n",
       "          0.17783353,  0.29425114,  0.26080203, -0.22202279, -0.22113237,\n",
       "          0.14813867, -0.10703391,  0.07484782,  0.25263017,  0.1770044 ,\n",
       "          0.06063277, -0.10501949,  0.25118595, -0.09933053, -0.05164483,\n",
       "          0.1936233 , -0.06421083, -0.18791357,  0.18563724, -0.21785453,\n",
       "          0.06383082,  0.0323236 ,  0.03601104,  0.18962413, -0.18084532,\n",
       "         -0.18288137, -0.28519937, -0.07620832, -0.04910558],\n",
       "        [-0.25388134, -0.13262752, -0.08743072, -0.09810479,  0.14594096,\n",
       "         -0.19235489, -0.14279932, -0.03345045, -0.2667201 ,  0.08991587,\n",
       "          0.26660228, -0.12121351,  0.2850659 , -0.17107566, -0.2936707 ,\n",
       "         -0.13828173, -0.2043558 ,  0.27036273,  0.00360584, -0.16037469,\n",
       "         -0.21996176, -0.17894855, -0.2875576 , -0.0752756 , -0.29284567,\n",
       "          0.27257198, -0.17036688,  0.24385464,  0.13582167,  0.25249624,\n",
       "          0.16226509, -0.1659181 ,  0.01937211, -0.0511927 , -0.09083392,\n",
       "          0.22208422, -0.24210608, -0.04441592, -0.05303611, -0.23030907,\n",
       "          0.01824367,  0.1684457 ,  0.02045822,  0.1640817 ,  0.2338826 ,\n",
       "         -0.18759659,  0.04459128,  0.26538217, -0.05018492, -0.29232526,\n",
       "          0.05615699,  0.01364884, -0.11255178,  0.22018445,  0.20640004,\n",
       "         -0.06090373, -0.23011166,  0.27767843, -0.0053505 , -0.13128199,\n",
       "         -0.10288942,  0.10142136, -0.14232406,  0.12607989]],\n",
       "       dtype=float32)>,\n",
       " <tf.Variable 'dense_10/bias:0' shape=(64,) dtype=float32, numpy=\n",
       " array([0., 0., 0., 0., 0., 0., 0., 0., 0., 0., 0., 0., 0., 0., 0., 0., 0.,\n",
       "        0., 0., 0., 0., 0., 0., 0., 0., 0., 0., 0., 0., 0., 0., 0., 0., 0.,\n",
       "        0., 0., 0., 0., 0., 0., 0., 0., 0., 0., 0., 0., 0., 0., 0., 0., 0.,\n",
       "        0., 0., 0., 0., 0., 0., 0., 0., 0., 0., 0., 0., 0.], dtype=float32)>,\n",
       " <tf.Variable 'dense_11/kernel:0' shape=(64, 10) dtype=float32, numpy=\n",
       " array([[ 0.02262023, -0.19163753, -0.0354647 ,  0.11505079, -0.05702886,\n",
       "          0.14440304, -0.17310402,  0.21991351, -0.12301058, -0.02881545],\n",
       "        [-0.1537458 , -0.15234368,  0.22391537, -0.09116761, -0.05699837,\n",
       "          0.11767361,  0.08907467,  0.21481168,  0.01775992,  0.24768803],\n",
       "        [-0.2656108 , -0.18493056, -0.23920937,  0.00765124,  0.20243299,\n",
       "          0.04087946,  0.08926034, -0.04767686,  0.26773682,  0.24597892],\n",
       "        [-0.1751132 ,  0.02689901,  0.21763924,  0.00135684,  0.03243509,\n",
       "          0.06589285, -0.17315656, -0.0866365 , -0.03597863,  0.12736797],\n",
       "        [ 0.24264881,  0.1718531 ,  0.03714523,  0.19565216, -0.03362769,\n",
       "         -0.12678738,  0.12852058,  0.20577699,  0.0362618 , -0.2828777 ],\n",
       "        [ 0.28213552, -0.15279542, -0.25527072,  0.22352806,  0.02822542,\n",
       "          0.07198915,  0.00685015,  0.25449505,  0.16065386, -0.20833966],\n",
       "        [ 0.15597323, -0.01100549, -0.05236989,  0.05503875,  0.27487293,\n",
       "         -0.16403879,  0.09221765, -0.10784599, -0.20191798, -0.07835275],\n",
       "        [ 0.2681127 , -0.22679043,  0.07013056, -0.1972326 , -0.11084411,\n",
       "         -0.01377836, -0.27620503,  0.09435391,  0.23873672,  0.17710316],\n",
       "        [-0.16215949,  0.19960168, -0.0811702 , -0.04442912, -0.12438288,\n",
       "         -0.23128632,  0.1294271 , -0.11713831, -0.03264099,  0.15021977],\n",
       "        [-0.09214285, -0.21627414,  0.15553337,  0.13359055, -0.10997818,\n",
       "          0.2513471 , -0.07316351, -0.03497101,  0.01004121, -0.02252695],\n",
       "        [ 0.1934922 ,  0.01341027, -0.1842089 ,  0.00582889,  0.12905169,\n",
       "          0.07702687, -0.05883151,  0.11234942, -0.24888818,  0.22214004],\n",
       "        [-0.18358983,  0.0460526 , -0.16129343, -0.19068044, -0.20044872,\n",
       "         -0.26913223, -0.1284508 ,  0.17144644, -0.1679767 ,  0.13507882],\n",
       "        [ 0.17602861,  0.0754528 ,  0.00236648, -0.09322065, -0.1601252 ,\n",
       "         -0.27349946, -0.14250615,  0.1787894 , -0.19358256,  0.11882466],\n",
       "        [ 0.16014984,  0.18900865, -0.18543682,  0.07797489, -0.15933742,\n",
       "          0.06397927, -0.10597864, -0.09829964,  0.27256832,  0.20670348],\n",
       "        [ 0.1890659 ,  0.19011423, -0.17574172, -0.10086653, -0.12146854,\n",
       "          0.04479578, -0.21132231, -0.22637081,  0.2594351 , -0.08238155],\n",
       "        [-0.1943326 ,  0.08797628,  0.01249525, -0.13819458,  0.04866886,\n",
       "          0.20499036, -0.20710498,  0.02145287,  0.0558928 , -0.25954995],\n",
       "        [ 0.13568792, -0.04830946,  0.06545845,  0.23787984,  0.11801559,\n",
       "         -0.2574367 ,  0.08558226,  0.01680642,  0.09533301,  0.16785932],\n",
       "        [ 0.18974397,  0.13478288, -0.2643453 ,  0.1235528 ,  0.11205858,\n",
       "          0.12591174, -0.05391899, -0.2195916 ,  0.20884326, -0.16352943],\n",
       "        [ 0.28172484,  0.16833311, -0.04392654,  0.17486295, -0.22111836,\n",
       "          0.2481074 ,  0.05978453, -0.14982969,  0.24908116,  0.02489004],\n",
       "        [-0.21503699, -0.01839536,  0.16768214, -0.15482442, -0.09456316,\n",
       "         -0.14180383, -0.00721613, -0.24292617,  0.07222772,  0.2576314 ],\n",
       "        [ 0.1923725 ,  0.06126663, -0.19107807, -0.01307651,  0.06529075,\n",
       "         -0.21096087,  0.2392331 , -0.09499249, -0.1251404 , -0.22999662],\n",
       "        [-0.05162121, -0.09299342, -0.22827028, -0.04201302,  0.24561682,\n",
       "          0.17100388, -0.08023939,  0.1528711 ,  0.01320294,  0.16499475],\n",
       "        [-0.05070737,  0.16715041,  0.06528336,  0.12407047,  0.11973712,\n",
       "          0.1936042 ,  0.01421726, -0.04016446,  0.00075269, -0.25259274],\n",
       "        [-0.21202883, -0.17511389,  0.15360674, -0.10314882, -0.06920727,\n",
       "         -0.01692161, -0.06470622, -0.17106532,  0.03274426,  0.22637275],\n",
       "        [ 0.25884375,  0.03924254,  0.11440632,  0.14386359,  0.21740481,\n",
       "          0.2154043 ,  0.08673644,  0.08203056,  0.19816655,  0.23777595],\n",
       "        [-0.18469623, -0.08004725,  0.15363988,  0.05180791, -0.2846366 ,\n",
       "         -0.20596227, -0.06524804, -0.05609375, -0.14015271, -0.10981566],\n",
       "        [-0.20188145, -0.2144966 ,  0.06654662, -0.2749288 , -0.24508375,\n",
       "         -0.12430142, -0.2025061 ,  0.04410896, -0.26333478, -0.2599584 ],\n",
       "        [ 0.06007612,  0.12604645,  0.08295631,  0.22703722,  0.26019147,\n",
       "          0.01744193, -0.0801499 , -0.11395159,  0.25445685,  0.25313005],\n",
       "        [ 0.05286887, -0.16366085,  0.05758154, -0.00442752, -0.03899392,\n",
       "         -0.12853417, -0.1631667 , -0.27856672,  0.01540783, -0.21369015],\n",
       "        [ 0.17527553, -0.26325983, -0.21578234, -0.21816424,  0.25156865,\n",
       "         -0.06994699, -0.04678242,  0.04112074,  0.25700828,  0.2290028 ],\n",
       "        [-0.25549805, -0.21130778, -0.21813682,  0.14551425, -0.1652274 ,\n",
       "         -0.22362924,  0.13657123,  0.21699223,  0.2778177 , -0.11562574],\n",
       "        [-0.14233303,  0.1842635 , -0.03006828, -0.09221141, -0.01628903,\n",
       "          0.10386348,  0.08492631, -0.20950621,  0.1735434 , -0.03865039],\n",
       "        [ 0.0451932 , -0.03535235,  0.27886507,  0.1189914 ,  0.07583147,\n",
       "         -0.01086518, -0.09447898, -0.00985193, -0.19372539, -0.0805406 ],\n",
       "        [-0.03538921, -0.17469867, -0.27263054, -0.17976387, -0.10042986,\n",
       "          0.0749149 , -0.02616459,  0.23041156, -0.14538682, -0.1426703 ],\n",
       "        [ 0.1845878 ,  0.15551037,  0.12468615,  0.15616032,  0.22616205,\n",
       "         -0.15066594, -0.01056802, -0.08957134,  0.00535542,  0.03557205],\n",
       "        [-0.09555997,  0.1992566 ,  0.14221722,  0.17559019, -0.21109611,\n",
       "          0.09008574, -0.13812411,  0.22068647,  0.16256234, -0.02045253],\n",
       "        [ 0.05108014, -0.2294766 ,  0.27318403, -0.24157375,  0.25530586,\n",
       "         -0.02931634, -0.01125011, -0.25542352,  0.09025437,  0.0594641 ],\n",
       "        [ 0.06204817, -0.25729182, -0.06883775,  0.2277951 , -0.04721175,\n",
       "          0.17951342,  0.21860322,  0.00719026,  0.27303943,  0.09079462],\n",
       "        [-0.15764222, -0.02662203, -0.08600764,  0.17046082,  0.00107637,\n",
       "          0.14254946,  0.22728518,  0.05564439, -0.21733734,  0.2239981 ],\n",
       "        [-0.11337224,  0.0316126 , -0.25232685, -0.21006419, -0.15612993,\n",
       "          0.278541  , -0.06098543, -0.2125065 , -0.12915148, -0.17542562],\n",
       "        [ 0.22521153,  0.10853142, -0.10078567, -0.05663836, -0.08270185,\n",
       "          0.13288802, -0.07567887,  0.12703714,  0.16793197,  0.18315038],\n",
       "        [ 0.272213  , -0.19579309, -0.20060071,  0.2650641 , -0.02718183,\n",
       "          0.26683304, -0.19018511,  0.16041154, -0.20113257,  0.01129866],\n",
       "        [-0.08347206,  0.02832732, -0.17510816,  0.07189378,  0.03356326,\n",
       "         -0.17307748, -0.11882128, -0.11298519,  0.06509382,  0.12548861],\n",
       "        [ 0.00314653, -0.08166145,  0.19519567, -0.11227468, -0.08012953,\n",
       "         -0.17265867,  0.09976259,  0.02142775, -0.24118556,  0.08581817],\n",
       "        [ 0.05757189, -0.1717047 ,  0.0502018 , -0.22629932,  0.27271715,\n",
       "         -0.05901237, -0.06018034, -0.176068  ,  0.1943708 ,  0.05992094],\n",
       "        [-0.06095427,  0.07561681,  0.03768942, -0.06277241,  0.04860368,\n",
       "         -0.02247393, -0.10713758, -0.05479598, -0.258423  , -0.2558265 ],\n",
       "        [-0.06205869, -0.26573765,  0.1664187 ,  0.1689778 , -0.01671761,\n",
       "          0.04143006,  0.07470596, -0.06754257,  0.13882452,  0.18426329],\n",
       "        [-0.06766015,  0.2281762 , -0.05246922, -0.2800291 , -0.0214619 ,\n",
       "         -0.23767047, -0.01076877, -0.06245875,  0.04308173, -0.27648854],\n",
       "        [ 0.20470938, -0.03807572, -0.07936694,  0.08457029, -0.26310232,\n",
       "          0.0490658 , -0.07565273, -0.1011748 , -0.01423228, -0.17495726],\n",
       "        [ 0.20973492, -0.26140577, -0.01841062,  0.0876008 , -0.0006977 ,\n",
       "          0.05273515, -0.23899274,  0.04362485,  0.18716595, -0.11875522],\n",
       "        [-0.20482466,  0.15513366, -0.01129931,  0.23687187,  0.23014405,\n",
       "          0.18368825, -0.17937759,  0.1111888 ,  0.17583594, -0.23776048],\n",
       "        [ 0.15033126,  0.03528038, -0.21007892, -0.1921173 ,  0.02375928,\n",
       "         -0.24977033, -0.11224894, -0.23739898,  0.15530413,  0.19241777],\n",
       "        [ 0.11006114,  0.21107289,  0.0242964 , -0.24978982,  0.00889957,\n",
       "         -0.25635618, -0.2136344 , -0.02123094, -0.03346509,  0.24172297],\n",
       "        [-0.25435638, -0.18984792,  0.13859051, -0.26285595, -0.23608403,\n",
       "         -0.12431392, -0.03906167, -0.05786029,  0.25262174,  0.05761412],\n",
       "        [-0.03829202, -0.11135444,  0.01979429,  0.00408271, -0.04243813,\n",
       "         -0.12545486,  0.24294057,  0.02617028, -0.1758206 , -0.18368441],\n",
       "        [ 0.2268528 , -0.06858467, -0.14528105,  0.07610092, -0.04131404,\n",
       "          0.14438593,  0.22926226, -0.16219221,  0.14211491, -0.12224384],\n",
       "        [-0.1191263 ,  0.08727676, -0.16174278, -0.08834717, -0.22940579,\n",
       "          0.1721032 , -0.21037939,  0.22569576, -0.19553477,  0.25423113],\n",
       "        [ 0.08594072,  0.24443737, -0.2327944 , -0.2820457 ,  0.07501689,\n",
       "         -0.11039081, -0.25051248, -0.10461733,  0.11389825,  0.07132268],\n",
       "        [-0.01531115,  0.07008758,  0.15188062, -0.12614603, -0.11335078,\n",
       "         -0.1742481 , -0.28116047, -0.14787081, -0.13933104, -0.05843022],\n",
       "        [ 0.12807998, -0.02286333, -0.250467  , -0.07604106, -0.03605099,\n",
       "         -0.20737267, -0.22600263,  0.13741031, -0.03424013, -0.02004758],\n",
       "        [ 0.22632882,  0.07799721, -0.07739693, -0.08255108, -0.11985299,\n",
       "         -0.05534527, -0.07147273,  0.21608695,  0.23226377, -0.26981044],\n",
       "        [-0.09080951, -0.16240218, -0.18023413,  0.18173334, -0.24212506,\n",
       "         -0.24668485, -0.06719239, -0.14753972, -0.09660017,  0.02264488],\n",
       "        [-0.06236698,  0.05290356,  0.10183993,  0.11156842, -0.18904471,\n",
       "         -0.06437112, -0.19324243, -0.10594347, -0.08387478,  0.01088166],\n",
       "        [ 0.2573001 ,  0.24616942, -0.0956631 , -0.00125831, -0.247042  ,\n",
       "          0.20791182, -0.27363008, -0.2503861 , -0.270716  ,  0.26840022]],\n",
       "       dtype=float32)>,\n",
       " <tf.Variable 'dense_11/bias:0' shape=(10,) dtype=float32, numpy=array([0., 0., 0., 0., 0., 0., 0., 0., 0., 0.], dtype=float32)>]"
      ]
     },
     "execution_count": 15,
     "metadata": {},
     "output_type": "execute_result"
    }
   ],
   "source": [
    "# 가중치를 만들기 위해 모델을 호출한다\n",
    "# 방법1  # 쌓는다\n",
    "model.build(input_shape=(None,3))\n",
    "model.weights"
   ]
  },
  {
   "cell_type": "code",
   "execution_count": 16,
   "id": "16ccf1f1-0075-4996-a69f-13c154789076",
   "metadata": {},
   "outputs": [],
   "source": [
    "# 방법2 Input을 불러오기\n",
    "from keras.layers import Dense, Input"
   ]
  },
  {
   "cell_type": "code",
   "execution_count": 17,
   "id": "9ffc9137-9ccf-4929-94f2-71003dbd7f5e",
   "metadata": {
    "collapsed": true,
    "jupyter": {
     "outputs_hidden": true
    },
    "tags": []
   },
   "outputs": [
    {
     "data": {
      "text/plain": [
       "[<tf.Variable 'dense_10/kernel:0' shape=(3, 64) dtype=float32, numpy=\n",
       " array([[-0.18709794,  0.18510982, -0.08462505,  0.15945265, -0.2489919 ,\n",
       "         -0.19047415, -0.04288957,  0.08256987,  0.0404039 , -0.20743509,\n",
       "          0.28062862,  0.13471472,  0.22461402, -0.1632188 , -0.11128865,\n",
       "          0.00570965, -0.06824774,  0.2006732 ,  0.16247958,  0.22432154,\n",
       "          0.04697749, -0.15738122, -0.11348437,  0.16983998,  0.24940449,\n",
       "         -0.10879683, -0.09874256, -0.2643659 , -0.03896439, -0.12276118,\n",
       "         -0.2535286 , -0.10894282, -0.06252803, -0.11026409, -0.06503397,\n",
       "         -0.00875312, -0.02383938, -0.2924439 ,  0.26906407, -0.23215768,\n",
       "         -0.15043056,  0.1667167 , -0.21981609,  0.15767911, -0.19369043,\n",
       "         -0.01049405, -0.17223783, -0.08055125,  0.21358395, -0.2974761 ,\n",
       "         -0.11619143,  0.1266003 , -0.12508175, -0.04117852, -0.062176  ,\n",
       "         -0.24450114,  0.11064354, -0.22617027, -0.2872613 , -0.08030018,\n",
       "         -0.08466849,  0.2694993 , -0.12801805, -0.03259578],\n",
       "        [ 0.12420517, -0.27838612, -0.05008125,  0.15625978, -0.2702745 ,\n",
       "          0.00936377, -0.01197982, -0.02313361, -0.01855803, -0.10423988,\n",
       "         -0.16661844, -0.12303922,  0.07034379,  0.10469723, -0.13549554,\n",
       "          0.28231645, -0.00539181,  0.24815786,  0.11584619, -0.09729749,\n",
       "          0.24154842,  0.1772241 , -0.29378545, -0.05251527, -0.05163677,\n",
       "          0.03581619, -0.11508276, -0.26354343,  0.14252785,  0.030384  ,\n",
       "          0.13771945,  0.2910726 ,  0.25635415,  0.26422852,  0.14994946,\n",
       "          0.17783353,  0.29425114,  0.26080203, -0.22202279, -0.22113237,\n",
       "          0.14813867, -0.10703391,  0.07484782,  0.25263017,  0.1770044 ,\n",
       "          0.06063277, -0.10501949,  0.25118595, -0.09933053, -0.05164483,\n",
       "          0.1936233 , -0.06421083, -0.18791357,  0.18563724, -0.21785453,\n",
       "          0.06383082,  0.0323236 ,  0.03601104,  0.18962413, -0.18084532,\n",
       "         -0.18288137, -0.28519937, -0.07620832, -0.04910558],\n",
       "        [-0.25388134, -0.13262752, -0.08743072, -0.09810479,  0.14594096,\n",
       "         -0.19235489, -0.14279932, -0.03345045, -0.2667201 ,  0.08991587,\n",
       "          0.26660228, -0.12121351,  0.2850659 , -0.17107566, -0.2936707 ,\n",
       "         -0.13828173, -0.2043558 ,  0.27036273,  0.00360584, -0.16037469,\n",
       "         -0.21996176, -0.17894855, -0.2875576 , -0.0752756 , -0.29284567,\n",
       "          0.27257198, -0.17036688,  0.24385464,  0.13582167,  0.25249624,\n",
       "          0.16226509, -0.1659181 ,  0.01937211, -0.0511927 , -0.09083392,\n",
       "          0.22208422, -0.24210608, -0.04441592, -0.05303611, -0.23030907,\n",
       "          0.01824367,  0.1684457 ,  0.02045822,  0.1640817 ,  0.2338826 ,\n",
       "         -0.18759659,  0.04459128,  0.26538217, -0.05018492, -0.29232526,\n",
       "          0.05615699,  0.01364884, -0.11255178,  0.22018445,  0.20640004,\n",
       "         -0.06090373, -0.23011166,  0.27767843, -0.0053505 , -0.13128199,\n",
       "         -0.10288942,  0.10142136, -0.14232406,  0.12607989]],\n",
       "       dtype=float32)>,\n",
       " <tf.Variable 'dense_10/bias:0' shape=(64,) dtype=float32, numpy=\n",
       " array([0., 0., 0., 0., 0., 0., 0., 0., 0., 0., 0., 0., 0., 0., 0., 0., 0.,\n",
       "        0., 0., 0., 0., 0., 0., 0., 0., 0., 0., 0., 0., 0., 0., 0., 0., 0.,\n",
       "        0., 0., 0., 0., 0., 0., 0., 0., 0., 0., 0., 0., 0., 0., 0., 0., 0.,\n",
       "        0., 0., 0., 0., 0., 0., 0., 0., 0., 0., 0., 0., 0.], dtype=float32)>,\n",
       " <tf.Variable 'dense_11/kernel:0' shape=(64, 10) dtype=float32, numpy=\n",
       " array([[ 0.02262023, -0.19163753, -0.0354647 ,  0.11505079, -0.05702886,\n",
       "          0.14440304, -0.17310402,  0.21991351, -0.12301058, -0.02881545],\n",
       "        [-0.1537458 , -0.15234368,  0.22391537, -0.09116761, -0.05699837,\n",
       "          0.11767361,  0.08907467,  0.21481168,  0.01775992,  0.24768803],\n",
       "        [-0.2656108 , -0.18493056, -0.23920937,  0.00765124,  0.20243299,\n",
       "          0.04087946,  0.08926034, -0.04767686,  0.26773682,  0.24597892],\n",
       "        [-0.1751132 ,  0.02689901,  0.21763924,  0.00135684,  0.03243509,\n",
       "          0.06589285, -0.17315656, -0.0866365 , -0.03597863,  0.12736797],\n",
       "        [ 0.24264881,  0.1718531 ,  0.03714523,  0.19565216, -0.03362769,\n",
       "         -0.12678738,  0.12852058,  0.20577699,  0.0362618 , -0.2828777 ],\n",
       "        [ 0.28213552, -0.15279542, -0.25527072,  0.22352806,  0.02822542,\n",
       "          0.07198915,  0.00685015,  0.25449505,  0.16065386, -0.20833966],\n",
       "        [ 0.15597323, -0.01100549, -0.05236989,  0.05503875,  0.27487293,\n",
       "         -0.16403879,  0.09221765, -0.10784599, -0.20191798, -0.07835275],\n",
       "        [ 0.2681127 , -0.22679043,  0.07013056, -0.1972326 , -0.11084411,\n",
       "         -0.01377836, -0.27620503,  0.09435391,  0.23873672,  0.17710316],\n",
       "        [-0.16215949,  0.19960168, -0.0811702 , -0.04442912, -0.12438288,\n",
       "         -0.23128632,  0.1294271 , -0.11713831, -0.03264099,  0.15021977],\n",
       "        [-0.09214285, -0.21627414,  0.15553337,  0.13359055, -0.10997818,\n",
       "          0.2513471 , -0.07316351, -0.03497101,  0.01004121, -0.02252695],\n",
       "        [ 0.1934922 ,  0.01341027, -0.1842089 ,  0.00582889,  0.12905169,\n",
       "          0.07702687, -0.05883151,  0.11234942, -0.24888818,  0.22214004],\n",
       "        [-0.18358983,  0.0460526 , -0.16129343, -0.19068044, -0.20044872,\n",
       "         -0.26913223, -0.1284508 ,  0.17144644, -0.1679767 ,  0.13507882],\n",
       "        [ 0.17602861,  0.0754528 ,  0.00236648, -0.09322065, -0.1601252 ,\n",
       "         -0.27349946, -0.14250615,  0.1787894 , -0.19358256,  0.11882466],\n",
       "        [ 0.16014984,  0.18900865, -0.18543682,  0.07797489, -0.15933742,\n",
       "          0.06397927, -0.10597864, -0.09829964,  0.27256832,  0.20670348],\n",
       "        [ 0.1890659 ,  0.19011423, -0.17574172, -0.10086653, -0.12146854,\n",
       "          0.04479578, -0.21132231, -0.22637081,  0.2594351 , -0.08238155],\n",
       "        [-0.1943326 ,  0.08797628,  0.01249525, -0.13819458,  0.04866886,\n",
       "          0.20499036, -0.20710498,  0.02145287,  0.0558928 , -0.25954995],\n",
       "        [ 0.13568792, -0.04830946,  0.06545845,  0.23787984,  0.11801559,\n",
       "         -0.2574367 ,  0.08558226,  0.01680642,  0.09533301,  0.16785932],\n",
       "        [ 0.18974397,  0.13478288, -0.2643453 ,  0.1235528 ,  0.11205858,\n",
       "          0.12591174, -0.05391899, -0.2195916 ,  0.20884326, -0.16352943],\n",
       "        [ 0.28172484,  0.16833311, -0.04392654,  0.17486295, -0.22111836,\n",
       "          0.2481074 ,  0.05978453, -0.14982969,  0.24908116,  0.02489004],\n",
       "        [-0.21503699, -0.01839536,  0.16768214, -0.15482442, -0.09456316,\n",
       "         -0.14180383, -0.00721613, -0.24292617,  0.07222772,  0.2576314 ],\n",
       "        [ 0.1923725 ,  0.06126663, -0.19107807, -0.01307651,  0.06529075,\n",
       "         -0.21096087,  0.2392331 , -0.09499249, -0.1251404 , -0.22999662],\n",
       "        [-0.05162121, -0.09299342, -0.22827028, -0.04201302,  0.24561682,\n",
       "          0.17100388, -0.08023939,  0.1528711 ,  0.01320294,  0.16499475],\n",
       "        [-0.05070737,  0.16715041,  0.06528336,  0.12407047,  0.11973712,\n",
       "          0.1936042 ,  0.01421726, -0.04016446,  0.00075269, -0.25259274],\n",
       "        [-0.21202883, -0.17511389,  0.15360674, -0.10314882, -0.06920727,\n",
       "         -0.01692161, -0.06470622, -0.17106532,  0.03274426,  0.22637275],\n",
       "        [ 0.25884375,  0.03924254,  0.11440632,  0.14386359,  0.21740481,\n",
       "          0.2154043 ,  0.08673644,  0.08203056,  0.19816655,  0.23777595],\n",
       "        [-0.18469623, -0.08004725,  0.15363988,  0.05180791, -0.2846366 ,\n",
       "         -0.20596227, -0.06524804, -0.05609375, -0.14015271, -0.10981566],\n",
       "        [-0.20188145, -0.2144966 ,  0.06654662, -0.2749288 , -0.24508375,\n",
       "         -0.12430142, -0.2025061 ,  0.04410896, -0.26333478, -0.2599584 ],\n",
       "        [ 0.06007612,  0.12604645,  0.08295631,  0.22703722,  0.26019147,\n",
       "          0.01744193, -0.0801499 , -0.11395159,  0.25445685,  0.25313005],\n",
       "        [ 0.05286887, -0.16366085,  0.05758154, -0.00442752, -0.03899392,\n",
       "         -0.12853417, -0.1631667 , -0.27856672,  0.01540783, -0.21369015],\n",
       "        [ 0.17527553, -0.26325983, -0.21578234, -0.21816424,  0.25156865,\n",
       "         -0.06994699, -0.04678242,  0.04112074,  0.25700828,  0.2290028 ],\n",
       "        [-0.25549805, -0.21130778, -0.21813682,  0.14551425, -0.1652274 ,\n",
       "         -0.22362924,  0.13657123,  0.21699223,  0.2778177 , -0.11562574],\n",
       "        [-0.14233303,  0.1842635 , -0.03006828, -0.09221141, -0.01628903,\n",
       "          0.10386348,  0.08492631, -0.20950621,  0.1735434 , -0.03865039],\n",
       "        [ 0.0451932 , -0.03535235,  0.27886507,  0.1189914 ,  0.07583147,\n",
       "         -0.01086518, -0.09447898, -0.00985193, -0.19372539, -0.0805406 ],\n",
       "        [-0.03538921, -0.17469867, -0.27263054, -0.17976387, -0.10042986,\n",
       "          0.0749149 , -0.02616459,  0.23041156, -0.14538682, -0.1426703 ],\n",
       "        [ 0.1845878 ,  0.15551037,  0.12468615,  0.15616032,  0.22616205,\n",
       "         -0.15066594, -0.01056802, -0.08957134,  0.00535542,  0.03557205],\n",
       "        [-0.09555997,  0.1992566 ,  0.14221722,  0.17559019, -0.21109611,\n",
       "          0.09008574, -0.13812411,  0.22068647,  0.16256234, -0.02045253],\n",
       "        [ 0.05108014, -0.2294766 ,  0.27318403, -0.24157375,  0.25530586,\n",
       "         -0.02931634, -0.01125011, -0.25542352,  0.09025437,  0.0594641 ],\n",
       "        [ 0.06204817, -0.25729182, -0.06883775,  0.2277951 , -0.04721175,\n",
       "          0.17951342,  0.21860322,  0.00719026,  0.27303943,  0.09079462],\n",
       "        [-0.15764222, -0.02662203, -0.08600764,  0.17046082,  0.00107637,\n",
       "          0.14254946,  0.22728518,  0.05564439, -0.21733734,  0.2239981 ],\n",
       "        [-0.11337224,  0.0316126 , -0.25232685, -0.21006419, -0.15612993,\n",
       "          0.278541  , -0.06098543, -0.2125065 , -0.12915148, -0.17542562],\n",
       "        [ 0.22521153,  0.10853142, -0.10078567, -0.05663836, -0.08270185,\n",
       "          0.13288802, -0.07567887,  0.12703714,  0.16793197,  0.18315038],\n",
       "        [ 0.272213  , -0.19579309, -0.20060071,  0.2650641 , -0.02718183,\n",
       "          0.26683304, -0.19018511,  0.16041154, -0.20113257,  0.01129866],\n",
       "        [-0.08347206,  0.02832732, -0.17510816,  0.07189378,  0.03356326,\n",
       "         -0.17307748, -0.11882128, -0.11298519,  0.06509382,  0.12548861],\n",
       "        [ 0.00314653, -0.08166145,  0.19519567, -0.11227468, -0.08012953,\n",
       "         -0.17265867,  0.09976259,  0.02142775, -0.24118556,  0.08581817],\n",
       "        [ 0.05757189, -0.1717047 ,  0.0502018 , -0.22629932,  0.27271715,\n",
       "         -0.05901237, -0.06018034, -0.176068  ,  0.1943708 ,  0.05992094],\n",
       "        [-0.06095427,  0.07561681,  0.03768942, -0.06277241,  0.04860368,\n",
       "         -0.02247393, -0.10713758, -0.05479598, -0.258423  , -0.2558265 ],\n",
       "        [-0.06205869, -0.26573765,  0.1664187 ,  0.1689778 , -0.01671761,\n",
       "          0.04143006,  0.07470596, -0.06754257,  0.13882452,  0.18426329],\n",
       "        [-0.06766015,  0.2281762 , -0.05246922, -0.2800291 , -0.0214619 ,\n",
       "         -0.23767047, -0.01076877, -0.06245875,  0.04308173, -0.27648854],\n",
       "        [ 0.20470938, -0.03807572, -0.07936694,  0.08457029, -0.26310232,\n",
       "          0.0490658 , -0.07565273, -0.1011748 , -0.01423228, -0.17495726],\n",
       "        [ 0.20973492, -0.26140577, -0.01841062,  0.0876008 , -0.0006977 ,\n",
       "          0.05273515, -0.23899274,  0.04362485,  0.18716595, -0.11875522],\n",
       "        [-0.20482466,  0.15513366, -0.01129931,  0.23687187,  0.23014405,\n",
       "          0.18368825, -0.17937759,  0.1111888 ,  0.17583594, -0.23776048],\n",
       "        [ 0.15033126,  0.03528038, -0.21007892, -0.1921173 ,  0.02375928,\n",
       "         -0.24977033, -0.11224894, -0.23739898,  0.15530413,  0.19241777],\n",
       "        [ 0.11006114,  0.21107289,  0.0242964 , -0.24978982,  0.00889957,\n",
       "         -0.25635618, -0.2136344 , -0.02123094, -0.03346509,  0.24172297],\n",
       "        [-0.25435638, -0.18984792,  0.13859051, -0.26285595, -0.23608403,\n",
       "         -0.12431392, -0.03906167, -0.05786029,  0.25262174,  0.05761412],\n",
       "        [-0.03829202, -0.11135444,  0.01979429,  0.00408271, -0.04243813,\n",
       "         -0.12545486,  0.24294057,  0.02617028, -0.1758206 , -0.18368441],\n",
       "        [ 0.2268528 , -0.06858467, -0.14528105,  0.07610092, -0.04131404,\n",
       "          0.14438593,  0.22926226, -0.16219221,  0.14211491, -0.12224384],\n",
       "        [-0.1191263 ,  0.08727676, -0.16174278, -0.08834717, -0.22940579,\n",
       "          0.1721032 , -0.21037939,  0.22569576, -0.19553477,  0.25423113],\n",
       "        [ 0.08594072,  0.24443737, -0.2327944 , -0.2820457 ,  0.07501689,\n",
       "         -0.11039081, -0.25051248, -0.10461733,  0.11389825,  0.07132268],\n",
       "        [-0.01531115,  0.07008758,  0.15188062, -0.12614603, -0.11335078,\n",
       "         -0.1742481 , -0.28116047, -0.14787081, -0.13933104, -0.05843022],\n",
       "        [ 0.12807998, -0.02286333, -0.250467  , -0.07604106, -0.03605099,\n",
       "         -0.20737267, -0.22600263,  0.13741031, -0.03424013, -0.02004758],\n",
       "        [ 0.22632882,  0.07799721, -0.07739693, -0.08255108, -0.11985299,\n",
       "         -0.05534527, -0.07147273,  0.21608695,  0.23226377, -0.26981044],\n",
       "        [-0.09080951, -0.16240218, -0.18023413,  0.18173334, -0.24212506,\n",
       "         -0.24668485, -0.06719239, -0.14753972, -0.09660017,  0.02264488],\n",
       "        [-0.06236698,  0.05290356,  0.10183993,  0.11156842, -0.18904471,\n",
       "         -0.06437112, -0.19324243, -0.10594347, -0.08387478,  0.01088166],\n",
       "        [ 0.2573001 ,  0.24616942, -0.0956631 , -0.00125831, -0.247042  ,\n",
       "          0.20791182, -0.27363008, -0.2503861 , -0.270716  ,  0.26840022]],\n",
       "       dtype=float32)>,\n",
       " <tf.Variable 'dense_11/bias:0' shape=(10,) dtype=float32, numpy=array([0., 0., 0., 0., 0., 0., 0., 0., 0., 0.], dtype=float32)>]"
      ]
     },
     "execution_count": 17,
     "metadata": {},
     "output_type": "execute_result"
    }
   ],
   "source": [
    "# 7-3 build()메서드가 호출 전의 모델은 가중치가 없다\n",
    "model.weights"
   ]
  },
  {
   "cell_type": "code",
   "execution_count": 18,
   "id": "df42015d-7ce2-4dea-93c3-1460b5ab07fd",
   "metadata": {},
   "outputs": [
    {
     "name": "stdout",
     "output_type": "stream",
     "text": [
      "Model: \"sequential_6\"\n",
      "_________________________________________________________________\n",
      " Layer (type)                Output Shape              Param #   \n",
      "=================================================================\n",
      " dense_10 (Dense)            (None, 64)                256       \n",
      "                                                                 \n",
      " dense_11 (Dense)            (None, 10)                650       \n",
      "                                                                 \n",
      "=================================================================\n",
      "Total params: 906\n",
      "Trainable params: 906\n",
      "Non-trainable params: 0\n",
      "_________________________________________________________________\n"
     ]
    }
   ],
   "source": [
    "model.summary()"
   ]
  },
  {
   "cell_type": "markdown",
   "id": "81f8e40f-c15f-43b8-be9a-d674dda4bde5",
   "metadata": {},
   "source": [
    "dense_2: hidden layer (None, 64)\n",
    "64: unit의 개수, param :256개: (3+1)*64 1개는 편향의 개수가 추가된 것임\n",
    "dense_3: output layer \n",
    "param :650 (64+1)*10=650 1개는 편향의 개수가 추가된 것임"
   ]
  },
  {
   "cell_type": "code",
   "execution_count": 21,
   "id": "4a5ef119-f5f1-401b-b0be-5c5bc6ffb328",
   "metadata": {},
   "outputs": [
    {
     "name": "stdout",
     "output_type": "stream",
     "text": [
      "Model: \"sequential_8\"\n",
      "_________________________________________________________________\n",
      " Layer (type)                Output Shape              Param #   \n",
      "=================================================================\n",
      " my_first_layer (Dense)      (None, 3, 64)             4160      \n",
      "                                                                 \n",
      " my_last_layer (Dense)       (None, 3, 10)             650       \n",
      "                                                                 \n",
      "=================================================================\n",
      "Total params: 4,810\n",
      "Trainable params: 4,810\n",
      "Non-trainable params: 0\n",
      "_________________________________________________________________\n"
     ]
    }
   ],
   "source": [
    "# 7-6\n",
    "model= keras.Sequential()\n",
    "model.add(Input(shape=(3,64)))\n",
    "model.add(Dense(64, activation=\"relu\", name =\"my_first_layer\"))\n",
    "model.add(Dense(10, activation=\"softmax\", name=\"my_last_layer\"))\n",
    "model.summary()"
   ]
  },
  {
   "cell_type": "code",
   "execution_count": 22,
   "id": "88279ac0-cf13-4da0-ae6a-063674c09554",
   "metadata": {},
   "outputs": [
    {
     "name": "stdout",
     "output_type": "stream",
     "text": [
      "Model: \"sequential_9\"\n",
      "_________________________________________________________________\n",
      " Layer (type)                Output Shape              Param #   \n",
      "=================================================================\n",
      " dense_12 (Dense)            (None, 64)                256       \n",
      "                                                                 \n",
      "=================================================================\n",
      "Total params: 256\n",
      "Trainable params: 256\n",
      "Non-trainable params: 0\n",
      "_________________________________________________________________\n"
     ]
    }
   ],
   "source": [
    "# 7-7\n",
    "model= keras.Sequential()\n",
    "model.add(keras.Input(shape=(3,)))\n",
    "model.add(layers.Dense(64, activation=\"relu\"))\n",
    "model.summary()"
   ]
  },
  {
   "cell_type": "code",
   "execution_count": 23,
   "id": "0e26d097-df20-4d94-b571-80a8a313a32b",
   "metadata": {},
   "outputs": [],
   "source": [
    "## 7.2.2 함수형 API\n",
    "Sequential: 입력과 출력이 하나인 출력을 가짐 순서대로 쌓는 모델만 표현 가능\n",
    "다중입력, 다중출려기 입력이 여러개이거나 출력이 여러개."
   ]
  },
  {
   "cell_type": "code",
   "execution_count": 24,
   "id": "37d90e90-245f-47a5-bd8a-202c40ec774e",
   "metadata": {},
   "outputs": [],
   "source": [
    "inputs=Input(shape=(3, ))\n",
    "y=Dense(64, activation=\"relu\")(inputs)\n",
    "outputs= Dense(10, activation='softmax')(y)\n",
    "model= keras.Model(inputs= inputs, outputs=outputs)"
   ]
  },
  {
   "cell_type": "code",
   "execution_count": 25,
   "id": "5e18791f-d5de-4405-83cb-27c96e308073",
   "metadata": {},
   "outputs": [],
   "source": [
    "inputs =Input(shape=(3, ))\n",
    "x=Dense(64, activation=\"relu\")(inputs)\n",
    "outputs=Dense(10, activation=\"softmax\")(x)\n",
    "\n",
    "model=keras.Model(inputs,outputs)"
   ]
  },
  {
   "cell_type": "code",
   "execution_count": 26,
   "id": "bcd4f57f-d6f7-4275-a155-ef73471e4df1",
   "metadata": {},
   "outputs": [
    {
     "name": "stdout",
     "output_type": "stream",
     "text": [
      "Model: \"model_1\"\n",
      "_________________________________________________________________\n",
      " Layer (type)                Output Shape              Param #   \n",
      "=================================================================\n",
      " input_6 (InputLayer)        [(None, 3)]               0         \n",
      "                                                                 \n",
      " dense_15 (Dense)            (None, 64)                256       \n",
      "                                                                 \n",
      " dense_16 (Dense)            (None, 10)                650       \n",
      "                                                                 \n",
      "=================================================================\n",
      "Total params: 906\n",
      "Trainable params: 906\n",
      "Non-trainable params: 0\n",
      "_________________________________________________________________\n"
     ]
    }
   ],
   "source": [
    "model.summary()"
   ]
  },
  {
   "cell_type": "code",
   "execution_count": 58,
   "id": "b683d5af-d778-420a-acd9-911892d11215",
   "metadata": {},
   "outputs": [
    {
     "data": {
      "image/png": "[encoded data removed]",
      "text/plain": [
       "<IPython.core.display.Image object>"
      ]
     },
     "execution_count": 58,
     "metadata": {},
     "output_type": "execute_result"
    }
   ],
   "source": [
    "from keras.utils import plot_model\n",
    "plot_model(model)"
   ]
  },
  {
   "cell_type": "code",
   "execution_count": 37,
   "id": "d9690ec6-8edc-42b5-9ace-724f50fac22e",
   "metadata": {},
   "outputs": [],
   "source": [
    "from keras.datasets import mnist\n",
    "\n",
    "(train_data, train_labels),(test_data, test_labels) = mnist.load_data()\n",
    "\n",
    "train_data.shape"
   ]
  },
  {
   "cell_type": "code",
   "execution_count": 57,
   "id": "32ed11cf-79ba-4828-8c0e-b9d82757a355",
   "metadata": {
    "tags": []
   },
   "outputs": [],
   "source": [
    "(train_images, train_labels),(test_images, test_labels)=mnist.load_data()\n",
    "# 딥러닝은 소수로 하는게 훨씬 부담이 덜 함 0과 1사이 숫자로 바뀜\n",
    "train_images=train_images.reshape(60000, 28*28) # 3차원 자료를 한줄로 세움 \n",
    "train_images=train_images/255.0 #각각의 숫자의 음영이 255까지 있음\n",
    "\n",
    "test_images=test_images.reshape(10000, 28*28) \n",
    "test_images=test_images/255.0     \n",
    "\n",
    "model = Sequential()\n",
    "model.add(Dense(512, activation='relu'))\n",
    "model.add(Dense(10, activation='softmax'))\n",
    "\n",
    "\n",
    "\n",
    "model.compile(optimizer='rmsprop', loss='sparse_categorical_crossentropy', metrics='acc')\n",
    "model.fit\n",
    "(train_images, train_labels, epochs=5, batch_size=128) "
   ]
  },
  {
   "cell_type": "code",
   "execution_count": 59,
   "id": "2814fe13-8ef5-47cf-83d9-a5219ad8084f",
   "metadata": {},
   "outputs": [
    {
     "ename": "TypeError",
     "evalue": "plot_model() got an unexpected keyword argument 'show_shape'",
     "output_type": "error",
     "traceback": [
      "\u001b[1;31m---------------------------------------------------------------------------\u001b[0m",
      "\u001b[1;31mTypeError\u001b[0m                                 Traceback (most recent call last)",
      "Input \u001b[1;32mIn [59]\u001b[0m, in \u001b[0;36m<cell line: 1>\u001b[1;34m()\u001b[0m\n\u001b[1;32m----> 1\u001b[0m \u001b[43mplot_model\u001b[49m\u001b[43m(\u001b[49m\u001b[43mmodel\u001b[49m\u001b[43m,\u001b[49m\u001b[43m \u001b[49m\u001b[43mshow_shape\u001b[49m\u001b[38;5;241;43m=\u001b[39;49m\u001b[43m \u001b[49m\u001b[38;5;28;43;01mTrue\u001b[39;49;00m\u001b[43m)\u001b[49m\n",
      "\u001b[1;31mTypeError\u001b[0m: plot_model() got an unexpected keyword argument 'show_shape'"
     ]
    }
   ],
   "source": [
    "plot_model(model, show_shape= True)"
   ]
  },
  {
   "cell_type": "code",
   "execution_count": 60,
   "id": "c720fc48-85e6-4a93-b4b5-09aaced7b7f9",
   "metadata": {},
   "outputs": [
    {
     "data": {
      "text/plain": [
       "[<keras.engine.input_layer.InputLayer at 0x24e34383f10>,\n",
       " <keras.layers.core.dense.Dense at 0x24e34383130>,\n",
       " <keras.layers.core.dense.Dense at 0x24e34383910>]"
      ]
     },
     "execution_count": 60,
     "metadata": {},
     "output_type": "execute_result"
    }
   ],
   "source": [
    "model.layers"
   ]
  },
  {
   "cell_type": "code",
   "execution_count": 61,
   "id": "331b3e2b-b43d-4177-96c9-4ddf907cc0d0",
   "metadata": {},
   "outputs": [
    {
     "data": {
      "text/plain": [
       "<KerasTensor: shape=(None, 3) dtype=float32 (created by layer 'input_6')>"
      ]
     },
     "execution_count": 61,
     "metadata": {},
     "output_type": "execute_result"
    }
   ],
   "source": [
    "model.layers[1].input"
   ]
  },
  {
   "cell_type": "code",
   "execution_count": 62,
   "id": "61567308-2a32-4121-9650-ab9ecf2cf197",
   "metadata": {},
   "outputs": [
    {
     "data": {
      "text/plain": [
       "<KerasTensor: shape=(None, 64) dtype=float32 (created by layer 'dense_15')>"
      ]
     },
     "execution_count": 62,
     "metadata": {},
     "output_type": "execute_result"
    }
   ],
   "source": [
    "model.layers[1].output"
   ]
  },
  {
   "cell_type": "code",
   "execution_count": null,
   "id": "81be15ca-aac2-4621-9065-1706fbf48379",
   "metadata": {},
   "outputs": [],
   "source": [
    "#x= model.layers[1].output\n",
    "처럼 지정해서 쌓을 수 있음\n",
    "......(x)"
   ]
  },
  {
   "cell_type": "code",
   "execution_count": null,
   "id": "fd5eeedb-672a-4843-8787-6db9fdc61728",
   "metadata": {},
   "outputs": [],
   "source": [
    "# 다중입력 다중 출력"
   ]
  },
  {
   "cell_type": "code",
   "execution_count": 69,
   "id": "0a4d4c7d-dfdc-44a5-9b6d-e8a65f259bff",
   "metadata": {},
   "outputs": [],
   "source": [
    "# 7-9\n",
    "vocabulary_size = 10000\n",
    "num_tags = 100\n",
    "num_departments = 4\n",
    "\n",
    "title = keras.Input(shape=(vocabulary_size,), name=\"title\")\n",
    "text_body = keras.Input(shape=(vocabulary_size,), name=\"text_body\")\n",
    "tags = keras.Input(shape=(num_tags,), name=\"tags\")\n",
    "\n",
    "features = layers.Concatenate()([title, text_body, tags])\n",
    "features = layers.Dense(64, activation=\"relu\")(features)\n",
    "\n",
    "priority = layers.Dense(1, activation=\"sigmoid\", name=\"priority\")(features)\n",
    "department = layers.Dense(\n",
    "    num_departments, activation=\"softmax\", name=\"department\")(features)\n",
    "\n",
    "model = keras.Model(inputs=[title, text_body, tags], outputs=[priority, department]) "
   ]
  },
  {
   "cell_type": "code",
   "execution_count": 74,
   "id": "83d3af5b-6976-45c2-9067-d35e2ed80fcc",
   "metadata": {},
   "outputs": [
    {
     "name": "stdout",
     "output_type": "stream",
     "text": [
      "40/40 [==============================] - 1s 11ms/step - loss: 30.0366 - priority_loss: 0.3334 - department_loss: 29.7032 - priority_mean_absolute_error: 0.5018 - department_accuracy: 0.2797\n",
      "40/40 [==============================] - 0s 4ms/step - loss: 22.2096 - priority_loss: 0.3377 - department_loss: 21.8719 - priority_mean_absolute_error: 0.5065 - department_accuracy: 0.2508\n",
      "40/40 [==============================] - 0s 3ms/step\n"
     ]
    }
   ],
   "source": [
    "# 7-10\n",
    "import numpy as np\n",
    "\n",
    "num_samples = 1280\n",
    "\n",
    "title_data = np.random.randint(0, 2, size=(num_samples, vocabulary_size))\n",
    "text_body_data = np.random.randint(0, 2, size=(num_samples, vocabulary_size))\n",
    "tags_data = np.random.randint(0, 2, size=(num_samples, num_tags))\n",
    "\n",
    "priority_data = np.random.random(size=(num_samples, 1))\n",
    "department_data = np.random.randint(0, 2, size=(num_samples, num_departments))\n",
    "\n",
    "model.compile(optimizer=\"rmsprop\",\n",
    "              loss=[\"mean_squared_error\", \"categorical_crossentropy\"],\n",
    "              metrics=[[\"mean_absolute_error\"], [\"accuracy\"]])\n",
    "model.fit([title_data, text_body_data, tags_data],\n",
    "          [priority_data, department_data],\n",
    "          epochs=1)\n",
    "model.evaluate([title_data, text_body_data, tags_data],\n",
    "               [priority_data, department_data])\n",
    "priority_preds, department_preds = model.predict([title_data, text_body_data, tags_data]) "
   ]
  },
  {
   "cell_type": "code",
   "execution_count": 75,
   "id": "ba174c3a-8d37-40a5-ba5c-d27f8c12a8f6",
   "metadata": {},
   "outputs": [
    {
     "data": {
      "image/png": "[encoded data removed]",
      "text/plain": [
       "<IPython.core.display.Image object>"
      ]
     },
     "execution_count": 75,
     "metadata": {},
     "output_type": "execute_result"
    }
   ],
   "source": [
    "plot_model(model)"
   ]
  },
  {
   "cell_type": "code",
   "execution_count": null,
   "id": "bc8dc7df-1a0a-440a-88a0-1c5a62d0451b",
   "metadata": {},
   "outputs": [],
   "source": []
  },
  {
   "cell_type": "code",
   "execution_count": null,
   "id": "6963d141-43e4-46eb-94b6-5516385c2bc9",
   "metadata": {},
   "outputs": [],
   "source": [
    "# p.97~"
   ]
  },
  {
   "cell_type": "code",
   "execution_count": null,
   "id": "47ce412e-f8d2-41a4-b9ba-2093a706571a",
   "metadata": {},
   "outputs": [],
   "source": [
    "y=x**2,   y=2x+1\n",
    "\n",
    "y=2x**2+1\n",
    "\n",
    "x=3을 대입\n",
    "dy/dx= 4x = 4*3 =12\n",
    "\n",
    "y'=2x\n",
    "y'=2\n",
    "\n",
    "\n",
    "y=f(x) = x**t,   g(x)=2x+1\n",
    "y=g(f(x))\n",
    "x**=t\n",
    "\n",
    "y를 x로 미분한 것은\n",
    "dy/dx= (dy/dt)*(dt/dx)"
   ]
  },
  {
   "cell_type": "code",
   "execution_count": null,
   "id": "30c45bac-176a-45ef-9f17-b091cf40eabb",
   "metadata": {},
   "outputs": [],
   "source": [
    "역전파는 손실함수부터 시작해서 각 노드를 w까지 곱한 것."
   ]
  },
  {
   "cell_type": "code",
   "execution_count": null,
   "id": "bd16f4ad-d1ce-4df2-8e5d-0fa6549f063d",
   "metadata": {},
   "outputs": [],
   "source": [
    "# p.98-99\n",
    "dx1/dw=x\n",
    "-> grad(x1,w)=x\n",
    "x1=6, w=3, x=2\n",
    "\n",
    "dx1/dx=w\n",
    "->grad(x1,x)=w\n",
    "x1=6, x=2, w=3\n"
   ]
  },
  {
   "cell_type": "code",
   "execution_count": null,
   "id": "997e0aa4-ccac-4ac2-b4e5-1b38c729822d",
   "metadata": {},
   "outputs": [],
   "source": [
    "x2=x1+b\n",
    "=> dx2/dx1=1\n",
    "=> grad(x2, x1)=1\n",
    "\n",
    "y=x+b\n",
    "=> y=x+3\n",
    "y'=1\n",
    "\n"
   ]
  },
  {
   "cell_type": "markdown",
   "id": "21fcffde-00be-4e74-9be8-f432a16683b9",
   "metadata": {},
   "source": [
    "## 2.5 첫번째 예제 다시 살펴보기"
   ]
  },
  {
   "cell_type": "code",
   "execution_count": 3,
   "id": "0dbc07c0-6dac-4193-a42b-35dcf13e9e36",
   "metadata": {},
   "outputs": [],
   "source": [
    "# 텐서플로\n",
    "import tensorflow as tf"
   ]
  },
  {
   "cell_type": "code",
   "execution_count": 4,
   "id": "5bf25580-d5ef-4df2-b532-1ca88495fb0b",
   "metadata": {},
   "outputs": [],
   "source": [
    "# Dense레이어 만들기\n",
    "class NaiveDense:\n",
    "    def __init__(self, input_size, output_size, activation):\n",
    "        self.activation = activation\n",
    "        self.w = tf.Variable(tf.random.uniform(shape=(input_size, output_size), minval=0, maxval=0.1))\n",
    "        self.b = tf.Variable(tf.zeros(shape=(output_size, )))\n",
    "        \n",
    "    def __call__(self, inputs):\n",
    "        return self.activation(tf.matmul(inputs, self.w)) + self.b\n",
    "    \n",
    "    def __len__(self):\n",
    "        return len(self.W)\n",
    "    \n",
    "    @property \n",
    "    def weights(self):\n",
    "        return [self.w, self.b]"
   ]
  },
  {
   "cell_type": "markdown",
   "id": "b9209dc5-333c-4ff4-a0cc-a6b16b136697",
   "metadata": {},
   "source": [
    "# 참고용\n",
    "@property                                 \n",
    "    def weights(self):\n",
    "        return[self.W, self.b]\n",
    "    \n",
    "    def minus(self):\n",
    "        ddd\n",
    "    \n",
    "pos=NaiveDense()\n",
    "pos.minus(3)\n",
    "pos.weights\n",
    "\n",
    "\n",
    "@ 가 있으면 속성으로 해줌 ()를 안넣어주고\n",
    "@ 가 없으면 ()를 넣어서 표현해줌.\n"
   ]
  },
  {
   "cell_type": "code",
   "execution_count": 5,
   "id": "d0cff3ca-9f0f-4b7c-b98f-1080a66f18cd",
   "metadata": {},
   "outputs": [],
   "source": [
    "# Sequential 클래스 만들기\n",
    "\n",
    "class NaiveSequential:\n",
    "    def __init__(self, layers):\n",
    "        self.layers = layers   # 왼쪽은 새로 만들어지는 변수이다. layers를 받아서 새로운 변수에 넣어줌\n",
    "        \n",
    "    def __call__(self, inputs):\n",
    "        x = inputs\n",
    "        for layer in self.layers:\n",
    "            x = layer(x)\n",
    "        return x\n",
    "    \n",
    "    @property   #얘는 속성이에요라는 것을 알려주는 기능을 함\n",
    "    def weights(self):\n",
    "        weights = []\n",
    "        for layer in self.layers:\n",
    "            weights += layer.weights  # layers들을 순환하면서 가중치를 업데이트 시켜준다.\n",
    "        return weights\n",
    "    \n",
    "    #def __len__(self):\n",
    "    #    return len(self.weihts)"
   ]
  },
  {
   "cell_type": "markdown",
   "id": "40118d13-4b46-4ed9-a0a4-b784aafa12cf",
   "metadata": {},
   "source": [
    "self.x와 그냥 x의 차이\n",
    "\n",
    "pos = Calculator()\n",
    "pos.minus()\n",
    "pos.weights\n",
    "pos.layers\n",
    "pos.x\n",
    "\n",
    "접근의 차이임\n",
    "그냥 습관처럼 쓰면 됨"
   ]
  },
  {
   "cell_type": "code",
   "execution_count": 6,
   "id": "c11ea077-f439-4fa4-a71c-c47d579d554d",
   "metadata": {},
   "outputs": [],
   "source": [
    "# 모델 구성하기\n",
    "model = NaiveSequential([\n",
    "            NaiveDense(input_size=28*28, output_size=512, activation=tf.nn.relu),\n",
    "            NaiveDense(input_size=512, output_size=10, activation=tf.nn.softmax)\n",
    "        ])\n",
    "# 512이 인 이유는 위에 512를 받아서 하는거여서."
   ]
  },
  {
   "cell_type": "code",
   "execution_count": 23,
   "id": "5736f34c-bf30-4825-a75b-0da902ddc9aa",
   "metadata": {},
   "outputs": [],
   "source": [
    "assert len(model.weights)==4"
   ]
  },
  {
   "cell_type": "code",
   "execution_count": 24,
   "id": "855d6091-83d1-433d-b4a0-d226c92595af",
   "metadata": {},
   "outputs": [
    {
     "data": {
      "text/plain": [
       "True"
      ]
     },
     "execution_count": 24,
     "metadata": {},
     "output_type": "execute_result"
    }
   ],
   "source": [
    "# assert메소드는 뒤에부분이 맞는지 확인하는 용도 if문과 비슷함\n",
    "len(model.weights)== 4"
   ]
  },
  {
   "cell_type": "code",
   "execution_count": 25,
   "id": "cb31b07b-cf7e-41c0-967d-48576e20427d",
   "metadata": {},
   "outputs": [
    {
     "name": "stdout",
     "output_type": "stream",
     "text": [
      "True\n"
     ]
    }
   ],
   "source": [
    "# weight의 개수가 4개인지 확인하고싶을때\n",
    "if len(model.weights)==4:\n",
    "    print(\"True\")\n",
    "else:\n",
    "    print(\"False\")"
   ]
  },
  {
   "cell_type": "code",
   "execution_count": 44,
   "id": "2c42aa55-5426-4f0f-8170-9c03bb952d19",
   "metadata": {},
   "outputs": [],
   "source": [
    "# 에러가 나오게\n",
    "if len(model.weights)==4:\n",
    "    pass\n",
    "else:\n",
    "    reaise"
   ]
  },
  {
   "cell_type": "code",
   "execution_count": 45,
   "id": "ad86cfba-7381-4f00-b142-daed0d0a1ea2",
   "metadata": {},
   "outputs": [
    {
     "data": {
      "text/plain": [
       "False"
      ]
     },
     "execution_count": 45,
     "metadata": {},
     "output_type": "execute_result"
    }
   ],
   "source": [
    "len(model.weights)== 3"
   ]
  },
  {
   "cell_type": "code",
   "execution_count": 27,
   "id": "6213d036-7cf3-4414-a33f-67868b4a12f5",
   "metadata": {
    "tags": []
   },
   "outputs": [
    {
     "data": {
      "text/plain": [
       "['__add__',\n",
       " '__class__',\n",
       " '__class_getitem__',\n",
       " '__contains__',\n",
       " '__delattr__',\n",
       " '__delitem__',\n",
       " '__dir__',\n",
       " '__doc__',\n",
       " '__eq__',\n",
       " '__format__',\n",
       " '__ge__',\n",
       " '__getattribute__',\n",
       " '__getitem__',\n",
       " '__gt__',\n",
       " '__hash__',\n",
       " '__iadd__',\n",
       " '__imul__',\n",
       " '__init__',\n",
       " '__init_subclass__',\n",
       " '__iter__',\n",
       " '__le__',\n",
       " '__len__',\n",
       " '__lt__',\n",
       " '__mul__',\n",
       " '__ne__',\n",
       " '__new__',\n",
       " '__reduce__',\n",
       " '__reduce_ex__',\n",
       " '__repr__',\n",
       " '__reversed__',\n",
       " '__rmul__',\n",
       " '__setattr__',\n",
       " '__setitem__',\n",
       " '__sizeof__',\n",
       " '__str__',\n",
       " '__subclasshook__',\n",
       " 'append',\n",
       " 'clear',\n",
       " 'copy',\n",
       " 'count',\n",
       " 'extend',\n",
       " 'index',\n",
       " 'insert',\n",
       " 'pop',\n",
       " 'remove',\n",
       " 'reverse',\n",
       " 'sort']"
      ]
     },
     "execution_count": 27,
     "metadata": {},
     "output_type": "execute_result"
    }
   ],
   "source": [
    "# len을 쓸 수 있는지 확인해봄\n",
    "dir(model.weights)\n",
    "\n",
    "# 스페셜메소드가 있어서 사용 가능"
   ]
  },
  {
   "cell_type": "code",
   "execution_count": 10,
   "id": "d42a0927-2c28-4f9d-a2af-a5cfba964c49",
   "metadata": {},
   "outputs": [
    {
     "data": {
      "text/plain": [
       "4"
      ]
     },
     "execution_count": 10,
     "metadata": {},
     "output_type": "execute_result"
    }
   ],
   "source": [
    "model.weights.__len__()"
   ]
  },
  {
   "cell_type": "code",
   "execution_count": 11,
   "id": "70fbf6ce-006c-48b7-9531-573c2ee539a3",
   "metadata": {},
   "outputs": [
    {
     "data": {
      "text/plain": [
       "4"
      ]
     },
     "execution_count": 11,
     "metadata": {},
     "output_type": "execute_result"
    }
   ],
   "source": [
    "len(model.weights)"
   ]
  },
  {
   "cell_type": "markdown",
   "id": "f181c594-82cc-4d94-92d9-5589526ccbb0",
   "metadata": {},
   "source": [
    "# p.283"
   ]
  },
  {
   "cell_type": "code",
   "execution_count": 46,
   "id": "30223586-40cf-4f2b-814f-2bba1911d940",
   "metadata": {},
   "outputs": [],
   "source": [
    "import numpy as np\n",
    "import pandas as pd\n",
    "import matplotlib.pyplot as plt\n",
    "\n",
    "from keras import Sequential\n",
    "from keras import optimizers\n",
    "from keras.layers import Input, Dense\n",
    "\n",
    "from tensorflow import keras\n",
    "import keras"
   ]
  },
  {
   "cell_type": "code",
   "execution_count": 48,
   "id": "306eff20-4f9e-4b0e-86f1-5e43c6f47244",
   "metadata": {},
   "outputs": [],
   "source": [
    "from tensorflow import keras\n",
    "from tensorflow.keras import layers"
   ]
  },
  {
   "cell_type": "code",
   "execution_count": 51,
   "id": "502c6949-3e35-4159-a519-2a1ac868f612",
   "metadata": {},
   "outputs": [],
   "source": [
    "inputs= keras.Input(shape=(28,28,1))\n",
    "x= layers.Conv2D(filters=32, kernel_size=3, activation=\"relu\")(inputs)\n",
    "x= layers.MaxPooling2D(pool_size=2)(x)\n",
    "x= layers.Conv2D(filters=32, kernel_size=3, activation=\"relu\")(x)\n",
    "x= layers.MaxPooling2D(pool_size=2)(x)\n",
    "x= layers.Conv2D(filters=32, kernel_size=3, activation=\"relu\")(x)\n",
    "x= layers.Flatten()(x)\n",
    "outputs= layers.Dense(10, activation=\"softmax\")(x)\n",
    "model=keras.Model(inputs=inputs, outputs=outputs)"
   ]
  },
  {
   "cell_type": "code",
   "execution_count": 52,
   "id": "ef597b4b-0c91-4d13-9bc8-57b86a51db51",
   "metadata": {},
   "outputs": [
    {
     "name": "stdout",
     "output_type": "stream",
     "text": [
      "Model: \"model\"\n",
      "_________________________________________________________________\n",
      " Layer (type)                Output Shape              Param #   \n",
      "=================================================================\n",
      " input_1 (InputLayer)        [(None, 28, 28, 1)]       0         \n",
      "                                                                 \n",
      " conv2d (Conv2D)             (None, 26, 26, 32)        320       \n",
      "                                                                 \n",
      " max_pooling2d (MaxPooling2D  (None, 13, 13, 32)       0         \n",
      " )                                                               \n",
      "                                                                 \n",
      " conv2d_1 (Conv2D)           (None, 11, 11, 32)        9248      \n",
      "                                                                 \n",
      " max_pooling2d_1 (MaxPooling  (None, 5, 5, 32)         0         \n",
      " 2D)                                                             \n",
      "                                                                 \n",
      " conv2d_2 (Conv2D)           (None, 3, 3, 32)          9248      \n",
      "                                                                 \n",
      " flatten (Flatten)           (None, 288)               0         \n",
      "                                                                 \n",
      " dense (Dense)               (None, 10)                2890      \n",
      "                                                                 \n",
      "=================================================================\n",
      "Total params: 21,706\n",
      "Trainable params: 21,706\n",
      "Non-trainable params: 0\n",
      "_________________________________________________________________\n"
     ]
    }
   ],
   "source": [
    "model.summary()"
   ]
  },
  {
   "cell_type": "code",
   "execution_count": 71,
   "id": "8acf41ba-dec7-4e51-9f1f-644adcf05cc0",
   "metadata": {},
   "outputs": [],
   "source": [
    "# 8-3 mnist이미지에서 컨브넷 훈련하기\n",
    "# MLP=DNN\n",
    "import keras\n",
    "from keras.datasets import mnist\n",
    "from keras.layers import Dense, Input, Conv2D, MaxPooling2D, Flatten\n",
    "from keras.utils import to_categorical\n",
    "\n",
    "from tensorflow.keras.datasets import mnist"
   ]
  },
  {
   "cell_type": "code",
   "execution_count": 70,
   "id": "97a1d9a9-49c4-4864-b914-542e6c67782a",
   "metadata": {},
   "outputs": [
    {
     "name": "stdout",
     "output_type": "stream",
     "text": [
      "Epoch 1/5\n",
      "469/469 [==============================] - 5s 10ms/step - loss: 0.2699 - accuracy: 0.9225\n",
      "Epoch 2/5\n",
      "469/469 [==============================] - 5s 11ms/step - loss: 0.0991 - accuracy: 0.9724\n",
      "Epoch 3/5\n",
      "469/469 [==============================] - 5s 10ms/step - loss: 0.0693 - accuracy: 0.9803\n",
      "Epoch 4/5\n",
      "469/469 [==============================] - 5s 11ms/step - loss: 0.0556 - accuracy: 0.9837\n",
      "Epoch 5/5\n",
      "469/469 [==============================] - 5s 10ms/step - loss: 0.0475 - accuracy: 0.9867\n",
      "313/313 [==============================] - 1s 2ms/step - loss: 0.0644 - accuracy: 0.9784\n"
     ]
    },
    {
     "data": {
      "text/plain": [
       "[0.06442660838365555, 0.9783999919891357]"
      ]
     },
     "execution_count": 70,
     "metadata": {},
     "output_type": "execute_result"
    }
   ],
   "source": [
    "(train_images, train_labels), (test_images, test_labels)= mnist.load_data()\n",
    "train_images= train_images.reshape((60000,28,28,1))\n",
    "train_images= train_images.astype(\"float32\")/255\n",
    "test_images= test_images.reshape((10000,28,28,1))\n",
    "test_images= test_images.astype(\"float32\")/255\n",
    "\n",
    "\n",
    "\n",
    "train_labels= to_categorical(train_labels)\n",
    "test_labels= to_categorical(test_labels)\n",
    "\n",
    "\n",
    "inputs =Input(shape=(28,28,1))\n",
    "x= Conv2D(filters=32, kernel_size=3, activation=\"relu\")(inputs)\n",
    "x= MaxPooling2D(pool_size=2)(x)\n",
    "x= Conv2D(filters=32, kernel_size=3, activation=\"relu\")(inputs)\n",
    "x= MaxPooling2D(pool_size=2)(x)\n",
    "x= Conv2D(filters=32, kernel_size=3, activation=\"relu\")(inputs)\n",
    "x= Flatten()(x)\n",
    "\n",
    "outputs= Dense(10, activation=\"softmax\")(x)\n",
    "\n",
    "model= keras.Model(inputs, outputs)\n",
    "\n",
    "\n",
    "model.compile(optimizer = \"RMSprop\",\n",
    "             loss =\"categorical_crossentropy\",\n",
    "             metrics = [\"accuracy\"])\n",
    "\n",
    "history= model.fit(train_images, train_labels, epochs=5, batch_size=128)\n",
    "\n",
    "model.evaluate(test_images, test_labels)"
   ]
  },
  {
   "cell_type": "code",
   "execution_count": 72,
   "id": "631cb217-29cd-4d15-9512-b4f2b2f29858",
   "metadata": {},
   "outputs": [
    {
     "name": "stdout",
     "output_type": "stream",
     "text": [
      "Epoch 1/2\n",
      "235/235 [==============================] - 6s 23ms/step - loss: 0.5356 - accuracy: 0.8368\n",
      "Epoch 2/2\n",
      "235/235 [==============================] - 5s 22ms/step - loss: 0.1433 - accuracy: 0.9586\n",
      "313/313 [==============================] - 1s 2ms/step - loss: 0.1139 - accuracy: 0.9667\n"
     ]
    },
    {
     "data": {
      "text/plain": [
       "[0.11392852663993835, 0.96670001745224]"
      ]
     },
     "execution_count": 72,
     "metadata": {},
     "output_type": "execute_result"
    }
   ],
   "source": [
    "# 층을 2개 더 늘려주고 epochs, batch_size를 바꿔줌\n",
    "(train_images, train_labels), (test_images, test_labels)= mnist.load_data()\n",
    "train_images= train_images.reshape((60000,28,28,1))\n",
    "train_images= train_images.astype(\"float32\")/255\n",
    "test_images= test_images.reshape((10000,28,28,1))\n",
    "test_images= test_images.astype(\"float32\")/255\n",
    "\n",
    "\n",
    "\n",
    "train_labels= to_categorical(train_labels)\n",
    "test_labels= to_categorical(test_labels)\n",
    "\n",
    "\n",
    "inputs =Input(shape=(28,28,1))\n",
    "x= Conv2D(filters=32, kernel_size=3, activation=\"relu\")(inputs)\n",
    "x= MaxPooling2D(pool_size=2)(x)\n",
    "x= Conv2D(filters=32, kernel_size=3, activation=\"relu\")(inputs)\n",
    "x= MaxPooling2D(pool_size=2)(x)\n",
    "x= Conv2D(filters=32, kernel_size=3, activation=\"relu\")(inputs)\n",
    "x= Flatten()(x)\n",
    "\n",
    "\n",
    "x= Dense(20, activation='relu')(x)\n",
    "x= Dense(20, activation='relu')(x)\n",
    "outputs= Dense(10, activation=\"softmax\")(x)\n",
    "\n",
    "model= keras.Model(inputs, outputs)\n",
    "\n",
    "\n",
    "model.compile(optimizer = \"RMSprop\",\n",
    "             loss =\"categorical_crossentropy\",\n",
    "             metrics = [\"accuracy\"])\n",
    "\n",
    "history= model.fit(train_images, train_labels, epochs=2, batch_size=256)\n",
    "\n",
    "model.evaluate(test_images, test_labels)"
   ]
  },
  {
   "cell_type": "code",
   "execution_count": null,
   "id": "95c48923-8017-4c4f-a45e-217bce6d78bd",
   "metadata": {},
   "outputs": [],
   "source": [
    "이미지 -> 숫자배열....784>>>1\n",
    "이미지 -> 이미지 숫자(28,28,1)>>>숫자배열>>>>1\n",
    "(가로28, 세로28, 흑백1)\n",
    "\n",
    "dnn: 숫자를 보고 숫자를 맞추는 것 (숫자->1)\n",
    "cnn: 이미지를 보고 dnn의 논리를 거치는 것(이미지->숫자->1)(이미지->dnn)"
   ]
  },
  {
   "cell_type": "markdown",
   "id": "34582e73-2204-49f9-8abb-27cc45dd7319",
   "metadata": {},
   "source": [
    "element-wise: 곱해서 더한다\n",
    "\n",
    "5x5를 훑고 가면 3x3이 나옴.\n",
    "\n",
    "아홉가지의 숫자를 나타내는 숫자=9\n",
    "한칸 이동한 숫자를 나타내는 숫자=101\n",
    "2   0   5    0                   9    101   0      \n",
    "1   2   100  0              =>   0     0    0\n",
    "2   1   5    0                   0     0    0\n",
    "\n",
    "\n",
    "\n",
    "0 0 1\n",
    "0 1 0\n",
    "1 0 0\n",
    "\n",
    "convolution계산\n",
    "컨블르션 연산=> 바깥을 0000으로 둘러싸서 2개의 row, 2개의 칼럼이 더 생기게 됨 = =패딩(Padding)\n",
    "(마진: 바깥 여백, 패딩: 안쪽 여백)인데\n",
    "패딩: 바깥쪽 여백을 둘러싸는 것임.\n",
    "\n",
    "패딩이 뭔지 설명할 줄 알아야함\n",
    "\n",
    "위의 아홉가지의 숫자를 나타내는 숫자=9\n",
    "5+2+2=9\n",
    "\n",
    "한칸 이동하면 \n",
    "100+1=101\n",
    "\n",
    "\n",
    "Conv2D레이어를 한번 통과하면 5x5가 3x3으로 바뀜\n",
    "또 통과시키면 3x3이 1x1으로 줄어듬\n",
    "\n",
    "\n"
   ]
  },
  {
   "cell_type": "code",
   "execution_count": null,
   "id": "72e55850-11f4-4dca-92f9-4d4ec71528a1",
   "metadata": {},
   "outputs": [],
   "source": []
  },
  {
   "cell_type": "code",
   "execution_count": null,
   "id": "a22e0aea-0ad5-4e12-bb1a-11e7f08c0d6c",
   "metadata": {},
   "outputs": [],
   "source": []
  }
 ],
 "metadata": {
  "kernelspec": {
   "display_name": "Python 3 (ipykernel)",
   "language": "python",
   "name": "python3"
  },
  "language_info": {
   "codemirror_mode": {
    "name": "ipython",
    "version": 3
   },
   "file_extension": ".py",
   "mimetype": "text/x-python",
   "name": "python",
   "nbconvert_exporter": "python",
   "pygments_lexer": "ipython3",
   "version": "3.9.12"
  }
 },
 "nbformat": 4,
 "nbformat_minor": 5
}
