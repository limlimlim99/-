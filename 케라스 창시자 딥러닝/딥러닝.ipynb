{
 "cells": [
  {
   "cell_type": "code",
   "execution_count": 8,
   "id": "61a7b43f-45ed-42a1-a636-b0ae15bd12d5",
   "metadata": {},
   "outputs": [],
   "source": [
    "#framework: django(웹서비스를 위한 프로세스)"
   ]
  },
  {
   "cell_type": "code",
   "execution_count": 13,
   "id": "26704757-70a6-4855-a3df-18d9a4f54c92",
   "metadata": {},
   "outputs": [],
   "source": [
    "#pip install keras\n",
    "#pip install tensorflow"
   ]
  },
  {
   "cell_type": "code",
   "execution_count": 22,
   "id": "20dae23f-dc39-4b9f-a6ba-f814c6689e6e",
   "metadata": {},
   "outputs": [],
   "source": [
    "import numpy as np\n",
    "import pandas as pd\n",
    "import matplotlib.pyplot as plt\n",
    "\n",
    "from keras import Sequential\n",
    "from keras import optimizers\n",
    "from keras.layers import Input, Dense"
   ]
  },
  {
   "cell_type": "code",
   "execution_count": 140,
   "id": "b1f58af0-da3d-4d18-bba8-6672d1a61d22",
   "metadata": {},
   "outputs": [],
   "source": [
    "from tensorflow import keras\n",
    "import keras"
   ]
  },
  {
   "cell_type": "code",
   "execution_count": 139,
   "id": "251b15e0-65b1-412d-9d97-5d55a0bcd61b",
   "metadata": {},
   "outputs": [],
   "source": [
    "#sparse matrix: 희소행렬\n",
    "#dense matrix: 밀집행렬"
   ]
  },
  {
   "cell_type": "code",
   "execution_count": 24,
   "id": "bfc54e38-bd11-487e-b8f7-832465f9268f",
   "metadata": {
    "collapsed": true,
    "jupyter": {
     "outputs_hidden": true
    },
    "tags": []
   },
   "outputs": [
    {
     "data": {
      "text/plain": [
       "array([-1.0000000e+00, -9.9000000e-01, -9.8000000e-01, -9.7000000e-01,\n",
       "       -9.6000000e-01, -9.5000000e-01, -9.4000000e-01, -9.3000000e-01,\n",
       "       -9.2000000e-01, -9.1000000e-01, -9.0000000e-01, -8.9000000e-01,\n",
       "       -8.8000000e-01, -8.7000000e-01, -8.6000000e-01, -8.5000000e-01,\n",
       "       -8.4000000e-01, -8.3000000e-01, -8.2000000e-01, -8.1000000e-01,\n",
       "       -8.0000000e-01, -7.9000000e-01, -7.8000000e-01, -7.7000000e-01,\n",
       "       -7.6000000e-01, -7.5000000e-01, -7.4000000e-01, -7.3000000e-01,\n",
       "       -7.2000000e-01, -7.1000000e-01, -7.0000000e-01, -6.9000000e-01,\n",
       "       -6.8000000e-01, -6.7000000e-01, -6.6000000e-01, -6.5000000e-01,\n",
       "       -6.4000000e-01, -6.3000000e-01, -6.2000000e-01, -6.1000000e-01,\n",
       "       -6.0000000e-01, -5.9000000e-01, -5.8000000e-01, -5.7000000e-01,\n",
       "       -5.6000000e-01, -5.5000000e-01, -5.4000000e-01, -5.3000000e-01,\n",
       "       -5.2000000e-01, -5.1000000e-01, -5.0000000e-01, -4.9000000e-01,\n",
       "       -4.8000000e-01, -4.7000000e-01, -4.6000000e-01, -4.5000000e-01,\n",
       "       -4.4000000e-01, -4.3000000e-01, -4.2000000e-01, -4.1000000e-01,\n",
       "       -4.0000000e-01, -3.9000000e-01, -3.8000000e-01, -3.7000000e-01,\n",
       "       -3.6000000e-01, -3.5000000e-01, -3.4000000e-01, -3.3000000e-01,\n",
       "       -3.2000000e-01, -3.1000000e-01, -3.0000000e-01, -2.9000000e-01,\n",
       "       -2.8000000e-01, -2.7000000e-01, -2.6000000e-01, -2.5000000e-01,\n",
       "       -2.4000000e-01, -2.3000000e-01, -2.2000000e-01, -2.1000000e-01,\n",
       "       -2.0000000e-01, -1.9000000e-01, -1.8000000e-01, -1.7000000e-01,\n",
       "       -1.6000000e-01, -1.5000000e-01, -1.4000000e-01, -1.3000000e-01,\n",
       "       -1.2000000e-01, -1.1000000e-01, -1.0000000e-01, -9.0000000e-02,\n",
       "       -8.0000000e-02, -7.0000000e-02, -6.0000000e-02, -5.0000000e-02,\n",
       "       -4.0000000e-02, -3.0000000e-02, -2.0000000e-02, -1.0000000e-02,\n",
       "        8.8817842e-16,  1.0000000e-02,  2.0000000e-02,  3.0000000e-02,\n",
       "        4.0000000e-02,  5.0000000e-02,  6.0000000e-02,  7.0000000e-02,\n",
       "        8.0000000e-02,  9.0000000e-02,  1.0000000e-01,  1.1000000e-01,\n",
       "        1.2000000e-01,  1.3000000e-01,  1.4000000e-01,  1.5000000e-01,\n",
       "        1.6000000e-01,  1.7000000e-01,  1.8000000e-01,  1.9000000e-01,\n",
       "        2.0000000e-01,  2.1000000e-01,  2.2000000e-01,  2.3000000e-01,\n",
       "        2.4000000e-01,  2.5000000e-01,  2.6000000e-01,  2.7000000e-01,\n",
       "        2.8000000e-01,  2.9000000e-01,  3.0000000e-01,  3.1000000e-01,\n",
       "        3.2000000e-01,  3.3000000e-01,  3.4000000e-01,  3.5000000e-01,\n",
       "        3.6000000e-01,  3.7000000e-01,  3.8000000e-01,  3.9000000e-01,\n",
       "        4.0000000e-01,  4.1000000e-01,  4.2000000e-01,  4.3000000e-01,\n",
       "        4.4000000e-01,  4.5000000e-01,  4.6000000e-01,  4.7000000e-01,\n",
       "        4.8000000e-01,  4.9000000e-01,  5.0000000e-01,  5.1000000e-01,\n",
       "        5.2000000e-01,  5.3000000e-01,  5.4000000e-01,  5.5000000e-01,\n",
       "        5.6000000e-01,  5.7000000e-01,  5.8000000e-01,  5.9000000e-01,\n",
       "        6.0000000e-01,  6.1000000e-01,  6.2000000e-01,  6.3000000e-01,\n",
       "        6.4000000e-01,  6.5000000e-01,  6.6000000e-01,  6.7000000e-01,\n",
       "        6.8000000e-01,  6.9000000e-01,  7.0000000e-01,  7.1000000e-01,\n",
       "        7.2000000e-01,  7.3000000e-01,  7.4000000e-01,  7.5000000e-01,\n",
       "        7.6000000e-01,  7.7000000e-01,  7.8000000e-01,  7.9000000e-01,\n",
       "        8.0000000e-01,  8.1000000e-01,  8.2000000e-01,  8.3000000e-01,\n",
       "        8.4000000e-01,  8.5000000e-01,  8.6000000e-01,  8.7000000e-01,\n",
       "        8.8000000e-01,  8.9000000e-01,  9.0000000e-01,  9.1000000e-01,\n",
       "        9.2000000e-01,  9.3000000e-01,  9.4000000e-01,  9.5000000e-01,\n",
       "        9.6000000e-01,  9.7000000e-01,  9.8000000e-01,  9.9000000e-01])"
      ]
     },
     "execution_count": 24,
     "metadata": {},
     "output_type": "execute_result"
    }
   ],
   "source": [
    "# -1부터 1까지 100조각 내기\n",
    "np.arange(-1,1, 0.01)"
   ]
  },
  {
   "cell_type": "code",
   "execution_count": 25,
   "id": "be2d1ec5-6efc-4fbd-9565-cd315c4e9158",
   "metadata": {
    "collapsed": true,
    "jupyter": {
     "outputs_hidden": true
    },
    "tags": []
   },
   "outputs": [
    {
     "data": {
      "text/plain": [
       "array([-1.        , -0.97979798, -0.95959596, -0.93939394, -0.91919192,\n",
       "       -0.8989899 , -0.87878788, -0.85858586, -0.83838384, -0.81818182,\n",
       "       -0.7979798 , -0.77777778, -0.75757576, -0.73737374, -0.71717172,\n",
       "       -0.6969697 , -0.67676768, -0.65656566, -0.63636364, -0.61616162,\n",
       "       -0.5959596 , -0.57575758, -0.55555556, -0.53535354, -0.51515152,\n",
       "       -0.49494949, -0.47474747, -0.45454545, -0.43434343, -0.41414141,\n",
       "       -0.39393939, -0.37373737, -0.35353535, -0.33333333, -0.31313131,\n",
       "       -0.29292929, -0.27272727, -0.25252525, -0.23232323, -0.21212121,\n",
       "       -0.19191919, -0.17171717, -0.15151515, -0.13131313, -0.11111111,\n",
       "       -0.09090909, -0.07070707, -0.05050505, -0.03030303, -0.01010101,\n",
       "        0.01010101,  0.03030303,  0.05050505,  0.07070707,  0.09090909,\n",
       "        0.11111111,  0.13131313,  0.15151515,  0.17171717,  0.19191919,\n",
       "        0.21212121,  0.23232323,  0.25252525,  0.27272727,  0.29292929,\n",
       "        0.31313131,  0.33333333,  0.35353535,  0.37373737,  0.39393939,\n",
       "        0.41414141,  0.43434343,  0.45454545,  0.47474747,  0.49494949,\n",
       "        0.51515152,  0.53535354,  0.55555556,  0.57575758,  0.5959596 ,\n",
       "        0.61616162,  0.63636364,  0.65656566,  0.67676768,  0.6969697 ,\n",
       "        0.71717172,  0.73737374,  0.75757576,  0.77777778,  0.7979798 ,\n",
       "        0.81818182,  0.83838384,  0.85858586,  0.87878788,  0.8989899 ,\n",
       "        0.91919192,  0.93939394,  0.95959596,  0.97979798,  1.        ])"
      ]
     },
     "execution_count": 25,
     "metadata": {},
     "output_type": "execute_result"
    }
   ],
   "source": [
    "np.linspace(-1,1,100)"
   ]
  },
  {
   "cell_type": "code",
   "execution_count": 26,
   "id": "897b4adc-4936-40c9-a7df-79d3dc25242f",
   "metadata": {},
   "outputs": [
    {
     "data": {
      "text/plain": [
       "array([ 1.        ,  1.47368421,  1.94736842,  2.42105263,  2.89473684,\n",
       "        3.36842105,  3.84210526,  4.31578947,  4.78947368,  5.26315789,\n",
       "        5.73684211,  6.21052632,  6.68421053,  7.15789474,  7.63157895,\n",
       "        8.10526316,  8.57894737,  9.05263158,  9.52631579, 10.        ])"
      ]
     },
     "execution_count": 26,
     "metadata": {},
     "output_type": "execute_result"
    }
   ],
   "source": [
    "#1부터 10까지의 숫지를 균등하게 20개로 쪼개준다\n",
    "np.linspace(1,10,20)"
   ]
  },
  {
   "cell_type": "code",
   "execution_count": 33,
   "id": "e03f53ae-751c-42cb-9856-2dbf81e442ce",
   "metadata": {},
   "outputs": [],
   "source": [
    "x = np.linspace(-1, 1, 100)\n",
    "y = x**2"
   ]
  },
  {
   "cell_type": "code",
   "execution_count": 35,
   "id": "33c09b3b-85f5-4e20-926f-cddeea5e6f10",
   "metadata": {},
   "outputs": [
    {
     "data": {
      "text/plain": [
       "<matplotlib.collections.PathCollection at 0x2813dc64160>"
      ]
     },
     "execution_count": 35,
     "metadata": {},
     "output_type": "execute_result"
    },
    {
     "data": {
      "image/png": "[encoded data removed]",
      "text/plain": [
       "<Figure size 432x288 with 1 Axes>"
      ]
     },
     "metadata": {
      "needs_background": "light"
     },
     "output_type": "display_data"
    }
   ],
   "source": [
    "plt.scatter(x,x**2)"
   ]
  },
  {
   "cell_type": "code",
   "execution_count": 41,
   "id": "a61698e8-8c18-4067-acf8-c50c478beb8d",
   "metadata": {},
   "outputs": [
    {
     "name": "stdout",
     "output_type": "stream",
     "text": [
      "[1 2 3 4 5 6 7 8 9]\n"
     ]
    },
    {
     "data": {
      "text/plain": [
       "array([1, 2, 4, 8, 7, 5, 6, 9, 3])"
      ]
     },
     "execution_count": 41,
     "metadata": {},
     "output_type": "execute_result"
    }
   ],
   "source": [
    "a= np.arange(1,10)\n",
    "print(a)\n",
    "np.random.shuffle(a)\n",
    "a"
   ]
  },
  {
   "cell_type": "code",
   "execution_count": 51,
   "id": "39a8489c-4d5e-488f-bbe8-3aa209f574c1",
   "metadata": {},
   "outputs": [],
   "source": [
    "np.random.shuffle(x)"
   ]
  },
  {
   "cell_type": "code",
   "execution_count": 60,
   "id": "d5da7fe2-301a-4a46-b661-f3dd3b67947e",
   "metadata": {},
   "outputs": [
    {
     "data": {
      "text/plain": [
       "<matplotlib.collections.PathCollection at 0x2813f0c78e0>"
      ]
     },
     "execution_count": 60,
     "metadata": {},
     "output_type": "execute_result"
    },
    {
     "data": {
      "image/png": "[encoded data removed]",
      "text/plain": [
       "<Figure size 360x288 with 1 Axes>"
      ]
     },
     "metadata": {
      "needs_background": "light"
     },
     "output_type": "display_data"
    }
   ],
   "source": [
    "plt.rcParams[\"figure.figsize\"] = (5,4) \n",
    "plt.scatter(x[:70], x[:70]**2)"
   ]
  },
  {
   "cell_type": "code",
   "execution_count": 66,
   "id": "87ef13b0-9e92-4b76-b57c-1a721ff8a31a",
   "metadata": {},
   "outputs": [
    {
     "data": {
      "text/plain": [
       "<matplotlib.collections.PathCollection at 0x28142b3cc10>"
      ]
     },
     "execution_count": 66,
     "metadata": {},
     "output_type": "execute_result"
    },
    {
     "data": {
      "image/png": "[encoded data removed]",
      "text/plain": [
       "<Figure size 360x288 with 1 Axes>"
      ]
     },
     "metadata": {
      "needs_background": "light"
     },
     "output_type": "display_data"
    }
   ],
   "source": [
    "plt.scatter(x[:70],x[:70]**2)\n",
    "plt.scatter(x[70:],x[70:]**2)"
   ]
  },
  {
   "cell_type": "markdown",
   "id": "9fd4c350-70b9-4e02-9091-642175356f2e",
   "metadata": {},
   "source": [
    "#학습\n",
    "class Caculator: \n",
    "    def__init__(self)\n",
    "    \n",
    "    def add(self, );\n",
    "    \n",
    "    \n",
    "pos = Calculator()"
   ]
  },
  {
   "cell_type": "code",
   "execution_count": 75,
   "id": "529edda8-eb94-4868-a486-714e7c0fcb46",
   "metadata": {
    "tags": []
   },
   "outputs": [],
   "source": [
    "model = Sequential()\n",
    "model.add(Input(1))\n",
    "model.add(Dense(units=10, activation='sigmoid')) #unit=10는 10개짜리 층을 만든다\n",
    "model.add(Dense(units=10, activation='sigmoid'))\n",
    "model.add(Dense(units=1))   #아웃풋이 나오는 층 아웃풋이 1개가 나옴 아웃풋은 unit의 0.1이 나옴\n",
    "\n",
    "model.compile(optimizer='SGD', loss= 'mse', metrics='mse')"
   ]
  },
  {
   "cell_type": "code",
   "execution_count": 103,
   "id": "5d796c06-57de-4be6-8043-388e5d35b33c",
   "metadata": {},
   "outputs": [],
   "source": [
    "#새로 학습시킴"
   ]
  },
  {
   "cell_type": "code",
   "execution_count": 114,
   "id": "2cfdbef8-cd34-4197-8784-c812a152e8a5",
   "metadata": {},
   "outputs": [],
   "source": [
    "x = np.linspace(-1, 1, 100)\n",
    "y = x**2"
   ]
  },
  {
   "cell_type": "code",
   "execution_count": 115,
   "id": "a42c0091-f528-4cd2-bb9c-2d3433823231",
   "metadata": {},
   "outputs": [],
   "source": [
    "np.random.shuffle(x)"
   ]
  },
  {
   "cell_type": "code",
   "execution_count": 116,
   "id": "f7e58c5c-9bba-40cb-86c3-2dcce7f75a3b",
   "metadata": {},
   "outputs": [],
   "source": [
    "model = Sequential()\n",
    "model.add(Input(1))\n",
    "model.add(Dense(units=10, activation='tanh')) #unit=10는 10개짜리 층을 만든다\n",
    "model.add(Dense(units=10, activation='tanh'))\n",
    "model.add(Dense(units=1))   #아웃풋이 나오는 층 아웃풋이 1개가 나옴 아웃풋은 unit의 0.1이 나옴\n",
    "\n",
    "model.compile(optimizer='SGD', loss= 'mse', metrics='mse')"
   ]
  },
  {
   "cell_type": "code",
   "execution_count": 117,
   "id": "af5c2ac8-2a9f-4a0b-8a95-92bfee68bcd2",
   "metadata": {
    "tags": []
   },
   "outputs": [
    {
     "data": {
      "text/plain": [
       "<keras.callbacks.History at 0x2814a0be6d0>"
      ]
     },
     "execution_count": 117,
     "metadata": {},
     "output_type": "execute_result"
    }
   ],
   "source": [
    "# 학습\n",
    "#model.fit(x[:70],x[:70]**2, epochs=100, verbose=1, batch_size=16)\n",
    "model.fit(x[:70],x[:70]**2, epochs=100, verbose=0, batch_size=16)"
   ]
  },
  {
   "cell_type": "code",
   "execution_count": 118,
   "id": "96e64ad2-08c7-4395-b7d3-b5929e8dbef1",
   "metadata": {
    "collapsed": true,
    "jupyter": {
     "outputs_hidden": true
    },
    "tags": []
   },
   "outputs": [
    {
     "name": "stdout",
     "output_type": "stream",
     "text": [
      "1/1 [==============================] - 0s 41ms/step\n"
     ]
    },
    {
     "data": {
      "text/plain": [
       "array([[0.2991959 ],\n",
       "       [0.2938867 ],\n",
       "       [0.3619243 ],\n",
       "       [0.31553614],\n",
       "       [0.2957586 ],\n",
       "       [0.29632217],\n",
       "       [0.29352164],\n",
       "       [0.32124558],\n",
       "       [0.29429427],\n",
       "       [0.2935601 ],\n",
       "       [0.29494372],\n",
       "       [0.31415242],\n",
       "       [0.330009  ],\n",
       "       [0.36057743],\n",
       "       [0.3460619 ],\n",
       "       [0.2929252 ],\n",
       "       [0.29963967],\n",
       "       [0.2952317 ],\n",
       "       [0.35793716],\n",
       "       [0.30117142],\n",
       "       [0.3064323 ],\n",
       "       [0.3041417 ],\n",
       "       [0.30008885],\n",
       "       [0.33709833],\n",
       "       [0.29835385],\n",
       "       [0.29238325],\n",
       "       [0.29249614],\n",
       "       [0.35912344],\n",
       "       [0.33288994],\n",
       "       [0.29251522]], dtype=float32)"
      ]
     },
     "execution_count": 118,
     "metadata": {},
     "output_type": "execute_result"
    }
   ],
   "source": [
    "# 예측값\n",
    "preds = model.predict(x[70:])\n",
    "preds"
   ]
  },
  {
   "cell_type": "code",
   "execution_count": 119,
   "id": "1b4bae01-77aa-4c85-a1a6-74661d2cb41b",
   "metadata": {},
   "outputs": [
    {
     "data": {
      "text/plain": [
       "array([0.04499541, 0.48576676, 0.92082441, 0.00499949, 0.60493827,\n",
       "       0.63677176, 0.45801449, 0.02295684, 0.51433527, 0.15518825,\n",
       "       0.11111111, 0.00255076, 0.07438017, 0.77226814, 0.26538108,\n",
       "       0.40495868, 0.80818284, 0.57392103, 0.60493827, 0.88246097,\n",
       "       0.00499949, 0.01234568, 0.03683298, 0.13967962, 0.05397408,\n",
       "       0.33149679, 0.22538516, 0.66942149, 0.09805122, 0.35516784])"
      ]
     },
     "execution_count": 119,
     "metadata": {},
     "output_type": "execute_result"
    }
   ],
   "source": [
    "# 실제값\n",
    "x[70:]**2"
   ]
  },
  {
   "cell_type": "code",
   "execution_count": 120,
   "id": "88fb5308-131c-4ca5-b873-42c44db47841",
   "metadata": {},
   "outputs": [
    {
     "data": {
      "text/plain": [
       "233.42712136068315"
      ]
     },
     "execution_count": 120,
     "metadata": {},
     "output_type": "execute_result"
    }
   ],
   "source": [
    "#예측값과 실제값이 잘 맞았는지 판단 (예측-실제)를 절대값으로 바꾼 후 더해줌\n",
    "np.sum(np.abs(preds - x[70:]**2))"
   ]
  },
  {
   "cell_type": "code",
   "execution_count": 121,
   "id": "99713aed-3735-41bc-b9bd-150768b1fee3",
   "metadata": {},
   "outputs": [
    {
     "data": {
      "text/plain": [
       "<matplotlib.collections.PathCollection at 0x2814b2e52e0>"
      ]
     },
     "execution_count": 121,
     "metadata": {},
     "output_type": "execute_result"
    },
    {
     "data": {
      "image/png": "[encoded data removed]",
      "text/plain": [
       "<Figure size 360x288 with 1 Axes>"
      ]
     },
     "metadata": {
      "needs_background": "light"
     },
     "output_type": "display_data"
    }
   ],
   "source": [
    "#preds를 그리기\n",
    "plt.scatter(x[70:], x[70:]**2)\n",
    "plt.scatter(x[70:], preds)"
   ]
  },
  {
   "cell_type": "code",
   "execution_count": 122,
   "id": "bed07023-8a03-4df4-8ad7-61eb7bd659ab",
   "metadata": {},
   "outputs": [
    {
     "data": {
      "text/plain": [
       "<matplotlib.collections.PathCollection at 0x2814b314ca0>"
      ]
     },
     "execution_count": 122,
     "metadata": {},
     "output_type": "execute_result"
    },
    {
     "data": {
      "image/png": "[encoded data removed]",
      "text/plain": [
       "<Figure size 360x288 with 1 Axes>"
      ]
     },
     "metadata": {
      "needs_background": "light"
     },
     "output_type": "display_data"
    }
   ],
   "source": [
    "plt.scatter(x[70:], preds)"
   ]
  },
  {
   "cell_type": "code",
   "execution_count": null,
   "id": "0aecdb6f-a975-4742-b8d9-dc3803c317dd",
   "metadata": {},
   "outputs": [],
   "source": [
    "# 다시 새로 학습 시킴-->성능이 더 좋아짐(얼추 예측이 맞아짐)"
   ]
  },
  {
   "cell_type": "code",
   "execution_count": 130,
   "id": "b3705b02-d5f1-4577-9ab8-00ed1a54b112",
   "metadata": {},
   "outputs": [],
   "source": [
    "x = np.linspace(-1, 1, 1000)\n",
    "y = x**2"
   ]
  },
  {
   "cell_type": "code",
   "execution_count": 131,
   "id": "b20748da-f25b-4c4f-ab35-37267470769c",
   "metadata": {},
   "outputs": [],
   "source": [
    "np.random.shuffle(x)"
   ]
  },
  {
   "cell_type": "code",
   "execution_count": 132,
   "id": "2af65c5f-d6a4-444d-9251-342f0b4bc88f",
   "metadata": {},
   "outputs": [],
   "source": [
    "model = Sequential()\n",
    "model.add(Input(1))\n",
    "model.add(Dense(units=10, activation='tanh')) #unit=10는 10개짜리 층을 만든다\n",
    "model.add(Dense(units=10, activation='tanh'))\n",
    "model.add(Dense(units=1))   #아웃풋이 나오는 층 아웃풋이 1개가 나옴 아웃풋은 unit의 0.1이 나옴\n",
    "\n",
    "model.compile(optimizer='SGD', loss= 'mse', metrics='mse')"
   ]
  },
  {
   "cell_type": "code",
   "execution_count": 133,
   "id": "d71dda22-77e8-4d7d-84b0-bb52144f33d0",
   "metadata": {},
   "outputs": [
    {
     "data": {
      "text/plain": [
       "<keras.callbacks.History at 0x28148600970>"
      ]
     },
     "execution_count": 133,
     "metadata": {},
     "output_type": "execute_result"
    }
   ],
   "source": [
    "n = 800\n",
    "model.fit(x[:n],x[:n]**2, epochs=100, verbose=0, batch_size=32)"
   ]
  },
  {
   "cell_type": "code",
   "execution_count": 134,
   "id": "22d47c12-7d8f-4531-b515-a44f722ca21e",
   "metadata": {},
   "outputs": [
    {
     "name": "stdout",
     "output_type": "stream",
     "text": [
      "WARNING:tensorflow:6 out of the last 8 calls to <function Model.make_predict_function.<locals>.predict_function at 0x000002814339B4C0> triggered tf.function retracing. Tracing is expensive and the excessive number of tracings could be due to (1) creating @tf.function repeatedly in a loop, (2) passing tensors with different shapes, (3) passing Python objects instead of tensors. For (1), please define your @tf.function outside of the loop. For (2), @tf.function has reduce_retracing=True option that can avoid unnecessary retracing. For (3), please refer to https://www.tensorflow.org/guide/function#controlling_retracing and https://www.tensorflow.org/api_docs/python/tf/function for  more details.\n",
      "7/7 [==============================] - 0s 833us/step\n"
     ]
    }
   ],
   "source": [
    "preds = model.predict(x[n:])"
   ]
  },
  {
   "cell_type": "code",
   "execution_count": 136,
   "id": "504f3f16-095b-442a-a9c6-a4eb7a787528",
   "metadata": {},
   "outputs": [
    {
     "data": {
      "text/plain": [
       "<matplotlib.collections.PathCollection at 0x281428f5b20>"
      ]
     },
     "execution_count": 136,
     "metadata": {},
     "output_type": "execute_result"
    },
    {
     "data": {
      "image/png": "[encoded data removed]",
      "text/plain": [
       "<Figure size 360x288 with 1 Axes>"
      ]
     },
     "metadata": {
      "needs_background": "light"
     },
     "output_type": "display_data"
    }
   ],
   "source": [
    "plt.scatter(x[n:], x[n:]**2)\n",
    "plt.scatter(x[n:], preds)"
   ]
  },
  {
   "cell_type": "code",
   "execution_count": null,
   "id": "9e192b05-97a9-4188-a1d5-3554fc5db98b",
   "metadata": {},
   "outputs": [],
   "source": []
  },
  {
   "cell_type": "code",
   "execution_count": null,
   "id": "e4bb7137-5ece-4f8b-9026-50fff30e0771",
   "metadata": {},
   "outputs": [],
   "source": []
  },
  {
   "cell_type": "code",
   "execution_count": 141,
   "id": "d293b1bf-7c86-4097-a32b-a62aff224cf7",
   "metadata": {},
   "outputs": [],
   "source": [
    "import keras"
   ]
  },
  {
   "cell_type": "code",
   "execution_count": 142,
   "id": "1cb87086-ccb8-4bd9-8547-16fb08c5b18e",
   "metadata": {},
   "outputs": [
    {
     "name": "stdout",
     "output_type": "stream",
     "text": [
      "Downloading data from https://storage.googleapis.com/tensorflow/tf-keras-datasets/mnist.npz\n",
      "11490434/11490434 [==============================] - 0s 0us/step\n"
     ]
    }
   ],
   "source": [
    "from keras.datasets import mnist\n",
    "(train_images, train_labels), (test_images, test_labels)= mnist.load_data()"
   ]
  },
  {
   "cell_type": "code",
   "execution_count": 143,
   "id": "e159a339-c325-4ef6-b639-a2299e6d77af",
   "metadata": {},
   "outputs": [
    {
     "data": {
      "text/plain": [
       "array([5, 0, 4, ..., 5, 6, 8], dtype=uint8)"
      ]
     },
     "execution_count": 143,
     "metadata": {},
     "output_type": "execute_result"
    }
   ],
   "source": [
    "train_labels"
   ]
  },
  {
   "cell_type": "code",
   "execution_count": 145,
   "id": "345d3fe7-eea9-4fbd-97a0-5dedc536afbd",
   "metadata": {
    "collapsed": true,
    "jupyter": {
     "outputs_hidden": true
    },
    "tags": []
   },
   "outputs": [
    {
     "data": {
      "text/plain": [
       "array([[  0,   0,   0,   0,   0,   0,   0,   0,   0,   0,   0,   0,   0,\n",
       "          0,   0,   0,   0,   0,   0,   0,   0,   0,   0,   0,   0,   0,\n",
       "          0,   0],\n",
       "       [  0,   0,   0,   0,   0,   0,   0,   0,   0,   0,   0,   0,   0,\n",
       "          0,   0,   0,   0,   0,   0,   0,   0,   0,   0,   0,   0,   0,\n",
       "          0,   0],\n",
       "       [  0,   0,   0,   0,   0,   0,   0,   0,   0,   0,   0,   0,   0,\n",
       "          0,   0,   0,   0,   0,   0,   0,   0,   0,   0,   0,   0,   0,\n",
       "          0,   0],\n",
       "       [  0,   0,   0,   0,   0,   0,   0,   0,   0,   0,   0,   0,   0,\n",
       "          0,   0,   0,   0,   0,   0,   0,   0,   0,   0,   0,   0,   0,\n",
       "          0,   0],\n",
       "       [  0,   0,   0,   0,   0,   0,   0,   0,   0,   0,   0,   0,   0,\n",
       "          0,   0,   0,   0,   0,   0,   0,   0,   0,   0,   0,   0,   0,\n",
       "          0,   0],\n",
       "       [  0,   0,   0,   0,   0,   0,   0,   0,   0,   0,   0,   0,   3,\n",
       "         18,  18,  18, 126, 136, 175,  26, 166, 255, 247, 127,   0,   0,\n",
       "          0,   0],\n",
       "       [  0,   0,   0,   0,   0,   0,   0,   0,  30,  36,  94, 154, 170,\n",
       "        253, 253, 253, 253, 253, 225, 172, 253, 242, 195,  64,   0,   0,\n",
       "          0,   0],\n",
       "       [  0,   0,   0,   0,   0,   0,   0,  49, 238, 253, 253, 253, 253,\n",
       "        253, 253, 253, 253, 251,  93,  82,  82,  56,  39,   0,   0,   0,\n",
       "          0,   0],\n",
       "       [  0,   0,   0,   0,   0,   0,   0,  18, 219, 253, 253, 253, 253,\n",
       "        253, 198, 182, 247, 241,   0,   0,   0,   0,   0,   0,   0,   0,\n",
       "          0,   0],\n",
       "       [  0,   0,   0,   0,   0,   0,   0,   0,  80, 156, 107, 253, 253,\n",
       "        205,  11,   0,  43, 154,   0,   0,   0,   0,   0,   0,   0,   0,\n",
       "          0,   0],\n",
       "       [  0,   0,   0,   0,   0,   0,   0,   0,   0,  14,   1, 154, 253,\n",
       "         90,   0,   0,   0,   0,   0,   0,   0,   0,   0,   0,   0,   0,\n",
       "          0,   0],\n",
       "       [  0,   0,   0,   0,   0,   0,   0,   0,   0,   0,   0, 139, 253,\n",
       "        190,   2,   0,   0,   0,   0,   0,   0,   0,   0,   0,   0,   0,\n",
       "          0,   0],\n",
       "       [  0,   0,   0,   0,   0,   0,   0,   0,   0,   0,   0,  11, 190,\n",
       "        253,  70,   0,   0,   0,   0,   0,   0,   0,   0,   0,   0,   0,\n",
       "          0,   0],\n",
       "       [  0,   0,   0,   0,   0,   0,   0,   0,   0,   0,   0,   0,  35,\n",
       "        241, 225, 160, 108,   1,   0,   0,   0,   0,   0,   0,   0,   0,\n",
       "          0,   0],\n",
       "       [  0,   0,   0,   0,   0,   0,   0,   0,   0,   0,   0,   0,   0,\n",
       "         81, 240, 253, 253, 119,  25,   0,   0,   0,   0,   0,   0,   0,\n",
       "          0,   0],\n",
       "       [  0,   0,   0,   0,   0,   0,   0,   0,   0,   0,   0,   0,   0,\n",
       "          0,  45, 186, 253, 253, 150,  27,   0,   0,   0,   0,   0,   0,\n",
       "          0,   0],\n",
       "       [  0,   0,   0,   0,   0,   0,   0,   0,   0,   0,   0,   0,   0,\n",
       "          0,   0,  16,  93, 252, 253, 187,   0,   0,   0,   0,   0,   0,\n",
       "          0,   0],\n",
       "       [  0,   0,   0,   0,   0,   0,   0,   0,   0,   0,   0,   0,   0,\n",
       "          0,   0,   0,   0, 249, 253, 249,  64,   0,   0,   0,   0,   0,\n",
       "          0,   0],\n",
       "       [  0,   0,   0,   0,   0,   0,   0,   0,   0,   0,   0,   0,   0,\n",
       "          0,  46, 130, 183, 253, 253, 207,   2,   0,   0,   0,   0,   0,\n",
       "          0,   0],\n",
       "       [  0,   0,   0,   0,   0,   0,   0,   0,   0,   0,   0,   0,  39,\n",
       "        148, 229, 253, 253, 253, 250, 182,   0,   0,   0,   0,   0,   0,\n",
       "          0,   0],\n",
       "       [  0,   0,   0,   0,   0,   0,   0,   0,   0,   0,  24, 114, 221,\n",
       "        253, 253, 253, 253, 201,  78,   0,   0,   0,   0,   0,   0,   0,\n",
       "          0,   0],\n",
       "       [  0,   0,   0,   0,   0,   0,   0,   0,  23,  66, 213, 253, 253,\n",
       "        253, 253, 198,  81,   2,   0,   0,   0,   0,   0,   0,   0,   0,\n",
       "          0,   0],\n",
       "       [  0,   0,   0,   0,   0,   0,  18, 171, 219, 253, 253, 253, 253,\n",
       "        195,  80,   9,   0,   0,   0,   0,   0,   0,   0,   0,   0,   0,\n",
       "          0,   0],\n",
       "       [  0,   0,   0,   0,  55, 172, 226, 253, 253, 253, 253, 244, 133,\n",
       "         11,   0,   0,   0,   0,   0,   0,   0,   0,   0,   0,   0,   0,\n",
       "          0,   0],\n",
       "       [  0,   0,   0,   0, 136, 253, 253, 253, 212, 135, 132,  16,   0,\n",
       "          0,   0,   0,   0,   0,   0,   0,   0,   0,   0,   0,   0,   0,\n",
       "          0,   0],\n",
       "       [  0,   0,   0,   0,   0,   0,   0,   0,   0,   0,   0,   0,   0,\n",
       "          0,   0,   0,   0,   0,   0,   0,   0,   0,   0,   0,   0,   0,\n",
       "          0,   0],\n",
       "       [  0,   0,   0,   0,   0,   0,   0,   0,   0,   0,   0,   0,   0,\n",
       "          0,   0,   0,   0,   0,   0,   0,   0,   0,   0,   0,   0,   0,\n",
       "          0,   0],\n",
       "       [  0,   0,   0,   0,   0,   0,   0,   0,   0,   0,   0,   0,   0,\n",
       "          0,   0,   0,   0,   0,   0,   0,   0,   0,   0,   0,   0,   0,\n",
       "          0,   0]], dtype=uint8)"
      ]
     },
     "execution_count": 145,
     "metadata": {},
     "output_type": "execute_result"
    }
   ],
   "source": [
    "# 첫번째 숫자 5를 아래와같이 표현함\n",
    "train_images[0]"
   ]
  },
  {
   "cell_type": "code",
   "execution_count": 147,
   "id": "1b2d3db3-ba50-4844-87ef-58a52e49ef0a",
   "metadata": {
    "collapsed": true,
    "jupyter": {
     "outputs_hidden": true
    },
    "tags": []
   },
   "outputs": [
    {
     "data": {
      "text/plain": [
       "array([[  0,   0,   0,   0,   0,   0,   0,   0,   0,   0,   0,   0,   0,\n",
       "          0,   0,   0,   0,   0,   0,   0,   0,   0,   0,   0,   0,   0,\n",
       "          0,   0],\n",
       "       [  0,   0,   0,   0,   0,   0,   0,   0,   0,   0,   0,   0,   0,\n",
       "          0,   0,   0,   0,   0,   0,   0,   0,   0,   0,   0,   0,   0,\n",
       "          0,   0],\n",
       "       [  0,   0,   0,   0,   0,   0,   0,   0,   0,   0,   0,   0,   0,\n",
       "          0,   0,   0,   0,   0,   0,   0,   0,   0,   0,   0,   0,   0,\n",
       "          0,   0],\n",
       "       [  0,   0,   0,   0,   0,   0,   0,   0,   0,   0,   0,   0,   0,\n",
       "          0,   0,   0,   0,   0,   0,   0,   0,   0,   0,   0,   0,   0,\n",
       "          0,   0],\n",
       "       [  0,   0,   0,   0,   0,   0,   0,   0,   0,   0,   0,   0,   0,\n",
       "          0,   0,   0,   0,   0,   0,   0,   0,   0,   0,   0,   0,   0,\n",
       "          0,   0],\n",
       "       [  0,   0,   0,   0,   0,   0,   0,   0,   0,   0,   0,   0,   0,\n",
       "          0,   0,   0,   0,   0,   0,   0,   0,   0,   0,   0,   0,   0,\n",
       "          0,   0],\n",
       "       [  0,   0,   0,   0,   0,   0,   0,   0,   0,   0,   0,   0,   0,\n",
       "          0,   0,   0,  38,  48,  48,  22,   0,   0,   0,   0,   0,   0,\n",
       "          0,   0],\n",
       "       [  0,   0,   0,   0,   0,   0,   0,   0,   0,   0,   0,   0,   0,\n",
       "         62,  97, 198, 243, 254, 254, 212,  27,   0,   0,   0,   0,   0,\n",
       "          0,   0],\n",
       "       [  0,   0,   0,   0,   0,   0,   0,   0,   0,   0,   0,   0,  67,\n",
       "        172, 254, 254, 225, 218, 218, 237, 248,  40,   0,  21, 164, 187,\n",
       "          0,   0],\n",
       "       [  0,   0,   0,   0,   0,   0,   0,   0,   0,   0,   0,  89, 219,\n",
       "        254,  97,  67,  14,   0,   0,  92, 231, 122,  23, 203, 236,  59,\n",
       "          0,   0],\n",
       "       [  0,   0,   0,   0,   0,   0,   0,   0,   0,   0,  25, 217, 242,\n",
       "         92,   4,   0,   0,   0,   0,   4, 147, 253, 240, 232,  92,   0,\n",
       "          0,   0],\n",
       "       [  0,   0,   0,   0,   0,   0,   0,   0,   0,   0, 101, 255,  92,\n",
       "          0,   0,   0,   0,   0,   0, 105, 254, 254, 177,  11,   0,   0,\n",
       "          0,   0],\n",
       "       [  0,   0,   0,   0,   0,   0,   0,   0,   0,   0, 167, 244,  41,\n",
       "          0,   0,   0,   7,  76, 199, 238, 239,  94,  10,   0,   0,   0,\n",
       "          0,   0],\n",
       "       [  0,   0,   0,   0,   0,   0,   0,   0,   0,   0, 192, 121,   0,\n",
       "          0,   2,  63, 180, 254, 233, 126,   0,   0,   0,   0,   0,   0,\n",
       "          0,   0],\n",
       "       [  0,   0,   0,   0,   0,   0,   0,   0,   0,   0, 190, 196,  14,\n",
       "          2,  97, 254, 252, 146,  52,   0,   0,   0,   0,   0,   0,   0,\n",
       "          0,   0],\n",
       "       [  0,   0,   0,   0,   0,   0,   0,   0,   0,   0, 130, 225,  71,\n",
       "        180, 232, 181,  60,   0,   0,   0,   0,   0,   0,   0,   0,   0,\n",
       "          0,   0],\n",
       "       [  0,   0,   0,   0,   0,   0,   0,   0,   0,   0, 130, 254, 254,\n",
       "        230,  46,   0,   0,   0,   0,   0,   0,   0,   0,   0,   0,   0,\n",
       "          0,   0],\n",
       "       [  0,   0,   0,   0,   0,   0,   0,   0,   6,  77, 244, 254, 162,\n",
       "          4,   0,   0,   0,   0,   0,   0,   0,   0,   0,   0,   0,   0,\n",
       "          0,   0],\n",
       "       [  0,   0,   0,   0,   0,   0,   0,   0, 110, 254, 218, 254, 116,\n",
       "          0,   0,   0,   0,   0,   0,   0,   0,   0,   0,   0,   0,   0,\n",
       "          0,   0],\n",
       "       [  0,   0,   0,   0,   0,   0,   0, 131, 254, 154,  28, 213,  86,\n",
       "          0,   0,   0,   0,   0,   0,   0,   0,   0,   0,   0,   0,   0,\n",
       "          0,   0],\n",
       "       [  0,   0,   0,   0,   0,   0,  66, 209, 153,  19,  19, 233,  60,\n",
       "          0,   0,   0,   0,   0,   0,   0,   0,   0,   0,   0,   0,   0,\n",
       "          0,   0],\n",
       "       [  0,   0,   0,   0,   0,   0, 142, 254, 165,   0,  14, 216, 167,\n",
       "          0,   0,   0,   0,   0,   0,   0,   0,   0,   0,   0,   0,   0,\n",
       "          0,   0],\n",
       "       [  0,   0,   0,   0,   0,   0,  90, 254, 175,   0,  18, 229,  92,\n",
       "          0,   0,   0,   0,   0,   0,   0,   0,   0,   0,   0,   0,   0,\n",
       "          0,   0],\n",
       "       [  0,   0,   0,   0,   0,   0,  26, 229, 249, 176, 222, 244,  44,\n",
       "          0,   0,   0,   0,   0,   0,   0,   0,   0,   0,   0,   0,   0,\n",
       "          0,   0],\n",
       "       [  0,   0,   0,   0,   0,   0,   0,  73, 193, 197, 134,   0,   0,\n",
       "          0,   0,   0,   0,   0,   0,   0,   0,   0,   0,   0,   0,   0,\n",
       "          0,   0],\n",
       "       [  0,   0,   0,   0,   0,   0,   0,   0,   0,   0,   0,   0,   0,\n",
       "          0,   0,   0,   0,   0,   0,   0,   0,   0,   0,   0,   0,   0,\n",
       "          0,   0],\n",
       "       [  0,   0,   0,   0,   0,   0,   0,   0,   0,   0,   0,   0,   0,\n",
       "          0,   0,   0,   0,   0,   0,   0,   0,   0,   0,   0,   0,   0,\n",
       "          0,   0],\n",
       "       [  0,   0,   0,   0,   0,   0,   0,   0,   0,   0,   0,   0,   0,\n",
       "          0,   0,   0,   0,   0,   0,   0,   0,   0,   0,   0,   0,   0,\n",
       "          0,   0]], dtype=uint8)"
      ]
     },
     "execution_count": 147,
     "metadata": {},
     "output_type": "execute_result"
    }
   ],
   "source": [
    "# 마지막의 숫자를 표현함\n",
    "train_images[59999]"
   ]
  },
  {
   "cell_type": "code",
   "execution_count": 148,
   "id": "b19ea573-a559-446d-a8ff-6e98d48e8d0b",
   "metadata": {},
   "outputs": [
    {
     "data": {
      "text/plain": [
       "(60000, 28, 28)"
      ]
     },
     "execution_count": 148,
     "metadata": {},
     "output_type": "execute_result"
    }
   ],
   "source": [
    "train_images.shape"
   ]
  },
  {
   "cell_type": "code",
   "execution_count": 151,
   "id": "d70b074c-9170-4346-88f2-b4d180236064",
   "metadata": {},
   "outputs": [],
   "source": [
    "np.set_printoptions(linewidth=28*28)"
   ]
  },
  {
   "cell_type": "code",
   "execution_count": 163,
   "id": "56022e2d-21f4-4cee-b5c6-3029f23055fb",
   "metadata": {},
   "outputs": [
    {
     "name": "stdout",
     "output_type": "stream",
     "text": [
      "[[  0   0   0   0   0   0   0   0   0   0   0   0   0   0   0   0   0   0   0   0   0   0   0   0   0   0   0   0]\n",
      " [  0   0   0   0   0   0   0   0   0   0   0   0   0   0   0   0   0   0   0   0   0   0   0   0   0   0   0   0]\n",
      " [  0   0   0   0   0   0   0   0   0   0   0   0   0   0   0   0   0   0   0   0   0   0   0   0   0   0   0   0]\n",
      " [  0   0   0   0   0   0   0   0   0   0   0   0   0   0   0   0   0   0   0   0   0   0   0   0   0   0   0   0]\n",
      " [  0   0   0   0   0   0   0   0   0   0   0   0   0   0   0  51 159 253 159  50   0   0   0   0   0   0   0   0]\n",
      " [  0   0   0   0   0   0   0   0   0   0   0   0   0   0  48 238 252 252 252 237   0   0   0   0   0   0   0   0]\n",
      " [  0   0   0   0   0   0   0   0   0   0   0   0   0  54 227 253 252 239 233 252  57   6   0   0   0   0   0   0]\n",
      " [  0   0   0   0   0   0   0   0   0   0   0  10  60 224 252 253 252 202  84 252 253 122   0   0   0   0   0   0]\n",
      " [  0   0   0   0   0   0   0   0   0   0   0 163 252 252 252 253 252 252  96 189 253 167   0   0   0   0   0   0]\n",
      " [  0   0   0   0   0   0   0   0   0   0  51 238 253 253 190 114 253 228  47  79 255 168   0   0   0   0   0   0]\n",
      " [  0   0   0   0   0   0   0   0   0  48 238 252 252 179  12  75 121  21   0   0 253 243  50   0   0   0   0   0]\n",
      " [  0   0   0   0   0   0   0   0  38 165 253 233 208  84   0   0   0   0   0   0 253 252 165   0   0   0   0   0]\n",
      " [  0   0   0   0   0   0   0   7 178 252 240  71  19  28   0   0   0   0   0   0 253 252 195   0   0   0   0   0]\n",
      " [  0   0   0   0   0   0   0  57 252 252  63   0   0   0   0   0   0   0   0   0 253 252 195   0   0   0   0   0]\n",
      " [  0   0   0   0   0   0   0 198 253 190   0   0   0   0   0   0   0   0   0   0 255 253 196   0   0   0   0   0]\n",
      " [  0   0   0   0   0   0  76 246 252 112   0   0   0   0   0   0   0   0   0   0 253 252 148   0   0   0   0   0]\n",
      " [  0   0   0   0   0   0  85 252 230  25   0   0   0   0   0   0   0   0   7 135 253 186  12   0   0   0   0   0]\n",
      " [  0   0   0   0   0   0  85 252 223   0   0   0   0   0   0   0   0   7 131 252 225  71   0   0   0   0   0   0]\n",
      " [  0   0   0   0   0   0  85 252 145   0   0   0   0   0   0   0  48 165 252 173   0   0   0   0   0   0   0   0]\n",
      " [  0   0   0   0   0   0  86 253 225   0   0   0   0   0   0 114 238 253 162   0   0   0   0   0   0   0   0   0]\n",
      " [  0   0   0   0   0   0  85 252 249 146  48  29  85 178 225 253 223 167  56   0   0   0   0   0   0   0   0   0]\n",
      " [  0   0   0   0   0   0  85 252 252 252 229 215 252 252 252 196 130   0   0   0   0   0   0   0   0   0   0   0]\n",
      " [  0   0   0   0   0   0  28 199 252 252 253 252 252 233 145   0   0   0   0   0   0   0   0   0   0   0   0   0]\n",
      " [  0   0   0   0   0   0   0  25 128 252 253 252 141  37   0   0   0   0   0   0   0   0   0   0   0   0   0   0]\n",
      " [  0   0   0   0   0   0   0   0   0   0   0   0   0   0   0   0   0   0   0   0   0   0   0   0   0   0   0   0]\n",
      " [  0   0   0   0   0   0   0   0   0   0   0   0   0   0   0   0   0   0   0   0   0   0   0   0   0   0   0   0]\n",
      " [  0   0   0   0   0   0   0   0   0   0   0   0   0   0   0   0   0   0   0   0   0   0   0   0   0   0   0   0]\n",
      " [  0   0   0   0   0   0   0   0   0   0   0   0   0   0   0   0   0   0   0   0   0   0   0   0   0   0   0   0]]\n"
     ]
    }
   ],
   "source": [
    "print(train_images[1])"
   ]
  },
  {
   "cell_type": "code",
   "execution_count": 164,
   "id": "51d4fd53-2caf-4020-ad58-ce7d87d2936b",
   "metadata": {
    "tags": []
   },
   "outputs": [
    {
     "data": {
      "image/png": "[encoded data removed]",
      "text/plain": [
       "<Figure size 360x288 with 1 Axes>"
      ]
     },
     "metadata": {
      "needs_background": "light"
     },
     "output_type": "display_data"
    }
   ],
   "source": [
    "plt.imshow(train_images[1], cmap=\"gray\"); "
   ]
  },
  {
   "cell_type": "code",
   "execution_count": 166,
   "id": "b704f5c7-fae8-4bfc-b2b3-e2fd5b29b71c",
   "metadata": {},
   "outputs": [
    {
     "data": {
      "text/plain": [
       "0"
      ]
     },
     "execution_count": 166,
     "metadata": {},
     "output_type": "execute_result"
    }
   ],
   "source": [
    "train_labels[1]"
   ]
  },
  {
   "cell_type": "code",
   "execution_count": 167,
   "id": "2add7a08-5f89-4eec-b4b0-c8bf02abd1c2",
   "metadata": {},
   "outputs": [],
   "source": [
    "from keras.layers import Dense"
   ]
  },
  {
   "cell_type": "code",
   "execution_count": 172,
   "id": "cf54b9d0-29e0-41c0-8932-37fe6da522e3",
   "metadata": {},
   "outputs": [],
   "source": [
    "model = Sequential()\n",
    "model.add(Dense(512, activation = \"relu\"))\n",
    "model.add(Dense(10, activation = \"softmax\"))"
   ]
  },
  {
   "cell_type": "code",
   "execution_count": 173,
   "id": "6ff31b5c-e9c0-4699-ac3c-d4a265a4ece3",
   "metadata": {},
   "outputs": [],
   "source": [
    "model.compile(optimizer='rmsprop',\n",
    "             loss = 'sparse_categorical_crossentopy',\n",
    "             metrics='acc')"
   ]
  },
  {
   "cell_type": "code",
   "execution_count": null,
   "id": "69312c41-7f92-46f8-8bb8-6bd0acb56ac4",
   "metadata": {},
   "outputs": [],
   "source": []
  },
  {
   "cell_type": "code",
   "execution_count": 184,
   "id": "237eb030-64dd-45ca-a516-167ecd7c6e60",
   "metadata": {
    "tags": []
   },
   "outputs": [],
   "source": [
    "train_images = train_images.reshape(60000, 28*28)\n",
    "train_images = train_images/255.0"
   ]
  },
  {
   "cell_type": "code",
   "execution_count": 189,
   "id": "ac875285-d630-4c87-b3e7-60a0821d2d92",
   "metadata": {},
   "outputs": [],
   "source": [
    "test_images = test_images.reshape(10000, 28*28)\n",
    "test_images = test_images /255.0"
   ]
  },
  {
   "cell_type": "code",
   "execution_count": 198,
   "id": "65d043b9-3271-49ca-ba05-cfd554ee1d28",
   "metadata": {},
   "outputs": [],
   "source": [
    "model.compile(optimizer='rmsprop',\n",
    "             loss = 'sparse_categorical_crossentropy',\n",
    "             metrics='acc')"
   ]
  },
  {
   "cell_type": "code",
   "execution_count": 199,
   "id": "b27d0c4c-7f2a-43f0-a894-1c81532b3359",
   "metadata": {},
   "outputs": [
    {
     "name": "stdout",
     "output_type": "stream",
     "text": [
      "Epoch 1/5\n",
      "469/469 [==============================] - 2s 4ms/step - loss: 0.2491 - acc: 0.9279\n",
      "Epoch 2/5\n",
      "469/469 [==============================] - 2s 4ms/step - loss: 0.1033 - acc: 0.9699\n",
      "Epoch 3/5\n",
      "469/469 [==============================] - 2s 4ms/step - loss: 0.0679 - acc: 0.9798\n",
      "Epoch 4/5\n",
      "469/469 [==============================] - 2s 4ms/step - loss: 0.0492 - acc: 0.9850\n",
      "Epoch 5/5\n",
      "469/469 [==============================] - 2s 4ms/step - loss: 0.0370 - acc: 0.9888\n"
     ]
    },
    {
     "data": {
      "text/plain": [
       "<keras.callbacks.History at 0x281bf551640>"
      ]
     },
     "execution_count": 199,
     "metadata": {},
     "output_type": "execute_result"
    }
   ],
   "source": [
    "model.fit(train_images, train_labels, epochs=5, batch_size=128)\n",
    "# batcj:128개를 한 묶음으로"
   ]
  },
  {
   "cell_type": "code",
   "execution_count": 201,
   "id": "b9339537-675e-4d05-98ad-dc4ec1838264",
   "metadata": {},
   "outputs": [
    {
     "name": "stdout",
     "output_type": "stream",
     "text": [
      "313/313 [==============================] - 0s 981us/step\n"
     ]
    }
   ],
   "source": [
    "predictions = model.predict(test_images)"
   ]
  },
  {
   "cell_type": "code",
   "execution_count": 202,
   "id": "fb2fe08c-21de-451a-ac84-0b32b9b9fbb5",
   "metadata": {},
   "outputs": [
    {
     "data": {
      "text/plain": [
       "468.75"
      ]
     },
     "execution_count": 202,
     "metadata": {},
     "output_type": "execute_result"
    }
   ],
   "source": [
    "60000/128\n",
    "#468묶음이 있고 0.75(약 1/4이 남음)\n",
    "# 남은 것을 하나로 묶으면 469개의 묶음이 나옴"
   ]
  },
  {
   "cell_type": "code",
   "execution_count": 204,
   "id": "2b4832f2-6129-4126-8812-e06b65031380",
   "metadata": {},
   "outputs": [
    {
     "data": {
      "text/plain": [
       "array([2.5088022e-08, 4.2539833e-10, 2.6426437e-06, 3.2531560e-04, 2.8713415e-11, 2.6481374e-07, 1.6703460e-12, 9.9965310e-01, 8.7101562e-08, 1.8601613e-05], dtype=float32)"
      ]
     },
     "execution_count": 204,
     "metadata": {},
     "output_type": "execute_result"
    }
   ],
   "source": [
    "predictions[0]"
   ]
  },
  {
   "cell_type": "code",
   "execution_count": 208,
   "id": "014010a5-fdbe-412e-ac80-9d2b4fd0e46e",
   "metadata": {},
   "outputs": [
    {
     "data": {
      "text/plain": [
       "10"
      ]
     },
     "execution_count": 208,
     "metadata": {},
     "output_type": "execute_result"
    }
   ],
   "source": [
    "len(predictions[0])\n",
    "#0-9까지 9개"
   ]
  },
  {
   "cell_type": "code",
   "execution_count": 211,
   "id": "fdf20ceb-e076-4e7a-9d10-2f42abf3e038",
   "metadata": {},
   "outputs": [
    {
     "data": {
      "text/plain": [
       "array([0., 0., 0., 0., 0., 0., 0., 1., 0., 0.], dtype=float32)"
      ]
     },
     "execution_count": 211,
     "metadata": {},
     "output_type": "execute_result"
    }
   ],
   "source": [
    "#소수점 1째자리까지 표현-원핫인코딩의 꼬라지\n",
    "predictions[0].round(1)"
   ]
  },
  {
   "cell_type": "code",
   "execution_count": 213,
   "id": "36e6a32f-c113-4906-973b-ecad2866f700",
   "metadata": {},
   "outputs": [
    {
     "data": {
      "text/plain": [
       "7"
      ]
     },
     "execution_count": 213,
     "metadata": {},
     "output_type": "execute_result"
    }
   ],
   "source": [
    "test_labels[0]\n",
    "#predictions[0].round(1)의 1이 7에 나와서 7이 나온 것임\n",
    "#원핫인코딩을 꺼꾸로 돌리면 7이 나옴"
   ]
  },
  {
   "cell_type": "code",
   "execution_count": 216,
   "id": "a0184baf-9cd1-4eb5-a48e-887999cf1ab8",
   "metadata": {},
   "outputs": [
    {
     "name": "stdout",
     "output_type": "stream",
     "text": [
      "313/313 [==============================] - 0s 1ms/step - loss: 0.0641 - acc: 0.9812\n"
     ]
    },
    {
     "data": {
      "text/plain": [
       "[0.06408838927745819, 0.9811999797821045]"
      ]
     },
     "execution_count": 216,
     "metadata": {},
     "output_type": "execute_result"
    }
   ],
   "source": [
    "model.evaluate(test_images,test_labels)\n",
    "# loss, acc가 나옴"
   ]
  },
  {
   "cell_type": "code",
   "execution_count": 218,
   "id": "250b5e4c-8e7f-4da8-98ff-833cbcaf0469",
   "metadata": {},
   "outputs": [
    {
     "name": "stdout",
     "output_type": "stream",
     "text": [
      "Epoch 1/5\n",
      "469/469 [==============================] - 2s 5ms/step - loss: 0.0072 - acc: 0.9982\n",
      "Epoch 2/5\n",
      "469/469 [==============================] - 2s 5ms/step - loss: 0.0062 - acc: 0.9984\n",
      "Epoch 3/5\n",
      "469/469 [==============================] - 2s 4ms/step - loss: 0.0047 - acc: 0.9989\n",
      "Epoch 4/5\n",
      "469/469 [==============================] - 2s 4ms/step - loss: 0.0035 - acc: 0.9991\n",
      "Epoch 5/5\n",
      "469/469 [==============================] - 2s 4ms/step - loss: 0.0033 - acc: 0.9992\n",
      "313/313 [==============================] - 0s 1ms/step - loss: 0.0806 - acc: 0.9832\n",
      "손실은0.08059392869472504이고 정확도는 0.9832000136375427입니다.\n"
     ]
    }
   ],
   "source": [
    "model.fit(train_images, train_labels, epochs=5, batch_size=128)\n",
    "loss, acc = model.evaluate(test_images, test_labels)\n",
    "print(f\"손실은{loss}이고 정확도는 {acc}입니다.\")"
   ]
  },
  {
   "cell_type": "code",
   "execution_count": null,
   "id": "3c1a7626-2b0e-4b33-b905-4f4b047f620e",
   "metadata": {},
   "outputs": [],
   "source": []
  }
 ],
 "metadata": {
  "kernelspec": {
   "display_name": "Python 3 (ipykernel)",
   "language": "python",
   "name": "python3"
  },
  "language_info": {
   "codemirror_mode": {
    "name": "ipython",
    "version": 3
   },
   "file_extension": ".py",
   "mimetype": "text/x-python",
   "name": "python",
   "nbconvert_exporter": "python",
   "pygments_lexer": "ipython3",
   "version": "3.9.12"
  }
 },
 "nbformat": 4,
 "nbformat_minor": 5
}
