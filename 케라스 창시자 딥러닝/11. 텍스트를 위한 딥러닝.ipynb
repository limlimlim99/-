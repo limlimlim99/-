{
 "cells": [
  {
   "cell_type": "markdown",
   "id": "288b1069-0460-414c-ac59-2b8d4abd8e4e",
   "metadata": {},
   "source": [
    "# 11.1 자연어 처리 소개\n",
    "- 텍스트 분류\n",
    "- 콘텐츠 필터링\n",
    "- 감성분석\n",
    "- 언어 모델링\n",
    "- 번역\n",
    "- 요약"
   ]
  },
  {
   "cell_type": "code",
   "execution_count": null,
   "id": "f8169bdd-7b3b-4c0c-992f-1219b0a16400",
   "metadata": {},
   "outputs": [],
   "source": []
  }
 ],
 "metadata": {
  "kernelspec": {
   "display_name": "Python 3 (ipykernel)",
   "language": "python",
   "name": "python3"
  },
  "language_info": {
   "codemirror_mode": {
    "name": "ipython",
    "version": 3
   },
   "file_extension": ".py",
   "mimetype": "text/x-python",
   "name": "python",
   "nbconvert_exporter": "python",
   "pygments_lexer": "ipython3",
   "version": "3.9.12"
  }
 },
 "nbformat": 4,
 "nbformat_minor": 5
}
