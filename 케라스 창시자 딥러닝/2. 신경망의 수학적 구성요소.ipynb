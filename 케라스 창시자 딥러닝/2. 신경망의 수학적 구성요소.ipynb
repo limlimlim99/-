{
 "cells": [
  {
   "cell_type": "code",
   "execution_count": 1,
   "id": "d9ce465f-b2f5-4dca-af01-88fb189d1b9b",
   "metadata": {},
   "outputs": [],
   "source": [
    "import numpy as np\n",
    "import pandas as pd\n",
    "import matplotlib.pyplot as plt\n",
    "\n",
    "from keras import Sequential\n",
    "from keras import optimizers\n",
    "from keras.layers import Input, Dense\n",
    "\n",
    "from tensorflow import keras\n",
    "import keras"
   ]
  },
  {
   "cell_type": "code",
   "execution_count": 2,
   "id": "3a12e847-2fe0-4844-bbdb-6b802117d0db",
   "metadata": {},
   "outputs": [],
   "source": [
    "# 케라스에서 mnist 데이터셋 적재하기\n",
    "from tensorflow. keras.datasets import mnist\n",
    "(train_images, train_labels), (test_images, test_labels)= mnist.load_data()"
   ]
  },
  {
   "cell_type": "code",
   "execution_count": 3,
   "id": "a7e829aa-1ace-4d45-8d4f-e8b25ce62817",
   "metadata": {},
   "outputs": [
    {
     "data": {
      "text/plain": [
       "(60000, 28, 28)"
      ]
     },
     "execution_count": 3,
     "metadata": {},
     "output_type": "execute_result"
    }
   ],
   "source": [
    "# 훈련데이터 살펴보기\n",
    "train_images.shape"
   ]
  },
  {
   "cell_type": "code",
   "execution_count": 4,
   "id": "38c00f6f-40e9-4512-a139-599f7649f357",
   "metadata": {},
   "outputs": [
    {
     "data": {
      "text/plain": [
       "60000"
      ]
     },
     "execution_count": 4,
     "metadata": {},
     "output_type": "execute_result"
    }
   ],
   "source": [
    "len(train_labels)"
   ]
  },
  {
   "cell_type": "code",
   "execution_count": 5,
   "id": "df3dda59-e1ce-4044-9a1e-2151610895fb",
   "metadata": {},
   "outputs": [
    {
     "data": {
      "text/plain": [
       "array([5, 0, 4, ..., 5, 6, 8], dtype=uint8)"
      ]
     },
     "execution_count": 5,
     "metadata": {},
     "output_type": "execute_result"
    }
   ],
   "source": [
    "train_labels"
   ]
  },
  {
   "cell_type": "code",
   "execution_count": 6,
   "id": "a4c7c9b0-f98c-498a-b02f-ab464a70d485",
   "metadata": {},
   "outputs": [
    {
     "data": {
      "text/plain": [
       "(10000, 28, 28)"
      ]
     },
     "execution_count": 6,
     "metadata": {},
     "output_type": "execute_result"
    }
   ],
   "source": [
    "test_images.shape"
   ]
  },
  {
   "cell_type": "code",
   "execution_count": 7,
   "id": "3aae62d1-734e-42c5-80b1-b48257cc9ffb",
   "metadata": {},
   "outputs": [
    {
     "data": {
      "text/plain": [
       "array([7, 2, 1, ..., 4, 5, 6], dtype=uint8)"
      ]
     },
     "execution_count": 7,
     "metadata": {},
     "output_type": "execute_result"
    }
   ],
   "source": [
    "test_labels"
   ]
  },
  {
   "cell_type": "code",
   "execution_count": 8,
   "id": "4578fcf1-b8f1-446a-8a5e-b3028e2b46ef",
   "metadata": {},
   "outputs": [],
   "source": [
    "# 신경망 구조 2-2\n",
    "from tensorflow import keras\n",
    "from tensorflow.keras import layers\n",
    "\n",
    "model=keras.Sequential([\n",
    "    layers.Dense(512, activation= \"relu\"),\n",
    "    layers.Dense(10, activation= \"softmax\")\n",
    "])"
   ]
  },
  {
   "cell_type": "code",
   "execution_count": 9,
   "id": "1cb4b894-9d7b-404f-a11c-96c445abacc2",
   "metadata": {},
   "outputs": [],
   "source": [
    "# 컴파일 단계\n",
    "model.compile(optimizer = \"rmsprop\",\n",
    "             loss =\"sparse_categorical_crossentropy\",\n",
    "             metrics = [\"accuracy\"])"
   ]
  },
  {
   "cell_type": "code",
   "execution_count": 10,
   "id": "012fd209-9433-404c-b58e-f4b77e939f77",
   "metadata": {},
   "outputs": [],
   "source": [
    "# 훈련을 시작하기 전에 데이트를 모델에 맞는 크기로 바꾸고 모든 값을 0과 1사이로 스케일을 조정\n",
    "# 이미지 데이터 준비하기\n",
    "train_images = train_images.reshape(60000, 28 * 28)\n",
    "train_images = train_images.astype(\"float32\") / 255"
   ]
  },
  {
   "cell_type": "code",
   "execution_count": 11,
   "id": "b1531e72-e3ed-4685-b245-a0365515f253",
   "metadata": {},
   "outputs": [],
   "source": [
    "test_images = test_images.reshape(10000, 28 * 28)\n",
    "test_images = test_images.astype(\"float32\") / 255"
   ]
  },
  {
   "cell_type": "code",
   "execution_count": 12,
   "id": "67ae104d-332f-4ceb-ba4e-9c13380998b1",
   "metadata": {},
   "outputs": [
    {
     "name": "stdout",
     "output_type": "stream",
     "text": [
      "Epoch 1/5\n",
      "469/469 [==============================] - 3s 4ms/step - loss: 0.2532 - accuracy: 0.9259\n",
      "Epoch 2/5\n",
      "469/469 [==============================] - 2s 4ms/step - loss: 0.1045 - accuracy: 0.9694\n",
      "Epoch 3/5\n",
      "469/469 [==============================] - 2s 4ms/step - loss: 0.0690 - accuracy: 0.9797\n",
      "Epoch 4/5\n",
      "469/469 [==============================] - 2s 4ms/step - loss: 0.0496 - accuracy: 0.9852\n",
      "Epoch 5/5\n",
      "469/469 [==============================] - 2s 4ms/step - loss: 0.0380 - accuracy: 0.9887\n"
     ]
    },
    {
     "data": {
      "text/plain": [
       "<keras.callbacks.History at 0x2388f05e760>"
      ]
     },
     "execution_count": 12,
     "metadata": {},
     "output_type": "execute_result"
    }
   ],
   "source": [
    "# fit()메서드를 호출하여 훈련 데이터에 모델을 학습\n",
    "model.fit(train_images, train_labels, epochs=5, batch_size=128)"
   ]
  },
  {
   "cell_type": "code",
   "execution_count": 13,
   "id": "edbd7c3b-4320-4025-ae13-3b965afa0fbe",
   "metadata": {
    "tags": []
   },
   "outputs": [
    {
     "name": "stdout",
     "output_type": "stream",
     "text": [
      "1/1 [==============================] - 0s 68ms/step\n"
     ]
    },
    {
     "data": {
      "text/plain": [
       "array([8.7486995e-09, 1.3319362e-10, 7.8102715e-07, 3.4398596e-05,\n",
       "       3.6592111e-11, 7.4310911e-08, 5.5942528e-14, 9.9996424e-01,\n",
       "       7.9660893e-08, 2.1863011e-07], dtype=float32)"
      ]
     },
     "execution_count": 13,
     "metadata": {},
     "output_type": "execute_result"
    }
   ],
   "source": [
    "# 모델을 사용하여 예측 만들기\n",
    "test_digits = test_images[0:10]\n",
    "predictions = model.predict(test_digits)\n",
    "predictions[0]"
   ]
  },
  {
   "cell_type": "code",
   "execution_count": 14,
   "id": "cc109cd2-cb7d-4cf2-b9f1-60a100534390",
   "metadata": {},
   "outputs": [
    {
     "data": {
      "text/plain": [
       "7"
      ]
     },
     "execution_count": 14,
     "metadata": {},
     "output_type": "execute_result"
    }
   ],
   "source": [
    "predictions[0].argmax()"
   ]
  },
  {
   "cell_type": "code",
   "execution_count": 15,
   "id": "e2350fde-1d51-4b5b-9103-3510ddcc2708",
   "metadata": {},
   "outputs": [
    {
     "data": {
      "text/plain": [
       "0.99996424"
      ]
     },
     "execution_count": 15,
     "metadata": {},
     "output_type": "execute_result"
    }
   ],
   "source": [
    "predictions[0][7]"
   ]
  },
  {
   "cell_type": "code",
   "execution_count": 16,
   "id": "bae858cc-b0cb-45db-8ddc-c56a42f5e86f",
   "metadata": {},
   "outputs": [
    {
     "name": "stdout",
     "output_type": "stream",
     "text": [
      "313/313 [==============================] - 0s 1ms/step - loss: 0.0711 - accuracy: 0.9792\n",
      "테스트 정확도: 0.979200005531311\n"
     ]
    }
   ],
   "source": [
    "# 새로운 데이터에서 모델 평가하기\n",
    "test_loss, test_acc = model.evaluate(test_images, test_labels)\n",
    "print(f\"테스트 정확도: {test_acc}\")"
   ]
  },
  {
   "cell_type": "markdown",
   "id": "8c94952e-4e06-4125-aba0-9a4d9a72f0aa",
   "metadata": {},
   "source": [
    "## 신경망을 위한 데이터 표현"
   ]
  },
  {
   "cell_type": "markdown",
   "id": "78ff3f9f-7a21-46c6-8504-204db19aee06",
   "metadata": {},
   "source": [
    "텐서(tensor): 다차원 넘파이 배열에 데이터를 저장하는 것-이전\n",
    "- 데이터를 위한 컨테이너(데이터를 담아둠)\n",
    "- 수치형 데이터를 많이 다룸(숫자)\n",
    "- 텐서는 임의의 차원 개수를 가지는 행렬의 일반호된 모습\n",
    "- 텐서에서는 차원(dimension)을 축(axis)라고 부름\n",
    "\n",
    "- rank = 차원 = 축\n",
    "\n",
    "--텐서: 다차원 배열/\n",
    "--배열: np.array\n",
    "- 1차원 배열: 벡터\n",
    "- 2차원 배열: 행렬\n",
    "- 3차원 배열: 텐서\n",
    "-- 일반적으로 tensor는 np.array를 통해 다룬다"
   ]
  },
  {
   "cell_type": "markdown",
   "id": "30c01ee1-735f-49a6-8b06-125c367aa98c",
   "metadata": {},
   "source": [
    "### 2.2.1 스칼라(랭크-0 텐서)\n",
    "- 스칼라: 하나의 숫자만 담고 있는 텐서(스칼라텐서, 랭크-0텐서, 0D텐서)\n",
    "- 넘파이에서 float32나 float64 타입의 숫자는 스칼라 텐서(배열 텐서)라고 함\n",
    "- ndim 속성을 사용하면 넘파이 배열의 축 개수를 알 수 있음\n",
    "- 스칼라 텐서의 축 개수는 0개\n",
    "- 텐서의 축 개수를 랭크라고 부름"
   ]
  },
  {
   "cell_type": "code",
   "execution_count": 22,
   "id": "0c8c5e28-b991-4378-89e0-fe63e5415b7f",
   "metadata": {},
   "outputs": [
    {
     "name": "stdout",
     "output_type": "stream",
     "text": [
      "12\n",
      "0\n"
     ]
    }
   ],
   "source": [
    "import numpy as np\n",
    "x= np.array(12)\n",
    "print(x)\n",
    "print(x.ndim)"
   ]
  },
  {
   "cell_type": "markdown",
   "id": "7eda8c23-b851-4b30-a3e2-784077d0ea4a",
   "metadata": {},
   "source": [
    "## 2.2.2벡터(랭크-1텐서)\n",
    "- 숫자의 배열을 벡터(vector), 랭크-1텐서, 1D텐서, 1차원 텐서\n",
    "- 랭크-1텐서는 딱 하나의 축을 가짐"
   ]
  },
  {
   "cell_type": "code",
   "execution_count": 41,
   "id": "f10be49a-89e4-4a46-b747-fcdb337f1eec",
   "metadata": {},
   "outputs": [
    {
     "name": "stdout",
     "output_type": "stream",
     "text": [
      "[12  3  6 14  7]\n",
      "1\n"
     ]
    }
   ],
   "source": [
    "x = np.array([12,3,6,14,7])\n",
    "print(x)\n",
    "print(x.ndim)"
   ]
  },
  {
   "cell_type": "code",
   "execution_count": 42,
   "id": "8b771e6b-9bf1-491a-a1b0-f10754ca6319",
   "metadata": {},
   "outputs": [],
   "source": [
    "# 벡터는 5개의 원소를 가지고 있으므로 5차원 벡터라고 부름\n",
    "# 주의 \n",
    "# 5D 벡터: 하나의 축을 따라 5개의 차원을 가진 것\n",
    "# 5D텐서: 5개의 축을 가진 것"
   ]
  },
  {
   "cell_type": "markdown",
   "id": "c65d85ad-f7f0-401f-9349-e54fd55f5ece",
   "metadata": {},
   "source": [
    "## 2.2.3 행렬(랭크-2텐서)\n",
    "- 벡터의 배열은 행렬, 랭크-2텐서, 2D텐서, 2차원 텐서\n",
    "- 행렬에는 2개의 축이 있다. 행(row), 열(column)\n",
    "- 행렬은 숫자가 채워진 사각 격자\n",
    "- 첫번째 축: 행 [5, 78, 2, 34, 0]\n",
    "- 두번째 축: 열 [5,6,7]"
   ]
  },
  {
   "cell_type": "code",
   "execution_count": 61,
   "id": "fa07ce40-d56c-46cf-92f7-dcca91aee007",
   "metadata": {},
   "outputs": [],
   "source": [
    "x = np.array([[5, 78, 2, 34, 0],\n",
    "               [6, 79, 3, 35, 1],\n",
    "               [7, 80, 4, 36, 2]])"
   ]
  },
  {
   "cell_type": "code",
   "execution_count": 62,
   "id": "5958bf2d-9c5c-402f-967f-2fac15fb77e3",
   "metadata": {},
   "outputs": [
    {
     "data": {
      "text/plain": [
       "2"
      ]
     },
     "execution_count": 62,
     "metadata": {},
     "output_type": "execute_result"
    }
   ],
   "source": [
    "x.ndim"
   ]
  },
  {
   "cell_type": "markdown",
   "id": "c3dbbdcc-a919-4957-89d4-a90c62ea2d67",
   "metadata": {},
   "source": [
    "## 2.2.4 랭크-3 텐서와 더 높은 랭크의 텐서\n",
    "- 이런 행렬을 하나의 새로운 배열로 합치면 숫자가 채워진 직육면체 형태로 해석 가능\n",
    "- 랭크-3텐서, 3D텐서, 3차원 텐서"
   ]
  },
  {
   "cell_type": "code",
   "execution_count": 59,
   "id": "1ba35a2d-e878-44cc-8481-98c4c4e4c778",
   "metadata": {},
   "outputs": [],
   "source": [
    "x = np.array([[[5, 78, 2, 34, 0],\n",
    "             [6, 79, 3, 35, 1],\n",
    "             [7, 80, 4, 36, 2]],\n",
    "              \n",
    "             [[5, 78, 2, 34, 0],\n",
    "             [6, 79, 3, 35, 1],\n",
    "             [7, 80, 4, 36, 2]],\n",
    "              \n",
    "             [[5, 78, 2, 34, 0],\n",
    "             [6, 79, 3, 35, 1],\n",
    "             [7, 80, 4, 36, 2]]])"
   ]
  },
  {
   "cell_type": "code",
   "execution_count": 60,
   "id": "b73f69d0-c9ea-4c3b-bfdb-a90e5c06c425",
   "metadata": {},
   "outputs": [
    {
     "data": {
      "text/plain": [
       "3"
      ]
     },
     "execution_count": 60,
     "metadata": {},
     "output_type": "execute_result"
    }
   ],
   "source": [
    "x.ndim"
   ]
  },
  {
   "cell_type": "markdown",
   "id": "42f6ad16-d35e-4d01-ab0f-982d31589445",
   "metadata": {},
   "source": [
    "## 2.2.5 핵심속성\n",
    "- 축의 개수(랭크): ndim속성에 저장됨\n",
    "- 크기(shape) : 텐서의 각 축을 따라 얼마나 많은 차원이 있는지를 나타낸 튜플\n",
    "- 데이터 타입(dtype): float16, float32, float64,unit8, 텐서플로: string도 사용함"
   ]
  },
  {
   "cell_type": "code",
   "execution_count": 64,
   "id": "90717ac7-4a35-400f-9d6d-a87a1a7961c0",
   "metadata": {},
   "outputs": [],
   "source": [
    "# MNIST예제\n",
    "from tensorflow.keras.datasets import mnist\n",
    "(train_images, train_labels), (test_images, test_images) = mnist.load_data()"
   ]
  },
  {
   "cell_type": "code",
   "execution_count": 65,
   "id": "8db69e61-b059-43b0-a687-f332965680b0",
   "metadata": {},
   "outputs": [
    {
     "data": {
      "text/plain": [
       "3"
      ]
     },
     "execution_count": 65,
     "metadata": {},
     "output_type": "execute_result"
    }
   ],
   "source": [
    "# ndim속성으로 축의 개수 확인\n",
    "train_images.ndim"
   ]
  },
  {
   "cell_type": "code",
   "execution_count": 66,
   "id": "bbc8a6df-ab21-4311-b8dd-d4d8a8006683",
   "metadata": {},
   "outputs": [
    {
     "data": {
      "text/plain": [
       "(60000, 28, 28)"
      ]
     },
     "execution_count": 66,
     "metadata": {},
     "output_type": "execute_result"
    }
   ],
   "source": [
    "# 배열의 크기\n",
    "train_images.shape"
   ]
  },
  {
   "cell_type": "code",
   "execution_count": 67,
   "id": "6d383a2c-d0a8-46d9-8b7c-3fb5c29c5455",
   "metadata": {},
   "outputs": [
    {
     "data": {
      "text/plain": [
       "dtype('uint8')"
      ]
     },
     "execution_count": 67,
     "metadata": {},
     "output_type": "execute_result"
    }
   ],
   "source": [
    "# dtype으로 데이터타입 확인\n",
    "train_images.dtype"
   ]
  },
  {
   "cell_type": "code",
   "execution_count": 68,
   "id": "a72e4cfa-09a3-4b2f-86f9-f6a47acca47a",
   "metadata": {},
   "outputs": [],
   "source": [
    "# => 배열은 8비트 정수형, 랭크-텐서, 28*28크기의 정수행렬이 6만개가 있는 배열임\n",
    "# 각 행렬은 하나의 흑백 이미지, 행렬의 각 원소는 0~255사이의 값을 가짐"
   ]
  },
  {
   "cell_type": "code",
   "execution_count": 69,
   "id": "89f1ff5e-3ade-4a09-a0f6-a3639a11dd93",
   "metadata": {},
   "outputs": [
    {
     "data": {
      "image/png": "[encoded data removed]",
      "text/plain": [
       "<Figure size 432x288 with 1 Axes>"
      ]
     },
     "metadata": {
      "needs_background": "light"
     },
     "output_type": "display_data"
    }
   ],
   "source": [
    "# 다섯번째 이미지 출력하기 2-8\n",
    "import matplotlib.pyplot as plt\n",
    "\n",
    "digit = train_images[4]\n",
    "plt.imshow(digit, cmap = plt.cm.binary)\n",
    "plt.show()"
   ]
  },
  {
   "cell_type": "code",
   "execution_count": 71,
   "id": "6df2b976-4a3d-4568-8ad0-0a2fb5699795",
   "metadata": {},
   "outputs": [
    {
     "data": {
      "text/plain": [
       "9"
      ]
     },
     "execution_count": 71,
     "metadata": {},
     "output_type": "execute_result"
    }
   ],
   "source": [
    "train_labels[4]\n",
    "# 레이블 정수는 9"
   ]
  },
  {
   "cell_type": "markdown",
   "id": "32720e8b-f9f6-42e2-9217-6f6f6f7c308f",
   "metadata": {},
   "source": [
    "## 2.2.6 넘파이로 텐서 조작하기\n",
    "- 슬라이싱: 배열에 있는 특정 원소들을 선택"
   ]
  },
  {
   "cell_type": "code",
   "execution_count": 72,
   "id": "59580bf0-404a-4953-ab70-097fb13bfe36",
   "metadata": {},
   "outputs": [
    {
     "data": {
      "text/plain": [
       "(90, 28, 28)"
      ]
     },
     "execution_count": 72,
     "metadata": {},
     "output_type": "execute_result"
    }
   ],
   "source": [
    "# 11번째에서 101번쨰까지(101번쨰는 포함X) 숫자를 선택하여(90,28,28)크기의 배열을 만든다\n",
    "my_slice = train_images[10:100]\n",
    "my_slice.shape"
   ]
  },
  {
   "cell_type": "code",
   "execution_count": 74,
   "id": "bbdd4478-3837-4b6f-bf02-d7625529b0c5",
   "metadata": {},
   "outputs": [
    {
     "name": "stdout",
     "output_type": "stream",
     "text": [
      "(90, 28, 28)\n",
      "(90, 28, 28)\n"
     ]
    }
   ],
   "source": [
    "# 배열의 축읗 따라 슬라이싱의 시작 인덱스와 마지막 인덱스를 지정\n",
    "my_slice = train_images[10:100, :, :]\n",
    "print(my_slice.shape)\n",
    "my_slice= train_images[10:100,0:28,0:28]\n",
    "print(my_slice.shape)"
   ]
  },
  {
   "cell_type": "code",
   "execution_count": 76,
   "id": "15577cb7-0a64-4bd0-9f9f-6bb90483c854",
   "metadata": {
    "collapsed": true,
    "jupyter": {
     "outputs_hidden": true
    },
    "tags": []
   },
   "outputs": [
    {
     "data": {
      "text/plain": [
       "array([[[240, 253, 253, ...,   0,   0,   0],\n",
       "        [ 45, 186, 253, ...,   0,   0,   0],\n",
       "        [  0,  16,  93, ...,   0,   0,   0],\n",
       "        ...,\n",
       "        [  0,   0,   0, ...,   0,   0,   0],\n",
       "        [  0,   0,   0, ...,   0,   0,   0],\n",
       "        [  0,   0,   0, ...,   0,   0,   0]],\n",
       "\n",
       "       [[  0,   0,   0, ...,   0,   0,   0],\n",
       "        [  0,   0,   0, ...,   0,   0,   0],\n",
       "        [  0,   0,   0, ...,   0,   0,   0],\n",
       "        ...,\n",
       "        [  0,   0,   0, ...,   0,   0,   0],\n",
       "        [  0,   0,   0, ...,   0,   0,   0],\n",
       "        [  0,   0,   0, ...,   0,   0,   0]],\n",
       "\n",
       "       [[241, 243, 234, ...,   0,   0,   0],\n",
       "        [143,  91,  28, ...,   0,   0,   0],\n",
       "        [  0,   0,   0, ...,   0,   0,   0],\n",
       "        ...,\n",
       "        [  0,   0,   0, ...,   0,   0,   0],\n",
       "        [  0,   0,   0, ...,   0,   0,   0],\n",
       "        [  0,   0,   0, ...,   0,   0,   0]],\n",
       "\n",
       "       ...,\n",
       "\n",
       "       [[253, 254, 253, ...,   0,   0,   0],\n",
       "        [ 72, 192, 254, ...,   0,   0,   0],\n",
       "        [  0,   6, 242, ...,   0,   0,   0],\n",
       "        ...,\n",
       "        [  0,   0,   0, ...,   0,   0,   0],\n",
       "        [  0,   0,   0, ...,   0,   0,   0],\n",
       "        [  0,   0,   0, ...,   0,   0,   0]],\n",
       "\n",
       "       [[  0,  31, 127, ...,   0,   0,   0],\n",
       "        [ 27, 218, 252, ...,   0,   0,   0],\n",
       "        [194, 253, 217, ...,   0,   0,   0],\n",
       "        ...,\n",
       "        [  0,   0,   0, ...,   0,   0,   0],\n",
       "        [  0,   0,   0, ...,   0,   0,   0],\n",
       "        [  0,   0,   0, ...,   0,   0,   0]],\n",
       "\n",
       "       [[ 97, 254, 252, ...,   0,   0,   0],\n",
       "        [232, 181,  60, ...,   0,   0,   0],\n",
       "        [ 46,   0,   0, ...,   0,   0,   0],\n",
       "        ...,\n",
       "        [  0,   0,   0, ...,   0,   0,   0],\n",
       "        [  0,   0,   0, ...,   0,   0,   0],\n",
       "        [  0,   0,   0, ...,   0,   0,   0]]], dtype=uint8)"
      ]
     },
     "execution_count": 76,
     "metadata": {},
     "output_type": "execute_result"
    }
   ],
   "source": [
    "my_slice= train_images[:, 14:, 14:]\n",
    "my_slice"
   ]
  },
  {
   "cell_type": "code",
   "execution_count": 78,
   "id": "3b6c8c41-4bd8-4faf-8873-f18cf6cdb32a",
   "metadata": {
    "collapsed": true,
    "jupyter": {
     "outputs_hidden": true
    },
    "tags": []
   },
   "outputs": [
    {
     "data": {
      "text/plain": [
       "array([[[ 49, 238, 253, ...,  93,  82,  82],\n",
       "        [ 18, 219, 253, ...,   0,   0,   0],\n",
       "        [  0,  80, 156, ...,   0,   0,   0],\n",
       "        ...,\n",
       "        [  0,   0,   0, ..., 253, 207,   2],\n",
       "        [  0,   0,   0, ..., 250, 182,   0],\n",
       "        [  0,   0,   0, ...,  78,   0,   0]],\n",
       "\n",
       "       [[  0,   0,   0, ...,  84, 252, 253],\n",
       "        [  0,   0,   0, ...,  96, 189, 253],\n",
       "        [  0,   0,   0, ...,  47,  79, 255],\n",
       "        ...,\n",
       "        [252, 145,   0, ..., 252, 173,   0],\n",
       "        [253, 225,   0, ..., 162,   0,   0],\n",
       "        [252, 249, 146, ...,  56,   0,   0]],\n",
       "\n",
       "       [[  0,   0,   0, ...,   0,   2, 153],\n",
       "        [  0,   0,   0, ...,   0,  27, 254],\n",
       "        [  0,   0,   0, ...,   0, 183, 254],\n",
       "        ...,\n",
       "        [  0,   0,   0, ..., 254,  57,   0],\n",
       "        [  0,   0,   0, ..., 254,  57,   0],\n",
       "        [  0,   0,   0, ..., 255,  94,   0]],\n",
       "\n",
       "       ...,\n",
       "\n",
       "       [[  0,   0,   0, ..., 223, 159, 131],\n",
       "        [  0,   0,   0, ...,  27,   0,   0],\n",
       "        [  0,   0,  54, ...,   0,   0,   0],\n",
       "        ...,\n",
       "        [  0,   0,   0, ..., 173,   0,   0],\n",
       "        [  0,   0,   0, ..., 173,   0,   0],\n",
       "        [  0,   0,   0, ...,  74,   0,   0]],\n",
       "\n",
       "       [[  0,   0,   0, ...,   0,   0,   0],\n",
       "        [  0,   0,   0, ...,   0,   0,   0],\n",
       "        [  0,   0,   0, ...,   0,   0,   0],\n",
       "        ...,\n",
       "        [247, 110,   0, ..., 146, 163,  63],\n",
       "        [236, 128,   0, ..., 178,  12,   0],\n",
       "        [239, 196, 169, ...,   0,   0,   0]],\n",
       "\n",
       "       [[  0,   0,   0, ..., 254, 212,  27],\n",
       "        [  0,   0,   0, ..., 218, 237, 248],\n",
       "        [  0,   0,   0, ...,   0,  92, 231],\n",
       "        ...,\n",
       "        [  0, 110, 254, ...,   0,   0,   0],\n",
       "        [131, 254, 154, ...,   0,   0,   0],\n",
       "        [209, 153,  19, ...,   0,   0,   0]]], dtype=uint8)"
      ]
     },
     "execution_count": 78,
     "metadata": {},
     "output_type": "execute_result"
    }
   ],
   "source": [
    "my_slice = train_images[:, 7:-7, 7:-7]\n",
    "my_slice"
   ]
  },
  {
   "cell_type": "markdown",
   "id": "0ed777cf-8243-4af9-b43a-00322b0c222c",
   "metadata": {},
   "source": [
    "## 2.2.7 배치 데이터\n",
    "- 일반적으로 딥러닝에서 사용하는 모든 데이터 텐서의 첫번째 축(인덱스가 0부터 시작하므로 0번째 축)은 샘플축(sample axis), 샘플차원(sample dimension)\n",
    "- 딥러닝 모델은 한번에 전체 데이터셋을 처리하지 않음\n",
    "- 대신 데이터를 작은 배치(batch)로 나눔\n",
    "- 첫번째 축(0번축)을 배치축 또는 배치차원"
   ]
  },
  {
   "cell_type": "code",
   "execution_count": 84,
   "id": "5a58ffb9-ad78-46dd-9a70-73b108c66c16",
   "metadata": {},
   "outputs": [],
   "source": [
    "batch = train_images[:128]\n",
    "batch= train_images[128:256]\n",
    "n=3\n",
    "batch = train_images[128 * n:128 *(n+1)]"
   ]
  },
  {
   "cell_type": "markdown",
   "id": "cf83a334-1b7c-41a9-9863-cfa12d3c9694",
   "metadata": {},
   "source": [
    "## 2.2.8 텐서의 실제 사례\n",
    "- 벡터 데이터(sample, features): 크기의 랭크-2텐서, 각 샘플은 수치 속성(특징(feature))으로 구성된 벡터\n",
    "- 시계열 데이터 또는 시퀀스(sequence)데이터: (samples, timesteps, features)크기의 랭크-3텐서. 각 샘플은 특성 벡터의 (길이가 timesteps인)시퀀스\n",
    "- 이미지: (sample, height, width, channel) 또는 (sample, channel, height, width) 크기의 랭크-4텐서. 각 샘플은 픽셀의 2D격자고, 각 픽셀은 수치값(채널(chanel))의 벡터\n",
    "- 동영상: (sample, frame, height, width, channel) 또는 (sample, frame, channel, height, width) 크기의 랭크-5텐서. 각 샘플의 이미지의 (길이가 frames인)시퀀스"
   ]
  },
  {
   "cell_type": "markdown",
   "id": "2011732a-1aed-4602-abd4-06160d33187b",
   "metadata": {},
   "source": [
    "## 2.2.9 벡터 데이터\n",
    "- 하나의 데이터 포인트가 벡터로 인코딩될 수 있으므로 배치데이터는 랭크-2텐서로서 인코딩될 것이다.(즉 벡터의 배열)\n",
    "- 첫번째 축: 샘플축\n",
    "- 두번째 축: 특성축(feature axis)"
   ]
  },
  {
   "cell_type": "markdown",
   "id": "c1151129-565a-4e2b-9fe4-fa2db6444a4a",
   "metadata": {},
   "source": [
    "## 2.2.10 시계열 데이터 또는 시퀀스 데이터\n",
    "- 데이터에서 시간이(또는 연속된 순서가) 중요할 때는 시간 축을 포함하여 랭크-3텐서로 저장됨\n",
    "- 각 샘플은 벡터(랭크-2텐서)의 시퀀스로 인코딩되므로 배치 데이터는 랭크-3텐서로 인코딩 됨\n",
    "- 주식가격 데이터셋, 트윗 데이터셋"
   ]
  },
  {
   "cell_type": "markdown",
   "id": "fca3fccd-a48f-4686-a8f8-86c0cbc75cec",
   "metadata": {},
   "source": [
    "## 2.2.11 이미지 데이터\n",
    "- 이미지: 높이, 너비, 컬러 3차원\n",
    "- 흑백 이미지: (장수, 높이, 너비, 1)=> 랭크-2텐서\n",
    "- 컬러 이미지: (장수, 높이, 너비, 3)=> 랭크-3텐서\n",
    "\n",
    "- 이미지 텐서를 지정하는 방식\n",
    "- 채널 마지막방식: sample, height, width, color_depth 콜로 채널의 깊이를 끝에 놓는다.\n",
    "- 채널 우선방식: sample, color_depth, height, width 컬러채널의 깊이를 배치 축 바로 뒤에"
   ]
  },
  {
   "cell_type": "markdown",
   "id": "27c55fdb-be0f-477b-9bb0-75460c74aabb",
   "metadata": {},
   "source": [
    "## 2.2.12 비디오 데이터\n",
    "- 랭크-5텐서가 필요한 데이터\n",
    "- 하나의 비디오는 프레임의 연속, 각 프레임은 하나의 컬러 이미지\n",
    "- 프레임(height, width, color_depth)의 랭크-3텐서로 저장될 수 있기 때문에 \n",
    "- 프레임의 연속은 (frames, height, width, color_depth)의 랭크-4텐서로 저장될 수 있다.\n",
    "- 여러 비디오의 배치는(sample, frames, height, width, color_depth)의 랭크-5텐서로 저장될 수 있다.\n",
    "- (s,f,h,w,c)"
   ]
  },
  {
   "cell_type": "markdown",
   "id": "43685bed-4d7e-4de3-b8c4-296d6673b622",
   "metadata": {},
   "source": [
    "# 2.3 신경망의 톱니바퀴: 텐서연산\n",
    "- 컴퓨터 프로그램을 이진수로 입력처리하는 몇개의 이항연산(AND OR, NOR등)\n",
    "- 심층 신경망이 학습한 모든 변환을 수치 데이터 텐서에 적용하는 몇 종류의 텐서연산(텐서함수)으로 나타낼 수 있음"
   ]
  },
  {
   "cell_type": "code",
   "execution_count": 92,
   "id": "0aeaeff3-9a72-4f50-a475-f14db12316f6",
   "metadata": {},
   "outputs": [
    {
     "data": {
      "text/plain": [
       "<keras.layers.core.dense.Dense at 0x2388f70ad30>"
      ]
     },
     "execution_count": 92,
     "metadata": {},
     "output_type": "execute_result"
    }
   ],
   "source": [
    "keras.layers.Dense(512, activation=\"relu\")\n",
    "# Dense 층을 쌓아 모델을 만듬\n",
    "# 이 층은 행렬을 입력 받고 입력 텐서의 새로운 표현인 또 다른 행렬을 반환하는 함수\n",
    "# w: 행렬, b: 벡터"
   ]
  },
  {
   "cell_type": "markdown",
   "id": "53a62851-be66-43c4-a741-6cf0e3f8d24d",
   "metadata": {},
   "source": [
    "### output = relu(dot(W, input)+b)\n",
    "- W는 행렬이고, b는 벡터\n",
    "- 둘 모두 층의 속성"
   ]
  },
  {
   "cell_type": "markdown",
   "id": "cd835333-5595-47af-bfab-3db671fbef0b",
   "metadata": {},
   "source": [
    "### 3개의 텐서연산\n",
    "- 입력 텐서와 텐서 W사이의 점곱(dot)\n",
    "- 점곱으로 만들어진 행렬과 벡터 b사이의 덧셈(+)\n",
    "- relus(렐루)연산, relu(x)는 max(x,0)"
   ]
  },
  {
   "cell_type": "markdown",
   "id": "1f365613-20ed-4363-94b4-578c00d133cb",
   "metadata": {},
   "source": [
    "- int(1, x1, x2, x3,,)를 (Σ에 넣고, 시그모이드를 거쳐) 렐루함수를 거쳐서 out\n",
    "- 1은 b(편향), x1(가중치), x2(가중치) -> (Σ | 시그모이드)=> 활성함수(렐루함수)\n",
    "- 렐루함수: p. 152그림"
   ]
  },
  {
   "cell_type": "markdown",
   "id": "3d00e755-b2a0-4973-87b4-7c00002151f6",
   "metadata": {},
   "source": [
    "## 2.3.1 원소별 연산\n",
    "- relu함수와 덧셈: 원소별 덧셈(element-wise operation)\n",
    "- 텐서에 있는 각 원소에 독립적으로 적용됨"
   ]
  },
  {
   "cell_type": "code",
   "execution_count": 23,
   "id": "07bd750c-d0df-49fe-900c-ab2140e1d3c4",
   "metadata": {},
   "outputs": [],
   "source": [
    "# for 반복문\n",
    "def naive_relu(x):\n",
    "    assert len(x.shape) ==2\n",
    "    x= x.copy()\n",
    "    for i in range(x.shape[0]):\n",
    "        x[i,j]=max(x[i,j],0)\n",
    "    return x"
   ]
  },
  {
   "cell_type": "code",
   "execution_count": 24,
   "id": "2e029090-bb9b-448e-ba40-80ec79414f15",
   "metadata": {},
   "outputs": [],
   "source": [
    "# 덧셈\n",
    "def navie_add(x,y):\n",
    "    assert len(x.shape) ==2 \n",
    "    assert s.shape == y.shape\n",
    "    x = x.copy()\n",
    "    for i in range(x.shape[0]):\n",
    "        x[i,j]+=y[i,j]\n",
    "    return x"
   ]
  },
  {
   "cell_type": "code",
   "execution_count": 25,
   "id": "389fb3c0-a719-449c-953b-73ef917c2bc1",
   "metadata": {},
   "outputs": [],
   "source": [
    "# 넘파이는 BLAS구현에 복잡한 일들을 위임함\n",
    "#BLAS는 고도로 병렬화되고 효율적인 저수준의 텐서조작 루틴, 전형적으로 포트란(Fortran)이나 C언어로 구현"
   ]
  },
  {
   "cell_type": "code",
   "execution_count": 26,
   "id": "03646f4e-eb11-4608-bbe2-10c31f252304",
   "metadata": {
    "tags": []
   },
   "outputs": [],
   "source": [
    "# 원소별 연산\n",
    "import numpy as np\n",
    "\n",
    "# 원소별 덧셈\n",
    "z = x+y\n",
    "#원소별 렐루\n",
    "z = np.maximum(z,0.)"
   ]
  },
  {
   "cell_type": "code",
   "execution_count": 27,
   "id": "7cf799ee-1f69-47a0-aa40-5debd3d073fc",
   "metadata": {
    "tags": []
   },
   "outputs": [
    {
     "name": "stdout",
     "output_type": "stream",
     "text": [
      "걸린시간: 0.00 s\n"
     ]
    }
   ],
   "source": [
    "# 시간차이 재보기\n",
    "import time\n",
    "x= np.random.random((20,100))\n",
    "y= np.random.random((20,100))\n",
    "\n",
    "t0 = time.time()\n",
    "for _ in range(1000):\n",
    "    z = x+y\n",
    "    z = np.maximum(z,0.)\n",
    "print(\"걸린시간: {0:.2f} s\". format(time.time() - t0))"
   ]
  },
  {
   "cell_type": "code",
   "execution_count": 28,
   "id": "1bb12ac7-bd03-4b3e-976c-741f703f12ae",
   "metadata": {
    "collapsed": true,
    "jupyter": {
     "outputs_hidden": true
    },
    "tags": []
   },
   "outputs": [
    {
     "ename": "NameError",
     "evalue": "name 'naive_add' is not defined",
     "output_type": "error",
     "traceback": [
      "\u001b[1;31m---------------------------------------------------------------------------\u001b[0m",
      "\u001b[1;31mNameError\u001b[0m                                 Traceback (most recent call last)",
      "Input \u001b[1;32mIn [28]\u001b[0m, in \u001b[0;36m<cell line: 3>\u001b[1;34m()\u001b[0m\n\u001b[0;32m      2\u001b[0m t0 \u001b[38;5;241m=\u001b[39m time\u001b[38;5;241m.\u001b[39mtime()\n\u001b[0;32m      3\u001b[0m \u001b[38;5;28;01mfor\u001b[39;00m _ \u001b[38;5;129;01min\u001b[39;00m \u001b[38;5;28mrange\u001b[39m(\u001b[38;5;241m1000\u001b[39m):\n\u001b[1;32m----> 4\u001b[0m     z \u001b[38;5;241m=\u001b[39m \u001b[43mnaive_add\u001b[49m(x,y)\n\u001b[0;32m      5\u001b[0m     z \u001b[38;5;241m=\u001b[39m navie_relu(z)\n\u001b[0;32m      6\u001b[0m \u001b[38;5;28mprint\u001b[39m(\u001b[38;5;124m\"\u001b[39m\u001b[38;5;124m걸린시간:\u001b[39m\u001b[38;5;132;01m{0:.2f}\u001b[39;00m\u001b[38;5;124m s\u001b[39m\u001b[38;5;124m\"\u001b[39m\u001b[38;5;241m.\u001b[39mformat(time\u001b[38;5;241m.\u001b[39mtime() \u001b[38;5;241m-\u001b[39m t0))\n",
      "\u001b[1;31mNameError\u001b[0m: name 'naive_add' is not defined"
     ]
    }
   ],
   "source": [
    "# 단순한 방법\n",
    "t0 = time.time()\n",
    "for _ in range(1000):\n",
    "    z = naive_add(x,y)\n",
    "    z = navie_relu(z)\n",
    "print(\"걸린시간:{0:.2f} s\".format(time.time() - t0))"
   ]
  },
  {
   "cell_type": "markdown",
   "id": "932e6484-7c46-47e5-a864-5f7c2fbba567",
   "metadata": {},
   "source": [
    "# 2.3.2 브로드 캐스팅\n",
    "- naive_add는 동일한 크기의 랭크-2텐서만 지원함\n",
    "- 브로드캐스팅: 2단계\n",
    "- 1. 큰 텐서의 ndim에 맞도록 작은 텐서에(브로드캐스팅 축이라고 부르는) 축이 추가됨\n",
    "- 2. 작은 텐서가 새 축을 따라서 큰 텐서의 크기에 맞도록 반복"
   ]
  },
  {
   "cell_type": "code",
   "execution_count": 29,
   "id": "289c6a6d-c540-4f44-a94c-5ec82d1617c8",
   "metadata": {},
   "outputs": [],
   "source": [
    "import numpy as np"
   ]
  },
  {
   "cell_type": "code",
   "execution_count": 35,
   "id": "9394e85a-c173-4e57-b2c7-64cd7aa6857a",
   "metadata": {},
   "outputs": [],
   "source": [
    "x=np.random.random((32,10))\n",
    "y=np.random.random((10,))"
   ]
  },
  {
   "cell_type": "code",
   "execution_count": 40,
   "id": "7a3ed8a1-6820-4c5b-b914-31dfcea847a4",
   "metadata": {},
   "outputs": [],
   "source": [
    "# y에 비어있는 첫번쨰 축을 추가하여 크기를 (1, 10)으로 만듦\n",
    "y = np.expand_dims(y,axis=0)\n",
    "# y축을 32번 반복하면서 텐서 y의 크기는(32,10)이 됨\n",
    "Y = np.concatenate([y] * 32, axis=0)\n",
    "\n",
    "# 이렇게 하면 x,Y의 크기가 같아져서 더할 수 있게 됨"
   ]
  },
  {
   "cell_type": "code",
   "execution_count": 41,
   "id": "26e45061-c602-4267-9a59-67d800654a2e",
   "metadata": {},
   "outputs": [],
   "source": [
    "# 단순구현\n",
    "def navie_add_matrix_and_vector(x,y):\n",
    "    assert len(x.shape) == 2\n",
    "    assert len(y.shape) == 1\n",
    "    assert x.shape[1] == y.shape[0]\n",
    "    x = x.copy()\n",
    "    for i in range(x.shape[0]):\n",
    "        x[i,j]+=y[j]\n",
    "    return x"
   ]
  },
  {
   "cell_type": "code",
   "execution_count": 44,
   "id": "694cc211-a817-4e91-a2fe-17e95688f3c9",
   "metadata": {},
   "outputs": [],
   "source": [
    "# 크기가 다른 두 텐서에 브로드캐스팅으로 원소별 maximum연산을 적용\n",
    "import numpy as np\n",
    "\n",
    "x= np.random.random((64, 3, 32, 10))\n",
    "y= np.random.random((32, 10))\n",
    "z= np.maximum(x,y)"
   ]
  },
  {
   "cell_type": "markdown",
   "id": "d72dbe6e-ec73-45fc-8cf6-c4b3106728f9",
   "metadata": {},
   "source": [
    "## 2.3.3 텐서 곱셈\n",
    "- 텐서곱셈(tensor product), 점곱(dot product)\n",
    "- 넘파이에서 텐서 곱셈은 np.dot함수를 사용하여 수행"
   ]
  },
  {
   "cell_type": "code",
   "execution_count": 50,
   "id": "8c8d61c2-dcc7-4929-8ab4-9897cd836138",
   "metadata": {},
   "outputs": [],
   "source": [
    "x= np.random.random((32,))\n",
    "y= np.random.random((32,))\n",
    "z= np.dot(x,y)\n",
    "\n",
    "z= x*y"
   ]
  },
  {
   "cell_type": "code",
   "execution_count": 53,
   "id": "f00a4e66-f60b-4632-9ee5-fc5021e6a611",
   "metadata": {},
   "outputs": [],
   "source": [
    "# 2개의 벡터x와 y의 접곱\n",
    "def navie_vector_dot(x,y):\n",
    "    assert len(x.shape) == 1\n",
    "    assert len(y.shape) == 1\n",
    "    assert x.shape[0] == y.shape[0]\n",
    "    z=0.\n",
    "    for i in range(x.shape[0]):\n",
    "        z+=x[i]*y[i]\n",
    "    return z\n",
    "\n",
    "# 두 벡터의 점곱은 스칼라가 되므로 원소 개수가 같은 벡터끼리 점곱이 가능"
   ]
  },
  {
   "cell_type": "code",
   "execution_count": 55,
   "id": "b10d5264-b0e5-483c-a5d1-0a99ac4533c8",
   "metadata": {},
   "outputs": [],
   "source": [
    "# 행렬 x와 벡터 y사이에서도 점곱이 가능\n",
    "def navie_matrix_vector_dot(x,y):\n",
    "    assert len(x.shape) == 2\n",
    "    assert len(y.shape) == 1\n",
    "    assert x.shape[1] == y.shape[0]\n",
    "    z = np.zeros(x.shape[0])\n",
    "    for i in range(x.shape[1]):\n",
    "        z[i] += x[i,j] * y[j]\n",
    "    return z"
   ]
  },
  {
   "cell_type": "code",
   "execution_count": 59,
   "id": "b1e2ffe0-1868-45f7-98d5-22be38e0e9b5",
   "metadata": {},
   "outputs": [],
   "source": [
    "def navie_matrix_vector_dot(x,y):\n",
    "    z= np.zeros(x.shape[0])\n",
    "    for i in range(x.shape[0]):\n",
    "        z[i] = navie_vector_dot(x[i, :], y)\n",
    "    return z\n",
    "\n",
    "# 두 텐사 증 하나라도 ndim이 1보다 크면 dot연산에 교환법칙이 성립되지 않음\n",
    "# dot(x,y)와 dot(y,x)가 같지 않다.\n",
    "# x.shape[1]==y.shape[0]일 때 두 행렬 x와 y의 점곱(dot(x,y))이 성립됨\n",
    "# x의 행과 y열 사이 벡터 점곱으로 인해 (x.shape[0], y.shape[1])크기의 행렬이 됨"
   ]
  },
  {
   "cell_type": "code",
   "execution_count": 60,
   "id": "bd5500db-4436-4eb6-9ceb-539c5fcbc084",
   "metadata": {},
   "outputs": [],
   "source": [
    "def navie_matrix_vector_dot(x,y):\n",
    "    assert len(x.shape) == 2\n",
    "    assert len(y.shape) == 2\n",
    "    assert x.shape[1] == y.shape[0]\n",
    "    z = np.zeros(x.shape[0], y.shape[1])\n",
    "    for i in range(x.shape[1]):\n",
    "        row_x = x[i, :]\n",
    "        column_y = y[:, j]\n",
    "        z[i,j] = naive_vector_dot(row_x, column_y)\n",
    "    return z"
   ]
  },
  {
   "cell_type": "code",
   "execution_count": null,
   "id": "8ee0e4d1-425f-4997-aa43-f4ad642bda76",
   "metadata": {},
   "outputs": [],
   "source": [
    "- 행렬의 접곱\n",
    "# 크기를 맞추는 동일한 규칙을 따르면 고차원 텐서 간의 접곱을 할 수 있다\n",
    "(a, b, c, d) · (d,) -> (a, b, c)\n",
    "(a, b, c, d) · (d, e) -> (a, b, c, e)"
   ]
  },
  {
   "cell_type": "markdown",
   "id": "8934b0ad-8190-4a9d-80d1-531a03102676",
   "metadata": {},
   "source": [
    "# 2.3.4 텐서 크기 변환(tensor reshape)\n",
    "- 모델에 주입할 숫자 데이터를 전처리할 때 사용\n",
    "- train_images = train_images.reshape((60000, 28*28))\n",
    "- 텐서의 크기를 변환하다는 것은 특정 크기에 맞게 열과 행을 재배열.\n",
    "- 크기가 변환된 텐서는 원래 텐서와 원소 개수가 동일하다."
   ]
  },
  {
   "cell_type": "code",
   "execution_count": 67,
   "id": "d6e7862e-dbab-4e6f-bf9f-538e001557be",
   "metadata": {},
   "outputs": [],
   "source": [
    "x= np.array(([0.,1.,],\n",
    "             [2.,3.,],\n",
    "             [4.,5.]))"
   ]
  },
  {
   "cell_type": "code",
   "execution_count": 69,
   "id": "83fec956-9442-4180-ab46-971afdc79dcb",
   "metadata": {},
   "outputs": [
    {
     "data": {
      "text/plain": [
       "(3, 2)"
      ]
     },
     "execution_count": 69,
     "metadata": {},
     "output_type": "execute_result"
    }
   ],
   "source": [
    "x.shape"
   ]
  },
  {
   "cell_type": "code",
   "execution_count": 72,
   "id": "2f9e4cf5-a641-452c-9d47-b4186555dc52",
   "metadata": {},
   "outputs": [
    {
     "data": {
      "text/plain": [
       "array([[0.],\n",
       "       [1.],\n",
       "       [2.],\n",
       "       [3.],\n",
       "       [4.],\n",
       "       [5.]])"
      ]
     },
     "execution_count": 72,
     "metadata": {},
     "output_type": "execute_result"
    }
   ],
   "source": [
    "x= x.reshape((6,1))\n",
    "x"
   ]
  },
  {
   "cell_type": "code",
   "execution_count": 75,
   "id": "6a7ec44f-dc8b-4306-b91b-e408e270078c",
   "metadata": {},
   "outputs": [
    {
     "data": {
      "text/plain": [
       "array([[0., 1., 2.],\n",
       "       [3., 4., 5.]])"
      ]
     },
     "execution_count": 75,
     "metadata": {},
     "output_type": "execute_result"
    }
   ],
   "source": [
    "x = x.reshape((2,3))\n",
    "x"
   ]
  },
  {
   "cell_type": "code",
   "execution_count": 77,
   "id": "90e6d103-a778-4da8-ac1d-f3bdea540f9b",
   "metadata": {},
   "outputs": [
    {
     "data": {
      "text/plain": [
       "(20, 300)"
      ]
     },
     "execution_count": 77,
     "metadata": {},
     "output_type": "execute_result"
    }
   ],
   "source": [
    "# 전치(transposition): 행렬의 전치는 행과 열을 바꾸는 것\n",
    "# x[i, :] -> x[:,i]\n",
    "x= np.zeros((300,20))\n",
    "x= np.transpose(x)\n",
    "x.shape"
   ]
  },
  {
   "cell_type": "markdown",
   "id": "f9698ddc-c9a3-489f-a03d-e1839db4cf02",
   "metadata": {},
   "source": [
    "# 2.3.5 텐서 연산의 기하학적 해석(analysis)\n",
    "- 좌표 그림"
   ]
  },
  {
   "cell_type": "code",
   "execution_count": 79,
   "id": "21dbd08b-bdc6-4939-b8fd-71a103dffca5",
   "metadata": {},
   "outputs": [],
   "source": [
    "A = [0.5, 1]\n",
    "B = [1, 0.5]\n",
    "두 벡터의 덧셈에 대한 기하학적 해석\n",
    "텐서의 덧셈은 객체를 특정 방향으로 특정 양만큼(객체를 왜곡시키지 않고)이동\n",
    "- 원래 A점에서 새로운 위치까지 거리와 방향은 벡터 B에 의해 결정됨"
   ]
  },
  {
   "cell_type": "code",
   "execution_count": null,
   "id": "3b7bf5d0-f131-412f-acea-036f943ef7a5",
   "metadata": {},
   "outputs": [],
   "source": [
    "기하학적 연산은 텐서로 표현할 수 있다.\n",
    "- 이동(translation): (x,y)만큼 (수직,수평)이동\n",
    "- 회전(rotaion): R= [cos(t)-sin(t)][sin(t) cos(t)] 。[x,y] 각도t만큼 2D벡터를 반시계방향 회전\n",
    "- 크키변경(scaling): S= [[horizontal_factor, 0], [0, vectical_factor]]와 점곱하여 수직, 수평 방향으로 크기를 변경 = 대각행렬(diagona matrix) \n",
    "- 기울이기(skeing)\n",
    "- 선형변환(linear transform):  크기변경, 회전\n",
    "- 아핀변환(affine transform): 어떤 행렬과 점곱하여 얻는 선형변환과 (벡터를 더해 얻는) 이동조합 y=w*x+b, relu(W*x+b)\n",
    "- relu활상화 함수를 사용하는 Dense층: 아핀 변환의 중요한 성질은 여러 아핀변환을 반복래서 적용해도 결국 하나의 아핀 변환이 됨"
   ]
  },
  {
   "cell_type": "code",
   "execution_count": null,
   "id": "5ca6332b-493b-42fd-aec1-12e6a0829095",
   "metadata": {},
   "outputs": [],
   "source": [
    "## 2.3.6 딥러닝의 기하학적 해석\n",
    "- 심층 신경망의 각 층은 데이터를 조금씩 풀어주는 변환을 적용하므로, 이런 층을 깊게 쌓으면 아주 복잡한 분해과정을 처리할 수 있음\n",
    "- 15차원 문제를 1차원으로 하나하나 풀기(훨씬 정확)"
   ]
  },
  {
   "cell_type": "code",
   "execution_count": null,
   "id": "7303cf91-0e30-4676-bad3-4d1be2e0375f",
   "metadata": {},
   "outputs": [],
   "source": [
    "# 2.4 신경망의 엔진: 그레이디언트 기반 최적화\n",
    "output = relu(dot(W, input)+b)\n",
    "- 초기: 무작위 초기화\n",
    "- 가중치가 점진적으로 조정\n",
    "- 훈련"
   ]
  },
  {
   "cell_type": "code",
   "execution_count": null,
   "id": "132dae34-9006-4f81-9acf-d34a2d331257",
   "metadata": {},
   "outputs": [],
   "source": [
    "1. 훈련 샘플 x와 이에 상응하는 타깃 y_true의 배치를 추출\n",
    "2. x를 사용하여 모델을 실행하고(정방향 패스(forward pass)단계), 예측 y_pred를 구한다\n",
    "3. y_pred와 y_true의 차이를 측정하여 이 배치에 대한 모델의 손실을 구한다\n",
    "4. 배체애 대한 손실이 조금 감소되도록 모델의 모든 가중치를 업데이트 한다\n",
    "- 훈현 데이터에서 모델의 손실(예측 y_pred, 타깃 y_true)의 오차가 매우 작아질 것이다."
   ]
  },
  {
   "cell_type": "markdown",
   "id": "87f1fd9f-662d-4fdc-a80a-9f051619baa0",
   "metadata": {},
   "source": [
    "# 4장 신경망 시작하기: 분류와 회귀"
   ]
  },
  {
   "cell_type": "markdown",
   "id": "570816f2-51d9-4ab5-976c-a05f7857474d",
   "metadata": {},
   "source": [
    "## 4.1 영화 리뷰 분류: 이진 분류 문제"
   ]
  },
  {
   "cell_type": "markdown",
   "id": "80fcad04-b511-4327-b4e2-6e9aecb0afa8",
   "metadata": {},
   "source": [
    "## 4.1.4 IMDB 데이터셋"
   ]
  },
  {
   "cell_type": "code",
   "execution_count": 101,
   "id": "da088c59-ca9d-454a-9e1b-762415663df9",
   "metadata": {},
   "outputs": [],
   "source": [
    "# 4-1 IMDB데이터셋 로드\n",
    "from tensorflow.keras.datasets import imdb\n",
    "(train_data, train_labels), (test_data, test_labels) = imdb.load_data(num_words = 10000)"
   ]
  },
  {
   "cell_type": "code",
   "execution_count": 102,
   "id": "1e467fd0-8b0a-4a3f-b46f-1555e3a9be86",
   "metadata": {},
   "outputs": [],
   "source": [
    "# num_words=1000 매개변수는 훈련 데이터에서 가장 자주 나타나는 단어 1만개 사용하겠다.\n",
    "# 드물게 나타나는 단어는 무시\n",
    "# 부정:0, 긍정:1"
   ]
  },
  {
   "cell_type": "code",
   "execution_count": 103,
   "id": "5251a622-598e-48a3-981e-af5901f1fbca",
   "metadata": {
    "collapsed": true,
    "jupyter": {
     "outputs_hidden": true
    },
    "tags": []
   },
   "outputs": [
    {
     "data": {
      "text/plain": [
       "[1,\n",
       " 14,\n",
       " 22,\n",
       " 16,\n",
       " 43,\n",
       " 530,\n",
       " 973,\n",
       " 1622,\n",
       " 1385,\n",
       " 65,\n",
       " 458,\n",
       " 4468,\n",
       " 66,\n",
       " 3941,\n",
       " 4,\n",
       " 173,\n",
       " 36,\n",
       " 256,\n",
       " 5,\n",
       " 25,\n",
       " 100,\n",
       " 43,\n",
       " 838,\n",
       " 112,\n",
       " 50,\n",
       " 670,\n",
       " 2,\n",
       " 9,\n",
       " 35,\n",
       " 480,\n",
       " 284,\n",
       " 5,\n",
       " 150,\n",
       " 4,\n",
       " 172,\n",
       " 112,\n",
       " 167,\n",
       " 2,\n",
       " 336,\n",
       " 385,\n",
       " 39,\n",
       " 4,\n",
       " 172,\n",
       " 4536,\n",
       " 1111,\n",
       " 17,\n",
       " 546,\n",
       " 38,\n",
       " 13,\n",
       " 447,\n",
       " 4,\n",
       " 192,\n",
       " 50,\n",
       " 16,\n",
       " 6,\n",
       " 147,\n",
       " 2025,\n",
       " 19,\n",
       " 14,\n",
       " 22,\n",
       " 4,\n",
       " 1920,\n",
       " 4613,\n",
       " 469,\n",
       " 4,\n",
       " 22,\n",
       " 71,\n",
       " 87,\n",
       " 12,\n",
       " 16,\n",
       " 43,\n",
       " 530,\n",
       " 38,\n",
       " 76,\n",
       " 15,\n",
       " 13,\n",
       " 1247,\n",
       " 4,\n",
       " 22,\n",
       " 17,\n",
       " 515,\n",
       " 17,\n",
       " 12,\n",
       " 16,\n",
       " 626,\n",
       " 18,\n",
       " 2,\n",
       " 5,\n",
       " 62,\n",
       " 386,\n",
       " 12,\n",
       " 8,\n",
       " 316,\n",
       " 8,\n",
       " 106,\n",
       " 5,\n",
       " 4,\n",
       " 2223,\n",
       " 5244,\n",
       " 16,\n",
       " 480,\n",
       " 66,\n",
       " 3785,\n",
       " 33,\n",
       " 4,\n",
       " 130,\n",
       " 12,\n",
       " 16,\n",
       " 38,\n",
       " 619,\n",
       " 5,\n",
       " 25,\n",
       " 124,\n",
       " 51,\n",
       " 36,\n",
       " 135,\n",
       " 48,\n",
       " 25,\n",
       " 1415,\n",
       " 33,\n",
       " 6,\n",
       " 22,\n",
       " 12,\n",
       " 215,\n",
       " 28,\n",
       " 77,\n",
       " 52,\n",
       " 5,\n",
       " 14,\n",
       " 407,\n",
       " 16,\n",
       " 82,\n",
       " 2,\n",
       " 8,\n",
       " 4,\n",
       " 107,\n",
       " 117,\n",
       " 5952,\n",
       " 15,\n",
       " 256,\n",
       " 4,\n",
       " 2,\n",
       " 7,\n",
       " 3766,\n",
       " 5,\n",
       " 723,\n",
       " 36,\n",
       " 71,\n",
       " 43,\n",
       " 530,\n",
       " 476,\n",
       " 26,\n",
       " 400,\n",
       " 317,\n",
       " 46,\n",
       " 7,\n",
       " 4,\n",
       " 2,\n",
       " 1029,\n",
       " 13,\n",
       " 104,\n",
       " 88,\n",
       " 4,\n",
       " 381,\n",
       " 15,\n",
       " 297,\n",
       " 98,\n",
       " 32,\n",
       " 2071,\n",
       " 56,\n",
       " 26,\n",
       " 141,\n",
       " 6,\n",
       " 194,\n",
       " 7486,\n",
       " 18,\n",
       " 4,\n",
       " 226,\n",
       " 22,\n",
       " 21,\n",
       " 134,\n",
       " 476,\n",
       " 26,\n",
       " 480,\n",
       " 5,\n",
       " 144,\n",
       " 30,\n",
       " 5535,\n",
       " 18,\n",
       " 51,\n",
       " 36,\n",
       " 28,\n",
       " 224,\n",
       " 92,\n",
       " 25,\n",
       " 104,\n",
       " 4,\n",
       " 226,\n",
       " 65,\n",
       " 16,\n",
       " 38,\n",
       " 1334,\n",
       " 88,\n",
       " 12,\n",
       " 16,\n",
       " 283,\n",
       " 5,\n",
       " 16,\n",
       " 4472,\n",
       " 113,\n",
       " 103,\n",
       " 32,\n",
       " 15,\n",
       " 16,\n",
       " 5345,\n",
       " 19,\n",
       " 178,\n",
       " 32]"
      ]
     },
     "execution_count": 103,
     "metadata": {},
     "output_type": "execute_result"
    }
   ],
   "source": [
    "train_data[0]"
   ]
  },
  {
   "cell_type": "code",
   "execution_count": 104,
   "id": "f58ab797-e4f0-433f-a77f-0a16d4306b62",
   "metadata": {},
   "outputs": [
    {
     "data": {
      "text/plain": [
       "1"
      ]
     },
     "execution_count": 104,
     "metadata": {},
     "output_type": "execute_result"
    }
   ],
   "source": [
    "train_labels[0]"
   ]
  },
  {
   "cell_type": "code",
   "execution_count": 105,
   "id": "6d3f0a69-be6d-4114-ac6f-b8200c4a3aa2",
   "metadata": {},
   "outputs": [
    {
     "data": {
      "text/plain": [
       "9999"
      ]
     },
     "execution_count": 105,
     "metadata": {},
     "output_type": "execute_result"
    }
   ],
   "source": [
    "# 가장 자주 등장하는 단어 1만개로 제한했기 때문에 단어인덱스는 9,999개를 넘지 않음\n",
    "max([max(sequence) for sequence in train_data])"
   ]
  },
  {
   "cell_type": "code",
   "execution_count": 106,
   "id": "dd02253d-0ad0-4610-acd7-6b33ca47d36c",
   "metadata": {},
   "outputs": [],
   "source": [
    "# 4-2 리뷰를 다시 텍스트로 디코딩\n",
    "word_index = imdb.get_word_index()\n",
    "reverse_word_indx = dict(\n",
    "    [(value, key) for (key, value) in word_index.items()])\n",
    "decorded_review=  \" \".join(\n",
    "    [reverse_word_indx.get(i -3, \"?\") for i in train_data[0]])\n",
    "# 0,1,2는 '패딩', '문서시작', '사전에 없음'"
   ]
  },
  {
   "cell_type": "markdown",
   "id": "703422e9-eeb1-40ad-a2e5-5ded7fbc0c92",
   "metadata": {},
   "source": [
    "## 4.1.2 데이터 준비\n",
    "- 신결망에 숫자를 바로 주입할 수 없음 숫자 리스트는 모두 길이가 다르지만 신경망은 동일한 크기의 배치를 기대하기 때문\n",
    "- 리스트를 텐서로 바꾸는 두가지 방법\n",
    "- 1. 같은 길이가 되도록 리스트 패딩을 추가, 크기의 정수 텐서로 변환, 그 다음 이 정수 텐서를 다룰 수 있는 층으로 신경망을 시작\n",
    "- 2. 리스트를 멀티-핫인코딩 하여 0과1의 벡터로 변환."
   ]
  },
  {
   "cell_type": "code",
   "execution_count": 110,
   "id": "02a67bf1-f543-41c8-85c8-bb3be0dfa6cd",
   "metadata": {},
   "outputs": [],
   "source": [
    "## 4-3 정수 시퀀스를 멀티-핫 인코딩으로 인코딩\n",
    "import numpy as np\n",
    "\n",
    "def vectorize_sequences(sequences, dimension=10000):\n",
    "    results = np.zeros((len(sequences), dimension))\n",
    "    for i, sequence in enumerate(sequences):\n",
    "        for j in sequence:\n",
    "            results[i,j] = 1.\n",
    "    return results\n",
    "x_train = vectorize_sequences(train_data)\n",
    "x_test = vectorize_sequences(test_data)"
   ]
  },
  {
   "cell_type": "code",
   "execution_count": 111,
   "id": "fe2729cd-fac9-4707-9c9e-b26f8d39e87b",
   "metadata": {},
   "outputs": [
    {
     "data": {
      "text/plain": [
       "array([0., 1., 1., ..., 0., 0., 0.])"
      ]
     },
     "execution_count": 111,
     "metadata": {},
     "output_type": "execute_result"
    }
   ],
   "source": [
    "x_train[0]"
   ]
  },
  {
   "cell_type": "code",
   "execution_count": 112,
   "id": "db467c2e-f30a-45fb-8b3b-6b192e89a95e",
   "metadata": {},
   "outputs": [],
   "source": [
    "# 레이블을 벡터로 바꾸기\n",
    "y_train = np.asarray(train_labels).astype(\"float32\")\n",
    "y_test = np.asarray(test_labels).astype(\"float32\")"
   ]
  },
  {
   "cell_type": "markdown",
   "id": "41d4a19d-dd3d-492d-b48b-92889c636467",
   "metadata": {},
   "source": [
    "## 4.1.3 신경망 모델 만들기\n",
    "- 입력 데이터가 벡터고 레이블은 스칼라(1 또는 0)\n",
    "- 문제에 잘 작동하는 모델은 relu활성화 함수를 사용한 밀집 연결 층을 잘 쌓은 것임\n",
    "- Dense 층 쌓을 때 중요한 두가지 \n",
    "- 1. 얼마나 많은 층을 사용할 것인가?\n",
    "- 2. 각 층에 얼마나 많은 유닛을 둘 것인가?"
   ]
  },
  {
   "cell_type": "code",
   "execution_count": null,
   "id": "a61eeb14-6fd1-4b5a-bdbf-b81fa7ea1a89",
   "metadata": {},
   "outputs": [],
   "source": [
    "# 문제\n",
    "- 16개의 유닛을 가진 2개의 중간 층\n",
    "- 현재 리뷰의 감정을 스칼라 값의 예측으로 출력하는 세번째 층"
   ]
  },
  {
   "cell_type": "code",
   "execution_count": 124,
   "id": "fceaaf1f-5454-440b-b6a7-6bd4581afa06",
   "metadata": {},
   "outputs": [],
   "source": [
    "# 4-4 모델 정의하기\n",
    "from tensorflow import keras\n",
    "from tensorflow.keras import layers\n",
    "model = keras.Sequential([\n",
    "    layers.Dense(units = 16, activation = \"relu\"),\n",
    "    layers.Dense(units = 16, activation = \"relu\"),\n",
    "    layers.Dense(units = 1, activation = \"sigmoid\"),\n",
    "])\n",
    "\n",
    "# Dense층에 전달한 첫번째 매개변수는 층의 유닛개수이며, 층이 가진 표현 공간의 차원이다."
   ]
  },
  {
   "cell_type": "code",
   "execution_count": null,
   "id": "770e37c6-fa05-4b2f-b09a-e95b1a05cbc8",
   "metadata": {},
   "outputs": [],
   "source": [
    "# 렐루함수 f(x)=h(x)\n",
    "f(x) = x (x > 0)\n",
    "     = x (x <= 0)\n",
    "    \n",
    "# 시그모이드 함수 \n",
    "sigmoid(x) =1/(1+e)-x\n",
    "e=2.7"
   ]
  },
  {
   "cell_type": "code",
   "execution_count": null,
   "id": "edee9dcc-7184-4822-965e-2e5b2f2ddb33",
   "metadata": {},
   "outputs": [],
   "source": [
    "# 활성화 함숙가 필요한 이유\n",
    "relu와 같은 활성화 함수(비선형(non-linearity)함수)가 없다면 Dense층은 선형적안 연산인 점곱과 덧셈 2개로 구성\n",
    "# output= relu(dot(w,input)+b)\n",
    "그러므로 이 층은 입력에 대한 아핀만 학습할 수 있음"
   ]
  },
  {
   "cell_type": "code",
   "execution_count": 125,
   "id": "ef29d421-68c6-4162-aabd-1d699749855a",
   "metadata": {},
   "outputs": [],
   "source": [
    "## 4-5모델 컴파일 하기\n",
    "# rmsprop옵티마이저와 binary_crossentropy손실 함수로 모델을 설정\n",
    "model.compile(optimizer=\"rmsprop\",\n",
    "             loss= \"binary_crossentropy\",\n",
    "             metrics=[\"accuracy\"])"
   ]
  },
  {
   "cell_type": "code",
   "execution_count": 118,
   "id": "587e68ca-212c-4ed5-bff4-a2dd8894ab55",
   "metadata": {},
   "outputs": [],
   "source": [
    "## 4.1.4 훈련 검증"
   ]
  },
  {
   "cell_type": "code",
   "execution_count": 119,
   "id": "9cdd0968-13a5-43cd-8894-c8386f92ec7a",
   "metadata": {},
   "outputs": [],
   "source": [
    "# 512개의 샘플씩 미니 배치를 만들어 20번의 에포크 동안 모델을 훈련시킴(훈련 데이터에 있는 모든 샘플에 대해 20번 반복)"
   ]
  },
  {
   "cell_type": "code",
   "execution_count": 126,
   "id": "75816711-891a-4008-9641-2488aa2daf90",
   "metadata": {},
   "outputs": [],
   "source": [
    "# 훈련검증 4-6\n",
    "x_val = x_train[:10000]\n",
    "partial_x_train = x_train[10000:]\n",
    "y_val= y_train[:10000]\n",
    "partial_y_train = y_train[10000:]"
   ]
  },
  {
   "cell_type": "code",
   "execution_count": 127,
   "id": "26f4aa22-e5c8-42ab-98d4-8af2def5b27c",
   "metadata": {
    "tags": []
   },
   "outputs": [
    {
     "name": "stdout",
     "output_type": "stream",
     "text": [
      "Epoch 1/20\n",
      "30/30 [==============================] - 1s 21ms/step - loss: 0.5127 - accuracy: 0.7856 - val_loss: 0.3836 - val_accuracy: 0.8675\n",
      "Epoch 2/20\n",
      "30/30 [==============================] - 0s 12ms/step - loss: 0.3000 - accuracy: 0.9041 - val_loss: 0.3441 - val_accuracy: 0.8558\n",
      "Epoch 3/20\n",
      "30/30 [==============================] - 0s 11ms/step - loss: 0.2192 - accuracy: 0.9261 - val_loss: 0.3235 - val_accuracy: 0.8681\n",
      "Epoch 4/20\n",
      "30/30 [==============================] - 0s 11ms/step - loss: 0.1723 - accuracy: 0.9434 - val_loss: 0.2828 - val_accuracy: 0.8839\n",
      "Epoch 5/20\n",
      "30/30 [==============================] - 0s 11ms/step - loss: 0.1401 - accuracy: 0.9545 - val_loss: 0.2836 - val_accuracy: 0.8872\n",
      "Epoch 6/20\n",
      "30/30 [==============================] - 0s 11ms/step - loss: 0.1151 - accuracy: 0.9642 - val_loss: 0.3040 - val_accuracy: 0.8841\n",
      "Epoch 7/20\n",
      "30/30 [==============================] - 0s 11ms/step - loss: 0.0927 - accuracy: 0.9730 - val_loss: 0.3146 - val_accuracy: 0.8823\n",
      "Epoch 8/20\n",
      "30/30 [==============================] - 0s 11ms/step - loss: 0.0749 - accuracy: 0.9787 - val_loss: 0.3655 - val_accuracy: 0.8772\n",
      "Epoch 9/20\n",
      "30/30 [==============================] - 0s 11ms/step - loss: 0.0633 - accuracy: 0.9829 - val_loss: 0.3653 - val_accuracy: 0.8807\n",
      "Epoch 10/20\n",
      "30/30 [==============================] - 0s 11ms/step - loss: 0.0505 - accuracy: 0.9878 - val_loss: 0.3891 - val_accuracy: 0.8780\n",
      "Epoch 11/20\n",
      "30/30 [==============================] - 0s 11ms/step - loss: 0.0390 - accuracy: 0.9914 - val_loss: 0.4431 - val_accuracy: 0.8657\n",
      "Epoch 12/20\n",
      "30/30 [==============================] - 0s 11ms/step - loss: 0.0315 - accuracy: 0.9941 - val_loss: 0.4527 - val_accuracy: 0.8734\n",
      "Epoch 13/20\n",
      "30/30 [==============================] - 0s 11ms/step - loss: 0.0272 - accuracy: 0.9941 - val_loss: 0.4895 - val_accuracy: 0.8721\n",
      "Epoch 14/20\n",
      "30/30 [==============================] - 0s 11ms/step - loss: 0.0193 - accuracy: 0.9969 - val_loss: 0.5202 - val_accuracy: 0.8679\n",
      "Epoch 15/20\n",
      "30/30 [==============================] - 0s 12ms/step - loss: 0.0140 - accuracy: 0.9986 - val_loss: 0.5579 - val_accuracy: 0.8706\n",
      "Epoch 16/20\n",
      "30/30 [==============================] - 0s 11ms/step - loss: 0.0151 - accuracy: 0.9966 - val_loss: 0.5860 - val_accuracy: 0.8660\n",
      "Epoch 17/20\n",
      "30/30 [==============================] - 0s 11ms/step - loss: 0.0067 - accuracy: 0.9995 - val_loss: 0.6503 - val_accuracy: 0.8652\n",
      "Epoch 18/20\n",
      "30/30 [==============================] - 0s 11ms/step - loss: 0.0104 - accuracy: 0.9980 - val_loss: 0.6557 - val_accuracy: 0.8680\n",
      "Epoch 19/20\n",
      "30/30 [==============================] - 0s 11ms/step - loss: 0.0039 - accuracy: 0.9997 - val_loss: 0.6909 - val_accuracy: 0.8650\n",
      "Epoch 20/20\n",
      "30/30 [==============================] - 0s 11ms/step - loss: 0.0070 - accuracy: 0.9985 - val_loss: 0.7263 - val_accuracy: 0.8671\n"
     ]
    }
   ],
   "source": [
    "# 4-7 모델 훈련하기\n",
    "history = model.fit(partial_x_train,\n",
    "                   partial_y_train,\n",
    "                   epochs=20,\n",
    "                   batch_size=512,\n",
    "                   validation_data=(x_val, y_val))"
   ]
  },
  {
   "cell_type": "code",
   "execution_count": 128,
   "id": "daed9385-8482-4443-b64f-3b4a44a47397",
   "metadata": {},
   "outputs": [
    {
     "data": {
      "image/png": "[encoded data removed]",
      "text/plain": [
       "<Figure size 432x288 with 1 Axes>"
      ]
     },
     "metadata": {
      "needs_background": "light"
     },
     "output_type": "display_data"
    }
   ],
   "source": [
    "# 4-8 훈련과 검증 손실 그리기\n",
    "import matplotlib.pyplot as plt\n",
    "\n",
    "history_dict = history.history\n",
    "loss_values = history_dict[\"loss\"]\n",
    "val_loss_values = history_dict[\"val_loss\"]\n",
    "epochs = range(1, len(loss_values) + 1)\n",
    "plt.plot(epochs, loss_values, \"bo\", label=\"Training loss\")\n",
    "plt.plot(epochs, val_loss_values, \"b\", label=\"Validation loss\")\n",
    "plt.title(\"Training and validation loss\")\n",
    "plt.xlabel(\"Epochs\")\n",
    "plt.ylabel(\"Loss\")\n",
    "plt.legend()\n",
    "plt.show() "
   ]
  },
  {
   "cell_type": "code",
   "execution_count": 130,
   "id": "39142e23-be85-4f05-9707-1c0b717f8dea",
   "metadata": {},
   "outputs": [
    {
     "data": {
      "image/png": "[encoded data removed]",
      "text/plain": [
       "<Figure size 432x288 with 1 Axes>"
      ]
     },
     "metadata": {
      "needs_background": "light"
     },
     "output_type": "display_data"
    }
   ],
   "source": [
    "# 4-9 훈련과 검증 정확도 그리기\n",
    "plt.clf()  #그래프 초기화하기\n",
    "acc = history_dict[\"accuracy\"]\n",
    "val_acc = history_dict[\"val_accuracy\"]\n",
    "plt.plot(epochs, acc, \"bo\", label=\"Training acc\")\n",
    "plt.plot(epochs, val_acc, \"b\", label=\"Validation acc\")\n",
    "plt.title(\"Training and validation accuracy\")\n",
    "plt.xlabel(\"Epochs\")\n",
    "plt.ylabel(\"Accuracy\")\n",
    "plt.legend()\n",
    "plt.show() "
   ]
  },
  {
   "cell_type": "code",
   "execution_count": 131,
   "id": "d09b0ad0-be46-498d-96b4-d7f122e9c879",
   "metadata": {},
   "outputs": [
    {
     "name": "stdout",
     "output_type": "stream",
     "text": [
      "Epoch 1/4\n",
      "49/49 [==============================] - 1s 7ms/step - loss: 0.4546 - accuracy: 0.8192\n",
      "Epoch 2/4\n",
      "49/49 [==============================] - 0s 7ms/step - loss: 0.2600 - accuracy: 0.9092\n",
      "Epoch 3/4\n",
      "49/49 [==============================] - 0s 7ms/step - loss: 0.1992 - accuracy: 0.9281\n",
      "Epoch 4/4\n",
      "49/49 [==============================] - 0s 6ms/step - loss: 0.1676 - accuracy: 0.9400\n",
      "782/782 [==============================] - 1s 1ms/step - loss: 0.2915 - accuracy: 0.8838\n"
     ]
    }
   ],
   "source": [
    "# 4-10 모델 처음부터 다시 훈련하기\n",
    "model = keras.Sequential([\n",
    "    layers.Dense(16, activation=\"relu\"),\n",
    "    layers.Dense(16, activation=\"relu\"),\n",
    "    layers.Dense(1, activation=\"sigmoid\")\n",
    "])\n",
    "model.compile(optimizer=\"rmsprop\",\n",
    "             loss= \"binary_crossentropy\",\n",
    "             metrics=[\"accuracy\"])\n",
    "model.fit(x_train, y_train, epochs=4, batch_size=512)\n",
    "results= model.evaluate(x_test, y_test)"
   ]
  },
  {
   "cell_type": "code",
   "execution_count": 132,
   "id": "15c33fd7-4cad-4f14-83ad-32f4ef8036a6",
   "metadata": {},
   "outputs": [
    {
     "data": {
      "text/plain": [
       "[0.29147225618362427, 0.883840024471283]"
      ]
     },
     "execution_count": 132,
     "metadata": {},
     "output_type": "execute_result"
    }
   ],
   "source": [
    "results"
   ]
  },
  {
   "cell_type": "code",
   "execution_count": 137,
   "id": "be0cab8c-36cd-48f1-a385-86d9747c7bf4",
   "metadata": {},
   "outputs": [
    {
     "name": "stdout",
     "output_type": "stream",
     "text": [
      "782/782 [==============================] - 1s 1ms/step\n"
     ]
    },
    {
     "data": {
      "text/plain": [
       "array([[0.14412515],\n",
       "       [0.86868846],\n",
       "       [0.7969656 ],\n",
       "       ...,\n",
       "       [0.0685028 ],\n",
       "       [0.07720625],\n",
       "       [0.454675  ]], dtype=float32)"
      ]
     },
     "execution_count": 137,
     "metadata": {},
     "output_type": "execute_result"
    }
   ],
   "source": [
    "## 4.1.5 훈련괸 모델로 새로운 모델 데이터에 대해 예측하기\n",
    "model.predict(x_test)"
   ]
  },
  {
   "cell_type": "code",
   "execution_count": 138,
   "id": "f82a7f1d-4576-4948-931a-78a828d4ebe6",
   "metadata": {},
   "outputs": [
    {
     "name": "stdout",
     "output_type": "stream",
     "text": [
      "Epoch 1/4\n",
      "49/49 [==============================] - 1s 7ms/step - loss: 0.5710 - accuracy: 0.7732\n",
      "Epoch 2/4\n",
      "49/49 [==============================] - 0s 7ms/step - loss: 0.3714 - accuracy: 0.9032\n",
      "Epoch 3/4\n",
      "49/49 [==============================] - 0s 8ms/step - loss: 0.2687 - accuracy: 0.9246\n",
      "Epoch 4/4\n",
      "49/49 [==============================] - 0s 7ms/step - loss: 0.2089 - accuracy: 0.9405\n",
      "782/782 [==============================] - 1s 1ms/step - loss: 0.2892 - accuracy: 0.8856\n"
     ]
    }
   ],
   "source": [
    "# 4.1.6 추가 실험\n",
    "model = keras.Sequential([\n",
    "    layers.Dense(16, activation=\"relu\"),\n",
    "    layers.Dense(16, activation=\"relu\"),\n",
    "    layers.Dense(16, activation=\"sigmoid\"),\n",
    "    layers.Dense(1, activation=\"sigmoid\")\n",
    "])\n",
    "model.compile(optimizer=\"rmsprop\",\n",
    "             loss= \"binary_crossentropy\",\n",
    "             metrics=[\"accuracy\"])\n",
    "model.fit(x_train, y_train, epochs=4, batch_size=512)\n",
    "results= model.evaluate(x_test, y_test)"
   ]
  },
  {
   "cell_type": "code",
   "execution_count": 134,
   "id": "9135d382-cee8-4532-902c-4be7ffa30b40",
   "metadata": {},
   "outputs": [
    {
     "name": "stdout",
     "output_type": "stream",
     "text": [
      "782/782 [==============================] - 1s 1ms/step\n"
     ]
    },
    {
     "data": {
      "text/plain": [
       "array([[0.18781853],\n",
       "       [0.99966127],\n",
       "       [0.93145716],\n",
       "       ...,\n",
       "       [0.10167119],\n",
       "       [0.09031547],\n",
       "       [0.6937147 ]], dtype=float32)"
      ]
     },
     "execution_count": 134,
     "metadata": {},
     "output_type": "execute_result"
    }
   ],
   "source": [
    "model.predict(x_test)"
   ]
  },
  {
   "cell_type": "code",
   "execution_count": null,
   "id": "55d2d72d-b9c6-44f1-9c25-6310d119474f",
   "metadata": {},
   "outputs": [],
   "source": [
    "--------------------------------------------------------------------"
   ]
  },
  {
   "cell_type": "code",
   "execution_count": 196,
   "id": "c7a6b307-9c4b-4225-9dd1-d1ee0717c9f9",
   "metadata": {},
   "outputs": [
    {
     "name": "stdout",
     "output_type": "stream",
     "text": [
      "Epoch 1/4\n",
      "49/49 [==============================] - 1s 8ms/step - loss: 0.2026 - accuracy: 0.0014\n",
      "Epoch 2/4\n",
      "49/49 [==============================] - 0s 8ms/step - loss: 0.1195 - accuracy: 0.0069\n",
      "Epoch 3/4\n",
      "49/49 [==============================] - 0s 7ms/step - loss: 0.0760 - accuracy: 0.0177\n",
      "Epoch 4/4\n",
      "49/49 [==============================] - 0s 6ms/step - loss: 0.0553 - accuracy: 0.0175\n",
      "782/782 [==============================] - 1s 1ms/step - loss: 0.0853 - accuracy: 0.0396\n"
     ]
    }
   ],
   "source": [
    "# 추가 실험\n",
    "model = keras.Sequential([\n",
    "    layers.Dense(16, activation=\"relu\"),\n",
    "    layers.Dense(16, activation=\"relu\"),\n",
    "    layers.Dense(16, activation=\"sigmoid\")\n",
    "])\n",
    "model.compile(optimizer=\"rmsprop\",\n",
    "             loss= \"mse\",\n",
    "             metrics=[\"accuracy\"])\n",
    "model.fit(x_train, y_train, epochs=4, batch_size=512)\n",
    "results= model.evaluate(x_test, y_test)"
   ]
  },
  {
   "cell_type": "code",
   "execution_count": 198,
   "id": "8896abed-d6b5-4380-9c4c-020c814f53ef",
   "metadata": {},
   "outputs": [
    {
     "name": "stdout",
     "output_type": "stream",
     "text": [
      "782/782 [==============================] - 1s 1ms/step\n"
     ]
    },
    {
     "data": {
      "text/plain": [
       "array([[0.11089663, 0.20801573, 0.2257147 , ..., 0.19200131, 0.17532645,\n",
       "        0.3671135 ],\n",
       "       [0.9998887 , 0.9945678 , 0.99623424, ..., 0.9988367 , 0.9995341 ,\n",
       "        0.98586744],\n",
       "       [0.8990701 , 0.8685868 , 0.83329666, ..., 0.8363322 , 0.88568056,\n",
       "        0.7833717 ],\n",
       "       ...,\n",
       "       [0.1089908 , 0.22967966, 0.22134145, ..., 0.19848976, 0.1645035 ,\n",
       "        0.3499953 ],\n",
       "       [0.04948933, 0.13378988, 0.14681944, ..., 0.10411086, 0.08729872,\n",
       "        0.29989108],\n",
       "       [0.45273697, 0.47864285, 0.50110877, ..., 0.44762218, 0.45198393,\n",
       "        0.5372435 ]], dtype=float32)"
      ]
     },
     "execution_count": 198,
     "metadata": {},
     "output_type": "execute_result"
    }
   ],
   "source": [
    "model.predict(x_test)"
   ]
  },
  {
   "cell_type": "code",
   "execution_count": 200,
   "id": "ca5408dc-af73-4b8e-96fe-70907f39e42d",
   "metadata": {},
   "outputs": [
    {
     "name": "stdout",
     "output_type": "stream",
     "text": [
      "Epoch 1/4\n",
      "49/49 [==============================] - 2s 8ms/step - loss: 0.4149 - accuracy: 0.8361\n",
      "Epoch 2/4\n",
      "49/49 [==============================] - 0s 8ms/step - loss: 0.2329 - accuracy: 0.9145\n",
      "Epoch 3/4\n",
      "49/49 [==============================] - 1s 21ms/step - loss: 0.1785 - accuracy: 0.9355\n",
      "Epoch 4/4\n",
      "49/49 [==============================] - 0s 7ms/step - loss: 0.1453 - accuracy: 0.9484\n",
      "782/782 [==============================] - 1s 1ms/step - loss: 0.3490 - accuracy: 0.8714\n"
     ]
    }
   ],
   "source": [
    "# 추가 실험\n",
    "model = keras.Sequential([\n",
    "    layers.Dense(16, activation=\"tanh\"),\n",
    "    layers.Dense(16, activation=\"tanh\"),\n",
    "    layers.Dense(1, activation=\"sigmoid\")\n",
    "])\n",
    "model.compile(optimizer=\"rmsprop\",\n",
    "             loss= \"binary_crossentropy\",\n",
    "             metrics=[\"accuracy\"])\n",
    "model.fit(x_train, y_train, epochs=4, batch_size=512)\n",
    "results= model.evaluate(x_test, y_test)"
   ]
  },
  {
   "cell_type": "code",
   "execution_count": 201,
   "id": "29cb494d-9d13-440b-bafb-b52d08a7e409",
   "metadata": {},
   "outputs": [
    {
     "name": "stdout",
     "output_type": "stream",
     "text": [
      "782/782 [==============================] - 1s 1ms/step\n"
     ]
    },
    {
     "data": {
      "text/plain": [
       "array([[0.05411606],\n",
       "       [0.99772733],\n",
       "       [0.49085644],\n",
       "       ...,\n",
       "       [0.07179457],\n",
       "       [0.03109733],\n",
       "       [0.6514789 ]], dtype=float32)"
      ]
     },
     "execution_count": 201,
     "metadata": {},
     "output_type": "execute_result"
    }
   ],
   "source": [
    "model.predict(x_test)"
   ]
  },
  {
   "cell_type": "markdown",
   "id": "85f52da9-91b6-4e83-a84f-28a9bce8f434",
   "metadata": {},
   "source": [
    "# 4.2 뉴스기사분류: 다중 분류 문제\n",
    "- 다중 분류(multiclass classification)\n",
    "- 단일 레이블 다중 분류(single-label, multiclass classification)\n",
    "- 다중 레이블 다중 분류(multi-label, multiclass classification)"
   ]
  },
  {
   "cell_type": "code",
   "execution_count": 142,
   "id": "256c6b48-5866-4e1d-af59-98334a574d46",
   "metadata": {},
   "outputs": [],
   "source": [
    "##  4.2.1 로이터 데이터셋\n",
    "# 코드 4-11 로이터 데이터셋 로드하기\n",
    "from tensorflow.keras.datasets import reuters\n",
    "\n",
    "(train_data, train_labels), (test_data, test_labels) = reuters.load_data(num_words=10000)\n",
    "# 매개변수 데이터는 자주 등장하는 10000개로 제한"
   ]
  },
  {
   "cell_type": "code",
   "execution_count": 143,
   "id": "52af42d2-263b-42ed-afbb-f31c48afd927",
   "metadata": {},
   "outputs": [
    {
     "data": {
      "text/plain": [
       "8982"
      ]
     },
     "execution_count": 143,
     "metadata": {},
     "output_type": "execute_result"
    }
   ],
   "source": [
    "len(train_data)"
   ]
  },
  {
   "cell_type": "code",
   "execution_count": 144,
   "id": "ccbdceb3-6923-42ec-9773-675c210bb374",
   "metadata": {},
   "outputs": [
    {
     "data": {
      "text/plain": [
       "2246"
      ]
     },
     "execution_count": 144,
     "metadata": {},
     "output_type": "execute_result"
    }
   ],
   "source": [
    "len(test_data)"
   ]
  },
  {
   "cell_type": "code",
   "execution_count": 145,
   "id": "cb977116-b0ca-4e2b-af64-c5938237bfd2",
   "metadata": {
    "collapsed": true,
    "jupyter": {
     "outputs_hidden": true
    },
    "tags": []
   },
   "outputs": [
    {
     "data": {
      "text/plain": [
       "[1,\n",
       " 245,\n",
       " 273,\n",
       " 207,\n",
       " 156,\n",
       " 53,\n",
       " 74,\n",
       " 160,\n",
       " 26,\n",
       " 14,\n",
       " 46,\n",
       " 296,\n",
       " 26,\n",
       " 39,\n",
       " 74,\n",
       " 2979,\n",
       " 3554,\n",
       " 14,\n",
       " 46,\n",
       " 4689,\n",
       " 4329,\n",
       " 86,\n",
       " 61,\n",
       " 3499,\n",
       " 4795,\n",
       " 14,\n",
       " 61,\n",
       " 451,\n",
       " 4329,\n",
       " 17,\n",
       " 12]"
      ]
     },
     "execution_count": 145,
     "metadata": {},
     "output_type": "execute_result"
    }
   ],
   "source": [
    "# 정수 리스트(단어 인덱스)\n",
    "train_data[10]"
   ]
  },
  {
   "cell_type": "code",
   "execution_count": 146,
   "id": "751379e4-3900-48df-9659-ab5165c99d4e",
   "metadata": {},
   "outputs": [],
   "source": [
    "# 코드 4-12 로이터 데이터 셋을 텍스트로 디코딩\n",
    "word_index = reuters.get_word_index()\n",
    "reverse_word_index = dict(\n",
    "    [(value, key) for (key, value) in word_index.items()])\n",
    "decoded_newswire = \" \".join(\n",
    "    [reverse_word_index.get(i-3, \"?\") for i in train_data[0]])"
   ]
  },
  {
   "cell_type": "code",
   "execution_count": 147,
   "id": "974d3900-9bcc-4c18-85e3-2c5adc3cf6d4",
   "metadata": {},
   "outputs": [
    {
     "data": {
      "text/plain": [
       "3"
      ]
     },
     "execution_count": 147,
     "metadata": {},
     "output_type": "execute_result"
    }
   ],
   "source": [
    "train_labels[0]"
   ]
  },
  {
   "cell_type": "code",
   "execution_count": 148,
   "id": "ea5267a2-857d-47f4-b7eb-67c230193d7a",
   "metadata": {},
   "outputs": [],
   "source": [
    "## 4.2.2 데이터 준비\n",
    "# 데이터를 벡터로 변환\n",
    "# 코드 4-13 데이터 인코딩하기\n",
    "x_train =vectorize_sequences(train_data)\n",
    "x_test =vectorize_sequences(test_data)"
   ]
  },
  {
   "cell_type": "code",
   "execution_count": null,
   "id": "43191f9e-72f9-42d8-95f7-ac1606feec3e",
   "metadata": {},
   "outputs": [],
   "source": [
    "# 레이블을 벡터로 바꾸는 방법2\n",
    "- 1. 레이블 리스트를 정수 텐서로 변환\n",
    "- 2. 원-핫 인코딩\n",
    "- 원-핫인코딩은 각 레이블의 인덱스 자리는 1이고 나머지는 모두 0인 벡터"
   ]
  },
  {
   "cell_type": "code",
   "execution_count": 150,
   "id": "29c72a94-0dbb-4f26-83cc-e324e6bf22b4",
   "metadata": {},
   "outputs": [],
   "source": [
    "# 코드 4-14 레이블 인코딩하기\n",
    "def to_one_hot(labels, dimension=46):\n",
    "    results = np.zeros((len(labels), dimension))\n",
    "    for i, label in enumerate(labels):\n",
    "        results[i, label] = 1.\n",
    "    return results\n",
    "y_train = to_one_hot(train_labels)\n",
    "y_test = to_one_hot(test_labels) "
   ]
  },
  {
   "cell_type": "code",
   "execution_count": 151,
   "id": "ba96a234-89de-452f-9eb4-7c5bcb65e5d9",
   "metadata": {},
   "outputs": [],
   "source": [
    "# 케라스 내장함수\n",
    "from keras.utils.np_utils import to_categorical\n",
    "\n",
    "y_train = to_categorical(train_labels)\n",
    "y_test = to_categorical(test_labels)"
   ]
  },
  {
   "cell_type": "code",
   "execution_count": 152,
   "id": "d233b4e0-b65f-415c-a44b-1a6327aebfe3",
   "metadata": {},
   "outputs": [],
   "source": [
    "## 4.2.3 모델 구성\n",
    "# 코드 4-15 모델 정의\n",
    "model= keras.Sequential([\n",
    "    layers.Dense(64, activation=\"relu\"),\n",
    "    layers.Dense(64, activation=\"relu\"),\n",
    "    layers.Dense(46, activation=\"softmax\"),\n",
    "])"
   ]
  },
  {
   "cell_type": "code",
   "execution_count": null,
   "id": "e11e6157-e3bb-4a27-812d-5d6e2227a473",
   "metadata": {},
   "outputs": [],
   "source": [
    "# 주의\n",
    "- 마지막 Dense층의 크기가 46: 각 입력 샘플에 대해 46차원의 벡터를 출력한다. 이 벡터의 각 원소(각 차원)는 각기 다른 출력 클래스가 인코딩 된 것\n",
    "- 마지막 층에 softmax활성화 함수가 사용. 46차원의 출력 벡터를 만들며 output[i]는 어떤 샘플이 클래스 i에 속할 확률. 46개의 값을 모두 더하면 1이 됨"
   ]
  },
  {
   "cell_type": "code",
   "execution_count": null,
   "id": "3dde828b-0fc5-400a-a75a-e09715af0878",
   "metadata": {},
   "outputs": [],
   "source": [
    "# categorical_crossentropy(손실함수)는 두 확률 분포 사이의 거리를 측정한다.\n",
    "모델이 출력한 확률 분포와 진짜 레이블의 분포 사이의 거리\n",
    "두 분포 사시의 거리를 최소화 함으로써 진짜 레이블에 가까운 출력물을 내도록 훈련한다."
   ]
  },
  {
   "cell_type": "code",
   "execution_count": 154,
   "id": "53325bf5-41df-4937-90db-cf7db236770e",
   "metadata": {},
   "outputs": [],
   "source": [
    "# 코드 4-16 모델 컴파일 하기\n",
    "model.compile(optimizer = \"rmsprop\",\n",
    "             loss =\"categorical_crossentropy\",\n",
    "             metrics=[\"accuracy\"])"
   ]
  },
  {
   "cell_type": "code",
   "execution_count": 155,
   "id": "120bda85-848d-4271-9a9f-01722a728a4d",
   "metadata": {},
   "outputs": [],
   "source": [
    "## 4.2.4 훈련 검증\n",
    "# 코드 4-17 검증 세트 준비하기\n",
    "x_val = x_train[:1000]\n",
    "partial_x_train = x_train[1000:]\n",
    "y_val = y_train[:1000]\n",
    "partial_y_train = y_train[1000:]"
   ]
  },
  {
   "cell_type": "code",
   "execution_count": 157,
   "id": "08108d40-63db-407d-b3c1-81286e0cbc7f",
   "metadata": {
    "collapsed": true,
    "jupyter": {
     "outputs_hidden": true
    },
    "tags": []
   },
   "outputs": [
    {
     "name": "stdout",
     "output_type": "stream",
     "text": [
      "Epoch 1/20\n",
      "16/16 [==============================] - 1s 24ms/step - loss: 2.5893 - accuracy: 0.4286 - val_loss: 1.7236 - val_accuracy: 0.6200\n",
      "Epoch 2/20\n",
      "16/16 [==============================] - 0s 14ms/step - loss: 1.4146 - accuracy: 0.7042 - val_loss: 1.2978 - val_accuracy: 0.7170\n",
      "Epoch 3/20\n",
      "16/16 [==============================] - 0s 14ms/step - loss: 1.0521 - accuracy: 0.7780 - val_loss: 1.1356 - val_accuracy: 0.7570\n",
      "Epoch 4/20\n",
      "16/16 [==============================] - 0s 15ms/step - loss: 0.8375 - accuracy: 0.8211 - val_loss: 1.0428 - val_accuracy: 0.7820\n",
      "Epoch 5/20\n",
      "16/16 [==============================] - 0s 14ms/step - loss: 0.6750 - accuracy: 0.8574 - val_loss: 0.9843 - val_accuracy: 0.7810\n",
      "Epoch 6/20\n",
      "16/16 [==============================] - 0s 13ms/step - loss: 0.5417 - accuracy: 0.8874 - val_loss: 0.9439 - val_accuracy: 0.7900\n",
      "Epoch 7/20\n",
      "16/16 [==============================] - 0s 13ms/step - loss: 0.4351 - accuracy: 0.9080 - val_loss: 0.9073 - val_accuracy: 0.8050\n",
      "Epoch 8/20\n",
      "16/16 [==============================] - 0s 15ms/step - loss: 0.3547 - accuracy: 0.9250 - val_loss: 0.8971 - val_accuracy: 0.8100\n",
      "Epoch 9/20\n",
      "16/16 [==============================] - 0s 14ms/step - loss: 0.2943 - accuracy: 0.9370 - val_loss: 0.9147 - val_accuracy: 0.8070\n",
      "Epoch 10/20\n",
      "16/16 [==============================] - 0s 14ms/step - loss: 0.2454 - accuracy: 0.9444 - val_loss: 0.9169 - val_accuracy: 0.8150\n",
      "Epoch 11/20\n",
      "16/16 [==============================] - 0s 13ms/step - loss: 0.2090 - accuracy: 0.9495 - val_loss: 0.9162 - val_accuracy: 0.8150\n",
      "Epoch 12/20\n",
      "16/16 [==============================] - 0s 14ms/step - loss: 0.1881 - accuracy: 0.9503 - val_loss: 0.9262 - val_accuracy: 0.8120\n",
      "Epoch 13/20\n",
      "16/16 [==============================] - 0s 14ms/step - loss: 0.1654 - accuracy: 0.9529 - val_loss: 0.9650 - val_accuracy: 0.8100\n",
      "Epoch 14/20\n",
      "16/16 [==============================] - 0s 14ms/step - loss: 0.1524 - accuracy: 0.9543 - val_loss: 0.9996 - val_accuracy: 0.8030\n",
      "Epoch 15/20\n",
      "16/16 [==============================] - 0s 13ms/step - loss: 0.1434 - accuracy: 0.9554 - val_loss: 0.9975 - val_accuracy: 0.8030\n",
      "Epoch 16/20\n",
      "16/16 [==============================] - 0s 13ms/step - loss: 0.1330 - accuracy: 0.9558 - val_loss: 1.0395 - val_accuracy: 0.7950\n",
      "Epoch 17/20\n",
      "16/16 [==============================] - 0s 15ms/step - loss: 0.1232 - accuracy: 0.9567 - val_loss: 1.0157 - val_accuracy: 0.8100\n",
      "Epoch 18/20\n",
      "16/16 [==============================] - 0s 14ms/step - loss: 0.1195 - accuracy: 0.9583 - val_loss: 1.1045 - val_accuracy: 0.7970\n",
      "Epoch 19/20\n",
      "16/16 [==============================] - 0s 14ms/step - loss: 0.1186 - accuracy: 0.9554 - val_loss: 1.0579 - val_accuracy: 0.8030\n",
      "Epoch 20/20\n",
      "16/16 [==============================] - 0s 13ms/step - loss: 0.1102 - accuracy: 0.9572 - val_loss: 1.1272 - val_accuracy: 0.7960\n"
     ]
    }
   ],
   "source": [
    "# 코드 4-18 모델 훈련\n",
    "history = model.fit(partial_x_train,\n",
    "                    partial_y_train,\n",
    "                    epochs=20,\n",
    "                    batch_size = 512,\n",
    "                    validation_data=(x_val, y_val))"
   ]
  },
  {
   "cell_type": "code",
   "execution_count": 158,
   "id": "7918c5f7-849d-447e-80a1-cc5dba5d84f0",
   "metadata": {},
   "outputs": [
    {
     "data": {
      "image/png": "[encoded data removed]",
      "text/plain": [
       "<Figure size 432x288 with 1 Axes>"
      ]
     },
     "metadata": {
      "needs_background": "light"
     },
     "output_type": "display_data"
    }
   ],
   "source": [
    "# 코드 4-19 훈련 검증 손실 그리기\n",
    "loss = history.history[\"loss\"]\n",
    "val_loss = history.history[\"val_loss\"]\n",
    "epochs = range(1, len(loss)+1)\n",
    "plt.plot(epochs, loss, \"bo\", label = \"Training loss\")\n",
    "plt.plot(epochs, val_loss, \"b\", label= \"Validation loss\")\n",
    "plt.title(\"Training and Validation loss\")\n",
    "plt.xlabel(\"Epochs\")\n",
    "plt.ylabel(\"Loss\")\n",
    "plt.legend()\n",
    "plt.show()"
   ]
  },
  {
   "cell_type": "code",
   "execution_count": 159,
   "id": "1ac2cb10-7104-420d-a7df-1b124505c7a1",
   "metadata": {},
   "outputs": [
    {
     "data": {
      "image/png": "[encoded data removed]",
      "text/plain": [
       "<Figure size 432x288 with 1 Axes>"
      ]
     },
     "metadata": {
      "needs_background": "light"
     },
     "output_type": "display_data"
    }
   ],
   "source": [
    "# 코드 4-20 훈련과 검증 정확도 그리기\n",
    "plt.clf()# 그래프 초기화\n",
    "acc = history.history[\"accuracy\"]\n",
    "val_acc= history.history[\"val_accuracy\"]\n",
    "plt.plot(epochs, acc, \"bo\", label = \"Training accuracy\")\n",
    "plt.plot(epochs, val_acc, \"b\", label = \"Validation accuracy\")\n",
    "plt.title(\"Training and Validation loss\")\n",
    "plt.xlabel(\"Epochs\")\n",
    "plt.ylabel(\"Loss\")\n",
    "plt.legend()\n",
    "plt.show()"
   ]
  },
  {
   "cell_type": "code",
   "execution_count": 163,
   "id": "b34a18a7-0665-4a13-9766-560974a27bde",
   "metadata": {
    "tags": []
   },
   "outputs": [
    {
     "name": "stdout",
     "output_type": "stream",
     "text": [
      "Epoch 1/9\n",
      "18/18 [==============================] - 1s 12ms/step - loss: 2.5326 - accuracy: 0.5196\n",
      "Epoch 2/9\n",
      "18/18 [==============================] - 0s 11ms/step - loss: 1.3502 - accuracy: 0.7149\n",
      "Epoch 3/9\n",
      "18/18 [==============================] - 0s 11ms/step - loss: 0.9858 - accuracy: 0.7927\n",
      "Epoch 4/9\n",
      "18/18 [==============================] - 0s 12ms/step - loss: 0.7620 - accuracy: 0.8432\n",
      "Epoch 5/9\n",
      "18/18 [==============================] - 0s 12ms/step - loss: 0.5963 - accuracy: 0.8774\n",
      "Epoch 6/9\n",
      "18/18 [==============================] - 0s 12ms/step - loss: 0.4737 - accuracy: 0.9058\n",
      "Epoch 7/9\n",
      "18/18 [==============================] - 0s 12ms/step - loss: 0.3774 - accuracy: 0.9204\n",
      "Epoch 8/9\n",
      "18/18 [==============================] - 0s 11ms/step - loss: 0.3115 - accuracy: 0.9324\n",
      "Epoch 9/9\n",
      "18/18 [==============================] - 0s 11ms/step - loss: 0.2593 - accuracy: 0.9398\n",
      "71/71 [==============================] - 0s 1ms/step - loss: 0.9811 - accuracy: 0.7867\n"
     ]
    }
   ],
   "source": [
    "# 4-21 모델을 처음부터 다시 훈련\n",
    "model= keras.Sequential([\n",
    "    layers.Dense(64, activation=\"relu\"),\n",
    "    layers.Dense(64, activation=\"relu\"),\n",
    "    layers.Dense(46, activation=\"softmax\"),\n",
    "])\n",
    "\n",
    "model.compile(optimizer = \"rmsprop\",\n",
    "             loss =\"categorical_crossentropy\",\n",
    "             metrics=[\"accuracy\"])\n",
    "\n",
    "model.fit(x_train,\n",
    "          y_train,\n",
    "          epochs=9,\n",
    "          batch_size = 512)\n",
    "results = model.evaluate(x_test, y_test)"
   ]
  },
  {
   "cell_type": "code",
   "execution_count": 164,
   "id": "8609d312-b7f9-49f7-b742-9b444480cea6",
   "metadata": {},
   "outputs": [
    {
     "data": {
      "text/plain": [
       "[0.9810807108879089, 0.7867319583892822]"
      ]
     },
     "execution_count": 164,
     "metadata": {},
     "output_type": "execute_result"
    }
   ],
   "source": [
    "results "
   ]
  },
  {
   "cell_type": "code",
   "execution_count": 166,
   "id": "86b276ca-cc2b-4faa-bf51-2d7c23445ff8",
   "metadata": {},
   "outputs": [
    {
     "data": {
      "text/plain": [
       "0.18699910952804988"
      ]
     },
     "execution_count": 166,
     "metadata": {},
     "output_type": "execute_result"
    }
   ],
   "source": [
    "# 랜덤한 분류기를 사용해 예측\n",
    "import copy \n",
    "test_labels_copy = copy.copy(test_labels)\n",
    "np.random.shuffle(test_labels_copy)\n",
    "hits_array = np.array(test_labels) == np.array(test_labels_copy)\n",
    "hits_array.mean()"
   ]
  },
  {
   "cell_type": "code",
   "execution_count": 168,
   "id": "9fa45afd-c9d1-4755-98a5-4689e55fee62",
   "metadata": {},
   "outputs": [
    {
     "name": "stdout",
     "output_type": "stream",
     "text": [
      "71/71 [==============================] - 0s 1ms/step\n"
     ]
    },
    {
     "data": {
      "text/plain": [
       "(46,)"
      ]
     },
     "execution_count": 168,
     "metadata": {},
     "output_type": "execute_result"
    }
   ],
   "source": [
    "## 4.2.5 새로운 데이터에 대해 예측\n",
    "predictions = model.predict(x_test)\n",
    "predictions[0].shape"
   ]
  },
  {
   "cell_type": "code",
   "execution_count": 169,
   "id": "49107fa8-5358-48fb-846d-da1318162d2f",
   "metadata": {},
   "outputs": [
    {
     "data": {
      "text/plain": [
       "1.0"
      ]
     },
     "execution_count": 169,
     "metadata": {},
     "output_type": "execute_result"
    }
   ],
   "source": [
    "np.sum(predictions[0])"
   ]
  },
  {
   "cell_type": "code",
   "execution_count": 170,
   "id": "7321828f-1482-4e89-89fd-b42378609e2b",
   "metadata": {},
   "outputs": [
    {
     "data": {
      "text/plain": [
       "3"
      ]
     },
     "execution_count": 170,
     "metadata": {},
     "output_type": "execute_result"
    }
   ],
   "source": [
    "np.argmax(predictions[0])"
   ]
  },
  {
   "cell_type": "code",
   "execution_count": 172,
   "id": "43107ffe-ff06-47bb-a3e4-0e87ae5f5298",
   "metadata": {},
   "outputs": [],
   "source": [
    "## 4.2.6 레이블과 손실을 다루는 다른 방법\n",
    "# 정수 텐서로 변환\n",
    "y_train= np.array(train_labels)\n",
    "y_test = np.array(test_labels)\n",
    "\n",
    "model.compile(optimizer=\"rmsprop\",\n",
    "             loss= \"sparse_categorical_crossentropy\",\n",
    "             metrics=[\"accuracy\"])"
   ]
  },
  {
   "cell_type": "code",
   "execution_count": 180,
   "id": "1a052687-fd81-4b95-b2f6-7b4154c0996f",
   "metadata": {},
   "outputs": [
    {
     "name": "stdout",
     "output_type": "stream",
     "text": [
      "Epoch 1/20\n",
      "63/63 [==============================] - 1s 9ms/step - loss: 3.4153 - accuracy: 0.0890 - val_loss: 2.8315 - val_accuracy: 0.4470\n",
      "Epoch 2/20\n",
      "63/63 [==============================] - 0s 8ms/step - loss: 2.1823 - accuracy: 0.5763 - val_loss: 1.7683 - val_accuracy: 0.5990\n",
      "Epoch 3/20\n",
      "63/63 [==============================] - 0s 7ms/step - loss: 1.5335 - accuracy: 0.6348 - val_loss: 1.4599 - val_accuracy: 0.6380\n",
      "Epoch 4/20\n",
      "63/63 [==============================] - 0s 6ms/step - loss: 1.2608 - accuracy: 0.6716 - val_loss: 1.3460 - val_accuracy: 0.6650\n",
      "Epoch 5/20\n",
      "63/63 [==============================] - 0s 7ms/step - loss: 1.0904 - accuracy: 0.7367 - val_loss: 1.2749 - val_accuracy: 0.6960\n",
      "Epoch 6/20\n",
      "63/63 [==============================] - 0s 6ms/step - loss: 0.9713 - accuracy: 0.7660 - val_loss: 1.2499 - val_accuracy: 0.7060\n",
      "Epoch 7/20\n",
      "63/63 [==============================] - 0s 7ms/step - loss: 0.8822 - accuracy: 0.7836 - val_loss: 1.2344 - val_accuracy: 0.7130\n",
      "Epoch 8/20\n",
      "63/63 [==============================] - 0s 7ms/step - loss: 0.8085 - accuracy: 0.8013 - val_loss: 1.2447 - val_accuracy: 0.7190\n",
      "Epoch 9/20\n",
      "63/63 [==============================] - 0s 7ms/step - loss: 0.7478 - accuracy: 0.8157 - val_loss: 1.2599 - val_accuracy: 0.7260\n",
      "Epoch 10/20\n",
      "63/63 [==============================] - 0s 7ms/step - loss: 0.6923 - accuracy: 0.8265 - val_loss: 1.2731 - val_accuracy: 0.7240\n",
      "Epoch 11/20\n",
      "63/63 [==============================] - 0s 7ms/step - loss: 0.6460 - accuracy: 0.8384 - val_loss: 1.3537 - val_accuracy: 0.7200\n",
      "Epoch 12/20\n",
      "63/63 [==============================] - 0s 8ms/step - loss: 0.6074 - accuracy: 0.8458 - val_loss: 1.3589 - val_accuracy: 0.7150\n",
      "Epoch 13/20\n",
      "63/63 [==============================] - 0s 7ms/step - loss: 0.5736 - accuracy: 0.8532 - val_loss: 1.3876 - val_accuracy: 0.7260\n",
      "Epoch 14/20\n",
      "63/63 [==============================] - 0s 7ms/step - loss: 0.5451 - accuracy: 0.8584 - val_loss: 1.4087 - val_accuracy: 0.7320\n",
      "Epoch 15/20\n",
      "63/63 [==============================] - 0s 7ms/step - loss: 0.5190 - accuracy: 0.8644 - val_loss: 1.4648 - val_accuracy: 0.7280\n",
      "Epoch 16/20\n",
      "63/63 [==============================] - 0s 8ms/step - loss: 0.4956 - accuracy: 0.8717 - val_loss: 1.5207 - val_accuracy: 0.7290\n",
      "Epoch 17/20\n",
      "63/63 [==============================] - 0s 7ms/step - loss: 0.4762 - accuracy: 0.8702 - val_loss: 1.5687 - val_accuracy: 0.7250\n",
      "Epoch 18/20\n",
      "63/63 [==============================] - 0s 7ms/step - loss: 0.4556 - accuracy: 0.8753 - val_loss: 1.6288 - val_accuracy: 0.7240\n",
      "Epoch 19/20\n",
      "63/63 [==============================] - 0s 6ms/step - loss: 0.4398 - accuracy: 0.8777 - val_loss: 1.6922 - val_accuracy: 0.7260\n",
      "Epoch 20/20\n",
      "63/63 [==============================] - 0s 7ms/step - loss: 0.4226 - accuracy: 0.8824 - val_loss: 1.7746 - val_accuracy: 0.7250\n"
     ]
    }
   ],
   "source": [
    "## 4.2.7 충분히 큰 중간층을 두어야 하는 이유\n",
    "# 병목이 나타남\n",
    "model = keras.Sequential([\n",
    "    layers.Dense(units=64, activation='relu'),\n",
    "    layers.Dense(units=4, activation='relu'),\n",
    "    layers.Dense(units=46, activation='softmax'),\n",
    "])\n",
    "# 모델 컴파일 4-16\n",
    "model.compile(optimizer = 'rmsprop',\n",
    "             loss = 'categorical_crossentropy',\n",
    "             metrics='accuracy')\n",
    "\n",
    "history = model.fit(partial_x_train, partial_y_train,\n",
    "          epochs=20, batch_size =128,\n",
    "          validation_data=(x_val, y_val))"
   ]
  },
  {
   "cell_type": "code",
   "execution_count": null,
   "id": "7da33161-b00b-4fc2-bd7b-e7d567c4d944",
   "metadata": {},
   "outputs": [],
   "source": []
  }
 ],
 "metadata": {
  "kernelspec": {
   "display_name": "Python 3 (ipykernel)",
   "language": "python",
   "name": "python3"
  },
  "language_info": {
   "codemirror_mode": {
    "name": "ipython",
    "version": 3
   },
   "file_extension": ".py",
   "mimetype": "text/x-python",
   "name": "python",
   "nbconvert_exporter": "python",
   "pygments_lexer": "ipython3",
   "version": "3.9.12"
  }
 },
 "nbformat": 4,
 "nbformat_minor": 5
}
