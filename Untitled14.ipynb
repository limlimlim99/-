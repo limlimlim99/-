{
 "cells": [
  {
   "cell_type": "code",
   "execution_count": 3,
   "id": "63e22f12-29ec-4462-bdef-996fe2b0f8e7",
   "metadata": {},
   "outputs": [
    {
     "data": {
      "text/plain": [
       "array([[  1,   2,   3,   4,   5],\n",
       "       [  5,  10,  15,  20,  25],\n",
       "       [ 10,  20,  30,  40,  50],\n",
       "       [ 15,  30,  45,  60,  75],\n",
       "       [ 20,  40,  60,  80, 100]])"
      ]
     },
     "execution_count": 3,
     "metadata": {},
     "output_type": "execute_result"
    }
   ],
   "source": [
    "import numpy as np\n",
    "a=np.arange(1,6)\n",
    "array=a.copy()\n",
    "for i in range(4):\n",
    "    i+=1\n",
    "    array=np.vstack((array,a*5*i))\n",
    "\n",
    "array"
   ]
  },
  {
   "cell_type": "code",
   "execution_count": 4,
   "id": "de9bbcda-cce7-4cc7-a5d7-80a88c31be66",
   "metadata": {},
   "outputs": [
    {
     "data": {
      "text/plain": [
       "array([[ 1,  2,  3,  4,  5,  6],\n",
       "       [11, 12, 13, 14, 15, 16],\n",
       "       [21, 22, 23, 24, 25, 26],\n",
       "       [31, 32, 33, 34, 35, 36],\n",
       "       [41, 42, 43, 44, 45, 46],\n",
       "       [51, 52, 53, 54, 55, 56]])"
      ]
     },
     "execution_count": 4,
     "metadata": {},
     "output_type": "execute_result"
    }
   ],
   "source": [
    "a=np.arange(0,6)\n",
    "b=np.arange(1,52,10).reshape(6,-1)\n",
    "a+b"
   ]
  },
  {
   "cell_type": "code",
   "execution_count": 11,
   "id": "a257e7da-1422-46ad-8a9c-a3826a84fbcd",
   "metadata": {},
   "outputs": [
    {
     "data": {
      "text/plain": [
       "array([[ 0,  1,  2,  4,  5,  7,  8],\n",
       "       [10, 11, 12, 14, 15, 17, 18],\n",
       "       [20, 21, 22, 24, 25, 27, 28],\n",
       "       [40, 41, 42, 44, 45, 47, 48],\n",
       "       [50, 51, 52, 54, 55, 57, 58],\n",
       "       [70, 71, 72, 74, 75, 77, 78],\n",
       "       [80, 81, 82, 84, 85, 87, 88]])"
      ]
     },
     "execution_count": 11,
     "metadata": {},
     "output_type": "execute_result"
    }
   ],
   "source": [
    "a=np.array([0,1,2,4,5,7,8])\n",
    "b=np.array([[0],[10],[20],[40],[50],[70],[80]])\n",
    "\n",
    "c=a+b\n",
    "c"
   ]
  },
  {
   "cell_type": "code",
   "execution_count": 12,
   "id": "ced17c8f-9421-48cd-8e69-00885d55f139",
   "metadata": {},
   "outputs": [
    {
     "data": {
      "text/plain": [
       "array([[0, 1, 0, 0, 1, 1, 0],\n",
       "       [0, 1, 0, 0, 1, 1, 0],\n",
       "       [0, 1, 0, 0, 1, 1, 0],\n",
       "       [0, 1, 0, 0, 1, 1, 0],\n",
       "       [0, 1, 0, 0, 1, 1, 0],\n",
       "       [0, 1, 0, 0, 1, 1, 0],\n",
       "       [0, 1, 0, 0, 1, 1, 0]])"
      ]
     },
     "execution_count": 12,
     "metadata": {},
     "output_type": "execute_result"
    }
   ],
   "source": [
    "c1=np.where(c%2==0,0,1)\n",
    "c1"
   ]
  },
  {
   "cell_type": "code",
   "execution_count": 13,
   "id": "91f3ce9a-aca0-4c3d-89c7-8c42b52cd4c9",
   "metadata": {},
   "outputs": [
    {
     "data": {
      "text/plain": [
       "21"
      ]
     },
     "execution_count": 13,
     "metadata": {},
     "output_type": "execute_result"
    }
   ],
   "source": [
    "np.sum(c1)\n"
   ]
  },
  {
   "cell_type": "code",
   "execution_count": 14,
   "id": "e0133ded-efa8-4d13-9e80-cbf5f5e375f6",
   "metadata": {},
   "outputs": [],
   "source": [
    "import datetime"
   ]
  },
  {
   "cell_type": "code",
   "execution_count": 15,
   "id": "01154c3c-36ad-4cc5-947a-55b39952ab50",
   "metadata": {},
   "outputs": [],
   "source": [
    "today=datetime.datetime.now()"
   ]
  },
  {
   "cell_type": "code",
   "execution_count": 16,
   "id": "4150321f-4914-43d3-a87a-6f2a1920a1ff",
   "metadata": {},
   "outputs": [
    {
     "data": {
      "text/plain": [
       "datetime.timedelta(days=101, seconds=18834, microseconds=463159)"
      ]
     },
     "execution_count": 16,
     "metadata": {},
     "output_type": "execute_result"
    }
   ],
   "source": [
    "new_year=datetime.datetime(2023,1,1)\n",
    "new_year-today"
   ]
  },
  {
   "cell_type": "code",
   "execution_count": 18,
   "id": "7491e492-2b81-45c9-bc0c-03981f49bf48",
   "metadata": {},
   "outputs": [
    {
     "ename": "NameError",
     "evalue": "name 'mpg' is not defined",
     "output_type": "error",
     "traceback": [
      "\u001b[1;31m---------------------------------------------------------------------------\u001b[0m",
      "\u001b[1;31mNameError\u001b[0m                                 Traceback (most recent call last)",
      "Input \u001b[1;32mIn [18]\u001b[0m, in \u001b[0;36m<cell line: 2>\u001b[1;34m()\u001b[0m\n\u001b[0;32m      1\u001b[0m \u001b[38;5;28;01mimport\u001b[39;00m \u001b[38;5;21;01mpandas\u001b[39;00m \u001b[38;5;28;01mas\u001b[39;00m \u001b[38;5;21;01mpd\u001b[39;00m\n\u001b[1;32m----> 2\u001b[0m manu\u001b[38;5;241m=\u001b[39mpd\u001b[38;5;241m.\u001b[39mDataFrame(\u001b[43mmpg\u001b[49m[\u001b[38;5;124m'\u001b[39m\u001b[38;5;124mmaunfacture\u001b[39m\u001b[38;5;124m'\u001b[39m]\u001b[38;5;241m.\u001b[39mvalue_counts())\n\u001b[0;32m      3\u001b[0m manu\n",
      "\u001b[1;31mNameError\u001b[0m: name 'mpg' is not defined"
     ]
    }
   ],
   "source": [
    "import pandas as pd\n",
    "manu=pd.DataFrame(mpg['maunfacture'].value_counts())\n",
    "manu"
   ]
  },
  {
   "cell_type": "code",
   "execution_count": null,
   "id": "834ea546-fc4d-4fbc-b8ef-a3fa20f82b63",
   "metadata": {},
   "outputs": [],
   "source": []
  }
 ],
 "metadata": {
  "kernelspec": {
   "display_name": "Python 3 (ipykernel)",
   "language": "python",
   "name": "python3"
  },
  "language_info": {
   "codemirror_mode": {
    "name": "ipython",
    "version": 3
   },
   "file_extension": ".py",
   "mimetype": "text/x-python",
   "name": "python",
   "nbconvert_exporter": "python",
   "pygments_lexer": "ipython3",
   "version": "3.9.12"
  }
 },
 "nbformat": 4,
 "nbformat_minor": 5
}
