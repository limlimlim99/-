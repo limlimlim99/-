{
  "nbformat": 4,
  "nbformat_minor": 0,
  "metadata": {
    "colab": {
      "provenance": [],
      "mount_file_id": "1tkC5jWLQYRRnOPqGR3EAO4PjoY6KQpHs",
      "authorship_tag": "ABX9TyOZEgI0QqVyHasOKKt2mHdw",
      "include_colab_link": true
    },
    "kernelspec": {
      "name": "python3",
      "display_name": "Python 3"
    },
    "language_info": {
      "name": "python"
    }
  },
  "cells": [
    {
      "cell_type": "markdown",
      "metadata": {
        "id": "view-in-github",
        "colab_type": "text"
      },
      "source": [
        "<a href=\"https://colab.research.google.com/github/limlimlim99/limjihyeonjjang/blob/main/%ED%86%B5%EA%B3%84/%EB%AF%B8%EC%A0%81%EB%B6%84.ipynb\" target=\"_parent\"><img src=\"https://colab.research.google.com/assets/colab-badge.svg\" alt=\"Open In Colab\"/></a>"
      ]
    },
    {
      "cell_type": "code",
      "execution_count": null,
      "metadata": {
        "id": "V7EiWio9n2PH"
      },
      "outputs": [],
      "source": [
        "import matplotlib.pyplot as plt\n",
        "\n",
        "import numpy as np\n",
        "import scipy as sp\n",
        "import pandas as pd\n",
        "import statsmodels.api as sm\n",
        "import sklearn as sk\n",
        "import matplotlib as mpl\n",
        "\n",
        "# mpl.rc('font', family='Malgun Gothic') #한글폰트 설정\n",
        "# mpl.rcParmas['axes.unocode_minus'] = False #마이너스 단위 처리"
      ]
    },
    {
      "cell_type": "markdown",
      "source": [
        "## 미분\n",
        "\n",
        "최적화를 하기 위해서는 입력값이 변했을 때 함수의 출력값이 어떻게 달라지는지를 정량적으로 알아야 하며 이러한 과정이 미분이다.\n",
        "\n",
        "함수의 그래프상에 있는 한 점을 줌심으로 그래프를 무한히 확대해 보면 그래프의 모양이 직선에 가까워지는데 이때의 기울기를 미분이라고 한다. 이 직선은 같은 점을 기준으로 그린 그래프의 접선과 같다.\n",
        "\n",
        "신명망에서 미분의 필요성 : https://gggggeun.tistory.com/120           https://gggggeun.tistory.com/121\n",
        "\n",
        "미분 개념 : https://www.youtube.com/watch?v=kMZ3RJEaLE4\n"
      ],
      "metadata": {
        "id": "H6Vc4O8-oOb7"
      }
    },
    {
      "cell_type": "code",
      "source": [
        "!sudo apt-get install -y fonts-nanum\n",
        "!sudo fc-cache -fv\n",
        "!rm ~/.cache/matplotlib -rf"
      ],
      "metadata": {
        "colab": {
          "base_uri": "https://localhost:8080/"
        },
        "id": "26bhwA0rqggk",
        "outputId": "9966c6fa-bb93-47c5-9ba5-69fc78681f96"
      },
      "execution_count": null,
      "outputs": [
        {
          "output_type": "stream",
          "name": "stdout",
          "text": [
            "Reading package lists... Done\n",
            "Building dependency tree       \n",
            "Reading state information... Done\n",
            "fonts-nanum is already the newest version (20170925-1).\n",
            "The following package was automatically installed and is no longer required:\n",
            "  libnvidia-common-460\n",
            "Use 'sudo apt autoremove' to remove it.\n",
            "0 upgraded, 0 newly installed, 0 to remove and 20 not upgraded.\n",
            "/usr/share/fonts: caching, new cache contents: 0 fonts, 1 dirs\n",
            "/usr/share/fonts/truetype: caching, new cache contents: 0 fonts, 3 dirs\n",
            "/usr/share/fonts/truetype/humor-sans: caching, new cache contents: 1 fonts, 0 dirs\n",
            "/usr/share/fonts/truetype/liberation: caching, new cache contents: 16 fonts, 0 dirs\n",
            "/usr/share/fonts/truetype/nanum: caching, new cache contents: 10 fonts, 0 dirs\n",
            "/usr/local/share/fonts: caching, new cache contents: 0 fonts, 0 dirs\n",
            "/root/.local/share/fonts: skipping, no such directory\n",
            "/root/.fonts: skipping, no such directory\n",
            "/var/cache/fontconfig: cleaning cache directory\n",
            "/root/.cache/fontconfig: not cleaning non-existent cache directory\n",
            "/root/.fontconfig: not cleaning non-existent cache directory\n",
            "fc-cache: succeeded\n"
          ]
        }
      ]
    },
    {
      "cell_type": "code",
      "source": [
        "import matplotlib.pyplot as plt\n",
        "\n",
        "plt.rc('font', family='NanumBarunGothic')"
      ],
      "metadata": {
        "id": "24vO58M8qyuh"
      },
      "execution_count": null,
      "outputs": []
    },
    {
      "cell_type": "code",
      "source": [
        "import numpy as np\n",
        "\n",
        "def f(x):\n",
        "    return x**3 - 3 * x**2 + x\n",
        "\n",
        "x = np.linspace(-1, 3, 400)\n",
        "y = f(x)\n",
        "plt.figure(figsize=(10,6))\n",
        "plt.plot(x, y)\n",
        "plt.plot(0, 0, 'ro')\n",
        "plt.plot(x, x, 'r:')\n",
        "plt.plot(1, -1, 'go')\n",
        "plt.plot(x, (3*1**2-6*1+1)*(x-1)-1, 'g--')\n",
        "\n",
        "plt.xlim(-3.5, 5.5)\n",
        "plt.ylim(-4, 2)\n",
        "plt.xticks(np.arange(-3, 6))\n",
        "plt.yticks(np.arange(-4, 2))\n",
        "\n",
        "plt.annotate('', xy=(1, 0), xytext=(0, 0), arrowprops=dict(facecolor='gray'))\n",
        "plt.annotate('', xy=(1, 1), xytext=(1, 0), arrowprops=dict(facecolor='gray'))\n",
        "\n",
        "plt.annotate('', xy=(2, -1), xytext=(1, -1), arrowprops=dict(facecolor='gray'))\n",
        "plt.annotate('', xy=(2, -3), xytext=(2, -1), arrowprops=dict(facecolor='gray'))\n",
        "\n",
        "plt.xlabel(\"x\")\n",
        "plt.ylabel(\"f(x)\")\n",
        "plt.title(\"함수의 기울기\")\n",
        "plt.show()"
      ],
      "metadata": {
        "colab": {
          "base_uri": "https://localhost:8080/",
          "height": 496
        },
        "id": "hc4B6EdFoaQz",
        "outputId": "0ec26c6f-faf1-4412-a042-97690782e402"
      },
      "execution_count": null,
      "outputs": [
        {
          "output_type": "stream",
          "name": "stderr",
          "text": [
            "/usr/local/lib/python3.8/dist-packages/matplotlib/backends/backend_agg.py:214: RuntimeWarning: Glyph 8722 missing from current font.\n",
            "  font.set_text(s, 0.0, flags=flags)\n",
            "/usr/local/lib/python3.8/dist-packages/matplotlib/backends/backend_agg.py:183: RuntimeWarning: Glyph 8722 missing from current font.\n",
            "  font.set_text(s, 0, flags=flags)\n"
          ]
        },
        {
          "output_type": "display_data",
          "data": {
            "text/plain": [
              "<Figure size 720x432 with 1 Axes>"
            ],
            "image/png": "[encoded data removed]"
          },
          "metadata": {
            "needs_background": "light"
          }
        }
      ]
    },
    {
      "cell_type": "code",
      "source": [
        "# 접선의 기울기 : 높이 / 밑변"
      ],
      "metadata": {
        "id": "ZDDd3_UFq2mU"
      },
      "execution_count": null,
      "outputs": []
    },
    {
      "cell_type": "code",
      "source": [
        "def f(x):\n",
        "    return(x**3 - x)\n",
        "\n",
        "plt.figure(figsize=(15, 5))\n",
        "delta = [2.0, 0.2, 0.01]\n",
        "\n",
        "x = np.linspace(0.5-delta[0], 0.5+delta[0], 200)\n",
        "y = f(x)\n",
        "\n",
        "plt.subplot(131)\n",
        "\n",
        "plt.ylim(-3.0/8.0-delta[0], -3.0/8.0+delta[0])\n",
        "plt.xlim(0.5-delta[0], 0.5+delta[0])\n",
        "plt.plot(x, y, 'b-', lw=1, c='k')\n",
        "plt.scatter([0.5], [-3.0/8.0])\n",
        "plt.xlabel('x',fontsize=14)\n",
        "plt.ylabel('y',fontsize=14)\n",
        "plt.grid()\n",
        "plt.title('delta = %.4f' % delta[0], fontsize=14)\n",
        "\n",
        "\n",
        "x = np.linspace(0.5-delta[1], 0.5+delta[1], 200)\n",
        "y = f(x)\n",
        "\n",
        "plt.subplot(132)\n",
        "\n",
        "plt.ylim(-3.0/8.0-delta[1], -3.0/8.0+delta[1])\n",
        "plt.xlim(0.5-delta[1], 0.5+delta[1])\n",
        "plt.plot(x, y, 'b-', lw=1, c='k')\n",
        "plt.scatter([0.5], [-3.0/8.0])\n",
        "plt.xlabel('x',fontsize=14)\n",
        "plt.ylabel('y',fontsize=14)\n",
        "plt.grid()\n",
        "plt.title('delta = %.4f' % delta[1], fontsize=14)\n",
        "\n",
        "x = np.linspace(0.5-delta[2], 0.5+delta[2], 200)\n",
        "y = f(x)\n",
        "\n",
        "plt.subplot(133)\n",
        "\n",
        "plt.ylim(-3.0/8.0-delta[2], -3.0/8.0+delta[2])\n",
        "plt.xlim(0.5-delta[2], 0.5+delta[2])\n",
        "plt.plot(x, y, 'b-', lw=1, c='k')\n",
        "plt.scatter([0.5], [-3.0/8.0])\n",
        "plt.xlabel('x',fontsize=14)\n",
        "plt.ylabel('y',fontsize=14)\n",
        "plt.grid()\n",
        "plt.title('delta = %.4f' % delta[2], fontsize=14)\n",
        "\n",
        "plt.show()\n"
      ],
      "metadata": {
        "colab": {
          "base_uri": "https://localhost:8080/",
          "height": 447
        },
        "id": "o_8-KM70rl7R",
        "outputId": "89571723-8d63-4329-b4b4-18cd7321945d"
      },
      "execution_count": null,
      "outputs": [
        {
          "output_type": "stream",
          "name": "stderr",
          "text": [
            "/usr/local/lib/python3.8/dist-packages/matplotlib/backends/backend_agg.py:214: RuntimeWarning: Glyph 8722 missing from current font.\n",
            "  font.set_text(s, 0.0, flags=flags)\n",
            "/usr/local/lib/python3.8/dist-packages/matplotlib/backends/backend_agg.py:183: RuntimeWarning: Glyph 8722 missing from current font.\n",
            "  font.set_text(s, 0, flags=flags)\n"
          ]
        },
        {
          "output_type": "display_data",
          "data": {
            "text/plain": [
              "<Figure size 1080x360 with 3 Axes>"
            ],
            "image/png": "[encoded data removed]"
          },
          "metadata": {
            "needs_background": "light"
          }
        }
      ]
    },
    {
      "cell_type": "markdown",
      "source": [
        "### 접선의 방정식\n",
        "\n",
        "- 함수 f(x)에서 x의 값을 dx만큼 변화시켰을 때 f(x)의 변화량 (f(x+dx)-f(x))는 f'(x)dx와 같다.\n",
        "- 미분 : y=f(x)라는 그래프상의 점(a,f(a))가 있을 때 그 점에서 그은 접선의 기울기는 f'(a)이며 a에서의 순간 변화율을 의미\n",
        "- 적분 : 도함수 f'(x)의 하방 면적은 원 함수 f(x)의 y의 값이다. ex) f(x) = $x^2$"
      ],
      "metadata": {
        "id": "gN6UraEtsBzq"
      }
    },
    {
      "cell_type": "code",
      "source": [
        "# 미분\n",
        "# 기울기 : x가 변화한것에대해 y가 얼마나 변화했는지\n",
        "# 기울기가 0이 될 때에는 순가변화율이 필요 없다 => 총 효용이 극대가 되는 때임\n",
        "\n",
        "# 적분\n",
        "# 미분한 것의 mu의 하방면적이 tu의 y값과 같다."
      ],
      "metadata": {
        "id": "LhepXisBsZHK"
      },
      "execution_count": null,
      "outputs": []
    },
    {
      "cell_type": "code",
      "source": [
        "import numpy as np\n",
        "x = np.linspace(-4,4,100)   # -4~4까지 100개로 나눈 것\n",
        "x.min()"
      ],
      "metadata": {
        "colab": {
          "base_uri": "https://localhost:8080/"
        },
        "id": "NaAeZtNBtOjf",
        "outputId": "6b7234e7-4f58-43f2-b7d7-a18335117459"
      },
      "execution_count": null,
      "outputs": [
        {
          "output_type": "execute_result",
          "data": {
            "text/plain": [
              "-4.0"
            ]
          },
          "metadata": {},
          "execution_count": 7
        }
      ]
    },
    {
      "cell_type": "code",
      "source": [
        "def f(x):\n",
        "    return(x**2)\n",
        "def g(x):\n",
        "    return(2*x -1)\n",
        "\n",
        "# x가 1일때의 접선의 방정식 2x -1, 기울기는 1\n",
        "x = np.linspace(-3, 3, 100)   #-3~3까지 100개로 나눔\n",
        "fig = plt.figure(figsize=(8,8))\n",
        "plt.scatter([1],[1],c='k')\n",
        "plt.plot(x, f(x), 'b-', lw=1, c='k')\n",
        "plt.plot(x, g(x), 'b-', lw=1, c='b')\n",
        "plt.plot([x.min(), x.max()], [0, 0], lw=2, c='k')\n",
        "plt.plot([0, 0], [g(x).min(), f(x).max()], lw=2, c='k')\n",
        "plt.ylim(-1, 3)\n",
        "plt.xlim(-2, 2)\n",
        "plt.grid(lw=1)\n",
        "# plt.tick_params(labelbottom=False, labelleft=False, labelright=False, labeltop=False)\n",
        "plt.tick_params(color='white')\n",
        "plt.show()\n",
        "\n",
        "\n",
        "# x값이 1일때, y가 1일 때  접선"
      ],
      "metadata": {
        "colab": {
          "base_uri": "https://localhost:8080/",
          "height": 579
        },
        "id": "VVJFgBuEr56x",
        "outputId": "29e359c5-94ce-419d-a80d-94ef63b48be5"
      },
      "execution_count": null,
      "outputs": [
        {
          "output_type": "stream",
          "name": "stderr",
          "text": [
            "/usr/local/lib/python3.8/dist-packages/matplotlib/backends/backend_agg.py:214: RuntimeWarning: Glyph 8722 missing from current font.\n",
            "  font.set_text(s, 0.0, flags=flags)\n",
            "/usr/local/lib/python3.8/dist-packages/matplotlib/backends/backend_agg.py:183: RuntimeWarning: Glyph 8722 missing from current font.\n",
            "  font.set_text(s, 0, flags=flags)\n"
          ]
        },
        {
          "output_type": "display_data",
          "data": {
            "text/plain": [
              "<Figure size 576x576 with 1 Axes>"
            ],
            "image/png": "[encoded data removed]"
          },
          "metadata": {
            "needs_background": "light"
          }
        }
      ]
    },
    {
      "cell_type": "code",
      "source": [
        "# scipy.misc 패키지의 derovative() 사용하여 기울기 계산\n",
        "from scipy.misc import derivative\n",
        "\n",
        "print(derivative(f,0,dx=1e-6))\n",
        "print(derivative(f,1,dx=1e-6))\n",
        "\n",
        "\n",
        "# dx= x의 증가량(델타 x)\n",
        "# 거의 무한소 0에 가깝게 (순간변화율) = 0 => 더이상 진전이 없을때가 최적화(학습을 끝냄)"
      ],
      "metadata": {
        "colab": {
          "base_uri": "https://localhost:8080/"
        },
        "id": "I5rdIEEKtbYP",
        "outputId": "efbcb148-1be7-4247-a06c-fcf1ead7b5f9"
      },
      "execution_count": null,
      "outputs": [
        {
          "output_type": "stream",
          "name": "stdout",
          "text": [
            "0.0\n",
            "2.000000000002\n"
          ]
        }
      ]
    },
    {
      "cell_type": "code",
      "source": [
        "!pip install -upgrade pip -user "
      ],
      "metadata": {
        "colab": {
          "base_uri": "https://localhost:8080/"
        },
        "id": "-F_0M6kHuOuw",
        "outputId": "4d27d58c-abb5-4fea-fbd6-a0f9e7a9453f"
      },
      "execution_count": null,
      "outputs": [
        {
          "output_type": "stream",
          "name": "stdout",
          "text": [
            "\n",
            "Usage:   \n",
            "  pip3 install [options] <requirement specifier> [package-index-options] ...\n",
            "  pip3 install [options] -r <requirements file> [package-index-options] ...\n",
            "  pip3 install [options] [-e] <vcs project url> ...\n",
            "  pip3 install [options] [-e] <local project path> ...\n",
            "  pip3 install [options] <archive url/path> ...\n",
            "\n",
            "no such option: -u\n"
          ]
        }
      ]
    },
    {
      "cell_type": "code",
      "source": [
        "!pip install sympy"
      ],
      "metadata": {
        "colab": {
          "base_uri": "https://localhost:8080/"
        },
        "id": "33QXHJCax6zO",
        "outputId": "b085ffe7-4716-4a58-c2a8-79aadb5f856d"
      },
      "execution_count": null,
      "outputs": [
        {
          "output_type": "stream",
          "name": "stdout",
          "text": [
            "Looking in indexes: https://pypi.org/simple, https://us-python.pkg.dev/colab-wheels/public/simple/\n",
            "Requirement already satisfied: sympy in /usr/local/lib/python3.8/dist-packages (1.7.1)\n",
            "Requirement already satisfied: mpmath>=0.19 in /usr/local/lib/python3.8/dist-packages (from sympy) (1.2.1)\n"
          ]
        }
      ]
    },
    {
      "cell_type": "code",
      "source": [
        "import sympy "
      ],
      "metadata": {
        "id": "YQ077wnkyFzp"
      },
      "execution_count": null,
      "outputs": []
    },
    {
      "cell_type": "code",
      "source": [
        "x = sympy.symbols('x')\n",
        "x"
      ],
      "metadata": {
        "colab": {
          "base_uri": "https://localhost:8080/",
          "height": 38
        },
        "id": "cUPNJFvPyRvA",
        "outputId": "5213e71b-adc5-483d-9385-2267359696b2"
      },
      "execution_count": null,
      "outputs": [
        {
          "output_type": "execute_result",
          "data": {
            "text/plain": [
              "x"
            ],
            "text/latex": "$\\displaystyle x$"
          },
          "metadata": {},
          "execution_count": 28
        }
      ]
    },
    {
      "cell_type": "code",
      "source": [
        "type(x)"
      ],
      "metadata": {
        "colab": {
          "base_uri": "https://localhost:8080/"
        },
        "id": "srWWLcxLyWPa",
        "outputId": "54651c0a-6f34-4a79-b228-163c92f2bf10"
      },
      "execution_count": null,
      "outputs": [
        {
          "output_type": "execute_result",
          "data": {
            "text/plain": [
              "sympy.core.symbol.Symbol"
            ]
          },
          "metadata": {},
          "execution_count": 29
        }
      ]
    },
    {
      "cell_type": "code",
      "source": [
        "x, y =sympy.symbols('x y')\n",
        "f = x ** 2 + 4 * x * y **  2\n",
        "f"
      ],
      "metadata": {
        "colab": {
          "base_uri": "https://localhost:8080/",
          "height": 38
        },
        "id": "BPthRNS8yW2W",
        "outputId": "8542ff34-a188-42a7-8031-4c7ff0a8b691"
      },
      "execution_count": null,
      "outputs": [
        {
          "output_type": "execute_result",
          "data": {
            "text/plain": [
              "x**2 + 4*x*y**2"
            ],
            "text/latex": "$\\displaystyle x^{2} + 4 x y^{2}$"
          },
          "metadata": {},
          "execution_count": 30
        }
      ]
    },
    {
      "cell_type": "code",
      "source": [
        "# dif() 함수로 미분, 변수, 상수를 구분하기 위하여 편미분인 것처럼 입력 변수 지정\n",
        "sympy.diff(f,x)"
      ],
      "metadata": {
        "colab": {
          "base_uri": "https://localhost:8080/",
          "height": 38
        },
        "id": "qlCzYIDXyoMd",
        "outputId": "ee0c49c8-13e2-4641-a358-79e56e246448"
      },
      "execution_count": null,
      "outputs": [
        {
          "output_type": "execute_result",
          "data": {
            "text/plain": [
              "2*x + 4*y**2"
            ],
            "text/latex": "$\\displaystyle 2 x + 4 y^{2}$"
          },
          "metadata": {},
          "execution_count": 31
        }
      ]
    },
    {
      "cell_type": "code",
      "source": [
        "sympy.diff(f, y)"
      ],
      "metadata": {
        "colab": {
          "base_uri": "https://localhost:8080/",
          "height": 38
        },
        "id": "ZjzYrrWmzAJV",
        "outputId": "65ff9c96-8c74-4199-be4e-dfe9ebefb30e"
      },
      "execution_count": null,
      "outputs": [
        {
          "output_type": "execute_result",
          "data": {
            "text/plain": [
              "8*x*y"
            ],
            "text/latex": "$\\displaystyle 8 x y$"
          },
          "metadata": {},
          "execution_count": 32
        }
      ]
    },
    {
      "cell_type": "markdown",
      "source": [
        "## 적분\n",
        "- 적분은 미분과 반대되는 개념. 부정적분과 정적분이 있다.\n",
        " - 부정적분은 정확하게 미분과 반대되는 개념. 즉 반 미분이다. 어떤 함수를 미분하여 나온 결과인 도함수라고 가정하고 이 도함수 f(x)에 대한 미분되기 전의 원래의 함수를 찾는 과정 또는 그 결과를 의미\n",
        " - 정적분은 독립변수 x가 어떤 구간 [a,b] 사이일 때 그 구간에서 함수 f(x)의 값과 수평선(x축)이 이루는 면적을 구하는 행위 혹은 그 값을 의미\n",
        " \n",
        "적분의 개념 : https://www.youtube.com/watch?v=kV2j3S5qBm4\n",
        "\n",
        "미분과 적분의 관계 : https://www.youtube.com/watch?v=xAAAvj7bmKQ"
      ],
      "metadata": {
        "id": "WqAjb86WzbB6"
      }
    },
    {
      "cell_type": "code",
      "source": [
        "fre4rfrefefre"
      ],
      "metadata": {
        "id": "wR9dpD3XzPEb"
      },
      "execution_count": null,
      "outputs": []
    }
  ]
}