{
 "cells": [
  {
   "cell_type": "markdown",
   "id": "5b7d7a95-9bcc-497d-917e-181f497b41c4",
   "metadata": {},
   "source": [
    "# 1. 추천 시스템\n",
    "- 콘텐츠 기반 필터링(Content based filtering)\n",
    "- 협업 기반 필터링(Collaborative Filtering): 최급접 이웃필터링, 잠재요인 필터링"
   ]
  },
  {
   "cell_type": "markdown",
   "id": "bfb293d4-5d35-41ea-aaf5-0399571d90a7",
   "metadata": {},
   "source": [
    "# 2. 콘텐츠 기반 필터링(Content based filtering)\n",
    "- 사용자가 특정한 아이템을 매우 선호하는 겨웅, 그 아이템과 비슷한 콘텐츠를 가진 다른 아이템을 추천하는 방식\n",
    "- 사용자 선호 프로파일\n",
    "- 사용자가 선호하는 영화의 장르, 배우, 감독에 맞게 유사한 영화를 추천"
   ]
  },
  {
   "cell_type": "markdown",
   "id": "82004a32-47dd-4e72-9e05-00c4a0a667e2",
   "metadata": {},
   "source": [
    "# 3. 최근접 이웃 협업 필터링(메모리 협업)\n",
    "- 취향이 비슷한 사람들을 기반으로 추천(취향이 비슷한 친구에게 물어보기)\n",
    "- 사용자가 매긴 평점 정보, 상품 구매이력과 같이 사용자 행동양식을 기반으로 추천\n",
    "- 목표: 사용자-아이템 평점 메트릭스와 같은 축적된 사용자 행동 데이터를 기반으로 사용자가 아직 평가하지 않은 아이템을 예측평가 하는 것\n",
    "- 아직 안본 영화를 예측해서 취향에 맞게 추천해주기\n",
    "- 최근접이웃, 잠재요인 두 방식 모두 사용자-아이템 평점 행렬 데이터에만 의지해 추천\n",
    "- 사용자 기반보다는 아이템 기반 협업 필터링이 정확도가 높다."
   ]
  },
  {
   "cell_type": "markdown",
   "id": "eb42de80-ff3d-4466-a3be-e7543915dacf",
   "metadata": {},
   "source": [
    "## 메모리 협업필터링"
   ]
  },
  {
   "cell_type": "markdown",
   "id": "27dca099-dc07-490b-91c3-de9ecb60a7af",
   "metadata": {},
   "source": [
    "### 사용자 기반(User-User)\n",
    "- 당신과 비슷한 고객들이 다음 상품도 구매했습니다.\n",
    "- TOP-N: 사용자가 좋아하는 아이템을 추천\n",
    "- 특정 사용자와 타 사용자간의 유사도(similarity)를 측정한 뒤 가장 유사도가 높은 TOP-N 사용자를 추출해 그들이 선호하는 아이템을 추천"
   ]
  },
  {
   "cell_type": "markdown",
   "id": "4ef58531-ad66-4ec0-928e-91fa5288c6e2",
   "metadata": {},
   "source": [
    "### 아이템 기반(Item-Item)\n",
    "- 이 상품을 선택한 다른 고객들은 다음 상품도 구매했습니다.\n",
    "- 사용자들이 아이템을 좋아하는지/싫어하는지\n",
    "- 사용자 기반보다는 아이템 기반 협업 필터링이 정확도가 높다."
   ]
  },
  {
   "cell_type": "markdown",
   "id": "244dd051-24f8-4d75-b20b-349a0a1aa39e",
   "metadata": {},
   "source": [
    "# 4. 잠재요인 협업 필터링\n",
    "- 사용자-아이템 평점행렬 데이터 속에 숨어있는 '잠재요인'을 추출해 추천 예측\n",
    "\n",
    "- 대규모의 다차원행렬 SVD 같은 차원감소 기법으로 분해하는 과정에서 잠재요인을 추출\n",
    "- P.592-594\\\n",
    "원본-     사용자 - 아이템 평점 행렬: R\\\n",
    "매트릭스- 사용자 - 잠재 요인 행렬: P\\\n",
    "매트릭스- 잠재요인 - 아이템 행렬: Q.T\\\n",
    "내적 결과값 예측 => R = (P * QT)"
   ]
  },
  {
   "cell_type": "markdown",
   "id": "a4f1b97b-d1d5-4f9a-baae-08949e20658c",
   "metadata": {},
   "source": [
    "### 다차원 희소행렬\n",
    "- 1. 사용자-아이템 행렬을 저차원 밀집 행렬의 사용자-잠재요인 행렬\n",
    "- 2. 아이템-잠재요인 행렬의 전치(잠재요인-아이템 행렬)로 분해\n",
    "- 잠재요인 협력 필터링 알고리즘\n",
    "- : 분해한 두 행렬의 내적을 통해 새로운 예측 사용자-아이템 평점 행렬 데이터를 만들어 사용자가 아직 평점을 부여하지 않은 아이템에 대한 예측 평점을 생성\n",
    "- 사용자- 잠재 요인 행렬과 아이템-잠재요인 행렬의 전치행렬(잠재요인-아이템행렬)로 분해한 데이터 세트를 다시 내적의 곱으로 결합하면서 사용자가 예측하지 않은 아이템에 대한 평점을 도출"
   ]
  },
  {
   "cell_type": "markdown",
   "id": "d23453d9-81a9-4fc1-9833-22f9068969b2",
   "metadata": {},
   "source": [
    "### 행렬분해(Matrix Factorization)\n",
    "- 다차원 매트릭스를 저차원 매트릭스로 분해(SVD, NMF)\n",
    "- 사용자-K차원 잠재요인행렬P와 / K차원 잠재 요인-아이템행렬(Q.T)으로 분해\n",
    "- R은 N*M 차원으로 구성\n",
    "- P는 M*k\n",
    "- Q.T는 K*N\n",
    "- Q는 아이템-잠재요인 행렬\n",
    "- Q.T는 Q의 전치 행렬인 잠재요인-아이템 행렬\n",
    "- R = P * Q.T"
   ]
  },
  {
   "cell_type": "markdown",
   "id": "d9bf973b-ae8b-4137-ac4d-b3d5839154ba",
   "metadata": {},
   "source": [
    "### 경사하강법(SGD)을 이용한 행렬분해 "
   ]
  },
  {
   "cell_type": "code",
   "execution_count": 15,
   "id": "ee36b194-f5e1-4402-a60f-cadbe5668d81",
   "metadata": {},
   "outputs": [],
   "source": [
    "# p.599\n",
    "import numpy as np\n",
    "\n",
    "# 원본 행렬 R 생성, 분해 행렬 P와 Q초기화, 잠재 요인 차원 K는 3으로 설정\n",
    "R= np.array([[4, np.NaN, np.NaN, 2, np.NaN],\n",
    "            [np.NaN, 5, np.NaN, 3, 1],\n",
    "            [np.NaN, np.NaN, 3, 4, 4],\n",
    "            [5, 2, 1, 2, np.NaN]])\n",
    "num_users, num_items = R.shape\n",
    "K=3\n",
    "\n",
    "# P와 Q행렬의 크기를 지정하고 정규 분포를 가진 임의의 값으로 입력한다.\n",
    "np.random.seed(1)\n",
    "P = np.random.normal(scale=1./K, size=(num_users, K))\n",
    "Q= np.random.normal(scale=1./K, size=(num_items, K))"
   ]
  },
  {
   "cell_type": "code",
   "execution_count": 35,
   "id": "a6a4285c-6529-435b-9989-648dcd558d75",
   "metadata": {},
   "outputs": [],
   "source": [
    "# get_rmse()함수는 실제 R행렬의 널이 아닌 헹렬 값의 위치 인덱스를 추출해 \n",
    "# 이 인덱스에 있는 실제 R 행렬값과, \n",
    "# 분해된 P,Q를 이용해 다시 조합된 예측 행렬값의 RMSE값을 반환\n",
    "from sklearn.metrics import mean_squared_error\n",
    "\n",
    "def get_rmse(R, P, Q, non_zeros):\n",
    "    error = 0\n",
    "    # 두개의 분해된 행렬과 P, Q.t의 내적으로 예측 R행렬 생성\n",
    "    # np.dot은 행렬의 곱\n",
    "    full_pred_matrix = np.dot(P, Q.T)\n",
    "    \n",
    "   # 실제 R행렬에서 널이 아닌 값의 위치 인덱스 추출해 실제 R 행렬과 예측 행렬의 RMSE 추출\n",
    "    x_non_zero_ind = [non_zero[0] for non_zero in non_zeros]\n",
    "    y_non_zero_ind = [non_zero[1] for non_zero in non_zeros]\n",
    "    R_non_zeros = R[x_non_zero_ind, y_non_zero_ind]\n",
    "    full_pred_matrix_non_zeros = full_pred_matrix[x_non_zero_ind, y_non_zero_ind]\n",
    "      \n",
    "    mse = mean_squared_error(R_non_zeros, full_pred_matrix_non_zeros)\n",
    "    rmse = np.sqrt(mse)\n",
    "    \n",
    "    return rmse"
   ]
  },
  {
   "cell_type": "code",
   "execution_count": 39,
   "id": "77430065-52e3-40f9-b3ed-364446385bef",
   "metadata": {
    "collapsed": true,
    "jupyter": {
     "outputs_hidden": true
    },
    "tags": []
   },
   "outputs": [
    {
     "name": "stdout",
     "output_type": "stream",
     "text": [
      "### iteration step: 0 rmse:  0.03234370977609321\n",
      "### iteration step: 0 rmse:  0.03219884931383537\n",
      "### iteration step: 0 rmse:  0.03230337616581673\n",
      "### iteration step: 0 rmse:  0.03242090285045925\n",
      "### iteration step: 0 rmse:  0.032356736001100735\n",
      "### iteration step: 0 rmse:  0.03245721540968807\n",
      "### iteration step: 0 rmse:  0.032583139226079465\n",
      "### iteration step: 0 rmse:  0.03253308008561175\n",
      "### iteration step: 0 rmse:  0.032688299416348585\n",
      "### iteration step: 0 rmse:  0.03255862108226665\n",
      "### iteration step: 0 rmse:  0.032411791203371634\n",
      "### iteration step: 0 rmse:  0.03233996941538673\n",
      "### iteration step: 50 rmse:  0.032259595784146965\n",
      "### iteration step: 50 rmse:  0.03211545695412944\n",
      "### iteration step: 50 rmse:  0.03221981314584846\n",
      "### iteration step: 50 rmse:  0.032336655708839535\n",
      "### iteration step: 50 rmse:  0.032273145439031654\n",
      "### iteration step: 50 rmse:  0.03237387010452517\n",
      "### iteration step: 50 rmse:  0.03249875221883673\n",
      "### iteration step: 50 rmse:  0.03244806720217455\n",
      "### iteration step: 50 rmse:  0.03260304989290376\n",
      "### iteration step: 50 rmse:  0.03247318488940595\n",
      "### iteration step: 50 rmse:  0.03232651477657938\n",
      "### iteration step: 50 rmse:  0.032255998263065896\n",
      "### iteration step: 100 rmse:  0.03217697194169133\n",
      "### iteration step: 100 rmse:  0.03203354808871095\n",
      "### iteration step: 100 rmse:  0.032137732679012425\n",
      "### iteration step: 100 rmse:  0.0322539042868054\n",
      "### iteration step: 100 rmse:  0.032191047522056454\n",
      "### iteration step: 100 rmse:  0.03229201351836843\n",
      "### iteration step: 100 rmse:  0.032415858896305015\n",
      "### iteration step: 100 rmse:  0.03236455266525689\n",
      "### iteration step: 100 rmse:  0.03251930032539033\n",
      "### iteration step: 100 rmse:  0.03238925191176077\n",
      "### iteration step: 100 rmse:  0.032242744125553995\n",
      "### iteration step: 100 rmse:  0.032173516108205416\n",
      "### iteration step: 150 rmse:  0.032095802171023\n",
      "### iteration step: 150 rmse:  0.031953086620094134\n",
      "### iteration step: 150 rmse:  0.03205709876282029\n",
      "### iteration step: 150 rmse:  0.03217261220264242\n",
      "### iteration step: 150 rmse:  0.03211040588968711\n",
      "### iteration step: 150 rmse:  0.032211609669222895\n",
      "### iteration step: 150 rmse:  0.03233442304214478\n",
      "### iteration step: 150 rmse:  0.03228250019474339\n",
      "### iteration step: 150 rmse:  0.03243701439505927\n",
      "### iteration step: 150 rmse:  0.03230678566930392\n",
      "### iteration step: 150 rmse:  0.0321604424190793\n",
      "### iteration step: 150 rmse:  0.03209248684149193\n",
      "### iteration step: 200 rmse:  0.03201605105169909\n",
      "### iteration step: 200 rmse:  0.031874037186047206\n",
      "### iteration step: 200 rmse:  0.03197787610880943\n",
      "### iteration step: 200 rmse:  0.0320927438579477\n",
      "### iteration step: 200 rmse:  0.032031184930826496\n",
      "### iteration step: 200 rmse:  0.03213262322548542\n",
      "### iteration step: 200 rmse:  0.03225440913217714\n",
      "### iteration step: 200 rmse:  0.03220187424121265\n",
      "### iteration step: 200 rmse:  0.03235615654131135\n",
      "### iteration step: 200 rmse:  0.03222575047382049\n",
      "### iteration step: 200 rmse:  0.03207957371783331\n",
      "### iteration step: 200 rmse:  0.03201287503559145\n",
      "### iteration step: 250 rmse:  0.031937683976791455\n",
      "### iteration step: 250 rmse:  0.03179636528177991\n",
      "### iteration step: 250 rmse:  0.03190003027182755\n",
      "### iteration step: 250 rmse:  0.032014264541910926\n",
      "### iteration step: 250 rmse:  0.031953349902625924\n",
      "### iteration step: 250 rmse:  0.0320550196591715\n",
      "### iteration step: 250 rmse:  0.032175782475296316\n",
      "### iteration step: 250 rmse:  0.03212264011091098\n",
      "### iteration step: 250 rmse:  0.03227669207470738\n",
      "### iteration step: 250 rmse:  0.032146111530514686\n",
      "### iteration step: 250 rmse:  0.032000103040674834\n",
      "### iteration step: 250 rmse:  0.031934646091277975\n",
      "### iteration step: 300 rmse:  0.0318606672390479\n",
      "### iteration step: 300 rmse:  0.031720037325177156\n",
      "### iteration step: 300 rmse:  0.031823527719791474\n",
      "### iteration step: 300 rmse:  0.03193714048527589\n",
      "### iteration step: 300 rmse:  0.03187686699361221\n",
      "### iteration step: 300 rmse:  0.031978765331034\n",
      "### iteration step: 300 rmse:  0.032098509290460535\n",
      "### iteration step: 300 rmse:  0.032044764032686884\n",
      "### iteration step: 300 rmse:  0.032198587236549746\n",
      "### iteration step: 300 rmse:  0.03206783499029711\n",
      "### iteration step: 300 rmse:  0.03192199639440541\n",
      "### iteration step: 300 rmse:  0.031857766317288795\n",
      "### iteration step: 350 rmse:  0.031784968072267786\n",
      "### iteration step: 350 rmse:  0.03164502068551155\n",
      "### iteration step: 350 rmse:  0.03174833586529729\n",
      "### iteration step: 350 rmse:  0.031861338881978035\n",
      "### iteration step: 350 rmse:  0.03180170335104917\n",
      "### iteration step: 350 rmse:  0.03190382753201488\n",
      "### iteration step: 350 rmse:  0.032022556742720025\n",
      "### iteration step: 350 rmse:  0.0319682131877172\n",
      "### iteration step: 350 rmse:  0.03212180922415798\n",
      "### iteration step: 350 rmse:  0.031990887970380015\n",
      "### iteration step: 350 rmse:  0.031845220779994\n",
      "### iteration step: 350 rmse:  0.031782202967807295\n",
      "### iteration step: 400 rmse:  0.03171055466423004\n",
      "### iteration step: 400 rmse:  0.03157128368885284\n",
      "### iteration step: 400 rmse:  0.03167442307289484\n",
      "### iteration step: 400 rmse:  0.031786827890145\n",
      "### iteration step: 400 rmse:  0.03172782708547215\n",
      "### iteration step: 400 rmse:  0.031830174496816875\n",
      "### iteration step: 400 rmse:  0.03194789295314302\n",
      "### iteration step: 400 rmse:  0.031892955715524356\n",
      "### iteration step: 400 rmse:  0.032046326194245744\n",
      "### iteration step: 400 rmse:  0.03191523855464591\n",
      "### iteration step: 400 rmse:  0.031769744183772236\n",
      "### iteration step: 400 rmse:  0.0317079242530279\n",
      "### iteration step: 450 rmse:  0.03163739615178263\n",
      "### iteration step: 450 rmse:  0.03149879560881493\n",
      "### iteration step: 450 rmse:  0.0316017586510409\n",
      "### iteration step: 450 rmse:  0.03171357662011876\n",
      "### iteration step: 450 rmse:  0.03165520726085135\n",
      "### iteration step: 450 rmse:  0.03175777539987724\n",
      "### iteration step: 450 rmse:  0.031874486992307896\n",
      "### iteration step: 450 rmse:  0.031818960705077184\n",
      "### iteration step: 450 rmse:  0.03197210725250173\n",
      "### iteration step: 450 rmse:  0.03184085578128625\n",
      "### iteration step: 450 rmse:  0.03169553555921378\n",
      "### iteration step: 450 rmse:  0.031634899332827635\n",
      "### iteration step: 500 rmse:  0.03156546260492672\n",
      "### iteration step: 500 rmse:  0.03142752664823764\n",
      "### iteration step: 500 rmse:  0.031530312834571673\n",
      "### iteration step: 500 rmse:  0.0316415551144793\n",
      "### iteration step: 500 rmse:  0.031583813875875624\n",
      "### iteration step: 500 rmse:  0.03168660034039467\n",
      "### iteration step: 500 rmse:  0.0318023088636183\n",
      "### iteration step: 500 rmse:  0.03174619817668329\n",
      "### iteration step: 500 rmse:  0.03189912243464677\n",
      "### iteration step: 500 rmse:  0.03176770962259876\n",
      "### iteration step: 500 rmse:  0.03162256480298039\n",
      "### iteration step: 500 rmse:  0.031563098300021686\n",
      "### iteration step: 550 rmse:  0.031494725004339086\n",
      "### iteration step: 550 rmse:  0.03135744791547808\n",
      "### iteration step: 550 rmse:  0.03146005676151737\n",
      "### iteration step: 550 rmse:  0.031570734323354124\n",
      "### iteration step: 550 rmse:  0.031513617839960054\n",
      "### iteration step: 550 rmse:  0.03161662032076353\n",
      "### iteration step: 550 rmse:  0.031731329480541325\n",
      "### iteration step: 550 rmse:  0.03167463905840807\n",
      "### iteration step: 550 rmse:  0.03182734268243344\n",
      "### iteration step: 550 rmse:  0.03169577096016556\n",
      "### iteration step: 550 rmse:  0.031550802727691105\n",
      "### iteration step: 550 rmse:  0.03149249215742409\n",
      "### iteration step: 600 rmse:  0.03142515521517256\n",
      "### iteration step: 600 rmse:  0.0312885313976795\n",
      "### iteration step: 600 rmse:  0.031390962446723604\n",
      "### iteration step: 600 rmse:  0.03150108607711955\n",
      "### iteration step: 600 rmse:  0.03144459094630077\n",
      "### iteration step: 600 rmse:  0.031547807221212996\n",
      "### iteration step: 600 rmse:  0.031661520640387596\n",
      "### iteration step: 600 rmse:  0.03160425515941986\n",
      "### iteration step: 600 rmse:  0.03175673981681972\n",
      "### iteration step: 600 rmse:  0.031625011557483894\n",
      "### iteration step: 600 rmse:  0.031480221032995664\n",
      "### iteration step: 600 rmse:  0.0314230527914053\n",
      "### iteration step: 650 rmse:  0.03135672595898379\n",
      "### iteration step: 650 rmse:  0.03122074993257402\n",
      "### iteration step: 650 rmse:  0.031323002753900604\n",
      "### iteration step: 650 rmse:  0.03143258305790584\n",
      "### iteration step: 650 rmse:  0.031376705843511155\n",
      "### iteration step: 650 rmse:  0.031480133772489614\n",
      "### iteration step: 650 rmse:  0.031592854996362656\n",
      "### iteration step: 650 rmse:  0.031535019141843784\n",
      "### iteration step: 650 rmse:  0.03168728650979544\n",
      "### iteration step: 650 rmse:  0.03155540403142817\n",
      "### iteration step: 650 rmse:  0.03141079227601999\n",
      "### iteration step: 650 rmse:  0.031354752943711234\n",
      "### iteration step: 700 rmse:  0.03128941078491667\n",
      "### iteration step: 700 rmse:  0.03115407717977181\n",
      "### iteration step: 700 rmse:  0.03125615136708789\n",
      "### iteration step: 700 rmse:  0.03136519877074402\n",
      "### iteration step: 700 rmse:  0.031309936006768374\n",
      "### iteration step: 700 rmse:  0.03141357352770997\n",
      "### iteration step: 700 rmse:  0.03152530602893896\n",
      "### iteration step: 700 rmse:  0.03146690449208344\n",
      "### iteration step: 700 rmse:  0.031618956255759015\n",
      "### iteration step: 700 rmse:  0.031486921823377194\n",
      "### iteration step: 700 rmse:  0.03134248984181969\n",
      "### iteration step: 700 rmse:  0.03128756618261778\n",
      "### iteration step: 750 rmse:  0.031223184040897575\n",
      "### iteration step: 750 rmse:  0.031088487592186867\n",
      "### iteration step: 750 rmse:  0.031190382762211147\n",
      "### iteration step: 750 rmse:  0.03129890751495076\n",
      "### iteration step: 750 rmse:  0.031244255709117968\n",
      "### iteration step: 750 rmse:  0.03134810083415084\n",
      "### iteration step: 750 rmse:  0.03145884801726896\n",
      "### iteration step: 750 rmse:  0.03139988549226998\n",
      "### iteration step: 750 rmse:  0.031551723343065594\n",
      "### iteration step: 750 rmse:  0.03141953917058393\n",
      "### iteration step: 750 rmse:  0.03127528791429332\n",
      "### iteration step: 750 rmse:  0.03122146687414127\n",
      "### iteration step: 800 rmse:  0.031158020845268624\n",
      "### iteration step: 800 rmse:  0.031023956387962397\n",
      "### iteration step: 800 rmse:  0.03112567217911126\n",
      "### iteration step: 800 rmse:  0.03123368435606681\n",
      "### iteration step: 800 rmse:  0.031179639993283652\n",
      "### iteration step: 800 rmse:  0.03128369080540821\n",
      "### iteration step: 800 rmse:  0.031393456011034396\n",
      "### iteration step: 800 rmse:  0.03133393719220144\n",
      "### iteration step: 800 rmse:  0.03148556282608618\n",
      "### iteration step: 800 rmse:  0.03135323107810433\n",
      "### iteration step: 800 rmse:  0.03120916144779205\n",
      "### iteration step: 800 rmse:  0.031156430153712233\n",
      "### iteration step: 850 rmse:  0.031093897059134595\n",
      "### iteration step: 850 rmse:  0.030960459523131957\n",
      "### iteration step: 850 rmse:  0.031061995594289453\n",
      "### iteration step: 850 rmse:  0.031169505098567075\n",
      "### iteration step: 850 rmse:  0.03111606464422669\n",
      "### iteration step: 850 rmse:  0.03122031929421318\n",
      "### iteration step: 850 rmse:  0.031329105803002875\n",
      "### iteration step: 850 rmse:  0.03126903538201827\n",
      "### iteration step: 850 rmse:  0.03142045049801087\n",
      "### iteration step: 850 rmse:  0.03128797329149849\n",
      "### iteration step: 850 rmse:  0.031144086139588887\n",
      "### iteration step: 850 rmse:  0.031092431898577286\n",
      "### iteration step: 900 rmse:  0.03103078925956961\n",
      "### iteration step: 900 rmse:  0.03089797366514532\n",
      "### iteration step: 900 rmse:  0.030999329694504377\n",
      "### iteration step: 900 rmse:  0.031106346259449188\n",
      "### iteration step: 900 rmse:  0.031053506162568183\n",
      "### iteration step: 900 rmse:  0.031157962866056464\n",
      "### iteration step: 900 rmse:  0.03126577390242391\n",
      "### iteration step: 900 rmse:  0.031205156565733493\n",
      "### iteration step: 900 rmse:  0.03135636286450671\n",
      "### iteration step: 900 rmse:  0.031223742270406855\n",
      "### iteration step: 900 rmse:  0.03108003840327966\n",
      "### iteration step: 900 rmse:  0.03102944870106542\n",
      "### iteration step: 950 rmse:  0.03096867471377257\n",
      "### iteration step: 950 rmse:  0.030836476167330536\n",
      "### iteration step: 950 rmse:  0.030937651851297366\n",
      "### iteration step: 950 rmse:  0.031044185042764502\n",
      "### iteration step: 950 rmse:  0.030991941738953373\n",
      "### iteration step: 950 rmse:  0.03109659877371445\n",
      "### iteration step: 950 rmse:  0.031203437509355402\n",
      "### iteration step: 950 rmse:  0.031142277935697234\n",
      "### iteration step: 950 rmse:  0.03129327711830541\n",
      "### iteration step: 950 rmse:  0.03116051516306795\n",
      "### iteration step: 950 rmse:  0.03101699534316013\n",
      "### iteration step: 950 rmse:  0.030967457842800653\n"
     ]
    }
   ],
   "source": [
    "# SGD기반의 행렬분해 수행\n",
    "# R>0인 행 위치, 열위치, 값을 non_zeros 리스트에 저장\n",
    "non_zeros= [(i, j, R[i,j]) for i in range(num_users) for j in range(num_items) if R[i, j] >0]\n",
    "\n",
    "steps=1000\n",
    "learning_rate=0.01\n",
    "r_lambda=0.01\n",
    "\n",
    "# SDG기법으로 P와 Q매트릭스를 계속 업데이트\n",
    "for step in range(steps):\n",
    "    for i, j, r in non_zeros:\n",
    "        # 실제 값과 예측값의 차이인 오류 값 구함\n",
    "        eij= r-np.dot(P[i,:], Q[j,:] -r_lambda * P[i,:])\n",
    "        # Regularization을 반영한 SGD업데이트 공식 적용\n",
    "        P[i,:]= P[i,:] + learning_rate * (eij * Q[j, :] - r_lambda * P[i,:])\n",
    "        Q[j,:]= Q[j,:] + learning_rate * (eij * P[i, :] - r_lambda * Q[i,:])\n",
    "        \n",
    "        rmse= get_rmse(R, P, Q, non_zeros)\n",
    "        if (step % 50)==0:\n",
    "            print(\"### iteration step:\", step, \"rmse: \", rmse)"
   ]
  },
  {
   "cell_type": "code",
   "execution_count": 40,
   "id": "6847adab-051f-44b7-889c-be783f365430",
   "metadata": {},
   "outputs": [
    {
     "data": {
      "text/plain": [
       "array([[4.01 , 1.53 , 1.156, 2.014, 1.606],\n",
       "       [5.674, 5.032, 0.882, 3.039, 1.046],\n",
       "       [4.644, 0.471, 3.031, 4.036, 4.045],\n",
       "       [5.005, 2.029, 1.032, 2.019, 1.497]])"
      ]
     },
     "execution_count": 40,
     "metadata": {},
     "output_type": "execute_result"
    }
   ],
   "source": [
    "# 분해된 P와 Q함수를 P*Q.T로 예측행렬 만들어 출력\n",
    "pred_matrix= np.dot(P, Q.T)\n",
    "np.round(pred_matrix,3)"
   ]
  },
  {
   "cell_type": "markdown",
   "id": "4fab2d69-6ffc-4929-9d6f-f4be0915472c",
   "metadata": {},
   "source": [
    "# 5. 콘텐츠 기반의 필터링 실습 - TMDB5000영화데이터세트"
   ]
  },
  {
   "cell_type": "markdown",
   "id": "b6d37674-1020-4f38-823d-323bacd0aaf8",
   "metadata": {},
   "source": [
    "## 장르 속성을 이용한 영화 콘텐츠 기반 필터링"
   ]
  },
  {
   "cell_type": "code",
   "execution_count": 182,
   "id": "4b64f1f7-e8a2-42ae-bc9a-2dba5b25278e",
   "metadata": {
    "tags": []
   },
   "outputs": [
    {
     "data": {
      "text/html": [
       "<div>\n",
       "<style scoped>\n",
       "    .dataframe tbody tr th:only-of-type {\n",
       "        vertical-align: middle;\n",
       "    }\n",
       "\n",
       "    .dataframe tbody tr th {\n",
       "        vertical-align: top;\n",
       "    }\n",
       "\n",
       "    .dataframe thead th {\n",
       "        text-align: right;\n",
       "    }\n",
       "</style>\n",
       "<table border=\"1\" class=\"dataframe\">\n",
       "  <thead>\n",
       "    <tr style=\"text-align: right;\">\n",
       "      <th></th>\n",
       "      <th>budget</th>\n",
       "      <th>genres</th>\n",
       "      <th>homepage</th>\n",
       "      <th>id</th>\n",
       "      <th>keywords</th>\n",
       "      <th>original_language</th>\n",
       "      <th>original_title</th>\n",
       "      <th>overview</th>\n",
       "      <th>popularity</th>\n",
       "      <th>production_companies</th>\n",
       "      <th>production_countries</th>\n",
       "      <th>release_date</th>\n",
       "      <th>revenue</th>\n",
       "      <th>runtime</th>\n",
       "      <th>spoken_languages</th>\n",
       "      <th>status</th>\n",
       "      <th>tagline</th>\n",
       "      <th>title</th>\n",
       "      <th>vote_average</th>\n",
       "      <th>vote_count</th>\n",
       "    </tr>\n",
       "  </thead>\n",
       "  <tbody>\n",
       "    <tr>\n",
       "      <th>0</th>\n",
       "      <td>237000000</td>\n",
       "      <td>[{\"id\": 28, \"name\": \"Action\"}, {\"id\": 12, \"name\": \"Adventure\"}, {\"id\": 14, \"name\": \"Fantasy\"}, {...</td>\n",
       "      <td>http://www.avatarmovie.com/</td>\n",
       "      <td>19995</td>\n",
       "      <td>[{\"id\": 1463, \"name\": \"culture clash\"}, {\"id\": 2964, \"name\": \"future\"}, {\"id\": 3386, \"name\": \"sp...</td>\n",
       "      <td>en</td>\n",
       "      <td>Avatar</td>\n",
       "      <td>In the 22nd century, a paraplegic Marine is dispatched to the moon Pandora on a unique mission, ...</td>\n",
       "      <td>150.437577</td>\n",
       "      <td>[{\"name\": \"Ingenious Film Partners\", \"id\": 289}, {\"name\": \"Twentieth Century Fox Film Corporatio...</td>\n",
       "      <td>[{\"iso_3166_1\": \"US\", \"name\": \"United States of America\"}, {\"iso_3166_1\": \"GB\", \"name\": \"United ...</td>\n",
       "      <td>2009-12-10</td>\n",
       "      <td>2787965087</td>\n",
       "      <td>162.0</td>\n",
       "      <td>[{\"iso_639_1\": \"en\", \"name\": \"English\"}, {\"iso_639_1\": \"es\", \"name\": \"Espa\\u00f1ol\"}]</td>\n",
       "      <td>Released</td>\n",
       "      <td>Enter the World of Pandora.</td>\n",
       "      <td>Avatar</td>\n",
       "      <td>7.2</td>\n",
       "      <td>11800</td>\n",
       "    </tr>\n",
       "    <tr>\n",
       "      <th>1</th>\n",
       "      <td>300000000</td>\n",
       "      <td>[{\"id\": 12, \"name\": \"Adventure\"}, {\"id\": 14, \"name\": \"Fantasy\"}, {\"id\": 28, \"name\": \"Action\"}]</td>\n",
       "      <td>http://disney.go.com/disneypictures/pirates/</td>\n",
       "      <td>285</td>\n",
       "      <td>[{\"id\": 270, \"name\": \"ocean\"}, {\"id\": 726, \"name\": \"drug abuse\"}, {\"id\": 911, \"name\": \"exotic is...</td>\n",
       "      <td>en</td>\n",
       "      <td>Pirates of the Caribbean: At World's End</td>\n",
       "      <td>Captain Barbossa, long believed to be dead, has come back to life and is headed to the edge of t...</td>\n",
       "      <td>139.082615</td>\n",
       "      <td>[{\"name\": \"Walt Disney Pictures\", \"id\": 2}, {\"name\": \"Jerry Bruckheimer Films\", \"id\": 130}, {\"na...</td>\n",
       "      <td>[{\"iso_3166_1\": \"US\", \"name\": \"United States of America\"}]</td>\n",
       "      <td>2007-05-19</td>\n",
       "      <td>961000000</td>\n",
       "      <td>169.0</td>\n",
       "      <td>[{\"iso_639_1\": \"en\", \"name\": \"English\"}]</td>\n",
       "      <td>Released</td>\n",
       "      <td>At the end of the world, the adventure begins.</td>\n",
       "      <td>Pirates of the Caribbean: At World's End</td>\n",
       "      <td>6.9</td>\n",
       "      <td>4500</td>\n",
       "    </tr>\n",
       "  </tbody>\n",
       "</table>\n",
       "</div>"
      ],
      "text/plain": [
       "      budget  \\\n",
       "0  237000000   \n",
       "1  300000000   \n",
       "\n",
       "                                                                                                genres  \\\n",
       "0  [{\"id\": 28, \"name\": \"Action\"}, {\"id\": 12, \"name\": \"Adventure\"}, {\"id\": 14, \"name\": \"Fantasy\"}, {...   \n",
       "1       [{\"id\": 12, \"name\": \"Adventure\"}, {\"id\": 14, \"name\": \"Fantasy\"}, {\"id\": 28, \"name\": \"Action\"}]   \n",
       "\n",
       "                                       homepage     id  \\\n",
       "0                   http://www.avatarmovie.com/  19995   \n",
       "1  http://disney.go.com/disneypictures/pirates/    285   \n",
       "\n",
       "                                                                                              keywords  \\\n",
       "0  [{\"id\": 1463, \"name\": \"culture clash\"}, {\"id\": 2964, \"name\": \"future\"}, {\"id\": 3386, \"name\": \"sp...   \n",
       "1  [{\"id\": 270, \"name\": \"ocean\"}, {\"id\": 726, \"name\": \"drug abuse\"}, {\"id\": 911, \"name\": \"exotic is...   \n",
       "\n",
       "  original_language                            original_title  \\\n",
       "0                en                                    Avatar   \n",
       "1                en  Pirates of the Caribbean: At World's End   \n",
       "\n",
       "                                                                                              overview  \\\n",
       "0  In the 22nd century, a paraplegic Marine is dispatched to the moon Pandora on a unique mission, ...   \n",
       "1  Captain Barbossa, long believed to be dead, has come back to life and is headed to the edge of t...   \n",
       "\n",
       "   popularity  \\\n",
       "0  150.437577   \n",
       "1  139.082615   \n",
       "\n",
       "                                                                                  production_companies  \\\n",
       "0  [{\"name\": \"Ingenious Film Partners\", \"id\": 289}, {\"name\": \"Twentieth Century Fox Film Corporatio...   \n",
       "1  [{\"name\": \"Walt Disney Pictures\", \"id\": 2}, {\"name\": \"Jerry Bruckheimer Films\", \"id\": 130}, {\"na...   \n",
       "\n",
       "                                                                                  production_countries  \\\n",
       "0  [{\"iso_3166_1\": \"US\", \"name\": \"United States of America\"}, {\"iso_3166_1\": \"GB\", \"name\": \"United ...   \n",
       "1                                           [{\"iso_3166_1\": \"US\", \"name\": \"United States of America\"}]   \n",
       "\n",
       "  release_date     revenue  runtime  \\\n",
       "0   2009-12-10  2787965087    162.0   \n",
       "1   2007-05-19   961000000    169.0   \n",
       "\n",
       "                                                                        spoken_languages  \\\n",
       "0  [{\"iso_639_1\": \"en\", \"name\": \"English\"}, {\"iso_639_1\": \"es\", \"name\": \"Espa\\u00f1ol\"}]   \n",
       "1                                               [{\"iso_639_1\": \"en\", \"name\": \"English\"}]   \n",
       "\n",
       "     status                                         tagline  \\\n",
       "0  Released                     Enter the World of Pandora.   \n",
       "1  Released  At the end of the world, the adventure begins.   \n",
       "\n",
       "                                      title  vote_average  vote_count  \n",
       "0                                    Avatar           7.2       11800  \n",
       "1  Pirates of the Caribbean: At World's End           6.9        4500  "
      ]
     },
     "execution_count": 182,
     "metadata": {},
     "output_type": "execute_result"
    }
   ],
   "source": [
    "# p.603\n",
    "import pandas as pd\n",
    "movies= pd.read_csv(\"C:/Users/user/머신러닝/tmdb_5000_movies.csv\")\n",
    "movies[:2]"
   ]
  },
  {
   "cell_type": "code",
   "execution_count": 183,
   "id": "6704d659-950e-4f2c-8115-d33e14dc0904",
   "metadata": {
    "collapsed": true,
    "jupyter": {
     "outputs_hidden": true
    },
    "tags": []
   },
   "outputs": [
    {
     "name": "stdout",
     "output_type": "stream",
     "text": [
      "<class 'pandas.core.frame.DataFrame'>\n",
      "RangeIndex: 4803 entries, 0 to 4802\n",
      "Data columns (total 20 columns):\n",
      " #   Column                Non-Null Count  Dtype  \n",
      "---  ------                --------------  -----  \n",
      " 0   budget                4803 non-null   int64  \n",
      " 1   genres                4803 non-null   object \n",
      " 2   homepage              1712 non-null   object \n",
      " 3   id                    4803 non-null   int64  \n",
      " 4   keywords              4803 non-null   object \n",
      " 5   original_language     4803 non-null   object \n",
      " 6   original_title        4803 non-null   object \n",
      " 7   overview              4800 non-null   object \n",
      " 8   popularity            4803 non-null   float64\n",
      " 9   production_companies  4803 non-null   object \n",
      " 10  production_countries  4803 non-null   object \n",
      " 11  release_date          4802 non-null   object \n",
      " 12  revenue               4803 non-null   int64  \n",
      " 13  runtime               4801 non-null   float64\n",
      " 14  spoken_languages      4803 non-null   object \n",
      " 15  status                4803 non-null   object \n",
      " 16  tagline               3959 non-null   object \n",
      " 17  title                 4803 non-null   object \n",
      " 18  vote_average          4803 non-null   float64\n",
      " 19  vote_count            4803 non-null   int64  \n",
      "dtypes: float64(3), int64(4), object(13)\n",
      "memory usage: 750.6+ KB\n"
     ]
    }
   ],
   "source": [
    "movies.info()"
   ]
  },
  {
   "cell_type": "code",
   "execution_count": 185,
   "id": "2fdbdd13-d38b-4215-8558-321d2b1fcc7f",
   "metadata": {
    "collapsed": true,
    "jupyter": {
     "outputs_hidden": true
    },
    "tags": []
   },
   "outputs": [
    {
     "data": {
      "text/html": [
       "<div>\n",
       "<style scoped>\n",
       "    .dataframe tbody tr th:only-of-type {\n",
       "        vertical-align: middle;\n",
       "    }\n",
       "\n",
       "    .dataframe tbody tr th {\n",
       "        vertical-align: top;\n",
       "    }\n",
       "\n",
       "    .dataframe thead th {\n",
       "        text-align: right;\n",
       "    }\n",
       "</style>\n",
       "<table border=\"1\" class=\"dataframe\">\n",
       "  <thead>\n",
       "    <tr style=\"text-align: right;\">\n",
       "      <th></th>\n",
       "      <th>id</th>\n",
       "      <th>title</th>\n",
       "      <th>genres</th>\n",
       "      <th>vote_average</th>\n",
       "      <th>vote_count</th>\n",
       "      <th>popularity</th>\n",
       "      <th>keywords</th>\n",
       "      <th>overview</th>\n",
       "    </tr>\n",
       "  </thead>\n",
       "  <tbody>\n",
       "    <tr>\n",
       "      <th>0</th>\n",
       "      <td>19995</td>\n",
       "      <td>Avatar</td>\n",
       "      <td>[{\"id\": 28, \"name\": \"Action\"}, {\"id\": 12, \"name\": \"Adventure\"}, {\"id\": 14, \"name\": \"Fantasy\"}, {...</td>\n",
       "      <td>7.2</td>\n",
       "      <td>11800</td>\n",
       "      <td>150.437577</td>\n",
       "      <td>[{\"id\": 1463, \"name\": \"culture clash\"}, {\"id\": 2964, \"name\": \"future\"}, {\"id\": 3386, \"name\": \"sp...</td>\n",
       "      <td>In the 22nd century, a paraplegic Marine is dispatched to the moon Pandora on a unique mission, ...</td>\n",
       "    </tr>\n",
       "    <tr>\n",
       "      <th>1</th>\n",
       "      <td>285</td>\n",
       "      <td>Pirates of the Caribbean: At World's End</td>\n",
       "      <td>[{\"id\": 12, \"name\": \"Adventure\"}, {\"id\": 14, \"name\": \"Fantasy\"}, {\"id\": 28, \"name\": \"Action\"}]</td>\n",
       "      <td>6.9</td>\n",
       "      <td>4500</td>\n",
       "      <td>139.082615</td>\n",
       "      <td>[{\"id\": 270, \"name\": \"ocean\"}, {\"id\": 726, \"name\": \"drug abuse\"}, {\"id\": 911, \"name\": \"exotic is...</td>\n",
       "      <td>Captain Barbossa, long believed to be dead, has come back to life and is headed to the edge of t...</td>\n",
       "    </tr>\n",
       "  </tbody>\n",
       "</table>\n",
       "</div>"
      ],
      "text/plain": [
       "      id                                     title  \\\n",
       "0  19995                                    Avatar   \n",
       "1    285  Pirates of the Caribbean: At World's End   \n",
       "\n",
       "                                                                                                genres  \\\n",
       "0  [{\"id\": 28, \"name\": \"Action\"}, {\"id\": 12, \"name\": \"Adventure\"}, {\"id\": 14, \"name\": \"Fantasy\"}, {...   \n",
       "1       [{\"id\": 12, \"name\": \"Adventure\"}, {\"id\": 14, \"name\": \"Fantasy\"}, {\"id\": 28, \"name\": \"Action\"}]   \n",
       "\n",
       "   vote_average  vote_count  popularity  \\\n",
       "0           7.2       11800  150.437577   \n",
       "1           6.9        4500  139.082615   \n",
       "\n",
       "                                                                                              keywords  \\\n",
       "0  [{\"id\": 1463, \"name\": \"culture clash\"}, {\"id\": 2964, \"name\": \"future\"}, {\"id\": 3386, \"name\": \"sp...   \n",
       "1  [{\"id\": 270, \"name\": \"ocean\"}, {\"id\": 726, \"name\": \"drug abuse\"}, {\"id\": 911, \"name\": \"exotic is...   \n",
       "\n",
       "                                                                                              overview  \n",
       "0  In the 22nd century, a paraplegic Marine is dispatched to the moon Pandora on a unique mission, ...  \n",
       "1  Captain Barbossa, long believed to be dead, has come back to life and is headed to the edge of t...  "
      ]
     },
     "execution_count": 185,
     "metadata": {},
     "output_type": "execute_result"
    }
   ],
   "source": [
    "# 주요칼럼을 추출해 데이터프레임으로 변환\n",
    "movies_df=movies.iloc[:, [3,17,1,18,19,8,4,7]]\n",
    "movies_df[:2]"
   ]
  },
  {
   "cell_type": "code",
   "execution_count": 186,
   "id": "e593383d-5502-43a8-919c-cd59cdd36f2b",
   "metadata": {},
   "outputs": [
    {
     "data": {
      "text/html": [
       "<div>\n",
       "<style scoped>\n",
       "    .dataframe tbody tr th:only-of-type {\n",
       "        vertical-align: middle;\n",
       "    }\n",
       "\n",
       "    .dataframe tbody tr th {\n",
       "        vertical-align: top;\n",
       "    }\n",
       "\n",
       "    .dataframe thead th {\n",
       "        text-align: right;\n",
       "    }\n",
       "</style>\n",
       "<table border=\"1\" class=\"dataframe\">\n",
       "  <thead>\n",
       "    <tr style=\"text-align: right;\">\n",
       "      <th></th>\n",
       "      <th>genres</th>\n",
       "      <th>keywords</th>\n",
       "    </tr>\n",
       "  </thead>\n",
       "  <tbody>\n",
       "    <tr>\n",
       "      <th>0</th>\n",
       "      <td>[{\"id\": 28, \"name\": \"Action\"}, {\"id\": 12, \"name\": \"Adventure\"}, {\"id\": 14, \"name\": \"Fantasy\"}, {...</td>\n",
       "      <td>[{\"id\": 1463, \"name\": \"culture clash\"}, {\"id\": 2964, \"name\": \"future\"}, {\"id\": 3386, \"name\": \"sp...</td>\n",
       "    </tr>\n",
       "  </tbody>\n",
       "</table>\n",
       "</div>"
      ],
      "text/plain": [
       "                                                                                                genres  \\\n",
       "0  [{\"id\": 28, \"name\": \"Action\"}, {\"id\": 12, \"name\": \"Adventure\"}, {\"id\": 14, \"name\": \"Fantasy\"}, {...   \n",
       "\n",
       "                                                                                              keywords  \n",
       "0  [{\"id\": 1463, \"name\": \"culture clash\"}, {\"id\": 2964, \"name\": \"future\"}, {\"id\": 3386, \"name\": \"sp...  "
      ]
     },
     "execution_count": 186,
     "metadata": {},
     "output_type": "execute_result"
    }
   ],
   "source": [
    "pd.set_option('max_colwidth',100)\n",
    "movies_df[['genres', 'keywords']][:1]\n",
    "\n",
    "# 개별 장르 명칭은 딕셔너리 key인 'name'으로 추출"
   ]
  },
  {
   "cell_type": "code",
   "execution_count": 106,
   "id": "304b8e3e-ea2d-48f2-9d61-95b138417e34",
   "metadata": {},
   "outputs": [
    {
     "data": {
      "text/plain": [
       "'[{\"id\": 28, \"name\": \"Action\"}, {\"id\": 12, \"name\": \"Adventure\"}, {\"id\": 14, \"name\": \"Fantasy\"}, {\"id\": 878, \"name\": \"Science Fiction\"}]'"
      ]
     },
     "execution_count": 106,
     "metadata": {},
     "output_type": "execute_result"
    }
   ],
   "source": [
    "movies['genres'][0]\n",
    "# 딕셔너리를 리스트로 묶여있다?\n",
    "# 문자열을 인덱싱 해져있음\n",
    "# 문자열이 들어오면 딕셔너리로 바꿔준다"
   ]
  },
  {
   "cell_type": "code",
   "execution_count": 111,
   "id": "27074985-42a4-4ea9-9105-5f83477c8528",
   "metadata": {},
   "outputs": [
    {
     "name": "stderr",
     "output_type": "stream",
     "text": [
      "C:\\Users\\user\\AppData\\Local\\Temp\\ipykernel_12652\\3455261708.py:2: SettingWithCopyWarning: \n",
      "A value is trying to be set on a copy of a slice from a DataFrame.\n",
      "Try using .loc[row_indexer,col_indexer] = value instead\n",
      "\n",
      "See the caveats in the documentation: https://pandas.pydata.org/pandas-docs/stable/user_guide/indexing.html#returning-a-view-versus-a-copy\n",
      "  movies_df['genres']= movies_df['genres'].apply(literal_eval)\n",
      "C:\\Users\\user\\AppData\\Local\\Temp\\ipykernel_12652\\3455261708.py:3: SettingWithCopyWarning: \n",
      "A value is trying to be set on a copy of a slice from a DataFrame.\n",
      "Try using .loc[row_indexer,col_indexer] = value instead\n",
      "\n",
      "See the caveats in the documentation: https://pandas.pydata.org/pandas-docs/stable/user_guide/indexing.html#returning-a-view-versus-a-copy\n",
      "  movies_df['keywords']= movies_df['keywords'].apply(literal_eval)\n"
     ]
    }
   ],
   "source": [
    "# 문자열을 객체로 변환(리스트)\n",
    "movies_df['genres']= movies_df['genres'].apply(literal_eval)\n",
    "movies_df['keywords']= movies_df['keywords'].apply(literal_eval)"
   ]
  },
  {
   "cell_type": "code",
   "execution_count": 107,
   "id": "b70f331a-72ac-4c32-addd-8462c9676e07",
   "metadata": {},
   "outputs": [
    {
     "data": {
      "text/plain": [
       "{'id': 28, 'name': 'Action'}"
      ]
     },
     "execution_count": 107,
     "metadata": {},
     "output_type": "execute_result"
    }
   ],
   "source": [
    "from ast import literal_eval\n",
    "literal_eval('{\"id\": 28, \"name\": \"Action\"}')"
   ]
  },
  {
   "cell_type": "code",
   "execution_count": 108,
   "id": "02957331-6339-4edc-85d2-9eddee4da718",
   "metadata": {},
   "outputs": [
    {
     "data": {
      "text/plain": [
       "dict"
      ]
     },
     "execution_count": 108,
     "metadata": {},
     "output_type": "execute_result"
    }
   ],
   "source": [
    "type(literal_eval('{\"id\": 28, \"name\": \"Action\"}'))\n",
    "\n",
    "# 딕셔너리 형태로 들어가져있다"
   ]
  },
  {
   "cell_type": "code",
   "execution_count": 109,
   "id": "680aff8b-e555-47fe-948c-f7393819dca2",
   "metadata": {},
   "outputs": [
    {
     "data": {
      "text/plain": [
       "'Action'"
      ]
     },
     "execution_count": 109,
     "metadata": {},
     "output_type": "execute_result"
    }
   ],
   "source": [
    "literal_eval(movies['genres'][0])[0]['name']\n",
    "# 리스트니까 인덱싱이 가능함\n",
    "# key가 name"
   ]
  },
  {
   "cell_type": "code",
   "execution_count": null,
   "id": "43bebfd8-3d34-48f5-9467-03ed5342a3b5",
   "metadata": {},
   "outputs": [],
   "source": []
  },
  {
   "cell_type": "code",
   "execution_count": null,
   "id": "8f98a9bd-05b9-4027-ad12-90e39aa99272",
   "metadata": {},
   "outputs": [],
   "source": []
  },
  {
   "cell_type": "code",
   "execution_count": 112,
   "id": "c30f5e68-ed74-4518-b10c-bf60bac96a85",
   "metadata": {},
   "outputs": [
    {
     "data": {
      "text/plain": [
       "[{'id': 28, 'name': 'Action'},\n",
       " {'id': 12, 'name': 'Adventure'},\n",
       " {'id': 14, 'name': 'Fantasy'},\n",
       " {'id': 878, 'name': 'Science Fiction'}]"
      ]
     },
     "execution_count": 112,
     "metadata": {},
     "output_type": "execute_result"
    }
   ],
   "source": [
    "# 장르 뽑아내기\n",
    "movies_df['genres'][0]"
   ]
  },
  {
   "cell_type": "code",
   "execution_count": 113,
   "id": "29a42b76-0066-4535-8e53-ac7136385700",
   "metadata": {},
   "outputs": [
    {
     "name": "stdout",
     "output_type": "stream",
     "text": [
      "{'id': 28, 'name': 'Action'}\n",
      "{'id': 12, 'name': 'Adventure'}\n",
      "{'id': 14, 'name': 'Fantasy'}\n",
      "{'id': 878, 'name': 'Science Fiction'}\n"
     ]
    }
   ],
   "source": [
    "# i 뽑아내기\n",
    "for i in movies_df['genres'][0]:\n",
    "    print(i)"
   ]
  },
  {
   "cell_type": "code",
   "execution_count": 114,
   "id": "bc6836c3-9e0c-4b7d-9f23-269fbe7bd009",
   "metadata": {},
   "outputs": [
    {
     "name": "stdout",
     "output_type": "stream",
     "text": [
      "Action\n",
      "Adventure\n",
      "Fantasy\n",
      "Science Fiction\n"
     ]
    }
   ],
   "source": [
    "# i 중에서 key가 name인 것만 보여줘라\n",
    "for i in movies_df['genres'][0]:\n",
    "        print(i['name'])"
   ]
  },
  {
   "cell_type": "code",
   "execution_count": 115,
   "id": "b3e14cfd-61b8-41d8-a93d-6305119d3f98",
   "metadata": {},
   "outputs": [
    {
     "data": {
      "text/plain": [
       "['Action', 'Adventure', 'Fantasy', 'Science Fiction']"
      ]
     },
     "execution_count": 115,
     "metadata": {},
     "output_type": "execute_result"
    }
   ],
   "source": [
    "[i ['name'] for i in movies_df['genres'][0]]"
   ]
  },
  {
   "cell_type": "code",
   "execution_count": 188,
   "id": "adac4fc6-372a-4bbe-be6b-3bf6d1a69b05",
   "metadata": {},
   "outputs": [
    {
     "ename": "TypeError",
     "evalue": "string indices must be integers",
     "output_type": "error",
     "traceback": [
      "\u001b[1;31m---------------------------------------------------------------------------\u001b[0m",
      "\u001b[1;31mTypeError\u001b[0m                                 Traceback (most recent call last)",
      "Cell \u001b[1;32mIn [188], line 1\u001b[0m\n\u001b[1;32m----> 1\u001b[0m movies_df[\u001b[38;5;124m'\u001b[39m\u001b[38;5;124mgenres\u001b[39m\u001b[38;5;124m'\u001b[39m] \u001b[38;5;241m=\u001b[39m \u001b[43mmovies_df\u001b[49m\u001b[43m[\u001b[49m\u001b[38;5;124;43m'\u001b[39;49m\u001b[38;5;124;43mgenres\u001b[39;49m\u001b[38;5;124;43m'\u001b[39;49m\u001b[43m]\u001b[49m\u001b[38;5;241;43m.\u001b[39;49m\u001b[43mapply\u001b[49m\u001b[43m(\u001b[49m\u001b[38;5;28;43;01mlambda\u001b[39;49;00m\u001b[43m \u001b[49m\u001b[43mx\u001b[49m\u001b[43m:\u001b[49m\u001b[43m \u001b[49m\u001b[43m[\u001b[49m\u001b[43my\u001b[49m\u001b[43m[\u001b[49m\u001b[38;5;124;43m'\u001b[39;49m\u001b[38;5;124;43mname\u001b[39;49m\u001b[38;5;124;43m'\u001b[39;49m\u001b[43m]\u001b[49m\u001b[43m \u001b[49m\u001b[38;5;28;43;01mfor\u001b[39;49;00m\u001b[43m \u001b[49m\u001b[43my\u001b[49m\u001b[43m \u001b[49m\u001b[38;5;129;43;01min\u001b[39;49;00m\u001b[43m \u001b[49m\u001b[43mx\u001b[49m\u001b[43m]\u001b[49m\u001b[43m)\u001b[49m\n\u001b[0;32m      2\u001b[0m movies_df[\u001b[38;5;124m'\u001b[39m\u001b[38;5;124mkeywords\u001b[39m\u001b[38;5;124m'\u001b[39m] \u001b[38;5;241m=\u001b[39m movies_df[\u001b[38;5;124m'\u001b[39m\u001b[38;5;124mkeywords\u001b[39m\u001b[38;5;124m'\u001b[39m]\u001b[38;5;241m.\u001b[39mapply(\u001b[38;5;28;01mlambda\u001b[39;00m x: [y[\u001b[38;5;124m'\u001b[39m\u001b[38;5;124mname\u001b[39m\u001b[38;5;124m'\u001b[39m] \u001b[38;5;28;01mfor\u001b[39;00m y \u001b[38;5;129;01min\u001b[39;00m x])\n",
      "File \u001b[1;32m~\\AppData\\Local\\Programs\\Python\\Python39\\lib\\site-packages\\pandas\\core\\series.py:4771\u001b[0m, in \u001b[0;36mSeries.apply\u001b[1;34m(self, func, convert_dtype, args, **kwargs)\u001b[0m\n\u001b[0;32m   4661\u001b[0m \u001b[38;5;28;01mdef\u001b[39;00m \u001b[38;5;21mapply\u001b[39m(\n\u001b[0;32m   4662\u001b[0m     \u001b[38;5;28mself\u001b[39m,\n\u001b[0;32m   4663\u001b[0m     func: AggFuncType,\n\u001b[1;32m   (...)\u001b[0m\n\u001b[0;32m   4666\u001b[0m     \u001b[38;5;241m*\u001b[39m\u001b[38;5;241m*\u001b[39mkwargs,\n\u001b[0;32m   4667\u001b[0m ) \u001b[38;5;241m-\u001b[39m\u001b[38;5;241m>\u001b[39m DataFrame \u001b[38;5;241m|\u001b[39m Series:\n\u001b[0;32m   4668\u001b[0m     \u001b[38;5;124;03m\"\"\"\u001b[39;00m\n\u001b[0;32m   4669\u001b[0m \u001b[38;5;124;03m    Invoke function on values of Series.\u001b[39;00m\n\u001b[0;32m   4670\u001b[0m \n\u001b[1;32m   (...)\u001b[0m\n\u001b[0;32m   4769\u001b[0m \u001b[38;5;124;03m    dtype: float64\u001b[39;00m\n\u001b[0;32m   4770\u001b[0m \u001b[38;5;124;03m    \"\"\"\u001b[39;00m\n\u001b[1;32m-> 4771\u001b[0m     \u001b[38;5;28;01mreturn\u001b[39;00m \u001b[43mSeriesApply\u001b[49m\u001b[43m(\u001b[49m\u001b[38;5;28;43mself\u001b[39;49m\u001b[43m,\u001b[49m\u001b[43m \u001b[49m\u001b[43mfunc\u001b[49m\u001b[43m,\u001b[49m\u001b[43m \u001b[49m\u001b[43mconvert_dtype\u001b[49m\u001b[43m,\u001b[49m\u001b[43m \u001b[49m\u001b[43margs\u001b[49m\u001b[43m,\u001b[49m\u001b[43m \u001b[49m\u001b[43mkwargs\u001b[49m\u001b[43m)\u001b[49m\u001b[38;5;241;43m.\u001b[39;49m\u001b[43mapply\u001b[49m\u001b[43m(\u001b[49m\u001b[43m)\u001b[49m\n",
      "File \u001b[1;32m~\\AppData\\Local\\Programs\\Python\\Python39\\lib\\site-packages\\pandas\\core\\apply.py:1105\u001b[0m, in \u001b[0;36mSeriesApply.apply\u001b[1;34m(self)\u001b[0m\n\u001b[0;32m   1102\u001b[0m     \u001b[38;5;28;01mreturn\u001b[39;00m \u001b[38;5;28mself\u001b[39m\u001b[38;5;241m.\u001b[39mapply_str()\n\u001b[0;32m   1104\u001b[0m \u001b[38;5;66;03m# self.f is Callable\u001b[39;00m\n\u001b[1;32m-> 1105\u001b[0m \u001b[38;5;28;01mreturn\u001b[39;00m \u001b[38;5;28;43mself\u001b[39;49m\u001b[38;5;241;43m.\u001b[39;49m\u001b[43mapply_standard\u001b[49m\u001b[43m(\u001b[49m\u001b[43m)\u001b[49m\n",
      "File \u001b[1;32m~\\AppData\\Local\\Programs\\Python\\Python39\\lib\\site-packages\\pandas\\core\\apply.py:1156\u001b[0m, in \u001b[0;36mSeriesApply.apply_standard\u001b[1;34m(self)\u001b[0m\n\u001b[0;32m   1154\u001b[0m     \u001b[38;5;28;01melse\u001b[39;00m:\n\u001b[0;32m   1155\u001b[0m         values \u001b[38;5;241m=\u001b[39m obj\u001b[38;5;241m.\u001b[39mastype(\u001b[38;5;28mobject\u001b[39m)\u001b[38;5;241m.\u001b[39m_values\n\u001b[1;32m-> 1156\u001b[0m         mapped \u001b[38;5;241m=\u001b[39m \u001b[43mlib\u001b[49m\u001b[38;5;241;43m.\u001b[39;49m\u001b[43mmap_infer\u001b[49m\u001b[43m(\u001b[49m\n\u001b[0;32m   1157\u001b[0m \u001b[43m            \u001b[49m\u001b[43mvalues\u001b[49m\u001b[43m,\u001b[49m\n\u001b[0;32m   1158\u001b[0m \u001b[43m            \u001b[49m\u001b[43mf\u001b[49m\u001b[43m,\u001b[49m\n\u001b[0;32m   1159\u001b[0m \u001b[43m            \u001b[49m\u001b[43mconvert\u001b[49m\u001b[38;5;241;43m=\u001b[39;49m\u001b[38;5;28;43mself\u001b[39;49m\u001b[38;5;241;43m.\u001b[39;49m\u001b[43mconvert_dtype\u001b[49m\u001b[43m,\u001b[49m\n\u001b[0;32m   1160\u001b[0m \u001b[43m        \u001b[49m\u001b[43m)\u001b[49m\n\u001b[0;32m   1162\u001b[0m \u001b[38;5;28;01mif\u001b[39;00m \u001b[38;5;28mlen\u001b[39m(mapped) \u001b[38;5;129;01mand\u001b[39;00m \u001b[38;5;28misinstance\u001b[39m(mapped[\u001b[38;5;241m0\u001b[39m], ABCSeries):\n\u001b[0;32m   1163\u001b[0m     \u001b[38;5;66;03m# GH#43986 Need to do list(mapped) in order to get treated as nested\u001b[39;00m\n\u001b[0;32m   1164\u001b[0m     \u001b[38;5;66;03m#  See also GH#25959 regarding EA support\u001b[39;00m\n\u001b[0;32m   1165\u001b[0m     \u001b[38;5;28;01mreturn\u001b[39;00m obj\u001b[38;5;241m.\u001b[39m_constructor_expanddim(\u001b[38;5;28mlist\u001b[39m(mapped), index\u001b[38;5;241m=\u001b[39mobj\u001b[38;5;241m.\u001b[39mindex)\n",
      "File \u001b[1;32m~\\AppData\\Local\\Programs\\Python\\Python39\\lib\\site-packages\\pandas\\_libs\\lib.pyx:2918\u001b[0m, in \u001b[0;36mpandas._libs.lib.map_infer\u001b[1;34m()\u001b[0m\n",
      "Cell \u001b[1;32mIn [188], line 1\u001b[0m, in \u001b[0;36m<lambda>\u001b[1;34m(x)\u001b[0m\n\u001b[1;32m----> 1\u001b[0m movies_df[\u001b[38;5;124m'\u001b[39m\u001b[38;5;124mgenres\u001b[39m\u001b[38;5;124m'\u001b[39m] \u001b[38;5;241m=\u001b[39m movies_df[\u001b[38;5;124m'\u001b[39m\u001b[38;5;124mgenres\u001b[39m\u001b[38;5;124m'\u001b[39m]\u001b[38;5;241m.\u001b[39mapply(\u001b[38;5;28;01mlambda\u001b[39;00m x: [y[\u001b[38;5;124m'\u001b[39m\u001b[38;5;124mname\u001b[39m\u001b[38;5;124m'\u001b[39m] \u001b[38;5;28;01mfor\u001b[39;00m y \u001b[38;5;129;01min\u001b[39;00m x])\n\u001b[0;32m      2\u001b[0m movies_df[\u001b[38;5;124m'\u001b[39m\u001b[38;5;124mkeywords\u001b[39m\u001b[38;5;124m'\u001b[39m] \u001b[38;5;241m=\u001b[39m movies_df[\u001b[38;5;124m'\u001b[39m\u001b[38;5;124mkeywords\u001b[39m\u001b[38;5;124m'\u001b[39m]\u001b[38;5;241m.\u001b[39mapply(\u001b[38;5;28;01mlambda\u001b[39;00m x: [y[\u001b[38;5;124m'\u001b[39m\u001b[38;5;124mname\u001b[39m\u001b[38;5;124m'\u001b[39m] \u001b[38;5;28;01mfor\u001b[39;00m y \u001b[38;5;129;01min\u001b[39;00m x])\n",
      "Cell \u001b[1;32mIn [188], line 1\u001b[0m, in \u001b[0;36m<listcomp>\u001b[1;34m(.0)\u001b[0m\n\u001b[1;32m----> 1\u001b[0m movies_df[\u001b[38;5;124m'\u001b[39m\u001b[38;5;124mgenres\u001b[39m\u001b[38;5;124m'\u001b[39m] \u001b[38;5;241m=\u001b[39m movies_df[\u001b[38;5;124m'\u001b[39m\u001b[38;5;124mgenres\u001b[39m\u001b[38;5;124m'\u001b[39m]\u001b[38;5;241m.\u001b[39mapply(\u001b[38;5;28;01mlambda\u001b[39;00m x: [\u001b[43my\u001b[49m\u001b[43m[\u001b[49m\u001b[38;5;124;43m'\u001b[39;49m\u001b[38;5;124;43mname\u001b[39;49m\u001b[38;5;124;43m'\u001b[39;49m\u001b[43m]\u001b[49m \u001b[38;5;28;01mfor\u001b[39;00m y \u001b[38;5;129;01min\u001b[39;00m x])\n\u001b[0;32m      2\u001b[0m movies_df[\u001b[38;5;124m'\u001b[39m\u001b[38;5;124mkeywords\u001b[39m\u001b[38;5;124m'\u001b[39m] \u001b[38;5;241m=\u001b[39m movies_df[\u001b[38;5;124m'\u001b[39m\u001b[38;5;124mkeywords\u001b[39m\u001b[38;5;124m'\u001b[39m]\u001b[38;5;241m.\u001b[39mapply(\u001b[38;5;28;01mlambda\u001b[39;00m x: [y[\u001b[38;5;124m'\u001b[39m\u001b[38;5;124mname\u001b[39m\u001b[38;5;124m'\u001b[39m] \u001b[38;5;28;01mfor\u001b[39;00m y \u001b[38;5;129;01min\u001b[39;00m x])\n",
      "\u001b[1;31mTypeError\u001b[0m: string indices must be integers"
     ]
    }
   ],
   "source": [
    "movies_df['genres'] = movies_df['genres'].apply(lambda x: [y['name'] for y in x])\n",
    "movies_df['keywords'] = movies_df['keywords'].apply(lambda x: [y['name'] for y in x])\n"
   ]
  },
  {
   "cell_type": "code",
   "execution_count": 117,
   "id": "cb82d783-b0ed-4fc6-9614-b82d3beac549",
   "metadata": {},
   "outputs": [
    {
     "data": {
      "text/html": [
       "<div>\n",
       "<style scoped>\n",
       "    .dataframe tbody tr th:only-of-type {\n",
       "        vertical-align: middle;\n",
       "    }\n",
       "\n",
       "    .dataframe tbody tr th {\n",
       "        vertical-align: top;\n",
       "    }\n",
       "\n",
       "    .dataframe thead th {\n",
       "        text-align: right;\n",
       "    }\n",
       "</style>\n",
       "<table border=\"1\" class=\"dataframe\">\n",
       "  <thead>\n",
       "    <tr style=\"text-align: right;\">\n",
       "      <th></th>\n",
       "      <th>id</th>\n",
       "      <th>title</th>\n",
       "      <th>genres</th>\n",
       "      <th>vote_average</th>\n",
       "      <th>vote_count</th>\n",
       "      <th>popularity</th>\n",
       "      <th>keywords</th>\n",
       "      <th>overview</th>\n",
       "    </tr>\n",
       "  </thead>\n",
       "  <tbody>\n",
       "    <tr>\n",
       "      <th>0</th>\n",
       "      <td>19995</td>\n",
       "      <td>Avatar</td>\n",
       "      <td>[Action, Adventure, Fantasy, Science Fiction]</td>\n",
       "      <td>7.2</td>\n",
       "      <td>11800</td>\n",
       "      <td>150.437577</td>\n",
       "      <td>[culture clash, future, space war, space colon...</td>\n",
       "      <td>In the 22nd century, a paraplegic Marine is di...</td>\n",
       "    </tr>\n",
       "    <tr>\n",
       "      <th>1</th>\n",
       "      <td>285</td>\n",
       "      <td>Pirates of the Caribbean: At World's End</td>\n",
       "      <td>[Adventure, Fantasy, Action]</td>\n",
       "      <td>6.9</td>\n",
       "      <td>4500</td>\n",
       "      <td>139.082615</td>\n",
       "      <td>[ocean, drug abuse, exotic island, east india ...</td>\n",
       "      <td>Captain Barbossa, long believed to be dead, ha...</td>\n",
       "    </tr>\n",
       "  </tbody>\n",
       "</table>\n",
       "</div>"
      ],
      "text/plain": [
       "      id                                     title  \\\n",
       "0  19995                                    Avatar   \n",
       "1    285  Pirates of the Caribbean: At World's End   \n",
       "\n",
       "                                          genres  vote_average  vote_count  \\\n",
       "0  [Action, Adventure, Fantasy, Science Fiction]           7.2       11800   \n",
       "1                   [Adventure, Fantasy, Action]           6.9        4500   \n",
       "\n",
       "   popularity                                           keywords  \\\n",
       "0  150.437577  [culture clash, future, space war, space colon...   \n",
       "1  139.082615  [ocean, drug abuse, exotic island, east india ...   \n",
       "\n",
       "                                            overview  \n",
       "0  In the 22nd century, a paraplegic Marine is di...  \n",
       "1  Captain Barbossa, long believed to be dead, ha...  "
      ]
     },
     "execution_count": 117,
     "metadata": {},
     "output_type": "execute_result"
    }
   ],
   "source": [
    "movies_df[:2]"
   ]
  },
  {
   "cell_type": "code",
   "execution_count": 118,
   "id": "ea3fc62c-7a9f-4ffb-8575-8a4ec059f6f0",
   "metadata": {},
   "outputs": [],
   "source": [
    "from sklearn.feature_extraction.text import CountVectorizer\n",
    "\n",
    "count_vect=CountVectorizer(min_df=0,ngram_range=(1, 2))\n"
   ]
  },
  {
   "cell_type": "code",
   "execution_count": 119,
   "id": "50c7e948-a60f-421e-8bc0-5fba145ee172",
   "metadata": {},
   "outputs": [
    {
     "name": "stderr",
     "output_type": "stream",
     "text": [
      "C:\\Users\\user\\AppData\\Local\\Temp\\ipykernel_12652\\3670477529.py:1: SettingWithCopyWarning: \n",
      "A value is trying to be set on a copy of a slice from a DataFrame.\n",
      "Try using .loc[row_indexer,col_indexer] = value instead\n",
      "\n",
      "See the caveats in the documentation: https://pandas.pydata.org/pandas-docs/stable/user_guide/indexing.html#returning-a-view-versus-a-copy\n",
      "  movies_df['genres_literal']=movies_df['genres'].apply(lambda x: \" \".join(x))\n"
     ]
    },
    {
     "data": {
      "text/plain": [
       "0       Action Adventure Fantasy Science Fiction\n",
       "1                       Adventure Fantasy Action\n",
       "2                         Action Adventure Crime\n",
       "3                    Action Crime Drama Thriller\n",
       "4               Action Adventure Science Fiction\n",
       "                          ...                   \n",
       "4798                       Action Crime Thriller\n",
       "4799                              Comedy Romance\n",
       "4800               Comedy Drama Romance TV Movie\n",
       "4801                                            \n",
       "4802                                 Documentary\n",
       "Name: genres_literal, Length: 4803, dtype: object"
      ]
     },
     "execution_count": 119,
     "metadata": {},
     "output_type": "execute_result"
    }
   ],
   "source": [
    "movies_df['genres_literal']=movies_df['genres'].apply(lambda x: \" \".join(x))\n",
    "movies_df['genres_literal']"
   ]
  },
  {
   "cell_type": "code",
   "execution_count": 120,
   "id": "cb688308-88b8-460a-806b-cb171499bafb",
   "metadata": {},
   "outputs": [
    {
     "data": {
      "text/plain": [
       "(4803, 276)"
      ]
     },
     "execution_count": 120,
     "metadata": {},
     "output_type": "execute_result"
    }
   ],
   "source": [
    "genre_mat = count_vect.fit_transform(movies_df['genres_literal'])\n",
    "genre_mat.shape"
   ]
  },
  {
   "cell_type": "code",
   "execution_count": 121,
   "id": "fdea7ca8-798b-4fd3-b91f-735975b831fb",
   "metadata": {},
   "outputs": [
    {
     "data": {
      "text/plain": [
       "array([[1.        , 0.59628479, 0.4472136 , ..., 0.        , 0.        ,\n",
       "        0.        ],\n",
       "       [0.59628479, 1.        , 0.4       , ..., 0.        , 0.        ,\n",
       "        0.        ],\n",
       "       [0.4472136 , 0.4       , 1.        , ..., 0.        , 0.        ,\n",
       "        0.        ],\n",
       "       ...,\n",
       "       [0.        , 0.        , 0.        , ..., 1.        , 0.        ,\n",
       "        0.        ],\n",
       "       [0.        , 0.        , 0.        , ..., 0.        , 0.        ,\n",
       "        0.        ],\n",
       "       [0.        , 0.        , 0.        , ..., 0.        , 0.        ,\n",
       "        1.        ]])"
      ]
     },
     "execution_count": 121,
     "metadata": {},
     "output_type": "execute_result"
    }
   ],
   "source": [
    "# 장르 유사도 구하기\n",
    "from sklearn.metrics.pairwise import cosine_similarity\n",
    "cosine_similarity(genre_mat, genre_mat)"
   ]
  },
  {
   "cell_type": "code",
   "execution_count": 122,
   "id": "c8debbdf-969a-4b18-8dd1-4ed666664c3a",
   "metadata": {},
   "outputs": [],
   "source": [
    "genre_sim = cosine_similarity(genre_mat, genre_mat)"
   ]
  },
  {
   "cell_type": "code",
   "execution_count": 123,
   "id": "3ceff9e9-92b2-4741-9f54-f347c671c65a",
   "metadata": {},
   "outputs": [
    {
     "data": {
      "text/plain": [
       "array([[2401, 3037, 3038, ...,  813, 3494,    0],\n",
       "       [2401, 3067, 3069, ...,  129,    1,  262],\n",
       "       [2401, 2999, 3000, ..., 1542, 1740,    2],\n",
       "       ...,\n",
       "       [   0, 2230, 2229, ..., 1895, 3809, 4800],\n",
       "       [   0, 3205, 3204, ..., 1596, 1594, 4802],\n",
       "       [   0, 3141, 3140, ..., 4521, 4710, 4802]], dtype=int64)"
      ]
     },
     "execution_count": 123,
     "metadata": {},
     "output_type": "execute_result"
    }
   ],
   "source": [
    "import numpy as np\n",
    "np.argsort(genre_sim)"
   ]
  },
  {
   "cell_type": "code",
   "execution_count": 124,
   "id": "38ab9daf-f78f-4e28-8b1e-699f895f4f23",
   "metadata": {},
   "outputs": [
    {
     "data": {
      "text/plain": [
       "array([[2401, 3037, 3038, ...,  813, 3494,    0],\n",
       "       [2401, 3067, 3069, ...,  129,    1,  262],\n",
       "       [2401, 2999, 3000, ..., 1542, 1740,    2],\n",
       "       ...,\n",
       "       [   0, 2230, 2229, ..., 1895, 3809, 4800],\n",
       "       [   0, 3205, 3204, ..., 1596, 1594, 4802],\n",
       "       [   0, 3141, 3140, ..., 4521, 4710, 4802]], dtype=int64)"
      ]
     },
     "execution_count": 124,
     "metadata": {},
     "output_type": "execute_result"
    }
   ],
   "source": [
    "np.argsort(genre_sim)[:,::1]"
   ]
  },
  {
   "cell_type": "code",
   "execution_count": 125,
   "id": "82e186e3-02b3-4786-bcec-b30ef3ac5cc5",
   "metadata": {},
   "outputs": [
    {
     "data": {
      "text/plain": [
       "array([[2401, 3037, 3038, ...,  813, 3494,    0]], dtype=int64)"
      ]
     },
     "execution_count": 125,
     "metadata": {},
     "output_type": "execute_result"
    }
   ],
   "source": [
    "np.argsort(genre_sim)[:,::1][:1]"
   ]
  },
  {
   "cell_type": "code",
   "execution_count": 129,
   "id": "d93f07da-848b-437d-a0e7-0333602b59e8",
   "metadata": {},
   "outputs": [
    {
     "data": {
      "text/plain": [
       "array([[   0, 3494,  813, ..., 3038, 3037, 2401]], dtype=int64)"
      ]
     },
     "execution_count": 129,
     "metadata": {},
     "output_type": "execute_result"
    }
   ],
   "source": [
    "genre_sim_sorted=genre_sim.argsort()[:,::-1]\n",
    "genre_sim_sorted[:1]"
   ]
  },
  {
   "cell_type": "code",
   "execution_count": 131,
   "id": "b7d0a40e-45ce-4e24-8543-abc679924cf7",
   "metadata": {
    "collapsed": true,
    "jupyter": {
     "outputs_hidden": true
    },
    "tags": []
   },
   "outputs": [
    {
     "data": {
      "text/html": [
       "<div>\n",
       "<style scoped>\n",
       "    .dataframe tbody tr th:only-of-type {\n",
       "        vertical-align: middle;\n",
       "    }\n",
       "\n",
       "    .dataframe tbody tr th {\n",
       "        vertical-align: top;\n",
       "    }\n",
       "\n",
       "    .dataframe thead th {\n",
       "        text-align: right;\n",
       "    }\n",
       "</style>\n",
       "<table border=\"1\" class=\"dataframe\">\n",
       "  <thead>\n",
       "    <tr style=\"text-align: right;\">\n",
       "      <th></th>\n",
       "      <th>id</th>\n",
       "      <th>title</th>\n",
       "      <th>genres</th>\n",
       "      <th>vote_average</th>\n",
       "      <th>vote_count</th>\n",
       "      <th>popularity</th>\n",
       "      <th>keywords</th>\n",
       "      <th>overview</th>\n",
       "      <th>genres_literal</th>\n",
       "    </tr>\n",
       "  </thead>\n",
       "  <tbody>\n",
       "    <tr>\n",
       "      <th>0</th>\n",
       "      <td>19995</td>\n",
       "      <td>Avatar</td>\n",
       "      <td>[Action, Adventure, Fantasy, Science Fiction]</td>\n",
       "      <td>7.2</td>\n",
       "      <td>11800</td>\n",
       "      <td>150.437577</td>\n",
       "      <td>[culture clash, future, space war, space colon...</td>\n",
       "      <td>In the 22nd century, a paraplegic Marine is di...</td>\n",
       "      <td>Action Adventure Fantasy Science Fiction</td>\n",
       "    </tr>\n",
       "    <tr>\n",
       "      <th>3494</th>\n",
       "      <td>27549</td>\n",
       "      <td>Beastmaster 2: Through the Portal of Time</td>\n",
       "      <td>[Action, Adventure, Fantasy, Science Fiction]</td>\n",
       "      <td>4.6</td>\n",
       "      <td>17</td>\n",
       "      <td>1.478505</td>\n",
       "      <td>[based on novel, time travel, sequel, psychotr...</td>\n",
       "      <td>Mark Singer returns as Dar, the warrior who ca...</td>\n",
       "      <td>Action Adventure Fantasy Science Fiction</td>\n",
       "    </tr>\n",
       "    <tr>\n",
       "      <th>813</th>\n",
       "      <td>1924</td>\n",
       "      <td>Superman</td>\n",
       "      <td>[Action, Adventure, Fantasy, Science Fiction]</td>\n",
       "      <td>6.9</td>\n",
       "      <td>1022</td>\n",
       "      <td>48.507081</td>\n",
       "      <td>[saving the world, journalist, dc comics, crim...</td>\n",
       "      <td>Mild-mannered Clark Kent works as a reporter a...</td>\n",
       "      <td>Action Adventure Fantasy Science Fiction</td>\n",
       "    </tr>\n",
       "    <tr>\n",
       "      <th>870</th>\n",
       "      <td>8536</td>\n",
       "      <td>Superman II</td>\n",
       "      <td>[Action, Adventure, Fantasy, Science Fiction]</td>\n",
       "      <td>6.5</td>\n",
       "      <td>629</td>\n",
       "      <td>30.515175</td>\n",
       "      <td>[saving the world, dc comics, sequel, superher...</td>\n",
       "      <td>Three escaped criminals from the planet Krypto...</td>\n",
       "      <td>Action Adventure Fantasy Science Fiction</td>\n",
       "    </tr>\n",
       "    <tr>\n",
       "      <th>46</th>\n",
       "      <td>127585</td>\n",
       "      <td>X-Men: Days of Future Past</td>\n",
       "      <td>[Action, Adventure, Fantasy, Science Fiction]</td>\n",
       "      <td>7.5</td>\n",
       "      <td>6032</td>\n",
       "      <td>118.078691</td>\n",
       "      <td>[1970s, mutant, time travel, marvel comic, bas...</td>\n",
       "      <td>The ultimate X-Men ensemble fights a war for t...</td>\n",
       "      <td>Action Adventure Fantasy Science Fiction</td>\n",
       "    </tr>\n",
       "    <tr>\n",
       "      <th>...</th>\n",
       "      <td>...</td>\n",
       "      <td>...</td>\n",
       "      <td>...</td>\n",
       "      <td>...</td>\n",
       "      <td>...</td>\n",
       "      <td>...</td>\n",
       "      <td>...</td>\n",
       "      <td>...</td>\n",
       "      <td>...</td>\n",
       "    </tr>\n",
       "    <tr>\n",
       "      <th>3041</th>\n",
       "      <td>27322</td>\n",
       "      <td>Love Jones</td>\n",
       "      <td>[Comedy, Drama, Romance]</td>\n",
       "      <td>8.1</td>\n",
       "      <td>12</td>\n",
       "      <td>1.000178</td>\n",
       "      <td>[sex, ex-boyfriend, independent film, african ...</td>\n",
       "      <td>Darius Lovehall is a young black poet in Chica...</td>\n",
       "      <td>Comedy Drama Romance</td>\n",
       "    </tr>\n",
       "    <tr>\n",
       "      <th>3039</th>\n",
       "      <td>75900</td>\n",
       "      <td>My Week with Marilyn</td>\n",
       "      <td>[Drama]</td>\n",
       "      <td>6.6</td>\n",
       "      <td>406</td>\n",
       "      <td>21.006078</td>\n",
       "      <td>[based on novel, biography, historical figure,...</td>\n",
       "      <td>Sir Laurence Olivier is making a movie in Lond...</td>\n",
       "      <td>Drama</td>\n",
       "    </tr>\n",
       "    <tr>\n",
       "      <th>3038</th>\n",
       "      <td>17710</td>\n",
       "      <td>Hey Arnold! The Movie</td>\n",
       "      <td>[Animation, Family]</td>\n",
       "      <td>5.6</td>\n",
       "      <td>62</td>\n",
       "      <td>5.856363</td>\n",
       "      <td>[]</td>\n",
       "      <td>When a powerful developer named Mr. Scheck wan...</td>\n",
       "      <td>Animation Family</td>\n",
       "    </tr>\n",
       "    <tr>\n",
       "      <th>3037</th>\n",
       "      <td>19905</td>\n",
       "      <td>The Goods: Live Hard, Sell Hard</td>\n",
       "      <td>[Comedy]</td>\n",
       "      <td>5.4</td>\n",
       "      <td>58</td>\n",
       "      <td>3.352702</td>\n",
       "      <td>[duringcreditsstinger]</td>\n",
       "      <td>Who is Don Ready? Salesman? Lover? Song Stylis...</td>\n",
       "      <td>Comedy</td>\n",
       "    </tr>\n",
       "    <tr>\n",
       "      <th>2401</th>\n",
       "      <td>31932</td>\n",
       "      <td>City of Ghosts</td>\n",
       "      <td>[Thriller]</td>\n",
       "      <td>5.4</td>\n",
       "      <td>18</td>\n",
       "      <td>2.644860</td>\n",
       "      <td>[]</td>\n",
       "      <td>A con man (Dillon) travels to Cambodia (also o...</td>\n",
       "      <td>Thriller</td>\n",
       "    </tr>\n",
       "  </tbody>\n",
       "</table>\n",
       "<p>4803 rows × 9 columns</p>\n",
       "</div>"
      ],
      "text/plain": [
       "          id                                      title  \\\n",
       "0      19995                                     Avatar   \n",
       "3494   27549  Beastmaster 2: Through the Portal of Time   \n",
       "813     1924                                   Superman   \n",
       "870     8536                                Superman II   \n",
       "46    127585                 X-Men: Days of Future Past   \n",
       "...      ...                                        ...   \n",
       "3041   27322                                 Love Jones   \n",
       "3039   75900                       My Week with Marilyn   \n",
       "3038   17710                      Hey Arnold! The Movie   \n",
       "3037   19905            The Goods: Live Hard, Sell Hard   \n",
       "2401   31932                             City of Ghosts   \n",
       "\n",
       "                                             genres  vote_average  vote_count  \\\n",
       "0     [Action, Adventure, Fantasy, Science Fiction]           7.2       11800   \n",
       "3494  [Action, Adventure, Fantasy, Science Fiction]           4.6          17   \n",
       "813   [Action, Adventure, Fantasy, Science Fiction]           6.9        1022   \n",
       "870   [Action, Adventure, Fantasy, Science Fiction]           6.5         629   \n",
       "46    [Action, Adventure, Fantasy, Science Fiction]           7.5        6032   \n",
       "...                                             ...           ...         ...   \n",
       "3041                       [Comedy, Drama, Romance]           8.1          12   \n",
       "3039                                        [Drama]           6.6         406   \n",
       "3038                            [Animation, Family]           5.6          62   \n",
       "3037                                       [Comedy]           5.4          58   \n",
       "2401                                     [Thriller]           5.4          18   \n",
       "\n",
       "      popularity                                           keywords  \\\n",
       "0     150.437577  [culture clash, future, space war, space colon...   \n",
       "3494    1.478505  [based on novel, time travel, sequel, psychotr...   \n",
       "813    48.507081  [saving the world, journalist, dc comics, crim...   \n",
       "870    30.515175  [saving the world, dc comics, sequel, superher...   \n",
       "46    118.078691  [1970s, mutant, time travel, marvel comic, bas...   \n",
       "...          ...                                                ...   \n",
       "3041    1.000178  [sex, ex-boyfriend, independent film, african ...   \n",
       "3039   21.006078  [based on novel, biography, historical figure,...   \n",
       "3038    5.856363                                                 []   \n",
       "3037    3.352702                             [duringcreditsstinger]   \n",
       "2401    2.644860                                                 []   \n",
       "\n",
       "                                               overview  \\\n",
       "0     In the 22nd century, a paraplegic Marine is di...   \n",
       "3494  Mark Singer returns as Dar, the warrior who ca...   \n",
       "813   Mild-mannered Clark Kent works as a reporter a...   \n",
       "870   Three escaped criminals from the planet Krypto...   \n",
       "46    The ultimate X-Men ensemble fights a war for t...   \n",
       "...                                                 ...   \n",
       "3041  Darius Lovehall is a young black poet in Chica...   \n",
       "3039  Sir Laurence Olivier is making a movie in Lond...   \n",
       "3038  When a powerful developer named Mr. Scheck wan...   \n",
       "3037  Who is Don Ready? Salesman? Lover? Song Stylis...   \n",
       "2401  A con man (Dillon) travels to Cambodia (also o...   \n",
       "\n",
       "                                genres_literal  \n",
       "0     Action Adventure Fantasy Science Fiction  \n",
       "3494  Action Adventure Fantasy Science Fiction  \n",
       "813   Action Adventure Fantasy Science Fiction  \n",
       "870   Action Adventure Fantasy Science Fiction  \n",
       "46    Action Adventure Fantasy Science Fiction  \n",
       "...                                        ...  \n",
       "3041                      Comedy Drama Romance  \n",
       "3039                                     Drama  \n",
       "3038                          Animation Family  \n",
       "3037                                    Comedy  \n",
       "2401                                  Thriller  \n",
       "\n",
       "[4803 rows x 9 columns]"
      ]
     },
     "execution_count": 131,
     "metadata": {},
     "output_type": "execute_result"
    }
   ],
   "source": [
    "movies_df.iloc[np.argsort(genre_sim)[:, ::-1][0], :] "
   ]
  },
  {
   "cell_type": "code",
   "execution_count": 102,
   "id": "5910baf2-70b5-45e4-b038-90ba6cb72cdf",
   "metadata": {},
   "outputs": [
    {
     "name": "stdout",
     "output_type": "stream",
     "text": [
      "[10 11 12 13]\n",
      "[1 0 3 2]\n",
      "[2 3 0 1]\n",
      "[13 12 11 10]\n"
     ]
    }
   ],
   "source": [
    "# ex) 연습 p.607\n",
    "a= np.array([11,10,13,12])\n",
    "print(np.sort(a))\n",
    "print(np.argsort(a))\n",
    "print(np.argsort(a)[::-1])\n",
    "print(a[[2,3,0,1]])"
   ]
  },
  {
   "cell_type": "code",
   "execution_count": 143,
   "id": "850b873f-f65d-49be-887d-943019361934",
   "metadata": {},
   "outputs": [],
   "source": [
    "# kids 라는 영화에 검색 조건을 걸어줌\n",
    "# df로 만들고\n",
    "\n",
    "#df=movies_df.copy()\n",
    "title_movie=df[df['title']==\"kids\"]"
   ]
  },
  {
   "cell_type": "code",
   "execution_count": 176,
   "id": "66cd2345-97db-41d3-bb22-3f3f03261198",
   "metadata": {},
   "outputs": [],
   "source": [
    "def find_sim_movie(df, sorted_ind, title_name, top_n=10):\n",
    "    \n",
    "    # 인자로 입력된 movies_df DataFrame에서 'title' 컬럼이 입력된 title_name 값인 DataFrame추출\n",
    "    title_movie = df[df['title'] == title_name]\n",
    "    \n",
    "    # title_named을 가진 DataFrame의 index 객체를 ndarray로 반환하고 \n",
    "    # sorted_ind 인자로 입력된 genre_sim_sorted_ind 객체에서 유사도 순으로 top_n 개의 index 추출\n",
    "    title_index = title_movie.index.values\n",
    "    similar_indexes = sorted_ind[title_index, :(top_n)]\n",
    "    \n",
    "    # 추출된 top_n index들 출력. top_n index는 2차원 데이터 임. \n",
    "    #dataframe에서 index로 사용하기 위해서 1차원 array로 변경\n",
    "    print(similar_indexes)\n",
    "    similar_indexes = similar_indexes.reshape(-1)\n",
    "    \n",
    "    return df.iloc[similar_indexes] "
   ]
  },
  {
   "cell_type": "code",
   "execution_count": 177,
   "id": "1d30940b-14e5-419a-a54f-76432847e40b",
   "metadata": {
    "tags": []
   },
   "outputs": [
    {
     "name": "stdout",
     "output_type": "stream",
     "text": [
      "[[2731 1243 3636 1946 2640 4065 1847 4217  883 3866]]\n"
     ]
    },
    {
     "data": {
      "text/html": [
       "<div>\n",
       "<style scoped>\n",
       "    .dataframe tbody tr th:only-of-type {\n",
       "        vertical-align: middle;\n",
       "    }\n",
       "\n",
       "    .dataframe tbody tr th {\n",
       "        vertical-align: top;\n",
       "    }\n",
       "\n",
       "    .dataframe thead th {\n",
       "        text-align: right;\n",
       "    }\n",
       "</style>\n",
       "<table border=\"1\" class=\"dataframe\">\n",
       "  <thead>\n",
       "    <tr style=\"text-align: right;\">\n",
       "      <th></th>\n",
       "      <th>title</th>\n",
       "      <th>vote_average</th>\n",
       "    </tr>\n",
       "  </thead>\n",
       "  <tbody>\n",
       "    <tr>\n",
       "      <th>2731</th>\n",
       "      <td>The Godfather: Part II</td>\n",
       "      <td>8.3</td>\n",
       "    </tr>\n",
       "    <tr>\n",
       "      <th>1243</th>\n",
       "      <td>Mean Streets</td>\n",
       "      <td>7.2</td>\n",
       "    </tr>\n",
       "    <tr>\n",
       "      <th>3636</th>\n",
       "      <td>Light Sleeper</td>\n",
       "      <td>5.7</td>\n",
       "    </tr>\n",
       "    <tr>\n",
       "      <th>1946</th>\n",
       "      <td>The Bad Lieutenant: Port of Call - New Orleans</td>\n",
       "      <td>6.0</td>\n",
       "    </tr>\n",
       "    <tr>\n",
       "      <th>2640</th>\n",
       "      <td>Things to Do in Denver When You're Dead</td>\n",
       "      <td>6.7</td>\n",
       "    </tr>\n",
       "    <tr>\n",
       "      <th>4065</th>\n",
       "      <td>Mi America</td>\n",
       "      <td>0.0</td>\n",
       "    </tr>\n",
       "    <tr>\n",
       "      <th>1847</th>\n",
       "      <td>GoodFellas</td>\n",
       "      <td>8.2</td>\n",
       "    </tr>\n",
       "    <tr>\n",
       "      <th>4217</th>\n",
       "      <td>Kids</td>\n",
       "      <td>6.8</td>\n",
       "    </tr>\n",
       "    <tr>\n",
       "      <th>883</th>\n",
       "      <td>Catch Me If You Can</td>\n",
       "      <td>7.7</td>\n",
       "    </tr>\n",
       "    <tr>\n",
       "      <th>3866</th>\n",
       "      <td>City of God</td>\n",
       "      <td>8.1</td>\n",
       "    </tr>\n",
       "  </tbody>\n",
       "</table>\n",
       "</div>"
      ],
      "text/plain": [
       "                                               title  vote_average\n",
       "2731                          The Godfather: Part II           8.3\n",
       "1243                                    Mean Streets           7.2\n",
       "3636                                   Light Sleeper           5.7\n",
       "1946  The Bad Lieutenant: Port of Call - New Orleans           6.0\n",
       "2640         Things to Do in Denver When You're Dead           6.7\n",
       "4065                                      Mi America           0.0\n",
       "1847                                      GoodFellas           8.2\n",
       "4217                                            Kids           6.8\n",
       "883                              Catch Me If You Can           7.7\n",
       "3866                                     City of God           8.1"
      ]
     },
     "execution_count": 177,
     "metadata": {},
     "output_type": "execute_result"
    }
   ],
   "source": [
    "# 상위 10개 장르별 추천 영화\n",
    "similar_movies= find_sim_movie(movies_df, genre_sim_sorted, 'The Godfather', 10)\n",
    "similar_movies[['title', 'vote_average']]"
   ]
  },
  {
   "cell_type": "code",
   "execution_count": null,
   "id": "5f2a42e9-5f1e-4130-acac-c94f8b09eba1",
   "metadata": {},
   "outputs": [],
   "source": []
  },
  {
   "cell_type": "code",
   "execution_count": null,
   "id": "522fd593-0e21-4721-a304-e760577cf9c1",
   "metadata": {},
   "outputs": [],
   "source": []
  },
  {
   "cell_type": "code",
   "execution_count": null,
   "id": "b678fd65-49d1-4e33-a01c-f14e8a740b1b",
   "metadata": {},
   "outputs": [],
   "source": []
  },
  {
   "cell_type": "code",
   "execution_count": null,
   "id": "2d2e8f53-efe9-41a2-ba06-88b508cf0eee",
   "metadata": {},
   "outputs": [],
   "source": [
    "# p.610\n",
    "v/(v+m)*0.6  m/(v+m)*0.4"
   ]
  },
  {
   "cell_type": "code",
   "execution_count": 151,
   "id": "34f276a9-8a74-4655-9adf-e47dd8b8d576",
   "metadata": {},
   "outputs": [
    {
     "name": "stdout",
     "output_type": "stream",
     "text": [
      "6.092171559442016\n",
      "370.1999999999998\n"
     ]
    }
   ],
   "source": [
    "C= movies_df['vote_average'].mean()\n",
    "m= movies_df['vote_count'].quantile(0.6)\n",
    "print(C)\n",
    "print(m)"
   ]
  },
  {
   "cell_type": "code",
   "execution_count": 173,
   "id": "374ef78b-c1d9-4a45-83ce-b748b85a4d9a",
   "metadata": {
    "collapsed": true,
    "jupyter": {
     "outputs_hidden": true
    },
    "tags": []
   },
   "outputs": [
    {
     "ename": "NameError",
     "evalue": "name 'record' is not defined",
     "output_type": "error",
     "traceback": [
      "\u001b[1;31m---------------------------------------------------------------------------\u001b[0m",
      "\u001b[1;31mNameError\u001b[0m                                 Traceback (most recent call last)",
      "Cell \u001b[1;32mIn [173], line 9\u001b[0m\n\u001b[0;32m      6\u001b[0m     \u001b[38;5;28;01mreturn\u001b[39;00m ((v\u001b[38;5;241m/\u001b[39m(v\u001b[38;5;241m+\u001b[39mm))\u001b[38;5;241m*\u001b[39mR)\u001b[38;5;241m+\u001b[39m ((m\u001b[38;5;241m/\u001b[39m(m\u001b[38;5;241m+\u001b[39mv))\u001b[38;5;241m*\u001b[39mC)\n\u001b[0;32m      8\u001b[0m \u001b[38;5;66;03m#movies['weighted_vote']=\u001b[39;00m\n\u001b[1;32m----> 9\u001b[0m movies_df[\u001b[38;5;124m'\u001b[39m\u001b[38;5;124mvote_count\u001b[39m\u001b[38;5;124m'\u001b[39m]\u001b[38;5;241m=\u001b[39m\u001b[43mmovies_df\u001b[49m\u001b[38;5;241;43m.\u001b[39;49m\u001b[43mapply\u001b[49m\u001b[43m(\u001b[49m\u001b[43mweighted_vote_average\u001b[49m\u001b[43m,\u001b[49m\u001b[43m \u001b[49m\u001b[43maxis\u001b[49m\u001b[38;5;241;43m=\u001b[39;49m\u001b[38;5;241;43m1\u001b[39;49m\u001b[43m)\u001b[49m\n",
      "File \u001b[1;32m~\\AppData\\Local\\Programs\\Python\\Python39\\lib\\site-packages\\pandas\\core\\frame.py:9555\u001b[0m, in \u001b[0;36mDataFrame.apply\u001b[1;34m(self, func, axis, raw, result_type, args, **kwargs)\u001b[0m\n\u001b[0;32m   9544\u001b[0m \u001b[38;5;28;01mfrom\u001b[39;00m \u001b[38;5;21;01mpandas\u001b[39;00m\u001b[38;5;21;01m.\u001b[39;00m\u001b[38;5;21;01mcore\u001b[39;00m\u001b[38;5;21;01m.\u001b[39;00m\u001b[38;5;21;01mapply\u001b[39;00m \u001b[38;5;28;01mimport\u001b[39;00m frame_apply\n\u001b[0;32m   9546\u001b[0m op \u001b[38;5;241m=\u001b[39m frame_apply(\n\u001b[0;32m   9547\u001b[0m     \u001b[38;5;28mself\u001b[39m,\n\u001b[0;32m   9548\u001b[0m     func\u001b[38;5;241m=\u001b[39mfunc,\n\u001b[1;32m   (...)\u001b[0m\n\u001b[0;32m   9553\u001b[0m     kwargs\u001b[38;5;241m=\u001b[39mkwargs,\n\u001b[0;32m   9554\u001b[0m )\n\u001b[1;32m-> 9555\u001b[0m \u001b[38;5;28;01mreturn\u001b[39;00m \u001b[43mop\u001b[49m\u001b[38;5;241;43m.\u001b[39;49m\u001b[43mapply\u001b[49m\u001b[43m(\u001b[49m\u001b[43m)\u001b[49m\u001b[38;5;241m.\u001b[39m__finalize__(\u001b[38;5;28mself\u001b[39m, method\u001b[38;5;241m=\u001b[39m\u001b[38;5;124m\"\u001b[39m\u001b[38;5;124mapply\u001b[39m\u001b[38;5;124m\"\u001b[39m)\n",
      "File \u001b[1;32m~\\AppData\\Local\\Programs\\Python\\Python39\\lib\\site-packages\\pandas\\core\\apply.py:746\u001b[0m, in \u001b[0;36mFrameApply.apply\u001b[1;34m(self)\u001b[0m\n\u001b[0;32m    743\u001b[0m \u001b[38;5;28;01melif\u001b[39;00m \u001b[38;5;28mself\u001b[39m\u001b[38;5;241m.\u001b[39mraw:\n\u001b[0;32m    744\u001b[0m     \u001b[38;5;28;01mreturn\u001b[39;00m \u001b[38;5;28mself\u001b[39m\u001b[38;5;241m.\u001b[39mapply_raw()\n\u001b[1;32m--> 746\u001b[0m \u001b[38;5;28;01mreturn\u001b[39;00m \u001b[38;5;28;43mself\u001b[39;49m\u001b[38;5;241;43m.\u001b[39;49m\u001b[43mapply_standard\u001b[49m\u001b[43m(\u001b[49m\u001b[43m)\u001b[49m\n",
      "File \u001b[1;32m~\\AppData\\Local\\Programs\\Python\\Python39\\lib\\site-packages\\pandas\\core\\apply.py:873\u001b[0m, in \u001b[0;36mFrameApply.apply_standard\u001b[1;34m(self)\u001b[0m\n\u001b[0;32m    872\u001b[0m \u001b[38;5;28;01mdef\u001b[39;00m \u001b[38;5;21mapply_standard\u001b[39m(\u001b[38;5;28mself\u001b[39m):\n\u001b[1;32m--> 873\u001b[0m     results, res_index \u001b[38;5;241m=\u001b[39m \u001b[38;5;28;43mself\u001b[39;49m\u001b[38;5;241;43m.\u001b[39;49m\u001b[43mapply_series_generator\u001b[49m\u001b[43m(\u001b[49m\u001b[43m)\u001b[49m\n\u001b[0;32m    875\u001b[0m     \u001b[38;5;66;03m# wrap results\u001b[39;00m\n\u001b[0;32m    876\u001b[0m     \u001b[38;5;28;01mreturn\u001b[39;00m \u001b[38;5;28mself\u001b[39m\u001b[38;5;241m.\u001b[39mwrap_results(results, res_index)\n",
      "File \u001b[1;32m~\\AppData\\Local\\Programs\\Python\\Python39\\lib\\site-packages\\pandas\\core\\apply.py:889\u001b[0m, in \u001b[0;36mFrameApply.apply_series_generator\u001b[1;34m(self)\u001b[0m\n\u001b[0;32m    886\u001b[0m \u001b[38;5;28;01mwith\u001b[39;00m option_context(\u001b[38;5;124m\"\u001b[39m\u001b[38;5;124mmode.chained_assignment\u001b[39m\u001b[38;5;124m\"\u001b[39m, \u001b[38;5;28;01mNone\u001b[39;00m):\n\u001b[0;32m    887\u001b[0m     \u001b[38;5;28;01mfor\u001b[39;00m i, v \u001b[38;5;129;01min\u001b[39;00m \u001b[38;5;28menumerate\u001b[39m(series_gen):\n\u001b[0;32m    888\u001b[0m         \u001b[38;5;66;03m# ignore SettingWithCopy here in case the user mutates\u001b[39;00m\n\u001b[1;32m--> 889\u001b[0m         results[i] \u001b[38;5;241m=\u001b[39m \u001b[38;5;28;43mself\u001b[39;49m\u001b[38;5;241;43m.\u001b[39;49m\u001b[43mf\u001b[49m\u001b[43m(\u001b[49m\u001b[43mv\u001b[49m\u001b[43m)\u001b[49m\n\u001b[0;32m    890\u001b[0m         \u001b[38;5;28;01mif\u001b[39;00m \u001b[38;5;28misinstance\u001b[39m(results[i], ABCSeries):\n\u001b[0;32m    891\u001b[0m             \u001b[38;5;66;03m# If we have a view on v, we need to make a copy because\u001b[39;00m\n\u001b[0;32m    892\u001b[0m             \u001b[38;5;66;03m#  series_generator will swap out the underlying data\u001b[39;00m\n\u001b[0;32m    893\u001b[0m             results[i] \u001b[38;5;241m=\u001b[39m results[i]\u001b[38;5;241m.\u001b[39mcopy(deep\u001b[38;5;241m=\u001b[39m\u001b[38;5;28;01mFalse\u001b[39;00m)\n",
      "Cell \u001b[1;32mIn [173], line 3\u001b[0m, in \u001b[0;36mweighted_vote_average\u001b[1;34m(recod)\u001b[0m\n\u001b[0;32m      2\u001b[0m \u001b[38;5;28;01mdef\u001b[39;00m \u001b[38;5;21mweighted_vote_average\u001b[39m(recod):\n\u001b[1;32m----> 3\u001b[0m     v\u001b[38;5;241m=\u001b[39m \u001b[43mrecord\u001b[49m[\u001b[38;5;124m'\u001b[39m\u001b[38;5;124mvote_count\u001b[39m\u001b[38;5;124m'\u001b[39m]\n\u001b[0;32m      4\u001b[0m     R\u001b[38;5;241m=\u001b[39m record[\u001b[38;5;124m'\u001b[39m\u001b[38;5;124mvote_average\u001b[39m\u001b[38;5;124m'\u001b[39m]\n\u001b[0;32m      6\u001b[0m     \u001b[38;5;28;01mreturn\u001b[39;00m ((v\u001b[38;5;241m/\u001b[39m(v\u001b[38;5;241m+\u001b[39mm))\u001b[38;5;241m*\u001b[39mR)\u001b[38;5;241m+\u001b[39m ((m\u001b[38;5;241m/\u001b[39m(m\u001b[38;5;241m+\u001b[39mv))\u001b[38;5;241m*\u001b[39mC)\n",
      "\u001b[1;31mNameError\u001b[0m: name 'record' is not defined"
     ]
    }
   ],
   "source": [
    "percentile=0.6\n",
    "def weighted_vote_average(recod):\n",
    "    v= record['vote_count']\n",
    "    R= record['vote_average']\n",
    "    \n",
    "    return ((v/(v+m))*R)+ ((m/(m+v))*C)\n",
    "\n",
    "#movies['weighted_vote']=\n",
    "movies_df['vote_count']=movies_df.apply(weighted_vote_average, axis=1)"
   ]
  },
  {
   "cell_type": "code",
   "execution_count": 168,
   "id": "fc832bc5-71f7-4558-a640-79545193b527",
   "metadata": {},
   "outputs": [
    {
     "name": "stderr",
     "output_type": "stream",
     "text": [
      "C:\\Users\\user\\AppData\\Local\\Temp\\ipykernel_12652\\880070793.py:1: SettingWithCopyWarning: \n",
      "A value is trying to be set on a copy of a slice from a DataFrame.\n",
      "Try using .loc[row_indexer,col_indexer] = value instead\n",
      "\n",
      "See the caveats in the documentation: https://pandas.pydata.org/pandas-docs/stable/user_guide/indexing.html#returning-a-view-versus-a-copy\n",
      "  movies_df['vote_count']=movies_df['vote_count'].replace(0,1)\n"
     ]
    },
    {
     "data": {
      "text/plain": [
       "0       11800\n",
       "1        4500\n",
       "2        4466\n",
       "3        9106\n",
       "4        2124\n",
       "        ...  \n",
       "4798      238\n",
       "4799        5\n",
       "4800        6\n",
       "4801        7\n",
       "4802       16\n",
       "Name: vote_count, Length: 4803, dtype: int64"
      ]
     },
     "execution_count": 168,
     "metadata": {},
     "output_type": "execute_result"
    }
   ],
   "source": [
    "movies_df['vote_count']=movies_df['vote_count'].replace(0,1)\n",
    "movies_df['vote_count']"
   ]
  },
  {
   "cell_type": "code",
   "execution_count": 169,
   "id": "4e169dde-2566-4c00-acf0-9ffe2e6754ee",
   "metadata": {},
   "outputs": [
    {
     "data": {
      "text/plain": [
       "<bound method IndexOpsMixin.value_counts of 0       11800\n",
       "1        4500\n",
       "2        4466\n",
       "3        9106\n",
       "4        2124\n",
       "        ...  \n",
       "4798      238\n",
       "4799        5\n",
       "4800        6\n",
       "4801        7\n",
       "4802       16\n",
       "Name: vote_count, Length: 4803, dtype: int64>"
      ]
     },
     "execution_count": 169,
     "metadata": {},
     "output_type": "execute_result"
    }
   ],
   "source": [
    "movies_df['vote_count'].value_counts"
   ]
  },
  {
   "cell_type": "code",
   "execution_count": 174,
   "id": "88287d48-2c71-4038-a0b7-63033fa88c0b",
   "metadata": {},
   "outputs": [
    {
     "ename": "NameError",
     "evalue": "name 'genre_sim_sorted_ind' is not defined",
     "output_type": "error",
     "traceback": [
      "\u001b[1;31m---------------------------------------------------------------------------\u001b[0m",
      "\u001b[1;31mNameError\u001b[0m                                 Traceback (most recent call last)",
      "Cell \u001b[1;32mIn [174], line 14\u001b[0m\n\u001b[0;32m     11\u001b[0m     \u001b[38;5;66;03m# top_n의 2배에 해당하는 후보군에서 weighted_vote 높은 순으로 top_n 만큼 추출 \u001b[39;00m\n\u001b[0;32m     12\u001b[0m     \u001b[38;5;28;01mreturn\u001b[39;00m df\u001b[38;5;241m.\u001b[39miloc[similar_indexes]\u001b[38;5;241m.\u001b[39msort_values(\u001b[38;5;124m'\u001b[39m\u001b[38;5;124mweighted_vote\u001b[39m\u001b[38;5;124m'\u001b[39m, ascending\u001b[38;5;241m=\u001b[39m\u001b[38;5;28;01mFalse\u001b[39;00m)[:top_n]\n\u001b[1;32m---> 14\u001b[0m similar_movies \u001b[38;5;241m=\u001b[39m find_sim_movie(movies_df, \u001b[43mgenre_sim_sorted_ind\u001b[49m, \u001b[38;5;124m'\u001b[39m\u001b[38;5;124mThe Godfather\u001b[39m\u001b[38;5;124m'\u001b[39m,\u001b[38;5;241m10\u001b[39m)\n\u001b[0;32m     15\u001b[0m similar_movies[[\u001b[38;5;124m'\u001b[39m\u001b[38;5;124mtitle\u001b[39m\u001b[38;5;124m'\u001b[39m, \u001b[38;5;124m'\u001b[39m\u001b[38;5;124mvote_average\u001b[39m\u001b[38;5;124m'\u001b[39m, \u001b[38;5;124m'\u001b[39m\u001b[38;5;124mweighted_vote\u001b[39m\u001b[38;5;124m'\u001b[39m]]\n",
      "\u001b[1;31mNameError\u001b[0m: name 'genre_sim_sorted_ind' is not defined"
     ]
    }
   ],
   "source": [
    "def find_sim_movie(df, sorted_ind, title_name, top_n=10):\n",
    "    title_movie = df[df['title'] == title_name]\n",
    "    title_index = title_movie.index.values\n",
    "    \n",
    "    # top_n의 2배에 해당하는 쟝르 유사성이 높은 index 추출 \n",
    "    similar_indexes = sorted_ind[title_index, :(top_n*2)]\n",
    "    similar_indexes = similar_indexes.reshape(-1)\n",
    "# 기준 영화 index는 제외\n",
    "    similar_indexes = similar_indexes[similar_indexes != title_index]\n",
    "    \n",
    "    # top_n의 2배에 해당하는 후보군에서 weighted_vote 높은 순으로 top_n 만큼 추출 \n",
    "    return df.iloc[similar_indexes].sort_values('weighted_vote', ascending=False)[:top_n]\n",
    "\n",
    "similar_movies = find_sim_movie(movies_df, genre_sim_sorted_ind, 'The Godfather',10)\n",
    "similar_movies[['title', 'vote_average', 'weighted_vote']] "
   ]
  },
  {
   "cell_type": "markdown",
   "id": "3cefc06a-199f-43e0-9220-c57808a76d47",
   "metadata": {},
   "source": [
    "## Surpeise를 이용한 추천 시스템 구축"
   ]
  },
  {
   "cell_type": "code",
   "execution_count": 8,
   "id": "b91a5660-2a96-4b3c-8d67-40f877a77df5",
   "metadata": {},
   "outputs": [
    {
     "name": "stdout",
     "output_type": "stream",
     "text": [
      "Requirement already satisfied: surprise in c:\\users\\user\\anaconda3\\lib\\site-packages (0.1)\n",
      "Requirement already satisfied: pip in c:\\users\\user\\anaconda3\\lib\\site-packages (22.3)\n",
      "Requirement already satisfied: scikit-surprise in c:\\users\\user\\anaconda3\\lib\\site-packages (from surprise) (1.1.1)\n",
      "Requirement already satisfied: joblib>=0.11 in c:\\users\\user\\anaconda3\\lib\\site-packages (from scikit-surprise->surprise) (1.1.0)\n",
      "Requirement already satisfied: numpy>=1.11.2 in c:\\users\\user\\anaconda3\\lib\\site-packages (from scikit-surprise->surprise) (1.22.4)\n",
      "Requirement already satisfied: scipy>=1.0.0 in c:\\users\\user\\anaconda3\\lib\\site-packages (from scikit-surprise->surprise) (1.7.3)\n",
      "Requirement already satisfied: six>=1.10.0 in c:\\users\\user\\anaconda3\\lib\\site-packages (from scikit-surprise->surprise) (1.16.0)\n",
      "Note: you may need to restart the kernel to use updated packages.\n"
     ]
    }
   ],
   "source": [
    "pip install surprise --upgrade pip"
   ]
  },
  {
   "cell_type": "code",
   "execution_count": 4,
   "id": "2ed26f66-2f4d-4d83-8612-740ac5d239c7",
   "metadata": {},
   "outputs": [],
   "source": [
    "from surprise import SVD\n",
    "from surprise import Dataset\n",
    "from surprise import accuracy\n",
    "from surprise.model_selection import train_test_split"
   ]
  },
  {
   "cell_type": "code",
   "execution_count": 6,
   "id": "09dac333-3a70-4a3a-a184-433338143b58",
   "metadata": {},
   "outputs": [
    {
     "name": "stdout",
     "output_type": "stream",
     "text": [
      "Dataset ml-100k could not be found. Do you want to download it? [Y/n] "
     ]
    },
    {
     "name": "stdin",
     "output_type": "stream",
     "text": [
      " Y\n"
     ]
    },
    {
     "name": "stdout",
     "output_type": "stream",
     "text": [
      "Trying to download dataset from http://files.grouplens.org/datasets/movielens/ml-100k.zip...\n",
      "Done! Dataset ml-100k has been saved to C:\\Users\\user/.surprise_data/ml-100k\n"
     ]
    }
   ],
   "source": [
    "data=Dataset.load_builtin('ml-100k')"
   ]
  },
  {
   "cell_type": "code",
   "execution_count": 7,
   "id": "bc6c361f-b503-427a-bd4f-bb4faae6ebfd",
   "metadata": {},
   "outputs": [
    {
     "ename": "NameError",
     "evalue": "name 'trainset' is not defined",
     "output_type": "error",
     "traceback": [
      "\u001b[1;31m---------------------------------------------------------------------------\u001b[0m",
      "\u001b[1;31mNameError\u001b[0m                                 Traceback (most recent call last)",
      "Input \u001b[1;32mIn [7]\u001b[0m, in \u001b[0;36m<cell line: 2>\u001b[1;34m()\u001b[0m\n\u001b[0;32m      1\u001b[0m algo\u001b[38;5;241m=\u001b[39m SVD(random_state\u001b[38;5;241m=\u001b[39m\u001b[38;5;241m0\u001b[39m)\n\u001b[1;32m----> 2\u001b[0m algo\u001b[38;5;241m.\u001b[39mfit(\u001b[43mtrainset\u001b[49m)\n",
      "\u001b[1;31mNameError\u001b[0m: name 'trainset' is not defined"
     ]
    }
   ],
   "source": [
    "algo= SVD(random_state=0)\n",
    "algo.fit(trainset)"
   ]
  },
  {
   "cell_type": "code",
   "execution_count": null,
   "id": "36e41680-631f-4e24-9275-4dbc90cd733d",
   "metadata": {},
   "outputs": [],
   "source": []
  }
 ],
 "metadata": {
  "kernelspec": {
   "display_name": "Python 3 (ipykernel)",
   "language": "python",
   "name": "python3"
  },
  "language_info": {
   "codemirror_mode": {
    "name": "ipython",
    "version": 3
   },
   "file_extension": ".py",
   "mimetype": "text/x-python",
   "name": "python",
   "nbconvert_exporter": "python",
   "pygments_lexer": "ipython3",
   "version": "3.9.12"
  }
 },
 "nbformat": 4,
 "nbformat_minor": 5
}
