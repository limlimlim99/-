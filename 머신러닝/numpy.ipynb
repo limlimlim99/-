{
 "cells": [
  {
   "cell_type": "code",
   "execution_count": 1,
   "id": "c3f292b9-7f2b-4054-bd4d-52c5ce81596a",
   "metadata": {},
   "outputs": [],
   "source": [
    "import numpy as np"
   ]
  },
  {
   "cell_type": "markdown",
   "id": "df27e327-a7b9-4669-b8f9-15e03105cfc4",
   "metadata": {},
   "source": [
    "# numpy array\n",
    "- narray를 통해 다차원 배열을 쉽게 생성하고 다양한 연산을 수행할 수 있다.\n",
    "- 넘파이 array() 함수는 파이썬 리스트와 같은 다양한 인자를 입력받아서 ndarray로 변환하는 기능을 수행\n",
    "- 생성된 narray 배열의 shape변수는 ndarray의 크기, 즉 행과 열의 수를 튜플 형태로 가지고 있으며 이를 통해 ndarray 배열의 차원까지 알 수 있음"
   ]
  },
  {
   "cell_type": "code",
   "execution_count": null,
   "id": "3f4b6490-3e6e-4247-931a-dce713348402",
   "metadata": {},
   "outputs": [],
   "source": [
    "np.array() 사용법\n",
    "- ndarray로 변환을 원하는 객체를 인자로 입력하면 ndarray를 반환한다.\n",
    "- ndarray.shape는 ndarray의 차원과 크기를 튜플 형태로 나타내준다"
   ]
  },
  {
   "cell_type": "code",
   "execution_count": 3,
   "id": "8a9eb4e9-8bf1-4721-a634-ef432f1f859a",
   "metadata": {},
   "outputs": [
    {
     "name": "stdout",
     "output_type": "stream",
     "text": [
      "array type: <class 'numpy.ndarray'>\n",
      "array1 array 형태: (3,)\n"
     ]
    }
   ],
   "source": [
    "array1=np.array([1,2,3])\n",
    "print('array type:', type(array1))\n",
    "print('array1 array 형태:', array1.shape)\n",
    "\n",
    "# 1차원의 array로3대의 데이터를 가지고 있음"
   ]
  },
  {
   "cell_type": "code",
   "execution_count": 6,
   "id": "7d7f1f4d-6d40-4bda-8969-036f980bbd50",
   "metadata": {},
   "outputs": [
    {
     "name": "stdout",
     "output_type": "stream",
     "text": [
      "array2 type: <class 'numpy.ndarray'>\n",
      "array2 array 형태: (2, 3)\n"
     ]
    }
   ],
   "source": [
    "array2=np.array([[1,2,3],\n",
    "                 [2,3,4]])\n",
    "print('array2 type:', type(array2))\n",
    "print('array2 array 형태:', array2.shape)\n",
    "\n",
    "# 2차원의 array로 2개의 로우와 3개의 칼럼을 가짐\n",
    "#2*3=6개의 데이터를 가짐"
   ]
  },
  {
   "cell_type": "code",
   "execution_count": 7,
   "id": "6dff1b29-b4af-4161-8d82-2cf6be2b6ef7",
   "metadata": {},
   "outputs": [
    {
     "name": "stdout",
     "output_type": "stream",
     "text": [
      "array3 type: <class 'numpy.ndarray'>\n",
      "array3 array 형태 (1, 3)\n"
     ]
    }
   ],
   "source": [
    "array3=np.array([[1,2,3]])\n",
    "print('array3 type:',type(array3))\n",
    "print('array3 array 형태', array3.shape)\n",
    "\n",
    "# 2차원의 array로 1개의 로우와 3개의 칼럼을 가짐"
   ]
  },
  {
   "cell_type": "code",
   "execution_count": 12,
   "id": "3aeabb9b-c09a-41ca-b1aa-4cdd47e99980",
   "metadata": {},
   "outputs": [
    {
     "name": "stdout",
     "output_type": "stream",
     "text": [
      "array1: 1차원, array2: 2차원, array3:  2차원\n"
     ]
    }
   ],
   "source": [
    "print('array1: {:0}차원, array2: {:1}차원, array3: {:2}차원'.format(array1.ndim, array2.ndim,array3.ndim))"
   ]
  },
  {
   "cell_type": "markdown",
   "id": "eb34f1f3-cb04-4a39-8241-0d601fdb5a40",
   "metadata": {},
   "source": [
    "# ndarray의 데이터 타입\n",
    "- ndarray 내의 데이터 값은 숫자 값, 문자열 값, 불 값 등 모두 가능\n",
    "- ndarray내의 데이터 타입은 그 연산의 특성상 같은 데이터 타입만 가능\n",
    "- 즉, 한개의 ndarray 객체에 int 와 float가 함꼐 있을 수 없다."
   ]
  },
  {
   "cell_type": "code",
   "execution_count": 14,
   "id": "1b6399c5-e331-4d6d-a903-94515f3255e6",
   "metadata": {},
   "outputs": [
    {
     "name": "stdout",
     "output_type": "stream",
     "text": [
      "<class 'list'>\n"
     ]
    }
   ],
   "source": [
    "list1=[1,2,3]\n",
    "print(type(list1))"
   ]
  },
  {
   "cell_type": "code",
   "execution_count": 17,
   "id": "83b72d15-c973-4004-979e-e1ddb446242b",
   "metadata": {},
   "outputs": [
    {
     "name": "stdout",
     "output_type": "stream",
     "text": [
      "<class 'numpy.ndarray'>\n",
      "[1 2 3] int32\n"
     ]
    }
   ],
   "source": [
    "array1=np.array(list1)\n",
    "print(type(array1))\n",
    "print(array1,array1.dtype)"
   ]
  },
  {
   "cell_type": "code",
   "execution_count": 18,
   "id": "f3dff34e-dd12-4df7-be61-e7d3424a5197",
   "metadata": {},
   "outputs": [
    {
     "name": "stdout",
     "output_type": "stream",
     "text": [
      "['1' '2' 'test'] <U11\n"
     ]
    }
   ],
   "source": [
    "list2=[1,2,'test']\n",
    "array2=np.array(list2)\n",
    "print(array2,array2.dtype)"
   ]
  },
  {
   "cell_type": "code",
   "execution_count": 19,
   "id": "1d551ec1-be5e-4612-a93b-4d59aa5e9b74",
   "metadata": {},
   "outputs": [
    {
     "name": "stdout",
     "output_type": "stream",
     "text": [
      "[1. 2. 3.] float64\n"
     ]
    }
   ],
   "source": [
    "list3=[1,2,3.0]\n",
    "array3=np.array(list3)\n",
    "print(array3,array3.dtype)"
   ]
  },
  {
   "cell_type": "code",
   "execution_count": null,
   "id": "a59b6df2-8756-4d88-a4a7-4f3df9c00cf2",
   "metadata": {},
   "outputs": [],
   "source": [
    "#int32형 데이터를 float64로 변환하고, 다시 float를 int32로 변경\n",
    "#float를 int형으로 변경할 때 소수점 이하는 당연히 없어진다"
   ]
  },
  {
   "cell_type": "code",
   "execution_count": 21,
   "id": "3be7569f-9b09-43cd-8065-df6e435905cd",
   "metadata": {},
   "outputs": [
    {
     "name": "stdout",
     "output_type": "stream",
     "text": [
      "[1. 2. 3.] float64\n"
     ]
    }
   ],
   "source": [
    "array_int=np.array([1,2,3])\n",
    "array_float=array_int.astype('float64')\n",
    "print(array_float,array_float.dtype)"
   ]
  },
  {
   "cell_type": "code",
   "execution_count": 23,
   "id": "3c90a8b8-f19f-41c7-94f7-b6c03a7d377c",
   "metadata": {},
   "outputs": [
    {
     "name": "stdout",
     "output_type": "stream",
     "text": [
      "[1 2 3] int32\n"
     ]
    }
   ],
   "source": [
    "array_int1=array_float.astype('int32')\n",
    "print(array_int1,array_int1.dtype)"
   ]
  },
  {
   "cell_type": "code",
   "execution_count": 22,
   "id": "cbc6d924-1400-4588-98a0-7c6334d59e58",
   "metadata": {},
   "outputs": [
    {
     "name": "stdout",
     "output_type": "stream",
     "text": [
      "[1 2 3] int32\n"
     ]
    }
   ],
   "source": [
    "array_float1=np.array([1.1,2.1,3.1])\n",
    "array_int2=array_float1.astype('int32')\n",
    "print(array_int2,array_int2.dtype)"
   ]
  },
  {
   "cell_type": "markdown",
   "id": "bc969422-f327-41ee-9c21-5726e4139ec5",
   "metadata": {},
   "source": [
    "# ndarray를 편리하게 생성하기-arange,zeros,ones\n",
    "- 특정 크기와 차원을 가진 ndarray를 연속값이나 0 또는 1로 초기화해 쉽게 생성해야할 필요가 있는 경우가 발생할 수 있다.\n",
    "- 주로 테스트용 데이터를 만들거나 대규모의 데이터를 일괄적으로 초기화 해야 할 경우에 사용됨\n",
    "- 쉽게 array를 range() 로 표현할 것이다."
   ]
  },
  {
   "cell_type": "code",
   "execution_count": 35,
   "id": "2ea2b957-cd7b-4974-bf17-972eddf60719",
   "metadata": {},
   "outputs": [
    {
     "name": "stdout",
     "output_type": "stream",
     "text": [
      "[0 1 2 3 4 5 6 7 8 9]\n",
      "int32 (10,)\n"
     ]
    }
   ],
   "source": [
    "# default 함수 인자는 stop 값이며 0부터 stop값인 10에서 -1을 더한 9까지의 연속 숫자값으로 구성된 1차원ndarray를 만들어줌\n",
    "\n",
    "sequence_array=np.arange(10)\n",
    "print(sequence_array)\n",
    "print(sequence_array.dtype,sequence_array.shape)"
   ]
  },
  {
   "cell_type": "code",
   "execution_count": 32,
   "id": "f1357494-a158-42b6-be44-4bf7b7d54238",
   "metadata": {},
   "outputs": [
    {
     "name": "stdout",
     "output_type": "stream",
     "text": [
      "[[0 0]\n",
      " [0 0]\n",
      " [0 0]]\n",
      "int32 (3, 2)\n"
     ]
    }
   ],
   "source": [
    "#zeros() 함수 인자로 튜플 형태의 shape 값을 입력하면 모든 값을 0으로 채운 해당 shape를 가진 ndarray를 반환한다\n",
    "\n",
    "zero_array=np.zeros((3,2),dtype='int32')\n",
    "print(zero_array)\n",
    "print(zero_array.dtype,zero_array.shape)"
   ]
  },
  {
   "cell_type": "code",
   "execution_count": 34,
   "id": "4f9af883-fb16-4892-8069-f83c44dce0ae",
   "metadata": {},
   "outputs": [
    {
     "name": "stdout",
     "output_type": "stream",
     "text": [
      "[[1. 1.]\n",
      " [1. 1.]\n",
      " [1. 1.]]\n",
      "float64 (3, 2)\n"
     ]
    }
   ],
   "source": [
    "#ones()는 함수 인자로 튜플 형태의 shape 값을 입력하면 모든 값을 1로 채운 해당 shape를 가진 ndarray를 반환한다\n",
    "# 함수인자로 dtype을 정해주지 않으면 default로 float64형의 데이터로 ndarray를 채운다\n",
    "\n",
    "one_array=np.ones((3,2))\n",
    "print(one_array)\n",
    "print(one_array.dtype,one_array.shape)"
   ]
  },
  {
   "cell_type": "markdown",
   "id": "ba89029f-7b14-4e2d-ad29-ece845e30baf",
   "metadata": {},
   "source": [
    "# ndarray의 차원과 크기를 변경하는 reshape()\n",
    "- reshape 메서드는 ndarray를 특정 차원 및 크기로 변환함\n",
    "- 변환을 원하는 크기를 함수 인자로 부여하면 됨"
   ]
  },
  {
   "cell_type": "code",
   "execution_count": 36,
   "id": "2640bafd-f41a-422e-82e2-f58a76e0050e",
   "metadata": {},
   "outputs": [
    {
     "name": "stdout",
     "output_type": "stream",
     "text": [
      "array1\n",
      " [0 1 2 3 4 5 6 7 8 9]\n"
     ]
    }
   ],
   "source": [
    "array1=np.arange(10)\n",
    "print('array1\\n', array1)"
   ]
  },
  {
   "cell_type": "code",
   "execution_count": 37,
   "id": "4df75bcf-d38b-4424-8bc6-38f2925ae81b",
   "metadata": {},
   "outputs": [
    {
     "name": "stdout",
     "output_type": "stream",
     "text": [
      "array2:\n",
      " [[0 1 2 3 4]\n",
      " [5 6 7 8 9]]\n"
     ]
    }
   ],
   "source": [
    "array2=array1.reshape(2,5)\n",
    "print('array2:\\n',array2)"
   ]
  },
  {
   "cell_type": "code",
   "execution_count": 38,
   "id": "08b50b4e-c449-4945-89a5-a15b35ed0f4e",
   "metadata": {},
   "outputs": [
    {
     "name": "stdout",
     "output_type": "stream",
     "text": [
      "array3:\n",
      " [[0 1]\n",
      " [2 3]\n",
      " [4 5]\n",
      " [6 7]\n",
      " [8 9]]\n"
     ]
    }
   ],
   "source": [
    "array3=array1.reshape(5,2)\n",
    "print('array3:\\n',array3)"
   ]
  },
  {
   "cell_type": "code",
   "execution_count": 39,
   "id": "4ffcb71a-d676-4426-8cbd-635704b1685c",
   "metadata": {},
   "outputs": [
    {
     "ename": "ValueError",
     "evalue": "cannot reshape array of size 10 into shape (4,3)",
     "output_type": "error",
     "traceback": [
      "\u001b[1;31m---------------------------------------------------------------------------\u001b[0m",
      "\u001b[1;31mValueError\u001b[0m                                Traceback (most recent call last)",
      "Input \u001b[1;32mIn [39]\u001b[0m, in \u001b[0;36m<cell line: 3>\u001b[1;34m()\u001b[0m\n\u001b[0;32m      1\u001b[0m \u001b[38;5;66;03m# reshape()는 지정된 사이즈로 변경이 불가능하면 오류가 발생합니다\u001b[39;00m\n\u001b[0;32m      2\u001b[0m \u001b[38;5;66;03m# (10,)데이터를 (4,3)shape 형태로 변경할 수는 없습니다.\u001b[39;00m\n\u001b[1;32m----> 3\u001b[0m \u001b[43marray1\u001b[49m\u001b[38;5;241;43m.\u001b[39;49m\u001b[43mreshape\u001b[49m\u001b[43m(\u001b[49m\u001b[38;5;241;43m4\u001b[39;49m\u001b[43m,\u001b[49m\u001b[38;5;241;43m3\u001b[39;49m\u001b[43m)\u001b[49m\n",
      "\u001b[1;31mValueError\u001b[0m: cannot reshape array of size 10 into shape (4,3)"
     ]
    }
   ],
   "source": [
    "# reshape()는 지정된 사이즈로 변경이 불가능하면 오류가 발생합니다\n",
    "# (10,)데이터를 (4,3)shape 형태로 변경할 수는 없습니다.\n",
    "array1.reshape(4,3)"
   ]
  },
  {
   "cell_type": "markdown",
   "id": "896cf711-051a-49b1-80ed-09d2b7c6204c",
   "metadata": {},
   "source": [
    "## reshape를 효율적으로 사용하기 <인자로 -1 적용>\n",
    "- -1을 인자로 사용하면 원래 ndarray와 호환되는 새로운 shape로 변환해줌"
   ]
  },
  {
   "cell_type": "code",
   "execution_count": 41,
   "id": "ca1c5b43-1dab-43cb-a015-ba70798baba8",
   "metadata": {},
   "outputs": [
    {
     "name": "stdout",
     "output_type": "stream",
     "text": [
      "[0 1 2 3 4 5 6 7 8 9]\n",
      "array2 shape: (2, 5)\n",
      "array3 shape: (5, 2)\n"
     ]
    }
   ],
   "source": [
    "array1=np.arange(10)\n",
    "print(array1)\n",
    "array2=array1.reshape(-1,5)\n",
    "print('array2 shape:', array2.shape)\n",
    "array3=array1.reshape(5,-1)\n",
    "print('array3 shape:', array3.shape)"
   ]
  },
  {
   "cell_type": "code",
   "execution_count": 42,
   "id": "40afa777-2a96-4792-86b7-5cfc6814432b",
   "metadata": {},
   "outputs": [
    {
     "ename": "ValueError",
     "evalue": "cannot reshape array of size 1 into shape (4)",
     "output_type": "error",
     "traceback": [
      "\u001b[1;31m---------------------------------------------------------------------------\u001b[0m",
      "\u001b[1;31mValueError\u001b[0m                                Traceback (most recent call last)",
      "Input \u001b[1;32mIn [42]\u001b[0m, in \u001b[0;36m<cell line: 3>\u001b[1;34m()\u001b[0m\n\u001b[0;32m      1\u001b[0m \u001b[38;5;66;03m# 에러 발생\u001b[39;00m\n\u001b[0;32m      2\u001b[0m array1\u001b[38;5;241m=\u001b[39mnp\u001b[38;5;241m.\u001b[39marray(\u001b[38;5;241m10\u001b[39m)\n\u001b[1;32m----> 3\u001b[0m array4\u001b[38;5;241m=\u001b[39m\u001b[43marray1\u001b[49m\u001b[38;5;241;43m.\u001b[39;49m\u001b[43mreshape\u001b[49m\u001b[43m(\u001b[49m\u001b[38;5;241;43m-\u001b[39;49m\u001b[38;5;241;43m1\u001b[39;49m\u001b[43m,\u001b[49m\u001b[38;5;241;43m4\u001b[39;49m\u001b[43m)\u001b[49m\n",
      "\u001b[1;31mValueError\u001b[0m: cannot reshape array of size 1 into shape (4)"
     ]
    }
   ],
   "source": [
    "# 에러 발생\n",
    "array1=np.array(10)\n",
    "array4=array1.reshape(-1,4)"
   ]
  },
  {
   "cell_type": "code",
   "execution_count": null,
   "id": "f25ff26f-3cbf-4d04-ad79-63a5447d8fe7",
   "metadata": {},
   "outputs": [],
   "source": [
    "#-1 인자는 reshape(-1,1)형태로 자주 사용됨\n",
    "#reshape(-1,1)은 원본 ndarray가 어떤 형태라도 2차원이고, 여러개의 로우를 가지되, 반드시 1개의 칼럼을 가진 ndarray로 변환됨을 보장함\n",
    "#여러개의 넘파이 ndarray는 stack이나 concat으로 결합할 때 각각의 ndarray의 형태를 통일해 유용하게 사용됨"
   ]
  },
  {
   "cell_type": "code",
   "execution_count": 44,
   "id": "081d159a-aa7d-4a62-8ce4-688cae71252f",
   "metadata": {},
   "outputs": [
    {
     "name": "stdout",
     "output_type": "stream",
     "text": [
      "array3d:\n",
      " [[[0, 1], [2, 3]], [[4, 5], [6, 7]]]\n"
     ]
    }
   ],
   "source": [
    "array1=np.arange(8)\n",
    "array3d=array1.reshape((2,2,2))\n",
    "print('array3d:\\n', array3d.tolist())"
   ]
  },
  {
   "cell_type": "code",
   "execution_count": 47,
   "id": "c6d75c87-82da-44f6-a80c-15afb58c94b5",
   "metadata": {},
   "outputs": [
    {
     "name": "stdout",
     "output_type": "stream",
     "text": [
      "array5:\n",
      " [[0], [1], [2], [3], [4], [5], [6], [7]]\n",
      "array5 shape: (8, 1)\n"
     ]
    }
   ],
   "source": [
    "# 3차원의 ndarray를 2차원 ndarray로 변환\n",
    "array5=array3d.reshape(-1,1)\n",
    "print('array5:\\n',array5.tolist())\n",
    "print('array5 shape:',array5.shape)"
   ]
  },
  {
   "cell_type": "code",
   "execution_count": 49,
   "id": "ebf9a2fe-7636-4426-923b-fbcc50929567",
   "metadata": {},
   "outputs": [
    {
     "name": "stdout",
     "output_type": "stream",
     "text": [
      "array6:\n",
      " [[0], [1], [2], [3], [4], [5], [6], [7]]\n",
      "array6 shape: (8, 1)\n"
     ]
    }
   ],
   "source": [
    "# 1차원의 ndarray를 2차원의 ndarry로 변환\n",
    "array6=array1.reshape(-1,1)\n",
    "print('array6:\\n',array6.tolist())\n",
    "print('array6 shape:',array6.shape)"
   ]
  },
  {
   "cell_type": "markdown",
   "id": "4dfee5d6-7c46-458e-ac54-cc734632217f",
   "metadata": {},
   "source": [
    "# 넘파이의 ndarray의 데이터 세트 선택하기-인덱싱(indexing)\n",
    "- 넘파이에서 ndarray 내의 일부 데이터 세트나 특정 데이터만을 선택할 수 있도록"
   ]
  },
  {
   "cell_type": "code",
   "execution_count": 52,
   "id": "44e18114-1c8a-47a7-8cd8-2d941567e531",
   "metadata": {},
   "outputs": [],
   "source": [
    "#1. 특정 데이터만 추출\n",
    "#2. 슬라이싱(slicing)\n",
    "#3. 팬시 인덱싱(Fancy Indexing)\n",
    "#4. 불린 인덱싱(Boolean indexing)"
   ]
  },
  {
   "cell_type": "markdown",
   "id": "a387022d-1abb-4316-9d41-17082d54198f",
   "metadata": {},
   "source": [
    "## 단일 값 추출\n",
    "- 한개의 데이터만을 추출\n",
    "- ndarray객체에 해당하는 위치의 인덱스 값을 []안에 입력"
   ]
  },
  {
   "cell_type": "code",
   "execution_count": 56,
   "id": "1cb3d6a9-8b37-44f7-b5f7-1a4f211b1f75",
   "metadata": {},
   "outputs": [
    {
     "name": "stdout",
     "output_type": "stream",
     "text": [
      "array1: [1 2 3 4 5 6 7 8 9]\n"
     ]
    }
   ],
   "source": [
    "# 1부터 9까지 1차원 ndarray 생성\n",
    "array1=np.arange(start=1,stop=10)\n",
    "print('array1:',array1)"
   ]
  },
  {
   "cell_type": "code",
   "execution_count": 57,
   "id": "95c8aad7-1762-45d8-aea1-336806ef0237",
   "metadata": {},
   "outputs": [
    {
     "name": "stdout",
     "output_type": "stream",
     "text": [
      "value: 3\n",
      "<class 'numpy.int32'>\n"
     ]
    }
   ],
   "source": [
    "# index는 0부터 시작하므로 array1[2]는 3번째 index 위치의 데이터 값을 의미\n",
    "value=array1[2]\n",
    "print('value:',value)\n",
    "print(type(value))"
   ]
  },
  {
   "cell_type": "code",
   "execution_count": 60,
   "id": "2c308d85-5e1e-46dd-b0ee-1bf69551bddc",
   "metadata": {},
   "outputs": [
    {
     "name": "stdout",
     "output_type": "stream",
     "text": [
      "맨 뒤의 값: 9 맨 뒤에서 두 번째 값: 8\n"
     ]
    }
   ],
   "source": [
    "# 인덱스 -1은 맨 뒤의 데이터 값을 의미\n",
    "print('맨 뒤의 값:',array1[-1], '맨 뒤에서 두 번째 값:',array1[-2])"
   ]
  },
  {
   "cell_type": "code",
   "execution_count": 61,
   "id": "f8cd7f83-ebec-4a85-aaae-32b1c7a9f3d3",
   "metadata": {},
   "outputs": [
    {
     "name": "stdout",
     "output_type": "stream",
     "text": [
      "array1: [9 2 3 4 5 6 7 8 0]\n"
     ]
    }
   ],
   "source": [
    "# 단일 인덱스를 이용해 ndarray 내의 데이터값도 간단히 수정 가능\n",
    "array1[0]=9\n",
    "array1[8]=0\n",
    "print('array1:',array1)"
   ]
  },
  {
   "cell_type": "markdown",
   "id": "cc78f1df-3b14-43fe-b9a2-d02bd2b9e24b",
   "metadata": {},
   "source": [
    "## 다차원 ndarray에서 단일 값을 추출\n",
    "- 1차원과 2차원 ndarry에서의 데이터 접근의 차이는\n",
    "- 2차원은 콤마(,)로 분리된 로우와 칼럼의 위치를 인덱스를 통해 접근"
   ]
  },
  {
   "cell_type": "code",
   "execution_count": 66,
   "id": "c72a0abe-c184-46a4-801e-926f8a95346b",
   "metadata": {},
   "outputs": [
    {
     "name": "stdout",
     "output_type": "stream",
     "text": [
      "[[1 2 3]\n",
      " [4 5 6]\n",
      " [7 8 9]]\n",
      "(row=0, col=0) index 가리키는 값:  1\n",
      "(row=0, col=1) index 가리키는 값:  2\n",
      "(row=1, col=0) index 가리키는 값:  4\n",
      "(row=2, col=2) index 가리키는 값:  9\n"
     ]
    }
   ],
   "source": [
    "array1d=np.arange(start=1,stop=10)\n",
    "array2d=array1d.reshape(3,3)\n",
    "print(array2d)\n",
    "\n",
    "print('(row=0, col=0) index 가리키는 값: ',array2d[0,0])\n",
    "print('(row=0, col=1) index 가리키는 값: ',array2d[0,1])\n",
    "print('(row=1, col=0) index 가리키는 값: ',array2d[1,0])\n",
    "print('(row=2, col=2) index 가리키는 값: ',array2d[2,2])"
   ]
  },
  {
   "cell_type": "markdown",
   "id": "fe245562-5a35-4427-824c-891f746ffc09",
   "metadata": {},
   "source": [
    "# 슬라이싱\n",
    "- : 기호를 이용해 연속한 데이터를 슬라이싱 해 추출할 수 있음\n",
    "- 단일 데이터 값 추출을 제외하고 슬라이싱, 팬시인덱싱, 불린 인덱싱으로 추출된 데이터 세트는 모두 ndarray타입이다.\n",
    "- : 사이에 시작 인덱스와 종료 인덱스를 표시하면 시작 인덱스에서 종료 인덱스-1의 위치에 있는 데이터의 ndarray를 변환한다\n",
    "- 슬라이싱 기호인 :사이의 시작, 종료 인덱스는 생략이 가능"
   ]
  },
  {
   "cell_type": "code",
   "execution_count": 67,
   "id": "a1de2c31-8d86-44ab-8e6e-a09cee5e827f",
   "metadata": {},
   "outputs": [
    {
     "name": "stdout",
     "output_type": "stream",
     "text": [
      "[1 2 3]\n",
      "<class 'numpy.ndarray'>\n"
     ]
    }
   ],
   "source": [
    "array1=np.arange(start=1,stop=10)\n",
    "array3=array1[0:3]\n",
    "print(array3)\n",
    "print(type(array3))"
   ]
  },
  {
   "cell_type": "code",
   "execution_count": 68,
   "id": "70fbc87b-fac4-4a5b-8546-753e4176d466",
   "metadata": {},
   "outputs": [
    {
     "name": "stdout",
     "output_type": "stream",
     "text": [
      "[1 2 3]\n"
     ]
    }
   ],
   "source": [
    "# 1. :기호 앞에 시작인덱스를 생략하면 자동으로 맨 처음 인덱스인 0으로 간주\n",
    "\n",
    "array1=np.arange(start=1,stop=10)\n",
    "array4=array1[:3]\n",
    "print(array4)"
   ]
  },
  {
   "cell_type": "code",
   "execution_count": 70,
   "id": "b45b93b6-5feb-4efc-8d7f-7eae7317ff86",
   "metadata": {},
   "outputs": [
    {
     "name": "stdout",
     "output_type": "stream",
     "text": [
      "[4 5 6 7 8 9]\n"
     ]
    }
   ],
   "source": [
    "# 2. :기호 뒤에서 종료 인덱스를 생략하면 자동으로 마지막 인덱스로 간주\n",
    "\n",
    "array5=array1[3:]\n",
    "print(array5)"
   ]
  },
  {
   "cell_type": "code",
   "execution_count": 71,
   "id": "d58f3957-232a-480c-9fe2-9f89d3e7b11d",
   "metadata": {},
   "outputs": [
    {
     "name": "stdout",
     "output_type": "stream",
     "text": [
      "[1 2 3 4 5 6 7 8 9]\n"
     ]
    }
   ],
   "source": [
    "# 3. :기호 앞/뒤에 시작/종료 인덱스를 생략하면 자동으로 맨 처음/맨 마지막 인덱스로 간주\n",
    "\n",
    "array6=array1[:]\n",
    "print(array6)"
   ]
  },
  {
   "cell_type": "code",
   "execution_count": 74,
   "id": "d6964f86-2bb2-489f-b7ec-ca08d361fdc3",
   "metadata": {},
   "outputs": [
    {
     "name": "stdout",
     "output_type": "stream",
     "text": [
      "array2d:\n",
      " [[1 2 3]\n",
      " [4 5 6]\n",
      " [7 8 9]]\n"
     ]
    }
   ],
   "source": [
    "array1d=np.arange(start=1,stop=10)\n",
    "array2d=array1d.reshape(3,3)\n",
    "print('array2d:\\n',array2d)"
   ]
  },
  {
   "cell_type": "code",
   "execution_count": 73,
   "id": "c634d867-52ef-4630-9401-8047900df295",
   "metadata": {},
   "outputs": [
    {
     "name": "stdout",
     "output_type": "stream",
     "text": [
      "array2d:\n",
      " [[1 2 3]\n",
      " [4 5 6]\n",
      " [7 8 9]]\n",
      "array2d[0:2,0:2]\n",
      " [[1 2]\n",
      " [4 5]]\n",
      "array2d[1:3,0:3]\n",
      " [[4 5 6]\n",
      " [7 8 9]]\n",
      "array2d[1:3,:]\n",
      " [[4 5 6]\n",
      " [7 8 9]]\n",
      "array2d[:,:]\n",
      " [[1 2 3]\n",
      " [4 5 6]\n",
      " [7 8 9]]\n",
      "array2d[:2,1:]\n",
      " [[2 3]\n",
      " [5 6]]\n",
      "array2d[:2,0]\n",
      " [1 4]\n"
     ]
    }
   ],
   "source": [
    "print('array2d[0:2,0:2]\\n', array2d[0:2,0:2])\n",
    "print('array2d[1:3,0:3]\\n', array2d[1:3,0:3])\n",
    "print('array2d[1:3,:]\\n', array2d[1:3,0:])\n",
    "print('array2d[:,:]\\n', array2d[:,:])\n",
    "print('array2d[:2,1:]\\n', array2d[:2,1:])\n",
    "print('array2d[:2,0]\\n', array2d[:2,0])"
   ]
  },
  {
   "cell_type": "code",
   "execution_count": 75,
   "id": "e408e2ad-0b18-494a-b6f6-bebbaae4d4d5",
   "metadata": {},
   "outputs": [
    {
     "name": "stdout",
     "output_type": "stream",
     "text": [
      "[1 2 3]\n",
      "[4 5 6]\n",
      "array2d[0] shape: (3,) array2d[1] shape: (3,)\n"
     ]
    }
   ],
   "source": [
    "# 2차원 ndarray에서 뒤에 오는 인덱스를 없애면 1차원 ndarray를 반환\n",
    "# array2d[0]과 같이 2차원에서 오는 인덱스를 없애면 로우 축(axis 0)의 첫번째 로우 ndarray를 반환하게 됨\n",
    "print(array2d[0])\n",
    "print(array2d[1])\n",
    "print('array2d[0] shape:', array2d[0].shape, 'array2d[1] shape:', array2d[1].shape)"
   ]
  },
  {
   "cell_type": "markdown",
   "id": "6073b10d-d67c-45ed-b305-a8eca9d22ded",
   "metadata": {},
   "source": [
    "# 팬시 인덱싱"
   ]
  },
  {
   "cell_type": "code",
   "execution_count": 80,
   "id": "2ea4d60a-82bb-47f4-8465-094247fb4e6d",
   "metadata": {},
   "outputs": [
    {
     "name": "stdout",
     "output_type": "stream",
     "text": [
      "array2d[[0,1],2]=> [3, 6]\n",
      "array2d[[0,1],0:2]=> [[1, 2], [4, 5]]\n",
      "array2d[[0,1]]=> [[1, 2, 3], [4, 5, 6]]\n"
     ]
    }
   ],
   "source": [
    "array1d=np.arange(start=1,stop=10)\n",
    "array2d=array1d.reshape(3,3)\n",
    "\n",
    "array3=array2d[[0,1],2]\n",
    "print('array2d[[0,1],2]=>', array3.tolist())\n",
    "\n",
    "array4=array2d[[0,1],0:2]\n",
    "print('array2d[[0,1],0:2]=>',array4.tolist())\n",
    "\n",
    "array5=array2d[[0,1]]\n",
    "print('array2d[[0,1]]=>',array5.tolist())"
   ]
  },
  {
   "cell_type": "markdown",
   "id": "54bdc9d4-c17e-4354-9050-f7697be10260",
   "metadata": {},
   "source": [
    "# 불린 인덱스(T/F)\n",
    "- 불린 인덱스는 조건 필터링과 검색을 동시에 할 수 있기 때문에 매우 자주 사용됨"
   ]
  },
  {
   "cell_type": "code",
   "execution_count": 82,
   "id": "8ab443c3-06da-426e-8c59-62433169eee7",
   "metadata": {},
   "outputs": [
    {
     "name": "stdout",
     "output_type": "stream",
     "text": [
      "array1d > 5 불린 인덱싱 결과 값: [6 7 8 9]\n"
     ]
    }
   ],
   "source": [
    "array1d=np.arange(start=1,stop=10)\n",
    "#[]안에 array1d > 5 Boolean indexing을 적용\n",
    "array3=array1d[array1d > 5]\n",
    "print('array1d > 5 불린 인덱싱 결과 값:', array3)"
   ]
  },
  {
   "cell_type": "code",
   "execution_count": 83,
   "id": "6861739b-f027-42d0-b5eb-610a50af8d2c",
   "metadata": {},
   "outputs": [
    {
     "data": {
      "text/plain": [
       "array([False, False, False, False, False,  True,  True,  True,  True])"
      ]
     },
     "execution_count": 83,
     "metadata": {},
     "output_type": "execute_result"
    }
   ],
   "source": [
    "#넘파이 ndarry객체에 조건식을 할당\n",
    "\n",
    "array1d>5"
   ]
  },
  {
   "cell_type": "code",
   "execution_count": 85,
   "id": "eea68bc3-e23c-4965-9e9f-0988de05b497",
   "metadata": {},
   "outputs": [
    {
     "name": "stdout",
     "output_type": "stream",
     "text": [
      "불린 인덱스로 필터링 결과: [6 7 8 9]\n"
     ]
    }
   ],
   "source": [
    "boolean_indexes=np.array([False, False, False, False, False,  True,  True,  True,  True])\n",
    "array3=array1d[boolean_indexes]\n",
    "print('불린 인덱스로 필터링 결과:' , array3)"
   ]
  },
  {
   "cell_type": "code",
   "execution_count": 87,
   "id": "f33c581d-08c1-4618-b2f3-78ee40a6c9b6",
   "metadata": {},
   "outputs": [
    {
     "name": "stdout",
     "output_type": "stream",
     "text": [
      "일반 인덱스로 필터링 결과: [6 7 8 9]\n"
     ]
    }
   ],
   "source": [
    "# 직접 인덱스 집합을 만들어 대입한 것과 동일\n",
    "indexes=np.array([5,6,7,8])\n",
    "array4=array1d[indexes]\n",
    "print('일반 인덱스로 필터링 결과:', array4)"
   ]
  },
  {
   "cell_type": "markdown",
   "id": "abb230d8-c754-4592-96d2-ab8b26af96c9",
   "metadata": {},
   "source": [
    "# 행렬 정렬-sort()\n",
    "- 넘파이에서 호출 : np.sort()\n",
    "- 행렬 자체에서 호출 : sort()\n",
    "- 두 방식의 차이점은 \n",
    "- np.sort()의 경우 원 행렬은 그대로 유지한 태 원 행렬의 정렬된 행렬은 반환하며\n",
    "- ndarray.sort()는 원 행렬 자체를 정렬한 형태로 변환하며 반환 값은 None입니다"
   ]
  },
  {
   "cell_type": "code",
   "execution_count": 89,
   "id": "45e781c3-2214-4b48-aea1-15abc4743dc4",
   "metadata": {},
   "outputs": [
    {
     "name": "stdout",
     "output_type": "stream",
     "text": [
      "원본 행렬: [3 1 9 5]\n",
      "np.sort() 호출 후 반환된 정렬 행렬: [1 3 5 9]\n",
      "np.sort() 호출 후 원본 행렬: [3 1 9 5]\n",
      "org_array.sort() 호출 후 반환된 행렬: None\n",
      "org_array.sort() 호출 후 원본 행렬: [1 3 5 9]\n"
     ]
    }
   ],
   "source": [
    "org_array=np.array([3,1,9,5])\n",
    "print('원본 행렬:', org_array)\n",
    "#np.sort()로 정렬\n",
    "sort_array1=np.sort(org_array)\n",
    "print('np.sort() 호출 후 반환된 정렬 행렬:', sort_array1)\n",
    "print('np.sort() 호출 후 원본 행렬:', org_array)\n",
    "#ndarray.sort()로 정렬\n",
    "sort_array2=org_array.sort()\n",
    "print('org_array.sort() 호출 후 반환된 행렬:', sort_array2)\n",
    "print('org_array.sort() 호출 후 원본 행렬:', org_array)"
   ]
  },
  {
   "cell_type": "code",
   "execution_count": 90,
   "id": "77116e3f-8c01-4464-a565-974bbe71ba30",
   "metadata": {},
   "outputs": [
    {
     "name": "stdout",
     "output_type": "stream",
     "text": [
      "내림차순으로 정렬 [9 5 3 1]\n"
     ]
    }
   ],
   "source": [
    "sort_array1_desc=np.sort(org_array)[::-1]\n",
    "print('내림차순으로 정렬', sort_array1_desc)"
   ]
  },
  {
   "cell_type": "code",
   "execution_count": 91,
   "id": "7609b13a-3d42-4122-8243-542e34956315",
   "metadata": {},
   "outputs": [
    {
     "name": "stdout",
     "output_type": "stream",
     "text": [
      "로우 방향으로 정렬: \n",
      " [[ 7  1]\n",
      " [ 8 12]]\n",
      "칼럼 방향으로 정렬: \n",
      " [[ 8 12]\n",
      " [ 1  7]]\n"
     ]
    }
   ],
   "source": [
    "# 행렬이 2차원 이상일 경우에 axis축 값 설정을 통해 로우 방향, 칼럼 방향 정렬을 수행할 수 있다.\n",
    "array2d=np.array([[8,12],\n",
    "                 [7,1 ]])\n",
    "sort_array2d_axis0=np.sort(array2d,axis=0)\n",
    "print('로우 방향으로 정렬: \\n', sort_array2d_axis0)\n",
    "\n",
    "sort_array2d_axis1=np.sort(array2d,axis=1)\n",
    "print('칼럼 방향으로 정렬: \\n',sort_array2d_axis1)"
   ]
  },
  {
   "cell_type": "markdown",
   "id": "55369912-4d9f-4b31-aba8-7096205acb80",
   "metadata": {},
   "source": [
    "## 정렬된 행렬의 인덱스를 반환하기\n",
    "- 원본 행렬이 정렬되었을 때 기존 원본 행렬의 원소에 대한 인덱스를 필요로 할 때 np.argsort()를 이용\n",
    "- np.argsort()는 정렬 행렬의 행원본 행렬 인덱스를 ndarray형으로 반환한다"
   ]
  },
  {
   "cell_type": "code",
   "execution_count": 92,
   "id": "82ac76ed-311b-490d-95ae-787455793a57",
   "metadata": {},
   "outputs": [
    {
     "name": "stdout",
     "output_type": "stream",
     "text": [
      "<class 'numpy.ndarray'>\n",
      "행렬 정렬시 원본 행렬의 인덱스: [1 0 3 2]\n"
     ]
    }
   ],
   "source": [
    "# np.argsort() 원본 행렬의 정렬시 행렬 인덱스 값\n",
    "org_array=np.array([3,1,9,5])\n",
    "sort_indices=np.argsort(org_array)\n",
    "print(type(sort_indices))\n",
    "print('행렬 정렬시 원본 행렬의 인덱스:', sort_indices)"
   ]
  },
  {
   "cell_type": "code",
   "execution_count": 93,
   "id": "1d597c1e-852c-4d91-aa88-7f8d154ac35c",
   "metadata": {},
   "outputs": [
    {
     "name": "stdout",
     "output_type": "stream",
     "text": [
      "행렬 내림차순 정렬 시 원본 행렬의 인덱스: [2 3 0 1]\n"
     ]
    }
   ],
   "source": [
    "# 내림차순으로 정령 시 원본 행렬의 인덱스\n",
    "org_array=np.array([3,1,9,5])\n",
    "sort_indices_desc=np.argsort(org_array)[::-1]\n",
    "print('행렬 내림차순 정렬 시 원본 행렬의 인덱스:', sort_indices_desc)"
   ]
  },
  {
   "cell_type": "markdown",
   "id": "b5364bf7-5a52-4a44-97f5-015b1941ee8f",
   "metadata": {},
   "source": [
    "# 시험성적데이터"
   ]
  },
  {
   "cell_type": "code",
   "execution_count": 95,
   "id": "3e8aab1f-95a8-49c9-a34c-bf84898f6688",
   "metadata": {},
   "outputs": [
    {
     "name": "stdout",
     "output_type": "stream",
     "text": [
      "성적 오름차순 정렬시 score_array의 인덱스: [0 2 4 1 3]\n",
      "성적 오름차순으로 name_array의 이름 출력: ['John' 'Sarah' 'Samuel' 'Mike' 'Kate']\n"
     ]
    }
   ],
   "source": [
    "import numpy as np\n",
    "\n",
    "name_array=np.array(['John','Mike','Sarah','Kate','Samuel'])\n",
    "score_array=np.array([78,95,84,98,88])  #78 84 88 95 98\n",
    "                                        #0 2  4  1  3\n",
    "sort_indices_asc=np.argsort(score_array)\n",
    "print('성적 오름차순 정렬시 score_array의 인덱스:', sort_indices_asc)\n",
    "print('성적 오름차순으로 name_array의 이름 출력:', name_array[sort_indices_asc])"
   ]
  },
  {
   "cell_type": "markdown",
   "id": "330c68af-be20-4710-8b38-32b574811f41",
   "metadata": {},
   "source": [
    "# 선형대수 연산"
   ]
  },
  {
   "cell_type": "markdown",
   "id": "4b552b0a-6426-4806-b931-7ae0df81c074",
   "metadata": {},
   "source": [
    "# 행렬 내적 (행렬 곱)"
   ]
  },
  {
   "cell_type": "code",
   "execution_count": 98,
   "id": "fc67259e-4cde-4fed-abe5-7c1648ddc7ff",
   "metadata": {},
   "outputs": [
    {
     "name": "stdout",
     "output_type": "stream",
     "text": [
      "행렬 내적 결과:\n",
      " [[ 58  64]\n",
      " [139 154]]\n"
     ]
    }
   ],
   "source": [
    "A=np.array([[1,2,3],\n",
    "           [4,5,6]])\n",
    "B=np.array([[7,8],\n",
    "           [9,10],\n",
    "           [11,12]])\n",
    "\n",
    "dot_product=np.dot(A,B)\n",
    "print('행렬 내적 결과:\\n', dot_product)"
   ]
  },
  {
   "cell_type": "markdown",
   "id": "815b565c-d25f-46fb-84e4-3582feb4d711",
   "metadata": {},
   "source": [
    "# 전치행렬\n",
    "- 원 행렬에서 행과 열 위치를 교환한 원소로 구성한 행렬을 그 행렬의 전치행렬이라고 함\n",
    "- 2*2행렬 A가 있을 경우 A행렬의 1행2열의 원소를 2행 1열의 원소로,\n",
    "- 2행 1열의 원소를 1행 2열의 원소로 교환되는 것"
   ]
  },
  {
   "cell_type": "markdown",
   "id": "50aab702-bfd1-446a-9484-eff02966e066",
   "metadata": {},
   "source": [
    "### transpose()"
   ]
  },
  {
   "cell_type": "code",
   "execution_count": 99,
   "id": "5378573f-aa01-4b0a-96fe-f97240bc2d87",
   "metadata": {},
   "outputs": [
    {
     "name": "stdout",
     "output_type": "stream",
     "text": [
      "A의 전치 행렬:\n",
      " [[1 3]\n",
      " [2 4]]\n"
     ]
    }
   ],
   "source": [
    "A=np.array([[1,2],\n",
    "           [3,4]])\n",
    "transpose_mat=np.transpose(A)\n",
    "print('A의 전치 행렬:\\n', transpose_mat)"
   ]
  },
  {
   "cell_type": "code",
   "execution_count": null,
   "id": "6675cedb-9da2-42ad-bc42-1ecf24973bc4",
   "metadata": {},
   "outputs": [],
   "source": []
  }
 ],
 "metadata": {
  "kernelspec": {
   "display_name": "Python 3 (ipykernel)",
   "language": "python",
   "name": "python3"
  },
  "language_info": {
   "codemirror_mode": {
    "name": "ipython",
    "version": 3
   },
   "file_extension": ".py",
   "mimetype": "text/x-python",
   "name": "python",
   "nbconvert_exporter": "python",
   "pygments_lexer": "ipython3",
   "version": "3.9.12"
  }
 },
 "nbformat": 4,
 "nbformat_minor": 5
}
