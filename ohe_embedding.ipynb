{
  "nbformat": 4,
  "nbformat_minor": 0,
  "metadata": {
    "colab": {
      "provenance": [],
      "mount_file_id": "1HvzTgkn0ljdTCGrrZk53sakSJ9uwhcEd",
      "authorship_tag": "ABX9TyOdhDw/xfje/RqjuYUULuTp",
      "include_colab_link": true
    },
    "kernelspec": {
      "name": "python3",
      "display_name": "Python 3"
    },
    "language_info": {
      "name": "python"
    },
    "accelerator": "GPU",
    "gpuClass": "standard"
  },
  "cells": [
    {
      "cell_type": "markdown",
      "metadata": {
        "id": "view-in-github",
        "colab_type": "text"
      },
      "source": [
        "<a href=\"https://colab.research.google.com/github/limlimlim99/limjihyeonjjang/blob/main/ohe_embedding.ipynb\" target=\"_parent\"><img src=\"https://colab.research.google.com/assets/colab-badge.svg\" alt=\"Open In Colab\"/></a>"
      ]
    },
    {
      "cell_type": "code",
      "execution_count": null,
      "metadata": {
        "id": "UKdteCEo7UV3"
      },
      "outputs": [],
      "source": [
        "# 넘파이를 이용한 원-핫 인코딩 ohe\n",
        "import numpy as np\n",
        "\n",
        "samples = ['The cat sat in the mat.', 'The dog ate my homework.']\n",
        "\n",
        "token_index = {}\n",
        "for sample in samples:\n",
        "  for word in sample.split():\n",
        "    if word not in token_index:\n",
        "      token_index[word] = len(token_index) + 1   #인덱스 0은 사용하지 않음\n",
        "  \n",
        "max_length = 10 # 각 샘플에서 max_length까지 단어만 사용\n",
        "results = np.zeros((len(samples), max_length, max(token_index.values())+1)) #3차원(2,10,11)\n",
        "\n",
        "for i, sample in enumerate(samples):\n",
        "  for j, word in list(enumerate(sample.split()))[:max_length]:\n",
        "    index = token_index.get(word)\n",
        "    results[i,j,index] = 1."
      ]
    },
    {
      "cell_type": "code",
      "source": [
        "results\n",
        "\n",
        "# 넘파이를 이용해 sample을 원핫인코딩 함"
      ],
      "metadata": {
        "colab": {
          "base_uri": "https://localhost:8080/"
        },
        "id": "McigIIgLCi6Q",
        "outputId": "e8312c17-dc31-49cd-9747-26ee463279d3"
      },
      "execution_count": null,
      "outputs": [
        {
          "output_type": "execute_result",
          "data": {
            "text/plain": [
              "array([[[0., 1., 0., 0., 0., 0., 0., 0., 0., 0., 0.],\n",
              "        [0., 0., 1., 0., 0., 0., 0., 0., 0., 0., 0.],\n",
              "        [0., 0., 0., 1., 0., 0., 0., 0., 0., 0., 0.],\n",
              "        [0., 0., 0., 0., 1., 0., 0., 0., 0., 0., 0.],\n",
              "        [0., 0., 0., 0., 0., 1., 0., 0., 0., 0., 0.],\n",
              "        [0., 0., 0., 0., 0., 0., 1., 0., 0., 0., 0.],\n",
              "        [0., 0., 0., 0., 0., 0., 0., 0., 0., 0., 0.],\n",
              "        [0., 0., 0., 0., 0., 0., 0., 0., 0., 0., 0.],\n",
              "        [0., 0., 0., 0., 0., 0., 0., 0., 0., 0., 0.],\n",
              "        [0., 0., 0., 0., 0., 0., 0., 0., 0., 0., 0.]],\n",
              "\n",
              "       [[0., 1., 0., 0., 0., 0., 0., 0., 0., 0., 0.],\n",
              "        [0., 0., 0., 0., 0., 0., 0., 1., 0., 0., 0.],\n",
              "        [0., 0., 0., 0., 0., 0., 0., 0., 1., 0., 0.],\n",
              "        [0., 0., 0., 0., 0., 0., 0., 0., 0., 1., 0.],\n",
              "        [0., 0., 0., 0., 0., 0., 0., 0., 0., 0., 1.],\n",
              "        [0., 0., 0., 0., 0., 0., 0., 0., 0., 0., 0.],\n",
              "        [0., 0., 0., 0., 0., 0., 0., 0., 0., 0., 0.],\n",
              "        [0., 0., 0., 0., 0., 0., 0., 0., 0., 0., 0.],\n",
              "        [0., 0., 0., 0., 0., 0., 0., 0., 0., 0., 0.],\n",
              "        [0., 0., 0., 0., 0., 0., 0., 0., 0., 0., 0.]]])"
            ]
          },
          "metadata": {},
          "execution_count": 3
        }
      ]
    },
    {
      "cell_type": "code",
      "source": [
        "token_index"
      ],
      "metadata": {
        "colab": {
          "base_uri": "https://localhost:8080/"
        },
        "id": "dHK3rCiICo_2",
        "outputId": "3371415e-5f7f-4d3c-aa28-c1684506c0b0"
      },
      "execution_count": null,
      "outputs": [
        {
          "output_type": "execute_result",
          "data": {
            "text/plain": [
              "{'The': 1,\n",
              " 'cat': 2,\n",
              " 'sat': 3,\n",
              " 'in': 4,\n",
              " 'the': 5,\n",
              " 'mat.': 6,\n",
              " 'dog': 7,\n",
              " 'ate': 8,\n",
              " 'my': 9,\n",
              " 'homework.': 10}"
            ]
          },
          "metadata": {},
          "execution_count": 4
        }
      ]
    },
    {
      "cell_type": "code",
      "source": [
        "# 케라스를 이용한 ohe\n",
        "from keras_preprocessing.text import Tokenizer\n",
        "\n",
        "samples = ['The cat sat in the mat.', 'The dog ate my homework.']\n",
        "\n",
        "tokenizer = Tokenizer(num_words=1000)   #가장 빈도가 높은 1000개의 단어만 선택하는 Tokenizer 객체 생성\n",
        "\n",
        "tokenizer.fit_on_texts(samples) #단어 인덱스 구축\n",
        "\n",
        "sequences = tokenizer.texts_to_sequences(samples)  #문자열을 정수 인덱스의 리스트로 변환\n",
        "\n",
        "ohe_results = tokenizer.texts_to_matrix(samples, mode=\"binary\")\n",
        "\n",
        "word_index = tokenizer.word_index\n",
        "\n",
        "print(\"Found %s unique tokens.\" %len(word_index))"
      ],
      "metadata": {
        "colab": {
          "base_uri": "https://localhost:8080/"
        },
        "id": "niUewfLICwiM",
        "outputId": "bcdc4f96-908d-4106-a69f-42742b9be530"
      },
      "execution_count": null,
      "outputs": [
        {
          "output_type": "stream",
          "name": "stdout",
          "text": [
            "Found 9 unique tokens.\n"
          ]
        }
      ]
    },
    {
      "cell_type": "code",
      "source": [
        "print(word_index)"
      ],
      "metadata": {
        "colab": {
          "base_uri": "https://localhost:8080/"
        },
        "id": "LwUVnsTHETwL",
        "outputId": "2a89048e-a697-463f-a1d0-886ae0c815b8"
      },
      "execution_count": null,
      "outputs": [
        {
          "output_type": "stream",
          "name": "stdout",
          "text": [
            "{'the': 1, 'cat': 2, 'sat': 3, 'in': 4, 'mat': 5, 'dog': 6, 'ate': 7, 'my': 8, 'homework': 9}\n"
          ]
        }
      ]
    },
    {
      "cell_type": "code",
      "source": [
        "sequences"
      ],
      "metadata": {
        "colab": {
          "base_uri": "https://localhost:8080/"
        },
        "id": "mTxT-iu6EXZr",
        "outputId": "abdc3243-bc2e-4181-e9a9-5fc812ae8dce"
      },
      "execution_count": null,
      "outputs": [
        {
          "output_type": "execute_result",
          "data": {
            "text/plain": [
              "[[1, 2, 3, 4, 1, 5], [1, 6, 7, 8, 9]]"
            ]
          },
          "metadata": {},
          "execution_count": 13
        }
      ]
    },
    {
      "cell_type": "code",
      "source": [
        "ohe_results[0,:10]"
      ],
      "metadata": {
        "colab": {
          "base_uri": "https://localhost:8080/"
        },
        "id": "zpx_rzB6EdIQ",
        "outputId": "a208e3fa-81d6-4365-fbf7-859ca5543351"
      },
      "execution_count": null,
      "outputs": [
        {
          "output_type": "execute_result",
          "data": {
            "text/plain": [
              "array([0., 1., 1., 1., 1., 1., 0., 0., 0., 0.])"
            ]
          },
          "metadata": {},
          "execution_count": 10
        }
      ]
    },
    {
      "cell_type": "code",
      "source": [
        "ohe_results[1,:10]\n",
        "# 해당되는 인덱스만 1로 해주고 나머지는 0으로 해줌"
      ],
      "metadata": {
        "colab": {
          "base_uri": "https://localhost:8080/"
        },
        "id": "56kR9W90Elzg",
        "outputId": "c1b37eff-905f-4941-dc41-364a4ee1b8c5"
      },
      "execution_count": null,
      "outputs": [
        {
          "output_type": "execute_result",
          "data": {
            "text/plain": [
              "array([0., 1., 0., 0., 0., 0., 1., 1., 1., 1.])"
            ]
          },
          "metadata": {},
          "execution_count": 18
        }
      ]
    },
    {
      "cell_type": "code",
      "source": [
        "# cs: 축약형\n",
        "# csr: 한단계 더 축약형\n",
        "# => 파이썬 완벽가이드 참조"
      ],
      "metadata": {
        "id": "KMhIpdlIFzDr"
      },
      "execution_count": null,
      "outputs": []
    },
    {
      "cell_type": "markdown",
      "source": [
        "#### Embedding\n",
        "- 단어와 벡터를 연관짓는 강력하고 인기 있는 또 다른 방법은 단어 임베딩이라는 밀집 단어 벡터를 사용하는 것이다. \n",
        "- 원-핫 인코딩으로 만든 벡터는 희소하고(대부분 0으로 채워집니다) 고차원이다(어휘 사전에 있는 단어의 수와 차원이 같다). \n",
        "- 반면 단어 임베딩은 저차원의 실수형 벡터이다(희소 벡터의 반대인 밀집 벡터이다). 그림 6-2를 참고\n",
        "- 원-핫 인코딩으로 얻은 단어 벡터와 달리 단어 임베딩은 데이터로부터 학습된다. - 보통 256차원, 512차원 또는 큰 어휘 사전을 다룰 때는 1,024차원의 단어 임베딩을 사용한다.\n",
        "- 반면 원-핫 인코딩은 (20,000개의 토큰으로 이루어진 어휘 사전을 만들려면) 20,000차원 또는 그 이상의 벡터일 경우가 많다. \n",
        "- 따라서 단어 임베딩이 더 많은 정보를 적은 차원에 저장한다.\n",
        "-\n",
        "- (문서 분류나 감성 예측과 같은) 관심 대상인 문제와 함께 단어 임베딩을 학습합니다. 이런 경우에는 랜덤한 단어 벡터로 시작해서 신경망의 가중치를 학습하는 것과 같은 방식으로 단어 벡터를 학습합니다.\n",
        "- 풀려는 문제가 아니고 다른 머신 러닝 작업에서 미리 계산된 단어 임베딩을 로드합니다. 이를 사전 훈련된 단어 임베딩이라고 합니다.\n",
        "-\n",
        "- 실제 단어 임베딩 공간에서 의미 있는 기하학적 변환의 일반적인 예는 '성별' 벡터와 '복수(plural)' 벡터ㅇ이다. \n",
        "- 예를 들어 'king' 벡터에 'female' 벡터를 더하면 'queen' 벡터가 된다. 'plural' 벡터를 더하면 'kings'가 된다. #연산 \n",
        "- 단어 임베딩 공간은 전형적으로 이런 해석 가능하고 잠재적으로 유용한 수천 개의 벡터를 특성으로 가진다.\n",
        "- 사람의 언어를 완벽하게 매핑해서 어떤 자연어 처리 작업에도 사용할 수 있는 이상적인 단어 임베딩 공간은 아직 가능하지 않다. 사람의 언어에도 그런 것은 없다. \n",
        "- 세상에는 많은 다른 언어가 있고 언어는 특정 문화와 환경을 반영하기 때문에 서로 동일하지 않다. \n",
        "- 실제로 좋은 단어 임베딩 공간을 만드는 것은 문제에 따라 크게 달라진다. - 영어로 된 영화 리뷰 감성 분석 모델을 위한 완벽한 단어 임베딩 공간은 영어로 된 법률 문서 분류 모델을 위한 완벽한 임베딩 공간과 다를 것 이다. 특정 의미 관계의 중요성이 작업에 따라 다르기 때문이다.\n",
        "- 따라서 새로운 작업에는 새로운 임베딩을 학습하는 것이 타당하다. \n",
        "- 다행히 역전파를 사용해 쉽게 만들 수 있고 케라스를 사용하면 더 쉽다. `Embedding` 층의 가중치를 학습하면 된다.\n"
      ],
      "metadata": {
        "id": "GpwaqNlvGCu0"
      }
    },
    {
      "cell_type": "code",
      "source": [
        "# men women quuen king"
      ],
      "metadata": {
        "id": "xha12wPqGURR"
      },
      "execution_count": null,
      "outputs": []
    },
    {
      "cell_type": "code",
      "source": [
        "from tensorflow.keras.layers import Embedding\n",
        "\n",
        "Embedding_layer = Embedding(1000, 64)"
      ],
      "metadata": {
        "id": "4eun8JRXHPvf"
      },
      "execution_count": null,
      "outputs": []
    },
    {
      "cell_type": "markdown",
      "source": [
        "#### IMDB 영화 감성 예측"
      ],
      "metadata": {
        "id": "ieQUiEXxNs5L"
      }
    },
    {
      "cell_type": "code",
      "source": [
        "# IMDB데이터를 가지고 Embedding\n",
        "\n",
        "from tensorflow.keras.datasets import imdb\n",
        "from tensorflow.keras import preprocessing\n",
        "\n",
        "max_features = 10000 # 특성으로 사용할 단어의 수를 10000개로 제한(빈번한 단어10000개)\n",
        "maxlen = 20  # 사용할 텍스트의 길이(가장 빈번한 max_features개의 단어만 사용 20개로 잘라줌)\n",
        "\n",
        "(x_train, y_train), (x_test, y_test) = imdb.load_data(num_words=max_features)\n",
        "\n",
        "x_train = preprocessing.sequence.pad_sequences(x_train, maxlen=maxlen)  # 리스트를 (samples, maxlen) 크기의 2D 정수 텐서로 변환\n",
        "x_test =  preprocessing.sequence.pad_sequences(x_test, maxlen=maxlen)"
      ],
      "metadata": {
        "id": "JVmKDOhqOBUK"
      },
      "execution_count": null,
      "outputs": []
    },
    {
      "cell_type": "code",
      "source": [
        "x_train.shape"
      ],
      "metadata": {
        "colab": {
          "base_uri": "https://localhost:8080/"
        },
        "id": "KHtW8LLjOaCw",
        "outputId": "a34a972d-3c86-42a6-a27f-ecc86bb6f2c8"
      },
      "execution_count": null,
      "outputs": [
        {
          "output_type": "execute_result",
          "data": {
            "text/plain": [
              "(25000, 20)"
            ]
          },
          "metadata": {},
          "execution_count": 39
        }
      ]
    },
    {
      "cell_type": "code",
      "source": [
        "x_test.shape"
      ],
      "metadata": {
        "colab": {
          "base_uri": "https://localhost:8080/"
        },
        "id": "H1p7HcyxQDJn",
        "outputId": "fefa30d8-1a56-4a25-c900-79797b462903"
      },
      "execution_count": null,
      "outputs": [
        {
          "output_type": "execute_result",
          "data": {
            "text/plain": [
              "(25000, 20)"
            ]
          },
          "metadata": {},
          "execution_count": 40
        }
      ]
    },
    {
      "cell_type": "code",
      "source": [
        "from tensorflow.keras.models import Sequential\n",
        "from tensorflow.keras.layers import Flatten, Dense, Embedding\n",
        "\n",
        "model = Sequential()\n",
        "model.add(Embedding(1000, 8, input_length=maxlen))  #8은 embedding dimensionality\n",
        "# 출력 크기는 (samples, maxlen, 8) # 8차원\n",
        "# Flatten으로 펼칠 때는 3D 임베딩 텐서를  (samples, maxlen * 8)크기의 2D텐서로 펼침\n",
        "model.add(Flatten())\n",
        "\n",
        "model.add(Dense(1,activation='sigmoid'))\n",
        "model.compile(optimizer='rmsprop', loss='binary_crossentropy', metrics=['acc'])\n",
        "model.summary()\n",
        "\n",
        "history = model.fit(x_train, y_train,\n",
        "                    epochs=10,\n",
        "                    batch_size=32,\n",
        "                    validation_split=0.2)"
      ],
      "metadata": {
        "colab": {
          "base_uri": "https://localhost:8080/"
        },
        "id": "w6L2t-mqQE0Z",
        "outputId": "6c653185-a5d0-4f26-e078-df8d9bf5f1b8"
      },
      "execution_count": null,
      "outputs": [
        {
          "output_type": "stream",
          "name": "stdout",
          "text": [
            "Model: \"sequential_1\"\n",
            "_________________________________________________________________\n",
            " Layer (type)                Output Shape              Param #   \n",
            "=================================================================\n",
            " embedding_3 (Embedding)     (None, 20, 8)             8000      \n",
            "                                                                 \n",
            " flatten_1 (Flatten)         (None, 160)               0         \n",
            "                                                                 \n",
            " dense_1 (Dense)             (None, 1)                 161       \n",
            "                                                                 \n",
            "=================================================================\n",
            "Total params: 8,161\n",
            "Trainable params: 8,161\n",
            "Non-trainable params: 0\n",
            "_________________________________________________________________\n",
            "Epoch 1/10\n",
            "625/625 [==============================] - 2s 3ms/step - loss: 0.6703 - acc: 0.6228 - val_loss: 0.6249 - val_acc: 0.6868\n",
            "Epoch 2/10\n",
            "625/625 [==============================] - 2s 3ms/step - loss: 0.5634 - acc: 0.7257 - val_loss: 0.5486 - val_acc: 0.7162\n",
            "Epoch 3/10\n",
            "625/625 [==============================] - 2s 3ms/step - loss: 0.5074 - acc: 0.7499 - val_loss: 0.5304 - val_acc: 0.7248\n",
            "Epoch 4/10\n",
            "625/625 [==============================] - 2s 3ms/step - loss: 0.4876 - acc: 0.7593 - val_loss: 0.5258 - val_acc: 0.7308\n",
            "Epoch 5/10\n",
            "625/625 [==============================] - 2s 3ms/step - loss: 0.4769 - acc: 0.7685 - val_loss: 0.5281 - val_acc: 0.7340\n",
            "Epoch 6/10\n",
            "625/625 [==============================] - 2s 4ms/step - loss: 0.4689 - acc: 0.7731 - val_loss: 0.5277 - val_acc: 0.7322\n",
            "Epoch 7/10\n",
            "625/625 [==============================] - 2s 3ms/step - loss: 0.4620 - acc: 0.7769 - val_loss: 0.5295 - val_acc: 0.7312\n",
            "Epoch 8/10\n",
            "625/625 [==============================] - 2s 3ms/step - loss: 0.4547 - acc: 0.7811 - val_loss: 0.5319 - val_acc: 0.7322\n",
            "Epoch 9/10\n",
            "625/625 [==============================] - 2s 3ms/step - loss: 0.4473 - acc: 0.7857 - val_loss: 0.5345 - val_acc: 0.7302\n",
            "Epoch 10/10\n",
            "625/625 [==============================] - 2s 3ms/step - loss: 0.4400 - acc: 0.7914 - val_loss: 0.5385 - val_acc: 0.7282\n"
          ]
        }
      ]
    },
    {
      "cell_type": "markdown",
      "source": [
        "#### 원본 IMDB 텍스트 다운로드"
      ],
      "metadata": {
        "id": "cpN_LdNXScpL"
      }
    },
    {
      "cell_type": "code",
      "source": [
        "# 원본IMDB 데이터를 가지고 Embedding"
      ],
      "metadata": {
        "id": "EAm9e46ISoGx"
      },
      "execution_count": null,
      "outputs": []
    },
    {
      "cell_type": "code",
      "source": [
        "!curl -O https://ai.stanford.edu/~amaas/data/sentiment/aclImdb_v1.tar.gz\n",
        "!tar -xf aclImdb_v1.tar.gz"
      ],
      "metadata": {
        "id": "HwGXAGlnS-2M",
        "colab": {
          "base_uri": "https://localhost:8080/"
        },
        "outputId": "3d64ddc1-8d27-4be9-8be2-794289aa611f"
      },
      "execution_count": 1,
      "outputs": [
        {
          "output_type": "stream",
          "name": "stdout",
          "text": [
            "  % Total    % Received % Xferd  Average Speed   Time    Time     Time  Current\n",
            "                                 Dload  Upload   Total   Spent    Left  Speed\n",
            "100 80.2M  100 80.2M    0     0  9001k      0  0:00:09  0:00:09 --:--:-- 16.5M\n"
          ]
        }
      ]
    },
    {
      "cell_type": "code",
      "source": [
        "ls"
      ],
      "metadata": {
        "colab": {
          "base_uri": "https://localhost:8080/"
        },
        "id": "0fse0v2rksRS",
        "outputId": "2ead199a-66a8-4b6c-ff78-e8b38d927468"
      },
      "execution_count": 2,
      "outputs": [
        {
          "output_type": "stream",
          "name": "stdout",
          "text": [
            "\u001b[0m\u001b[01;34maclImdb\u001b[0m/  aclImdb_v1.tar.gz  \u001b[01;34mdrive\u001b[0m/  \u001b[01;34msample_data\u001b[0m/\n"
          ]
        }
      ]
    },
    {
      "cell_type": "code",
      "source": [
        "!rm -r aclImdb/train/unsup"
      ],
      "metadata": {
        "colab": {
          "base_uri": "https://localhost:8080/"
        },
        "id": "Qm0MrzHyks76",
        "outputId": "a0f419d9-f736-4c26-cc59-0a73f26d970f"
      },
      "execution_count": 9,
      "outputs": [
        {
          "output_type": "stream",
          "name": "stdout",
          "text": [
            "rm: cannot remove 'aclImdb/train/unsup': No such file or directory\n"
          ]
        }
      ]
    },
    {
      "cell_type": "code",
      "source": [
        "!cat aclImdb/train/pos/4077_10.txt"
      ],
      "metadata": {
        "colab": {
          "base_uri": "https://localhost:8080/"
        },
        "id": "HVcS0x-ak9TW",
        "outputId": "fd3a32ef-125f-42cc-eed8-1d0d43742f1c"
      },
      "execution_count": 10,
      "outputs": [
        {
          "output_type": "stream",
          "name": "stdout",
          "text": [
            "I first saw this back in the early 90s on UK TV, i did like it then but i missed the chance to tape it, many years passed but the film always stuck with me and i lost hope of seeing it TV again, the main thing that stuck with me was the end, the hole castle part really touched me, its easy to watch, has a great story, great music, the list goes on and on, its OK me saying how good it is but everyone will take there own best bits away with them once they have seen it, yes the animation is top notch and beautiful to watch, it does show its age in a very few parts but that has now become part of it beauty, i am so glad it has came out on DVD as it is one of my top 10 films of all time. Buy it or rent it just see it, best viewing is at night alone with drink and food in reach so you don't have to stop the film.<br /><br />Enjoy"
          ]
        }
      ]
    },
    {
      "cell_type": "code",
      "source": [
        "import os\n",
        "imdb_dir = './aclImdb'\n",
        "train_dir = os.path.join(imdb_dir, 'train')   #연결을 해줌\n",
        "\n",
        "labels = []  # 중괄호 {} : dictionary\n",
        "texts = []   # 대괄호 [] : list\n",
        "\n",
        "for label_type in ['neg', 'pos']:\n",
        "  dir_name = os.path.join(train_dir, label_type)\n",
        "  for fname in os.listdir(dir_name):\n",
        "    if fname[-4:] == '.txt':    #자리수가 4개 -4부터 끝까지\n",
        "      f = open(os.path.join(dir_name, fname), encoding='utf8')\n",
        "      texts.append(f.read())\n",
        "      f.close()\n",
        "      if label_type == 'neg':\n",
        "        labels.append(0)\n",
        "      else:\n",
        "        labels.append(1)"
      ],
      "metadata": {
        "id": "z4LrzMmslDn0"
      },
      "execution_count": 12,
      "outputs": []
    },
    {
      "cell_type": "code",
      "source": [
        "texts[0]"
      ],
      "metadata": {
        "colab": {
          "base_uri": "https://localhost:8080/",
          "height": 128
        },
        "id": "25rZUqEH78MS",
        "outputId": "49962fe9-5267-4d9f-8da2-6a600afafef6"
      },
      "execution_count": 23,
      "outputs": [
        {
          "output_type": "execute_result",
          "data": {
            "text/plain": [
              "'I basically found Eden\\'s Curve to be a very poorly constructed that made it difficult to watch. However, there is something I must say about how the director captured something about the atmosphere of the early 70\\'s in the choice of settings and clothing. The \"back to the earth\" philosophy and the interest in sexual exploration and drugs that was not dramatically decadent, as portrayed in many later versions of the 70\\'s was right on, as was the \"don\\'t ask don\\'t tell\" pseudo-liberalism of the fraternity made up of east-coast intellectuals, except that I would have thought this was more likely of a New England school rather than one in Virginia, where I imagine the \"good ole boy\" mentality still dominated even elitist schools like this one. Another thing I appreciated and could relate to is that this was a time when homosexuality was not linked so much to leathermen or drag queens and I appreciated some homosexual roles not related to these terribly overused images. I felt it was very unfortunate that \"gay culture\" took on certain standard forms in the 80\\'s out of Castro and Christopher Streets and these defined the movement and left out huge numbers of gay men that were more subdued in their lifestyles. I appreciated the film mainly as a way of remembering a more natural way we were about our sexuality and personal relationships without \"the scene.\"'"
            ],
            "application/vnd.google.colaboratory.intrinsic+json": {
              "type": "string"
            }
          },
          "metadata": {},
          "execution_count": 23
        }
      ]
    },
    {
      "cell_type": "code",
      "source": [
        "# 데이터 토큰화(벡터화)\n",
        "\n",
        "from tensorflow.keras.preprocessing.text import Tokenizer\n",
        "from tensorflow.keras.preprocessing.sequence import pad_sequences\n",
        "\n",
        "maxlen=100\n",
        "training_samples=200\n",
        "validation_samples=10000\n",
        "max_words=10000\n",
        "\n",
        "tokenizer = Tokenizer(num_words=max_words)\n",
        "tokenizer.fit_on_texts(texts)\n",
        "sequences = tokenizer.texts_to_sequences(texts)  #text->sequence\n",
        "\n",
        "word_index = tokenizer.word_index\n",
        "len(word_index)"
      ],
      "metadata": {
        "colab": {
          "base_uri": "https://localhost:8080/"
        },
        "id": "xU-mai8i3ndv",
        "outputId": "f201f22e-20c3-4674-d749-d16d3e08c707"
      },
      "execution_count": 17,
      "outputs": [
        {
          "output_type": "execute_result",
          "data": {
            "text/plain": [
              "88582"
            ]
          },
          "metadata": {},
          "execution_count": 17
        }
      ]
    },
    {
      "cell_type": "code",
      "source": [
        "import numpy as np\n",
        "data = pad_sequences(sequences, maxlen=maxlen)  #pad_sequences를 써서 길이를 통일시킴\n",
        "labels = np.asarray(labels) #넘파이 배열로 바꿔줌\n",
        "print(data.shape, labels.shape)"
      ],
      "metadata": {
        "colab": {
          "base_uri": "https://localhost:8080/"
        },
        "id": "IsT3XadP5zJh",
        "outputId": "68a54281-2d0f-42d2-9519-492a046172c6"
      },
      "execution_count": 18,
      "outputs": [
        {
          "output_type": "stream",
          "name": "stdout",
          "text": [
            "(25000, 100) (25000,)\n"
          ]
        }
      ]
    },
    {
      "cell_type": "code",
      "source": [
        "# 훈련세트와 검증세트 분할\n",
        "\n",
        "indices = np.arange(data.shape[0])\n",
        "np.random.shuffle(indices)\n",
        "data = data[indices]\n",
        "labels = labels[indices]\n",
        "\n",
        "x_train = data[:training_samples]  #처음~training_samples까지(200개)\n",
        "y_train = labels[:training_samples] #10000+200=> 10200개\n",
        "x_val = data[training_samples : training_samples + validation_samples] # #10000+200=> 10200개\n",
        "y_val = labels[training_samples : training_samples + validation_samples] #10000+200=> 10200개"
      ],
      "metadata": {
        "id": "Y3IuKVdY6GSi"
      },
      "execution_count": 20,
      "outputs": []
    },
    {
      "cell_type": "code",
      "source": [
        "print(len(texts))"
      ],
      "metadata": {
        "colab": {
          "base_uri": "https://localhost:8080/"
        },
        "id": "REyXum7D6zfG",
        "outputId": "ce07f532-c700-42cd-9942-e04b3bc33d44"
      },
      "execution_count": 24,
      "outputs": [
        {
          "output_type": "stream",
          "name": "stdout",
          "text": [
            "25000\n"
          ]
        }
      ]
    },
    {
      "cell_type": "code",
      "source": [
        "print(len(sequences))"
      ],
      "metadata": {
        "colab": {
          "base_uri": "https://localhost:8080/"
        },
        "id": "U5kW0LPr8H8M",
        "outputId": "589d1474-381e-4f26-988b-2c1705ba4154"
      },
      "execution_count": 25,
      "outputs": [
        {
          "output_type": "stream",
          "name": "stdout",
          "text": [
            "25000\n"
          ]
        }
      ]
    },
    {
      "cell_type": "code",
      "source": [
        "len(sequences[0])"
      ],
      "metadata": {
        "colab": {
          "base_uri": "https://localhost:8080/"
        },
        "id": "-hcggphx8LTr",
        "outputId": "5a1aa287-f6d3-4ae6-ce1c-45aa157d6af8"
      },
      "execution_count": 27,
      "outputs": [
        {
          "output_type": "execute_result",
          "data": {
            "text/plain": [
              "225"
            ]
          },
          "metadata": {},
          "execution_count": 27
        }
      ]
    },
    {
      "cell_type": "code",
      "source": [
        "word_index.items()\n",
        "# key, value 다 나옴\n",
        "# 각각의 인덱스에 대해 key, value가 다 있음"
      ],
      "metadata": {
        "id": "HQW8P6YY8UMy"
      },
      "execution_count": null,
      "outputs": []
    },
    {
      "cell_type": "code",
      "source": [
        "print(data.shape)\n",
        "data[0]"
      ],
      "metadata": {
        "colab": {
          "base_uri": "https://localhost:8080/"
        },
        "id": "W3ILQo0w8pWn",
        "outputId": "26781c12-6c08-42b7-fb2f-2f292b469d2d"
      },
      "execution_count": 32,
      "outputs": [
        {
          "output_type": "stream",
          "name": "stdout",
          "text": [
            "(25000, 100)\n"
          ]
        },
        {
          "output_type": "execute_result",
          "data": {
            "text/plain": [
              "array([  37,   11, 1389,    2,   70, 2885,  439, 6614,   70,  915,    2,\n",
              "       1778,  523, 1334,   57, 2796,    6, 7590,    1, 1382,  266,    5,\n",
              "        755,   43,   28,    4,    1,  595,   88, 1127,  385, 3680,  117,\n",
              "         30,   24, 2762,  122,    6, 2862, 5267,   85,    4,   91, 7862,\n",
              "          7,    7,   21,   14,   49,   14,  132,  120,  540, 2368,    6,\n",
              "          4,    3,  726, 8921, 1725,    1,  327,   14,   70,   14,  741,\n",
              "       4850,    2,  480,  135,  138,   70,  718,   30,    1,  950, 1049,\n",
              "          6,  479,    7,    7,   22,  121, 2796,  124, 7637,    9,   53,\n",
              "          8,   28,  840,  133,   18, 5267,   85,   42, 2598,   84,  133,\n",
              "         96], dtype=int32)"
            ]
          },
          "metadata": {},
          "execution_count": 32
        }
      ]
    },
    {
      "cell_type": "code",
      "source": [
        "# glove 글로브\n",
        "glove_dir = '/content/drive/MyDrive'\n",
        "\n",
        "embeddings_index = {}\n",
        "f = open(os.path.join(glove_dir, 'glove.6B.100d.txt'), encoding='utf8')\n",
        "for line in f:\n",
        "    values = line.split()\n",
        "    word = values[0]\n",
        "    coefs = np.asarray(values[1:], dtype='float32')\n",
        "    embeddings_index[word]=coefs\n",
        "f.close()\n",
        "\n",
        "print(len(embeddings_index))\n"
      ],
      "metadata": {
        "colab": {
          "base_uri": "https://localhost:8080/"
        },
        "id": "f9HdZHb78Z1q",
        "outputId": "c73ed0c6-abfb-4b3e-e28a-ebcf42458a6c"
      },
      "execution_count": 43,
      "outputs": [
        {
          "output_type": "stream",
          "name": "stdout",
          "text": [
            "400000\n"
          ]
        }
      ]
    },
    {
      "cell_type": "code",
      "source": [
        "embedding_dim = 100\n",
        "\n",
        "embedding_matrix = np.zeros((max_words, embedding_dim))\n",
        "for word, i in word_index.items():\n",
        "  embedding_vector = embeddings_index.get(word)\n",
        "  if i < max_words:\n",
        "    if embedding_vector is not None:     # 임베딩 인덱스에 없는 단어는 모두 0이 됩니다.\n",
        "      embedding_matrix[i] = embedding_vector"
      ],
      "metadata": {
        "id": "Lcv4DJnw_yEJ"
      },
      "execution_count": 44,
      "outputs": []
    },
    {
      "cell_type": "code",
      "source": [
        "embeddings_index.get('the')\n",
        "# the에 대한 value"
      ],
      "metadata": {
        "colab": {
          "base_uri": "https://localhost:8080/"
        },
        "id": "r1LDG7lh_2Xh",
        "outputId": "b55b30e3-51f7-4afe-c77c-36e84e32b3ef"
      },
      "execution_count": 45,
      "outputs": [
        {
          "output_type": "execute_result",
          "data": {
            "text/plain": [
              "array([-0.038194, -0.24487 ,  0.72812 , -0.39961 ,  0.083172,  0.043953,\n",
              "       -0.39141 ,  0.3344  , -0.57545 ,  0.087459,  0.28787 , -0.06731 ,\n",
              "        0.30906 , -0.26384 , -0.13231 , -0.20757 ,  0.33395 , -0.33848 ,\n",
              "       -0.31743 , -0.48336 ,  0.1464  , -0.37304 ,  0.34577 ,  0.052041,\n",
              "        0.44946 , -0.46971 ,  0.02628 , -0.54155 , -0.15518 , -0.14107 ,\n",
              "       -0.039722,  0.28277 ,  0.14393 ,  0.23464 , -0.31021 ,  0.086173,\n",
              "        0.20397 ,  0.52624 ,  0.17164 , -0.082378, -0.71787 , -0.41531 ,\n",
              "        0.20335 , -0.12763 ,  0.41367 ,  0.55187 ,  0.57908 , -0.33477 ,\n",
              "       -0.36559 , -0.54857 , -0.062892,  0.26584 ,  0.30205 ,  0.99775 ,\n",
              "       -0.80481 , -3.0243  ,  0.01254 , -0.36942 ,  2.2167  ,  0.72201 ,\n",
              "       -0.24978 ,  0.92136 ,  0.034514,  0.46745 ,  1.1079  , -0.19358 ,\n",
              "       -0.074575,  0.23353 , -0.052062, -0.22044 ,  0.057162, -0.15806 ,\n",
              "       -0.30798 , -0.41625 ,  0.37972 ,  0.15006 , -0.53212 , -0.2055  ,\n",
              "       -1.2526  ,  0.071624,  0.70565 ,  0.49744 , -0.42063 ,  0.26148 ,\n",
              "       -1.538   , -0.30223 , -0.073438, -0.28312 ,  0.37104 , -0.25217 ,\n",
              "        0.016215, -0.017099, -0.38984 ,  0.87424 , -0.72569 , -0.51058 ,\n",
              "       -0.52028 , -0.1459  ,  0.8278  ,  0.27062 ], dtype=float32)"
            ]
          },
          "metadata": {},
          "execution_count": 45
        }
      ]
    },
    {
      "cell_type": "code",
      "source": [
        "print(embedding_matrix.shape)\n",
        "embedding_matrix[10]"
      ],
      "metadata": {
        "colab": {
          "base_uri": "https://localhost:8080/"
        },
        "id": "74qY2Kop_3p5",
        "outputId": "8f1527b8-4fd2-4646-8b6e-2c05d006dca9"
      },
      "execution_count": 46,
      "outputs": [
        {
          "output_type": "stream",
          "name": "stdout",
          "text": [
            "(10000, 100)\n"
          ]
        },
        {
          "output_type": "execute_result",
          "data": {
            "text/plain": [
              "array([-0.046539  ,  0.61966002,  0.56647003, -0.46584001, -1.18900001,\n",
              "        0.44599   ,  0.066035  ,  0.31909999,  0.14679   , -0.22119001,\n",
              "        0.79238999,  0.29905   ,  0.16073   ,  0.025324  ,  0.18678001,\n",
              "       -0.31000999, -0.28108001,  0.60514998, -1.0654    ,  0.52476001,\n",
              "        0.064152  ,  1.03579998, -0.40779001, -0.38011   ,  0.30801001,\n",
              "        0.59964001, -0.26991001, -0.76034999,  0.94221997, -0.46919   ,\n",
              "       -0.18278   ,  0.90652001,  0.79671001,  0.24824999,  0.25713   ,\n",
              "        0.6232    , -0.44768   ,  0.65357   ,  0.76902002, -0.51229   ,\n",
              "       -0.44332999, -0.21867   ,  0.38370001, -1.14830005, -0.94397998,\n",
              "       -0.15062   ,  0.30012   , -0.57805997,  0.20175   , -1.65910006,\n",
              "       -0.079195  ,  0.026423  ,  0.22051001,  0.99713999, -0.57538998,\n",
              "       -2.72659993,  0.31448001,  0.70521998,  1.43809998,  0.99125999,\n",
              "        0.13976   ,  1.34739995, -1.1753    ,  0.0039503 ,  1.02980006,\n",
              "        0.064637  ,  0.90886998,  0.82871997, -0.47003001, -0.10575   ,\n",
              "        0.5916    , -0.42210001,  0.57331002, -0.54114002,  0.10768   ,\n",
              "        0.39783999, -0.048744  ,  0.064596  , -0.61436999, -0.28600001,\n",
              "        0.50669998, -0.49757999, -0.81569999,  0.16407999, -1.96300006,\n",
              "       -0.26693001, -0.37593001, -0.95846999, -0.85839999, -0.71577001,\n",
              "       -0.32343   , -0.43121001,  0.41391999,  0.28374001, -0.70931   ,\n",
              "        0.15003   , -0.2154    , -0.37616   , -0.032502  ,  0.80620003])"
            ]
          },
          "metadata": {},
          "execution_count": 46
        }
      ]
    },
    {
      "cell_type": "code",
      "source": [
        "# 모델 정의하기, 훈련\n",
        "from tensorflow.keras.models import Sequential\n",
        "from tensorflow.keras.layers import Flatten, Dense, Embedding\n",
        "\n",
        "model = Sequential()\n",
        "model.add(Embedding(max_words, embedding_dim, input_length=maxlen)) \n",
        "model.add(Flatten())\n",
        "model.add(Dense(32,activation='relu'))\n",
        "model.add(Dense(1,activation='sigmoid'))\n",
        "model.summary()\n",
        "\n",
        "model.layers[0].set_weights([embedding_matrix]) # 모델에 Glove임베딩 로드\n",
        "model.layers[0].trainable = False  #사전 훈련된 부분이 업데이트 되면 안됨\n",
        "\n",
        "model.compile(optimizer='rmsprop', \n",
        "              loss='binary_crossentropy',\n",
        "              metrics=['acc'])\n",
        "\n",
        "history = model.fit(x_train, y_train,\n",
        "                    epochs=10,\n",
        "                    batch_size=32,\n",
        "                    validation_data=(x_val, y_val))"
      ],
      "metadata": {
        "colab": {
          "base_uri": "https://localhost:8080/"
        },
        "id": "WAG26YXTAJBI",
        "outputId": "e299a967-9843-41a5-fbee-f6f09e7a45d5"
      },
      "execution_count": 59,
      "outputs": [
        {
          "output_type": "stream",
          "name": "stdout",
          "text": [
            "Model: \"sequential_1\"\n",
            "_________________________________________________________________\n",
            " Layer (type)                Output Shape              Param #   \n",
            "=================================================================\n",
            " embedding_1 (Embedding)     (None, 100, 100)          1000000   \n",
            "                                                                 \n",
            " flatten_1 (Flatten)         (None, 10000)             0         \n",
            "                                                                 \n",
            " dense_2 (Dense)             (None, 32)                320032    \n",
            "                                                                 \n",
            " dense_3 (Dense)             (None, 1)                 33        \n",
            "                                                                 \n",
            "=================================================================\n",
            "Total params: 1,320,065\n",
            "Trainable params: 1,320,065\n",
            "Non-trainable params: 0\n",
            "_________________________________________________________________\n",
            "Epoch 1/10\n",
            "7/7 [==============================] - 1s 130ms/step - loss: 2.4418 - acc: 0.4650 - val_loss: 0.8713 - val_acc: 0.4944\n",
            "Epoch 2/10\n",
            "7/7 [==============================] - 1s 111ms/step - loss: 0.5729 - acc: 0.6450 - val_loss: 0.6879 - val_acc: 0.5668\n",
            "Epoch 3/10\n",
            "7/7 [==============================] - 1s 121ms/step - loss: 0.4395 - acc: 0.8100 - val_loss: 0.7004 - val_acc: 0.5614\n",
            "Epoch 4/10\n",
            "7/7 [==============================] - 1s 222ms/step - loss: 0.2602 - acc: 0.9050 - val_loss: 0.8603 - val_acc: 0.5366\n",
            "Epoch 5/10\n",
            "7/7 [==============================] - 1s 227ms/step - loss: 0.1098 - acc: 1.0000 - val_loss: 0.7753 - val_acc: 0.5580\n",
            "Epoch 6/10\n",
            "7/7 [==============================] - 1s 94ms/step - loss: 0.0697 - acc: 1.0000 - val_loss: 1.0760 - val_acc: 0.5216\n",
            "Epoch 7/10\n",
            "7/7 [==============================] - 1s 109ms/step - loss: 0.3447 - acc: 0.8750 - val_loss: 1.6633 - val_acc: 0.4933\n",
            "Epoch 8/10\n",
            "7/7 [==============================] - 1s 112ms/step - loss: 0.1087 - acc: 0.9550 - val_loss: 0.7821 - val_acc: 0.5610\n",
            "Epoch 9/10\n",
            "7/7 [==============================] - 1s 93ms/step - loss: 0.0332 - acc: 1.0000 - val_loss: 0.9230 - val_acc: 0.5465\n",
            "Epoch 10/10\n",
            "7/7 [==============================] - 1s 110ms/step - loss: 0.0272 - acc: 1.0000 - val_loss: 0.7633 - val_acc: 0.5652\n"
          ]
        }
      ]
    },
    {
      "cell_type": "code",
      "source": [
        "# 데이터가 적으면 안됨\n",
        "#파라미터: 132065개 나옴"
      ],
      "metadata": {
        "id": "-G_Ycv-mCLb4"
      },
      "execution_count": 51,
      "outputs": []
    },
    {
      "cell_type": "code",
      "source": [
        "# 그림그리기~\n",
        "import matplotlib.pyplot as plt\n",
        "accuracy = history.history[\"acc\"]\n",
        "val_accuracy = history.history[\"val_acc\"]\n",
        "loss = history.history[\"loss\"]\n",
        "val_loss = history.history[\"val_loss\"]\n",
        "\n",
        "epochs = range(1, len(accuracy) + 1)\n",
        "\n",
        "plt.plot(epochs, accuracy, \"bo\", label=\"Training acc\")\n",
        "plt.plot(epochs, val_accuracy, \"b\", label=\"Validation acc\")\n",
        "plt.title(\"Training and validation acc\")\n",
        "plt.legend()\n",
        "plt.figure()\n",
        "plt.plot(epochs, loss, \"bo\", label=\"Training loss\")\n",
        "plt.plot(epochs, val_loss, \"b\", label=\"Validation loss\")\n",
        "plt.title(\"Training and validation loss\")\n",
        "plt.legend()\n",
        "plt.show()"
      ],
      "metadata": {
        "colab": {
          "base_uri": "https://localhost:8080/",
          "height": 545
        },
        "id": "wBeFc2AyLRIh",
        "outputId": "d14b68be-eeae-4001-f681-f96814b54dcc"
      },
      "execution_count": 60,
      "outputs": [
        {
          "output_type": "display_data",
          "data": {
            "text/plain": [
              "<Figure size 432x288 with 1 Axes>"
            ],
            "image/png": "[encoded data removed]"
          },
          "metadata": {
            "needs_background": "light"
          }
        },
        {
          "output_type": "display_data",
          "data": {
            "text/plain": [
              "<Figure size 432x288 with 1 Axes>"
            ],
            "image/png": "[encoded data removed]"
          },
          "metadata": {
            "needs_background": "light"
          }
        }
      ]
    },
    {
      "cell_type": "code",
      "source": [
        "model.save_weights('/content/drive/MyDrive/model12000.h5')"
      ],
      "metadata": {
        "id": "YuTeEzNHM91a"
      },
      "execution_count": 61,
      "outputs": []
    },
    {
      "cell_type": "code",
      "source": [
        "# 평가\n",
        "test_dir = os.path.join(imdb_dir, 'test')\n",
        "labels = []\n",
        "texts = []\n",
        "\n",
        "for labels_type in ['neg', 'pos']:\n",
        "  dir_name = os.path.join(train_dir, label_type)\n",
        "  for fname in os.listdir(dir_name):\n",
        "    if fname[-4:] == '.txt':   \n",
        "      f = open(os.path.join(dir_name, fname), encoding='utf8')\n",
        "      texts.append(f.read())\n",
        "      f.close()\n",
        "      if label_type == 'neg':\n",
        "        labels.append(0)\n",
        "      else:\n",
        "        labels.append(1) \n",
        "\n",
        "sequences = tokenizer.texts_to_sequences(texts)\n",
        "x_test = pad_sequences(sequences, maxlen=maxlen)\n",
        "y_test = np.asarray(labels)"
      ],
      "metadata": {
        "id": "xtXqwxRqNGnW"
      },
      "execution_count": 64,
      "outputs": []
    },
    {
      "cell_type": "code",
      "source": [
        "model.save_weights('/content/drive/MyDrive/model12000.h5')\n",
        "model.evaluate(x_test, y_test)"
      ],
      "metadata": {
        "colab": {
          "base_uri": "https://localhost:8080/"
        },
        "id": "hgYNKdAPNv8j",
        "outputId": "13770122-f0ce-4cb3-fc40-463a9e7b863e"
      },
      "execution_count": 66,
      "outputs": [
        {
          "output_type": "stream",
          "name": "stdout",
          "text": [
            "782/782 [==============================] - 2s 2ms/step - loss: 0.8151 - acc: 0.5296\n"
          ]
        },
        {
          "output_type": "execute_result",
          "data": {
            "text/plain": [
              "[0.8151047825813293, 0.5296000242233276]"
            ]
          },
          "metadata": {},
          "execution_count": 66
        }
      ]
    },
    {
      "cell_type": "code",
      "source": [
        "model.load_weights('/content/drive/MyDrive/model12000.h5')\n",
        "model.evaluate(x_test, y_test)"
      ],
      "metadata": {
        "colab": {
          "base_uri": "https://localhost:8080/"
        },
        "id": "_nsdm_AvN0lO",
        "outputId": "469d113f-1557-4cde-ff4e-82d871b714e7"
      },
      "execution_count": 67,
      "outputs": [
        {
          "output_type": "stream",
          "name": "stdout",
          "text": [
            "782/782 [==============================] - 2s 2ms/step - loss: 0.8151 - acc: 0.5296\n"
          ]
        },
        {
          "output_type": "execute_result",
          "data": {
            "text/plain": [
              "[0.8151047825813293, 0.5296000242233276]"
            ]
          },
          "metadata": {},
          "execution_count": 67
        }
      ]
    },
    {
      "cell_type": "code",
      "source": [],
      "metadata": {
        "id": "68fX84UiReTM"
      },
      "execution_count": null,
      "outputs": []
    }
  ]
}