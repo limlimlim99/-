{
 "cells": [
  {
   "cell_type": "code",
   "execution_count": null,
   "id": "d47fd748-f871-4523-9194-8f2789a922ec",
   "metadata": {},
   "outputs": [],
   "source": []
  },
  {
   "cell_type": "code",
   "execution_count": null,
   "id": "6607378e-e405-4083-9cca-b1e282c625ea",
   "metadata": {},
   "outputs": [],
   "source": []
  },
  {
   "cell_type": "code",
   "execution_count": null,
   "id": "b7dc534d-6e57-48bc-9824-9533d2717e1e",
   "metadata": {},
   "outputs": [],
   "source": []
  },
  {
   "cell_type": "code",
   "execution_count": 55,
   "id": "41bda4dd-d7e1-4b19-b64d-da026b2a7b1a",
   "metadata": {},
   "outputs": [],
   "source": [
    "# 다음 크롤링 - \"tit_main\"\n",
    "#header 정보를 넣으면 다음 크롤링 가능\n",
    "# 우크라이나 \n",
    "\n",
    "from urllib import request\n",
    "from bs4 import BeautifulSoup\n",
    "\n",
    "url='https://search.daum.net/search?nil_suggest=btn&w=news&DA=SBC&q=%EC%9A%B0%ED%81%AC%EB%9D%BC%EC%9D%B4%EB%82%98'\n",
    "url\n",
    "\n",
    "header= {\"User-Agent\": \"Mozilla/5.0 (Windows NT 10.0; Win64; x64) AppleWebKit/537.36 (KHTML, like Gecko) Chrome/106.0.0.0 Safari/537.36\"}\n",
    "\n",
    "html = requests.get(url, headers= header).text\n",
    "html\n",
    "\n",
    "type(html)\n",
    "\n",
    "soup= BeautifulSoup(html, 'html.parser')\n",
    "soup\n",
    "\n",
    "title=soup.find_all(class_=\"tit_main\")\n",
    "title\n",
    "\n",
    "len(title)\n",
    "\n",
    "title[0].text\n",
    "\n",
    "[tit.text for tit in title] \n",
    "\n",
    "title[0].attrs['href']\n",
    "\n",
    "for i in title:\n",
    "    print(i.text, \":\", i.attrs['href'])"
   ]
  },
  {
   "cell_type": "code",
   "execution_count": null,
   "id": "336f0504-1451-40ad-806d-ef5ead1dcbcb",
   "metadata": {},
   "outputs": [],
   "source": []
  },
  {
   "cell_type": "code",
   "execution_count": null,
   "id": "40538107-0982-4435-aed6-8bd1b3072efb",
   "metadata": {},
   "outputs": [],
   "source": []
  },
  {
   "cell_type": "code",
   "execution_count": null,
   "id": "e705ea70-ea9a-409f-803d-5ea88b6df70b",
   "metadata": {},
   "outputs": [],
   "source": []
  },
  {
   "cell_type": "code",
   "execution_count": null,
   "id": "776d3362-b1e7-4bc2-ad81-0e6b24805b0b",
   "metadata": {},
   "outputs": [],
   "source": []
  },
  {
   "cell_type": "code",
   "execution_count": 60,
   "id": "a0120c7b-8e64-49a4-8815-d704bbeab303",
   "metadata": {
    "collapsed": true,
    "jupyter": {
     "outputs_hidden": true
    },
    "tags": []
   },
   "outputs": [
    {
     "data": {
      "text/plain": [
       "[<a class=\"tit_main fn_tit_u\" data-action-type=\"ks\" href=\"https://cp.news.search.daum.net/p/124956473\" onclick='smartLog(this, \"dc=NNS&amp;p=14&amp;d=26VJqUy18xD_XJvdBS&amp;pg=1&amp;r=1&amp;rc=4&amp;e1=16nqqGvXsVz_73HBGo&amp;e3=0&amp;ext=dsid=26VJqUy18xD_XJvdBS\", event, {\"cpid\": {\"value\": \"16nqqGvXsVz_73HBGo\"}});' target=\"_blank\"> <b>우크라이나</b> 헤르손 탈환 시도...가장 치열한 전투 예상 </a>,\n",
       " <a class=\"tit_main fn_tit_u\" data-action-type=\"ks\" href=\"http://v.media.daum.net/v/20221027103250575?f=o\" onclick='smartLog(this, \"dc=NNS&amp;p=14&amp;d=26K7s9AHKmhIwZhBB3&amp;pg=1&amp;r=2&amp;rc=4&amp;e1=16X5Xh1MWS7Qt1sMrW&amp;e3=0&amp;ext=dsid=26K7s9AHKmhIwZhBB3\", event, {\"cpid\": {\"value\": \"16X5Xh1MWS7Qt1sMrW\"}});' target=\"_blank\"> 대만, <b>우크라이나</b> 재건에 약 800억원 지원키로 </a>,\n",
       " <a class=\"tit_main fn_tit_u\" data-action-type=\"ks\" href=\"http://v.media.daum.net/v/20221027100423316?f=o\" onclick='smartLog(this, \"dc=NNS&amp;p=14&amp;d=26GSVcIJIRDVLiGPBf&amp;pg=1&amp;r=3&amp;rc=4&amp;e1=16mKHIlsR6WVoQImSS&amp;e3=0&amp;ext=dsid=26GSVcIJIRDVLiGPBf\", event, {\"cpid\": {\"value\": \"16mKHIlsR6WVoQImSS\"}});' target=\"_blank\"> '지구안보'의 눈으로 본 <b>우크라이나</b>전쟁 </a>,\n",
       " <a class=\"tit_main fn_tit_u\" data-action-type=\"ks\" href=\"https://cp.news.search.daum.net/p/124962113\" onclick='smartLog(this, \"dc=NNS&amp;p=14&amp;d=262JpfkQkM9s12XOnM&amp;pg=1&amp;r=4&amp;rc=4&amp;e1=165qxMocgZOF62gon_&amp;e3=0&amp;ext=dsid=262JpfkQkM9s12XOnM\", event, {\"cpid\": {\"value\": \"165qxMocgZOF62gon_\"}});' target=\"_blank\"> 굿짹월드, <b>우크라이나</b> ‘리드림(REDREAM) 프로젝트’에 3,500만 원 기부 </a>,\n",
       " <a class=\"tit_main\" href=\"http://100.daum.net/encyclopedia/view/b16a3665b\" onclick='smartLog(this, \"s=TO&amp;a=FHPR&amp;pg=1&amp;r=1&amp;rc=1&amp;p=3&amp;e=&amp;d=UA&amp;dc=BXE&amp;at=\", event);' target=\"_blank\"> <strong class=\"tit_name\">우크라이나</strong> </a>,\n",
       " <a class=\"tit_main\" data-docid=\"tstory-4763064_121\" href=\"http://stephan-us-story.tistory.com/121\" onclick='smartLog(this, \"rc=10&amp;pg=1&amp;r=1&amp;gd=tstory-4763064_121&amp;p=99&amp;sc=BR1&amp;at=link&amp;e2=794570&amp;d=22XmPjKCrCjz62vsMv&amp;dc=TWA\", event, {\"twa\":{\"e2\":\"794570\",\"fsnirf\":true,\"rank\":1,\"topic\":{\"사회\":937450}}});' target=\"_blank\">[리뷰] 전쟁 시나리오: 러시아vs<b>우크라이나</b></a>,\n",
       " <a class=\"tit_main\" href=\"https://cafe.daum.net/trumpandtheknight/nck5/4620?q=%EC%9A%B0%ED%81%AC%EB%9D%BC%EC%9D%B4%EB%82%98&amp;re=1\" onclick='smartLog(this, \"p=99&amp;gd=cafe-1YG42/nck5/4620&amp;rc=10&amp;dc=TWA&amp;sc=CCB&amp;pg=1&amp;d=cafe-1YG42/nck5/4620&amp;at=link&amp;r=2\", event, {\"twa\":{\"e2\":\"\",\"fsnirf\":true,\"rank\":2,\"topic\":{\"생활\":153179,\"사회\":669844}}})' target=\"_blank\">[RRN] 브리짓 브링크 <b>우크라이나</b> 주재 미국 대사 군 교수형</a>,\n",
       " <a class=\"tit_main\" href=\"https://www.clien.net/service/board/park/17603632\" onclick='smartLog(this, \"p=99&amp;gd=28_Pr6TknkLGFf5E1l&amp;rc=10&amp;dc=TWA&amp;sc=WSA&amp;pg=1&amp;d=fcfafa4e49e42c615fe44d65b0573a4183ead9c7&amp;at=link&amp;r=3\", event, {\"twa\":{\"e2\":\"\",\"fsnirf\":true,\"rank\":3,\"topic\":{\"사회\":902293}}})' target=\"_blank\"><b>우크라이나</b> 전쟁에서 러시아 병력 부족 문제 : 클리앙</a>,\n",
       " <a class=\"tit_main\" href=\"http://ratio0.tistory.com/68\" onclick='smartLog(this, \"rc=10&amp;pg=1&amp;r=4&amp;gd=tstory-2931580_68&amp;p=99&amp;sc=BR1&amp;at=link&amp;e2=794570&amp;d=22o7VXPy4bDDMTZwUj&amp;dc=TWA\", event, {\"twa\":{\"e2\":\"794570\",\"fsnirf\":false,\"rank\":4,\"topic\":{\"사회\":475805,\"정치\":204712,\"경제\":157837}}})' target=\"_blank\"><b>우크라이나</b> 재건 관련주 21세기 마셜플랜 언급</a>,\n",
       " <a class=\"tit_main\" href=\"https://www.voakorea.com/a/6706636.html\" onclick='smartLog(this, \"p=99&amp;gd=28YQRdvk6Wt5eYfwnl&amp;rc=10&amp;dc=TWA&amp;sc=WSA&amp;pg=1&amp;d=61045dbe4e96b797987f09e5b985771487542117&amp;at=link&amp;r=5\", event, {\"twa\":{\"e2\":\"\",\"fsnirf\":false,\"rank\":5,\"topic\":{}}})' target=\"_blank\">러시아 \"비상시에만 핵무기 사용\"...'자포리자 원전시찰' <b>우크라이나</b>-유엔 합의, 터키는 재건지원 약속</a>,\n",
       " <a class=\"tit_main\" href=\"https://cafe.daum.net/baemilytory/91cd/525252?q=%EC%9A%B0%ED%81%AC%EB%9D%BC%EC%9D%B4%EB%82%98&amp;re=1\" onclick='smartLog(this, \"p=99&amp;gd=cafe-1Yeqd/91cd/525252&amp;rc=10&amp;dc=TWA&amp;sc=CCB&amp;pg=1&amp;d=cafe-1Yeqd/91cd/525252&amp;at=link&amp;r=6\", event, {\"twa\":{\"e2\":\"\",\"fsnirf\":false,\"rank\":6,\"topic\":{\"IT/과학\":150685,\"생활\":214660,\"스포츠\":516595}}})' target=\"_blank\">이근 <b>우크라이나</b> 가지말고 지금 우리나라 와서 딱 하나만 하면 영웅인데</a>,\n",
       " <a class=\"tit_main\" href=\"https://cafe.daum.net/shogun/8jpK/125028?q=%EC%9A%B0%ED%81%AC%EB%9D%BC%EC%9D%B4%EB%82%98&amp;re=1\" onclick='smartLog(this, \"p=99&amp;gd=cafe-SWL/8jpK/125028&amp;rc=10&amp;dc=TWA&amp;sc=CCB&amp;pg=1&amp;d=cafe-SWL/8jpK/125028&amp;at=link&amp;r=7\", event, {\"twa\":{\"e2\":\"\",\"fsnirf\":false,\"rank\":7,\"topic\":{\"생활\":146521,\"사회\":117586,\"스포츠\":711986}}})' target=\"_blank\">헐 <b>우크라이나</b> 헤르손 수복속도 보소ㅋㅋ</a>,\n",
       " <a class=\"tit_main\" href=\"https://cafe.daum.net/loveafa/CKp/23425?q=%EC%9A%B0%ED%81%AC%EB%9D%BC%EC%9D%B4%EB%82%98&amp;re=1\" onclick='smartLog(this, \"p=99&amp;gd=cafe-2Ww/CKp/23425&amp;rc=10&amp;dc=TWA&amp;sc=CCB&amp;pg=1&amp;d=cafe-2Ww/CKp/23425&amp;at=link&amp;r=8\", event, {\"twa\":{\"e2\":\"\",\"fsnirf\":false,\"rank\":8,\"topic\":{\"생활\":143087,\"사회\":815240}}})' target=\"_blank\"><b>우크라이나</b> 러시아 전황분석 243일차(부제 : <b>우크라이나</b>의 더티밤?)</a>,\n",
       " <a class=\"tit_main\" href=\"https://play.google.com/store/apps/details?id=com.radiolight.ukraine&amp;hl=ko\" onclick='smartLog(this, \"s=TO&amp;a=BSGS&amp;dc=AYF&amp;p=2&amp;d=2FWcZcaeArR_s_MpsZ&amp;ext=dsid=2FWcZcaeArR_s_MpsZ&amp;rc=126&amp;r=1&amp;pg=1&amp;at=link\", event);' target=\"_blank\">라디오 <b>우크라이나</b> FM 온라인</a>,\n",
       " <a class=\"tit_main\" href=\"https://play.google.com/store/apps/details?id=com.worldradios.ukraine&amp;hl=ko\" onclick='smartLog(this, \"s=TO&amp;a=BSGS&amp;dc=AYF&amp;p=2&amp;d=2FrvpEL-kkyXfHzKio&amp;ext=dsid=2FrvpEL-kkyXfHzKio&amp;rc=126&amp;r=2&amp;pg=1&amp;at=link\", event);' target=\"_blank\">라디오 <b>우크라이나</b> - FM 라디오</a>,\n",
       " <a class=\"tit_main\" href=\"https://play.google.com/store/apps/details?id=com.innovate.UkraineSocial&amp;hl=ko\" onclick='smartLog(this, \"s=TO&amp;a=BSGS&amp;dc=AYF&amp;p=2&amp;d=2FopDneTljP_kZY2vE&amp;ext=dsid=2FopDneTljP_kZY2vE&amp;rc=126&amp;r=3&amp;pg=1&amp;at=link\", event);' target=\"_blank\">Ukraine Dating <b>우크라이나</b> 싱글을 만나보세요</a>,\n",
       " <a class=\"tit_main\" href=\"https://play.google.com/store/apps/details?id=com.cupidmedia.wrapper.ukrainedate&amp;hl=ko\" onclick='smartLog(this, \"s=TO&amp;a=BSGS&amp;dc=AYF&amp;p=2&amp;d=2Fcl3UYC-ccAbs6vc5&amp;ext=dsid=2Fcl3UYC-ccAbs6vc5&amp;rc=126&amp;r=4&amp;pg=1&amp;at=link\", event);' target=\"_blank\">UkraineDate: <b>우크라이나</b>인 데이트 앱</a>,\n",
       " <a class=\"tit_main\" href=\"https://play.google.com/store/apps/details?id=com.radiocolors.ukraine&amp;hl=ko\" onclick='smartLog(this, \"s=TO&amp;a=BSGS&amp;dc=AYF&amp;p=2&amp;d=2F7RP5lKHUzJST8Qs4&amp;ext=dsid=2F7RP5lKHUzJST8Qs4&amp;rc=126&amp;r=5&amp;pg=1&amp;at=link\", event);' target=\"_blank\">라디오 <b>우크라이나</b> 온라인</a>,\n",
       " <a class=\"tit_main\" href=\"https://play.google.com/store/apps/details?id=ukrainian.alphabet.for.students&amp;hl=ko\" onclick='smartLog(this, \"s=TO&amp;a=BSGS&amp;dc=AYF&amp;p=2&amp;d=2FD38CAoa9bEV1MVQO&amp;ext=dsid=2FD38CAoa9bEV1MVQO&amp;rc=126&amp;r=6&amp;pg=1&amp;at=link\", event);' target=\"_blank\"><b>우크라이나</b> 문자</a>,\n",
       " <a class=\"tit_main\" href=\"https://play.google.com/store/apps/details?id=com.mygdx.letterua&amp;hl=ko\" onclick='smartLog(this, \"s=TO&amp;a=BSGS&amp;dc=AYF&amp;p=2&amp;d=2F3YTRtOZUAAx0PwTn&amp;ext=dsid=2F3YTRtOZUAAx0PwTn&amp;rc=126&amp;r=7&amp;pg=1&amp;at=link\", event);' target=\"_blank\"><b>우크라이나</b> 알파벳</a>,\n",
       " <a class=\"tit_main\" href=\"https://play.google.com/store/apps/details?id=com.ipmobilesolutions.wallpapersukraine&amp;hl=ko\" onclick='smartLog(this, \"s=TO&amp;a=BSGS&amp;dc=AYF&amp;p=2&amp;d=2FK5qRC4iXfLSEVav_&amp;ext=dsid=2FK5qRC4iXfLSEVav_&amp;rc=126&amp;r=8&amp;pg=1&amp;at=link\", event);' target=\"_blank\"><b>우크라이나</b> 바탕 화면 및 배경</a>,\n",
       " <a class=\"tit_main\" href=\"https://play.google.com/store/apps/details?id=com.livephoto.live_wallpaper.ukraineflag3d&amp;hl=ko\" onclick='smartLog(this, \"s=TO&amp;a=BSGS&amp;dc=AYF&amp;p=2&amp;d=2Fb8mqU-RM9-p5uo3n&amp;ext=dsid=2Fb8mqU-RM9-p5uo3n&amp;rc=126&amp;r=9&amp;pg=1&amp;at=link\", event);' target=\"_blank\">3차원, <b>우크라이나</b>, 깃발 애니메이션 배경화면</a>,\n",
       " <a class=\"tit_main\" href=\"https://play.google.com/store/apps/details?id=com.kakiradios.ukraine&amp;hl=ko\" onclick='smartLog(this, \"s=TO&amp;a=BSGS&amp;dc=AYF&amp;p=2&amp;d=2FZ7Il5yKBBA9PFul7&amp;ext=dsid=2FZ7Il5yKBBA9PFul7&amp;rc=126&amp;r=10&amp;pg=1&amp;at=link\", event);' target=\"_blank\">라디오 <b>우크라이나</b> 온라인 FM</a>]"
      ]
     },
     "execution_count": 60,
     "metadata": {},
     "output_type": "execute_result"
    }
   ],
   "source": [
    "title = soup.find_all(class_ = \"tit_main\")\n",
    "title"
   ]
  },
  {
   "cell_type": "code",
   "execution_count": 62,
   "id": "547dc1f3-5305-4c99-82e6-caca77a3e4ca",
   "metadata": {
    "collapsed": true,
    "jupyter": {
     "outputs_hidden": true
    },
    "tags": []
   },
   "outputs": [
    {
     "data": {
      "text/plain": [
       "[<a class=\"tit_main fn_tit_u\" data-action-type=\"ks\" href=\"https://cp.news.search.daum.net/p/124956473\" onclick='smartLog(this, \"dc=NNS&amp;p=14&amp;d=26VJqUy18xD_XJvdBS&amp;pg=1&amp;r=1&amp;rc=4&amp;e1=16nqqGvXsVz_73HBGo&amp;e3=0&amp;ext=dsid=26VJqUy18xD_XJvdBS\", event, {\"cpid\": {\"value\": \"16nqqGvXsVz_73HBGo\"}});' target=\"_blank\"> <b>우크라이나</b> 헤르손 탈환 시도...가장 치열한 전투 예상 </a>,\n",
       " <a class=\"tit_main fn_tit_u\" data-action-type=\"ks\" href=\"http://v.media.daum.net/v/20221027103250575?f=o\" onclick='smartLog(this, \"dc=NNS&amp;p=14&amp;d=26K7s9AHKmhIwZhBB3&amp;pg=1&amp;r=2&amp;rc=4&amp;e1=16X5Xh1MWS7Qt1sMrW&amp;e3=0&amp;ext=dsid=26K7s9AHKmhIwZhBB3\", event, {\"cpid\": {\"value\": \"16X5Xh1MWS7Qt1sMrW\"}});' target=\"_blank\"> 대만, <b>우크라이나</b> 재건에 약 800억원 지원키로 </a>,\n",
       " <a class=\"tit_main fn_tit_u\" data-action-type=\"ks\" href=\"http://v.media.daum.net/v/20221027100423316?f=o\" onclick='smartLog(this, \"dc=NNS&amp;p=14&amp;d=26GSVcIJIRDVLiGPBf&amp;pg=1&amp;r=3&amp;rc=4&amp;e1=16mKHIlsR6WVoQImSS&amp;e3=0&amp;ext=dsid=26GSVcIJIRDVLiGPBf\", event, {\"cpid\": {\"value\": \"16mKHIlsR6WVoQImSS\"}});' target=\"_blank\"> '지구안보'의 눈으로 본 <b>우크라이나</b>전쟁 </a>,\n",
       " <a class=\"tit_main fn_tit_u\" data-action-type=\"ks\" href=\"https://cp.news.search.daum.net/p/124962113\" onclick='smartLog(this, \"dc=NNS&amp;p=14&amp;d=262JpfkQkM9s12XOnM&amp;pg=1&amp;r=4&amp;rc=4&amp;e1=165qxMocgZOF62gon_&amp;e3=0&amp;ext=dsid=262JpfkQkM9s12XOnM\", event, {\"cpid\": {\"value\": \"165qxMocgZOF62gon_\"}});' target=\"_blank\"> 굿짹월드, <b>우크라이나</b> ‘리드림(REDREAM) 프로젝트’에 3,500만 원 기부 </a>]"
      ]
     },
     "execution_count": 62,
     "metadata": {},
     "output_type": "execute_result"
    }
   ],
   "source": [
    "title = soup.find_all(class_ = \"tit_main fn_tit_u\")\n",
    "title"
   ]
  },
  {
   "cell_type": "code",
   "execution_count": null,
   "id": "51ace630-c56b-4491-b7f0-ead4b0128e0b",
   "metadata": {},
   "outputs": [],
   "source": []
  },
  {
   "cell_type": "code",
   "execution_count": null,
   "id": "c4a302e3-233b-408c-b63b-7950ab4f8193",
   "metadata": {},
   "outputs": [],
   "source": []
  },
  {
   "cell_type": "code",
   "execution_count": null,
   "id": "3c8ae495-1122-4f97-b9c6-47266fefff37",
   "metadata": {},
   "outputs": [],
   "source": []
  },
  {
   "cell_type": "code",
   "execution_count": null,
   "id": "6af2f6d2-499b-490c-8ca5-d43f74d9981c",
   "metadata": {},
   "outputs": [],
   "source": [
    "title=soup.find_all(class_=\"tit_main fn_fit_u\")\n",
    "title\n",
    "\n",
    "find\n",
    "find_all\n",
    "\n",
    "select\n",
    "select_one"
   ]
  },
  {
   "cell_type": "code",
   "execution_count": null,
   "id": "1a60da36-4036-4f83-9fe0-45a933399c72",
   "metadata": {},
   "outputs": [],
   "source": [
    "클래스- '.'\n",
    "id - '#'"
   ]
  },
  {
   "cell_type": "code",
   "execution_count": null,
   "id": "0fa16eb7-218f-4889-863b-b9e7c41a412f",
   "metadata": {},
   "outputs": [],
   "source": [
    "# 검사 - copy - selector\n",
    "body > script:nth-child(7)"
   ]
  },
  {
   "cell_type": "code",
   "execution_count": 77,
   "id": "5fe1937a-46f1-4c07-9f26-c247bc5624ce",
   "metadata": {},
   "outputs": [
    {
     "data": {
      "text/plain": [
       "[]"
      ]
     },
     "execution_count": 77,
     "metadata": {},
     "output_type": "execute_result"
    }
   ],
   "source": [
    "title= soup.select(\"#newsColl > div.cont_divider > ul > li:nth-child(2) > div.wrap_cont > a\")\n",
    "title"
   ]
  },
  {
   "cell_type": "code",
   "execution_count": null,
   "id": "169ded04-477b-4935-a031-ae99c973c97b",
   "metadata": {},
   "outputs": [],
   "source": []
  },
  {
   "cell_type": "code",
   "execution_count": null,
   "id": "5b3965eb-4c8f-4a84-937e-381c8b55665a",
   "metadata": {},
   "outputs": [],
   "source": []
  },
  {
   "cell_type": "code",
   "execution_count": 7,
   "id": "1e5a3261-618e-4e57-938c-382ebe7fad73",
   "metadata": {
    "tags": []
   },
   "outputs": [
    {
     "data": {
      "text/plain": [
       "[<a class=\"tit_main fn_tit_u\" href=\"http://v.media.daum.net/v/20221027030701102?f=o\" onclick='smartLog(this, \"dc=NNS&amp;d=2621uJ6aLY2j43mVQX&amp;pg=1&amp;r=2&amp;p=4&amp;rc=10&amp;e1=16bOiOx4gG2S18EPLj&amp;e3=0&amp;ext=dsid=2621uJ6aLY2j43mVQX\", event, {\"cpid\": {\"value\": \"16bOiOx4gG2S18EPLj\"}});' target=\"_blank\">“한국에서 <b>미국</b> 주립대 학위 받아요.”</a>]"
      ]
     },
     "execution_count": 7,
     "metadata": {},
     "output_type": "execute_result"
    }
   ],
   "source": [
    "# 다음 크롤링 - \"tit_main\"\n",
    "#header 정보를 넣으면 다음 크롤링 가능\n",
    "#미국\n",
    "\n",
    "from urllib import request\n",
    "from bs4 import BeautifulSoup\n",
    "\n",
    "url='https://search.daum.net/search?w=news&nil_search=btn&DA=NTB&enc=utf8&cluster=y&cluster_page=1&q=%EB%AF%B8%EA%B5%AD'\n",
    "\n",
    "header= {\"User-Agent\": \"Mozilla/5.0 (Windows NT 10.0; Win64; x64) AppleWebKit/537.36 (KHTML, like Gecko) Chrome/106.0.0.0 Safari/537.36\"}\n",
    "\n",
    "html = requests.get(url, headers= header).text\n",
    "\n",
    "\n",
    "type(html)\n",
    "\n",
    "soup= BeautifulSoup(html, 'html.parser')\n",
    "soup\n",
    "\n",
    "#title=soup.find_all(class_=\"tit_main\")\n",
    "#title\n",
    "\n",
    "title= soup.select(\"#newsColl > div.cont_divider > ul > li:nth-child(2) > div.wrap_cont > a\")\n",
    "title\n",
    "\n",
    "#title= soup.select(\"#newsColl > div.cont_divider > ul > li:nth-child(2) \")\n",
    "# 뒤에의 > div.wrap_cont > a를 지우면 더 많이 나오게 됨\n",
    "# soup.select_one을 하면 1개만 가져올 수 있음\n"
   ]
  },
  {
   "cell_type": "code",
   "execution_count": null,
   "id": "58865d3a-0627-4292-82a4-062fc3fbbe2a",
   "metadata": {},
   "outputs": [],
   "source": []
  },
  {
   "cell_type": "code",
   "execution_count": null,
   "id": "1bc4ad25-a678-4155-a260-c5e25064bfca",
   "metadata": {},
   "outputs": [],
   "source": []
  },
  {
   "cell_type": "code",
   "execution_count": null,
   "id": "28244ebd-cf34-4270-badb-ddb2eac4d006",
   "metadata": {},
   "outputs": [],
   "source": []
  },
  {
   "cell_type": "code",
   "execution_count": 95,
   "id": "ccc4e3ea-5310-46b9-a165-c53bd66f4f94",
   "metadata": {},
   "outputs": [
    {
     "data": {
      "text/plain": [
       "[<a class=\"tit_main fn_tit_u\" href=\"http://v.media.daum.net/v/20221027103250575?f=o\" onclick='smartLog(this, \"dc=NNS&amp;d=26K7s9AHKmhIwZhBB3&amp;pg=1&amp;r=2&amp;p=4&amp;rc=10&amp;e1=16X5Xh1MWS7Qt1sMrW&amp;e3=0&amp;ext=dsid=26K7s9AHKmhIwZhBB3\", event, {\"cpid\": {\"value\": \"16X5Xh1MWS7Qt1sMrW\"}});' target=\"_blank\">대만, <b>우크라이나</b> 재건에 약 800억원 지원키로</a>]"
      ]
     },
     "execution_count": 95,
     "metadata": {},
     "output_type": "execute_result"
    }
   ],
   "source": [
    "title=soup.select(\"#newsColl > div.cont_divider > ul > li:nth-child(2) > div.wrap_cont > a\")\n",
    "title"
   ]
  },
  {
   "cell_type": "code",
   "execution_count": 103,
   "id": "f4776638-2489-45cf-b131-09b9a81b64bd",
   "metadata": {},
   "outputs": [],
   "source": [
    "#url1 = \"https://search.daum.net/search?nil_suggest=btn&w=news&DA=PGD&q=%EC%9A%B0%ED%81%AC%EB%9D%BC%EC%9D%B4%EB%82%98&p=1\""
   ]
  },
  {
   "cell_type": "code",
   "execution_count": 109,
   "id": "af74dcd6-5c25-48fc-bdd0-ca639f37bd05",
   "metadata": {},
   "outputs": [
    {
     "ename": "SyntaxError",
     "evalue": "EOL while scanning string literal (2023764162.py, line 1)",
     "output_type": "error",
     "traceback": [
      "\u001b[1;36m  Input \u001b[1;32mIn [109]\u001b[1;36m\u001b[0m\n\u001b[1;33m    url1 = \"https://search.daum.net/search?nil_suggest=btn&w=news&DA=PGD&q=\u001b[0m\n\u001b[1;37m                                                                           ^\u001b[0m\n\u001b[1;31mSyntaxError\u001b[0m\u001b[1;31m:\u001b[0m EOL while scanning string literal\n"
     ]
    }
   ],
   "source": [
    "url1 = \"https://search.daum.net/search?nil_suggest=btn&w=news&DA=PGD&q=\n",
    "url2=검색어( %EC%9A%B0%ED%81%AC%EB%9D%BC%EC%9D%B4%EB%82%98 )\n",
    "url3=페이지번호( &p=1\" )"
   ]
  },
  {
   "cell_type": "code",
   "execution_count": 111,
   "id": "c8474068-da12-42a8-a69d-df254dcf51c0",
   "metadata": {},
   "outputs": [
    {
     "name": "stdin",
     "output_type": "stream",
     "text": [
      "검색어를 입력해주세요:  우크라이나\n"
     ]
    },
    {
     "name": "stdout",
     "output_type": "stream",
     "text": [
      "https://search.daum.net/search?nil_suggest=btn&w=news&DA=PGD&q=우크라이나&p=1\n"
     ]
    }
   ],
   "source": [
    "url1 =\"https://search.daum.net/search?nil_suggest=btn&w=news&DA=PGD&q=\"\n",
    "url2= input(\"검색어를 입력해주세요: \")\n",
    "url3= \"&p=\"\n",
    "\n",
    "url= url1+url2+url3+str(1)\n",
    "print(url)"
   ]
  },
  {
   "cell_type": "code",
   "execution_count": 112,
   "id": "bd2d0bee-c242-4762-bfb6-00f03c8fbcb7",
   "metadata": {},
   "outputs": [],
   "source": [
    "url2= input(\"검색어를 입력해주세요: \")\n",
    "for j in range(1, 4):\n",
    "    \n",
    "    url1 =\"https://search.daum.net/search?nil_suggest=btn&w=news&DA=PGD&q=\"\n",
    "    url3= \"&p=\"\n",
    "    url= url1+url2+url3+str(j)\n",
    "    \n",
    "    html= requests.get(url, headers=header).text\n",
    "    soup= BeautifulSoup(html, 'lxml')\n",
    "    title= soup.find_all(class_=\"tit_main fn_tit_u\")\n",
    "    for i in title:\n",
    "        print(i, text, \":\", i.attrs['href'])\n",
    "        print(f\"{j}페이지입니다.\")\n",
    "        print(\"-\"*20)\n",
    "        print()"
   ]
  },
  {
   "cell_type": "code",
   "execution_count": null,
   "id": "4e25bbae-42f4-4bf9-a7c1-18be4d91c177",
   "metadata": {},
   "outputs": [],
   "source": [
    "url1 = '\n",
    "https://search.daum.net/search?w=news&DA=PGD&enc=utf8&cluster=y&cluster_page=1&q=\n",
    "'\n",
    "url2 = input('검색어를 입력하세요.')\n",
    "url3 = '&p='\n",
    "\n",
    "for i in range(1, 21):\n",
    "    url = url1 + url2 + url3 + str(i)\n",
    "    html = requests.get(url, headers = header).text\n",
    "    soup = BeautifulSoup(html, 'html.parser')\n",
    "    title = soup.find_all(class_ = 'tit_main fn_tit_u')\n",
    "    for j in title:\n",
    "        print(j.text, ' : ', j.attrs['href'])\n",
    "    print(f'{i}페이지입니다')\n",
    "    print('-' * 100) "
   ]
  },
  {
   "cell_type": "code",
   "execution_count": null,
   "id": "7bf6d42d-804f-41e9-9980-8b356a25e5de",
   "metadata": {},
   "outputs": [],
   "source": []
  },
  {
   "cell_type": "code",
   "execution_count": null,
   "id": "00aa7ab8-8609-4af6-8f27-d30f2f1d1e25",
   "metadata": {},
   "outputs": [],
   "source": []
  },
  {
   "cell_type": "code",
   "execution_count": 2,
   "id": "e0bc3676-1218-423f-863a-7d804bdef513",
   "metadata": {},
   "outputs": [
    {
     "ename": "NameError",
     "evalue": "name 'url1' is not defined",
     "output_type": "error",
     "traceback": [
      "\u001b[1;31m---------------------------------------------------------------------------\u001b[0m",
      "\u001b[1;31mNameError\u001b[0m                                 Traceback (most recent call last)",
      "Input \u001b[1;32mIn [2]\u001b[0m, in \u001b[0;36m<cell line: 3>\u001b[1;34m()\u001b[0m\n\u001b[0;32m      1\u001b[0m \u001b[38;5;66;03m# 10페이지 뽑아내기\u001b[39;00m\n\u001b[0;32m      3\u001b[0m \u001b[38;5;28;01mfor\u001b[39;00m j \u001b[38;5;129;01min\u001b[39;00m \u001b[38;5;28mrange\u001b[39m(\u001b[38;5;241m1\u001b[39m, \u001b[38;5;241m11\u001b[39m):\n\u001b[1;32m----> 4\u001b[0m     url\u001b[38;5;241m=\u001b[39m \u001b[43murl1\u001b[49m\u001b[38;5;241m+\u001b[39m\u001b[38;5;28mstr\u001b[39m(j)\n\u001b[0;32m      5\u001b[0m     html\u001b[38;5;241m=\u001b[39m requests\u001b[38;5;241m.\u001b[39mget(url, headers\u001b[38;5;241m=\u001b[39mheader)\u001b[38;5;241m.\u001b[39mtext\n\u001b[0;32m      6\u001b[0m     soup\u001b[38;5;241m=\u001b[39m BeautifulSoup(html, \u001b[38;5;124m'\u001b[39m\u001b[38;5;124mlxml\u001b[39m\u001b[38;5;124m'\u001b[39m)\n",
      "\u001b[1;31mNameError\u001b[0m: name 'url1' is not defined"
     ]
    }
   ],
   "source": [
    "# 10페이지 뽑아내기\n",
    "\n",
    "for j in range(1, 11):\n",
    "    url= url1+str(j)\n",
    "    html= requests.get(url, headers=header).text\n",
    "    soup= BeautifulSoup(html, 'lxml')\n",
    "    title= soup.find_all(class_=\"tit_main fn_tit_u\")\n",
    "    for i in title:\n",
    "        print(i, text, \":\", i.attrs['href'])\n",
    "        print(f\"(j)페이지입니다.\")\n",
    "        print(\"-\"*20)\n",
    "        print()"
   ]
  },
  {
   "cell_type": "code",
   "execution_count": null,
   "id": "cab50262-7d40-424c-b810-72f18dd2029a",
   "metadata": {},
   "outputs": [],
   "source": [
    "header= {\"User-Agent\": \"Mozilla/5.0 (Windows NT 10.0; Win64; x64) AppleWebKit/537.36 (KHTML, like Gecko) Chrome/106.0.0.0 Safari/537.36\"}\n",
    "html = requests.get(url, headers= header).text"
   ]
  },
  {
   "cell_type": "code",
   "execution_count": null,
   "id": "e5e719fe-9e67-44ce-915f-f420a462af21",
   "metadata": {},
   "outputs": [],
   "source": []
  },
  {
   "cell_type": "code",
   "execution_count": 4,
   "id": "76438f0b-c61e-4d97-be86-154809883d30",
   "metadata": {},
   "outputs": [
    {
     "name": "stdin",
     "output_type": "stream",
     "text": [
      "검색어를 입력해주세요:  우크라이나\n"
     ]
    },
    {
     "ename": "NameError",
     "evalue": "name 'requests' is not defined",
     "output_type": "error",
     "traceback": [
      "\u001b[1;31m---------------------------------------------------------------------------\u001b[0m",
      "\u001b[1;31mNameError\u001b[0m                                 Traceback (most recent call last)",
      "Input \u001b[1;32mIn [4]\u001b[0m, in \u001b[0;36m<cell line: 4>\u001b[1;34m()\u001b[0m\n\u001b[0;32m      6\u001b[0m url3\u001b[38;5;241m=\u001b[39m \u001b[38;5;124m\"\u001b[39m\u001b[38;5;124m&p=\u001b[39m\u001b[38;5;124m\"\u001b[39m\n\u001b[0;32m      7\u001b[0m url\u001b[38;5;241m=\u001b[39m url1\u001b[38;5;241m+\u001b[39murl2\u001b[38;5;241m+\u001b[39murl3\u001b[38;5;241m+\u001b[39m\u001b[38;5;28mstr\u001b[39m(j)\n\u001b[1;32m----> 9\u001b[0m html\u001b[38;5;241m=\u001b[39m \u001b[43mrequests\u001b[49m\u001b[38;5;241m.\u001b[39mget(url, headers\u001b[38;5;241m=\u001b[39mheader)\u001b[38;5;241m.\u001b[39mtext\n\u001b[0;32m     10\u001b[0m soup\u001b[38;5;241m=\u001b[39m BeautifulSoup(html, \u001b[38;5;124m'\u001b[39m\u001b[38;5;124mlxml\u001b[39m\u001b[38;5;124m'\u001b[39m)\n\u001b[0;32m     11\u001b[0m title\u001b[38;5;241m=\u001b[39m soup\u001b[38;5;241m.\u001b[39mfind_all(class_\u001b[38;5;241m=\u001b[39m\u001b[38;5;124m\"\u001b[39m\u001b[38;5;124mtit_main fn_tit_u\u001b[39m\u001b[38;5;124m\"\u001b[39m)\n",
      "\u001b[1;31mNameError\u001b[0m: name 'requests' is not defined"
     ]
    }
   ],
   "source": [
    "#def search naver(korea)\n",
    "\n",
    "url2= input(\"검색어를 입력해주세요: \")\n",
    "for j in range(1, 4):\n",
    "    url1 =\"https://search.daum.net/search?nil_suggest=btn&w=news&DA=PGD&q=\"\n",
    "    url3= \"&p=\"\n",
    "    url= url1+url2+url3+str(j)\n",
    "    \n",
    "    html= requests.get(url, headers=header).text\n",
    "    soup= BeautifulSoup(html, 'lxml')\n",
    "    title= soup.find_all(class_=\"tit_main fn_tit_u\")\n",
    "    for i in title:\n",
    "        print(i, text, \":\", i.attrs['href'])\n",
    "        print(f\"{j}페이지입니다.\")\n",
    "        print(\"-\"*20)\n",
    "        print()"
   ]
  },
  {
   "cell_type": "code",
   "execution_count": null,
   "id": "b93bdd2e-4c00-4549-8bea-542fc98be922",
   "metadata": {},
   "outputs": [],
   "source": []
  },
  {
   "cell_type": "code",
   "execution_count": null,
   "id": "d2d93cd9-6bcf-4d41-baa6-0bab2d00c8ad",
   "metadata": {},
   "outputs": [],
   "source": []
  }
 ],
 "metadata": {
  "kernelspec": {
   "display_name": "Python 3 (ipykernel)",
   "language": "python",
   "name": "python3"
  },
  "language_info": {
   "codemirror_mode": {
    "name": "ipython",
    "version": 3
   },
   "file_extension": ".py",
   "mimetype": "text/x-python",
   "name": "python",
   "nbconvert_exporter": "python",
   "pygments_lexer": "ipython3",
   "version": "3.9.12"
  }
 },
 "nbformat": 4,
 "nbformat_minor": 5
}
