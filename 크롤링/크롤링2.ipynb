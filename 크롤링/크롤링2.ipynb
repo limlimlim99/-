{
 "cells": [
  {
   "cell_type": "markdown",
   "id": "ed01432d-f2a6-467e-bfd6-43b99d517386",
   "metadata": {},
   "source": [
    "# 다음 - 로그인"
   ]
  },
  {
   "cell_type": "code",
   "execution_count": 63,
   "id": "ea5a9880-f056-4711-874f-72f6be754c59",
   "metadata": {},
   "outputs": [],
   "source": [
    "# 임포트\n",
    "import selenium\n",
    "import requests\n",
    "from bs4 import BeautifulSoup\n",
    "from urllib.request import urlopen\n",
    "from urllib.parse import quote_plus\n",
    "from selenium import webdriver"
   ]
  },
  {
   "cell_type": "code",
   "execution_count": null,
   "id": "0cfdc5b4-f370-4ab5-805c-9114c7d04e39",
   "metadata": {},
   "outputs": [],
   "source": [
    "driver=webdriver.Chrome(\"C:/Users/chromedriver.exe\")\n",
    "driver.get(\"https://www.daum.net/\")\n",
    "\n",
    "# 로그인계정 페이지 열기(url실행됨)\n",
    "url =\"https://accounts.kakao.com/login?continue=https%3A%2F%2Flogins.daum.net%2Faccounts%2Fksso.do%3Frescue%3Dtrue%26url%3Dhttps%253A%252F%252Fwww.daum.net\"\n",
    "driver.get(url)\n",
    "\n",
    "driver.find_element(by=\"id\")\n",
    "e.clear()"
   ]
  },
  {
   "cell_type": "code",
   "execution_count": null,
   "id": "892f6608-9a68-4120-a9f9-8865ad75f80a",
   "metadata": {},
   "outputs": [],
   "source": [
    "#input-loginKey"
   ]
  },
  {
   "cell_type": "code",
   "execution_count": null,
   "id": "3844df37-ef93-438b-bd8e-2b196cb102b3",
   "metadata": {},
   "outputs": [],
   "source": [
    "# 카카오로 하면 안됨 오ㅐ 안되냐고요"
   ]
  },
  {
   "cell_type": "code",
   "execution_count": null,
   "id": "0309e96d-eeb1-4001-9d8f-118f7de6e1aa",
   "metadata": {},
   "outputs": [],
   "source": []
  },
  {
   "cell_type": "code",
   "execution_count": null,
   "id": "bfbd5b51-5784-4d36-8fa3-5886e70c8cc1",
   "metadata": {},
   "outputs": [],
   "source": []
  },
  {
   "cell_type": "code",
   "execution_count": 176,
   "id": "bc7566a9-b621-4f21-aeea-659ad0f561ed",
   "metadata": {},
   "outputs": [
    {
     "ename": "TypeError",
     "evalue": "find_element() got an unexpected keyword argument 'id'",
     "output_type": "error",
     "traceback": [
      "\u001b[1;31m---------------------------------------------------------------------------\u001b[0m",
      "\u001b[1;31mTypeError\u001b[0m                                 Traceback (most recent call last)",
      "Input \u001b[1;32mIn [176]\u001b[0m, in \u001b[0;36m<cell line: 1>\u001b[1;34m()\u001b[0m\n\u001b[1;32m----> 1\u001b[0m e \u001b[38;5;241m=\u001b[39m \u001b[43mdriver\u001b[49m\u001b[38;5;241;43m.\u001b[39;49m\u001b[43mfind_element\u001b[49m\u001b[43m(\u001b[49m\u001b[43mBy\u001b[49m\u001b[38;5;241;43m.\u001b[39;49m\u001b[43mID\u001b[49m\u001b[43m,\u001b[49m\u001b[43m \u001b[49m\u001b[38;5;28;43mid\u001b[39;49m\u001b[38;5;241;43m=\u001b[39;49m\u001b[38;5;124;43m\"\u001b[39;49m\u001b[38;5;124;43mid_email_2\u001b[39;49m\u001b[38;5;124;43m\"\u001b[39;49m\u001b[43m)\u001b[49m\n\u001b[0;32m      2\u001b[0m \u001b[38;5;66;03m#e.clear()\u001b[39;00m\n\u001b[0;32m      3\u001b[0m \u001b[38;5;66;03m# id가 입력됨\u001b[39;00m\n\u001b[0;32m      4\u001b[0m e\u001b[38;5;241m.\u001b[39msend_keys(\u001b[38;5;124m\"\u001b[39m\u001b[38;5;124mabc\u001b[39m\u001b[38;5;124m\"\u001b[39m)\n",
      "\u001b[1;31mTypeError\u001b[0m: find_element() got an unexpected keyword argument 'id'"
     ]
    }
   ],
   "source": [
    "e = driver.find_element(By.ID, id=\"id_email_2\")\n",
    "#e.clear()\n",
    "# id가 입력됨\n",
    "e.send_keys(\"abc\") "
   ]
  },
  {
   "cell_type": "code",
   "execution_count": 85,
   "id": "f0ec5f30-51b2-4891-847a-c40a3783fd9f",
   "metadata": {},
   "outputs": [
    {
     "ename": "SyntaxError",
     "evalue": "invalid syntax (4140853139.py, line 1)",
     "output_type": "error",
     "traceback": [
      "\u001b[1;36m  Input \u001b[1;32mIn [85]\u001b[1;36m\u001b[0m\n\u001b[1;33m    e = driver.find_element(By.ID, class=\"tf_g tf_email\" name=\"email\" validator=\"email_or_phone_or_kakaoid\" type=\"text\" id=\"id_email_2\" )\u001b[0m\n\u001b[1;37m                                   ^\u001b[0m\n\u001b[1;31mSyntaxError\u001b[0m\u001b[1;31m:\u001b[0m invalid syntax\n"
     ]
    }
   ],
   "source": [
    "e = driver.find_element(By.ID, class=\"tf_g tf_email\" name=\"email\" validator=\"email_or_phone_or_kakaoid\" type=\"text\" id=\"id_email_2\" )\n",
    "# id가 입력됨\n",
    "e.send_keys(\"abc\") "
   ]
  },
  {
   "cell_type": "code",
   "execution_count": null,
   "id": "50932d22-370c-4291-82c9-5e8057b155e6",
   "metadata": {},
   "outputs": [],
   "source": []
  },
  {
   "cell_type": "code",
   "execution_count": null,
   "id": "71c7c803-8ce1-48ef-bca7-eebf9882121a",
   "metadata": {},
   "outputs": [],
   "source": []
  },
  {
   "cell_type": "code",
   "execution_count": null,
   "id": "3997e589-e977-4f92-8f9f-64be0354cb97",
   "metadata": {},
   "outputs": [],
   "source": []
  },
  {
   "cell_type": "code",
   "execution_count": null,
   "id": "17ceeec8-27ee-4953-ae0b-63c11d31a66b",
   "metadata": {},
   "outputs": [],
   "source": []
  },
  {
   "cell_type": "code",
   "execution_count": null,
   "id": "63d69f3a-00e6-4d40-a3dd-23fd59e35beb",
   "metadata": {},
   "outputs": [],
   "source": [
    "---------------------------------------------------------"
   ]
  },
  {
   "cell_type": "markdown",
   "id": "bc8b3eae-4e7d-4548-b3c9-c9660092a2a9",
   "metadata": {},
   "source": [
    "# 네이버- 로그인"
   ]
  },
  {
   "cell_type": "code",
   "execution_count": 204,
   "id": "9ddf5ed6-a953-4aec-a565-f2ded016f763",
   "metadata": {},
   "outputs": [
    {
     "name": "stderr",
     "output_type": "stream",
     "text": [
      "C:\\Users\\user\\AppData\\Local\\Temp\\ipykernel_4976\\2027279316.py:2: DeprecationWarning: executable_path has been deprecated, please pass in a Service object\n",
      "  driver=webdriver.Chrome(\"C:/Users/chromedriver.exe\")\n"
     ]
    }
   ],
   "source": [
    "# 방법1\n",
    "driver=webdriver.Chrome(\"C:/Users/chromedriver.exe\")\n",
    "driver.get(\"https://www.naver.com/\")\n",
    "\n",
    "# 로그인계정 페이지 열기(url실행됨)\n",
    "url= \"https://nid.naver.com/nidlogin.login?mode=form&url=https%3A%2F%2Fwww.naver.com\"\n",
    "driver.get(url)\n",
    "\n",
    "from selenium.webdriver.common.by import By\n",
    "\n",
    "# id입력\n",
    "e = driver.find_element(By.ID, \"id\")\n",
    "e.clear()  # id창에 입력이 되어있는 것을 깨끗하게 지우고 입력이 될 수 있도록 해줌\n",
    "e.send_keys(\"abcㅇ\") # id가 입력됨\n",
    "\n",
    "# 비밀번호 입력\n",
    "# 비밀번호도 id 로 되어있음 \n",
    "e = driver.find_element(By.ID, \"pw\")\n",
    "e.clear()\n",
    "e.send_keys(\"abcdegfg\")"
   ]
  },
  {
   "cell_type": "code",
   "execution_count": null,
   "id": "d85161be-59ac-467b-8e97-37f173adff4d",
   "metadata": {},
   "outputs": [],
   "source": [
    "# 비밀번호 입력\n",
    "e = driver.find_element(By.ID, \"pw\")\n",
    "e.clear()\n",
    "e.send_keys(\"abcdegfg\")"
   ]
  },
  {
   "cell_type": "code",
   "execution_count": null,
   "id": "3ecf4524-d528-4acd-ac77-a1cc62f5ef76",
   "metadata": {},
   "outputs": [],
   "source": []
  },
  {
   "cell_type": "code",
   "execution_count": null,
   "id": "582603cd-9ab4-4212-a5a8-d25b188b543a",
   "metadata": {},
   "outputs": [],
   "source": []
  },
  {
   "cell_type": "code",
   "execution_count": null,
   "id": "aa2e2409-3cfe-4735-936e-be16011c7010",
   "metadata": {},
   "outputs": [],
   "source": []
  },
  {
   "cell_type": "code",
   "execution_count": null,
   "id": "ed22bc8d-d6ef-4539-8d90-9ef76bdf29c9",
   "metadata": {},
   "outputs": [],
   "source": []
  },
  {
   "cell_type": "code",
   "execution_count": 162,
   "id": "8df4b31d-07cf-42e3-a8dd-e355551493ab",
   "metadata": {},
   "outputs": [],
   "source": [
    "from selenium import webdriver\n",
    "from selenium.webdriver.common.by import By\n",
    "from selenium.webdriver.common.keys import Keys"
   ]
  },
  {
   "cell_type": "code",
   "execution_count": 178,
   "id": "206df0d9-2a16-4563-82d5-43fc0a01ed39",
   "metadata": {
    "tags": []
   },
   "outputs": [],
   "source": [
    "# 네이버 창에 안녕 입력\n",
    "\n",
    "# 브라우저 설정\n",
    "browser = webdriver.Chrome(\"C:/Users/chromedriver.exe\")\n",
    "# url오픈\n",
    "url = \"https://www.naver.com/\"\n",
    "browser.get(url)\n",
    "\n",
    "element = browser.find_element(By.ID, 'query')\n",
    "\n",
    "element.send_keys(\"안녕\")"
   ]
  },
  {
   "cell_type": "code",
   "execution_count": null,
   "id": "b184e5a0-bf3a-4596-a5bb-755c1b6ad9a7",
   "metadata": {},
   "outputs": [],
   "source": []
  },
  {
   "cell_type": "code",
   "execution_count": null,
   "id": "63a072fe-7882-44d2-b3f2-601dbf083a01",
   "metadata": {},
   "outputs": [],
   "source": []
  },
  {
   "cell_type": "code",
   "execution_count": null,
   "id": "20ba80b7-ec2b-4d05-ac93-8bf59961bea8",
   "metadata": {},
   "outputs": [],
   "source": []
  },
  {
   "cell_type": "code",
   "execution_count": null,
   "id": "6d20bc6f-3c41-4a0a-8914-fe5484b9066d",
   "metadata": {},
   "outputs": [],
   "source": []
  },
  {
   "cell_type": "code",
   "execution_count": null,
   "id": "3b5bc25a-bd34-41fe-bfa2-1edd32c129f7",
   "metadata": {},
   "outputs": [],
   "source": []
  },
  {
   "cell_type": "code",
   "execution_count": 182,
   "id": "c82801c9-78a9-4ddc-867a-6564b0f541dd",
   "metadata": {
    "collapsed": true,
    "jupyter": {
     "outputs_hidden": true
    },
    "tags": []
   },
   "outputs": [
    {
     "ename": "NoSuchWindowException",
     "evalue": "Message: no such window: target window already closed\nfrom unknown error: web view not found\n  (Session info: chrome=107.0.5304.63)\nStacktrace:\nBacktrace:\n\tOrdinal0 [0x00E9ACD3+2075859]\n\tOrdinal0 [0x00E2EE61+1633889]\n\tOrdinal0 [0x00D2B7BD+571325]\n\tOrdinal0 [0x00D12E1A+470554]\n\tOrdinal0 [0x00D7AA0B+895499]\n\tOrdinal0 [0x00D8AC96+961686]\n\tOrdinal0 [0x00D77136+880950]\n\tOrdinal0 [0x00D4FEFD+720637]\n\tOrdinal0 [0x00D50F3F+724799]\n\tGetHandleVerifier [0x0114EED2+2769538]\n\tGetHandleVerifier [0x01140D95+2711877]\n\tGetHandleVerifier [0x00F2A03A+521194]\n\tGetHandleVerifier [0x00F28DA0+516432]\n\tOrdinal0 [0x00E3682C+1665068]\n\tOrdinal0 [0x00E3B128+1683752]\n\tOrdinal0 [0x00E3B215+1683989]\n\tOrdinal0 [0x00E46484+1729668]\n\tBaseThreadInitThunk [0x7614FA29+25]\n\tRtlGetAppContainerNamedObjectPath [0x774E7B5E+286]\n\tRtlGetAppContainerNamedObjectPath [0x774E7B2E+238]\n",
     "output_type": "error",
     "traceback": [
      "\u001b[1;31m---------------------------------------------------------------------------\u001b[0m",
      "\u001b[1;31mNoSuchWindowException\u001b[0m                     Traceback (most recent call last)",
      "Input \u001b[1;32mIn [182]\u001b[0m, in \u001b[0;36m<cell line: 1>\u001b[1;34m()\u001b[0m\n\u001b[1;32m----> 1\u001b[0m \u001b[43me\u001b[49m\u001b[38;5;241;43m.\u001b[39;49m\u001b[43msend_keys\u001b[49m\u001b[43m(\u001b[49m\u001b[43mKeys\u001b[49m\u001b[38;5;241;43m.\u001b[39;49m\u001b[43mENTER\u001b[49m\u001b[43m)\u001b[49m\n",
      "File \u001b[1;32m~\\anaconda3\\lib\\site-packages\\selenium\\webdriver\\remote\\webelement.py:223\u001b[0m, in \u001b[0;36mWebElement.send_keys\u001b[1;34m(self, *value)\u001b[0m\n\u001b[0;32m    220\u001b[0m             remote_files\u001b[38;5;241m.\u001b[39mappend(\u001b[38;5;28mself\u001b[39m\u001b[38;5;241m.\u001b[39m_upload(file))\n\u001b[0;32m    221\u001b[0m         value \u001b[38;5;241m=\u001b[39m \u001b[38;5;124m'\u001b[39m\u001b[38;5;130;01m\\n\u001b[39;00m\u001b[38;5;124m'\u001b[39m\u001b[38;5;241m.\u001b[39mjoin(remote_files)\n\u001b[1;32m--> 223\u001b[0m \u001b[38;5;28;43mself\u001b[39;49m\u001b[38;5;241;43m.\u001b[39;49m\u001b[43m_execute\u001b[49m\u001b[43m(\u001b[49m\u001b[43mCommand\u001b[49m\u001b[38;5;241;43m.\u001b[39;49m\u001b[43mSEND_KEYS_TO_ELEMENT\u001b[49m\u001b[43m,\u001b[49m\n\u001b[0;32m    224\u001b[0m \u001b[43m              \u001b[49m\u001b[43m{\u001b[49m\u001b[38;5;124;43m'\u001b[39;49m\u001b[38;5;124;43mtext\u001b[39;49m\u001b[38;5;124;43m'\u001b[39;49m\u001b[43m:\u001b[49m\u001b[43m \u001b[49m\u001b[38;5;124;43m\"\u001b[39;49m\u001b[38;5;124;43m\"\u001b[39;49m\u001b[38;5;241;43m.\u001b[39;49m\u001b[43mjoin\u001b[49m\u001b[43m(\u001b[49m\u001b[43mkeys_to_typing\u001b[49m\u001b[43m(\u001b[49m\u001b[43mvalue\u001b[49m\u001b[43m)\u001b[49m\u001b[43m)\u001b[49m\u001b[43m,\u001b[49m\n\u001b[0;32m    225\u001b[0m \u001b[43m               \u001b[49m\u001b[38;5;124;43m'\u001b[39;49m\u001b[38;5;124;43mvalue\u001b[39;49m\u001b[38;5;124;43m'\u001b[39;49m\u001b[43m:\u001b[49m\u001b[43m \u001b[49m\u001b[43mkeys_to_typing\u001b[49m\u001b[43m(\u001b[49m\u001b[43mvalue\u001b[49m\u001b[43m)\u001b[49m\u001b[43m}\u001b[49m\u001b[43m)\u001b[49m\n",
      "File \u001b[1;32m~\\anaconda3\\lib\\site-packages\\selenium\\webdriver\\remote\\webelement.py:396\u001b[0m, in \u001b[0;36mWebElement._execute\u001b[1;34m(self, command, params)\u001b[0m\n\u001b[0;32m    394\u001b[0m     params \u001b[38;5;241m=\u001b[39m {}\n\u001b[0;32m    395\u001b[0m params[\u001b[38;5;124m'\u001b[39m\u001b[38;5;124mid\u001b[39m\u001b[38;5;124m'\u001b[39m] \u001b[38;5;241m=\u001b[39m \u001b[38;5;28mself\u001b[39m\u001b[38;5;241m.\u001b[39m_id\n\u001b[1;32m--> 396\u001b[0m \u001b[38;5;28;01mreturn\u001b[39;00m \u001b[38;5;28;43mself\u001b[39;49m\u001b[38;5;241;43m.\u001b[39;49m\u001b[43m_parent\u001b[49m\u001b[38;5;241;43m.\u001b[39;49m\u001b[43mexecute\u001b[49m\u001b[43m(\u001b[49m\u001b[43mcommand\u001b[49m\u001b[43m,\u001b[49m\u001b[43m \u001b[49m\u001b[43mparams\u001b[49m\u001b[43m)\u001b[49m\n",
      "File \u001b[1;32m~\\anaconda3\\lib\\site-packages\\selenium\\webdriver\\remote\\webdriver.py:429\u001b[0m, in \u001b[0;36mWebDriver.execute\u001b[1;34m(self, driver_command, params)\u001b[0m\n\u001b[0;32m    427\u001b[0m response \u001b[38;5;241m=\u001b[39m \u001b[38;5;28mself\u001b[39m\u001b[38;5;241m.\u001b[39mcommand_executor\u001b[38;5;241m.\u001b[39mexecute(driver_command, params)\n\u001b[0;32m    428\u001b[0m \u001b[38;5;28;01mif\u001b[39;00m response:\n\u001b[1;32m--> 429\u001b[0m     \u001b[38;5;28;43mself\u001b[39;49m\u001b[38;5;241;43m.\u001b[39;49m\u001b[43merror_handler\u001b[49m\u001b[38;5;241;43m.\u001b[39;49m\u001b[43mcheck_response\u001b[49m\u001b[43m(\u001b[49m\u001b[43mresponse\u001b[49m\u001b[43m)\u001b[49m\n\u001b[0;32m    430\u001b[0m     response[\u001b[38;5;124m'\u001b[39m\u001b[38;5;124mvalue\u001b[39m\u001b[38;5;124m'\u001b[39m] \u001b[38;5;241m=\u001b[39m \u001b[38;5;28mself\u001b[39m\u001b[38;5;241m.\u001b[39m_unwrap_value(\n\u001b[0;32m    431\u001b[0m         response\u001b[38;5;241m.\u001b[39mget(\u001b[38;5;124m'\u001b[39m\u001b[38;5;124mvalue\u001b[39m\u001b[38;5;124m'\u001b[39m, \u001b[38;5;28;01mNone\u001b[39;00m))\n\u001b[0;32m    432\u001b[0m     \u001b[38;5;28;01mreturn\u001b[39;00m response\n",
      "File \u001b[1;32m~\\anaconda3\\lib\\site-packages\\selenium\\webdriver\\remote\\errorhandler.py:243\u001b[0m, in \u001b[0;36mErrorHandler.check_response\u001b[1;34m(self, response)\u001b[0m\n\u001b[0;32m    241\u001b[0m         alert_text \u001b[38;5;241m=\u001b[39m value[\u001b[38;5;124m'\u001b[39m\u001b[38;5;124malert\u001b[39m\u001b[38;5;124m'\u001b[39m]\u001b[38;5;241m.\u001b[39mget(\u001b[38;5;124m'\u001b[39m\u001b[38;5;124mtext\u001b[39m\u001b[38;5;124m'\u001b[39m)\n\u001b[0;32m    242\u001b[0m     \u001b[38;5;28;01mraise\u001b[39;00m exception_class(message, screen, stacktrace, alert_text)  \u001b[38;5;66;03m# type: ignore[call-arg]  # mypy is not smart enough here\u001b[39;00m\n\u001b[1;32m--> 243\u001b[0m \u001b[38;5;28;01mraise\u001b[39;00m exception_class(message, screen, stacktrace)\n",
      "\u001b[1;31mNoSuchWindowException\u001b[0m: Message: no such window: target window already closed\nfrom unknown error: web view not found\n  (Session info: chrome=107.0.5304.63)\nStacktrace:\nBacktrace:\n\tOrdinal0 [0x00E9ACD3+2075859]\n\tOrdinal0 [0x00E2EE61+1633889]\n\tOrdinal0 [0x00D2B7BD+571325]\n\tOrdinal0 [0x00D12E1A+470554]\n\tOrdinal0 [0x00D7AA0B+895499]\n\tOrdinal0 [0x00D8AC96+961686]\n\tOrdinal0 [0x00D77136+880950]\n\tOrdinal0 [0x00D4FEFD+720637]\n\tOrdinal0 [0x00D50F3F+724799]\n\tGetHandleVerifier [0x0114EED2+2769538]\n\tGetHandleVerifier [0x01140D95+2711877]\n\tGetHandleVerifier [0x00F2A03A+521194]\n\tGetHandleVerifier [0x00F28DA0+516432]\n\tOrdinal0 [0x00E3682C+1665068]\n\tOrdinal0 [0x00E3B128+1683752]\n\tOrdinal0 [0x00E3B215+1683989]\n\tOrdinal0 [0x00E46484+1729668]\n\tBaseThreadInitThunk [0x7614FA29+25]\n\tRtlGetAppContainerNamedObjectPath [0x774E7B5E+286]\n\tRtlGetAppContainerNamedObjectPath [0x774E7B2E+238]\n"
     ]
    }
   ],
   "source": [
    "e.send_keys(Keys.ENTER)"
   ]
  },
  {
   "cell_type": "code",
   "execution_count": null,
   "id": "b8a1501d-78ad-4393-aa57-9a696d333f8c",
   "metadata": {},
   "outputs": [],
   "source": [
    "# url오픈\n",
    "url = \"https://nid.naver.com/nidlogin.login?mode=form&url=https%3A%2F%2Fwww.naver.com\"\n",
    "browser = webdriver.Chrome(\"C:/Users/chromedriver.exe\")\n",
    "browser.get(url)\n",
    "\n",
    "driver=webdriver.Chrome(\"C:/Users/chromedriver.exe\")\n",
    "driver.get(\"https://www.sivillage.com/main/initMain.siv?wise_area1=G&wise_area2=G_top&wise_area3=G_logo\")"
   ]
  },
  {
   "cell_type": "code",
   "execution_count": 203,
   "id": "69c2f41b-c8d0-442d-b59e-5c93c6fd0783",
   "metadata": {
    "collapsed": true,
    "jupyter": {
     "outputs_hidden": true
    },
    "tags": []
   },
   "outputs": [
    {
     "name": "stderr",
     "output_type": "stream",
     "text": [
      "C:\\Users\\user\\AppData\\Local\\Temp\\ipykernel_4976\\3458681082.py:3: DeprecationWarning: executable_path has been deprecated, please pass in a Service object\n",
      "  browser = webdriver.Chrome(\"C:/Users/chromedriver.exe\")\n"
     ]
    },
    {
     "ename": "NoSuchWindowException",
     "evalue": "Message: no such window: target window already closed\nfrom unknown error: web view not found\n  (Session info: chrome=107.0.5304.63)\nStacktrace:\nBacktrace:\n\tOrdinal0 [0x00E9ACD3+2075859]\n\tOrdinal0 [0x00E2EE61+1633889]\n\tOrdinal0 [0x00D2B7BD+571325]\n\tOrdinal0 [0x00D12E1A+470554]\n\tOrdinal0 [0x00D7AA0B+895499]\n\tOrdinal0 [0x00D8AC96+961686]\n\tOrdinal0 [0x00D77136+880950]\n\tOrdinal0 [0x00D4FEFD+720637]\n\tOrdinal0 [0x00D50F3F+724799]\n\tGetHandleVerifier [0x0114EED2+2769538]\n\tGetHandleVerifier [0x01140D95+2711877]\n\tGetHandleVerifier [0x00F2A03A+521194]\n\tGetHandleVerifier [0x00F28DA0+516432]\n\tOrdinal0 [0x00E3682C+1665068]\n\tOrdinal0 [0x00E3B128+1683752]\n\tOrdinal0 [0x00E3B215+1683989]\n\tOrdinal0 [0x00E46484+1729668]\n\tBaseThreadInitThunk [0x7614FA29+25]\n\tRtlGetAppContainerNamedObjectPath [0x774E7B5E+286]\n\tRtlGetAppContainerNamedObjectPath [0x774E7B2E+238]\n",
     "output_type": "error",
     "traceback": [
      "\u001b[1;31m---------------------------------------------------------------------------\u001b[0m",
      "\u001b[1;31mNoSuchWindowException\u001b[0m                     Traceback (most recent call last)",
      "Input \u001b[1;32mIn [203]\u001b[0m, in \u001b[0;36m<cell line: 8>\u001b[1;34m()\u001b[0m\n\u001b[0;32m      4\u001b[0m browser\u001b[38;5;241m.\u001b[39mget(url)\n\u001b[0;32m      7\u001b[0m \u001b[38;5;66;03m# 아이디 입력\u001b[39;00m\n\u001b[1;32m----> 8\u001b[0m e \u001b[38;5;241m=\u001b[39m \u001b[43mdriver\u001b[49m\u001b[38;5;241;43m.\u001b[39;49m\u001b[43mfind_elements\u001b[49m\u001b[43m(\u001b[49m\u001b[43mBy\u001b[49m\u001b[38;5;241;43m.\u001b[39;49m\u001b[43mID\u001b[49m\u001b[43m,\u001b[49m\u001b[43m \u001b[49m\u001b[38;5;124;43m\"\u001b[39;49m\u001b[38;5;124;43mid\u001b[39;49m\u001b[38;5;124;43m\"\u001b[39;49m\u001b[43m)\u001b[49m\n\u001b[0;32m      9\u001b[0m e\u001b[38;5;241m.\u001b[39mclear()\n\u001b[0;32m     10\u001b[0m e\u001b[38;5;241m.\u001b[39msend_keys(\u001b[38;5;124m\"\u001b[39m\u001b[38;5;124mid\u001b[39m\u001b[38;5;124m\"\u001b[39m) \n",
      "File \u001b[1;32m~\\anaconda3\\lib\\site-packages\\selenium\\webdriver\\remote\\webdriver.py:889\u001b[0m, in \u001b[0;36mWebDriver.find_elements\u001b[1;34m(self, by, value)\u001b[0m\n\u001b[0;32m    885\u001b[0m     value \u001b[38;5;241m=\u001b[39m \u001b[38;5;124m'\u001b[39m\u001b[38;5;124m[name=\u001b[39m\u001b[38;5;124m\"\u001b[39m\u001b[38;5;132;01m%s\u001b[39;00m\u001b[38;5;124m\"\u001b[39m\u001b[38;5;124m]\u001b[39m\u001b[38;5;124m'\u001b[39m \u001b[38;5;241m%\u001b[39m value\n\u001b[0;32m    887\u001b[0m \u001b[38;5;66;03m# Return empty list if driver returns null\u001b[39;00m\n\u001b[0;32m    888\u001b[0m \u001b[38;5;66;03m# See https://github.com/SeleniumHQ/selenium/issues/4555\u001b[39;00m\n\u001b[1;32m--> 889\u001b[0m \u001b[38;5;28;01mreturn\u001b[39;00m \u001b[38;5;28;43mself\u001b[39;49m\u001b[38;5;241;43m.\u001b[39;49m\u001b[43mexecute\u001b[49m\u001b[43m(\u001b[49m\u001b[43mCommand\u001b[49m\u001b[38;5;241;43m.\u001b[39;49m\u001b[43mFIND_ELEMENTS\u001b[49m\u001b[43m,\u001b[49m\u001b[43m \u001b[49m\u001b[43m{\u001b[49m\n\u001b[0;32m    890\u001b[0m \u001b[43m    \u001b[49m\u001b[38;5;124;43m'\u001b[39;49m\u001b[38;5;124;43musing\u001b[39;49m\u001b[38;5;124;43m'\u001b[39;49m\u001b[43m:\u001b[49m\u001b[43m \u001b[49m\u001b[43mby\u001b[49m\u001b[43m,\u001b[49m\n\u001b[0;32m    891\u001b[0m \u001b[43m    \u001b[49m\u001b[38;5;124;43m'\u001b[39;49m\u001b[38;5;124;43mvalue\u001b[39;49m\u001b[38;5;124;43m'\u001b[39;49m\u001b[43m:\u001b[49m\u001b[43m \u001b[49m\u001b[43mvalue\u001b[49m\u001b[43m}\u001b[49m\u001b[43m)\u001b[49m[\u001b[38;5;124m'\u001b[39m\u001b[38;5;124mvalue\u001b[39m\u001b[38;5;124m'\u001b[39m] \u001b[38;5;129;01mor\u001b[39;00m []\n",
      "File \u001b[1;32m~\\anaconda3\\lib\\site-packages\\selenium\\webdriver\\remote\\webdriver.py:429\u001b[0m, in \u001b[0;36mWebDriver.execute\u001b[1;34m(self, driver_command, params)\u001b[0m\n\u001b[0;32m    427\u001b[0m response \u001b[38;5;241m=\u001b[39m \u001b[38;5;28mself\u001b[39m\u001b[38;5;241m.\u001b[39mcommand_executor\u001b[38;5;241m.\u001b[39mexecute(driver_command, params)\n\u001b[0;32m    428\u001b[0m \u001b[38;5;28;01mif\u001b[39;00m response:\n\u001b[1;32m--> 429\u001b[0m     \u001b[38;5;28;43mself\u001b[39;49m\u001b[38;5;241;43m.\u001b[39;49m\u001b[43merror_handler\u001b[49m\u001b[38;5;241;43m.\u001b[39;49m\u001b[43mcheck_response\u001b[49m\u001b[43m(\u001b[49m\u001b[43mresponse\u001b[49m\u001b[43m)\u001b[49m\n\u001b[0;32m    430\u001b[0m     response[\u001b[38;5;124m'\u001b[39m\u001b[38;5;124mvalue\u001b[39m\u001b[38;5;124m'\u001b[39m] \u001b[38;5;241m=\u001b[39m \u001b[38;5;28mself\u001b[39m\u001b[38;5;241m.\u001b[39m_unwrap_value(\n\u001b[0;32m    431\u001b[0m         response\u001b[38;5;241m.\u001b[39mget(\u001b[38;5;124m'\u001b[39m\u001b[38;5;124mvalue\u001b[39m\u001b[38;5;124m'\u001b[39m, \u001b[38;5;28;01mNone\u001b[39;00m))\n\u001b[0;32m    432\u001b[0m     \u001b[38;5;28;01mreturn\u001b[39;00m response\n",
      "File \u001b[1;32m~\\anaconda3\\lib\\site-packages\\selenium\\webdriver\\remote\\errorhandler.py:243\u001b[0m, in \u001b[0;36mErrorHandler.check_response\u001b[1;34m(self, response)\u001b[0m\n\u001b[0;32m    241\u001b[0m         alert_text \u001b[38;5;241m=\u001b[39m value[\u001b[38;5;124m'\u001b[39m\u001b[38;5;124malert\u001b[39m\u001b[38;5;124m'\u001b[39m]\u001b[38;5;241m.\u001b[39mget(\u001b[38;5;124m'\u001b[39m\u001b[38;5;124mtext\u001b[39m\u001b[38;5;124m'\u001b[39m)\n\u001b[0;32m    242\u001b[0m     \u001b[38;5;28;01mraise\u001b[39;00m exception_class(message, screen, stacktrace, alert_text)  \u001b[38;5;66;03m# type: ignore[call-arg]  # mypy is not smart enough here\u001b[39;00m\n\u001b[1;32m--> 243\u001b[0m \u001b[38;5;28;01mraise\u001b[39;00m exception_class(message, screen, stacktrace)\n",
      "\u001b[1;31mNoSuchWindowException\u001b[0m: Message: no such window: target window already closed\nfrom unknown error: web view not found\n  (Session info: chrome=107.0.5304.63)\nStacktrace:\nBacktrace:\n\tOrdinal0 [0x00E9ACD3+2075859]\n\tOrdinal0 [0x00E2EE61+1633889]\n\tOrdinal0 [0x00D2B7BD+571325]\n\tOrdinal0 [0x00D12E1A+470554]\n\tOrdinal0 [0x00D7AA0B+895499]\n\tOrdinal0 [0x00D8AC96+961686]\n\tOrdinal0 [0x00D77136+880950]\n\tOrdinal0 [0x00D4FEFD+720637]\n\tOrdinal0 [0x00D50F3F+724799]\n\tGetHandleVerifier [0x0114EED2+2769538]\n\tGetHandleVerifier [0x01140D95+2711877]\n\tGetHandleVerifier [0x00F2A03A+521194]\n\tGetHandleVerifier [0x00F28DA0+516432]\n\tOrdinal0 [0x00E3682C+1665068]\n\tOrdinal0 [0x00E3B128+1683752]\n\tOrdinal0 [0x00E3B215+1683989]\n\tOrdinal0 [0x00E46484+1729668]\n\tBaseThreadInitThunk [0x7614FA29+25]\n\tRtlGetAppContainerNamedObjectPath [0x774E7B5E+286]\n\tRtlGetAppContainerNamedObjectPath [0x774E7B2E+238]\n"
     ]
    }
   ],
   "source": [
    "# url오픈\n",
    "url = \"https://nid.naver.com/nidlogin.login?mode=form&url=https%3A%2F%2Fwww.naver.com\"\n",
    "browser = webdriver.Chrome(\"C:/Users/chromedriver.exe\")\n",
    "browser.get(url)\n",
    "\n",
    "\n",
    "# 아이디 입력\n",
    "e = driver.find_elements(By.ID, \"id\")\n",
    "e.clear()\n",
    "e.send_keys(\"id\") \n",
    "\n",
    "#비밀번호 입력\n",
    "e = driver.find_elements(By.ID, \"pw\")\n",
    "e.clear()\n",
    "e.send_keys('pw') "
   ]
  },
  {
   "cell_type": "code",
   "execution_count": 196,
   "id": "c838f799-4e4a-4d0f-a4c0-72372c50c1b2",
   "metadata": {},
   "outputs": [
    {
     "data": {
      "text/plain": [
       "list"
      ]
     },
     "execution_count": 196,
     "metadata": {},
     "output_type": "execute_result"
    }
   ],
   "source": [
    "type(e)"
   ]
  },
  {
   "cell_type": "code",
   "execution_count": 197,
   "id": "f1dd0201-d7f8-457f-a015-cbfff0510b41",
   "metadata": {},
   "outputs": [
    {
     "data": {
      "text/plain": [
       "[]"
      ]
     },
     "execution_count": 197,
     "metadata": {},
     "output_type": "execute_result"
    }
   ],
   "source": [
    "e"
   ]
  },
  {
   "cell_type": "code",
   "execution_count": null,
   "id": "597e657a-3c5b-40b8-8cdc-532f8c31e4c4",
   "metadata": {},
   "outputs": [],
   "source": []
  },
  {
   "cell_type": "code",
   "execution_count": 199,
   "id": "3c7d76b3-6415-4884-98c6-042795a06897",
   "metadata": {
    "collapsed": true,
    "jupyter": {
     "outputs_hidden": true
    },
    "tags": []
   },
   "outputs": [
    {
     "ename": "NoSuchWindowException",
     "evalue": "Message: no such window: target window already closed\nfrom unknown error: web view not found\n  (Session info: chrome=107.0.5304.63)\nStacktrace:\nBacktrace:\n\tOrdinal0 [0x00E9ACD3+2075859]\n\tOrdinal0 [0x00E2EE61+1633889]\n\tOrdinal0 [0x00D2B7BD+571325]\n\tOrdinal0 [0x00D12E1A+470554]\n\tOrdinal0 [0x00D7AA0B+895499]\n\tOrdinal0 [0x00D8AC96+961686]\n\tOrdinal0 [0x00D77136+880950]\n\tOrdinal0 [0x00D4FEFD+720637]\n\tOrdinal0 [0x00D50F3F+724799]\n\tGetHandleVerifier [0x0114EED2+2769538]\n\tGetHandleVerifier [0x01140D95+2711877]\n\tGetHandleVerifier [0x00F2A03A+521194]\n\tGetHandleVerifier [0x00F28DA0+516432]\n\tOrdinal0 [0x00E3682C+1665068]\n\tOrdinal0 [0x00E3B128+1683752]\n\tOrdinal0 [0x00E3B215+1683989]\n\tOrdinal0 [0x00E46484+1729668]\n\tBaseThreadInitThunk [0x7614FA29+25]\n\tRtlGetAppContainerNamedObjectPath [0x774E7B5E+286]\n\tRtlGetAppContainerNamedObjectPath [0x774E7B2E+238]\n",
     "output_type": "error",
     "traceback": [
      "\u001b[1;31m---------------------------------------------------------------------------\u001b[0m",
      "\u001b[1;31mNoSuchWindowException\u001b[0m                     Traceback (most recent call last)",
      "Input \u001b[1;32mIn [199]\u001b[0m, in \u001b[0;36m<cell line: 2>\u001b[1;34m()\u001b[0m\n\u001b[0;32m      1\u001b[0m \u001b[38;5;66;03m# 새로운 e만들어내기\u001b[39;00m\n\u001b[1;32m----> 2\u001b[0m e\u001b[38;5;241m=\u001b[39m \u001b[43mdriver\u001b[49m\u001b[38;5;241;43m.\u001b[39;49m\u001b[43mfind_elements\u001b[49m\u001b[43m(\u001b[49m\u001b[43mBy\u001b[49m\u001b[38;5;241;43m.\u001b[39;49m\u001b[43mCLASS_NAME\u001b[49m\u001b[43m,\u001b[49m\u001b[43m \u001b[49m\u001b[38;5;124;43m\"\u001b[39;49m\u001b[38;5;124;43minput_text\u001b[39;49m\u001b[38;5;124;43m\"\u001b[39;49m\u001b[43m)\u001b[49m\n\u001b[0;32m      3\u001b[0m e[\u001b[38;5;241m0\u001b[39m]\u001b[38;5;241m.\u001b[39mclear()\n\u001b[0;32m      4\u001b[0m e[\u001b[38;5;241m0\u001b[39m]\u001b[38;5;241m.\u001b[39msend_keys(\u001b[38;5;124m\"\u001b[39m\u001b[38;5;124m\"\u001b[39m)\n",
      "File \u001b[1;32m~\\anaconda3\\lib\\site-packages\\selenium\\webdriver\\remote\\webdriver.py:889\u001b[0m, in \u001b[0;36mWebDriver.find_elements\u001b[1;34m(self, by, value)\u001b[0m\n\u001b[0;32m    885\u001b[0m     value \u001b[38;5;241m=\u001b[39m \u001b[38;5;124m'\u001b[39m\u001b[38;5;124m[name=\u001b[39m\u001b[38;5;124m\"\u001b[39m\u001b[38;5;132;01m%s\u001b[39;00m\u001b[38;5;124m\"\u001b[39m\u001b[38;5;124m]\u001b[39m\u001b[38;5;124m'\u001b[39m \u001b[38;5;241m%\u001b[39m value\n\u001b[0;32m    887\u001b[0m \u001b[38;5;66;03m# Return empty list if driver returns null\u001b[39;00m\n\u001b[0;32m    888\u001b[0m \u001b[38;5;66;03m# See https://github.com/SeleniumHQ/selenium/issues/4555\u001b[39;00m\n\u001b[1;32m--> 889\u001b[0m \u001b[38;5;28;01mreturn\u001b[39;00m \u001b[38;5;28;43mself\u001b[39;49m\u001b[38;5;241;43m.\u001b[39;49m\u001b[43mexecute\u001b[49m\u001b[43m(\u001b[49m\u001b[43mCommand\u001b[49m\u001b[38;5;241;43m.\u001b[39;49m\u001b[43mFIND_ELEMENTS\u001b[49m\u001b[43m,\u001b[49m\u001b[43m \u001b[49m\u001b[43m{\u001b[49m\n\u001b[0;32m    890\u001b[0m \u001b[43m    \u001b[49m\u001b[38;5;124;43m'\u001b[39;49m\u001b[38;5;124;43musing\u001b[39;49m\u001b[38;5;124;43m'\u001b[39;49m\u001b[43m:\u001b[49m\u001b[43m \u001b[49m\u001b[43mby\u001b[49m\u001b[43m,\u001b[49m\n\u001b[0;32m    891\u001b[0m \u001b[43m    \u001b[49m\u001b[38;5;124;43m'\u001b[39;49m\u001b[38;5;124;43mvalue\u001b[39;49m\u001b[38;5;124;43m'\u001b[39;49m\u001b[43m:\u001b[49m\u001b[43m \u001b[49m\u001b[43mvalue\u001b[49m\u001b[43m}\u001b[49m\u001b[43m)\u001b[49m[\u001b[38;5;124m'\u001b[39m\u001b[38;5;124mvalue\u001b[39m\u001b[38;5;124m'\u001b[39m] \u001b[38;5;129;01mor\u001b[39;00m []\n",
      "File \u001b[1;32m~\\anaconda3\\lib\\site-packages\\selenium\\webdriver\\remote\\webdriver.py:429\u001b[0m, in \u001b[0;36mWebDriver.execute\u001b[1;34m(self, driver_command, params)\u001b[0m\n\u001b[0;32m    427\u001b[0m response \u001b[38;5;241m=\u001b[39m \u001b[38;5;28mself\u001b[39m\u001b[38;5;241m.\u001b[39mcommand_executor\u001b[38;5;241m.\u001b[39mexecute(driver_command, params)\n\u001b[0;32m    428\u001b[0m \u001b[38;5;28;01mif\u001b[39;00m response:\n\u001b[1;32m--> 429\u001b[0m     \u001b[38;5;28;43mself\u001b[39;49m\u001b[38;5;241;43m.\u001b[39;49m\u001b[43merror_handler\u001b[49m\u001b[38;5;241;43m.\u001b[39;49m\u001b[43mcheck_response\u001b[49m\u001b[43m(\u001b[49m\u001b[43mresponse\u001b[49m\u001b[43m)\u001b[49m\n\u001b[0;32m    430\u001b[0m     response[\u001b[38;5;124m'\u001b[39m\u001b[38;5;124mvalue\u001b[39m\u001b[38;5;124m'\u001b[39m] \u001b[38;5;241m=\u001b[39m \u001b[38;5;28mself\u001b[39m\u001b[38;5;241m.\u001b[39m_unwrap_value(\n\u001b[0;32m    431\u001b[0m         response\u001b[38;5;241m.\u001b[39mget(\u001b[38;5;124m'\u001b[39m\u001b[38;5;124mvalue\u001b[39m\u001b[38;5;124m'\u001b[39m, \u001b[38;5;28;01mNone\u001b[39;00m))\n\u001b[0;32m    432\u001b[0m     \u001b[38;5;28;01mreturn\u001b[39;00m response\n",
      "File \u001b[1;32m~\\anaconda3\\lib\\site-packages\\selenium\\webdriver\\remote\\errorhandler.py:243\u001b[0m, in \u001b[0;36mErrorHandler.check_response\u001b[1;34m(self, response)\u001b[0m\n\u001b[0;32m    241\u001b[0m         alert_text \u001b[38;5;241m=\u001b[39m value[\u001b[38;5;124m'\u001b[39m\u001b[38;5;124malert\u001b[39m\u001b[38;5;124m'\u001b[39m]\u001b[38;5;241m.\u001b[39mget(\u001b[38;5;124m'\u001b[39m\u001b[38;5;124mtext\u001b[39m\u001b[38;5;124m'\u001b[39m)\n\u001b[0;32m    242\u001b[0m     \u001b[38;5;28;01mraise\u001b[39;00m exception_class(message, screen, stacktrace, alert_text)  \u001b[38;5;66;03m# type: ignore[call-arg]  # mypy is not smart enough here\u001b[39;00m\n\u001b[1;32m--> 243\u001b[0m \u001b[38;5;28;01mraise\u001b[39;00m exception_class(message, screen, stacktrace)\n",
      "\u001b[1;31mNoSuchWindowException\u001b[0m: Message: no such window: target window already closed\nfrom unknown error: web view not found\n  (Session info: chrome=107.0.5304.63)\nStacktrace:\nBacktrace:\n\tOrdinal0 [0x00E9ACD3+2075859]\n\tOrdinal0 [0x00E2EE61+1633889]\n\tOrdinal0 [0x00D2B7BD+571325]\n\tOrdinal0 [0x00D12E1A+470554]\n\tOrdinal0 [0x00D7AA0B+895499]\n\tOrdinal0 [0x00D8AC96+961686]\n\tOrdinal0 [0x00D77136+880950]\n\tOrdinal0 [0x00D4FEFD+720637]\n\tOrdinal0 [0x00D50F3F+724799]\n\tGetHandleVerifier [0x0114EED2+2769538]\n\tGetHandleVerifier [0x01140D95+2711877]\n\tGetHandleVerifier [0x00F2A03A+521194]\n\tGetHandleVerifier [0x00F28DA0+516432]\n\tOrdinal0 [0x00E3682C+1665068]\n\tOrdinal0 [0x00E3B128+1683752]\n\tOrdinal0 [0x00E3B215+1683989]\n\tOrdinal0 [0x00E46484+1729668]\n\tBaseThreadInitThunk [0x7614FA29+25]\n\tRtlGetAppContainerNamedObjectPath [0x774E7B5E+286]\n\tRtlGetAppContainerNamedObjectPath [0x774E7B2E+238]\n"
     ]
    }
   ],
   "source": [
    "# 새로운 e만들어내기\n",
    "e= driver.find_elements(By.CLASS_NAME, \"input_text\")\n",
    "e[0].clear()\n",
    "e[0].send_keys(\"\")\n",
    "\n",
    "e[1].clear()\n",
    "e[1].send_keys(\"aBB\")\n",
    "\n",
    "e= driver.find_element(By.CLASS_NAME, \"input_text\")\n",
    "e.send_keys(keys.ENTER)"
   ]
  },
  {
   "cell_type": "code",
   "execution_count": null,
   "id": "b7c03299-ac2d-47a8-8f5b-fbb137997094",
   "metadata": {},
   "outputs": [],
   "source": []
  },
  {
   "cell_type": "code",
   "execution_count": null,
   "id": "a7b6603e-b851-4f7d-a7d3-6fcbb63db942",
   "metadata": {},
   "outputs": [],
   "source": []
  },
  {
   "cell_type": "code",
   "execution_count": 116,
   "id": "f6a31fe7-677c-4700-894e-3e043c18162f",
   "metadata": {},
   "outputs": [],
   "source": [
    "name = driver.find_elements(By.CLASS_NAME, \"input_text\")\n",
    "name[0].send_keys(\"abc\")\n",
    "name[1].send_keys('123') "
   ]
  },
  {
   "cell_type": "code",
   "execution_count": 239,
   "id": "90359e15-f0a0-4972-b514-66859b1cbad5",
   "metadata": {},
   "outputs": [
    {
     "name": "stderr",
     "output_type": "stream",
     "text": [
      "C:\\Users\\user\\AppData\\Local\\Temp\\ipykernel_4976\\1022358793.py:2: DeprecationWarning: executable_path has been deprecated, please pass in a Service object\n",
      "  browser = webdriver.Chrome(\"C:/Users/chromedriver.exe\")\n"
     ]
    }
   ],
   "source": [
    "url = \"https://www.naver.com/\"\n",
    "browser = webdriver.Chrome(\"C:/Users/chromedriver.exe\")\n",
    "browser.get(url)"
   ]
  },
  {
   "cell_type": "code",
   "execution_count": 240,
   "id": "2c4e8bd8-e993-4f74-ad9c-0e3706f212f3",
   "metadata": {},
   "outputs": [
    {
     "ename": "AttributeError",
     "evalue": "'list' object has no attribute 'send_keys'",
     "output_type": "error",
     "traceback": [
      "\u001b[1;31m---------------------------------------------------------------------------\u001b[0m",
      "\u001b[1;31mAttributeError\u001b[0m                            Traceback (most recent call last)",
      "Input \u001b[1;32mIn [240]\u001b[0m, in \u001b[0;36m<cell line: 3>\u001b[1;34m()\u001b[0m\n\u001b[0;32m      1\u001b[0m e \u001b[38;5;241m=\u001b[39m driver\u001b[38;5;241m.\u001b[39mfind_elements(By\u001b[38;5;241m.\u001b[39mID, \u001b[38;5;124m\"\u001b[39m\u001b[38;5;124mquery\u001b[39m\u001b[38;5;124m\"\u001b[39m)\n\u001b[0;32m      2\u001b[0m e\u001b[38;5;241m.\u001b[39mclear()\n\u001b[1;32m----> 3\u001b[0m \u001b[43me\u001b[49m\u001b[38;5;241;43m.\u001b[39;49m\u001b[43msend_keys\u001b[49m(\u001b[38;5;124m'\u001b[39m\u001b[38;5;124m우크라이나\u001b[39m\u001b[38;5;124m'\u001b[39m) \n\u001b[0;32m      4\u001b[0m e\u001b[38;5;241m.\u001b[39msend_keys(Keys\u001b[38;5;241m.\u001b[39mENTER)\n",
      "\u001b[1;31mAttributeError\u001b[0m: 'list' object has no attribute 'send_keys'"
     ]
    }
   ],
   "source": [
    "e = driver.find_elements(By.ID, \"query\")\n",
    "e.clear()\n",
    "e.send_keys('우크라이나') \n",
    "e.send_keys(Keys.ENTER)"
   ]
  },
  {
   "cell_type": "code",
   "execution_count": 237,
   "id": "7ea981fd-0282-4b1b-8785-f22bdf15f079",
   "metadata": {},
   "outputs": [
    {
     "ename": "IndexError",
     "evalue": "list index out of range",
     "output_type": "error",
     "traceback": [
      "\u001b[1;31m---------------------------------------------------------------------------\u001b[0m",
      "\u001b[1;31mIndexError\u001b[0m                                Traceback (most recent call last)",
      "Input \u001b[1;32mIn [237]\u001b[0m, in \u001b[0;36m<cell line: 2>\u001b[1;34m()\u001b[0m\n\u001b[0;32m      1\u001b[0m name \u001b[38;5;241m=\u001b[39m driver\u001b[38;5;241m.\u001b[39mfind_elements(By\u001b[38;5;241m.\u001b[39mCLASS_NAME, \u001b[38;5;124m\"\u001b[39m\u001b[38;5;124minput_text\u001b[39m\u001b[38;5;124m\"\u001b[39m)\n\u001b[1;32m----> 2\u001b[0m \u001b[43mname\u001b[49m\u001b[43m[\u001b[49m\u001b[38;5;241;43m0\u001b[39;49m\u001b[43m]\u001b[49m\u001b[38;5;241m.\u001b[39msend_keys(\u001b[38;5;124m\"\u001b[39m\u001b[38;5;124mabc\u001b[39m\u001b[38;5;124m\"\u001b[39m)\n\u001b[0;32m      3\u001b[0m name[\u001b[38;5;241m1\u001b[39m]\u001b[38;5;241m.\u001b[39msend_keys(\u001b[38;5;124m'\u001b[39m\u001b[38;5;124m123\u001b[39m\u001b[38;5;124m'\u001b[39m)\n",
      "\u001b[1;31mIndexError\u001b[0m: list index out of range"
     ]
    }
   ],
   "source": [
    "name = driver.find_elements(By.CLASS_NAME, \"input_text\")\n",
    "name[0].send_keys(\"abc\")\n",
    "name[1].send_keys('123') "
   ]
  },
  {
   "cell_type": "code",
   "execution_count": null,
   "id": "b97f594f-d640-426c-acbd-f181c2927a99",
   "metadata": {},
   "outputs": [],
   "source": []
  },
  {
   "cell_type": "code",
   "execution_count": null,
   "id": "d3ae3205-ad10-4e47-8303-83699268eab5",
   "metadata": {},
   "outputs": [],
   "source": []
  },
  {
   "cell_type": "code",
   "execution_count": null,
   "id": "0a17d34f-7da0-4467-b8d2-d61010818c5b",
   "metadata": {},
   "outputs": [],
   "source": []
  },
  {
   "cell_type": "code",
   "execution_count": null,
   "id": "32d4d127-b111-4ac6-a630-39fd6cdb90f2",
   "metadata": {},
   "outputs": [],
   "source": [
    "# 지원님이 보내주신 것"
   ]
  },
  {
   "cell_type": "code",
   "execution_count": 244,
   "id": "ddede933-41b7-4b11-b85c-ff6549aafcb3",
   "metadata": {},
   "outputs": [
    {
     "name": "stderr",
     "output_type": "stream",
     "text": [
      "C:\\Users\\user\\AppData\\Local\\Temp\\ipykernel_4976\\2218556250.py:1: DeprecationWarning: executable_path has been deprecated, please pass in a Service object\n",
      "  driver = webdriver.Chrome(\"C:/Users/chromedriver.exe\")\n"
     ]
    }
   ],
   "source": [
    "driver = webdriver.Chrome(\"C:/Users/chromedriver.exe\")\n",
    "url = 'https://www.naver.com/'\n",
    "driver.get(url) "
   ]
  },
  {
   "cell_type": "code",
   "execution_count": 245,
   "id": "0281e848-1028-4770-9e28-7c1c940cd3a4",
   "metadata": {},
   "outputs": [],
   "source": [
    "# 입력\n",
    "nne = driver.find_element(By.ID, \"query\") # naver 검색창이다.\n",
    "nne.clear()\n",
    "nne.send_keys('우크라이나')\n",
    "\n",
    "# 엔터\n",
    "nne.send_keys(Keys.ENTER) "
   ]
  },
  {
   "cell_type": "code",
   "execution_count": null,
   "id": "2b394d50-fcd3-4a25-a846-80417819b09e",
   "metadata": {},
   "outputs": [],
   "source": []
  },
  {
   "cell_type": "code",
   "execution_count": null,
   "id": "24772989-91c5-4159-949e-cc687c34e9c6",
   "metadata": {},
   "outputs": [],
   "source": []
  },
  {
   "cell_type": "code",
   "execution_count": null,
   "id": "5e32d843-ed0c-497c-8824-b4f67ff9524f",
   "metadata": {},
   "outputs": [],
   "source": []
  },
  {
   "cell_type": "code",
   "execution_count": null,
   "id": "55a8517c-979f-4738-8b53-a4a60979e73d",
   "metadata": {},
   "outputs": [],
   "source": []
  },
  {
   "cell_type": "code",
   "execution_count": null,
   "id": "0af93eda-4607-4308-a850-6894abb41163",
   "metadata": {},
   "outputs": [],
   "source": []
  },
  {
   "cell_type": "code",
   "execution_count": null,
   "id": "f866950d-9f02-4d40-b3b4-53a6be03fa81",
   "metadata": {},
   "outputs": [],
   "source": []
  },
  {
   "cell_type": "code",
   "execution_count": null,
   "id": "aed553bc-7040-4509-bf4e-c65d023e19f5",
   "metadata": {},
   "outputs": [],
   "source": []
  },
  {
   "cell_type": "code",
   "execution_count": null,
   "id": "24c67984-4264-48b1-b095-a83cbcdbf334",
   "metadata": {},
   "outputs": [],
   "source": [
    "----------------------------------------------------"
   ]
  },
  {
   "cell_type": "code",
   "execution_count": null,
   "id": "7c10a1fb-0953-4896-9c88-274859035580",
   "metadata": {},
   "outputs": [],
   "source": [
    "# 로그인 두곳 해보기"
   ]
  },
  {
   "cell_type": "code",
   "execution_count": null,
   "id": "59c13f0c-fbdd-464b-b645-4386cc4a2fb7",
   "metadata": {},
   "outputs": [],
   "source": [
    "url = \"https://nid.naver.com/nidlogin.login?mode=form&url=https%3A%2F%2Fwww.naver.com\"\n",
    "browser = webdriver.Chrome(\"C:/Users/chromedriver.exe\")\n",
    "browser.get(url)"
   ]
  },
  {
   "cell_type": "code",
   "execution_count": 186,
   "id": "b8f4b609-fc0f-4d2c-a311-b408e4451e0a",
   "metadata": {
    "collapsed": true,
    "jupyter": {
     "outputs_hidden": true
    },
    "tags": []
   },
   "outputs": [
    {
     "name": "stderr",
     "output_type": "stream",
     "text": [
      "C:\\Users\\user\\AppData\\Local\\Temp\\ipykernel_4976\\3376878197.py:1: DeprecationWarning: executable_path has been deprecated, please pass in a Service object\n",
      "  driver=webdriver.Chrome(\"C:/Users/chromedriver.exe\")\n"
     ]
    },
    {
     "ename": "NoSuchElementException",
     "evalue": "Message: no such element: Unable to locate element: {\"method\":\"css selector\",\"selector\":\"[id=\"layer_login_id\"]\"}\n  (Session info: chrome=107.0.5304.63)\nStacktrace:\nBacktrace:\n\tOrdinal0 [0x00E9ACD3+2075859]\n\tOrdinal0 [0x00E2EE61+1633889]\n\tOrdinal0 [0x00D2B7BD+571325]\n\tOrdinal0 [0x00D5AC2F+764975]\n\tOrdinal0 [0x00D5AE1B+765467]\n\tOrdinal0 [0x00D8D0F2+970994]\n\tOrdinal0 [0x00D77364+881508]\n\tOrdinal0 [0x00D8B56A+963946]\n\tOrdinal0 [0x00D77136+880950]\n\tOrdinal0 [0x00D4FEFD+720637]\n\tOrdinal0 [0x00D50F3F+724799]\n\tGetHandleVerifier [0x0114EED2+2769538]\n\tGetHandleVerifier [0x01140D95+2711877]\n\tGetHandleVerifier [0x00F2A03A+521194]\n\tGetHandleVerifier [0x00F28DA0+516432]\n\tOrdinal0 [0x00E3682C+1665068]\n\tOrdinal0 [0x00E3B128+1683752]\n\tOrdinal0 [0x00E3B215+1683989]\n\tOrdinal0 [0x00E46484+1729668]\n\tBaseThreadInitThunk [0x7614FA29+25]\n\tRtlGetAppContainerNamedObjectPath [0x774E7B5E+286]\n\tRtlGetAppContainerNamedObjectPath [0x774E7B2E+238]\n",
     "output_type": "error",
     "traceback": [
      "\u001b[1;31m---------------------------------------------------------------------------\u001b[0m",
      "\u001b[1;31mNoSuchElementException\u001b[0m                    Traceback (most recent call last)",
      "Input \u001b[1;32mIn [186]\u001b[0m, in \u001b[0;36m<cell line: 10>\u001b[1;34m()\u001b[0m\n\u001b[0;32m      7\u001b[0m \u001b[38;5;28;01mfrom\u001b[39;00m \u001b[38;5;21;01mselenium\u001b[39;00m\u001b[38;5;21;01m.\u001b[39;00m\u001b[38;5;21;01mwebdriver\u001b[39;00m\u001b[38;5;21;01m.\u001b[39;00m\u001b[38;5;21;01mcommon\u001b[39;00m\u001b[38;5;21;01m.\u001b[39;00m\u001b[38;5;21;01mby\u001b[39;00m \u001b[38;5;28;01mimport\u001b[39;00m By\n\u001b[0;32m      9\u001b[0m \u001b[38;5;66;03m# id입력\u001b[39;00m\n\u001b[1;32m---> 10\u001b[0m e \u001b[38;5;241m=\u001b[39m \u001b[43mdriver\u001b[49m\u001b[38;5;241;43m.\u001b[39;49m\u001b[43mfind_element\u001b[49m\u001b[43m(\u001b[49m\u001b[43mBy\u001b[49m\u001b[38;5;241;43m.\u001b[39;49m\u001b[43mID\u001b[49m\u001b[43m,\u001b[49m\u001b[43m \u001b[49m\u001b[38;5;124;43m\"\u001b[39;49m\u001b[38;5;124;43mlayer_login_id\u001b[39;49m\u001b[38;5;124;43m\"\u001b[39;49m\u001b[43m)\u001b[49m\n\u001b[0;32m     11\u001b[0m e\u001b[38;5;241m.\u001b[39mclear()  \u001b[38;5;66;03m# id창에 입력이 되어있는 것을 깨끗하게 지우고 입력이 될 수 있도록 해줌\u001b[39;00m\n\u001b[0;32m     12\u001b[0m e\u001b[38;5;241m.\u001b[39msend_keys(\u001b[38;5;124m\"\u001b[39m\u001b[38;5;124mlim3184@gmail.com\u001b[39m\u001b[38;5;124m\"\u001b[39m) \u001b[38;5;66;03m# id가 입력됨\u001b[39;00m\n",
      "File \u001b[1;32m~\\anaconda3\\lib\\site-packages\\selenium\\webdriver\\remote\\webdriver.py:856\u001b[0m, in \u001b[0;36mWebDriver.find_element\u001b[1;34m(self, by, value)\u001b[0m\n\u001b[0;32m    853\u001b[0m     by \u001b[38;5;241m=\u001b[39m By\u001b[38;5;241m.\u001b[39mCSS_SELECTOR\n\u001b[0;32m    854\u001b[0m     value \u001b[38;5;241m=\u001b[39m \u001b[38;5;124m'\u001b[39m\u001b[38;5;124m[name=\u001b[39m\u001b[38;5;124m\"\u001b[39m\u001b[38;5;132;01m%s\u001b[39;00m\u001b[38;5;124m\"\u001b[39m\u001b[38;5;124m]\u001b[39m\u001b[38;5;124m'\u001b[39m \u001b[38;5;241m%\u001b[39m value\n\u001b[1;32m--> 856\u001b[0m \u001b[38;5;28;01mreturn\u001b[39;00m \u001b[38;5;28;43mself\u001b[39;49m\u001b[38;5;241;43m.\u001b[39;49m\u001b[43mexecute\u001b[49m\u001b[43m(\u001b[49m\u001b[43mCommand\u001b[49m\u001b[38;5;241;43m.\u001b[39;49m\u001b[43mFIND_ELEMENT\u001b[49m\u001b[43m,\u001b[49m\u001b[43m \u001b[49m\u001b[43m{\u001b[49m\n\u001b[0;32m    857\u001b[0m \u001b[43m    \u001b[49m\u001b[38;5;124;43m'\u001b[39;49m\u001b[38;5;124;43musing\u001b[39;49m\u001b[38;5;124;43m'\u001b[39;49m\u001b[43m:\u001b[49m\u001b[43m \u001b[49m\u001b[43mby\u001b[49m\u001b[43m,\u001b[49m\n\u001b[0;32m    858\u001b[0m \u001b[43m    \u001b[49m\u001b[38;5;124;43m'\u001b[39;49m\u001b[38;5;124;43mvalue\u001b[39;49m\u001b[38;5;124;43m'\u001b[39;49m\u001b[43m:\u001b[49m\u001b[43m \u001b[49m\u001b[43mvalue\u001b[49m\u001b[43m}\u001b[49m\u001b[43m)\u001b[49m[\u001b[38;5;124m'\u001b[39m\u001b[38;5;124mvalue\u001b[39m\u001b[38;5;124m'\u001b[39m]\n",
      "File \u001b[1;32m~\\anaconda3\\lib\\site-packages\\selenium\\webdriver\\remote\\webdriver.py:429\u001b[0m, in \u001b[0;36mWebDriver.execute\u001b[1;34m(self, driver_command, params)\u001b[0m\n\u001b[0;32m    427\u001b[0m response \u001b[38;5;241m=\u001b[39m \u001b[38;5;28mself\u001b[39m\u001b[38;5;241m.\u001b[39mcommand_executor\u001b[38;5;241m.\u001b[39mexecute(driver_command, params)\n\u001b[0;32m    428\u001b[0m \u001b[38;5;28;01mif\u001b[39;00m response:\n\u001b[1;32m--> 429\u001b[0m     \u001b[38;5;28;43mself\u001b[39;49m\u001b[38;5;241;43m.\u001b[39;49m\u001b[43merror_handler\u001b[49m\u001b[38;5;241;43m.\u001b[39;49m\u001b[43mcheck_response\u001b[49m\u001b[43m(\u001b[49m\u001b[43mresponse\u001b[49m\u001b[43m)\u001b[49m\n\u001b[0;32m    430\u001b[0m     response[\u001b[38;5;124m'\u001b[39m\u001b[38;5;124mvalue\u001b[39m\u001b[38;5;124m'\u001b[39m] \u001b[38;5;241m=\u001b[39m \u001b[38;5;28mself\u001b[39m\u001b[38;5;241m.\u001b[39m_unwrap_value(\n\u001b[0;32m    431\u001b[0m         response\u001b[38;5;241m.\u001b[39mget(\u001b[38;5;124m'\u001b[39m\u001b[38;5;124mvalue\u001b[39m\u001b[38;5;124m'\u001b[39m, \u001b[38;5;28;01mNone\u001b[39;00m))\n\u001b[0;32m    432\u001b[0m     \u001b[38;5;28;01mreturn\u001b[39;00m response\n",
      "File \u001b[1;32m~\\anaconda3\\lib\\site-packages\\selenium\\webdriver\\remote\\errorhandler.py:243\u001b[0m, in \u001b[0;36mErrorHandler.check_response\u001b[1;34m(self, response)\u001b[0m\n\u001b[0;32m    241\u001b[0m         alert_text \u001b[38;5;241m=\u001b[39m value[\u001b[38;5;124m'\u001b[39m\u001b[38;5;124malert\u001b[39m\u001b[38;5;124m'\u001b[39m]\u001b[38;5;241m.\u001b[39mget(\u001b[38;5;124m'\u001b[39m\u001b[38;5;124mtext\u001b[39m\u001b[38;5;124m'\u001b[39m)\n\u001b[0;32m    242\u001b[0m     \u001b[38;5;28;01mraise\u001b[39;00m exception_class(message, screen, stacktrace, alert_text)  \u001b[38;5;66;03m# type: ignore[call-arg]  # mypy is not smart enough here\u001b[39;00m\n\u001b[1;32m--> 243\u001b[0m \u001b[38;5;28;01mraise\u001b[39;00m exception_class(message, screen, stacktrace)\n",
      "\u001b[1;31mNoSuchElementException\u001b[0m: Message: no such element: Unable to locate element: {\"method\":\"css selector\",\"selector\":\"[id=\"layer_login_id\"]\"}\n  (Session info: chrome=107.0.5304.63)\nStacktrace:\nBacktrace:\n\tOrdinal0 [0x00E9ACD3+2075859]\n\tOrdinal0 [0x00E2EE61+1633889]\n\tOrdinal0 [0x00D2B7BD+571325]\n\tOrdinal0 [0x00D5AC2F+764975]\n\tOrdinal0 [0x00D5AE1B+765467]\n\tOrdinal0 [0x00D8D0F2+970994]\n\tOrdinal0 [0x00D77364+881508]\n\tOrdinal0 [0x00D8B56A+963946]\n\tOrdinal0 [0x00D77136+880950]\n\tOrdinal0 [0x00D4FEFD+720637]\n\tOrdinal0 [0x00D50F3F+724799]\n\tGetHandleVerifier [0x0114EED2+2769538]\n\tGetHandleVerifier [0x01140D95+2711877]\n\tGetHandleVerifier [0x00F2A03A+521194]\n\tGetHandleVerifier [0x00F28DA0+516432]\n\tOrdinal0 [0x00E3682C+1665068]\n\tOrdinal0 [0x00E3B128+1683752]\n\tOrdinal0 [0x00E3B215+1683989]\n\tOrdinal0 [0x00E46484+1729668]\n\tBaseThreadInitThunk [0x7614FA29+25]\n\tRtlGetAppContainerNamedObjectPath [0x774E7B5E+286]\n\tRtlGetAppContainerNamedObjectPath [0x774E7B2E+238]\n"
     ]
    }
   ],
   "source": [
    "driver=webdriver.Chrome(\"C:/Users/chromedriver.exe\")\n",
    "driver.get(\"https://www.sivillage.com/main/initMain.siv?wise_area1=G&wise_area2=G_top&wise_area3=G_logo\")\n",
    "\n",
    "url= \"https://www.sivillage.com/login/login.siv\"\n",
    "driver.get(url)\n",
    "\n",
    "from selenium.webdriver.common.by import By\n",
    "\n",
    "# id입력\n",
    "e = driver.find_element(By.ID, \"layer_login_id\")\n",
    "e.clear()  # id창에 입력이 되어있는 것을 깨끗하게 지우고 입력이 될 수 있도록 해줌\n",
    "e.send_keys(\"lim3184@gmail.com\") # id가 입력됨\n",
    "\n",
    "# 비밀번호 입력\n",
    "# 비밀번호도 id 로 되어있음 \n",
    "e = driver.find_element(By.ID, \"layer_pwd\")\n",
    "e.clear()\n",
    "e.send_keys(\"abcdegfg\")"
   ]
  },
  {
   "cell_type": "code",
   "execution_count": null,
   "id": "df319433-62ba-4034-813d-7c180f24ff60",
   "metadata": {
    "collapsed": true,
    "jupyter": {
     "outputs_hidden": true
    },
    "tags": []
   },
   "outputs": [
    {
     "name": "stderr",
     "output_type": "stream",
     "text": [
      "C:\\Users\\user\\AppData\\Local\\Temp\\ipykernel_4976\\993010786.py:2: DeprecationWarning: executable_path has been deprecated, please pass in a Service object\n",
      "  driver=webdriver.Chrome(\"C:/Users/chromedriver.exe\")\n"
     ]
    },
    {
     "ename": "NoSuchElementException",
     "evalue": "Message: no such element: Unable to locate element: {\"method\":\"css selector\",\"selector\":\"[id=\"logind_id\"]\"}\n  (Session info: chrome=107.0.5304.63)\nStacktrace:\nBacktrace:\n\tOrdinal0 [0x00E9ACD3+2075859]\n\tOrdinal0 [0x00E2EE61+1633889]\n\tOrdinal0 [0x00D2B7BD+571325]\n\tOrdinal0 [0x00D5AC2F+764975]\n\tOrdinal0 [0x00D5AE1B+765467]\n\tOrdinal0 [0x00D8D0F2+970994]\n\tOrdinal0 [0x00D77364+881508]\n\tOrdinal0 [0x00D8B56A+963946]\n\tOrdinal0 [0x00D77136+880950]\n\tOrdinal0 [0x00D4FEFD+720637]\n\tOrdinal0 [0x00D50F3F+724799]\n\tGetHandleVerifier [0x0114EED2+2769538]\n\tGetHandleVerifier [0x01140D95+2711877]\n\tGetHandleVerifier [0x00F2A03A+521194]\n\tGetHandleVerifier [0x00F28DA0+516432]\n\tOrdinal0 [0x00E3682C+1665068]\n\tOrdinal0 [0x00E3B128+1683752]\n\tOrdinal0 [0x00E3B215+1683989]\n\tOrdinal0 [0x00E46484+1729668]\n\tBaseThreadInitThunk [0x7614FA29+25]\n\tRtlGetAppContainerNamedObjectPath [0x774E7B5E+286]\n\tRtlGetAppContainerNamedObjectPath [0x774E7B2E+238]\n",
     "output_type": "error",
     "traceback": [
      "\u001b[1;31m---------------------------------------------------------------------------\u001b[0m",
      "\u001b[1;31mNoSuchElementException\u001b[0m                    Traceback (most recent call last)",
      "Input \u001b[1;32mIn [191]\u001b[0m, in \u001b[0;36m<cell line: 12>\u001b[1;34m()\u001b[0m\n\u001b[0;32m      9\u001b[0m \u001b[38;5;28;01mfrom\u001b[39;00m \u001b[38;5;21;01mselenium\u001b[39;00m\u001b[38;5;21;01m.\u001b[39;00m\u001b[38;5;21;01mwebdriver\u001b[39;00m\u001b[38;5;21;01m.\u001b[39;00m\u001b[38;5;21;01mcommon\u001b[39;00m\u001b[38;5;21;01m.\u001b[39;00m\u001b[38;5;21;01mby\u001b[39;00m \u001b[38;5;28;01mimport\u001b[39;00m By\n\u001b[0;32m     11\u001b[0m \u001b[38;5;66;03m# id입력\u001b[39;00m\n\u001b[1;32m---> 12\u001b[0m e \u001b[38;5;241m=\u001b[39m \u001b[43mdriver\u001b[49m\u001b[38;5;241;43m.\u001b[39;49m\u001b[43mfind_element\u001b[49m\u001b[43m(\u001b[49m\u001b[43mBy\u001b[49m\u001b[38;5;241;43m.\u001b[39;49m\u001b[43mID\u001b[49m\u001b[43m,\u001b[49m\u001b[43m \u001b[49m\u001b[38;5;124;43m\"\u001b[39;49m\u001b[38;5;124;43mlogind_id\u001b[39;49m\u001b[38;5;124;43m\"\u001b[39;49m\u001b[43m)\u001b[49m\n\u001b[0;32m     13\u001b[0m e\u001b[38;5;241m.\u001b[39mclear()  \u001b[38;5;66;03m# id창에 입력이 되어있는 것을 깨끗하게 지우고 입력이 될 수 있도록 해줌\u001b[39;00m\n\u001b[0;32m     14\u001b[0m e\u001b[38;5;241m.\u001b[39msend_keys(\u001b[38;5;124m\"\u001b[39m\u001b[38;5;124m아이디\u001b[39m\u001b[38;5;124m\"\u001b[39m) \u001b[38;5;66;03m# id가 입력됨\u001b[39;00m\n",
      "File \u001b[1;32m~\\anaconda3\\lib\\site-packages\\selenium\\webdriver\\remote\\webdriver.py:856\u001b[0m, in \u001b[0;36mWebDriver.find_element\u001b[1;34m(self, by, value)\u001b[0m\n\u001b[0;32m    853\u001b[0m     by \u001b[38;5;241m=\u001b[39m By\u001b[38;5;241m.\u001b[39mCSS_SELECTOR\n\u001b[0;32m    854\u001b[0m     value \u001b[38;5;241m=\u001b[39m \u001b[38;5;124m'\u001b[39m\u001b[38;5;124m[name=\u001b[39m\u001b[38;5;124m\"\u001b[39m\u001b[38;5;132;01m%s\u001b[39;00m\u001b[38;5;124m\"\u001b[39m\u001b[38;5;124m]\u001b[39m\u001b[38;5;124m'\u001b[39m \u001b[38;5;241m%\u001b[39m value\n\u001b[1;32m--> 856\u001b[0m \u001b[38;5;28;01mreturn\u001b[39;00m \u001b[38;5;28;43mself\u001b[39;49m\u001b[38;5;241;43m.\u001b[39;49m\u001b[43mexecute\u001b[49m\u001b[43m(\u001b[49m\u001b[43mCommand\u001b[49m\u001b[38;5;241;43m.\u001b[39;49m\u001b[43mFIND_ELEMENT\u001b[49m\u001b[43m,\u001b[49m\u001b[43m \u001b[49m\u001b[43m{\u001b[49m\n\u001b[0;32m    857\u001b[0m \u001b[43m    \u001b[49m\u001b[38;5;124;43m'\u001b[39;49m\u001b[38;5;124;43musing\u001b[39;49m\u001b[38;5;124;43m'\u001b[39;49m\u001b[43m:\u001b[49m\u001b[43m \u001b[49m\u001b[43mby\u001b[49m\u001b[43m,\u001b[49m\n\u001b[0;32m    858\u001b[0m \u001b[43m    \u001b[49m\u001b[38;5;124;43m'\u001b[39;49m\u001b[38;5;124;43mvalue\u001b[39;49m\u001b[38;5;124;43m'\u001b[39;49m\u001b[43m:\u001b[49m\u001b[43m \u001b[49m\u001b[43mvalue\u001b[49m\u001b[43m}\u001b[49m\u001b[43m)\u001b[49m[\u001b[38;5;124m'\u001b[39m\u001b[38;5;124mvalue\u001b[39m\u001b[38;5;124m'\u001b[39m]\n",
      "File \u001b[1;32m~\\anaconda3\\lib\\site-packages\\selenium\\webdriver\\remote\\webdriver.py:429\u001b[0m, in \u001b[0;36mWebDriver.execute\u001b[1;34m(self, driver_command, params)\u001b[0m\n\u001b[0;32m    427\u001b[0m response \u001b[38;5;241m=\u001b[39m \u001b[38;5;28mself\u001b[39m\u001b[38;5;241m.\u001b[39mcommand_executor\u001b[38;5;241m.\u001b[39mexecute(driver_command, params)\n\u001b[0;32m    428\u001b[0m \u001b[38;5;28;01mif\u001b[39;00m response:\n\u001b[1;32m--> 429\u001b[0m     \u001b[38;5;28;43mself\u001b[39;49m\u001b[38;5;241;43m.\u001b[39;49m\u001b[43merror_handler\u001b[49m\u001b[38;5;241;43m.\u001b[39;49m\u001b[43mcheck_response\u001b[49m\u001b[43m(\u001b[49m\u001b[43mresponse\u001b[49m\u001b[43m)\u001b[49m\n\u001b[0;32m    430\u001b[0m     response[\u001b[38;5;124m'\u001b[39m\u001b[38;5;124mvalue\u001b[39m\u001b[38;5;124m'\u001b[39m] \u001b[38;5;241m=\u001b[39m \u001b[38;5;28mself\u001b[39m\u001b[38;5;241m.\u001b[39m_unwrap_value(\n\u001b[0;32m    431\u001b[0m         response\u001b[38;5;241m.\u001b[39mget(\u001b[38;5;124m'\u001b[39m\u001b[38;5;124mvalue\u001b[39m\u001b[38;5;124m'\u001b[39m, \u001b[38;5;28;01mNone\u001b[39;00m))\n\u001b[0;32m    432\u001b[0m     \u001b[38;5;28;01mreturn\u001b[39;00m response\n",
      "File \u001b[1;32m~\\anaconda3\\lib\\site-packages\\selenium\\webdriver\\remote\\errorhandler.py:243\u001b[0m, in \u001b[0;36mErrorHandler.check_response\u001b[1;34m(self, response)\u001b[0m\n\u001b[0;32m    241\u001b[0m         alert_text \u001b[38;5;241m=\u001b[39m value[\u001b[38;5;124m'\u001b[39m\u001b[38;5;124malert\u001b[39m\u001b[38;5;124m'\u001b[39m]\u001b[38;5;241m.\u001b[39mget(\u001b[38;5;124m'\u001b[39m\u001b[38;5;124mtext\u001b[39m\u001b[38;5;124m'\u001b[39m)\n\u001b[0;32m    242\u001b[0m     \u001b[38;5;28;01mraise\u001b[39;00m exception_class(message, screen, stacktrace, alert_text)  \u001b[38;5;66;03m# type: ignore[call-arg]  # mypy is not smart enough here\u001b[39;00m\n\u001b[1;32m--> 243\u001b[0m \u001b[38;5;28;01mraise\u001b[39;00m exception_class(message, screen, stacktrace)\n",
      "\u001b[1;31mNoSuchElementException\u001b[0m: Message: no such element: Unable to locate element: {\"method\":\"css selector\",\"selector\":\"[id=\"logind_id\"]\"}\n  (Session info: chrome=107.0.5304.63)\nStacktrace:\nBacktrace:\n\tOrdinal0 [0x00E9ACD3+2075859]\n\tOrdinal0 [0x00E2EE61+1633889]\n\tOrdinal0 [0x00D2B7BD+571325]\n\tOrdinal0 [0x00D5AC2F+764975]\n\tOrdinal0 [0x00D5AE1B+765467]\n\tOrdinal0 [0x00D8D0F2+970994]\n\tOrdinal0 [0x00D77364+881508]\n\tOrdinal0 [0x00D8B56A+963946]\n\tOrdinal0 [0x00D77136+880950]\n\tOrdinal0 [0x00D4FEFD+720637]\n\tOrdinal0 [0x00D50F3F+724799]\n\tGetHandleVerifier [0x0114EED2+2769538]\n\tGetHandleVerifier [0x01140D95+2711877]\n\tGetHandleVerifier [0x00F2A03A+521194]\n\tGetHandleVerifier [0x00F28DA0+516432]\n\tOrdinal0 [0x00E3682C+1665068]\n\tOrdinal0 [0x00E3B128+1683752]\n\tOrdinal0 [0x00E3B215+1683989]\n\tOrdinal0 [0x00E46484+1729668]\n\tBaseThreadInitThunk [0x7614FA29+25]\n\tRtlGetAppContainerNamedObjectPath [0x774E7B5E+286]\n\tRtlGetAppContainerNamedObjectPath [0x774E7B2E+238]\n"
     ]
    }
   ],
   "source": [
    "# 방법1\n",
    "driver=webdriver.Chrome(\"C:/Users/chromedriver.exe\")\n",
    "driver.get(\"https://www.sivillage.com/main/initMain.siv?wise_area1=G&wise_area2=G_top&wise_area3=G_logo\")\n",
    "\n",
    "# 로그인계정 페이지 열기(url실행됨)\n",
    "url= \"https://www.sivillage.com/main/initMain.siv?wise_area1=G&wise_area2=G_top&wise_area3=G_logo\"\n",
    "driver.get(url)\n",
    "\n",
    "from selenium.webdriver.common.by import By\n",
    "\n",
    "# id입력\n",
    "e = driver.find_element(By.ID, \"logind_id\")\n",
    "e.clear()  # id창에 입력이 되어있는 것을 깨끗하게 지우고 입력이 될 수 있도록 해줌\n",
    "e.send_keys(\"아이디\") # id가 입력됨\n",
    "\n",
    "# 비밀번호 입력\n",
    "# 비밀번호도 id 로 되어있음 \n",
    "e = driver.find_element(By.ID, \"pwd\")\n",
    "e.clear()\n",
    "e.send_keys(\"비밀번호\")"
   ]
  },
  {
   "cell_type": "code",
   "execution_count": null,
   "id": "a52dca95-d4dd-47c1-a241-7cbcdfa10a8a",
   "metadata": {},
   "outputs": [],
   "source": [
    "# 시빌리지 해보기\n",
    "# url오픈\n",
    "url = \"https://nid.naver.com/nidlogin.login?mode=form&url=https%3A%2F%2Fwww.naver.com\"\n",
    "browser = webdriver.Chrome(\"C:/Users/chromedriver.exe\")\n",
    "browser.get(url)\n",
    "\n",
    "driver=webdriver.Chrome(\"C:/Users/chromedriver.exe\")\n",
    "driver.get(\"https://www.sivillage.com/main/initMain.siv?wise_area1=G&wise_area2=G_top&wise_area3=G_logo\")\n",
    "\n",
    "# 아이디 입력\n",
    "e = driver.find_elements(By.ID, \"id\")\n",
    "e.clear()\n",
    "e.send_keys('lim3184') \n",
    "#비밀번호 입력\n",
    "e = driver.find_elements(By.ID, \"pw\")\n",
    "e.clear()\n",
    "e.send_keys('abcd') "
   ]
  },
  {
   "cell_type": "code",
   "execution_count": null,
   "id": "1c21c3ab-be6e-41a0-9585-f54c7c2f7df2",
   "metadata": {},
   "outputs": [],
   "source": []
  },
  {
   "cell_type": "code",
   "execution_count": null,
   "id": "f46f5706-0cf1-43d0-9ff0-549a9aee3190",
   "metadata": {},
   "outputs": [],
   "source": []
  },
  {
   "cell_type": "code",
   "execution_count": null,
   "id": "a99b98e4-0feb-4eab-9ea6-65cfd28fd8a2",
   "metadata": {},
   "outputs": [],
   "source": [
    "------------------------------------------------------------------"
   ]
  },
  {
   "cell_type": "markdown",
   "id": "91b92a07-28fe-4b2f-977c-70f49ca9ced8",
   "metadata": {},
   "source": [
    "# 네이버 로그인 후 쇼핑 목록 가져오기"
   ]
  },
  {
   "cell_type": "code",
   "execution_count": 207,
   "id": "94ea77bc-e0dc-43a5-8043-e7ad728b59ba",
   "metadata": {},
   "outputs": [
    {
     "name": "stderr",
     "output_type": "stream",
     "text": [
      "C:\\Users\\user\\AppData\\Local\\Temp\\ipykernel_4976\\2027279316.py:2: DeprecationWarning: executable_path has been deprecated, please pass in a Service object\n",
      "  driver=webdriver.Chrome(\"C:/Users/chromedriver.exe\")\n"
     ]
    }
   ],
   "source": [
    "# 방법1\n",
    "driver=webdriver.Chrome(\"C:/Users/chromedriver.exe\")\n",
    "driver.get(\"https://www.naver.com/\")\n",
    "\n",
    "# 로그인계정 페이지 열기(url실행됨)\n",
    "url= \"https://nid.naver.com/nidlogin.login?mode=form&url=https%3A%2F%2Fwww.naver.com\"\n",
    "driver.get(url)\n",
    "\n",
    "from selenium.webdriver.common.by import By\n",
    "\n",
    "# id입력\n",
    "e = driver.find_element(By.ID, \"id\")\n",
    "e.clear()  # id창에 입력이 되어있는 것을 깨끗하게 지우고 입력이 될 수 있도록 해줌\n",
    "e.send_keys(\"abcㅇ\") # id가 입력됨\n",
    "\n",
    "# 비밀번호 입력\n",
    "# 비밀번호도 id 로 되어있음 \n",
    "e = driver.find_element(By.ID, \"pw\")\n",
    "e.clear()\n",
    "e.send_keys(\"abcdegfg\")"
   ]
  },
  {
   "cell_type": "code",
   "execution_count": 208,
   "id": "cac7a266-e529-42df-8066-beb114e2c996",
   "metadata": {},
   "outputs": [],
   "source": [
    "driver.get(\"https://order.pay.naver.com/home?tabMenu=SHOPPING\")"
   ]
  },
  {
   "cell_type": "code",
   "execution_count": 209,
   "id": "5ca45312-c771-4586-bc7f-79d260f85d4b",
   "metadata": {
    "tags": []
   },
   "outputs": [
    {
     "data": {
      "text/plain": [
       "[<selenium.webdriver.remote.webelement.WebElement (session=\"da82a44ca6289a0ca00fed2775683bf4\", element=\"0139106f-3940-4c27-8e0e-f18ba4df6adb\")>,\n",
       " <selenium.webdriver.remote.webelement.WebElement (session=\"da82a44ca6289a0ca00fed2775683bf4\", element=\"c20649db-b40b-4946-ab78-013e9afe3a4e\")>,\n",
       " <selenium.webdriver.remote.webelement.WebElement (session=\"da82a44ca6289a0ca00fed2775683bf4\", element=\"c62fa61c-fc5b-4126-9e7d-d6414fefb802\")>,\n",
       " <selenium.webdriver.remote.webelement.WebElement (session=\"da82a44ca6289a0ca00fed2775683bf4\", element=\"ace66ac2-adb2-4a33-bf3a-5d6c1d42d723\")>,\n",
       " <selenium.webdriver.remote.webelement.WebElement (session=\"da82a44ca6289a0ca00fed2775683bf4\", element=\"d2f343ee-e5de-4ed9-8567-edf1035bbe43\")>,\n",
       " <selenium.webdriver.remote.webelement.WebElement (session=\"da82a44ca6289a0ca00fed2775683bf4\", element=\"d38d7c66-71bd-4515-8a3b-f95353fbece4\")>,\n",
       " <selenium.webdriver.remote.webelement.WebElement (session=\"da82a44ca6289a0ca00fed2775683bf4\", element=\"49506d29-063d-4d94-abf3-803142355794\")>,\n",
       " <selenium.webdriver.remote.webelement.WebElement (session=\"da82a44ca6289a0ca00fed2775683bf4\", element=\"6d8d8fbe-9eef-49be-989e-56d468017905\")>,\n",
       " <selenium.webdriver.remote.webelement.WebElement (session=\"da82a44ca6289a0ca00fed2775683bf4\", element=\"ad576d87-5405-44c1-89b4-faf3b1386c34\")>,\n",
       " <selenium.webdriver.remote.webelement.WebElement (session=\"da82a44ca6289a0ca00fed2775683bf4\", element=\"f82d5477-e79d-499e-b87c-63762b4d3a5e\")>,\n",
       " <selenium.webdriver.remote.webelement.WebElement (session=\"da82a44ca6289a0ca00fed2775683bf4\", element=\"6cd566fe-b5d6-455c-95ef-3652b14f552b\")>,\n",
       " <selenium.webdriver.remote.webelement.WebElement (session=\"da82a44ca6289a0ca00fed2775683bf4\", element=\"9ad2430c-8cf3-4b3d-9824-bcdc43aa8c42\")>,\n",
       " <selenium.webdriver.remote.webelement.WebElement (session=\"da82a44ca6289a0ca00fed2775683bf4\", element=\"f6c21685-213e-4b49-9c75-b40542fc7d0e\")>,\n",
       " <selenium.webdriver.remote.webelement.WebElement (session=\"da82a44ca6289a0ca00fed2775683bf4\", element=\"0fa46c3f-2e4c-476d-8758-3cb3f36ed3bc\")>,\n",
       " <selenium.webdriver.remote.webelement.WebElement (session=\"da82a44ca6289a0ca00fed2775683bf4\", element=\"637d73f3-e869-475c-8b99-7f20d5bbc152\")>,\n",
       " <selenium.webdriver.remote.webelement.WebElement (session=\"da82a44ca6289a0ca00fed2775683bf4\", element=\"1c3b7658-4a63-485b-b722-919f25c1b303\")>]"
      ]
     },
     "execution_count": 209,
     "metadata": {},
     "output_type": "execute_result"
    }
   ],
   "source": [
    "e=driver.find_elements(By.CLASS_NAME, \"name\")\n",
    "e"
   ]
  },
  {
   "cell_type": "code",
   "execution_count": 217,
   "id": "08341069-e54d-4c17-bdd7-c8ecfaa7d9ae",
   "metadata": {},
   "outputs": [
    {
     "data": {
      "text/plain": [
       "'네추럴라이즈 감마리놀렌산 달맞이꽃종자유 1010mg x 180캡슐 / 300캡슐 효능'"
      ]
     },
     "execution_count": 217,
     "metadata": {},
     "output_type": "execute_result"
    }
   ],
   "source": [
    "e[1].text"
   ]
  },
  {
   "cell_type": "code",
   "execution_count": 220,
   "id": "cde35478-35b5-4450-aab6-1e59e91e4d7e",
   "metadata": {},
   "outputs": [
    {
     "name": "stdout",
     "output_type": "stream",
     "text": [
      "네추럴라이즈 감마리놀렌산 달맞이꽃종자유 1010mg x 180캡슐 / 300캡슐 효능\n",
      "뷰씨 아이패드 5세대 6세대 9.7인치 (2018) 스마트커버 New 퓨어슬림 케이스\n"
     ]
    }
   ],
   "source": [
    "for i in range(1,3):\n",
    "    print(e[i].text)"
   ]
  },
  {
   "cell_type": "code",
   "execution_count": null,
   "id": "ea54455f-e8df-46ae-a93b-543b444c8086",
   "metadata": {},
   "outputs": [],
   "source": [
    "---------------------------------------------------------------------------"
   ]
  },
  {
   "cell_type": "code",
   "execution_count": null,
   "id": "1f71526f-85b2-4fdc-99bc-5e827f3d6ae8",
   "metadata": {},
   "outputs": [],
   "source": [
    "#_rowLi20221017214811CHK2022101733203301 > div.goods_item > div > a > p\n"
   ]
  },
  {
   "cell_type": "code",
   "execution_count": 221,
   "id": "9ef4f487-bc2e-4b93-a598-45df325a1512",
   "metadata": {},
   "outputs": [],
   "source": [
    "e=driver.find_element(By.CSS_SELECTOR,\"#_rowLi20221017214811CHK2022101733203301 > div.goods_item > div > a > p\")"
   ]
  },
  {
   "cell_type": "code",
   "execution_count": 222,
   "id": "b5dde784-f9cf-4763-9e77-81d46b109be4",
   "metadata": {},
   "outputs": [
    {
     "data": {
      "text/plain": [
       "'네추럴라이즈 감마리놀렌산 달맞이꽃종자유 1010mg x 180캡슐 / 300캡슐 효능'"
      ]
     },
     "execution_count": 222,
     "metadata": {},
     "output_type": "execute_result"
    }
   ],
   "source": [
    "e.text"
   ]
  },
  {
   "cell_type": "code",
   "execution_count": 231,
   "id": "be61010e-b644-49a3-bb26-6925fcce7201",
   "metadata": {},
   "outputs": [],
   "source": [
    "e=driver.find_element(By.CSS_SELECTOR,\"div.goods_item > div > a > p \")"
   ]
  },
  {
   "cell_type": "code",
   "execution_count": 232,
   "id": "f5add5a7-70a1-45bf-a3ea-e67ed14a1b83",
   "metadata": {},
   "outputs": [
    {
     "data": {
      "text/plain": [
       "'네추럴라이즈 감마리놀렌산 달맞이꽃종자유 1010mg x 180캡슐 / 300캡슐 효능'"
      ]
     },
     "execution_count": 232,
     "metadata": {},
     "output_type": "execute_result"
    }
   ],
   "source": [
    "e.text"
   ]
  },
  {
   "cell_type": "code",
   "execution_count": null,
   "id": "caf9be54-9e2e-47f9-8a53-87ab0d1a4e1f",
   "metadata": {},
   "outputs": [],
   "source": [
    "---------------------------------------------------------------------"
   ]
  },
  {
   "cell_type": "code",
   "execution_count": 233,
   "id": "115673a5-ae26-4ecc-bd98-5133e01e81d2",
   "metadata": {
    "collapsed": true,
    "jupyter": {
     "outputs_hidden": true
    },
    "tags": []
   },
   "outputs": [
    {
     "data": {
      "text/plain": [
       "[<selenium.webdriver.remote.webelement.WebElement (session=\"da82a44ca6289a0ca00fed2775683bf4\", element=\"af67df7a-1f7f-43eb-a9ff-41993f4fd223\")>,\n",
       " <selenium.webdriver.remote.webelement.WebElement (session=\"da82a44ca6289a0ca00fed2775683bf4\", element=\"ad767994-0e31-4a01-8cbc-495738ff7851\")>,\n",
       " <selenium.webdriver.remote.webelement.WebElement (session=\"da82a44ca6289a0ca00fed2775683bf4\", element=\"3f11ee9c-70eb-4a8c-9a12-2ecd0b8a9ea1\")>,\n",
       " <selenium.webdriver.remote.webelement.WebElement (session=\"da82a44ca6289a0ca00fed2775683bf4\", element=\"6c023269-264f-4e90-9c3a-25454a17ff00\")>,\n",
       " <selenium.webdriver.remote.webelement.WebElement (session=\"da82a44ca6289a0ca00fed2775683bf4\", element=\"b2b35801-13b0-4a0a-b66c-d0bae23cdd9c\")>,\n",
       " <selenium.webdriver.remote.webelement.WebElement (session=\"da82a44ca6289a0ca00fed2775683bf4\", element=\"9a507a93-9653-45aa-8c14-395a2064f1df\")>,\n",
       " <selenium.webdriver.remote.webelement.WebElement (session=\"da82a44ca6289a0ca00fed2775683bf4\", element=\"7a18fa53-74b7-43b6-a136-c9d79ff91a3d\")>,\n",
       " <selenium.webdriver.remote.webelement.WebElement (session=\"da82a44ca6289a0ca00fed2775683bf4\", element=\"4dde1551-897c-4434-adf2-9bd0a5c87bae\")>,\n",
       " <selenium.webdriver.remote.webelement.WebElement (session=\"da82a44ca6289a0ca00fed2775683bf4\", element=\"2a5bb786-a966-4287-b344-0ced8815be1b\")>,\n",
       " <selenium.webdriver.remote.webelement.WebElement (session=\"da82a44ca6289a0ca00fed2775683bf4\", element=\"648d15b7-effa-4cb3-90f9-e30369607ff1\")>,\n",
       " <selenium.webdriver.remote.webelement.WebElement (session=\"da82a44ca6289a0ca00fed2775683bf4\", element=\"c33f0cae-c62f-41f0-bb74-5fc1223af2f7\")>,\n",
       " <selenium.webdriver.remote.webelement.WebElement (session=\"da82a44ca6289a0ca00fed2775683bf4\", element=\"1d6d293b-9785-4b27-9f9b-8a48b71bfeb5\")>,\n",
       " <selenium.webdriver.remote.webelement.WebElement (session=\"da82a44ca6289a0ca00fed2775683bf4\", element=\"464b94e7-a2b6-4a3e-ac35-5fb7c131aa5f\")>,\n",
       " <selenium.webdriver.remote.webelement.WebElement (session=\"da82a44ca6289a0ca00fed2775683bf4\", element=\"0fab7c58-47b1-4796-bdcb-982deeb11bd0\")>,\n",
       " <selenium.webdriver.remote.webelement.WebElement (session=\"da82a44ca6289a0ca00fed2775683bf4\", element=\"724a8160-0c39-4e07-8dbb-bf0f66669d2c\")>,\n",
       " <selenium.webdriver.remote.webelement.WebElement (session=\"da82a44ca6289a0ca00fed2775683bf4\", element=\"8a7bd133-a52a-4e5f-83b0-80a9eda46241\")>,\n",
       " <selenium.webdriver.remote.webelement.WebElement (session=\"da82a44ca6289a0ca00fed2775683bf4\", element=\"55f925a9-a332-45e0-a4d3-88242e46b7b2\")>]"
      ]
     },
     "execution_count": 233,
     "metadata": {},
     "output_type": "execute_result"
    }
   ],
   "source": [
    "e = driver.find_elements(By.CSS_SELECTOR, 'div > a > p')\n",
    "e "
   ]
  },
  {
   "cell_type": "code",
   "execution_count": 235,
   "id": "9f18c43e-58ee-4145-86ac-a386242e1670",
   "metadata": {},
   "outputs": [
    {
     "name": "stdout",
     "output_type": "stream",
     "text": [
      "지금 가입하고 최대 4% 더 받으세요!\n",
      "지금 구매하고,\n",
      "다음에 결제하세요!\n",
      "네이버페이 후불결제\n",
      "네추럴라이즈 감마리놀렌산 달맞이꽃종자유 1010mg x 180캡슐 / 300캡슐 효능\n",
      "뷰씨 아이패드 5세대 6세대 9.7인치 (2018) 스마트커버 New 퓨어슬림 케이스\n"
     ]
    }
   ],
   "source": [
    "for i in range(4):\n",
    "    print(e[i].text)"
   ]
  },
  {
   "cell_type": "code",
   "execution_count": null,
   "id": "c7aa21f7-e6e7-4e8f-a799-8f198f47bbbc",
   "metadata": {},
   "outputs": [],
   "source": [
    "----------------------------------------"
   ]
  },
  {
   "cell_type": "markdown",
   "id": "57478904-513a-4c14-a7d7-684c88746a62",
   "metadata": {},
   "source": [
    "# 한빛출판네트워크"
   ]
  },
  {
   "cell_type": "code",
   "execution_count": null,
   "id": "d690cf61-5755-40bc-93e2-c60afd647e7b",
   "metadata": {},
   "outputs": [],
   "source": [
    "# requests모듈 상에서 id, pw를 어케 히냐"
   ]
  },
  {
   "cell_type": "code",
   "execution_count": null,
   "id": "ccf49510-c251-4f4f-aa09-d1d207a903aa",
   "metadata": {},
   "outputs": [],
   "source": [
    "로그인 해서 \n",
    "print(\"마일리지:\" + mileage)\n",
    "print(\"이코인:\" + ecoin)\n",
    "찾기"
   ]
  },
  {
   "cell_type": "code",
   "execution_count": 323,
   "id": "24e0619a-f2b8-463c-8249-ed33229177c4",
   "metadata": {},
   "outputs": [],
   "source": [
    "import requests\n",
    "from bs4 import BeautifulSoup"
   ]
  },
  {
   "cell_type": "code",
   "execution_count": 343,
   "id": "3cd6746c-9ad8-4bbd-8eb9-6c3ba071827c",
   "metadata": {},
   "outputs": [],
   "source": [
    "session = requests.session()"
   ]
  },
  {
   "cell_type": "code",
   "execution_count": 344,
   "id": "cc2c269b-3917-4edd-b845-7691ef8171b9",
   "metadata": {},
   "outputs": [
    {
     "data": {
      "text/plain": [
       "requests.sessions.Session"
      ]
     },
     "execution_count": 344,
     "metadata": {},
     "output_type": "execute_result"
    }
   ],
   "source": [
    "#session의 객체\n",
    "type(session)"
   ]
  },
  {
   "cell_type": "code",
   "execution_count": 325,
   "id": "98ff67db-bb54-4386-8783-a4f8da44b966",
   "metadata": {},
   "outputs": [
    {
     "data": {
      "text/plain": [
       "<Response [200]>"
      ]
     },
     "execution_count": 325,
     "metadata": {},
     "output_type": "execute_result"
    }
   ],
   "source": [
    "# 로그인 오류페이지\n",
    "url = \"https://www.hanbit.co.kr/member/login_proc.php\"\n",
    "session.post(url, {\"m_id\":\"lim3184\", \"m_passwd\" :\"dlawlgus99!@\" })"
   ]
  },
  {
   "cell_type": "code",
   "execution_count": 326,
   "id": "1660256c-6c3b-409f-8392-3fe358a8b6fa",
   "metadata": {},
   "outputs": [],
   "source": [
    "resp= session.get(\"https://www.hanbit.co.kr/myhanbit/myhanbit.html\")"
   ]
  },
  {
   "cell_type": "code",
   "execution_count": 327,
   "id": "795a6ebc-b04f-49cd-a8ef-ad10fb30a1f4",
   "metadata": {},
   "outputs": [
    {
     "data": {
      "text/plain": [
       "<bound method Response.raise_for_status of <Response [200]>>"
      ]
     },
     "execution_count": 327,
     "metadata": {},
     "output_type": "execute_result"
    }
   ],
   "source": [
    "resp.raise_for_status"
   ]
  },
  {
   "cell_type": "code",
   "execution_count": 328,
   "id": "98492bda-ac47-453e-b1fc-5d2d8a21b465",
   "metadata": {
    "tags": []
   },
   "outputs": [],
   "source": [
    "html= resp.text"
   ]
  },
  {
   "cell_type": "code",
   "execution_count": 329,
   "id": "2bbebe47-7169-4642-a2e3-8c11538bd012",
   "metadata": {
    "collapsed": true,
    "jupyter": {
     "outputs_hidden": true
    },
    "tags": []
   },
   "outputs": [
    {
     "data": {
      "text/plain": [
       "<!DOCTYPE html>\n",
       "<html lang=\"ko\">\n",
       "<head>\n",
       "<!--[if lte IE 8]>\n",
       "<script>\n",
       "  location.replace('/support/explorer_upgrade.html');\n",
       "</script>\n",
       "<![endif]-->\n",
       "<meta charset=\"utf-8\"/>\n",
       "<title>한빛출판네트워크</title>\n",
       "<link href=\"https://www.hanbit.co.kr/images/common/hanbit.ico\" rel=\"shortcut icon\"/>\n",
       "<meta content=\"IE=Edge\" http-equiv=\"X-UA-Compatible\"/>\n",
       "<meta content=\"website\" property=\"og:type\"/>\n",
       "<meta content=\"한빛출판네트워크\" property=\"og:title\"/>\n",
       "<meta content=\"더 넓은 세상, 더 나은 미래를 위한 아시아 출판 네트워크 :: 한빛미디어, 한빛아카데미, 한빛비즈, 한빛라이프, 한빛에듀\" property=\"og:description\"/>\n",
       "<meta content=\"https://www.hanbit.co.kr/images/hanbitpubnet_logo.jpg\" property=\"og:image\"/>\n",
       "<meta content=\"https://www.hanbit.co.kr/myhanbit/myhanbit.html\" property=\"og:url\"/>\n",
       "<link href=\"https://www.hanbit.co.kr/myhanbit/myhanbit.html\" rel=\"canonical\"/>\n",
       "<meta content=\"한빛미디어,한빛아카데미,한빛비즈,한빛라이프,한빛에듀,리얼타임,대관서비스,책,출판사,IT전문서,IT활용서,대학교재,경제경영,어린이/유아,실용/여행,전자책,자격증,교육,세미나,강의,ebook,정보교과서\" name=\"keywords\"/>\n",
       "<meta content=\"더 넓은 세상, 더 나은 미래를 위한 아시아 출판 네트워크 :: 한빛미디어, 한빛아카데미, 한빛비즈, 한빛라이프, 한빛에듀\" name=\"description\"/>\n",
       "<meta content=\"width=device-width,initial-scale=1.0,minimum-scale=1.0,maximum-scale=1.0\" name=\"viewport\"/>\n",
       "<meta content=\"width=1260\" name=\"viewport\"/>\n",
       "<meta content=\"yes\" name=\"apple-mobile-web-app-capable\"/>\n",
       "<meta content=\"01c29ed1852aecca7a48ac0c3e0869627bc512d8\" name=\"naver-site-verification\"/>\n",
       "<link href=\"/css/common.css?20210603093421\" rel=\"stylesheet\"/>\n",
       "<link href=\"/css/hover.css\" media=\"all\" rel=\"stylesheet\"/>\n",
       "<link href=\"/js/jquery.raty.css\" rel=\"stylesheet\"/>\n",
       "<script src=\"/js/jquery-latest.js\" type=\"text/javascript\"></script>\n",
       "<script src=\"/js/jquery-ui.js\" type=\"text/javascript\"></script>\n",
       "<script src=\"/js/jquery.event.drag-1.5.min.js\" type=\"text/javascript\"></script>\n",
       "<script src=\"/js/jquery.touchSlider.js\" type=\"text/javascript\"></script>\n",
       "<script src=\"/js/jquery.raty.js\" type=\"text/javascript\"></script>\n",
       "<script src=\"/js/main.js\" type=\"text/javascript\"></script>\n",
       "<script src=\"/lib/cheditor/cheditor.js\" type=\"text/javascript\"></script>\n",
       "<script src=\"/js/jquery.ui.datepicker-ko.js\" type=\"text/javascript\"></script>\n",
       "<script src=\"/js/engine.js\" type=\"text/javascript\"></script>\n",
       "<script src=\"/js/vue.js\" type=\"text/javascript\"></script>\n",
       "<!-- Google Analytics -->\n",
       "<script>\n",
       "(function(i,s,o,g,r,a,m){i['GoogleAnalyticsObject']=r;i[r]=i[r]||function(){\n",
       "(i[r].q=i[r].q||[]).push(arguments)},i[r].l=1*new Date();a=s.createElement(o),\n",
       "m=s.getElementsByTagName(o)[0];a.async=1;a.src=g;m.parentNode.insertBefore(a,m)\n",
       "})(window,document,'script','//www.google-analytics.com/analytics.js','ga');\n",
       "ga('create', 'UA-47080738-1', 'hanbit.co.kr');\n",
       "ga('require', 'linkid', 'linkid.js');\n",
       "ga('send', 'pageview');\n",
       "</script>\n",
       "<!-- Google Analytics -->\n",
       "<!-- Facebook Pixel Code -->\n",
       "<script>\n",
       "  !function(f,b,e,v,n,t,s)\n",
       "  {if(f.fbq)return;n=f.fbq=function(){n.callMethod?\n",
       "  n.callMethod.apply(n,arguments):n.queue.push(arguments)};\n",
       "  if(!f._fbq)f._fbq=n;n.push=n;n.loaded=!0;n.version='2.0';\n",
       "  n.queue=[];t=b.createElement(e);t.async=!0;\n",
       "  t.src=v;s=b.getElementsByTagName(e)[0];\n",
       "  s.parentNode.insertBefore(t,s)}(window, document,'script',\n",
       "  'https://connect.facebook.net/en_US/fbevents.js');\n",
       "  fbq('init', '406459623338891');\n",
       "  fbq('track', 'PageView');\n",
       "</script>\n",
       "<noscript><img height=\"1\" src=\"https://www.facebook.com/tr?id=406459623338891&amp;ev=PageView&amp;noscript=1\" style=\"display:none\" width=\"1\"/></noscript>\n",
       "<!-- End Facebook Pixel Code -->\n",
       "<!-- Google Tag Manager -->\n",
       "<script>(function(w,d,s,l,i){w[l]=w[l]||[];w[l].push({'gtm.start':\n",
       "new Date().getTime(),event:'gtm.js'});var f=d.getElementsByTagName(s)[0],\n",
       "j=d.createElement(s),dl=l!='dataLayer'?'&l='+l:'';j.async=true;j.src=\n",
       "'https://www.googletagmanager.com/gtm.js?id='+i+dl;f.parentNode.insertBefore(j,f);\n",
       "})(window,document,'script','dataLayer','GTM-W9D5PM3');</script>\n",
       "<!-- End Google Tag Manager -->\n",
       "<!-- Kakao Pixel Code -->\n",
       "<script charset=\"UTF-8\" src=\"//t1.daumcdn.net/adfit/static/kp.js\" type=\"text/javascript\"></script>\n",
       "<script type=\"text/javascript\">\n",
       "  kakaoPixel('3011392806152551233').pageView();\n",
       "</script>\n",
       "<!-- //Kakao Pixel Code -->\n",
       "</head>\n",
       "<body>\n",
       "<!-- Google Tag Manager (noscript) -->\n",
       "<noscript><iframe height=\"0\" src=\"https://www.googletagmanager.com/ns.html?id=GTM-W9D5PM3\" style=\"display:none;visibility:hidden\" width=\"0\"></iframe></noscript>\n",
       "<!-- End Google Tag Manager (noscript) -->\n",
       "<link href=\"/css/layout-hanbit.css?202206030909\" rel=\"stylesheet\"/>\n",
       "<link href=\"/css/layout-member.css\" rel=\"stylesheet\"/>\n",
       "<link href=\"/css/layout-network.css\" rel=\"stylesheet\"/>\n",
       "<link href=\"/css/layout-store.css\" rel=\"stylesheet\"/>\n",
       "<link href=\"/css/layout-myhanbit.css\" rel=\"stylesheet\"/>\n",
       "<link href=\"/css/layout-event.css\" rel=\"stylesheet\"/>\n",
       "<!-- 메뉴 바로가기 -->\n",
       "<div id=\"quick_skip_menu\">\n",
       "<a href=\"#gnb\" onclick=\"document.getElementById('gnb').tabIndex = -1;document.getElementById('gnb').focus();return false;\"><span>메뉴 바로가기</span></a>\n",
       "<a href=\"#top_search\" onclick=\"view_hover('main_search_area','','show'), document.getElementById('top_search').tabIndex = -1;document.getElementById('top_search').focus();return false;\"><span>검색 및 카테고리 바로가기</span></a>\n",
       "<a href=\"#container\" onclick=\"document.getElementById('container').tabIndex = -1;document.getElementById('container').focus();return false;\"><span>본문 바로가기</span></a>\n",
       "</div>\n",
       "<!-- //메뉴 바로가기 -->\n",
       "<!-- header -->\n",
       "<header>\n",
       "<!-- top menu -->\n",
       "<nav>\n",
       "<div id=\"wrap_nav\">\n",
       "<ul class=\"top_brand\">\n",
       "<li><a href=\"https://www.hanbit.co.kr/index.html\" name=\"hanbit_network\"><span>HOME</span></a></li>\n",
       "<li><a href=\"https://www.hanbit.co.kr/media/\">한빛미디어</a></li>\n",
       "<li><a href=\"https://www.hanbit.co.kr/academy/\">한빛아카데미</a></li>\n",
       "<li><a href=\"https://www.hanbit.co.kr/biz/\">한빛비즈</a></li>\n",
       "<li><a href=\"https://www.hanbit.co.kr/life/\">한빛라이프</a></li>\n",
       "<li><a href=\"https://www.hanbit.co.kr/edu/\">한빛에듀</a></li>\n",
       "<li><a href=\"https://www.hanbit.co.kr/realtime/\">리얼타임</a></li>\n",
       "<li><a href=\"https://www.hanbit.co.kr/textbook/\" target=\"_blank\">한빛정보교과서</a></li>\n",
       "<li><a href=\"https://www.hanbit.co.kr/rent/\" target=\"_blank\">한빛대관서비스</a></li>\n",
       "</ul>\n",
       "<ul class=\"top_menu\">\n",
       "<li><a class=\"logout\" href=\"https://www.hanbit.co.kr/member/logout.html\">로그아웃</a></li>\n",
       "<li><a class=\"edit\" href=\"https://www.hanbit.co.kr/member/member_register.html\">개인정보수정</a></li>\n",
       "<li><a class=\"myhanbit\" href=\"https://www.hanbit.co.kr/myhanbit/myhanbit.html\">마이한빛</a></li>\n",
       "<li><a class=\"cart\" href=\"https://www.hanbit.co.kr/myhanbit/cart.html\">장바구니</a></li>\n",
       "<li class=\"top_menu_store\"><a href=\"https://www.hanbit.co.kr/publisher/foreignrights.html?lang=e\" target=\"_blank\">ENGLISH</a></li>\n",
       "</ul>\n",
       "</div>\n",
       "</nav>\n",
       "<!-- //top menu -->\n",
       "<div id=\"wrap_gnb\">\n",
       "<!-- logo -->\n",
       "<h1><a href=\"https://www.hanbit.co.kr/index.html\">한빛출판네트워크</a></h1>\n",
       "<!-- //logo -->\n",
       "<!-- Menu -->\n",
       "<div id=\"gnb\" name=\"gnb\">\n",
       "<ul>\n",
       "<li><a class=\"\" href=\"https://www.hanbit.co.kr/brand/brand_submain.html\">BRAND</a></li>\n",
       "<li><a class=\"\" href=\"https://www.hanbit.co.kr/channel/channel_submain.html\">Channel.H</a></li>\n",
       "<li><a class=\"\" href=\"https://www.hanbit.co.kr/store/store_submain.html\">STORE</a></li>\n",
       "<li><a class=\"\" href=\"https://www.hanbit.co.kr/support/help_info.html\">SUPPORT</a></li>\n",
       "<li><a class=\"\" href=\"https://www.hanbit.co.kr/event/current/current_event_list.html\">EVENT</a></li>\n",
       "<li><a class=\"\" href=\"https://www.hanbit.co.kr/publisher/foreignrights.html?lang=e\" target=\"_blank\">RIGHTS</a></li>\n",
       "<li class=\"search\" id=\"top_search\"><a href=\"javascript:;\" onclick=\"view_hover('main_search_area','','show'); $('#keyword_str').focus();\"><span>SEARCH</span></a></li>\n",
       "</ul>\n",
       "</div>\n",
       "<!-- //Menu -->\n",
       "<!-- lnb -->\n",
       "<div class=\"lnb\" style=\"top:92px;\">\n",
       "<div class=\"lnb_area\">\n",
       "<!-- BRAND -->\n",
       "<!--2015-10-07 비회원 장바구니 기능 추가되면서 회원 로그인시에만 보여짐 by 이용희-->\n",
       "<ul class=\"lnb_depth1_my1\">\n",
       "<li><a class=\"\" href=\"https://www.hanbit.co.kr/myhanbit/membership.html\">한빛멤버십</a></li><span>l</span>\n",
       "<li><a class=\"\" href=\"https://www.hanbit.co.kr/myhanbit/mileage_ecoin.html\">마일리지 / 한빛이코인</a></li>\n",
       "</ul>\n",
       "<ul class=\"lnb_depth1_my2\">\n",
       "<li><a class=\"\" href=\"https://www.hanbit.co.kr/myhanbit/wishlist.html\">위시리스트</a></li><span>l</span>\n",
       "<li><a class=\"\" href=\"https://www.hanbit.co.kr/myhanbit/cart.html\">장바구니</a></li><span>l</span>\n",
       "<li><a class=\"\" href=\"https://www.hanbit.co.kr/myhanbit/order_history_list.html\">주문목록</a></li><span>l</span>\n",
       "<li><a class=\"\" href=\"https://www.hanbit.co.kr/myhanbit/coupon.html\">My 쿠폰</a></li>\n",
       "</ul>\n",
       "<ul class=\"lnb_depth1_my3\">\n",
       "<li><a class=\"\" href=\"https://www.hanbit.co.kr/myhanbit/purchase_books.html\">My Book</a></li>\n",
       "<span>l</span>\n",
       "<li><a class=\"\" href=\"https://www.hanbit.co.kr/myhanbit/my_ebook_list.html\">My eBook</a></li>\n",
       "<span>l</span>\n",
       "<li><a class=\"\" href=\"https://www.hanbit.co.kr/myhanbit/my_class_list.html\">My 강의</a></li>\n",
       "</ul>\n",
       "</div>\n",
       "</div>\n",
       "<!--// lnb -->\n",
       "</div>\n",
       "</header>\n",
       "<!-- //header -->\n",
       "<!-- 메인 검색 및 카테고리 영역 -->\n",
       "<div class=\"fixed\" id=\"main_search_area\" style=\"display:none;\">\n",
       "<div class=\"msa_wrap\">\n",
       "<!-- 검색 -->\n",
       "<div class=\"msa_srch_wrap\">\n",
       "<form onsubmit=\"return false;\">\n",
       "<fieldset class=\"msa_srch_field\">\n",
       "<legend>한빛출판네트워크 검색</legend>\n",
       "<input accesskey=\"s\" autocomplete=\"off\" class=\"srch_keyword\" id=\"keyword_str\" name=\"keyword_str\" title=\"검색어\" type=\"text\" v-model=\"keyword\"/>\n",
       "<input class=\"srch_btn\" style=\"cursor:pointer;\" type=\"submit\"/>\n",
       "</fieldset>\n",
       "</form>\n",
       "</div>\n",
       "<!-- //검색 -->\n",
       "<!-- ① 인기검색어 -->\n",
       "<div class=\"msa_srch_polular\" v-if=\"showPopularKeyword === true\">\n",
       "<h2 class=\"tit\">인기 검색어 <span>(최근 1개월간)</span></h2>\n",
       "<div class=\"popula_box\">\n",
       "<ul class=\"left\">\n",
       "<li v-for=\"keyword in leftPopularKeywordList\">\n",
       "<a :class=\"keyword.bold\">\n",
       "                  {{ keyword.number }} {{ keyword.bookName }}\n",
       "              </a>\n",
       "</li>\n",
       "</ul>\n",
       "<ul class=\"right\">\n",
       "<li v-for=\"keyword in rightPopularKeywordList\">\n",
       "<a :class=\"keyword.bold\">\n",
       "                  {{ keyword.number }} {{ keyword.bookName }}\n",
       "              </a>\n",
       "</li>\n",
       "</ul>\n",
       "</div>\n",
       "</div>\n",
       "<!-- ① 인기검색어 -->\n",
       "<!-- ② 검색결과/검색서제스쳔 -->\n",
       "<div class=\"msa_srch_suggestion\" v-if=\"showPopularKeyword === false\">\n",
       "<div class=\"sugg_left\" v-if=\"bookList.length !== 0\">\n",
       "<h3 class=\"tit\">BOOK</h3>\n",
       "<ul class=\"books_list\">\n",
       "<li v-for=\"book in bookList\"><a><p v-html=\"book.name\"></p></a></li>\n",
       "</ul>\n",
       "</div>\n",
       "<div class=\"sugg_right\">\n",
       "<div class=\"sugg_book\" v-if=\"bookList.length !== 0\">\n",
       "<table class=\"sugg_book_detail\">\n",
       "<tr>\n",
       "<td class=\"cover\">\n",
       "<a>\n",
       "<img :src=\"bookSummary.imgUrl\" class=\"b_cover\"/>\n",
       "</a>\n",
       "</td>\n",
       "<td class=\"draft\">\n",
       "<a class=\"b_title\"><strong v-html=\"bookSummary.originName\"></strong></a>\n",
       "<p class=\"b_int\">\n",
       "                {{ bookSummary.author }} 지음<br/>\n",
       "                {{ bookSummary.publishingCompany }} | {{ bookSummary.date }}\n",
       "                </p>\n",
       "<p class=\"b_type\">\n",
       "<span>{{ bookSummary.bookType }}</span>\n",
       "</p>\n",
       "</td>\n",
       "</tr>\n",
       "</table>\n",
       "</div>\n",
       "<!--\n",
       "        <div class=\"sugg_edu\" v-if=\"educationList.length !== 0\">\n",
       "          <h3 class=\"tit\">EDUCATION</h3>\n",
       "          <ul class=\"edu_list\">\n",
       "            <li v-for=\"education in educationList\">&#149; <a @click=\"clickEducationKeyword(education)\"><span v-html=\"education.title\"></span></a></li>\n",
       "          </ul>\n",
       "        </div>\n",
       "        -->\n",
       "<div class=\"sugg_cont\" v-if=\"contentList.length !== 0\">\n",
       "<h3 class=\"tit\">CONTENTS</h3>\n",
       "<ul class=\"cont_list\">\n",
       "<li v-for=\"content in contentList\"> <a><span v-html=\"content.title\"></span></a></li>\n",
       "</ul>\n",
       "</div>\n",
       "</div>\n",
       "</div>\n",
       "<!-- //② 검색결과/검색서제스쳔 -->\n",
       "<!-- 닫기 -->\n",
       "<div class=\"msa_wrap_close\">\n",
       "<a href=\"javascript:;\" onclick=\"view_hover('main_search_area','','hide')\">닫기</a>\n",
       "</div>\n",
       "<!-- //닫기 -->\n",
       "</div>\n",
       "</div>\n",
       "<script type=\"text/javascript\">\n",
       "    \"use strict\";\n",
       "\n",
       "    var common_top_search_vue = new Vue({\n",
       "        el: '#main_search_area',\n",
       "        data: {\n",
       "            //검색엔진 URL\n",
       "            searchProxyURL: \"https://search.hanbit.co.kr\",\n",
       "            //인기 검색어 show 여부\n",
       "            showPopularKeyword: true,\n",
       "            //사용자 검색 키워드\n",
       "            keyword: '',\n",
       "            //인기 검색어 리스트\n",
       "            popularKeywordList: [],\n",
       "            // 인기 검색어 리스트 (왼쪽)\n",
       "            leftPopularKeywordList: [],\n",
       "            // 인기 검색어 리스트 (오른쪽)\n",
       "            rightPopularKeywordList: [],\n",
       "            // 자동완성에서의 책 리스트\n",
       "            bookList: [],\n",
       "            // 자동완성에서의 책 정보\n",
       "            bookSummary: {\n",
       "                'imgUrl': '',\n",
       "                'link': '',\n",
       "                'name': '',\n",
       "                'author': '',\n",
       "                'publishingCompany': '',\n",
       "                'date': '',\n",
       "                'bookType': ''\n",
       "            },\n",
       "            //에듀케이션 리스트\n",
       "            educationList: [],\n",
       "            //컨텐츠 리스트\n",
       "            contentList: []\n",
       "        },\n",
       "        created: function created() {\n",
       "            // 인기 검색어 조회\n",
       "            this.getPopularKeyword();\n",
       "        },\n",
       "        methods: {\n",
       "            /**\n",
       "             * 사용자가 검색 키워드를 입력할때 발생하는 이벤트\n",
       "             */\n",
       "            typeKeyword: function typeKeyword() {\n",
       "                var self = this;\n",
       "                var keyword = $(\"#keyword_str\").val();\n",
       "\n",
       "                if (keyword.length !== 0) {\n",
       "                    //자동완성어\n",
       "                    this.findAutocompleteResult(keyword);\n",
       "                } else {\n",
       "                    //인기검색어\n",
       "                    self.showPopularKeyword = true;\n",
       "                }\n",
       "            },\n",
       "\n",
       "            /**\n",
       "             * 인기검색어 조회\n",
       "             */\n",
       "            getPopularKeyword: function getPopularKeyword() {\n",
       "                var self = this;\n",
       "                this.popularKeywordList = [];\n",
       "                $.get(this.searchProxyURL + \"/querylog/popularKeyword\").done(function (data) {\n",
       "                    if (data != null) {\n",
       "                        self.drawPopularKeyword(data);\n",
       "                    }\n",
       "                });\n",
       "            },\n",
       "\n",
       "            /**\n",
       "             * 인기 검색어 그리기\n",
       "             */\n",
       "            drawPopularKeyword: function drawPopularKeyword(popularBooks) {\n",
       "                var self = this;\n",
       "                popularBooks.forEach(function (item) {\n",
       "                    var popularBook = {\n",
       "                        bookName: item.keyword\n",
       "                    };\n",
       "                    self.popularKeywordList.push(popularBook);\n",
       "                });\n",
       "                var number = 0;\n",
       "\n",
       "                for (var _iterator = this.popularKeywordList, _isArray = Array.isArray(_iterator), _i = 0, _iterator = _isArray ? _iterator : _iterator[Symbol.iterator]();;) {\n",
       "                    var _ref;\n",
       "\n",
       "                    if (_isArray) {\n",
       "                        if (_i >= _iterator.length) break;\n",
       "                        _ref = _iterator[_i++];\n",
       "                    } else {\n",
       "                        _i = _iterator.next();\n",
       "                        if (_i.done) break;\n",
       "                        _ref = _i.value;\n",
       "                    }\n",
       "\n",
       "                    var keyword = _ref;\n",
       "                    number = number + 1;\n",
       "                    keyword.number = number.toString().length < 2 ? \"0\" + number : number;\n",
       "\n",
       "                    if (number > 5) {\n",
       "                        keyword.direction = \"right\";\n",
       "                        self.rightPopularKeywordList.push(keyword);\n",
       "                    } else {\n",
       "                        keyword.direction = \"left\";\n",
       "\n",
       "                        if (number < 4) {\n",
       "                            keyword.bold = 'active';\n",
       "                        }\n",
       "\n",
       "                        self.leftPopularKeywordList.push(keyword);\n",
       "                    }\n",
       "                }\n",
       "            },\n",
       "\n",
       "            /**\n",
       "             * 자동완성 검색 결과\n",
       "             */\n",
       "            findAutocompleteResult: function findAutocompleteResult(keyword) {\n",
       "                var self = this;\n",
       "                var param = {\n",
       "                    q: keyword,\n",
       "                    types: \"education,book,contents\",\n",
       "                    fq: keyword\n",
       "                };\n",
       "                $.post(this.searchProxyURL + \"/autocomplete/search\", param).done(function (data) {\n",
       "                    if (data != null) {\n",
       "                        var bookResult = data.booksResults;\n",
       "                        self.changeBookList(keyword, bookResult);\n",
       "                        var contentResult = data.contentsResults;\n",
       "                        self.changeContentList(keyword, contentResult);\n",
       "                        var educationResult = data.educationResults;\n",
       "                        self.changeEducationList(keyword, educationResult);\n",
       "                    }\n",
       "                });\n",
       "                this.showPopularKeyword = false;\n",
       "            },\n",
       "\n",
       "            /**\n",
       "             * 자동완성어에서 BOOK 부분에서 마우스를 올렸을 시에 발생하는 이벤트\n",
       "             * @param bookId\n",
       "             */\n",
       "            mouseOverBook: function mouseOverBook(bookId) {\n",
       "                var currentBook = this.bookList.filter(function (book) {\n",
       "                    return book.id === bookId;\n",
       "                });\n",
       "                this.changeBookSummary(currentBook[0]);\n",
       "            },\n",
       "\n",
       "            /**\n",
       "             * 책 소개 변경\n",
       "             * @param book\n",
       "             */\n",
       "            changeBookSummary: function changeBookSummary(book) {\n",
       "                if (book !== {}) {\n",
       "                    this.bookSummary.name = book.name;\n",
       "                    this.bookSummary.originName = book.originName;\n",
       "                    this.bookSummary.author = book.author;\n",
       "                    this.bookSummary.bookType = book.bookType;\n",
       "                    this.bookSummary.imgUrl = book.imgUrl;\n",
       "                    this.bookSummary.link = book.link;\n",
       "                    this.bookSummary.publishingCompany = book.publishingCompany;\n",
       "                    this.bookSummary.date = book.date;\n",
       "                    this.bookSummary.bookType = book.bookType;\n",
       "                }\n",
       "            },\n",
       "\n",
       "            /**\n",
       "             * BOOK 리스트 변경\n",
       "             */\n",
       "            changeBookList: function changeBookList(keyword, bookResultList) {\n",
       "                var self = this;\n",
       "                self.bookList = [];\n",
       "                var index = 0;\n",
       "\n",
       "                if (bookResultList != null) {\n",
       "                    for (var _iterator2 = bookResultList, _isArray2 = Array.isArray(_iterator2), _i2 = 0, _iterator2 = _isArray2 ? _iterator2 : _iterator2[Symbol.iterator]();;) {\n",
       "                        var _ref2;\n",
       "\n",
       "                        if (_isArray2) {\n",
       "                            if (_i2 >= _iterator2.length) break;\n",
       "                            _ref2 = _iterator2[_i2++];\n",
       "                        } else {\n",
       "                            _i2 = _iterator2.next();\n",
       "                            if (_i2.done) break;\n",
       "                            _ref2 = _i2.value;\n",
       "                        }\n",
       "\n",
       "                        var result = _ref2;\n",
       "\n",
       "                        if (index < 10) {\n",
       "                            var book = {};\n",
       "                            book.id = result.code;\n",
       "                            book.originName = result.title;\n",
       "                            book.name = JSON.parse(JSON.stringify(self.replaceHighlightWord(result.title, keyword)));\n",
       "                            book.link = result.code;\n",
       "                            book.imgUrl = self.getBookImageURL(result.code);\n",
       "                            book.author = result.author;\n",
       "                            book.publishingCompany = result.brand;\n",
       "                            book.date = result.pubDate;\n",
       "                            book.bookType = result.bookType;\n",
       "                            self.bookList.push(book); //책 미리보기 변경\n",
       "\n",
       "                            self.changeBookSummary(self.bookList[0]);\n",
       "                        }\n",
       "                    }\n",
       "                } else {\n",
       "                    self.initBookSummary();\n",
       "                }\n",
       "            },\n",
       "\n",
       "            /**\n",
       "             * 책 이미지 주소 가져오기\n",
       "             */\n",
       "            getBookImageURL: function getBookImageURL(bookCode) {\n",
       "                var imgURL;\n",
       "\n",
       "                if (bookCode.substr(0, 1) === \"E\") {\n",
       "                    imgURL = '/data/ebook/' + bookCode + '_m.jpg';\n",
       "                } else {\n",
       "                    imgURL = '/data/books/' + bookCode + \"_m.jpg\";\n",
       "                }\n",
       "\n",
       "                return imgURL;\n",
       "            },\n",
       "\n",
       "            /**\n",
       "             * 검색 결과가 없을 경우 책 미리보기 초기화\n",
       "             */\n",
       "            initBookSummary: function initBookSummary() {\n",
       "                this.bookSummary = {\n",
       "                    'imgUrl': '',\n",
       "                    'link': '',\n",
       "                    'name': '',\n",
       "                    'author': '',\n",
       "                    'publishingCompany': '',\n",
       "                    'date': '',\n",
       "                    'bookType': ''\n",
       "                };\n",
       "            },\n",
       "\n",
       "            /**\n",
       "             * education 리스트 변경\n",
       "             */\n",
       "            changeEducationList: function changeEducationList(keyword, educationResultList) {\n",
       "                var self = this;\n",
       "                self.educationList = [];\n",
       "                var index = 0;\n",
       "\n",
       "                if (educationResultList != null) {\n",
       "                    for (var _iterator3 = educationResultList, _isArray3 = Array.isArray(_iterator3), _i3 = 0, _iterator3 = _isArray3 ? _iterator3 : _iterator3[Symbol.iterator]();;) {\n",
       "                        var _ref3;\n",
       "\n",
       "                        if (_isArray3) {\n",
       "                            if (_i3 >= _iterator3.length) break;\n",
       "                            _ref3 = _iterator3[_i3++];\n",
       "                        } else {\n",
       "                            _i3 = _iterator3.next();\n",
       "                            if (_i3.done) break;\n",
       "                            _ref3 = _i3.value;\n",
       "                        }\n",
       "\n",
       "                        var result = _ref3;\n",
       "\n",
       "                        if (index < 3) {\n",
       "                            var content = {};\n",
       "                            content.title = JSON.parse(JSON.stringify(self.replaceHighlightWord(result.title, keyword)));\n",
       "                            content.link = result.code;\n",
       "                            self.educationList.push(content);\n",
       "                            index = index + 1;\n",
       "                        }\n",
       "                    }\n",
       "                }\n",
       "            },\n",
       "\n",
       "            /**\n",
       "             * contents 리스트 변경\n",
       "             */\n",
       "            changeContentList: function changeContentList(keyword, contentResult) {\n",
       "                var self = this;\n",
       "                self.contentList = [];\n",
       "                var index = 0;\n",
       "\n",
       "                if (contentResult != null) {\n",
       "                    for (var _iterator4 = contentResult, _isArray4 = Array.isArray(_iterator4), _i4 = 0, _iterator4 = _isArray4 ? _iterator4 : _iterator4[Symbol.iterator]();;) {\n",
       "                        var _ref4;\n",
       "\n",
       "                        if (_isArray4) {\n",
       "                            if (_i4 >= _iterator4.length) break;\n",
       "                            _ref4 = _iterator4[_i4++];\n",
       "                        } else {\n",
       "                            _i4 = _iterator4.next();\n",
       "                            if (_i4.done) break;\n",
       "                            _ref4 = _i4.value;\n",
       "                        }\n",
       "\n",
       "                        var result = _ref4;\n",
       "\n",
       "                        if (index < 7) {\n",
       "                            var content = {};\n",
       "                            content.title = JSON.parse(JSON.stringify(self.replaceHighlightWord(result.title, keyword)));\n",
       "                            content.link = result.code;\n",
       "                            self.contentList.push(content);\n",
       "                            index = index + 1;\n",
       "                        }\n",
       "                    }\n",
       "                }\n",
       "            },\n",
       "\n",
       "            /**\n",
       "             * 하이라이트 표시\n",
       "             */\n",
       "            replaceHighlightWord: function replaceHighlightWord(str, highlightKeyword) {\n",
       "                var replaceHighlightKeyword = highlightKeyword.replace(/[^a-z0-9가-힣_ ]/gi, '');\n",
       "                var regEx = new RegExp(replaceHighlightKeyword, \"gi\");\n",
       "                str = str.replace(regEx, function (a) {\n",
       "                    return '<span class=\"keysel\">' + a + '</span>';\n",
       "                });\n",
       "                return str;\n",
       "            },\n",
       "\n",
       "            /**\n",
       "             * 검색 버튼 클릭 시\n",
       "             * @param e\n",
       "             */\n",
       "            clickSearch: function clickSearch(e) {\n",
       "                if (!this.keyword || this.keyword.length === 0) {\n",
       "                    alert(\"검색어를 입력하세요\");\n",
       "                    $(\"#keyword_str\").focus();\n",
       "                    e.preventDefault();\n",
       "                } else {\n",
       "                    location.href = \"/search/search_list.html?keyword=\" + this.keyword;\n",
       "                }\n",
       "            },\n",
       "\n",
       "            /**\n",
       "             * 인기 검색어 클릭시\n",
       "             * @param book\n",
       "             */\n",
       "            clickPopularKeyword: function clickPopularKeyword(book) {\n",
       "                var searchKeyword = book.bookName;\n",
       "                location.href = \"/search/search_list.html?keyword=\" + searchKeyword;\n",
       "            },\n",
       "\n",
       "            /**\n",
       "             * 책 검색어 클릭시 책 상세로 이동\n",
       "             * @param book\n",
       "             */\n",
       "            clickBookKeyword: function clickBookKeyword(book) {\n",
       "                location.href = \"/store/books/look.php?p_code=\" + book.link;\n",
       "            },\n",
       "\n",
       "            /**\n",
       "             * 교육 클릭시 교육 상세로 이동\n",
       "             * @param education\n",
       "             */\n",
       "            clickEducationKeyword: function clickEducationKeyword(education) {\n",
       "                location.href = \"/store/education/edu_view.html?p_code=\" + education.link;\n",
       "            },\n",
       "\n",
       "            /**\n",
       "             * 컨텐츠 클릭시 컨텐츠 상세로 이동\n",
       "             * @param contents\n",
       "             */\n",
       "            clickContentKeyword: function clickContentKeyword(content) {\n",
       "                location.href = \"/channel/category/category_view.html?cms_code=\" + content.link;\n",
       "            }\n",
       "        }\n",
       "    });\n",
       "</script>\n",
       "<!-- //메인 검색 및 카테고리 영역 -->\n",
       "<!-- Contents -->\n",
       "<div id=\"container\">\n",
       "<div class=\"myhanbit_wrap\">\n",
       "<!-- 회원등급 -->\n",
       "<div class=\"sm_myinfo\">\n",
       "<div class=\"my_rating\">\n",
       "<div class=\"icon\">\n",
       "<img alt=\"\" src=\"https://www.hanbit.co.kr/images/myhanbit/rating_icon1.png\"/>\n",
       "</div>\n",
       "<p>(임지현)님의<br/>회원 등급은 <span>일반</span> 입니다.</p>\n",
       "</div>\n",
       "</div>\n",
       "<!-- //회원등급 -->\n",
       "<!-- 마일리지/이코인 -->\n",
       "<div class=\"sm_mymileage\">\n",
       "<dl class=\"mileage_section1\">\n",
       "<dt>마일리지</dt>\n",
       "<dd><span>2,000</span> 점</dd>\n",
       "</dl>\n",
       "<dl class=\"mileage_section2\">\n",
       "<dt>한빛이코인</dt>\n",
       "<dd><span>0</span> 원</dd>\n",
       "</dl>\n",
       "</div>\n",
       "<!-- //마일리지/이코인 -->\n",
       "<!-- 최근 구매이력 -->\n",
       "<div class=\"sm_myorder\">\n",
       "<p class=\"tit\">최근 구매이력</p>\n",
       "<table border=\"0\" cellspacing=\"0\" class=\"tbl_type_list\" summary=\"최근 3개월 활동 내역 테이블\">\n",
       "<caption>최근 3개월 활동 내역</caption>\n",
       "<colgroup>\n",
       "<col width=\"110px\"/>\n",
       "<col width=\"\"/>\n",
       "<col width=\"120px\"/>\n",
       "</colgroup>\n",
       "<thead>\n",
       "<tr>\n",
       "<th scope=\"col\">주문일자</th>\n",
       "<th scope=\"col\">상품명</th>\n",
       "<th class=\"last\" scope=\"col\">주문금액</th>\n",
       "</tr>\n",
       "</thead>\n",
       "<tbody>\n",
       "</tbody>\n",
       "</table>\n",
       "</div>\n",
       "<!-- //최근 구매이력 -->\n",
       "<!-- My Book -->\n",
       "<div class=\"submain_mypagae_foot smf_l\">\n",
       "<p class=\"sm_tit\">My Book</p>\n",
       "<div class=\"smf_nodata\">리스트가 없습니다.</div>\n",
       "</div>\n",
       "<!-- //My Book -->\n",
       "<!-- My eBook -->\n",
       "<div class=\"submain_mypagae_foot smf_c\">\n",
       "<p class=\"sm_tit\">My eBook</p>\n",
       "<div class=\"smf_nodata\">리스트가 없습니다.</div>\n",
       "</div>\n",
       "<!-- //My eBook -->\n",
       "<!-- My 강의 -->\n",
       "<div class=\"submain_mypagae_foot smf_r\">\n",
       "<p class=\"sm_tit\">My 강의</p>\n",
       "<div class=\"smf_nodata\">리스트가 없습니다.</div>\n",
       "</div>\n",
       "<!-- //My 강의 -->\n",
       "</div>\n",
       "</div>\n",
       "<!-- //Contents -->\n",
       "<!-- Footer -->\n",
       "<footer>\n",
       "<!-- 공지사항 -->\n",
       "<div class=\"foot_notice\" style=\"height:6px;\"></div> <!-- //공지사항 -->\n",
       "<div class=\"foot_contents\">\n",
       "<!-- 하단 메뉴 -->\n",
       "<div class=\"foot_menu\">\n",
       "<!-- added by coffin -->\n",
       "<ul>\n",
       "<li><a href=\"https://www.hanbit.co.kr/publisher/index.html\" target=\"_blank\">회사소개</a>(<a href=\"https://www.hanbit.co.kr/publisher/index.html\" target=\"_blank\">KOR</a> | <a href=\"https://www.hanbit.co.kr/publisher/index.html?lang=e\" target=\"_blank\">ENG</a>)  <a href=\"https://www.hanbit.co.kr/publisher/contact.html?lang=k\" target=\"_blank\">약도</a></li>\n",
       "<li><a href=\"https://www.hanbit.co.kr/publisher/write.html\" target=\"_blank\">기획 및 원고 모집</a></li>\n",
       "<li><a href=\"https://www.hanbit.co.kr/publisher/career.html\" target=\"_blank\">채용</a>  입사지원 <a href=\"mailto:jobs@hanbit.co.kr\">jobs@hanbit.co.kr</a></li>\n",
       "<li><a href=\"https://www.hanbit.co.kr/publisher/foreignrights.html\" target=\"_blank\">FOREIGN RIGHTS</a></li>\n",
       "<li><a href=\"https://www.hanbit.co.kr/member/use_agreement.html\">이용약관</a>  <a href=\"https://www.hanbit.co.kr/member/privacy_policy.html\"><strong>개인정보처리방침</strong></a></li>\n",
       "<li><a href=\"https://www.hanbit.co.kr/sitemap/sitemap.html\">사이트맵</a></li>\n",
       "</ul>\n",
       "</div>\n",
       "<!-- //하단 메뉴 -->\n",
       "<!-- SNS -->\n",
       "<div class=\"foot_sns\">\n",
       "<!-- 데브레터 구독하기 -->\n",
       "<div class=\"devletter_contet\">\n",
       "<div class=\"devletter_sub\">\n",
       "<span class=\"dev_header_img\">데브레터 구독하기</span><a class=\"dev_sit_a\" href=\"/devletter/\" target=\"_blank\"><span class=\"dev_site_img\">데브레터 보러가기</span></a>\n",
       "</div>\n",
       "<form action=\"/devletter/dev_process.php\" class=\"subscribe_form\" method=\"post\">\n",
       "<fieldset class=\"subscribe_fiel\">\n",
       "<legend>구독서비스</legend>\n",
       "<input name=\"user_email\" placeholder=\"Your Email Address\" type=\"text\"/>\n",
       "<button class=\"sub_btn\" type=\"submit\"><span>구독</span></button>\n",
       "</fieldset>\n",
       "</form>\n",
       "<div class=\"main_foot_sns\">\n",
       "<ul>\n",
       "<li class=\"main_foot_facebook\"><a href=\"https://www.facebook.com/hanbitmedia\" target=\"_blank\"><span>페이스북</span></a></li>\n",
       "<li class=\"main_foot_youtube\"><a href=\"https://www.youtube.com/한빛TV\" target=\"_blank\"><span>유튜브</span></a></li>\n",
       "<li class=\"main_foot_bolg\"><a href=\"http://blog.hanbit.co.kr/\" target=\"_blank\"><span>블로그</span></a></li>\n",
       "<li class=\"main_foot_naverpost\"><a href=\"https://m.post.naver.com/hanbitstory\" target=\"_blank\"><span>네이버포스트</span></a></li>\n",
       "</ul>\n",
       "</div>\n",
       "</div>\n",
       "<!-- 데브레터 구독하기 //-->\n",
       "</div>\n",
       "<!-- //SNS -->\n",
       "<!-- 한빛 정보 -->\n",
       "<div class=\"foot_about\">\n",
       "<div class=\"foot_about_area\">\n",
       "<p><strong>한빛미디어㈜  한빛아카데미㈜  한빛비즈㈜</strong></p>\n",
       "<p>(03785) 서울 서대문구 연희로2길 62</p>\n",
       "<p>EMAIL : support@hanbit.co.kr</p>\n",
       "<p>대표이사 : 김태헌</p>\n",
       "<p>사업자등록번호 : 220-81-05665 <a href=\"http://www.ftc.go.kr/bizCommPop.do?wrkr_no=2208105665\" target=\"_blank\">[확인]</a></p>\n",
       "<p>통신판매업신고 : 2017-서울서대문-0671호</p>\n",
       "<p>호스팅제공자 : (주)누리호스팅</p>\n",
       "</div>\n",
       "</div>\n",
       "<!-- //한빛 정보 -->\n",
       "</div>\n",
       "<div class=\"copyright\">©1993-2022 Hanbit Publishing Network, Inc. All rights reserved.</div>\n",
       "</footer>\n",
       "<!-- //푸터 -->\n",
       "<div class=\"foot_download_btn\"><a href=\"https://www.hanbit.co.kr/support/supplement_list.html\">자료실</a></div>\n",
       "<!-- 공통 JS 호출 -->\n",
       "<script src=\"/js/common.js\" type=\"text/javascript\"></script>\n",
       "<!-- //공통 JS 호출 -->\n",
       "</body>\n",
       "</html>"
      ]
     },
     "execution_count": 329,
     "metadata": {},
     "output_type": "execute_result"
    }
   ],
   "source": [
    "soup= BeautifulSoup(html,'lxml')\n",
    "soup"
   ]
  },
  {
   "cell_type": "code",
   "execution_count": 330,
   "id": "d9569a4e-6de2-4039-aed3-c64566fcc631",
   "metadata": {},
   "outputs": [],
   "source": [
    "# 마일리지 2000을 가져오기"
   ]
  },
  {
   "cell_type": "code",
   "execution_count": 331,
   "id": "570beb96-7708-492e-9b04-0b04a6bdf512",
   "metadata": {},
   "outputs": [
    {
     "data": {
      "text/plain": [
       "'2,000'"
      ]
     },
     "execution_count": 331,
     "metadata": {},
     "output_type": "execute_result"
    }
   ],
   "source": [
    "#container > div > div.sm_mymileage > dl.mileage_section1 > dd > span\n",
    "soup.select(\"#container > div > div.sm_mymileage > dl.mileage_section1 > dd > span\")\n",
    "\n",
    "# 태그는 뺴고 2000만 뽑고싶음\n",
    "soup.select_one(\"#container > div > div.sm_mymileage > dl.mileage_section1 > dd > span\").text"
   ]
  },
  {
   "cell_type": "code",
   "execution_count": 332,
   "id": "0d942b8e-7a71-4ff7-9b2b-89a943307aca",
   "metadata": {},
   "outputs": [],
   "source": [
    "#select: 보이는 족족 다 가져옴\n",
    "#select_one: 안에 있는 것 1개만 가져옴"
   ]
  },
  {
   "cell_type": "code",
   "execution_count": 341,
   "id": "550ef1bc-66e5-45ae-9a00-e53c1e435188",
   "metadata": {},
   "outputs": [],
   "source": [
    "#text, string, get_text() 3함수 다 됨\n",
    "mileage=soup.select_one(\"#container > div > div.sm_mymileage > dl.mileage_section1 > dd > span\").string"
   ]
  },
  {
   "cell_type": "code",
   "execution_count": 334,
   "id": "0f847cb0-ff70-42f2-a134-4fe2399be547",
   "metadata": {},
   "outputs": [
    {
     "data": {
      "text/plain": [
       "'2,000'"
      ]
     },
     "execution_count": 334,
     "metadata": {},
     "output_type": "execute_result"
    }
   ],
   "source": [
    "#soup.select_one(\" div > div.sm_mymileage > dl.mileage_section1 > dd > span\").get_text()\n",
    "soup.select(\" div > div.sm_mymileage > dl.mileage_section1 > dd > span\")[0].get_text()"
   ]
  },
  {
   "cell_type": "code",
   "execution_count": 338,
   "id": "0ced17ab-ed29-452c-b9f8-5b9fb328bf14",
   "metadata": {},
   "outputs": [
    {
     "data": {
      "text/plain": [
       "'0 원'"
      ]
     },
     "execution_count": 338,
     "metadata": {},
     "output_type": "execute_result"
    }
   ],
   "source": [
    "ecoin= soup.select_one(\"dl.mileage_section2 >dd\").text\n",
    "ecoin"
   ]
  },
  {
   "cell_type": "code",
   "execution_count": 340,
   "id": "8e6a2f47-5789-462c-b71d-5e16563305ae",
   "metadata": {},
   "outputs": [
    {
     "name": "stdout",
     "output_type": "stream",
     "text": [
      "마일리지:2,000\n",
      "이코인:0 원\n"
     ]
    }
   ],
   "source": [
    "print(\"마일리지:\" + mileage)\n",
    "print(\"이코인:\" + ecoin)"
   ]
  },
  {
   "cell_type": "code",
   "execution_count": null,
   "id": "56b0a527-4406-4ab1-adbe-3719c1ab4f98",
   "metadata": {},
   "outputs": [],
   "source": [
    "------------------------------------------------------------------------------"
   ]
  },
  {
   "cell_type": "markdown",
   "id": "a2d47b4d-57d3-49d1-a7e8-e8db752af0a5",
   "metadata": {},
   "source": [
    "# 날씨 정보: json형식 가져오기 :"
   ]
  },
  {
   "cell_type": "markdown",
   "id": "9c67e291-b851-49b7-84ec-a34928995d8c",
   "metadata": {},
   "source": [
    "# api"
   ]
  },
  {
   "cell_type": "code",
   "execution_count": 346,
   "id": "56991f4a-2533-4bc8-b317-32e6c84314c4",
   "metadata": {},
   "outputs": [],
   "source": [
    "import requests\n",
    "import json"
   ]
  },
  {
   "cell_type": "code",
   "execution_count": 347,
   "id": "e0edeb7a-cea5-4f6d-833a-b92118aea9ff",
   "metadata": {},
   "outputs": [],
   "source": [
    "# 딕셔너리 안에 딕셔너리\n",
    "# json 형식은 key: value 형식"
   ]
  },
  {
   "cell_type": "code",
   "execution_count": 349,
   "id": "5471794a-54a4-4552-ba17-a801634868bd",
   "metadata": {},
   "outputs": [],
   "source": [
    "apikey = \"28ed8b8682f52838a0a86e00b8578fcd\" \n",
    "api = \"http://api.openweathermap.org/data/2.5/weather?q={city}&APPID={key}\" \n",
    "# city변수, key변수를 받아서"
   ]
  },
  {
   "cell_type": "code",
   "execution_count": 365,
   "id": "3da60458-19f7-4e71-aeb6-4dcf1b42553f",
   "metadata": {},
   "outputs": [],
   "source": [
    "cities = ['Seoul,KR', 'New York, US']"
   ]
  },
  {
   "cell_type": "code",
   "execution_count": 366,
   "id": "1c9a17c9-209c-41b0-aa63-c120a164c9ce",
   "metadata": {},
   "outputs": [],
   "source": [
    "# K = 화씨\n",
    "k2c= lambda k : round(k - 273.15 , 1)"
   ]
  },
  {
   "cell_type": "code",
   "execution_count": 367,
   "id": "bf56467c-c887-4202-af3a-2d8f981ceac8",
   "metadata": {},
   "outputs": [
    {
     "name": "stdout",
     "output_type": "stream",
     "text": [
      "{'coord': {'lon': 126.9778, 'lat': 37.5683}, 'weather': [{'id': 801, 'main': 'Clouds', 'description': 'few clouds', 'icon': '02d'}], 'base': 'stations', 'main': {'temp': 293.04, 'feels_like': 292.13, 'temp_min': 289.84, 'temp_max': 293.81, 'pressure': 1025, 'humidity': 40}, 'visibility': 10000, 'wind': {'speed': 1.54, 'deg': 250}, 'clouds': {'all': 20}, 'dt': 1666939065, 'sys': {'type': 1, 'id': 8105, 'country': 'KR', 'sunrise': 1666907537, 'sunset': 1666946359}, 'timezone': 32400, 'id': 1835848, 'name': 'Seoul', 'cod': 200}\n",
      "\n",
      "+ 도시 = Seoul\n",
      "| 날씨 = few clouds\n",
      "| 최저 기온 = 16.7\n",
      "| 최고 기온 = 20.7\n",
      "| 습도 = 40\n",
      "| 기압 = 1025\n",
      "| 풍향 = 250\n",
      "| 풍속 = 1.54\n",
      "\n",
      "{'coord': {'lon': -74.006, 'lat': 40.7143}, 'weather': [{'id': 800, 'main': 'Clear', 'description': 'clear sky', 'icon': '01n'}], 'base': 'stations', 'main': {'temp': 282.82, 'feels_like': 279.47, 'temp_min': 279.13, 'temp_max': 284.81, 'pressure': 1029, 'humidity': 59}, 'visibility': 10000, 'wind': {'speed': 7.72, 'deg': 360}, 'clouds': {'all': 0}, 'dt': 1666938906, 'sys': {'type': 2, 'id': 2039034, 'country': 'US', 'sunrise': 1666956094, 'sunset': 1666994270}, 'timezone': -14400, 'id': 5128581, 'name': 'New York', 'cod': 200}\n",
      "\n",
      "+ 도시 = New York\n",
      "| 날씨 = clear sky\n",
      "| 최저 기온 = 6.0\n",
      "| 최고 기온 = 11.7\n",
      "| 습도 = 59\n",
      "| 기압 = 1029\n",
      "| 풍향 = 360\n",
      "| 풍속 = 7.72\n",
      "\n"
     ]
    }
   ],
   "source": [
    "for city in cities:\n",
    "    url = api.format(city = city, key = apikey)\n",
    "    req = requests.get(url)\n",
    "    # 위에 2줄 url. req가 api를 써서 정보를 받아오는 법임\n",
    "    data = json.loads(req.text)   #결과를 json형식으로 변환하기(읽기)\n",
    "    print(data)    #data는 json형식으로 바뀜\n",
    "    print()\n",
    "    print(\"+ 도시 =\", data[\"name\"])\n",
    "    print(\"| 날씨 =\", data[\"weather\"][0][\"description\"])\n",
    "    print(\"| 최저 기온 =\", k2c(data[\"main\"][\"temp_min\"]))\n",
    "    print(\"| 최고 기온 =\", k2c(data[\"main\"][\"temp_max\"]))\n",
    "    print(\"| 습도 =\", data[\"main\"][\"humidity\"])\n",
    "    print(\"| 기압 =\", data[\"main\"][\"pressure\"])\n",
    "    print(\"| 풍향 =\", data[\"wind\"][\"deg\"])\n",
    "    print(\"| 풍속 =\", data[\"wind\"][\"speed\"])\n",
    "    print(\"\") "
   ]
  },
  {
   "cell_type": "code",
   "execution_count": null,
   "id": "9a5f8b06-654a-409a-b804-953ed4993b85",
   "metadata": {},
   "outputs": [],
   "source": []
  },
  {
   "cell_type": "code",
   "execution_count": null,
   "id": "17506f42-af65-470b-9396-9c9bb50c4ddc",
   "metadata": {},
   "outputs": [],
   "source": []
  },
  {
   "cell_type": "code",
   "execution_count": null,
   "id": "9bff700f-10c0-48af-8de3-ccd04d85039f",
   "metadata": {},
   "outputs": [],
   "source": []
  },
  {
   "cell_type": "code",
   "execution_count": null,
   "id": "f087afd4-b464-4d3e-b4bc-93e7c9d1828e",
   "metadata": {},
   "outputs": [],
   "source": []
  },
  {
   "cell_type": "code",
   "execution_count": null,
   "id": "cbc0d5bf-357a-46c9-bddc-cf1f21845bd1",
   "metadata": {},
   "outputs": [],
   "source": [
    "# 작업스케줄러 (window)\n",
    "- 언제나 같은 시간에 작업을 실행하고싶으면\n",
    "- 윈도우에 시간을 설정해서\n",
    "- 시간마다 컴퓨터가 알아서 실행을 시켜주는 기능"
   ]
  },
  {
   "cell_type": "code",
   "execution_count": null,
   "id": "d60f1771-8f05-4534-9bb0-7a454720e3b3",
   "metadata": {},
   "outputs": [],
   "source": [
    "(리눅스)- 크론탭\n",
    "(파이썬)- \n",
    "- 파이썬이 계속 작동 시켜야함"
   ]
  },
  {
   "cell_type": "code",
   "execution_count": null,
   "id": "a3ff24ec-f68b-443c-900c-237133d2500c",
   "metadata": {},
   "outputs": [],
   "source": []
  }
 ],
 "metadata": {
  "kernelspec": {
   "display_name": "Python 3 (ipykernel)",
   "language": "python",
   "name": "python3"
  },
  "language_info": {
   "codemirror_mode": {
    "name": "ipython",
    "version": 3
   },
   "file_extension": ".py",
   "mimetype": "text/x-python",
   "name": "python",
   "nbconvert_exporter": "python",
   "pygments_lexer": "ipython3",
   "version": "3.9.12"
  }
 },
 "nbformat": 4,
 "nbformat_minor": 5
}
