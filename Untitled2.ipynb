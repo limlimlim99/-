{
 "cells": [
  {
   "cell_type": "code",
   "execution_count": 1,
   "metadata": {
    "executionInfo": {
     "elapsed": 2,
     "status": "ok",
     "timestamp": 1662354902433,
     "user": {
      "displayName": "임지현",
      "userId": "09385173506296590239"
     },
     "user_tz": -540
    },
    "id": "EHMp6Qv7EdFC"
   },
   "outputs": [],
   "source": [
    ".\n",
    "def twice(a):\n",
    "  b=2*a\n",
    "  return b\n",
    "\n",
    "  def twice(a):\n",
    "    return 2*a"
   ]
  },
  {
   "cell_type": "code",
   "execution_count": 2,
   "metadata": {
    "executionInfo": {
     "elapsed": 428,
     "status": "ok",
     "timestamp": 1662354930347,
     "user": {
      "displayName": "임지현",
      "userId": "09385173506296590239"
     },
     "user_tz": -540
    },
    "id": "_JnilDlJEfq0"
   },
   "outputs": [],
   "source": [
    "def add():\n",
    "  a=10\n",
    "  b=20\n",
    "  return a+b"
   ]
  },
  {
   "cell_type": "code",
   "execution_count": 3,
   "metadata": {
    "colab": {
     "base_uri": "https://localhost:8080/"
    },
    "executionInfo": {
     "elapsed": 429,
     "status": "ok",
     "timestamp": 1662354938045,
     "user": {
      "displayName": "임지현",
      "userId": "09385173506296590239"
     },
     "user_tz": -540
    },
    "id": "2srOOcrpEftr",
    "outputId": "47f649fe-9181-4d1a-f929-a49b93f35462"
   },
   "outputs": [
    {
     "data": {
      "text/plain": [
       "30"
      ]
     },
     "execution_count": 3,
     "metadata": {},
     "output_type": "execute_result"
    }
   ],
   "source": [
    "add()"
   ]
  },
  {
   "cell_type": "code",
   "execution_count": 6,
   "metadata": {
    "executionInfo": {
     "elapsed": 1,
     "status": "ok",
     "timestamp": 1662355164936,
     "user": {
      "displayName": "임지현",
      "userId": "09385173506296590239"
     },
     "user_tz": -540
    },
    "id": "aS6hNqdJEfwj"
   },
   "outputs": [],
   "source": [
    "#홀수이면 2배, 짝수이면 나누기 2를 해서 리턴하는 함수\n",
    "def odd_even(a):\n",
    "  if a%2==1:\n",
    "    return a*2\n",
    "  else:\n",
    "    return a/2"
   ]
  },
  {
   "cell_type": "code",
   "execution_count": 7,
   "metadata": {
    "colab": {
     "base_uri": "https://localhost:8080/"
    },
    "executionInfo": {
     "elapsed": 2,
     "status": "ok",
     "timestamp": 1662355178128,
     "user": {
      "displayName": "임지현",
      "userId": "09385173506296590239"
     },
     "user_tz": -540
    },
    "id": "gxSQ-npgEfzL",
    "outputId": "d6af646b-d165-44b7-fc10-75ec27fae6cc"
   },
   "outputs": [
    {
     "data": {
      "text/plain": [
       "6"
      ]
     },
     "execution_count": 7,
     "metadata": {},
     "output_type": "execute_result"
    }
   ],
   "source": [
    "odd_even(3)"
   ]
  },
  {
   "cell_type": "code",
   "execution_count": null,
   "metadata": {
    "id": "HHk6Hbd4Ef17"
   },
   "outputs": [],
   "source": [
    "#리턴값이 두개 이상일 수 있다"
   ]
  },
  {
   "cell_type": "code",
   "execution_count": 10,
   "metadata": {
    "executionInfo": {
     "elapsed": 1,
     "status": "ok",
     "timestamp": 1662355306873,
     "user": {
      "displayName": "임지현",
      "userId": "09385173506296590239"
     },
     "user_tz": -540
    },
    "id": "1T4jEX0UEf4r"
   },
   "outputs": [],
   "source": [
    "def add():\n",
    "  a=10\n",
    "  b=20\n",
    "  return a+b, a-b"
   ]
  },
  {
   "cell_type": "code",
   "execution_count": 11,
   "metadata": {
    "colab": {
     "base_uri": "https://localhost:8080/"
    },
    "executionInfo": {
     "elapsed": 2,
     "status": "ok",
     "timestamp": 1662355312447,
     "user": {
      "displayName": "임지현",
      "userId": "09385173506296590239"
     },
     "user_tz": -540
    },
    "id": "fu0WAcejEf7T",
    "outputId": "abeed27e-c040-4738-9d93-c04f497dc451"
   },
   "outputs": [
    {
     "data": {
      "text/plain": [
       "(30, -10)"
      ]
     },
     "execution_count": 11,
     "metadata": {},
     "output_type": "execute_result"
    }
   ],
   "source": [
    "add()"
   ]
  },
  {
   "cell_type": "code",
   "execution_count": 12,
   "metadata": {
    "executionInfo": {
     "elapsed": 2,
     "status": "ok",
     "timestamp": 1662355321509,
     "user": {
      "displayName": "임지현",
      "userId": "09385173506296590239"
     },
     "user_tz": -540
    },
    "id": "-ElJLeGdEf-E"
   },
   "outputs": [],
   "source": [
    "a,b=add()"
   ]
  },
  {
   "cell_type": "code",
   "execution_count": 14,
   "metadata": {
    "colab": {
     "base_uri": "https://localhost:8080/"
    },
    "executionInfo": {
     "elapsed": 1,
     "status": "ok",
     "timestamp": 1662355337628,
     "user": {
      "displayName": "임지현",
      "userId": "09385173506296590239"
     },
     "user_tz": -540
    },
    "id": "KInIEla0EgAz",
    "outputId": "a0679572-eb7f-46ea-dc66-dc223c9c9ffd"
   },
   "outputs": [
    {
     "data": {
      "text/plain": [
       "(30, -10)"
      ]
     },
     "execution_count": 14,
     "metadata": {},
     "output_type": "execute_result"
    }
   ],
   "source": [
    "a=add()\n",
    "a"
   ]
  },
  {
   "cell_type": "code",
   "execution_count": 16,
   "metadata": {
    "colab": {
     "base_uri": "https://localhost:8080/"
    },
    "executionInfo": {
     "elapsed": 1,
     "status": "ok",
     "timestamp": 1662355381711,
     "user": {
      "displayName": "임지현",
      "userId": "09385173506296590239"
     },
     "user_tz": -540
    },
    "id": "PZFGX_0EEgDi",
    "outputId": "1ca08f45-59d4-4c4b-f671-b71179f136c0"
   },
   "outputs": [
    {
     "name": "stdout",
     "output_type": "stream",
     "text": [
      "(30, -10)\n",
      "30\n",
      "-10\n"
     ]
    }
   ],
   "source": [
    "a=add()\n",
    "print(a)\n",
    "\n",
    "c,d=add()\n",
    "print(c)\n",
    "print(d)"
   ]
  },
  {
   "cell_type": "code",
   "execution_count": 17,
   "metadata": {
    "executionInfo": {
     "elapsed": 390,
     "status": "ok",
     "timestamp": 1662355423870,
     "user": {
      "displayName": "임지현",
      "userId": "09385173506296590239"
     },
     "user_tz": -540
    },
    "id": "vUDqxZHZGYoN"
   },
   "outputs": [],
   "source": [
    "#기본값(디폴트값)이 있는 경우\n"
   ]
  },
  {
   "cell_type": "code",
   "execution_count": 21,
   "metadata": {
    "executionInfo": {
     "elapsed": 2,
     "status": "ok",
     "timestamp": 1662355471757,
     "user": {
      "displayName": "임지현",
      "userId": "09385173506296590239"
     },
     "user_tz": -540
    },
    "id": "J4e5z71gGYq-"
   },
   "outputs": [],
   "source": [
    "def add(a,b,c=100):\n",
    "  result=a+b+c\n",
    "  return result"
   ]
  },
  {
   "cell_type": "code",
   "execution_count": 24,
   "metadata": {
    "colab": {
     "base_uri": "https://localhost:8080/"
    },
    "executionInfo": {
     "elapsed": 2,
     "status": "ok",
     "timestamp": 1662355534897,
     "user": {
      "displayName": "임지현",
      "userId": "09385173506296590239"
     },
     "user_tz": -540
    },
    "id": "7y6V5ivVGYts",
    "outputId": "a70e816c-b5dc-4789-bd07-27a851cb5184"
   },
   "outputs": [
    {
     "data": {
      "text/plain": [
       "103"
      ]
     },
     "execution_count": 24,
     "metadata": {},
     "output_type": "execute_result"
    }
   ],
   "source": [
    "add(1,2)"
   ]
  },
  {
   "cell_type": "code",
   "execution_count": 25,
   "metadata": {
    "colab": {
     "base_uri": "https://localhost:8080/"
    },
    "executionInfo": {
     "elapsed": 2,
     "status": "ok",
     "timestamp": 1662355552500,
     "user": {
      "displayName": "임지현",
      "userId": "09385173506296590239"
     },
     "user_tz": -540
    },
    "id": "YEimlKqbGYwb",
    "outputId": "817f61a2-b510-4627-fdb5-bf459f59422f"
   },
   "outputs": [
    {
     "data": {
      "text/plain": [
       "6"
      ]
     },
     "execution_count": 25,
     "metadata": {},
     "output_type": "execute_result"
    }
   ],
   "source": [
    "add(1,2,3)"
   ]
  },
  {
   "cell_type": "code",
   "execution_count": 26,
   "metadata": {
    "colab": {
     "base_uri": "https://localhost:8080/"
    },
    "executionInfo": {
     "elapsed": 3,
     "status": "ok",
     "timestamp": 1662355614476,
     "user": {
      "displayName": "임지현",
      "userId": "09385173506296590239"
     },
     "user_tz": -540
    },
    "id": "4z2V4hFFGYzL",
    "outputId": "358ab83e-f035-4e09-982b-03e7f2c9f14d"
   },
   "outputs": [
    {
     "data": {
      "text/plain": [
       "6"
      ]
     },
     "execution_count": 26,
     "metadata": {},
     "output_type": "execute_result"
    }
   ],
   "source": [
    "add(a=1,b=2,c=3)"
   ]
  },
  {
   "cell_type": "code",
   "execution_count": 27,
   "metadata": {
    "colab": {
     "base_uri": "https://localhost:8080/"
    },
    "executionInfo": {
     "elapsed": 429,
     "status": "ok",
     "timestamp": 1662355630131,
     "user": {
      "displayName": "임지현",
      "userId": "09385173506296590239"
     },
     "user_tz": -540
    },
    "id": "We4Jb7IBGY19",
    "outputId": "885a52ec-7285-42e1-e57a-a8c442fb9899"
   },
   "outputs": [
    {
     "data": {
      "text/plain": [
       "6"
      ]
     },
     "execution_count": 27,
     "metadata": {},
     "output_type": "execute_result"
    }
   ],
   "source": [
    "add(2,1,3)"
   ]
  },
  {
   "cell_type": "code",
   "execution_count": 29,
   "metadata": {
    "colab": {
     "base_uri": "https://localhost:8080/",
     "height": 137
    },
    "executionInfo": {
     "elapsed": 4,
     "status": "error",
     "timestamp": 1662355732680,
     "user": {
      "displayName": "임지현",
      "userId": "09385173506296590239"
     },
     "user_tz": -540
    },
    "id": "1IruDj2HGY4j",
    "outputId": "5627f456-5b50-4283-c391-f816636a5579"
   },
   "outputs": [
    {
     "ename": "SyntaxError",
     "evalue": "ignored",
     "output_type": "error",
     "traceback": [
      "\u001b[0;36m  File \u001b[0;32m\"<ipython-input-29-eb36c576a52c>\"\u001b[0;36m, line \u001b[0;32m1\u001b[0m\n\u001b[0;31m    def add(a,b=10,c):\u001b[0m\n\u001b[0m           ^\u001b[0m\n\u001b[0;31mSyntaxError\u001b[0m\u001b[0;31m:\u001b[0m non-default argument follows default argument\n"
     ]
    }
   ],
   "source": [
    "def add(a,b=10,c):     #디폴트값은 항상 맨 뒤에 둬야함\n",
    "  result=a+b+c\n",
    "  return result"
   ]
  },
  {
   "cell_type": "code",
   "execution_count": 45,
   "metadata": {
    "executionInfo": {
     "elapsed": 1,
     "status": "ok",
     "timestamp": 1662356156491,
     "user": {
      "displayName": "임지현",
      "userId": "09385173506296590239"
     },
     "user_tz": -540
    },
    "id": "Kf4SdfJxGY7b"
   },
   "outputs": [],
   "source": [
    "def add(*args):\n",
    "  sum=0\n",
    "  for i in args:\n",
    "    sum+=i\n",
    "\n",
    "  return sum\n"
   ]
  },
  {
   "cell_type": "code",
   "execution_count": 46,
   "metadata": {
    "colab": {
     "base_uri": "https://localhost:8080/"
    },
    "executionInfo": {
     "elapsed": 2,
     "status": "ok",
     "timestamp": 1662356158822,
     "user": {
      "displayName": "임지현",
      "userId": "09385173506296590239"
     },
     "user_tz": -540
    },
    "id": "iIjn0YfIGZIL",
    "outputId": "33e9bda9-c6dc-408e-842f-2a0360eb6907"
   },
   "outputs": [
    {
     "data": {
      "text/plain": [
       "10"
      ]
     },
     "execution_count": 46,
     "metadata": {},
     "output_type": "execute_result"
    }
   ],
   "source": [
    "add(1,2,3,4)"
   ]
  },
  {
   "cell_type": "code",
   "execution_count": null,
   "metadata": {
    "id": "f-YJnam6EgGK"
   },
   "outputs": [],
   "source": [
    "# 1부터 입력받은 수까지의 합"
   ]
  },
  {
   "cell_type": "code",
   "execution_count": 57,
   "metadata": {
    "executionInfo": {
     "elapsed": 401,
     "status": "ok",
     "timestamp": 1662356366451,
     "user": {
      "displayName": "임지현",
      "userId": "09385173506296590239"
     },
     "user_tz": -540
    },
    "id": "7SkQmU_SEgI7"
   },
   "outputs": [],
   "source": [
    "def add(a):\n",
    "  sum=0\n",
    "  for i in range(a,a+1):\n",
    "    sum+=i\n",
    "  return sum"
   ]
  },
  {
   "cell_type": "code",
   "execution_count": 59,
   "metadata": {
    "colab": {
     "base_uri": "https://localhost:8080/"
    },
    "executionInfo": {
     "elapsed": 2690,
     "status": "ok",
     "timestamp": 1662356472114,
     "user": {
      "displayName": "임지현",
      "userId": "09385173506296590239"
     },
     "user_tz": -540
    },
    "id": "qjkDvGU9JybU",
    "outputId": "eb41fde2-bb87-427d-face-f0e91497f520"
   },
   "outputs": [
    {
     "name": "stdout",
     "output_type": "stream",
     "text": [
      "숫자를 입력: 10\n",
      "55\n"
     ]
    }
   ],
   "source": [
    "num=int(input(\"숫자를 입력: \"))\n",
    "sum=0\n",
    "for i in range(num+1):    \n",
    "  sum+=i                     #i만큼씩\n",
    "print(sum)\n",
    "\n"
   ]
  },
  {
   "cell_type": "code",
   "execution_count": 65,
   "metadata": {
    "executionInfo": {
     "elapsed": 1,
     "status": "ok",
     "timestamp": 1662356630061,
     "user": {
      "displayName": "임지현",
      "userId": "09385173506296590239"
     },
     "user_tz": -540
    },
    "id": "gi746FvrKn1d"
   },
   "outputs": [],
   "source": [
    "def add(num):\n",
    "    sum=0\n",
    "    for i in range(num+1):    \n",
    "      sum+=i                  \n",
    "    return sum\n"
   ]
  },
  {
   "cell_type": "code",
   "execution_count": 66,
   "metadata": {
    "colab": {
     "base_uri": "https://localhost:8080/"
    },
    "executionInfo": {
     "elapsed": 2,
     "status": "ok",
     "timestamp": 1662356635012,
     "user": {
      "displayName": "임지현",
      "userId": "09385173506296590239"
     },
     "user_tz": -540
    },
    "id": "4M4966YVKr17",
    "outputId": "89434686-e6b2-40de-d027-610fd71cb664"
   },
   "outputs": [
    {
     "data": {
      "text/plain": [
       "55"
      ]
     },
     "execution_count": 66,
     "metadata": {},
     "output_type": "execute_result"
    }
   ],
   "source": [
    "add(10)"
   ]
  },
  {
   "cell_type": "code",
   "execution_count": 69,
   "metadata": {
    "colab": {
     "base_uri": "https://localhost:8080/"
    },
    "executionInfo": {
     "elapsed": 13486,
     "status": "ok",
     "timestamp": 1662356735176,
     "user": {
      "displayName": "임지현",
      "userId": "09385173506296590239"
     },
     "user_tz": -540
    },
    "id": "GPu79z5VLToV",
    "outputId": "86adccef-6a47-49a2-9168-fadf67fe88dc"
   },
   "outputs": [
    {
     "name": "stdout",
     "output_type": "stream",
     "text": [
      "1st5\n",
      "2nd4\n",
      "0\n"
     ]
    }
   ],
   "source": [
    "#두 수를 입력박아서 합은?\n",
    "a=int(input(\"1st\"))\n",
    "b=int(input(\"2nd\"))\n",
    "\n",
    "sum=0\n",
    "for i in range (a,b+1):\n",
    "    sum+=i\n",
    "print(sum)"
   ]
  },
  {
   "cell_type": "code",
   "execution_count": 70,
   "metadata": {
    "executionInfo": {
     "elapsed": 2,
     "status": "ok",
     "timestamp": 1662356776155,
     "user": {
      "displayName": "임지현",
      "userId": "09385173506296590239"
     },
     "user_tz": -540
    },
    "id": "oVNe-YSfLnDk"
   },
   "outputs": [],
   "source": [
    "def add(num):\n",
    "  sum=0\n",
    "  for i in range(num+1):\n",
    "    sum+=i\n",
    "    return sum"
   ]
  },
  {
   "cell_type": "code",
   "execution_count": 72,
   "metadata": {
    "executionInfo": {
     "elapsed": 2,
     "status": "ok",
     "timestamp": 1662356921924,
     "user": {
      "displayName": "임지현",
      "userId": "09385173506296590239"
     },
     "user_tz": -540
    },
    "id": "larpQ7ZGL13a"
   },
   "outputs": [],
   "source": [
    "def tadd():\n",
    "  sum=0\n",
    "  a=int(input(\"1st\"))\n",
    "  b=int(input(\"2nd\"))\n",
    "  sum=a+b\n",
    "  return sum"
   ]
  },
  {
   "cell_type": "code",
   "execution_count": 74,
   "metadata": {
    "colab": {
     "base_uri": "https://localhost:8080/"
    },
    "executionInfo": {
     "elapsed": 3,
     "status": "ok",
     "timestamp": 1662356987168,
     "user": {
      "displayName": "임지현",
      "userId": "09385173506296590239"
     },
     "user_tz": -540
    },
    "id": "p-TqIy68L4Et",
    "outputId": "a0414ee7-a105-4c38-9075-1b703e761d98"
   },
   "outputs": [
    {
     "data": {
      "text/plain": [
       "6"
      ]
     },
     "execution_count": 74,
     "metadata": {},
     "output_type": "execute_result"
    }
   ],
   "source": [
    "two_sum(1,3)"
   ]
  },
  {
   "cell_type": "markdown",
   "metadata": {
    "id": "Tml9hRFFNFb7"
   },
   "source": [
    "- return과 print의 차이"
   ]
  },
  {
   "cell_type": "code",
   "execution_count": 77,
   "metadata": {
    "executionInfo": {
     "elapsed": 1,
     "status": "ok",
     "timestamp": 1662358250081,
     "user": {
      "displayName": "임지현",
      "userId": "09385173506296590239"
     },
     "user_tz": -540
    },
    "id": "YgO9_w9BL4Hk"
   },
   "outputs": [],
   "source": [
    "def func_r(a):\n",
    "    print(a*2)\n",
    "    \n",
    "def func_p(a):\n",
    "    print(a*2)\n",
    "  "
   ]
  },
  {
   "cell_type": "code",
   "execution_count": 85,
   "metadata": {
    "colab": {
     "base_uri": "https://localhost:8080/"
    },
    "executionInfo": {
     "elapsed": 5,
     "status": "ok",
     "timestamp": 1662358372586,
     "user": {
      "displayName": "임지현",
      "userId": "09385173506296590239"
     },
     "user_tz": -540
    },
    "id": "EgLhwOjCL4Kk",
    "outputId": "9ccf623a-dda2-4418-ae33-7565fb7d2589"
   },
   "outputs": [
    {
     "name": "stdout",
     "output_type": "stream",
     "text": [
      "6\n",
      "None\n"
     ]
    }
   ],
   "source": [
    "func_r(3)\n",
    "print(b)"
   ]
  },
  {
   "cell_type": "code",
   "execution_count": 80,
   "metadata": {
    "colab": {
     "base_uri": "https://localhost:8080/"
    },
    "executionInfo": {
     "elapsed": 491,
     "status": "ok",
     "timestamp": 1662358275444,
     "user": {
      "displayName": "임지현",
      "userId": "09385173506296590239"
     },
     "user_tz": -540
    },
    "id": "iujYWFcHL4Nk",
    "outputId": "74c36974-fe21-4a35-d6eb-4b919540751c"
   },
   "outputs": [
    {
     "name": "stdout",
     "output_type": "stream",
     "text": [
      "6\n"
     ]
    }
   ],
   "source": [
    "b=func_r(3)"
   ]
  },
  {
   "cell_type": "code",
   "execution_count": 81,
   "metadata": {
    "colab": {
     "base_uri": "https://localhost:8080/"
    },
    "executionInfo": {
     "elapsed": 2,
     "status": "ok",
     "timestamp": 1662358313918,
     "user": {
      "displayName": "임지현",
      "userId": "09385173506296590239"
     },
     "user_tz": -540
    },
    "id": "Q9F3XM57L4Qs",
    "outputId": "de3d65af-721d-4874-b95e-72c08f5950d5"
   },
   "outputs": [
    {
     "data": {
      "text/plain": [
       "NoneType"
      ]
     },
     "execution_count": 81,
     "metadata": {},
     "output_type": "execute_result"
    }
   ],
   "source": [
    "type(b)"
   ]
  },
  {
   "cell_type": "code",
   "execution_count": 89,
   "metadata": {
    "colab": {
     "base_uri": "https://localhost:8080/",
     "height": 266
    },
    "executionInfo": {
     "elapsed": 407,
     "status": "error",
     "timestamp": 1662358423786,
     "user": {
      "displayName": "임지현",
      "userId": "09385173506296590239"
     },
     "user_tz": -540
    },
    "id": "feXQPDGYRsMW",
    "outputId": "a6818c33-49e4-4fc4-e923-cc080224b9fa"
   },
   "outputs": [
    {
     "name": "stdout",
     "output_type": "stream",
     "text": [
      "6\n",
      "...\n",
      "None\n"
     ]
    },
    {
     "ename": "TypeError",
     "evalue": "ignored",
     "output_type": "error",
     "traceback": [
      "\u001b[0;31m---------------------------------------------------------------------------\u001b[0m",
      "\u001b[0;31mTypeError\u001b[0m                                 Traceback (most recent call last)",
      "\u001b[0;32m<ipython-input-89-525808862dbf>\u001b[0m in \u001b[0;36m<module>\u001b[0;34m\u001b[0m\n\u001b[1;32m      2\u001b[0m \u001b[0mprint\u001b[0m\u001b[0;34m(\u001b[0m\u001b[0;34m\"...\"\u001b[0m\u001b[0;34m)\u001b[0m\u001b[0;34m\u001b[0m\u001b[0;34m\u001b[0m\u001b[0m\n\u001b[1;32m      3\u001b[0m \u001b[0mprint\u001b[0m\u001b[0;34m(\u001b[0m\u001b[0mb\u001b[0m\u001b[0;34m)\u001b[0m\u001b[0;34m\u001b[0m\u001b[0;34m\u001b[0m\u001b[0m\n\u001b[0;32m----> 4\u001b[0;31m \u001b[0mb\u001b[0m\u001b[0;34m/\u001b[0m\u001b[0;36m2\u001b[0m\u001b[0;34m\u001b[0m\u001b[0;34m\u001b[0m\u001b[0m\n\u001b[0m",
      "\u001b[0;31mTypeError\u001b[0m: unsupported operand type(s) for /: 'NoneType' and 'int'"
     ]
    }
   ],
   "source": [
    "b=func_p(3)\n",
    "print(\"...\")\n",
    "print(b)\n",
    "b/2"
   ]
  },
  {
   "cell_type": "code",
   "execution_count": 90,
   "metadata": {
    "executionInfo": {
     "elapsed": 2,
     "status": "ok",
     "timestamp": 1662358715707,
     "user": {
      "displayName": "임지현",
      "userId": "09385173506296590239"
     },
     "user_tz": -540
    },
    "id": "00-huAKPRsPE"
   },
   "outputs": [],
   "source": [
    "def kw_test(**kwargs):\n",
    "    print(kwargs)"
   ]
  },
  {
   "cell_type": "code",
   "execution_count": 91,
   "metadata": {
    "colab": {
     "base_uri": "https://localhost:8080/"
    },
    "executionInfo": {
     "elapsed": 6,
     "status": "ok",
     "timestamp": 1662358736435,
     "user": {
      "displayName": "임지현",
      "userId": "09385173506296590239"
     },
     "user_tz": -540
    },
    "id": "TUJhWcrhSMce",
    "outputId": "aa74bca2-95be-4c8f-c8a4-000138298c22"
   },
   "outputs": [
    {
     "name": "stdout",
     "output_type": "stream",
     "text": [
      "{'a': 1, 'b': 2}\n"
     ]
    }
   ],
   "source": [
    "kw_test(a=1,b=2)"
   ]
  },
  {
   "cell_type": "code",
   "execution_count": 98,
   "metadata": {
    "colab": {
     "base_uri": "https://localhost:8080/"
    },
    "executionInfo": {
     "elapsed": 414,
     "status": "ok",
     "timestamp": 1662359179067,
     "user": {
      "displayName": "임지현",
      "userId": "09385173506296590239"
     },
     "user_tz": -540
    },
    "id": "7hhbVqPsSMfU",
    "outputId": "405b357d-8042-4c21-994b-b09fc853e737"
   },
   "outputs": [
    {
     "name": "stdout",
     "output_type": "stream",
     "text": [
      "나의 이름은{name}이고 나이는 {age}입니다.\n"
     ]
    }
   ],
   "source": [
    "myself(\"홍길동\",20)"
   ]
  },
  {
   "cell_type": "code",
   "execution_count": 100,
   "metadata": {
    "executionInfo": {
     "elapsed": 1,
     "status": "ok",
     "timestamp": 1662359242850,
     "user": {
      "displayName": "임지현",
      "userId": "09385173506296590239"
     },
     "user_tz": -540
    },
    "id": "sRW72s1cSMiV"
   },
   "outputs": [],
   "source": [
    "def myself(name,age):\n",
    "  print(f\"나의 이름은{name}이고 나이는 {age}입니다.\")"
   ]
  },
  {
   "cell_type": "code",
   "execution_count": 103,
   "metadata": {
    "colab": {
     "base_uri": "https://localhost:8080/"
    },
    "executionInfo": {
     "elapsed": 414,
     "status": "ok",
     "timestamp": 1662359269014,
     "user": {
      "displayName": "임지현",
      "userId": "09385173506296590239"
     },
     "user_tz": -540
    },
    "id": "WqxDW7ntSMld",
    "outputId": "3ca32d61-ebaa-4ed7-b699-f0d41078a3ab"
   },
   "outputs": [
    {
     "name": "stdout",
     "output_type": "stream",
     "text": [
      "나의 이름은홍길동이고 나이는 20입니다.\n"
     ]
    }
   ],
   "source": [
    "myself(\"홍길동\",20)"
   ]
  },
  {
   "cell_type": "code",
   "execution_count": 113,
   "metadata": {
    "colab": {
     "base_uri": "https://localhost:8080/"
    },
    "executionInfo": {
     "elapsed": 1,
     "status": "ok",
     "timestamp": 1662359719460,
     "user": {
      "displayName": "임지현",
      "userId": "09385173506296590239"
     },
     "user_tz": -540
    },
    "id": "ydEMnGaeSMoN",
    "outputId": "e20c7e3b-e309-4157-e385-9979c54e3f5f"
   },
   "outputs": [
    {
     "data": {
      "text/plain": [
       "8"
      ]
     },
     "execution_count": 113,
     "metadata": {},
     "output_type": "execute_result"
    }
   ],
   "source": [
    "d=5      #global variable(전역변수)\n",
    "def add(a,b):\n",
    "    c=a+b          #local variable(지역변수)\n",
    "    return c+d\n",
    "\n",
    "add(1,2)\n",
    "#print(d)"
   ]
  },
  {
   "cell_type": "code",
   "execution_count": 106,
   "metadata": {
    "executionInfo": {
     "elapsed": 5,
     "status": "ok",
     "timestamp": 1662359558538,
     "user": {
      "displayName": "임지현",
      "userId": "09385173506296590239"
     },
     "user_tz": -540
    },
    "id": "RATrjL_sSMrN"
   },
   "outputs": [],
   "source": [
    "del(c)"
   ]
  },
  {
   "cell_type": "code",
   "execution_count": 114,
   "metadata": {
    "colab": {
     "base_uri": "https://localhost:8080/"
    },
    "executionInfo": {
     "elapsed": 2,
     "status": "ok",
     "timestamp": 1662360005654,
     "user": {
      "displayName": "임지현",
      "userId": "09385173506296590239"
     },
     "user_tz": -540
    },
    "id": "JNegVoHWSMuV",
    "outputId": "5532270d-caae-417b-d777-dead559683b8"
   },
   "outputs": [
    {
     "data": {
      "text/plain": [
       "3"
      ]
     },
     "execution_count": 114,
     "metadata": {},
     "output_type": "execute_result"
    }
   ],
   "source": [
    "def add(a,b):\n",
    "    return a+b\n",
    "add(1,2)\n"
   ]
  },
  {
   "cell_type": "code",
   "execution_count": 119,
   "metadata": {
    "colab": {
     "base_uri": "https://localhost:8080/"
    },
    "executionInfo": {
     "elapsed": 1,
     "status": "ok",
     "timestamp": 1662360119584,
     "user": {
      "displayName": "임지현",
      "userId": "09385173506296590239"
     },
     "user_tz": -540
    },
    "id": "57DESoU2SMxO",
    "outputId": "42bb7c88-2f42-498f-b280-6c81ee52663e"
   },
   "outputs": [
    {
     "data": {
      "text/plain": [
       "3"
      ]
     },
     "execution_count": 119,
     "metadata": {},
     "output_type": "execute_result"
    }
   ],
   "source": [
    "(lambda a,b:a+b)(1,2)"
   ]
  },
  {
   "cell_type": "code",
   "execution_count": 120,
   "metadata": {
    "colab": {
     "base_uri": "https://localhost:8080/"
    },
    "executionInfo": {
     "elapsed": 2,
     "status": "ok",
     "timestamp": 1662360164669,
     "user": {
      "displayName": "임지현",
      "userId": "09385173506296590239"
     },
     "user_tz": -540
    },
    "id": "yNRMOh60SM0H",
    "outputId": "64f185a5-c62a-4701-9625-0751f6e249c6"
   },
   "outputs": [
    {
     "data": {
      "text/plain": [
       "3"
      ]
     },
     "execution_count": 120,
     "metadata": {},
     "output_type": "execute_result"
    }
   ],
   "source": [
    "f=lambda a,b:a+b\n",
    "f(1,2)"
   ]
  },
  {
   "cell_type": "markdown",
   "metadata": {
    "id": "hHu7wgfnZZYe"
   },
   "source": [
    "- 재귀함수"
   ]
  },
  {
   "cell_type": "code",
   "execution_count": 134,
   "metadata": {
    "executionInfo": {
     "elapsed": 399,
     "status": "ok",
     "timestamp": 1662360764413,
     "user": {
      "displayName": "임지현",
      "userId": "09385173506296590239"
     },
     "user_tz": -540
    },
    "id": "yDA6iLLiSM21"
   },
   "outputs": [],
   "source": [
    "import time\n",
    "def hello(count):\n",
    "    if count==0:\n",
    "       return\n",
    "    print(\"안녕하세요\")\n",
    "    time.sleep(1)\n",
    "    count-=1\n",
    "    hello(count)"
   ]
  },
  {
   "cell_type": "code",
   "execution_count": 136,
   "metadata": {
    "colab": {
     "base_uri": "https://localhost:8080/"
    },
    "executionInfo": {
     "elapsed": 10242,
     "status": "ok",
     "timestamp": 1662360784754,
     "user": {
      "displayName": "임지현",
      "userId": "09385173506296590239"
     },
     "user_tz": -540
    },
    "id": "Q2mnLJWkRsR1",
    "outputId": "5bdac482-4f41-40dd-d527-46b899087db3"
   },
   "outputs": [
    {
     "name": "stdout",
     "output_type": "stream",
     "text": [
      "안녕하세요\n",
      "안녕하세요\n",
      "안녕하세요\n",
      "안녕하세요\n",
      "안녕하세요\n",
      "안녕하세요\n",
      "안녕하세요\n",
      "안녕하세요\n",
      "안녕하세요\n",
      "안녕하세요\n"
     ]
    }
   ],
   "source": [
    "hello(10)"
   ]
  },
  {
   "cell_type": "code",
   "execution_count": null,
   "metadata": {
    "id": "z6aoNNMxRsUE"
   },
   "outputs": [],
   "source": [
    "\n",
    "++++++++++++++++++++++++++++++++++++++++++++1"
   ]
  },
  {
   "cell_type": "code",
   "execution_count": 5,
   "metadata": {
    "id": "JbHWmGBuaI5P"
   },
   "outputs": [],
   "source": [
    "numbers=[1,2,3,4,5]\n",
    "result=[]\n",
    "for n in numbers:\n",
    "    if n%2==1:\n",
    "        result.append(n*2)\n",
    "    "
   ]
  },
  {
   "cell_type": "markdown",
   "metadata": {},
   "source": [
    "numbers=[1,2,3,4,5]\n",
    "result=[n*2 for n in numbers if n%2==1]\n",
    "print(result)"
   ]
  },
  {
   "cell_type": "code",
   "execution_count": 6,
   "metadata": {},
   "outputs": [
    {
     "name": "stdout",
     "output_type": "stream",
     "text": [
      "[2, 6, 10]\n"
     ]
    }
   ],
   "source": [
    "print(result)"
   ]
  },
  {
   "cell_type": "code",
   "execution_count": 10,
   "metadata": {},
   "outputs": [
    {
     "name": "stdout",
     "output_type": "stream",
     "text": [
      "택시를 타고 가라\n"
     ]
    }
   ],
   "source": [
    "money=True\n",
    "if money:\n",
    "    print(\"택시를 타고 가라\")\n",
    "else:\n",
    "    print(\"걸어 가라\")\n"
   ]
  },
  {
   "cell_type": "code",
   "execution_count": 11,
   "metadata": {
    "id": "G8lXaoTdaI8Y"
   },
   "outputs": [
    {
     "name": "stdout",
     "output_type": "stream",
     "text": [
      "택시를 타고 가라\n"
     ]
    }
   ],
   "source": [
    "money=2000\n",
    "card=True\n",
    "if money>=3000 or card:\n",
    "    print(\"택시를 타고 가라\")\n",
    "else:\n",
    "    print(\"걸어 가라\")\n"
   ]
  },
  {
   "cell_type": "code",
   "execution_count": 12,
   "metadata": {},
   "outputs": [
    {
     "name": "stdout",
     "output_type": "stream",
     "text": [
      "택시를 타고 가라\n"
     ]
    }
   ],
   "source": [
    "pocket=['paper','cellphone','money']\n",
    "if 'money' in pocket:\n",
    "    print(\"택시를 타고 가라\")"
   ]
  },
  {
   "cell_type": "code",
   "execution_count": 14,
   "metadata": {
    "id": "-xpDBf5faI_Q"
   },
   "outputs": [
    {
     "name": "stdout",
     "output_type": "stream",
     "text": [
      "택시를 타고 가라\n"
     ]
    }
   ],
   "source": [
    "pocket=['paper','cellphone']\n",
    "card=True\n",
    "if 'money' in pocket:\n",
    "    print('택시를 타고 가라')\n",
    "else:\n",
    "    if card:\n",
    "        print('택시를 타고 가라')\n",
    "    else:\n",
    "        print('걸어가라')\n",
    "    "
   ]
  },
  {
   "cell_type": "code",
   "execution_count": 15,
   "metadata": {
    "id": "UEc3SoRCaJB3"
   },
   "outputs": [
    {
     "name": "stdout",
     "output_type": "stream",
     "text": [
      "택시를 타고 가라\n"
     ]
    }
   ],
   "source": [
    "pocket=['papper','cellphone']\n",
    "card=True\n",
    "if 'money' in pocket:\n",
    "    print(\"택시를 타고 가라\")\n",
    "elif card:\n",
    "    print(\"택시를 타고 가라\")\n",
    "else: \n",
    "    print(\"걸어 가라\")"
   ]
  },
  {
   "cell_type": "code",
   "execution_count": 18,
   "metadata": {
    "id": "VwrpuEaDaJEv"
   },
   "outputs": [
    {
     "name": "stdout",
     "output_type": "stream",
     "text": [
      "나무를 1번 찍었습니다.\n",
      "나무를 2번 찍었습니다.\n",
      "나무를 3번 찍었습니다.\n",
      "나무를 4번 찍었습니다.\n",
      "나무를 5번 찍었습니다.\n",
      "나무를 6번 찍었습니다.\n",
      "나무를 7번 찍었습니다.\n",
      "나무를 8번 찍었습니다.\n",
      "나무를 9번 찍었습니다.\n",
      "나무를 10번 찍었습니다.\n",
      "나무 넘어갑니다.\n"
     ]
    }
   ],
   "source": [
    "treeHit=0\n",
    "while treeHit <10:\n",
    "    treeHit=treeHit+1\n",
    "    print(\"나무를 %d번 찍었습니다.\" % treeHit)\n",
    "    if treeHit==10:\n",
    "        print(\"나무 넘어갑니다.\")"
   ]
  },
  {
   "cell_type": "code",
   "execution_count": 20,
   "metadata": {},
   "outputs": [],
   "source": [
    "prompt=\"\"\"\n",
    "1. add\n",
    "2. del\n",
    "3. list\n",
    "4. quit\n",
    "\n",
    "enter number: \"\"\""
   ]
  },
  {
   "cell_type": "code",
   "execution_count": 23,
   "metadata": {},
   "outputs": [
    {
     "name": "stdout",
     "output_type": "stream",
     "text": [
      "\n",
      "1. add\n",
      "2. del\n",
      "3. list\n",
      "4. quit\n",
      "\n",
      "enter number: \n"
     ]
    },
    {
     "name": "stdin",
     "output_type": "stream",
     "text": [
      " 1\n"
     ]
    },
    {
     "name": "stdout",
     "output_type": "stream",
     "text": [
      "\n",
      "1. add\n",
      "2. del\n",
      "3. list\n",
      "4. quit\n",
      "\n",
      "enter number: \n"
     ]
    },
    {
     "name": "stdin",
     "output_type": "stream",
     "text": [
      " 2\n"
     ]
    },
    {
     "name": "stdout",
     "output_type": "stream",
     "text": [
      "\n",
      "1. add\n",
      "2. del\n",
      "3. list\n",
      "4. quit\n",
      "\n",
      "enter number: \n"
     ]
    },
    {
     "name": "stdin",
     "output_type": "stream",
     "text": [
      " 3\n"
     ]
    },
    {
     "name": "stdout",
     "output_type": "stream",
     "text": [
      "\n",
      "1. add\n",
      "2. del\n",
      "3. list\n",
      "4. quit\n",
      "\n",
      "enter number: \n"
     ]
    },
    {
     "name": "stdin",
     "output_type": "stream",
     "text": [
      " 4\n"
     ]
    }
   ],
   "source": [
    "number=0\n",
    "while number !=4:\n",
    "    print(prompt)\n",
    "    number=int(input())"
   ]
  },
  {
   "cell_type": "code",
   "execution_count": 25,
   "metadata": {},
   "outputs": [
    {
     "name": "stdout",
     "output_type": "stream",
     "text": [
      "1\n",
      "3\n",
      "5\n",
      "7\n",
      "9\n"
     ]
    }
   ],
   "source": [
    "a=0\n",
    "while a<10:\n",
    "    a=a+1\n",
    "    if a %2==0:continue\n",
    "    print(a)"
   ]
  },
  {
   "cell_type": "code",
   "execution_count": 30,
   "metadata": {},
   "outputs": [
    {
     "name": "stdout",
     "output_type": "stream",
     "text": [
      "1\n",
      "2\n",
      "4\n",
      "5\n",
      "7\n",
      "8\n",
      "10\n"
     ]
    }
   ],
   "source": [
    "#1부터 10까지 숫자 중에서 3의 배수를 뺀 나머지 출력\n",
    "\n",
    "a=0\n",
    "while a<10:\n",
    "    a=a+1\n",
    "    if a%3==0:continue\n",
    "    print(a)"
   ]
  },
  {
   "cell_type": "code",
   "execution_count": 31,
   "metadata": {},
   "outputs": [
    {
     "name": "stdout",
     "output_type": "stream",
     "text": [
      "one\n",
      "two\n",
      "three\n"
     ]
    }
   ],
   "source": [
    "test_list=['one','two','three']\n",
    "for i in test_list:\n",
    "    print(i)"
   ]
  },
  {
   "cell_type": "code",
   "execution_count": 32,
   "metadata": {},
   "outputs": [
    {
     "name": "stdout",
     "output_type": "stream",
     "text": [
      "3\n",
      "7\n",
      "11\n"
     ]
    }
   ],
   "source": [
    "a=[(1,2),(3,4),(5,6)]\n",
    "for (first,last) in a:\n",
    "    print(first+last)"
   ]
  },
  {
   "cell_type": "code",
   "execution_count": 34,
   "metadata": {},
   "outputs": [
    {
     "name": "stdout",
     "output_type": "stream",
     "text": [
      "1번 학생은 합격입니다.\n",
      "2번 학생은 불합격입니다.\n",
      "3번 학생은 합격입니다.\n",
      "4번 학생은 불합격입니다.\n",
      "5번 학생은 합격입니다.\n"
     ]
    }
   ],
   "source": [
    "marks=[90,25,67,45,80]\n",
    "number=0\n",
    "for mark in marks:\n",
    "    number=number+1\n",
    "    if mark>=60:\n",
    "        print(\"%d번 학생은 합격입니다.\"%number)\n",
    "    else:\n",
    "        print(\"%d번 학생은 불합격입니다.\"%number)"
   ]
  },
  {
   "cell_type": "code",
   "execution_count": 36,
   "metadata": {},
   "outputs": [
    {
     "data": {
      "text/plain": [
       "range(0, 10)"
      ]
     },
     "execution_count": 36,
     "metadata": {},
     "output_type": "execute_result"
    }
   ],
   "source": [
    "a=range(10)\n",
    "a"
   ]
  },
  {
   "cell_type": "code",
   "execution_count": 38,
   "metadata": {},
   "outputs": [
    {
     "name": "stdout",
     "output_type": "stream",
     "text": [
      "55\n"
     ]
    }
   ],
   "source": [
    "add=0\n",
    "for i in range(1,11):\n",
    "    add=add+i\n",
    "\n",
    "print(add)"
   ]
  },
  {
   "cell_type": "code",
   "execution_count": 40,
   "metadata": {},
   "outputs": [
    {
     "name": "stdout",
     "output_type": "stream",
     "text": [
      "1번 학생 축하합니다.\n",
      "3번 학생 축하합니다.\n",
      "5번 학생 축하합니다.\n"
     ]
    }
   ],
   "source": [
    "marks=[90,25,67,45,80]\n",
    "for number in range(len(marks)):\n",
    "    if marks[number] < 60: continue\n",
    "    print(\"%d번 학생 축하합니다.\"%(number+1))"
   ]
  },
  {
   "cell_type": "code",
   "execution_count": null,
   "metadata": {},
   "outputs": [],
   "source": []
  },
  {
   "cell_type": "code",
   "execution_count": null,
   "metadata": {},
   "outputs": [],
   "source": []
  }
 ],
 "metadata": {
  "colab": {
   "authorship_tag": "ABX9TyOXulVFTfI5Qq8uO9w2IVFC",
   "collapsed_sections": [],
   "provenance": []
  },
  "kernelspec": {
   "display_name": "Python 3 (ipykernel)",
   "language": "python",
   "name": "python3"
  },
  "language_info": {
   "codemirror_mode": {
    "name": "ipython",
    "version": 3
   },
   "file_extension": ".py",
   "mimetype": "text/x-python",
   "name": "python",
   "nbconvert_exporter": "python",
   "pygments_lexer": "ipython3",
   "version": "3.9.12"
  }
 },
 "nbformat": 4,
 "nbformat_minor": 4
}
