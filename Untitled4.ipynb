{
 "cells": [
  {
   "cell_type": "markdown",
   "id": "32c0313e-b34e-4625-8e64-19f733f042e1",
   "metadata": {},
   "source": [
    "## 클래스변수"
   ]
  },
  {
   "cell_type": "code",
   "execution_count": 2,
   "id": "c3e2995a-9580-436b-9bdf-1b79f1ca029b",
   "metadata": {},
   "outputs": [],
   "source": [
    "\n"
   ]
  },
  {
   "cell_type": "code",
   "execution_count": 3,
   "id": "64d2fb63-07d7-48b8-a891-3b4caea4aa05",
   "metadata": {},
   "outputs": [],
   "source": [
    "가족1=Family(\"길동\")"
   ]
  },
  {
   "cell_type": "code",
   "execution_count": 4,
   "id": "d19eaef6-b817-41cf-be86-2abf162debbb",
   "metadata": {},
   "outputs": [
    {
     "data": {
      "text/plain": [
       "'길동'"
      ]
     },
     "execution_count": 4,
     "metadata": {},
     "output_type": "execute_result"
    }
   ],
   "source": [
    "가족1.name"
   ]
  },
  {
   "cell_type": "code",
   "execution_count": 5,
   "id": "d7ea94fb-fca4-4839-99df-b4f2b5e2e603",
   "metadata": {},
   "outputs": [
    {
     "data": {
      "text/plain": [
       "'박'"
      ]
     },
     "execution_count": 5,
     "metadata": {},
     "output_type": "execute_result"
    }
   ],
   "source": [
    "가족1.lastname"
   ]
  },
  {
   "cell_type": "code",
   "execution_count": 6,
   "id": "b94d6ba5-e4bf-4bd3-86f6-f46380a0bfef",
   "metadata": {},
   "outputs": [
    {
     "data": {
      "text/plain": [
       "'박'"
      ]
     },
     "execution_count": 6,
     "metadata": {},
     "output_type": "execute_result"
    }
   ],
   "source": [
    "Family.lastname"
   ]
  },
  {
   "cell_type": "code",
   "execution_count": 7,
   "id": "bce0d691-50c9-451b-99f1-8cae5fe3e77d",
   "metadata": {},
   "outputs": [],
   "source": [
    "가족2=Family(\"우치\")"
   ]
  },
  {
   "cell_type": "code",
   "execution_count": 8,
   "id": "1fde9866-7d7b-4a83-b5cf-aac4bb83d012",
   "metadata": {},
   "outputs": [
    {
     "data": {
      "text/plain": [
       "'우치'"
      ]
     },
     "execution_count": 8,
     "metadata": {},
     "output_type": "execute_result"
    }
   ],
   "source": [
    "가족2.name"
   ]
  },
  {
   "cell_type": "code",
   "execution_count": 9,
   "id": "fb87791e-54ce-4e91-82ad-56199c408c1f",
   "metadata": {},
   "outputs": [
    {
     "data": {
      "text/plain": [
       "'박'"
      ]
     },
     "execution_count": 9,
     "metadata": {},
     "output_type": "execute_result"
    }
   ],
   "source": [
    "가족2.lastname"
   ]
  },
  {
   "cell_type": "code",
   "execution_count": 11,
   "id": "8b15cdea-2145-4007-95b9-794cc11cfe9f",
   "metadata": {},
   "outputs": [
    {
     "data": {
      "text/plain": [
       "2408555809248"
      ]
     },
     "execution_count": 11,
     "metadata": {},
     "output_type": "execute_result"
    }
   ],
   "source": [
    "id(가족1.lastname)"
   ]
  },
  {
   "cell_type": "code",
   "execution_count": 12,
   "id": "be4a9f9f-0fe4-4a43-a5f9-1b4822f2d7d9",
   "metadata": {},
   "outputs": [
    {
     "data": {
      "text/plain": [
       "2408555809248"
      ]
     },
     "execution_count": 12,
     "metadata": {},
     "output_type": "execute_result"
    }
   ],
   "source": [
    "id(가족2.lastname)"
   ]
  },
  {
   "cell_type": "code",
   "execution_count": 20,
   "id": "d09f440f-216a-49e1-b520-4f4de31f5044",
   "metadata": {},
   "outputs": [],
   "source": [
    "name=\"장길산\"                    #global(전역변수)\n",
    "\n",
    "\n",
    "class Family:\n",
    "    lastname=\"박\"                #클래스 변수, 클래스변수는 인스턴스들이 공유한다.\n",
    "    \n",
    "    def __init__(self,name):\n",
    "        self.name=name           #인스턴스변수,local(지역변수)\n",
    "    \n",
    "    def show_name(self):\n",
    "        print(name)               #global(전역변수)\n",
    "        print(Family.lastname)\n",
    "        print(self.lastname)\n",
    "        print(self.name)"
   ]
  },
  {
   "cell_type": "code",
   "execution_count": 21,
   "id": "de1ffbe5-6ecb-44b5-97a8-e6fe12d9306b",
   "metadata": {},
   "outputs": [
    {
     "name": "stdout",
     "output_type": "stream",
     "text": [
      "장길산\n",
      "박\n",
      "박\n",
      "길동\n"
     ]
    }
   ],
   "source": [
    "f1=Family('길동')\n",
    "f1.show_name()"
   ]
  },
  {
   "cell_type": "markdown",
   "id": "f973e20d-1a0d-4ab1-ba7a-9d5dd79ebbbc",
   "metadata": {},
   "source": [
    "클래스 이름은 persom\n",
    "name 전역변수는 \"아이유\"\n",
    "클래스변수는 \"손\"\n",
    "인스턴스변수는 입력받아서 \"흥민\"\n",
    "\n",
    "세가지 변수를 모두 출력해 봅시다.\n"
   ]
  },
  {
   "cell_type": "code",
   "execution_count": 251,
   "id": "45016b69-794b-4897-a47d-ef125051f725",
   "metadata": {},
   "outputs": [
    {
     "data": {
      "text/plain": [
       "<bound method Person.show_name of <__main__.Person object at 0x00000230CB14F820>>"
      ]
     },
     "execution_count": 251,
     "metadata": {},
     "output_type": "execute_result"
    }
   ],
   "source": [
    "name=\"아이유\"\n",
    "\n",
    "class Person:\n",
    "    lastname=\"손\"\n",
    "    \n",
    "    def __init__(self,name):\n",
    "        self.name=name\n",
    "        \n",
    "    def show_name(self):\n",
    "        print(name)\n",
    "        print(self.name)\n",
    "        print(Person.lastname)\n",
    "        \n",
    "a=Person(\"흥민\")\n",
    "a.show_name"
   ]
  },
  {
   "cell_type": "code",
   "execution_count": 252,
   "id": "34fba633-dc0a-4cf9-a7de-ede8798f2db5",
   "metadata": {},
   "outputs": [
    {
     "name": "stdout",
     "output_type": "stream",
     "text": [
      "아이유\n",
      "흥민\n",
      "손\n"
     ]
    }
   ],
   "source": [
    "a.show_name()"
   ]
  },
  {
   "cell_type": "code",
   "execution_count": 253,
   "id": "2b61bc4a-2737-42ed-b613-dbfa72f8b9ed",
   "metadata": {},
   "outputs": [
    {
     "name": "stdout",
     "output_type": "stream",
     "text": [
      "아이유\n",
      "흥민\n",
      "손\n"
     ]
    }
   ],
   "source": [
    "a.show_name()"
   ]
  },
  {
   "cell_type": "markdown",
   "id": "fbddf490-17cd-4f31-9576-99f7b10bf6e7",
   "metadata": {},
   "source": [
    "### 상속후 변수 추가 "
   ]
  },
  {
   "cell_type": "markdown",
   "id": "3e87a2ae-f711-4c6a-92ad-6319eda24c94",
   "metadata": {},
   "source": [
    "- 부모클래스가 인자로 입력받는 것이 없을 때"
   ]
  },
  {
   "cell_type": "code",
   "execution_count": 199,
   "id": "d283aa75-ef9a-4450-bac8-8e86e4f4f421",
   "metadata": {},
   "outputs": [],
   "source": [
    "class Person():\n",
    "    def __init__(self):\n",
    "        self.name=\"Lee\"\n",
    "        self.age=25\n",
    "        \n",
    "class Korean(Person):\n",
    "    pass"
   ]
  },
  {
   "cell_type": "code",
   "execution_count": 200,
   "id": "2772dfae-c4f2-4576-b76e-a3d88c7a0d23",
   "metadata": {},
   "outputs": [
    {
     "data": {
      "text/plain": [
       "'Lee'"
      ]
     },
     "execution_count": 200,
     "metadata": {},
     "output_type": "execute_result"
    }
   ],
   "source": [
    "p1=Person()\n",
    "p1.name"
   ]
  },
  {
   "cell_type": "raw",
   "id": "332ca631-8e86-4e2c-ab12-ff6ab44f4bc4",
   "metadata": {},
   "source": [
    "k1=Korean()\n",
    "k1.name"
   ]
  },
  {
   "cell_type": "code",
   "execution_count": 201,
   "id": "6cce2c16-51a4-4de4-8403-b731167809dd",
   "metadata": {},
   "outputs": [],
   "source": [
    "class Korean(Person):\n",
    "    def __init__(self):\n",
    "        self.lang=\"한국어\""
   ]
  },
  {
   "cell_type": "code",
   "execution_count": 202,
   "id": "dcbbece9-8399-4d12-80e0-aa84afcf2457",
   "metadata": {},
   "outputs": [
    {
     "data": {
      "text/plain": [
       "'한국어'"
      ]
     },
     "execution_count": 202,
     "metadata": {},
     "output_type": "execute_result"
    }
   ],
   "source": [
    "k1=Korean()\n",
    "k1.lang"
   ]
  },
  {
   "cell_type": "code",
   "execution_count": 203,
   "id": "9b695e15-b216-4753-bfcd-db5cbdfb9b95",
   "metadata": {},
   "outputs": [
    {
     "ename": "AttributeError",
     "evalue": "'Korean' object has no attribute 'name'",
     "output_type": "error",
     "traceback": [
      "\u001b[1;31m---------------------------------------------------------------------------\u001b[0m",
      "\u001b[1;31mAttributeError\u001b[0m                            Traceback (most recent call last)",
      "Input \u001b[1;32mIn [203]\u001b[0m, in \u001b[0;36m<cell line: 1>\u001b[1;34m()\u001b[0m\n\u001b[1;32m----> 1\u001b[0m \u001b[43mk1\u001b[49m\u001b[38;5;241;43m.\u001b[39;49m\u001b[43mname\u001b[49m\n",
      "\u001b[1;31mAttributeError\u001b[0m: 'Korean' object has no attribute 'name'"
     ]
    }
   ],
   "source": [
    "k1.name"
   ]
  },
  {
   "cell_type": "code",
   "execution_count": 208,
   "id": "e0e4a0c7-f634-4fdd-85b5-c44da19e2434",
   "metadata": {},
   "outputs": [],
   "source": [
    "class Person():\n",
    "    def __init__(self):\n",
    "        self.name=\"Lee\"\n",
    "        self.age=25\n",
    "\n",
    "class Korean(Person):\n",
    "    def __init__(self):\n",
    "        super().__init__()       #부모class의 init을 불러와 실행\n",
    "        self.lang=\"한국어\""
   ]
  },
  {
   "cell_type": "code",
   "execution_count": 209,
   "id": "649db874-191d-4d09-9311-e4fd2ccecdc3",
   "metadata": {},
   "outputs": [],
   "source": [
    "k2=Korean()"
   ]
  },
  {
   "cell_type": "code",
   "execution_count": 210,
   "id": "363a65b4-42d2-421c-8477-d1787f2aea52",
   "metadata": {},
   "outputs": [
    {
     "data": {
      "text/plain": [
       "'한국어'"
      ]
     },
     "execution_count": 210,
     "metadata": {},
     "output_type": "execute_result"
    }
   ],
   "source": [
    "k2.lang"
   ]
  },
  {
   "cell_type": "code",
   "execution_count": 211,
   "id": "769461f9-4620-4382-9724-c46d37c24797",
   "metadata": {},
   "outputs": [
    {
     "data": {
      "text/plain": [
       "'Lee'"
      ]
     },
     "execution_count": 211,
     "metadata": {},
     "output_type": "execute_result"
    }
   ],
   "source": [
    "k2.name"
   ]
  },
  {
   "cell_type": "markdown",
   "id": "00fda779-cf10-49fd-863d-e4fb71839eb6",
   "metadata": {},
   "source": [
    "American 클래스를 상속받아서, 쓰는 언어는 English로 합시다.\n",
    "a1.lang는 English가 출력되게\n"
   ]
  },
  {
   "cell_type": "code",
   "execution_count": 216,
   "id": "9bd715e0-2022-47c5-ae90-1b577e68507e",
   "metadata": {},
   "outputs": [
    {
     "data": {
      "text/plain": [
       "'English'"
      ]
     },
     "execution_count": 216,
     "metadata": {},
     "output_type": "execute_result"
    }
   ],
   "source": [
    "class American:\n",
    "    def __init__(self):\n",
    "        super().__init__()\n",
    "        self.lang=\"English\"\n",
    "        \n",
    "a1=American()\n",
    "a1.lang"
   ]
  },
  {
   "cell_type": "markdown",
   "id": "f961cd96-cb21-42f4-8a5b-ea4829f329f9",
   "metadata": {},
   "source": [
    "- 부모클래스가 인자로 입력받는 것이 있을 때"
   ]
  },
  {
   "cell_type": "code",
   "execution_count": 224,
   "id": "f7ab74ca-2975-4af2-b72f-e13eaa4e30f2",
   "metadata": {},
   "outputs": [],
   "source": [
    "class Person:\n",
    "    def __init__(self,name,age):\n",
    "        self.name=name\n",
    "        self.age=age\n",
    "        \n",
    "class Korean(Person):\n",
    "    def __init__(self,name,age):\n",
    "        super().__init__(name,age)\n",
    "        self.lang=\"한국어\"\n",
    "        \n",
    "\n",
    "    "
   ]
  },
  {
   "cell_type": "code",
   "execution_count": 225,
   "id": "6372afb1-73e5-4c30-b32a-47daee53da79",
   "metadata": {},
   "outputs": [],
   "source": [
    "k1=Korean(\"홍길동\",22)    #부모클래스가 3개라, 자식클래스도 3개를 써줘야 나옴"
   ]
  },
  {
   "cell_type": "code",
   "execution_count": 226,
   "id": "e6fbb4e2-09c0-4880-9cf2-85461acc99ec",
   "metadata": {},
   "outputs": [],
   "source": [
    "\n",
    "class Korean(Person):\n",
    "    def __init__(self,name,age):\n",
    "        super().__init__(name,age)\n",
    "        self.lang=\"한국어\"\n",
    "        "
   ]
  },
  {
   "cell_type": "code",
   "execution_count": 227,
   "id": "dad61288-6c2a-4784-b23c-b6fbbac10c80",
   "metadata": {},
   "outputs": [
    {
     "data": {
      "text/plain": [
       "'홍길동'"
      ]
     },
     "execution_count": 227,
     "metadata": {},
     "output_type": "execute_result"
    }
   ],
   "source": [
    "K1=Korean(\"홍길동\",22)\n",
    "k1.name"
   ]
  },
  {
   "cell_type": "markdown",
   "id": "f1196835-0186-407b-a58e-b25a43cdd83b",
   "metadata": {},
   "source": [
    "- 자식 클래스에서도 인자를 입력받는 경우"
   ]
  },
  {
   "cell_type": "code",
   "execution_count": 228,
   "id": "3cd067ed-7cee-4a8a-b824-8c144a569dd5",
   "metadata": {},
   "outputs": [],
   "source": [
    "class Korean(Person):\n",
    "    def __init__(self,lang,name,age):     #모든 변수를 다 써준다.\n",
    "        super().__init__(name,age)\n",
    "        self.lang=lang\n",
    "        "
   ]
  },
  {
   "cell_type": "code",
   "execution_count": 229,
   "id": "85f136ae-85d5-4936-ac93-6a3dadc7aae0",
   "metadata": {},
   "outputs": [],
   "source": [
    "k1=Korean(\"한국어\",\"길동\",22)"
   ]
  },
  {
   "cell_type": "code",
   "execution_count": 230,
   "id": "76921e94-7883-4031-b472-1cd8285dbd0d",
   "metadata": {},
   "outputs": [
    {
     "data": {
      "text/plain": [
       "'한국어'"
      ]
     },
     "execution_count": 230,
     "metadata": {},
     "output_type": "execute_result"
    }
   ],
   "source": [
    "k1.lang"
   ]
  },
  {
   "cell_type": "code",
   "execution_count": 231,
   "id": "b7e5ed4e-b43a-414c-8b4d-f330517be4ab",
   "metadata": {},
   "outputs": [
    {
     "data": {
      "text/plain": [
       "'길동'"
      ]
     },
     "execution_count": 231,
     "metadata": {},
     "output_type": "execute_result"
    }
   ],
   "source": [
    "k1.name"
   ]
  },
  {
   "cell_type": "code",
   "execution_count": 254,
   "id": "9c193cec-eb94-49ac-bf0a-1160078215c8",
   "metadata": {},
   "outputs": [
    {
     "data": {
      "text/plain": [
       "22"
      ]
     },
     "execution_count": 254,
     "metadata": {},
     "output_type": "execute_result"
    }
   ],
   "source": [
    "k1.age"
   ]
  },
  {
   "cell_type": "code",
   "execution_count": 235,
   "id": "ed2de8e8-795e-4b63-9346-25d87152f9b7",
   "metadata": {},
   "outputs": [
    {
     "data": {
      "text/plain": [
       "'C:\\\\Users\\\\user'"
      ]
     },
     "execution_count": 235,
     "metadata": {},
     "output_type": "execute_result"
    }
   ],
   "source": [
    "import os\n",
    "os.getcwd()"
   ]
  },
  {
   "cell_type": "code",
   "execution_count": 237,
   "id": "246c61b9-546c-4d52-b7c3-459f702ccd7c",
   "metadata": {},
   "outputs": [],
   "source": [
    "os.chdir(\"C:/users\")"
   ]
  },
  {
   "cell_type": "code",
   "execution_count": 243,
   "id": "84206c86-89c4-4996-8cc0-687d548ed4d1",
   "metadata": {},
   "outputs": [
    {
     "ename": "FileNotFoundError",
     "evalue": "[WinError 3] 지정된 경로를 찾을 수 없습니다: 'abc/a'",
     "output_type": "error",
     "traceback": [
      "\u001b[1;31m---------------------------------------------------------------------------\u001b[0m",
      "\u001b[1;31mFileNotFoundError\u001b[0m                         Traceback (most recent call last)",
      "Input \u001b[1;32mIn [243]\u001b[0m, in \u001b[0;36m<cell line: 1>\u001b[1;34m()\u001b[0m\n\u001b[1;32m----> 1\u001b[0m \u001b[43mos\u001b[49m\u001b[38;5;241;43m.\u001b[39;49m\u001b[43mmkdir\u001b[49m\u001b[43m(\u001b[49m\u001b[38;5;124;43m\"\u001b[39;49m\u001b[38;5;124;43mabc/a\u001b[39;49m\u001b[38;5;124;43m\"\u001b[39;49m\u001b[43m)\u001b[49m\n",
      "\u001b[1;31mFileNotFoundError\u001b[0m: [WinError 3] 지정된 경로를 찾을 수 없습니다: 'abc/a'"
     ]
    }
   ],
   "source": [
    "os.mkdir(\"abc/a\")"
   ]
  },
  {
   "cell_type": "code",
   "execution_count": 244,
   "id": "f7b46dd0-467f-45b4-bf40-9595b7782c48",
   "metadata": {},
   "outputs": [
    {
     "data": {
      "text/plain": [
       "['C:\\\\Users\\\\user',\n",
       " 'C:\\\\Users\\\\user\\\\anaconda3\\\\python39.zip',\n",
       " 'C:\\\\Users\\\\user\\\\anaconda3\\\\DLLs',\n",
       " 'C:\\\\Users\\\\user\\\\anaconda3\\\\lib',\n",
       " 'C:\\\\Users\\\\user\\\\anaconda3',\n",
       " '',\n",
       " 'C:\\\\Users\\\\user\\\\anaconda3\\\\lib\\\\site-packages',\n",
       " 'C:\\\\Users\\\\user\\\\anaconda3\\\\lib\\\\site-packages\\\\win32',\n",
       " 'C:\\\\Users\\\\user\\\\anaconda3\\\\lib\\\\site-packages\\\\win32\\\\lib',\n",
       " 'C:\\\\Users\\\\user\\\\anaconda3\\\\lib\\\\site-packages\\\\Pythonwin']"
      ]
     },
     "execution_count": 244,
     "metadata": {},
     "output_type": "execute_result"
    }
   ],
   "source": [
    "import sys\n",
    "sys.path"
   ]
  },
  {
   "cell_type": "code",
   "execution_count": 249,
   "id": "5718c3f9-f319-49e8-a7a0-2ea6b91571d9",
   "metadata": {},
   "outputs": [],
   "source": [
    "sys.path.append(\"c:\\\\Users\\\\abc\\\\a\")"
   ]
  },
  {
   "cell_type": "code",
   "execution_count": 250,
   "id": "7ebf0134-b046-4cfe-9762-43efec038260",
   "metadata": {},
   "outputs": [
    {
     "data": {
      "text/plain": [
       "['C:\\\\Users\\\\user',\n",
       " 'C:\\\\Users\\\\user\\\\anaconda3\\\\python39.zip',\n",
       " 'C:\\\\Users\\\\user\\\\anaconda3\\\\DLLs',\n",
       " 'C:\\\\Users\\\\user\\\\anaconda3\\\\lib',\n",
       " 'C:\\\\Users\\\\user\\\\anaconda3',\n",
       " '',\n",
       " 'C:\\\\Users\\\\user\\\\anaconda3\\\\lib\\\\site-packages',\n",
       " 'C:\\\\Users\\\\user\\\\anaconda3\\\\lib\\\\site-packages\\\\win32',\n",
       " 'C:\\\\Users\\\\user\\\\anaconda3\\\\lib\\\\site-packages\\\\win32\\\\lib',\n",
       " 'C:\\\\Users\\\\user\\\\anaconda3\\\\lib\\\\site-packages\\\\Pythonwin',\n",
       " 'c:/Users/abc/a',\n",
       " 'c:\\\\Users\\\\abc\\\\a']"
      ]
     },
     "execution_count": 250,
     "metadata": {},
     "output_type": "execute_result"
    }
   ],
   "source": [
    "sys.path"
   ]
  },
  {
   "cell_type": "code",
   "execution_count": null,
   "id": "b8272116-127c-40c8-bf66-8a0e5d431956",
   "metadata": {},
   "outputs": [],
   "source": []
  },
  {
   "cell_type": "code",
   "execution_count": null,
   "id": "1411f554-fbfc-4ba9-a187-0c9f7466efc5",
   "metadata": {},
   "outputs": [],
   "source": []
  }
 ],
 "metadata": {
  "kernelspec": {
   "display_name": "Python 3 (ipykernel)",
   "language": "python",
   "name": "python3"
  },
  "language_info": {
   "codemirror_mode": {
    "name": "ipython",
    "version": 3
   },
   "file_extension": ".py",
   "mimetype": "text/x-python",
   "name": "python",
   "nbconvert_exporter": "python",
   "pygments_lexer": "ipython3",
   "version": "3.9.12"
  }
 },
 "nbformat": 4,
 "nbformat_minor": 5
}
