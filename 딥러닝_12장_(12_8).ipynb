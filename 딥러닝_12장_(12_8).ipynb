{
  "nbformat": 4,
  "nbformat_minor": 0,
  "metadata": {
    "colab": {
      "provenance": [],
      "authorship_tag": "ABX9TyOLhwbx05HnGC2v5kv8tQyZ",
      "include_colab_link": true
    },
    "kernelspec": {
      "name": "python3",
      "display_name": "Python 3"
    },
    "language_info": {
      "name": "python"
    },
    "accelerator": "GPU",
    "gpuClass": "standard"
  },
  "cells": [
    {
      "cell_type": "markdown",
      "metadata": {
        "id": "view-in-github",
        "colab_type": "text"
      },
      "source": [
        "<a href=\"https://colab.research.google.com/github/limlimlim99/limjihyeonjjang/blob/main/%EB%94%A5%EB%9F%AC%EB%8B%9D_12%EC%9E%A5_(12_8).ipynb\" target=\"_parent\"><img src=\"https://colab.research.google.com/assets/colab-badge.svg\" alt=\"Open In Colab\"/></a>"
      ]
    },
    {
      "cell_type": "code",
      "execution_count": null,
      "metadata": {
        "id": "IpWYm99SNbRu"
      },
      "outputs": [],
      "source": [
        "# p.530"
      ]
    },
    {
      "cell_type": "code",
      "source": [
        "# 12-30 CelebaA 데이터 내려받기\n",
        "import gdown\n",
        "url = \"https://drive.google.com/uc?id=1lY922EZj1o3-q9gpTeVXNis2SU2LdPX8\"\n",
        "gdown.download(url, \"celeba_gan.tar\") "
      ],
      "metadata": {
        "colab": {
          "base_uri": "https://localhost:8080/",
          "height": 109
        },
        "id": "cgDtq7tENmZ6",
        "outputId": "5c014b63-06ad-4145-ff3b-39b5aa4b180c"
      },
      "execution_count": null,
      "outputs": [
        {
          "output_type": "stream",
          "name": "stderr",
          "text": [
            "Downloading...\n",
            "From: https://drive.google.com/uc?id=1lY922EZj1o3-q9gpTeVXNis2SU2LdPX8\n",
            "To: /content/celeba_gan.tar\n",
            "100%|██████████| 15.5M/15.5M [00:00<00:00, 156MB/s]\n"
          ]
        },
        {
          "output_type": "execute_result",
          "data": {
            "text/plain": [
              "'celeba_gan.tar'"
            ],
            "application/vnd.google.colaboratory.intrinsic+json": {
              "type": "string"
            }
          },
          "metadata": {},
          "execution_count": 2
        }
      ]
    },
    {
      "cell_type": "code",
      "source": [
        "ls"
      ],
      "metadata": {
        "colab": {
          "base_uri": "https://localhost:8080/"
        },
        "id": "h_SQkVp3V6wG",
        "outputId": "7bd11674-99e4-4d45-c54f-665d49a339da"
      },
      "execution_count": null,
      "outputs": [
        {
          "output_type": "stream",
          "name": "stdout",
          "text": [
            "celeba_gan.tar  \u001b[0m\u001b[01;34msample_data\u001b[0m/\n"
          ]
        }
      ]
    },
    {
      "cell_type": "code",
      "source": [
        "!tar -xvf celeba_gan.tar"
      ],
      "metadata": {
        "id": "lg0qX1E3V8Ht"
      },
      "execution_count": null,
      "outputs": []
    },
    {
      "cell_type": "markdown",
      "source": [],
      "metadata": {
        "id": "q16qZsOSPDmW"
      }
    },
    {
      "cell_type": "code",
      "source": [
        "# 12-31 이미지 디렉터리에 데이터셋을 만든다\n",
        "from tensorflow import keras\n",
        "dataset = keras.utils.image_dataset_from_directory(\n",
        "    \"celeba_gan\",\n",
        "    label_mode=None,\n",
        "    image_size=(64, 64),\n",
        "    batch_size=32,\n",
        "    smart_resize=True)"
      ],
      "metadata": {
        "colab": {
          "base_uri": "https://localhost:8080/"
        },
        "id": "DrDiVucaOGKS",
        "outputId": "84b9a862-712e-465c-9d4b-f6cfb4c23935"
      },
      "execution_count": null,
      "outputs": [
        {
          "output_type": "stream",
          "name": "stdout",
          "text": [
            "Found 2000 files belonging to 1 classes.\n"
          ]
        }
      ]
    },
    {
      "cell_type": "code",
      "source": [
        "dataset = dataset.map(lambda x: x / 255.)"
      ],
      "metadata": {
        "id": "chuPFNsXOHRi"
      },
      "execution_count": null,
      "outputs": []
    },
    {
      "cell_type": "code",
      "source": [
        "import matplotlib.pyplot as plt\n",
        "for x in dataset:\n",
        "    plt.axis(\"off\")\n",
        "    plt.imshow((x.numpy() * 255).astype(\"int32\")[0])\n",
        "    break"
      ],
      "metadata": {
        "colab": {
          "base_uri": "https://localhost:8080/",
          "height": 248
        },
        "id": "BGieSzsDPnWj",
        "outputId": "f2132395-e0bf-4415-93b3-509e82e0d30d"
      },
      "execution_count": null,
      "outputs": [
        {
          "output_type": "display_data",
          "data": {
            "text/plain": [
              "<Figure size 432x288 with 1 Axes>"
            ],
            "image/png": "[encoded data removed]"
          },
          "metadata": {
            "needs_background": "light"
          }
        }
      ]
    },
    {
      "cell_type": "code",
      "source": [
        "# 판별자 discriminator\n",
        "from tensorflow.keras import layers\n",
        "\n",
        "discriminator = keras.Sequential(\n",
        "    [\n",
        "        keras.Input(shape=(64, 64, 3)),\n",
        "        layers.Conv2D(64, kernel_size=4, strides=2, padding=\"same\"),\n",
        "        layers.LeakyReLU(alpha=0.2),\n",
        "        layers.Conv2D(128, kernel_size=4, strides=2, padding=\"same\"),\n",
        "        layers.LeakyReLU(alpha=0.2),\n",
        "        layers.Conv2D(128, kernel_size=4, strides=2, padding=\"same\"),\n",
        "        layers.LeakyReLU(alpha=0.2),\n",
        "        layers.Flatten(),\n",
        "        layers.Dropout(0.2),\n",
        "        layers.Dense(1, activation=\"sigmoid\"),\n",
        "    ],\n",
        "    name=\"discriminator\",\n",
        ")"
      ],
      "metadata": {
        "id": "DnqUynKFPw8_"
      },
      "execution_count": null,
      "outputs": []
    },
    {
      "cell_type": "code",
      "source": [
        "discriminator.summary()"
      ],
      "metadata": {
        "colab": {
          "base_uri": "https://localhost:8080/"
        },
        "id": "fCT-50tVPxHm",
        "outputId": "e9e1d789-9bb5-4916-ef90-edb05524006c"
      },
      "execution_count": null,
      "outputs": [
        {
          "output_type": "stream",
          "name": "stdout",
          "text": [
            "Model: \"discriminator\"\n",
            "_________________________________________________________________\n",
            " Layer (type)                Output Shape              Param #   \n",
            "=================================================================\n",
            " conv2d (Conv2D)             (None, 32, 32, 64)        3136      \n",
            "                                                                 \n",
            " leaky_re_lu (LeakyReLU)     (None, 32, 32, 64)        0         \n",
            "                                                                 \n",
            " conv2d_1 (Conv2D)           (None, 16, 16, 128)       131200    \n",
            "                                                                 \n",
            " leaky_re_lu_1 (LeakyReLU)   (None, 16, 16, 128)       0         \n",
            "                                                                 \n",
            " conv2d_2 (Conv2D)           (None, 8, 8, 128)         262272    \n",
            "                                                                 \n",
            " leaky_re_lu_2 (LeakyReLU)   (None, 8, 8, 128)         0         \n",
            "                                                                 \n",
            " flatten (Flatten)           (None, 8192)              0         \n",
            "                                                                 \n",
            " dropout (Dropout)           (None, 8192)              0         \n",
            "                                                                 \n",
            " dense (Dense)               (None, 1)                 8193      \n",
            "                                                                 \n",
            "=================================================================\n",
            "Total params: 404,801\n",
            "Trainable params: 404,801\n",
            "Non-trainable params: 0\n",
            "_________________________________________________________________\n"
          ]
        }
      ]
    },
    {
      "cell_type": "code",
      "source": [
        "# 생성자 generator\n",
        "latent_dim = 128\n",
        "\n",
        "generator = keras.Sequential(\n",
        "    [\n",
        "        keras.Input(shape=(latent_dim,)),\n",
        "        layers.Dense(8 * 8 * 128),\n",
        "        layers.Reshape((8, 8, 128)),\n",
        "        layers.Conv2DTranspose(128, kernel_size=4, strides=2, padding=\"same\"),\n",
        "        layers.LeakyReLU(alpha=0.2),\n",
        "        layers.Conv2DTranspose(256, kernel_size=4, strides=2, padding=\"same\"),\n",
        "        layers.LeakyReLU(alpha=0.2),\n",
        "        layers.Conv2DTranspose(512, kernel_size=4, strides=2, padding=\"same\"),\n",
        "        layers.LeakyReLU(alpha=0.2),\n",
        "        layers.Conv2D(3, kernel_size=5, padding=\"same\", activation=\"sigmoid\"),\n",
        "    ],\n",
        "    name=\"generator\",\n",
        ")"
      ],
      "metadata": {
        "id": "I6Pxf34pPxKm"
      },
      "execution_count": null,
      "outputs": []
    },
    {
      "cell_type": "code",
      "source": [
        "\n",
        "generator.summary()"
      ],
      "metadata": {
        "colab": {
          "base_uri": "https://localhost:8080/"
        },
        "id": "2Sbc8bcHPxNO",
        "outputId": "578ff1bb-47bb-42f6-bf49-05e395a1b0df"
      },
      "execution_count": null,
      "outputs": [
        {
          "output_type": "stream",
          "name": "stdout",
          "text": [
            "Model: \"generator\"\n",
            "_________________________________________________________________\n",
            " Layer (type)                Output Shape              Param #   \n",
            "=================================================================\n",
            " dense_1 (Dense)             (None, 8192)              1056768   \n",
            "                                                                 \n",
            " reshape (Reshape)           (None, 8, 8, 128)         0         \n",
            "                                                                 \n",
            " conv2d_transpose (Conv2DTra  (None, 16, 16, 128)      262272    \n",
            " nspose)                                                         \n",
            "                                                                 \n",
            " leaky_re_lu_3 (LeakyReLU)   (None, 16, 16, 128)       0         \n",
            "                                                                 \n",
            " conv2d_transpose_1 (Conv2DT  (None, 32, 32, 256)      524544    \n",
            " ranspose)                                                       \n",
            "                                                                 \n",
            " leaky_re_lu_4 (LeakyReLU)   (None, 32, 32, 256)       0         \n",
            "                                                                 \n",
            " conv2d_transpose_2 (Conv2DT  (None, 64, 64, 512)      2097664   \n",
            " ranspose)                                                       \n",
            "                                                                 \n",
            " leaky_re_lu_5 (LeakyReLU)   (None, 64, 64, 512)       0         \n",
            "                                                                 \n",
            " conv2d_3 (Conv2D)           (None, 64, 64, 3)         38403     \n",
            "                                                                 \n",
            "=================================================================\n",
            "Total params: 3,979,651\n",
            "Trainable params: 3,979,651\n",
            "Non-trainable params: 0\n",
            "_________________________________________________________________\n"
          ]
        }
      ]
    },
    {
      "cell_type": "code",
      "source": [
        "# 12-36\n",
        "import tensorflow as tf\n",
        "class GAN(keras.Model):\n",
        "    def __init__(self, discriminator, generator, latent_dim):\n",
        "        super().__init__()\n",
        "        self.discriminator = discriminator\n",
        "        self.generator = generator\n",
        "        self.latent_dim = latent_dim\n",
        "        self.d_loss_metric = keras.metrics.Mean(name=\"d_loss\")\n",
        "        self.g_loss_metric = keras.metrics.Mean(name=\"g_loss\")\n",
        "\n",
        "    def compile(self, d_optimizer, g_optimizer, loss_fn):\n",
        "        super(GAN, self).compile()\n",
        "        self.d_optimizer = d_optimizer\n",
        "        self.g_optimizer = g_optimizer\n",
        "        self.loss_fn = loss_fn\n",
        "\n",
        "    @property\n",
        "    def metrics(self):\n",
        "        return [self.d_loss_metric, self.g_loss_metric]\n",
        "\n",
        "    def train_step(self, real_images):\n",
        "        batch_size = tf.shape(real_images)[0]\n",
        "        random_latent_vectors = tf.random.normal(\n",
        "            shape=(batch_size, self.latent_dim))\n",
        "        generated_images = self.generator(random_latent_vectors)\n",
        "        combined_images = tf.concat([generated_images, real_images], axis=0)\n",
        "        labels = tf.concat(\n",
        "            [tf.ones((batch_size, 1)), tf.zeros((batch_size, 1))],\n",
        "            axis=0\n",
        "        )\n",
        "        labels += 0.05 * tf.random.uniform(tf.shape(labels))\n",
        "\n",
        "        with tf.GradientTape() as tape:\n",
        "            predictions = self.discriminator(combined_images)\n",
        "            d_loss = self.loss_fn(labels, predictions)\n",
        "        grads = tape.gradient(d_loss, self.discriminator.trainable_weights)\n",
        "        self.d_optimizer.apply_gradients(\n",
        "            zip(grads, self.discriminator.trainable_weights)\n",
        "        )\n",
        "\n",
        "        random_latent_vectors = tf.random.normal(\n",
        "            shape=(batch_size, self.latent_dim))\n",
        "\n",
        "        misleading_labels = tf.zeros((batch_size, 1))\n",
        "\n",
        "        with tf.GradientTape() as tape:\n",
        "            predictions = self.discriminator(\n",
        "                self.generator(random_latent_vectors))\n",
        "            g_loss = self.loss_fn(misleading_labels, predictions)\n",
        "        grads = tape.gradient(g_loss, self.generator.trainable_weights)\n",
        "        self.g_optimizer.apply_gradients(\n",
        "            zip(grads, self.generator.trainable_weights))\n",
        "\n",
        "        self.d_loss_metric.update_state(d_loss)\n",
        "        self.g_loss_metric.update_state(g_loss)\n",
        "        return {\"d_loss\": self.d_loss_metric.result(),\n",
        "                \"g_loss\": self.g_loss_metric.result()}"
      ],
      "metadata": {
        "id": "dQw4aR90RBWj"
      },
      "execution_count": null,
      "outputs": []
    },
    {
      "cell_type": "code",
      "source": [
        "\n",
        "# 12-37\n",
        "class GANMonitor(keras.callbacks.Callback):\n",
        "    def __init__(self, num_img=3, latent_dim=128):\n",
        "        self.num_img = num_img\n",
        "        self.latent_dim = latent_dim\n",
        "\n",
        "    def on_epoch_end(self, epoch, logs=None):\n",
        "        random_latent_vectors = tf.random.normal(shape=(self.num_img, self.latent_dim))\n",
        "        generated_images = self.model.generator(random_latent_vectors)\n",
        "        generated_images *= 255\n",
        "        generated_images.numpy()\n",
        "        for i in range(self.num_img):\n",
        "            img = keras.utils.array_to_img(generated_images[i])\n",
        "            img.save(f\"generated_img_{epoch:03d}_{i}.png\")\n",
        "          "
      ],
      "metadata": {
        "id": "uBdFtzQiYlRC"
      },
      "execution_count": null,
      "outputs": []
    },
    {
      "cell_type": "code",
      "source": [
        "#12-38\n",
        "epochs = 100\n",
        "\n",
        "gan = GAN(discriminator=discriminator, generator=generator, latent_dim=latent_dim)\n",
        "gan.compile(\n",
        "    d_optimizer=keras.optimizers.Adam(learning_rate=0.0001),\n",
        "    g_optimizer=keras.optimizers.Adam(learning_rate=0.0001),\n",
        "    loss_fn=keras.losses.BinaryCrossentropy(),\n",
        ")\n",
        "\n",
        "gan.fit(\n",
        "    dataset, epochs=epochs, callbacks=[GANMonitor(num_img=10, latent_dim=latent_dim)]\n",
        ")\n"
      ],
      "metadata": {
        "colab": {
          "base_uri": "https://localhost:8080/"
        },
        "id": "jSfw9CqAdoPH",
        "outputId": "fa867a3d-597c-4828-e636-26efd57bed9b"
      },
      "execution_count": null,
      "outputs": [
        {
          "output_type": "stream",
          "name": "stdout",
          "text": [
            "Epoch 1/100\n",
            "63/63 [==============================] - 37s 340ms/step - d_loss: 0.4894 - g_loss: 1.1642\n",
            "Epoch 2/100\n",
            "63/63 [==============================] - 20s 308ms/step - d_loss: 0.3736 - g_loss: 1.5493\n",
            "Epoch 3/100\n",
            "63/63 [==============================] - 19s 294ms/step - d_loss: 0.5751 - g_loss: 1.1287\n",
            "Epoch 4/100\n",
            "63/63 [==============================] - 19s 295ms/step - d_loss: 0.5815 - g_loss: 1.1963\n",
            "Epoch 5/100\n",
            "63/63 [==============================] - 19s 302ms/step - d_loss: 0.4651 - g_loss: 1.4298\n",
            "Epoch 6/100\n",
            "63/63 [==============================] - 19s 303ms/step - d_loss: 0.4889 - g_loss: 1.6709\n",
            "Epoch 7/100\n",
            "63/63 [==============================] - 19s 299ms/step - d_loss: 0.4740 - g_loss: 1.4607\n",
            "Epoch 8/100\n",
            "63/63 [==============================] - 19s 298ms/step - d_loss: 0.6006 - g_loss: 1.2779\n",
            "Epoch 9/100\n",
            "63/63 [==============================] - 19s 299ms/step - d_loss: 0.4996 - g_loss: 1.8317\n",
            "Epoch 10/100\n",
            "63/63 [==============================] - 19s 301ms/step - d_loss: 0.6700 - g_loss: 1.1091\n",
            "Epoch 11/100\n",
            "63/63 [==============================] - 19s 300ms/step - d_loss: 0.6994 - g_loss: 1.1641\n",
            "Epoch 12/100\n",
            "63/63 [==============================] - 19s 300ms/step - d_loss: 0.4952 - g_loss: 1.1195\n",
            "Epoch 13/100\n",
            "63/63 [==============================] - 19s 300ms/step - d_loss: 0.6777 - g_loss: 1.2293\n",
            "Epoch 14/100\n",
            "63/63 [==============================] - 19s 300ms/step - d_loss: 0.4361 - g_loss: 1.3886\n",
            "Epoch 15/100\n",
            "63/63 [==============================] - 19s 302ms/step - d_loss: 0.5399 - g_loss: 1.5198\n",
            "Epoch 16/100\n",
            "63/63 [==============================] - 19s 301ms/step - d_loss: 0.5302 - g_loss: 1.8226\n",
            "Epoch 17/100\n",
            "63/63 [==============================] - 19s 299ms/step - d_loss: 0.4697 - g_loss: 1.6890\n",
            "Epoch 18/100\n",
            "63/63 [==============================] - 19s 300ms/step - d_loss: 0.5640 - g_loss: 1.1488\n",
            "Epoch 19/100\n",
            "63/63 [==============================] - 19s 300ms/step - d_loss: 0.5808 - g_loss: 1.3370\n",
            "Epoch 20/100\n",
            "63/63 [==============================] - 19s 301ms/step - d_loss: 0.7510 - g_loss: 0.9596\n",
            "Epoch 21/100\n",
            "63/63 [==============================] - 19s 300ms/step - d_loss: 0.5902 - g_loss: 1.0741\n",
            "Epoch 22/100\n",
            "63/63 [==============================] - 19s 303ms/step - d_loss: 0.5928 - g_loss: 1.2280\n",
            "Epoch 23/100\n",
            "63/63 [==============================] - 19s 301ms/step - d_loss: 0.6349 - g_loss: 1.1172\n",
            "Epoch 24/100\n",
            "63/63 [==============================] - 19s 299ms/step - d_loss: 0.5608 - g_loss: 1.2518\n",
            "Epoch 25/100\n",
            "63/63 [==============================] - 19s 299ms/step - d_loss: 0.6621 - g_loss: 0.9710\n",
            "Epoch 26/100\n",
            "63/63 [==============================] - 19s 300ms/step - d_loss: 0.5580 - g_loss: 1.0208\n",
            "Epoch 27/100\n",
            "63/63 [==============================] - 19s 301ms/step - d_loss: 0.6114 - g_loss: 1.0563\n",
            "Epoch 28/100\n",
            "63/63 [==============================] - 19s 302ms/step - d_loss: 0.7060 - g_loss: 1.1782\n",
            "Epoch 29/100\n",
            "63/63 [==============================] - 19s 300ms/step - d_loss: 0.6338 - g_loss: 1.0152\n",
            "Epoch 30/100\n",
            "63/63 [==============================] - 19s 300ms/step - d_loss: 0.6367 - g_loss: 0.9208\n",
            "Epoch 31/100\n",
            "63/63 [==============================] - 19s 298ms/step - d_loss: 0.5687 - g_loss: 0.9554\n",
            "Epoch 32/100\n",
            "63/63 [==============================] - 19s 298ms/step - d_loss: 0.6035 - g_loss: 0.8884\n",
            "Epoch 33/100\n",
            "63/63 [==============================] - 19s 300ms/step - d_loss: 0.5837 - g_loss: 1.0206\n",
            "Epoch 34/100\n",
            "63/63 [==============================] - 19s 301ms/step - d_loss: 0.5966 - g_loss: 1.0385\n",
            "Epoch 35/100\n",
            "63/63 [==============================] - 19s 301ms/step - d_loss: 0.6835 - g_loss: 0.9819\n",
            "Epoch 36/100\n",
            "63/63 [==============================] - 19s 302ms/step - d_loss: 0.6034 - g_loss: 0.9228\n",
            "Epoch 37/100\n",
            "63/63 [==============================] - 19s 301ms/step - d_loss: 0.6228 - g_loss: 0.9278\n",
            "Epoch 38/100\n",
            "63/63 [==============================] - 19s 299ms/step - d_loss: 0.6334 - g_loss: 0.8976\n",
            "Epoch 39/100\n",
            "63/63 [==============================] - 19s 299ms/step - d_loss: 0.6302 - g_loss: 0.9611\n",
            "Epoch 40/100\n",
            "63/63 [==============================] - 19s 300ms/step - d_loss: 0.6785 - g_loss: 1.4429\n",
            "Epoch 41/100\n",
            "63/63 [==============================] - 19s 301ms/step - d_loss: 0.6650 - g_loss: 1.1591\n",
            "Epoch 42/100\n",
            "63/63 [==============================] - 19s 301ms/step - d_loss: 0.6195 - g_loss: 0.8368\n",
            "Epoch 43/100\n",
            "63/63 [==============================] - 19s 301ms/step - d_loss: 0.5774 - g_loss: 0.9463\n",
            "Epoch 44/100\n",
            "63/63 [==============================] - 19s 301ms/step - d_loss: 0.6439 - g_loss: 1.0566\n",
            "Epoch 45/100\n",
            "63/63 [==============================] - 19s 300ms/step - d_loss: 0.5977 - g_loss: 1.1160\n",
            "Epoch 46/100\n",
            "63/63 [==============================] - 19s 301ms/step - d_loss: 0.6308 - g_loss: 1.5283\n",
            "Epoch 47/100\n",
            "63/63 [==============================] - 19s 299ms/step - d_loss: 0.6107 - g_loss: 1.1493\n",
            "Epoch 48/100\n",
            "63/63 [==============================] - 19s 301ms/step - d_loss: 0.6962 - g_loss: 0.8730\n",
            "Epoch 49/100\n",
            "63/63 [==============================] - 19s 300ms/step - d_loss: 0.6259 - g_loss: 0.9806\n",
            "Epoch 50/100\n",
            "63/63 [==============================] - 19s 300ms/step - d_loss: 0.5707 - g_loss: 0.9198\n",
            "Epoch 51/100\n",
            "63/63 [==============================] - 19s 302ms/step - d_loss: 0.6776 - g_loss: 0.9172\n",
            "Epoch 52/100\n",
            "63/63 [==============================] - 19s 301ms/step - d_loss: 0.5955 - g_loss: 1.0192\n",
            "Epoch 53/100\n",
            "63/63 [==============================] - 19s 300ms/step - d_loss: 0.6723 - g_loss: 0.8625\n",
            "Epoch 54/100\n",
            "63/63 [==============================] - 19s 300ms/step - d_loss: 0.6702 - g_loss: 1.0481\n",
            "Epoch 55/100\n",
            "63/63 [==============================] - 19s 300ms/step - d_loss: 0.5885 - g_loss: 1.1457\n",
            "Epoch 56/100\n",
            "63/63 [==============================] - 19s 301ms/step - d_loss: 0.6326 - g_loss: 0.9716\n",
            "Epoch 57/100\n",
            "63/63 [==============================] - 19s 301ms/step - d_loss: 0.6284 - g_loss: 1.0725\n",
            "Epoch 58/100\n",
            "63/63 [==============================] - 19s 302ms/step - d_loss: 0.7792 - g_loss: 0.9815\n",
            "Epoch 59/100\n",
            "63/63 [==============================] - 19s 301ms/step - d_loss: 0.6447 - g_loss: 1.1020\n",
            "Epoch 60/100\n",
            "63/63 [==============================] - 19s 302ms/step - d_loss: 0.6998 - g_loss: 1.0527\n",
            "Epoch 61/100\n",
            "63/63 [==============================] - 19s 301ms/step - d_loss: 0.5203 - g_loss: 1.3154\n",
            "Epoch 62/100\n",
            "63/63 [==============================] - 19s 301ms/step - d_loss: 0.5604 - g_loss: 1.8616\n",
            "Epoch 63/100\n",
            "63/63 [==============================] - 19s 300ms/step - d_loss: 0.7210 - g_loss: 1.0254\n",
            "Epoch 64/100\n",
            "63/63 [==============================] - 19s 301ms/step - d_loss: 0.5543 - g_loss: 1.2359\n",
            "Epoch 65/100\n",
            "63/63 [==============================] - 19s 302ms/step - d_loss: 0.5647 - g_loss: 1.2382\n",
            "Epoch 66/100\n",
            "63/63 [==============================] - 19s 302ms/step - d_loss: 0.7650 - g_loss: 1.0951\n",
            "Epoch 67/100\n",
            "63/63 [==============================] - 19s 302ms/step - d_loss: 0.6039 - g_loss: 1.3074\n",
            "Epoch 68/100\n",
            "63/63 [==============================] - 19s 301ms/step - d_loss: 0.6695 - g_loss: 0.8907\n",
            "Epoch 69/100\n",
            "63/63 [==============================] - 19s 302ms/step - d_loss: 0.7038 - g_loss: 0.9162\n",
            "Epoch 70/100\n",
            "63/63 [==============================] - 19s 302ms/step - d_loss: 0.5793 - g_loss: 1.1421\n",
            "Epoch 71/100\n",
            "63/63 [==============================] - 19s 301ms/step - d_loss: 0.7510 - g_loss: 1.0113\n",
            "Epoch 72/100\n",
            "63/63 [==============================] - 19s 300ms/step - d_loss: 0.6616 - g_loss: 0.9286\n",
            "Epoch 73/100\n",
            "63/63 [==============================] - 19s 300ms/step - d_loss: 0.6595 - g_loss: 0.9090\n",
            "Epoch 74/100\n",
            "63/63 [==============================] - 19s 299ms/step - d_loss: 0.6762 - g_loss: 0.8861\n",
            "Epoch 75/100\n",
            "63/63 [==============================] - 19s 300ms/step - d_loss: 0.6903 - g_loss: 0.7206\n",
            "Epoch 76/100\n",
            "63/63 [==============================] - 19s 302ms/step - d_loss: 0.6495 - g_loss: 0.9033\n",
            "Epoch 77/100\n",
            "63/63 [==============================] - 19s 301ms/step - d_loss: 0.6755 - g_loss: 0.9990\n",
            "Epoch 78/100\n",
            "63/63 [==============================] - 19s 300ms/step - d_loss: 0.6291 - g_loss: 1.0234\n",
            "Epoch 79/100\n",
            "63/63 [==============================] - 19s 301ms/step - d_loss: 0.6818 - g_loss: 0.9631\n",
            "Epoch 80/100\n",
            "63/63 [==============================] - 19s 300ms/step - d_loss: 0.7060 - g_loss: 0.8863\n",
            "Epoch 81/100\n",
            "63/63 [==============================] - 19s 299ms/step - d_loss: 0.5739 - g_loss: 1.0659\n",
            "Epoch 82/100\n",
            "63/63 [==============================] - 19s 301ms/step - d_loss: 0.6252 - g_loss: 0.9615\n",
            "Epoch 83/100\n",
            "63/63 [==============================] - 19s 301ms/step - d_loss: 0.6736 - g_loss: 1.1339\n",
            "Epoch 84/100\n",
            "63/63 [==============================] - 19s 302ms/step - d_loss: 0.6274 - g_loss: 0.9721\n",
            "Epoch 85/100\n",
            "63/63 [==============================] - 19s 301ms/step - d_loss: 0.6688 - g_loss: 1.0412\n",
            "Epoch 86/100\n",
            "63/63 [==============================] - 19s 301ms/step - d_loss: 0.6433 - g_loss: 1.0405\n",
            "Epoch 87/100\n",
            "63/63 [==============================] - 19s 299ms/step - d_loss: 0.6307 - g_loss: 1.1882\n",
            "Epoch 88/100\n",
            "63/63 [==============================] - 19s 300ms/step - d_loss: 0.6523 - g_loss: 0.9516\n",
            "Epoch 89/100\n",
            "63/63 [==============================] - 19s 301ms/step - d_loss: 0.6867 - g_loss: 0.9626\n",
            "Epoch 90/100\n",
            "63/63 [==============================] - 19s 302ms/step - d_loss: 0.6550 - g_loss: 1.0179\n",
            "Epoch 91/100\n",
            "63/63 [==============================] - 19s 301ms/step - d_loss: 0.6067 - g_loss: 0.9383\n",
            "Epoch 92/100\n",
            "63/63 [==============================] - 19s 300ms/step - d_loss: 0.7118 - g_loss: 1.1167\n",
            "Epoch 93/100\n",
            "63/63 [==============================] - 19s 303ms/step - d_loss: 0.7069 - g_loss: 1.0066\n",
            "Epoch 94/100\n",
            "63/63 [==============================] - 19s 301ms/step - d_loss: 0.6864 - g_loss: 0.9235\n",
            "Epoch 95/100\n",
            "63/63 [==============================] - 19s 301ms/step - d_loss: 0.6142 - g_loss: 1.0258\n",
            "Epoch 96/100\n",
            "63/63 [==============================] - 19s 301ms/step - d_loss: 0.6419 - g_loss: 1.0131\n",
            "Epoch 97/100\n",
            "63/63 [==============================] - 19s 302ms/step - d_loss: 0.5882 - g_loss: 1.1276\n",
            "Epoch 98/100\n",
            "63/63 [==============================] - 19s 301ms/step - d_loss: 0.6394 - g_loss: 0.9296\n",
            "Epoch 99/100\n",
            "63/63 [==============================] - 19s 301ms/step - d_loss: 0.6449 - g_loss: 0.9162\n",
            "Epoch 100/100\n",
            "63/63 [==============================] - 19s 299ms/step - d_loss: 0.6403 - g_loss: 0.8979\n"
          ]
        },
        {
          "output_type": "execute_result",
          "data": {
            "text/plain": [
              "<keras.callbacks.History at 0x7fd780284970>"
            ]
          },
          "metadata": {},
          "execution_count": 14
        }
      ]
    }
  ]
}