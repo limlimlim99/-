{
 "cells": [
  {
   "cell_type": "code",
   "execution_count": null,
   "id": "cb119f48-56ab-463c-98d1-cdf84d4da5c9",
   "metadata": {},
   "outputs": [],
   "source": [
    "# Auto 이상탐지"
   ]
  },
  {
   "cell_type": "code",
   "execution_count": 2,
   "id": "e832b0a1-80d4-4edd-afe2-551ba6e8ea16",
   "metadata": {},
   "outputs": [
    {
     "ename": "SyntaxError",
     "evalue": "invalid syntax (3279240983.py, line 1)",
     "output_type": "error",
     "traceback": [
      "\u001b[1;36m  Input \u001b[1;32mIn [2]\u001b[1;36m\u001b[0m\n\u001b[1;33m    originality from https://www.pyimagesearch.com/2020/03/02/anomaly-detection-with-keras-tensorflow-and-deep-learning/\u001b[0m\n\u001b[1;37m                ^\u001b[0m\n\u001b[1;31mSyntaxError\u001b[0m\u001b[1;31m:\u001b[0m invalid syntax\n"
     ]
    }
   ],
   "source": [
    "originality from https://www.pyimagesearch.com/2020/03/02/anomaly-detection-with-keras-tensorflow-and-deep-learning/"
   ]
  },
  {
   "cell_type": "code",
   "execution_count": 19,
   "id": "e4feee1e-6fc1-4663-a052-4b10b4be4661",
   "metadata": {},
   "outputs": [],
   "source": [
    "# cv오류 해결하기\n",
    "# pip install opencv-python "
   ]
  },
  {
   "cell_type": "code",
   "execution_count": 20,
   "id": "8c88ae40-9222-426b-be86-96c835a25c5e",
   "metadata": {},
   "outputs": [],
   "source": [
    "# AutoEncoder를 사용한 이상탐지\n",
    "\n",
    "정상인 데이터들 중에 소수의 비정상인 데이터가 포함되어 있다.\n",
    "\n",
    "AutoEncoder를 사용하여 학습 시킨다.\n",
    "\n",
    "이렇게 학습된 AutoEncoder는 대부분의 정상 데이터에 대하여 복원 능력이 있다. 하지만 소소의 비정상 데이터에 대해서는 제대로 복원하지 못한다.\n",
    "\n",
    "이렇게 학습시킨 AutoEncoder를 가지고 특정영상을 복원 하게 하고 그 복원 결과가 좋지 않을 경우 정상영상이 아니라고 판정한다.\n",
    "\n",
    "originality from \n",
    "https://www.pyimagesearch.com/2020/03/02/anomaly-detection-with-keras-tensorflow-and-deep-learning/"
   ]
  },
  {
   "cell_type": "code",
   "execution_count": 21,
   "id": "9f3adfc6-e480-4ce2-ae97-22560be2bcbc",
   "metadata": {},
   "outputs": [],
   "source": [
    "from tensorflow.keras.layers import BatchNormalization\n",
    "from tensorflow.keras.layers import Conv2D\n",
    "from tensorflow.keras.layers import Conv2DTranspose\n",
    "from tensorflow.keras.layers import LeakyReLU\n",
    "from tensorflow.keras.layers import Activation\n",
    "from tensorflow.keras.layers import Flatten\n",
    "from tensorflow.keras.layers import Dense\n",
    "from tensorflow.keras.layers import Reshape\n",
    "from tensorflow.keras.layers import Input\n",
    "from tensorflow.keras import Model\n",
    "from tensorflow.keras import backend as K\n",
    "import numpy as np\n",
    "\n",
    "from tensorflow.keras.optimizers import Adam\n",
    "from tensorflow.keras.datasets import mnist\n",
    "from sklearn.model_selection import train_test_split\n",
    "import matplotlib.pyplot as plt\n",
    "import numpy as np\n",
    "\n",
    "import random\n",
    "import pickle\n",
    "import cv2\n",
    "import matplotlib"
   ]
  },
  {
   "cell_type": "code",
   "execution_count": 22,
   "id": "55968dff-3d20-4151-be27-f3b51c0d4bd9",
   "metadata": {},
   "outputs": [],
   "source": [
    "#pip install opencv-python"
   ]
  },
  {
   "cell_type": "code",
   "execution_count": 23,
   "id": "5423d3d6-e1d7-42c8-bbfb-c4840b0f1a02",
   "metadata": {},
   "outputs": [],
   "source": [
    "# 데이터 준비\n",
    "\n",
    "## 데이터 로딩\n",
    "\n",
    "((trainX, trainY), (testX, testY)) = mnist.load_data()"
   ]
  },
  {
   "cell_type": "code",
   "execution_count": 25,
   "id": "74cdb569-96b7-4bd7-ad4e-6e3fa51e416a",
   "metadata": {},
   "outputs": [],
   "source": [
    "## 데이터셋 생성\n",
    "\n",
    "#1의 레이블 영상이 정상이고 3의 레이블 영상이 비정상으로 한다.\n",
    "\n",
    "#정상 영상과 비정상 영상의 비율을 100:1로 해서 골라내고, 골고루 섞은 데이터셋을 만든다.\n",
    "\n",
    "\n",
    "\n",
    "def build_unsupervised_dataset(data, labels, validLabel=1, anomalyLabel=3, contam=0.01, seed=42):\n",
    "\n",
    "  # 레이블 1인 영상의 인덱스\n",
    "\tvalidIdxs = np.where(labels == validLabel)[0]\n",
    "  # 레이블 3인 영상의 인덱스\n",
    "\tanomalyIdxs = np.where(labels == anomalyLabel)[0]\n",
    "\n",
    "  # 무작위로 섞어 주고\n",
    "\trandom.shuffle(validIdxs)\n",
    "\trandom.shuffle(anomalyIdxs)\n",
    "\n",
    "  # 비정상 데이터의 갯수를 비정상 데이터 갯수 대비 0.01(contam)로 한다.\n",
    "\ti = int(len(validIdxs) * contam)\n",
    "\tanomalyIdxs = anomalyIdxs[:i]\n",
    "\n",
    "\tprint(\"len(validIdx)=\",len(validIdxs))\n",
    "\tprint(\"len(anomalyIdxs)=\",len(anomalyIdxs))\n",
    "\n",
    "  # 추려낸 정상 데이터와 비정상 제이터\n",
    "\tvalidImages = data[validIdxs]\n",
    "\tanomalyImages = data[anomalyIdxs]\n",
    "\n",
    "  # 두개의 데이터를 합하고, 다시 섞어주고\n",
    "\timages = np.vstack([validImages, anomalyImages])\n",
    "\tnp.random.seed(seed)\n",
    "\tnp.random.shuffle(images)\n",
    "\n",
    "\treturn images"
   ]
  },
  {
   "cell_type": "code",
   "execution_count": 26,
   "id": "d1d30147-aaad-4a40-8dcb-63dea5943775",
   "metadata": {},
   "outputs": [
    {
     "name": "stdout",
     "output_type": "stream",
     "text": [
      "len(validIdx)= 6742\n",
      "len(anomalyIdxs)= 67\n",
      "(6809, 28, 28)\n",
      "255\n",
      "0\n"
     ]
    }
   ],
   "source": [
    "images = build_unsupervised_dataset(trainX, trainY, validLabel=1, anomalyLabel=3, contam=0.01)\n",
    "\n",
    "print(images.shape)\n",
    "print(np.max(images))\n",
    "print(np.min(images))"
   ]
  },
  {
   "cell_type": "code",
   "execution_count": null,
   "id": "80eff2a7-b713-4b07-bb35-cd45b5dcb07d",
   "metadata": {},
   "outputs": [],
   "source": [
    "## 데이터 모양 변경, Normalization\n",
    "\n",
    "Conv2D 사용을 위해 데이터 모양을 (H, W, channel)의 3차원으로 만들고\n",
    "(28, 28) -> (28, 28, 1)\n",
    "\n",
    "0 ~ 1.0으로 normlaization 한다."
   ]
  },
  {
   "cell_type": "code",
   "execution_count": 27,
   "id": "c55a6a99-4635-47ef-997e-8e920632464c",
   "metadata": {},
   "outputs": [
    {
     "name": "stdout",
     "output_type": "stream",
     "text": [
      "(6809, 28, 28, 1)\n",
      "1.0\n",
      "0.0\n"
     ]
    }
   ],
   "source": [
    "images = np.expand_dims(images, axis=-1)\n",
    "images = images.astype(\"float32\") / 255.0\n",
    "\n",
    "print(images.shape)\n",
    "print(np.max(images))\n",
    "print(np.min(images))"
   ]
  },
  {
   "cell_type": "code",
   "execution_count": 28,
   "id": "bf5525c9-dd82-4b2f-b331-7e94552443dd",
   "metadata": {},
   "outputs": [
    {
     "name": "stdout",
     "output_type": "stream",
     "text": [
      "(5447, 28, 28, 1)\n",
      "(1362, 28, 28, 1)\n",
      "(5447, 28, 28, 1)\n",
      "(1362, 28, 28, 1)\n"
     ]
    }
   ],
   "source": [
    "## 데이터 분리\n",
    "\n",
    "(trainX, testX) = train_test_split(images, test_size=0.2, random_state=42)\n",
    "\n",
    "print(trainX.shape)\n",
    "print(testX.shape)\n",
    "\n",
    "print(trainX.shape)\n",
    "print(testX.shape)"
   ]
  },
  {
   "cell_type": "code",
   "execution_count": 29,
   "id": "2674c8f9-49be-4eb4-ac5b-ab7a3884ee1b",
   "metadata": {},
   "outputs": [
    {
     "data": {
      "image/png": "[encoded data removed]",
      "text/plain": [
       "<Figure size 432x288 with 1 Axes>"
      ]
     },
     "metadata": {
      "needs_background": "light"
     },
     "output_type": "display_data"
    }
   ],
   "source": [
    "for i in range(10):\n",
    "  plt.imshow(trainX[i].reshape((28,28)))\n",
    "  \n",
    "plt.show()"
   ]
  },
  {
   "cell_type": "code",
   "execution_count": 32,
   "id": "086fe963-4062-4785-bb33-422c42aa2c51",
   "metadata": {},
   "outputs": [],
   "source": [
    "# 학습\n",
    "\n",
    "## 모델 정의\n",
    "\n",
    "class ConvAutoencoder:\n",
    "\n",
    "\t@staticmethod\n",
    "\tdef build(width, height, depth, filters=(32, 64), latentDim=16):\n",
    "\t\tinputShape = (height, width, depth)\n",
    "\t\tchanDim = -1\n",
    "\n",
    "\t\tinputs = Input(shape=inputShape)\n",
    "\t\tx = inputs\n",
    "\n",
    "\t\tfor f in filters:\n",
    "\t\t\t# apply a CONV => RELU => BN operation\n",
    "\t\t\tx = Conv2D(f, (3, 3), strides=2, padding=\"same\")(x)\n",
    "\t\t\tx = LeakyReLU(alpha=0.2)(x)\n",
    "\t\t\tx = BatchNormalization(axis=chanDim)(x)\n",
    "\n",
    "\t\tvolumeSize = K.int_shape(x)\n",
    "\t\tx = Flatten()(x)\n",
    "\t\tlatent = Dense(latentDim)(x)\n",
    "\n",
    "\t\tencoder = Model(inputs, latent, name=\"encoder\")\n",
    "\n",
    "\t\tlatentInputs = Input(shape=(latentDim,))\n",
    "\t\tx = Dense(np.prod(volumeSize[1:]))(latentInputs)\n",
    "\t\tx = Reshape((volumeSize[1], volumeSize[2], volumeSize[3]))(x)\n",
    "\n",
    "\t\tfor f in filters[::-1]:\n",
    "\t\t\t# apply a CONV_TRANSPOSE => RELU => BN operation\n",
    "\t\t\tx = Conv2DTranspose(f, (3, 3), strides=2, padding=\"same\")(x)\n",
    "\t\t\tx = LeakyReLU(alpha=0.2)(x)\n",
    "\t\t\tx = BatchNormalization(axis=chanDim)(x)\n",
    "\n",
    "\t\tx = Conv2DTranspose(depth, (3, 3), padding=\"same\")(x)\n",
    "\t\toutputs = Activation(\"sigmoid\")(x)\n",
    "\n",
    "\t\tdecoder = Model(latentInputs, outputs, name=\"decoder\")\n",
    "\n",
    "\n",
    "\n",
    "\t\tautoencoder = Model(inputs, decoder(encoder(inputs)), name=\"autoencoder\")\n",
    "\n",
    "\n",
    "\t\treturn autoencoder"
   ]
  },
  {
   "cell_type": "code",
   "execution_count": 34,
   "id": "1c81a579-3bac-47ba-8b85-27cc0395fcfb",
   "metadata": {},
   "outputs": [
    {
     "name": "stdout",
     "output_type": "stream",
     "text": [
      "Model: \"autoencoder\"\n",
      "_________________________________________________________________\n",
      " Layer (type)                Output Shape              Param #   \n",
      "=================================================================\n",
      " input_3 (InputLayer)        [(None, 28, 28, 1)]       0         \n",
      "                                                                 \n",
      " encoder (Functional)        (None, 16)                69392     \n",
      "                                                                 \n",
      " decoder (Functional)        (None, 28, 28, 1)         109377    \n",
      "                                                                 \n",
      "=================================================================\n",
      "Total params: 178,769\n",
      "Trainable params: 178,385\n",
      "Non-trainable params: 384\n",
      "_________________________________________________________________\n"
     ]
    }
   ],
   "source": [
    "## 모델 생성\n",
    "\n",
    "autoencoder = ConvAutoencoder.build(28, 28, 1)\n",
    "autoencoder.summary()"
   ]
  },
  {
   "cell_type": "code",
   "execution_count": 35,
   "id": "8c59291d-2e4f-455b-bb20-24fb18b6eafa",
   "metadata": {},
   "outputs": [],
   "source": [
    "## 모델 컴파일\n",
    "\n",
    "# decay값은 1 step 마다 감소하는 비율\n",
    "opt = Adam(learning_rate=1e-3, decay=0.0025)\n",
    "autoencoder.compile(loss=\"mse\", optimizer=opt)"
   ]
  },
  {
   "cell_type": "code",
   "execution_count": 37,
   "id": "9f2d34e8-4d27-4de5-8a59-425d3181e62f",
   "metadata": {},
   "outputs": [
    {
     "name": "stdout",
     "output_type": "stream",
     "text": [
      "Epoch 1/20\n",
      "154/154 [==============================] - 9s 46ms/step - loss: 0.0427 - val_loss: 0.0480\n",
      "Epoch 2/20\n",
      "154/154 [==============================] - 7s 43ms/step - loss: 0.0150 - val_loss: 0.0436\n",
      "Epoch 3/20\n",
      "154/154 [==============================] - 6s 42ms/step - loss: 0.0060 - val_loss: 0.0196\n",
      "Epoch 4/20\n",
      "154/154 [==============================] - 6s 42ms/step - loss: 0.0039 - val_loss: 0.0080\n",
      "Epoch 5/20\n",
      "154/154 [==============================] - 6s 42ms/step - loss: 0.0034 - val_loss: 0.0041\n",
      "Epoch 6/20\n",
      "154/154 [==============================] - 6s 41ms/step - loss: 0.0032 - val_loss: 0.0034\n",
      "Epoch 7/20\n",
      "154/154 [==============================] - 6s 42ms/step - loss: 0.0029 - val_loss: 0.0032\n",
      "Epoch 8/20\n",
      "154/154 [==============================] - 6s 42ms/step - loss: 0.0027 - val_loss: 0.0030\n",
      "Epoch 9/20\n",
      "154/154 [==============================] - 7s 42ms/step - loss: 0.0026 - val_loss: 0.0031\n",
      "Epoch 10/20\n",
      "154/154 [==============================] - 6s 42ms/step - loss: 0.0025 - val_loss: 0.0029\n",
      "Epoch 11/20\n",
      "154/154 [==============================] - 6s 41ms/step - loss: 0.0024 - val_loss: 0.0029\n",
      "Epoch 12/20\n",
      "154/154 [==============================] - 6s 40ms/step - loss: 0.0023 - val_loss: 0.0028\n",
      "Epoch 13/20\n",
      "154/154 [==============================] - 6s 41ms/step - loss: 0.0022 - val_loss: 0.0028\n",
      "Epoch 14/20\n",
      "154/154 [==============================] - 6s 40ms/step - loss: 0.0022 - val_loss: 0.0027\n",
      "Epoch 15/20\n",
      "154/154 [==============================] - 6s 41ms/step - loss: 0.0021 - val_loss: 0.0027\n",
      "Epoch 16/20\n",
      "154/154 [==============================] - 7s 42ms/step - loss: 0.0021 - val_loss: 0.0026\n",
      "Epoch 17/20\n",
      "154/154 [==============================] - 7s 42ms/step - loss: 0.0020 - val_loss: 0.0026\n",
      "Epoch 18/20\n",
      "154/154 [==============================] - 6s 42ms/step - loss: 0.0020 - val_loss: 0.0026\n",
      "Epoch 19/20\n",
      "154/154 [==============================] - 6s 41ms/step - loss: 0.0020 - val_loss: 0.0026\n",
      "Epoch 20/20\n",
      "154/154 [==============================] - 6s 42ms/step - loss: 0.0019 - val_loss: 0.0026\n"
     ]
    },
    {
     "data": {
      "text/plain": [
       "<matplotlib.legend.Legend at 0x136862e7c70>"
      ]
     },
     "execution_count": 37,
     "metadata": {},
     "output_type": "execute_result"
    },
    {
     "data": {
      "image/png": "[encoded data removed]",
      "text/plain": [
       "<Figure size 432x288 with 1 Axes>"
      ]
     },
     "metadata": {},
     "output_type": "display_data"
    }
   ],
   "source": [
    "## 학습\n",
    "\n",
    "history = autoencoder.fit(trainX, trainX, validation_split=0.1, epochs=20, batch_size=32)\n",
    "\n",
    "N = np.arange(len(history.history['loss']))\n",
    "\n",
    "plt.style.use(\"ggplot\")\n",
    "plt.figure()\n",
    "plt.plot(N, history.history[\"loss\"], label=\"train_loss\")\n",
    "plt.plot(N, history.history[\"val_loss\"], label=\"val_loss\")\n",
    "plt.title(\"Training Loss\")\n",
    "plt.xlabel(\"Epoch #\")\n",
    "plt.ylabel(\"Loss\")\n",
    "plt.legend(loc=\"lower left\")"
   ]
  },
  {
   "cell_type": "code",
   "execution_count": 38,
   "id": "023724c9-aeec-4ad3-815d-d203c319c360",
   "metadata": {},
   "outputs": [
    {
     "name": "stdout",
     "output_type": "stream",
     "text": [
      "43/43 [==============================] - 1s 15ms/step\n"
     ]
    },
    {
     "data": {
      "image/png": "[encoded data removed]",
      "text/plain": [
       "<Figure size 432x288 with 1 Axes>"
      ]
     },
     "metadata": {},
     "output_type": "display_data"
    }
   ],
   "source": [
    "## 테스트 데이터에 대한 복원 실행\n",
    "\n",
    "reconstructed = autoencoder.predict(testX)\n",
    "\n",
    "for i in range(10):\n",
    "  combined = np.hstack([testX[i], reconstructed[i]])\n",
    "  plt.imshow(combined.squeeze())\n",
    "  \n",
    "plt.show()"
   ]
  },
  {
   "cell_type": "code",
   "execution_count": null,
   "id": "43b51ba4-a4c5-49f8-8503-f4b143627026",
   "metadata": {},
   "outputs": [],
   "source": [
    "# 이상 탐지\n",
    "\n",
    "학습된 AutoEncoder는 1 영상(정상 영상)의 경우 잘 복원한다. 그러나 그렇지 않은 경우 잘 복원하지 못한다.\n",
    "\n",
    "\n",
    "1의 영상은 정상이고, 3의 영상은 비정상이다.\n",
    "\n",
    "또한 1이외의 정상 역시 비정상이다.\n",
    "\n",
    "<br>\n",
    "\n",
    "AutoEncoder를 사용하여 인코딩과 디코딩을 통해 복원하고, 복원된 것이 원본과 차이가 날 수록 비정상인것으로 판단한다."
   ]
  },
  {
   "cell_type": "code",
   "execution_count": 39,
   "id": "29fc2e98-dc14-4c30-b222-901f57d3daa9",
   "metadata": {},
   "outputs": [
    {
     "name": "stdout",
     "output_type": "stream",
     "text": [
      "43/43 [==============================] - 1s 14ms/step\n"
     ]
    }
   ],
   "source": [
    "## 복원 실행\n",
    "\n",
    "reconstructed = autoencoder.predict(testX)"
   ]
  },
  {
   "cell_type": "code",
   "execution_count": 40,
   "id": "c6d013bd-5e20-4ebc-b5bc-57528a80b458",
   "metadata": {},
   "outputs": [
    {
     "data": {
      "image/png": "[encoded data removed]",
      "text/plain": [
       "<Figure size 432x288 with 1 Axes>"
      ]
     },
     "metadata": {},
     "output_type": "display_data"
    }
   ],
   "source": [
    "## 차이 계산\n",
    "\n",
    "errors = []\n",
    "\n",
    "for (image, recon) in zip(testX, reconstructed):\n",
    "\t# compute the mean squared error between the ground-truth image\n",
    "\t# and the reconstructed image, then add it to our list of errors\n",
    "\tmse = np.mean((image - recon) ** 2)\n",
    "\terrors.append(mse)\n",
    "\n",
    "plt.hist(errors, bins=100)\n",
    "plt.show()"
   ]
  },
  {
   "cell_type": "code",
   "execution_count": 41,
   "id": "b8d691bf-3cb2-46c8-80b1-fc5d4fdadd5a",
   "metadata": {},
   "outputs": [],
   "source": [
    "#데이터의 1/101이 비정상 데이터이다."
   ]
  },
  {
   "cell_type": "code",
   "execution_count": 42,
   "id": "51fe713d-ea62-48ed-bdbd-d439294a58d0",
   "metadata": {},
   "outputs": [
    {
     "name": "stdout",
     "output_type": "stream",
     "text": [
      "0.02439323263242847\n",
      "14\n"
     ]
    },
    {
     "data": {
      "image/png": "[encoded data removed]",
      "text/plain": [
       "<Figure size 432x288 with 1 Axes>"
      ]
     },
     "metadata": {},
     "output_type": "display_data"
    }
   ],
   "source": [
    "#quantile 0.99 이상이 되는 threshold를 구하자.\n",
    "\n",
    "threshold = np.quantile(errors, 0.99)\n",
    "print(threshold)\n",
    "\n",
    "anomaly_idxs = np.where(np.array(errors) >= threshold)[0]\n",
    "print(len(anomaly_idxs))\n",
    "\n",
    "for i in anomaly_idxs:\n",
    "  combined = np.hstack([testX[i], reconstructed[i]])\n",
    "  plt.imshow(combined.squeeze())\n",
    "  \n",
    "plt.show()"
   ]
  },
  {
   "cell_type": "code",
   "execution_count": 43,
   "id": "940b794f-52ae-4e75-a349-c65713834058",
   "metadata": {},
   "outputs": [],
   "source": [
    "#비정상 영상인 3자와, 정말 이상하게 생긴 1자를 잘 찾아 냈다."
   ]
  },
  {
   "cell_type": "code",
   "execution_count": 44,
   "id": "e68e144a-0ade-45db-9168-1fda2f302b0a",
   "metadata": {},
   "outputs": [
    {
     "name": "stdout",
     "output_type": "stream",
     "text": [
      "(10000, 28, 28, 1)\n",
      "(1362, 28, 28, 1)\n"
     ]
    }
   ],
   "source": [
    "# 1과 3 이외의 입력\n",
    "\n",
    "((trainX, trainY), (testX, testY)) = mnist.load_data()\n",
    "\n",
    "testX = np.expand_dims(testX, axis=-1)\n",
    "testX = testX.astype(\"float32\") / 255.0\n",
    "\n",
    "print(testX.shape)\n",
    "print(reconstructed.shape)"
   ]
  },
  {
   "cell_type": "code",
   "execution_count": 45,
   "id": "9dfbb094-d5ef-4a6a-86a4-26e432aa96e3",
   "metadata": {},
   "outputs": [
    {
     "name": "stdout",
     "output_type": "stream",
     "text": [
      "313/313 [==============================] - 5s 16ms/step\n"
     ]
    },
    {
     "data": {
      "image/png": "[encoded data removed]",
      "text/plain": [
       "<Figure size 432x288 with 1 Axes>"
      ]
     },
     "metadata": {},
     "output_type": "display_data"
    }
   ],
   "source": [
    "reconstructed = autoencoder.predict(testX)\n",
    "\n",
    "for i in range(30):\n",
    "  combined = np.hstack([testX[i], reconstructed[i]])\n",
    "  plt.imshow(combined.squeeze())\n",
    "  \n",
    "plt.show() "
   ]
  },
  {
   "cell_type": "code",
   "execution_count": null,
   "id": "10678fc1-d381-4932-a887-a2c533d1ea5f",
   "metadata": {},
   "outputs": [],
   "source": []
  }
 ],
 "metadata": {
  "kernelspec": {
   "display_name": "Python 3 (ipykernel)",
   "language": "python",
   "name": "python3"
  },
  "language_info": {
   "codemirror_mode": {
    "name": "ipython",
    "version": 3
   },
   "file_extension": ".py",
   "mimetype": "text/x-python",
   "name": "python",
   "nbconvert_exporter": "python",
   "pygments_lexer": "ipython3",
   "version": "3.9.12"
  }
 },
 "nbformat": 4,
 "nbformat_minor": 5
}
