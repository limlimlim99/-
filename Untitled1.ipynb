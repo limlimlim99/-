{
 "cells": [
  {
   "cell_type": "markdown",
   "id": "ac15391e-8b65-444b-982c-60d272dc0e2d",
   "metadata": {},
   "source": [
    "# 파일 입출력"
   ]
  },
  {
   "cell_type": "markdown",
   "id": "43c40277-400a-4184-ba67-354e370ffa2b",
   "metadata": {},
   "source": [
    "## 파일 만들기"
   ]
  },
  {
   "cell_type": "code",
   "execution_count": 22,
   "id": "19501290-8981-499d-a0ea-47b0cac839c3",
   "metadata": {},
   "outputs": [],
   "source": [
    "f=open(\n",
    ") #객체만들기\n",
    "f.write(\"Hello\\n\")      #쓰기\n",
    "f.close()  #만들고 닫아준다"
   ]
  },
  {
   "cell_type": "code",
   "execution_count": 73,
   "id": "e3e4324f-d652-4902-a485-d68aa906804c",
   "metadata": {},
   "outputs": [],
   "source": [
    "f=open(\"new.txt\",'a') #객체만들기\n",
    "f.write(\"\\nGood Morning\\n\")      #쓰기\n",
    "f.close()  #만들고 닫아준다"
   ]
  },
  {
   "cell_type": "code",
   "execution_count": 25,
   "id": "7edd4691-4508-4911-8d59-c8f30e145ee2",
   "metadata": {},
   "outputs": [],
   "source": [
    "f=open(\"new.txt\",'w') #객체만들기\n",
    "f.write(\"Hello\\n\")  #쓰기\n",
    "f.write(\"Good Morning\\n\") \n",
    "f.write(\"Good Afternoon\\n\") \n",
    "f.close()  #만들고 닫아준다"
   ]
  },
  {
   "cell_type": "code",
   "execution_count": 31,
   "id": "5a64745b-57fb-4f28-9afc-61126f75aef0",
   "metadata": {},
   "outputs": [],
   "source": [
    "f=open(\"new.txt\",'w')\n",
    "for i in range(10):\n",
    "    f.write(f\"{i}\\n\")\n",
    "f.close()  "
   ]
  },
  {
   "cell_type": "markdown",
   "id": "b1882818-79db-47c2-919f-9c4b92a894d2",
   "metadata": {},
   "source": [
    "w:wirte(쓰기모드)\n",
    "r:reading(읽기모드)\n",
    "a:append(추가)\n",
    "\n",
    "b:binary:(txt가 아닌 모든 것)음악,사진,동영상\n",
    "\n",
    "wb:바이너리를 쓰기모드"
   ]
  },
  {
   "cell_type": "markdown",
   "id": "6aac5093-49dc-46da-9d5e-3116835b2a54",
   "metadata": {},
   "source": [
    "f=lambda a,b:a+b  (f:객체)"
   ]
  },
  {
   "cell_type": "code",
   "execution_count": 7,
   "id": "0088620d-e6d7-4d00-8836-fe89fc2c415b",
   "metadata": {},
   "outputs": [
    {
     "data": {
      "text/plain": [
       "_io.TextIOWrapper"
      ]
     },
     "execution_count": 7,
     "metadata": {},
     "output_type": "execute_result"
    }
   ],
   "source": [
    "type(f)"
   ]
  },
  {
   "cell_type": "code",
   "execution_count": 58,
   "id": "50bc0b75-8c52-47e7-8d82-6d29924ed78c",
   "metadata": {},
   "outputs": [],
   "source": [
    "#Hello가 10번 기록되게\n",
    "f=open(\"new.txt\",'w')\n",
    "for i in range(10):\n",
    "    f.write(\"Hello\\n\")   \n",
    "f.close()  "
   ]
  },
  {
   "cell_type": "code",
   "execution_count": 1,
   "id": "a60818fd-f312-4abe-ba94-681cb821e5ca",
   "metadata": {},
   "outputs": [],
   "source": [
    "#Hello가 10번 기록되게, Good Morning을 추가\n",
    "f=open(\"new.txt\",'a')\n",
    "for i in range(10):\n",
    "    f.write(f\"Good Morning\\n\")   \n",
    "f.close()  "
   ]
  },
  {
   "cell_type": "markdown",
   "id": "72d37d61-8e63-4915-aad4-85f2b36687d3",
   "metadata": {},
   "source": [
    "- with open()as f:"
   ]
  },
  {
   "cell_type": "code",
   "execution_count": 2,
   "id": "be25b595-81d7-4188-a6fe-6a32fa1b6465",
   "metadata": {},
   "outputs": [],
   "source": [
    "f=open(\"new.txt\",'w')\n",
    "f.write(\"Hello\\n\")\n",
    "f.close()"
   ]
  },
  {
   "cell_type": "code",
   "execution_count": 3,
   "id": "e0b68427-a3ce-4c22-98ec-a692f8a8a3c9",
   "metadata": {},
   "outputs": [],
   "source": [
    "with open(\"new.txt\",'w') as f:\n",
    "    f.write(\"Hello\\n\")"
   ]
  },
  {
   "cell_type": "code",
   "execution_count": 4,
   "id": "e06b5dae-4af4-4bb1-a008-b13abdcbbc4e",
   "metadata": {},
   "outputs": [],
   "source": [
    "with open(\"new.txt\",'w') as f:\n",
    "    for i in range(10):\n",
    "        f.write(\"Hello\\n\")"
   ]
  },
  {
   "cell_type": "markdown",
   "id": "b3f78354-1db9-4efc-b8fb-b79923a9849e",
   "metadata": {},
   "source": [
    "## 파일 읽기\n",
    "- f.readline()"
   ]
  },
  {
   "cell_type": "code",
   "execution_count": 5,
   "id": "fa60a2aa-996c-44e5-a96f-e2b57ae8af52",
   "metadata": {},
   "outputs": [],
   "source": [
    "with open(\"new.txt\",'w') as f:\n",
    "    f.write(\"Hello\")"
   ]
  },
  {
   "cell_type": "code",
   "execution_count": 6,
   "id": "8fa2a20a-0be7-4262-9405-bea71cc842dd",
   "metadata": {},
   "outputs": [
    {
     "name": "stdout",
     "output_type": "stream",
     "text": [
      "Hello\n"
     ]
    }
   ],
   "source": [
    "f=open(\"new.txt\",'r')\n",
    "data=f.readline()\n",
    "print(data)\n",
    "f.close()"
   ]
  },
  {
   "cell_type": "code",
   "execution_count": 60,
   "id": "38fc83d0-99a1-4574-b574-3d20debf28b3",
   "metadata": {},
   "outputs": [
    {
     "name": "stdout",
     "output_type": "stream",
     "text": [
      "Hello\n",
      "\n"
     ]
    }
   ],
   "source": [
    "with open(\"new.txt\",\"r\") as f:\n",
    "    data=f.readline()\n",
    "    print(data)"
   ]
  },
  {
   "cell_type": "markdown",
   "id": "709880f4-4494-4361-ab64-a980ddc7b213",
   "metadata": {},
   "source": [
    "## 여러줄일 때\n",
    "f.readlines()"
   ]
  },
  {
   "cell_type": "code",
   "execution_count": 207,
   "id": "77520c6c-35e3-489a-9588-0c6a1836781b",
   "metadata": {},
   "outputs": [
    {
     "name": "stdout",
     "output_type": "stream",
     "text": [
      "['Hello\\n', 'Hello\\n', 'Hello\\n', 'Hello\\n', 'Hello\\n', 'Hello\\n', 'Hello\\n', 'Hello\\n', 'Hello\\n', 'Hello\\n']\n"
     ]
    }
   ],
   "source": [
    "f=open(\"new.txt\",\"r\")\n",
    "data=f.readlines()\n",
    "print(data)\n",
    "f.close()"
   ]
  },
  {
   "cell_type": "code",
   "execution_count": 208,
   "id": "7958bcb7-2a2d-4095-ac57-d9db604ea01a",
   "metadata": {},
   "outputs": [
    {
     "name": "stdout",
     "output_type": "stream",
     "text": [
      "Hello\n",
      "\n",
      "Hello\n",
      "\n",
      "Hello\n",
      "\n",
      "Hello\n",
      "\n",
      "Hello\n",
      "\n",
      "Hello\n",
      "\n",
      "Hello\n",
      "\n",
      "Hello\n",
      "\n",
      "Hello\n",
      "\n",
      "Hello\n",
      "\n"
     ]
    }
   ],
   "source": [
    "f=open(\"new.txt\",\"r\")\n",
    "data=f.readlines()\n",
    "for i in data:\n",
    "    print(i)\n",
    "f.close()"
   ]
  },
  {
   "cell_type": "code",
   "execution_count": 77,
   "id": "bc26b607-15ee-4dff-90a9-2ac800e26dde",
   "metadata": {},
   "outputs": [
    {
     "name": "stdout",
     "output_type": "stream",
     "text": [
      "Hello\n",
      "Hello\n",
      "Hello\n",
      "Hello\n",
      "Hello\n",
      "Hello\n",
      "Hello\n",
      "Hello\n",
      "Hello\n",
      "Hello\n",
      "\n",
      "Good Morning\n"
     ]
    }
   ],
   "source": [
    "f=open(\"new.txt\",\"r\")\n",
    "data=f.readlines()\n",
    "for i in data:\n",
    "    print(i,end=\"\")\n",
    "f.close()"
   ]
  },
  {
   "cell_type": "markdown",
   "id": "2981ccbb-3e80-4131-abe7-f747be87e696",
   "metadata": {},
   "source": [
    "- f.read()"
   ]
  },
  {
   "cell_type": "code",
   "execution_count": 80,
   "id": "6f022fcc-d713-43a5-b4cf-1fd3efe1792b",
   "metadata": {},
   "outputs": [
    {
     "name": "stdout",
     "output_type": "stream",
     "text": [
      "Hello\n",
      "Hello\n",
      "Hello\n",
      "Hello\n",
      "Hello\n",
      "Hello\n",
      "Hello\n",
      "Hello\n",
      "Hello\n",
      "Hello\n",
      "\n",
      "Good Morning\n"
     ]
    }
   ],
   "source": [
    "f=open(\"new.txt\",\"r\")\n",
    "data=f.read()\n",
    "for i in data:\n",
    "    print(i,end=\"\")\n",
    "f.close()"
   ]
  },
  {
   "cell_type": "code",
   "execution_count": 91,
   "id": "d71a8b0e-f80a-4137-941b-c867a72ec29a",
   "metadata": {},
   "outputs": [
    {
     "name": "stdout",
     "output_type": "stream",
     "text": [
      "1번째 입니다.\n",
      "2번째 입니다.\n",
      "3번째 입니다.\n",
      "4번째 입니다.\n",
      "5번째 입니다.\n",
      "6번째 입니다.\n",
      "7번째 입니다.\n",
      "8번째 입니다.\n",
      "9번째 입니다.\n"
     ]
    }
   ],
   "source": [
    "#문제: test.txt\n",
    "\n",
    "with open(\"test.txt\",\"w\") as f:\n",
    "    for i in range(1,10):\n",
    "        print(f\"{i}번째 입니다.\\n\",end=\"\")\n",
    "       "
   ]
  },
  {
   "cell_type": "code",
   "execution_count": 93,
   "id": "af478bb8-1144-484a-a6fb-c83790e4c1df",
   "metadata": {},
   "outputs": [
    {
     "name": "stdout",
     "output_type": "stream",
     "text": [
      "1번째입니다\n",
      "2번째입니다\n",
      "3번째입니다\n",
      "4번째입니다\n",
      "5번째입니다\n",
      "6번째입니다\n",
      "7번째입니다\n",
      "8번째입니다\n",
      "9번째입니다\n",
      "10번째입니다\n"
     ]
    }
   ],
   "source": [
    "with open(\"test.txt\", \"w\") as f:\n",
    "    for i in range(1,11):\n",
    "        print(f\"{i}번째입니다\\n\", end=\"\") "
   ]
  },
  {
   "cell_type": "code",
   "execution_count": 106,
   "id": "49642c28-1e1c-460a-818b-352ad63f87c2",
   "metadata": {},
   "outputs": [],
   "source": [
    "with open(\"test.txt\",'w',encoding='utf-8') as f:\n",
    "    for i in range(10):\n",
    "        f.write(f\"{i}번째 입니다.\\n\")"
   ]
  },
  {
   "cell_type": "code",
   "execution_count": 107,
   "id": "f3f79ff1-6d67-4ad0-b80d-7a4527009cc5",
   "metadata": {},
   "outputs": [
    {
     "name": "stdout",
     "output_type": "stream",
     "text": [
      "['0번째 입니다.\\n', '1번째 입니다.\\n', '2번째 입니다.\\n', '3번째 입니다.\\n', '4번째 입니다.\\n', '5번째 입니다.\\n', '6번째 입니다.\\n', '7번째 입니다.\\n', '8번째 입니다.\\n', '9번째 입니다.\\n']\n"
     ]
    }
   ],
   "source": [
    "#readlines()로 읽기\n",
    "\n",
    "with open(\"test.txt\",'r',encoding='utf-8')as f:\n",
    "    data=f.readlines()\n",
    "    print(data)\n",
    "    f.close()"
   ]
  },
  {
   "cell_type": "code",
   "execution_count": 7,
   "id": "1e300445-619a-44e5-9b79-6a1e81e85cc7",
   "metadata": {},
   "outputs": [],
   "source": [
    "with open(\"test.txt\", 'r', encoding = 'utf-8') as f:\n",
    "    data = f.readlines()\n",
    "    for i in data:\n",
    "        print(i, end =\"\") "
   ]
  },
  {
   "cell_type": "code",
   "execution_count": 109,
   "id": "624ea311-5761-45c0-9a5d-4db4675b6092",
   "metadata": {},
   "outputs": [
    {
     "name": "stdout",
     "output_type": "stream",
     "text": [
      "0번째 입니다.\n",
      "1번째 입니다.\n",
      "2번째 입니다.\n",
      "3번째 입니다.\n",
      "4번째 입니다.\n",
      "5번째 입니다.\n",
      "6번째 입니다.\n",
      "7번째 입니다.\n",
      "8번째 입니다.\n",
      "9번째 입니다.\n"
     ]
    }
   ],
   "source": [
    "with open(\"test.txt\", 'r', encoding = 'utf-8') as f:\n",
    "    data = f.readlines()\n",
    "    for i in data:\n",
    "        i=i.strip()\n",
    "        print(i) "
   ]
  },
  {
   "cell_type": "code",
   "execution_count": 111,
   "id": "c5557d05-07d2-4fcb-8dfc-8b503c4419da",
   "metadata": {},
   "outputs": [
    {
     "name": "stdout",
     "output_type": "stream",
     "text": [
      "<_io.TextIOWrapper name='test.txt' mode='r' encoding='utf-8'>\n",
      "<_io.TextIOWrapper name='test.txt' mode='r' encoding='utf-8'>\n",
      "<_io.TextIOWrapper name='test.txt' mode='r' encoding='utf-8'>\n",
      "<_io.TextIOWrapper name='test.txt' mode='r' encoding='utf-8'>\n",
      "<_io.TextIOWrapper name='test.txt' mode='r' encoding='utf-8'>\n",
      "<_io.TextIOWrapper name='test.txt' mode='r' encoding='utf-8'>\n",
      "<_io.TextIOWrapper name='test.txt' mode='r' encoding='utf-8'>\n",
      "<_io.TextIOWrapper name='test.txt' mode='r' encoding='utf-8'>\n",
      "<_io.TextIOWrapper name='test.txt' mode='r' encoding='utf-8'>\n",
      "<_io.TextIOWrapper name='test.txt' mode='r' encoding='utf-8'>\n"
     ]
    }
   ],
   "source": [
    "with open(\"test.txt\", 'r', encoding = 'utf-8') as f:   \n",
    "    for i in data:\n",
    "        print() "
   ]
  },
  {
   "cell_type": "code",
   "execution_count": 8,
   "id": "4cfab58d-4836-4b9a-9bdd-a582b6c5313f",
   "metadata": {
    "tags": []
   },
   "outputs": [],
   "source": [
    "def show_file(filename):\n",
    "    with open(filename,'r',encording='utf-8')as f:\n",
    "        data=f.readlines()\n",
    "    for i in data:\n",
    "        i=i.strip()\n",
    "        print(i)\n",
    "        show_file(\"test_txt\")"
   ]
  },
  {
   "cell_type": "code",
   "execution_count": null,
   "id": "baf3441b-94f5-4ed6-a2ac-95a82e48d5f9",
   "metadata": {},
   "outputs": [],
   "source": [
    "# 이름과 나이를 받아\n",
    "input 2번 pepole.txt\n",
    "f.write(name+\":\"+age+'\\n')\n",
    "\n",
    "name:홍길동"
   ]
  },
  {
   "cell_type": "code",
   "execution_count": 209,
   "id": "145b1b40-bf1f-463f-8321-29d6887fa674",
   "metadata": {},
   "outputs": [
    {
     "name": "stdin",
     "output_type": "stream",
     "text": [
      "이름을 입력하세요:  전우치\n",
      "나이를 입력하세요:  20\n",
      "이름을 입력하세요:  홍길동\n",
      "나이를 입력하세요:  23\n",
      "이름을 입력하세요:  \n"
     ]
    }
   ],
   "source": [
    "f = open(\"people.txt\",'w', encoding=\"UTF-8\")\n",
    "while True:\n",
    "    name = input(\"이름을 입력하세요: \")\n",
    "    if name==\"\": \n",
    "        break\n",
    "    age = input(\"나이를 입력하세요: \")\n",
    "    f.write(f\"{name} : {age}\\n\")\n",
    "f.close()"
   ]
  },
  {
   "cell_type": "code",
   "execution_count": 122,
   "id": "e8460773-41ee-4ede-97c4-8d10d3248a1b",
   "metadata": {},
   "outputs": [
    {
     "name": "stdout",
     "output_type": "stream",
     "text": [
      "0\n",
      "1\n",
      "2\n",
      "3\n",
      "4\n",
      "5\n",
      "6\n",
      "7\n",
      "8\n",
      "9\n"
     ]
    }
   ],
   "source": [
    "for i in range(10):\n",
    "    print(i)"
   ]
  },
  {
   "cell_type": "markdown",
   "id": "8de30234-ecf7-4b22-8897-06a487dd2300",
   "metadata": {},
   "source": [
    "# 클래스\n",
    "- 클래스는 80%를 만드는 것\n",
    "-- 중복제거(유지보수 간편)"
   ]
  },
  {
   "cell_type": "code",
   "execution_count": 21,
   "id": "cf993580-13fc-497b-bc2f-0716dfe28ccf",
   "metadata": {},
   "outputs": [],
   "source": [
    "result=0\n",
    "\n",
    "def add(num):\n",
    "    global result\n",
    "    result+=num\n",
    "    return result\n",
    "\n",
    "def surbtract(num):\n",
    "    global result\n",
    "    result-=num\n",
    "    return result"
   ]
  },
  {
   "cell_type": "code",
   "execution_count": 76,
   "id": "a92eea81-3c92-4d9b-aba7-f7bf1393152a",
   "metadata": {},
   "outputs": [],
   "source": [
    "result1=0\n",
    "\n",
    "def add1(num):\n",
    "    global result1\n",
    "    result1+=num\n",
    "    return result1\n",
    "\n",
    "def surbtract1(num):\n",
    "    global result1\n",
    "    result1-=num\n",
    "    return result1"
   ]
  },
  {
   "cell_type": "code",
   "execution_count": 80,
   "id": "bb66b6c9-4cdb-48be-9a96-5180ab7b91a4",
   "metadata": {},
   "outputs": [],
   "source": [
    "result2=0\n",
    "def add2(num):\n",
    "    global result2\n",
    "    result2+=num\n",
    "    return result2\n",
    "\n",
    "def subtract2(num):\n",
    "    global result2\n",
    "    result2-=num\n",
    "    return result2"
   ]
  },
  {
   "cell_type": "code",
   "execution_count": 24,
   "id": "8e5de7b6-41cf-406e-a1f4-897ec2ed296d",
   "metadata": {},
   "outputs": [
    {
     "data": {
      "text/plain": [
       "3"
      ]
     },
     "execution_count": 24,
     "metadata": {},
     "output_type": "execute_result"
    }
   ],
   "source": [
    "add(3)"
   ]
  },
  {
   "cell_type": "code",
   "execution_count": 25,
   "id": "bc0c92d0-5f74-4045-a36d-9e7f6f206933",
   "metadata": {},
   "outputs": [
    {
     "data": {
      "text/plain": [
       "7"
      ]
     },
     "execution_count": 25,
     "metadata": {},
     "output_type": "execute_result"
    }
   ],
   "source": [
    "add(4)"
   ]
  },
  {
   "cell_type": "code",
   "execution_count": 26,
   "id": "f0fc138a-517c-4057-ae47-68a2d6976b94",
   "metadata": {},
   "outputs": [
    {
     "data": {
      "text/plain": [
       "5"
      ]
     },
     "execution_count": 26,
     "metadata": {},
     "output_type": "execute_result"
    }
   ],
   "source": [
    "add1(5)"
   ]
  },
  {
   "cell_type": "code",
   "execution_count": 29,
   "id": "7b352284-1892-4604-ac1d-0a8d4bc09b65",
   "metadata": {},
   "outputs": [
    {
     "data": {
      "text/plain": [
       "23"
      ]
     },
     "execution_count": 29,
     "metadata": {},
     "output_type": "execute_result"
    }
   ],
   "source": [
    "add1(6)"
   ]
  },
  {
   "cell_type": "markdown",
   "id": "d9437886-f4d3-4030-9341-8c70c511e15e",
   "metadata": {},
   "source": [
    "add(2) "
   ]
  },
  {
   "cell_type": "code",
   "execution_count": 81,
   "id": "32fe3afd-0b62-4f47-8e90-3048f77c096d",
   "metadata": {},
   "outputs": [
    {
     "data": {
      "text/plain": [
       "-3"
      ]
     },
     "execution_count": 81,
     "metadata": {},
     "output_type": "execute_result"
    }
   ],
   "source": [
    "subtract2(3)"
   ]
  },
  {
   "cell_type": "code",
   "execution_count": 83,
   "id": "eed2765d-4a6e-4220-8497-e7e4c8f80948",
   "metadata": {},
   "outputs": [],
   "source": [
    "class Calculator:\n",
    "    def __init__(self):\n",
    "        self.result=0\n",
    "    \n",
    "    \n",
    "    def add(self,num):\n",
    "        self.result+=num\n",
    "        return self.result\n",
    "\n",
    "    \n",
    "    def subtract(self,num):\n",
    "        self.result-=num\n",
    "        return self.result"
   ]
  },
  {
   "cell_type": "code",
   "execution_count": 84,
   "id": "5d402bf0-57e6-4ceb-a590-fe53769aae3b",
   "metadata": {},
   "outputs": [],
   "source": [
    "pos=Calculator()"
   ]
  },
  {
   "cell_type": "code",
   "execution_count": 85,
   "id": "2a9850f5-2d02-44f7-affc-37a1f15775c4",
   "metadata": {},
   "outputs": [
    {
     "data": {
      "text/plain": [
       "3"
      ]
     },
     "execution_count": 85,
     "metadata": {},
     "output_type": "execute_result"
    }
   ],
   "source": [
    "pos.add(3)"
   ]
  },
  {
   "cell_type": "code",
   "execution_count": 86,
   "id": "cb7aed4f-3e87-4fbd-8993-3b0ebdcce04c",
   "metadata": {},
   "outputs": [
    {
     "data": {
      "text/plain": [
       "7"
      ]
     },
     "execution_count": 86,
     "metadata": {},
     "output_type": "execute_result"
    }
   ],
   "source": [
    "pos.add(4)"
   ]
  },
  {
   "cell_type": "code",
   "execution_count": 90,
   "id": "7c0fca50-31ea-4126-9e5b-0a5afb084ef8",
   "metadata": {},
   "outputs": [],
   "source": [
    "pos1=Calculator()"
   ]
  },
  {
   "cell_type": "code",
   "execution_count": 91,
   "id": "2961ac22-1315-41c2-bd95-ae0767fa9b10",
   "metadata": {},
   "outputs": [],
   "source": [
    "pos2=Calculator()"
   ]
  },
  {
   "cell_type": "code",
   "execution_count": 92,
   "id": "6f6d4aa0-d344-4bc6-b6c5-4d2eecd8bbe4",
   "metadata": {},
   "outputs": [],
   "source": [
    "pos3=Calculator()"
   ]
  },
  {
   "cell_type": "code",
   "execution_count": 93,
   "id": "8fb71219-d74f-43f3-a860-eb27299f51d7",
   "metadata": {},
   "outputs": [],
   "source": [
    "class Calculator:\n",
    "    def __init__(self):\n",
    "        self.result=0\n",
    "    \n",
    "    \n",
    "    def add(self,num):\n",
    "        self.result+=num\n",
    "        return self.result\n",
    "    \n",
    "    def subtract(self,num):\n",
    "        self.result-=num\n",
    "        return self.result\n",
    "    \n",
    "    def multifly(self,num):\n",
    "        self.result*=num\n",
    "        return self.result"
   ]
  },
  {
   "cell_type": "code",
   "execution_count": 94,
   "id": "129332d6-74c9-4143-9b53-1f4ccd18c57d",
   "metadata": {},
   "outputs": [],
   "source": [
    "pos=Calculator()"
   ]
  },
  {
   "cell_type": "code",
   "execution_count": 95,
   "id": "95504659-1f7a-4870-ad96-ae59e6c5ec2f",
   "metadata": {},
   "outputs": [],
   "source": [
    "pos1=Calculator()"
   ]
  },
  {
   "cell_type": "code",
   "execution_count": 96,
   "id": "32b0fa24-3fbf-420c-b5f1-d14b4afbc4d9",
   "metadata": {},
   "outputs": [],
   "source": [
    "pos2=Calculator()"
   ]
  },
  {
   "cell_type": "code",
   "execution_count": 97,
   "id": "923a277a-8fb5-4e05-bc55-3f92eb6e89cf",
   "metadata": {},
   "outputs": [],
   "source": [
    "pos3=Calculator()"
   ]
  },
  {
   "cell_type": "code",
   "execution_count": 101,
   "id": "7053ae65-0ce2-4475-a299-c9380bcee3f6",
   "metadata": {},
   "outputs": [],
   "source": [
    "posl=Calculator()"
   ]
  },
  {
   "cell_type": "markdown",
   "id": "5559ae8f-23ba-4f18-9010-679a154a9c92",
   "metadata": {},
   "source": [
    "## 클래스의 필요성"
   ]
  },
  {
   "cell_type": "code",
   "execution_count": 63,
   "id": "d320b210-93d0-40df-9254-b85084c9ddb5",
   "metadata": {},
   "outputs": [],
   "source": [
    "class FourCla:\n",
    "    pass"
   ]
  },
  {
   "cell_type": "code",
   "execution_count": 64,
   "id": "5b8ae7df-2e94-4b7d-bc28-42e212fd52ce",
   "metadata": {},
   "outputs": [],
   "source": [
    "class FourCal:\n",
    "    def setdata(self,a,b):\n",
    "        self.first=a\n",
    "        self.second=b\n",
    "        "
   ]
  },
  {
   "cell_type": "code",
   "execution_count": 65,
   "id": "fa551f25-e2c3-4215-a91d-bc695ded773d",
   "metadata": {},
   "outputs": [],
   "source": [
    "cal=FourCal()"
   ]
  },
  {
   "cell_type": "code",
   "execution_count": 68,
   "id": "e8204f8d-0646-47d2-8098-833b1a4cf1f8",
   "metadata": {},
   "outputs": [],
   "source": [
    "cal.setdata(1,2)"
   ]
  },
  {
   "cell_type": "code",
   "execution_count": 69,
   "id": "aea5f1d9-409f-4c56-ae1e-6d1b97a8e13a",
   "metadata": {},
   "outputs": [
    {
     "data": {
      "text/plain": [
       "1"
      ]
     },
     "execution_count": 69,
     "metadata": {},
     "output_type": "execute_result"
    }
   ],
   "source": [
    "cal.first"
   ]
  },
  {
   "cell_type": "code",
   "execution_count": 70,
   "id": "52aee912-8ca3-4b67-9f26-45ffb47d769e",
   "metadata": {},
   "outputs": [
    {
     "data": {
      "text/plain": [
       "2"
      ]
     },
     "execution_count": 70,
     "metadata": {},
     "output_type": "execute_result"
    }
   ],
   "source": [
    "cal.second"
   ]
  },
  {
   "cell_type": "raw",
   "id": "2fdbd96f-69a9-4755-a1e7-813481e79294",
   "metadata": {},
   "source": [
    "객체:object, instance\n",
    "\n",
    "동사:메소드 methid(함수,움직임)\n",
    "형용사:속성 애트리뷰트 attribute\n",
    "\n",
    "car:car.go(),car.back(),car.turn()\n",
    "car.color,car.size\n",
    "\n",
    "bird:bird.fly(),bird.sing()\n",
    "bird.color"
   ]
  },
  {
   "cell_type": "code",
   "execution_count": 114,
   "id": "c1727acf-c387-4fba-9ead-7fe79ae585a1",
   "metadata": {},
   "outputs": [],
   "source": [
    "class FourCal:\n",
    "    def setdata(self,a,b):       \n",
    "        self.first=a\n",
    "        self.second=b\n",
    "        \n",
    "    def add(self):\n",
    "        self.result=self.first+self.second\n",
    "        return self.result\n",
    "    \n",
    "    def subtract(self):\n",
    "        self.result=self.first-self.second\n",
    "        return self.result"
   ]
  },
  {
   "cell_type": "code",
   "execution_count": 125,
   "id": "b281f6a1-f8b7-4b0a-985b-7ccd48cd2f6c",
   "metadata": {},
   "outputs": [],
   "source": [
    "cal=FourCal(1,2)"
   ]
  },
  {
   "cell_type": "code",
   "execution_count": 138,
   "id": "eed23bd4-6ae1-4148-a569-f32186ebe336",
   "metadata": {},
   "outputs": [
    {
     "ename": "AttributeError",
     "evalue": "'FourCal' object has no attribute 'setdata'",
     "output_type": "error",
     "traceback": [
      "\u001b[1;31m---------------------------------------------------------------------------\u001b[0m",
      "\u001b[1;31mAttributeError\u001b[0m                            Traceback (most recent call last)",
      "Input \u001b[1;32mIn [138]\u001b[0m, in \u001b[0;36m<cell line: 1>\u001b[1;34m()\u001b[0m\n\u001b[1;32m----> 1\u001b[0m \u001b[43mcal\u001b[49m\u001b[38;5;241;43m.\u001b[39;49m\u001b[43msetdata\u001b[49m(\u001b[38;5;241m1\u001b[39m,\u001b[38;5;241m2\u001b[39m)\n\u001b[0;32m      2\u001b[0m cal\u001b[38;5;241m.\u001b[39mfirst\n",
      "\u001b[1;31mAttributeError\u001b[0m: 'FourCal' object has no attribute 'setdata'"
     ]
    }
   ],
   "source": [
    "cal.setdata(1,2)\n",
    "cal.first"
   ]
  },
  {
   "cell_type": "code",
   "execution_count": 119,
   "id": "619668c3-eb49-4f15-a6af-7c9534ce223f",
   "metadata": {},
   "outputs": [],
   "source": [
    "cal1=FourCal()"
   ]
  },
  {
   "cell_type": "code",
   "execution_count": 120,
   "id": "f2e27f80-4882-4b0d-a0c2-20efb0e66482",
   "metadata": {},
   "outputs": [
    {
     "ename": "AttributeError",
     "evalue": "'FourCal' object has no attribute 'first'",
     "output_type": "error",
     "traceback": [
      "\u001b[1;31m---------------------------------------------------------------------------\u001b[0m",
      "\u001b[1;31mAttributeError\u001b[0m                            Traceback (most recent call last)",
      "Input \u001b[1;32mIn [120]\u001b[0m, in \u001b[0;36m<cell line: 1>\u001b[1;34m()\u001b[0m\n\u001b[1;32m----> 1\u001b[0m \u001b[43mcal1\u001b[49m\u001b[38;5;241;43m.\u001b[39;49m\u001b[43madd\u001b[49m\u001b[43m(\u001b[49m\u001b[43m)\u001b[49m\n",
      "Input \u001b[1;32mIn [114]\u001b[0m, in \u001b[0;36mFourCal.add\u001b[1;34m(self)\u001b[0m\n\u001b[0;32m      6\u001b[0m \u001b[38;5;28;01mdef\u001b[39;00m \u001b[38;5;21madd\u001b[39m(\u001b[38;5;28mself\u001b[39m):\n\u001b[1;32m----> 7\u001b[0m     \u001b[38;5;28mself\u001b[39m\u001b[38;5;241m.\u001b[39mresult\u001b[38;5;241m=\u001b[39m\u001b[38;5;28;43mself\u001b[39;49m\u001b[38;5;241;43m.\u001b[39;49m\u001b[43mfirst\u001b[49m\u001b[38;5;241m+\u001b[39m\u001b[38;5;28mself\u001b[39m\u001b[38;5;241m.\u001b[39msecond\n\u001b[0;32m      8\u001b[0m     \u001b[38;5;28;01mreturn\u001b[39;00m \u001b[38;5;28mself\u001b[39m\u001b[38;5;241m.\u001b[39mresult\n",
      "\u001b[1;31mAttributeError\u001b[0m: 'FourCal' object has no attribute 'first'"
     ]
    }
   ],
   "source": [
    "cal1.add()"
   ]
  },
  {
   "cell_type": "code",
   "execution_count": 128,
   "id": "7445be91-de1b-40bb-a3d0-eef674df3794",
   "metadata": {},
   "outputs": [
    {
     "data": {
      "text/plain": [
       "-1"
      ]
     },
     "execution_count": 128,
     "metadata": {},
     "output_type": "execute_result"
    }
   ],
   "source": [
    "cal.subtract()"
   ]
  },
  {
   "cell_type": "markdown",
   "id": "5c060c35-675e-4412-9ff0-377076d7ce56",
   "metadata": {},
   "source": [
    " # 초기화,생성자(constructor)함수"
   ]
  },
  {
   "cell_type": "code",
   "execution_count": 124,
   "id": "4593ce75-3d68-4ca3-b294-b80ca6775cbd",
   "metadata": {},
   "outputs": [],
   "source": [
    "class FourCal:\n",
    "    #초기화,생성자(constructor)\n",
    "    def __init__(self,a,b):\n",
    "        self.first=a\n",
    "        self.second=b\n",
    "        \n",
    "    def add(self):\n",
    "        self.result=self.first+self.second\n",
    "        return self.result\n",
    "    \n",
    "    def subtract(self):\n",
    "        self.result=self.first-self.second\n",
    "        return self.result"
   ]
  },
  {
   "cell_type": "code",
   "execution_count": 133,
   "id": "e4702df8-5ef2-44a4-881d-bc555e52a711",
   "metadata": {},
   "outputs": [],
   "source": [
    "cal2=FourCal(1,2)"
   ]
  },
  {
   "cell_type": "code",
   "execution_count": 134,
   "id": "c7147acb-fd5f-4445-b292-ec1a4a039c8f",
   "metadata": {},
   "outputs": [
    {
     "data": {
      "text/plain": [
       "3"
      ]
     },
     "execution_count": 134,
     "metadata": {},
     "output_type": "execute_result"
    }
   ],
   "source": [
    "cal2.add()"
   ]
  },
  {
   "cell_type": "code",
   "execution_count": 136,
   "id": "2567b16d-384b-42cd-a4a5-b6eb41b82d4d",
   "metadata": {},
   "outputs": [
    {
     "data": {
      "text/plain": [
       "-10"
      ]
     },
     "execution_count": 136,
     "metadata": {},
     "output_type": "execute_result"
    }
   ],
   "source": [
    "cal3=FourCal(10,20)\n",
    "cal3.subtract()"
   ]
  },
  {
   "cell_type": "markdown",
   "id": "a6ccf366-e9ac-4a29-b64e-b0974dadbe07",
   "metadata": {},
   "source": [
    "## 상속\n",
    "- inheritance"
   ]
  },
  {
   "cell_type": "code",
   "execution_count": 140,
   "id": "991e3570-3449-4cbf-b55a-8fb57c1abc1d",
   "metadata": {},
   "outputs": [],
   "source": [
    "class FourCal:\n",
    "    #초기화,생성자(constructor)\n",
    "    def __init__(self,a,b):\n",
    "        self.first=a\n",
    "        self.second=b\n",
    "        \n",
    "    def add(self):\n",
    "        self.result=self.first+self.second\n",
    "        return self.result\n",
    "    \n",
    "    def subtract(self):\n",
    "        self.result=self.first-self.second\n",
    "        return self.result\n",
    "    \n",
    "    def multifly(self):\n",
    "        self.result=self.first*self.second\n",
    "        return self.result\n",
    "    \n",
    "    def divide(self):\n",
    "        self.result=self.first/self.second\n",
    "        return self.result"
   ]
  },
  {
   "cell_type": "code",
   "execution_count": 158,
   "id": "75112f19-95f8-4af6-87ef-0972cff92933",
   "metadata": {},
   "outputs": [],
   "source": [
    "class Child(FourCal):\n",
    "    pass\n",
    " #자식클래스는 부모클래스의 모든 것을 다 쓸 수 있음   "
   ]
  },
  {
   "cell_type": "code",
   "execution_count": 152,
   "id": "23d6d8e7-dd00-4f21-a636-7f0818a5aba3",
   "metadata": {},
   "outputs": [],
   "source": [
    "cal=Child(10,20)"
   ]
  },
  {
   "cell_type": "code",
   "execution_count": 153,
   "id": "a28fdb8f-ba48-4027-a970-018628d7fe51",
   "metadata": {},
   "outputs": [
    {
     "data": {
      "text/plain": [
       "30"
      ]
     },
     "execution_count": 153,
     "metadata": {},
     "output_type": "execute_result"
    }
   ],
   "source": [
    "cal.add()"
   ]
  },
  {
   "cell_type": "code",
   "execution_count": 154,
   "id": "e0d27a61-f964-4c3b-a336-7bccf9788a35",
   "metadata": {},
   "outputs": [
    {
     "data": {
      "text/plain": [
       "200"
      ]
     },
     "execution_count": 154,
     "metadata": {},
     "output_type": "execute_result"
    }
   ],
   "source": [
    "cal.multifly()"
   ]
  },
  {
   "cell_type": "code",
   "execution_count": 155,
   "id": "775f0bf0-6f5e-4a8f-b3a1-e2300a7956e6",
   "metadata": {},
   "outputs": [
    {
     "data": {
      "text/plain": [
       "0.5"
      ]
     },
     "execution_count": 155,
     "metadata": {},
     "output_type": "execute_result"
    }
   ],
   "source": [
    "cal.divide()"
   ]
  },
  {
   "cell_type": "code",
   "execution_count": 156,
   "id": "cd187bea-6b35-4c2b-bee0-6b927cca284d",
   "metadata": {},
   "outputs": [
    {
     "data": {
      "text/plain": [
       "-10"
      ]
     },
     "execution_count": 156,
     "metadata": {},
     "output_type": "execute_result"
    }
   ],
   "source": [
    "cal.subtract()"
   ]
  },
  {
   "cell_type": "code",
   "execution_count": 166,
   "id": "530266f2-424d-4945-a688-f6353686e93b",
   "metadata": {},
   "outputs": [],
   "source": [
    "class Child(FourCal):\n",
    "    def Power(self):\n",
    "        self.result=self.first**self.second\n",
    "        "
   ]
  },
  {
   "cell_type": "code",
   "execution_count": 167,
   "id": "ef6d8c84-398f-4bf4-80f9-4bc9d6c3b1b1",
   "metadata": {},
   "outputs": [],
   "source": [
    "cal=Child(2,3)"
   ]
  },
  {
   "cell_type": "code",
   "execution_count": 168,
   "id": "c1ccfb35-4e70-4e36-a3cd-258d0cdef2cd",
   "metadata": {},
   "outputs": [
    {
     "data": {
      "text/plain": [
       "5"
      ]
     },
     "execution_count": 168,
     "metadata": {},
     "output_type": "execute_result"
    }
   ],
   "source": [
    "cal.add()"
   ]
  },
  {
   "cell_type": "markdown",
   "id": "c1955c9e-07e8-47d7-b6fb-e679688e0892",
   "metadata": {},
   "source": [
    "# 매소드 오버라이딩\n",
    "-overriding 메소드 재정의"
   ]
  },
  {
   "cell_type": "code",
   "execution_count": 177,
   "id": "b460fe52-8a6a-4283-add5-1209e75047f6",
   "metadata": {},
   "outputs": [],
   "source": [
    "cal.Power()"
   ]
  },
  {
   "cell_type": "code",
   "execution_count": 178,
   "id": "4bff1798-880c-4dfc-ab1c-d5df695edf62",
   "metadata": {},
   "outputs": [],
   "source": [
    "cal= Child(1,0)"
   ]
  },
  {
   "cell_type": "code",
   "execution_count": 179,
   "id": "d9409a3e-58ea-49bf-84fd-272fb632f974",
   "metadata": {},
   "outputs": [
    {
     "data": {
      "text/plain": [
       "1"
      ]
     },
     "execution_count": 179,
     "metadata": {},
     "output_type": "execute_result"
    }
   ],
   "source": [
    "cal.add()"
   ]
  },
  {
   "cell_type": "code",
   "execution_count": 180,
   "id": "b1293492-a880-408f-b34d-07c121e04532",
   "metadata": {},
   "outputs": [
    {
     "ename": "ZeroDivisionError",
     "evalue": "division by zero",
     "output_type": "error",
     "traceback": [
      "\u001b[1;31m---------------------------------------------------------------------------\u001b[0m",
      "\u001b[1;31mZeroDivisionError\u001b[0m                         Traceback (most recent call last)",
      "Input \u001b[1;32mIn [180]\u001b[0m, in \u001b[0;36m<cell line: 1>\u001b[1;34m()\u001b[0m\n\u001b[1;32m----> 1\u001b[0m \u001b[43mcal\u001b[49m\u001b[38;5;241;43m.\u001b[39;49m\u001b[43mdivide\u001b[49m\u001b[43m(\u001b[49m\u001b[43m)\u001b[49m\n",
      "Input \u001b[1;32mIn [140]\u001b[0m, in \u001b[0;36mFourCal.divide\u001b[1;34m(self)\u001b[0m\n\u001b[0;32m     19\u001b[0m \u001b[38;5;28;01mdef\u001b[39;00m \u001b[38;5;21mdivide\u001b[39m(\u001b[38;5;28mself\u001b[39m):\n\u001b[1;32m---> 20\u001b[0m     \u001b[38;5;28mself\u001b[39m\u001b[38;5;241m.\u001b[39mresult\u001b[38;5;241m=\u001b[39m\u001b[38;5;28;43mself\u001b[39;49m\u001b[38;5;241;43m.\u001b[39;49m\u001b[43mfirst\u001b[49m\u001b[38;5;241;43m/\u001b[39;49m\u001b[38;5;28;43mself\u001b[39;49m\u001b[38;5;241;43m.\u001b[39;49m\u001b[43msecond\u001b[49m\n\u001b[0;32m     21\u001b[0m     \u001b[38;5;28;01mreturn\u001b[39;00m \u001b[38;5;28mself\u001b[39m\u001b[38;5;241m.\u001b[39mresult\n",
      "\u001b[1;31mZeroDivisionError\u001b[0m: division by zero"
     ]
    }
   ],
   "source": [
    "cal.divide()"
   ]
  },
  {
   "cell_type": "code",
   "execution_count": 184,
   "id": "69b02054-6029-4823-b6b2-cf5bf1d98e1a",
   "metadata": {},
   "outputs": [],
   "source": [
    "class Child(FourCal):\n",
    "    def Power(self):\n",
    "        self.result=self.first**self.second\n",
    "        return self.result\n",
    "    \n",
    "    def divide(self):\n",
    "        if self.second !=0:\n",
    "            self.result=self.first/self.second\n",
    "            return self.result\n",
    "        else:\n",
    "            print(\"0으로 나누셨군요\")"
   ]
  },
  {
   "cell_type": "code",
   "execution_count": null,
   "id": "c1c1eb20-5b29-463c-bf37-c7ff90839d60",
   "metadata": {},
   "outputs": [],
   "source": []
  },
  {
   "cell_type": "code",
   "execution_count": null,
   "id": "db9ddf51-93d5-4cf9-b9e5-74a4a56929f6",
   "metadata": {},
   "outputs": [],
   "source": []
  },
  {
   "cell_type": "code",
   "execution_count": null,
   "id": "ae71fae7-9035-4668-8e91-d7b19a937599",
   "metadata": {},
   "outputs": [],
   "source": []
  },
  {
   "cell_type": "code",
   "execution_count": 199,
   "id": "dcf911dc-c54e-4707-939f-cd901bd5198c",
   "metadata": {},
   "outputs": [],
   "source": [
    "class Calculator():\n",
    "    def __init__(self,a,b):\n",
    "        self.first=a\n",
    "        self.second=b\n",
    "        "
   ]
  },
  {
   "cell_type": "code",
   "execution_count": 200,
   "id": "bbfaa471-7445-4ebb-8fd5-933aa613c0e9",
   "metadata": {},
   "outputs": [],
   "source": [
    "cal=Calculator(1,2)"
   ]
  },
  {
   "cell_type": "code",
   "execution_count": 201,
   "id": "617cb28c-7e0b-4048-9012-88fc8c224122",
   "metadata": {},
   "outputs": [
    {
     "data": {
      "text/plain": [
       "1"
      ]
     },
     "execution_count": 201,
     "metadata": {},
     "output_type": "execute_result"
    }
   ],
   "source": [
    "cal.first"
   ]
  },
  {
   "cell_type": "code",
   "execution_count": 202,
   "id": "4b7fc3dc-d758-4336-8fb0-53da7947950f",
   "metadata": {},
   "outputs": [],
   "source": [
    "bal=Calculator(10,20)"
   ]
  },
  {
   "cell_type": "code",
   "execution_count": 205,
   "id": "bb5e0b3d-3a42-4b77-b4e1-7e807164edde",
   "metadata": {},
   "outputs": [
    {
     "data": {
      "text/plain": [
       "10"
      ]
     },
     "execution_count": 205,
     "metadata": {},
     "output_type": "execute_result"
    }
   ],
   "source": [
    "bal.first"
   ]
  },
  {
   "cell_type": "code",
   "execution_count": null,
   "id": "a33873f4-bc6e-4867-9b54-cfc34aab534d",
   "metadata": {},
   "outputs": [],
   "source": []
  },
  {
   "cell_type": "code",
   "execution_count": null,
   "id": "9c2a551b-2dec-4a58-b468-c63599b26fa2",
   "metadata": {},
   "outputs": [],
   "source": []
  },
  {
   "cell_type": "code",
   "execution_count": null,
   "id": "f4f62962-0650-432e-8c78-19c8a9105e2c",
   "metadata": {},
   "outputs": [],
   "source": []
  }
 ],
 "metadata": {
  "kernelspec": {
   "display_name": "Python 3 (ipykernel)",
   "language": "python",
   "name": "python3"
  },
  "language_info": {
   "codemirror_mode": {
    "name": "ipython",
    "version": 3
   },
   "file_extension": ".py",
   "mimetype": "text/x-python",
   "name": "python",
   "nbconvert_exporter": "python",
   "pygments_lexer": "ipython3",
   "version": "3.9.12"
  }
 },
 "nbformat": 4,
 "nbformat_minor": 5
}
