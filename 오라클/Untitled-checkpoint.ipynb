SELECT *
FROM EMP;

SELECT * FROM DEPT;

-- EMP�� ENAME, DEPT�� LOC�� ����غ��ô�.
SELECT E.ENAME, D.LOC
FROM EMP E, DEPT D; 

-- EMP�� ENAME, DEPT�� LOC�� DEPTNO 3���� Į���� ����غ��ô�.
SELECT E.ENAME, D.LOC, D.DEPTNO
FROM EMP E, DEPT D
WHERE E.DEPTNO = D.DEPTNO; 

-- EMP�� ENAME, DEPT�� LOC�� DEPTNO 3���� Į���� 
--SAL�� 3000�̻��� ����� ����غ��ô�.
SELECT E.ENAME, D.LOC, D.DEPTNO
FROM EMP E, DEPT D
WHERE E.DEPTNO = D.DEPTNO 
AND SAL >= 3000; 

SELECT * FROM EMP;

--��� ����� �̸�(ENAME)�� ��å(JOB)�� �Ŵ����̸�(MGRNAME) 3���� Į���� ���
SELECT E1.ENAME, E1.JOB, E2.ENAME
FROM EMP E1, EMP E2
WHERE E1.MGR = E2.EMPNO; 

LEFT JOIN: ������ ���� �� �ְ�, �������� �ΰ��� �پ��ִ� ��(+)
RIGHT JOIN: ������ ���� �� �ְ�, ������ �ΰ��� �پ��ִ� ��(+)

--LEFT JOIN
SELECT E1.ENAME, E1.JOB, E1.MGR, E2.EMPNO, E2.ENAME
FROM EMP E1, EMP E2
WHERE E1.MGR = E2.EMPNO(+); 

--RIGHT JOIN
SELECT E1.ENAME, E1.JOB, E1.MGR, E2.EMPNO, E2.ENAME
FROM EMP E1, EMP E2
WHERE E1.MGR(+) = E2.EMPNO; 

--NATURAL JOIN: ����� ��� ����� �� �ִ� ���� ���
SELECT E.EMPNO, E.ENAME, DEPTNO, D.DNAME, D.LOC
FROM EMP E NATURAL JOIN DEPT D;

SELECT E.EMPNO, E.ENAME, DEPTNO, D.DNAME, D.LOC
FROM EMP E JOIN DEPT D 
USING (DEPTNO);

SELECT E.EMPNO, E.ENAME, E.DEPTNO, D.DNAME, D.LOC
FROM EMP E JOIN DEPT D 
ON (E.DEPTNO= D.DEPTNO);

SELECT E.EMPNO, E.ENAME, E.DEPTNO, D.DNAME, D.LOC
FROM EMP E JOIN DEPT D 
ON (E.DEPTNO= D.DEPTNO)
WHERE E.SAL >= 3000;

SELECT E.EMPNO, E1.JOB, E.DEPTNO, D.DNAME, D.LOC
FROM EMP E1. EMP E2
WHERE E1.MGR(+) =E2. EMPNO;


-- SQL-99 ǥ�ع���
SELECT E1.ENAME, E1.JOB, E1.MGR, E2.EMPNO, E2.ENAME
FROM EMP E1 RIGHT OUTER JOIN EMP E2
ON (E1.MGR = E2.EMPNO);

SELECT E1.ENAME, E1.JOB, E1.MGR, E2.EMPNO, E2.ENAME
FROM EMP E1 FULL OUTER JOIN EMP E2
ON (E1.MGR = E2.EMPNO);

--SUBQUERY
--�޿��� 2975���� ����
SELECT * FROM EMP;

SELECT * FROM EMP
WHERE SAL > 2975;

--JONES�� �޿�
SELECT * FROM EMP
WHERE ENAME = 'JONES';

SELECT * FROM EMP
WHERE SAL > (SELECT SAL
            FROM EMP
            WHERE ENAME = 'JONES');
            
SELECT * FROM EMP
WHERE COMM > (SELECT COMM
            FROM EMP
            WHERE ENAME = 'ALLEN');
 
--��������            
--HIREDATE�� SCOTT���� ���� (����)�Ի��� ����? P.246
SELECT * FROM EMP
WHERE HIREDATE < (SELECT HIREDATE
                  FROM EMP
                  WHERE ENAME = 'SCOTT');
                  
SELECT * FROM EMP
WHERE SAL > (SELECT AVG(SAL)
            FROM EMP);
            
--EMP�� DEPT�� �����ؼ�
SELECT AVG(SAL)
           FROM EMP;
           
--DEPT.LOC�� ������
--��� �ӱ�(�޿�) ���� ���� �޿��� ����� �̸�(ENAME), ��å(JOB),
-- �μ��̸�(DNAME-DEPT), �ٹ���(LOC)�� ���
SELECT E.ENAME, E.JOB, D.DNAME, D.LOC
FROM EMP E, DEPT D
WHERE E.DEPTNO = D.DEPTNO
    AND E.SAL > (SELECT AVG(SAL)
        FROM EMP); 
        
--�μ���ȣ�� 20��
SELECT E.ENAME, E.JOB, D.DNAME, D.LOC
FROM EMP E, DEPT D
WHERE E.DEPTNO = D.DEPTNO
    AND E.SAL <= (SELECT AVG(SAL)
        FROM EMP)
        AND E.DEPTNO = 20; 
        
--������
SELECT AVG(SAL)
FROM EMP;

--������
SELECT AVG(SAL)
FROM EMP
GROUP BY JOB;

SELECT E.ENAME, E.JOB, D.DNAME, D.LOC
FROM EMP E, DEPT D
WHERE E.DEPTNO = D.DEPTNO
    AND E.SAL <= (SELECT AVG(SAL)
        FROM EMP GROUP BY JOB)
        AND E.DEPTNO = 20; 
        
        
SELECT * FROM DEPT;

--DEPNO�� 20���� ����� �̸�, �޿���?
SELECT ENAME, SAL
FROM EMP
WHERE DEPTNO = 20;
--DEPTNO�� 20, 30���� ����� �̸��� �޿���?
SELECT ENAME, SAL
FROM EMP
WHERE DEPTNO = 20 
OR DEPTNO = 30;

SELECT ENAME, SAL
FROM EMP
WHERE DEPTNO IN (20,30);

--�� �μ��� �ְ� �޿��� ������ �޿��� �޴� ��� ���� ���
SELECT * FROM EMP
WHERE SAL > (SELECT AVG(SAL)
            FROM EMP);

SELECT * FROM EMP
WHERE SAL IN (SELECT MAX(SAL)
            FROM EMP
            GROUP BY DEPTNO);

-- ANY, ALL, SOME
SELECT * FROM EMP
WHERE SAL = ANY (SELECT MAX(SAL)
            FROM EMP
            GROUP BY DEPTNO);
            
SELECT * FROM EMP
WHERE SAL = SOME (SELECT MAX(SAL)
            FROM EMP
            GROUP BY DEPTNO);

--30�� �μ� ������� �ִ� �޿����� ���� �޿��� �޴� ��� ���� ��� 
-- 2850���� ���� ������� ���
-- 30�� �μ��� �ּұ޿����� ū : ANY
SELECT * FROM EMP
WHERE SAL < ANY( SELECT SAL
                FROM EMP
                WHERE DEPTNO = 30);
-- 30�� �μ��� �ּұ޿����� ���� : < ANY~: �ִ뺸�� ����
SELECT * FROM EMP
WHERE SAL < ANY( SELECT SAL
                FROM EMP
                WHERE DEPTNO = 30);            
--30�� �μ� ������� �ּ� �޿����� ���� �޿��� �޴� ��� ���� ��� 
-- 950���� ���� ������� ���
SELECT * FROM EMP
WHERE SAL < ALL( SELECT SAL
                FROM EMP
                WHERE DEPTNO = 30);
--30�� �μ��� �ּ� �޿����� ū
SELECT * FROM EMP
WHERE SAL > ALL( SELECT SAL
                FROM EMP
                WHERE DEPTNO = 30);
                
SELECT * FROM EMP
WHERE EXISTS(SELECT DNAME 
            FROM DEPT
            WHERE DEPTNO =10);
            

            
