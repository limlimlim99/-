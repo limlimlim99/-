{
 "cells": [
  {
   "cell_type": "code",
   "execution_count": 1,
   "id": "f0286fe7-15c2-4b67-b4c7-e7e4936e4c78",
   "metadata": {},
   "outputs": [],
   "source": [
    "f=open(\"new.txt\",'w')\n",
    "f.write(\"Hello\\n\")\n",
    "f.close()"
   ]
  },
  {
   "cell_type": "code",
   "execution_count": 2,
   "id": "54f023a4-a75d-4a4d-81de-74743d7b54b6",
   "metadata": {},
   "outputs": [],
   "source": [
    "f=open(\"new.txt\",'a')\n",
    "f.write(\"Good Morning\\n\")\n",
    "f.close()"
   ]
  },
  {
   "cell_type": "code",
   "execution_count": 6,
   "id": "b62c2657-56fb-47a1-84c4-8e1c3c6cfeaf",
   "metadata": {},
   "outputs": [],
   "source": [
    "f=open(\"new.txt\",'w')\n",
    "f.write('Helllo\\n')\n",
    "f.write(\"Good Morning\")\n",
    "f.close()"
   ]
  },
  {
   "cell_type": "code",
   "execution_count": 7,
   "id": "0ad074a7-b563-4698-92e2-79df7f9e53a1",
   "metadata": {},
   "outputs": [],
   "source": [
    "f=open(\"new.txt\",'w')\n",
    "for i in range(10):\n",
    "    f.write(f\"{i}\\n\")\n",
    "f.close()"
   ]
  },
  {
   "cell_type": "code",
   "execution_count": 8,
   "id": "cb1064f0-d54e-4b9f-a00e-91a983854162",
   "metadata": {},
   "outputs": [
    {
     "data": {
      "text/plain": [
       "_io.TextIOWrapper"
      ]
     },
     "execution_count": 8,
     "metadata": {},
     "output_type": "execute_result"
    }
   ],
   "source": [
    "type(f)"
   ]
  },
  {
   "cell_type": "code",
   "execution_count": 22,
   "id": "5353ce6b-ad86-4338-944f-f85275bbca8d",
   "metadata": {},
   "outputs": [],
   "source": [
    "#Hello가 10번 기록되게\n",
    "f=open(\"new.txt\",'w')\n",
    "for i in range(10):\n",
    "    f.write(\"Hello\\n\")\n",
    "f.close()"
   ]
  },
  {
   "cell_type": "code",
   "execution_count": 23,
   "id": "2b9b374e-7bf7-4b52-9d5d-6ff56299ff7f",
   "metadata": {},
   "outputs": [],
   "source": [
    "#Hello가 10번 기록되게, Good Morning을 추가\n",
    "f=open(\"new.txt\",'a')\n",
    "for i in range(10):\n",
    "    f.write(f\"Good Morning\\n\")\n",
    "f.close()"
   ]
  },
  {
   "cell_type": "code",
   "execution_count": 24,
   "id": "dfdee3d5-bcd7-4574-be17-b988e6e4dd0d",
   "metadata": {},
   "outputs": [],
   "source": [
    "f=open(\"new.txt\",'w')\n",
    "f.write(\"Hello\\n\")\n",
    "f.close()\n",
    "       "
   ]
  },
  {
   "cell_type": "code",
   "execution_count": 27,
   "id": "4afd8ba6-1709-45c8-b88e-dd676c374a26",
   "metadata": {},
   "outputs": [],
   "source": [
    "with open(\"new.txt\",'w')as f:\n",
    "    for i in range(10):\n",
    "        f.write(\"Hello\\n\")"
   ]
  },
  {
   "cell_type": "code",
   "execution_count": 28,
   "id": "3ae686c2-cf43-491f-be86-9f6eb366264b",
   "metadata": {},
   "outputs": [],
   "source": [
    "with open(\"new.txt\",'w') as f:\n",
    "    f.write(\"Hello\")"
   ]
  },
  {
   "cell_type": "code",
   "execution_count": 29,
   "id": "d82cb33a-3f2b-48ac-9c7e-b1975cbd10b3",
   "metadata": {},
   "outputs": [
    {
     "name": "stdout",
     "output_type": "stream",
     "text": [
      "Hello\n"
     ]
    }
   ],
   "source": [
    "f=open(\"new.txt\",'r')\n",
    "data=f.readline()\n",
    "print(data)\n",
    "f.close()"
   ]
  },
  {
   "cell_type": "code",
   "execution_count": 34,
   "id": "513cc714-6c71-4a2f-9981-9b626010130f",
   "metadata": {},
   "outputs": [
    {
     "name": "stdout",
     "output_type": "stream",
     "text": [
      "Hello\n"
     ]
    }
   ],
   "source": [
    "with open(\"new.txt\",'r') as f:\n",
    "    data=f.readline()\n",
    "    print(data)"
   ]
  },
  {
   "cell_type": "code",
   "execution_count": 38,
   "id": "ce8c260b-f1db-409b-bde0-975aba5c2394",
   "metadata": {},
   "outputs": [
    {
     "name": "stdout",
     "output_type": "stream",
     "text": [
      "['Hello']\n"
     ]
    }
   ],
   "source": [
    "f=open(\"new.txt\",'r')\n",
    "data=f.readlines()\n",
    "print(data)\n",
    "f.close()"
   ]
  },
  {
   "cell_type": "code",
   "execution_count": 40,
   "id": "e05f8176-2bb6-44c4-92c8-6082bcd86c31",
   "metadata": {},
   "outputs": [
    {
     "name": "stdout",
     "output_type": "stream",
     "text": [
      "['Hello']\n"
     ]
    }
   ],
   "source": [
    "f=open(\"new.txt\",\"r\")\n",
    "data=f.readlines()\n",
    "print(data)\n",
    "f.close()"
   ]
  },
  {
   "cell_type": "code",
   "execution_count": 41,
   "id": "f2eee5ff-7677-42ce-ad2d-db22f144a739",
   "metadata": {},
   "outputs": [
    {
     "name": "stdout",
     "output_type": "stream",
     "text": [
      "['Hello']\n"
     ]
    }
   ],
   "source": [
    "f=open(\"new.txt\",\"r\")\n",
    "data=f.readlines()\n",
    "print(data)\n",
    "f.close()"
   ]
  },
  {
   "cell_type": "code",
   "execution_count": 42,
   "id": "756b1d7e-e15d-4958-8a52-e071b89be160",
   "metadata": {},
   "outputs": [
    {
     "name": "stdout",
     "output_type": "stream",
     "text": [
      "Hello\n"
     ]
    }
   ],
   "source": [
    "f=open(\"new.txt\",\"r\")\n",
    "data=f.readlines()\n",
    "for i in data:\n",
    "    print(i)\n",
    "f.close()"
   ]
  },
  {
   "cell_type": "code",
   "execution_count": 43,
   "id": "9bbcbec9-9647-4cb9-8727-16a0b9afebcb",
   "metadata": {},
   "outputs": [
    {
     "name": "stdout",
     "output_type": "stream",
     "text": [
      "Hello"
     ]
    }
   ],
   "source": [
    "f=open(\"new.txt\",\"r\")\n",
    "data=f.readlines()\n",
    "for i in data:\n",
    "    print(i,end=\"\")\n",
    "f.close()"
   ]
  },
  {
   "cell_type": "code",
   "execution_count": 44,
   "id": "df4b0625-b5f4-45e0-82ad-067e0f8e5edf",
   "metadata": {},
   "outputs": [],
   "source": [
    "with open(\"new.txt\",'w') as f:\n",
    "    for i in range(10):\n",
    "        f.write(\"Hello\\n\")"
   ]
  },
  {
   "cell_type": "code",
   "execution_count": 45,
   "id": "d0ffdfdd-f97d-4b2e-8e4d-50652c2fe8ff",
   "metadata": {},
   "outputs": [
    {
     "name": "stdout",
     "output_type": "stream",
     "text": [
      "['Hello\\n', 'Hello\\n', 'Hello\\n', 'Hello\\n', 'Hello\\n', 'Hello\\n', 'Hello\\n', 'Hello\\n', 'Hello\\n', 'Hello\\n']\n"
     ]
    }
   ],
   "source": [
    "f=open(\"new.txt\",\"r\")\n",
    "data=f.readlines()\n",
    "print(data)\n",
    "f.close()"
   ]
  },
  {
   "cell_type": "code",
   "execution_count": 46,
   "id": "511aa3c3-8116-4eb2-83f5-2850170e4f8b",
   "metadata": {},
   "outputs": [
    {
     "name": "stdout",
     "output_type": "stream",
     "text": [
      "Hello\n",
      "\n",
      "Hello\n",
      "\n",
      "Hello\n",
      "\n",
      "Hello\n",
      "\n",
      "Hello\n",
      "\n",
      "Hello\n",
      "\n",
      "Hello\n",
      "\n",
      "Hello\n",
      "\n",
      "Hello\n",
      "\n",
      "Hello\n",
      "\n"
     ]
    }
   ],
   "source": [
    "f=open(\"new.txt\",\"r\")\n",
    "data=f.readlines()\n",
    "for i in data:\n",
    "    print(i)\n",
    "f.close()"
   ]
  },
  {
   "cell_type": "code",
   "execution_count": 54,
   "id": "f79f0cf0-4e62-4ef3-91ab-ee8ac6753aa8",
   "metadata": {},
   "outputs": [
    {
     "name": "stdin",
     "output_type": "stream",
     "text": [
      "이름을 입력하세요. 전우치\n",
      "나이를 입력하세요. 20\n",
      "이름을 입력하세요. 홍길동\n",
      "나이를 입력하세요. 23\n",
      "이름을 입력하세요. \n"
     ]
    }
   ],
   "source": [
    "# 이름과 나이를 받아\n",
    "f=open(\"people.txt\",'w',encoding=\"UTF-8\")\n",
    "while True:\n",
    "    name=input(\"이름을 입력하세요.\")\n",
    "    if name==\"\":\n",
    "        break\n",
    "    age=input(\"나이를 입력하세요.\")\n",
    "    f.write(f\"{name}:{age}\\n\")\n",
    "f.close()"
   ]
  },
  {
   "cell_type": "code",
   "execution_count": null,
   "id": "34e527e9-e689-4f2b-b79c-88fcde58ae58",
   "metadata": {},
   "outputs": [],
   "source": []
  },
  {
   "cell_type": "code",
   "execution_count": 62,
   "id": "2ac22132-f669-4c6d-a304-221245940008",
   "metadata": {},
   "outputs": [],
   "source": [
    "def is_odd(number):\n",
    "    if number % 2 ==1:\n",
    "        return True\n",
    "    else:\n",
    "        return False"
   ]
  },
  {
   "cell_type": "code",
   "execution_count": 63,
   "id": "c40e5ee7-388b-4525-8c79-15164e2a42a3",
   "metadata": {},
   "outputs": [],
   "source": [
    "def avg_numbers(*args):\n",
    "    result=0\n",
    "    for i in args:\n",
    "        result +=i\n",
    "        return result/len(args)"
   ]
  },
  {
   "cell_type": "code",
   "execution_count": 65,
   "id": "5284435c-317a-4999-9aa5-8ec3df1561ab",
   "metadata": {},
   "outputs": [
    {
     "data": {
      "text/plain": [
       "0.5"
      ]
     },
     "execution_count": 65,
     "metadata": {},
     "output_type": "execute_result"
    }
   ],
   "source": [
    "avg_numbers(1,2)"
   ]
  },
  {
   "cell_type": "code",
   "execution_count": 66,
   "id": "c12a72b5-6bd2-436a-b1ee-671d7ed44f11",
   "metadata": {},
   "outputs": [
    {
     "data": {
      "text/plain": [
       "0.2"
      ]
     },
     "execution_count": 66,
     "metadata": {},
     "output_type": "execute_result"
    }
   ],
   "source": [
    "avg_numbers(1,2,3,4,5)"
   ]
  },
  {
   "cell_type": "code",
   "execution_count": 68,
   "id": "50bbde1b-bdda-4d69-af44-824fcd6d54ba",
   "metadata": {},
   "outputs": [
    {
     "data": {
      "text/plain": [
       "True"
      ]
     },
     "execution_count": 68,
     "metadata": {},
     "output_type": "execute_result"
    }
   ],
   "source": [
    "is_odd=lambda X:True if X%2==1 else False\n",
    "is_odd(3)"
   ]
  },
  {
   "cell_type": "code",
   "execution_count": 70,
   "id": "72821d8a-773e-4eff-a35b-3b79290e07e9",
   "metadata": {},
   "outputs": [],
   "source": [
    "def ag_numbers(*args):\n",
    "    result=0\n",
    "    for i in args:\n",
    "        result+=i\n",
    "    return result/len(args)\n"
   ]
  },
  {
   "cell_type": "code",
   "execution_count": 71,
   "id": "09bc42d2-bd57-40cf-b9e6-806ac3e3bed4",
   "metadata": {},
   "outputs": [
    {
     "data": {
      "text/plain": [
       "0.5"
      ]
     },
     "execution_count": 71,
     "metadata": {},
     "output_type": "execute_result"
    }
   ],
   "source": [
    "avg_numbers(1,2)"
   ]
  },
  {
   "cell_type": "code",
   "execution_count": 72,
   "id": "85e5e42a-6e3b-43af-b6d5-b507981c5185",
   "metadata": {},
   "outputs": [
    {
     "data": {
      "text/plain": [
       "0.2"
      ]
     },
     "execution_count": 72,
     "metadata": {},
     "output_type": "execute_result"
    }
   ],
   "source": [
    "avg_numbers(1,2,3,4,5)"
   ]
  },
  {
   "cell_type": "code",
   "execution_count": 73,
   "id": "0e5dd5f9-6b08-41b1-8b79-84fc23bb3cfe",
   "metadata": {},
   "outputs": [
    {
     "name": "stdin",
     "output_type": "stream",
     "text": [
      "첫번째 숫자를 입력:  3\n",
      "두번째 숫자를 입력:  6\n"
     ]
    },
    {
     "name": "stdout",
     "output_type": "stream",
     "text": [
      "두수의 합은 9 입니다.\n"
     ]
    }
   ],
   "source": [
    "input1=input(\"첫번째 숫자를 입력: \")\n",
    "input2=input(\"두번째 숫자를 입력: \")\n",
    "\n",
    "total=int(input1)+int(input2)\n",
    "print(\"두수의 합은 %s 입니다.\" %total)"
   ]
  },
  {
   "cell_type": "code",
   "execution_count": 74,
   "id": "bdd1e68a-2d63-40de-a0fd-8c722e3f9651",
   "metadata": {},
   "outputs": [
    {
     "name": "stdout",
     "output_type": "stream",
     "text": [
      "youneedpython\n"
     ]
    }
   ],
   "source": [
    "print(\"you\" \"need\" \"python\")"
   ]
  },
  {
   "cell_type": "code",
   "execution_count": 75,
   "id": "0c252bae-3ffa-40a8-9e2c-0f8a9fb7c8bc",
   "metadata": {},
   "outputs": [
    {
     "name": "stdout",
     "output_type": "stream",
     "text": [
      "youneedpython\n"
     ]
    }
   ],
   "source": [
    "print(\"you\"+\"need\"+\"python\")"
   ]
  },
  {
   "cell_type": "code",
   "execution_count": 76,
   "id": "749d3bfd-96b1-4995-9b9c-90b9c81641b6",
   "metadata": {},
   "outputs": [
    {
     "name": "stdout",
     "output_type": "stream",
     "text": [
      "you need python\n"
     ]
    }
   ],
   "source": [
    "print(\"you\",\"need\",\"python\")"
   ]
  },
  {
   "cell_type": "code",
   "execution_count": 77,
   "id": "291673a0-5eec-4a0f-82d4-5c4eb42b2f4f",
   "metadata": {},
   "outputs": [
    {
     "name": "stdout",
     "output_type": "stream",
     "text": [
      "youneedpython\n"
     ]
    }
   ],
   "source": [
    "print(\"\".join([\"you\",\"need\",\"python\"]))"
   ]
  },
  {
   "cell_type": "code",
   "execution_count": 79,
   "id": "e5a5f573-b3ad-46e2-8e58-1924c4d33f5a",
   "metadata": {},
   "outputs": [
    {
     "name": "stdout",
     "output_type": "stream",
     "text": [
      "3\n",
      "7\n"
     ]
    }
   ],
   "source": [
    "result=0\n",
    "\n",
    "def add(num):\n",
    "    global result\n",
    "    result+=num\n",
    "    return result\n",
    "print(add(3))\n",
    "print(add(4))"
   ]
  },
  {
   "cell_type": "raw",
   "id": "406e4fb0-a06c-4628-8029-f4bc248c249a",
   "metadata": {},
   "source": [
    "result1=0\n",
    "result2=0\n",
    "\n",
    "def add1(num):\n",
    "    global result1\n",
    "    result1+=num\n",
    "    return result1\n",
    "    \n",
    "def add2(num):\n",
    "    global result2\n",
    "    result2+=num\n",
    "    return result2\n",
    "\n",
    "print(add1(3))\n",
    "print(add1(4))\n",
    "print(add2(3))\n",
    "print(add2(7))"
   ]
  },
  {
   "cell_type": "raw",
   "id": "dcd4e1c6-d0de-4eb5-ae5c-db4ec216cbb1",
   "metadata": {},
   "source": [
    "add(3)"
   ]
  },
  {
   "cell_type": "code",
   "execution_count": 88,
   "id": "0ebe0618-a07f-4b1c-9575-523780a90264",
   "metadata": {},
   "outputs": [],
   "source": [
    "result=0\n",
    "\n",
    "def add1(num):\n",
    "    global result1\n",
    "    result1+=num\n",
    "    return result\n",
    "\n",
    "def subtract1(num):\n",
    "    global result\n",
    "    result-=num\n",
    "    return result"
   ]
  },
  {
   "cell_type": "code",
   "execution_count": 89,
   "id": "228afb96-8f3d-42c2-b622-819318b464c8",
   "metadata": {},
   "outputs": [
    {
     "data": {
      "text/plain": [
       "3"
      ]
     },
     "execution_count": 89,
     "metadata": {},
     "output_type": "execute_result"
    }
   ],
   "source": [
    "add(3)"
   ]
  },
  {
   "cell_type": "code",
   "execution_count": 90,
   "id": "9b640057-1cfc-4272-9206-0a6309aa4c44",
   "metadata": {},
   "outputs": [
    {
     "data": {
      "text/plain": [
       "2"
      ]
     },
     "execution_count": 90,
     "metadata": {},
     "output_type": "execute_result"
    }
   ],
   "source": [
    "subtract1(1)"
   ]
  },
  {
   "cell_type": "code",
   "execution_count": 107,
   "id": "3ccbe9cb-37c5-4285-bc17-04e375265e43",
   "metadata": {},
   "outputs": [],
   "source": [
    "class Calculator:\n",
    "    def __init__(self):\n",
    "        self.result=0\n",
    "    \n",
    "    def add(self,num):\n",
    "        self.result+=num\n",
    "        return self.result\n",
    "    \n",
    "    def subtract(self,num):\n",
    "        self.result-=num\n",
    "        return self.result\n",
    "    \n",
    "    def multifly(self,num):\n",
    "        self.result*=num\n",
    "        return self.result"
   ]
  },
  {
   "cell_type": "code",
   "execution_count": 108,
   "id": "fbf53b51-d693-4ea9-9625-c0bd9d36eca5",
   "metadata": {},
   "outputs": [],
   "source": [
    "pos=Calculator()"
   ]
  },
  {
   "cell_type": "code",
   "execution_count": 109,
   "id": "0b8beb87-4b19-418d-a446-a92cab492e90",
   "metadata": {},
   "outputs": [
    {
     "data": {
      "text/plain": [
       "3"
      ]
     },
     "execution_count": 109,
     "metadata": {},
     "output_type": "execute_result"
    }
   ],
   "source": [
    "pos.add(3)"
   ]
  },
  {
   "cell_type": "code",
   "execution_count": null,
   "id": "72dbc545-846e-435b-8fc0-9c08e8c974ae",
   "metadata": {},
   "outputs": [],
   "source": [
    "class FourCal:\n",
    "    def setdata(self,a,b):\n",
    "        self.first=a\n",
    "        self.second=b"
   ]
  },
  {
   "cell_type": "code",
   "execution_count": 111,
   "id": "720ac737-db55-4663-b941-80e52bed1b32",
   "metadata": {},
   "outputs": [],
   "source": [
    "class FourCal:\n",
    "    def setdata(self,a,b):\n",
    "        self.first=a\n",
    "        self.second=b"
   ]
  },
  {
   "cell_type": "code",
   "execution_count": 112,
   "id": "5aab35e5-1829-49d1-af38-1ef47b56dd0b",
   "metadata": {},
   "outputs": [],
   "source": [
    "cal=FourCal()"
   ]
  },
  {
   "cell_type": "code",
   "execution_count": 113,
   "id": "4924b936-e767-4179-8953-f78e6f7a19d0",
   "metadata": {},
   "outputs": [],
   "source": [
    "cal.setdata(1,2)"
   ]
  },
  {
   "cell_type": "code",
   "execution_count": 114,
   "id": "febd3570-dc4a-46e2-b18a-19210c2198cb",
   "metadata": {},
   "outputs": [
    {
     "data": {
      "text/plain": [
       "1"
      ]
     },
     "execution_count": 114,
     "metadata": {},
     "output_type": "execute_result"
    }
   ],
   "source": [
    "cal.first"
   ]
  },
  {
   "cell_type": "code",
   "execution_count": 115,
   "id": "7fa78bff-14ff-4935-8819-256a7080cf75",
   "metadata": {},
   "outputs": [
    {
     "data": {
      "text/plain": [
       "2"
      ]
     },
     "execution_count": 115,
     "metadata": {},
     "output_type": "execute_result"
    }
   ],
   "source": [
    "cal.second"
   ]
  },
  {
   "cell_type": "code",
   "execution_count": 118,
   "id": "d1450586-df74-4bf4-ae1a-68136f645f0b",
   "metadata": {},
   "outputs": [],
   "source": [
    "class FourCal:\n",
    "    def setdata(self,a,b):       \n",
    "        self.first=a\n",
    "        self.second=b\n",
    "        \n",
    "    def add(self):\n",
    "        self.result=self.first+self.second\n",
    "        return self.result\n",
    "    \n",
    "    def subtract(self):\n",
    "        self.result=self.first-self.second\n",
    "        return self.result"
   ]
  },
  {
   "cell_type": "code",
   "execution_count": 120,
   "id": "a0ad0b72-9a41-4515-a757-b099120a1365",
   "metadata": {},
   "outputs": [],
   "source": [
    "cal1=FourCal()"
   ]
  },
  {
   "cell_type": "code",
   "execution_count": 122,
   "id": "b8105004-795e-4d30-8557-70bff9d601a0",
   "metadata": {},
   "outputs": [],
   "source": [
    "class FourCal:\n",
    "    #초기화,생성자(constructor)\n",
    "    def __init__(self,a,b):\n",
    "        self.first=a\n",
    "        self.second=b\n",
    "        \n",
    "    def add(self):\n",
    "        self.result=self.first+self.second\n",
    "        return self.result\n",
    "    \n",
    "    def subtract(self):\n",
    "        self.result=self.first-self.second\n",
    "        return self.result"
   ]
  },
  {
   "cell_type": "code",
   "execution_count": 123,
   "id": "48e2e49d-3fcb-4426-b5c1-8a940ebeb8c8",
   "metadata": {},
   "outputs": [
    {
     "data": {
      "text/plain": [
       "-10"
      ]
     },
     "execution_count": 123,
     "metadata": {},
     "output_type": "execute_result"
    }
   ],
   "source": [
    "cal3=FourCal(10,20)\n",
    "cal3.subtract()"
   ]
  },
  {
   "cell_type": "code",
   "execution_count": 124,
   "id": "a35cc643-e992-4da5-9c0d-efb20933047b",
   "metadata": {},
   "outputs": [],
   "source": [
    "class FourCal:\n",
    "    #초기화,생성자(constructor)\n",
    "    def __init__(self,a,b):\n",
    "        self.first=a\n",
    "        self.second=b\n",
    "        \n",
    "    def add(self):\n",
    "        self.result=self.first+self.second\n",
    "        return self.result\n",
    "    \n",
    "    def subtract(self):\n",
    "        self.result=self.first-self.second\n",
    "        return self.result\n",
    "    \n",
    "    def multifly(self):\n",
    "        self.result=self.first*self.second\n",
    "        return self.result\n",
    "    \n",
    "    def divide(self):\n",
    "        self.result=self.first/self.second\n",
    "        return self.result"
   ]
  },
  {
   "cell_type": "code",
   "execution_count": 126,
   "id": "4ac6a9ab-71ff-4126-9dd6-8829585adb5e",
   "metadata": {},
   "outputs": [],
   "source": [
    "class Child(FourCal):\n",
    "    pass"
   ]
  },
  {
   "cell_type": "code",
   "execution_count": 127,
   "id": "7d67903a-ba53-4763-a190-428a08e39a6f",
   "metadata": {},
   "outputs": [],
   "source": [
    "cal=Child(10,20)"
   ]
  },
  {
   "cell_type": "code",
   "execution_count": 128,
   "id": "29bdcf81-3c1b-4ff7-a22c-49ef8de3bcff",
   "metadata": {},
   "outputs": [
    {
     "data": {
      "text/plain": [
       "200"
      ]
     },
     "execution_count": 128,
     "metadata": {},
     "output_type": "execute_result"
    }
   ],
   "source": [
    "cal.multifly()"
   ]
  },
  {
   "cell_type": "code",
   "execution_count": 129,
   "id": "9fc2b542-b7a6-4b9c-bb3e-c5d89571042c",
   "metadata": {},
   "outputs": [],
   "source": [
    "class Child(FourCal):\n",
    "    def Power(self):\n",
    "        self.result=self.first**self.second"
   ]
  },
  {
   "cell_type": "code",
   "execution_count": 130,
   "id": "09d00a08-e33b-45c6-a014-c90c974acdf1",
   "metadata": {},
   "outputs": [],
   "source": [
    "cal=Child(2,3)"
   ]
  },
  {
   "cell_type": "code",
   "execution_count": 131,
   "id": "9adf5608-2eeb-48ce-86c6-c01172a39897",
   "metadata": {},
   "outputs": [
    {
     "data": {
      "text/plain": [
       "5"
      ]
     },
     "execution_count": 131,
     "metadata": {},
     "output_type": "execute_result"
    }
   ],
   "source": [
    "cal.add()"
   ]
  },
  {
   "cell_type": "code",
   "execution_count": 132,
   "id": "b2945f2b-6fe1-41b4-a999-831c4464263e",
   "metadata": {},
   "outputs": [],
   "source": [
    "cal.Power()"
   ]
  },
  {
   "cell_type": "code",
   "execution_count": 133,
   "id": "12b77165-97d6-486e-bd08-8667c58861a3",
   "metadata": {},
   "outputs": [],
   "source": [
    "cal= Child(1,0)"
   ]
  },
  {
   "cell_type": "code",
   "execution_count": 135,
   "id": "96eab24e-a67e-4e71-beae-9cf46f15504d",
   "metadata": {},
   "outputs": [
    {
     "data": {
      "text/plain": [
       "1"
      ]
     },
     "execution_count": 135,
     "metadata": {},
     "output_type": "execute_result"
    }
   ],
   "source": [
    "cal.add()"
   ]
  },
  {
   "cell_type": "code",
   "execution_count": 136,
   "id": "fff193ef-c8c0-4d2c-b1ca-601e5d6419fb",
   "metadata": {},
   "outputs": [],
   "source": [
    "class Child(FourCal):\n",
    "    def Power(self):\n",
    "        self.result=self.first**self.second\n",
    "        return self.result\n",
    "    \n",
    "    def divide(self):\n",
    "        if self.second !=0:\n",
    "            self.result=self.first/self.second\n",
    "            return self.result\n",
    "        else:\n",
    "            print(\"0으로 나누셨군요\")"
   ]
  },
  {
   "cell_type": "code",
   "execution_count": 137,
   "id": "97e84bba-40f1-43ab-bc0c-488d3c70fb80",
   "metadata": {},
   "outputs": [],
   "source": [
    "class Calculator():\n",
    "    def __init__(self,a,b):\n",
    "        self.first=a\n",
    "        self.second=b\n",
    "        "
   ]
  },
  {
   "cell_type": "code",
   "execution_count": 138,
   "id": "602af5ff-a943-49e3-b20f-abacde970568",
   "metadata": {},
   "outputs": [],
   "source": [
    "cal=Calculator(1,2)"
   ]
  },
  {
   "cell_type": "code",
   "execution_count": 139,
   "id": "b3e64fde-3d22-4890-8ae6-2b4231a388ae",
   "metadata": {},
   "outputs": [
    {
     "data": {
      "text/plain": [
       "1"
      ]
     },
     "execution_count": 139,
     "metadata": {},
     "output_type": "execute_result"
    }
   ],
   "source": [
    "cal.first"
   ]
  },
  {
   "cell_type": "code",
   "execution_count": 140,
   "id": "6076bd7c-3a08-49d1-ae8c-fad11fe67a5d",
   "metadata": {},
   "outputs": [],
   "source": [
    "bal=Calculator(10,20)"
   ]
  },
  {
   "cell_type": "code",
   "execution_count": 141,
   "id": "53a66a23-f7c1-40d6-aa3f-047f86e1045c",
   "metadata": {},
   "outputs": [
    {
     "data": {
      "text/plain": [
       "10"
      ]
     },
     "execution_count": 141,
     "metadata": {},
     "output_type": "execute_result"
    }
   ],
   "source": [
    "bal.first"
   ]
  },
  {
   "cell_type": "code",
   "execution_count": null,
   "id": "ff4df213-fa09-4dba-b83b-70c02522b651",
   "metadata": {},
   "outputs": [],
   "source": []
  }
 ],
 "metadata": {
  "kernelspec": {
   "display_name": "Python 3 (ipykernel)",
   "language": "python",
   "name": "python3"
  },
  "language_info": {
   "codemirror_mode": {
    "name": "ipython",
    "version": 3
   },
   "file_extension": ".py",
   "mimetype": "text/x-python",
   "name": "python",
   "nbconvert_exporter": "python",
   "pygments_lexer": "ipython3",
   "version": "3.9.12"
  }
 },
 "nbformat": 4,
 "nbformat_minor": 5
}
