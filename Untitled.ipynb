{
 "cells": [
  {
   "cell_type": "code",
   "execution_count": 5,
   "id": "282674a9-faa5-4d30-bd2d-b488210fd20e",
   "metadata": {},
   "outputs": [
    {
     "name": "stdout",
     "output_type": "stream",
     "text": [
      "5151\n"
     ]
    }
   ],
   "source": [
    "a=0\n",
    "sum=0\n",
    "while a<=100:\n",
    "    a+=1\n",
    "    sum=sum+a\n",
    "print(sum)"
   ]
  },
  {
   "cell_type": "code",
   "execution_count": 7,
   "id": "d8536d94-9b66-4487-808e-5835c0d26ecc",
   "metadata": {},
   "outputs": [],
   "source": [
    "import random as r\n",
    "num=[0,0,0,0,0,0]\n",
    "for i in range(6):\n",
    "    num[i]=r.randint(1,45)\n",
    "    num.sort()\n",
    "    num"
   ]
  },
  {
   "cell_type": "code",
   "execution_count": 9,
   "id": "060466c0-a06a-450a-84a9-b89bd9f471af",
   "metadata": {},
   "outputs": [
    {
     "data": {
      "text/plain": [
       "[4, 8, 17, 27, 36, 42]"
      ]
     },
     "execution_count": 9,
     "metadata": {},
     "output_type": "execute_result"
    }
   ],
   "source": [
    "num=[r.randint(1,45) for i in range(6)]\n",
    "num.sort()\n",
    "num"
   ]
  },
  {
   "cell_type": "code",
   "execution_count": 12,
   "id": "8d482de3-7d5d-4d90-a11e-2ca36e0e7f74",
   "metadata": {},
   "outputs": [
    {
     "name": "stdout",
     "output_type": "stream",
     "text": [
      "[9, 11, 14, 17, 31, 40]\n"
     ]
    }
   ],
   "source": [
    "import random\n",
    "l = []\n",
    "while True:  \n",
    "    if len(l) >= 6:\n",
    "        break\n",
    "    else:    \n",
    "        i =random.randint(1, 45)\n",
    "        l.append(i)\n",
    "l.sort()\n",
    "print(l) "
   ]
  },
  {
   "cell_type": "code",
   "execution_count": 18,
   "id": "ab3b2155-7be6-405e-94d4-da3ad81c021c",
   "metadata": {},
   "outputs": [
    {
     "name": "stdout",
     "output_type": "stream",
     "text": [
      "{'a': 1, 'b': 3, 'c': 'Hello'}\n"
     ]
    }
   ],
   "source": [
    "diction(a=1,b=3,c=\"Hello\")"
   ]
  },
  {
   "cell_type": "code",
   "execution_count": 19,
   "id": "598af37c-e261-4ae1-808d-db0df387d057",
   "metadata": {},
   "outputs": [],
   "source": [
    "def diction(**kwargs):\n",
    "    print(kwargs)"
   ]
  },
  {
   "cell_type": "code",
   "execution_count": null,
   "id": "582d61c8-4d89-4537-9e7f-abdb95e0a8ad",
   "metadata": {},
   "outputs": [],
   "source": [
    "#이스케이프 문자\n",
    "\\t,\\n,\\',\\\""
   ]
  },
  {
   "cell_type": "code",
   "execution_count": 20,
   "id": "92205449-016d-4cce-b69c-a52928ab6ad8",
   "metadata": {},
   "outputs": [
    {
     "ename": "AttributeError",
     "evalue": "'int' object has no attribute 'append'",
     "output_type": "error",
     "traceback": [
      "\u001b[1;31m---------------------------------------------------------------------------\u001b[0m",
      "\u001b[1;31mAttributeError\u001b[0m                            Traceback (most recent call last)",
      "Input \u001b[1;32mIn [20]\u001b[0m, in \u001b[0;36m<cell line: 2>\u001b[1;34m()\u001b[0m\n\u001b[0;32m      2\u001b[0m \u001b[38;5;28;01mwhile\u001b[39;00m a\u001b[38;5;241m<\u001b[39m\u001b[38;5;241m10\u001b[39m:\n\u001b[0;32m      3\u001b[0m     a\u001b[38;5;241m=\u001b[39ma\u001b[38;5;241m+\u001b[39m\u001b[38;5;241m1\u001b[39m\n\u001b[1;32m----> 4\u001b[0m     \u001b[43ma\u001b[49m\u001b[38;5;241;43m.\u001b[39;49m\u001b[43mappend\u001b[49m(a)\n",
      "\u001b[1;31mAttributeError\u001b[0m: 'int' object has no attribute 'append'"
     ]
    }
   ],
   "source": [
    "a=0\n",
    "while a<10:\n",
    "    a=a+1\n",
    "    a.append(a)"
   ]
  },
  {
   "cell_type": "code",
   "execution_count": 25,
   "id": "f59b4fe9-874e-461b-879f-2a24a69ccab8",
   "metadata": {},
   "outputs": [
    {
     "ename": "IndentationError",
     "evalue": "expected an indented block (4182955790.py, line 5)",
     "output_type": "error",
     "traceback": [
      "\u001b[1;36m  Input \u001b[1;32mIn [25]\u001b[1;36m\u001b[0m\n\u001b[1;33m    print(\"짝\")\u001b[0m\n\u001b[1;37m    ^\u001b[0m\n\u001b[1;31mIndentationError\u001b[0m\u001b[1;31m:\u001b[0m expected an indented block\n"
     ]
    }
   ],
   "source": [
    "a=0\n",
    "while a<10:\n",
    "    a+=1\n",
    "    if a%3==0:\n",
    "    print(\"짝\")\n",
    "else:\n",
    "    print(a)"
   ]
  },
  {
   "cell_type": "code",
   "execution_count": 26,
   "id": "f6e65b04-26c4-4148-a1f4-773583db3511",
   "metadata": {},
   "outputs": [
    {
     "name": "stdout",
     "output_type": "stream",
     "text": [
      "0\n",
      "1\n",
      "2\n",
      "짝\n",
      "3\n",
      "4\n",
      "5\n",
      "짝\n",
      "6\n",
      "7\n",
      "8\n",
      "짝\n",
      "9\n",
      "10\n",
      "11\n",
      "짝\n",
      "12\n",
      "13\n",
      "14\n",
      "짝\n",
      "15\n",
      "16\n",
      "17\n",
      "짝\n",
      "18\n",
      "19\n",
      "20\n",
      "짝\n",
      "21\n",
      "22\n",
      "23\n",
      "짝\n",
      "24\n",
      "25\n",
      "26\n",
      "짝\n",
      "27\n",
      "28\n",
      "29\n",
      "짝\n"
     ]
    }
   ],
   "source": [
    "i = 0\n",
    "while i < 30:\n",
    "    print(i)\n",
    "    i += 1\n",
    "    if i % 3 == 0:\n",
    "        print('짝') "
   ]
  },
  {
   "cell_type": "code",
   "execution_count": 36,
   "id": "03923d48-6f19-4c08-b2ec-6a3e52979491",
   "metadata": {},
   "outputs": [
    {
     "ename": "SyntaxError",
     "evalue": "invalid syntax (2461345197.py, line 5)",
     "output_type": "error",
     "traceback": [
      "\u001b[1;36m  Input \u001b[1;32mIn [36]\u001b[1;36m\u001b[0m\n\u001b[1;33m    i % 3 == 0:\u001b[0m\n\u001b[1;37m               ^\u001b[0m\n\u001b[1;31mSyntaxError\u001b[0m\u001b[1;31m:\u001b[0m invalid syntax\n"
     ]
    }
   ],
   "source": [
    "i = 0\n",
    "while i < 30:\n",
    "    print(i)\n",
    "    i += 1\n",
    "    i % 3 == 0:\n",
    "        print('짝') \n",
    "        continue\n",
    "    print(i) "
   ]
  },
  {
   "cell_type": "code",
   "execution_count": 43,
   "id": "974cee77-9a43-4ba0-a7bc-73a54b5ae762",
   "metadata": {},
   "outputs": [
    {
     "ename": "SyntaxError",
     "evalue": "'return' outside function (1384767207.py, line 4)",
     "output_type": "error",
     "traceback": [
      "\u001b[1;36m  Input \u001b[1;32mIn [43]\u001b[1;36m\u001b[0m\n\u001b[1;33m    return(x-y)\u001b[0m\n\u001b[1;37m    ^\u001b[0m\n\u001b[1;31mSyntaxError\u001b[0m\u001b[1;31m:\u001b[0m 'return' outside function\n"
     ]
    }
   ],
   "source": [
    "def maxmin(a,b,c):\n",
    "    x=max(a,b,c)\n",
    "    y=min(a,b,c)\n",
    "return(x-y)"
   ]
  },
  {
   "cell_type": "code",
   "execution_count": 49,
   "id": "d1724e36-a0ab-45b1-957d-af051f2fe159",
   "metadata": {},
   "outputs": [],
   "source": [
    "def gap(a,b,c):\n",
    "    gap_list(a,b,c)\n",
    "    return max(gap_list)-min(gap_list)"
   ]
  },
  {
   "cell_type": "code",
   "execution_count": 50,
   "id": "fd453f02-9a1a-4368-803e-7430c8fa0f14",
   "metadata": {},
   "outputs": [
    {
     "ename": "NameError",
     "evalue": "name 'gap_list' is not defined",
     "output_type": "error",
     "traceback": [
      "\u001b[1;31m---------------------------------------------------------------------------\u001b[0m",
      "\u001b[1;31mNameError\u001b[0m                                 Traceback (most recent call last)",
      "Input \u001b[1;32mIn [50]\u001b[0m, in \u001b[0;36m<cell line: 1>\u001b[1;34m()\u001b[0m\n\u001b[1;32m----> 1\u001b[0m \u001b[43mgap\u001b[49m\u001b[43m(\u001b[49m\u001b[38;5;241;43m1\u001b[39;49m\u001b[43m,\u001b[49m\u001b[38;5;241;43m2\u001b[39;49m\u001b[43m,\u001b[49m\u001b[38;5;241;43m3\u001b[39;49m\u001b[43m)\u001b[49m\n",
      "Input \u001b[1;32mIn [49]\u001b[0m, in \u001b[0;36mgap\u001b[1;34m(a, b, c)\u001b[0m\n\u001b[0;32m      1\u001b[0m \u001b[38;5;28;01mdef\u001b[39;00m \u001b[38;5;21mgap\u001b[39m(a,b,c):\n\u001b[1;32m----> 2\u001b[0m     \u001b[43mgap_list\u001b[49m(a,b,c)\n\u001b[0;32m      3\u001b[0m     \u001b[38;5;28;01mreturn\u001b[39;00m \u001b[38;5;28mmax\u001b[39m(gap_list)\u001b[38;5;241m-\u001b[39m\u001b[38;5;28mmin\u001b[39m(gap_list)\n",
      "\u001b[1;31mNameError\u001b[0m: name 'gap_list' is not defined"
     ]
    }
   ],
   "source": [
    "gap(1,2,3)"
   ]
  },
  {
   "cell_type": "code",
   "execution_count": 52,
   "id": "d0f5d1da-3129-4aa1-b82c-dd1b411b491c",
   "metadata": {},
   "outputs": [],
   "source": [
    "a=[1,2,3,4]\n",
    "\n",
    "b=[]\n",
    "for i in a:\n",
    "    if i%2==0:\n",
    "        b.append(i*3)\n",
    "b=[i*3 for i in a if i%2==0]"
   ]
  },
  {
   "cell_type": "code",
   "execution_count": 53,
   "id": "55d200b1-77cb-4d06-bcfd-5517393d27fa",
   "metadata": {},
   "outputs": [],
   "source": [
    "b=[i*3 for i in a if i%2==0]"
   ]
  },
  {
   "cell_type": "code",
   "execution_count": 57,
   "id": "79fdad62-1ff8-4c23-aa51-9249c98908d7",
   "metadata": {},
   "outputs": [
    {
     "ename": "IndentationError",
     "evalue": "expected an indented block (933499290.py, line 4)",
     "output_type": "error",
     "traceback": [
      "\u001b[1;36m  Input \u001b[1;32mIn [57]\u001b[1;36m\u001b[0m\n\u001b[1;33m    sum+=i\u001b[0m\n\u001b[1;37m    ^\u001b[0m\n\u001b[1;31mIndentationError\u001b[0m\u001b[1;31m:\u001b[0m expected an indented block\n"
     ]
    }
   ],
   "source": [
    "def add(a,b):\n",
    "    sum=0\n",
    "    for i in range(a,b+1):\n",
    "    sum+=i\n",
    "return sum"
   ]
  },
  {
   "cell_type": "code",
   "execution_count": 58,
   "id": "4f929a95-7b68-49bf-a6bf-e567bede0a10",
   "metadata": {},
   "outputs": [],
   "source": [
    "def add(a, b):\n",
    "    sum = 0\n",
    "    for i in range(a, b + 1):\n",
    "        sum += i\n",
    "    return sum "
   ]
  },
  {
   "cell_type": "code",
   "execution_count": 71,
   "id": "196549f4-c74d-4577-ab41-f68a33234167",
   "metadata": {},
   "outputs": [],
   "source": [
    "def add(a,b):\n",
    "    sum = 0\n",
    "    for i in range(a,b+1):\n",
    "        sum+=i\n",
    "        return sum \n",
    "add(3,1)"
   ]
  },
  {
   "cell_type": "code",
   "execution_count": 74,
   "id": "d4bba8df-7da7-48d7-86c1-7fec3778d435",
   "metadata": {},
   "outputs": [
    {
     "ename": "IndentationError",
     "evalue": "expected an indented block (2758096942.py, line 4)",
     "output_type": "error",
     "traceback": [
      "\u001b[1;36m  Input \u001b[1;32mIn [74]\u001b[1;36m\u001b[0m\n\u001b[1;33m    for i in range(a,b+1):\u001b[0m\n\u001b[1;37m    ^\u001b[0m\n\u001b[1;31mIndentationError\u001b[0m\u001b[1;31m:\u001b[0m expected an indented block\n"
     ]
    }
   ],
   "source": [
    "def add(a,b):\n",
    "    sum = 0\n",
    "    if b>a:\n",
    "    for i in range(a,b+1):\n",
    "        sum+=i\n",
    "        elif a>b:\n",
    "            for i in range(b,a+1):\n",
    "                sum+=i\n",
    "        return sum "
   ]
  },
  {
   "cell_type": "code",
   "execution_count": 77,
   "id": "fef8729d-9f46-4209-97ea-5d18cb56b5ac",
   "metadata": {},
   "outputs": [],
   "source": [
    "def add(a,b):\n",
    "    if a >b:\n",
    "        a,b=b,a\n",
    "        sum=0\n",
    "        for i in range(a,b+1):\n",
    "            sum+=i\n",
    "        return sum"
   ]
  },
  {
   "cell_type": "code",
   "execution_count": null,
   "id": "6408a07e-9a81-4e3f-a993-90ea50c621a7",
   "metadata": {},
   "outputs": [],
   "source": []
  }
 ],
 "metadata": {
  "kernelspec": {
   "display_name": "Python 3 (ipykernel)",
   "language": "python",
   "name": "python3"
  },
  "language_info": {
   "codemirror_mode": {
    "name": "ipython",
    "version": 3
   },
   "file_extension": ".py",
   "mimetype": "text/x-python",
   "name": "python",
   "nbconvert_exporter": "python",
   "pygments_lexer": "ipython3",
   "version": "3.9.12"
  }
 },
 "nbformat": 4,
 "nbformat_minor": 5
}
