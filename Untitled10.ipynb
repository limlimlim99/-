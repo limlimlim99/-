{
 "cells": [
  {
   "cell_type": "code",
   "execution_count": 4,
   "id": "274e44f5-ffe4-4f81-8b80-a7c3a3c4e2e9",
   "metadata": {},
   "outputs": [
    {
     "data": {
      "text/plain": [
       "[2, 1, 3, 5, 4]"
      ]
     },
     "execution_count": 4,
     "metadata": {},
     "output_type": "execute_result"
    }
   ],
   "source": [
    "import random\n",
    "a=[1,2,3,4,5]\n",
    "random.shuffle(a)\n",
    "a"
   ]
  },
  {
   "cell_type": "code",
   "execution_count": 226,
   "id": "6bba091c-d8e0-4c21-8a75-05e0320b49de",
   "metadata": {},
   "outputs": [
    {
     "data": {
      "text/plain": [
       "[25, 30, 35, 40]"
      ]
     },
     "execution_count": 226,
     "metadata": {},
     "output_type": "execute_result"
    }
   ],
   "source": [
    "a = [5,6,7,8]\n",
    "list(map(lambda x:x*5,a))"
   ]
  },
  {
   "cell_type": "code",
   "execution_count": 11,
   "id": "8aa857bb-57e2-4a42-bccf-4620c113f7da",
   "metadata": {},
   "outputs": [
    {
     "name": "stdout",
     "output_type": "stream",
     "text": [
      "1\n",
      "2\n",
      "3\n",
      "4\n",
      "5\n",
      "6\n",
      "7\n",
      "8\n",
      "9\n"
     ]
    }
   ],
   "source": [
    "i=0\n",
    "while i<9:\n",
    "    i+=1\n",
    "    print(i)"
   ]
  },
  {
   "cell_type": "code",
   "execution_count": 239,
   "id": "13ac82c2-b423-4496-b24c-fdbf3884ac6b",
   "metadata": {},
   "outputs": [
    {
     "data": {
      "text/plain": [
       "[5, 10, 15, 20]"
      ]
     },
     "execution_count": 239,
     "metadata": {},
     "output_type": "execute_result"
    }
   ],
   "source": [
    "a=[1,2,3,4]\n",
    "li=[]\n",
    "for i in a:\n",
    "    li.append(i*5)\n",
    "li"
   ]
  },
  {
   "cell_type": "code",
   "execution_count": 259,
   "id": "61a8a8d1-252f-41b2-af91-ec0083d7cc23",
   "metadata": {},
   "outputs": [
    {
     "data": {
      "text/plain": [
       "'deVf'"
      ]
     },
     "execution_count": 259,
     "metadata": {},
     "output_type": "execute_result"
    }
   ],
   "source": [
    "word=''\n",
    "while len(word)< random.randint(1,10):\n",
    "    a=random.randint(1,3)\n",
    "    if a ==1:\n",
    "        English=chr(random.randint(65,90))\n",
    "        word += English\n",
    "\n",
    "    elif a==2:\n",
    "        english=chr(random.randint(97,122))\n",
    "        word+=english\n",
    "    else:\n",
    "        number=str(random.randint(0,9))\n",
    "        word+=number\n",
    "word"
   ]
  },
  {
   "cell_type": "code",
   "execution_count": 18,
   "id": "e00df504-4cb8-479e-9897-87181931cce9",
   "metadata": {},
   "outputs": [
    {
     "name": "stdout",
     "output_type": "stream",
     "text": [
      "['UDY', 'j867024', 'vb3FL', '87sh', 'e6eM', 'p', 'Pt0E', '5U', 'A09i', 'A73i', 'gDSM', 'UcG', 'Dd7fM8', '7Q4', 'p', 'lzA', 'McM8', 'FwE5', '8E', 'nVtJV']\n"
     ]
    }
   ],
   "source": [
    "\n",
    "import random\n",
    "\n",
    "words=[]\n",
    "for count in range(20):\n",
    "    word=''\n",
    "    while len(word)<random.randint(1,10):\n",
    "        a=random.randint(1,3)\n",
    "        if a ==1:\n",
    "            English=chr(random.randint(65,90))\n",
    "            word+=English\n",
    "            \n",
    "        elif a==2:\n",
    "            english=chr(random.randint(97,122))\n",
    "            word+=english\n",
    "        else:\n",
    "            number=str(random.randint(0,9))\n",
    "            word+=number\n",
    "    words.append(word)\n",
    "    \n",
    "print(words)    "
   ]
  },
  {
   "cell_type": "code",
   "execution_count": null,
   "id": "dbe15420-00f8-47f8-9e9b-eabac256d953",
   "metadata": {},
   "outputs": [],
   "source": []
  },
  {
   "cell_type": "code",
   "execution_count": 4,
   "id": "e5096d53-7145-45dd-8ab7-77ec9c42c6d7",
   "metadata": {},
   "outputs": [
    {
     "name": "stdout",
     "output_type": "stream",
     "text": [
      "['5ji0Lo', 'R7', 'Z04', 'VP6', '4Z', '8C4CH5F', 'jaoU', 'kZOb', 'Qg8sDjYPc', 'pa', 'Mv', '6O5', '0', '24S', 'q92', '6n', 'QNgc', 'mXM3p', 'QW9', 'Z4jsR']\n"
     ]
    }
   ],
   "source": [
    "import random\n",
    "\n",
    "\n",
    "words = []\n",
    "for count in range(20):\n",
    "    word = ''\n",
    "    while len(word) < random.randint(1,10):\n",
    "        a = random.randint(1,3)    \n",
    "        if a == 1:\n",
    "            English = chr(random.randint(65,90))\n",
    "            word += English\n",
    "        elif a == 2:\n",
    "            english = chr(random.randint(97,122))\n",
    "            word += english\n",
    "        else:\n",
    "            number = str(random.randint(0,9))\n",
    "            word += number\n",
    "    words.append(word)\n",
    "    \n",
    "print(words) "
   ]
  },
  {
   "cell_type": "code",
   "execution_count": 5,
   "id": "191db17d-600b-4e62-a0c4-36ae4385ce69",
   "metadata": {
    "collapsed": true,
    "jupyter": {
     "outputs_hidden": true
    },
    "tags": []
   },
   "outputs": [
    {
     "data": {
      "text/plain": [
       "['3nkk3yenl',\n",
       " '333',\n",
       " '049p9B8hYv',\n",
       " 'mZ8jpK2e18',\n",
       " '5Z09VT3t8',\n",
       " '1',\n",
       " 'yJTV7v424',\n",
       " 'AAmMT4tlD4',\n",
       " 'i43K8hLH9',\n",
       " '4bu',\n",
       " 'ubH5HC',\n",
       " 'm7bsDz5u',\n",
       " 'QazB2',\n",
       " '7Vl47y6fG1',\n",
       " 'By7o2eXn',\n",
       " 'u4PK7WpO',\n",
       " 'W7fK1',\n",
       " 'K4H609nF2S',\n",
       " '6dT8641wZO',\n",
       " '1K64S']"
      ]
     },
     "execution_count": 5,
     "metadata": {},
     "output_type": "execute_result"
    }
   ],
   "source": [
    "import random\n",
    "words = []\n",
    "for count in range(20):\n",
    "    word = ''\n",
    "    length = random.randint(1,10)\n",
    "    while True:\n",
    "        prob = random.randint(1,3)\n",
    "        if prob == 1: word = word + chr(random.randint(65,90))\n",
    "        elif prob == 2: word = word + chr(random.randint(97,122))\n",
    "        else: word = word + str(random.randint(0,9))\n",
    "        if len(word) == length: break\n",
    "    words.append(word)\n",
    "words "
   ]
  },
  {
   "cell_type": "code",
   "execution_count": 34,
   "id": "e2adece0-db68-4bca-8540-5943c23d649c",
   "metadata": {
    "collapsed": true,
    "jupyter": {
     "outputs_hidden": true
    },
    "tags": []
   },
   "outputs": [
    {
     "data": {
      "text/plain": [
       "[' q',\n",
       " ' qs',\n",
       " ' 4',\n",
       " ' 40',\n",
       " ' 40u',\n",
       " ' 40uK',\n",
       " ' 40uK0',\n",
       " ' 40uK0k',\n",
       " ' H',\n",
       " ' HA',\n",
       " ' R',\n",
       " ' RX',\n",
       " ' s',\n",
       " ' sM',\n",
       " ' v',\n",
       " ' vH',\n",
       " ' vH0',\n",
       " ' vH0m',\n",
       " ' vH0m5',\n",
       " ' vH0m5b',\n",
       " ' C',\n",
       " ' CA',\n",
       " ' CAi',\n",
       " ' CAix',\n",
       " ' w',\n",
       " ' we',\n",
       " ' we3',\n",
       " ' P',\n",
       " ' PV',\n",
       " ' PVi',\n",
       " ' PViB',\n",
       " ' p',\n",
       " ' pO',\n",
       " ' pO6',\n",
       " ' pO69',\n",
       " ' pO69P',\n",
       " ' pO69PM',\n",
       " ' 6',\n",
       " ' 6W',\n",
       " ' 6W0',\n",
       " ' 6W0p',\n",
       " ' 6W0pd',\n",
       " ' 6W0pd9',\n",
       " ' g',\n",
       " ' g0',\n",
       " ' g0C',\n",
       " ' g0CY',\n",
       " ' g0CYh',\n",
       " ' I',\n",
       " ' s',\n",
       " ' s1',\n",
       " ' s1p',\n",
       " ' s1pg',\n",
       " ' h',\n",
       " ' h8',\n",
       " ' h8o',\n",
       " ' h8o4',\n",
       " ' 6',\n",
       " ' 6c',\n",
       " ' 2',\n",
       " ' 29',\n",
       " ' 291',\n",
       " ' U',\n",
       " ' UW',\n",
       " ' 9']"
      ]
     },
     "execution_count": 34,
     "metadata": {},
     "output_type": "execute_result"
    }
   ],
   "source": [
    "words=[]\n",
    "for count in range(20):\n",
    "    word=\" \"\n",
    "    while len(word)<random.randint(1,10):\n",
    "        word+=''.join(random.choice(str(random.randint(0,9))+\n",
    "        chr(random.randint(65,90))+chr(random.randint(97,122))))\n",
    "        words.append(word)\n",
    "        \n",
    "words"
   ]
  },
  {
   "cell_type": "code",
   "execution_count": 32,
   "id": "3e0cab74-d74a-41e8-87ed-1dfb0d443873",
   "metadata": {},
   "outputs": [
    {
     "data": {
      "text/plain": [
       "['9JVs',\n",
       " '2sE5',\n",
       " '2sV0',\n",
       " 'wHaR',\n",
       " '0G',\n",
       " 'F09PN32',\n",
       " 'dkYl7Zc',\n",
       " '71',\n",
       " 'Nj3B',\n",
       " '2zafy7m',\n",
       " '89',\n",
       " 'H1',\n",
       " 'L39rQ',\n",
       " '1PZ44',\n",
       " 'e4k0',\n",
       " 'Zz2',\n",
       " 'dE9',\n",
       " 'z6e56',\n",
       " 'E',\n",
       " 'F2PA']"
      ]
     },
     "execution_count": 32,
     "metadata": {},
     "output_type": "execute_result"
    }
   ],
   "source": [
    "words = []\n",
    "for count in range(20) :\n",
    "    word = \"\"\n",
    "    while len(word) < random.randint(1, 10) :\n",
    "        word += ''.join(random.choice(str(random.randint(0,9)) + chr(random.randint(65, 90))+chr(random.randint(97, 122))))\n",
    "    words.append(word)\n",
    "words "
   ]
  },
  {
   "cell_type": "code",
   "execution_count": 455,
   "id": "c269f7f6-8f92-4f4d-a80e-327f1984e388",
   "metadata": {},
   "outputs": [
    {
     "name": "stdout",
     "output_type": "stream",
     "text": [
      "#\n"
     ]
    }
   ],
   "source": [
    "string = \"a2bcccA\"\n",
    "print(re.sub(\"^[a-z].+[A-Z]$\", \"#\", string)) "
   ]
  },
  {
   "cell_type": "code",
   "execution_count": 456,
   "id": "19efae69-ed2e-4aa0-8fc1-767fe76a6f6a",
   "metadata": {
    "collapsed": true,
    "jupyter": {
     "outputs_hidden": true
    },
    "tags": []
   },
   "outputs": [
    {
     "name": "stdout",
     "output_type": "stream",
     "text": [
      " q\n",
      " qs\n",
      " 4\n",
      " 40\n",
      " 40u\n",
      " 40uK\n",
      " 40uK0\n",
      " 40uK0k\n",
      " H\n",
      " HA\n",
      " R\n",
      " RX\n",
      " s\n",
      " sM\n",
      " v\n",
      " vH\n",
      " vH0\n",
      " vH0m\n",
      " vH0m5\n",
      " vH0m5b\n",
      " C\n",
      " CA\n",
      " CAi\n",
      " CAix\n",
      " w\n",
      " we\n",
      " we3\n",
      " P\n",
      " PV\n",
      " PVi\n",
      " PViB\n",
      " p\n",
      " pO\n",
      " pO6\n",
      " pO69\n",
      " pO69P\n",
      " pO69PM\n",
      " 6\n",
      " 6W\n",
      " 6W0\n",
      " 6W0p\n",
      " 6W0pd\n",
      " 6W0pd9\n",
      " g\n",
      " g0\n",
      " g0C\n",
      " g0CY\n",
      " g0CYh\n",
      " I\n",
      " s\n",
      " s1\n",
      " s1p\n",
      " s1pg\n",
      " h\n",
      " h8\n",
      " h8o\n",
      " h8o4\n",
      " 6\n",
      " 6c\n",
      " 2\n",
      " 29\n",
      " 291\n",
      " U\n",
      " UW\n",
      " 9\n"
     ]
    }
   ],
   "source": [
    "import re\n",
    "for string in words:\n",
    "    print(re.sub(\"^[a-z].+\", \"#\", string)) "
   ]
  },
  {
   "cell_type": "code",
   "execution_count": 459,
   "id": "03a0213d-0cd7-4ee5-8a16-15def8880e87",
   "metadata": {
    "collapsed": true,
    "jupyter": {
     "outputs_hidden": true
    },
    "tags": []
   },
   "outputs": [
    {
     "data": {
      "text/plain": [
       "[' q',\n",
       " ' qs',\n",
       " ' 4',\n",
       " ' 40',\n",
       " ' 40u',\n",
       " ' 40uK',\n",
       " ' 40uK0',\n",
       " ' 40uK0k',\n",
       " ' H',\n",
       " ' HA',\n",
       " ' R',\n",
       " ' RX',\n",
       " ' s',\n",
       " ' sM',\n",
       " ' v',\n",
       " ' vH',\n",
       " ' vH0',\n",
       " ' vH0m',\n",
       " ' vH0m5',\n",
       " ' vH0m5b',\n",
       " ' C',\n",
       " ' CA',\n",
       " ' CAi',\n",
       " ' CAix',\n",
       " ' w',\n",
       " ' we',\n",
       " ' we3',\n",
       " ' P',\n",
       " ' PV',\n",
       " ' PVi',\n",
       " ' PViB',\n",
       " ' p',\n",
       " ' pO',\n",
       " ' pO6',\n",
       " ' pO69',\n",
       " ' pO69P',\n",
       " ' pO69PM',\n",
       " ' 6',\n",
       " ' 6W',\n",
       " ' 6W0',\n",
       " ' 6W0p',\n",
       " ' 6W0pd',\n",
       " ' 6W0pd9',\n",
       " ' g',\n",
       " ' g0',\n",
       " ' g0C',\n",
       " ' g0CY',\n",
       " ' g0CYh',\n",
       " ' I',\n",
       " ' s',\n",
       " ' s1',\n",
       " ' s1p',\n",
       " ' s1pg',\n",
       " ' h',\n",
       " ' h8',\n",
       " ' h8o',\n",
       " ' h8o4',\n",
       " ' 6',\n",
       " ' 6c',\n",
       " ' 2',\n",
       " ' 29',\n",
       " ' 291',\n",
       " ' U',\n",
       " ' UW',\n",
       " ' 9']"
      ]
     },
     "execution_count": 459,
     "metadata": {},
     "output_type": "execute_result"
    }
   ],
   "source": [
    "words"
   ]
  },
  {
   "cell_type": "code",
   "execution_count": 467,
   "id": "58ee1989-1197-4165-a83b-c3982f52200e",
   "metadata": {
    "collapsed": true,
    "jupyter": {
     "outputs_hidden": true
    },
    "tags": []
   },
   "outputs": [
    {
     "name": "stdout",
     "output_type": "stream",
     "text": [
      " q\n",
      " qs\n",
      " 4\n",
      " 40\n",
      " 40u\n",
      "#\n",
      " 40uK0\n",
      " 40uK0k\n",
      "#\n",
      "#\n",
      "#\n",
      "#\n",
      " s\n",
      "#\n",
      " v\n",
      "#\n",
      " vH0\n",
      " vH0m\n",
      " vH0m5\n",
      " vH0m5b\n",
      "#\n",
      "#\n",
      " CAi\n",
      " CAix\n",
      " w\n",
      " we\n",
      " we3\n",
      "#\n",
      "#\n",
      " PVi\n",
      "#\n",
      " p\n",
      "#\n",
      " pO6\n",
      " pO69\n",
      "#\n",
      "#\n",
      " 6\n",
      "#\n",
      " 6W0\n",
      " 6W0p\n",
      " 6W0pd\n",
      " 6W0pd9\n",
      " g\n",
      " g0\n",
      "#\n",
      "#\n",
      " g0CYh\n",
      "#\n",
      " s\n",
      " s1\n",
      " s1p\n",
      " s1pg\n",
      " h\n",
      " h8\n",
      " h8o\n",
      " h8o4\n",
      " 6\n",
      " 6c\n",
      " 2\n",
      " 29\n",
      " 291\n",
      "#\n",
      "#\n",
      " 9\n"
     ]
    }
   ],
   "source": [
    "import re\n",
    "for string in words:\n",
    "    print(re.sub(\".+[A-Z]$\", \"#\", string)) "
   ]
  },
  {
   "cell_type": "code",
   "execution_count": 479,
   "id": "0e0205b4-08a1-465d-bd85-c9b1294e4fce",
   "metadata": {
    "collapsed": true,
    "jupyter": {
     "outputs_hidden": true
    },
    "tags": []
   },
   "outputs": [
    {
     "name": "stdout",
     "output_type": "stream",
     "text": [
      " q\n",
      " qs\n",
      " 4\n",
      " #\n",
      " #\n",
      " #\n",
      " #\n",
      " #\n",
      " H\n",
      " HA\n",
      " R\n",
      " RX\n",
      " s\n",
      " sM\n",
      " v\n",
      " vH\n",
      " vH0\n",
      " vH#\n",
      " vH#\n",
      " vH#\n",
      " C\n",
      " CA\n",
      " CAi\n",
      " CAix\n",
      " w\n",
      " we\n",
      " we3\n",
      " P\n",
      " PV\n",
      " PVi\n",
      " PViB\n",
      " p\n",
      " pO\n",
      " pO6\n",
      " pO#\n",
      " pO#\n",
      " pO#\n",
      " 6\n",
      " #\n",
      " #\n",
      " #\n",
      " #\n",
      " #\n",
      " g\n",
      " g0\n",
      " g#\n",
      " g#\n",
      " g#\n",
      " I\n",
      " s\n",
      " s1\n",
      " s#\n",
      " s#\n",
      " h\n",
      " h8\n",
      " h#\n",
      " h#\n",
      " 6\n",
      " #\n",
      " 2\n",
      " #\n",
      " #\n",
      " U\n",
      " UW\n",
      " 9\n"
     ]
    }
   ],
   "source": [
    "import re\n",
    "for string in words:\n",
    "    print(re.sub(\"\\d.+\", \"#\", string)) "
   ]
  },
  {
   "cell_type": "code",
   "execution_count": 469,
   "id": "1262fb5a-ea40-4554-9f65-50e7fcbaa7f2",
   "metadata": {
    "collapsed": true,
    "jupyter": {
     "outputs_hidden": true
    },
    "tags": []
   },
   "outputs": [
    {
     "name": "stdout",
     "output_type": "stream",
     "text": [
      " q\n",
      " qs\n",
      " 4\n",
      " 40\n",
      " 40u\n",
      " 40uK\n",
      " 40uK0\n",
      " 40uK0k\n",
      " H\n",
      " HA\n",
      " R\n",
      " RX\n",
      " s\n",
      " sM\n",
      " v\n",
      " vH\n",
      " vH0\n",
      " vH0m\n",
      " vH0m5\n",
      " vH0m5b\n",
      " C\n",
      " CA\n",
      " CAi\n",
      " CAix\n",
      " w\n",
      " we\n",
      " we3\n",
      " P\n",
      " PV\n",
      " PVi\n",
      " PViB\n",
      " p\n",
      " pO\n",
      " pO6\n",
      " pO69\n",
      " pO69P\n",
      " pO69PM\n",
      " 6\n",
      " 6W\n",
      " 6W0\n",
      " 6W0p\n",
      " 6W0pd\n",
      " 6W0pd9\n",
      " g\n",
      " g0\n",
      " g0C\n",
      " g0CY\n",
      " g0CYh\n",
      " I\n",
      " s\n",
      " s1\n",
      " s1p\n",
      " s1pg\n",
      " h\n",
      " h8\n",
      " h8o\n",
      " h8o4\n",
      " 6\n",
      " 6c\n",
      " 2\n",
      " 29\n",
      " 291\n",
      " U\n",
      " UW\n",
      " 9\n"
     ]
    }
   ],
   "source": [
    "for string in words:\n",
    "    print(re.sub(\"^[a-z].+[A-Z]$\", \"#\", string)) \n",
    "    print(re.sub(\"^[a-zA-Z].+[A-Z]\",'#',string))"
   ]
  },
  {
   "cell_type": "code",
   "execution_count": 458,
   "id": "99f4c4f5-b271-4d25-8d74-7eb4feaa4dab",
   "metadata": {
    "collapsed": true,
    "jupyter": {
     "outputs_hidden": true
    },
    "tags": []
   },
   "outputs": [
    {
     "name": "stdout",
     "output_type": "stream",
     "text": [
      " q\n",
      " qs\n",
      " 4\n",
      " 40\n",
      " 40u\n",
      " 40uK\n",
      " 40uK0\n",
      " 40uK0k\n",
      " H\n",
      " HA\n",
      " R\n",
      " RX\n",
      " s\n",
      " sM\n",
      " v\n",
      " vH\n",
      " vH0\n",
      " vH0m\n",
      " vH0m5\n",
      " vH0m5b\n",
      " C\n",
      " CA\n",
      " CAi\n",
      " CAix\n",
      " w\n",
      " we\n",
      " we3\n",
      " P\n",
      " PV\n",
      " PVi\n",
      " PViB\n",
      " p\n",
      " pO\n",
      " pO6\n",
      " pO69\n",
      " pO69P\n",
      " pO69PM\n",
      " 6\n",
      " 6W\n",
      " 6W0\n",
      " 6W0p\n",
      " 6W0pd\n",
      " 6W0pd9\n",
      " g\n",
      " g0\n",
      " g0C\n",
      " g0CY\n",
      " g0CYh\n",
      " I\n",
      " s\n",
      " s1\n",
      " s1p\n",
      " s1pg\n",
      " h\n",
      " h8\n",
      " h8o\n",
      " h8o4\n",
      " 6\n",
      " 6c\n",
      " 2\n",
      " 29\n",
      " 291\n",
      " U\n",
      " UW\n",
      " 9\n"
     ]
    }
   ],
   "source": [
    "for string in words:\n",
    "    print(re.sub(\"^[A-z].+[A-z]$\", \"#\", string))"
   ]
  },
  {
   "cell_type": "code",
   "execution_count": 56,
   "id": "0a4cae2d-479c-4c9a-a545-0d534324bc7f",
   "metadata": {},
   "outputs": [
    {
     "data": {
      "text/plain": [
       "re.Pattern"
      ]
     },
     "execution_count": 56,
     "metadata": {},
     "output_type": "execute_result"
    }
   ],
   "source": [
    "p=re.compile(\"^[A-z].+[A-z]$\")\n",
    "type(p)"
   ]
  },
  {
   "cell_type": "code",
   "execution_count": 57,
   "id": "ef60d058-efe6-4a2e-85a5-8e2e9d9c0973",
   "metadata": {
    "collapsed": true,
    "jupyter": {
     "outputs_hidden": true
    },
    "tags": []
   },
   "outputs": [
    {
     "ename": "TypeError",
     "evalue": "unsupported operand type(s) for &: 'str' and 'int'",
     "output_type": "error",
     "traceback": [
      "\u001b[1;31m---------------------------------------------------------------------------\u001b[0m",
      "\u001b[1;31mTypeError\u001b[0m                                 Traceback (most recent call last)",
      "Input \u001b[1;32mIn [57]\u001b[0m, in \u001b[0;36m<cell line: 1>\u001b[1;34m()\u001b[0m\n\u001b[1;32m----> 1\u001b[0m p\u001b[38;5;241m=\u001b[39m\u001b[43mre\u001b[49m\u001b[38;5;241;43m.\u001b[39;49m\u001b[43mcompile\u001b[49m\u001b[43m(\u001b[49m\u001b[38;5;124;43m\"\u001b[39;49m\u001b[38;5;124;43m^[A-z].+[A-z]$\u001b[39;49m\u001b[38;5;124;43m\"\u001b[39;49m\u001b[43m,\u001b[49m\u001b[43m \u001b[49m\u001b[43mstring\u001b[49m\u001b[43m)\u001b[49m\n\u001b[0;32m      2\u001b[0m p\u001b[38;5;241m.\u001b[39msub(\u001b[38;5;124m\"\u001b[39m\u001b[38;5;124m#\u001b[39m\u001b[38;5;124m\"\u001b[39m,string)\n\u001b[0;32m      4\u001b[0m re\u001b[38;5;241m.\u001b[39msub(\u001b[38;5;124m\"\u001b[39m\u001b[38;5;124m^[A-z].+[A-z]$\u001b[39m\u001b[38;5;124m\"\u001b[39m,\u001b[38;5;124m\"\u001b[39m\u001b[38;5;124m#\u001b[39m\u001b[38;5;124m\"\u001b[39m,string)\n",
      "File \u001b[1;32m~\\anaconda3\\lib\\re.py:252\u001b[0m, in \u001b[0;36mcompile\u001b[1;34m(pattern, flags)\u001b[0m\n\u001b[0;32m    250\u001b[0m \u001b[38;5;28;01mdef\u001b[39;00m \u001b[38;5;21mcompile\u001b[39m(pattern, flags\u001b[38;5;241m=\u001b[39m\u001b[38;5;241m0\u001b[39m):\n\u001b[0;32m    251\u001b[0m     \u001b[38;5;124m\"\u001b[39m\u001b[38;5;124mCompile a regular expression pattern, returning a Pattern object.\u001b[39m\u001b[38;5;124m\"\u001b[39m\n\u001b[1;32m--> 252\u001b[0m     \u001b[38;5;28;01mreturn\u001b[39;00m \u001b[43m_compile\u001b[49m\u001b[43m(\u001b[49m\u001b[43mpattern\u001b[49m\u001b[43m,\u001b[49m\u001b[43m \u001b[49m\u001b[43mflags\u001b[49m\u001b[43m)\u001b[49m\n",
      "File \u001b[1;32m~\\anaconda3\\lib\\re.py:304\u001b[0m, in \u001b[0;36m_compile\u001b[1;34m(pattern, flags)\u001b[0m\n\u001b[0;32m    302\u001b[0m \u001b[38;5;28;01mif\u001b[39;00m \u001b[38;5;129;01mnot\u001b[39;00m sre_compile\u001b[38;5;241m.\u001b[39misstring(pattern):\n\u001b[0;32m    303\u001b[0m     \u001b[38;5;28;01mraise\u001b[39;00m \u001b[38;5;167;01mTypeError\u001b[39;00m(\u001b[38;5;124m\"\u001b[39m\u001b[38;5;124mfirst argument must be string or compiled pattern\u001b[39m\u001b[38;5;124m\"\u001b[39m)\n\u001b[1;32m--> 304\u001b[0m p \u001b[38;5;241m=\u001b[39m \u001b[43msre_compile\u001b[49m\u001b[38;5;241;43m.\u001b[39;49m\u001b[43mcompile\u001b[49m\u001b[43m(\u001b[49m\u001b[43mpattern\u001b[49m\u001b[43m,\u001b[49m\u001b[43m \u001b[49m\u001b[43mflags\u001b[49m\u001b[43m)\u001b[49m\n\u001b[0;32m    305\u001b[0m \u001b[38;5;28;01mif\u001b[39;00m \u001b[38;5;129;01mnot\u001b[39;00m (flags \u001b[38;5;241m&\u001b[39m DEBUG):\n\u001b[0;32m    306\u001b[0m     \u001b[38;5;28;01mif\u001b[39;00m \u001b[38;5;28mlen\u001b[39m(_cache) \u001b[38;5;241m>\u001b[39m\u001b[38;5;241m=\u001b[39m _MAXCACHE:\n\u001b[0;32m    307\u001b[0m         \u001b[38;5;66;03m# Drop the oldest item\u001b[39;00m\n",
      "File \u001b[1;32m~\\anaconda3\\lib\\sre_compile.py:764\u001b[0m, in \u001b[0;36mcompile\u001b[1;34m(p, flags)\u001b[0m\n\u001b[0;32m    762\u001b[0m \u001b[38;5;28;01mif\u001b[39;00m isstring(p):\n\u001b[0;32m    763\u001b[0m     pattern \u001b[38;5;241m=\u001b[39m p\n\u001b[1;32m--> 764\u001b[0m     p \u001b[38;5;241m=\u001b[39m \u001b[43msre_parse\u001b[49m\u001b[38;5;241;43m.\u001b[39;49m\u001b[43mparse\u001b[49m\u001b[43m(\u001b[49m\u001b[43mp\u001b[49m\u001b[43m,\u001b[49m\u001b[43m \u001b[49m\u001b[43mflags\u001b[49m\u001b[43m)\u001b[49m\n\u001b[0;32m    765\u001b[0m \u001b[38;5;28;01melse\u001b[39;00m:\n\u001b[0;32m    766\u001b[0m     pattern \u001b[38;5;241m=\u001b[39m \u001b[38;5;28;01mNone\u001b[39;00m\n",
      "File \u001b[1;32m~\\anaconda3\\lib\\sre_parse.py:950\u001b[0m, in \u001b[0;36mparse\u001b[1;34m(str, flags, state)\u001b[0m\n\u001b[0;32m    947\u001b[0m state\u001b[38;5;241m.\u001b[39mstr \u001b[38;5;241m=\u001b[39m \u001b[38;5;28mstr\u001b[39m\n\u001b[0;32m    949\u001b[0m \u001b[38;5;28;01mtry\u001b[39;00m:\n\u001b[1;32m--> 950\u001b[0m     p \u001b[38;5;241m=\u001b[39m _parse_sub(source, state, \u001b[43mflags\u001b[49m\u001b[43m \u001b[49m\u001b[38;5;241;43m&\u001b[39;49m\u001b[43m \u001b[49m\u001b[43mSRE_FLAG_VERBOSE\u001b[49m, \u001b[38;5;241m0\u001b[39m)\n\u001b[0;32m    951\u001b[0m \u001b[38;5;28;01mexcept\u001b[39;00m Verbose:\n\u001b[0;32m    952\u001b[0m     \u001b[38;5;66;03m# the VERBOSE flag was switched on inside the pattern.  to be\u001b[39;00m\n\u001b[0;32m    953\u001b[0m     \u001b[38;5;66;03m# on the safe side, we'll parse the whole thing again...\u001b[39;00m\n\u001b[0;32m    954\u001b[0m     state \u001b[38;5;241m=\u001b[39m State()\n",
      "\u001b[1;31mTypeError\u001b[0m: unsupported operand type(s) for &: 'str' and 'int'"
     ]
    }
   ],
   "source": [
    "p=re.compile(\"^[A-z].+[A-z]$\", string)\n",
    "p.sub(\"#\",string)\n",
    "\n",
    "re.sub(\"^[A-z].+[A-z]$\",\"#\",string)\n"
   ]
  },
  {
   "cell_type": "markdown",
   "id": "4ea97a9c-5492-4e31-ac5a-60cc5f1b4ffb",
   "metadata": {},
   "source": [
    "- re의 메소드"
   ]
  },
  {
   "cell_type": "code",
   "execution_count": 62,
   "id": "f00a533c-3890-4dd7-ad34-315efd4dc5b8",
   "metadata": {},
   "outputs": [],
   "source": [
    "import re\n",
    "p=re.compile('[a-z]+')\n"
   ]
  },
  {
   "cell_type": "code",
   "execution_count": 66,
   "id": "5b70cf70-dca0-4605-a68f-d32647eb10e1",
   "metadata": {},
   "outputs": [
    {
     "data": {
      "text/plain": [
       "<re.Match object; span=(0, 6), match='python'>"
      ]
     },
     "execution_count": 66,
     "metadata": {},
     "output_type": "execute_result"
    }
   ],
   "source": [
    "p.match(\"pythonPYTHON1234\")"
   ]
  },
  {
   "cell_type": "code",
   "execution_count": 74,
   "id": "f26de699-fb79-4664-8c0d-4a9ee8cc2298",
   "metadata": {},
   "outputs": [
    {
     "data": {
      "text/plain": [
       "<re.Match object; span=(0, 6), match='python'>"
      ]
     },
     "execution_count": 74,
     "metadata": {},
     "output_type": "execute_result"
    }
   ],
   "source": [
    "re.match(\"[a-z]+\",\"python\")"
   ]
  },
  {
   "cell_type": "code",
   "execution_count": 78,
   "id": "65aeb03e-7f67-4e98-af79-8ca21be72aae",
   "metadata": {},
   "outputs": [],
   "source": [
    "p.match(\"PYTHONpython1234    pythonPYTHON1234\")"
   ]
  },
  {
   "cell_type": "code",
   "execution_count": 80,
   "id": "3fbfd763-57b9-4b83-a320-a98e1a9a3490",
   "metadata": {},
   "outputs": [
    {
     "data": {
      "text/plain": [
       "<re.Match object; span=(0, 6), match='python'>"
      ]
     },
     "execution_count": 80,
     "metadata": {},
     "output_type": "execute_result"
    }
   ],
   "source": [
    "p.search(\"pythonPYTHON1234\")"
   ]
  },
  {
   "cell_type": "code",
   "execution_count": 81,
   "id": "638981f2-aee3-4165-bc4f-8e292ee3221b",
   "metadata": {},
   "outputs": [
    {
     "data": {
      "text/plain": [
       "<re.Match object; span=(6, 12), match='python'>"
      ]
     },
     "execution_count": 81,
     "metadata": {},
     "output_type": "execute_result"
    }
   ],
   "source": [
    "p.search(\"PYTHONpython1234    pythonPYTHON1234\")"
   ]
  },
  {
   "cell_type": "code",
   "execution_count": 83,
   "id": "dcfc2834-7e32-43b0-b05a-6558048acb3a",
   "metadata": {},
   "outputs": [
    {
     "data": {
      "text/plain": [
       "['python', 'python']"
      ]
     },
     "execution_count": 83,
     "metadata": {},
     "output_type": "execute_result"
    }
   ],
   "source": [
    "p.findall(\"PYTHONpython1234    pythonPYTHON1234\")"
   ]
  },
  {
   "cell_type": "code",
   "execution_count": 84,
   "id": "5e4dd4ea-8184-4aad-83dd-69becf4f8222",
   "metadata": {},
   "outputs": [
    {
     "data": {
      "text/plain": [
       "<callable_iterator at 0x28f3f950040>"
      ]
     },
     "execution_count": 84,
     "metadata": {},
     "output_type": "execute_result"
    }
   ],
   "source": [
    "p.finditer(\"PYTHONpython1234    pythonPYTHON1234\")"
   ]
  },
  {
   "cell_type": "code",
   "execution_count": 86,
   "id": "63bcf3ca-5657-40fa-af6d-3e8fe677530d",
   "metadata": {},
   "outputs": [
    {
     "name": "stdout",
     "output_type": "stream",
     "text": [
      "<re.Match object; span=(6, 12), match='python'>\n",
      "<re.Match object; span=(20, 26), match='python'>\n"
     ]
    }
   ],
   "source": [
    "for i in p.finditer(\"PYTHONpython1234    pythonPYTHON1234\"):\n",
    "    print(i)"
   ]
  },
  {
   "cell_type": "code",
   "execution_count": 87,
   "id": "6cd030d0-65d9-4899-8a22-a97910e757a4",
   "metadata": {},
   "outputs": [
    {
     "data": {
      "text/plain": [
       "<re.Match object; span=(0, 6), match='python'>"
      ]
     },
     "execution_count": 87,
     "metadata": {},
     "output_type": "execute_result"
    }
   ],
   "source": [
    "p.match(\"pythonPYTHON1234 PYTHONpython1234\" )"
   ]
  },
  {
   "cell_type": "code",
   "execution_count": 88,
   "id": "a3823d05-33ec-4e5d-a818-ec9c5a5ad57f",
   "metadata": {},
   "outputs": [
    {
     "data": {
      "text/plain": [
       "'python'"
      ]
     },
     "execution_count": 88,
     "metadata": {},
     "output_type": "execute_result"
    }
   ],
   "source": [
    "p.match(\"pythonPYTHON1234 PYTHONpython1234\" ).group()"
   ]
  },
  {
   "cell_type": "code",
   "execution_count": 89,
   "id": "07ba88df-698d-44b6-9800-d82023b59694",
   "metadata": {},
   "outputs": [
    {
     "data": {
      "text/plain": [
       "0"
      ]
     },
     "execution_count": 89,
     "metadata": {},
     "output_type": "execute_result"
    }
   ],
   "source": [
    "p.match(\"pythonPYTHON1234 PYTHONpython1234\" ).start()"
   ]
  },
  {
   "cell_type": "code",
   "execution_count": 90,
   "id": "5be918c3-ff1d-4af0-92f9-b433d5d60739",
   "metadata": {},
   "outputs": [
    {
     "data": {
      "text/plain": [
       "6"
      ]
     },
     "execution_count": 90,
     "metadata": {},
     "output_type": "execute_result"
    }
   ],
   "source": [
    "p.match(\"pythonPYTHON1234 PYTHONpython1234\" ).end()"
   ]
  },
  {
   "cell_type": "code",
   "execution_count": 91,
   "id": "0f4a1010-165a-4db8-95d0-8d87fe1e8a1e",
   "metadata": {},
   "outputs": [
    {
     "data": {
      "text/plain": [
       "(0, 6)"
      ]
     },
     "execution_count": 91,
     "metadata": {},
     "output_type": "execute_result"
    }
   ],
   "source": [
    "p.match(\"pythonPYTHON1234 PYTHONpython1234\" ).span()"
   ]
  },
  {
   "cell_type": "code",
   "execution_count": 92,
   "id": "f2cfd1a5-edbe-4839-87f1-93530d55be17",
   "metadata": {},
   "outputs": [
    {
     "data": {
      "text/plain": [
       "'python'"
      ]
     },
     "execution_count": 92,
     "metadata": {},
     "output_type": "execute_result"
    }
   ],
   "source": [
    "p.search(\"PYTHONpython1234\" ).group()"
   ]
  },
  {
   "cell_type": "code",
   "execution_count": 93,
   "id": "f29dc9a1-5482-4fa9-8126-465b74644d2e",
   "metadata": {},
   "outputs": [
    {
     "data": {
      "text/plain": [
       "6"
      ]
     },
     "execution_count": 93,
     "metadata": {},
     "output_type": "execute_result"
    }
   ],
   "source": [
    "p.search(\"PYTHONpython1234\" ).start()"
   ]
  },
  {
   "cell_type": "code",
   "execution_count": 94,
   "id": "892f79ba-4493-4779-a9da-3c5ab6d0acfd",
   "metadata": {},
   "outputs": [
    {
     "data": {
      "text/plain": [
       "12"
      ]
     },
     "execution_count": 94,
     "metadata": {},
     "output_type": "execute_result"
    }
   ],
   "source": [
    "p.search(\"PYTHONpython1234\" ).end()"
   ]
  },
  {
   "cell_type": "code",
   "execution_count": 95,
   "id": "916f1e51-cca5-4e79-9c8a-5ea0bc7056ed",
   "metadata": {},
   "outputs": [
    {
     "data": {
      "text/plain": [
       "(6, 12)"
      ]
     },
     "execution_count": 95,
     "metadata": {},
     "output_type": "execute_result"
    }
   ],
   "source": [
    "p.search(\"PYTHONpython1234\" ).span()"
   ]
  },
  {
   "cell_type": "markdown",
   "id": "7fe47610-2966-43d0-9b69-823e247a2dcd",
   "metadata": {},
   "source": [
    "- 전화번호 골라내기"
   ]
  },
  {
   "cell_type": "code",
   "execution_count": 108,
   "id": "832fdcba-02d3-4d2f-95d1-afb88e645639",
   "metadata": {},
   "outputs": [
    {
     "name": "stdout",
     "output_type": "stream",
     "text": [
      "<re.Match object; span=(0, 13), match='010-1234-5678'>\n",
      "<re.Match object; span=(0, 13), match='010-1234-5679'>\n",
      "<re.Match object; span=(0, 13), match='010-1234-5670'>\n",
      "None\n",
      "None\n"
     ]
    }
   ],
   "source": [
    "data = [\"010-1234-5678\", \"010-1234-5679\", \"010-1234-5670\",\n",
    "        \"010-1234-670\", \"02-334-2243\"] \n",
    "\n",
    "for i in data:\n",
    "    print(re.search(\"010-\\d{4}-\\d{4}\",i))"
   ]
  },
  {
   "cell_type": "code",
   "execution_count": 110,
   "id": "ff40bf33-471b-4b39-b03e-adc19e477543",
   "metadata": {},
   "outputs": [
    {
     "name": "stdout",
     "output_type": "stream",
     "text": [
      "<re.Match object; span=(0, 13), match='010-1234-5678'>\n",
      "<re.Match object; span=(0, 13), match='010-1234-5679'>\n",
      "<re.Match object; span=(0, 13), match='010-1234-5670'>\n",
      "None\n",
      "None\n"
     ]
    }
   ],
   "source": [
    "for i in data:\n",
    "    print(re.search(\"010[-]\\d{4}-\\d{4}\",i))"
   ]
  },
  {
   "cell_type": "code",
   "execution_count": 196,
   "id": "b5b54840-a915-4599-843c-94bf11e0d775",
   "metadata": {},
   "outputs": [
    {
     "data": {
      "text/plain": [
       "[]"
      ]
     },
     "execution_count": 196,
     "metadata": {},
     "output_type": "execute_result"
    }
   ],
   "source": [
    "data = '\"010-1234-5678\", \"010-1234-5679\", \"010-1234-5670\", \"010-1234-670\", \"02-334-2243\"'\n",
    "\n",
    "    \n",
    "    \n",
    "def is_phone_number(data):\n",
    "    phone_number=[]\n",
    "    for i in data:\n",
    "        if re.search(\"010[-]\\d{4}-\\d{4}\",i):\n",
    "            phone_number.append(i)\n",
    "    return phone_number\n",
    "\n",
    "is_phone_number(data)"
   ]
  },
  {
   "cell_type": "code",
   "execution_count": 231,
   "id": "f3e30ed1-06d7-43aa-afcf-c75f0bb49565",
   "metadata": {},
   "outputs": [],
   "source": [
    "data = '\"010-1234-5678\", \"010-1234-5679\", \"010-1234-5670\", \"010-1234-670\", \"02-334-2243\"'\n",
    "\n",
    "    \n",
    "def is_phone_number(data):\n",
    "    phone_number=[]\n",
    "    for i in re.finditer(\"010[-]\\d{4}-\\d{4}\",data):\n",
    "        phone_number.append(i.group())\n",
    "        \n",
    "    return phone_number"
   ]
  },
  {
   "cell_type": "code",
   "execution_count": 238,
   "id": "68278998-792d-415c-9993-deabe221b58f",
   "metadata": {},
   "outputs": [
    {
     "name": "stdout",
     "output_type": "stream",
     "text": [
      "010-1234-5678\n",
      "(1, 14)\n",
      "010-1234-5679\n",
      "(18, 31)\n",
      "010-1234-5670\n",
      "(35, 48)\n"
     ]
    }
   ],
   "source": [
    "data = '\"010-1234-5678\", \"010-1234-5679\", \"010-1234-5670\", \"010-1234-670\", \"02-334-2243\"'\n",
    "for i in re.finditer(\"010[-]\\d{4}-\\d{4}\",data):\n",
    "    print(i.group())\n",
    "    print(i.span())\n"
   ]
  },
  {
   "cell_type": "code",
   "execution_count": null,
   "id": "19447fb5-a4ea-4e81-9f3b-1f44c9a4e27b",
   "metadata": {},
   "outputs": [],
   "source": [
    "data = '\"010-1234-5678\", \"010-1234-5679\", \"010-1234-5670\",\n",
    "        \"010-1234-670\", \"02-334-2243\"'\n",
    "\n",
    "    \n",
    "    \n",
    "def is_phone_number(data):\n",
    "    phone_number=[]\n",
    "    for i in data:\n",
    "        re.finditer(\"010[-]\\d{4}-\\d{4}\",i):\n",
    "            phone_number.append(i)\n",
    "    return phone_number\n",
    "\n",
    "is_phone_number(data)"
   ]
  },
  {
   "cell_type": "code",
   "execution_count": 225,
   "id": "a835fa3c-b39e-4878-a7db-cdb406e2f6d8",
   "metadata": {},
   "outputs": [
    {
     "data": {
      "text/plain": [
       "['010-1234-5678', '010-1234-5679', '010-1234-5670']"
      ]
     },
     "execution_count": 225,
     "metadata": {},
     "output_type": "execute_result"
    }
   ],
   "source": [
    "data = '010-1234-5678, 010-1234-5679, 010-1234-5670, 010-1234-670, 02-334-2243'\n",
    "\n",
    "import re \n",
    "\n",
    "\n",
    "def is_phone_number(data):\n",
    "    phone_number= []\n",
    "   \n",
    "    for i in re.finditer(\"010[-]\\d{4}-\\d{4}\",data):\n",
    "        phone_number.append(i.group())  \n",
    "    return phone_number\n",
    "\n",
    "is_phone_number(data)"
   ]
  },
  {
   "cell_type": "code",
   "execution_count": 186,
   "id": "f6c135de-8a58-44b0-b930-bc69b3308515",
   "metadata": {},
   "outputs": [
    {
     "data": {
      "text/plain": [
       "<function __main__.is_phone_number(data)>"
      ]
     },
     "execution_count": 186,
     "metadata": {},
     "output_type": "execute_result"
    }
   ],
   "source": [
    "data = '\"010-1234-5678\", \"010-1234-5679\", \"010-1234-5670\", \"010-1234-670\", \"02-334-2243\"'\n",
    "\n",
    "def is_phone_number(data):\n",
    "    phone_number = []\n",
    "    for i in re.finditer('010-\\d{4}-\\d{4}', data):\n",
    "        phone_number.append(i.group())\n",
    "    return phone_number \n",
    "\n",
    "is_phone_number"
   ]
  },
  {
   "cell_type": "code",
   "execution_count": 166,
   "id": "0acfe19e-179a-4d61-8167-47453c4468fd",
   "metadata": {},
   "outputs": [],
   "source": [
    "def is_phone_number(data):\n",
    "    phone_number = []\n",
    "    for i in re.finditer('010-\\d{4}-\\d{4}' , data):\n",
    "        print(i.group())\n",
    "        phone_number.append(i.group())\n",
    "        \n",
    "        \n",
    "    return phone_number "
   ]
  },
  {
   "cell_type": "code",
   "execution_count": 167,
   "id": "c8040419-2703-45f8-9ea1-e16bc447a55b",
   "metadata": {},
   "outputs": [],
   "source": [
    "def is_phone_number(data):\n",
    "    phone_number = []\n",
    "    for i in re.findall('010-\\d{4}-\\d{4}' , data):\n",
    "        print(i.group())\n",
    "        phone_number.append(i.group())\n",
    "        \n",
    "        \n",
    "    return phone_number "
   ]
  },
  {
   "cell_type": "code",
   "execution_count": 168,
   "id": "95aa75b8-fde2-446d-8db9-7c274b84b00f",
   "metadata": {},
   "outputs": [
    {
     "data": {
      "text/plain": [
       "['010-1234-5678', '010-1234-5679', '010-1234-5670']"
      ]
     },
     "execution_count": 168,
     "metadata": {},
     "output_type": "execute_result"
    }
   ],
   "source": [
    "re.findall('010-\\d{4}-\\d{4}' , data)"
   ]
  },
  {
   "cell_type": "code",
   "execution_count": 180,
   "id": "c00a88a6-d0ce-4c24-ba61-10fe25d4614e",
   "metadata": {},
   "outputs": [
    {
     "name": "stdout",
     "output_type": "stream",
     "text": [
      "<callable_iterator object at 0x0000028F40017BB0>\n"
     ]
    }
   ],
   "source": [
    "msg=\"안녕하세요. 제 소개부터 드리도록 하지요. 저는 의미있는 일을 하고 싶어요. 건강하세요.\" \n",
    "s=\"하세요\",\"하지요\",\"싶어요\"\n",
    "result=p.finditer(msg)\n",
    "print(result)\n",
    "for s in result:\n",
    "    print(msg)"
   ]
  },
  {
   "cell_type": "code",
   "execution_count": 181,
   "id": "28bf57ce-6fb5-43c9-b7fc-3ef869ae593c",
   "metadata": {},
   "outputs": [
    {
     "name": "stdout",
     "output_type": "stream",
     "text": [
      "(2, 5)\n",
      "(19, 22)\n",
      "(38, 41)\n",
      "(45, 48)\n"
     ]
    }
   ],
   "source": [
    "msg=\"안녕하세요. 제 소개부터 드리도록 하지요. 저는 의미있는 일을 하고 싶어요. 건강하세요.\" \n",
    "for i in re.finditer('하세요|하지요|싶어요',msg):\n",
    "    print(i.span())"
   ]
  },
  {
   "cell_type": "code",
   "execution_count": 202,
   "id": "1de62df8-acc1-4096-8c22-3f8899ea3978",
   "metadata": {},
   "outputs": [
    {
     "name": "stdout",
     "output_type": "stream",
     "text": [
      "<callable_iterator object at 0x0000028F3FB0B850>\n",
      "<re.Match object; span=(0, 4), match='life'>\n",
      "<re.Match object; span=(5, 7), match='is'>\n",
      "<re.Match object; span=(8, 11), match='too'>\n",
      "<re.Match object; span=(12, 17), match='short'>\n"
     ]
    }
   ],
   "source": [
    "result=p.finditer(\"life is too short\")\n",
    "print(result)\n",
    "\n",
    "for r in result: print(r)\n"
   ]
  },
  {
   "cell_type": "code",
   "execution_count": 203,
   "id": "581e7e9b-c224-4a8e-80e7-278e7548f1ca",
   "metadata": {},
   "outputs": [
    {
     "name": "stdout",
     "output_type": "stream",
     "text": [
      "['life', 'is', 'too', 'short']\n"
     ]
    }
   ],
   "source": [
    "result=p.findall(\"life is too short\")\n",
    "print(result)"
   ]
  },
  {
   "cell_type": "code",
   "execution_count": 205,
   "id": "8a6a8b32-afde-4d1f-b368-97a0f366477e",
   "metadata": {},
   "outputs": [],
   "source": [
    "import re\n",
    "p=re.compile('ab*')"
   ]
  },
  {
   "cell_type": "code",
   "execution_count": 218,
   "id": "0eadcb26-d724-4e03-ad0c-832128c7aa79",
   "metadata": {},
   "outputs": [],
   "source": [
    "import re\n",
    "p=re.compile('[a-z]+')"
   ]
  },
  {
   "cell_type": "code",
   "execution_count": 219,
   "id": "c14f13bb-9825-49cf-90c3-4b1feeb13ed4",
   "metadata": {},
   "outputs": [
    {
     "name": "stdout",
     "output_type": "stream",
     "text": [
      "<re.Match object; span=(0, 6), match='python'>\n"
     ]
    }
   ],
   "source": [
    "m=p.match(\"python\")\n",
    "print(m)"
   ]
  },
  {
   "cell_type": "code",
   "execution_count": 220,
   "id": "092d8aca-d844-4b57-b78b-974bf8a12a16",
   "metadata": {},
   "outputs": [
    {
     "name": "stdout",
     "output_type": "stream",
     "text": [
      "None\n"
     ]
    }
   ],
   "source": [
    "m=p.match(\"3 python\")\n",
    "print(m)"
   ]
  },
  {
   "cell_type": "code",
   "execution_count": 221,
   "id": "1a2d5d24-3be0-4596-8639-1d928fe9fa95",
   "metadata": {},
   "outputs": [
    {
     "name": "stdout",
     "output_type": "stream",
     "text": [
      "<re.Match object; span=(0, 6), match='python'>\n"
     ]
    }
   ],
   "source": [
    "m=p.search(\"python\")\n",
    "print(m)"
   ]
  },
  {
   "cell_type": "code",
   "execution_count": 222,
   "id": "5da85a56-6800-4d31-b88b-8d6349dfe8df",
   "metadata": {},
   "outputs": [
    {
     "name": "stdout",
     "output_type": "stream",
     "text": [
      "<re.Match object; span=(2, 8), match='python'>\n"
     ]
    }
   ],
   "source": [
    "m=p.search(\"3 python\")\n",
    "print(m)"
   ]
  },
  {
   "cell_type": "code",
   "execution_count": 223,
   "id": "7f73ea33-666d-429f-ba74-405c9d0ea139",
   "metadata": {},
   "outputs": [
    {
     "name": "stdout",
     "output_type": "stream",
     "text": [
      "['life', 'is', 'too', 'short']\n"
     ]
    }
   ],
   "source": [
    "rsult=p.findall(\"life is too short\")\n",
    "print(result)"
   ]
  },
  {
   "cell_type": "code",
   "execution_count": 224,
   "id": "d4789ff5-cb4c-4453-a011-c01bb7f2aca4",
   "metadata": {},
   "outputs": [
    {
     "name": "stdout",
     "output_type": "stream",
     "text": [
      "['life', 'is', 'too', 'short']\n"
     ]
    }
   ],
   "source": [
    "result=p.findall(\"life is too short\")\n",
    "print(result)"
   ]
  },
  {
   "cell_type": "markdown",
   "id": "a963292e-0d36-4fca-95de-20ee9630cbb4",
   "metadata": {},
   "source": [
    "- group"
   ]
  },
  {
   "cell_type": "code",
   "execution_count": 343,
   "id": "438e8894-69ca-472e-bc96-3269c9ec9352",
   "metadata": {},
   "outputs": [],
   "source": [
    "sentence=\"park 010-1234-1234\"\n",
    "p=re.compile(r'(\\w+)\\s((\\d+)[-]\\d+[-]\\d+)')"
   ]
  },
  {
   "cell_type": "code",
   "execution_count": 344,
   "id": "9287390e-7ce6-4f71-a3c9-0dd1674dccf5",
   "metadata": {},
   "outputs": [
    {
     "data": {
      "text/plain": [
       "<re.Match object; span=(0, 18), match='park 010-1234-1234'>"
      ]
     },
     "execution_count": 344,
     "metadata": {},
     "output_type": "execute_result"
    }
   ],
   "source": [
    "p.search(sentence)"
   ]
  },
  {
   "cell_type": "code",
   "execution_count": 345,
   "id": "1e4b6975-c9ba-4103-99d8-d3c705683e26",
   "metadata": {},
   "outputs": [
    {
     "data": {
      "text/plain": [
       "'park 010-1234-1234'"
      ]
     },
     "execution_count": 345,
     "metadata": {},
     "output_type": "execute_result"
    }
   ],
   "source": [
    "p.search(sentence).group(0)"
   ]
  },
  {
   "cell_type": "code",
   "execution_count": 346,
   "id": "f7e6ecb5-4804-49d6-8731-2475758841ea",
   "metadata": {},
   "outputs": [
    {
     "name": "stdout",
     "output_type": "stream",
     "text": [
      "010-1234-1234 park\n"
     ]
    }
   ],
   "source": [
    "print(p.search(sentence).group(2),p.search(sentence).group(1))"
   ]
  },
  {
   "cell_type": "code",
   "execution_count": 347,
   "id": "6cae0a93-5fbf-4ff9-8751-94629e21eef5",
   "metadata": {},
   "outputs": [
    {
     "data": {
      "text/plain": [
       "'010-1234-1234'"
      ]
     },
     "execution_count": 347,
     "metadata": {},
     "output_type": "execute_result"
    }
   ],
   "source": [
    "p.search(sentence).group(2)"
   ]
  },
  {
   "cell_type": "code",
   "execution_count": 348,
   "id": "0114c316-5a3e-4c5e-b55b-cd617d8fd5ae",
   "metadata": {},
   "outputs": [],
   "source": [
    "sentence=\"park 010-1234-1234 kim\"\n",
    "p=re.compile(r'(\\w+)\\s+((\\d+)[-]\\d+[-]\\d+)\\1')"
   ]
  },
  {
   "cell_type": "code",
   "execution_count": 355,
   "id": "3d27aff4-d341-47da-a1ae-186eafd37f13",
   "metadata": {},
   "outputs": [],
   "source": [
    "sentence = \"park 010-1234-1234\"\n",
    "p = re.compile(r'(?P<family>\\w+)\\s((?P<phone_first>\\d+)[-]\\d+[-]\\d+)')"
   ]
  },
  {
   "cell_type": "code",
   "execution_count": 356,
   "id": "3706d54e-a756-4521-80bd-114d6d5903ae",
   "metadata": {},
   "outputs": [
    {
     "data": {
      "text/plain": [
       "'park'"
      ]
     },
     "execution_count": 356,
     "metadata": {},
     "output_type": "execute_result"
    }
   ],
   "source": [
    "p.search(sentence).group(\"family\") "
   ]
  },
  {
   "cell_type": "code",
   "execution_count": 357,
   "id": "8a111db4-9ae9-4417-ba84-61e83cb46273",
   "metadata": {},
   "outputs": [
    {
     "data": {
      "text/plain": [
       "'park 010-1234-1234'"
      ]
     },
     "execution_count": 357,
     "metadata": {},
     "output_type": "execute_result"
    }
   ],
   "source": [
    "p.search(sentence).group(0)"
   ]
  },
  {
   "cell_type": "code",
   "execution_count": 359,
   "id": "e2f976f8-33ac-4d25-b43c-78b7922cd229",
   "metadata": {},
   "outputs": [],
   "source": [
    "sentence = \"park 010-1234-1234 kim\"\n",
    "p = re.compile(r'(?P<family>\\w+)\\s((?P<phone_first>\\d+)[-]\\d+[-]\\d+)') "
   ]
  },
  {
   "cell_type": "code",
   "execution_count": 361,
   "id": "7fda3e24-617c-49c0-8b5d-04ed20d52022",
   "metadata": {},
   "outputs": [
    {
     "data": {
      "text/plain": [
       "'park'"
      ]
     },
     "execution_count": 361,
     "metadata": {},
     "output_type": "execute_result"
    }
   ],
   "source": [
    "p.search(sentence).group(\"family\") "
   ]
  },
  {
   "cell_type": "code",
   "execution_count": 339,
   "id": "f8fbc44b-db89-4ef5-b0bc-056af6b69da7",
   "metadata": {
    "collapsed": true,
    "jupyter": {
     "outputs_hidden": true
    },
    "tags": []
   },
   "outputs": [
    {
     "name": "stdout",
     "output_type": "stream",
     "text": [
      "Support for regular expressions (RE).\n",
      "\n",
      "This module provides regular expression matching operations similar to\n",
      "those found in Perl.  It supports both 8-bit and Unicode strings; both\n",
      "the pattern and the strings being processed can contain null bytes and\n",
      "characters outside the US ASCII range.\n",
      "\n",
      "Regular expressions can contain both special and ordinary characters.\n",
      "Most ordinary characters, like \"A\", \"a\", or \"0\", are the simplest\n",
      "regular expressions; they simply match themselves.  You can\n",
      "concatenate ordinary characters, so last matches the string 'last'.\n",
      "\n",
      "The special characters are:\n",
      "    \".\"      Matches any character except a newline.\n",
      "    \"^\"      Matches the start of the string.\n",
      "    \"$\"      Matches the end of the string or just before the newline at\n",
      "             the end of the string.\n",
      "    \"*\"      Matches 0 or more (greedy) repetitions of the preceding RE.\n",
      "             Greedy means that it will match as many repetitions as possible.\n",
      "    \"+\"      Matches 1 or more (greedy) repetitions of the preceding RE.\n",
      "    \"?\"      Matches 0 or 1 (greedy) of the preceding RE.\n",
      "    *?,+?,?? Non-greedy versions of the previous three special characters.\n",
      "    {m,n}    Matches from m to n repetitions of the preceding RE.\n",
      "    {m,n}?   Non-greedy version of the above.\n",
      "    \"\\\\\"     Either escapes special characters or signals a special sequence.\n",
      "    []       Indicates a set of characters.\n",
      "             A \"^\" as the first character indicates a complementing set.\n",
      "    \"|\"      A|B, creates an RE that will match either A or B.\n",
      "    (...)    Matches the RE inside the parentheses.\n",
      "             The contents can be retrieved or matched later in the string.\n",
      "    (?aiLmsux) The letters set the corresponding flags defined below.\n",
      "    (?:...)  Non-grouping version of regular parentheses.\n",
      "    (?P<name>...) The substring matched by the group is accessible by name.\n",
      "    (?P=name)     Matches the text matched earlier by the group named name.\n",
      "    (?#...)  A comment; ignored.\n",
      "    (?=...)  Matches if ... matches next, but doesn't consume the string.\n",
      "    (?!...)  Matches if ... doesn't match next.\n",
      "    (?<=...) Matches if preceded by ... (must be fixed length).\n",
      "    (?<!...) Matches if not preceded by ... (must be fixed length).\n",
      "    (?(id/name)yes|no) Matches yes pattern if the group with id/name matched,\n",
      "                       the (optional) no pattern otherwise.\n",
      "\n",
      "The special sequences consist of \"\\\\\" and a character from the list\n",
      "below.  If the ordinary character is not on the list, then the\n",
      "resulting RE will match the second character.\n",
      "    \\number  Matches the contents of the group of the same number.\n",
      "    \\A       Matches only at the start of the string.\n",
      "    \\Z       Matches only at the end of the string.\n",
      "    \\b       Matches the empty string, but only at the start or end of a word.\n",
      "    \\B       Matches the empty string, but not at the start or end of a word.\n",
      "    \\d       Matches any decimal digit; equivalent to the set [0-9] in\n",
      "             bytes patterns or string patterns with the ASCII flag.\n",
      "             In string patterns without the ASCII flag, it will match the whole\n",
      "             range of Unicode digits.\n",
      "    \\D       Matches any non-digit character; equivalent to [^\\d].\n",
      "    \\s       Matches any whitespace character; equivalent to [ \\t\\n\\r\\f\\v] in\n",
      "             bytes patterns or string patterns with the ASCII flag.\n",
      "             In string patterns without the ASCII flag, it will match the whole\n",
      "             range of Unicode whitespace characters.\n",
      "    \\S       Matches any non-whitespace character; equivalent to [^\\s].\n",
      "    \\w       Matches any alphanumeric character; equivalent to [a-zA-Z0-9_]\n",
      "             in bytes patterns or string patterns with the ASCII flag.\n",
      "             In string patterns without the ASCII flag, it will match the\n",
      "             range of Unicode alphanumeric characters (letters plus digits\n",
      "             plus underscore).\n",
      "             With LOCALE, it will match the set [0-9_] plus characters defined\n",
      "             as letters for the current locale.\n",
      "    \\W       Matches the complement of \\w.\n",
      "    \\\\       Matches a literal backslash.\n",
      "\n",
      "This module exports the following functions:\n",
      "    match     Match a regular expression pattern to the beginning of a string.\n",
      "    fullmatch Match a regular expression pattern to all of a string.\n",
      "    search    Search a string for the presence of a pattern.\n",
      "    sub       Substitute occurrences of a pattern found in a string.\n",
      "    subn      Same as sub, but also return the number of substitutions made.\n",
      "    split     Split a string by the occurrences of a pattern.\n",
      "    findall   Find all occurrences of a pattern in a string.\n",
      "    finditer  Return an iterator yielding a Match object for each match.\n",
      "    compile   Compile a pattern into a Pattern object.\n",
      "    purge     Clear the regular expression cache.\n",
      "    escape    Backslash all non-alphanumerics in a string.\n",
      "\n",
      "Each function other than purge and escape can take an optional 'flags' argument\n",
      "consisting of one or more of the following module constants, joined by \"|\".\n",
      "A, L, and U are mutually exclusive.\n",
      "    A  ASCII       For string patterns, make \\w, \\W, \\b, \\B, \\d, \\D\n",
      "                   match the corresponding ASCII character categories\n",
      "                   (rather than the whole Unicode categories, which is the\n",
      "                   default).\n",
      "                   For bytes patterns, this flag is the only available\n",
      "                   behaviour and needn't be specified.\n",
      "    I  IGNORECASE  Perform case-insensitive matching.\n",
      "    L  LOCALE      Make \\w, \\W, \\b, \\B, dependent on the current locale.\n",
      "    M  MULTILINE   \"^\" matches the beginning of lines (after a newline)\n",
      "                   as well as the string.\n",
      "                   \"$\" matches the end of lines (before a newline) as well\n",
      "                   as the end of the string.\n",
      "    S  DOTALL      \".\" matches any character at all, including the newline.\n",
      "    X  VERBOSE     Ignore whitespace and comments for nicer looking RE's.\n",
      "    U  UNICODE     For compatibility only. Ignored for string patterns (it\n",
      "                   is the default), and forbidden for bytes patterns.\n",
      "\n",
      "This module also defines an exception 'error'.\n",
      "\n",
      "\n"
     ]
    }
   ],
   "source": [
    "print(re.__doc__)"
   ]
  },
  {
   "cell_type": "code",
   "execution_count": 368,
   "id": "aad07432-c72c-4049-a3ec-09c2e083fb42",
   "metadata": {},
   "outputs": [
    {
     "data": {
      "text/plain": [
       "'http:'"
      ]
     },
     "execution_count": 368,
     "metadata": {},
     "output_type": "execute_result"
    }
   ],
   "source": [
    "p=re.compile(\".+:\")\n",
    "m=p.search(\"http://google.com\")\n",
    "m.group()"
   ]
  },
  {
   "cell_type": "code",
   "execution_count": 369,
   "id": "cd6cca1b-7849-4b5d-90ed-66e291f5fd64",
   "metadata": {},
   "outputs": [
    {
     "data": {
      "text/plain": [
       "'http:'"
      ]
     },
     "execution_count": 369,
     "metadata": {},
     "output_type": "execute_result"
    }
   ],
   "source": [
    "m.group()"
   ]
  },
  {
   "cell_type": "code",
   "execution_count": 372,
   "id": "eb5e5d81-3b0d-4816-8b33-2424e4d4e315",
   "metadata": {},
   "outputs": [
    {
     "data": {
      "text/plain": [
       "'http'"
      ]
     },
     "execution_count": 372,
     "metadata": {},
     "output_type": "execute_result"
    }
   ],
   "source": [
    "#긍정형 전방탐색\n",
    "p=re.compile(\".+(?=:)\")\n",
    "m=p.search(\"http://google.com\")\n",
    "m.group()"
   ]
  },
  {
   "cell_type": "code",
   "execution_count": 378,
   "id": "6d1d1918-fa69-478c-8b6a-b20db19129e4",
   "metadata": {},
   "outputs": [
    {
     "data": {
      "text/plain": [
       "'aaa.exe,bbb.pdf,ccc.hwp'"
      ]
     },
     "execution_count": 378,
     "metadata": {},
     "output_type": "execute_result"
    }
   ],
   "source": [
    "#부정형 전방탐색\n",
    "sentence=\"aaa.exe,bbb.pdf,ccc.hwp\"\n",
    "p = re.compile(\".*[.](?!bat$).*$\")\n",
    "p.search(sentence).group()"
   ]
  },
  {
   "cell_type": "code",
   "execution_count": 380,
   "id": "345e6ff8-42d3-4cd0-a4e7-28fcd9467576",
   "metadata": {
    "collapsed": true,
    "jupyter": {
     "outputs_hidden": true
    },
    "tags": []
   },
   "outputs": [
    {
     "name": "stdout",
     "output_type": "stream",
     "text": [
      "Support for regular expressions (RE).\n",
      "\n",
      "This module provides regular expression matching operations similar to\n",
      "those found in Perl.  It supports both 8-bit and Unicode strings; both\n",
      "the pattern and the strings being processed can contain null bytes and\n",
      "characters outside the US ASCII range.\n",
      "\n",
      "Regular expressions can contain both special and ordinary characters.\n",
      "Most ordinary characters, like \"A\", \"a\", or \"0\", are the simplest\n",
      "regular expressions; they simply match themselves.  You can\n",
      "concatenate ordinary characters, so last matches the string 'last'.\n",
      "\n",
      "The special characters are:\n",
      "    \".\"      Matches any character except a newline.\n",
      "    \"^\"      Matches the start of the string.\n",
      "    \"$\"      Matches the end of the string or just before the newline at\n",
      "             the end of the string.\n",
      "    \"*\"      Matches 0 or more (greedy) repetitions of the preceding RE.\n",
      "             Greedy means that it will match as many repetitions as possible.\n",
      "    \"+\"      Matches 1 or more (greedy) repetitions of the preceding RE.\n",
      "    \"?\"      Matches 0 or 1 (greedy) of the preceding RE.\n",
      "    *?,+?,?? Non-greedy versions of the previous three special characters.\n",
      "    {m,n}    Matches from m to n repetitions of the preceding RE.\n",
      "    {m,n}?   Non-greedy version of the above.\n",
      "    \"\\\\\"     Either escapes special characters or signals a special sequence.\n",
      "    []       Indicates a set of characters.\n",
      "             A \"^\" as the first character indicates a complementing set.\n",
      "    \"|\"      A|B, creates an RE that will match either A or B.\n",
      "    (...)    Matches the RE inside the parentheses.\n",
      "             The contents can be retrieved or matched later in the string.\n",
      "    (?aiLmsux) The letters set the corresponding flags defined below.\n",
      "    (?:...)  Non-grouping version of regular parentheses.\n",
      "    (?P<name>...) The substring matched by the group is accessible by name.\n",
      "    (?P=name)     Matches the text matched earlier by the group named name.\n",
      "    (?#...)  A comment; ignored.\n",
      "    (?=...)  Matches if ... matches next, but doesn't consume the string.\n",
      "    (?!...)  Matches if ... doesn't match next.\n",
      "    (?<=...) Matches if preceded by ... (must be fixed length).\n",
      "    (?<!...) Matches if not preceded by ... (must be fixed length).\n",
      "    (?(id/name)yes|no) Matches yes pattern if the group with id/name matched,\n",
      "                       the (optional) no pattern otherwise.\n",
      "\n",
      "The special sequences consist of \"\\\\\" and a character from the list\n",
      "below.  If the ordinary character is not on the list, then the\n",
      "resulting RE will match the second character.\n",
      "    \\number  Matches the contents of the group of the same number.\n",
      "    \\A       Matches only at the start of the string.\n",
      "    \\Z       Matches only at the end of the string.\n",
      "    \\b       Matches the empty string, but only at the start or end of a word.\n",
      "    \\B       Matches the empty string, but not at the start or end of a word.\n",
      "    \\d       Matches any decimal digit; equivalent to the set [0-9] in\n",
      "             bytes patterns or string patterns with the ASCII flag.\n",
      "             In string patterns without the ASCII flag, it will match the whole\n",
      "             range of Unicode digits.\n",
      "    \\D       Matches any non-digit character; equivalent to [^\\d].\n",
      "    \\s       Matches any whitespace character; equivalent to [ \\t\\n\\r\\f\\v] in\n",
      "             bytes patterns or string patterns with the ASCII flag.\n",
      "             In string patterns without the ASCII flag, it will match the whole\n",
      "             range of Unicode whitespace characters.\n",
      "    \\S       Matches any non-whitespace character; equivalent to [^\\s].\n",
      "    \\w       Matches any alphanumeric character; equivalent to [a-zA-Z0-9_]\n",
      "             in bytes patterns or string patterns with the ASCII flag.\n",
      "             In string patterns without the ASCII flag, it will match the\n",
      "             range of Unicode alphanumeric characters (letters plus digits\n",
      "             plus underscore).\n",
      "             With LOCALE, it will match the set [0-9_] plus characters defined\n",
      "             as letters for the current locale.\n",
      "    \\W       Matches the complement of \\w.\n",
      "    \\\\       Matches a literal backslash.\n",
      "\n",
      "This module exports the following functions:\n",
      "    match     Match a regular expression pattern to the beginning of a string.\n",
      "    fullmatch Match a regular expression pattern to all of a string.\n",
      "    search    Search a string for the presence of a pattern.\n",
      "    sub       Substitute occurrences of a pattern found in a string.\n",
      "    subn      Same as sub, but also return the number of substitutions made.\n",
      "    split     Split a string by the occurrences of a pattern.\n",
      "    findall   Find all occurrences of a pattern in a string.\n",
      "    finditer  Return an iterator yielding a Match object for each match.\n",
      "    compile   Compile a pattern into a Pattern object.\n",
      "    purge     Clear the regular expression cache.\n",
      "    escape    Backslash all non-alphanumerics in a string.\n",
      "\n",
      "Each function other than purge and escape can take an optional 'flags' argument\n",
      "consisting of one or more of the following module constants, joined by \"|\".\n",
      "A, L, and U are mutually exclusive.\n",
      "    A  ASCII       For string patterns, make \\w, \\W, \\b, \\B, \\d, \\D\n",
      "                   match the corresponding ASCII character categories\n",
      "                   (rather than the whole Unicode categories, which is the\n",
      "                   default).\n",
      "                   For bytes patterns, this flag is the only available\n",
      "                   behaviour and needn't be specified.\n",
      "    I  IGNORECASE  Perform case-insensitive matching.\n",
      "    L  LOCALE      Make \\w, \\W, \\b, \\B, dependent on the current locale.\n",
      "    M  MULTILINE   \"^\" matches the beginning of lines (after a newline)\n",
      "                   as well as the string.\n",
      "                   \"$\" matches the end of lines (before a newline) as well\n",
      "                   as the end of the string.\n",
      "    S  DOTALL      \".\" matches any character at all, including the newline.\n",
      "    X  VERBOSE     Ignore whitespace and comments for nicer looking RE's.\n",
      "    U  UNICODE     For compatibility only. Ignored for string patterns (it\n",
      "                   is the default), and forbidden for bytes patterns.\n",
      "\n",
      "This module also defines an exception 'error'.\n",
      "\n",
      "\n"
     ]
    }
   ],
   "source": [
    "print(re.__doc__)"
   ]
  },
  {
   "cell_type": "code",
   "execution_count": 387,
   "id": "8d2e75a0-d175-41ed-bcdc-7658303c74f9",
   "metadata": {
    "tags": []
   },
   "outputs": [
    {
     "data": {
      "text/plain": [
       "'//google.com'"
      ]
     },
     "execution_count": 387,
     "metadata": {},
     "output_type": "execute_result"
    }
   ],
   "source": [
    "#후방탐색\n",
    "p=re.compile(\"(?<=:).+\")\n",
    "m=p.search(\"http://google.com\")\n",
    "m.group()"
   ]
  },
  {
   "cell_type": "code",
   "execution_count": 386,
   "id": "84c5fe38-b351-453f-b5a0-478e271ce9f2",
   "metadata": {},
   "outputs": [
    {
     "data": {
      "text/plain": [
       "'://google.com'"
      ]
     },
     "execution_count": 386,
     "metadata": {},
     "output_type": "execute_result"
    }
   ],
   "source": [
    "#후방탐색\n",
    "p=re.compile(\"(?=:).+\")\n",
    "m=p.search(\"http://google.com\")\n",
    "m.group()"
   ]
  },
  {
   "cell_type": "code",
   "execution_count": 391,
   "id": "343dd4a0-7e59-42b3-b58f-2226d881f435",
   "metadata": {},
   "outputs": [
    {
     "data": {
      "text/plain": [
       "'o2022'"
      ]
     },
     "execution_count": 391,
     "metadata": {},
     "output_type": "execute_result"
    }
   ],
   "source": [
    "#hello의 ll을 포함 해서 나오냐 아니냐(후방)\n",
    "p=re.compile(\"(?<=ll).+\")\n",
    "m=p.search(\"hello2022\")\n",
    "m.group()"
   ]
  },
  {
   "cell_type": "code",
   "execution_count": 392,
   "id": "01456805-27a4-4c3d-a7b8-68a4b30eaadd",
   "metadata": {},
   "outputs": [
    {
     "data": {
      "text/plain": [
       "'llo2022'"
      ]
     },
     "execution_count": 392,
     "metadata": {},
     "output_type": "execute_result"
    }
   ],
   "source": [
    "\n",
    "p=re.compile(\"(?=ll).+\")\n",
    "m=p.search(\"hello2022\")\n",
    "m.group()"
   ]
  },
  {
   "cell_type": "code",
   "execution_count": 394,
   "id": "a56ed0ab-5ccb-47d7-a6e2-bd00844c5599",
   "metadata": {},
   "outputs": [
    {
     "data": {
      "text/plain": [
       "'he'"
      ]
     },
     "execution_count": 394,
     "metadata": {},
     "output_type": "execute_result"
    }
   ],
   "source": [
    "#전방으로 갈때 ll이 안나옴\n",
    "p=re.compile(\".+(?=ll)\")\n",
    "m=p.search(\"hello2022\")\n",
    "m.group()"
   ]
  },
  {
   "cell_type": "code",
   "execution_count": 405,
   "id": "c9824165-3456-425a-b648-6a9c4ba5a3e4",
   "metadata": {},
   "outputs": [
    {
     "name": "stdout",
     "output_type": "stream",
     "text": [
      "010-1234-1234park\n"
     ]
    }
   ],
   "source": [
    "p=re.compile(r\"(?P<name>\\w+)\\s+(?P<phone>(\\d+)[-]\\d+[-]\\d+)\")\n",
    "print(p.sub(\"\\g<2>\\g<1>\",\"park 010-1234-1234\"))"
   ]
  },
  {
   "cell_type": "code",
   "execution_count": 414,
   "id": "bbe6c51c-0d9e-4826-8960-09fe06bcaa97",
   "metadata": {},
   "outputs": [],
   "source": [
    "data='''\n",
    "http://www.forta.com    a\n",
    "https://mail.forta.com  b \n",
    "\n",
    "'''"
   ]
  },
  {
   "cell_type": "code",
   "execution_count": 435,
   "id": "4fc822da-8a6f-494c-94e8-0b721f6b95e3",
   "metadata": {},
   "outputs": [],
   "source": [
    "#['forta.com','forta.com','ftp.for'] #f로 시작하는 문장 찾기"
   ]
  },
  {
   "cell_type": "code",
   "execution_count": 416,
   "id": "4966ebd2-3267-45d9-a96a-7598781c94cd",
   "metadata": {},
   "outputs": [
    {
     "data": {
      "text/plain": [
       "['forta.com', 'forta.com']"
      ]
     },
     "execution_count": 416,
     "metadata": {},
     "output_type": "execute_result"
    }
   ],
   "source": [
    "p = re.compile(r\"f\\w+[.]\\w{3}\")\n",
    "p.findall(data)"
   ]
  },
  {
   "cell_type": "code",
   "execution_count": 417,
   "id": "98602e97-ea41-486e-91ac-4c38f4029cdc",
   "metadata": {},
   "outputs": [
    {
     "data": {
      "text/plain": [
       "['http://www.', 'https://mail.']"
      ]
     },
     "execution_count": 417,
     "metadata": {},
     "output_type": "execute_result"
    }
   ],
   "source": [
    "p = re.compile(r\".+(?=f)\")\n",
    "p.findall(data)"
   ]
  },
  {
   "cell_type": "code",
   "execution_count": 420,
   "id": "7d79d6d8-ebb2-4ab8-b238-63782ac594d2",
   "metadata": {},
   "outputs": [
    {
     "data": {
      "text/plain": [
       "['http://www.f', 'https://mail.f']"
      ]
     },
     "execution_count": 420,
     "metadata": {},
     "output_type": "execute_result"
    }
   ],
   "source": [
    "p = re.compile(r\".+f\")  #f앞에 글자가 몇개든지 좋아\n",
    "p.findall(data)"
   ]
  },
  {
   "cell_type": "code",
   "execution_count": 422,
   "id": "dfbc3e12-9193-47a2-a905-a09ccdfa90e2",
   "metadata": {},
   "outputs": [
    {
     "data": {
      "text/plain": [
       "['http://www.', 'https://mail.']"
      ]
     },
     "execution_count": 422,
     "metadata": {},
     "output_type": "execute_result"
    }
   ],
   "source": [
    "p = re.compile(r\".+(?=f)\")  \n",
    "p.findall(data)"
   ]
  },
  {
   "cell_type": "code",
   "execution_count": 426,
   "id": "fac862a4-e852-4f49-a203-126343662cf6",
   "metadata": {},
   "outputs": [
    {
     "data": {
      "text/plain": [
       "['forta.com    a', 'forta.com  b ']"
      ]
     },
     "execution_count": 426,
     "metadata": {},
     "output_type": "execute_result"
    }
   ],
   "source": [
    "p = re.compile(r\"(?=f).+\")  #f뒤에 모든지 나와도 좋아\n",
    "p.findall(data) "
   ]
  },
  {
   "cell_type": "code",
   "execution_count": 428,
   "id": "dd456d71-c861-49b7-bd1f-ed45757e95c3",
   "metadata": {},
   "outputs": [
    {
     "data": {
      "text/plain": [
       "['orta.com    a', 'orta.com  b ']"
      ]
     },
     "execution_count": 428,
     "metadata": {},
     "output_type": "execute_result"
    }
   ],
   "source": [
    "p = re.compile(r\"(?<=f).+\")  #f뒤에 모든지 나와도 좋아 <를 넣으면 f를 빼고\n",
    "p.findall(data) "
   ]
  },
  {
   "cell_type": "code",
   "execution_count": 430,
   "id": "98b58bf4-1aaa-42ae-829a-e0866d060ad1",
   "metadata": {},
   "outputs": [
    {
     "name": "stdout",
     "output_type": "stream",
     "text": [
      "None\n",
      "<re.Match object; span=(0, 6), match='sososo'>\n",
      "<re.Match object; span=(0, 8), match='sosososo'>\n",
      "<re.Match object; span=(0, 10), match='sososososo'>\n"
     ]
    }
   ],
   "source": [
    "data = [\"soso\", \"sososo\", \"sosososo\", \"sososososo\"] \n",
    "p = re.compile(r'(so){3,5}')   #so가 3-5번 나와야 좋음\n",
    "for i in data:\n",
    "    print(p.search(i))"
   ]
  },
  {
   "cell_type": "code",
   "execution_count": 434,
   "id": "e44f56cb-0dae-473a-bec5-71a7b4a6f33a",
   "metadata": {},
   "outputs": [
    {
     "name": "stdout",
     "output_type": "stream",
     "text": [
      "<re.Match object; span=(0, 10), match='sososososo'>\n"
     ]
    }
   ],
   "source": [
    "data = \"sososososo\"\n",
    "p = re.compile(r'(so){3,5}')   #so가 3-5번 나와야 좋음\n",
    "print(p.search(data))"
   ]
  },
  {
   "cell_type": "code",
   "execution_count": 432,
   "id": "52bed543-3f51-4f33-8ad2-90d5bd78773c",
   "metadata": {},
   "outputs": [
    {
     "name": "stdout",
     "output_type": "stream",
     "text": [
      "None\n",
      "<re.Match object; span=(0, 6), match='sososo'>\n",
      "<re.Match object; span=(0, 6), match='sososo'>\n",
      "<re.Match object; span=(0, 6), match='sososo'>\n"
     ]
    }
   ],
   "source": [
    "data = [\"soso\", \"sososo\", \"sosososo\", \"sososososo\"] \n",
    "p = re.compile(r'(so){3,5}?')   #? 를 써서 작게 나오게 함\n",
    "for i in data:\n",
    "    print(p.search(i))"
   ]
  },
  {
   "cell_type": "code",
   "execution_count": null,
   "id": "5bcb5d24-1db1-4db9-b28c-02706e54adb8",
   "metadata": {},
   "outputs": [],
   "source": []
  }
 ],
 "metadata": {
  "kernelspec": {
   "display_name": "Python 3 (ipykernel)",
   "language": "python",
   "name": "python3"
  },
  "language_info": {
   "codemirror_mode": {
    "name": "ipython",
    "version": 3
   },
   "file_extension": ".py",
   "mimetype": "text/x-python",
   "name": "python",
   "nbconvert_exporter": "python",
   "pygments_lexer": "ipython3",
   "version": "3.9.12"
  }
 },
 "nbformat": 4,
 "nbformat_minor": 5
}
