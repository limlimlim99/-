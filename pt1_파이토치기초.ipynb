{
  "nbformat": 4,
  "nbformat_minor": 0,
  "metadata": {
    "colab": {
      "provenance": [],
      "mount_file_id": "12RRyS2mfVjt3dvjt2UD2nu6ns8YTwfih",
      "authorship_tag": "ABX9TyNsV8Y3GVdXdcX8QApVtGVg",
      "include_colab_link": true
    },
    "kernelspec": {
      "name": "python3",
      "display_name": "Python 3"
    },
    "language_info": {
      "name": "python"
    },
    "gpuClass": "standard",
    "accelerator": "GPU"
  },
  "cells": [
    {
      "cell_type": "markdown",
      "metadata": {
        "id": "view-in-github",
        "colab_type": "text"
      },
      "source": [
        "<a href=\"https://colab.research.google.com/github/limlimlim99/limjihyeonjjang/blob/main/pt1_%ED%8C%8C%EC%9D%B4%ED%86%A0%EC%B9%98%EA%B8%B0%EC%B4%88.ipynb\" target=\"_parent\"><img src=\"https://colab.research.google.com/assets/colab-badge.svg\" alt=\"Open In Colab\"/></a>"
      ]
    },
    {
      "cell_type": "markdown",
      "source": [
        "# 파이토치(PyTorch)\n",
        "\n",
        "* 페이스북이 초기 루아(Lua) 언어로 개발된 토치(Torch)를 파이썬 버전으로 개발하여 2017년도에 공개\n",
        "* 초기에 토치(Torch)는 넘파이(NumPy) 라이브러리처럼 과학 연산을 위한 라이브러리로 공개\n",
        "* 이후 GPU를 이용한 텐서 조작 및 동적 신경망 구축이 가능하도록 딥러닝 프레임워크로 발전시킴\n",
        "* 파이썬답게 만들어졌고, 유연하면서도 가속화된 계산 속도를 제공\n"
      ],
      "metadata": {
        "id": "9rMcn-ZrV2J1"
      }
    },
    {
      "cell_type": "markdown",
      "source": [
        "## 파이토치의 구성요소\n",
        "\n",
        "- `torch`: 메인 네임스페이스, 텐서 등의 다양한 수학 함수가 포함\n",
        "- `torch.autograd`: 자동 미분 기능을 제공하는 라이브러리\n",
        "- `torch.nn`: 신경망 구축을 위한 데이터 구조나 레이어 등의 라이브러리\n",
        "- `torch.multiprocessing`: 병럴처리 기능을 제공하는 라이브러리\n",
        "- `torch.optim`: SGD(Stochastic Gradient Descent)를 중심으로 한 파라미터 최적화 알고리즘 제공\n",
        "- `torch.utils`: 데이터 조작 등 유틸리티 기능 제공\n",
        "- `torch.onnx`: ONNX(Open Neural Network Exchange), 서로 다른 프레임워크 간의 모델을 공유할 때 사용\n"
      ],
      "metadata": {
        "id": "4abOEiCnV4qE"
      }
    },
    {
      "cell_type": "markdown",
      "source": [
        "## 텐서(Tensors)\n",
        "\n",
        "* 데이터 표현을 위한 기본 구조로 텐서(tensor)를 사용\n",
        "* 텐서는 데이터를 담기위한 컨테이너(container)로서 일반적으로 수치형 데이터를 저장\n",
        "* 넘파이(NumPy)의 ndarray와 유사\n",
        "* GPU를 사용한 연산 가속 가능\n"
      ],
      "metadata": {
        "id": "V5T-U8MBV8f1"
      }
    },
    {
      "cell_type": "code",
      "source": [
        "import torch\n",
        "torch.__version__"
      ],
      "metadata": {
        "colab": {
          "base_uri": "https://localhost:8080/",
          "height": 35
        },
        "id": "8P_03sg4V86H",
        "outputId": "77c10773-ba6d-4415-c77a-2ece17d78b33"
      },
      "execution_count": null,
      "outputs": [
        {
          "output_type": "execute_result",
          "data": {
            "text/plain": [
              "'1.13.0+cu116'"
            ],
            "application/vnd.google.colaboratory.intrinsic+json": {
              "type": "string"
            }
          },
          "metadata": {},
          "execution_count": 2
        }
      ]
    },
    {
      "cell_type": "markdown",
      "source": [
        "# 텐서 초기화 데이터 타입"
      ],
      "metadata": {
        "id": "BT7SjmO3bc7M"
      }
    },
    {
      "cell_type": "markdown",
      "source": [
        "초기화되지 않은 텐서"
      ],
      "metadata": {
        "id": "HpWCX0zGbinU"
      }
    },
    {
      "cell_type": "code",
      "source": [
        "x = torch.empty(4,2)\n",
        "print(x)"
      ],
      "metadata": {
        "colab": {
          "base_uri": "https://localhost:8080/"
        },
        "id": "Cdg2iEXcbOHH",
        "outputId": "2e02b2d5-b230-4f08-8ef6-e5921060ee21"
      },
      "execution_count": null,
      "outputs": [
        {
          "output_type": "stream",
          "name": "stdout",
          "text": [
            "tensor([[2.1774e-36, 0.0000e+00],\n",
            "        [0.0000e+00, 0.0000e+00],\n",
            "        [0.0000e+00, 0.0000e+00],\n",
            "        [0.0000e+00, 0.0000e+00]])\n"
          ]
        }
      ]
    },
    {
      "cell_type": "code",
      "source": [
        "import numpy as np\n",
        "x = np.empty([4,2])\n",
        "print(x)"
      ],
      "metadata": {
        "colab": {
          "base_uri": "https://localhost:8080/"
        },
        "id": "5YYIXkadbSAL",
        "outputId": "d4300740-f0f1-4a16-ac19-f6e563b9bd6e"
      },
      "execution_count": null,
      "outputs": [
        {
          "output_type": "stream",
          "name": "stdout",
          "text": [
            "[[6.75465998e-316 6.79038653e-313]\n",
            " [2.37663529e-312 2.14321575e-312]\n",
            " [2.37663529e-312 2.56761491e-312]\n",
            " [3.90842270e+160 3.43135775e-315]]\n"
          ]
        }
      ]
    },
    {
      "cell_type": "markdown",
      "source": [
        "무작위로 초기화된 텐서"
      ],
      "metadata": {
        "id": "F6mdo9R6bmGs"
      }
    },
    {
      "cell_type": "code",
      "source": [
        "x = torch.rand(4,2)\n",
        "print(x)\n",
        "\n",
        "# 0~1사이의 숫자를 균등하게 생성(랜덤)"
      ],
      "metadata": {
        "colab": {
          "base_uri": "https://localhost:8080/"
        },
        "id": "qpK_04KKbm8E",
        "outputId": "25f2b7fe-ca96-440a-fa3b-21324bb6a566"
      },
      "execution_count": null,
      "outputs": [
        {
          "output_type": "stream",
          "name": "stdout",
          "text": [
            "tensor([[0.5656, 0.8075],\n",
            "        [0.9670, 0.0205],\n",
            "        [0.8085, 0.2939],\n",
            "        [0.1716, 0.3426]])\n"
          ]
        }
      ]
    },
    {
      "cell_type": "markdown",
      "source": [
        "데이터 타입(dtype)이 long이고, 0으로 채워진 텐서"
      ],
      "metadata": {
        "id": "x6QQVtydbn7L"
      }
    },
    {
      "cell_type": "code",
      "source": [
        "x = torch.zeros(4,2,dtype=torch.long)\n",
        "print(x)"
      ],
      "metadata": {
        "colab": {
          "base_uri": "https://localhost:8080/"
        },
        "id": "v3WgNxpJbwu2",
        "outputId": "a8bccf21-7df1-41f2-d7f5-f95e6bc668a6"
      },
      "execution_count": null,
      "outputs": [
        {
          "output_type": "stream",
          "name": "stdout",
          "text": [
            "tensor([[0, 0],\n",
            "        [0, 0],\n",
            "        [0, 0],\n",
            "        [0, 0]])\n"
          ]
        }
      ]
    },
    {
      "cell_type": "markdown",
      "source": [
        "사용자가 입력한 값으로 텐서 초기화"
      ],
      "metadata": {
        "id": "wVJMN3SUc6YM"
      }
    },
    {
      "cell_type": "code",
      "source": [
        "x = torch.tensor([3,2.3])\n",
        "print(x)"
      ],
      "metadata": {
        "colab": {
          "base_uri": "https://localhost:8080/"
        },
        "id": "RgP1el1Pc9qT",
        "outputId": "9566f408-c062-49cd-e62f-0ef27b52c91b"
      },
      "execution_count": null,
      "outputs": [
        {
          "output_type": "stream",
          "name": "stdout",
          "text": [
            "tensor([3.0000, 2.3000])\n"
          ]
        }
      ]
    },
    {
      "cell_type": "markdown",
      "source": [
        "2 X 4 크기, double 타입, 1로 채워진 텐서"
      ],
      "metadata": {
        "id": "6sWdMCTrdbMm"
      }
    },
    {
      "cell_type": "code",
      "source": [
        "x = x.new_ones(2,4,dtype=torch.double)\n",
        "print(x)"
      ],
      "metadata": {
        "colab": {
          "base_uri": "https://localhost:8080/"
        },
        "id": "i5_-NfqJdapG",
        "outputId": "4bc998ce-10fe-48cc-a175-4af97a023f22"
      },
      "execution_count": null,
      "outputs": [
        {
          "output_type": "stream",
          "name": "stdout",
          "text": [
            "tensor([[1., 1., 1., 1.],\n",
            "        [1., 1., 1., 1.]], dtype=torch.float64)\n"
          ]
        }
      ]
    },
    {
      "cell_type": "markdown",
      "source": [
        "X와 같은 크기, float 타입, 무작위로 채워진 텐서"
      ],
      "metadata": {
        "id": "suSsRvmteAbk"
      }
    },
    {
      "cell_type": "code",
      "source": [
        "x = torch.rand_like(x, dtype=torch.float)\n",
        "print(x)\n",
        "\n",
        "# 사이즈를 튜플로 입력하지 않고 기존의 텐서를 정의"
      ],
      "metadata": {
        "colab": {
          "base_uri": "https://localhost:8080/"
        },
        "id": "anv3BMoieGsr",
        "outputId": "1e1035ca-d3f4-4d96-caae-4084c9084097"
      },
      "execution_count": null,
      "outputs": [
        {
          "output_type": "stream",
          "name": "stdout",
          "text": [
            "tensor([[0.9963, 0.1807, 0.5234, 0.5713],\n",
            "        [0.4243, 0.0453, 0.1384, 0.2866]])\n"
          ]
        }
      ]
    },
    {
      "cell_type": "code",
      "source": [
        "x = torch.randn(5) \n",
        "print(x)\n",
        "\n",
        "# 평균이 0이고 표준편차가 1인 가우시안 정규분포를 이용해 생성\n",
        "# 생성한 값으로 다시 평균, 표준편차를 만들어 0과 1로 만들 수 있나? => X\n",
        "# 샘플수를 늘릴수록 모오수에 가까워짐\n",
        "# 표본을 잘 잡아야함~"
      ],
      "metadata": {
        "colab": {
          "base_uri": "https://localhost:8080/"
        },
        "id": "NABpA4CLfERN",
        "outputId": "25065ba5-a84a-4d00-e7a5-bfa0def4fcc5"
      },
      "execution_count": null,
      "outputs": [
        {
          "output_type": "stream",
          "name": "stdout",
          "text": [
            "tensor([ 0.7921, -0.3989,  1.4752, -0.0959,  0.2742])\n"
          ]
        }
      ]
    },
    {
      "cell_type": "markdown",
      "source": [
        "텐서의 크기 계산"
      ],
      "metadata": {
        "id": "mXqDwf-wcg3D"
      }
    },
    {
      "cell_type": "code",
      "source": [
        "print(x.size())"
      ],
      "metadata": {
        "colab": {
          "base_uri": "https://localhost:8080/"
        },
        "id": "XaG06JsRcafd",
        "outputId": "625d0903-762e-43f2-a803-0e3ea754167a"
      },
      "execution_count": null,
      "outputs": [
        {
          "output_type": "stream",
          "name": "stdout",
          "text": [
            "torch.Size([4, 2])\n"
          ]
        }
      ]
    },
    {
      "cell_type": "markdown",
      "source": [
        "# 데이터 타입(Data Type)"
      ],
      "metadata": {
        "id": "j9GXDVhHcoAK"
      }
    },
    {
      "cell_type": "markdown",
      "source": [
        "| Data type | dtype | CPU tensor | GPU tensor |\n",
        "| ------ | ------ | ------ | ------ |\n",
        "| 32-bit floating point | `torch.float32` or `torch.float` |`torch.FloatTensor` | `torch.cuda.FloatTensor` |\n",
        "| 64-bit floating point | `torch.float64` or `torch.double` |`torch.DoubleTensor` | `torch.cuda.DoubleTensor` |\n",
        "| 16-bit floating point | `torch.float16` or `torch.half` |`torch.HalfTensor` | `torch.cuda.HalfTensor` |\n",
        "| 8-bit integer(unsinged) | `torch.uint8` |`torch.ByteTensor` | `torch.cuda.ByteTensor` |\n",
        "| 8-bit integer(singed) | `torch.int8` |`torch.CharTensor` | `torch.cuda.CharTensor` |\n",
        "| 16-bit integer(signed) | `torch.int16` or `torch.short` |`torch.ShortTensor` | `torch.cuda.ShortTensor` |\n",
        "| 32-bit integer(signed) | `torch.int32` or `torch.int` |`torch.IntTensor` | `torch.cuda.IntTensor` |\n",
        "| 64-bit integer(signed) | `torch.int64` or `torch.long` |`torch.LongTensor` | `torch.cuda.LongTensor` |\n"
      ],
      "metadata": {
        "id": "X7To79wlc09L"
      }
    },
    {
      "cell_type": "markdown",
      "source": [
        "- 몇 비트인지 보기\n",
        "- float : 32\n",
        "- double : 64\n",
        "- half : 16"
      ],
      "metadata": {
        "id": "h70ouj0QGilY"
      }
    },
    {
      "cell_type": "code",
      "source": [
        "ft = torch.FloatTensor([1,2,3])\n",
        "print(ft)\n",
        "print(ft.dtype)"
      ],
      "metadata": {
        "colab": {
          "base_uri": "https://localhost:8080/"
        },
        "id": "pMcHsZQ-jBOT",
        "outputId": "82ecfd48-215b-422f-8d84-80bd98f66f61"
      },
      "execution_count": null,
      "outputs": [
        {
          "output_type": "stream",
          "name": "stdout",
          "text": [
            "tensor([1., 2., 3.])\n",
            "torch.float32\n"
          ]
        }
      ]
    },
    {
      "cell_type": "code",
      "source": [
        "print(ft.short())\n",
        "print(ft.int())\n",
        "print(ft.long())"
      ],
      "metadata": {
        "colab": {
          "base_uri": "https://localhost:8080/"
        },
        "id": "Qhh0RS-ujI9i",
        "outputId": "99b4ef8c-a9f9-4fd2-b019-2f19297a3dd6"
      },
      "execution_count": null,
      "outputs": [
        {
          "output_type": "stream",
          "name": "stdout",
          "text": [
            "tensor([1, 2, 3], dtype=torch.int16)\n",
            "tensor([1, 2, 3], dtype=torch.int32)\n",
            "tensor([1, 2, 3])\n"
          ]
        }
      ]
    },
    {
      "cell_type": "code",
      "source": [
        "it = torch.IntTensor([1,2,3])\n",
        "print(it)\n",
        "print(it.dtype)"
      ],
      "metadata": {
        "colab": {
          "base_uri": "https://localhost:8080/"
        },
        "id": "gpuDmWJKjPCm",
        "outputId": "4d1f08d7-1284-4aa8-f2b0-57282cd0de55"
      },
      "execution_count": null,
      "outputs": [
        {
          "output_type": "stream",
          "name": "stdout",
          "text": [
            "tensor([1, 2, 3], dtype=torch.int32)\n",
            "torch.int32\n"
          ]
        }
      ]
    },
    {
      "cell_type": "markdown",
      "source": [
        "# CUDA Tensor\n",
        "- .to 메소드를 사용하여 텐서를 어떠한 장치(cpu, gpu)로도 옮길 수 있음"
      ],
      "metadata": {
        "id": "L4LUCVHGjiu7"
      }
    },
    {
      "cell_type": "markdown",
      "source": [
        "- NVIDIA가 만든 병렬 컴퓨팅 플랫폼 및 API 모델로, 보통 '쿠다'라고 발음한다. CUDA 플랫폼은 GPU 의 가상 명령어셋을 사용할 수 있도록 만들어주는 소프트웨어 레이어이며, NVIDIA가 만든 CUDA 코어가 장착된 GPU에서 작동\n"
      ],
      "metadata": {
        "id": "D5J7hSvLjtT8"
      }
    },
    {
      "cell_type": "code",
      "source": [
        "x = torch.randn(1)\n",
        "print(x)\n",
        "print(x.item())\n",
        "print(x.dtype)"
      ],
      "metadata": {
        "colab": {
          "base_uri": "https://localhost:8080/"
        },
        "id": "gdCMEs-PjsdF",
        "outputId": "9765b1c5-b039-423d-a5f2-195d7efa65d9"
      },
      "execution_count": null,
      "outputs": [
        {
          "output_type": "stream",
          "name": "stdout",
          "text": [
            "tensor([-0.4130])\n",
            "-0.41297101974487305\n",
            "torch.float32\n"
          ]
        }
      ]
    },
    {
      "cell_type": "code",
      "source": [
        "import torch\n",
        "device = torch.device('cuda' if torch.cuda.is_available() else 'cpu')\n",
        "print(device)\n",
        "\n",
        "# cuda를 이용할 수 있으면 cuda\n",
        "# 아니면 cpu\n",
        "# 런타임 유형을 None으로 하면 cpu가 나오고\n",
        "# gpu로 설정하면 cuda가 나옴"
      ],
      "metadata": {
        "colab": {
          "base_uri": "https://localhost:8080/"
        },
        "id": "6WcjN6q7j44t",
        "outputId": "dc9f016c-52f4-4b8a-9901-33f40bade681"
      },
      "execution_count": null,
      "outputs": [
        {
          "output_type": "stream",
          "name": "stdout",
          "text": [
            "cuda\n"
          ]
        }
      ]
    },
    {
      "cell_type": "markdown",
      "source": [
        "# 다차원 텐서 표현"
      ],
      "metadata": {
        "id": "zpMGDDgqk_9L"
      }
    },
    {
      "cell_type": "markdown",
      "source": [
        "0D Tensor(Scalar)\n",
        "- 하나의 숫자를 담고 있는 텐서(tensor)\n",
        "- 축과 형상이 없음"
      ],
      "metadata": {
        "id": "3yOPDqSWlC8i"
      }
    },
    {
      "cell_type": "code",
      "source": [
        "t0 = torch.tensor(0)\n",
        "\n",
        "print(t0.ndim)\n",
        "print(t0.shape)\n",
        "print(to)"
      ],
      "metadata": {
        "colab": {
          "base_uri": "https://localhost:8080/"
        },
        "id": "ZhG3E7IrkI55",
        "outputId": "a5e2e306-16fa-44d9-c9ac-c19853418fad"
      },
      "execution_count": null,
      "outputs": [
        {
          "output_type": "stream",
          "name": "stdout",
          "text": [
            "0\n",
            "torch.Size([])\n",
            "tensor(0)\n"
          ]
        }
      ]
    },
    {
      "cell_type": "markdown",
      "source": [
        "# 1D Tensor(Vector)\n",
        "- 값들을 저장한 리스트와 유사한 텐서\n",
        "- 하나의 축이 존재"
      ],
      "metadata": {
        "id": "fNIN7b1FlZpj"
      }
    },
    {
      "cell_type": "code",
      "source": [
        "t1 = torch.tensor([1,2,3])\n",
        "\n",
        "print(t1.ndim)\n",
        "print(t1.shape)\n",
        "print(t1)"
      ],
      "metadata": {
        "colab": {
          "base_uri": "https://localhost:8080/"
        },
        "id": "bNjzs-oamAhr",
        "outputId": "89420c26-443a-4ddb-c859-b1bcf3893a91"
      },
      "execution_count": null,
      "outputs": [
        {
          "output_type": "stream",
          "name": "stdout",
          "text": [
            "1\n",
            "torch.Size([3])\n",
            "tensor([1, 2, 3])\n"
          ]
        }
      ]
    },
    {
      "cell_type": "markdown",
      "source": [
        "# 2D Tensor(Matrix)\n",
        "- 행렬과 같은 모양으로 두개의 축이 존재\n",
        "- 일반적인 수치, 통계 데이터셋이 해당\n",
        "- 주로 샘플(samples)과 특성(features)을 가진 구조로 사용"
      ],
      "metadata": {
        "id": "6CrHzejul0_q"
      }
    },
    {
      "cell_type": "code",
      "source": [
        "t2 = torch.tensor([[1,2,3],\n",
        "                   [4,5,6]])\n",
        "\n",
        "print(t2.ndim)\n",
        "print(t2.shape)\n",
        "print(t2)"
      ],
      "metadata": {
        "colab": {
          "base_uri": "https://localhost:8080/"
        },
        "id": "YgcJi8VnlaeS",
        "outputId": "3f64e385-70b8-480a-bf6d-f64eb60dd858"
      },
      "execution_count": null,
      "outputs": [
        {
          "output_type": "stream",
          "name": "stdout",
          "text": [
            "2\n",
            "torch.Size([2, 3])\n",
            "tensor([[1, 2, 3],\n",
            "        [4, 5, 6]])\n"
          ]
        }
      ]
    },
    {
      "cell_type": "markdown",
      "source": [
        "# 3D Tensor\n",
        "- 큐브(cube)와 같은 모양으로 세개의 축이 존재\n",
        "- 데이터가 연속된 시퀀스 데이터나 시간 축이 포함된 시계열 데이터에 해당\n",
        "- 주식 가격 데이터셋, 시간에 따른 질병"
      ],
      "metadata": {
        "id": "DRSciNOAm_lp"
      }
    },
    {
      "cell_type": "code",
      "source": [
        "t3 = torch.tensor([[1,2,3],\n",
        "                   [4,5,6],\n",
        "                   [7,8,9]])\n",
        "\n",
        "print(t3.ndim)\n",
        "print(t3.shape)\n",
        "print(t3)"
      ],
      "metadata": {
        "colab": {
          "base_uri": "https://localhost:8080/"
        },
        "id": "qPenIwquHwbG",
        "outputId": "16335d15-e677-47d1-9a5f-e49261a882f8"
      },
      "execution_count": null,
      "outputs": [
        {
          "output_type": "stream",
          "name": "stdout",
          "text": [
            "2\n",
            "torch.Size([3, 3])\n",
            "tensor([[1, 2, 3],\n",
            "        [4, 5, 6],\n",
            "        [7, 8, 9]])\n"
          ]
        }
      ]
    },
    {
      "cell_type": "markdown",
      "source": [
        "# 4D Tensor"
      ],
      "metadata": {
        "id": "7QZXx-CMnSeR"
      }
    },
    {
      "cell_type": "code",
      "source": [
        "t4 = torch.tensor([[1,2,3],\n",
        "                   [4,5,6],\n",
        "                   [7,8,9],\n",
        "                   [10,11,12]])\n",
        "\n",
        "print(t4.ndim)\n",
        "print(t4.shape)\n",
        "print(t4)"
      ],
      "metadata": {
        "colab": {
          "base_uri": "https://localhost:8080/"
        },
        "id": "nn97YKK-H-7K",
        "outputId": "aa6d6b05-028b-45fd-8920-5f4d6af33332"
      },
      "execution_count": null,
      "outputs": [
        {
          "output_type": "stream",
          "name": "stdout",
          "text": [
            "2\n",
            "torch.Size([4, 3])\n",
            "tensor([[ 1,  2,  3],\n",
            "        [ 4,  5,  6],\n",
            "        [ 7,  8,  9],\n",
            "        [10, 11, 12]])\n"
          ]
        }
      ]
    },
    {
      "cell_type": "markdown",
      "source": [
        "# 텐서의 연산(Operations)\n",
        "- 텐서에 대한 수학 연산, 삼각함수, 비트연산, 비교연산, 집계 등 제공"
      ],
      "metadata": {
        "id": "kOQpo589nY2y"
      }
    },
    {
      "cell_type": "code",
      "source": [
        "import math\n",
        "\n",
        "a = torch.rand(1,2) * 2 -1 #가우시안 표준정규 분포\n",
        "print(a)\n",
        "print(torch.abs(a))\n",
        "print(torch.ceil(a))\n",
        "print(torch.clamp(a, -0.5, 0.5))\n",
        "\n",
        "# 즉 입력값이 min < x(input) < max 이면 x가 그대로 나오지만\n",
        "# min보다 작으면 min값이, max보다 크면 max값이 나오는 구조입니다!"
      ],
      "metadata": {
        "colab": {
          "base_uri": "https://localhost:8080/"
        },
        "id": "2QvqobCnnRRd",
        "outputId": "638bb849-ae0b-4f95-efb0-84ec846fc493"
      },
      "execution_count": null,
      "outputs": [
        {
          "output_type": "stream",
          "name": "stdout",
          "text": [
            "tensor([[ 0.7689, -0.8430]])\n",
            "tensor([[0.7689, 0.8430]])\n",
            "tensor([[1., -0.]])\n",
            "tensor([[ 0.5000, -0.5000]])\n"
          ]
        }
      ]
    },
    {
      "cell_type": "code",
      "source": [
        "print(a)\n",
        "print(torch.min(a))\n",
        "print(torch.max(a))\n",
        "print(torch.mean(a))\n",
        "print(torch.std(a))\n",
        "print(torch.prod(a))\n",
        "print(torch.unique(torch.tensor([1,2,3,1,2,1])))  # unique: 중복된 값을 뺌"
      ],
      "metadata": {
        "colab": {
          "base_uri": "https://localhost:8080/"
        },
        "id": "h7dtTLa1n4DS",
        "outputId": "6b0eccc3-e9ae-4341-9d3a-456b41f6d6e1"
      },
      "execution_count": null,
      "outputs": [
        {
          "output_type": "stream",
          "name": "stdout",
          "text": [
            "tensor([[ 0.7689, -0.8430]])\n",
            "tensor(-0.8430)\n",
            "tensor(0.7689)\n",
            "tensor(-0.0370)\n",
            "tensor(1.1398)\n",
            "tensor(-0.6482)\n",
            "tensor([1, 2, 3])\n"
          ]
        }
      ]
    },
    {
      "cell_type": "markdown",
      "source": [
        "max와 min은 dim 인자를 줄 경우 argmax와 argmin도 함께 리턴\n",
        "- argmax : 최대 값을 가진 인덱스\n",
        "- argmin : 최소값을 가진 인덱스"
      ],
      "metadata": {
        "id": "6zRrcStUo1bK"
      }
    },
    {
      "cell_type": "code",
      "source": [
        "x = torch.rand(2,2)\n",
        "print(x, '\\n')\n",
        "print(x.max(dim=0), '\\n')   \n",
        "print(x.max(dim=1))\n",
        "\n",
        "# 행쪽으로 보는 것(dim=0) 세로로 비교해서 큰 값\n",
        "# 열쪽으로 보는 것(dim=1) 가로로 비교해서 큰 값"
      ],
      "metadata": {
        "colab": {
          "base_uri": "https://localhost:8080/"
        },
        "id": "zYTfUa5Fo0Bd",
        "outputId": "436d104f-116a-4868-ff1f-fa3128592445"
      },
      "execution_count": null,
      "outputs": [
        {
          "output_type": "stream",
          "name": "stdout",
          "text": [
            "tensor([[0.8558, 0.6451],\n",
            "        [0.8133, 0.4987]]) \n",
            "\n",
            "torch.return_types.max(\n",
            "values=tensor([0.8558, 0.6451]),\n",
            "indices=tensor([0, 0])) \n",
            "\n",
            "torch.return_types.max(\n",
            "values=tensor([0.8558, 0.8133]),\n",
            "indices=tensor([0, 0]))\n"
          ]
        }
      ]
    },
    {
      "cell_type": "code",
      "source": [
        "x = torch.rand(2,2)\n",
        "print(x, '\\n')\n",
        "print(x.min(dim=0), '\\n')\n",
        "print(x.min(dim=1))\n",
        "\n",
        "# 행쪽으로 보는 것(dim=0) 세로로 비교해서 작은 값\n",
        "# 열쪽으로 보는 것(dim=1) 가로로 비교해서 작은 값"
      ],
      "metadata": {
        "colab": {
          "base_uri": "https://localhost:8080/"
        },
        "id": "PFok3EwjpXFP",
        "outputId": "69052e6e-3445-465b-f421-e96c12ca8573"
      },
      "execution_count": null,
      "outputs": [
        {
          "output_type": "stream",
          "name": "stdout",
          "text": [
            "tensor([[0.1361, 0.9497],\n",
            "        [0.6095, 0.0596]]) \n",
            "\n",
            "torch.return_types.min(\n",
            "values=tensor([0.1361, 0.0596]),\n",
            "indices=tensor([0, 1])) \n",
            "\n",
            "torch.return_types.min(\n",
            "values=tensor([0.1361, 0.0596]),\n",
            "indices=tensor([0, 1]))\n"
          ]
        }
      ]
    },
    {
      "cell_type": "code",
      "source": [
        "x = torch.rand(2,2)\n",
        "print(x)\n",
        "y = torch.rand(2,2)\n",
        "print(y)"
      ],
      "metadata": {
        "colab": {
          "base_uri": "https://localhost:8080/"
        },
        "id": "OBRIk0k0qG06",
        "outputId": "24075d99-c198-48c8-f5e8-c6fbb875d240"
      },
      "execution_count": null,
      "outputs": [
        {
          "output_type": "stream",
          "name": "stdout",
          "text": [
            "tensor([[0.1125, 0.1906],\n",
            "        [0.1864, 0.1524]])\n",
            "tensor([[0.9827, 0.0824],\n",
            "        [0.8658, 0.2482]])\n"
          ]
        }
      ]
    },
    {
      "cell_type": "markdown",
      "source": [
        "torch.add : 덧셈"
      ],
      "metadata": {
        "id": "CaBTlnS2qXlC"
      }
    },
    {
      "cell_type": "code",
      "source": [
        "print(x+y)\n",
        "print(torch.add(x,y))"
      ],
      "metadata": {
        "colab": {
          "base_uri": "https://localhost:8080/"
        },
        "id": "wYNxbwtUqRwq",
        "outputId": "a5d6dc94-b80c-4822-c9f3-a0956a678ca8"
      },
      "execution_count": null,
      "outputs": [
        {
          "output_type": "stream",
          "name": "stdout",
          "text": [
            "tensor([[1.0952, 0.2730],\n",
            "        [1.0522, 0.4006]])\n",
            "tensor([[1.0952, 0.2730],\n",
            "        [1.0522, 0.4006]])\n"
          ]
        }
      ]
    },
    {
      "cell_type": "markdown",
      "source": [
        "결과 텐서를 인자로 제공"
      ],
      "metadata": {
        "id": "rLWfv-5EqfgC"
      }
    },
    {
      "cell_type": "code",
      "source": [
        "result = torch.empty(2,4)\n",
        "torch.add(x,y, out=result)\n",
        "print(result)"
      ],
      "metadata": {
        "colab": {
          "base_uri": "https://localhost:8080/"
        },
        "id": "BMCNO0KIqdzk",
        "outputId": "864e536f-12f2-4b29-d364-60c467869d75"
      },
      "execution_count": null,
      "outputs": [
        {
          "output_type": "stream",
          "name": "stdout",
          "text": [
            "tensor([[1.0952, 0.2730],\n",
            "        [1.0522, 0.4006]])\n"
          ]
        },
        {
          "output_type": "stream",
          "name": "stderr",
          "text": [
            "<ipython-input-22-4be145b6d329>:2: UserWarning: An output with one or more elements was resized since it had shape [2, 4], which does not match the required output shape [2, 2]. This behavior is deprecated, and in a future PyTorch release outputs will not be resized unless they have zero elements. You can explicitly reuse an out tensor t by resizing it, inplace, to zero elements with t.resize_(0). (Triggered internally at ../aten/src/ATen/native/Resize.cpp:17.)\n",
            "  torch.add(x,y, out=result)\n"
          ]
        }
      ]
    },
    {
      "cell_type": "markdown",
      "source": [
        "# in-place방식\n",
        "- in-place방식으로 텐서의 값을 변경하는 연산 뒤에는 _\"가 붙음\n",
        "- x.copy_(y), x.t_()\n",
        "- inplac = True방식과 똑같음\n",
        "- _\" 줄이 inplace=True임 => 바뀐 것으로 저장됨"
      ],
      "metadata": {
        "id": "_qVjk2Bfq4iq"
      }
    },
    {
      "cell_type": "code",
      "source": [
        "print(x)\n",
        "print(y)\n",
        "print()\n",
        "y.add_(x)\n",
        "print(y)\n",
        "\n",
        "# y에다가 x를 더한 값을 y에다가 넣는다. y에 저장(x+y=y) y값이 x가 추가된 값으로 변경됨"
      ],
      "metadata": {
        "colab": {
          "base_uri": "https://localhost:8080/"
        },
        "id": "m5shP8o4qqfq",
        "outputId": "9cab6dff-6332-4b1f-894c-2b6efab27f17"
      },
      "execution_count": null,
      "outputs": [
        {
          "output_type": "stream",
          "name": "stdout",
          "text": [
            "tensor([[0.1125, 0.1906],\n",
            "        [0.1864, 0.1524]])\n",
            "tensor([[1.2077, 0.4636],\n",
            "        [1.2386, 0.5530]])\n",
            "\n",
            "tensor([[1.3202, 0.6543],\n",
            "        [1.4251, 0.7054]])\n"
          ]
        }
      ]
    },
    {
      "cell_type": "markdown",
      "source": [
        "torch.sub: 뺄셈"
      ],
      "metadata": {
        "id": "l2x-JbbArpMJ"
      }
    },
    {
      "cell_type": "code",
      "source": [
        "print(x)\n",
        "print(y)\n",
        "print() \n",
        "print(x-y, '\\n') # 새로 x값이 됨\n",
        "x.sub_(y)  # x값이 저장됨\n",
        "print(x)\n",
        "print()\n",
        "print(torch.sub(x,y))\n",
        "print(x.sub(y))"
      ],
      "metadata": {
        "colab": {
          "base_uri": "https://localhost:8080/"
        },
        "id": "I7VnW1wtrKJQ",
        "outputId": "cfac9848-6c83-4e3e-d8e0-549a0a444557"
      },
      "execution_count": null,
      "outputs": [
        {
          "output_type": "stream",
          "name": "stdout",
          "text": [
            "tensor([[-2.5279, -1.1179],\n",
            "        [-2.6637, -1.2583]])\n",
            "tensor([[1.3202, 0.6543],\n",
            "        [1.4251, 0.7054]])\n",
            "\n",
            "tensor([[-3.8481, -1.7721],\n",
            "        [-4.0888, -1.9637]]) \n",
            "\n",
            "tensor([[-3.8481, -1.7721],\n",
            "        [-4.0888, -1.9637]])\n",
            "\n",
            "tensor([[-5.1682, -2.4264],\n",
            "        [-5.5139, -2.6690]])\n",
            "tensor([[-5.1682, -2.4264],\n",
            "        [-5.5139, -2.6690]])\n"
          ]
        }
      ]
    },
    {
      "cell_type": "markdown",
      "source": [
        "torch.mul : 곱셈"
      ],
      "metadata": {
        "id": "UPix5JbtuqTi"
      }
    },
    {
      "cell_type": "code",
      "source": [
        "print(x)\n",
        "print(y)\n",
        "print()\n",
        "print(x*y) # 새로 x값이 됨\n",
        "x.mul_(y) # x값이 저장됨\n",
        "print(x)\n",
        "print()\n",
        "print(torch.mul(x,y))\n",
        "print(x.mul(y))"
      ],
      "metadata": {
        "colab": {
          "base_uri": "https://localhost:8080/"
        },
        "id": "JZhHyusgr5PU",
        "outputId": "f5592d98-c23f-44ec-b75f-d41fc92e881c"
      },
      "execution_count": null,
      "outputs": [
        {
          "output_type": "stream",
          "name": "stdout",
          "text": [
            "tensor([[-3.8481, -1.7721],\n",
            "        [-4.0888, -1.9637]])\n",
            "tensor([[1.3202, 0.6543],\n",
            "        [1.4251, 0.7054]])\n",
            "\n",
            "tensor([[-5.0801, -1.1594],\n",
            "        [-5.8269, -1.3851]])\n",
            "tensor([[-5.0801, -1.1594],\n",
            "        [-5.8269, -1.3851]])\n",
            "\n",
            "tensor([[-6.7067, -0.7586],\n",
            "        [-8.3038, -0.9770]])\n",
            "tensor([[-6.7067, -0.7586],\n",
            "        [-8.3038, -0.9770]])\n"
          ]
        }
      ]
    },
    {
      "cell_type": "markdown",
      "source": [
        "torch.div : 나눗셈"
      ],
      "metadata": {
        "id": "pFx8upW5vKKx"
      }
    },
    {
      "cell_type": "code",
      "source": [
        "print(x)\n",
        "print(y)\n",
        "print()\n",
        "print(x/y) # 새로 x값이 됨\n",
        "x.div_(y) # x값이 저장됨\n",
        "print(x)\n",
        "print()\n",
        "print(torch.div(x,y))\n",
        "print(x.div(y))"
      ],
      "metadata": {
        "colab": {
          "base_uri": "https://localhost:8080/"
        },
        "id": "ld0lPHzsu_QF",
        "outputId": "3f480756-d96e-4cb0-9ec1-6cdba3f492bf"
      },
      "execution_count": null,
      "outputs": [
        {
          "output_type": "stream",
          "name": "stdout",
          "text": [
            "tensor([[-5.0801, -1.1594],\n",
            "        [-5.8269, -1.3851]])\n",
            "tensor([[1.3202, 0.6543],\n",
            "        [1.4251, 0.7054]])\n",
            "\n",
            "tensor([[-3.8481, -1.7721],\n",
            "        [-4.0888, -1.9637]])\n",
            "tensor([[-3.8481, -1.7721],\n",
            "        [-4.0888, -1.9637]])\n",
            "\n",
            "tensor([[-2.9148, -2.7086],\n",
            "        [-2.8692, -2.7840]])\n",
            "tensor([[-2.9148, -2.7086],\n",
            "        [-2.8692, -2.7840]])\n"
          ]
        }
      ]
    },
    {
      "cell_type": "markdown",
      "source": [
        "torch.mm : 내적(dot product)"
      ],
      "metadata": {
        "id": "G1uPto0Vvtga"
      }
    },
    {
      "cell_type": "code",
      "source": [
        "print(x)\n",
        "print(y)\n",
        "print()\n",
        "print(torch.matmul(x,y))\n",
        "z = torch.mm(x,y)\n",
        "print(z)\n",
        "print(torch.svd(z))  # singualr value decomposition A = U 시그마 VT\n",
        "# (v의 전치 행렬)  (분리)\n",
        "# 텐서별로 분리\n",
        "# 행렬 분해 = 거꾸로 하는 것이다."
      ],
      "metadata": {
        "colab": {
          "base_uri": "https://localhost:8080/"
        },
        "id": "0H0RJAEWvJXP",
        "outputId": "10e8b5e4-dd9c-4d33-c95a-27d0f2f5d4c4"
      },
      "execution_count": null,
      "outputs": [
        {
          "output_type": "stream",
          "name": "stdout",
          "text": [
            "tensor([[-3.8481, -1.7721],\n",
            "        [-4.0888, -1.9637]])\n",
            "tensor([[1.3202, 0.6543],\n",
            "        [1.4251, 0.7054]])\n",
            "\n",
            "tensor([[-7.6056, -3.7676],\n",
            "        [-8.1964, -4.0602]])\n",
            "tensor([[-7.6056, -3.7676],\n",
            "        [-8.1964, -4.0602]])\n",
            "torch.return_types.svd(\n",
            "U=tensor([[-0.6802, -0.7330],\n",
            "        [-0.7330,  0.6802]]),\n",
            "S=tensor([1.2478e+01, 2.9089e-05]),\n",
            "V=tensor([[ 0.8961, -0.4439],\n",
            "        [ 0.4439,  0.8961]]))\n"
          ]
        }
      ]
    },
    {
      "cell_type": "markdown",
      "source": [
        "# 텐서의 조작(MainPulations)"
      ],
      "metadata": {
        "id": "heYo5Bmvx_pS"
      }
    },
    {
      "cell_type": "markdown",
      "source": [
        "인덱싱(indexing): NumPy처럼 인덱싱 형태로 사용가능"
      ],
      "metadata": {
        "id": "3dz4YIyyyFPZ"
      }
    },
    {
      "cell_type": "code",
      "source": [
        "import torch\n",
        "x = torch.Tensor([[1,2], [3,4]])\n",
        "print(x)\n",
        "\n",
        "print(x[0,0])\n",
        "print(x[0,1])\n",
        "print(x[1,0])\n",
        "print(x[1,1])\n",
        "print(x[:,0])\n",
        "print(x[:,0])\n",
        "print(x[0,:])\n",
        "print(x[1,:])\n"
      ],
      "metadata": {
        "colab": {
          "base_uri": "https://localhost:8080/"
        },
        "id": "2-ewKGumv6Uv",
        "outputId": "31ec07fe-cdf8-43a5-f62e-666aecb139c9"
      },
      "execution_count": null,
      "outputs": [
        {
          "output_type": "stream",
          "name": "stdout",
          "text": [
            "tensor([[1., 2.],\n",
            "        [3., 4.]])\n",
            "tensor(1.)\n",
            "tensor(2.)\n",
            "tensor(3.)\n",
            "tensor(4.)\n",
            "tensor([1., 3.])\n",
            "tensor([1., 3.])\n",
            "tensor([1., 2.])\n",
            "tensor([3., 4.])\n"
          ]
        }
      ]
    },
    {
      "cell_type": "markdown",
      "source": [
        "https://bigdatadiary0819.tistory.com/60\n",
        "\n",
        "º 랜덤한 값을 가지는 텐서 생성\n",
        "\n",
        "1. torch.rand() : 0과 1 사이의 숫자를 균등하게 생성\n",
        "\n",
        "2. torch.rand_like() : 사이즈를 튜플로 입력하지 않고 기존의 텐서로 정의\n",
        "\n",
        "3. torch.randn() : 평균이 0이고 표준편차가 1인 가우시안 정규분포를 이용해 생성\n",
        "\n",
        "4. torch.randn_like() :  사이즈를 튜플로 입력하지 않고 기존의 텐서로 정의\n",
        "\n",
        "5. torch.randint() : 주어진 범위 내의 정수를 균등하게 생성\n",
        "\n",
        "6. torch.randint_like() : 사이즈를 튜플로 입력하지 않고 기존의 텐서로 정의\n",
        "\n",
        "7. torch.randperm() : 주어진 범위 내의 정수를 랜덤하게 생성 "
      ],
      "metadata": {
        "id": "MhZhQSMcysWB"
      }
    },
    {
      "cell_type": "markdown",
      "source": [
        "º 특정한 값을 가지는 텐서 생성\n",
        "\n",
        "1. torch.arange() : 주어진 범위 내의 정수를 순서대로 생성\n",
        "\n",
        "2. torch.ones() : 주어진 사이즈의 1로 이루어진 텐서 생성\n",
        "\n",
        "3. torch.zeros() : 주어진 사이즈의 0으로 이루어진 텐서 생성\n",
        "\n",
        "4. torch.ones_like() : 사이즈를 튜플로 입력하지 않고 기존의 텐서로 정의\n",
        "\n",
        "5. torch.zeros_like() : 사이즈를 튜플로 입력하지 않고 기존의 텐서로 정의\n",
        "\n",
        "6. torch.linspace() : 시작점과 끝점을 주어진 갯수만큼 균등하게 나눈 간격점을 행벡터로 출력(x 만들때 쓰임)\n",
        "\n",
        "7. torch.logspace() : 시작점과 끝점을 주어진 갯수만큼 로그간격으로 나눈 간격점을 행벡터로 출력\n",
        "\n",
        "(로그의 특징: 지수함수, 로그함수: 역의 관계)"
      ],
      "metadata": {
        "id": "SMfw2qU0ykFx"
      }
    },
    {
      "cell_type": "markdown",
      "source": [
        "view : 텐서의 크기(size)나 모양(shape)을 변경\n",
        "- 기본적으로 변경 전과 후의 텐서 안의 원소 개수가 유지되어야 함\n",
        "- -1로 설정되면 계산을 통해 해당 크기 값을 유추"
      ],
      "metadata": {
        "id": "PRXENknDz36y"
      }
    },
    {
      "cell_type": "code",
      "source": [
        "import torch\n",
        "x = torch.randn(4,5)  # 4행 5열\n",
        "print(x)\n",
        "print(x.shape)\n",
        "print(x.size())   #괄호를 유의해야 함 # shape랑 size는 같은 의미로 쓰인다~"
      ],
      "metadata": {
        "colab": {
          "base_uri": "https://localhost:8080/"
        },
        "id": "_5JvT0nUyole",
        "outputId": "02b4c375-45e0-499b-e3bf-088f92a875fd"
      },
      "execution_count": null,
      "outputs": [
        {
          "output_type": "stream",
          "name": "stdout",
          "text": [
            "tensor([[-1.5226, -1.8129, -0.0965,  0.1982, -1.1108],\n",
            "        [-1.7059,  1.3597, -1.0962,  1.5096,  0.3277],\n",
            "        [ 1.0674, -0.6119, -0.0835, -1.5871,  0.3989],\n",
            "        [ 0.8142, -1.7009, -0.6997, -1.0096, -0.2390]])\n",
            "torch.Size([4, 5])\n",
            "torch.Size([4, 5])\n"
          ]
        }
      ]
    },
    {
      "cell_type": "code",
      "source": [
        "x = torch.FloatTensor([\n",
        "    [1,2],\n",
        "    [3,4],\n",
        "    [5,6],\n",
        "    [7,8]\n",
        "])\n",
        "\n",
        "# size를 활용한 텐서 사이즈 보기\n",
        "print(x.size())\n",
        "# shape를 활용한 텐서 사이즈 보기\n",
        "print(x.shape)\n",
        "# dim을 활용한 텐서 사이즈 보기\n",
        "print(x.dim())\n",
        "# 1차원 사이즈 확인\n",
        "print(x.size(0))\n",
        "# 1차원 사이즈 확인\n",
        "print(x.shape[0])"
      ],
      "metadata": {
        "colab": {
          "base_uri": "https://localhost:8080/"
        },
        "id": "jSC_-hqP0Nze",
        "outputId": "4f69d468-19d5-441a-eae6-cd2cb01be165"
      },
      "execution_count": null,
      "outputs": [
        {
          "output_type": "stream",
          "name": "stdout",
          "text": [
            "torch.Size([4, 2])\n",
            "torch.Size([4, 2])\n",
            "2\n",
            "4\n",
            "4\n"
          ]
        }
      ]
    },
    {
      "cell_type": "code",
      "source": [
        "x = torch.randn(4,5)\n",
        "print(x)\n",
        "print()\n",
        "y = x.view(20)  # 20개를 써서 1차원으로 바뀜\n",
        "print(y)\n",
        "z = x.view(5,-1)\n",
        "print(z)"
      ],
      "metadata": {
        "colab": {
          "base_uri": "https://localhost:8080/"
        },
        "id": "5rcmmCEo0V9b",
        "outputId": "c534af6f-eb2f-42c4-ae82-178d549d74e6"
      },
      "execution_count": null,
      "outputs": [
        {
          "output_type": "stream",
          "name": "stdout",
          "text": [
            "tensor([[-1.5970, -1.5092,  0.3132, -0.0228,  1.1082],\n",
            "        [ 0.2944, -1.4239, -1.7582,  0.4268,  0.3644],\n",
            "        [ 0.9375, -0.4775, -1.1165,  1.2724, -0.9575],\n",
            "        [ 0.8223, -1.8512,  0.9790, -0.2007, -0.2719]])\n",
            "\n",
            "tensor([-1.5970, -1.5092,  0.3132, -0.0228,  1.1082,  0.2944, -1.4239, -1.7582,\n",
            "         0.4268,  0.3644,  0.9375, -0.4775, -1.1165,  1.2724, -0.9575,  0.8223,\n",
            "        -1.8512,  0.9790, -0.2007, -0.2719])\n",
            "tensor([[-1.5970, -1.5092,  0.3132, -0.0228],\n",
            "        [ 1.1082,  0.2944, -1.4239, -1.7582],\n",
            "        [ 0.4268,  0.3644,  0.9375, -0.4775],\n",
            "        [-1.1165,  1.2724, -0.9575,  0.8223],\n",
            "        [-1.8512,  0.9790, -0.2007, -0.2719]])\n"
          ]
        }
      ]
    },
    {
      "cell_type": "markdown",
      "source": [
        "item : 텐서에 값이 단 하나라도 존재하면 숫자값을 얻을 수 있음"
      ],
      "metadata": {
        "id": "TreLLlTj1kVY"
      }
    },
    {
      "cell_type": "code",
      "source": [
        "x = torch.randn(1)\n",
        "print(x)\n",
        "print(x.item())\n",
        "print(x.dtype)"
      ],
      "metadata": {
        "colab": {
          "base_uri": "https://localhost:8080/"
        },
        "id": "o_xlWvK71Rji",
        "outputId": "a2020ea9-67b8-4ac0-b41e-8dcb2c1c9d04"
      },
      "execution_count": null,
      "outputs": [
        {
          "output_type": "stream",
          "name": "stdout",
          "text": [
            "tensor([0.0953])\n",
            "0.09526370465755463\n",
            "torch.float32\n"
          ]
        }
      ]
    },
    {
      "cell_type": "markdown",
      "source": [
        "squeeze : 차원을 축소(제거)"
      ],
      "metadata": {
        "id": "2spXR7PS1x8h"
      }
    },
    {
      "cell_type": "code",
      "source": [
        "tensor = torch.randn(1,3,3)\n",
        "print(tensor)\n",
        "print(tensor.shape)"
      ],
      "metadata": {
        "colab": {
          "base_uri": "https://localhost:8080/"
        },
        "id": "9nEdIFuW1wUn",
        "outputId": "cde9a975-4b0f-42ff-e9bb-d774f06e5d32"
      },
      "execution_count": null,
      "outputs": [
        {
          "output_type": "stream",
          "name": "stdout",
          "text": [
            "tensor([[[ 1.9437,  1.4653, -0.7571],\n",
            "         [ 0.0426, -0.4273,  0.2342],\n",
            "         [-0.3660,  1.6981,  0.7317]]])\n",
            "torch.Size([1, 3, 3])\n"
          ]
        }
      ]
    },
    {
      "cell_type": "code",
      "source": [
        "t = tensor.squeeze()\n",
        "print(t)\n",
        "print(t.shape)"
      ],
      "metadata": {
        "colab": {
          "base_uri": "https://localhost:8080/"
        },
        "id": "DjhAx3IL2Dwi",
        "outputId": "58b42003-4873-4604-a061-a6f243fa5ec3"
      },
      "execution_count": null,
      "outputs": [
        {
          "output_type": "stream",
          "name": "stdout",
          "text": [
            "tensor([[ 1.9437,  1.4653, -0.7571],\n",
            "        [ 0.0426, -0.4273,  0.2342],\n",
            "        [-0.3660,  1.6981,  0.7317]])\n",
            "torch.Size([3, 3])\n"
          ]
        }
      ]
    },
    {
      "cell_type": "markdown",
      "source": [
        "unsqueeze : 차원을 증가(생성)"
      ],
      "metadata": {
        "id": "0YigcRaP2K4J"
      }
    },
    {
      "cell_type": "code",
      "source": [
        "t = torch.rand(3,3)\n",
        "print(t)\n",
        "print(t.shape)"
      ],
      "metadata": {
        "colab": {
          "base_uri": "https://localhost:8080/"
        },
        "id": "R6ZliZ5E2J5F",
        "outputId": "4b27b620-89c7-4b37-8f77-0a3c7c177f03"
      },
      "execution_count": null,
      "outputs": [
        {
          "output_type": "stream",
          "name": "stdout",
          "text": [
            "tensor([[0.6690, 0.5858, 0.5452],\n",
            "        [0.4863, 0.4364, 0.5493],\n",
            "        [0.2957, 0.5121, 0.2298]])\n",
            "torch.Size([3, 3])\n"
          ]
        }
      ]
    },
    {
      "cell_type": "code",
      "source": [
        "tensor = t.unsqueeze(dim = 0)\n",
        "print(tensor)\n",
        "print(tensor.shape)\n",
        "\n",
        "# dim을 주면 의도한 차원의 값이 하나 더 늘어남"
      ],
      "metadata": {
        "colab": {
          "base_uri": "https://localhost:8080/"
        },
        "id": "lWowWdEB2bG6",
        "outputId": "cad2d233-073d-4fd7-8a8c-07e975208920"
      },
      "execution_count": null,
      "outputs": [
        {
          "output_type": "stream",
          "name": "stdout",
          "text": [
            "tensor([[[0.6690, 0.5858, 0.5452],\n",
            "         [0.4863, 0.4364, 0.5493],\n",
            "         [0.2957, 0.5121, 0.2298]]])\n",
            "torch.Size([1, 3, 3])\n"
          ]
        }
      ]
    },
    {
      "cell_type": "code",
      "source": [
        "tensor = tensor.unsqueeze(dim = 2)\n",
        "print(tensor)\n",
        "print(tensor.shape)\n",
        "\n",
        "# dim을 주면 의도한 차원의 값이 하나 더 늘어남"
      ],
      "metadata": {
        "colab": {
          "base_uri": "https://localhost:8080/"
        },
        "id": "M3zOUzVX2Sp3",
        "outputId": "3dee72d5-6fb4-4639-c244-3f6abfb94c4d"
      },
      "execution_count": null,
      "outputs": [
        {
          "output_type": "stream",
          "name": "stdout",
          "text": [
            "tensor([[[[0.6690, 0.5858, 0.5452]],\n",
            "\n",
            "         [[0.4863, 0.4364, 0.5493]],\n",
            "\n",
            "         [[0.2957, 0.5121, 0.2298]]]])\n",
            "torch.Size([1, 3, 1, 3])\n"
          ]
        }
      ]
    },
    {
      "cell_type": "markdown",
      "source": [
        "stack : 텐서간 결합"
      ],
      "metadata": {
        "id": "D_52Dg2n2xp5"
      }
    },
    {
      "cell_type": "code",
      "source": [
        "x = torch.FloatTensor([1,4])\n",
        "print(x)\n",
        "y = torch.FloatTensor([2,5])\n",
        "print(y)\n",
        "z = torch.FloatTensor([3,6])\n",
        "print(z)\n",
        "print(torch.stack([x,y,z]))\n",
        "\n",
        "# stack을 써서 하나로 합쳐짐"
      ],
      "metadata": {
        "colab": {
          "base_uri": "https://localhost:8080/"
        },
        "id": "F9GPLmYB2YSm",
        "outputId": "893fd95b-3cd3-4bdd-bda0-79fda8a3c8c6"
      },
      "execution_count": null,
      "outputs": [
        {
          "output_type": "stream",
          "name": "stdout",
          "text": [
            "tensor([1., 4.])\n",
            "tensor([2., 5.])\n",
            "tensor([3., 6.])\n",
            "tensor([[1., 4.],\n",
            "        [2., 5.],\n",
            "        [3., 6.]])\n"
          ]
        }
      ]
    },
    {
      "cell_type": "markdown",
      "source": [
        "cat: 텐서를 결합하는 메소드(concatenate)\n",
        "- 넘파이의 stack 과 유사하지만 쌓을 dim이 존재함\n",
        "- 해당 차원을 늘려준 후 결합"
      ],
      "metadata": {
        "id": "1G8u-SIu3XFB"
      }
    },
    {
      "cell_type": "code",
      "source": [
        "a = torch.randn(1,3,3)\n",
        "print(a)\n",
        "b = torch.randn(1,3,3)\n",
        "print(b)\n",
        "print()\n",
        "\n",
        "c = torch.cat((a,b), dim=0)\n",
        "print(c)\n",
        "print(c.size())\n",
        "\n",
        "\n",
        "\n",
        "# 1,3,3\n",
        "# 1,3,3\n",
        "# dim=0을 줘서 1,1 0번째를 기준으로"
      ],
      "metadata": {
        "colab": {
          "base_uri": "https://localhost:8080/"
        },
        "id": "-X9BKGgV3Hda",
        "outputId": "87b127f4-a2d6-46b6-fe72-be2267ee74df"
      },
      "execution_count": null,
      "outputs": [
        {
          "output_type": "stream",
          "name": "stdout",
          "text": [
            "tensor([[[ 0.1210,  0.2061, -0.8469],\n",
            "         [-1.0533, -0.4217, -0.2451],\n",
            "         [ 1.7318,  0.5116,  0.4228]]])\n",
            "tensor([[[-0.0660,  0.2400,  0.4553],\n",
            "         [-1.8291,  0.8854, -0.1782],\n",
            "         [-0.5071,  0.0571, -0.9901]]])\n",
            "\n",
            "tensor([[[ 0.1210,  0.2061, -0.8469],\n",
            "         [-1.0533, -0.4217, -0.2451],\n",
            "         [ 1.7318,  0.5116,  0.4228]],\n",
            "\n",
            "        [[-0.0660,  0.2400,  0.4553],\n",
            "         [-1.8291,  0.8854, -0.1782],\n",
            "         [-0.5071,  0.0571, -0.9901]]])\n",
            "torch.Size([2, 3, 3])\n"
          ]
        }
      ]
    },
    {
      "cell_type": "code",
      "source": [
        "c = torch.cat((a,b), dim=1)\n",
        "print(c)\n",
        "print(c.size())\n",
        "\n",
        "\n",
        "# 안으로 다 합쳐짐\n",
        "# dim=1로 해서 행이 6행이 됨\n",
        "# dim을 어떻게 주냐에 따라 달라짐\n",
        "\n",
        "\n",
        "\n",
        "# 1,3,3\n",
        "# 1,3,3\n",
        "# dim=1을 줘서 1번째를 기준으로"
      ],
      "metadata": {
        "colab": {
          "base_uri": "https://localhost:8080/"
        },
        "id": "1jFkbdzx3xjJ",
        "outputId": "b8c94739-8660-4092-c04e-ed0309d0affc"
      },
      "execution_count": null,
      "outputs": [
        {
          "output_type": "stream",
          "name": "stdout",
          "text": [
            "tensor([[[ 0.7002, -0.0520, -0.2084],\n",
            "         [ 1.4386, -0.5344, -0.3535],\n",
            "         [ 0.5268, -0.0740, -0.7541],\n",
            "         [ 0.5788,  0.2030,  1.4530],\n",
            "         [-0.8672, -1.2657,  0.5204],\n",
            "         [-2.4125, -2.0150, -0.6124]]])\n",
            "torch.Size([1, 6, 3])\n"
          ]
        }
      ]
    },
    {
      "cell_type": "code",
      "source": [],
      "metadata": {
        "id": "Alq7qRnD347G"
      },
      "execution_count": null,
      "outputs": []
    }
  ]
}