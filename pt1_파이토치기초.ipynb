{
  "nbformat": 4,
  "nbformat_minor": 0,
  "metadata": {
    "colab": {
      "provenance": [],
      "mount_file_id": "12RRyS2mfVjt3dvjt2UD2nu6ns8YTwfih",
      "authorship_tag": "ABX9TyOcL+diU/os9sJnrs7G1Ksx",
      "include_colab_link": true
    },
    "kernelspec": {
      "name": "python3",
      "display_name": "Python 3"
    },
    "language_info": {
      "name": "python"
    },
    "gpuClass": "standard",
    "accelerator": "GPU"
  },
  "cells": [
    {
      "cell_type": "markdown",
      "metadata": {
        "id": "view-in-github",
        "colab_type": "text"
      },
      "source": [
        "<a href=\"https://colab.research.google.com/github/limlimlim99/limjihyeonjjang/blob/main/pt1_%ED%8C%8C%EC%9D%B4%ED%86%A0%EC%B9%98%EA%B8%B0%EC%B4%88.ipynb\" target=\"_parent\"><img src=\"https://colab.research.google.com/assets/colab-badge.svg\" alt=\"Open In Colab\"/></a>"
      ]
    },
    {
      "cell_type": "markdown",
      "source": [
        "# 파이토치(PyTorch)\n",
        "\n",
        "* 페이스북이 초기 루아(Lua) 언어로 개발된 토치(Torch)를 파이썬 버전으로 개발하여 2017년도에 공개\n",
        "* 초기에 토치(Torch)는 넘파이(NumPy) 라이브러리처럼 과학 연산을 위한 라이브러리로 공개\n",
        "* 이후 GPU를 이용한 텐서 조작 및 동적 신경망 구축이 가능하도록 딥러닝 프레임워크로 발전시킴\n",
        "* 파이썬답게 만들어졌고, 유연하면서도 가속화된 계산 속도를 제공\n"
      ],
      "metadata": {
        "id": "9rMcn-ZrV2J1"
      }
    },
    {
      "cell_type": "markdown",
      "source": [
        "## 파이토치의 구성요소\n",
        "\n",
        "- `torch`: 메인 네임스페이스, 텐서 등의 다양한 수학 함수가 포함\n",
        "- `torch.autograd`: 자동 미분 기능을 제공하는 라이브러리\n",
        "- `torch.nn`: 신경망 구축을 위한 데이터 구조나 레이어 등의 라이브러리\n",
        "- `torch.multiprocessing`: 병럴처리 기능을 제공하는 라이브러리\n",
        "- `torch.optim`: SGD(Stochastic Gradient Descent확률적 경사하강법)를 중심으로 한 파라미터 최적화 알고리즘 제공\n",
        "- `torch.utils`: 데이터 조작 등 유틸리티 기능 제공\n",
        "- `torch.onnx`: ONNX(Open Neural Network Exchange), 서로 다른 프레임워크 간의 모델을 공유할 때 사용\n"
      ],
      "metadata": {
        "id": "4abOEiCnV4qE"
      }
    },
    {
      "cell_type": "markdown",
      "source": [
        "## 텐서(Tensors)\n",
        "\n",
        "* 데이터 표현을 위한 기본 구조로 텐서(tensor)를 사용\n",
        "* 텐서는 데이터를 담기위한 컨테이너(container)로서 일반적으로 수치형 데이터를 저장\n",
        "* 넘파이(NumPy)의 ndarray와 유사\n",
        "* GPU를 사용한 연산 가속 가능\n"
      ],
      "metadata": {
        "id": "V5T-U8MBV8f1"
      }
    },
    {
      "cell_type": "code",
      "source": [
        "import torch\n",
        "torch.__version__"
      ],
      "metadata": {
        "colab": {
          "base_uri": "https://localhost:8080/",
          "height": 35
        },
        "id": "8P_03sg4V86H",
        "outputId": "ba261ecf-d5da-49ae-d1ea-325b18d77ec4"
      },
      "execution_count": null,
      "outputs": [
        {
          "output_type": "execute_result",
          "data": {
            "text/plain": [
              "'1.13.0+cu116'"
            ],
            "application/vnd.google.colaboratory.intrinsic+json": {
              "type": "string"
            }
          },
          "metadata": {},
          "execution_count": 75
        }
      ]
    },
    {
      "cell_type": "markdown",
      "source": [
        "# 텐서 초기화 데이터 타입"
      ],
      "metadata": {
        "id": "BT7SjmO3bc7M"
      }
    },
    {
      "cell_type": "markdown",
      "source": [
        "초기화되지 않은 텐서"
      ],
      "metadata": {
        "id": "HpWCX0zGbinU"
      }
    },
    {
      "cell_type": "code",
      "source": [
        "x = torch.empty(4,2)\n",
        "print(x)"
      ],
      "metadata": {
        "colab": {
          "base_uri": "https://localhost:8080/"
        },
        "id": "Cdg2iEXcbOHH",
        "outputId": "b0ff56b2-534e-4e4b-df7a-8dca264c56c3"
      },
      "execution_count": null,
      "outputs": [
        {
          "output_type": "stream",
          "name": "stdout",
          "text": [
            "tensor([[9.8033e-37, 0.0000e+00],\n",
            "        [1.4714e-43, 1.5414e-43],\n",
            "        [1.6255e-43, 5.6052e-44],\n",
            "        [1.5554e-43, 1.6395e-43]])\n"
          ]
        }
      ]
    },
    {
      "cell_type": "code",
      "source": [
        "import numpy as np\n",
        "x = np.empty([4,2])\n",
        "print(x)"
      ],
      "metadata": {
        "colab": {
          "base_uri": "https://localhost:8080/"
        },
        "id": "5YYIXkadbSAL",
        "outputId": "ad70a760-e9ba-4d3d-f087-d985c95ad734"
      },
      "execution_count": null,
      "outputs": [
        {
          "output_type": "stream",
          "name": "stdout",
          "text": [
            "[[531.23478261   7.2       ]\n",
            " [673.04347826   7.2       ]\n",
            " [531.23478261 149.00869565]\n",
            " [673.04347826 149.00869565]]\n"
          ]
        }
      ]
    },
    {
      "cell_type": "markdown",
      "source": [
        "무작위로 초기화된 텐서"
      ],
      "metadata": {
        "id": "F6mdo9R6bmGs"
      }
    },
    {
      "cell_type": "code",
      "source": [
        "x = torch.rand(4,2)\n",
        "print(x)\n",
        "\n",
        "# 0~1사이의 숫자를 균등하게 생성(랜덤)"
      ],
      "metadata": {
        "colab": {
          "base_uri": "https://localhost:8080/"
        },
        "id": "qpK_04KKbm8E",
        "outputId": "b832c0fe-35c2-4742-eee6-c51fa7dddfbc"
      },
      "execution_count": null,
      "outputs": [
        {
          "output_type": "stream",
          "name": "stdout",
          "text": [
            "tensor([[0.1208, 0.4160],\n",
            "        [0.9867, 0.2039],\n",
            "        [0.5028, 0.0107],\n",
            "        [0.3310, 0.1062]])\n"
          ]
        }
      ]
    },
    {
      "cell_type": "markdown",
      "source": [
        "데이터 타입(dtype)이 long이고, 0으로 채워진 텐서"
      ],
      "metadata": {
        "id": "x6QQVtydbn7L"
      }
    },
    {
      "cell_type": "code",
      "source": [
        "x = torch.zeros(4,2,dtype=torch.long)\n",
        "print(x)"
      ],
      "metadata": {
        "colab": {
          "base_uri": "https://localhost:8080/"
        },
        "id": "v3WgNxpJbwu2",
        "outputId": "ee250dcf-37fc-4427-ead1-099345956455"
      },
      "execution_count": null,
      "outputs": [
        {
          "output_type": "stream",
          "name": "stdout",
          "text": [
            "tensor([[0, 0],\n",
            "        [0, 0],\n",
            "        [0, 0],\n",
            "        [0, 0]])\n"
          ]
        }
      ]
    },
    {
      "cell_type": "markdown",
      "source": [
        "사용자가 입력한 값으로 텐서 초기화"
      ],
      "metadata": {
        "id": "wVJMN3SUc6YM"
      }
    },
    {
      "cell_type": "code",
      "source": [
        "x = torch.tensor([3,2.3])\n",
        "print(x)"
      ],
      "metadata": {
        "colab": {
          "base_uri": "https://localhost:8080/"
        },
        "id": "RgP1el1Pc9qT",
        "outputId": "ede054ce-ff44-42f5-dbeb-2b099be22e0c"
      },
      "execution_count": null,
      "outputs": [
        {
          "output_type": "stream",
          "name": "stdout",
          "text": [
            "tensor([3.0000, 2.3000])\n"
          ]
        }
      ]
    },
    {
      "cell_type": "markdown",
      "source": [
        "2 X 4 크기, double 타입, 1로 채워진 텐서"
      ],
      "metadata": {
        "id": "6sWdMCTrdbMm"
      }
    },
    {
      "cell_type": "code",
      "source": [
        "x = x.new_ones(2,4,dtype=torch.double)\n",
        "print(x)"
      ],
      "metadata": {
        "colab": {
          "base_uri": "https://localhost:8080/"
        },
        "id": "i5_-NfqJdapG",
        "outputId": "906449d2-c1bf-4628-d28a-3de9cf466931"
      },
      "execution_count": null,
      "outputs": [
        {
          "output_type": "stream",
          "name": "stdout",
          "text": [
            "tensor([[1., 1., 1., 1.],\n",
            "        [1., 1., 1., 1.]], dtype=torch.float64)\n"
          ]
        }
      ]
    },
    {
      "cell_type": "markdown",
      "source": [
        "X와 같은 크기, float 타입, 무작위로 채워진 텐서"
      ],
      "metadata": {
        "id": "suSsRvmteAbk"
      }
    },
    {
      "cell_type": "code",
      "source": [
        "x = torch.rand_like(x, dtype=torch.float)\n",
        "print(x)\n",
        "\n",
        "# 사이즈를 튜플로 입력하지 않고 기존의 텐서를 정의"
      ],
      "metadata": {
        "colab": {
          "base_uri": "https://localhost:8080/"
        },
        "id": "anv3BMoieGsr",
        "outputId": "e53908d3-5560-4736-9369-50eafaa5d705"
      },
      "execution_count": null,
      "outputs": [
        {
          "output_type": "stream",
          "name": "stdout",
          "text": [
            "tensor([[0.6214, 0.2452, 0.6890, 0.7695],\n",
            "        [0.1577, 0.5448, 0.6867, 0.6650]])\n"
          ]
        }
      ]
    },
    {
      "cell_type": "code",
      "source": [
        "x = torch.randn(5) \n",
        "print(x)\n",
        "\n",
        "# 평균이 0이고 표준편차가 1인 가우시안 정규분포를 이용해 생성\n",
        "# 생성한 값으로 다시 평균, 표준편차를 만들어 0과 1로 만들 수 있나? => X\n",
        "# 샘플수를 늘릴수록 모오수에 가까워짐\n",
        "# 표본을 잘 잡아야함~"
      ],
      "metadata": {
        "colab": {
          "base_uri": "https://localhost:8080/"
        },
        "id": "NABpA4CLfERN",
        "outputId": "6e59e45b-0246-4707-c52c-f33b62292f3a"
      },
      "execution_count": null,
      "outputs": [
        {
          "output_type": "stream",
          "name": "stdout",
          "text": [
            "tensor([-2.0326, -0.5859, -1.5487, -0.7367, -0.1460])\n"
          ]
        }
      ]
    },
    {
      "cell_type": "markdown",
      "source": [
        "텐서의 크기 계산"
      ],
      "metadata": {
        "id": "mXqDwf-wcg3D"
      }
    },
    {
      "cell_type": "code",
      "source": [
        "print(x.size())"
      ],
      "metadata": {
        "colab": {
          "base_uri": "https://localhost:8080/"
        },
        "id": "XaG06JsRcafd",
        "outputId": "e7b654d5-f889-42f0-f4f2-a6ccb47dde01"
      },
      "execution_count": null,
      "outputs": [
        {
          "output_type": "stream",
          "name": "stdout",
          "text": [
            "torch.Size([5])\n"
          ]
        }
      ]
    },
    {
      "cell_type": "markdown",
      "source": [
        "# 데이터 타입(Data Type)"
      ],
      "metadata": {
        "id": "j9GXDVhHcoAK"
      }
    },
    {
      "cell_type": "markdown",
      "source": [
        "| Data type | dtype | CPU tensor | GPU tensor |\n",
        "| ------ | ------ | ------ | ------ |\n",
        "| 32-bit floating point | `torch.float32` or `torch.float` |`torch.FloatTensor` | `torch.cuda.FloatTensor` |\n",
        "| 64-bit floating point | `torch.float64` or `torch.double` |`torch.DoubleTensor` | `torch.cuda.DoubleTensor` |\n",
        "| 16-bit floating point | `torch.float16` or `torch.half` |`torch.HalfTensor` | `torch.cuda.HalfTensor` |\n",
        "| 8-bit integer(unsinged) | `torch.uint8` |`torch.ByteTensor` | `torch.cuda.ByteTensor` |\n",
        "| 8-bit integer(singed) | `torch.int8` |`torch.CharTensor` | `torch.cuda.CharTensor` |\n",
        "| 16-bit integer(signed) | `torch.int16` or `torch.short` |`torch.ShortTensor` | `torch.cuda.ShortTensor` |\n",
        "| 32-bit integer(signed) | `torch.int32` or `torch.int` |`torch.IntTensor` | `torch.cuda.IntTensor` |\n",
        "| 64-bit integer(signed) | `torch.int64` or `torch.long` |`torch.LongTensor` | `torch.cuda.LongTensor` |\n"
      ],
      "metadata": {
        "id": "X7To79wlc09L"
      }
    },
    {
      "cell_type": "markdown",
      "source": [
        "- 몇 비트인지 보기\n",
        "- float : 32\n",
        "- double : 64\n",
        "- half : 16"
      ],
      "metadata": {
        "id": "h70ouj0QGilY"
      }
    },
    {
      "cell_type": "code",
      "source": [
        "ft = torch.FloatTensor([1,2,3])\n",
        "print(ft)\n",
        "print(ft.dtype)"
      ],
      "metadata": {
        "colab": {
          "base_uri": "https://localhost:8080/"
        },
        "id": "pMcHsZQ-jBOT",
        "outputId": "a344c1f3-3f3b-4360-c6f8-d59a92e995bd"
      },
      "execution_count": null,
      "outputs": [
        {
          "output_type": "stream",
          "name": "stdout",
          "text": [
            "tensor([1., 2., 3.])\n",
            "torch.float32\n"
          ]
        }
      ]
    },
    {
      "cell_type": "code",
      "source": [
        "print(ft.short())\n",
        "print(ft.int())\n",
        "print(ft.long())"
      ],
      "metadata": {
        "colab": {
          "base_uri": "https://localhost:8080/"
        },
        "id": "Qhh0RS-ujI9i",
        "outputId": "8e174768-6b5a-43f0-bfe8-59010924e51a"
      },
      "execution_count": null,
      "outputs": [
        {
          "output_type": "stream",
          "name": "stdout",
          "text": [
            "tensor([1, 2, 3], dtype=torch.int16)\n",
            "tensor([1, 2, 3], dtype=torch.int32)\n",
            "tensor([1, 2, 3])\n"
          ]
        }
      ]
    },
    {
      "cell_type": "code",
      "source": [
        "it = torch.IntTensor([1,2,3])\n",
        "print(it)\n",
        "print(it.dtype)"
      ],
      "metadata": {
        "colab": {
          "base_uri": "https://localhost:8080/"
        },
        "id": "gpuDmWJKjPCm",
        "outputId": "2b671075-52d1-410b-8f47-494ed0ab6ec2"
      },
      "execution_count": null,
      "outputs": [
        {
          "output_type": "stream",
          "name": "stdout",
          "text": [
            "tensor([1, 2, 3], dtype=torch.int32)\n",
            "torch.int32\n"
          ]
        }
      ]
    },
    {
      "cell_type": "markdown",
      "source": [
        "# CUDA Tensor\n",
        "- .to 메소드를 사용하여 텐서를 어떠한 장치(cpu, gpu)로도 옮길 수 있음"
      ],
      "metadata": {
        "id": "L4LUCVHGjiu7"
      }
    },
    {
      "cell_type": "markdown",
      "source": [
        "- NVIDIA가 만든 병렬 컴퓨팅 플랫폼 및 API 모델로, 보통 '쿠다'라고 발음한다. CUDA 플랫폼은 GPU 의 가상 명령어셋을 사용할 수 있도록 만들어주는 소프트웨어 레이어이며, NVIDIA가 만든 CUDA 코어가 장착된 GPU에서 작동\n"
      ],
      "metadata": {
        "id": "D5J7hSvLjtT8"
      }
    },
    {
      "cell_type": "code",
      "source": [
        "x = torch.randn(1)\n",
        "print(x)\n",
        "print(x.item())\n",
        "print(x.dtype)"
      ],
      "metadata": {
        "colab": {
          "base_uri": "https://localhost:8080/"
        },
        "id": "gdCMEs-PjsdF",
        "outputId": "639f9bc3-29cf-4d38-80f7-fbc093dc4bec"
      },
      "execution_count": null,
      "outputs": [
        {
          "output_type": "stream",
          "name": "stdout",
          "text": [
            "tensor([-0.2748])\n",
            "-0.2748029828071594\n",
            "torch.float32\n"
          ]
        }
      ]
    },
    {
      "cell_type": "code",
      "source": [
        "import torch\n",
        "device = torch.device('cuda' if torch.cuda.is_available() else 'cpu')\n",
        "print(device)\n",
        "\n",
        "# cuda를 이용할 수 있으면 cuda\n",
        "# 아니면 cpu\n",
        "# 런타임 유형을 None으로 하면 cpu가 나오고\n",
        "# gpu로 설정하면 cuda가 나옴"
      ],
      "metadata": {
        "colab": {
          "base_uri": "https://localhost:8080/"
        },
        "id": "6WcjN6q7j44t",
        "outputId": "ccac002c-cd13-45e7-bfa6-f0862a947a89"
      },
      "execution_count": null,
      "outputs": [
        {
          "output_type": "stream",
          "name": "stdout",
          "text": [
            "cuda\n"
          ]
        }
      ]
    },
    {
      "cell_type": "markdown",
      "source": [
        "# 다차원 텐서 표현"
      ],
      "metadata": {
        "id": "zpMGDDgqk_9L"
      }
    },
    {
      "cell_type": "markdown",
      "source": [
        "0D Tensor(Scalar)\n",
        "- 하나의 숫자를 담고 있는 텐서(tensor)\n",
        "- 축과 형상이 없음"
      ],
      "metadata": {
        "id": "3yOPDqSWlC8i"
      }
    },
    {
      "cell_type": "code",
      "source": [
        "t0 = torch.tensor(0)\n",
        "\n",
        "print(t0.ndim)\n",
        "print(t0.shape)\n",
        "print(to)"
      ],
      "metadata": {
        "colab": {
          "base_uri": "https://localhost:8080/",
          "height": 248
        },
        "id": "ZhG3E7IrkI55",
        "outputId": "3217db3c-4318-46ab-9ead-5c3781c7880d"
      },
      "execution_count": null,
      "outputs": [
        {
          "output_type": "stream",
          "name": "stdout",
          "text": [
            "0\n",
            "torch.Size([])\n"
          ]
        },
        {
          "output_type": "error",
          "ename": "NameError",
          "evalue": "ignored",
          "traceback": [
            "\u001b[0;31m---------------------------------------------------------------------------\u001b[0m",
            "\u001b[0;31mNameError\u001b[0m                                 Traceback (most recent call last)",
            "\u001b[0;32m<ipython-input-90-6299775de702>\u001b[0m in \u001b[0;36m<module>\u001b[0;34m\u001b[0m\n\u001b[1;32m      3\u001b[0m \u001b[0mprint\u001b[0m\u001b[0;34m(\u001b[0m\u001b[0mt0\u001b[0m\u001b[0;34m.\u001b[0m\u001b[0mndim\u001b[0m\u001b[0;34m)\u001b[0m\u001b[0;34m\u001b[0m\u001b[0;34m\u001b[0m\u001b[0m\n\u001b[1;32m      4\u001b[0m \u001b[0mprint\u001b[0m\u001b[0;34m(\u001b[0m\u001b[0mt0\u001b[0m\u001b[0;34m.\u001b[0m\u001b[0mshape\u001b[0m\u001b[0;34m)\u001b[0m\u001b[0;34m\u001b[0m\u001b[0;34m\u001b[0m\u001b[0m\n\u001b[0;32m----> 5\u001b[0;31m \u001b[0mprint\u001b[0m\u001b[0;34m(\u001b[0m\u001b[0mto\u001b[0m\u001b[0;34m)\u001b[0m\u001b[0;34m\u001b[0m\u001b[0;34m\u001b[0m\u001b[0m\n\u001b[0m",
            "\u001b[0;31mNameError\u001b[0m: name 'to' is not defined"
          ]
        }
      ]
    },
    {
      "cell_type": "markdown",
      "source": [
        "# 1D Tensor(Vector)\n",
        "- 값들을 저장한 리스트와 유사한 텐서\n",
        "- 하나의 축이 존재"
      ],
      "metadata": {
        "id": "fNIN7b1FlZpj"
      }
    },
    {
      "cell_type": "code",
      "source": [
        "t1 = torch.tensor([1,2,3])\n",
        "\n",
        "print(t1.ndim)\n",
        "print(t1.shape)\n",
        "print(t1)"
      ],
      "metadata": {
        "id": "bNjzs-oamAhr"
      },
      "execution_count": null,
      "outputs": []
    },
    {
      "cell_type": "markdown",
      "source": [
        "# 2D Tensor(Matrix)\n",
        "- 행렬과 같은 모양으로 두개의 축이 존재\n",
        "- 일반적인 수치, 통계 데이터셋이 해당\n",
        "- 주로 샘플(samples)과 특성(features)을 가진 구조로 사용"
      ],
      "metadata": {
        "id": "6CrHzejul0_q"
      }
    },
    {
      "cell_type": "code",
      "source": [
        "t2 = torch.tensor([[1,2,3],\n",
        "                   [4,5,6]])\n",
        "\n",
        "print(t2.ndim)\n",
        "print(t2.shape)\n",
        "print(t2)"
      ],
      "metadata": {
        "colab": {
          "base_uri": "https://localhost:8080/"
        },
        "id": "YgcJi8VnlaeS",
        "outputId": "6ac5b095-df91-4990-8132-fc1911a27ba7"
      },
      "execution_count": null,
      "outputs": [
        {
          "output_type": "stream",
          "name": "stdout",
          "text": [
            "2\n",
            "torch.Size([2, 3])\n",
            "tensor([[1, 2, 3],\n",
            "        [4, 5, 6]])\n"
          ]
        }
      ]
    },
    {
      "cell_type": "markdown",
      "source": [
        "# 3D Tensor\n",
        "- 큐브(cube)와 같은 모양으로 세개의 축이 존재\n",
        "- 데이터가 연속된 시퀀스 데이터나 시간 축이 포함된 시계열 데이터에 해당\n",
        "- 주식 가격 데이터셋, 시간에 따른 질병"
      ],
      "metadata": {
        "id": "DRSciNOAm_lp"
      }
    },
    {
      "cell_type": "code",
      "source": [
        "t3 = torch.tensor([[1,2,3],\n",
        "                   [4,5,6],\n",
        "                   [7,8,9]])\n",
        "\n",
        "print(t3.ndim)\n",
        "print(t3.shape)\n",
        "print(t3)"
      ],
      "metadata": {
        "colab": {
          "base_uri": "https://localhost:8080/"
        },
        "id": "qPenIwquHwbG",
        "outputId": "f84f146c-8b97-409a-cc41-a064e086487d"
      },
      "execution_count": null,
      "outputs": [
        {
          "output_type": "stream",
          "name": "stdout",
          "text": [
            "2\n",
            "torch.Size([3, 3])\n",
            "tensor([[1, 2, 3],\n",
            "        [4, 5, 6],\n",
            "        [7, 8, 9]])\n"
          ]
        }
      ]
    },
    {
      "cell_type": "markdown",
      "source": [
        "# 4D Tensor"
      ],
      "metadata": {
        "id": "7QZXx-CMnSeR"
      }
    },
    {
      "cell_type": "code",
      "source": [
        "t4 = torch.tensor([[1,2,3],\n",
        "                   [4,5,6],\n",
        "                   [7,8,9],\n",
        "                   [10,11,12]])\n",
        "\n",
        "print(t4.ndim)\n",
        "print(t4.shape)\n",
        "print(t4)"
      ],
      "metadata": {
        "colab": {
          "base_uri": "https://localhost:8080/"
        },
        "id": "nn97YKK-H-7K",
        "outputId": "368d5401-e5cd-41aa-b359-88a8bd1dc371"
      },
      "execution_count": null,
      "outputs": [
        {
          "output_type": "stream",
          "name": "stdout",
          "text": [
            "2\n",
            "torch.Size([4, 3])\n",
            "tensor([[ 1,  2,  3],\n",
            "        [ 4,  5,  6],\n",
            "        [ 7,  8,  9],\n",
            "        [10, 11, 12]])\n"
          ]
        }
      ]
    },
    {
      "cell_type": "markdown",
      "source": [
        "# 텐서의 연산(Operations)\n",
        "- 텐서에 대한 수학 연산, 삼각함수, 비트연산, 비교연산, 집계 등 제공"
      ],
      "metadata": {
        "id": "kOQpo589nY2y"
      }
    },
    {
      "cell_type": "code",
      "source": [
        "import math\n",
        "\n",
        "a = torch.rand(1,2) * 2 -1 #가우시안 표준정규 분포\n",
        "print(a)\n",
        "print(torch.abs(a))\n",
        "print(torch.ceil(a))\n",
        "print(torch.clamp(a, -0.5, 0.5))\n",
        "\n",
        "# 즉 입력값이 min < x(input) < max 이면 x가 그대로 나오지만\n",
        "# min보다 작으면 min값이, max보다 크면 max값이 나오는 구조입니다!"
      ],
      "metadata": {
        "colab": {
          "base_uri": "https://localhost:8080/"
        },
        "id": "2QvqobCnnRRd",
        "outputId": "59992d0b-eddc-4c15-d7ae-9ec57237058b"
      },
      "execution_count": null,
      "outputs": [
        {
          "output_type": "stream",
          "name": "stdout",
          "text": [
            "tensor([[ 0.0456, -0.3807]])\n",
            "tensor([[0.0456, 0.3807]])\n",
            "tensor([[1., -0.]])\n",
            "tensor([[ 0.0456, -0.3807]])\n"
          ]
        }
      ]
    },
    {
      "cell_type": "code",
      "source": [
        "print(a)\n",
        "print(torch.min(a))\n",
        "print(torch.max(a))\n",
        "print(torch.mean(a))\n",
        "print(torch.std(a))\n",
        "print(torch.prod(a))\n",
        "print(torch.unique(torch.tensor([1,2,3,1,2,1])))  # unique: 중복된 값을 뺌"
      ],
      "metadata": {
        "colab": {
          "base_uri": "https://localhost:8080/"
        },
        "id": "h7dtTLa1n4DS",
        "outputId": "527ece84-1494-4af4-b3f9-10d60e8e0d99"
      },
      "execution_count": null,
      "outputs": [
        {
          "output_type": "stream",
          "name": "stdout",
          "text": [
            "tensor([[ 0.0456, -0.3807]])\n",
            "tensor(-0.3807)\n",
            "tensor(0.0456)\n",
            "tensor(-0.1675)\n",
            "tensor(0.3014)\n",
            "tensor(-0.0174)\n",
            "tensor([1, 2, 3])\n"
          ]
        }
      ]
    },
    {
      "cell_type": "markdown",
      "source": [
        "max와 min은 dim 인자를 줄 경우 argmax와 argmin도 함께 리턴\n",
        "- argmax : 최대 값을 가진 인덱스\n",
        "- argmin : 최소값을 가진 인덱스"
      ],
      "metadata": {
        "id": "6zRrcStUo1bK"
      }
    },
    {
      "cell_type": "code",
      "source": [
        "x = torch.rand(2,2)\n",
        "print(x, '\\n')\n",
        "print(x.max(dim=0), '\\n')   \n",
        "print(x.max(dim=1))\n",
        "\n",
        "# 행쪽으로 보는 것(dim=0) 세로로 비교해서 큰 값\n",
        "# 열쪽으로 보는 것(dim=1) 가로로 비교해서 큰 값"
      ],
      "metadata": {
        "colab": {
          "base_uri": "https://localhost:8080/"
        },
        "id": "zYTfUa5Fo0Bd",
        "outputId": "201aa363-35e5-480f-d69d-fae87a274c92"
      },
      "execution_count": null,
      "outputs": [
        {
          "output_type": "stream",
          "name": "stdout",
          "text": [
            "tensor([[0.1695, 0.0181],\n",
            "        [0.7082, 0.3709]]) \n",
            "\n",
            "torch.return_types.max(\n",
            "values=tensor([0.7082, 0.3709]),\n",
            "indices=tensor([1, 1])) \n",
            "\n",
            "torch.return_types.max(\n",
            "values=tensor([0.1695, 0.7082]),\n",
            "indices=tensor([0, 0]))\n"
          ]
        }
      ]
    },
    {
      "cell_type": "code",
      "source": [
        "x = torch.rand(2,2)\n",
        "print(x, '\\n')\n",
        "print(x.min(dim=0), '\\n')\n",
        "print(x.min(dim=1))\n",
        "\n",
        "# 행쪽으로 보는 것(dim=0) 세로로 비교해서 작은 값\n",
        "# 열쪽으로 보는 것(dim=1) 가로로 비교해서 작은 값"
      ],
      "metadata": {
        "colab": {
          "base_uri": "https://localhost:8080/"
        },
        "id": "PFok3EwjpXFP",
        "outputId": "bbb81cec-5547-4dc1-9746-e4a6396f22d4"
      },
      "execution_count": null,
      "outputs": [
        {
          "output_type": "stream",
          "name": "stdout",
          "text": [
            "tensor([[0.5345, 0.0109],\n",
            "        [0.8410, 0.5968]]) \n",
            "\n",
            "torch.return_types.min(\n",
            "values=tensor([0.5345, 0.0109]),\n",
            "indices=tensor([0, 0])) \n",
            "\n",
            "torch.return_types.min(\n",
            "values=tensor([0.0109, 0.5968]),\n",
            "indices=tensor([1, 1]))\n"
          ]
        }
      ]
    },
    {
      "cell_type": "code",
      "source": [
        "x = torch.rand(2,2)\n",
        "print(x)\n",
        "y = torch.rand(2,2)\n",
        "print(y)"
      ],
      "metadata": {
        "colab": {
          "base_uri": "https://localhost:8080/"
        },
        "id": "OBRIk0k0qG06",
        "outputId": "93a1456b-f7f7-451e-e0b5-96c0b2cf27f8"
      },
      "execution_count": null,
      "outputs": [
        {
          "output_type": "stream",
          "name": "stdout",
          "text": [
            "tensor([[0.1382, 0.6159],\n",
            "        [0.6972, 0.4108]])\n",
            "tensor([[0.9052, 0.6081],\n",
            "        [0.7169, 0.7601]])\n"
          ]
        }
      ]
    },
    {
      "cell_type": "markdown",
      "source": [
        "torch.add : 덧셈"
      ],
      "metadata": {
        "id": "CaBTlnS2qXlC"
      }
    },
    {
      "cell_type": "code",
      "source": [
        "print(x+y)\n",
        "print(torch.add(x,y))"
      ],
      "metadata": {
        "colab": {
          "base_uri": "https://localhost:8080/"
        },
        "id": "wYNxbwtUqRwq",
        "outputId": "70d564de-426c-4cfd-bdfd-16090be39991"
      },
      "execution_count": null,
      "outputs": [
        {
          "output_type": "stream",
          "name": "stdout",
          "text": [
            "tensor([[1.0434, 1.2241],\n",
            "        [1.4141, 1.1709]])\n",
            "tensor([[1.0434, 1.2241],\n",
            "        [1.4141, 1.1709]])\n"
          ]
        }
      ]
    },
    {
      "cell_type": "markdown",
      "source": [
        "결과 텐서를 인자로 제공"
      ],
      "metadata": {
        "id": "rLWfv-5EqfgC"
      }
    },
    {
      "cell_type": "code",
      "source": [
        "result = torch.empty(2,4)\n",
        "torch.add(x,y, out=result)\n",
        "print(result)"
      ],
      "metadata": {
        "colab": {
          "base_uri": "https://localhost:8080/"
        },
        "id": "BMCNO0KIqdzk",
        "outputId": "0d11a806-8a6a-4389-c235-3713c91fb3e9"
      },
      "execution_count": null,
      "outputs": [
        {
          "output_type": "stream",
          "name": "stdout",
          "text": [
            "tensor([[1.0434, 1.2241],\n",
            "        [1.4141, 1.1709]])\n"
          ]
        },
        {
          "output_type": "stream",
          "name": "stderr",
          "text": [
            "<ipython-input-100-4be145b6d329>:2: UserWarning: An output with one or more elements was resized since it had shape [2, 4], which does not match the required output shape [2, 2]. This behavior is deprecated, and in a future PyTorch release outputs will not be resized unless they have zero elements. You can explicitly reuse an out tensor t by resizing it, inplace, to zero elements with t.resize_(0). (Triggered internally at ../aten/src/ATen/native/Resize.cpp:17.)\n",
            "  torch.add(x,y, out=result)\n"
          ]
        }
      ]
    },
    {
      "cell_type": "markdown",
      "source": [
        "# in-place방식\n",
        "- in-place방식으로 텐서의 값을 변경하는 연산 뒤에는 _\"가 붙음\n",
        "- x.copy_(y), x.t_()\n",
        "- inplac = True방식과 똑같음\n",
        "- _\" 줄이 inplace=True임 => 바뀐 것으로 저장됨"
      ],
      "metadata": {
        "id": "_qVjk2Bfq4iq"
      }
    },
    {
      "cell_type": "code",
      "source": [
        "print(x)\n",
        "print(y)\n",
        "print()\n",
        "y.add_(x)\n",
        "print(y)\n",
        "\n",
        "# y에다가 x를 더한 값을 y에다가 넣는다. y에 저장(x+y=y) y값이 x가 추가된 값으로 변경됨"
      ],
      "metadata": {
        "colab": {
          "base_uri": "https://localhost:8080/"
        },
        "id": "m5shP8o4qqfq",
        "outputId": "e35dc25f-9e36-4116-de76-b9c0dc6ab097"
      },
      "execution_count": null,
      "outputs": [
        {
          "output_type": "stream",
          "name": "stdout",
          "text": [
            "tensor([[0.1382, 0.6159],\n",
            "        [0.6972, 0.4108]])\n",
            "tensor([[0.9052, 0.6081],\n",
            "        [0.7169, 0.7601]])\n",
            "\n",
            "tensor([[1.0434, 1.2241],\n",
            "        [1.4141, 1.1709]])\n"
          ]
        }
      ]
    },
    {
      "cell_type": "markdown",
      "source": [
        "torch.sub: 뺄셈"
      ],
      "metadata": {
        "id": "l2x-JbbArpMJ"
      }
    },
    {
      "cell_type": "code",
      "source": [
        "print(x)\n",
        "print(y)\n",
        "print() \n",
        "print(x-y, '\\n') # 새로 x값이 됨\n",
        "x.sub_(y)  # x값이 저장됨\n",
        "print(x)\n",
        "print()\n",
        "print(torch.sub(x,y))\n",
        "print(x.sub(y))"
      ],
      "metadata": {
        "colab": {
          "base_uri": "https://localhost:8080/"
        },
        "id": "I7VnW1wtrKJQ",
        "outputId": "e15375b7-1460-4987-808f-54d4a36898f1"
      },
      "execution_count": null,
      "outputs": [
        {
          "output_type": "stream",
          "name": "stdout",
          "text": [
            "tensor([[0.1382, 0.6159],\n",
            "        [0.6972, 0.4108]])\n",
            "tensor([[1.0434, 1.2241],\n",
            "        [1.4141, 1.1709]])\n",
            "\n",
            "tensor([[-0.9052, -0.6081],\n",
            "        [-0.7169, -0.7601]]) \n",
            "\n",
            "tensor([[-0.9052, -0.6081],\n",
            "        [-0.7169, -0.7601]])\n",
            "\n",
            "tensor([[-1.9486, -1.8322],\n",
            "        [-2.1309, -1.9309]])\n",
            "tensor([[-1.9486, -1.8322],\n",
            "        [-2.1309, -1.9309]])\n"
          ]
        }
      ]
    },
    {
      "cell_type": "markdown",
      "source": [
        "torch.mul : 곱셈"
      ],
      "metadata": {
        "id": "UPix5JbtuqTi"
      }
    },
    {
      "cell_type": "code",
      "source": [
        "print(x)\n",
        "print(y)\n",
        "print()\n",
        "print(x*y) # 새로 x값이 됨\n",
        "x.mul_(y) # x값이 저장됨\n",
        "print(x)\n",
        "print()\n",
        "print(torch.mul(x,y))\n",
        "print(x.mul(y))"
      ],
      "metadata": {
        "colab": {
          "base_uri": "https://localhost:8080/"
        },
        "id": "JZhHyusgr5PU",
        "outputId": "1f7266a9-c5af-4388-9147-a447d5c97c63"
      },
      "execution_count": null,
      "outputs": [
        {
          "output_type": "stream",
          "name": "stdout",
          "text": [
            "tensor([[-0.9052, -0.6081],\n",
            "        [-0.7169, -0.7601]])\n",
            "tensor([[1.0434, 1.2241],\n",
            "        [1.4141, 1.1709]])\n",
            "\n",
            "tensor([[-0.9445, -0.7444],\n",
            "        [-1.0137, -0.8899]])\n",
            "tensor([[-0.9445, -0.7444],\n",
            "        [-1.0137, -0.8899]])\n",
            "\n",
            "tensor([[-0.9855, -0.9112],\n",
            "        [-1.4334, -1.0420]])\n",
            "tensor([[-0.9855, -0.9112],\n",
            "        [-1.4334, -1.0420]])\n"
          ]
        }
      ]
    },
    {
      "cell_type": "markdown",
      "source": [
        "torch.div : 나눗셈"
      ],
      "metadata": {
        "id": "pFx8upW5vKKx"
      }
    },
    {
      "cell_type": "code",
      "source": [
        "print(x)\n",
        "print(y)\n",
        "print()\n",
        "print(x/y) # 새로 x값이 됨\n",
        "x.div_(y) # x값이 저장됨\n",
        "print(x)\n",
        "print()\n",
        "print(torch.div(x,y))\n",
        "print(x.div(y))"
      ],
      "metadata": {
        "colab": {
          "base_uri": "https://localhost:8080/"
        },
        "id": "ld0lPHzsu_QF",
        "outputId": "bce33a0e-52a7-4801-a7ed-c67d1d0dc51a"
      },
      "execution_count": null,
      "outputs": [
        {
          "output_type": "stream",
          "name": "stdout",
          "text": [
            "tensor([[-0.9445, -0.7444],\n",
            "        [-1.0137, -0.8899]])\n",
            "tensor([[1.0434, 1.2241],\n",
            "        [1.4141, 1.1709]])\n",
            "\n",
            "tensor([[-0.9052, -0.6081],\n",
            "        [-0.7169, -0.7601]])\n",
            "tensor([[-0.9052, -0.6081],\n",
            "        [-0.7169, -0.7601]])\n",
            "\n",
            "tensor([[-0.8675, -0.4968],\n",
            "        [-0.5070, -0.6492]])\n",
            "tensor([[-0.8675, -0.4968],\n",
            "        [-0.5070, -0.6492]])\n"
          ]
        }
      ]
    },
    {
      "cell_type": "markdown",
      "source": [
        "torch.mm : 내적(dot product)"
      ],
      "metadata": {
        "id": "G1uPto0Vvtga"
      }
    },
    {
      "cell_type": "code",
      "source": [
        "print(x)\n",
        "print(y)\n",
        "print()\n",
        "print(torch.matmul(x,y))\n",
        "z = torch.mm(x,y)\n",
        "print(z)\n",
        "print(torch.svd(z))  # singualr value decomposition A = U 시그마 VT\n",
        "# (v의 전치 행렬)  (분리)\n",
        "# 텐서별로 분리\n",
        "# 행렬 분해 = 거꾸로 하는 것이다."
      ],
      "metadata": {
        "colab": {
          "base_uri": "https://localhost:8080/"
        },
        "id": "0H0RJAEWvJXP",
        "outputId": "5cca343f-77b2-42de-bdc0-25e66ec813fb"
      },
      "execution_count": null,
      "outputs": [
        {
          "output_type": "stream",
          "name": "stdout",
          "text": [
            "tensor([[-0.9052, -0.6081],\n",
            "        [-0.7169, -0.7601]])\n",
            "tensor([[1.0434, 1.2241],\n",
            "        [1.4141, 1.1709]])\n",
            "\n",
            "tensor([[-1.8044, -1.8201],\n",
            "        [-1.8228, -1.7675]])\n",
            "tensor([[-1.8044, -1.8201],\n",
            "        [-1.8228, -1.7675]])\n",
            "torch.return_types.svd(\n",
            "U=tensor([[-0.7104, -0.7038],\n",
            "        [-0.7038,  0.7104]]),\n",
            "S=tensor([3.6075, 0.0356]),\n",
            "V=tensor([[ 0.7110, -0.7032],\n",
            "        [ 0.7032,  0.7110]]))\n"
          ]
        }
      ]
    },
    {
      "cell_type": "markdown",
      "source": [
        "# 텐서의 조작(MainPulations)"
      ],
      "metadata": {
        "id": "heYo5Bmvx_pS"
      }
    },
    {
      "cell_type": "markdown",
      "source": [
        "인덱싱(indexing): NumPy처럼 인덱싱 형태로 사용가능"
      ],
      "metadata": {
        "id": "3dz4YIyyyFPZ"
      }
    },
    {
      "cell_type": "code",
      "source": [
        "import torch\n",
        "x = torch.Tensor([[1,2], [3,4]])\n",
        "print(x)\n",
        "\n",
        "print(x[0,0])\n",
        "print(x[0,1])\n",
        "print(x[1,0])\n",
        "print(x[1,1])\n",
        "print(x[:,0])\n",
        "print(x[:,0])\n",
        "print(x[0,:])\n",
        "print(x[1,:])\n"
      ],
      "metadata": {
        "colab": {
          "base_uri": "https://localhost:8080/"
        },
        "id": "2-ewKGumv6Uv",
        "outputId": "63c48082-757b-4b34-f4b1-438336b52d84"
      },
      "execution_count": null,
      "outputs": [
        {
          "output_type": "stream",
          "name": "stdout",
          "text": [
            "tensor([[1., 2.],\n",
            "        [3., 4.]])\n",
            "tensor(1.)\n",
            "tensor(2.)\n",
            "tensor(3.)\n",
            "tensor(4.)\n",
            "tensor([1., 3.])\n",
            "tensor([1., 3.])\n",
            "tensor([1., 2.])\n",
            "tensor([3., 4.])\n"
          ]
        }
      ]
    },
    {
      "cell_type": "markdown",
      "source": [
        "https://bigdatadiary0819.tistory.com/60\n",
        "\n",
        "º 랜덤한 값을 가지는 텐서 생성\n",
        "\n",
        "1. torch.rand() : 0과 1 사이의 숫자를 균등하게 생성\n",
        "\n",
        "2. torch.rand_like() : 사이즈를 튜플로 입력하지 않고 기존의 텐서로 정의\n",
        "\n",
        "3. torch.randn() : 평균이 0이고 표준편차가 1인 가우시안 정규분포를 이용해 생성\n",
        "\n",
        "4. torch.randn_like() :  사이즈를 튜플로 입력하지 않고 기존의 텐서로 정의\n",
        "\n",
        "5. torch.randint() : 주어진 범위 내의 정수를 균등하게 생성\n",
        "\n",
        "6. torch.randint_like() : 사이즈를 튜플로 입력하지 않고 기존의 텐서로 정의\n",
        "\n",
        "7. torch.randperm() : 주어진 범위 내의 정수를 랜덤하게 생성 "
      ],
      "metadata": {
        "id": "MhZhQSMcysWB"
      }
    },
    {
      "cell_type": "markdown",
      "source": [
        "º 특정한 값을 가지는 텐서 생성\n",
        "\n",
        "1. torch.arange() : 주어진 범위 내의 정수를 순서대로 생성\n",
        "\n",
        "2. torch.ones() : 주어진 사이즈의 1로 이루어진 텐서 생성\n",
        "\n",
        "3. torch.zeros() : 주어진 사이즈의 0으로 이루어진 텐서 생성\n",
        "\n",
        "4. torch.ones_like() : 사이즈를 튜플로 입력하지 않고 기존의 텐서로 정의\n",
        "\n",
        "5. torch.zeros_like() : 사이즈를 튜플로 입력하지 않고 기존의 텐서로 정의\n",
        "\n",
        "6. torch.linspace() : 시작점과 끝점을 주어진 갯수만큼 균등하게 나눈 간격점을 행벡터로 출력(x 만들때 쓰임)\n",
        "\n",
        "7. torch.logspace() : 시작점과 끝점을 주어진 갯수만큼 로그간격으로 나눈 간격점을 행벡터로 출력\n",
        "\n",
        "(로그의 특징: 지수함수, 로그함수: 역의 관계)"
      ],
      "metadata": {
        "id": "SMfw2qU0ykFx"
      }
    },
    {
      "cell_type": "markdown",
      "source": [
        "view : 텐서의 크기(size)나 모양(shape)을 변경\n",
        "- 기본적으로 변경 전과 후의 텐서 안의 원소 개수가 유지되어야 함\n",
        "- -1로 설정되면 계산을 통해 해당 크기 값을 유추(reshape와 같음)"
      ],
      "metadata": {
        "id": "PRXENknDz36y"
      }
    },
    {
      "cell_type": "code",
      "source": [
        "import torch\n",
        "x = torch.randn(4,5)  # 4행 5열\n",
        "print(x)\n",
        "print(x.shape)\n",
        "print(x.size())   #괄호를 유의해야 함 # shape랑 size는 같은 의미로 쓰인다~"
      ],
      "metadata": {
        "colab": {
          "base_uri": "https://localhost:8080/"
        },
        "id": "_5JvT0nUyole",
        "outputId": "cc9b4263-e58b-4f38-bbb0-9105d119f0e8"
      },
      "execution_count": null,
      "outputs": [
        {
          "output_type": "stream",
          "name": "stdout",
          "text": [
            "tensor([[-0.3371, -0.5770,  1.5773, -0.2271,  0.1725],\n",
            "        [ 0.0711,  0.7247,  0.1118,  0.2563,  1.0262],\n",
            "        [-0.4919,  1.2012, -1.0549, -0.6227, -1.3279],\n",
            "        [ 0.0923,  0.6308, -1.4155,  1.7763, -1.3888]])\n",
            "torch.Size([4, 5])\n",
            "torch.Size([4, 5])\n"
          ]
        }
      ]
    },
    {
      "cell_type": "code",
      "source": [
        "x = torch.FloatTensor([\n",
        "    [1,2],\n",
        "    [3,4],\n",
        "    [5,6],\n",
        "    [7,8]\n",
        "])\n",
        "\n",
        "# size를 활용한 텐서 사이즈 보기\n",
        "print(x.size())\n",
        "# shape를 활용한 텐서 사이즈 보기\n",
        "print(x.shape)\n",
        "# dim을 활용한 텐서 사이즈 보기\n",
        "print(x.dim())\n",
        "# 1차원 사이즈 확인\n",
        "print(x.size(0))\n",
        "# 1차원 사이즈 확인\n",
        "print(x.shape[0])"
      ],
      "metadata": {
        "colab": {
          "base_uri": "https://localhost:8080/"
        },
        "id": "jSC_-hqP0Nze",
        "outputId": "39988a93-7c2a-40d6-cf89-af5d103ee029"
      },
      "execution_count": null,
      "outputs": [
        {
          "output_type": "stream",
          "name": "stdout",
          "text": [
            "torch.Size([4, 2])\n",
            "torch.Size([4, 2])\n",
            "2\n",
            "4\n",
            "4\n"
          ]
        }
      ]
    },
    {
      "cell_type": "code",
      "source": [
        "x = torch.randn(4,5)\n",
        "print(x)\n",
        "print()\n",
        "y = x.view(20)  # 20개를 써서 1차원으로 바뀜\n",
        "print(y)\n",
        "z = x.view(5,-1)\n",
        "print(z)"
      ],
      "metadata": {
        "colab": {
          "base_uri": "https://localhost:8080/"
        },
        "id": "5rcmmCEo0V9b",
        "outputId": "cadb3ca0-06f4-4470-9ee8-973803b7b155"
      },
      "execution_count": null,
      "outputs": [
        {
          "output_type": "stream",
          "name": "stdout",
          "text": [
            "tensor([[-0.7435,  0.1677,  0.5782,  0.2918, -0.2870],\n",
            "        [-0.0082,  1.1824,  0.4463, -0.3075,  1.0615],\n",
            "        [-2.2091,  0.7562, -0.2275,  0.5456, -1.1088],\n",
            "        [-0.0683,  1.1980,  0.0299,  0.8945, -1.5537]])\n",
            "\n",
            "tensor([-0.7435,  0.1677,  0.5782,  0.2918, -0.2870, -0.0082,  1.1824,  0.4463,\n",
            "        -0.3075,  1.0615, -2.2091,  0.7562, -0.2275,  0.5456, -1.1088, -0.0683,\n",
            "         1.1980,  0.0299,  0.8945, -1.5537])\n",
            "tensor([[-0.7435,  0.1677,  0.5782,  0.2918],\n",
            "        [-0.2870, -0.0082,  1.1824,  0.4463],\n",
            "        [-0.3075,  1.0615, -2.2091,  0.7562],\n",
            "        [-0.2275,  0.5456, -1.1088, -0.0683],\n",
            "        [ 1.1980,  0.0299,  0.8945, -1.5537]])\n"
          ]
        }
      ]
    },
    {
      "cell_type": "markdown",
      "source": [
        "item : 텐서에 값이 단 하나라도 존재하면 숫자값을 얻을 수 있음"
      ],
      "metadata": {
        "id": "TreLLlTj1kVY"
      }
    },
    {
      "cell_type": "code",
      "source": [
        "x = torch.randn(1)\n",
        "print(x)\n",
        "print(x.item())\n",
        "print(x.dtype)"
      ],
      "metadata": {
        "colab": {
          "base_uri": "https://localhost:8080/"
        },
        "id": "o_xlWvK71Rji",
        "outputId": "6d60052e-7fbc-4def-e993-f37e0d37887f"
      },
      "execution_count": null,
      "outputs": [
        {
          "output_type": "stream",
          "name": "stdout",
          "text": [
            "tensor([0.9977])\n",
            "0.9977027773857117\n",
            "torch.float32\n"
          ]
        }
      ]
    },
    {
      "cell_type": "markdown",
      "source": [
        "squeeze : 차원을 축소(제거)"
      ],
      "metadata": {
        "id": "2spXR7PS1x8h"
      }
    },
    {
      "cell_type": "code",
      "source": [
        "tensor = torch.randn(1,3,3)\n",
        "print(tensor)\n",
        "print(tensor.shape)"
      ],
      "metadata": {
        "colab": {
          "base_uri": "https://localhost:8080/"
        },
        "id": "9nEdIFuW1wUn",
        "outputId": "beccc02b-0897-43af-f077-b8ec29664ea9"
      },
      "execution_count": null,
      "outputs": [
        {
          "output_type": "stream",
          "name": "stdout",
          "text": [
            "tensor([[[ 0.3311,  0.2357, -0.7422],\n",
            "         [-0.4071,  0.0091,  0.5020],\n",
            "         [ 0.3928, -0.2788,  1.2758]]])\n",
            "torch.Size([1, 3, 3])\n"
          ]
        }
      ]
    },
    {
      "cell_type": "code",
      "source": [
        "t = tensor.squeeze()\n",
        "print(t)\n",
        "print(t.shape)"
      ],
      "metadata": {
        "colab": {
          "base_uri": "https://localhost:8080/"
        },
        "id": "DjhAx3IL2Dwi",
        "outputId": "22e116e4-6076-44e5-ad81-58d6e2046292"
      },
      "execution_count": null,
      "outputs": [
        {
          "output_type": "stream",
          "name": "stdout",
          "text": [
            "tensor([[ 0.3311,  0.2357, -0.7422],\n",
            "        [-0.4071,  0.0091,  0.5020],\n",
            "        [ 0.3928, -0.2788,  1.2758]])\n",
            "torch.Size([3, 3])\n"
          ]
        }
      ]
    },
    {
      "cell_type": "code",
      "source": [
        "t = torch.rand(3,3)\n",
        "print(t)\n",
        "print(t.shape)"
      ],
      "metadata": {
        "colab": {
          "base_uri": "https://localhost:8080/"
        },
        "id": "R6ZliZ5E2J5F",
        "outputId": "290ed7db-a6e6-431c-e5d5-8004f3925b3d"
      },
      "execution_count": null,
      "outputs": [
        {
          "output_type": "stream",
          "name": "stdout",
          "text": [
            "tensor([[0.3032, 0.0118, 0.9581],\n",
            "        [0.0024, 0.0739, 0.5444],\n",
            "        [0.6083, 0.8624, 0.0995]])\n",
            "torch.Size([3, 3])\n"
          ]
        }
      ]
    },
    {
      "cell_type": "markdown",
      "source": [
        "unsqueeze : 차원을 증가(생성)"
      ],
      "metadata": {
        "id": "0YigcRaP2K4J"
      }
    },
    {
      "cell_type": "code",
      "source": [
        "tensor = t.unsqueeze(dim = 0)\n",
        "print(tensor)\n",
        "print(tensor.shape)\n",
        "\n",
        "# dim을 주면 의도한 차원의 값이 하나 더 늘어남"
      ],
      "metadata": {
        "colab": {
          "base_uri": "https://localhost:8080/"
        },
        "id": "lWowWdEB2bG6",
        "outputId": "e8005891-7f63-4e76-d554-f4a2b5184066"
      },
      "execution_count": null,
      "outputs": [
        {
          "output_type": "stream",
          "name": "stdout",
          "text": [
            "tensor([[[0.3032, 0.0118, 0.9581],\n",
            "         [0.0024, 0.0739, 0.5444],\n",
            "         [0.6083, 0.8624, 0.0995]]])\n",
            "torch.Size([1, 3, 3])\n"
          ]
        }
      ]
    },
    {
      "cell_type": "code",
      "source": [
        "tensor = tensor.unsqueeze(dim = 2)\n",
        "print(tensor)\n",
        "print(tensor.shape)\n",
        "\n",
        "# dim을 주면 의도한 차원의 값이 하나 더 늘어남"
      ],
      "metadata": {
        "colab": {
          "base_uri": "https://localhost:8080/"
        },
        "id": "M3zOUzVX2Sp3",
        "outputId": "7a03e66e-c0bf-4a2a-e77f-3b43cc79db50"
      },
      "execution_count": null,
      "outputs": [
        {
          "output_type": "stream",
          "name": "stdout",
          "text": [
            "tensor([[[[0.3032, 0.0118, 0.9581]],\n",
            "\n",
            "         [[0.0024, 0.0739, 0.5444]],\n",
            "\n",
            "         [[0.6083, 0.8624, 0.0995]]]])\n",
            "torch.Size([1, 3, 1, 3])\n"
          ]
        }
      ]
    },
    {
      "cell_type": "markdown",
      "source": [
        "stack : 텐서간 결합"
      ],
      "metadata": {
        "id": "D_52Dg2n2xp5"
      }
    },
    {
      "cell_type": "code",
      "source": [
        "x = torch.FloatTensor([1,4])\n",
        "print(x)\n",
        "y = torch.FloatTensor([2,5])\n",
        "print(y)\n",
        "z = torch.FloatTensor([3,6])\n",
        "print(z)\n",
        "print(torch.stack([x,y,z]))\n",
        "\n",
        "# stack을 써서 하나로 합쳐짐"
      ],
      "metadata": {
        "colab": {
          "base_uri": "https://localhost:8080/"
        },
        "id": "F9GPLmYB2YSm",
        "outputId": "cafb28fb-3dc4-41a6-90a3-ee488a2cb819"
      },
      "execution_count": null,
      "outputs": [
        {
          "output_type": "stream",
          "name": "stdout",
          "text": [
            "tensor([1., 4.])\n",
            "tensor([2., 5.])\n",
            "tensor([3., 6.])\n",
            "tensor([[1., 4.],\n",
            "        [2., 5.],\n",
            "        [3., 6.]])\n"
          ]
        }
      ]
    },
    {
      "cell_type": "markdown",
      "source": [
        "cat: 텐서를 결합하는 메소드(concatenate)\n",
        "- 넘파이의 stack 과 유사하지만 쌓을 dim이 존재함\n",
        "- 해당 차원을 늘려준 후 결합"
      ],
      "metadata": {
        "id": "1G8u-SIu3XFB"
      }
    },
    {
      "cell_type": "code",
      "source": [
        "a = torch.randn(1,3,3)\n",
        "print(a)\n",
        "b = torch.randn(1,3,3)\n",
        "print(b)\n",
        "print()\n",
        "\n",
        "c = torch.cat((a,b), dim=0)\n",
        "print(c)\n",
        "print(c.size())\n",
        "\n",
        "\n",
        "\n",
        "# 1,3,3\n",
        "# 1,3,3\n",
        "# dim=0을 줘서 (1,1) 0번째를 기준으로"
      ],
      "metadata": {
        "colab": {
          "base_uri": "https://localhost:8080/"
        },
        "id": "-X9BKGgV3Hda",
        "outputId": "7d409fa0-59d5-4dc1-ff97-5c8babe3e40f"
      },
      "execution_count": null,
      "outputs": [
        {
          "output_type": "stream",
          "name": "stdout",
          "text": [
            "tensor([[[-0.6515,  1.2652, -0.1852],\n",
            "         [-0.6343, -0.3262, -1.5402],\n",
            "         [ 0.5899,  2.0249, -0.8032]]])\n",
            "tensor([[[-0.9081,  2.3630,  0.0733],\n",
            "         [-1.0749,  0.2184, -2.3413],\n",
            "         [-0.5024,  0.3610, -0.0797]]])\n",
            "\n",
            "tensor([[[-0.6515,  1.2652, -0.1852],\n",
            "         [-0.6343, -0.3262, -1.5402],\n",
            "         [ 0.5899,  2.0249, -0.8032]],\n",
            "\n",
            "        [[-0.9081,  2.3630,  0.0733],\n",
            "         [-1.0749,  0.2184, -2.3413],\n",
            "         [-0.5024,  0.3610, -0.0797]]])\n",
            "torch.Size([2, 3, 3])\n"
          ]
        }
      ]
    },
    {
      "cell_type": "code",
      "source": [
        "c = torch.cat((a,b), dim=1)\n",
        "print(c)\n",
        "print(c.size())\n",
        "\n",
        "\n",
        "# 안으로 다 합쳐짐\n",
        "# dim=1로 해서 행이 6행이 됨\n",
        "# dim을 어떻게 주냐에 따라 달라짐\n",
        "\n",
        "\n",
        "\n",
        "# 1,3,3\n",
        "# 1,3,3\n",
        "# dim=1을 줘서 (3,3) 1번째를 기준으로"
      ],
      "metadata": {
        "colab": {
          "base_uri": "https://localhost:8080/"
        },
        "id": "1jFkbdzx3xjJ",
        "outputId": "a9db86e0-949a-4cf8-be3e-f88f2fc8c72d"
      },
      "execution_count": null,
      "outputs": [
        {
          "output_type": "stream",
          "name": "stdout",
          "text": [
            "tensor([[[-0.6515,  1.2652, -0.1852],\n",
            "         [-0.6343, -0.3262, -1.5402],\n",
            "         [ 0.5899,  2.0249, -0.8032],\n",
            "         [-0.9081,  2.3630,  0.0733],\n",
            "         [-1.0749,  0.2184, -2.3413],\n",
            "         [-0.5024,  0.3610, -0.0797]]])\n",
            "torch.Size([1, 6, 3])\n"
          ]
        }
      ]
    },
    {
      "cell_type": "markdown",
      "source": [
        "chunk : 텐서를 여러개로 나눌 때 사용(몇개로 나눌 것인가?)\n",
        "- 열 방향으로 최대 2개를 가짐"
      ],
      "metadata": {
        "id": "BSXKEwa0U2V8"
      }
    },
    {
      "cell_type": "code",
      "source": [
        "tensor = torch.rand(3,6)\n",
        "print(tensor)\n",
        "\n",
        "t1,t2,t3 = torch.chunk(tensor, 3, dim=1)\n",
        "print(t1)\n",
        "print(t2)\n",
        "print(t3)"
      ],
      "metadata": {
        "id": "Alq7qRnD347G",
        "colab": {
          "base_uri": "https://localhost:8080/"
        },
        "outputId": "b11be1cd-c25e-4580-8035-36d2763cb93a"
      },
      "execution_count": null,
      "outputs": [
        {
          "output_type": "stream",
          "name": "stdout",
          "text": [
            "tensor([[0.5327, 0.5940, 0.5142, 0.2483, 0.2170, 0.4390],\n",
            "        [0.6172, 0.8344, 0.8882, 0.3892, 0.5088, 0.1790],\n",
            "        [0.7885, 0.7034, 0.1493, 0.9865, 0.5361, 0.3277]])\n",
            "tensor([[0.5327, 0.5940],\n",
            "        [0.6172, 0.8344],\n",
            "        [0.7885, 0.7034]])\n",
            "tensor([[0.5142, 0.2483],\n",
            "        [0.8882, 0.3892],\n",
            "        [0.1493, 0.9865]])\n",
            "tensor([[0.2170, 0.4390],\n",
            "        [0.5088, 0.1790],\n",
            "        [0.5361, 0.3277]])\n"
          ]
        }
      ]
    },
    {
      "cell_type": "markdown",
      "source": [
        "split : chunk와 동일한 기능이지만 조금 다름(텐서의 크기는 몇인가?)"
      ],
      "metadata": {
        "id": "cupC4U5wVRbV"
      }
    },
    {
      "cell_type": "code",
      "source": [
        "tensor = torch.rand(3,6)\n",
        "print(tensor)\n",
        "\n",
        "t1,t2,t3 = torch.split(tensor, 2, dim=1)\n",
        "print(t1)\n",
        "print(t2)\n",
        "print(t3)"
      ],
      "metadata": {
        "colab": {
          "base_uri": "https://localhost:8080/"
        },
        "id": "s3UDg0H2VL2F",
        "outputId": "8d580f52-d760-4a2e-9ac8-0e01edc9dd55"
      },
      "execution_count": null,
      "outputs": [
        {
          "output_type": "stream",
          "name": "stdout",
          "text": [
            "tensor([[0.3167, 0.6892, 0.8769, 0.5045, 0.5385, 0.0016],\n",
            "        [0.2013, 0.6314, 0.3877, 0.7932, 0.1027, 0.5979],\n",
            "        [0.6254, 0.6698, 0.3798, 0.0630, 0.7205, 0.0028]])\n",
            "tensor([[0.3167, 0.6892],\n",
            "        [0.2013, 0.6314],\n",
            "        [0.6254, 0.6698]])\n",
            "tensor([[0.8769, 0.5045],\n",
            "        [0.3877, 0.7932],\n",
            "        [0.3798, 0.0630]])\n",
            "tensor([[0.5385, 0.0016],\n",
            "        [0.1027, 0.5979],\n",
            "        [0.7205, 0.0028]])\n"
          ]
        }
      ]
    },
    {
      "cell_type": "markdown",
      "source": [
        "torch ↔ numpy\n",
        "- Torch Tensor(텐서)를 NumPy array(배열)로 변환 가능\n",
        "  - Numpy()\n",
        "  - from_numpy()\n",
        "- Tensor가 CPU상에 있다면 Numpy 배열은 메모리 공간을 공유 하므로 하나가 변하면, 다른 하나도 변함"
      ],
      "metadata": {
        "id": "72nrRh-KWbVa"
      }
    },
    {
      "cell_type": "code",
      "source": [
        "import torch\n",
        "device = torch.device('cuda' if torch.cuda.is_available() else 'cpu')\n",
        "print(device)"
      ],
      "metadata": {
        "colab": {
          "base_uri": "https://localhost:8080/"
        },
        "id": "4aZGd3pGVoo2",
        "outputId": "c86fd84c-8934-41cf-8aa2-9f597fd397ac"
      },
      "execution_count": null,
      "outputs": [
        {
          "output_type": "stream",
          "name": "stdout",
          "text": [
            "cuda\n"
          ]
        }
      ]
    },
    {
      "cell_type": "code",
      "source": [
        "a = torch.ones(7)\n",
        "print(a)"
      ],
      "metadata": {
        "colab": {
          "base_uri": "https://localhost:8080/"
        },
        "id": "Jf2VHsL3XIXe",
        "outputId": "fcea0246-4d0a-4d06-e0eb-7af4e09ebafb"
      },
      "execution_count": null,
      "outputs": [
        {
          "output_type": "stream",
          "name": "stdout",
          "text": [
            "tensor([1., 1., 1., 1., 1., 1., 1.])\n"
          ]
        }
      ]
    },
    {
      "cell_type": "code",
      "source": [
        "print(a.to('cpu', torch.double))  \n",
        "print(type(a))\n",
        "\n",
        "# GPU: 게임 개발(단순작업, 많은 것을 할 때 유리, 영상, 이미지)\n",
        "# CPU: 복잡한 것을 할 때 유리(창의적인것은 유리하지만 반복은 불리함)"
      ],
      "metadata": {
        "colab": {
          "base_uri": "https://localhost:8080/"
        },
        "id": "ZODZ-u4EXLUt",
        "outputId": "f92c8497-cac1-42ac-e1a8-fcdeadc1e3b4"
      },
      "execution_count": null,
      "outputs": [
        {
          "output_type": "stream",
          "name": "stdout",
          "text": [
            "tensor([1., 1., 1., 1., 1., 1., 1.], dtype=torch.float64)\n",
            "<class 'torch.Tensor'>\n"
          ]
        }
      ]
    },
    {
      "cell_type": "code",
      "source": [
        "b = a.numpy()\n",
        "print(b)\n",
        "print(type(b))\n",
        "\n",
        "# a를 numpy를 써서 배열로 변환 b로 저장 "
      ],
      "metadata": {
        "colab": {
          "base_uri": "https://localhost:8080/"
        },
        "id": "uoS5TSe2XQpE",
        "outputId": "3f63c19a-9876-4ad4-a8dc-8878f5296814"
      },
      "execution_count": null,
      "outputs": [
        {
          "output_type": "stream",
          "name": "stdout",
          "text": [
            "[1. 1. 1. 1. 1. 1. 1.]\n",
            "<class 'numpy.ndarray'>\n"
          ]
        }
      ]
    },
    {
      "cell_type": "code",
      "source": [
        "a.add_(1) # a값에 1을 더해줌\n",
        "print(a)\n",
        "print(type(a))\n",
        "print(b)\n",
        "print(type(b))\n",
        "\n",
        "# 1에다 1을 더해서 =2, torch.tensor\n",
        "# b는 numpy"
      ],
      "metadata": {
        "colab": {
          "base_uri": "https://localhost:8080/"
        },
        "id": "NG28WcTIXYEA",
        "outputId": "1fd12b2c-14fb-47bc-e72d-53f64c02cf42"
      },
      "execution_count": null,
      "outputs": [
        {
          "output_type": "stream",
          "name": "stdout",
          "text": [
            "tensor([2., 2., 2., 2., 2., 2., 2.])\n",
            "<class 'torch.Tensor'>\n",
            "[2. 2. 2. 2. 2. 2. 2.]\n",
            "<class 'numpy.ndarray'>\n"
          ]
        }
      ]
    },
    {
      "cell_type": "code",
      "source": [
        "import numpy as np\n",
        "\n",
        "a = np.ones(7)\n",
        "b = torch.from_numpy(a)\n",
        "np.add(a, 1, out=a)  # a에 1을 더해서 a를 출력\n",
        "print(a)\n",
        "print(b)  #cpu에서 메모리 공유"
      ],
      "metadata": {
        "colab": {
          "base_uri": "https://localhost:8080/"
        },
        "id": "JUINtpfUYGu4",
        "outputId": "4d42e1cb-b6c3-4905-8ef2-5ba635c4a5ab"
      },
      "execution_count": null,
      "outputs": [
        {
          "output_type": "stream",
          "name": "stdout",
          "text": [
            "[2. 2. 2. 2. 2. 2. 2.]\n",
            "tensor([2., 2., 2., 2., 2., 2., 2.], dtype=torch.float64)\n"
          ]
        }
      ]
    },
    {
      "cell_type": "code",
      "source": [
        "b = b.numpy()\n",
        "np.add(b,2,out=b)"
      ],
      "metadata": {
        "colab": {
          "base_uri": "https://localhost:8080/"
        },
        "id": "DJy_QRKzYhTp",
        "outputId": "dad18a39-9824-4e48-9524-76636e0d9194"
      },
      "execution_count": null,
      "outputs": [
        {
          "output_type": "execute_result",
          "data": {
            "text/plain": [
              "array([4., 4., 4., 4., 4., 4., 4.])"
            ]
          },
          "metadata": {},
          "execution_count": 127
        }
      ]
    },
    {
      "cell_type": "markdown",
      "source": [
        "역전파 / 경사하강법\n",
        "- \n",
        "https://velog.io/@ssulee0206/%EC%97%AD%EC%A0%84%ED%8C%8C-%EA%B2%BD%EC%82%AC%ED%95%98%EA%B0%95%EB%B2%95"
      ],
      "metadata": {
        "id": "jgsbBoR8YoZj"
      }
    },
    {
      "cell_type": "markdown",
      "source": [
        "AutoGrad(자동미분)\n",
        "- torch.autograd 패키지는 Tensor의 모든 연산에 대한 자동미분 제공\n",
        "- 이는 코드를 어떻게 작성하여 실행하느냐에 따라 역전파가 정의된다는 뜻\n",
        "- backprop 를 위해 미분값을 자동으로 계산\n"
      ],
      "metadata": {
        "id": "r4vwvWhQYtx8"
      }
    },
    {
      "cell_type": "markdown",
      "source": [
        "TORCH.AUTOGRAD를 사용한 자동 미분\n",
        "- https://tutorials.pytorch.kr/beginner/basics/autogradqs_tutorial.html\n",
        "- loss값이 너무 크면(만족을 못하면) 역전파"
      ],
      "metadata": {
        "id": "Jb8LwUtPaGdk"
      }
    },
    {
      "cell_type": "markdown",
      "source": [
        "requires_grad 속성을 True로 설정하면, 해당 탠서에서 이루어지는 모든 연산들을 추적하기 시작\n",
        "기록을 추적하는 것은 중단하게 하려면, .detach()를 호출하여 연산기록으로부터 분리"
      ],
      "metadata": {
        "id": "_D425yR2d3QD"
      }
    },
    {
      "cell_type": "code",
      "source": [
        "import torch\n",
        "a = torch.randn(3,3)\n",
        "# ,requiress_grad=True\n",
        "a = a * 3\n",
        "print(a)\n",
        "print(a.requires_grad)"
      ],
      "metadata": {
        "colab": {
          "base_uri": "https://localhost:8080/"
        },
        "id": "KLPA1hxnYnnb",
        "outputId": "f1f3b255-a0b3-4b72-cd0a-002f43bab982"
      },
      "execution_count": null,
      "outputs": [
        {
          "output_type": "stream",
          "name": "stdout",
          "text": [
            "tensor([[-5.9993e+00,  4.7326e-03,  1.1765e+00],\n",
            "        [ 3.8428e-01,  8.5063e-01, -7.4260e-01],\n",
            "        [ 5.0720e+00,  2.2595e+00,  4.9924e-01]])\n",
            "False\n"
          ]
        }
      ]
    },
    {
      "cell_type": "markdown",
      "source": [
        "- requires_grad_(...)는 기존 텐서의 requires_grad 값을 바꿔치기(in-place)하여 변경\n",
        "- grad_fn : 미분값을 계산한 함수에 대한 정보 저장(어떤 함수에 대해서 backprop 했는지)"
      ],
      "metadata": {
        "id": "E5G_5SZueH7z"
      }
    },
    {
      "cell_type": "code",
      "source": [
        "a.requires_grad_(True)  #_를 사용하면 inplace 연산. 바꾼 값으로 계산\n",
        "print(a.requires_grad)\n",
        "b = (a*a).sum()\n",
        "print(b)\n",
        "print(b.grad_fn)\n",
        "\n",
        "\n",
        "# 기억한 것을 출력"
      ],
      "metadata": {
        "colab": {
          "base_uri": "https://localhost:8080/"
        },
        "id": "_eYsoczZeGY_",
        "outputId": "d587e3cd-c64e-4135-bdfb-53a98c7c2370"
      },
      "execution_count": null,
      "outputs": [
        {
          "output_type": "stream",
          "name": "stdout",
          "text": [
            "True\n",
            "tensor(69.8791, grad_fn=<SumBackward0>)\n",
            "<SumBackward0 object at 0x7f804aab59a0>\n"
          ]
        }
      ]
    },
    {
      "cell_type": "markdown",
      "source": [
        "# 기울기 (Gradient)"
      ],
      "metadata": {
        "id": "soFzV0iheujE"
      }
    },
    {
      "cell_type": "code",
      "source": [
        "x = torch.ones(3,3, requires_grad=True)\n",
        "print(x)"
      ],
      "metadata": {
        "colab": {
          "base_uri": "https://localhost:8080/"
        },
        "id": "fGAjNF7Bet9I",
        "outputId": "9af97049-502c-4b27-9908-a58b6da4c7a3"
      },
      "execution_count": null,
      "outputs": [
        {
          "output_type": "stream",
          "name": "stdout",
          "text": [
            "tensor([[1., 1., 1.],\n",
            "        [1., 1., 1.],\n",
            "        [1., 1., 1.]], requires_grad=True)\n"
          ]
        }
      ]
    },
    {
      "cell_type": "code",
      "source": [
        "y = x + 5\n",
        "print(y)"
      ],
      "metadata": {
        "colab": {
          "base_uri": "https://localhost:8080/"
        },
        "id": "mBWBw0mxe37r",
        "outputId": "4195958c-d231-4982-f1c2-a83c19b2c2bc"
      },
      "execution_count": null,
      "outputs": [
        {
          "output_type": "stream",
          "name": "stdout",
          "text": [
            "tensor([[6., 6., 6.],\n",
            "        [6., 6., 6.],\n",
            "        [6., 6., 6.]], grad_fn=<AddBackward0>)\n"
          ]
        }
      ]
    },
    {
      "cell_type": "code",
      "source": [
        "z = y * y\n",
        "out = z.mean()\n",
        "print(z, out)"
      ],
      "metadata": {
        "colab": {
          "base_uri": "https://localhost:8080/"
        },
        "id": "QDHT97VVe6hs",
        "outputId": "5f5a55d8-a965-4aea-8908-272e0099d8d3"
      },
      "execution_count": null,
      "outputs": [
        {
          "output_type": "stream",
          "name": "stdout",
          "text": [
            "tensor([[36., 36., 36.],\n",
            "        [36., 36., 36.],\n",
            "        [36., 36., 36.]], grad_fn=<MulBackward0>) tensor(36., grad_fn=<MeanBackward0>)\n"
          ]
        }
      ]
    },
    {
      "cell_type": "code",
      "source": [
        "print(x + 3)\n",
        "print(y * 1)\n",
        "y.mean()\n",
        "z"
      ],
      "metadata": {
        "colab": {
          "base_uri": "https://localhost:8080/"
        },
        "id": "zXdmKWmafKrr",
        "outputId": "f7dcde8a-82bf-4dfd-b9fb-7970c1d9c648"
      },
      "execution_count": null,
      "outputs": [
        {
          "output_type": "stream",
          "name": "stdout",
          "text": [
            "tensor([[4., 4., 4.],\n",
            "        [4., 4., 4.],\n",
            "        [4., 4., 4.]], grad_fn=<AddBackward0>)\n",
            "tensor([[6., 6., 6.],\n",
            "        [6., 6., 6.],\n",
            "        [6., 6., 6.]], grad_fn=<MulBackward0>)\n"
          ]
        },
        {
          "output_type": "execute_result",
          "data": {
            "text/plain": [
              "tensor([[36., 36., 36.],\n",
              "        [36., 36., 36.],\n",
              "        [36., 36., 36.]], grad_fn=<MulBackward0>)"
            ]
          },
          "metadata": {},
          "execution_count": 133
        }
      ]
    },
    {
      "cell_type": "markdown",
      "source": [
        "계산이 완료된 후, .backward()를 호출하면 자동으로 역전파 계산이 가능하고, .grad속성에 누적됨\n",
        "- backward하는 이유 : 손실함수를 만족하지 못해서 개선가능하지 않을 때 까지 실행 가능"
      ],
      "metadata": {
        "id": "5RH58qB4e_Zr"
      }
    },
    {
      "cell_type": "code",
      "source": [
        "print(out)\n",
        "out.backward()  #backward를 통해서 역전파 계산이 가능"
      ],
      "metadata": {
        "colab": {
          "base_uri": "https://localhost:8080/"
        },
        "id": "9qle8RXze-gE",
        "outputId": "2cde4789-10b4-4172-aeea-5cab110d05b3"
      },
      "execution_count": null,
      "outputs": [
        {
          "output_type": "stream",
          "name": "stdout",
          "text": [
            "tensor(36., grad_fn=<MeanBackward0>)\n"
          ]
        }
      ]
    },
    {
      "cell_type": "markdown",
      "source": [
        "grad : data가 거쳐온 layer에 대한 미분값 저장"
      ],
      "metadata": {
        "id": "1uXVnDCFgC5k"
      }
    },
    {
      "cell_type": "code",
      "source": [
        "print(x)\n",
        "print(x.grad)  #미분값"
      ],
      "metadata": {
        "colab": {
          "base_uri": "https://localhost:8080/"
        },
        "id": "BBuSFlD1f9rV",
        "outputId": "5b8a7ab8-9cc5-48d3-a955-6ee9228eaa63"
      },
      "execution_count": null,
      "outputs": [
        {
          "output_type": "stream",
          "name": "stdout",
          "text": [
            "tensor([[1., 1., 1.],\n",
            "        [1., 1., 1.],\n",
            "        [1., 1., 1.]], requires_grad=True)\n",
            "tensor([[1.3333, 1.3333, 1.3333],\n",
            "        [1.3333, 1.3333, 1.3333],\n",
            "        [1.3333, 1.3333, 1.3333]])\n"
          ]
        }
      ]
    },
    {
      "cell_type": "code",
      "source": [
        "x = torch.randn(3, requires_grad=True)\n",
        "y = x *2\n",
        "while y.data.norm() < 1000:\n",
        "  y = y * 2\n",
        "print(y)"
      ],
      "metadata": {
        "colab": {
          "base_uri": "https://localhost:8080/"
        },
        "id": "I2n3HniPgLhD",
        "outputId": "bb324b20-7e24-4f48-ff13-58e501e02a45"
      },
      "execution_count": null,
      "outputs": [
        {
          "output_type": "stream",
          "name": "stdout",
          "text": [
            "tensor([ 170.4538, -531.4327,  861.4753], grad_fn=<MulBackward0>)\n"
          ]
        }
      ]
    },
    {
      "cell_type": "code",
      "source": [
        "# v 기준으로 backward 계산\n",
        "v = torch.tensor([0.1, 1.0, 0.0001], dtype=torch.float)\n",
        "y.backward(v)\n",
        "print(x.grad)\n",
        "\n",
        "# x의 미분값을 구하는 (역전파)"
      ],
      "metadata": {
        "colab": {
          "base_uri": "https://localhost:8080/"
        },
        "id": "c4uAZhQ2gVsf",
        "outputId": "99199ff0-9ecf-4401-f9de-a4dfec290734"
      },
      "execution_count": null,
      "outputs": [
        {
          "output_type": "stream",
          "name": "stdout",
          "text": [
            "tensor([5.1200e+01, 5.1200e+02, 5.1200e-02])\n"
          ]
        }
      ]
    },
    {
      "cell_type": "code",
      "source": [
        "v\n",
        "# v를 기준으로 역전파\n",
        "# 인위적으로 만들어서 해본 것임"
      ],
      "metadata": {
        "colab": {
          "base_uri": "https://localhost:8080/"
        },
        "id": "ZZPpKl1ihTol",
        "outputId": "2fc9a687-1791-4fa5-df31-2ebef2ce7d06"
      },
      "execution_count": null,
      "outputs": [
        {
          "output_type": "execute_result",
          "data": {
            "text/plain": [
              "tensor([1.0000e-01, 1.0000e+00, 1.0000e-04])"
            ]
          },
          "metadata": {},
          "execution_count": 138
        }
      ]
    },
    {
      "cell_type": "markdown",
      "source": [
        "with torch.no_grad()를 사용하여 기울기의 업데이트를 하지 않음\n",
        "\n",
        "기록을 추적하는 것을 방지하기 위해 코드 블럭을 with torch.no_grad()로 감싸면 기울기 계산은 필요 없지만, require_grad=True로 설정되어 학습 가능한 매개변수를 갖는 모델을 평가(evaluate)할 때 유용\n",
        "\n",
        "-평가를 할때는 학습데이터로 기울기를 업데이트 하면 안됨\n",
        "- 업데이트 되지 않기 위해 with torch.no_grad()로 감싸면 업데이트가 안됨"
      ],
      "metadata": {
        "id": "ltjthGLMgatb"
      }
    },
    {
      "cell_type": "code",
      "source": [
        "print(x.requires_grad)\n",
        "print((x**2).requires_grad)\n",
        "\n",
        "with torch.no_grad():\n",
        "  print((x **2).requires_grad)"
      ],
      "metadata": {
        "colab": {
          "base_uri": "https://localhost:8080/"
        },
        "id": "6Jc5ecerg0gj",
        "outputId": "019518e8-9ac2-4e32-9d9a-9b4479d5f83c"
      },
      "execution_count": null,
      "outputs": [
        {
          "output_type": "stream",
          "name": "stdout",
          "text": [
            "True\n",
            "True\n",
            "False\n"
          ]
        }
      ]
    },
    {
      "cell_type": "markdown",
      "source": [
        "detach(): 내용물(content)은 같지만 require_grad가 다른 새로운 Tensor를 가져올 때"
      ],
      "metadata": {
        "id": "GR7FnVigiKo0"
      }
    },
    {
      "cell_type": "code",
      "source": [
        "print(x.requires_grad)\n",
        "y = x.detach()   #끊어줌\n",
        "print(y.requires_grad)\n",
        "print(x)\n",
        "print(y)\n",
        "#print(x.eq(y).all())\n",
        "\n",
        "# x는 출력이 되지만 y는 안나옴"
      ],
      "metadata": {
        "colab": {
          "base_uri": "https://localhost:8080/"
        },
        "id": "jyG6JSxtiJON",
        "outputId": "494cccc0-a11d-4b2e-9bae-a622d007b9de"
      },
      "execution_count": null,
      "outputs": [
        {
          "output_type": "stream",
          "name": "stdout",
          "text": [
            "True\n",
            "False\n",
            "tensor([ 0.3329, -1.0380,  1.6826], requires_grad=True)\n",
            "tensor([ 0.3329, -1.0380,  1.6826])\n"
          ]
        }
      ]
    },
    {
      "cell_type": "markdown",
      "source": [
        "### 자동 미분 흐름 예제\n",
        "\n",
        "- 계산 흐름 $a \\rightarrow b  \\rightarrow c  \\rightarrow out $\n",
        "\n",
        "## $\\quad \\frac{\\partial out}{\\partial a} = ?$\n",
        "- `backward()`를 통해 $a \\leftarrow b  \\leftarrow c  \\leftarrow out $을 계산하면 $\\frac{\\partial out}{\\partial a}$값이 `a.grad`에 채워짐\n",
        "\n",
        "\n",
        "- backwar를 통해 미분값이 a.grad에 채워짐\n",
        "- out에는 없음 a에 채워짐"
      ],
      "metadata": {
        "id": "TcVvib_Ci2QM"
      }
    },
    {
      "cell_type": "code",
      "source": [
        "a = torch.ones(2,2)\n",
        "print(a)"
      ],
      "metadata": {
        "colab": {
          "base_uri": "https://localhost:8080/"
        },
        "id": "c1hq88CLifWr",
        "outputId": "781ba872-291c-4b63-91ba-362948b5b10e"
      },
      "execution_count": null,
      "outputs": [
        {
          "output_type": "stream",
          "name": "stdout",
          "text": [
            "tensor([[1., 1.],\n",
            "        [1., 1.]])\n"
          ]
        }
      ]
    },
    {
      "cell_type": "code",
      "source": [
        "a = torch.ones(2,2, requires_grad=True)\n",
        "print(a)"
      ],
      "metadata": {
        "colab": {
          "base_uri": "https://localhost:8080/"
        },
        "id": "moj3DjZhjKFR",
        "outputId": "deff2f7b-6eec-49d1-c614-81d42b611844"
      },
      "execution_count": null,
      "outputs": [
        {
          "output_type": "stream",
          "name": "stdout",
          "text": [
            "tensor([[1., 1.],\n",
            "        [1., 1.]], requires_grad=True)\n"
          ]
        }
      ]
    },
    {
      "cell_type": "code",
      "source": [
        "print(a.data)\n",
        "print(a.grad)\n",
        "print(a.grad_fn)\n",
        "\n",
        "# 계산 한 것이 아무것도 없어서 None으로 나옴\n",
        "# a.grad는 있음"
      ],
      "metadata": {
        "colab": {
          "base_uri": "https://localhost:8080/"
        },
        "id": "fhShFoVKjOlF",
        "outputId": "a9cec687-ed23-4fcb-c84b-8df21639e2fa"
      },
      "execution_count": null,
      "outputs": [
        {
          "output_type": "stream",
          "name": "stdout",
          "text": [
            "tensor([[1., 1.],\n",
            "        [1., 1.]])\n",
            "None\n",
            "None\n"
          ]
        }
      ]
    },
    {
      "cell_type": "markdown",
      "source": [
        "### b = a + 2"
      ],
      "metadata": {
        "id": "zmBfv2uBjZJ0"
      }
    },
    {
      "cell_type": "code",
      "source": [
        "b = a + 2\n",
        "print(b)\n"
      ],
      "metadata": {
        "colab": {
          "base_uri": "https://localhost:8080/"
        },
        "id": "0XBxbqPYjTGO",
        "outputId": "cfeff4f9-1959-42de-a4d1-b81fd9543dfd"
      },
      "execution_count": null,
      "outputs": [
        {
          "output_type": "stream",
          "name": "stdout",
          "text": [
            "tensor([[3., 3.],\n",
            "        [3., 3.]], grad_fn=<AddBackward0>)\n"
          ]
        }
      ]
    },
    {
      "cell_type": "markdown",
      "source": [
        "### c = b**2"
      ],
      "metadata": {
        "id": "scJUdPsnjec8"
      }
    },
    {
      "cell_type": "code",
      "source": [
        "c = b**2\n",
        "c"
      ],
      "metadata": {
        "colab": {
          "base_uri": "https://localhost:8080/"
        },
        "id": "hY7ckOSQjvpd",
        "outputId": "f8cba0a4-0f59-410e-c58d-bf09a09d9011"
      },
      "execution_count": null,
      "outputs": [
        {
          "output_type": "execute_result",
          "data": {
            "text/plain": [
              "tensor([[9., 9.],\n",
              "        [9., 9.]], grad_fn=<PowBackward0>)"
            ]
          },
          "metadata": {},
          "execution_count": 145
        }
      ]
    },
    {
      "cell_type": "code",
      "source": [
        "out = c.sum()\n",
        "out"
      ],
      "metadata": {
        "colab": {
          "base_uri": "https://localhost:8080/"
        },
        "id": "aX9tsm-ckAaC",
        "outputId": "96aeb7e1-9eb0-4c2f-d3c6-49e6cdfcd506"
      },
      "execution_count": null,
      "outputs": [
        {
          "output_type": "execute_result",
          "data": {
            "text/plain": [
              "tensor(36., grad_fn=<SumBackward0>)"
            ]
          },
          "metadata": {},
          "execution_count": 146
        }
      ]
    },
    {
      "cell_type": "code",
      "source": [
        "print(out)\n",
        "out.backward()   #미분값이 a.grad에 채워진거일뿐 따로 backward를 해야함"
      ],
      "metadata": {
        "colab": {
          "base_uri": "https://localhost:8080/"
        },
        "id": "jrPBMjQykEdj",
        "outputId": "b32f1f4b-84c0-4b58-ae50-325cdc63a539"
      },
      "execution_count": null,
      "outputs": [
        {
          "output_type": "stream",
          "name": "stdout",
          "text": [
            "tensor(36., grad_fn=<SumBackward0>)\n"
          ]
        }
      ]
    },
    {
      "cell_type": "markdown",
      "source": [
        "a의 grad_fn이 None인 이유는 직접적으로 계산한 부분이 없었기 때문"
      ],
      "metadata": {
        "id": "P0qeLP4hjwT8"
      }
    },
    {
      "cell_type": "code",
      "source": [
        "print(a.data)\n",
        "print(a.grad)\n",
        "print(a.grad_fn)\n",
        "\n",
        "# out.backward()를 한 후 보면 a.grad가 채워져있는 것을 볼 수 있음"
      ],
      "metadata": {
        "colab": {
          "base_uri": "https://localhost:8080/"
        },
        "id": "HZimZTqqj3Dq",
        "outputId": "e04c7502-d580-48a2-b057-c2d99fb9efaf"
      },
      "execution_count": null,
      "outputs": [
        {
          "output_type": "stream",
          "name": "stdout",
          "text": [
            "tensor([[1., 1.],\n",
            "        [1., 1.]])\n",
            "tensor([[6., 6.],\n",
            "        [6., 6.]])\n",
            "None\n"
          ]
        }
      ]
    },
    {
      "cell_type": "code",
      "source": [
        "print(b.data)\n",
        "print(b.grad)\n",
        "print(b.grad_fn)"
      ],
      "metadata": {
        "colab": {
          "base_uri": "https://localhost:8080/"
        },
        "id": "NxedMoAkkPVR",
        "outputId": "ab9648f2-22e2-4d17-ae09-a68f99dafbe2"
      },
      "execution_count": null,
      "outputs": [
        {
          "output_type": "stream",
          "name": "stdout",
          "text": [
            "tensor([[3., 3.],\n",
            "        [3., 3.]])\n",
            "None\n",
            "<AddBackward0 object at 0x7f806659df10>\n"
          ]
        },
        {
          "output_type": "stream",
          "name": "stderr",
          "text": [
            "<ipython-input-149-7222c1aec66c>:2: UserWarning: The .grad attribute of a Tensor that is not a leaf Tensor is being accessed. Its .grad attribute won't be populated during autograd.backward(). If you indeed want the .grad field to be populated for a non-leaf Tensor, use .retain_grad() on the non-leaf Tensor. If you access the non-leaf Tensor by mistake, make sure you access the leaf Tensor instead. See github.com/pytorch/pytorch/pull/30531 for more informations. (Triggered internally at aten/src/ATen/core/TensorBody.h:480.)\n",
            "  print(b.grad)\n"
          ]
        }
      ]
    },
    {
      "cell_type": "code",
      "source": [
        "print(c.data)\n",
        "print(c.grad)\n",
        "print(c.grad_fn)"
      ],
      "metadata": {
        "colab": {
          "base_uri": "https://localhost:8080/"
        },
        "id": "5moMv9E7kXES",
        "outputId": "68cfbeaa-b144-44e4-9855-4e135cd3a89b"
      },
      "execution_count": null,
      "outputs": [
        {
          "output_type": "stream",
          "name": "stdout",
          "text": [
            "tensor([[9., 9.],\n",
            "        [9., 9.]])\n",
            "None\n",
            "<PowBackward0 object at 0x7f804bc56d00>\n"
          ]
        },
        {
          "output_type": "stream",
          "name": "stderr",
          "text": [
            "<ipython-input-150-f6ca42a4f63f>:2: UserWarning: The .grad attribute of a Tensor that is not a leaf Tensor is being accessed. Its .grad attribute won't be populated during autograd.backward(). If you indeed want the .grad field to be populated for a non-leaf Tensor, use .retain_grad() on the non-leaf Tensor. If you access the non-leaf Tensor by mistake, make sure you access the leaf Tensor instead. See github.com/pytorch/pytorch/pull/30531 for more informations. (Triggered internally at aten/src/ATen/core/TensorBody.h:480.)\n",
            "  print(c.grad)\n"
          ]
        }
      ]
    },
    {
      "cell_type": "markdown",
      "source": [
        "### Fashion MNIST분류모델"
      ],
      "metadata": {
        "id": "5CzThdaLq8UM"
      }
    },
    {
      "cell_type": "code",
      "source": [
        "import torch\n",
        "device = torch.device('cuda' if torch.cuda.is_available() else 'cpu')\n",
        "device"
      ],
      "metadata": {
        "colab": {
          "base_uri": "https://localhost:8080/"
        },
        "id": "jq1xmOP3kcHB",
        "outputId": "23cd6974-ff96-4e9e-c077-54d671a66687"
      },
      "execution_count": null,
      "outputs": [
        {
          "output_type": "execute_result",
          "data": {
            "text/plain": [
              "device(type='cuda')"
            ]
          },
          "metadata": {},
          "execution_count": 151
        }
      ]
    },
    {
      "cell_type": "markdown",
      "source": [
        "데이터 로드"
      ],
      "metadata": {
        "id": "tGAaJzjqrJVq"
      }
    },
    {
      "cell_type": "code",
      "source": [
        "import torchvision\n",
        "from torch.utils.data import Dataset, DataLoader\n",
        "from torchvision import datasets\n",
        "import torchvision.transforms as transforms\n",
        "\n",
        "transform = transforms.Compose([transforms.ToTensor(),\n",
        "                                transforms.Normalize((0.5,),(0.5,))]) # 평균, 표준편차"
      ],
      "metadata": {
        "id": "cLB48N4crIom"
      },
      "execution_count": null,
      "outputs": []
    },
    {
      "cell_type": "code",
      "source": [
        "trainest = datasets.FashionMNIST(root = '/content/',\n",
        "                                 train=True, download=True,\n",
        "                                 transform=transform)\n",
        "testset = datasets.FashionMNIST(root='/content',\n",
        "                                 train=False, download=True,\n",
        "                                 transform = transform)"
      ],
      "metadata": {
        "id": "7gOTKp4vrsbq"
      },
      "execution_count": null,
      "outputs": []
    },
    {
      "cell_type": "code",
      "source": [
        "!ls"
      ],
      "metadata": {
        "colab": {
          "base_uri": "https://localhost:8080/"
        },
        "id": "XEJbSqpQsJNJ",
        "outputId": "a7f6805f-1e71-44e9-ec28-f0e9045229b3"
      },
      "execution_count": null,
      "outputs": [
        {
          "output_type": "stream",
          "name": "stdout",
          "text": [
            "drive  FashionMNIST  fasion_mnist.pth  sample_data\n"
          ]
        }
      ]
    },
    {
      "cell_type": "code",
      "source": [
        "train_loader = DataLoader(trainest, batch_size=128, shuffle=True, num_workers=2)\n",
        "test_loader = DataLoader(testset, batch_size=128, shuffle=False, num_workers=2)"
      ],
      "metadata": {
        "id": "J2qInIFpsMTU"
      },
      "execution_count": null,
      "outputs": []
    },
    {
      "cell_type": "code",
      "source": [
        "# iter는 반복 가능한 객체에서 이터레이터를 반환하고, next는 이터레이터에서 값을 차례대로 꺼냄\n",
        "images, labels = next(iter(train_loader)) # 데이터의 접근하려면 python의 내장함수 iter와 next을 사용하여 접근\n",
        "images.shape, labels.shape   #꺼내서 이미지, 레이블에 담아줌\n",
        "# 128: batch_size"
      ],
      "metadata": {
        "colab": {
          "base_uri": "https://localhost:8080/"
        },
        "id": "vcon7lgZsb4Z",
        "outputId": "75c4afb5-4897-43f9-a445-474d7b235206"
      },
      "execution_count": null,
      "outputs": [
        {
          "output_type": "execute_result",
          "data": {
            "text/plain": [
              "(torch.Size([128, 1, 28, 28]), torch.Size([128]))"
            ]
          },
          "metadata": {},
          "execution_count": 156
        }
      ]
    },
    {
      "cell_type": "code",
      "source": [
        "import matplotlib.pyplot as plt\n",
        "labels_map = {\n",
        "    0:'T-Shirt',\n",
        "    1:'Trouser',\n",
        "    2:'Pullover',\n",
        "    3:'Dress',\n",
        "    4:'Coat',\n",
        "    5:'Sandal',\n",
        "    6:'Shirt',\n",
        "    7:'Sneaker',\n",
        "    8:'Bag',\n",
        "    9:'Ankle Boot',\n",
        "\n",
        "}\n",
        "figure = plt.figure(figsize=(12,12))\n",
        "cols, rows =4,4\n",
        "for i in range(1, cols * rows +1):\n",
        "  image = images[i].squeeze()\n",
        "  label_idx = labels[i].item()\n",
        "  label = labels_map[label_idx]\n",
        "\n",
        "  figure.add_subplot(rows, cols, i)\n",
        "  plt.title(label)\n",
        "  plt.axis('off')\n",
        "  plt.imshow(image,cmap='gray')\n",
        "plt.show()"
      ],
      "metadata": {
        "colab": {
          "base_uri": "https://localhost:8080/",
          "height": 699
        },
        "id": "dj9Z3hRgtBEh",
        "outputId": "4782c5bd-cfb4-433c-b6bd-7fd9f34aa4c5"
      },
      "execution_count": null,
      "outputs": [
        {
          "output_type": "display_data",
          "data": {
            "text/plain": [
              "<Figure size 864x864 with 16 Axes>"
            ],
            "image/png": "[encoded data removed]"
          },
          "metadata": {
            "needs_background": "light"
          }
        }
      ]
    },
    {
      "cell_type": "markdown",
      "source": [
        "### 모델 정의 및 파라미터"
      ],
      "metadata": {
        "id": "N1_uj37v48_z"
      }
    },
    {
      "cell_type": "markdown",
      "source": [
        "dilation은 kernel의 한 픽셀에서 다른 픽셀까지의 거리를 나타냅니다."
      ],
      "metadata": {
        "id": "Hlb7kxPg5Abq"
      }
    },
    {
      "cell_type": "markdown",
      "source": [
        "Linear\n",
        "- 선형 계층은 저장된 가중치와 편향을 사용하여 입력에 선형 변환을 적용하는 모듈"
      ],
      "metadata": {
        "id": "V-12-Nis5JUR"
      }
    },
    {
      "cell_type": "markdown",
      "source": [
        "nn.ReLU\n",
        "- 비선형 활성화는 모델의 입력과 출력 사이에 복잡한 관계를 만든다. 비선형 변환 후에 적용되어 비선형을 도입하고 신경망이 다양한 현상을 학습할 수 있도록 만든다."
      ],
      "metadata": {
        "id": "W3xyJRPB5JDx"
      }
    },
    {
      "cell_type": "markdown",
      "source": [
        "https://gaussian37.github.io/dl-concept-covolution_operation/#dilation-%EC%9D%B4%EB%9E%80-1"
      ],
      "metadata": {
        "id": "E4iyzdrixfra"
      }
    },
    {
      "cell_type": "markdown",
      "source": [
        "모델 정의 및 파라미터"
      ],
      "metadata": {
        "id": "FPEzHFrtuHhD"
      }
    },
    {
      "cell_type": "code",
      "source": [
        "from torch import nn\n",
        "from torch.nn import functional as f\n",
        "class net(nn.Module):\n",
        "  def __init__(self):\n",
        "    super().__init__()\n",
        "    self.conv2d_32 = nn.Conv2d(1,32,3,padding=1)\n",
        "    self.conv2d_64 = nn.Conv2d(32,64,3,padding=1)\n",
        "    self.max2d = nn.MaxPool2d(2,2)\n",
        "    self.conv2d_128 = nn.Conv2d(64, 128,3,padding=1)\n",
        "    self.conv2d_256 = nn.Conv2d(128, 256, 3,stride=2,padding=1)\n",
        "    self.linear1 = nn.Linear(3*3*256, 256)\n",
        "    self.linear2 = nn.Linear(256, 64)\n",
        "    self.linear3 = nn.Linear(64, 10)\n",
        "    self.batch2d1 = nn.BatchNorm2d(64)   #배치별로 normalize해줌(정규화)하면서 scale이 달라짐\n",
        "    self.batch2d2 = nn.BatchNorm2d(256)  \n",
        "    self.batch1d = nn.BatchNorm1d(64)\n",
        "    self.drop = nn.Dropout(p=0.3)\n",
        "    self.flat = nn.Flatten()\n",
        "\n",
        "  def forward(self,x):\n",
        "    x = x.view(-1,1,28,28)  #차원을 줄여줌 # 1,28,28은 지키고 나머진 -1이 알아서 처리해줌\n",
        "    x = f.relu(self.conv2d_32(x)) #선형변환 -> 비선형변환(relu)\n",
        "    x = f.relu(self.conv2d_64(x))\n",
        "    x = self.batch2d1(x)         #배치별로 normalize해줌\n",
        "    x = f.relu(self.max2d(x))   \n",
        "    x = self.drop(x)\n",
        "\n",
        "    x = f.relu(self.conv2d_128(x))    \n",
        "    x = f.relu(self.conv2d_256(x))          \n",
        "    x = self.drop(x)\n",
        "    x = f.relu(self.max2d(x))\n",
        "    x = self.drop(x)\n",
        "\n",
        "    x = self.flat(x)               #flatten해서 완전연결층 위의 2개는 conv층, 마지막층은 완전연결층\n",
        "    x = f.relu(self.linear1(x))   #선형변환\n",
        "    x = self.drop(x)\n",
        "    x = f.relu(self.linear2(x))\n",
        "    x = self.drop(x)\n",
        "    x = self.batch1d(x)\n",
        "    x = f.log_softmax(self.linear3(x), dim=1)   # return(x)는 softmax => 10개의 확률이 나옴 => 확률이 가장 높은것으로 분류\n",
        "    return(x)\n",
        "    \n",
        "net = net()\n",
        "print(net)"
      ],
      "metadata": {
        "colab": {
          "base_uri": "https://localhost:8080/"
        },
        "id": "KM8EP91vuDnN",
        "outputId": "74aaf692-d0a7-4573-90de-dcb41994b192"
      },
      "execution_count": null,
      "outputs": [
        {
          "output_type": "stream",
          "name": "stdout",
          "text": [
            "net(\n",
            "  (conv2d_32): Conv2d(1, 32, kernel_size=(3, 3), stride=(1, 1), padding=(1, 1))\n",
            "  (conv2d_64): Conv2d(32, 64, kernel_size=(3, 3), stride=(1, 1), padding=(1, 1))\n",
            "  (max2d): MaxPool2d(kernel_size=2, stride=2, padding=0, dilation=1, ceil_mode=False)\n",
            "  (conv2d_128): Conv2d(64, 128, kernel_size=(3, 3), stride=(1, 1), padding=(1, 1))\n",
            "  (conv2d_256): Conv2d(128, 256, kernel_size=(3, 3), stride=(2, 2), padding=(1, 1))\n",
            "  (linear1): Linear(in_features=2304, out_features=256, bias=True)\n",
            "  (linear2): Linear(in_features=256, out_features=64, bias=True)\n",
            "  (linear3): Linear(in_features=64, out_features=10, bias=True)\n",
            "  (batch2d1): BatchNorm2d(64, eps=1e-05, momentum=0.1, affine=True, track_running_stats=True)\n",
            "  (batch2d2): BatchNorm2d(256, eps=1e-05, momentum=0.1, affine=True, track_running_stats=True)\n",
            "  (batch1d): BatchNorm1d(64, eps=1e-05, momentum=0.1, affine=True, track_running_stats=True)\n",
            "  (drop): Dropout(p=0.3, inplace=False)\n",
            "  (flat): Flatten(start_dim=1, end_dim=-1)\n",
            ")\n"
          ]
        }
      ]
    },
    {
      "cell_type": "code",
      "source": [
        "params = list(net.parameters())\n",
        "print(len(params))\n",
        "print(params[0].size())"
      ],
      "metadata": {
        "colab": {
          "base_uri": "https://localhost:8080/"
        },
        "id": "08OSgG7P5r_Z",
        "outputId": "0a847eb2-ba8d-4423-fd54-ac30525f5aa4"
      },
      "execution_count": null,
      "outputs": [
        {
          "output_type": "stream",
          "name": "stdout",
          "text": [
            "20\n",
            "torch.Size([32, 1, 3, 3])\n"
          ]
        }
      ]
    },
    {
      "cell_type": "markdown",
      "source": [
        "https://tutorials.pytorch.kr/beginner/basics/buildmodel_tutorial.html"
      ],
      "metadata": {
        "id": "BiBVJr436Ibp"
      }
    },
    {
      "cell_type": "markdown",
      "source": [
        "### 손실함수와 옵티마이저"
      ],
      "metadata": {
        "id": "4vuWdsQ-51Pa"
      }
    },
    {
      "cell_type": "code",
      "source": [
        "critertion = nn.NLLLoss()\n",
        "optimizer = torch.optim.Adam(net.parameters(), lr=0.008)"
      ],
      "metadata": {
        "id": "VJlDgzIy53ap"
      },
      "execution_count": null,
      "outputs": []
    },
    {
      "cell_type": "markdown",
      "source": [
        "### 모델 학습"
      ],
      "metadata": {
        "id": "YqJmmjBV60xD"
      }
    },
    {
      "cell_type": "markdown",
      "source": [
        "배치수 확인"
      ],
      "metadata": {
        "id": "CPt5AKF662nC"
      }
    },
    {
      "cell_type": "code",
      "source": [
        "total_batch = len(train_loader)\n",
        "print(total_batch)\n",
        "\n",
        "\n",
        "# batchsize 128 /60000"
      ],
      "metadata": {
        "colab": {
          "base_uri": "https://localhost:8080/"
        },
        "id": "zk8AG_HI64vK",
        "outputId": "8ac6599a-b06f-44dd-9e94-54cc4c00ef9d"
      },
      "execution_count": null,
      "outputs": [
        {
          "output_type": "stream",
          "name": "stdout",
          "text": [
            "469\n"
          ]
        }
      ]
    },
    {
      "cell_type": "markdown",
      "source": [
        "### zero_grad()"
      ],
      "metadata": {
        "id": "NystVbnQy5co"
      }
    },
    {
      "cell_type": "markdown",
      "source": [
        "보통 딥러닝에서는 미니배치+루프 조합을 사용해서 parameter들을 업데이트하는데, 한 루프에서 업데이트를 위해 loss.backward()를 호출하면 각 파라미터들의 .grad 값에 변화도가 저장이 된다.\n",
        "\n",
        "이후 다음 루프에서 zero_grad()를 하지않고 역전파를 시키면 이전 루프에서 .grad에 저장된 값이 다음 루프의 업데이트에도 간섭을 해서 원하는 방향으로 학습이 안된다고 한다.\n",
        "\n",
        "따라서 루프가 한번 돌고나서 역전파를 하기전에 반드시 zero_grad()로 .grad 값들을 0으로 초기화시킨 후 학습을 진행해야 한다.\n"
      ],
      "metadata": {
        "id": "0iUsyoxUy0c1"
      }
    },
    {
      "cell_type": "code",
      "source": [
        "for epoch in range(10):\n",
        "  running_loss = 0.0 #초기화\n",
        "  for i, data in enumerate(train_loader,0):\n",
        "    inputs, labels = data\n",
        "    optimizer.zero_grad()\n",
        "    outputs = net(inputs)\n",
        "    loss = critertion(outputs, labels)\n",
        "    loss.backward()\n",
        "    optimizer.step()  \n",
        "\n",
        "    running_loss += loss.item()\n",
        "    if i % 100 ==99:\n",
        "      print('Epoch:{}, iter:{}, Loss:{}'.format(epoch+1, i+1, running_loss/2000))\n",
        "      running_loss = 0.0"
      ],
      "metadata": {
        "colab": {
          "base_uri": "https://localhost:8080/"
        },
        "id": "42RzEw1OydK9",
        "outputId": "26ce8cee-cc39-4ee9-86ed-2a00cba492d9"
      },
      "execution_count": null,
      "outputs": [
        {
          "output_type": "stream",
          "name": "stdout",
          "text": [
            "Epoch:1, iter:100, Loss:0.06396029829978943\n",
            "Epoch:1, iter:200, Loss:0.035500651001930235\n",
            "Epoch:1, iter:300, Loss:0.02924859294295311\n",
            "Epoch:1, iter:400, Loss:0.026211179003119468\n",
            "Epoch:2, iter:100, Loss:0.02194300864636898\n",
            "Epoch:2, iter:200, Loss:0.021105262741446494\n",
            "Epoch:2, iter:300, Loss:0.019418568797409535\n",
            "Epoch:2, iter:400, Loss:0.01902382219582796\n",
            "Epoch:3, iter:100, Loss:0.01793924392014742\n",
            "Epoch:3, iter:200, Loss:0.017437926426529884\n",
            "Epoch:3, iter:300, Loss:0.016752333886921406\n",
            "Epoch:3, iter:400, Loss:0.016581843785941602\n",
            "Epoch:4, iter:100, Loss:0.015451070927083492\n",
            "Epoch:4, iter:200, Loss:0.015003414187580347\n",
            "Epoch:4, iter:300, Loss:0.014695006497204304\n",
            "Epoch:4, iter:400, Loss:0.01463761818408966\n",
            "Epoch:5, iter:100, Loss:0.014079280808568\n",
            "Epoch:5, iter:200, Loss:0.013777204267680645\n",
            "Epoch:5, iter:300, Loss:0.013943597730249167\n",
            "Epoch:5, iter:400, Loss:0.013884109817445279\n",
            "Epoch:6, iter:100, Loss:0.013153448667377233\n",
            "Epoch:6, iter:200, Loss:0.013239287726581096\n",
            "Epoch:6, iter:300, Loss:0.013446501530706883\n",
            "Epoch:6, iter:400, Loss:0.01251341474801302\n",
            "Epoch:7, iter:100, Loss:0.012292740494012832\n",
            "Epoch:7, iter:200, Loss:0.012525172524154186\n",
            "Epoch:7, iter:300, Loss:0.012311189953237772\n",
            "Epoch:7, iter:400, Loss:0.012722373496741057\n",
            "Epoch:8, iter:100, Loss:0.011686386767774821\n",
            "Epoch:8, iter:200, Loss:0.01172749975323677\n",
            "Epoch:8, iter:300, Loss:0.01146006391197443\n",
            "Epoch:8, iter:400, Loss:0.012299762032926083\n",
            "Epoch:9, iter:100, Loss:0.011871494222432374\n",
            "Epoch:9, iter:200, Loss:0.011383727941662073\n",
            "Epoch:9, iter:300, Loss:0.011173151679337025\n",
            "Epoch:9, iter:400, Loss:0.0115137954428792\n",
            "Epoch:10, iter:100, Loss:0.010955927670001983\n",
            "Epoch:10, iter:200, Loss:0.010399875819683074\n",
            "Epoch:10, iter:300, Loss:0.011043181616812944\n",
            "Epoch:10, iter:400, Loss:0.01080139072984457\n"
          ]
        }
      ]
    },
    {
      "cell_type": "code",
      "source": [
        "PATH = './fasion_mnist.pth'\n",
        "torch.save(net.state_dict(),PATH)"
      ],
      "metadata": {
        "id": "pwXXop2OzuQ5"
      },
      "execution_count": null,
      "outputs": []
    },
    {
      "cell_type": "code",
      "source": [
        "net.parameters"
      ],
      "metadata": {
        "colab": {
          "base_uri": "https://localhost:8080/"
        },
        "id": "N87ZgDhCJki_",
        "outputId": "eef55ae1-2da4-43d6-af9b-7472a830b4a9"
      },
      "execution_count": null,
      "outputs": [
        {
          "output_type": "execute_result",
          "data": {
            "text/plain": [
              "<bound method Module.parameters of net(\n",
              "  (conv2d_32): Conv2d(1, 32, kernel_size=(3, 3), stride=(1, 1), padding=(1, 1))\n",
              "  (conv2d_64): Conv2d(32, 64, kernel_size=(3, 3), stride=(1, 1), padding=(1, 1))\n",
              "  (max2d): MaxPool2d(kernel_size=2, stride=2, padding=0, dilation=1, ceil_mode=False)\n",
              "  (conv2d_128): Conv2d(64, 128, kernel_size=(3, 3), stride=(1, 1), padding=(1, 1))\n",
              "  (conv2d_256): Conv2d(128, 256, kernel_size=(3, 3), stride=(2, 2), padding=(1, 1))\n",
              "  (linear1): Linear(in_features=2304, out_features=256, bias=True)\n",
              "  (linear2): Linear(in_features=256, out_features=64, bias=True)\n",
              "  (linear3): Linear(in_features=64, out_features=10, bias=True)\n",
              "  (batch2d1): BatchNorm2d(64, eps=1e-05, momentum=0.1, affine=True, track_running_stats=True)\n",
              "  (batch2d2): BatchNorm2d(256, eps=1e-05, momentum=0.1, affine=True, track_running_stats=True)\n",
              "  (batch1d): BatchNorm1d(64, eps=1e-05, momentum=0.1, affine=True, track_running_stats=True)\n",
              "  (drop): Dropout(p=0.3, inplace=False)\n",
              "  (flat): Flatten(start_dim=1, end_dim=-1)\n",
              ")>"
            ]
          },
          "metadata": {},
          "execution_count": 183
        }
      ]
    },
    {
      "cell_type": "code",
      "source": [
        "#모델 테스트\n",
        "import numpy as np\n",
        "def imshow(image):\n",
        "  image = image / 2 + 0.5\n",
        "  npimg = image.numpy()\n",
        "\n",
        "  fig = plt.figure(figsize=(16,8))\n",
        "  plt.imshow(np.transpose(npimg, (1,2,0)))   #rgb -> gbr\n",
        "  plt.show()"
      ],
      "metadata": {
        "id": "7MV6KGak1AmA"
      },
      "execution_count": null,
      "outputs": []
    },
    {
      "cell_type": "code",
      "source": [
        "import torchvision\n",
        "\n",
        "images, labels = next(iter(test_loader))\n",
        "\n",
        "imshow(torchvision.utils.make_grid(images[:6]))"
      ],
      "metadata": {
        "colab": {
          "base_uri": "https://localhost:8080/",
          "height": 186
        },
        "id": "8TS1TCL61Zco",
        "outputId": "54e17069-c0cb-459b-8be3-0fc763879c84"
      },
      "execution_count": null,
      "outputs": [
        {
          "output_type": "display_data",
          "data": {
            "text/plain": [
              "<Figure size 1152x576 with 1 Axes>"
            ],
            "image/png": "[encoded data removed]"
          },
          "metadata": {
            "needs_background": "light"
          }
        }
      ]
    },
    {
      "cell_type": "code",
      "source": [
        "import torch\n",
        "import torch.nn as nn\n",
        "\n",
        "data = torch.randn((5,5))\n",
        "print(data)\n",
        "print(torch.max(data,dim=1))"
      ],
      "metadata": {
        "colab": {
          "base_uri": "https://localhost:8080/"
        },
        "id": "RNQRylVu1s-5",
        "outputId": "8470349a-8be6-4a8e-a8dd-736cfc3141f4"
      },
      "execution_count": null,
      "outputs": [
        {
          "output_type": "stream",
          "name": "stdout",
          "text": [
            "tensor([[-0.7205,  0.4753,  0.9545,  0.2074, -0.9115],\n",
            "        [ 0.2129,  1.7860, -0.0034, -0.1935,  0.7375],\n",
            "        [-1.0982, -1.6311,  0.6847, -0.1747,  0.5744],\n",
            "        [ 1.6587,  1.1963, -0.1010, -0.5863,  1.0974],\n",
            "        [-0.7192,  0.0737,  1.3851,  1.1286,  0.8837]])\n",
            "torch.return_types.max(\n",
            "values=tensor([0.9545, 1.7860, 0.6847, 1.6587, 1.3851]),\n",
            "indices=tensor([2, 1, 2, 0, 2]))\n"
          ]
        }
      ]
    },
    {
      "cell_type": "code",
      "source": [
        "outputs = net(images)\n",
        "print(outputs)\n",
        "_,predicetd = torch.max(outputs,1)\n",
        "print(predicetd)"
      ],
      "metadata": {
        "colab": {
          "base_uri": "https://localhost:8080/"
        },
        "id": "FuyOBKDx13Kx",
        "outputId": "2b239bb3-ead6-4ec1-fef0-5e109f7f3a8f"
      },
      "execution_count": null,
      "outputs": [
        {
          "output_type": "stream",
          "name": "stdout",
          "text": [
            "tensor([[-9.2756e+00, -1.0753e+01, -1.0216e+01,  ..., -4.8321e+00,\n",
            "         -1.1351e+01, -2.0349e-02],\n",
            "        [-1.2397e+01, -1.7749e+01, -1.1348e-04,  ..., -3.8425e+01,\n",
            "         -2.0106e+01, -3.4670e+01],\n",
            "        [-1.8500e+01, -1.1921e-07, -1.7874e+01,  ..., -3.8147e+01,\n",
            "         -2.5218e+01, -3.0390e+01],\n",
            "        ...,\n",
            "        [-1.2147e-04, -2.0602e+01, -1.0035e+01,  ..., -3.4413e+01,\n",
            "         -2.3144e+01, -3.7086e+01],\n",
            "        [-3.8836e+01, -3.6182e+01, -4.5558e+01,  ..., -5.9253e+01,\n",
            "          0.0000e+00, -5.5740e+01],\n",
            "        [-7.8661e+00, -8.9610e+00, -4.2332e-01,  ..., -1.1493e+01,\n",
            "         -9.5182e+00, -1.0270e+01]], grad_fn=<LogSoftmaxBackward0>)\n",
            "tensor([9, 2, 1, 1, 6, 1, 4, 6, 5, 7, 4, 5, 7, 3, 4, 1, 2, 6, 8, 0, 2, 5, 7, 5,\n",
            "        1, 2, 6, 0, 9, 3, 8, 8, 3, 3, 8, 0, 7, 5, 7, 9, 0, 1, 0, 9, 6, 7, 2, 1,\n",
            "        2, 6, 4, 4, 5, 8, 2, 2, 8, 4, 8, 0, 7, 7, 8, 5, 1, 1, 4, 4, 7, 8, 7, 0,\n",
            "        2, 6, 2, 3, 1, 2, 8, 4, 1, 8, 5, 9, 5, 0, 3, 2, 0, 6, 5, 3, 6, 7, 1, 8,\n",
            "        0, 1, 2, 2, 3, 6, 7, 2, 7, 8, 5, 7, 9, 4, 2, 5, 7, 0, 5, 2, 8, 4, 7, 8,\n",
            "        0, 0, 9, 9, 3, 0, 8, 2])\n"
          ]
        }
      ]
    },
    {
      "cell_type": "code",
      "source": [
        "correct = 0\n",
        "total = 0\n",
        "\n",
        "with torch.no_grad():\n",
        "  for data in test_loader:\n",
        "    images, labels = data\n",
        "    outputs = net(images)\n",
        "    _,predicted = torch.max(outputs.data, 1)\n",
        "    total += labels.size(0)\n",
        "    correct += (predicted == labels).sum().item()\n",
        "  print(100*correct/total)"
      ],
      "metadata": {
        "colab": {
          "base_uri": "https://localhost:8080/"
        },
        "id": "mnVIGyV62LXY",
        "outputId": "4a7b1d46-0de2-40a9-8fb0-e898b3f07636"
      },
      "execution_count": null,
      "outputs": [
        {
          "output_type": "stream",
          "name": "stdout",
          "text": [
            "90.61\n"
          ]
        }
      ]
    },
    {
      "cell_type": "markdown",
      "source": [
        "### Cross Entropy의 종류\n",
        "https://peterleeeeee.github.io/categorical_cross_entropy/\n"
      ],
      "metadata": {
        "id": "_V90AjXf-GpA"
      }
    },
    {
      "cell_type": "markdown",
      "source": [
        "# keras로 수행하기"
      ],
      "metadata": {
        "id": "HckblrSGK0F_"
      }
    },
    {
      "cell_type": "code",
      "source": [
        "import tensorflow as tf\n",
        "\n",
        "#1. Fashion MNIST 데이터셋 불러오기\n",
        "fashion_mnist = tf.keras.datasets.fashion_mnist\n",
        "(train_images, train_labels), (test_images, test_labels) = fashion_mnist.load_data()"
      ],
      "metadata": {
        "id": "5txLmXIG7efW",
        "colab": {
          "base_uri": "https://localhost:8080/"
        },
        "outputId": "1efdae3a-3283-4b15-f81f-763408dd5245"
      },
      "execution_count": null,
      "outputs": [
        {
          "output_type": "stream",
          "name": "stdout",
          "text": [
            "Downloading data from https://storage.googleapis.com/tensorflow/tf-keras-datasets/train-labels-idx1-ubyte.gz\n",
            "29515/29515 [==============================] - 0s 0us/step\n",
            "Downloading data from https://storage.googleapis.com/tensorflow/tf-keras-datasets/train-images-idx3-ubyte.gz\n",
            "26421880/26421880 [==============================] - 2s 0us/step\n",
            "Downloading data from https://storage.googleapis.com/tensorflow/tf-keras-datasets/t10k-labels-idx1-ubyte.gz\n",
            "5148/5148 [==============================] - 0s 0us/step\n",
            "Downloading data from https://storage.googleapis.com/tensorflow/tf-keras-datasets/t10k-images-idx3-ubyte.gz\n",
            "4422102/4422102 [==============================] - 0s 0us/step\n"
          ]
        }
      ]
    },
    {
      "cell_type": "code",
      "source": [
        "print(train_images[0])\n",
        "print(train_labels[0])"
      ],
      "metadata": {
        "colab": {
          "base_uri": "https://localhost:8080/"
        },
        "id": "9AJoJw1K8vog",
        "outputId": "9e741f78-8df1-45e1-abac-1618e6511340"
      },
      "execution_count": null,
      "outputs": [
        {
          "output_type": "stream",
          "name": "stdout",
          "text": [
            "[[  0   0   0   0   0   0   0   0   0   0   0   0   0   0   0   0   0   0\n",
            "    0   0   0   0   0   0   0   0   0   0]\n",
            " [  0   0   0   0   0   0   0   0   0   0   0   0   0   0   0   0   0   0\n",
            "    0   0   0   0   0   0   0   0   0   0]\n",
            " [  0   0   0   0   0   0   0   0   0   0   0   0   0   0   0   0   0   0\n",
            "    0   0   0   0   0   0   0   0   0   0]\n",
            " [  0   0   0   0   0   0   0   0   0   0   0   0   1   0   0  13  73   0\n",
            "    0   1   4   0   0   0   0   1   1   0]\n",
            " [  0   0   0   0   0   0   0   0   0   0   0   0   3   0  36 136 127  62\n",
            "   54   0   0   0   1   3   4   0   0   3]\n",
            " [  0   0   0   0   0   0   0   0   0   0   0   0   6   0 102 204 176 134\n",
            "  144 123  23   0   0   0   0  12  10   0]\n",
            " [  0   0   0   0   0   0   0   0   0   0   0   0   0   0 155 236 207 178\n",
            "  107 156 161 109  64  23  77 130  72  15]\n",
            " [  0   0   0   0   0   0   0   0   0   0   0   1   0  69 207 223 218 216\n",
            "  216 163 127 121 122 146 141  88 172  66]\n",
            " [  0   0   0   0   0   0   0   0   0   1   1   1   0 200 232 232 233 229\n",
            "  223 223 215 213 164 127 123 196 229   0]\n",
            " [  0   0   0   0   0   0   0   0   0   0   0   0   0 183 225 216 223 228\n",
            "  235 227 224 222 224 221 223 245 173   0]\n",
            " [  0   0   0   0   0   0   0   0   0   0   0   0   0 193 228 218 213 198\n",
            "  180 212 210 211 213 223 220 243 202   0]\n",
            " [  0   0   0   0   0   0   0   0   0   1   3   0  12 219 220 212 218 192\n",
            "  169 227 208 218 224 212 226 197 209  52]\n",
            " [  0   0   0   0   0   0   0   0   0   0   6   0  99 244 222 220 218 203\n",
            "  198 221 215 213 222 220 245 119 167  56]\n",
            " [  0   0   0   0   0   0   0   0   0   4   0   0  55 236 228 230 228 240\n",
            "  232 213 218 223 234 217 217 209  92   0]\n",
            " [  0   0   1   4   6   7   2   0   0   0   0   0 237 226 217 223 222 219\n",
            "  222 221 216 223 229 215 218 255  77   0]\n",
            " [  0   3   0   0   0   0   0   0   0  62 145 204 228 207 213 221 218 208\n",
            "  211 218 224 223 219 215 224 244 159   0]\n",
            " [  0   0   0   0  18  44  82 107 189 228 220 222 217 226 200 205 211 230\n",
            "  224 234 176 188 250 248 233 238 215   0]\n",
            " [  0  57 187 208 224 221 224 208 204 214 208 209 200 159 245 193 206 223\n",
            "  255 255 221 234 221 211 220 232 246   0]\n",
            " [  3 202 228 224 221 211 211 214 205 205 205 220 240  80 150 255 229 221\n",
            "  188 154 191 210 204 209 222 228 225   0]\n",
            " [ 98 233 198 210 222 229 229 234 249 220 194 215 217 241  65  73 106 117\n",
            "  168 219 221 215 217 223 223 224 229  29]\n",
            " [ 75 204 212 204 193 205 211 225 216 185 197 206 198 213 240 195 227 245\n",
            "  239 223 218 212 209 222 220 221 230  67]\n",
            " [ 48 203 183 194 213 197 185 190 194 192 202 214 219 221 220 236 225 216\n",
            "  199 206 186 181 177 172 181 205 206 115]\n",
            " [  0 122 219 193 179 171 183 196 204 210 213 207 211 210 200 196 194 191\n",
            "  195 191 198 192 176 156 167 177 210  92]\n",
            " [  0   0  74 189 212 191 175 172 175 181 185 188 189 188 193 198 204 209\n",
            "  210 210 211 188 188 194 192 216 170   0]\n",
            " [  2   0   0   0  66 200 222 237 239 242 246 243 244 221 220 193 191 179\n",
            "  182 182 181 176 166 168  99  58   0   0]\n",
            " [  0   0   0   0   0   0   0  40  61  44  72  41  35   0   0   0   0   0\n",
            "    0   0   0   0   0   0   0   0   0   0]\n",
            " [  0   0   0   0   0   0   0   0   0   0   0   0   0   0   0   0   0   0\n",
            "    0   0   0   0   0   0   0   0   0   0]\n",
            " [  0   0   0   0   0   0   0   0   0   0   0   0   0   0   0   0   0   0\n",
            "    0   0   0   0   0   0   0   0   0   0]]\n",
            "9\n"
          ]
        }
      ]
    },
    {
      "cell_type": "code",
      "source": [
        "print(train_images.shape)\n",
        "print(train_labels.shape)\n",
        "print(test_images.shape)\n",
        "print(test_labels.shape)"
      ],
      "metadata": {
        "colab": {
          "base_uri": "https://localhost:8080/"
        },
        "id": "fH1CHdMf8zr9",
        "outputId": "37f6a697-9524-413b-c115-810c0120c181"
      },
      "execution_count": null,
      "outputs": [
        {
          "output_type": "stream",
          "name": "stdout",
          "text": [
            "(60000, 28, 28)\n",
            "(60000,)\n",
            "(10000, 28, 28)\n",
            "(10000,)\n"
          ]
        }
      ]
    },
    {
      "cell_type": "code",
      "source": [
        "# 데이터 전처리\n",
        "train_images, test_images = train_images / 255.0, test_images / 255.0"
      ],
      "metadata": {
        "id": "v6g-ylY889Jl"
      },
      "execution_count": null,
      "outputs": []
    },
    {
      "cell_type": "code",
      "source": [
        "#3. 모델 구성\n",
        "def model():\n",
        "  model = tf.keras.Sequential([\n",
        "      tf.keras.layers.Conv2D(32, 3, activation='relu', input_shape=(28,28,1)),\n",
        "      tf.keras.layers.MaxPooling2D(),\n",
        "      tf.keras.layers.Conv2D(256, 3, activation='relu'),\n",
        "      tf.keras.layers.MaxPooling2D(),\n",
        "      tf.keras.layers.Conv2D(512, 3, activation='relu'),\n",
        "      tf.keras.layers.MaxPooling2D(),     \n",
        "      tf.keras.layers.Flatten(),\n",
        "      tf.keras.layers.Dense(512, activation='relu'),\n",
        "      tf.keras.layers.Dropout(0.25),\n",
        "      tf.keras.layers.Dense(64, activation='relu'),\n",
        "      tf.keras.layers.Dense(10)\n",
        "  ])\n",
        "\n",
        "#4. 모델 컴파일\n",
        "  #SparseCategoricalCrossentropy() 정수로 된 label을 주면 내부적으로 알아서 loss를 계산\n",
        "  model.compile(loss=tf.keras.losses.SparseCategoricalCrossentropy(from_logits=True),\n",
        "                optimizer=tf.keras.optimizers.Adam(),\n",
        "                metrics=['accuracy'])\n",
        "  return model"
      ],
      "metadata": {
        "id": "TFc9qnS_9F6t"
      },
      "execution_count": null,
      "outputs": []
    },
    {
      "cell_type": "code",
      "source": [
        "model = model()"
      ],
      "metadata": {
        "id": "moDqH72L-llY"
      },
      "execution_count": null,
      "outputs": []
    },
    {
      "cell_type": "code",
      "source": [
        "model.summary()"
      ],
      "metadata": {
        "id": "C0QeOBc0-nMx"
      },
      "execution_count": null,
      "outputs": []
    },
    {
      "cell_type": "code",
      "source": [
        "# 5. 모델 훈령\n",
        "model.fit(train_images, train_labels, epochs=30)"
      ],
      "metadata": {
        "colab": {
          "base_uri": "https://localhost:8080/"
        },
        "id": "NfCHSuB__WoL",
        "outputId": "bf95b507-ae25-4729-f89b-79103c61a3fa"
      },
      "execution_count": null,
      "outputs": [
        {
          "output_type": "stream",
          "name": "stdout",
          "text": [
            "Epoch 1/30\n",
            "1875/1875 [==============================] - 17s 5ms/step - loss: 0.5466 - accuracy: 0.7984\n",
            "Epoch 2/30\n",
            "1875/1875 [==============================] - 9s 5ms/step - loss: 0.3536 - accuracy: 0.8698\n",
            "Epoch 3/30\n",
            "1875/1875 [==============================] - 9s 5ms/step - loss: 0.2974 - accuracy: 0.8912\n",
            "Epoch 4/30\n",
            "1875/1875 [==============================] - 9s 5ms/step - loss: 0.2599 - accuracy: 0.9038\n",
            "Epoch 5/30\n",
            "1875/1875 [==============================] - 9s 5ms/step - loss: 0.2308 - accuracy: 0.9135\n",
            "Epoch 6/30\n",
            "1875/1875 [==============================] - 9s 5ms/step - loss: 0.2016 - accuracy: 0.9252\n",
            "Epoch 7/30\n",
            "1875/1875 [==============================] - 9s 5ms/step - loss: 0.1814 - accuracy: 0.9311\n",
            "Epoch 8/30\n",
            "1875/1875 [==============================] - 9s 5ms/step - loss: 0.1632 - accuracy: 0.9381\n",
            "Epoch 9/30\n",
            "1875/1875 [==============================] - 9s 5ms/step - loss: 0.1473 - accuracy: 0.9451\n",
            "Epoch 10/30\n",
            "1875/1875 [==============================] - 9s 5ms/step - loss: 0.1311 - accuracy: 0.9497\n",
            "Epoch 11/30\n",
            "1875/1875 [==============================] - 9s 5ms/step - loss: 0.1225 - accuracy: 0.9542\n",
            "Epoch 12/30\n",
            "1875/1875 [==============================] - 9s 5ms/step - loss: 0.1086 - accuracy: 0.9585\n",
            "Epoch 13/30\n",
            "1875/1875 [==============================] - 9s 5ms/step - loss: 0.0980 - accuracy: 0.9629\n",
            "Epoch 14/30\n",
            "1875/1875 [==============================] - 9s 5ms/step - loss: 0.0951 - accuracy: 0.9642\n",
            "Epoch 15/30\n",
            "1875/1875 [==============================] - 9s 5ms/step - loss: 0.0894 - accuracy: 0.9665\n",
            "Epoch 16/30\n",
            "1875/1875 [==============================] - 9s 5ms/step - loss: 0.0822 - accuracy: 0.9701\n",
            "Epoch 17/30\n",
            "1875/1875 [==============================] - 9s 5ms/step - loss: 0.0763 - accuracy: 0.9715\n",
            "Epoch 18/30\n",
            "1875/1875 [==============================] - 9s 5ms/step - loss: 0.0725 - accuracy: 0.9735\n",
            "Epoch 19/30\n",
            "1875/1875 [==============================] - 9s 5ms/step - loss: 0.0666 - accuracy: 0.9753\n",
            "Epoch 20/30\n",
            "1875/1875 [==============================] - 9s 5ms/step - loss: 0.0654 - accuracy: 0.9769\n",
            "Epoch 21/30\n",
            "1875/1875 [==============================] - 9s 5ms/step - loss: 0.0611 - accuracy: 0.9784\n",
            "Epoch 22/30\n",
            "1875/1875 [==============================] - 9s 5ms/step - loss: 0.0570 - accuracy: 0.9800\n",
            "Epoch 23/30\n",
            "1875/1875 [==============================] - 9s 5ms/step - loss: 0.0555 - accuracy: 0.9805\n",
            "Epoch 24/30\n",
            "1875/1875 [==============================] - 9s 5ms/step - loss: 0.0551 - accuracy: 0.9808\n",
            "Epoch 25/30\n",
            "1875/1875 [==============================] - 9s 5ms/step - loss: 0.0499 - accuracy: 0.9822\n",
            "Epoch 26/30\n",
            "1875/1875 [==============================] - 9s 5ms/step - loss: 0.0480 - accuracy: 0.9836\n",
            "Epoch 27/30\n",
            "1875/1875 [==============================] - 9s 5ms/step - loss: 0.0480 - accuracy: 0.9833\n",
            "Epoch 28/30\n",
            "1875/1875 [==============================] - 9s 5ms/step - loss: 0.0436 - accuracy: 0.9847\n",
            "Epoch 29/30\n",
            "1875/1875 [==============================] - 9s 5ms/step - loss: 0.0461 - accuracy: 0.9846\n",
            "Epoch 30/30\n",
            "1875/1875 [==============================] - 9s 5ms/step - loss: 0.0431 - accuracy: 0.9851\n"
          ]
        },
        {
          "output_type": "execute_result",
          "data": {
            "text/plain": [
              "<keras.callbacks.History at 0x7f7fb402b3a0>"
            ]
          },
          "metadata": {},
          "execution_count": 207
        }
      ]
    },
    {
      "cell_type": "code",
      "source": [
        "# 6. 정확도 평가하기\n",
        "loss, accuracy = model.evaluate(test_images, test_labels)\n",
        "print(loss, accuracy)"
      ],
      "metadata": {
        "colab": {
          "base_uri": "https://localhost:8080/"
        },
        "id": "hxmxKOf-_c6x",
        "outputId": "356f20ad-3827-4e22-e1f7-1f084da7848c"
      },
      "execution_count": null,
      "outputs": [
        {
          "output_type": "stream",
          "name": "stdout",
          "text": [
            "313/313 [==============================] - 1s 4ms/step - loss: 0.5616 - accuracy: 0.8978\n",
            "0.5615761876106262 0.8978000283241272\n"
          ]
        }
      ]
    },
    {
      "cell_type": "code",
      "source": [
        "# 7. 예측하기\n",
        "import numpy as np\n",
        "predictions = model.predict(test_images)\n",
        "print(predictions[0])\n",
        "print(np.argmax(predictions[0]))"
      ],
      "metadata": {
        "colab": {
          "base_uri": "https://localhost:8080/"
        },
        "id": "_KAjW4Aj_9oX",
        "outputId": "c55cc4d2-2b01-4668-cc7f-5db3348bd6e4"
      },
      "execution_count": null,
      "outputs": [
        {
          "output_type": "stream",
          "name": "stdout",
          "text": [
            "313/313 [==============================] - 1s 2ms/step\n",
            "[-54.51923   -56.526936  -70.96068   -46.045376  -77.923195   -1.3470644\n",
            " -53.752544    5.698694  -72.049904   42.771168 ]\n",
            "9\n"
          ]
        }
      ]
    },
    {
      "cell_type": "code",
      "source": [
        "len(predictions)"
      ],
      "metadata": {
        "colab": {
          "base_uri": "https://localhost:8080/"
        },
        "id": "vJ99JKzCAO9E",
        "outputId": "ff33184a-f59f-431e-c006-4bd579a7e022"
      },
      "execution_count": null,
      "outputs": [
        {
          "output_type": "execute_result",
          "data": {
            "text/plain": [
              "10000"
            ]
          },
          "metadata": {},
          "execution_count": 211
        }
      ]
    },
    {
      "cell_type": "code",
      "source": [],
      "metadata": {
        "id": "x52KgqGZAQTE"
      },
      "execution_count": null,
      "outputs": []
    }
  ]
}