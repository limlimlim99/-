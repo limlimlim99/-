{
 "cells": [
  {
   "cell_type": "code",
   "execution_count": 3,
   "id": "14946c02-e172-4a5e-ba9a-771e1fd55d33",
   "metadata": {},
   "outputs": [],
   "source": [
    "text = '''\n",
    "http://www.google.com/\n",
    "\n",
    "https://mail.google.com/\n",
    "\n",
    "ftp://ftp.google.com/\n",
    "\n",
    "''' "
   ]
  },
  {
   "cell_type": "code",
   "execution_count": 6,
   "id": "6a010bfc-0bb9-47c6-b14b-250377af6bbf",
   "metadata": {},
   "outputs": [],
   "source": [
    "import re"
   ]
  },
  {
   "cell_type": "code",
   "execution_count": 7,
   "id": "31ff3c5b-5af9-4cef-a799-e0f1603c0dd5",
   "metadata": {},
   "outputs": [
    {
     "data": {
      "text/plain": [
       "['http', 'https', 'ftp']"
      ]
     },
     "execution_count": 7,
     "metadata": {},
     "output_type": "execute_result"
    }
   ],
   "source": [
    "p=re.compile(r\".+(?=:)\")\n",
    "p.findall(text)"
   ]
  },
  {
   "cell_type": "code",
   "execution_count": 9,
   "id": "c1330b42-2e96-4f78-99a5-d6d60885fd6f",
   "metadata": {},
   "outputs": [
    {
     "data": {
      "text/plain": [
       "['http:', 'https:', 'ftp:']"
      ]
     },
     "execution_count": 9,
     "metadata": {},
     "output_type": "execute_result"
    }
   ],
   "source": [
    "p=re.compile(r\".+(?<=:)\")\n",
    "p.findall(text)"
   ]
  },
  {
   "cell_type": "code",
   "execution_count": 10,
   "id": "2e8b0c90-f7fe-4825-b581-4fd74e55f5ff",
   "metadata": {},
   "outputs": [
    {
     "data": {
      "text/plain": [
       "['http', 'https', 'ftp']"
      ]
     },
     "execution_count": 10,
     "metadata": {},
     "output_type": "execute_result"
    }
   ],
   "source": [
    "p=re.compile(r\".+(?=://)\")\n",
    "p.findall(text)"
   ]
  },
  {
   "cell_type": "code",
   "execution_count": 11,
   "id": "3c899622-d1e2-4463-9e60-b163ff1c842c",
   "metadata": {},
   "outputs": [
    {
     "data": {
      "text/plain": [
       "['http:', 'https:', 'ftp:']"
      ]
     },
     "execution_count": 11,
     "metadata": {},
     "output_type": "execute_result"
    }
   ],
   "source": [
    "p=re.compile(r\".+(?=//)\")\n",
    "p.findall(text)"
   ]
  },
  {
   "cell_type": "code",
   "execution_count": 12,
   "id": "07c7ecb1-465c-4313-ad23-6ec6121c55d4",
   "metadata": {},
   "outputs": [],
   "source": [
    "s= 'http://naver.com http://google.com ftp://daum.net' "
   ]
  },
  {
   "cell_type": "code",
   "execution_count": 18,
   "id": "efa0f939-df9d-4bfe-b81b-cdcb753f095f",
   "metadata": {},
   "outputs": [],
   "source": [
    "import re"
   ]
  },
  {
   "cell_type": "code",
   "execution_count": 24,
   "id": "58c1303f-87e6-42ec-adbf-66174b3efa61",
   "metadata": {},
   "outputs": [
    {
     "data": {
      "text/plain": [
       "['naver.com', 'google.com', 'daum.net']"
      ]
     },
     "execution_count": 24,
     "metadata": {},
     "output_type": "execute_result"
    }
   ],
   "source": [
    "s= \"http://naver.com http://google.com ftp://daum.net\"\n",
    "p = re.compile('(?<=://)\\S+')\n",
    "p.findall(s) "
   ]
  },
  {
   "cell_type": "code",
   "execution_count": 27,
   "id": "3b4f3851-945e-4d2b-b986-022365b5ef23",
   "metadata": {},
   "outputs": [
    {
     "data": {
      "text/plain": [
       "['://naver.com', '://google.com', '://daum.net']"
      ]
     },
     "execution_count": 27,
     "metadata": {},
     "output_type": "execute_result"
    }
   ],
   "source": [
    "s= \"http://naver.com http://google.com ftp://daum.net\"\n",
    "p = re.compile('(?=://)\\S+')\n",
    "p.findall(s) "
   ]
  },
  {
   "cell_type": "code",
   "execution_count": 104,
   "id": "011e41c5-603c-4986-af99-a30376c46a57",
   "metadata": {},
   "outputs": [],
   "source": [
    "data = '''\n",
    "안녕하세요 im 그리고 안녕하세요 im 그리고 \n",
    "안녕하세요 또 또\n",
    "안녕하세요 그런데 그런데 \n",
    "안녕하세요 끝 끝\n",
    "''' "
   ]
  },
  {
   "cell_type": "code",
   "execution_count": 105,
   "id": "5a0401aa-34ac-4775-9b57-7ded9d2b59e3",
   "metadata": {},
   "outputs": [
    {
     "name": "stdout",
     "output_type": "stream",
     "text": [
      "<re.Match object; span=(1, 19), match='안녕하세요 im 그리고 안녕하세요'>\n",
      "<re.Match object; span=(34, 37), match='또 또'>\n",
      "<re.Match object; span=(44, 51), match='그런데 그런데'>\n",
      "<re.Match object; span=(59, 62), match='끝 끝'>\n"
     ]
    }
   ],
   "source": [
    "p = re.compile(r\"(?P<repeat>\\w+).+(?P=repeat)\")\n",
    "for i in p.finditer(data):\n",
    "    print(i)"
   ]
  },
  {
   "cell_type": "code",
   "execution_count": 106,
   "id": "c3662963-a553-4f01-8590-6c7f2ce3e3a3",
   "metadata": {},
   "outputs": [
    {
     "name": "stdout",
     "output_type": "stream",
     "text": [
      "<re.Match object; span=(1, 9), match='안녕하세요 im'>\n",
      "<re.Match object; span=(10, 19), match='그리고 안녕하세요'>\n",
      "<re.Match object; span=(20, 26), match='im 그리고'>\n",
      "<re.Match object; span=(28, 35), match='안녕하세요 또'>\n",
      "<re.Match object; span=(36, 43), match='또\\n안녕하세요'>\n",
      "<re.Match object; span=(44, 51), match='그런데 그런데'>\n",
      "<re.Match object; span=(53, 60), match='안녕하세요 끝'>\n"
     ]
    }
   ],
   "source": [
    "p = re.compile(r\"(?P<repeat>\\w+)\\s+(\\w+)\")\n",
    "for i in p.finditer(data):\n",
    "    print(i)"
   ]
  },
  {
   "cell_type": "code",
   "execution_count": 82,
   "id": "c25879fe-d58c-4b93-af25-892eb580003e",
   "metadata": {},
   "outputs": [
    {
     "data": {
      "text/plain": [
       "{'그런데', '그리고', '안녕하세요'}"
      ]
     },
     "execution_count": 82,
     "metadata": {},
     "output_type": "execute_result"
    }
   ],
   "source": [
    "data = re.findall(\"\\w+\\S\", data)\n",
    "set(data)"
   ]
  },
  {
   "cell_type": "code",
   "execution_count": 45,
   "id": "5af340ca-c6f4-4e4a-b333-45419d395012",
   "metadata": {},
   "outputs": [
    {
     "data": {
      "text/plain": [
       "{'그런데', '그리고', '끝', '또', '안녕하세요'}"
      ]
     },
     "execution_count": 45,
     "metadata": {},
     "output_type": "execute_result"
    }
   ],
   "source": [
    "set(re.findall(\"\\w+\", data))"
   ]
  },
  {
   "cell_type": "code",
   "execution_count": 68,
   "id": "2a86249e-c9ce-482c-ad2a-d421f79e87ef",
   "metadata": {},
   "outputs": [
    {
     "data": {
      "text/plain": [
       "['안녕하세요',\n",
       " '그리고',\n",
       " '그리고',\n",
       " '안녕하세요',\n",
       " '또',\n",
       " '또',\n",
       " '안녕하세요',\n",
       " '그런데',\n",
       " '그런데',\n",
       " '안녕하세요',\n",
       " '끝',\n",
       " '끝']"
      ]
     },
     "execution_count": 68,
     "metadata": {},
     "output_type": "execute_result"
    }
   ],
   "source": [
    "sre.findall(\"\\w+\", data)"
   ]
  },
  {
   "cell_type": "code",
   "execution_count": 61,
   "id": "793a1714-17a8-4a8d-9967-f85b0289f347",
   "metadata": {},
   "outputs": [
    {
     "data": {
      "text/plain": [
       "['안녕하세요',\n",
       " '그리고',\n",
       " '그리고',\n",
       " '안녕하세요',\n",
       " '또',\n",
       " '또',\n",
       " '안녕하세요',\n",
       " '그런데',\n",
       " '그런데',\n",
       " '안녕하세요',\n",
       " '끝',\n",
       " '끝']"
      ]
     },
     "execution_count": 61,
     "metadata": {},
     "output_type": "execute_result"
    }
   ],
   "source": [
    "re.findall(\"\\w+\", data)"
   ]
  },
  {
   "cell_type": "code",
   "execution_count": 80,
   "id": "9511039a-cacf-4a62-90af-415005282851",
   "metadata": {},
   "outputs": [
    {
     "data": {
      "text/plain": [
       "{'그런데', '그리고', '끝', '또', '안녕하세요'}"
      ]
     },
     "execution_count": 80,
     "metadata": {},
     "output_type": "execute_result"
    }
   ],
   "source": [
    "set(re.findall(\"\\w+\\S|\\w+\", data))"
   ]
  },
  {
   "cell_type": "code",
   "execution_count": null,
   "id": "1b1f2241-33bf-4224-a41b-8b464261cb6d",
   "metadata": {},
   "outputs": [],
   "source": []
  }
 ],
 "metadata": {
  "kernelspec": {
   "display_name": "Python 3 (ipykernel)",
   "language": "python",
   "name": "python3"
  },
  "language_info": {
   "codemirror_mode": {
    "name": "ipython",
    "version": 3
   },
   "file_extension": ".py",
   "mimetype": "text/x-python",
   "name": "python",
   "nbconvert_exporter": "python",
   "pygments_lexer": "ipython3",
   "version": "3.9.12"
  }
 },
 "nbformat": 4,
 "nbformat_minor": 5
}
